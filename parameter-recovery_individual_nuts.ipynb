{
 "cells": [
  {
   "cell_type": "code",
   "execution_count": 1,
   "metadata": {},
   "outputs": [
    {
     "name": "stderr",
     "output_type": "stream",
     "text": [
      "/Users/felixmolter/anaconda3/lib/python3.6/site-packages/h5py/__init__.py:36: FutureWarning: Conversion of the second argument of issubdtype from `float` to `np.floating` is deprecated. In future, it will be treated as `np.float64 == np.dtype(float).type`.\n",
      "  from ._conv import register_converters as _register_converters\n"
     ]
    }
   ],
   "source": [
    "import numpy as np\n",
    "import pandas as pd\n",
    "import pymc3 as pm\n",
    "from os.path import join, isfile\n",
    "from os import listdir\n",
    "from functools import partial\n",
    "\n",
    "import glam\n",
    "import parameter_recovery as pr\n",
    "\n",
    "%load_ext autoreload\n",
    "%autoreload 2"
   ]
  },
  {
   "cell_type": "markdown",
   "metadata": {},
   "source": [
    "# Systematic parameter recovery (NUTS)\n",
    "\n",
    "Here, we perform a structured and systematic parameter recovery study. We use the original model variant with 4 parameters ($v$, $\\gamma$, $\\sigma$, $\\tau$). For each parameter, we define a range of sensible values and select a `low`, `medium` and `high` value, based on the individual parameter estimates we obtained by hierarchically fitting the GLAM to the data from Krajbich & Rangel (2011) in Thomas, Molter, Krajbich, Heekeren & Mohr (submitted).\n",
    "\n",
    "We then pick one parameter, one constellation of values of the remaining three parameters (e.g., we pick $v$, and set $\\gamma$, $\\sigma$ and $\\tau$ to their `low` values). Then, for 10 different values of $v$ along its range, we generate a synthetic dataset for a single participant with N=100 trials, random item values and gaze, fit the model and record the generating and estimated parameters. The procedure is repeated for all possible constellation of other parameter values, and other parameters, resulting in 1080 ($10 \\times 4 \\times 3^3$) simulated and fitted datasets total."
   ]
  },
  {
   "cell_type": "code",
   "execution_count": 2,
   "metadata": {},
   "outputs": [],
   "source": [
    "output_folder = join('results', 'parameter-recovery_individual', 'nuts')\n",
    "label = 'individual_nuts'"
   ]
  },
  {
   "cell_type": "markdown",
   "metadata": {},
   "source": [
    "## Define parameter ranges from 2011 estimates"
   ]
  },
  {
   "cell_type": "code",
   "execution_count": 3,
   "metadata": {},
   "outputs": [
    {
     "data": {
      "text/plain": [
       "{'v': array([1.50e-05, 3.00e-05, 4.50e-05, 6.00e-05, 7.50e-05, 9.00e-05,\n",
       "        1.05e-04, 1.20e-04, 1.35e-04, 1.50e-04]),\n",
       " 'gamma': array([-1.        , -0.77777778, -0.55555556, -0.33333333, -0.11111111,\n",
       "         0.11111111,  0.33333333,  0.55555556,  0.77777778,  1.        ]),\n",
       " 's': array([0.004     , 0.00477778, 0.00555556, 0.00633333, 0.00711111,\n",
       "        0.00788889, 0.00866667, 0.00944444, 0.01022222, 0.011     ]),\n",
       " 'tau': array([0.1       , 0.22777778, 0.35555556, 0.48333333, 0.61111111,\n",
       "        0.73888889, 0.86666667, 0.99444444, 1.12222222, 1.25      ])}"
      ]
     },
     "execution_count": 3,
     "metadata": {},
     "output_type": "execute_result"
    }
   ],
   "source": [
    "bounds = dict(v=[0.000015, 0.00015],\n",
    "              gamma=[-1, 1],\n",
    "              s=[0.004, 0.011],\n",
    "              tau=[0.1, 1.25])\n",
    "\n",
    "ranges = {parameter: np.linspace(*bounds[parameter], 10)\n",
    "          for parameter in ['v', 'gamma', 's', 'tau']}\n",
    "ranges"
   ]
  },
  {
   "cell_type": "code",
   "execution_count": 4,
   "metadata": {},
   "outputs": [
    {
     "data": {
      "text/plain": [
       "{'v': array([2.850e-05, 8.250e-05, 1.365e-04]),\n",
       " 'gamma': array([-8.00000000e-01,  5.55111512e-17,  8.00000000e-01]),\n",
       " 's': array([0.0047, 0.0075, 0.0103]),\n",
       " 'tau': array([0.215, 0.675, 1.135])}"
      ]
     },
     "execution_count": 4,
     "metadata": {},
     "output_type": "execute_result"
    }
   ],
   "source": [
    "# Determine low, medium, high values as 10th, 50th and 90th percentile of these ranges\n",
    "values = {parameter: np.percentile(np.linspace(*bounds[parameter], 100), [10, 50, 90])\n",
    "          for parameter in ['v', 'gamma', 's', 'tau']}\n",
    "values"
   ]
  },
  {
   "cell_type": "code",
   "execution_count": 5,
   "metadata": {},
   "outputs": [],
   "source": [
    "parameter_info = {parameter: dict(low=values[parameter][0],\n",
    "                                  medium=values[parameter][1],\n",
    "                                  high=values[parameter][2],\n",
    "                                  variable=ranges[parameter])\n",
    "                  for parameter in ['v', 'gamma', 's', 'tau']}"
   ]
  },
  {
   "cell_type": "markdown",
   "metadata": {},
   "source": [
    "## Run the recovery in parallel"
   ]
  },
  {
   "cell_type": "code",
   "execution_count": 6,
   "metadata": {},
   "outputs": [],
   "source": [
    "partial_output_folder = join(output_folder, 'partial')\n",
    "\n",
    "simulate_group_args = dict(kind='individual',\n",
    "                           n_individuals=1,\n",
    "                           n_trials=100, \n",
    "                           n_items=3,\n",
    "                           error_weight=0,\n",
    "                           value_range=[1, 10],\n",
    "                           seed=None)\n",
    "\n",
    "make_model_args = dict(kind='individual',\n",
    "                       t0_val=0,\n",
    "                       error_weight=0)\n",
    "\n",
    "fit_args = dict(method='MCMC',\n",
    "                draws=10000,\n",
    "                step=pm.NUTS,\n",
    "                tune=2500,\n",
    "                cores=1,\n",
    "                progressbar=False)\n",
    "\n",
    "wrapper = partial(pr.recover_and_save,\n",
    "                  output_folder=partial_output_folder,\n",
    "                  label=label,\n",
    "                  simulate_group_args=simulate_group_args,\n",
    "                  make_model_args=make_model_args,\n",
    "                  fit_args=fit_args)"
   ]
  },
  {
   "cell_type": "code",
   "execution_count": null,
   "metadata": {
    "scrolled": true
   },
   "outputs": [
    {
     "name": "stdout",
     "output_type": "stream",
     "text": [
      "Generating single subject models for 1 subjects...\n",
      "Generating single subject models for 1 subjects...\n",
      "Generating single subject models for 1 subjects...\n",
      "Generating single subject models for 1 subjects...\n",
      "Generating single subject models for 1 subjects...\n",
      "Generating single subject models for 1 subjects...\n",
      "Generating single subject models for 1 subjects...\n",
      "Generating single subject models for 1 subjects...\n",
      "Generating single subject models for 1 subjects...\n",
      "Generating single subject models for 1 subjects...\n",
      "Generating single subject models for 1 subjects...\n",
      "Generating single subject models for 1 subjects...\n",
      "Generating single subject models for 1 subjects...\n",
      "Generating single subject models for 1 subjects...\n",
      "Fitting 1 model(s) using MCMC...\n",
      "  Fitting model 1 of 1...\n"
     ]
    },
    {
     "name": "stderr",
     "output_type": "stream",
     "text": [
      "INFO (theano.gof.compilelock): Waiting for existing lock by process '4595' (I am process '4588')\n",
      "INFO (theano.gof.compilelock): To manually release the lock, delete /Users/felixmolter/.theano/compiledir_Darwin-17.7.0-x86_64-i386-64bit-i386-3.6.8-64/lock_dir\n",
      "INFO (theano.gof.compilelock): Waiting for existing lock by process '4595' (I am process '4592')\n",
      "INFO (theano.gof.compilelock): To manually release the lock, delete /Users/felixmolter/.theano/compiledir_Darwin-17.7.0-x86_64-i386-64bit-i386-3.6.8-64/lock_dir\n",
      "INFO (theano.gof.compilelock): Waiting for existing lock by process '4595' (I am process '4599')\n",
      "INFO (theano.gof.compilelock): Waiting for existing lock by process '4595' (I am process '4600')\n",
      "INFO (theano.gof.compilelock): Waiting for existing lock by process '4595' (I am process '4598')\n",
      "INFO (theano.gof.compilelock): Waiting for existing lock by process '4595' (I am process '4596')\n",
      "INFO (theano.gof.compilelock): To manually release the lock, delete /Users/felixmolter/.theano/compiledir_Darwin-17.7.0-x86_64-i386-64bit-i386-3.6.8-64/lock_dir\n",
      "INFO (theano.gof.compilelock): To manually release the lock, delete /Users/felixmolter/.theano/compiledir_Darwin-17.7.0-x86_64-i386-64bit-i386-3.6.8-64/lock_dir\n",
      "INFO (theano.gof.compilelock): To manually release the lock, delete /Users/felixmolter/.theano/compiledir_Darwin-17.7.0-x86_64-i386-64bit-i386-3.6.8-64/lock_dir\n",
      "INFO (theano.gof.compilelock): To manually release the lock, delete /Users/felixmolter/.theano/compiledir_Darwin-17.7.0-x86_64-i386-64bit-i386-3.6.8-64/lock_dir\n",
      "INFO (theano.gof.compilelock): Waiting for existing lock by process '4595' (I am process '4593')\n",
      "INFO (theano.gof.compilelock): Waiting for existing lock by process '4595' (I am process '4590')\n",
      "INFO (theano.gof.compilelock): Waiting for existing lock by process '4595' (I am process '4589')\n",
      "INFO (theano.gof.compilelock): To manually release the lock, delete /Users/felixmolter/.theano/compiledir_Darwin-17.7.0-x86_64-i386-64bit-i386-3.6.8-64/lock_dir\n",
      "INFO (theano.gof.compilelock): To manually release the lock, delete /Users/felixmolter/.theano/compiledir_Darwin-17.7.0-x86_64-i386-64bit-i386-3.6.8-64/lock_dir\n",
      "INFO (theano.gof.compilelock): Waiting for existing lock by process '4595' (I am process '4597')\n",
      "INFO (theano.gof.compilelock): Waiting for existing lock by process '4595' (I am process '4587')\n",
      "INFO (theano.gof.compilelock): To manually release the lock, delete /Users/felixmolter/.theano/compiledir_Darwin-17.7.0-x86_64-i386-64bit-i386-3.6.8-64/lock_dir\n",
      "INFO (theano.gof.compilelock): To manually release the lock, delete /Users/felixmolter/.theano/compiledir_Darwin-17.7.0-x86_64-i386-64bit-i386-3.6.8-64/lock_dir\n",
      "INFO (theano.gof.compilelock): To manually release the lock, delete /Users/felixmolter/.theano/compiledir_Darwin-17.7.0-x86_64-i386-64bit-i386-3.6.8-64/lock_dir\n",
      "INFO (theano.gof.compilelock): Waiting for existing lock by process '4595' (I am process '4594')\n",
      "INFO (theano.gof.compilelock): Waiting for existing lock by process '4595' (I am process '4591')\n",
      "INFO (theano.gof.compilelock): To manually release the lock, delete /Users/felixmolter/.theano/compiledir_Darwin-17.7.0-x86_64-i386-64bit-i386-3.6.8-64/lock_dir\n",
      "INFO (theano.gof.compilelock): To manually release the lock, delete /Users/felixmolter/.theano/compiledir_Darwin-17.7.0-x86_64-i386-64bit-i386-3.6.8-64/lock_dir\n",
      "INFO (theano.gof.compilelock): Waiting for existing lock by process '4595' (I am process '4588')\n",
      "INFO (theano.gof.compilelock): To manually release the lock, delete /Users/felixmolter/.theano/compiledir_Darwin-17.7.0-x86_64-i386-64bit-i386-3.6.8-64/lock_dir\n",
      "INFO (theano.gof.compilelock): Waiting for existing lock by process '4595' (I am process '4592')\n",
      "INFO (theano.gof.compilelock): To manually release the lock, delete /Users/felixmolter/.theano/compiledir_Darwin-17.7.0-x86_64-i386-64bit-i386-3.6.8-64/lock_dir\n",
      "INFO (theano.gof.compilelock): Waiting for existing lock by process '4595' (I am process '4599')\n",
      "INFO (theano.gof.compilelock): Waiting for existing lock by process '4595' (I am process '4600')\n",
      "INFO (theano.gof.compilelock): Waiting for existing lock by process '4595' (I am process '4598')\n",
      "INFO (theano.gof.compilelock): Waiting for existing lock by process '4595' (I am process '4596')\n",
      "INFO (theano.gof.compilelock): To manually release the lock, delete /Users/felixmolter/.theano/compiledir_Darwin-17.7.0-x86_64-i386-64bit-i386-3.6.8-64/lock_dir\n",
      "INFO (theano.gof.compilelock): To manually release the lock, delete /Users/felixmolter/.theano/compiledir_Darwin-17.7.0-x86_64-i386-64bit-i386-3.6.8-64/lock_dir\n",
      "INFO (theano.gof.compilelock): To manually release the lock, delete /Users/felixmolter/.theano/compiledir_Darwin-17.7.0-x86_64-i386-64bit-i386-3.6.8-64/lock_dir\n",
      "INFO (theano.gof.compilelock): To manually release the lock, delete /Users/felixmolter/.theano/compiledir_Darwin-17.7.0-x86_64-i386-64bit-i386-3.6.8-64/lock_dir\n",
      "INFO (theano.gof.compilelock): Waiting for existing lock by process '4595' (I am process '4590')\n",
      "INFO (theano.gof.compilelock): Waiting for existing lock by process '4595' (I am process '4593')\n",
      "INFO (theano.gof.compilelock): Waiting for existing lock by process '4595' (I am process '4589')\n",
      "INFO (theano.gof.compilelock): To manually release the lock, delete /Users/felixmolter/.theano/compiledir_Darwin-17.7.0-x86_64-i386-64bit-i386-3.6.8-64/lock_dir\n",
      "INFO (theano.gof.compilelock): To manually release the lock, delete /Users/felixmolter/.theano/compiledir_Darwin-17.7.0-x86_64-i386-64bit-i386-3.6.8-64/lock_dir\n",
      "INFO (theano.gof.compilelock): Waiting for existing lock by process '4595' (I am process '4597')\n",
      "INFO (theano.gof.compilelock): Waiting for existing lock by process '4595' (I am process '4587')\n",
      "INFO (theano.gof.compilelock): To manually release the lock, delete /Users/felixmolter/.theano/compiledir_Darwin-17.7.0-x86_64-i386-64bit-i386-3.6.8-64/lock_dir\n",
      "INFO (theano.gof.compilelock): To manually release the lock, delete /Users/felixmolter/.theano/compiledir_Darwin-17.7.0-x86_64-i386-64bit-i386-3.6.8-64/lock_dir\n",
      "INFO (theano.gof.compilelock): To manually release the lock, delete /Users/felixmolter/.theano/compiledir_Darwin-17.7.0-x86_64-i386-64bit-i386-3.6.8-64/lock_dir\n",
      "INFO (theano.gof.compilelock): Waiting for existing lock by process '4595' (I am process '4594')\n",
      "INFO (theano.gof.compilelock): Waiting for existing lock by process '4595' (I am process '4591')\n",
      "INFO (theano.gof.compilelock): To manually release the lock, delete /Users/felixmolter/.theano/compiledir_Darwin-17.7.0-x86_64-i386-64bit-i386-3.6.8-64/lock_dir\n",
      "INFO (theano.gof.compilelock): To manually release the lock, delete /Users/felixmolter/.theano/compiledir_Darwin-17.7.0-x86_64-i386-64bit-i386-3.6.8-64/lock_dir\n",
      "INFO (theano.gof.compilelock): Waiting for existing lock by process '4510' (I am process '4588')\n",
      "INFO (theano.gof.compilelock): To manually release the lock, delete /Users/felixmolter/.theano/compiledir_Darwin-17.7.0-x86_64-i386-64bit-i386-3.6.8-64/lock_dir\n",
      "INFO (theano.gof.compilelock): Waiting for existing lock by process '4510' (I am process '4592')\n",
      "INFO (theano.gof.compilelock): To manually release the lock, delete /Users/felixmolter/.theano/compiledir_Darwin-17.7.0-x86_64-i386-64bit-i386-3.6.8-64/lock_dir\n",
      "INFO (theano.gof.compilelock): Waiting for existing lock by process '4510' (I am process '4599')\n",
      "INFO (theano.gof.compilelock): Waiting for existing lock by process '4510' (I am process '4600')\n",
      "INFO (theano.gof.compilelock): Waiting for existing lock by process '4510' (I am process '4596')\n",
      "INFO (theano.gof.compilelock): Waiting for existing lock by process '4510' (I am process '4598')\n",
      "INFO (theano.gof.compilelock): To manually release the lock, delete /Users/felixmolter/.theano/compiledir_Darwin-17.7.0-x86_64-i386-64bit-i386-3.6.8-64/lock_dir\n",
      "INFO (theano.gof.compilelock): To manually release the lock, delete /Users/felixmolter/.theano/compiledir_Darwin-17.7.0-x86_64-i386-64bit-i386-3.6.8-64/lock_dir\n",
      "INFO (theano.gof.compilelock): To manually release the lock, delete /Users/felixmolter/.theano/compiledir_Darwin-17.7.0-x86_64-i386-64bit-i386-3.6.8-64/lock_dir\n",
      "INFO (theano.gof.compilelock): To manually release the lock, delete /Users/felixmolter/.theano/compiledir_Darwin-17.7.0-x86_64-i386-64bit-i386-3.6.8-64/lock_dir\n"
     ]
    },
    {
     "name": "stderr",
     "output_type": "stream",
     "text": [
      "INFO (theano.gof.compilelock): Waiting for existing lock by process '4510' (I am process '4590')\n",
      "INFO (theano.gof.compilelock): Waiting for existing lock by process '4510' (I am process '4593')\n",
      "INFO (theano.gof.compilelock): Waiting for existing lock by process '4510' (I am process '4589')\n",
      "INFO (theano.gof.compilelock): To manually release the lock, delete /Users/felixmolter/.theano/compiledir_Darwin-17.7.0-x86_64-i386-64bit-i386-3.6.8-64/lock_dir\n",
      "INFO (theano.gof.compilelock): To manually release the lock, delete /Users/felixmolter/.theano/compiledir_Darwin-17.7.0-x86_64-i386-64bit-i386-3.6.8-64/lock_dir\n",
      "INFO (theano.gof.compilelock): Waiting for existing lock by process '4510' (I am process '4597')\n",
      "INFO (theano.gof.compilelock): Waiting for existing lock by process '4510' (I am process '4587')\n",
      "INFO (theano.gof.compilelock): To manually release the lock, delete /Users/felixmolter/.theano/compiledir_Darwin-17.7.0-x86_64-i386-64bit-i386-3.6.8-64/lock_dir\n",
      "INFO (theano.gof.compilelock): To manually release the lock, delete /Users/felixmolter/.theano/compiledir_Darwin-17.7.0-x86_64-i386-64bit-i386-3.6.8-64/lock_dir\n",
      "INFO (theano.gof.compilelock): To manually release the lock, delete /Users/felixmolter/.theano/compiledir_Darwin-17.7.0-x86_64-i386-64bit-i386-3.6.8-64/lock_dir\n",
      "INFO (theano.gof.compilelock): Waiting for existing lock by process '4510' (I am process '4594')\n",
      "INFO (theano.gof.compilelock): Waiting for existing lock by process '4510' (I am process '4591')\n",
      "INFO (theano.gof.compilelock): To manually release the lock, delete /Users/felixmolter/.theano/compiledir_Darwin-17.7.0-x86_64-i386-64bit-i386-3.6.8-64/lock_dir\n",
      "INFO (theano.gof.compilelock): To manually release the lock, delete /Users/felixmolter/.theano/compiledir_Darwin-17.7.0-x86_64-i386-64bit-i386-3.6.8-64/lock_dir\n",
      "INFO (theano.gof.compilelock): Waiting for existing lock by process '4588' (I am process '4592')\n",
      "INFO (theano.gof.compilelock): To manually release the lock, delete /Users/felixmolter/.theano/compiledir_Darwin-17.7.0-x86_64-i386-64bit-i386-3.6.8-64/lock_dir\n",
      "INFO (theano.gof.compilelock): Waiting for existing lock by process '4588' (I am process '4599')\n",
      "INFO (theano.gof.compilelock): Waiting for existing lock by process '4588' (I am process '4600')\n",
      "INFO (theano.gof.compilelock): Waiting for existing lock by process '4588' (I am process '4596')\n",
      "INFO (theano.gof.compilelock): Waiting for existing lock by process '4588' (I am process '4598')\n",
      "INFO (theano.gof.compilelock): To manually release the lock, delete /Users/felixmolter/.theano/compiledir_Darwin-17.7.0-x86_64-i386-64bit-i386-3.6.8-64/lock_dir\n",
      "INFO (theano.gof.compilelock): To manually release the lock, delete /Users/felixmolter/.theano/compiledir_Darwin-17.7.0-x86_64-i386-64bit-i386-3.6.8-64/lock_dir\n",
      "INFO (theano.gof.compilelock): To manually release the lock, delete /Users/felixmolter/.theano/compiledir_Darwin-17.7.0-x86_64-i386-64bit-i386-3.6.8-64/lock_dir\n",
      "INFO (theano.gof.compilelock): To manually release the lock, delete /Users/felixmolter/.theano/compiledir_Darwin-17.7.0-x86_64-i386-64bit-i386-3.6.8-64/lock_dir\n",
      "INFO (theano.gof.compilelock): Waiting for existing lock by unknown process (I am process '4593')\n",
      "INFO (theano.gof.compilelock): To manually release the lock, delete /Users/felixmolter/.theano/compiledir_Darwin-17.7.0-x86_64-i386-64bit-i386-3.6.8-64/lock_dir\n",
      "INFO (theano.gof.compilelock): Waiting for existing lock by process '4590' (I am process '4587')\n",
      "INFO (theano.gof.compilelock): Waiting for existing lock by process '4590' (I am process '4589')\n",
      "INFO (theano.gof.compilelock): Waiting for existing lock by process '4590' (I am process '4597')\n",
      "INFO (theano.gof.compilelock): Waiting for existing lock by process '4590' (I am process '4594')\n",
      "INFO (theano.gof.compilelock): To manually release the lock, delete /Users/felixmolter/.theano/compiledir_Darwin-17.7.0-x86_64-i386-64bit-i386-3.6.8-64/lock_dir\n",
      "INFO (theano.gof.compilelock): To manually release the lock, delete /Users/felixmolter/.theano/compiledir_Darwin-17.7.0-x86_64-i386-64bit-i386-3.6.8-64/lock_dir\n",
      "INFO (theano.gof.compilelock): Waiting for existing lock by process '4590' (I am process '4591')\n",
      "INFO (theano.gof.compilelock): To manually release the lock, delete /Users/felixmolter/.theano/compiledir_Darwin-17.7.0-x86_64-i386-64bit-i386-3.6.8-64/lock_dir\n",
      "INFO (theano.gof.compilelock): To manually release the lock, delete /Users/felixmolter/.theano/compiledir_Darwin-17.7.0-x86_64-i386-64bit-i386-3.6.8-64/lock_dir\n",
      "INFO (theano.gof.compilelock): To manually release the lock, delete /Users/felixmolter/.theano/compiledir_Darwin-17.7.0-x86_64-i386-64bit-i386-3.6.8-64/lock_dir\n",
      "INFO (theano.gof.compilelock): Waiting for existing lock by process '4595' (I am process '4590')\n",
      "INFO (theano.gof.compilelock): To manually release the lock, delete /Users/felixmolter/.theano/compiledir_Darwin-17.7.0-x86_64-i386-64bit-i386-3.6.8-64/lock_dir\n",
      "INFO (theano.gof.compilelock): Waiting for existing lock by process '4595' (I am process '4592')\n",
      "INFO (theano.gof.compilelock): To manually release the lock, delete /Users/felixmolter/.theano/compiledir_Darwin-17.7.0-x86_64-i386-64bit-i386-3.6.8-64/lock_dir\n",
      "INFO (theano.gof.compilelock): Waiting for existing lock by process '4595' (I am process '4598')\n",
      "INFO (theano.gof.compilelock): Waiting for existing lock by process '4595' (I am process '4600')\n",
      "INFO (theano.gof.compilelock): Waiting for existing lock by process '4595' (I am process '4599')\n",
      "INFO (theano.gof.compilelock): Waiting for existing lock by process '4595' (I am process '4596')\n",
      "INFO (theano.gof.compilelock): To manually release the lock, delete /Users/felixmolter/.theano/compiledir_Darwin-17.7.0-x86_64-i386-64bit-i386-3.6.8-64/lock_dir\n",
      "INFO (theano.gof.compilelock): To manually release the lock, delete /Users/felixmolter/.theano/compiledir_Darwin-17.7.0-x86_64-i386-64bit-i386-3.6.8-64/lock_dir\n",
      "INFO (theano.gof.compilelock): To manually release the lock, delete /Users/felixmolter/.theano/compiledir_Darwin-17.7.0-x86_64-i386-64bit-i386-3.6.8-64/lock_dir\n",
      "INFO (theano.gof.compilelock): To manually release the lock, delete /Users/felixmolter/.theano/compiledir_Darwin-17.7.0-x86_64-i386-64bit-i386-3.6.8-64/lock_dir\n",
      "INFO (theano.gof.compilelock): Waiting for existing lock by process '4595' (I am process '4593')\n",
      "INFO (theano.gof.compilelock): To manually release the lock, delete /Users/felixmolter/.theano/compiledir_Darwin-17.7.0-x86_64-i386-64bit-i386-3.6.8-64/lock_dir\n",
      "INFO (theano.gof.compilelock): Waiting for existing lock by process '4595' (I am process '4589')\n",
      "INFO (theano.gof.compilelock): Waiting for existing lock by process '4595' (I am process '4587')\n",
      "INFO (theano.gof.compilelock): Waiting for existing lock by process '4595' (I am process '4597')\n",
      "INFO (theano.gof.compilelock): To manually release the lock, delete /Users/felixmolter/.theano/compiledir_Darwin-17.7.0-x86_64-i386-64bit-i386-3.6.8-64/lock_dir\n",
      "INFO (theano.gof.compilelock): To manually release the lock, delete /Users/felixmolter/.theano/compiledir_Darwin-17.7.0-x86_64-i386-64bit-i386-3.6.8-64/lock_dir\n",
      "INFO (theano.gof.compilelock): Waiting for existing lock by process '4595' (I am process '4591')\n",
      "INFO (theano.gof.compilelock): Waiting for existing lock by process '4595' (I am process '4594')\n",
      "INFO (theano.gof.compilelock): To manually release the lock, delete /Users/felixmolter/.theano/compiledir_Darwin-17.7.0-x86_64-i386-64bit-i386-3.6.8-64/lock_dir\n",
      "INFO (theano.gof.compilelock): To manually release the lock, delete /Users/felixmolter/.theano/compiledir_Darwin-17.7.0-x86_64-i386-64bit-i386-3.6.8-64/lock_dir\n",
      "INFO (theano.gof.compilelock): To manually release the lock, delete /Users/felixmolter/.theano/compiledir_Darwin-17.7.0-x86_64-i386-64bit-i386-3.6.8-64/lock_dir\n",
      "INFO (theano.gof.compilelock): Waiting for existing lock by process '4595' (I am process '4588')\n",
      "INFO (theano.gof.compilelock): To manually release the lock, delete /Users/felixmolter/.theano/compiledir_Darwin-17.7.0-x86_64-i386-64bit-i386-3.6.8-64/lock_dir\n",
      "INFO (theano.gof.compilelock): Waiting for existing lock by process '4595' (I am process '4592')\n",
      "INFO (theano.gof.compilelock): To manually release the lock, delete /Users/felixmolter/.theano/compiledir_Darwin-17.7.0-x86_64-i386-64bit-i386-3.6.8-64/lock_dir\n"
     ]
    },
    {
     "name": "stderr",
     "output_type": "stream",
     "text": [
      "INFO (theano.gof.compilelock): Waiting for existing lock by process '4595' (I am process '4596')\n",
      "INFO (theano.gof.compilelock): Waiting for existing lock by process '4595' (I am process '4600')\n",
      "INFO (theano.gof.compilelock): Waiting for existing lock by process '4595' (I am process '4598')\n",
      "INFO (theano.gof.compilelock): Waiting for existing lock by process '4595' (I am process '4599')\n",
      "INFO (theano.gof.compilelock): To manually release the lock, delete /Users/felixmolter/.theano/compiledir_Darwin-17.7.0-x86_64-i386-64bit-i386-3.6.8-64/lock_dir\n",
      "INFO (theano.gof.compilelock): To manually release the lock, delete /Users/felixmolter/.theano/compiledir_Darwin-17.7.0-x86_64-i386-64bit-i386-3.6.8-64/lock_dir\n",
      "INFO (theano.gof.compilelock): To manually release the lock, delete /Users/felixmolter/.theano/compiledir_Darwin-17.7.0-x86_64-i386-64bit-i386-3.6.8-64/lock_dir\n",
      "INFO (theano.gof.compilelock): To manually release the lock, delete /Users/felixmolter/.theano/compiledir_Darwin-17.7.0-x86_64-i386-64bit-i386-3.6.8-64/lock_dir\n",
      "INFO (theano.gof.compilelock): Waiting for existing lock by process '4595' (I am process '4593')\n",
      "INFO (theano.gof.compilelock): Waiting for existing lock by process '4595' (I am process '4587')\n",
      "INFO (theano.gof.compilelock): Waiting for existing lock by process '4595' (I am process '4589')\n",
      "INFO (theano.gof.compilelock): Waiting for existing lock by process '4595' (I am process '4597')\n",
      "INFO (theano.gof.compilelock): To manually release the lock, delete /Users/felixmolter/.theano/compiledir_Darwin-17.7.0-x86_64-i386-64bit-i386-3.6.8-64/lock_dir\n",
      "INFO (theano.gof.compilelock): To manually release the lock, delete /Users/felixmolter/.theano/compiledir_Darwin-17.7.0-x86_64-i386-64bit-i386-3.6.8-64/lock_dir\n",
      "INFO (theano.gof.compilelock): To manually release the lock, delete /Users/felixmolter/.theano/compiledir_Darwin-17.7.0-x86_64-i386-64bit-i386-3.6.8-64/lock_dir\n",
      "INFO (theano.gof.compilelock): Waiting for existing lock by process '4595' (I am process '4594')\n",
      "INFO (theano.gof.compilelock): Waiting for existing lock by process '4595' (I am process '4591')\n",
      "INFO (theano.gof.compilelock): To manually release the lock, delete /Users/felixmolter/.theano/compiledir_Darwin-17.7.0-x86_64-i386-64bit-i386-3.6.8-64/lock_dir\n",
      "INFO (theano.gof.compilelock): To manually release the lock, delete /Users/felixmolter/.theano/compiledir_Darwin-17.7.0-x86_64-i386-64bit-i386-3.6.8-64/lock_dir\n",
      "INFO (theano.gof.compilelock): To manually release the lock, delete /Users/felixmolter/.theano/compiledir_Darwin-17.7.0-x86_64-i386-64bit-i386-3.6.8-64/lock_dir\n",
      "INFO (theano.gof.compilelock): Waiting for existing lock by process '4595' (I am process '4590')\n",
      "INFO (theano.gof.compilelock): To manually release the lock, delete /Users/felixmolter/.theano/compiledir_Darwin-17.7.0-x86_64-i386-64bit-i386-3.6.8-64/lock_dir\n",
      "INFO (theano.gof.compilelock): Waiting for existing lock by process '4595' (I am process '4588')\n",
      "INFO (theano.gof.compilelock): To manually release the lock, delete /Users/felixmolter/.theano/compiledir_Darwin-17.7.0-x86_64-i386-64bit-i386-3.6.8-64/lock_dir\n",
      "INFO (theano.gof.compilelock): Waiting for existing lock by process '4595' (I am process '4590')\n",
      "INFO (theano.gof.compilelock): To manually release the lock, delete /Users/felixmolter/.theano/compiledir_Darwin-17.7.0-x86_64-i386-64bit-i386-3.6.8-64/lock_dir\n",
      "INFO (theano.gof.compilelock): Waiting for existing lock by process '4595' (I am process '4592')\n",
      "INFO (theano.gof.compilelock): To manually release the lock, delete /Users/felixmolter/.theano/compiledir_Darwin-17.7.0-x86_64-i386-64bit-i386-3.6.8-64/lock_dir\n",
      "INFO (theano.gof.compilelock): Waiting for existing lock by process '4595' (I am process '4596')\n",
      "INFO (theano.gof.compilelock): Waiting for existing lock by process '4595' (I am process '4598')\n",
      "INFO (theano.gof.compilelock): Waiting for existing lock by process '4595' (I am process '4599')\n",
      "INFO (theano.gof.compilelock): Waiting for existing lock by process '4595' (I am process '4600')\n",
      "INFO (theano.gof.compilelock): To manually release the lock, delete /Users/felixmolter/.theano/compiledir_Darwin-17.7.0-x86_64-i386-64bit-i386-3.6.8-64/lock_dir\n",
      "INFO (theano.gof.compilelock): To manually release the lock, delete /Users/felixmolter/.theano/compiledir_Darwin-17.7.0-x86_64-i386-64bit-i386-3.6.8-64/lock_dir\n",
      "INFO (theano.gof.compilelock): To manually release the lock, delete /Users/felixmolter/.theano/compiledir_Darwin-17.7.0-x86_64-i386-64bit-i386-3.6.8-64/lock_dir\n",
      "INFO (theano.gof.compilelock): To manually release the lock, delete /Users/felixmolter/.theano/compiledir_Darwin-17.7.0-x86_64-i386-64bit-i386-3.6.8-64/lock_dir\n",
      "INFO (theano.gof.compilelock): Waiting for existing lock by process '4595' (I am process '4593')\n",
      "INFO (theano.gof.compilelock): Waiting for existing lock by process '4595' (I am process '4589')\n",
      "INFO (theano.gof.compilelock): Waiting for existing lock by process '4595' (I am process '4587')\n",
      "INFO (theano.gof.compilelock): Waiting for existing lock by process '4595' (I am process '4597')\n",
      "INFO (theano.gof.compilelock): To manually release the lock, delete /Users/felixmolter/.theano/compiledir_Darwin-17.7.0-x86_64-i386-64bit-i386-3.6.8-64/lock_dir\n",
      "INFO (theano.gof.compilelock): To manually release the lock, delete /Users/felixmolter/.theano/compiledir_Darwin-17.7.0-x86_64-i386-64bit-i386-3.6.8-64/lock_dir\n",
      "INFO (theano.gof.compilelock): Waiting for existing lock by process '4595' (I am process '4594')\n",
      "INFO (theano.gof.compilelock): Waiting for existing lock by process '4595' (I am process '4591')\n",
      "INFO (theano.gof.compilelock): To manually release the lock, delete /Users/felixmolter/.theano/compiledir_Darwin-17.7.0-x86_64-i386-64bit-i386-3.6.8-64/lock_dir\n",
      "INFO (theano.gof.compilelock): To manually release the lock, delete /Users/felixmolter/.theano/compiledir_Darwin-17.7.0-x86_64-i386-64bit-i386-3.6.8-64/lock_dir\n",
      "INFO (theano.gof.compilelock): To manually release the lock, delete /Users/felixmolter/.theano/compiledir_Darwin-17.7.0-x86_64-i386-64bit-i386-3.6.8-64/lock_dir\n",
      "INFO (theano.gof.compilelock): To manually release the lock, delete /Users/felixmolter/.theano/compiledir_Darwin-17.7.0-x86_64-i386-64bit-i386-3.6.8-64/lock_dir\n",
      "INFO (theano.gof.compilelock): Waiting for existing lock by process '4595' (I am process '4588')\n",
      "INFO (theano.gof.compilelock): To manually release the lock, delete /Users/felixmolter/.theano/compiledir_Darwin-17.7.0-x86_64-i386-64bit-i386-3.6.8-64/lock_dir\n",
      "INFO (theano.gof.compilelock): Waiting for existing lock by process '4595' (I am process '4590')\n",
      "INFO (theano.gof.compilelock): To manually release the lock, delete /Users/felixmolter/.theano/compiledir_Darwin-17.7.0-x86_64-i386-64bit-i386-3.6.8-64/lock_dir\n",
      "INFO (theano.gof.compilelock): Waiting for existing lock by process '4595' (I am process '4592')\n",
      "INFO (theano.gof.compilelock): To manually release the lock, delete /Users/felixmolter/.theano/compiledir_Darwin-17.7.0-x86_64-i386-64bit-i386-3.6.8-64/lock_dir\n",
      "INFO (theano.gof.compilelock): Waiting for existing lock by process '4595' (I am process '4599')\n",
      "INFO (theano.gof.compilelock): Waiting for existing lock by process '4595' (I am process '4598')\n",
      "INFO (theano.gof.compilelock): Waiting for existing lock by process '4595' (I am process '4596')\n",
      "INFO (theano.gof.compilelock): Waiting for existing lock by process '4595' (I am process '4600')\n",
      "INFO (theano.gof.compilelock): To manually release the lock, delete /Users/felixmolter/.theano/compiledir_Darwin-17.7.0-x86_64-i386-64bit-i386-3.6.8-64/lock_dir\n",
      "INFO (theano.gof.compilelock): To manually release the lock, delete /Users/felixmolter/.theano/compiledir_Darwin-17.7.0-x86_64-i386-64bit-i386-3.6.8-64/lock_dir\n",
      "INFO (theano.gof.compilelock): To manually release the lock, delete /Users/felixmolter/.theano/compiledir_Darwin-17.7.0-x86_64-i386-64bit-i386-3.6.8-64/lock_dir\n",
      "INFO (theano.gof.compilelock): To manually release the lock, delete /Users/felixmolter/.theano/compiledir_Darwin-17.7.0-x86_64-i386-64bit-i386-3.6.8-64/lock_dir\n",
      "INFO (theano.gof.compilelock): Waiting for existing lock by process '4595' (I am process '4589')\n",
      "INFO (theano.gof.compilelock): Waiting for existing lock by process '4595' (I am process '4593')\n",
      "INFO (theano.gof.compilelock): Waiting for existing lock by process '4595' (I am process '4587')\n"
     ]
    },
    {
     "name": "stderr",
     "output_type": "stream",
     "text": [
      "INFO (theano.gof.compilelock): Waiting for existing lock by process '4595' (I am process '4597')\n",
      "INFO (theano.gof.compilelock): Waiting for existing lock by process '4595' (I am process '4594')\n",
      "INFO (theano.gof.compilelock): To manually release the lock, delete /Users/felixmolter/.theano/compiledir_Darwin-17.7.0-x86_64-i386-64bit-i386-3.6.8-64/lock_dir\n",
      "INFO (theano.gof.compilelock): To manually release the lock, delete /Users/felixmolter/.theano/compiledir_Darwin-17.7.0-x86_64-i386-64bit-i386-3.6.8-64/lock_dir\n",
      "INFO (theano.gof.compilelock): Waiting for existing lock by process '4595' (I am process '4591')\n",
      "INFO (theano.gof.compilelock): To manually release the lock, delete /Users/felixmolter/.theano/compiledir_Darwin-17.7.0-x86_64-i386-64bit-i386-3.6.8-64/lock_dir\n",
      "INFO (theano.gof.compilelock): To manually release the lock, delete /Users/felixmolter/.theano/compiledir_Darwin-17.7.0-x86_64-i386-64bit-i386-3.6.8-64/lock_dir\n",
      "INFO (theano.gof.compilelock): To manually release the lock, delete /Users/felixmolter/.theano/compiledir_Darwin-17.7.0-x86_64-i386-64bit-i386-3.6.8-64/lock_dir\n",
      "INFO (theano.gof.compilelock): To manually release the lock, delete /Users/felixmolter/.theano/compiledir_Darwin-17.7.0-x86_64-i386-64bit-i386-3.6.8-64/lock_dir\n",
      "INFO (theano.gof.compilelock): Waiting for existing lock by process '4595' (I am process '4588')\n",
      "INFO (theano.gof.compilelock): To manually release the lock, delete /Users/felixmolter/.theano/compiledir_Darwin-17.7.0-x86_64-i386-64bit-i386-3.6.8-64/lock_dir\n",
      "INFO (theano.gof.compilelock): Waiting for existing lock by process '4595' (I am process '4588')\n",
      "INFO (theano.gof.compilelock): To manually release the lock, delete /Users/felixmolter/.theano/compiledir_Darwin-17.7.0-x86_64-i386-64bit-i386-3.6.8-64/lock_dir\n",
      "INFO (theano.gof.compilelock): Waiting for existing lock by process '4595' (I am process '4592')\n",
      "INFO (theano.gof.compilelock): To manually release the lock, delete /Users/felixmolter/.theano/compiledir_Darwin-17.7.0-x86_64-i386-64bit-i386-3.6.8-64/lock_dir\n",
      "INFO (theano.gof.compilelock): Waiting for existing lock by process '4595' (I am process '4599')\n",
      "INFO (theano.gof.compilelock): Waiting for existing lock by process '4595' (I am process '4598')\n",
      "INFO (theano.gof.compilelock): Waiting for existing lock by process '4595' (I am process '4596')\n",
      "INFO (theano.gof.compilelock): Waiting for existing lock by process '4595' (I am process '4600')\n",
      "INFO (theano.gof.compilelock): To manually release the lock, delete /Users/felixmolter/.theano/compiledir_Darwin-17.7.0-x86_64-i386-64bit-i386-3.6.8-64/lock_dir\n",
      "INFO (theano.gof.compilelock): To manually release the lock, delete /Users/felixmolter/.theano/compiledir_Darwin-17.7.0-x86_64-i386-64bit-i386-3.6.8-64/lock_dir\n",
      "INFO (theano.gof.compilelock): To manually release the lock, delete /Users/felixmolter/.theano/compiledir_Darwin-17.7.0-x86_64-i386-64bit-i386-3.6.8-64/lock_dir\n",
      "INFO (theano.gof.compilelock): To manually release the lock, delete /Users/felixmolter/.theano/compiledir_Darwin-17.7.0-x86_64-i386-64bit-i386-3.6.8-64/lock_dir\n",
      "INFO (theano.gof.compilelock): Waiting for existing lock by process '4595' (I am process '4587')\n",
      "INFO (theano.gof.compilelock): Waiting for existing lock by process '4595' (I am process '4593')\n",
      "INFO (theano.gof.compilelock): Waiting for existing lock by process '4595' (I am process '4589')\n",
      "INFO (theano.gof.compilelock): Waiting for existing lock by process '4595' (I am process '4594')\n",
      "INFO (theano.gof.compilelock): Waiting for existing lock by process '4595' (I am process '4597')\n",
      "INFO (theano.gof.compilelock): Waiting for existing lock by process '4595' (I am process '4591')\n",
      "INFO (theano.gof.compilelock): To manually release the lock, delete /Users/felixmolter/.theano/compiledir_Darwin-17.7.0-x86_64-i386-64bit-i386-3.6.8-64/lock_dir\n",
      "INFO (theano.gof.compilelock): To manually release the lock, delete /Users/felixmolter/.theano/compiledir_Darwin-17.7.0-x86_64-i386-64bit-i386-3.6.8-64/lock_dir\n",
      "INFO (theano.gof.compilelock): To manually release the lock, delete /Users/felixmolter/.theano/compiledir_Darwin-17.7.0-x86_64-i386-64bit-i386-3.6.8-64/lock_dir\n",
      "INFO (theano.gof.compilelock): To manually release the lock, delete /Users/felixmolter/.theano/compiledir_Darwin-17.7.0-x86_64-i386-64bit-i386-3.6.8-64/lock_dir\n",
      "INFO (theano.gof.compilelock): To manually release the lock, delete /Users/felixmolter/.theano/compiledir_Darwin-17.7.0-x86_64-i386-64bit-i386-3.6.8-64/lock_dir\n",
      "INFO (theano.gof.compilelock): To manually release the lock, delete /Users/felixmolter/.theano/compiledir_Darwin-17.7.0-x86_64-i386-64bit-i386-3.6.8-64/lock_dir\n",
      "INFO (theano.gof.compilelock): Waiting for existing lock by process '4595' (I am process '4590')\n",
      "INFO (theano.gof.compilelock): To manually release the lock, delete /Users/felixmolter/.theano/compiledir_Darwin-17.7.0-x86_64-i386-64bit-i386-3.6.8-64/lock_dir\n",
      "INFO (theano.gof.compilelock): Waiting for existing lock by process '4595' (I am process '4590')\n",
      "INFO (theano.gof.compilelock): To manually release the lock, delete /Users/felixmolter/.theano/compiledir_Darwin-17.7.0-x86_64-i386-64bit-i386-3.6.8-64/lock_dir\n",
      "INFO (theano.gof.compilelock): Waiting for existing lock by process '4595' (I am process '4588')\n",
      "INFO (theano.gof.compilelock): To manually release the lock, delete /Users/felixmolter/.theano/compiledir_Darwin-17.7.0-x86_64-i386-64bit-i386-3.6.8-64/lock_dir\n",
      "INFO (theano.gof.compilelock): Waiting for existing lock by process '4595' (I am process '4592')\n",
      "INFO (theano.gof.compilelock): To manually release the lock, delete /Users/felixmolter/.theano/compiledir_Darwin-17.7.0-x86_64-i386-64bit-i386-3.6.8-64/lock_dir\n",
      "INFO (theano.gof.compilelock): Waiting for existing lock by process '4595' (I am process '4596')\n",
      "INFO (theano.gof.compilelock): Waiting for existing lock by process '4595' (I am process '4599')\n",
      "INFO (theano.gof.compilelock): Waiting for existing lock by process '4595' (I am process '4598')\n",
      "INFO (theano.gof.compilelock): Waiting for existing lock by process '4595' (I am process '4600')\n",
      "INFO (theano.gof.compilelock): To manually release the lock, delete /Users/felixmolter/.theano/compiledir_Darwin-17.7.0-x86_64-i386-64bit-i386-3.6.8-64/lock_dir\n",
      "INFO (theano.gof.compilelock): To manually release the lock, delete /Users/felixmolter/.theano/compiledir_Darwin-17.7.0-x86_64-i386-64bit-i386-3.6.8-64/lock_dir\n",
      "INFO (theano.gof.compilelock): To manually release the lock, delete /Users/felixmolter/.theano/compiledir_Darwin-17.7.0-x86_64-i386-64bit-i386-3.6.8-64/lock_dir\n",
      "INFO (theano.gof.compilelock): To manually release the lock, delete /Users/felixmolter/.theano/compiledir_Darwin-17.7.0-x86_64-i386-64bit-i386-3.6.8-64/lock_dir\n",
      "INFO (theano.gof.compilelock): Waiting for existing lock by process '4595' (I am process '4594')\n",
      "INFO (theano.gof.compilelock): Waiting for existing lock by process '4595' (I am process '4587')\n",
      "INFO (theano.gof.compilelock): Waiting for existing lock by process '4595' (I am process '4593')\n",
      "INFO (theano.gof.compilelock): Waiting for existing lock by process '4595' (I am process '4597')\n",
      "INFO (theano.gof.compilelock): Waiting for existing lock by process '4595' (I am process '4589')\n",
      "INFO (theano.gof.compilelock): Waiting for existing lock by process '4595' (I am process '4591')\n",
      "INFO (theano.gof.compilelock): To manually release the lock, delete /Users/felixmolter/.theano/compiledir_Darwin-17.7.0-x86_64-i386-64bit-i386-3.6.8-64/lock_dir\n",
      "INFO (theano.gof.compilelock): To manually release the lock, delete /Users/felixmolter/.theano/compiledir_Darwin-17.7.0-x86_64-i386-64bit-i386-3.6.8-64/lock_dir\n",
      "INFO (theano.gof.compilelock): To manually release the lock, delete /Users/felixmolter/.theano/compiledir_Darwin-17.7.0-x86_64-i386-64bit-i386-3.6.8-64/lock_dir\n",
      "INFO (theano.gof.compilelock): To manually release the lock, delete /Users/felixmolter/.theano/compiledir_Darwin-17.7.0-x86_64-i386-64bit-i386-3.6.8-64/lock_dir\n",
      "INFO (theano.gof.compilelock): To manually release the lock, delete /Users/felixmolter/.theano/compiledir_Darwin-17.7.0-x86_64-i386-64bit-i386-3.6.8-64/lock_dir\n",
      "INFO (theano.gof.compilelock): To manually release the lock, delete /Users/felixmolter/.theano/compiledir_Darwin-17.7.0-x86_64-i386-64bit-i386-3.6.8-64/lock_dir\n"
     ]
    },
    {
     "name": "stderr",
     "output_type": "stream",
     "text": [
      "INFO (theano.gof.compilelock): Waiting for existing lock by process '4595' (I am process '4592')\n",
      "INFO (theano.gof.compilelock): To manually release the lock, delete /Users/felixmolter/.theano/compiledir_Darwin-17.7.0-x86_64-i386-64bit-i386-3.6.8-64/lock_dir\n",
      "INFO (theano.gof.compilelock): Waiting for existing lock by process '4595' (I am process '4599')\n",
      "INFO (theano.gof.compilelock): Waiting for existing lock by process '4595' (I am process '4600')\n",
      "INFO (theano.gof.compilelock): Waiting for existing lock by process '4595' (I am process '4598')\n",
      "INFO (theano.gof.compilelock): Waiting for existing lock by process '4595' (I am process '4596')\n",
      "INFO (theano.gof.compilelock): To manually release the lock, delete /Users/felixmolter/.theano/compiledir_Darwin-17.7.0-x86_64-i386-64bit-i386-3.6.8-64/lock_dir\n",
      "INFO (theano.gof.compilelock): To manually release the lock, delete /Users/felixmolter/.theano/compiledir_Darwin-17.7.0-x86_64-i386-64bit-i386-3.6.8-64/lock_dir\n",
      "INFO (theano.gof.compilelock): To manually release the lock, delete /Users/felixmolter/.theano/compiledir_Darwin-17.7.0-x86_64-i386-64bit-i386-3.6.8-64/lock_dir\n",
      "INFO (theano.gof.compilelock): To manually release the lock, delete /Users/felixmolter/.theano/compiledir_Darwin-17.7.0-x86_64-i386-64bit-i386-3.6.8-64/lock_dir\n",
      "INFO (theano.gof.compilelock): Waiting for existing lock by process '4595' (I am process '4587')\n",
      "INFO (theano.gof.compilelock): Waiting for existing lock by process '4595' (I am process '4594')\n",
      "INFO (theano.gof.compilelock): Waiting for existing lock by process '4595' (I am process '4589')\n",
      "INFO (theano.gof.compilelock): Waiting for existing lock by process '4595' (I am process '4593')\n",
      "INFO (theano.gof.compilelock): Waiting for existing lock by process '4595' (I am process '4591')\n",
      "INFO (theano.gof.compilelock): Waiting for existing lock by process '4595' (I am process '4597')\n",
      "INFO (theano.gof.compilelock): To manually release the lock, delete /Users/felixmolter/.theano/compiledir_Darwin-17.7.0-x86_64-i386-64bit-i386-3.6.8-64/lock_dir\n",
      "INFO (theano.gof.compilelock): To manually release the lock, delete /Users/felixmolter/.theano/compiledir_Darwin-17.7.0-x86_64-i386-64bit-i386-3.6.8-64/lock_dir\n",
      "INFO (theano.gof.compilelock): To manually release the lock, delete /Users/felixmolter/.theano/compiledir_Darwin-17.7.0-x86_64-i386-64bit-i386-3.6.8-64/lock_dir\n",
      "INFO (theano.gof.compilelock): To manually release the lock, delete /Users/felixmolter/.theano/compiledir_Darwin-17.7.0-x86_64-i386-64bit-i386-3.6.8-64/lock_dir\n",
      "INFO (theano.gof.compilelock): To manually release the lock, delete /Users/felixmolter/.theano/compiledir_Darwin-17.7.0-x86_64-i386-64bit-i386-3.6.8-64/lock_dir\n",
      "INFO (theano.gof.compilelock): To manually release the lock, delete /Users/felixmolter/.theano/compiledir_Darwin-17.7.0-x86_64-i386-64bit-i386-3.6.8-64/lock_dir\n",
      "INFO (theano.gof.compilelock): Waiting for existing lock by process '4595' (I am process '4590')\n",
      "INFO (theano.gof.compilelock): To manually release the lock, delete /Users/felixmolter/.theano/compiledir_Darwin-17.7.0-x86_64-i386-64bit-i386-3.6.8-64/lock_dir\n",
      "INFO (theano.gof.compilelock): Waiting for existing lock by process '4595' (I am process '4588')\n",
      "INFO (theano.gof.compilelock): To manually release the lock, delete /Users/felixmolter/.theano/compiledir_Darwin-17.7.0-x86_64-i386-64bit-i386-3.6.8-64/lock_dir\n",
      "INFO (theano.gof.compilelock): Waiting for existing lock by process '4595' (I am process '4592')\n",
      "INFO (theano.gof.compilelock): To manually release the lock, delete /Users/felixmolter/.theano/compiledir_Darwin-17.7.0-x86_64-i386-64bit-i386-3.6.8-64/lock_dir\n",
      "INFO (theano.gof.compilelock): Waiting for existing lock by process '4595' (I am process '4600')\n",
      "INFO (theano.gof.compilelock): Waiting for existing lock by process '4595' (I am process '4596')\n",
      "INFO (theano.gof.compilelock): Waiting for existing lock by process '4595' (I am process '4598')\n",
      "INFO (theano.gof.compilelock): Waiting for existing lock by process '4595' (I am process '4599')\n",
      "INFO (theano.gof.compilelock): To manually release the lock, delete /Users/felixmolter/.theano/compiledir_Darwin-17.7.0-x86_64-i386-64bit-i386-3.6.8-64/lock_dir\n",
      "INFO (theano.gof.compilelock): To manually release the lock, delete /Users/felixmolter/.theano/compiledir_Darwin-17.7.0-x86_64-i386-64bit-i386-3.6.8-64/lock_dir\n",
      "INFO (theano.gof.compilelock): To manually release the lock, delete /Users/felixmolter/.theano/compiledir_Darwin-17.7.0-x86_64-i386-64bit-i386-3.6.8-64/lock_dir\n",
      "INFO (theano.gof.compilelock): To manually release the lock, delete /Users/felixmolter/.theano/compiledir_Darwin-17.7.0-x86_64-i386-64bit-i386-3.6.8-64/lock_dir\n",
      "INFO (theano.gof.compilelock): Waiting for existing lock by process '4595' (I am process '4587')\n",
      "INFO (theano.gof.compilelock): Waiting for existing lock by process '4595' (I am process '4593')\n",
      "INFO (theano.gof.compilelock): Waiting for existing lock by process '4595' (I am process '4591')\n",
      "INFO (theano.gof.compilelock): Waiting for existing lock by process '4595' (I am process '4589')\n",
      "INFO (theano.gof.compilelock): Waiting for existing lock by process '4595' (I am process '4597')\n",
      "INFO (theano.gof.compilelock): Waiting for existing lock by process '4595' (I am process '4594')\n",
      "INFO (theano.gof.compilelock): To manually release the lock, delete /Users/felixmolter/.theano/compiledir_Darwin-17.7.0-x86_64-i386-64bit-i386-3.6.8-64/lock_dir\n",
      "INFO (theano.gof.compilelock): To manually release the lock, delete /Users/felixmolter/.theano/compiledir_Darwin-17.7.0-x86_64-i386-64bit-i386-3.6.8-64/lock_dir\n",
      "INFO (theano.gof.compilelock): To manually release the lock, delete /Users/felixmolter/.theano/compiledir_Darwin-17.7.0-x86_64-i386-64bit-i386-3.6.8-64/lock_dir\n",
      "INFO (theano.gof.compilelock): To manually release the lock, delete /Users/felixmolter/.theano/compiledir_Darwin-17.7.0-x86_64-i386-64bit-i386-3.6.8-64/lock_dir\n",
      "INFO (theano.gof.compilelock): To manually release the lock, delete /Users/felixmolter/.theano/compiledir_Darwin-17.7.0-x86_64-i386-64bit-i386-3.6.8-64/lock_dir\n",
      "INFO (theano.gof.compilelock): To manually release the lock, delete /Users/felixmolter/.theano/compiledir_Darwin-17.7.0-x86_64-i386-64bit-i386-3.6.8-64/lock_dir\n",
      "INFO (theano.gof.compilelock): Waiting for existing lock by process '4595' (I am process '4588')\n",
      "INFO (theano.gof.compilelock): To manually release the lock, delete /Users/felixmolter/.theano/compiledir_Darwin-17.7.0-x86_64-i386-64bit-i386-3.6.8-64/lock_dir\n",
      "INFO (theano.gof.compilelock): Waiting for existing lock by process '4595' (I am process '4590')\n",
      "INFO (theano.gof.compilelock): To manually release the lock, delete /Users/felixmolter/.theano/compiledir_Darwin-17.7.0-x86_64-i386-64bit-i386-3.6.8-64/lock_dir\n",
      "INFO (theano.gof.compilelock): Waiting for existing lock by process '4595' (I am process '4592')\n",
      "INFO (theano.gof.compilelock): To manually release the lock, delete /Users/felixmolter/.theano/compiledir_Darwin-17.7.0-x86_64-i386-64bit-i386-3.6.8-64/lock_dir\n",
      "INFO (theano.gof.compilelock): Waiting for existing lock by process '4595' (I am process '4596')\n",
      "INFO (theano.gof.compilelock): Waiting for existing lock by process '4595' (I am process '4600')\n",
      "INFO (theano.gof.compilelock): Waiting for existing lock by process '4595' (I am process '4598')\n",
      "INFO (theano.gof.compilelock): Waiting for existing lock by process '4595' (I am process '4599')\n",
      "INFO (theano.gof.compilelock): To manually release the lock, delete /Users/felixmolter/.theano/compiledir_Darwin-17.7.0-x86_64-i386-64bit-i386-3.6.8-64/lock_dir\n",
      "INFO (theano.gof.compilelock): To manually release the lock, delete /Users/felixmolter/.theano/compiledir_Darwin-17.7.0-x86_64-i386-64bit-i386-3.6.8-64/lock_dir\n",
      "INFO (theano.gof.compilelock): To manually release the lock, delete /Users/felixmolter/.theano/compiledir_Darwin-17.7.0-x86_64-i386-64bit-i386-3.6.8-64/lock_dir\n",
      "INFO (theano.gof.compilelock): To manually release the lock, delete /Users/felixmolter/.theano/compiledir_Darwin-17.7.0-x86_64-i386-64bit-i386-3.6.8-64/lock_dir\n",
      "INFO (theano.gof.compilelock): Waiting for existing lock by process '4595' (I am process '4589')\n",
      "INFO (theano.gof.compilelock): Waiting for existing lock by process '4595' (I am process '4597')\n",
      "INFO (theano.gof.compilelock): Waiting for existing lock by process '4595' (I am process '4593')\n"
     ]
    },
    {
     "name": "stderr",
     "output_type": "stream",
     "text": [
      "INFO (theano.gof.compilelock): Waiting for existing lock by process '4595' (I am process '4591')\n",
      "INFO (theano.gof.compilelock): Waiting for existing lock by process '4595' (I am process '4587')\n",
      "INFO (theano.gof.compilelock): Waiting for existing lock by process '4595' (I am process '4594')\n",
      "INFO (theano.gof.compilelock): To manually release the lock, delete /Users/felixmolter/.theano/compiledir_Darwin-17.7.0-x86_64-i386-64bit-i386-3.6.8-64/lock_dir\n",
      "INFO (theano.gof.compilelock): To manually release the lock, delete /Users/felixmolter/.theano/compiledir_Darwin-17.7.0-x86_64-i386-64bit-i386-3.6.8-64/lock_dir\n",
      "INFO (theano.gof.compilelock): To manually release the lock, delete /Users/felixmolter/.theano/compiledir_Darwin-17.7.0-x86_64-i386-64bit-i386-3.6.8-64/lock_dir\n",
      "INFO (theano.gof.compilelock): To manually release the lock, delete /Users/felixmolter/.theano/compiledir_Darwin-17.7.0-x86_64-i386-64bit-i386-3.6.8-64/lock_dir\n",
      "INFO (theano.gof.compilelock): To manually release the lock, delete /Users/felixmolter/.theano/compiledir_Darwin-17.7.0-x86_64-i386-64bit-i386-3.6.8-64/lock_dir\n",
      "INFO (theano.gof.compilelock): To manually release the lock, delete /Users/felixmolter/.theano/compiledir_Darwin-17.7.0-x86_64-i386-64bit-i386-3.6.8-64/lock_dir\n",
      "INFO (theano.gof.compilelock): Waiting for existing lock by process '4595' (I am process '4588')\n",
      "INFO (theano.gof.compilelock): To manually release the lock, delete /Users/felixmolter/.theano/compiledir_Darwin-17.7.0-x86_64-i386-64bit-i386-3.6.8-64/lock_dir\n",
      "INFO (theano.gof.compilelock): Waiting for existing lock by process '4595' (I am process '4590')\n",
      "INFO (theano.gof.compilelock): To manually release the lock, delete /Users/felixmolter/.theano/compiledir_Darwin-17.7.0-x86_64-i386-64bit-i386-3.6.8-64/lock_dir\n",
      "INFO (theano.gof.compilelock): Waiting for existing lock by process '4592' (I am process '4600')\n",
      "INFO (theano.gof.compilelock): Waiting for existing lock by process '4592' (I am process '4596')\n",
      "INFO (theano.gof.compilelock): Waiting for existing lock by process '4592' (I am process '4599')\n",
      "INFO (theano.gof.compilelock): Waiting for existing lock by process '4592' (I am process '4598')\n",
      "INFO (theano.gof.compilelock): To manually release the lock, delete /Users/felixmolter/.theano/compiledir_Darwin-17.7.0-x86_64-i386-64bit-i386-3.6.8-64/lock_dir\n",
      "INFO (theano.gof.compilelock): To manually release the lock, delete /Users/felixmolter/.theano/compiledir_Darwin-17.7.0-x86_64-i386-64bit-i386-3.6.8-64/lock_dir\n",
      "INFO (theano.gof.compilelock): To manually release the lock, delete /Users/felixmolter/.theano/compiledir_Darwin-17.7.0-x86_64-i386-64bit-i386-3.6.8-64/lock_dir\n",
      "INFO (theano.gof.compilelock): To manually release the lock, delete /Users/felixmolter/.theano/compiledir_Darwin-17.7.0-x86_64-i386-64bit-i386-3.6.8-64/lock_dir\n",
      "INFO (theano.gof.compilelock): Waiting for existing lock by process '4592' (I am process '4589')\n",
      "INFO (theano.gof.compilelock): To manually release the lock, delete /Users/felixmolter/.theano/compiledir_Darwin-17.7.0-x86_64-i386-64bit-i386-3.6.8-64/lock_dir\n",
      "INFO (theano.gof.compilelock): Waiting for existing lock by process '4592' (I am process '4591')\n",
      "INFO (theano.gof.compilelock): Waiting for existing lock by process '4592' (I am process '4594')\n",
      "INFO (theano.gof.compilelock): Waiting for existing lock by process '4592' (I am process '4593')\n",
      "INFO (theano.gof.compilelock): Waiting for existing lock by process '4592' (I am process '4597')\n",
      "INFO (theano.gof.compilelock): Waiting for existing lock by process '4592' (I am process '4587')\n",
      "INFO (theano.gof.compilelock): To manually release the lock, delete /Users/felixmolter/.theano/compiledir_Darwin-17.7.0-x86_64-i386-64bit-i386-3.6.8-64/lock_dir\n",
      "INFO (theano.gof.compilelock): To manually release the lock, delete /Users/felixmolter/.theano/compiledir_Darwin-17.7.0-x86_64-i386-64bit-i386-3.6.8-64/lock_dir\n",
      "INFO (theano.gof.compilelock): To manually release the lock, delete /Users/felixmolter/.theano/compiledir_Darwin-17.7.0-x86_64-i386-64bit-i386-3.6.8-64/lock_dir\n",
      "INFO (theano.gof.compilelock): To manually release the lock, delete /Users/felixmolter/.theano/compiledir_Darwin-17.7.0-x86_64-i386-64bit-i386-3.6.8-64/lock_dir\n",
      "INFO (theano.gof.compilelock): To manually release the lock, delete /Users/felixmolter/.theano/compiledir_Darwin-17.7.0-x86_64-i386-64bit-i386-3.6.8-64/lock_dir\n",
      "INFO (theano.gof.compilelock): Waiting for existing lock by process '4588' (I am process '4590')\n",
      "INFO (theano.gof.compilelock): To manually release the lock, delete /Users/felixmolter/.theano/compiledir_Darwin-17.7.0-x86_64-i386-64bit-i386-3.6.8-64/lock_dir\n"
     ]
    },
    {
     "name": "stdout",
     "output_type": "stream",
     "text": [
      "Fitting 1 model(s) using MCMC...\n",
      "  Fitting model 1 of 1...\n"
     ]
    },
    {
     "name": "stderr",
     "output_type": "stream",
     "text": [
      "INFO (theano.gof.compilelock): Waiting for existing lock by process '4595' (I am process '4592')\n",
      "INFO (theano.gof.compilelock): To manually release the lock, delete /Users/felixmolter/.theano/compiledir_Darwin-17.7.0-x86_64-i386-64bit-i386-3.6.8-64/lock_dir\n",
      "INFO (theano.gof.compilelock): Waiting for existing lock by unknown process (I am process '4598')\n",
      "INFO (theano.gof.compilelock): Waiting for existing lock by unknown process (I am process '4596')\n",
      "INFO (theano.gof.compilelock): To manually release the lock, delete /Users/felixmolter/.theano/compiledir_Darwin-17.7.0-x86_64-i386-64bit-i386-3.6.8-64/lock_dir\n",
      "INFO (theano.gof.compilelock): Waiting for existing lock by process '4600' (I am process '4599')\n",
      "INFO (theano.gof.compilelock): To manually release the lock, delete /Users/felixmolter/.theano/compiledir_Darwin-17.7.0-x86_64-i386-64bit-i386-3.6.8-64/lock_dir\n",
      "INFO (theano.gof.compilelock): To manually release the lock, delete /Users/felixmolter/.theano/compiledir_Darwin-17.7.0-x86_64-i386-64bit-i386-3.6.8-64/lock_dir\n",
      "INFO (theano.gof.compilelock): Waiting for existing lock by process '4600' (I am process '4589')\n",
      "INFO (theano.gof.compilelock): To manually release the lock, delete /Users/felixmolter/.theano/compiledir_Darwin-17.7.0-x86_64-i386-64bit-i386-3.6.8-64/lock_dir\n",
      "INFO (theano.gof.compilelock): Waiting for existing lock by process '4600' (I am process '4593')\n",
      "INFO (theano.gof.compilelock): Waiting for existing lock by process '4600' (I am process '4597')\n",
      "INFO (theano.gof.compilelock): Waiting for existing lock by process '4600' (I am process '4587')\n",
      "INFO (theano.gof.compilelock): Waiting for existing lock by process '4600' (I am process '4594')\n",
      "INFO (theano.gof.compilelock): Waiting for existing lock by process '4600' (I am process '4591')\n",
      "INFO (theano.gof.compilelock): To manually release the lock, delete /Users/felixmolter/.theano/compiledir_Darwin-17.7.0-x86_64-i386-64bit-i386-3.6.8-64/lock_dir\n",
      "INFO (theano.gof.compilelock): To manually release the lock, delete /Users/felixmolter/.theano/compiledir_Darwin-17.7.0-x86_64-i386-64bit-i386-3.6.8-64/lock_dir\n",
      "INFO (theano.gof.compilelock): To manually release the lock, delete /Users/felixmolter/.theano/compiledir_Darwin-17.7.0-x86_64-i386-64bit-i386-3.6.8-64/lock_dir\n",
      "INFO (theano.gof.compilelock): To manually release the lock, delete /Users/felixmolter/.theano/compiledir_Darwin-17.7.0-x86_64-i386-64bit-i386-3.6.8-64/lock_dir\n",
      "INFO (theano.gof.compilelock): To manually release the lock, delete /Users/felixmolter/.theano/compiledir_Darwin-17.7.0-x86_64-i386-64bit-i386-3.6.8-64/lock_dir\n",
      "INFO (theano.gof.compilelock): Waiting for existing lock by process '4600' (I am process '4588')\n",
      "INFO (theano.gof.compilelock): To manually release the lock, delete /Users/felixmolter/.theano/compiledir_Darwin-17.7.0-x86_64-i386-64bit-i386-3.6.8-64/lock_dir\n",
      "INFO (theano.gof.compilelock): Waiting for existing lock by process '4600' (I am process '4590')\n",
      "INFO (theano.gof.compilelock): To manually release the lock, delete /Users/felixmolter/.theano/compiledir_Darwin-17.7.0-x86_64-i386-64bit-i386-3.6.8-64/lock_dir\n",
      "INFO (theano.gof.compilelock): Waiting for existing lock by process '4595' (I am process '4596')\n",
      "INFO (theano.gof.compilelock): Waiting for existing lock by process '4595' (I am process '4598')\n",
      "INFO (theano.gof.compilelock): Waiting for existing lock by process '4595' (I am process '4599')\n",
      "INFO (theano.gof.compilelock): To manually release the lock, delete /Users/felixmolter/.theano/compiledir_Darwin-17.7.0-x86_64-i386-64bit-i386-3.6.8-64/lock_dir\n",
      "INFO (theano.gof.compilelock): To manually release the lock, delete /Users/felixmolter/.theano/compiledir_Darwin-17.7.0-x86_64-i386-64bit-i386-3.6.8-64/lock_dir\n",
      "INFO (theano.gof.compilelock): To manually release the lock, delete /Users/felixmolter/.theano/compiledir_Darwin-17.7.0-x86_64-i386-64bit-i386-3.6.8-64/lock_dir\n",
      "INFO (theano.gof.compilelock): Waiting for existing lock by process '4595' (I am process '4589')\n",
      "INFO (theano.gof.compilelock): To manually release the lock, delete /Users/felixmolter/.theano/compiledir_Darwin-17.7.0-x86_64-i386-64bit-i386-3.6.8-64/lock_dir\n",
      "INFO (theano.gof.compilelock): Waiting for existing lock by process '4595' (I am process '4593')\n",
      "INFO (theano.gof.compilelock): Waiting for existing lock by process '4595' (I am process '4591')\n",
      "INFO (theano.gof.compilelock): Waiting for existing lock by process '4595' (I am process '4587')\n",
      "INFO (theano.gof.compilelock): Waiting for existing lock by process '4595' (I am process '4594')\n",
      "INFO (theano.gof.compilelock): Waiting for existing lock by process '4595' (I am process '4597')\n",
      "INFO (theano.gof.compilelock): To manually release the lock, delete /Users/felixmolter/.theano/compiledir_Darwin-17.7.0-x86_64-i386-64bit-i386-3.6.8-64/lock_dir\n",
      "INFO (theano.gof.compilelock): To manually release the lock, delete /Users/felixmolter/.theano/compiledir_Darwin-17.7.0-x86_64-i386-64bit-i386-3.6.8-64/lock_dir\n",
      "INFO (theano.gof.compilelock): To manually release the lock, delete /Users/felixmolter/.theano/compiledir_Darwin-17.7.0-x86_64-i386-64bit-i386-3.6.8-64/lock_dir\n",
      "INFO (theano.gof.compilelock): To manually release the lock, delete /Users/felixmolter/.theano/compiledir_Darwin-17.7.0-x86_64-i386-64bit-i386-3.6.8-64/lock_dir\n",
      "INFO (theano.gof.compilelock): To manually release the lock, delete /Users/felixmolter/.theano/compiledir_Darwin-17.7.0-x86_64-i386-64bit-i386-3.6.8-64/lock_dir\n",
      "INFO (theano.gof.compilelock): Waiting for existing lock by process '4595' (I am process '4588')\n",
      "INFO (theano.gof.compilelock): To manually release the lock, delete /Users/felixmolter/.theano/compiledir_Darwin-17.7.0-x86_64-i386-64bit-i386-3.6.8-64/lock_dir\n",
      "INFO (theano.gof.compilelock): Waiting for existing lock by process '4595' (I am process '4600')\n",
      "INFO (theano.gof.compilelock): To manually release the lock, delete /Users/felixmolter/.theano/compiledir_Darwin-17.7.0-x86_64-i386-64bit-i386-3.6.8-64/lock_dir\n",
      "INFO (theano.gof.compilelock): Waiting for existing lock by process '4595' (I am process '4590')\n",
      "INFO (theano.gof.compilelock): To manually release the lock, delete /Users/felixmolter/.theano/compiledir_Darwin-17.7.0-x86_64-i386-64bit-i386-3.6.8-64/lock_dir\n",
      "INFO (theano.gof.compilelock): Waiting for existing lock by process '4595' (I am process '4592')\n",
      "INFO (theano.gof.compilelock): To manually release the lock, delete /Users/felixmolter/.theano/compiledir_Darwin-17.7.0-x86_64-i386-64bit-i386-3.6.8-64/lock_dir\n",
      "INFO (theano.gof.compilelock): Waiting for existing lock by process '4595' (I am process '4588')\n",
      "INFO (theano.gof.compilelock): To manually release the lock, delete /Users/felixmolter/.theano/compiledir_Darwin-17.7.0-x86_64-i386-64bit-i386-3.6.8-64/lock_dir\n",
      "INFO (theano.gof.compilelock): Waiting for existing lock by process '4595' (I am process '4596')\n",
      "INFO (theano.gof.compilelock): Waiting for existing lock by process '4595' (I am process '4598')\n",
      "INFO (theano.gof.compilelock): Waiting for existing lock by process '4595' (I am process '4599')\n",
      "INFO (theano.gof.compilelock): To manually release the lock, delete /Users/felixmolter/.theano/compiledir_Darwin-17.7.0-x86_64-i386-64bit-i386-3.6.8-64/lock_dir\n",
      "INFO (theano.gof.compilelock): To manually release the lock, delete /Users/felixmolter/.theano/compiledir_Darwin-17.7.0-x86_64-i386-64bit-i386-3.6.8-64/lock_dir\n",
      "INFO (theano.gof.compilelock): To manually release the lock, delete /Users/felixmolter/.theano/compiledir_Darwin-17.7.0-x86_64-i386-64bit-i386-3.6.8-64/lock_dir\n",
      "INFO (theano.gof.compilelock): Waiting for existing lock by process '4595' (I am process '4589')\n",
      "INFO (theano.gof.compilelock): To manually release the lock, delete /Users/felixmolter/.theano/compiledir_Darwin-17.7.0-x86_64-i386-64bit-i386-3.6.8-64/lock_dir\n",
      "INFO (theano.gof.compilelock): Waiting for existing lock by process '4595' (I am process '4593')\n",
      "INFO (theano.gof.compilelock): Waiting for existing lock by process '4595' (I am process '4587')\n",
      "INFO (theano.gof.compilelock): Waiting for existing lock by process '4595' (I am process '4594')\n",
      "INFO (theano.gof.compilelock): Waiting for existing lock by process '4595' (I am process '4597')\n",
      "INFO (theano.gof.compilelock): Waiting for existing lock by process '4595' (I am process '4591')\n"
     ]
    },
    {
     "name": "stderr",
     "output_type": "stream",
     "text": [
      "INFO (theano.gof.compilelock): To manually release the lock, delete /Users/felixmolter/.theano/compiledir_Darwin-17.7.0-x86_64-i386-64bit-i386-3.6.8-64/lock_dir\n",
      "INFO (theano.gof.compilelock): To manually release the lock, delete /Users/felixmolter/.theano/compiledir_Darwin-17.7.0-x86_64-i386-64bit-i386-3.6.8-64/lock_dir\n",
      "INFO (theano.gof.compilelock): To manually release the lock, delete /Users/felixmolter/.theano/compiledir_Darwin-17.7.0-x86_64-i386-64bit-i386-3.6.8-64/lock_dir\n",
      "INFO (theano.gof.compilelock): To manually release the lock, delete /Users/felixmolter/.theano/compiledir_Darwin-17.7.0-x86_64-i386-64bit-i386-3.6.8-64/lock_dir\n",
      "INFO (theano.gof.compilelock): To manually release the lock, delete /Users/felixmolter/.theano/compiledir_Darwin-17.7.0-x86_64-i386-64bit-i386-3.6.8-64/lock_dir\n",
      "INFO (theano.gof.compilelock): Waiting for existing lock by process '4595' (I am process '4590')\n",
      "INFO (theano.gof.compilelock): To manually release the lock, delete /Users/felixmolter/.theano/compiledir_Darwin-17.7.0-x86_64-i386-64bit-i386-3.6.8-64/lock_dir\n",
      "INFO (theano.gof.compilelock): Waiting for existing lock by process '4595' (I am process '4600')\n",
      "INFO (theano.gof.compilelock): To manually release the lock, delete /Users/felixmolter/.theano/compiledir_Darwin-17.7.0-x86_64-i386-64bit-i386-3.6.8-64/lock_dir\n",
      "INFO (theano.gof.compilelock): Waiting for existing lock by process '4595' (I am process '4592')\n",
      "INFO (theano.gof.compilelock): To manually release the lock, delete /Users/felixmolter/.theano/compiledir_Darwin-17.7.0-x86_64-i386-64bit-i386-3.6.8-64/lock_dir\n",
      "INFO (theano.gof.compilelock): Waiting for existing lock by process '4595' (I am process '4588')\n",
      "INFO (theano.gof.compilelock): To manually release the lock, delete /Users/felixmolter/.theano/compiledir_Darwin-17.7.0-x86_64-i386-64bit-i386-3.6.8-64/lock_dir\n",
      "INFO (theano.gof.compilelock): Waiting for existing lock by process '4595' (I am process '4590')\n",
      "INFO (theano.gof.compilelock): To manually release the lock, delete /Users/felixmolter/.theano/compiledir_Darwin-17.7.0-x86_64-i386-64bit-i386-3.6.8-64/lock_dir\n",
      "INFO (theano.gof.compilelock): Waiting for existing lock by process '4595' (I am process '4600')\n",
      "INFO (theano.gof.compilelock): To manually release the lock, delete /Users/felixmolter/.theano/compiledir_Darwin-17.7.0-x86_64-i386-64bit-i386-3.6.8-64/lock_dir\n",
      "INFO (theano.gof.compilelock): Waiting for existing lock by process '4595' (I am process '4598')\n",
      "INFO (theano.gof.compilelock): Waiting for existing lock by process '4595' (I am process '4596')\n",
      "INFO (theano.gof.compilelock): Waiting for existing lock by process '4595' (I am process '4599')\n",
      "INFO (theano.gof.compilelock): To manually release the lock, delete /Users/felixmolter/.theano/compiledir_Darwin-17.7.0-x86_64-i386-64bit-i386-3.6.8-64/lock_dir\n",
      "INFO (theano.gof.compilelock): To manually release the lock, delete /Users/felixmolter/.theano/compiledir_Darwin-17.7.0-x86_64-i386-64bit-i386-3.6.8-64/lock_dir\n",
      "INFO (theano.gof.compilelock): To manually release the lock, delete /Users/felixmolter/.theano/compiledir_Darwin-17.7.0-x86_64-i386-64bit-i386-3.6.8-64/lock_dir\n",
      "INFO (theano.gof.compilelock): Waiting for existing lock by process '4595' (I am process '4589')\n",
      "INFO (theano.gof.compilelock): To manually release the lock, delete /Users/felixmolter/.theano/compiledir_Darwin-17.7.0-x86_64-i386-64bit-i386-3.6.8-64/lock_dir\n",
      "INFO (theano.gof.compilelock): Waiting for existing lock by process '4595' (I am process '4593')\n",
      "INFO (theano.gof.compilelock): Waiting for existing lock by process '4595' (I am process '4594')\n",
      "INFO (theano.gof.compilelock): Waiting for existing lock by process '4595' (I am process '4587')\n",
      "INFO (theano.gof.compilelock): Waiting for existing lock by process '4595' (I am process '4597')\n",
      "INFO (theano.gof.compilelock): Waiting for existing lock by process '4595' (I am process '4591')\n",
      "INFO (theano.gof.compilelock): To manually release the lock, delete /Users/felixmolter/.theano/compiledir_Darwin-17.7.0-x86_64-i386-64bit-i386-3.6.8-64/lock_dir\n",
      "INFO (theano.gof.compilelock): To manually release the lock, delete /Users/felixmolter/.theano/compiledir_Darwin-17.7.0-x86_64-i386-64bit-i386-3.6.8-64/lock_dir\n",
      "INFO (theano.gof.compilelock): To manually release the lock, delete /Users/felixmolter/.theano/compiledir_Darwin-17.7.0-x86_64-i386-64bit-i386-3.6.8-64/lock_dir\n",
      "INFO (theano.gof.compilelock): To manually release the lock, delete /Users/felixmolter/.theano/compiledir_Darwin-17.7.0-x86_64-i386-64bit-i386-3.6.8-64/lock_dir\n",
      "INFO (theano.gof.compilelock): To manually release the lock, delete /Users/felixmolter/.theano/compiledir_Darwin-17.7.0-x86_64-i386-64bit-i386-3.6.8-64/lock_dir\n",
      "INFO (theano.gof.compilelock): Waiting for existing lock by process '4595' (I am process '4590')\n",
      "INFO (theano.gof.compilelock): To manually release the lock, delete /Users/felixmolter/.theano/compiledir_Darwin-17.7.0-x86_64-i386-64bit-i386-3.6.8-64/lock_dir\n",
      "INFO (theano.gof.compilelock): Waiting for existing lock by process '4595' (I am process '4600')\n",
      "INFO (theano.gof.compilelock): To manually release the lock, delete /Users/felixmolter/.theano/compiledir_Darwin-17.7.0-x86_64-i386-64bit-i386-3.6.8-64/lock_dir\n",
      "INFO (theano.gof.compilelock): Waiting for existing lock by process '4595' (I am process '4592')\n",
      "INFO (theano.gof.compilelock): To manually release the lock, delete /Users/felixmolter/.theano/compiledir_Darwin-17.7.0-x86_64-i386-64bit-i386-3.6.8-64/lock_dir\n",
      "INFO (theano.gof.compilelock): Waiting for existing lock by process '4595' (I am process '4598')\n",
      "INFO (theano.gof.compilelock): Waiting for existing lock by process '4595' (I am process '4599')\n",
      "INFO (theano.gof.compilelock): Waiting for existing lock by process '4595' (I am process '4596')\n",
      "INFO (theano.gof.compilelock): To manually release the lock, delete /Users/felixmolter/.theano/compiledir_Darwin-17.7.0-x86_64-i386-64bit-i386-3.6.8-64/lock_dir\n",
      "INFO (theano.gof.compilelock): To manually release the lock, delete /Users/felixmolter/.theano/compiledir_Darwin-17.7.0-x86_64-i386-64bit-i386-3.6.8-64/lock_dir\n",
      "INFO (theano.gof.compilelock): To manually release the lock, delete /Users/felixmolter/.theano/compiledir_Darwin-17.7.0-x86_64-i386-64bit-i386-3.6.8-64/lock_dir\n",
      "INFO (theano.gof.compilelock): Waiting for existing lock by process '4595' (I am process '4589')\n",
      "INFO (theano.gof.compilelock): Waiting for existing lock by process '4595' (I am process '4593')\n",
      "INFO (theano.gof.compilelock): To manually release the lock, delete /Users/felixmolter/.theano/compiledir_Darwin-17.7.0-x86_64-i386-64bit-i386-3.6.8-64/lock_dir\n",
      "INFO (theano.gof.compilelock): Waiting for existing lock by process '4595' (I am process '4594')\n",
      "INFO (theano.gof.compilelock): Waiting for existing lock by process '4595' (I am process '4587')\n",
      "INFO (theano.gof.compilelock): To manually release the lock, delete /Users/felixmolter/.theano/compiledir_Darwin-17.7.0-x86_64-i386-64bit-i386-3.6.8-64/lock_dir\n",
      "INFO (theano.gof.compilelock): Waiting for existing lock by process '4595' (I am process '4597')\n",
      "INFO (theano.gof.compilelock): Waiting for existing lock by process '4595' (I am process '4591')\n",
      "INFO (theano.gof.compilelock): To manually release the lock, delete /Users/felixmolter/.theano/compiledir_Darwin-17.7.0-x86_64-i386-64bit-i386-3.6.8-64/lock_dir\n",
      "INFO (theano.gof.compilelock): To manually release the lock, delete /Users/felixmolter/.theano/compiledir_Darwin-17.7.0-x86_64-i386-64bit-i386-3.6.8-64/lock_dir\n",
      "INFO (theano.gof.compilelock): To manually release the lock, delete /Users/felixmolter/.theano/compiledir_Darwin-17.7.0-x86_64-i386-64bit-i386-3.6.8-64/lock_dir\n",
      "INFO (theano.gof.compilelock): To manually release the lock, delete /Users/felixmolter/.theano/compiledir_Darwin-17.7.0-x86_64-i386-64bit-i386-3.6.8-64/lock_dir\n",
      "INFO (theano.gof.compilelock): Waiting for existing lock by process '4595' (I am process '4588')\n",
      "INFO (theano.gof.compilelock): To manually release the lock, delete /Users/felixmolter/.theano/compiledir_Darwin-17.7.0-x86_64-i386-64bit-i386-3.6.8-64/lock_dir\n",
      "INFO (theano.gof.compilelock): Waiting for existing lock by process '4595' (I am process '4590')\n",
      "INFO (theano.gof.compilelock): To manually release the lock, delete /Users/felixmolter/.theano/compiledir_Darwin-17.7.0-x86_64-i386-64bit-i386-3.6.8-64/lock_dir\n"
     ]
    },
    {
     "name": "stderr",
     "output_type": "stream",
     "text": [
      "INFO (theano.gof.compilelock): Waiting for existing lock by process '4595' (I am process '4596')\n",
      "INFO (theano.gof.compilelock): Waiting for existing lock by process '4595' (I am process '4598')\n",
      "INFO (theano.gof.compilelock): Waiting for existing lock by process '4595' (I am process '4599')\n",
      "INFO (theano.gof.compilelock): To manually release the lock, delete /Users/felixmolter/.theano/compiledir_Darwin-17.7.0-x86_64-i386-64bit-i386-3.6.8-64/lock_dir\n",
      "INFO (theano.gof.compilelock): To manually release the lock, delete /Users/felixmolter/.theano/compiledir_Darwin-17.7.0-x86_64-i386-64bit-i386-3.6.8-64/lock_dir\n",
      "INFO (theano.gof.compilelock): To manually release the lock, delete /Users/felixmolter/.theano/compiledir_Darwin-17.7.0-x86_64-i386-64bit-i386-3.6.8-64/lock_dir\n",
      "INFO (theano.gof.compilelock): Waiting for existing lock by process '4595' (I am process '4589')\n",
      "INFO (theano.gof.compilelock): To manually release the lock, delete /Users/felixmolter/.theano/compiledir_Darwin-17.7.0-x86_64-i386-64bit-i386-3.6.8-64/lock_dir\n",
      "INFO (theano.gof.compilelock): Waiting for existing lock by process '4595' (I am process '4593')\n",
      "INFO (theano.gof.compilelock): Waiting for existing lock by process '4595' (I am process '4594')\n",
      "INFO (theano.gof.compilelock): Waiting for existing lock by process '4595' (I am process '4587')\n",
      "INFO (theano.gof.compilelock): Waiting for existing lock by process '4595' (I am process '4597')\n",
      "INFO (theano.gof.compilelock): Waiting for existing lock by process '4595' (I am process '4591')\n",
      "INFO (theano.gof.compilelock): To manually release the lock, delete /Users/felixmolter/.theano/compiledir_Darwin-17.7.0-x86_64-i386-64bit-i386-3.6.8-64/lock_dir\n",
      "INFO (theano.gof.compilelock): To manually release the lock, delete /Users/felixmolter/.theano/compiledir_Darwin-17.7.0-x86_64-i386-64bit-i386-3.6.8-64/lock_dir\n",
      "INFO (theano.gof.compilelock): To manually release the lock, delete /Users/felixmolter/.theano/compiledir_Darwin-17.7.0-x86_64-i386-64bit-i386-3.6.8-64/lock_dir\n",
      "INFO (theano.gof.compilelock): To manually release the lock, delete /Users/felixmolter/.theano/compiledir_Darwin-17.7.0-x86_64-i386-64bit-i386-3.6.8-64/lock_dir\n",
      "INFO (theano.gof.compilelock): To manually release the lock, delete /Users/felixmolter/.theano/compiledir_Darwin-17.7.0-x86_64-i386-64bit-i386-3.6.8-64/lock_dir\n",
      "INFO (theano.gof.compilelock): Waiting for existing lock by process '4595' (I am process '4588')\n",
      "INFO (theano.gof.compilelock): Waiting for existing lock by process '4595' (I am process '4592')\n",
      "INFO (theano.gof.compilelock): To manually release the lock, delete /Users/felixmolter/.theano/compiledir_Darwin-17.7.0-x86_64-i386-64bit-i386-3.6.8-64/lock_dir\n",
      "INFO (theano.gof.compilelock): To manually release the lock, delete /Users/felixmolter/.theano/compiledir_Darwin-17.7.0-x86_64-i386-64bit-i386-3.6.8-64/lock_dir\n",
      "INFO (theano.gof.compilelock): Waiting for existing lock by process '4595' (I am process '4600')\n",
      "INFO (theano.gof.compilelock): To manually release the lock, delete /Users/felixmolter/.theano/compiledir_Darwin-17.7.0-x86_64-i386-64bit-i386-3.6.8-64/lock_dir\n",
      "INFO (theano.gof.compilelock): Waiting for existing lock by process '4595' (I am process '4590')\n",
      "INFO (theano.gof.compilelock): To manually release the lock, delete /Users/felixmolter/.theano/compiledir_Darwin-17.7.0-x86_64-i386-64bit-i386-3.6.8-64/lock_dir\n",
      "INFO (theano.gof.compilelock): Waiting for existing lock by process '4595' (I am process '4599')\n",
      "INFO (theano.gof.compilelock): Waiting for existing lock by process '4595' (I am process '4598')\n",
      "INFO (theano.gof.compilelock): Waiting for existing lock by process '4595' (I am process '4596')\n",
      "INFO (theano.gof.compilelock): To manually release the lock, delete /Users/felixmolter/.theano/compiledir_Darwin-17.7.0-x86_64-i386-64bit-i386-3.6.8-64/lock_dir\n",
      "INFO (theano.gof.compilelock): To manually release the lock, delete /Users/felixmolter/.theano/compiledir_Darwin-17.7.0-x86_64-i386-64bit-i386-3.6.8-64/lock_dir\n",
      "INFO (theano.gof.compilelock): To manually release the lock, delete /Users/felixmolter/.theano/compiledir_Darwin-17.7.0-x86_64-i386-64bit-i386-3.6.8-64/lock_dir\n",
      "INFO (theano.gof.compilelock): Waiting for existing lock by process '4595' (I am process '4589')\n",
      "INFO (theano.gof.compilelock): To manually release the lock, delete /Users/felixmolter/.theano/compiledir_Darwin-17.7.0-x86_64-i386-64bit-i386-3.6.8-64/lock_dir\n",
      "INFO (theano.gof.compilelock): Waiting for existing lock by process '4595' (I am process '4593')\n",
      "INFO (theano.gof.compilelock): Waiting for existing lock by process '4595' (I am process '4594')\n",
      "INFO (theano.gof.compilelock): Waiting for existing lock by process '4595' (I am process '4597')\n",
      "INFO (theano.gof.compilelock): Waiting for existing lock by process '4595' (I am process '4587')\n",
      "INFO (theano.gof.compilelock): Waiting for existing lock by process '4595' (I am process '4591')\n",
      "INFO (theano.gof.compilelock): To manually release the lock, delete /Users/felixmolter/.theano/compiledir_Darwin-17.7.0-x86_64-i386-64bit-i386-3.6.8-64/lock_dir\n",
      "INFO (theano.gof.compilelock): To manually release the lock, delete /Users/felixmolter/.theano/compiledir_Darwin-17.7.0-x86_64-i386-64bit-i386-3.6.8-64/lock_dir\n",
      "INFO (theano.gof.compilelock): To manually release the lock, delete /Users/felixmolter/.theano/compiledir_Darwin-17.7.0-x86_64-i386-64bit-i386-3.6.8-64/lock_dir\n",
      "INFO (theano.gof.compilelock): To manually release the lock, delete /Users/felixmolter/.theano/compiledir_Darwin-17.7.0-x86_64-i386-64bit-i386-3.6.8-64/lock_dir\n",
      "INFO (theano.gof.compilelock): To manually release the lock, delete /Users/felixmolter/.theano/compiledir_Darwin-17.7.0-x86_64-i386-64bit-i386-3.6.8-64/lock_dir\n",
      "INFO (theano.gof.compilelock): Waiting for existing lock by process '4595' (I am process '4592')\n",
      "INFO (theano.gof.compilelock): To manually release the lock, delete /Users/felixmolter/.theano/compiledir_Darwin-17.7.0-x86_64-i386-64bit-i386-3.6.8-64/lock_dir\n",
      "INFO (theano.gof.compilelock): Waiting for existing lock by process '4595' (I am process '4588')\n",
      "INFO (theano.gof.compilelock): To manually release the lock, delete /Users/felixmolter/.theano/compiledir_Darwin-17.7.0-x86_64-i386-64bit-i386-3.6.8-64/lock_dir\n",
      "INFO (theano.gof.compilelock): Waiting for existing lock by process '4595' (I am process '4600')\n",
      "INFO (theano.gof.compilelock): To manually release the lock, delete /Users/felixmolter/.theano/compiledir_Darwin-17.7.0-x86_64-i386-64bit-i386-3.6.8-64/lock_dir\n",
      "INFO (theano.gof.compilelock): Waiting for existing lock by process '4595' (I am process '4590')\n",
      "INFO (theano.gof.compilelock): To manually release the lock, delete /Users/felixmolter/.theano/compiledir_Darwin-17.7.0-x86_64-i386-64bit-i386-3.6.8-64/lock_dir\n",
      "Sequential sampling (2 chains in 1 job)\n",
      "NUTS: [tau, s, gamma, v]\n",
      "INFO (theano.gof.compilelock): Waiting for existing lock by process '4592' (I am process '4600')\n",
      "INFO (theano.gof.compilelock): To manually release the lock, delete /Users/felixmolter/.theano/compiledir_Darwin-17.7.0-x86_64-i386-64bit-i386-3.6.8-64/lock_dir\n",
      "INFO (theano.gof.compilelock): Waiting for existing lock by unknown process (I am process '4596')\n",
      "INFO (theano.gof.compilelock): Waiting for existing lock by unknown process (I am process '4599')\n",
      "INFO (theano.gof.compilelock): To manually release the lock, delete /Users/felixmolter/.theano/compiledir_Darwin-17.7.0-x86_64-i386-64bit-i386-3.6.8-64/lock_dir\n",
      "INFO (theano.gof.compilelock): To manually release the lock, delete /Users/felixmolter/.theano/compiledir_Darwin-17.7.0-x86_64-i386-64bit-i386-3.6.8-64/lock_dir\n",
      "INFO (theano.gof.compilelock): Waiting for existing lock by process '4598' (I am process '4589')\n",
      "INFO (theano.gof.compilelock): To manually release the lock, delete /Users/felixmolter/.theano/compiledir_Darwin-17.7.0-x86_64-i386-64bit-i386-3.6.8-64/lock_dir\n",
      "INFO (theano.gof.compilelock): Waiting for existing lock by process '4598' (I am process '4593')\n",
      "INFO (theano.gof.compilelock): Waiting for existing lock by process '4598' (I am process '4594')\n",
      "INFO (theano.gof.compilelock): To manually release the lock, delete /Users/felixmolter/.theano/compiledir_Darwin-17.7.0-x86_64-i386-64bit-i386-3.6.8-64/lock_dir\n",
      "INFO (theano.gof.compilelock): Waiting for existing lock by process '4598' (I am process '4597')\n"
     ]
    },
    {
     "name": "stderr",
     "output_type": "stream",
     "text": [
      "INFO (theano.gof.compilelock): Waiting for existing lock by process '4598' (I am process '4591')\n",
      "INFO (theano.gof.compilelock): Waiting for existing lock by process '4598' (I am process '4587')\n",
      "INFO (theano.gof.compilelock): To manually release the lock, delete /Users/felixmolter/.theano/compiledir_Darwin-17.7.0-x86_64-i386-64bit-i386-3.6.8-64/lock_dir\n",
      "INFO (theano.gof.compilelock): To manually release the lock, delete /Users/felixmolter/.theano/compiledir_Darwin-17.7.0-x86_64-i386-64bit-i386-3.6.8-64/lock_dir\n",
      "INFO (theano.gof.compilelock): To manually release the lock, delete /Users/felixmolter/.theano/compiledir_Darwin-17.7.0-x86_64-i386-64bit-i386-3.6.8-64/lock_dir\n",
      "INFO (theano.gof.compilelock): To manually release the lock, delete /Users/felixmolter/.theano/compiledir_Darwin-17.7.0-x86_64-i386-64bit-i386-3.6.8-64/lock_dir\n"
     ]
    },
    {
     "name": "stdout",
     "output_type": "stream",
     "text": [
      "Fitting 1 model(s) using MCMC...\n",
      "  Fitting model 1 of 1...\n"
     ]
    },
    {
     "name": "stderr",
     "output_type": "stream",
     "text": [
      "INFO (theano.gof.compilelock): Waiting for existing lock by unknown process (I am process '4596')\n",
      "INFO (theano.gof.compilelock): To manually release the lock, delete /Users/felixmolter/.theano/compiledir_Darwin-17.7.0-x86_64-i386-64bit-i386-3.6.8-64/lock_dir\n",
      "INFO (theano.gof.compilelock): Waiting for existing lock by process '4599' (I am process '4589')\n",
      "INFO (theano.gof.compilelock): To manually release the lock, delete /Users/felixmolter/.theano/compiledir_Darwin-17.7.0-x86_64-i386-64bit-i386-3.6.8-64/lock_dir\n",
      "INFO (theano.gof.compilelock): Waiting for existing lock by process '4599' (I am process '4593')\n",
      "INFO (theano.gof.compilelock): To manually release the lock, delete /Users/felixmolter/.theano/compiledir_Darwin-17.7.0-x86_64-i386-64bit-i386-3.6.8-64/lock_dir\n",
      "INFO (theano.gof.compilelock): Waiting for existing lock by process '4599' (I am process '4594')\n",
      "INFO (theano.gof.compilelock): Waiting for existing lock by process '4599' (I am process '4587')\n",
      "INFO (theano.gof.compilelock): Waiting for existing lock by process '4599' (I am process '4591')\n",
      "INFO (theano.gof.compilelock): Waiting for existing lock by process '4599' (I am process '4597')\n",
      "INFO (theano.gof.compilelock): To manually release the lock, delete /Users/felixmolter/.theano/compiledir_Darwin-17.7.0-x86_64-i386-64bit-i386-3.6.8-64/lock_dir\n",
      "INFO (theano.gof.compilelock): To manually release the lock, delete /Users/felixmolter/.theano/compiledir_Darwin-17.7.0-x86_64-i386-64bit-i386-3.6.8-64/lock_dir\n",
      "INFO (theano.gof.compilelock): To manually release the lock, delete /Users/felixmolter/.theano/compiledir_Darwin-17.7.0-x86_64-i386-64bit-i386-3.6.8-64/lock_dir\n",
      "INFO (theano.gof.compilelock): To manually release the lock, delete /Users/felixmolter/.theano/compiledir_Darwin-17.7.0-x86_64-i386-64bit-i386-3.6.8-64/lock_dir\n"
     ]
    },
    {
     "name": "stdout",
     "output_type": "stream",
     "text": [
      "Fitting 1 model(s) using MCMC...\n",
      "  Fitting model 1 of 1...\n",
      "Fitting 1 model(s) using MCMC...\n",
      "  Fitting model 1 of 1...\n"
     ]
    },
    {
     "name": "stderr",
     "output_type": "stream",
     "text": [
      "INFO (theano.gof.compilelock): Waiting for existing lock by process '4598' (I am process '4590')\n",
      "INFO (theano.gof.compilelock): To manually release the lock, delete /Users/felixmolter/.theano/compiledir_Darwin-17.7.0-x86_64-i386-64bit-i386-3.6.8-64/lock_dir\n",
      "INFO (theano.gof.compilelock): Waiting for existing lock by process '4598' (I am process '4596')\n",
      "INFO (theano.gof.compilelock): To manually release the lock, delete /Users/felixmolter/.theano/compiledir_Darwin-17.7.0-x86_64-i386-64bit-i386-3.6.8-64/lock_dir\n",
      "INFO (theano.gof.compilelock): Waiting for existing lock by process '4598' (I am process '4589')\n",
      "INFO (theano.gof.compilelock): Waiting for existing lock by process '4598' (I am process '4593')\n",
      "INFO (theano.gof.compilelock): To manually release the lock, delete /Users/felixmolter/.theano/compiledir_Darwin-17.7.0-x86_64-i386-64bit-i386-3.6.8-64/lock_dir\n",
      "INFO (theano.gof.compilelock): To manually release the lock, delete /Users/felixmolter/.theano/compiledir_Darwin-17.7.0-x86_64-i386-64bit-i386-3.6.8-64/lock_dir\n",
      "INFO (theano.gof.compilelock): Waiting for existing lock by process '4598' (I am process '4594')\n",
      "INFO (theano.gof.compilelock): Waiting for existing lock by process '4598' (I am process '4597')\n",
      "INFO (theano.gof.compilelock): Waiting for existing lock by process '4598' (I am process '4591')\n",
      "INFO (theano.gof.compilelock): To manually release the lock, delete /Users/felixmolter/.theano/compiledir_Darwin-17.7.0-x86_64-i386-64bit-i386-3.6.8-64/lock_dir\n",
      "INFO (theano.gof.compilelock): Waiting for existing lock by process '4598' (I am process '4587')\n",
      "INFO (theano.gof.compilelock): To manually release the lock, delete /Users/felixmolter/.theano/compiledir_Darwin-17.7.0-x86_64-i386-64bit-i386-3.6.8-64/lock_dir\n",
      "INFO (theano.gof.compilelock): To manually release the lock, delete /Users/felixmolter/.theano/compiledir_Darwin-17.7.0-x86_64-i386-64bit-i386-3.6.8-64/lock_dir\n",
      "INFO (theano.gof.compilelock): To manually release the lock, delete /Users/felixmolter/.theano/compiledir_Darwin-17.7.0-x86_64-i386-64bit-i386-3.6.8-64/lock_dir\n"
     ]
    },
    {
     "name": "stdout",
     "output_type": "stream",
     "text": [
      "Fitting 1 model(s) using MCMC...\n",
      "  Fitting model 1 of 1...\n"
     ]
    },
    {
     "name": "stderr",
     "output_type": "stream",
     "text": [
      "INFO (theano.gof.compilelock): Waiting for existing lock by process '4598' (I am process '4600')\n",
      "INFO (theano.gof.compilelock): To manually release the lock, delete /Users/felixmolter/.theano/compiledir_Darwin-17.7.0-x86_64-i386-64bit-i386-3.6.8-64/lock_dir\n",
      "INFO (theano.gof.compilelock): Waiting for existing lock by process '4598' (I am process '4596')\n",
      "INFO (theano.gof.compilelock): To manually release the lock, delete /Users/felixmolter/.theano/compiledir_Darwin-17.7.0-x86_64-i386-64bit-i386-3.6.8-64/lock_dir\n",
      "INFO (theano.gof.compilelock): Waiting for existing lock by process '4598' (I am process '4589')\n",
      "INFO (theano.gof.compilelock): Waiting for existing lock by process '4598' (I am process '4593')\n",
      "INFO (theano.gof.compilelock): To manually release the lock, delete /Users/felixmolter/.theano/compiledir_Darwin-17.7.0-x86_64-i386-64bit-i386-3.6.8-64/lock_dir\n",
      "INFO (theano.gof.compilelock): To manually release the lock, delete /Users/felixmolter/.theano/compiledir_Darwin-17.7.0-x86_64-i386-64bit-i386-3.6.8-64/lock_dir\n",
      "INFO (theano.gof.compilelock): Waiting for existing lock by process '4598' (I am process '4594')\n",
      "INFO (theano.gof.compilelock): Waiting for existing lock by process '4598' (I am process '4597')\n",
      "INFO (theano.gof.compilelock): Waiting for existing lock by process '4598' (I am process '4587')\n",
      "INFO (theano.gof.compilelock): Waiting for existing lock by process '4598' (I am process '4591')\n",
      "INFO (theano.gof.compilelock): To manually release the lock, delete /Users/felixmolter/.theano/compiledir_Darwin-17.7.0-x86_64-i386-64bit-i386-3.6.8-64/lock_dir\n",
      "INFO (theano.gof.compilelock): To manually release the lock, delete /Users/felixmolter/.theano/compiledir_Darwin-17.7.0-x86_64-i386-64bit-i386-3.6.8-64/lock_dir\n",
      "INFO (theano.gof.compilelock): To manually release the lock, delete /Users/felixmolter/.theano/compiledir_Darwin-17.7.0-x86_64-i386-64bit-i386-3.6.8-64/lock_dir\n",
      "INFO (theano.gof.compilelock): To manually release the lock, delete /Users/felixmolter/.theano/compiledir_Darwin-17.7.0-x86_64-i386-64bit-i386-3.6.8-64/lock_dir\n",
      "INFO (theano.gof.compilelock): Waiting for existing lock by process '4598' (I am process '4590')\n",
      "INFO (theano.gof.compilelock): To manually release the lock, delete /Users/felixmolter/.theano/compiledir_Darwin-17.7.0-x86_64-i386-64bit-i386-3.6.8-64/lock_dir\n",
      "INFO (theano.gof.compilelock): Waiting for existing lock by process '4598' (I am process '4599')\n",
      "INFO (theano.gof.compilelock): To manually release the lock, delete /Users/felixmolter/.theano/compiledir_Darwin-17.7.0-x86_64-i386-64bit-i386-3.6.8-64/lock_dir\n",
      "INFO (theano.gof.compilelock): Waiting for existing lock by process '4590' (I am process '4596')\n",
      "INFO (theano.gof.compilelock): To manually release the lock, delete /Users/felixmolter/.theano/compiledir_Darwin-17.7.0-x86_64-i386-64bit-i386-3.6.8-64/lock_dir\n",
      "INFO (theano.gof.compilelock): Waiting for existing lock by process '4590' (I am process '4589')\n",
      "INFO (theano.gof.compilelock): Waiting for existing lock by process '4590' (I am process '4593')\n",
      "INFO (theano.gof.compilelock): To manually release the lock, delete /Users/felixmolter/.theano/compiledir_Darwin-17.7.0-x86_64-i386-64bit-i386-3.6.8-64/lock_dir\n",
      "INFO (theano.gof.compilelock): To manually release the lock, delete /Users/felixmolter/.theano/compiledir_Darwin-17.7.0-x86_64-i386-64bit-i386-3.6.8-64/lock_dir\n",
      "INFO (theano.gof.compilelock): Waiting for existing lock by process '4590' (I am process '4594')\n",
      "INFO (theano.gof.compilelock): Waiting for existing lock by process '4590' (I am process '4591')\n",
      "INFO (theano.gof.compilelock): Waiting for existing lock by process '4590' (I am process '4597')\n",
      "INFO (theano.gof.compilelock): Waiting for existing lock by process '4590' (I am process '4587')\n",
      "INFO (theano.gof.compilelock): To manually release the lock, delete /Users/felixmolter/.theano/compiledir_Darwin-17.7.0-x86_64-i386-64bit-i386-3.6.8-64/lock_dir\n",
      "INFO (theano.gof.compilelock): To manually release the lock, delete /Users/felixmolter/.theano/compiledir_Darwin-17.7.0-x86_64-i386-64bit-i386-3.6.8-64/lock_dir\n",
      "INFO (theano.gof.compilelock): To manually release the lock, delete /Users/felixmolter/.theano/compiledir_Darwin-17.7.0-x86_64-i386-64bit-i386-3.6.8-64/lock_dir\n",
      "INFO (theano.gof.compilelock): To manually release the lock, delete /Users/felixmolter/.theano/compiledir_Darwin-17.7.0-x86_64-i386-64bit-i386-3.6.8-64/lock_dir\n"
     ]
    },
    {
     "name": "stdout",
     "output_type": "stream",
     "text": [
      "Fitting 1 model(s) using MCMC...\n",
      "  Fitting model 1 of 1...\n"
     ]
    },
    {
     "name": "stderr",
     "output_type": "stream",
     "text": [
      "Sequential sampling (2 chains in 1 job)\n",
      "NUTS: [tau, s, gamma, v]\n",
      "INFO (theano.gof.compilelock): Waiting for existing lock by process '4598' (I am process '4596')\n",
      "INFO (theano.gof.compilelock): To manually release the lock, delete /Users/felixmolter/.theano/compiledir_Darwin-17.7.0-x86_64-i386-64bit-i386-3.6.8-64/lock_dir\n",
      "INFO (theano.gof.compilelock): Waiting for existing lock by process '4598' (I am process '4589')\n",
      "INFO (theano.gof.compilelock): Waiting for existing lock by process '4598' (I am process '4593')\n",
      "INFO (theano.gof.compilelock): To manually release the lock, delete /Users/felixmolter/.theano/compiledir_Darwin-17.7.0-x86_64-i386-64bit-i386-3.6.8-64/lock_dir\n",
      "INFO (theano.gof.compilelock): To manually release the lock, delete /Users/felixmolter/.theano/compiledir_Darwin-17.7.0-x86_64-i386-64bit-i386-3.6.8-64/lock_dir\n",
      "INFO (theano.gof.compilelock): Waiting for existing lock by process '4598' (I am process '4591')\n",
      "INFO (theano.gof.compilelock): Waiting for existing lock by process '4598' (I am process '4594')\n",
      "INFO (theano.gof.compilelock): Waiting for existing lock by process '4598' (I am process '4587')\n",
      "INFO (theano.gof.compilelock): Waiting for existing lock by process '4598' (I am process '4597')\n",
      "INFO (theano.gof.compilelock): To manually release the lock, delete /Users/felixmolter/.theano/compiledir_Darwin-17.7.0-x86_64-i386-64bit-i386-3.6.8-64/lock_dir\n",
      "INFO (theano.gof.compilelock): To manually release the lock, delete /Users/felixmolter/.theano/compiledir_Darwin-17.7.0-x86_64-i386-64bit-i386-3.6.8-64/lock_dir\n",
      "INFO (theano.gof.compilelock): To manually release the lock, delete /Users/felixmolter/.theano/compiledir_Darwin-17.7.0-x86_64-i386-64bit-i386-3.6.8-64/lock_dir\n",
      "INFO (theano.gof.compilelock): To manually release the lock, delete /Users/felixmolter/.theano/compiledir_Darwin-17.7.0-x86_64-i386-64bit-i386-3.6.8-64/lock_dir\n",
      "INFO (theano.gof.compilelock): Waiting for existing lock by process '4598' (I am process '4588')\n",
      "INFO (theano.gof.compilelock): To manually release the lock, delete /Users/felixmolter/.theano/compiledir_Darwin-17.7.0-x86_64-i386-64bit-i386-3.6.8-64/lock_dir\n",
      "INFO (theano.gof.compilelock): Waiting for existing lock by process '4592' (I am process '4600')\n",
      "INFO (theano.gof.compilelock): To manually release the lock, delete /Users/felixmolter/.theano/compiledir_Darwin-17.7.0-x86_64-i386-64bit-i386-3.6.8-64/lock_dir\n",
      "Sequential sampling (2 chains in 1 job)\n",
      "NUTS: [tau, s, gamma, v]\n",
      "INFO (theano.gof.compilelock): Waiting for existing lock by process '4592' (I am process '4596')\n",
      "INFO (theano.gof.compilelock): To manually release the lock, delete /Users/felixmolter/.theano/compiledir_Darwin-17.7.0-x86_64-i386-64bit-i386-3.6.8-64/lock_dir\n",
      "INFO (theano.gof.compilelock): Waiting for existing lock by process '4592' (I am process '4593')\n",
      "INFO (theano.gof.compilelock): Waiting for existing lock by process '4592' (I am process '4589')\n",
      "INFO (theano.gof.compilelock): To manually release the lock, delete /Users/felixmolter/.theano/compiledir_Darwin-17.7.0-x86_64-i386-64bit-i386-3.6.8-64/lock_dir\n",
      "INFO (theano.gof.compilelock): To manually release the lock, delete /Users/felixmolter/.theano/compiledir_Darwin-17.7.0-x86_64-i386-64bit-i386-3.6.8-64/lock_dir\n",
      "INFO (theano.gof.compilelock): Waiting for existing lock by process '4592' (I am process '4591')\n",
      "INFO (theano.gof.compilelock): Waiting for existing lock by process '4592' (I am process '4597')\n",
      "INFO (theano.gof.compilelock): Waiting for existing lock by process '4592' (I am process '4594')\n",
      "INFO (theano.gof.compilelock): Waiting for existing lock by process '4592' (I am process '4587')\n",
      "INFO (theano.gof.compilelock): To manually release the lock, delete /Users/felixmolter/.theano/compiledir_Darwin-17.7.0-x86_64-i386-64bit-i386-3.6.8-64/lock_dir\n",
      "INFO (theano.gof.compilelock): To manually release the lock, delete /Users/felixmolter/.theano/compiledir_Darwin-17.7.0-x86_64-i386-64bit-i386-3.6.8-64/lock_dir\n",
      "INFO (theano.gof.compilelock): To manually release the lock, delete /Users/felixmolter/.theano/compiledir_Darwin-17.7.0-x86_64-i386-64bit-i386-3.6.8-64/lock_dir\n",
      "INFO (theano.gof.compilelock): To manually release the lock, delete /Users/felixmolter/.theano/compiledir_Darwin-17.7.0-x86_64-i386-64bit-i386-3.6.8-64/lock_dir\n",
      "INFO (theano.gof.compilelock): Waiting for existing lock by process '4592' (I am process '4599')\n",
      "INFO (theano.gof.compilelock): To manually release the lock, delete /Users/felixmolter/.theano/compiledir_Darwin-17.7.0-x86_64-i386-64bit-i386-3.6.8-64/lock_dir\n",
      "Sequential sampling (2 chains in 1 job)\n",
      "NUTS: [tau, s, gamma, v]\n",
      "INFO (theano.gof.compilelock): Waiting for existing lock by process '4599' (I am process '4600')\n",
      "INFO (theano.gof.compilelock): To manually release the lock, delete /Users/felixmolter/.theano/compiledir_Darwin-17.7.0-x86_64-i386-64bit-i386-3.6.8-64/lock_dir\n",
      "INFO (theano.gof.compilelock): Waiting for existing lock by process '4596' (I am process '4589')\n",
      "INFO (theano.gof.compilelock): Waiting for existing lock by process '4596' (I am process '4593')\n",
      "INFO (theano.gof.compilelock): To manually release the lock, delete /Users/felixmolter/.theano/compiledir_Darwin-17.7.0-x86_64-i386-64bit-i386-3.6.8-64/lock_dir\n",
      "INFO (theano.gof.compilelock): To manually release the lock, delete /Users/felixmolter/.theano/compiledir_Darwin-17.7.0-x86_64-i386-64bit-i386-3.6.8-64/lock_dir\n",
      "INFO (theano.gof.compilelock): Waiting for existing lock by process '4596' (I am process '4591')\n",
      "INFO (theano.gof.compilelock): Waiting for existing lock by process '4596' (I am process '4594')\n",
      "INFO (theano.gof.compilelock): Waiting for existing lock by process '4596' (I am process '4587')\n",
      "INFO (theano.gof.compilelock): Waiting for existing lock by process '4596' (I am process '4597')\n",
      "INFO (theano.gof.compilelock): To manually release the lock, delete /Users/felixmolter/.theano/compiledir_Darwin-17.7.0-x86_64-i386-64bit-i386-3.6.8-64/lock_dir\n",
      "INFO (theano.gof.compilelock): To manually release the lock, delete /Users/felixmolter/.theano/compiledir_Darwin-17.7.0-x86_64-i386-64bit-i386-3.6.8-64/lock_dir\n",
      "INFO (theano.gof.compilelock): To manually release the lock, delete /Users/felixmolter/.theano/compiledir_Darwin-17.7.0-x86_64-i386-64bit-i386-3.6.8-64/lock_dir\n",
      "INFO (theano.gof.compilelock): To manually release the lock, delete /Users/felixmolter/.theano/compiledir_Darwin-17.7.0-x86_64-i386-64bit-i386-3.6.8-64/lock_dir\n",
      "INFO (theano.gof.compilelock): Waiting for existing lock by process '4596' (I am process '4590')\n",
      "INFO (theano.gof.compilelock): To manually release the lock, delete /Users/felixmolter/.theano/compiledir_Darwin-17.7.0-x86_64-i386-64bit-i386-3.6.8-64/lock_dir\n"
     ]
    },
    {
     "name": "stdout",
     "output_type": "stream",
     "text": [
      "Fitting 1 model(s) using MCMC...\n",
      "  Fitting model 1 of 1...\n"
     ]
    },
    {
     "name": "stderr",
     "output_type": "stream",
     "text": [
      "INFO (theano.gof.compilelock): Waiting for existing lock by process '4599' (I am process '4589')\n",
      "INFO (theano.gof.compilelock): Waiting for existing lock by process '4599' (I am process '4593')\n",
      "INFO (theano.gof.compilelock): To manually release the lock, delete /Users/felixmolter/.theano/compiledir_Darwin-17.7.0-x86_64-i386-64bit-i386-3.6.8-64/lock_dir\n",
      "INFO (theano.gof.compilelock): To manually release the lock, delete /Users/felixmolter/.theano/compiledir_Darwin-17.7.0-x86_64-i386-64bit-i386-3.6.8-64/lock_dir\n",
      "INFO (theano.gof.compilelock): Waiting for existing lock by process '4599' (I am process '4591')\n",
      "INFO (theano.gof.compilelock): Waiting for existing lock by process '4599' (I am process '4594')\n",
      "INFO (theano.gof.compilelock): Waiting for existing lock by process '4599' (I am process '4587')\n",
      "INFO (theano.gof.compilelock): Waiting for existing lock by process '4599' (I am process '4597')\n",
      "INFO (theano.gof.compilelock): To manually release the lock, delete /Users/felixmolter/.theano/compiledir_Darwin-17.7.0-x86_64-i386-64bit-i386-3.6.8-64/lock_dir\n",
      "INFO (theano.gof.compilelock): To manually release the lock, delete /Users/felixmolter/.theano/compiledir_Darwin-17.7.0-x86_64-i386-64bit-i386-3.6.8-64/lock_dir\n",
      "INFO (theano.gof.compilelock): To manually release the lock, delete /Users/felixmolter/.theano/compiledir_Darwin-17.7.0-x86_64-i386-64bit-i386-3.6.8-64/lock_dir\n",
      "INFO (theano.gof.compilelock): To manually release the lock, delete /Users/felixmolter/.theano/compiledir_Darwin-17.7.0-x86_64-i386-64bit-i386-3.6.8-64/lock_dir\n",
      "INFO (theano.gof.compilelock): Waiting for existing lock by process '4599' (I am process '4600')\n",
      "INFO (theano.gof.compilelock): To manually release the lock, delete /Users/felixmolter/.theano/compiledir_Darwin-17.7.0-x86_64-i386-64bit-i386-3.6.8-64/lock_dir\n",
      "Sequential sampling (2 chains in 1 job)\n",
      "NUTS: [tau, s, gamma, v]\n",
      "INFO (theano.gof.compilelock): Waiting for existing lock by process '4590' (I am process '4589')\n",
      "INFO (theano.gof.compilelock): Waiting for existing lock by process '4590' (I am process '4593')\n",
      "INFO (theano.gof.compilelock): To manually release the lock, delete /Users/felixmolter/.theano/compiledir_Darwin-17.7.0-x86_64-i386-64bit-i386-3.6.8-64/lock_dir\n",
      "INFO (theano.gof.compilelock): To manually release the lock, delete /Users/felixmolter/.theano/compiledir_Darwin-17.7.0-x86_64-i386-64bit-i386-3.6.8-64/lock_dir\n",
      "INFO (theano.gof.compilelock): Waiting for existing lock by process '4590' (I am process '4591')\n",
      "INFO (theano.gof.compilelock): Waiting for existing lock by process '4590' (I am process '4587')\n",
      "INFO (theano.gof.compilelock): Waiting for existing lock by process '4590' (I am process '4594')\n",
      "INFO (theano.gof.compilelock): Waiting for existing lock by process '4590' (I am process '4597')\n",
      "INFO (theano.gof.compilelock): To manually release the lock, delete /Users/felixmolter/.theano/compiledir_Darwin-17.7.0-x86_64-i386-64bit-i386-3.6.8-64/lock_dir\n",
      "INFO (theano.gof.compilelock): To manually release the lock, delete /Users/felixmolter/.theano/compiledir_Darwin-17.7.0-x86_64-i386-64bit-i386-3.6.8-64/lock_dir\n",
      "INFO (theano.gof.compilelock): To manually release the lock, delete /Users/felixmolter/.theano/compiledir_Darwin-17.7.0-x86_64-i386-64bit-i386-3.6.8-64/lock_dir\n",
      "INFO (theano.gof.compilelock): To manually release the lock, delete /Users/felixmolter/.theano/compiledir_Darwin-17.7.0-x86_64-i386-64bit-i386-3.6.8-64/lock_dir\n",
      "INFO (theano.gof.compilelock): Waiting for existing lock by process '4590' (I am process '4596')\n",
      "INFO (theano.gof.compilelock): To manually release the lock, delete /Users/felixmolter/.theano/compiledir_Darwin-17.7.0-x86_64-i386-64bit-i386-3.6.8-64/lock_dir\n",
      "Sequential sampling (2 chains in 1 job)\n",
      "NUTS: [tau, s, gamma, v]\n",
      "INFO (theano.gof.compilelock): Waiting for existing lock by unknown process (I am process '4589')\n",
      "INFO (theano.gof.compilelock): To manually release the lock, delete /Users/felixmolter/.theano/compiledir_Darwin-17.7.0-x86_64-i386-64bit-i386-3.6.8-64/lock_dir\n",
      "INFO (theano.gof.compilelock): Waiting for existing lock by process '4593' (I am process '4597')\n",
      "INFO (theano.gof.compilelock): Waiting for existing lock by process '4593' (I am process '4587')\n",
      "INFO (theano.gof.compilelock): Waiting for existing lock by process '4593' (I am process '4594')\n",
      "INFO (theano.gof.compilelock): Waiting for existing lock by process '4593' (I am process '4591')\n",
      "INFO (theano.gof.compilelock): To manually release the lock, delete /Users/felixmolter/.theano/compiledir_Darwin-17.7.0-x86_64-i386-64bit-i386-3.6.8-64/lock_dir\n",
      "INFO (theano.gof.compilelock): To manually release the lock, delete /Users/felixmolter/.theano/compiledir_Darwin-17.7.0-x86_64-i386-64bit-i386-3.6.8-64/lock_dir\n",
      "INFO (theano.gof.compilelock): To manually release the lock, delete /Users/felixmolter/.theano/compiledir_Darwin-17.7.0-x86_64-i386-64bit-i386-3.6.8-64/lock_dir\n",
      "INFO (theano.gof.compilelock): To manually release the lock, delete /Users/felixmolter/.theano/compiledir_Darwin-17.7.0-x86_64-i386-64bit-i386-3.6.8-64/lock_dir\n",
      "INFO (theano.gof.compilelock): Waiting for existing lock by process '4600' (I am process '4596')\n",
      "INFO (theano.gof.compilelock): To manually release the lock, delete /Users/felixmolter/.theano/compiledir_Darwin-17.7.0-x86_64-i386-64bit-i386-3.6.8-64/lock_dir\n",
      "Sequential sampling (2 chains in 1 job)\n",
      "NUTS: [tau, s, gamma, v]\n",
      "INFO (theano.gof.compilelock): Waiting for existing lock by process '4589' (I am process '4594')\n",
      "INFO (theano.gof.compilelock): Waiting for existing lock by process '4589' (I am process '4591')\n",
      "INFO (theano.gof.compilelock): Waiting for existing lock by process '4589' (I am process '4587')\n",
      "INFO (theano.gof.compilelock): Waiting for existing lock by process '4589' (I am process '4597')\n",
      "INFO (theano.gof.compilelock): To manually release the lock, delete /Users/felixmolter/.theano/compiledir_Darwin-17.7.0-x86_64-i386-64bit-i386-3.6.8-64/lock_dir\n",
      "INFO (theano.gof.compilelock): To manually release the lock, delete /Users/felixmolter/.theano/compiledir_Darwin-17.7.0-x86_64-i386-64bit-i386-3.6.8-64/lock_dir\n",
      "INFO (theano.gof.compilelock): To manually release the lock, delete /Users/felixmolter/.theano/compiledir_Darwin-17.7.0-x86_64-i386-64bit-i386-3.6.8-64/lock_dir\n",
      "INFO (theano.gof.compilelock): To manually release the lock, delete /Users/felixmolter/.theano/compiledir_Darwin-17.7.0-x86_64-i386-64bit-i386-3.6.8-64/lock_dir\n",
      "INFO (theano.gof.compilelock): Waiting for existing lock by unknown process (I am process '4591')\n",
      "INFO (theano.gof.compilelock): Waiting for existing lock by unknown process (I am process '4597')\n",
      "INFO (theano.gof.compilelock): Waiting for existing lock by unknown process (I am process '4587')\n",
      "INFO (theano.gof.compilelock): To manually release the lock, delete /Users/felixmolter/.theano/compiledir_Darwin-17.7.0-x86_64-i386-64bit-i386-3.6.8-64/lock_dir\n",
      "INFO (theano.gof.compilelock): To manually release the lock, delete /Users/felixmolter/.theano/compiledir_Darwin-17.7.0-x86_64-i386-64bit-i386-3.6.8-64/lock_dir\n",
      "INFO (theano.gof.compilelock): To manually release the lock, delete /Users/felixmolter/.theano/compiledir_Darwin-17.7.0-x86_64-i386-64bit-i386-3.6.8-64/lock_dir\n",
      "INFO (theano.gof.compilelock): Waiting for existing lock by process '4594' (I am process '4596')\n",
      "INFO (theano.gof.compilelock): To manually release the lock, delete /Users/felixmolter/.theano/compiledir_Darwin-17.7.0-x86_64-i386-64bit-i386-3.6.8-64/lock_dir\n"
     ]
    },
    {
     "name": "stdout",
     "output_type": "stream",
     "text": [
      "Fitting 1 model(s) using MCMC...\n",
      "  Fitting model 1 of 1...\n"
     ]
    },
    {
     "name": "stderr",
     "output_type": "stream",
     "text": [
      "INFO (theano.gof.compilelock): Waiting for existing lock by process '5275' (I am process '4587')\n",
      "INFO (theano.gof.compilelock): Waiting for existing lock by process '5275' (I am process '4591')\n",
      "INFO (theano.gof.compilelock): Waiting for existing lock by process '5275' (I am process '4597')\n",
      "INFO (theano.gof.compilelock): To manually release the lock, delete /Users/felixmolter/.theano/compiledir_Darwin-17.7.0-x86_64-i386-64bit-i386-3.6.8-64/lock_dir\n",
      "INFO (theano.gof.compilelock): To manually release the lock, delete /Users/felixmolter/.theano/compiledir_Darwin-17.7.0-x86_64-i386-64bit-i386-3.6.8-64/lock_dir\n",
      "INFO (theano.gof.compilelock): To manually release the lock, delete /Users/felixmolter/.theano/compiledir_Darwin-17.7.0-x86_64-i386-64bit-i386-3.6.8-64/lock_dir\n",
      "INFO (theano.gof.compilelock): Waiting for existing lock by process '4589' (I am process '4596')\n",
      "INFO (theano.gof.compilelock): To manually release the lock, delete /Users/felixmolter/.theano/compiledir_Darwin-17.7.0-x86_64-i386-64bit-i386-3.6.8-64/lock_dir\n",
      "INFO (theano.gof.compilelock): Waiting for existing lock by process '4589' (I am process '4593')\n",
      "INFO (theano.gof.compilelock): To manually release the lock, delete /Users/felixmolter/.theano/compiledir_Darwin-17.7.0-x86_64-i386-64bit-i386-3.6.8-64/lock_dir\n",
      "INFO (theano.gof.compilelock): Waiting for existing lock by process '4589' (I am process '4594')\n",
      "INFO (theano.gof.compilelock): To manually release the lock, delete /Users/felixmolter/.theano/compiledir_Darwin-17.7.0-x86_64-i386-64bit-i386-3.6.8-64/lock_dir\n"
     ]
    },
    {
     "name": "stdout",
     "output_type": "stream",
     "text": [
      "Fitting 1 model(s) using MCMC...\n",
      "  Fitting model 1 of 1...\n"
     ]
    },
    {
     "name": "stderr",
     "output_type": "stream",
     "text": [
      "INFO (theano.gof.compilelock): Waiting for existing lock by process '4594' (I am process '4587')\n",
      "INFO (theano.gof.compilelock): Waiting for existing lock by process '4594' (I am process '4591')\n",
      "INFO (theano.gof.compilelock): Waiting for existing lock by process '4594' (I am process '4597')\n",
      "INFO (theano.gof.compilelock): To manually release the lock, delete /Users/felixmolter/.theano/compiledir_Darwin-17.7.0-x86_64-i386-64bit-i386-3.6.8-64/lock_dir\n",
      "INFO (theano.gof.compilelock): To manually release the lock, delete /Users/felixmolter/.theano/compiledir_Darwin-17.7.0-x86_64-i386-64bit-i386-3.6.8-64/lock_dir\n",
      "INFO (theano.gof.compilelock): To manually release the lock, delete /Users/felixmolter/.theano/compiledir_Darwin-17.7.0-x86_64-i386-64bit-i386-3.6.8-64/lock_dir\n",
      "INFO (theano.gof.compilelock): Waiting for existing lock by process '4594' (I am process '4593')\n",
      "INFO (theano.gof.compilelock): To manually release the lock, delete /Users/felixmolter/.theano/compiledir_Darwin-17.7.0-x86_64-i386-64bit-i386-3.6.8-64/lock_dir\n"
     ]
    },
    {
     "name": "stdout",
     "output_type": "stream",
     "text": [
      "Fitting 1 model(s) using MCMC...\n",
      "  Fitting model 1 of 1...\n"
     ]
    },
    {
     "name": "stderr",
     "output_type": "stream",
     "text": [
      "INFO (theano.gof.compilelock): Waiting for existing lock by process '5273' (I am process '4593')\n",
      "INFO (theano.gof.compilelock): To manually release the lock, delete /Users/felixmolter/.theano/compiledir_Darwin-17.7.0-x86_64-i386-64bit-i386-3.6.8-64/lock_dir\n",
      "INFO (theano.gof.compilelock): Waiting for existing lock by unknown process (I am process '4591')\n",
      "INFO (theano.gof.compilelock): To manually release the lock, delete /Users/felixmolter/.theano/compiledir_Darwin-17.7.0-x86_64-i386-64bit-i386-3.6.8-64/lock_dir\n",
      "INFO (theano.gof.compilelock): Waiting for existing lock by process '4587' (I am process '4597')\n",
      "INFO (theano.gof.compilelock): To manually release the lock, delete /Users/felixmolter/.theano/compiledir_Darwin-17.7.0-x86_64-i386-64bit-i386-3.6.8-64/lock_dir\n",
      "INFO (theano.gof.compilelock): Waiting for existing lock by process '4587' (I am process '4593')\n",
      "INFO (theano.gof.compilelock): To manually release the lock, delete /Users/felixmolter/.theano/compiledir_Darwin-17.7.0-x86_64-i386-64bit-i386-3.6.8-64/lock_dir\n",
      "Sequential sampling (2 chains in 1 job)\n",
      "NUTS: [tau, s, gamma, v]\n",
      "INFO (theano.gof.compilelock): Waiting for existing lock by process '4596' (I am process '4591')\n",
      "INFO (theano.gof.compilelock): To manually release the lock, delete /Users/felixmolter/.theano/compiledir_Darwin-17.7.0-x86_64-i386-64bit-i386-3.6.8-64/lock_dir\n",
      "INFO (theano.gof.compilelock): Waiting for existing lock by process '4596' (I am process '4597')\n",
      "INFO (theano.gof.compilelock): To manually release the lock, delete /Users/felixmolter/.theano/compiledir_Darwin-17.7.0-x86_64-i386-64bit-i386-3.6.8-64/lock_dir\n"
     ]
    },
    {
     "name": "stdout",
     "output_type": "stream",
     "text": [
      "Fitting 1 model(s) using MCMC...\n",
      "  Fitting model 1 of 1...\n"
     ]
    },
    {
     "name": "stderr",
     "output_type": "stream",
     "text": [
      "INFO (theano.gof.compilelock): Waiting for existing lock by process '4594' (I am process '4589')\n",
      "INFO (theano.gof.compilelock): To manually release the lock, delete /Users/felixmolter/.theano/compiledir_Darwin-17.7.0-x86_64-i386-64bit-i386-3.6.8-64/lock_dir\n",
      "INFO (theano.gof.compilelock): Waiting for existing lock by process '4594' (I am process '4591')\n",
      "INFO (theano.gof.compilelock): Waiting for existing lock by process '4594' (I am process '4597')\n",
      "INFO (theano.gof.compilelock): To manually release the lock, delete /Users/felixmolter/.theano/compiledir_Darwin-17.7.0-x86_64-i386-64bit-i386-3.6.8-64/lock_dir\n",
      "INFO (theano.gof.compilelock): To manually release the lock, delete /Users/felixmolter/.theano/compiledir_Darwin-17.7.0-x86_64-i386-64bit-i386-3.6.8-64/lock_dir\n",
      "INFO (theano.gof.compilelock): Waiting for existing lock by process '5273' (I am process '4587')\n",
      "INFO (theano.gof.compilelock): To manually release the lock, delete /Users/felixmolter/.theano/compiledir_Darwin-17.7.0-x86_64-i386-64bit-i386-3.6.8-64/lock_dir\n",
      "INFO (theano.gof.compilelock): Waiting for existing lock by process '5273' (I am process '4593')\n",
      "INFO (theano.gof.compilelock): To manually release the lock, delete /Users/felixmolter/.theano/compiledir_Darwin-17.7.0-x86_64-i386-64bit-i386-3.6.8-64/lock_dir\n",
      "Sequential sampling (2 chains in 1 job)\n",
      "NUTS: [tau, s, gamma, v]\n",
      "INFO (theano.gof.compilelock): Waiting for existing lock by process '4589' (I am process '4591')\n",
      "INFO (theano.gof.compilelock): Waiting for existing lock by process '4589' (I am process '4597')\n",
      "INFO (theano.gof.compilelock): To manually release the lock, delete /Users/felixmolter/.theano/compiledir_Darwin-17.7.0-x86_64-i386-64bit-i386-3.6.8-64/lock_dir\n",
      "INFO (theano.gof.compilelock): To manually release the lock, delete /Users/felixmolter/.theano/compiledir_Darwin-17.7.0-x86_64-i386-64bit-i386-3.6.8-64/lock_dir\n",
      "INFO (theano.gof.compilelock): Waiting for existing lock by process '5276' (I am process '4587')\n",
      "INFO (theano.gof.compilelock): To manually release the lock, delete /Users/felixmolter/.theano/compiledir_Darwin-17.7.0-x86_64-i386-64bit-i386-3.6.8-64/lock_dir\n",
      "INFO (theano.gof.compilelock): Waiting for existing lock by process '4593' (I am process '4591')\n",
      "INFO (theano.gof.compilelock): Waiting for existing lock by process '4593' (I am process '4597')\n",
      "INFO (theano.gof.compilelock): To manually release the lock, delete /Users/felixmolter/.theano/compiledir_Darwin-17.7.0-x86_64-i386-64bit-i386-3.6.8-64/lock_dir\n",
      "INFO (theano.gof.compilelock): To manually release the lock, delete /Users/felixmolter/.theano/compiledir_Darwin-17.7.0-x86_64-i386-64bit-i386-3.6.8-64/lock_dir\n",
      "INFO (theano.gof.compilelock): Waiting for existing lock by process '4593' (I am process '4594')\n",
      "INFO (theano.gof.compilelock): To manually release the lock, delete /Users/felixmolter/.theano/compiledir_Darwin-17.7.0-x86_64-i386-64bit-i386-3.6.8-64/lock_dir\n",
      "INFO (theano.gof.compilelock): Waiting for existing lock by process '4593' (I am process '4587')\n",
      "INFO (theano.gof.compilelock): To manually release the lock, delete /Users/felixmolter/.theano/compiledir_Darwin-17.7.0-x86_64-i386-64bit-i386-3.6.8-64/lock_dir\n",
      "INFO (theano.gof.compilelock): Waiting for existing lock by process '4594' (I am process '4587')\n",
      "INFO (theano.gof.compilelock): To manually release the lock, delete /Users/felixmolter/.theano/compiledir_Darwin-17.7.0-x86_64-i386-64bit-i386-3.6.8-64/lock_dir\n",
      "INFO (theano.gof.compilelock): Waiting for existing lock by process '4594' (I am process '4591')\n",
      "INFO (theano.gof.compilelock): Waiting for existing lock by process '4594' (I am process '4597')\n",
      "INFO (theano.gof.compilelock): To manually release the lock, delete /Users/felixmolter/.theano/compiledir_Darwin-17.7.0-x86_64-i386-64bit-i386-3.6.8-64/lock_dir\n",
      "INFO (theano.gof.compilelock): To manually release the lock, delete /Users/felixmolter/.theano/compiledir_Darwin-17.7.0-x86_64-i386-64bit-i386-3.6.8-64/lock_dir\n",
      "Sequential sampling (2 chains in 1 job)\n",
      "NUTS: [tau, s, gamma, v]\n",
      "INFO (theano.gof.compilelock): Waiting for existing lock by process '5276' (I am process '4593')\n",
      "INFO (theano.gof.compilelock): To manually release the lock, delete /Users/felixmolter/.theano/compiledir_Darwin-17.7.0-x86_64-i386-64bit-i386-3.6.8-64/lock_dir\n",
      "INFO (theano.gof.compilelock): Waiting for existing lock by process '5276' (I am process '4591')\n",
      "INFO (theano.gof.compilelock): Waiting for existing lock by process '5276' (I am process '4597')\n",
      "INFO (theano.gof.compilelock): To manually release the lock, delete /Users/felixmolter/.theano/compiledir_Darwin-17.7.0-x86_64-i386-64bit-i386-3.6.8-64/lock_dir\n",
      "INFO (theano.gof.compilelock): To manually release the lock, delete /Users/felixmolter/.theano/compiledir_Darwin-17.7.0-x86_64-i386-64bit-i386-3.6.8-64/lock_dir\n",
      "Sequential sampling (2 chains in 1 job)\n",
      "NUTS: [tau, s, gamma, v]\n",
      "The number of effective samples is smaller than 25% for some parameters.\n"
     ]
    },
    {
     "name": "stdout",
     "output_type": "stream",
     "text": [
      "/!\\ Automatically setting parameter precision...\n"
     ]
    },
    {
     "name": "stderr",
     "output_type": "stream",
     "text": [
      "INFO (theano.gof.compilelock): Waiting for existing lock by process '5274' (I am process '4591')\n",
      "INFO (theano.gof.compilelock): Waiting for existing lock by process '5274' (I am process '4597')\n",
      "INFO (theano.gof.compilelock): To manually release the lock, delete /Users/felixmolter/.theano/compiledir_Darwin-17.7.0-x86_64-i386-64bit-i386-3.6.8-64/lock_dir\n",
      "INFO (theano.gof.compilelock): To manually release the lock, delete /Users/felixmolter/.theano/compiledir_Darwin-17.7.0-x86_64-i386-64bit-i386-3.6.8-64/lock_dir\n"
     ]
    },
    {
     "name": "stdout",
     "output_type": "stream",
     "text": [
      "Generating single subject models for 1 subjects...\n"
     ]
    },
    {
     "name": "stderr",
     "output_type": "stream",
     "text": [
      "INFO (theano.gof.compilelock): Waiting for existing lock by process '5274' (I am process '4587')\n",
      "INFO (theano.gof.compilelock): To manually release the lock, delete /Users/felixmolter/.theano/compiledir_Darwin-17.7.0-x86_64-i386-64bit-i386-3.6.8-64/lock_dir\n",
      "INFO (theano.gof.compilelock): Waiting for existing lock by process '5273' (I am process '4591')\n",
      "INFO (theano.gof.compilelock): Waiting for existing lock by process '5273' (I am process '4597')\n",
      "INFO (theano.gof.compilelock): To manually release the lock, delete /Users/felixmolter/.theano/compiledir_Darwin-17.7.0-x86_64-i386-64bit-i386-3.6.8-64/lock_dir\n",
      "INFO (theano.gof.compilelock): To manually release the lock, delete /Users/felixmolter/.theano/compiledir_Darwin-17.7.0-x86_64-i386-64bit-i386-3.6.8-64/lock_dir\n",
      "INFO (theano.gof.compilelock): Waiting for existing lock by process '5273' (I am process '4595')\n",
      "INFO (theano.gof.compilelock): To manually release the lock, delete /Users/felixmolter/.theano/compiledir_Darwin-17.7.0-x86_64-i386-64bit-i386-3.6.8-64/lock_dir\n",
      "INFO (theano.gof.compilelock): Waiting for existing lock by process '5273' (I am process '4587')\n",
      "INFO (theano.gof.compilelock): To manually release the lock, delete /Users/felixmolter/.theano/compiledir_Darwin-17.7.0-x86_64-i386-64bit-i386-3.6.8-64/lock_dir\n",
      "INFO (theano.gof.compilelock): Waiting for existing lock by process '5273' (I am process '4595')\n",
      "INFO (theano.gof.compilelock): To manually release the lock, delete /Users/felixmolter/.theano/compiledir_Darwin-17.7.0-x86_64-i386-64bit-i386-3.6.8-64/lock_dir\n",
      "INFO (theano.gof.compilelock): Waiting for existing lock by process '5273' (I am process '4597')\n",
      "INFO (theano.gof.compilelock): Waiting for existing lock by process '5273' (I am process '4591')\n",
      "INFO (theano.gof.compilelock): To manually release the lock, delete /Users/felixmolter/.theano/compiledir_Darwin-17.7.0-x86_64-i386-64bit-i386-3.6.8-64/lock_dir\n",
      "INFO (theano.gof.compilelock): To manually release the lock, delete /Users/felixmolter/.theano/compiledir_Darwin-17.7.0-x86_64-i386-64bit-i386-3.6.8-64/lock_dir\n",
      "INFO (theano.gof.compilelock): Waiting for existing lock by process '5273' (I am process '4597')\n",
      "INFO (theano.gof.compilelock): Waiting for existing lock by process '5273' (I am process '4591')\n",
      "INFO (theano.gof.compilelock): To manually release the lock, delete /Users/felixmolter/.theano/compiledir_Darwin-17.7.0-x86_64-i386-64bit-i386-3.6.8-64/lock_dir\n",
      "INFO (theano.gof.compilelock): To manually release the lock, delete /Users/felixmolter/.theano/compiledir_Darwin-17.7.0-x86_64-i386-64bit-i386-3.6.8-64/lock_dir\n",
      "INFO (theano.gof.compilelock): Waiting for existing lock by process '5273' (I am process '4595')\n",
      "INFO (theano.gof.compilelock): To manually release the lock, delete /Users/felixmolter/.theano/compiledir_Darwin-17.7.0-x86_64-i386-64bit-i386-3.6.8-64/lock_dir\n",
      "INFO (theano.gof.compilelock): Waiting for existing lock by process '5274' (I am process '4595')\n",
      "INFO (theano.gof.compilelock): To manually release the lock, delete /Users/felixmolter/.theano/compiledir_Darwin-17.7.0-x86_64-i386-64bit-i386-3.6.8-64/lock_dir\n",
      "INFO (theano.gof.compilelock): Waiting for existing lock by process '5273' (I am process '4591')\n",
      "INFO (theano.gof.compilelock): Waiting for existing lock by process '5273' (I am process '4597')\n",
      "INFO (theano.gof.compilelock): To manually release the lock, delete /Users/felixmolter/.theano/compiledir_Darwin-17.7.0-x86_64-i386-64bit-i386-3.6.8-64/lock_dir\n",
      "INFO (theano.gof.compilelock): To manually release the lock, delete /Users/felixmolter/.theano/compiledir_Darwin-17.7.0-x86_64-i386-64bit-i386-3.6.8-64/lock_dir\n",
      "INFO (theano.gof.compilelock): Waiting for existing lock by process '5273' (I am process '4595')\n",
      "INFO (theano.gof.compilelock): To manually release the lock, delete /Users/felixmolter/.theano/compiledir_Darwin-17.7.0-x86_64-i386-64bit-i386-3.6.8-64/lock_dir\n",
      "INFO (theano.gof.compilelock): Waiting for existing lock by process '5273' (I am process '4587')\n",
      "INFO (theano.gof.compilelock): To manually release the lock, delete /Users/felixmolter/.theano/compiledir_Darwin-17.7.0-x86_64-i386-64bit-i386-3.6.8-64/lock_dir\n",
      "INFO (theano.gof.compilelock): Waiting for existing lock by process '5273' (I am process '4597')\n",
      "INFO (theano.gof.compilelock): Waiting for existing lock by process '5273' (I am process '4591')\n",
      "INFO (theano.gof.compilelock): To manually release the lock, delete /Users/felixmolter/.theano/compiledir_Darwin-17.7.0-x86_64-i386-64bit-i386-3.6.8-64/lock_dir\n",
      "INFO (theano.gof.compilelock): To manually release the lock, delete /Users/felixmolter/.theano/compiledir_Darwin-17.7.0-x86_64-i386-64bit-i386-3.6.8-64/lock_dir\n",
      "INFO (theano.gof.compilelock): Waiting for existing lock by process '5273' (I am process '4595')\n",
      "INFO (theano.gof.compilelock): To manually release the lock, delete /Users/felixmolter/.theano/compiledir_Darwin-17.7.0-x86_64-i386-64bit-i386-3.6.8-64/lock_dir\n",
      "INFO (theano.gof.compilelock): Waiting for existing lock by process '5273' (I am process '4587')\n",
      "INFO (theano.gof.compilelock): To manually release the lock, delete /Users/felixmolter/.theano/compiledir_Darwin-17.7.0-x86_64-i386-64bit-i386-3.6.8-64/lock_dir\n"
     ]
    },
    {
     "name": "stdout",
     "output_type": "stream",
     "text": [
      "/!\\ Automatically setting parameter precision...\n",
      "Generating single subject models for 1 subjects...\n"
     ]
    },
    {
     "name": "stderr",
     "output_type": "stream",
     "text": [
      "INFO (theano.gof.compilelock): Waiting for existing lock by process '5273' (I am process '4591')\n",
      "INFO (theano.gof.compilelock): Waiting for existing lock by process '5273' (I am process '4597')\n",
      "INFO (theano.gof.compilelock): To manually release the lock, delete /Users/felixmolter/.theano/compiledir_Darwin-17.7.0-x86_64-i386-64bit-i386-3.6.8-64/lock_dir\n",
      "INFO (theano.gof.compilelock): To manually release the lock, delete /Users/felixmolter/.theano/compiledir_Darwin-17.7.0-x86_64-i386-64bit-i386-3.6.8-64/lock_dir\n",
      "INFO (theano.gof.compilelock): Waiting for existing lock by process '5273' (I am process '4587')\n",
      "INFO (theano.gof.compilelock): To manually release the lock, delete /Users/felixmolter/.theano/compiledir_Darwin-17.7.0-x86_64-i386-64bit-i386-3.6.8-64/lock_dir\n",
      "INFO (theano.gof.compilelock): Waiting for existing lock by process '5273' (I am process '4595')\n",
      "INFO (theano.gof.compilelock): To manually release the lock, delete /Users/felixmolter/.theano/compiledir_Darwin-17.7.0-x86_64-i386-64bit-i386-3.6.8-64/lock_dir\n",
      "INFO (theano.gof.compilelock): Waiting for existing lock by unknown process (I am process '4591')\n",
      "INFO (theano.gof.compilelock): To manually release the lock, delete /Users/felixmolter/.theano/compiledir_Darwin-17.7.0-x86_64-i386-64bit-i386-3.6.8-64/lock_dir\n",
      "INFO (theano.gof.compilelock): Waiting for existing lock by process '4597' (I am process '4592')\n",
      "INFO (theano.gof.compilelock): To manually release the lock, delete /Users/felixmolter/.theano/compiledir_Darwin-17.7.0-x86_64-i386-64bit-i386-3.6.8-64/lock_dir\n",
      "INFO (theano.gof.compilelock): Waiting for existing lock by process '5275' (I am process '4592')\n",
      "INFO (theano.gof.compilelock): To manually release the lock, delete /Users/felixmolter/.theano/compiledir_Darwin-17.7.0-x86_64-i386-64bit-i386-3.6.8-64/lock_dir\n",
      "INFO (theano.gof.compilelock): Waiting for existing lock by process '5275' (I am process '4587')\n",
      "INFO (theano.gof.compilelock): To manually release the lock, delete /Users/felixmolter/.theano/compiledir_Darwin-17.7.0-x86_64-i386-64bit-i386-3.6.8-64/lock_dir\n",
      "INFO (theano.gof.compilelock): Waiting for existing lock by process '5275' (I am process '4591')\n",
      "INFO (theano.gof.compilelock): To manually release the lock, delete /Users/felixmolter/.theano/compiledir_Darwin-17.7.0-x86_64-i386-64bit-i386-3.6.8-64/lock_dir\n",
      "INFO (theano.gof.compilelock): Waiting for existing lock by process '5274' (I am process '4597')\n",
      "INFO (theano.gof.compilelock): To manually release the lock, delete /Users/felixmolter/.theano/compiledir_Darwin-17.7.0-x86_64-i386-64bit-i386-3.6.8-64/lock_dir\n",
      "INFO (theano.gof.compilelock): Waiting for existing lock by process '5274' (I am process '4592')\n",
      "INFO (theano.gof.compilelock): To manually release the lock, delete /Users/felixmolter/.theano/compiledir_Darwin-17.7.0-x86_64-i386-64bit-i386-3.6.8-64/lock_dir\n",
      "INFO (theano.gof.compilelock): Waiting for existing lock by process '5276' (I am process '4587')\n",
      "INFO (theano.gof.compilelock): To manually release the lock, delete /Users/felixmolter/.theano/compiledir_Darwin-17.7.0-x86_64-i386-64bit-i386-3.6.8-64/lock_dir\n",
      "INFO (theano.gof.compilelock): Waiting for existing lock by process '5274' (I am process '4595')\n",
      "INFO (theano.gof.compilelock): To manually release the lock, delete /Users/felixmolter/.theano/compiledir_Darwin-17.7.0-x86_64-i386-64bit-i386-3.6.8-64/lock_dir\n",
      "INFO (theano.gof.compilelock): Waiting for existing lock by process '5274' (I am process '4597')\n",
      "INFO (theano.gof.compilelock): To manually release the lock, delete /Users/felixmolter/.theano/compiledir_Darwin-17.7.0-x86_64-i386-64bit-i386-3.6.8-64/lock_dir\n",
      "INFO (theano.gof.compilelock): Waiting for existing lock by process '5274' (I am process '4591')\n",
      "INFO (theano.gof.compilelock): To manually release the lock, delete /Users/felixmolter/.theano/compiledir_Darwin-17.7.0-x86_64-i386-64bit-i386-3.6.8-64/lock_dir\n"
     ]
    },
    {
     "name": "stdout",
     "output_type": "stream",
     "text": [
      "/!\\ Automatically setting parameter precision...\n",
      "Generating single subject models for 1 subjects...\n"
     ]
    },
    {
     "name": "stderr",
     "output_type": "stream",
     "text": [
      "The acceptance probability does not match the target. It is 0.8823505458965463, but should be close to 0.8. Try to increase the number of tuning steps.\n"
     ]
    },
    {
     "name": "stdout",
     "output_type": "stream",
     "text": [
      "/!\\ Automatically setting parameter precision...\n"
     ]
    },
    {
     "name": "stderr",
     "output_type": "stream",
     "text": [
      "INFO (theano.gof.compilelock): Waiting for existing lock by process '5274' (I am process '4592')\n",
      "INFO (theano.gof.compilelock): To manually release the lock, delete /Users/felixmolter/.theano/compiledir_Darwin-17.7.0-x86_64-i386-64bit-i386-3.6.8-64/lock_dir\n"
     ]
    },
    {
     "name": "stdout",
     "output_type": "stream",
     "text": [
      "Generating single subject models for 1 subjects...\n"
     ]
    },
    {
     "name": "stderr",
     "output_type": "stream",
     "text": [
      "INFO (theano.gof.compilelock): Waiting for existing lock by process '5274' (I am process '4595')\n",
      "INFO (theano.gof.compilelock): To manually release the lock, delete /Users/felixmolter/.theano/compiledir_Darwin-17.7.0-x86_64-i386-64bit-i386-3.6.8-64/lock_dir\n",
      "INFO (theano.gof.compilelock): Waiting for existing lock by process '5274' (I am process '4587')\n",
      "INFO (theano.gof.compilelock): To manually release the lock, delete /Users/felixmolter/.theano/compiledir_Darwin-17.7.0-x86_64-i386-64bit-i386-3.6.8-64/lock_dir\n",
      "INFO (theano.gof.compilelock): Waiting for existing lock by process '5274' (I am process '4597')\n",
      "INFO (theano.gof.compilelock): To manually release the lock, delete /Users/felixmolter/.theano/compiledir_Darwin-17.7.0-x86_64-i386-64bit-i386-3.6.8-64/lock_dir\n",
      "INFO (theano.gof.compilelock): Waiting for existing lock by process '5274' (I am process '4591')\n",
      "INFO (theano.gof.compilelock): To manually release the lock, delete /Users/felixmolter/.theano/compiledir_Darwin-17.7.0-x86_64-i386-64bit-i386-3.6.8-64/lock_dir\n"
     ]
    },
    {
     "name": "stdout",
     "output_type": "stream",
     "text": [
      "/!\\ Automatically setting parameter precision...\n",
      "Generating single subject models for 1 subjects...\n"
     ]
    },
    {
     "name": "stderr",
     "output_type": "stream",
     "text": [
      "INFO (theano.gof.compilelock): Waiting for existing lock by process '5274' (I am process '4588')\n",
      "INFO (theano.gof.compilelock): To manually release the lock, delete /Users/felixmolter/.theano/compiledir_Darwin-17.7.0-x86_64-i386-64bit-i386-3.6.8-64/lock_dir\n",
      "INFO (theano.gof.compilelock): Waiting for existing lock by process '5274' (I am process '4595')\n",
      "INFO (theano.gof.compilelock): To manually release the lock, delete /Users/felixmolter/.theano/compiledir_Darwin-17.7.0-x86_64-i386-64bit-i386-3.6.8-64/lock_dir\n",
      "INFO (theano.gof.compilelock): Waiting for existing lock by process '5274' (I am process '4587')\n",
      "INFO (theano.gof.compilelock): To manually release the lock, delete /Users/felixmolter/.theano/compiledir_Darwin-17.7.0-x86_64-i386-64bit-i386-3.6.8-64/lock_dir\n",
      "INFO (theano.gof.compilelock): Waiting for existing lock by process '5274' (I am process '4598')\n",
      "INFO (theano.gof.compilelock): To manually release the lock, delete /Users/felixmolter/.theano/compiledir_Darwin-17.7.0-x86_64-i386-64bit-i386-3.6.8-64/lock_dir\n",
      "INFO (theano.gof.compilelock): Waiting for existing lock by process '5274' (I am process '4592')\n",
      "INFO (theano.gof.compilelock): To manually release the lock, delete /Users/felixmolter/.theano/compiledir_Darwin-17.7.0-x86_64-i386-64bit-i386-3.6.8-64/lock_dir\n",
      "INFO (theano.gof.compilelock): Waiting for existing lock by process '5274' (I am process '4597')\n",
      "INFO (theano.gof.compilelock): To manually release the lock, delete /Users/felixmolter/.theano/compiledir_Darwin-17.7.0-x86_64-i386-64bit-i386-3.6.8-64/lock_dir\n",
      "INFO (theano.gof.compilelock): Waiting for existing lock by process '5274' (I am process '4588')\n",
      "INFO (theano.gof.compilelock): To manually release the lock, delete /Users/felixmolter/.theano/compiledir_Darwin-17.7.0-x86_64-i386-64bit-i386-3.6.8-64/lock_dir\n",
      "INFO (theano.gof.compilelock): Waiting for existing lock by process '5274' (I am process '4595')\n",
      "INFO (theano.gof.compilelock): To manually release the lock, delete /Users/felixmolter/.theano/compiledir_Darwin-17.7.0-x86_64-i386-64bit-i386-3.6.8-64/lock_dir\n",
      "INFO (theano.gof.compilelock): Waiting for existing lock by process '5274' (I am process '4591')\n",
      "INFO (theano.gof.compilelock): To manually release the lock, delete /Users/felixmolter/.theano/compiledir_Darwin-17.7.0-x86_64-i386-64bit-i386-3.6.8-64/lock_dir\n",
      "INFO (theano.gof.compilelock): Waiting for existing lock by process '5274' (I am process '4592')\n",
      "INFO (theano.gof.compilelock): To manually release the lock, delete /Users/felixmolter/.theano/compiledir_Darwin-17.7.0-x86_64-i386-64bit-i386-3.6.8-64/lock_dir\n",
      "INFO (theano.gof.compilelock): Waiting for existing lock by process '5274' (I am process '4599')\n",
      "INFO (theano.gof.compilelock): To manually release the lock, delete /Users/felixmolter/.theano/compiledir_Darwin-17.7.0-x86_64-i386-64bit-i386-3.6.8-64/lock_dir\n",
      "INFO (theano.gof.compilelock): Waiting for existing lock by process '5274' (I am process '4587')\n",
      "INFO (theano.gof.compilelock): To manually release the lock, delete /Users/felixmolter/.theano/compiledir_Darwin-17.7.0-x86_64-i386-64bit-i386-3.6.8-64/lock_dir\n",
      "INFO (theano.gof.compilelock): Waiting for existing lock by process '5274' (I am process '4598')\n",
      "INFO (theano.gof.compilelock): To manually release the lock, delete /Users/felixmolter/.theano/compiledir_Darwin-17.7.0-x86_64-i386-64bit-i386-3.6.8-64/lock_dir\n",
      "INFO (theano.gof.compilelock): Waiting for existing lock by process '5274' (I am process '4597')\n",
      "INFO (theano.gof.compilelock): To manually release the lock, delete /Users/felixmolter/.theano/compiledir_Darwin-17.7.0-x86_64-i386-64bit-i386-3.6.8-64/lock_dir\n",
      "INFO (theano.gof.compilelock): Waiting for existing lock by process '5274' (I am process '4595')\n",
      "INFO (theano.gof.compilelock): To manually release the lock, delete /Users/felixmolter/.theano/compiledir_Darwin-17.7.0-x86_64-i386-64bit-i386-3.6.8-64/lock_dir\n",
      "INFO (theano.gof.compilelock): Waiting for existing lock by process '5274' (I am process '4588')\n",
      "INFO (theano.gof.compilelock): To manually release the lock, delete /Users/felixmolter/.theano/compiledir_Darwin-17.7.0-x86_64-i386-64bit-i386-3.6.8-64/lock_dir\n",
      "INFO (theano.gof.compilelock): Waiting for existing lock by process '5274' (I am process '4591')\n",
      "INFO (theano.gof.compilelock): To manually release the lock, delete /Users/felixmolter/.theano/compiledir_Darwin-17.7.0-x86_64-i386-64bit-i386-3.6.8-64/lock_dir\n",
      "INFO (theano.gof.compilelock): Waiting for existing lock by process '5274' (I am process '4587')\n",
      "INFO (theano.gof.compilelock): To manually release the lock, delete /Users/felixmolter/.theano/compiledir_Darwin-17.7.0-x86_64-i386-64bit-i386-3.6.8-64/lock_dir\n",
      "INFO (theano.gof.compilelock): Waiting for existing lock by process '5274' (I am process '4599')\n",
      "INFO (theano.gof.compilelock): To manually release the lock, delete /Users/felixmolter/.theano/compiledir_Darwin-17.7.0-x86_64-i386-64bit-i386-3.6.8-64/lock_dir\n",
      "INFO (theano.gof.compilelock): Waiting for existing lock by process '5274' (I am process '4597')\n",
      "INFO (theano.gof.compilelock): To manually release the lock, delete /Users/felixmolter/.theano/compiledir_Darwin-17.7.0-x86_64-i386-64bit-i386-3.6.8-64/lock_dir\n",
      "INFO (theano.gof.compilelock): Waiting for existing lock by process '5274' (I am process '4592')\n",
      "INFO (theano.gof.compilelock): To manually release the lock, delete /Users/felixmolter/.theano/compiledir_Darwin-17.7.0-x86_64-i386-64bit-i386-3.6.8-64/lock_dir\n"
     ]
    },
    {
     "name": "stdout",
     "output_type": "stream",
     "text": [
      "Fitting 1 model(s) using MCMC...\n",
      "  Fitting model 1 of 1...\n",
      "Fitting 1 model(s) using MCMC...\n",
      "  Fitting model 1 of 1...\n"
     ]
    },
    {
     "name": "stderr",
     "output_type": "stream",
     "text": [
      "The number of effective samples is smaller than 25% for some parameters.\n"
     ]
    },
    {
     "name": "stdout",
     "output_type": "stream",
     "text": [
      "/!\\ Automatically setting parameter precision...\n"
     ]
    },
    {
     "name": "stderr",
     "output_type": "stream",
     "text": [
      "INFO (theano.gof.compilelock): Waiting for existing lock by process '5273' (I am process '4599')\n",
      "INFO (theano.gof.compilelock): To manually release the lock, delete /Users/felixmolter/.theano/compiledir_Darwin-17.7.0-x86_64-i386-64bit-i386-3.6.8-64/lock_dir\n",
      "INFO (theano.gof.compilelock): Waiting for existing lock by process '5273' (I am process '4592')\n",
      "INFO (theano.gof.compilelock): To manually release the lock, delete /Users/felixmolter/.theano/compiledir_Darwin-17.7.0-x86_64-i386-64bit-i386-3.6.8-64/lock_dir\n",
      "INFO (theano.gof.compilelock): Waiting for existing lock by process '5273' (I am process '4597')\n",
      "INFO (theano.gof.compilelock): To manually release the lock, delete /Users/felixmolter/.theano/compiledir_Darwin-17.7.0-x86_64-i386-64bit-i386-3.6.8-64/lock_dir\n",
      "INFO (theano.gof.compilelock): Waiting for existing lock by process '5273' (I am process '4591')\n",
      "INFO (theano.gof.compilelock): To manually release the lock, delete /Users/felixmolter/.theano/compiledir_Darwin-17.7.0-x86_64-i386-64bit-i386-3.6.8-64/lock_dir\n"
     ]
    },
    {
     "name": "stdout",
     "output_type": "stream",
     "text": [
      "Generating single subject models for 1 subjects...\n"
     ]
    },
    {
     "name": "stderr",
     "output_type": "stream",
     "text": [
      "INFO (theano.gof.compilelock): Waiting for existing lock by process '5273' (I am process '4587')\n",
      "INFO (theano.gof.compilelock): To manually release the lock, delete /Users/felixmolter/.theano/compiledir_Darwin-17.7.0-x86_64-i386-64bit-i386-3.6.8-64/lock_dir\n",
      "INFO (theano.gof.compilelock): Waiting for existing lock by process '5273' (I am process '4595')\n",
      "INFO (theano.gof.compilelock): To manually release the lock, delete /Users/felixmolter/.theano/compiledir_Darwin-17.7.0-x86_64-i386-64bit-i386-3.6.8-64/lock_dir\n",
      "The number of effective samples is smaller than 25% for some parameters.\n"
     ]
    },
    {
     "name": "stdout",
     "output_type": "stream",
     "text": [
      "/!\\ Automatically setting parameter precision...\n"
     ]
    },
    {
     "name": "stderr",
     "output_type": "stream",
     "text": [
      "INFO (theano.gof.compilelock): Waiting for existing lock by process '5273' (I am process '4598')\n",
      "INFO (theano.gof.compilelock): To manually release the lock, delete /Users/felixmolter/.theano/compiledir_Darwin-17.7.0-x86_64-i386-64bit-i386-3.6.8-64/lock_dir\n",
      "INFO (theano.gof.compilelock): Waiting for existing lock by process '5273' (I am process '4588')\n",
      "INFO (theano.gof.compilelock): To manually release the lock, delete /Users/felixmolter/.theano/compiledir_Darwin-17.7.0-x86_64-i386-64bit-i386-3.6.8-64/lock_dir\n"
     ]
    },
    {
     "name": "stdout",
     "output_type": "stream",
     "text": [
      "Generating single subject models for 1 subjects...\n"
     ]
    },
    {
     "name": "stderr",
     "output_type": "stream",
     "text": [
      "INFO (theano.gof.compilelock): Waiting for existing lock by process '5273' (I am process '4591')\n",
      "INFO (theano.gof.compilelock): To manually release the lock, delete /Users/felixmolter/.theano/compiledir_Darwin-17.7.0-x86_64-i386-64bit-i386-3.6.8-64/lock_dir\n",
      "INFO (theano.gof.compilelock): Waiting for existing lock by process '5273' (I am process '4599')\n",
      "INFO (theano.gof.compilelock): To manually release the lock, delete /Users/felixmolter/.theano/compiledir_Darwin-17.7.0-x86_64-i386-64bit-i386-3.6.8-64/lock_dir\n",
      "INFO (theano.gof.compilelock): Waiting for existing lock by process '5273' (I am process '4587')\n",
      "INFO (theano.gof.compilelock): To manually release the lock, delete /Users/felixmolter/.theano/compiledir_Darwin-17.7.0-x86_64-i386-64bit-i386-3.6.8-64/lock_dir\n",
      "INFO (theano.gof.compilelock): Waiting for existing lock by process '5273' (I am process '4592')\n",
      "INFO (theano.gof.compilelock): To manually release the lock, delete /Users/felixmolter/.theano/compiledir_Darwin-17.7.0-x86_64-i386-64bit-i386-3.6.8-64/lock_dir\n",
      "INFO (theano.gof.compilelock): Waiting for existing lock by process '4597' (I am process '4595')\n",
      "INFO (theano.gof.compilelock): To manually release the lock, delete /Users/felixmolter/.theano/compiledir_Darwin-17.7.0-x86_64-i386-64bit-i386-3.6.8-64/lock_dir\n",
      "INFO (theano.gof.compilelock): Waiting for existing lock by process '4597' (I am process '4598')\n",
      "INFO (theano.gof.compilelock): To manually release the lock, delete /Users/felixmolter/.theano/compiledir_Darwin-17.7.0-x86_64-i386-64bit-i386-3.6.8-64/lock_dir\n",
      "INFO (theano.gof.compilelock): Waiting for existing lock by process '4591' (I am process '4599')\n",
      "INFO (theano.gof.compilelock): To manually release the lock, delete /Users/felixmolter/.theano/compiledir_Darwin-17.7.0-x86_64-i386-64bit-i386-3.6.8-64/lock_dir\n"
     ]
    },
    {
     "name": "stdout",
     "output_type": "stream",
     "text": [
      "Fitting 1 model(s) using MCMC...\n",
      "  Fitting model 1 of 1...\n"
     ]
    },
    {
     "name": "stderr",
     "output_type": "stream",
     "text": [
      "INFO (theano.gof.compilelock): Waiting for existing lock by process '4591' (I am process '4588')\n",
      "INFO (theano.gof.compilelock): To manually release the lock, delete /Users/felixmolter/.theano/compiledir_Darwin-17.7.0-x86_64-i386-64bit-i386-3.6.8-64/lock_dir\n",
      "INFO (theano.gof.compilelock): Waiting for existing lock by process '4591' (I am process '4600')\n",
      "INFO (theano.gof.compilelock): To manually release the lock, delete /Users/felixmolter/.theano/compiledir_Darwin-17.7.0-x86_64-i386-64bit-i386-3.6.8-64/lock_dir\n",
      "INFO (theano.gof.compilelock): Waiting for existing lock by process '4591' (I am process '4587')\n",
      "INFO (theano.gof.compilelock): To manually release the lock, delete /Users/felixmolter/.theano/compiledir_Darwin-17.7.0-x86_64-i386-64bit-i386-3.6.8-64/lock_dir\n",
      "INFO (theano.gof.compilelock): Waiting for existing lock by process '4591' (I am process '4592')\n",
      "INFO (theano.gof.compilelock): To manually release the lock, delete /Users/felixmolter/.theano/compiledir_Darwin-17.7.0-x86_64-i386-64bit-i386-3.6.8-64/lock_dir\n",
      "INFO (theano.gof.compilelock): Waiting for existing lock by process '5275' (I am process '4598')\n",
      "INFO (theano.gof.compilelock): To manually release the lock, delete /Users/felixmolter/.theano/compiledir_Darwin-17.7.0-x86_64-i386-64bit-i386-3.6.8-64/lock_dir\n",
      "INFO (theano.gof.compilelock): Waiting for existing lock by process '5275' (I am process '4595')\n",
      "INFO (theano.gof.compilelock): To manually release the lock, delete /Users/felixmolter/.theano/compiledir_Darwin-17.7.0-x86_64-i386-64bit-i386-3.6.8-64/lock_dir\n"
     ]
    },
    {
     "name": "stdout",
     "output_type": "stream",
     "text": [
      "Fitting 1 model(s) using MCMC...\n",
      "  Fitting model 1 of 1...\n"
     ]
    },
    {
     "name": "stderr",
     "output_type": "stream",
     "text": [
      "INFO (theano.gof.compilelock): Waiting for existing lock by process '4597' (I am process '4600')\n",
      "INFO (theano.gof.compilelock): To manually release the lock, delete /Users/felixmolter/.theano/compiledir_Darwin-17.7.0-x86_64-i386-64bit-i386-3.6.8-64/lock_dir\n",
      "INFO (theano.gof.compilelock): Waiting for existing lock by process '4587' (I am process '4591')\n",
      "INFO (theano.gof.compilelock): To manually release the lock, delete /Users/felixmolter/.theano/compiledir_Darwin-17.7.0-x86_64-i386-64bit-i386-3.6.8-64/lock_dir\n",
      "INFO (theano.gof.compilelock): Waiting for existing lock by process '4587' (I am process '4592')\n",
      "INFO (theano.gof.compilelock): To manually release the lock, delete /Users/felixmolter/.theano/compiledir_Darwin-17.7.0-x86_64-i386-64bit-i386-3.6.8-64/lock_dir\n",
      "INFO (theano.gof.compilelock): Waiting for existing lock by process '4587' (I am process '4590')\n",
      "INFO (theano.gof.compilelock): To manually release the lock, delete /Users/felixmolter/.theano/compiledir_Darwin-17.7.0-x86_64-i386-64bit-i386-3.6.8-64/lock_dir\n",
      "Sequential sampling (2 chains in 1 job)\n",
      "NUTS: [tau, s, gamma, v]\n",
      "INFO (theano.gof.compilelock): Waiting for existing lock by process '4595' (I am process '4598')\n",
      "INFO (theano.gof.compilelock): To manually release the lock, delete /Users/felixmolter/.theano/compiledir_Darwin-17.7.0-x86_64-i386-64bit-i386-3.6.8-64/lock_dir\n",
      "Sequential sampling (2 chains in 1 job)\n",
      "NUTS: [tau, s, gamma, v]\n",
      "INFO (theano.gof.compilelock): Waiting for existing lock by process '5275' (I am process '4588')\n",
      "INFO (theano.gof.compilelock): To manually release the lock, delete /Users/felixmolter/.theano/compiledir_Darwin-17.7.0-x86_64-i386-64bit-i386-3.6.8-64/lock_dir\n",
      "INFO (theano.gof.compilelock): Waiting for existing lock by process '5275' (I am process '4592')\n",
      "INFO (theano.gof.compilelock): To manually release the lock, delete /Users/felixmolter/.theano/compiledir_Darwin-17.7.0-x86_64-i386-64bit-i386-3.6.8-64/lock_dir\n",
      "INFO (theano.gof.compilelock): Waiting for existing lock by process '5275' (I am process '4597')\n",
      "INFO (theano.gof.compilelock): To manually release the lock, delete /Users/felixmolter/.theano/compiledir_Darwin-17.7.0-x86_64-i386-64bit-i386-3.6.8-64/lock_dir\n"
     ]
    },
    {
     "name": "stdout",
     "output_type": "stream",
     "text": [
      "Fitting 1 model(s) using MCMC...\n",
      "  Fitting model 1 of 1...\n"
     ]
    },
    {
     "name": "stderr",
     "output_type": "stream",
     "text": [
      "INFO (theano.gof.compilelock): Waiting for existing lock by process '5276' (I am process '4598')\n",
      "INFO (theano.gof.compilelock): To manually release the lock, delete /Users/felixmolter/.theano/compiledir_Darwin-17.7.0-x86_64-i386-64bit-i386-3.6.8-64/lock_dir\n"
     ]
    },
    {
     "name": "stdout",
     "output_type": "stream",
     "text": [
      "Fitting 1 model(s) using MCMC...\n",
      "  Fitting model 1 of 1...\n"
     ]
    },
    {
     "name": "stderr",
     "output_type": "stream",
     "text": [
      "INFO (theano.gof.compilelock): Waiting for existing lock by process '5276' (I am process '4600')\n",
      "INFO (theano.gof.compilelock): To manually release the lock, delete /Users/felixmolter/.theano/compiledir_Darwin-17.7.0-x86_64-i386-64bit-i386-3.6.8-64/lock_dir\n",
      "The acceptance probability does not match the target. It is 0.6539492214353383, but should be close to 0.8. Try to increase the number of tuning steps.\n"
     ]
    },
    {
     "name": "stdout",
     "output_type": "stream",
     "text": [
      "/!\\ Automatically setting parameter precision...\n",
      "Generating single subject models for 1 subjects...\n"
     ]
    },
    {
     "name": "stderr",
     "output_type": "stream",
     "text": [
      "INFO (theano.gof.compilelock): Waiting for existing lock by process '5276' (I am process '4597')\n",
      "INFO (theano.gof.compilelock): To manually release the lock, delete /Users/felixmolter/.theano/compiledir_Darwin-17.7.0-x86_64-i386-64bit-i386-3.6.8-64/lock_dir\n",
      "INFO (theano.gof.compilelock): Waiting for existing lock by process '5276' (I am process '4587')\n",
      "INFO (theano.gof.compilelock): To manually release the lock, delete /Users/felixmolter/.theano/compiledir_Darwin-17.7.0-x86_64-i386-64bit-i386-3.6.8-64/lock_dir\n",
      "INFO (theano.gof.compilelock): Waiting for existing lock by process '5276' (I am process '4591')\n",
      "INFO (theano.gof.compilelock): To manually release the lock, delete /Users/felixmolter/.theano/compiledir_Darwin-17.7.0-x86_64-i386-64bit-i386-3.6.8-64/lock_dir\n"
     ]
    },
    {
     "name": "stdout",
     "output_type": "stream",
     "text": [
      "Fitting 1 model(s) using MCMC...\n",
      "  Fitting model 1 of 1...\n"
     ]
    },
    {
     "name": "stderr",
     "output_type": "stream",
     "text": [
      "INFO (theano.gof.compilelock): Waiting for existing lock by process '4598' (I am process '4600')\n",
      "INFO (theano.gof.compilelock): To manually release the lock, delete /Users/felixmolter/.theano/compiledir_Darwin-17.7.0-x86_64-i386-64bit-i386-3.6.8-64/lock_dir\n",
      "Sequential sampling (2 chains in 1 job)\n",
      "NUTS: [tau, s, gamma, v]\n"
     ]
    },
    {
     "name": "stdout",
     "output_type": "stream",
     "text": [
      "/!\\ Automatically setting parameter precision...\n",
      "Fitting 1 model(s) using MCMC...\n",
      "  Fitting model 1 of 1...\n",
      "Generating single subject models for 1 subjects...\n",
      "Fitting 1 model(s) using MCMC...\n",
      "  Fitting model 1 of 1...\n",
      "Fitting 1 model(s) using MCMC...\n",
      "  Fitting model 1 of 1...\n",
      "Fitting 1 model(s) using MCMC...\n",
      "  Fitting model 1 of 1...\n"
     ]
    },
    {
     "name": "stderr",
     "output_type": "stream",
     "text": [
      "Sequential sampling (2 chains in 1 job)\n",
      "NUTS: [tau, s, gamma, v]\n",
      "Sequential sampling (2 chains in 1 job)\n",
      "NUTS: [tau, s, gamma, v]\n",
      "INFO (theano.gof.compilelock): Waiting for existing lock by process '5273' (I am process '4597')\n",
      "INFO (theano.gof.compilelock): To manually release the lock, delete /Users/felixmolter/.theano/compiledir_Darwin-17.7.0-x86_64-i386-64bit-i386-3.6.8-64/lock_dir\n",
      "INFO (theano.gof.compilelock): Waiting for existing lock by process '5273' (I am process '4592')\n",
      "INFO (theano.gof.compilelock): To manually release the lock, delete /Users/felixmolter/.theano/compiledir_Darwin-17.7.0-x86_64-i386-64bit-i386-3.6.8-64/lock_dir\n",
      "INFO (theano.gof.compilelock): Waiting for existing lock by process '5273' (I am process '4591')\n",
      "INFO (theano.gof.compilelock): To manually release the lock, delete /Users/felixmolter/.theano/compiledir_Darwin-17.7.0-x86_64-i386-64bit-i386-3.6.8-64/lock_dir\n",
      "INFO (theano.gof.compilelock): Waiting for existing lock by process '5273' (I am process '4588')\n",
      "INFO (theano.gof.compilelock): To manually release the lock, delete /Users/felixmolter/.theano/compiledir_Darwin-17.7.0-x86_64-i386-64bit-i386-3.6.8-64/lock_dir\n",
      "INFO (theano.gof.compilelock): Waiting for existing lock by process '5273' (I am process '4587')\n",
      "INFO (theano.gof.compilelock): To manually release the lock, delete /Users/felixmolter/.theano/compiledir_Darwin-17.7.0-x86_64-i386-64bit-i386-3.6.8-64/lock_dir\n",
      "INFO (theano.gof.compilelock): Waiting for existing lock by process '5273' (I am process '4596')\n",
      "INFO (theano.gof.compilelock): To manually release the lock, delete /Users/felixmolter/.theano/compiledir_Darwin-17.7.0-x86_64-i386-64bit-i386-3.6.8-64/lock_dir\n",
      "INFO (theano.gof.compilelock): Waiting for existing lock by process '5273' (I am process '4592')\n",
      "INFO (theano.gof.compilelock): To manually release the lock, delete /Users/felixmolter/.theano/compiledir_Darwin-17.7.0-x86_64-i386-64bit-i386-3.6.8-64/lock_dir\n"
     ]
    },
    {
     "name": "stdout",
     "output_type": "stream",
     "text": [
      "/!\\ Automatically setting parameter precision...\n"
     ]
    },
    {
     "name": "stderr",
     "output_type": "stream",
     "text": [
      "INFO (theano.gof.compilelock): Waiting for existing lock by process '5273' (I am process '4597')\n",
      "INFO (theano.gof.compilelock): To manually release the lock, delete /Users/felixmolter/.theano/compiledir_Darwin-17.7.0-x86_64-i386-64bit-i386-3.6.8-64/lock_dir\n"
     ]
    },
    {
     "name": "stdout",
     "output_type": "stream",
     "text": [
      "Generating single subject models for 1 subjects...\n"
     ]
    },
    {
     "name": "stderr",
     "output_type": "stream",
     "text": [
      "INFO (theano.gof.compilelock): Waiting for existing lock by process '5273' (I am process '4600')\n",
      "INFO (theano.gof.compilelock): To manually release the lock, delete /Users/felixmolter/.theano/compiledir_Darwin-17.7.0-x86_64-i386-64bit-i386-3.6.8-64/lock_dir\n",
      "INFO (theano.gof.compilelock): Waiting for existing lock by process '5273' (I am process '4587')\n",
      "INFO (theano.gof.compilelock): To manually release the lock, delete /Users/felixmolter/.theano/compiledir_Darwin-17.7.0-x86_64-i386-64bit-i386-3.6.8-64/lock_dir\n",
      "INFO (theano.gof.compilelock): Waiting for existing lock by process '5273' (I am process '4591')\n",
      "INFO (theano.gof.compilelock): To manually release the lock, delete /Users/felixmolter/.theano/compiledir_Darwin-17.7.0-x86_64-i386-64bit-i386-3.6.8-64/lock_dir\n",
      "INFO (theano.gof.compilelock): Waiting for existing lock by process '5273' (I am process '4588')\n",
      "INFO (theano.gof.compilelock): To manually release the lock, delete /Users/felixmolter/.theano/compiledir_Darwin-17.7.0-x86_64-i386-64bit-i386-3.6.8-64/lock_dir\n"
     ]
    },
    {
     "name": "stdout",
     "output_type": "stream",
     "text": [
      "/!\\ Automatically setting parameter precision...\n",
      "Generating single subject models for 1 subjects...\n"
     ]
    },
    {
     "name": "stderr",
     "output_type": "stream",
     "text": [
      "Sequential sampling (2 chains in 1 job)\n",
      "NUTS: [tau, s, gamma, v]\n",
      "INFO (theano.gof.compilelock): Waiting for existing lock by process '4592' (I am process '4589')\n",
      "INFO (theano.gof.compilelock): To manually release the lock, delete /Users/felixmolter/.theano/compiledir_Darwin-17.7.0-x86_64-i386-64bit-i386-3.6.8-64/lock_dir\n",
      "Sequential sampling (2 chains in 1 job)\n",
      "NUTS: [tau, s, gamma, v]\n",
      "Sequential sampling (2 chains in 1 job)\n",
      "NUTS: [tau, s, gamma, v]\n",
      "Sequential sampling (2 chains in 1 job)\n",
      "NUTS: [tau, s, gamma, v]\n",
      "Sequential sampling (2 chains in 1 job)\n",
      "NUTS: [tau, s, gamma, v]\n"
     ]
    },
    {
     "name": "stdout",
     "output_type": "stream",
     "text": [
      "Fitting 1 model(s) using MCMC...\n",
      "  Fitting model 1 of 1...\n",
      "Fitting 1 model(s) using MCMC...\n",
      "  Fitting model 1 of 1...\n"
     ]
    },
    {
     "name": "stderr",
     "output_type": "stream",
     "text": [
      "Sequential sampling (2 chains in 1 job)\n",
      "NUTS: [tau, s, gamma, v]\n",
      "INFO (theano.gof.compilelock): Waiting for existing lock by process '4591' (I am process '4597')\n",
      "INFO (theano.gof.compilelock): To manually release the lock, delete /Users/felixmolter/.theano/compiledir_Darwin-17.7.0-x86_64-i386-64bit-i386-3.6.8-64/lock_dir\n",
      "Sequential sampling (2 chains in 1 job)\n",
      "NUTS: [tau, s, gamma, v]\n",
      "Sequential sampling (2 chains in 1 job)\n",
      "NUTS: [tau, s, gamma, v]\n",
      "Sequential sampling (2 chains in 1 job)\n",
      "NUTS: [tau, s, gamma, v]\n",
      "The acceptance probability does not match the target. It is 0.7137936575468051, but should be close to 0.8. Try to increase the number of tuning steps.\n",
      "The number of effective samples is smaller than 10% for some parameters.\n"
     ]
    },
    {
     "name": "stdout",
     "output_type": "stream",
     "text": [
      "/!\\ Automatically setting parameter precision...\n",
      "Generating single subject models for 1 subjects...\n",
      "Fitting 1 model(s) using MCMC...\n",
      "  Fitting model 1 of 1...\n"
     ]
    },
    {
     "name": "stderr",
     "output_type": "stream",
     "text": [
      "Sequential sampling (2 chains in 1 job)\n",
      "NUTS: [tau, s, gamma, v]\n",
      "The acceptance probability does not match the target. It is 0.8928710851815198, but should be close to 0.8. Try to increase the number of tuning steps.\n"
     ]
    },
    {
     "name": "stdout",
     "output_type": "stream",
     "text": [
      "/!\\ Automatically setting parameter precision...\n",
      "Generating single subject models for 1 subjects...\n",
      "Fitting 1 model(s) using MCMC...\n",
      "  Fitting model 1 of 1...\n",
      "/!\\ Automatically setting parameter precision...\n"
     ]
    },
    {
     "name": "stderr",
     "output_type": "stream",
     "text": [
      "Sequential sampling (2 chains in 1 job)\n",
      "NUTS: [tau, s, gamma, v]\n"
     ]
    },
    {
     "name": "stdout",
     "output_type": "stream",
     "text": [
      "Generating single subject models for 1 subjects...\n",
      "Fitting 1 model(s) using MCMC...\n",
      "  Fitting model 1 of 1...\n",
      "/!\\ Automatically setting parameter precision...\n"
     ]
    },
    {
     "name": "stderr",
     "output_type": "stream",
     "text": [
      "Sequential sampling (2 chains in 1 job)\n",
      "NUTS: [tau, s, gamma, v]\n"
     ]
    },
    {
     "name": "stdout",
     "output_type": "stream",
     "text": [
      "Generating single subject models for 1 subjects...\n",
      "/!\\ Automatically setting parameter precision...\n",
      "Generating single subject models for 1 subjects...\n",
      "Fitting 1 model(s) using MCMC...\n",
      "  Fitting model 1 of 1...\n",
      "Fitting 1 model(s) using MCMC...\n",
      "  Fitting model 1 of 1...\n"
     ]
    },
    {
     "name": "stderr",
     "output_type": "stream",
     "text": [
      "The acceptance probability does not match the target. It is 0.4708945546007427, but should be close to 0.8. Try to increase the number of tuning steps.\n",
      "The acceptance probability does not match the target. It is 0.6631605640479996, but should be close to 0.8. Try to increase the number of tuning steps.\n",
      "The number of effective samples is smaller than 25% for some parameters.\n"
     ]
    },
    {
     "name": "stdout",
     "output_type": "stream",
     "text": [
      "/!\\ Automatically setting parameter precision...\n"
     ]
    },
    {
     "name": "stderr",
     "output_type": "stream",
     "text": [
      "Sequential sampling (2 chains in 1 job)\n",
      "NUTS: [tau, s, gamma, v]\n"
     ]
    },
    {
     "name": "stdout",
     "output_type": "stream",
     "text": [
      "Generating single subject models for 1 subjects...\n",
      "Fitting 1 model(s) using MCMC...\n",
      "  Fitting model 1 of 1...\n",
      "/!\\ Automatically setting parameter precision...\n",
      "Generating single subject models for 1 subjects...\n"
     ]
    },
    {
     "name": "stderr",
     "output_type": "stream",
     "text": [
      "Sequential sampling (2 chains in 1 job)\n",
      "NUTS: [tau, s, gamma, v]\n"
     ]
    },
    {
     "name": "stdout",
     "output_type": "stream",
     "text": [
      "/!\\ Automatically setting parameter precision...\n",
      "Fitting 1 model(s) using MCMC...\n",
      "  Fitting model 1 of 1...\n",
      "Generating single subject models for 1 subjects...\n"
     ]
    },
    {
     "name": "stderr",
     "output_type": "stream",
     "text": [
      "Sequential sampling (2 chains in 1 job)\n",
      "NUTS: [tau, s, gamma, v]\n"
     ]
    },
    {
     "name": "stdout",
     "output_type": "stream",
     "text": [
      "Fitting 1 model(s) using MCMC...\n",
      "  Fitting model 1 of 1...\n"
     ]
    },
    {
     "name": "stderr",
     "output_type": "stream",
     "text": [
      "Sequential sampling (2 chains in 1 job)\n",
      "NUTS: [tau, s, gamma, v]\n"
     ]
    },
    {
     "name": "stdout",
     "output_type": "stream",
     "text": [
      "/!\\ Automatically setting parameter precision...\n",
      "Generating single subject models for 1 subjects...\n"
     ]
    },
    {
     "name": "stderr",
     "output_type": "stream",
     "text": [
      "The acceptance probability does not match the target. It is 0.8803563931465762, but should be close to 0.8. Try to increase the number of tuning steps.\n"
     ]
    },
    {
     "name": "stdout",
     "output_type": "stream",
     "text": [
      "/!\\ Automatically setting parameter precision...\n",
      "Fitting 1 model(s) using MCMC...\n",
      "  Fitting model 1 of 1...\n",
      "Generating single subject models for 1 subjects...\n"
     ]
    },
    {
     "name": "stderr",
     "output_type": "stream",
     "text": [
      "Sequential sampling (2 chains in 1 job)\n",
      "NUTS: [tau, s, gamma, v]\n"
     ]
    },
    {
     "name": "stdout",
     "output_type": "stream",
     "text": [
      "Fitting 1 model(s) using MCMC...\n",
      "  Fitting model 1 of 1...\n"
     ]
    },
    {
     "name": "stderr",
     "output_type": "stream",
     "text": [
      "Sequential sampling (2 chains in 1 job)\n",
      "NUTS: [tau, s, gamma, v]\n",
      "Sequential sampling (2 chains in 1 job)\n",
      "NUTS: [tau, s, gamma, v]\n"
     ]
    },
    {
     "name": "stdout",
     "output_type": "stream",
     "text": [
      "/!\\ Automatically setting parameter precision...\n",
      "/!\\ Automatically setting parameter precision...\n",
      "Generating single subject models for 1 subjects...\n",
      "Generating single subject models for 1 subjects...\n",
      "Fitting 1 model(s) using MCMC...\n",
      "  Fitting model 1 of 1...\n",
      "Fitting 1 model(s) using MCMC...\n",
      "  Fitting model 1 of 1...\n",
      "/!\\ Automatically setting parameter precision...\n",
      "Generating single subject models for 1 subjects...\n",
      "Fitting 1 model(s) using MCMC...\n",
      "  Fitting model 1 of 1...\n"
     ]
    },
    {
     "name": "stderr",
     "output_type": "stream",
     "text": [
      "Sequential sampling (2 chains in 1 job)\n",
      "NUTS: [tau, s, gamma, v]\n",
      "Sequential sampling (2 chains in 1 job)\n",
      "NUTS: [tau, s, gamma, v]\n",
      "Sequential sampling (2 chains in 1 job)\n",
      "NUTS: [tau, s, gamma, v]\n"
     ]
    },
    {
     "name": "stdout",
     "output_type": "stream",
     "text": [
      "/!\\ Automatically setting parameter precision...\n",
      "Generating single subject models for 1 subjects...\n",
      "Fitting 1 model(s) using MCMC...\n",
      "  Fitting model 1 of 1...\n"
     ]
    },
    {
     "name": "stderr",
     "output_type": "stream",
     "text": [
      "Sequential sampling (2 chains in 1 job)\n",
      "NUTS: [tau, s, gamma, v]\n",
      "The acceptance probability does not match the target. It is 0.598819158470778, but should be close to 0.8. Try to increase the number of tuning steps.\n",
      "The acceptance probability does not match the target. It is 0.6939325631610962, but should be close to 0.8. Try to increase the number of tuning steps.\n",
      "The number of effective samples is smaller than 25% for some parameters.\n"
     ]
    },
    {
     "name": "stdout",
     "output_type": "stream",
     "text": [
      "/!\\ Automatically setting parameter precision...\n",
      "Generating single subject models for 1 subjects...\n",
      "Fitting 1 model(s) using MCMC...\n",
      "  Fitting model 1 of 1...\n",
      "/!\\ Automatically setting parameter precision...\n",
      "Generating single subject models for 1 subjects...\n",
      "Fitting 1 model(s) using MCMC...\n",
      "  Fitting model 1 of 1...\n",
      "/!\\ Automatically setting parameter precision...\n"
     ]
    },
    {
     "name": "stderr",
     "output_type": "stream",
     "text": [
      "Sequential sampling (2 chains in 1 job)\n",
      "NUTS: [tau, s, gamma, v]\n"
     ]
    },
    {
     "name": "stdout",
     "output_type": "stream",
     "text": [
      "Generating single subject models for 1 subjects...\n",
      "Fitting 1 model(s) using MCMC...\n",
      "  Fitting model 1 of 1...\n"
     ]
    },
    {
     "name": "stderr",
     "output_type": "stream",
     "text": [
      "Sequential sampling (2 chains in 1 job)\n",
      "NUTS: [tau, s, gamma, v]\n",
      "Sequential sampling (2 chains in 1 job)\n",
      "NUTS: [tau, s, gamma, v]\n",
      "There were 3 divergences after tuning. Increase `target_accept` or reparameterize.\n",
      "There were 4 divergences after tuning. Increase `target_accept` or reparameterize.\n"
     ]
    },
    {
     "name": "stdout",
     "output_type": "stream",
     "text": [
      "/!\\ Automatically setting parameter precision...\n",
      "Generating single subject models for 1 subjects...\n",
      "Fitting 1 model(s) using MCMC...\n",
      "  Fitting model 1 of 1...\n"
     ]
    },
    {
     "name": "stderr",
     "output_type": "stream",
     "text": [
      "Sequential sampling (2 chains in 1 job)\n",
      "NUTS: [tau, s, gamma, v]\n"
     ]
    },
    {
     "name": "stdout",
     "output_type": "stream",
     "text": [
      "/!\\ Automatically setting parameter precision...\n",
      "Generating single subject models for 1 subjects...\n",
      "/!\\ Automatically setting parameter precision...\n",
      "Generating single subject models for 1 subjects...\n",
      "Fitting 1 model(s) using MCMC...\n",
      "  Fitting model 1 of 1...\n",
      "Fitting 1 model(s) using MCMC...\n",
      "  Fitting model 1 of 1...\n",
      "/!\\ Automatically setting parameter precision...\n",
      "Generating single subject models for 1 subjects...\n",
      "Fitting 1 model(s) using MCMC...\n",
      "  Fitting model 1 of 1...\n"
     ]
    },
    {
     "name": "stderr",
     "output_type": "stream",
     "text": [
      "Sequential sampling (2 chains in 1 job)\n",
      "NUTS: [tau, s, gamma, v]\n"
     ]
    },
    {
     "name": "stdout",
     "output_type": "stream",
     "text": [
      "/!\\ Automatically setting parameter precision...\n",
      "Generating single subject models for 1 subjects...\n"
     ]
    },
    {
     "name": "stderr",
     "output_type": "stream",
     "text": [
      "Sequential sampling (2 chains in 1 job)\n",
      "NUTS: [tau, s, gamma, v]\n",
      "Sequential sampling (2 chains in 1 job)\n",
      "NUTS: [tau, s, gamma, v]\n"
     ]
    },
    {
     "name": "stdout",
     "output_type": "stream",
     "text": [
      "Fitting 1 model(s) using MCMC...\n",
      "  Fitting model 1 of 1...\n"
     ]
    },
    {
     "name": "stderr",
     "output_type": "stream",
     "text": [
      "Sequential sampling (2 chains in 1 job)\n",
      "NUTS: [tau, s, gamma, v]\n",
      "The acceptance probability does not match the target. It is 0.5261705789690284, but should be close to 0.8. Try to increase the number of tuning steps.\n",
      "The acceptance probability does not match the target. It is 0.5919430973276679, but should be close to 0.8. Try to increase the number of tuning steps.\n",
      "The number of effective samples is smaller than 25% for some parameters.\n"
     ]
    },
    {
     "name": "stdout",
     "output_type": "stream",
     "text": [
      "/!\\ Automatically setting parameter precision...\n",
      "Generating single subject models for 1 subjects...\n",
      "Fitting 1 model(s) using MCMC...\n",
      "  Fitting model 1 of 1...\n"
     ]
    },
    {
     "name": "stderr",
     "output_type": "stream",
     "text": [
      "Sequential sampling (2 chains in 1 job)\n",
      "NUTS: [tau, s, gamma, v]\n"
     ]
    },
    {
     "name": "stdout",
     "output_type": "stream",
     "text": [
      "/!\\ Automatically setting parameter precision...\n",
      "Generating single subject models for 1 subjects...\n",
      "Fitting 1 model(s) using MCMC...\n",
      "  Fitting model 1 of 1...\n",
      "/!\\ Automatically setting parameter precision...\n",
      "Generating single subject models for 1 subjects...\n",
      "Fitting 1 model(s) using MCMC...\n",
      "  Fitting model 1 of 1...\n"
     ]
    },
    {
     "name": "stderr",
     "output_type": "stream",
     "text": [
      "Sequential sampling (2 chains in 1 job)\n",
      "NUTS: [tau, s, gamma, v]\n",
      "INFO (theano.gof.compilelock): Waiting for existing lock by process '3855' (I am process '4597')\n",
      "INFO (theano.gof.compilelock): To manually release the lock, delete /Users/felixmolter/.theano/compiledir_Darwin-17.7.0-x86_64-i386-64bit-i386-3.6.8-64/lock_dir\n",
      "Sequential sampling (2 chains in 1 job)\n",
      "NUTS: [tau, s, gamma, v]\n"
     ]
    },
    {
     "name": "stdout",
     "output_type": "stream",
     "text": [
      "/!\\ Automatically setting parameter precision...\n",
      "Generating single subject models for 1 subjects...\n",
      "Fitting 1 model(s) using MCMC...\n",
      "  Fitting model 1 of 1...\n",
      "/!\\ Automatically setting parameter precision...\n"
     ]
    },
    {
     "name": "stderr",
     "output_type": "stream",
     "text": [
      "Sequential sampling (2 chains in 1 job)\n",
      "NUTS: [tau, s, gamma, v]\n"
     ]
    },
    {
     "name": "stdout",
     "output_type": "stream",
     "text": [
      "Generating single subject models for 1 subjects...\n",
      "Fitting 1 model(s) using MCMC...\n",
      "  Fitting model 1 of 1...\n"
     ]
    },
    {
     "name": "stderr",
     "output_type": "stream",
     "text": [
      "Sequential sampling (2 chains in 1 job)\n",
      "NUTS: [tau, s, gamma, v]\n"
     ]
    },
    {
     "name": "stdout",
     "output_type": "stream",
     "text": [
      "/!\\ Automatically setting parameter precision...\n",
      "Generating single subject models for 1 subjects...\n",
      "Fitting 1 model(s) using MCMC...\n",
      "  Fitting model 1 of 1...\n"
     ]
    },
    {
     "name": "stderr",
     "output_type": "stream",
     "text": [
      "Sequential sampling (2 chains in 1 job)\n",
      "NUTS: [tau, s, gamma, v]\n"
     ]
    },
    {
     "name": "stdout",
     "output_type": "stream",
     "text": [
      "/!\\ Automatically setting parameter precision...\n",
      "Generating single subject models for 1 subjects...\n",
      "Fitting 1 model(s) using MCMC...\n",
      "  Fitting model 1 of 1...\n",
      "/!\\ Automatically setting parameter precision...\n",
      "Generating single subject models for 1 subjects...\n",
      "Fitting 1 model(s) using MCMC...\n",
      "  Fitting model 1 of 1...\n"
     ]
    },
    {
     "name": "stderr",
     "output_type": "stream",
     "text": [
      "Sequential sampling (2 chains in 1 job)\n",
      "NUTS: [tau, s, gamma, v]\n",
      "Sequential sampling (2 chains in 1 job)\n",
      "NUTS: [tau, s, gamma, v]\n"
     ]
    },
    {
     "name": "stdout",
     "output_type": "stream",
     "text": [
      "/!\\ Automatically setting parameter precision...\n",
      "Generating single subject models for 1 subjects...\n",
      "Fitting 1 model(s) using MCMC...\n",
      "  Fitting model 1 of 1...\n"
     ]
    },
    {
     "name": "stderr",
     "output_type": "stream",
     "text": [
      "There were 18 divergences after tuning. Increase `target_accept` or reparameterize.\n",
      "There were 29 divergences after tuning. Increase `target_accept` or reparameterize.\n"
     ]
    },
    {
     "name": "stdout",
     "output_type": "stream",
     "text": [
      "/!\\ Automatically setting parameter precision...\n",
      "/!\\ Automatically setting parameter precision...\n",
      "Generating single subject models for 1 subjects...\n",
      "Generating single subject models for 1 subjects...\n",
      "Fitting 1 model(s) using MCMC...\n",
      "  Fitting model 1 of 1...\n",
      "Fitting 1 model(s) using MCMC...\n",
      "  Fitting model 1 of 1...\n"
     ]
    },
    {
     "name": "stderr",
     "output_type": "stream",
     "text": [
      "Sequential sampling (2 chains in 1 job)\n",
      "NUTS: [tau, s, gamma, v]\n",
      "Sequential sampling (2 chains in 1 job)\n",
      "NUTS: [tau, s, gamma, v]\n",
      "There was 1 divergence after tuning. Increase `target_accept` or reparameterize.\n"
     ]
    },
    {
     "name": "stdout",
     "output_type": "stream",
     "text": [
      "/!\\ Automatically setting parameter precision...\n",
      "Generating single subject models for 1 subjects...\n",
      "Fitting 1 model(s) using MCMC...\n",
      "  Fitting model 1 of 1...\n"
     ]
    },
    {
     "name": "stderr",
     "output_type": "stream",
     "text": [
      "Sequential sampling (2 chains in 1 job)\n",
      "NUTS: [tau, s, gamma, v]\n",
      "Sequential sampling (2 chains in 1 job)\n",
      "NUTS: [tau, s, gamma, v]\n"
     ]
    },
    {
     "name": "stdout",
     "output_type": "stream",
     "text": [
      "/!\\ Automatically setting parameter precision...\n",
      "Generating single subject models for 1 subjects...\n",
      "/!\\ Automatically setting parameter precision...\n",
      "Fitting 1 model(s) using MCMC...\n",
      "  Fitting model 1 of 1...\n",
      "Generating single subject models for 1 subjects...\n",
      "Fitting 1 model(s) using MCMC...\n",
      "  Fitting model 1 of 1...\n"
     ]
    },
    {
     "name": "stderr",
     "output_type": "stream",
     "text": [
      "Sequential sampling (2 chains in 1 job)\n",
      "NUTS: [tau, s, gamma, v]\n",
      "Sequential sampling (2 chains in 1 job)\n",
      "NUTS: [tau, s, gamma, v]\n"
     ]
    },
    {
     "name": "stdout",
     "output_type": "stream",
     "text": [
      "/!\\ Automatically setting parameter precision...\n",
      "Generating single subject models for 1 subjects...\n",
      "Fitting 1 model(s) using MCMC...\n",
      "  Fitting model 1 of 1...\n"
     ]
    },
    {
     "name": "stderr",
     "output_type": "stream",
     "text": [
      "INFO (theano.gof.compilelock): Waiting for existing lock by process '5274' (I am process '4595')\n",
      "INFO (theano.gof.compilelock): To manually release the lock, delete /Users/felixmolter/.theano/compiledir_Darwin-17.7.0-x86_64-i386-64bit-i386-3.6.8-64/lock_dir\n",
      "Sequential sampling (2 chains in 1 job)\n",
      "NUTS: [tau, s, gamma, v]\n",
      "There were 5 divergences after tuning. Increase `target_accept` or reparameterize.\n",
      "There were 9 divergences after tuning. Increase `target_accept` or reparameterize.\n"
     ]
    },
    {
     "name": "stdout",
     "output_type": "stream",
     "text": [
      "/!\\ Automatically setting parameter precision...\n",
      "Generating single subject models for 1 subjects...\n",
      "Fitting 1 model(s) using MCMC...\n",
      "  Fitting model 1 of 1...\n",
      "/!\\ Automatically setting parameter precision...\n",
      "Generating single subject models for 1 subjects...\n",
      "Fitting 1 model(s) using MCMC...\n",
      "  Fitting model 1 of 1...\n"
     ]
    },
    {
     "name": "stderr",
     "output_type": "stream",
     "text": [
      "Sequential sampling (2 chains in 1 job)\n",
      "NUTS: [tau, s, gamma, v]\n",
      "Sequential sampling (2 chains in 1 job)\n",
      "NUTS: [tau, s, gamma, v]\n"
     ]
    },
    {
     "name": "stdout",
     "output_type": "stream",
     "text": [
      "/!\\ Automatically setting parameter precision...\n",
      "Generating single subject models for 1 subjects...\n",
      "Fitting 1 model(s) using MCMC...\n",
      "  Fitting model 1 of 1...\n",
      "/!\\ Automatically setting parameter precision...\n",
      "Generating single subject models for 1 subjects...\n",
      "Fitting 1 model(s) using MCMC...\n",
      "  Fitting model 1 of 1...\n"
     ]
    },
    {
     "name": "stderr",
     "output_type": "stream",
     "text": [
      "Sequential sampling (2 chains in 1 job)\n",
      "NUTS: [tau, s, gamma, v]\n",
      "Sequential sampling (2 chains in 1 job)\n",
      "NUTS: [tau, s, gamma, v]\n"
     ]
    },
    {
     "name": "stdout",
     "output_type": "stream",
     "text": [
      "/!\\ Automatically setting parameter precision...\n",
      "Generating single subject models for 1 subjects...\n",
      "Fitting 1 model(s) using MCMC...\n",
      "  Fitting model 1 of 1...\n"
     ]
    },
    {
     "name": "stderr",
     "output_type": "stream",
     "text": [
      "There were 4 divergences after tuning. Increase `target_accept` or reparameterize.\n",
      "There were 6 divergences after tuning. Increase `target_accept` or reparameterize.\n"
     ]
    },
    {
     "name": "stdout",
     "output_type": "stream",
     "text": [
      "/!\\ Automatically setting parameter precision...\n",
      "Generating single subject models for 1 subjects...\n",
      "Fitting 1 model(s) using MCMC...\n",
      "  Fitting model 1 of 1...\n"
     ]
    },
    {
     "name": "stderr",
     "output_type": "stream",
     "text": [
      "Sequential sampling (2 chains in 1 job)\n",
      "NUTS: [tau, s, gamma, v]\n",
      "Sequential sampling (2 chains in 1 job)\n",
      "NUTS: [tau, s, gamma, v]\n",
      "There was 1 divergence after tuning. Increase `target_accept` or reparameterize.\n",
      "There was 1 divergence after tuning. Increase `target_accept` or reparameterize.\n"
     ]
    },
    {
     "name": "stdout",
     "output_type": "stream",
     "text": [
      "/!\\ Automatically setting parameter precision...\n",
      "Generating single subject models for 1 subjects...\n",
      "Fitting 1 model(s) using MCMC...\n",
      "  Fitting model 1 of 1...\n"
     ]
    },
    {
     "name": "stderr",
     "output_type": "stream",
     "text": [
      "Sequential sampling (2 chains in 1 job)\n",
      "NUTS: [tau, s, gamma, v]\n"
     ]
    },
    {
     "name": "stdout",
     "output_type": "stream",
     "text": [
      "/!\\ Automatically setting parameter precision...\n",
      "/!\\ Automatically setting parameter precision...\n",
      "Generating single subject models for 1 subjects...\n",
      "Generating single subject models for 1 subjects...\n",
      "Fitting 1 model(s) using MCMC...\n",
      "  Fitting model 1 of 1...\n",
      "Fitting 1 model(s) using MCMC...\n",
      "  Fitting model 1 of 1...\n"
     ]
    },
    {
     "name": "stderr",
     "output_type": "stream",
     "text": [
      "Sequential sampling (2 chains in 1 job)\n",
      "NUTS: [tau, s, gamma, v]\n",
      "Sequential sampling (2 chains in 1 job)\n",
      "NUTS: [tau, s, gamma, v]\n"
     ]
    },
    {
     "name": "stdout",
     "output_type": "stream",
     "text": [
      "/!\\ Automatically setting parameter precision...\n",
      "Generating single subject models for 1 subjects...\n",
      "Fitting 1 model(s) using MCMC...\n",
      "  Fitting model 1 of 1...\n"
     ]
    },
    {
     "name": "stderr",
     "output_type": "stream",
     "text": [
      "Sequential sampling (2 chains in 1 job)\n",
      "NUTS: [tau, s, gamma, v]\n"
     ]
    },
    {
     "name": "stdout",
     "output_type": "stream",
     "text": [
      "/!\\ Automatically setting parameter precision...\n",
      "Generating single subject models for 1 subjects...\n",
      "Fitting 1 model(s) using MCMC...\n",
      "  Fitting model 1 of 1...\n"
     ]
    },
    {
     "name": "stderr",
     "output_type": "stream",
     "text": [
      "Sequential sampling (2 chains in 1 job)\n",
      "NUTS: [tau, s, gamma, v]\n"
     ]
    },
    {
     "name": "stdout",
     "output_type": "stream",
     "text": [
      "/!\\ Automatically setting parameter precision...\n",
      "Generating single subject models for 1 subjects...\n"
     ]
    },
    {
     "name": "stderr",
     "output_type": "stream",
     "text": [
      "There were 38 divergences after tuning. Increase `target_accept` or reparameterize.\n",
      "There were 72 divergences after tuning. Increase `target_accept` or reparameterize.\n"
     ]
    },
    {
     "name": "stdout",
     "output_type": "stream",
     "text": [
      "/!\\ Automatically setting parameter precision...\n",
      "Generating single subject models for 1 subjects...\n",
      "Fitting 1 model(s) using MCMC...\n",
      "  Fitting model 1 of 1...\n"
     ]
    },
    {
     "name": "stderr",
     "output_type": "stream",
     "text": [
      "There were 127 divergences after tuning. Increase `target_accept` or reparameterize.\n",
      "There were 256 divergences after tuning. Increase `target_accept` or reparameterize.\n"
     ]
    },
    {
     "name": "stdout",
     "output_type": "stream",
     "text": [
      "/!\\ Automatically setting parameter precision...\n",
      "Generating single subject models for 1 subjects...\n",
      "Fitting 1 model(s) using MCMC...\n",
      "  Fitting model 1 of 1...\n",
      "Fitting 1 model(s) using MCMC...\n",
      "  Fitting model 1 of 1...\n"
     ]
    },
    {
     "name": "stderr",
     "output_type": "stream",
     "text": [
      "Sequential sampling (2 chains in 1 job)\n",
      "NUTS: [tau, s, gamma, v]\n",
      "Sequential sampling (2 chains in 1 job)\n",
      "NUTS: [tau, s, gamma, v]\n",
      "Sequential sampling (2 chains in 1 job)\n",
      "NUTS: [tau, s, gamma, v]\n"
     ]
    },
    {
     "name": "stdout",
     "output_type": "stream",
     "text": [
      "/!\\ Automatically setting parameter precision...\n",
      "Generating single subject models for 1 subjects...\n",
      "Fitting 1 model(s) using MCMC...\n",
      "  Fitting model 1 of 1...\n"
     ]
    },
    {
     "name": "stderr",
     "output_type": "stream",
     "text": [
      "Sequential sampling (2 chains in 1 job)\n",
      "NUTS: [tau, s, gamma, v]\n"
     ]
    },
    {
     "name": "stdout",
     "output_type": "stream",
     "text": [
      "/!\\ Automatically setting parameter precision...\n",
      "Generating single subject models for 1 subjects...\n",
      "Fitting 1 model(s) using MCMC...\n",
      "  Fitting model 1 of 1...\n"
     ]
    },
    {
     "name": "stderr",
     "output_type": "stream",
     "text": [
      "Sequential sampling (2 chains in 1 job)\n",
      "NUTS: [tau, s, gamma, v]\n",
      "There were 9 divergences after tuning. Increase `target_accept` or reparameterize.\n",
      "The acceptance probability does not match the target. It is 0.8818231552826952, but should be close to 0.8. Try to increase the number of tuning steps.\n",
      "There were 39 divergences after tuning. Increase `target_accept` or reparameterize.\n"
     ]
    },
    {
     "name": "stdout",
     "output_type": "stream",
     "text": [
      "/!\\ Automatically setting parameter precision...\n",
      "Generating single subject models for 1 subjects...\n",
      "Fitting 1 model(s) using MCMC...\n",
      "  Fitting model 1 of 1...\n"
     ]
    },
    {
     "name": "stderr",
     "output_type": "stream",
     "text": [
      "Sequential sampling (2 chains in 1 job)\n",
      "NUTS: [tau, s, gamma, v]\n"
     ]
    },
    {
     "name": "stdout",
     "output_type": "stream",
     "text": [
      "/!\\ Automatically setting parameter precision...\n",
      "Generating single subject models for 1 subjects...\n",
      "Fitting 1 model(s) using MCMC...\n",
      "  Fitting model 1 of 1...\n",
      "/!\\ Automatically setting parameter precision...\n",
      "Generating single subject models for 1 subjects...\n"
     ]
    },
    {
     "name": "stderr",
     "output_type": "stream",
     "text": [
      "Sequential sampling (2 chains in 1 job)\n",
      "NUTS: [tau, s, gamma, v]\n"
     ]
    },
    {
     "name": "stdout",
     "output_type": "stream",
     "text": [
      "Fitting 1 model(s) using MCMC...\n",
      "  Fitting model 1 of 1...\n"
     ]
    },
    {
     "name": "stderr",
     "output_type": "stream",
     "text": [
      "Sequential sampling (2 chains in 1 job)\n",
      "NUTS: [tau, s, gamma, v]\n"
     ]
    },
    {
     "name": "stdout",
     "output_type": "stream",
     "text": [
      "/!\\ Automatically setting parameter precision...\n",
      "Generating single subject models for 1 subjects...\n",
      "Fitting 1 model(s) using MCMC...\n",
      "  Fitting model 1 of 1...\n"
     ]
    },
    {
     "name": "stderr",
     "output_type": "stream",
     "text": [
      "Sequential sampling (2 chains in 1 job)\n",
      "NUTS: [tau, s, gamma, v]\n"
     ]
    },
    {
     "name": "stdout",
     "output_type": "stream",
     "text": [
      "/!\\ Automatically setting parameter precision...\n",
      "/!\\ Automatically setting parameter precision...\n",
      "Generating single subject models for 1 subjects...\n",
      "Generating single subject models for 1 subjects...\n",
      "Fitting 1 model(s) using MCMC...\n",
      "  Fitting model 1 of 1...\n",
      "Fitting 1 model(s) using MCMC...\n",
      "  Fitting model 1 of 1...\n"
     ]
    },
    {
     "name": "stderr",
     "output_type": "stream",
     "text": [
      "Sequential sampling (2 chains in 1 job)\n",
      "NUTS: [tau, s, gamma, v]\n",
      "Sequential sampling (2 chains in 1 job)\n",
      "NUTS: [tau, s, gamma, v]\n",
      "The acceptance probability does not match the target. It is 0.6640514462550816, but should be close to 0.8. Try to increase the number of tuning steps.\n"
     ]
    },
    {
     "name": "stdout",
     "output_type": "stream",
     "text": [
      "/!\\ Automatically setting parameter precision...\n",
      "Generating single subject models for 1 subjects...\n",
      "Fitting 1 model(s) using MCMC...\n",
      "  Fitting model 1 of 1...\n"
     ]
    },
    {
     "name": "stderr",
     "output_type": "stream",
     "text": [
      "Sequential sampling (2 chains in 1 job)\n",
      "NUTS: [tau, s, gamma, v]\n"
     ]
    },
    {
     "name": "stdout",
     "output_type": "stream",
     "text": [
      "/!\\ Automatically setting parameter precision...\n",
      "Generating single subject models for 1 subjects...\n",
      "Fitting 1 model(s) using MCMC...\n",
      "  Fitting model 1 of 1...\n"
     ]
    },
    {
     "name": "stderr",
     "output_type": "stream",
     "text": [
      "Sequential sampling (2 chains in 1 job)\n",
      "NUTS: [tau, s, gamma, v]\n"
     ]
    },
    {
     "name": "stdout",
     "output_type": "stream",
     "text": [
      "/!\\ Automatically setting parameter precision...\n",
      "Generating single subject models for 1 subjects...\n",
      "Fitting 1 model(s) using MCMC...\n",
      "  Fitting model 1 of 1...\n"
     ]
    },
    {
     "name": "stderr",
     "output_type": "stream",
     "text": [
      "Sequential sampling (2 chains in 1 job)\n",
      "NUTS: [tau, s, gamma, v]\n",
      "There were 7 divergences after tuning. Increase `target_accept` or reparameterize.\n",
      "There were 9 divergences after tuning. Increase `target_accept` or reparameterize.\n"
     ]
    },
    {
     "name": "stdout",
     "output_type": "stream",
     "text": [
      "/!\\ Automatically setting parameter precision...\n",
      "Generating single subject models for 1 subjects...\n",
      "Fitting 1 model(s) using MCMC...\n",
      "  Fitting model 1 of 1...\n",
      "/!\\ Automatically setting parameter precision...\n",
      "Generating single subject models for 1 subjects...\n"
     ]
    },
    {
     "name": "stderr",
     "output_type": "stream",
     "text": [
      "Sequential sampling (2 chains in 1 job)\n",
      "NUTS: [tau, s, gamma, v]\n"
     ]
    },
    {
     "name": "stdout",
     "output_type": "stream",
     "text": [
      "Fitting 1 model(s) using MCMC...\n",
      "  Fitting model 1 of 1...\n"
     ]
    },
    {
     "name": "stderr",
     "output_type": "stream",
     "text": [
      "Sequential sampling (2 chains in 1 job)\n",
      "NUTS: [tau, s, gamma, v]\n"
     ]
    },
    {
     "name": "stdout",
     "output_type": "stream",
     "text": [
      "/!\\ Automatically setting parameter precision...\n",
      "Generating single subject models for 1 subjects...\n",
      "Fitting 1 model(s) using MCMC...\n",
      "  Fitting model 1 of 1...\n"
     ]
    },
    {
     "name": "stderr",
     "output_type": "stream",
     "text": [
      "Sequential sampling (2 chains in 1 job)\n",
      "NUTS: [tau, s, gamma, v]\n",
      "There were 41 divergences after tuning. Increase `target_accept` or reparameterize.\n",
      "There were 83 divergences after tuning. Increase `target_accept` or reparameterize.\n"
     ]
    },
    {
     "name": "stdout",
     "output_type": "stream",
     "text": [
      "/!\\ Automatically setting parameter precision...\n",
      "Generating single subject models for 1 subjects...\n",
      "Fitting 1 model(s) using MCMC...\n",
      "  Fitting model 1 of 1...\n"
     ]
    },
    {
     "name": "stderr",
     "output_type": "stream",
     "text": [
      "Sequential sampling (2 chains in 1 job)\n",
      "NUTS: [tau, s, gamma, v]\n",
      "There were 2 divergences after tuning. Increase `target_accept` or reparameterize.\n",
      "There were 7 divergences after tuning. Increase `target_accept` or reparameterize.\n"
     ]
    },
    {
     "name": "stdout",
     "output_type": "stream",
     "text": [
      "/!\\ Automatically setting parameter precision...\n",
      "Generating single subject models for 1 subjects...\n",
      "Fitting 1 model(s) using MCMC...\n",
      "  Fitting model 1 of 1...\n"
     ]
    },
    {
     "name": "stderr",
     "output_type": "stream",
     "text": [
      "There was 1 divergence after tuning. Increase `target_accept` or reparameterize.\n",
      "There was 1 divergence after tuning. Increase `target_accept` or reparameterize.\n"
     ]
    },
    {
     "name": "stdout",
     "output_type": "stream",
     "text": [
      "/!\\ Automatically setting parameter precision...\n",
      "Generating single subject models for 1 subjects...\n"
     ]
    },
    {
     "name": "stderr",
     "output_type": "stream",
     "text": [
      "Sequential sampling (2 chains in 1 job)\n",
      "NUTS: [tau, s, gamma, v]\n"
     ]
    },
    {
     "name": "stdout",
     "output_type": "stream",
     "text": [
      "Fitting 1 model(s) using MCMC...\n",
      "  Fitting model 1 of 1...\n"
     ]
    },
    {
     "name": "stderr",
     "output_type": "stream",
     "text": [
      "Sequential sampling (2 chains in 1 job)\n",
      "NUTS: [tau, s, gamma, v]\n"
     ]
    },
    {
     "name": "stdout",
     "output_type": "stream",
     "text": [
      "/!\\ Automatically setting parameter precision...\n",
      "Generating single subject models for 1 subjects...\n",
      "Fitting 1 model(s) using MCMC...\n",
      "  Fitting model 1 of 1...\n"
     ]
    },
    {
     "name": "stderr",
     "output_type": "stream",
     "text": [
      "The acceptance probability does not match the target. It is 0.6603508470847904, but should be close to 0.8. Try to increase the number of tuning steps.\n"
     ]
    },
    {
     "name": "stdout",
     "output_type": "stream",
     "text": [
      "/!\\ Automatically setting parameter precision...\n",
      "Generating single subject models for 1 subjects...\n",
      "Fitting 1 model(s) using MCMC...\n",
      "  Fitting model 1 of 1...\n"
     ]
    },
    {
     "name": "stderr",
     "output_type": "stream",
     "text": [
      "Sequential sampling (2 chains in 1 job)\n",
      "NUTS: [tau, s, gamma, v]\n",
      "Sequential sampling (2 chains in 1 job)\n",
      "NUTS: [tau, s, gamma, v]\n"
     ]
    },
    {
     "name": "stdout",
     "output_type": "stream",
     "text": [
      "/!\\ Automatically setting parameter precision...\n",
      "Generating single subject models for 1 subjects...\n",
      "Fitting 1 model(s) using MCMC...\n",
      "  Fitting model 1 of 1...\n"
     ]
    },
    {
     "name": "stderr",
     "output_type": "stream",
     "text": [
      "Sequential sampling (2 chains in 1 job)\n",
      "NUTS: [tau, s, gamma, v]\n"
     ]
    },
    {
     "name": "stdout",
     "output_type": "stream",
     "text": [
      "/!\\ Automatically setting parameter precision...\n",
      "Generating single subject models for 1 subjects...\n",
      "Fitting 1 model(s) using MCMC...\n",
      "  Fitting model 1 of 1...\n"
     ]
    },
    {
     "name": "stderr",
     "output_type": "stream",
     "text": [
      "Sequential sampling (2 chains in 1 job)\n",
      "NUTS: [tau, s, gamma, v]\n"
     ]
    },
    {
     "name": "stdout",
     "output_type": "stream",
     "text": [
      "/!\\ Automatically setting parameter precision...\n",
      "Generating single subject models for 1 subjects...\n",
      "Fitting 1 model(s) using MCMC...\n",
      "  Fitting model 1 of 1...\n"
     ]
    },
    {
     "name": "stderr",
     "output_type": "stream",
     "text": [
      "Sequential sampling (2 chains in 1 job)\n",
      "NUTS: [tau, s, gamma, v]\n",
      "The acceptance probability does not match the target. It is 0.6982523732849563, but should be close to 0.8. Try to increase the number of tuning steps.\n",
      "The acceptance probability does not match the target. It is 0.6927865279024032, but should be close to 0.8. Try to increase the number of tuning steps.\n"
     ]
    },
    {
     "name": "stdout",
     "output_type": "stream",
     "text": [
      "/!\\ Automatically setting parameter precision...\n",
      "Generating single subject models for 1 subjects...\n",
      "Fitting 1 model(s) using MCMC...\n",
      "  Fitting model 1 of 1...\n"
     ]
    },
    {
     "name": "stderr",
     "output_type": "stream",
     "text": [
      "Sequential sampling (2 chains in 1 job)\n",
      "NUTS: [tau, s, gamma, v]\n"
     ]
    },
    {
     "name": "stdout",
     "output_type": "stream",
     "text": [
      "/!\\ Automatically setting parameter precision...\n",
      "Generating single subject models for 1 subjects...\n"
     ]
    },
    {
     "name": "stderr",
     "output_type": "stream",
     "text": [
      "INFO (theano.gof.compilelock): Waiting for existing lock by process '5276' (I am process '4595')\n",
      "INFO (theano.gof.compilelock): To manually release the lock, delete /Users/felixmolter/.theano/compiledir_Darwin-17.7.0-x86_64-i386-64bit-i386-3.6.8-64/lock_dir\n"
     ]
    },
    {
     "name": "stdout",
     "output_type": "stream",
     "text": [
      "Fitting 1 model(s) using MCMC...\n",
      "  Fitting model 1 of 1...\n"
     ]
    },
    {
     "name": "stderr",
     "output_type": "stream",
     "text": [
      "Sequential sampling (2 chains in 1 job)\n",
      "NUTS: [tau, s, gamma, v]\n",
      "There were 15 divergences after tuning. Increase `target_accept` or reparameterize.\n",
      "There were 23 divergences after tuning. Increase `target_accept` or reparameterize.\n"
     ]
    },
    {
     "name": "stdout",
     "output_type": "stream",
     "text": [
      "/!\\ Automatically setting parameter precision...\n",
      "Generating single subject models for 1 subjects...\n"
     ]
    },
    {
     "name": "stderr",
     "output_type": "stream",
     "text": [
      "INFO (theano.gof.compilelock): Waiting for existing lock by process '3854' (I am process '4589')\n",
      "INFO (theano.gof.compilelock): To manually release the lock, delete /Users/felixmolter/.theano/compiledir_Darwin-17.7.0-x86_64-i386-64bit-i386-3.6.8-64/lock_dir\n"
     ]
    },
    {
     "name": "stdout",
     "output_type": "stream",
     "text": [
      "Fitting 1 model(s) using MCMC...\n",
      "  Fitting model 1 of 1...\n"
     ]
    },
    {
     "name": "stderr",
     "output_type": "stream",
     "text": [
      "The acceptance probability does not match the target. It is 0.8808720214707612, but should be close to 0.8. Try to increase the number of tuning steps.\n"
     ]
    },
    {
     "name": "stdout",
     "output_type": "stream",
     "text": [
      "/!\\ Automatically setting parameter precision...\n",
      "Generating single subject models for 1 subjects...\n"
     ]
    },
    {
     "name": "stderr",
     "output_type": "stream",
     "text": [
      "Sequential sampling (2 chains in 1 job)\n",
      "NUTS: [tau, s, gamma, v]\n"
     ]
    },
    {
     "name": "stdout",
     "output_type": "stream",
     "text": [
      "/!\\ Automatically setting parameter precision...\n",
      "Generating single subject models for 1 subjects...\n"
     ]
    },
    {
     "name": "stderr",
     "output_type": "stream",
     "text": [
      "INFO (theano.gof.compilelock): Waiting for existing lock by process '5273' (I am process '4590')\n",
      "INFO (theano.gof.compilelock): To manually release the lock, delete /Users/felixmolter/.theano/compiledir_Darwin-17.7.0-x86_64-i386-64bit-i386-3.6.8-64/lock_dir\n"
     ]
    },
    {
     "name": "stdout",
     "output_type": "stream",
     "text": [
      "Fitting 1 model(s) using MCMC...\n",
      "  Fitting model 1 of 1...\n",
      "Fitting 1 model(s) using MCMC...\n",
      "  Fitting model 1 of 1...\n"
     ]
    },
    {
     "name": "stderr",
     "output_type": "stream",
     "text": [
      "Sequential sampling (2 chains in 1 job)\n",
      "NUTS: [tau, s, gamma, v]\n",
      "Sequential sampling (2 chains in 1 job)\n",
      "NUTS: [tau, s, gamma, v]\n"
     ]
    },
    {
     "name": "stdout",
     "output_type": "stream",
     "text": [
      "/!\\ Automatically setting parameter precision...\n",
      "Generating single subject models for 1 subjects...\n",
      "Fitting 1 model(s) using MCMC...\n",
      "  Fitting model 1 of 1...\n"
     ]
    },
    {
     "name": "stderr",
     "output_type": "stream",
     "text": [
      "INFO (theano.gof.compilelock): Waiting for existing lock by process '5273' (I am process '4599')\n",
      "INFO (theano.gof.compilelock): To manually release the lock, delete /Users/felixmolter/.theano/compiledir_Darwin-17.7.0-x86_64-i386-64bit-i386-3.6.8-64/lock_dir\n"
     ]
    },
    {
     "name": "stdout",
     "output_type": "stream",
     "text": [
      "/!\\ Automatically setting parameter precision...\n",
      "Generating single subject models for 1 subjects...\n"
     ]
    },
    {
     "name": "stderr",
     "output_type": "stream",
     "text": [
      "Sequential sampling (2 chains in 1 job)\n",
      "NUTS: [tau, s, gamma, v]\n"
     ]
    },
    {
     "name": "stdout",
     "output_type": "stream",
     "text": [
      "Fitting 1 model(s) using MCMC...\n",
      "  Fitting model 1 of 1...\n"
     ]
    },
    {
     "name": "stderr",
     "output_type": "stream",
     "text": [
      "Sequential sampling (2 chains in 1 job)\n",
      "NUTS: [tau, s, gamma, v]\n"
     ]
    },
    {
     "name": "stdout",
     "output_type": "stream",
     "text": [
      "/!\\ Automatically setting parameter precision...\n",
      "Generating single subject models for 1 subjects...\n",
      "Fitting 1 model(s) using MCMC...\n",
      "  Fitting model 1 of 1...\n"
     ]
    },
    {
     "name": "stderr",
     "output_type": "stream",
     "text": [
      "Sequential sampling (2 chains in 1 job)\n",
      "NUTS: [tau, s, gamma, v]\n",
      "There was 1 divergence after tuning. Increase `target_accept` or reparameterize.\n",
      "There were 2 divergences after tuning. Increase `target_accept` or reparameterize.\n"
     ]
    },
    {
     "name": "stdout",
     "output_type": "stream",
     "text": [
      "/!\\ Automatically setting parameter precision...\n",
      "Generating single subject models for 1 subjects...\n",
      "Fitting 1 model(s) using MCMC...\n",
      "  Fitting model 1 of 1...\n"
     ]
    },
    {
     "name": "stderr",
     "output_type": "stream",
     "text": [
      "Sequential sampling (2 chains in 1 job)\n",
      "NUTS: [tau, s, gamma, v]\n",
      "There were 153 divergences after tuning. Increase `target_accept` or reparameterize.\n",
      "There were 353 divergences after tuning. Increase `target_accept` or reparameterize.\n"
     ]
    },
    {
     "name": "stdout",
     "output_type": "stream",
     "text": [
      "/!\\ Automatically setting parameter precision...\n",
      "Generating single subject models for 1 subjects...\n",
      "Fitting 1 model(s) using MCMC...\n",
      "  Fitting model 1 of 1...\n"
     ]
    },
    {
     "name": "stderr",
     "output_type": "stream",
     "text": [
      "Sequential sampling (2 chains in 1 job)\n",
      "NUTS: [tau, s, gamma, v]\n",
      "The acceptance probability does not match the target. It is 0.8938613780831307, but should be close to 0.8. Try to increase the number of tuning steps.\n"
     ]
    },
    {
     "name": "stdout",
     "output_type": "stream",
     "text": [
      "/!\\ Automatically setting parameter precision...\n",
      "Generating single subject models for 1 subjects...\n"
     ]
    },
    {
     "name": "stderr",
     "output_type": "stream",
     "text": [
      "INFO (theano.gof.compilelock): Waiting for existing lock by process '5275' (I am process '4600')\n",
      "INFO (theano.gof.compilelock): To manually release the lock, delete /Users/felixmolter/.theano/compiledir_Darwin-17.7.0-x86_64-i386-64bit-i386-3.6.8-64/lock_dir\n"
     ]
    },
    {
     "name": "stdout",
     "output_type": "stream",
     "text": [
      "Fitting 1 model(s) using MCMC...\n",
      "  Fitting model 1 of 1...\n"
     ]
    },
    {
     "name": "stderr",
     "output_type": "stream",
     "text": [
      "Sequential sampling (2 chains in 1 job)\n",
      "NUTS: [tau, s, gamma, v]\n"
     ]
    },
    {
     "name": "stdout",
     "output_type": "stream",
     "text": [
      "/!\\ Automatically setting parameter precision...\n",
      "Generating single subject models for 1 subjects...\n",
      "Fitting 1 model(s) using MCMC...\n",
      "  Fitting model 1 of 1...\n"
     ]
    },
    {
     "name": "stderr",
     "output_type": "stream",
     "text": [
      "Sequential sampling (2 chains in 1 job)\n",
      "NUTS: [tau, s, gamma, v]\n"
     ]
    },
    {
     "name": "stdout",
     "output_type": "stream",
     "text": [
      "/!\\ Automatically setting parameter precision...\n",
      "Generating single subject models for 1 subjects...\n",
      "Fitting 1 model(s) using MCMC...\n",
      "  Fitting model 1 of 1...\n"
     ]
    },
    {
     "name": "stderr",
     "output_type": "stream",
     "text": [
      "Sequential sampling (2 chains in 1 job)\n",
      "NUTS: [tau, s, gamma, v]\n"
     ]
    },
    {
     "name": "stdout",
     "output_type": "stream",
     "text": [
      "/!\\ Automatically setting parameter precision...\n",
      "Generating single subject models for 1 subjects...\n",
      "Fitting 1 model(s) using MCMC...\n",
      "  Fitting model 1 of 1...\n"
     ]
    },
    {
     "name": "stderr",
     "output_type": "stream",
     "text": [
      "Sequential sampling (2 chains in 1 job)\n",
      "NUTS: [tau, s, gamma, v]\n",
      "The acceptance probability does not match the target. It is 0.6720847866861784, but should be close to 0.8. Try to increase the number of tuning steps.\n"
     ]
    },
    {
     "name": "stdout",
     "output_type": "stream",
     "text": [
      "/!\\ Automatically setting parameter precision...\n",
      "Generating single subject models for 1 subjects...\n",
      "Fitting 1 model(s) using MCMC...\n",
      "  Fitting model 1 of 1...\n"
     ]
    },
    {
     "name": "stderr",
     "output_type": "stream",
     "text": [
      "Sequential sampling (2 chains in 1 job)\n",
      "NUTS: [tau, s, gamma, v]\n",
      "There were 9 divergences after tuning. Increase `target_accept` or reparameterize.\n",
      "The acceptance probability does not match the target. It is 0.8831803282790416, but should be close to 0.8. Try to increase the number of tuning steps.\n",
      "There were 16 divergences after tuning. Increase `target_accept` or reparameterize.\n",
      "The acceptance probability does not match the target. It is 0.8850039824862306, but should be close to 0.8. Try to increase the number of tuning steps.\n",
      "The number of effective samples is smaller than 25% for some parameters.\n"
     ]
    },
    {
     "name": "stdout",
     "output_type": "stream",
     "text": [
      "/!\\ Automatically setting parameter precision...\n",
      "Generating single subject models for 1 subjects...\n",
      "Fitting 1 model(s) using MCMC...\n",
      "  Fitting model 1 of 1...\n"
     ]
    },
    {
     "name": "stderr",
     "output_type": "stream",
     "text": [
      "Sequential sampling (2 chains in 1 job)\n",
      "NUTS: [tau, s, gamma, v]\n",
      "The number of effective samples is smaller than 25% for some parameters.\n"
     ]
    },
    {
     "name": "stdout",
     "output_type": "stream",
     "text": [
      "/!\\ Automatically setting parameter precision...\n",
      "Generating single subject models for 1 subjects...\n",
      "Fitting 1 model(s) using MCMC...\n",
      "  Fitting model 1 of 1...\n"
     ]
    },
    {
     "name": "stderr",
     "output_type": "stream",
     "text": [
      "Sequential sampling (2 chains in 1 job)\n",
      "NUTS: [tau, s, gamma, v]\n"
     ]
    },
    {
     "name": "stdout",
     "output_type": "stream",
     "text": [
      "/!\\ Automatically setting parameter precision...\n",
      "Generating single subject models for 1 subjects...\n",
      "Fitting 1 model(s) using MCMC...\n",
      "  Fitting model 1 of 1...\n"
     ]
    },
    {
     "name": "stderr",
     "output_type": "stream",
     "text": [
      "Sequential sampling (2 chains in 1 job)\n",
      "NUTS: [tau, s, gamma, v]\n",
      "There were 26 divergences after tuning. Increase `target_accept` or reparameterize.\n",
      "There were 55 divergences after tuning. Increase `target_accept` or reparameterize.\n"
     ]
    },
    {
     "name": "stdout",
     "output_type": "stream",
     "text": [
      "/!\\ Automatically setting parameter precision...\n",
      "Generating single subject models for 1 subjects...\n",
      "Fitting 1 model(s) using MCMC...\n",
      "  Fitting model 1 of 1...\n"
     ]
    },
    {
     "name": "stderr",
     "output_type": "stream",
     "text": [
      "Sequential sampling (2 chains in 1 job)\n",
      "NUTS: [tau, s, gamma, v]\n",
      "The acceptance probability does not match the target. It is 0.8915215362459734, but should be close to 0.8. Try to increase the number of tuning steps.\n",
      "The number of effective samples is smaller than 25% for some parameters.\n"
     ]
    },
    {
     "name": "stdout",
     "output_type": "stream",
     "text": [
      "/!\\ Automatically setting parameter precision...\n",
      "Generating single subject models for 1 subjects...\n",
      "Fitting 1 model(s) using MCMC...\n",
      "  Fitting model 1 of 1...\n"
     ]
    },
    {
     "name": "stderr",
     "output_type": "stream",
     "text": [
      "INFO (theano.gof.compilelock): Waiting for existing lock by process '5273' (I am process '4599')\n",
      "INFO (theano.gof.compilelock): To manually release the lock, delete /Users/felixmolter/.theano/compiledir_Darwin-17.7.0-x86_64-i386-64bit-i386-3.6.8-64/lock_dir\n",
      "Sequential sampling (2 chains in 1 job)\n",
      "NUTS: [tau, s, gamma, v]\n"
     ]
    },
    {
     "name": "stdout",
     "output_type": "stream",
     "text": [
      "/!\\ Automatically setting parameter precision...\n",
      "Generating single subject models for 1 subjects...\n",
      "Fitting 1 model(s) using MCMC...\n",
      "  Fitting model 1 of 1...\n"
     ]
    },
    {
     "name": "stderr",
     "output_type": "stream",
     "text": [
      "Sequential sampling (2 chains in 1 job)\n",
      "NUTS: [tau, s, gamma, v]\n"
     ]
    },
    {
     "name": "stdout",
     "output_type": "stream",
     "text": [
      "/!\\ Automatically setting parameter precision...\n",
      "Generating single subject models for 1 subjects...\n",
      "Fitting 1 model(s) using MCMC...\n",
      "  Fitting model 1 of 1...\n"
     ]
    },
    {
     "name": "stderr",
     "output_type": "stream",
     "text": [
      "Sequential sampling (2 chains in 1 job)\n",
      "NUTS: [tau, s, gamma, v]\n",
      "There were 7 divergences after tuning. Increase `target_accept` or reparameterize.\n",
      "There were 15 divergences after tuning. Increase `target_accept` or reparameterize.\n"
     ]
    },
    {
     "name": "stdout",
     "output_type": "stream",
     "text": [
      "/!\\ Automatically setting parameter precision...\n",
      "Generating single subject models for 1 subjects...\n",
      "Fitting 1 model(s) using MCMC...\n",
      "  Fitting model 1 of 1...\n"
     ]
    },
    {
     "name": "stderr",
     "output_type": "stream",
     "text": [
      "Sequential sampling (2 chains in 1 job)\n",
      "NUTS: [tau, s, gamma, v]\n",
      "There was 1 divergence after tuning. Increase `target_accept` or reparameterize.\n",
      "There was 1 divergence after tuning. Increase `target_accept` or reparameterize.\n"
     ]
    },
    {
     "name": "stdout",
     "output_type": "stream",
     "text": [
      "/!\\ Automatically setting parameter precision...\n",
      "Generating single subject models for 1 subjects...\n",
      "Fitting 1 model(s) using MCMC...\n",
      "  Fitting model 1 of 1...\n"
     ]
    },
    {
     "name": "stderr",
     "output_type": "stream",
     "text": [
      "Sequential sampling (2 chains in 1 job)\n",
      "NUTS: [tau, s, gamma, v]\n",
      "The acceptance probability does not match the target. It is 0.5886479127257733, but should be close to 0.8. Try to increase the number of tuning steps.\n",
      "The number of effective samples is smaller than 25% for some parameters.\n"
     ]
    },
    {
     "name": "stdout",
     "output_type": "stream",
     "text": [
      "/!\\ Automatically setting parameter precision...\n",
      "Generating single subject models for 1 subjects...\n",
      "Fitting 1 model(s) using MCMC...\n",
      "  Fitting model 1 of 1...\n"
     ]
    },
    {
     "name": "stderr",
     "output_type": "stream",
     "text": [
      "Sequential sampling (2 chains in 1 job)\n",
      "NUTS: [tau, s, gamma, v]\n"
     ]
    },
    {
     "name": "stdout",
     "output_type": "stream",
     "text": [
      "/!\\ Automatically setting parameter precision...\n",
      "Generating single subject models for 1 subjects...\n",
      "Fitting 1 model(s) using MCMC...\n",
      "  Fitting model 1 of 1...\n"
     ]
    },
    {
     "name": "stderr",
     "output_type": "stream",
     "text": [
      "Sequential sampling (2 chains in 1 job)\n",
      "NUTS: [tau, s, gamma, v]\n"
     ]
    },
    {
     "name": "stdout",
     "output_type": "stream",
     "text": [
      "/!\\ Automatically setting parameter precision...\n",
      "Generating single subject models for 1 subjects...\n",
      "Fitting 1 model(s) using MCMC...\n",
      "  Fitting model 1 of 1...\n"
     ]
    },
    {
     "name": "stderr",
     "output_type": "stream",
     "text": [
      "Sequential sampling (2 chains in 1 job)\n",
      "NUTS: [tau, s, gamma, v]\n"
     ]
    },
    {
     "name": "stdout",
     "output_type": "stream",
     "text": [
      "/!\\ Automatically setting parameter precision...\n",
      "Generating single subject models for 1 subjects...\n",
      "/!\\ Automatically setting parameter precision...\n",
      "Fitting 1 model(s) using MCMC...\n",
      "  Fitting model 1 of 1...\n",
      "Generating single subject models for 1 subjects...\n",
      "Fitting 1 model(s) using MCMC...\n",
      "  Fitting model 1 of 1...\n"
     ]
    },
    {
     "name": "stderr",
     "output_type": "stream",
     "text": [
      "Sequential sampling (2 chains in 1 job)\n",
      "NUTS: [tau, s, gamma, v]\n",
      "Sequential sampling (2 chains in 1 job)\n",
      "NUTS: [tau, s, gamma, v]\n",
      "The acceptance probability does not match the target. It is 0.8793205800377355, but should be close to 0.8. Try to increase the number of tuning steps.\n",
      "The acceptance probability does not match the target. It is 0.8887019960131176, but should be close to 0.8. Try to increase the number of tuning steps.\n",
      "The number of effective samples is smaller than 25% for some parameters.\n"
     ]
    },
    {
     "name": "stdout",
     "output_type": "stream",
     "text": [
      "/!\\ Automatically setting parameter precision...\n",
      "Generating single subject models for 1 subjects...\n",
      "Fitting 1 model(s) using MCMC...\n",
      "  Fitting model 1 of 1...\n"
     ]
    },
    {
     "name": "stderr",
     "output_type": "stream",
     "text": [
      "Sequential sampling (2 chains in 1 job)\n",
      "NUTS: [tau, s, gamma, v]\n"
     ]
    },
    {
     "name": "stdout",
     "output_type": "stream",
     "text": [
      "/!\\ Automatically setting parameter precision...\n",
      "Generating single subject models for 1 subjects...\n"
     ]
    },
    {
     "name": "stderr",
     "output_type": "stream",
     "text": [
      "INFO (theano.gof.compilelock): Waiting for existing lock by process '3854' (I am process '4595')\n",
      "INFO (theano.gof.compilelock): To manually release the lock, delete /Users/felixmolter/.theano/compiledir_Darwin-17.7.0-x86_64-i386-64bit-i386-3.6.8-64/lock_dir\n"
     ]
    },
    {
     "name": "stdout",
     "output_type": "stream",
     "text": [
      "Fitting 1 model(s) using MCMC...\n",
      "  Fitting model 1 of 1...\n"
     ]
    },
    {
     "name": "stderr",
     "output_type": "stream",
     "text": [
      "Sequential sampling (2 chains in 1 job)\n",
      "NUTS: [tau, s, gamma, v]\n",
      "There were 2 divergences after tuning. Increase `target_accept` or reparameterize.\n",
      "There were 3 divergences after tuning. Increase `target_accept` or reparameterize.\n"
     ]
    },
    {
     "name": "stdout",
     "output_type": "stream",
     "text": [
      "/!\\ Automatically setting parameter precision...\n",
      "Generating single subject models for 1 subjects...\n",
      "Fitting 1 model(s) using MCMC...\n",
      "  Fitting model 1 of 1...\n",
      "/!\\ Automatically setting parameter precision...\n",
      "Generating single subject models for 1 subjects...\n"
     ]
    },
    {
     "name": "stderr",
     "output_type": "stream",
     "text": [
      "INFO (theano.gof.compilelock): Waiting for existing lock by process '5273' (I am process '4600')\n",
      "INFO (theano.gof.compilelock): To manually release the lock, delete /Users/felixmolter/.theano/compiledir_Darwin-17.7.0-x86_64-i386-64bit-i386-3.6.8-64/lock_dir\n"
     ]
    },
    {
     "name": "stdout",
     "output_type": "stream",
     "text": [
      "/!\\ Automatically setting parameter precision...\n",
      "Generating single subject models for 1 subjects...\n",
      "Fitting 1 model(s) using MCMC...\n",
      "  Fitting model 1 of 1...\n"
     ]
    },
    {
     "name": "stderr",
     "output_type": "stream",
     "text": [
      "INFO (theano.gof.compilelock): Waiting for existing lock by process '3852' (I am process '4600')\n",
      "INFO (theano.gof.compilelock): To manually release the lock, delete /Users/felixmolter/.theano/compiledir_Darwin-17.7.0-x86_64-i386-64bit-i386-3.6.8-64/lock_dir\n",
      "INFO (theano.gof.compilelock): Waiting for existing lock by process '5275' (I am process '4591')\n",
      "INFO (theano.gof.compilelock): To manually release the lock, delete /Users/felixmolter/.theano/compiledir_Darwin-17.7.0-x86_64-i386-64bit-i386-3.6.8-64/lock_dir\n",
      "INFO (theano.gof.compilelock): Waiting for existing lock by process '4590' (I am process '4600')\n",
      "INFO (theano.gof.compilelock): To manually release the lock, delete /Users/felixmolter/.theano/compiledir_Darwin-17.7.0-x86_64-i386-64bit-i386-3.6.8-64/lock_dir\n"
     ]
    },
    {
     "name": "stdout",
     "output_type": "stream",
     "text": [
      "Fitting 1 model(s) using MCMC...\n",
      "  Fitting model 1 of 1...\n"
     ]
    },
    {
     "name": "stderr",
     "output_type": "stream",
     "text": [
      "Sequential sampling (2 chains in 1 job)\n",
      "NUTS: [tau, s, gamma, v]\n",
      "Sequential sampling (2 chains in 1 job)\n",
      "NUTS: [tau, s, gamma, v]\n",
      "Sequential sampling (2 chains in 1 job)\n",
      "NUTS: [tau, s, gamma, v]\n"
     ]
    },
    {
     "name": "stdout",
     "output_type": "stream",
     "text": [
      "/!\\ Automatically setting parameter precision...\n"
     ]
    },
    {
     "name": "stderr",
     "output_type": "stream",
     "text": [
      "The number of effective samples is smaller than 10% for some parameters.\n"
     ]
    },
    {
     "name": "stdout",
     "output_type": "stream",
     "text": [
      "/!\\ Automatically setting parameter precision...\n",
      "Generating single subject models for 1 subjects...\n",
      "Generating single subject models for 1 subjects...\n",
      "Fitting 1 model(s) using MCMC...\n",
      "  Fitting model 1 of 1...\n",
      "Fitting 1 model(s) using MCMC...\n",
      "  Fitting model 1 of 1...\n"
     ]
    },
    {
     "name": "stderr",
     "output_type": "stream",
     "text": [
      "Sequential sampling (2 chains in 1 job)\n",
      "NUTS: [tau, s, gamma, v]\n",
      "Sequential sampling (2 chains in 1 job)\n",
      "NUTS: [tau, s, gamma, v]\n",
      "There were 140 divergences after tuning. Increase `target_accept` or reparameterize.\n",
      "There were 247 divergences after tuning. Increase `target_accept` or reparameterize.\n",
      "The number of effective samples is smaller than 10% for some parameters.\n"
     ]
    },
    {
     "name": "stdout",
     "output_type": "stream",
     "text": [
      "/!\\ Automatically setting parameter precision...\n",
      "Generating single subject models for 1 subjects...\n"
     ]
    },
    {
     "name": "stderr",
     "output_type": "stream",
     "text": [
      "There were 138 divergences after tuning. Increase `target_accept` or reparameterize.\n",
      "There were 278 divergences after tuning. Increase `target_accept` or reparameterize.\n"
     ]
    },
    {
     "name": "stdout",
     "output_type": "stream",
     "text": [
      "/!\\ Automatically setting parameter precision...\n",
      "Fitting 1 model(s) using MCMC...\n",
      "  Fitting model 1 of 1...\n",
      "Generating single subject models for 1 subjects...\n",
      "Fitting 1 model(s) using MCMC...\n",
      "  Fitting model 1 of 1...\n"
     ]
    },
    {
     "name": "stderr",
     "output_type": "stream",
     "text": [
      "Sequential sampling (2 chains in 1 job)\n",
      "NUTS: [tau, s, gamma, v]\n",
      "Sequential sampling (2 chains in 1 job)\n",
      "NUTS: [tau, s, gamma, v]\n"
     ]
    },
    {
     "name": "stdout",
     "output_type": "stream",
     "text": [
      "/!\\ Automatically setting parameter precision...\n",
      "Generating single subject models for 1 subjects...\n",
      "Fitting 1 model(s) using MCMC...\n",
      "  Fitting model 1 of 1...\n"
     ]
    },
    {
     "name": "stderr",
     "output_type": "stream",
     "text": [
      "Sequential sampling (2 chains in 1 job)\n",
      "NUTS: [tau, s, gamma, v]\n"
     ]
    },
    {
     "name": "stdout",
     "output_type": "stream",
     "text": [
      "/!\\ Automatically setting parameter precision...\n",
      "Generating single subject models for 1 subjects...\n",
      "Fitting 1 model(s) using MCMC...\n",
      "  Fitting model 1 of 1...\n"
     ]
    },
    {
     "name": "stderr",
     "output_type": "stream",
     "text": [
      "Sequential sampling (2 chains in 1 job)\n",
      "NUTS: [tau, s, gamma, v]\n"
     ]
    },
    {
     "name": "stdout",
     "output_type": "stream",
     "text": [
      "/!\\ Automatically setting parameter precision...\n",
      "Generating single subject models for 1 subjects...\n",
      "Fitting 1 model(s) using MCMC...\n",
      "  Fitting model 1 of 1...\n"
     ]
    },
    {
     "name": "stderr",
     "output_type": "stream",
     "text": [
      "Sequential sampling (2 chains in 1 job)\n",
      "NUTS: [tau, s, gamma, v]\n",
      "There was 1 divergence after tuning. Increase `target_accept` or reparameterize.\n",
      "There was 1 divergence after tuning. Increase `target_accept` or reparameterize.\n"
     ]
    },
    {
     "name": "stdout",
     "output_type": "stream",
     "text": [
      "/!\\ Automatically setting parameter precision...\n",
      "Generating single subject models for 1 subjects...\n",
      "Fitting 1 model(s) using MCMC...\n",
      "  Fitting model 1 of 1...\n"
     ]
    },
    {
     "name": "stderr",
     "output_type": "stream",
     "text": [
      "Sequential sampling (2 chains in 1 job)\n",
      "NUTS: [tau, s, gamma, v]\n"
     ]
    },
    {
     "name": "stdout",
     "output_type": "stream",
     "text": [
      "/!\\ Automatically setting parameter precision...\n",
      "Generating single subject models for 1 subjects...\n",
      "Fitting 1 model(s) using MCMC...\n",
      "  Fitting model 1 of 1...\n"
     ]
    },
    {
     "name": "stderr",
     "output_type": "stream",
     "text": [
      "Sequential sampling (2 chains in 1 job)\n",
      "NUTS: [tau, s, gamma, v]\n"
     ]
    },
    {
     "name": "stdout",
     "output_type": "stream",
     "text": [
      "/!\\ Automatically setting parameter precision...\n",
      "Generating single subject models for 1 subjects...\n",
      "Fitting 1 model(s) using MCMC...\n",
      "  Fitting model 1 of 1...\n"
     ]
    },
    {
     "name": "stderr",
     "output_type": "stream",
     "text": [
      "Sequential sampling (2 chains in 1 job)\n",
      "NUTS: [tau, s, gamma, v]\n",
      "There were 2 divergences after tuning. Increase `target_accept` or reparameterize.\n",
      "The acceptance probability does not match the target. It is 0.5026035025105979, but should be close to 0.8. Try to increase the number of tuning steps.\n",
      "There were 3 divergences after tuning. Increase `target_accept` or reparameterize.\n",
      "The acceptance probability does not match the target. It is 0.5296118763253449, but should be close to 0.8. Try to increase the number of tuning steps.\n",
      "The number of effective samples is smaller than 25% for some parameters.\n"
     ]
    },
    {
     "name": "stdout",
     "output_type": "stream",
     "text": [
      "/!\\ Automatically setting parameter precision...\n",
      "Generating single subject models for 1 subjects...\n",
      "Fitting 1 model(s) using MCMC...\n",
      "  Fitting model 1 of 1...\n"
     ]
    },
    {
     "name": "stderr",
     "output_type": "stream",
     "text": [
      "There were 4 divergences after tuning. Increase `target_accept` or reparameterize.\n",
      "The acceptance probability does not match the target. It is 0.5440146146693159, but should be close to 0.8. Try to increase the number of tuning steps.\n",
      "There were 4 divergences after tuning. Increase `target_accept` or reparameterize.\n",
      "The acceptance probability does not match the target. It is 0.7102064730999171, but should be close to 0.8. Try to increase the number of tuning steps.\n"
     ]
    },
    {
     "name": "stdout",
     "output_type": "stream",
     "text": [
      "/!\\ Automatically setting parameter precision...\n",
      "Generating single subject models for 1 subjects...\n"
     ]
    },
    {
     "name": "stderr",
     "output_type": "stream",
     "text": [
      "Sequential sampling (2 chains in 1 job)\n",
      "NUTS: [tau, s, gamma, v]\n"
     ]
    },
    {
     "name": "stdout",
     "output_type": "stream",
     "text": [
      "Fitting 1 model(s) using MCMC...\n",
      "  Fitting model 1 of 1...\n"
     ]
    },
    {
     "name": "stderr",
     "output_type": "stream",
     "text": [
      "Sequential sampling (2 chains in 1 job)\n",
      "NUTS: [tau, s, gamma, v]\n"
     ]
    },
    {
     "name": "stdout",
     "output_type": "stream",
     "text": [
      "/!\\ Automatically setting parameter precision...\n",
      "Generating single subject models for 1 subjects...\n",
      "Fitting 1 model(s) using MCMC...\n",
      "  Fitting model 1 of 1...\n"
     ]
    },
    {
     "name": "stderr",
     "output_type": "stream",
     "text": [
      "Sequential sampling (2 chains in 1 job)\n",
      "NUTS: [tau, s, gamma, v]\n",
      "The acceptance probability does not match the target. It is 0.8978219507223423, but should be close to 0.8. Try to increase the number of tuning steps.\n"
     ]
    },
    {
     "name": "stdout",
     "output_type": "stream",
     "text": [
      "/!\\ Automatically setting parameter precision...\n",
      "Generating single subject models for 1 subjects...\n",
      "Fitting 1 model(s) using MCMC...\n",
      "  Fitting model 1 of 1...\n"
     ]
    },
    {
     "name": "stderr",
     "output_type": "stream",
     "text": [
      "Sequential sampling (2 chains in 1 job)\n",
      "NUTS: [tau, s, gamma, v]\n",
      "The acceptance probability does not match the target. It is 0.6119206157606163, but should be close to 0.8. Try to increase the number of tuning steps.\n",
      "The acceptance probability does not match the target. It is 0.7157191396942989, but should be close to 0.8. Try to increase the number of tuning steps.\n"
     ]
    },
    {
     "name": "stdout",
     "output_type": "stream",
     "text": [
      "/!\\ Automatically setting parameter precision...\n",
      "Generating single subject models for 1 subjects...\n",
      "Fitting 1 model(s) using MCMC...\n",
      "  Fitting model 1 of 1...\n"
     ]
    },
    {
     "name": "stderr",
     "output_type": "stream",
     "text": [
      "There were 2 divergences after tuning. Increase `target_accept` or reparameterize.\n",
      "There were 28 divergences after tuning. Increase `target_accept` or reparameterize.\n",
      "The acceptance probability does not match the target. It is 0.5592983675360398, but should be close to 0.8. Try to increase the number of tuning steps.\n",
      "The number of effective samples is smaller than 10% for some parameters.\n"
     ]
    },
    {
     "name": "stdout",
     "output_type": "stream",
     "text": [
      "/!\\ Automatically setting parameter precision...\n",
      "Generating single subject models for 1 subjects...\n",
      "Fitting 1 model(s) using MCMC...\n",
      "  Fitting model 1 of 1...\n"
     ]
    },
    {
     "name": "stderr",
     "output_type": "stream",
     "text": [
      "Sequential sampling (2 chains in 1 job)\n",
      "NUTS: [tau, s, gamma, v]\n",
      "Sequential sampling (2 chains in 1 job)\n",
      "NUTS: [tau, s, gamma, v]\n"
     ]
    },
    {
     "name": "stdout",
     "output_type": "stream",
     "text": [
      "/!\\ Automatically setting parameter precision...\n",
      "Generating single subject models for 1 subjects...\n",
      "Fitting 1 model(s) using MCMC...\n",
      "  Fitting model 1 of 1...\n"
     ]
    },
    {
     "name": "stderr",
     "output_type": "stream",
     "text": [
      "Sequential sampling (2 chains in 1 job)\n",
      "NUTS: [tau, s, gamma, v]\n",
      "The acceptance probability does not match the target. It is 0.6428754394166359, but should be close to 0.8. Try to increase the number of tuning steps.\n",
      "The number of effective samples is smaller than 25% for some parameters.\n"
     ]
    },
    {
     "name": "stdout",
     "output_type": "stream",
     "text": [
      "/!\\ Automatically setting parameter precision...\n",
      "Generating single subject models for 1 subjects...\n",
      "Fitting 1 model(s) using MCMC...\n",
      "  Fitting model 1 of 1...\n"
     ]
    },
    {
     "name": "stderr",
     "output_type": "stream",
     "text": [
      "INFO (theano.gof.compilelock): Waiting for existing lock by process '3852' (I am process '4600')\n",
      "INFO (theano.gof.compilelock): To manually release the lock, delete /Users/felixmolter/.theano/compiledir_Darwin-17.7.0-x86_64-i386-64bit-i386-3.6.8-64/lock_dir\n",
      "Sequential sampling (2 chains in 1 job)\n",
      "NUTS: [tau, s, gamma, v]\n"
     ]
    },
    {
     "name": "stdout",
     "output_type": "stream",
     "text": [
      "/!\\ Automatically setting parameter precision...\n",
      "Generating single subject models for 1 subjects...\n",
      "Fitting 1 model(s) using MCMC...\n",
      "  Fitting model 1 of 1...\n"
     ]
    },
    {
     "name": "stderr",
     "output_type": "stream",
     "text": [
      "Sequential sampling (2 chains in 1 job)\n",
      "NUTS: [tau, s, gamma, v]\n"
     ]
    },
    {
     "name": "stdout",
     "output_type": "stream",
     "text": [
      "/!\\ Automatically setting parameter precision...\n",
      "Generating single subject models for 1 subjects...\n",
      "Fitting 1 model(s) using MCMC...\n",
      "  Fitting model 1 of 1...\n"
     ]
    },
    {
     "name": "stderr",
     "output_type": "stream",
     "text": [
      "There was 1 divergence after tuning. Increase `target_accept` or reparameterize.\n",
      "There was 1 divergence after tuning. Increase `target_accept` or reparameterize.\n"
     ]
    },
    {
     "name": "stdout",
     "output_type": "stream",
     "text": [
      "/!\\ Automatically setting parameter precision...\n"
     ]
    },
    {
     "name": "stderr",
     "output_type": "stream",
     "text": [
      "Sequential sampling (2 chains in 1 job)\n",
      "NUTS: [tau, s, gamma, v]\n"
     ]
    },
    {
     "name": "stdout",
     "output_type": "stream",
     "text": [
      "Generating single subject models for 1 subjects...\n",
      "Fitting 1 model(s) using MCMC...\n",
      "  Fitting model 1 of 1...\n"
     ]
    },
    {
     "name": "stderr",
     "output_type": "stream",
     "text": [
      "INFO (theano.gof.compilelock): Waiting for existing lock by process '5273' (I am process '4599')\n",
      "INFO (theano.gof.compilelock): To manually release the lock, delete /Users/felixmolter/.theano/compiledir_Darwin-17.7.0-x86_64-i386-64bit-i386-3.6.8-64/lock_dir\n",
      "Sequential sampling (2 chains in 1 job)\n",
      "NUTS: [tau, s, gamma, v]\n",
      "There were 2 divergences after tuning. Increase `target_accept` or reparameterize.\n",
      "There were 2 divergences after tuning. Increase `target_accept` or reparameterize.\n"
     ]
    },
    {
     "name": "stdout",
     "output_type": "stream",
     "text": [
      "/!\\ Automatically setting parameter precision...\n",
      "Generating single subject models for 1 subjects...\n",
      "Fitting 1 model(s) using MCMC...\n",
      "  Fitting model 1 of 1...\n"
     ]
    },
    {
     "name": "stderr",
     "output_type": "stream",
     "text": [
      "Sequential sampling (2 chains in 1 job)\n",
      "NUTS: [tau, s, gamma, v]\n"
     ]
    },
    {
     "name": "stdout",
     "output_type": "stream",
     "text": [
      "/!\\ Automatically setting parameter precision...\n",
      "Generating single subject models for 1 subjects...\n",
      "Fitting 1 model(s) using MCMC...\n",
      "  Fitting model 1 of 1...\n"
     ]
    },
    {
     "name": "stderr",
     "output_type": "stream",
     "text": [
      "Sequential sampling (2 chains in 1 job)\n",
      "NUTS: [tau, s, gamma, v]\n"
     ]
    },
    {
     "name": "stdout",
     "output_type": "stream",
     "text": [
      "/!\\ Automatically setting parameter precision...\n",
      "Generating single subject models for 1 subjects...\n",
      "Fitting 1 model(s) using MCMC...\n",
      "  Fitting model 1 of 1...\n",
      "/!\\ Automatically setting parameter precision...\n",
      "Generating single subject models for 1 subjects...\n"
     ]
    },
    {
     "name": "stderr",
     "output_type": "stream",
     "text": [
      "Sequential sampling (2 chains in 1 job)\n",
      "NUTS: [tau, s, gamma, v]\n"
     ]
    },
    {
     "name": "stdout",
     "output_type": "stream",
     "text": [
      "Fitting 1 model(s) using MCMC...\n",
      "  Fitting model 1 of 1...\n"
     ]
    },
    {
     "name": "stderr",
     "output_type": "stream",
     "text": [
      "Sequential sampling (2 chains in 1 job)\n",
      "NUTS: [tau, s, gamma, v]\n"
     ]
    },
    {
     "name": "stdout",
     "output_type": "stream",
     "text": [
      "/!\\ Automatically setting parameter precision...\n",
      "Generating single subject models for 1 subjects...\n",
      "Fitting 1 model(s) using MCMC...\n",
      "  Fitting model 1 of 1...\n"
     ]
    },
    {
     "name": "stderr",
     "output_type": "stream",
     "text": [
      "Sequential sampling (2 chains in 1 job)\n",
      "NUTS: [tau, s, gamma, v]\n"
     ]
    },
    {
     "name": "stdout",
     "output_type": "stream",
     "text": [
      "/!\\ Automatically setting parameter precision...\n",
      "Generating single subject models for 1 subjects...\n",
      "Fitting 1 model(s) using MCMC...\n",
      "  Fitting model 1 of 1...\n"
     ]
    },
    {
     "name": "stderr",
     "output_type": "stream",
     "text": [
      "Sequential sampling (2 chains in 1 job)\n",
      "NUTS: [tau, s, gamma, v]\n",
      "There were 2 divergences after tuning. Increase `target_accept` or reparameterize.\n",
      "There were 4 divergences after tuning. Increase `target_accept` or reparameterize.\n"
     ]
    },
    {
     "name": "stdout",
     "output_type": "stream",
     "text": [
      "/!\\ Automatically setting parameter precision...\n",
      "Generating single subject models for 1 subjects...\n",
      "Fitting 1 model(s) using MCMC...\n",
      "  Fitting model 1 of 1...\n"
     ]
    },
    {
     "name": "stderr",
     "output_type": "stream",
     "text": [
      "Sequential sampling (2 chains in 1 job)\n",
      "NUTS: [tau, s, gamma, v]\n",
      "The number of effective samples is smaller than 25% for some parameters.\n"
     ]
    },
    {
     "name": "stdout",
     "output_type": "stream",
     "text": [
      "/!\\ Automatically setting parameter precision...\n",
      "Generating single subject models for 1 subjects...\n",
      "Fitting 1 model(s) using MCMC...\n",
      "  Fitting model 1 of 1...\n"
     ]
    },
    {
     "name": "stderr",
     "output_type": "stream",
     "text": [
      "The number of effective samples is smaller than 25% for some parameters.\n"
     ]
    },
    {
     "name": "stdout",
     "output_type": "stream",
     "text": [
      "/!\\ Automatically setting parameter precision...\n",
      "Generating single subject models for 1 subjects...\n"
     ]
    },
    {
     "name": "stderr",
     "output_type": "stream",
     "text": [
      "Sequential sampling (2 chains in 1 job)\n",
      "NUTS: [tau, s, gamma, v]\n"
     ]
    },
    {
     "name": "stdout",
     "output_type": "stream",
     "text": [
      "Fitting 1 model(s) using MCMC...\n",
      "  Fitting model 1 of 1...\n"
     ]
    },
    {
     "name": "stderr",
     "output_type": "stream",
     "text": [
      "Sequential sampling (2 chains in 1 job)\n",
      "NUTS: [tau, s, gamma, v]\n",
      "The acceptance probability does not match the target. It is 0.7036639428594713, but should be close to 0.8. Try to increase the number of tuning steps.\n",
      "The number of effective samples is smaller than 10% for some parameters.\n"
     ]
    },
    {
     "name": "stdout",
     "output_type": "stream",
     "text": [
      "/!\\ Automatically setting parameter precision...\n",
      "Generating single subject models for 1 subjects...\n"
     ]
    },
    {
     "name": "stderr",
     "output_type": "stream",
     "text": [
      "INFO (theano.gof.compilelock): Waiting for existing lock by process '5274' (I am process '4590')\n",
      "INFO (theano.gof.compilelock): To manually release the lock, delete /Users/felixmolter/.theano/compiledir_Darwin-17.7.0-x86_64-i386-64bit-i386-3.6.8-64/lock_dir\n"
     ]
    },
    {
     "name": "stdout",
     "output_type": "stream",
     "text": [
      "Fitting 1 model(s) using MCMC...\n",
      "  Fitting model 1 of 1...\n"
     ]
    },
    {
     "name": "stderr",
     "output_type": "stream",
     "text": [
      "Sequential sampling (2 chains in 1 job)\n",
      "NUTS: [tau, s, gamma, v]\n",
      "The acceptance probability does not match the target. It is 0.6018066869009745, but should be close to 0.8. Try to increase the number of tuning steps.\n",
      "The number of effective samples is smaller than 10% for some parameters.\n"
     ]
    },
    {
     "name": "stdout",
     "output_type": "stream",
     "text": [
      "/!\\ Automatically setting parameter precision...\n",
      "Generating single subject models for 1 subjects...\n",
      "Fitting 1 model(s) using MCMC...\n",
      "  Fitting model 1 of 1...\n"
     ]
    },
    {
     "name": "stderr",
     "output_type": "stream",
     "text": [
      "Sequential sampling (2 chains in 1 job)\n",
      "NUTS: [tau, s, gamma, v]\n"
     ]
    },
    {
     "name": "stdout",
     "output_type": "stream",
     "text": [
      "/!\\ Automatically setting parameter precision...\n",
      "Generating single subject models for 1 subjects...\n",
      "Fitting 1 model(s) using MCMC...\n",
      "  Fitting model 1 of 1...\n"
     ]
    },
    {
     "name": "stderr",
     "output_type": "stream",
     "text": [
      "Sequential sampling (2 chains in 1 job)\n",
      "NUTS: [tau, s, gamma, v]\n"
     ]
    },
    {
     "name": "stdout",
     "output_type": "stream",
     "text": [
      "/!\\ Automatically setting parameter precision...\n",
      "Generating single subject models for 1 subjects...\n",
      "Fitting 1 model(s) using MCMC...\n",
      "  Fitting model 1 of 1...\n"
     ]
    },
    {
     "name": "stderr",
     "output_type": "stream",
     "text": [
      "Sequential sampling (2 chains in 1 job)\n",
      "NUTS: [tau, s, gamma, v]\n",
      "The number of effective samples is smaller than 10% for some parameters.\n"
     ]
    },
    {
     "name": "stdout",
     "output_type": "stream",
     "text": [
      "/!\\ Automatically setting parameter precision...\n",
      "Generating single subject models for 1 subjects...\n",
      "Fitting 1 model(s) using MCMC...\n",
      "  Fitting model 1 of 1...\n"
     ]
    },
    {
     "name": "stderr",
     "output_type": "stream",
     "text": [
      "Sequential sampling (2 chains in 1 job)\n",
      "NUTS: [tau, s, gamma, v]\n",
      "There were 2 divergences after tuning. Increase `target_accept` or reparameterize.\n",
      "There were 4 divergences after tuning. Increase `target_accept` or reparameterize.\n"
     ]
    },
    {
     "name": "stdout",
     "output_type": "stream",
     "text": [
      "/!\\ Automatically setting parameter precision...\n",
      "Generating single subject models for 1 subjects...\n",
      "Fitting 1 model(s) using MCMC...\n",
      "  Fitting model 1 of 1...\n"
     ]
    },
    {
     "name": "stderr",
     "output_type": "stream",
     "text": [
      "INFO (theano.gof.compilelock): Waiting for existing lock by process '5274' (I am process '4595')\n",
      "INFO (theano.gof.compilelock): To manually release the lock, delete /Users/felixmolter/.theano/compiledir_Darwin-17.7.0-x86_64-i386-64bit-i386-3.6.8-64/lock_dir\n",
      "Sequential sampling (2 chains in 1 job)\n",
      "NUTS: [tau, s, gamma, v]\n",
      "The acceptance probability does not match the target. It is 0.8968076840952135, but should be close to 0.8. Try to increase the number of tuning steps.\n"
     ]
    },
    {
     "name": "stdout",
     "output_type": "stream",
     "text": [
      "/!\\ Automatically setting parameter precision...\n",
      "Generating single subject models for 1 subjects...\n",
      "Fitting 1 model(s) using MCMC...\n",
      "  Fitting model 1 of 1...\n"
     ]
    },
    {
     "name": "stderr",
     "output_type": "stream",
     "text": [
      "INFO (theano.gof.compilelock): Waiting for existing lock by process '3852' (I am process '4590')\n",
      "INFO (theano.gof.compilelock): To manually release the lock, delete /Users/felixmolter/.theano/compiledir_Darwin-17.7.0-x86_64-i386-64bit-i386-3.6.8-64/lock_dir\n",
      "Sequential sampling (2 chains in 1 job)\n",
      "NUTS: [tau, s, gamma, v]\n",
      "The number of effective samples is smaller than 25% for some parameters.\n"
     ]
    },
    {
     "name": "stdout",
     "output_type": "stream",
     "text": [
      "/!\\ Automatically setting parameter precision...\n",
      "Generating single subject models for 1 subjects...\n",
      "Fitting 1 model(s) using MCMC...\n",
      "  Fitting model 1 of 1...\n"
     ]
    },
    {
     "name": "stderr",
     "output_type": "stream",
     "text": [
      "Sequential sampling (2 chains in 1 job)\n",
      "NUTS: [tau, s, gamma, v]\n",
      "There was 1 divergence after tuning. Increase `target_accept` or reparameterize.\n"
     ]
    },
    {
     "name": "stdout",
     "output_type": "stream",
     "text": [
      "/!\\ Automatically setting parameter precision...\n",
      "Generating single subject models for 1 subjects...\n",
      "Fitting 1 model(s) using MCMC...\n",
      "  Fitting model 1 of 1...\n"
     ]
    },
    {
     "name": "stderr",
     "output_type": "stream",
     "text": [
      "Sequential sampling (2 chains in 1 job)\n",
      "NUTS: [tau, s, gamma, v]\n"
     ]
    },
    {
     "name": "stdout",
     "output_type": "stream",
     "text": [
      "/!\\ Automatically setting parameter precision...\n",
      "Generating single subject models for 1 subjects...\n",
      "Fitting 1 model(s) using MCMC...\n",
      "  Fitting model 1 of 1...\n"
     ]
    },
    {
     "name": "stderr",
     "output_type": "stream",
     "text": [
      "Sequential sampling (2 chains in 1 job)\n",
      "NUTS: [tau, s, gamma, v]\n"
     ]
    },
    {
     "name": "stdout",
     "output_type": "stream",
     "text": [
      "/!\\ Automatically setting parameter precision...\n",
      "Generating single subject models for 1 subjects...\n",
      "Fitting 1 model(s) using MCMC...\n",
      "  Fitting model 1 of 1...\n"
     ]
    },
    {
     "name": "stderr",
     "output_type": "stream",
     "text": [
      "Sequential sampling (2 chains in 1 job)\n",
      "NUTS: [tau, s, gamma, v]\n"
     ]
    },
    {
     "name": "stdout",
     "output_type": "stream",
     "text": [
      "/!\\ Automatically setting parameter precision...\n",
      "Generating single subject models for 1 subjects...\n",
      "Fitting 1 model(s) using MCMC...\n",
      "  Fitting model 1 of 1...\n"
     ]
    },
    {
     "name": "stderr",
     "output_type": "stream",
     "text": [
      "Sequential sampling (2 chains in 1 job)\n",
      "NUTS: [tau, s, gamma, v]\n",
      "The acceptance probability does not match the target. It is 0.6828104634082814, but should be close to 0.8. Try to increase the number of tuning steps.\n"
     ]
    },
    {
     "name": "stdout",
     "output_type": "stream",
     "text": [
      "/!\\ Automatically setting parameter precision...\n",
      "Generating single subject models for 1 subjects...\n",
      "Fitting 1 model(s) using MCMC...\n",
      "  Fitting model 1 of 1...\n"
     ]
    },
    {
     "name": "stderr",
     "output_type": "stream",
     "text": [
      "Sequential sampling (2 chains in 1 job)\n",
      "NUTS: [tau, s, gamma, v]\n",
      "The acceptance probability does not match the target. It is 0.704828200118636, but should be close to 0.8. Try to increase the number of tuning steps.\n"
     ]
    },
    {
     "name": "stdout",
     "output_type": "stream",
     "text": [
      "/!\\ Automatically setting parameter precision...\n",
      "Generating single subject models for 1 subjects...\n",
      "Fitting 1 model(s) using MCMC...\n",
      "  Fitting model 1 of 1...\n"
     ]
    },
    {
     "name": "stderr",
     "output_type": "stream",
     "text": [
      "Sequential sampling (2 chains in 1 job)\n",
      "NUTS: [tau, s, gamma, v]\n"
     ]
    },
    {
     "name": "stdout",
     "output_type": "stream",
     "text": [
      "/!\\ Automatically setting parameter precision...\n",
      "Generating single subject models for 1 subjects...\n",
      "/!\\ Automatically setting parameter precision...\n",
      "Generating single subject models for 1 subjects...\n",
      "Fitting 1 model(s) using MCMC...\n",
      "  Fitting model 1 of 1...\n"
     ]
    },
    {
     "name": "stderr",
     "output_type": "stream",
     "text": [
      "INFO (theano.gof.compilelock): Waiting for existing lock by process '5275' (I am process '4595')\n",
      "INFO (theano.gof.compilelock): To manually release the lock, delete /Users/felixmolter/.theano/compiledir_Darwin-17.7.0-x86_64-i386-64bit-i386-3.6.8-64/lock_dir\n",
      "INFO (theano.gof.compilelock): Waiting for existing lock by process '3852' (I am process '4590')\n",
      "INFO (theano.gof.compilelock): To manually release the lock, delete /Users/felixmolter/.theano/compiledir_Darwin-17.7.0-x86_64-i386-64bit-i386-3.6.8-64/lock_dir\n"
     ]
    },
    {
     "name": "stdout",
     "output_type": "stream",
     "text": [
      "Fitting 1 model(s) using MCMC...\n",
      "  Fitting model 1 of 1...\n"
     ]
    },
    {
     "name": "stderr",
     "output_type": "stream",
     "text": [
      "Sequential sampling (2 chains in 1 job)\n",
      "NUTS: [tau, s, gamma, v]\n",
      "Sequential sampling (2 chains in 1 job)\n",
      "NUTS: [tau, s, gamma, v]\n"
     ]
    },
    {
     "name": "stdout",
     "output_type": "stream",
     "text": [
      "/!\\ Automatically setting parameter precision...\n",
      "Generating single subject models for 1 subjects...\n",
      "Fitting 1 model(s) using MCMC...\n",
      "  Fitting model 1 of 1...\n"
     ]
    },
    {
     "name": "stderr",
     "output_type": "stream",
     "text": [
      "Sequential sampling (2 chains in 1 job)\n",
      "NUTS: [tau, s, gamma, v]\n"
     ]
    },
    {
     "name": "stdout",
     "output_type": "stream",
     "text": [
      "/!\\ Automatically setting parameter precision...\n",
      "Generating single subject models for 1 subjects...\n",
      "Fitting 1 model(s) using MCMC...\n",
      "  Fitting model 1 of 1...\n"
     ]
    },
    {
     "name": "stderr",
     "output_type": "stream",
     "text": [
      "Sequential sampling (2 chains in 1 job)\n",
      "NUTS: [tau, s, gamma, v]\n"
     ]
    },
    {
     "name": "stdout",
     "output_type": "stream",
     "text": [
      "/!\\ Automatically setting parameter precision...\n",
      "Generating single subject models for 1 subjects...\n",
      "Fitting 1 model(s) using MCMC...\n",
      "  Fitting model 1 of 1...\n"
     ]
    },
    {
     "name": "stderr",
     "output_type": "stream",
     "text": [
      "Sequential sampling (2 chains in 1 job)\n",
      "NUTS: [tau, s, gamma, v]\n",
      "The acceptance probability does not match the target. It is 0.8916533314226932, but should be close to 0.8. Try to increase the number of tuning steps.\n"
     ]
    },
    {
     "name": "stdout",
     "output_type": "stream",
     "text": [
      "/!\\ Automatically setting parameter precision...\n",
      "Generating single subject models for 1 subjects...\n",
      "Fitting 1 model(s) using MCMC...\n",
      "  Fitting model 1 of 1...\n"
     ]
    },
    {
     "name": "stderr",
     "output_type": "stream",
     "text": [
      "Sequential sampling (2 chains in 1 job)\n",
      "NUTS: [tau, s, gamma, v]\n"
     ]
    },
    {
     "name": "stdout",
     "output_type": "stream",
     "text": [
      "/!\\ Automatically setting parameter precision...\n",
      "Generating single subject models for 1 subjects...\n",
      "Fitting 1 model(s) using MCMC...\n",
      "  Fitting model 1 of 1...\n"
     ]
    },
    {
     "name": "stderr",
     "output_type": "stream",
     "text": [
      "Sequential sampling (2 chains in 1 job)\n",
      "NUTS: [tau, s, gamma, v]\n"
     ]
    },
    {
     "name": "stdout",
     "output_type": "stream",
     "text": [
      "/!\\ Automatically setting parameter precision...\n",
      "Generating single subject models for 1 subjects...\n",
      "Fitting 1 model(s) using MCMC...\n",
      "  Fitting model 1 of 1...\n"
     ]
    },
    {
     "name": "stderr",
     "output_type": "stream",
     "text": [
      "Sequential sampling (2 chains in 1 job)\n",
      "NUTS: [tau, s, gamma, v]\n",
      "The acceptance probability does not match the target. It is 0.6315304259343973, but should be close to 0.8. Try to increase the number of tuning steps.\n",
      "The acceptance probability does not match the target. It is 0.7170928161966489, but should be close to 0.8. Try to increase the number of tuning steps.\n"
     ]
    },
    {
     "name": "stdout",
     "output_type": "stream",
     "text": [
      "/!\\ Automatically setting parameter precision...\n",
      "Generating single subject models for 1 subjects...\n",
      "Fitting 1 model(s) using MCMC...\n",
      "  Fitting model 1 of 1...\n"
     ]
    },
    {
     "name": "stderr",
     "output_type": "stream",
     "text": [
      "Sequential sampling (2 chains in 1 job)\n",
      "NUTS: [tau, s, gamma, v]\n"
     ]
    },
    {
     "name": "stdout",
     "output_type": "stream",
     "text": [
      "/!\\ Automatically setting parameter precision...\n",
      "Generating single subject models for 1 subjects...\n",
      "Fitting 1 model(s) using MCMC...\n",
      "  Fitting model 1 of 1...\n"
     ]
    },
    {
     "name": "stderr",
     "output_type": "stream",
     "text": [
      "Sequential sampling (2 chains in 1 job)\n",
      "NUTS: [tau, s, gamma, v]\n",
      "The number of effective samples is smaller than 25% for some parameters.\n"
     ]
    },
    {
     "name": "stdout",
     "output_type": "stream",
     "text": [
      "/!\\ Automatically setting parameter precision...\n",
      "Generating single subject models for 1 subjects...\n",
      "Fitting 1 model(s) using MCMC...\n",
      "  Fitting model 1 of 1...\n"
     ]
    },
    {
     "name": "stderr",
     "output_type": "stream",
     "text": [
      "Sequential sampling (2 chains in 1 job)\n",
      "NUTS: [tau, s, gamma, v]\n"
     ]
    },
    {
     "name": "stdout",
     "output_type": "stream",
     "text": [
      "/!\\ Automatically setting parameter precision...\n",
      "Generating single subject models for 1 subjects...\n",
      "Fitting 1 model(s) using MCMC...\n",
      "  Fitting model 1 of 1...\n"
     ]
    },
    {
     "name": "stderr",
     "output_type": "stream",
     "text": [
      "Sequential sampling (2 chains in 1 job)\n",
      "NUTS: [tau, s, gamma, v]\n"
     ]
    },
    {
     "name": "stdout",
     "output_type": "stream",
     "text": [
      "/!\\ Automatically setting parameter precision...\n",
      "Generating single subject models for 1 subjects...\n",
      "Fitting 1 model(s) using MCMC...\n",
      "  Fitting model 1 of 1...\n"
     ]
    },
    {
     "name": "stderr",
     "output_type": "stream",
     "text": [
      "INFO (theano.gof.compilelock): Waiting for existing lock by unknown process (I am process '4595')\n",
      "INFO (theano.gof.compilelock): To manually release the lock, delete /Users/felixmolter/.theano/compiledir_Darwin-17.7.0-x86_64-i386-64bit-i386-3.6.8-64/lock_dir\n",
      "INFO (theano.gof.compilelock): Waiting for existing lock by process '5273' (I am process '4595')\n",
      "INFO (theano.gof.compilelock): To manually release the lock, delete /Users/felixmolter/.theano/compiledir_Darwin-17.7.0-x86_64-i386-64bit-i386-3.6.8-64/lock_dir\n",
      "Sequential sampling (2 chains in 1 job)\n",
      "NUTS: [tau, s, gamma, v]\n",
      "The acceptance probability does not match the target. It is 0.6755741953639848, but should be close to 0.8. Try to increase the number of tuning steps.\n",
      "The acceptance probability does not match the target. It is 0.7188542360171303, but should be close to 0.8. Try to increase the number of tuning steps.\n"
     ]
    },
    {
     "name": "stdout",
     "output_type": "stream",
     "text": [
      "/!\\ Automatically setting parameter precision...\n",
      "Generating single subject models for 1 subjects...\n",
      "Fitting 1 model(s) using MCMC...\n",
      "  Fitting model 1 of 1...\n"
     ]
    },
    {
     "name": "stderr",
     "output_type": "stream",
     "text": [
      "INFO (theano.gof.compilelock): Waiting for existing lock by process '3852' (I am process '4600')\n",
      "INFO (theano.gof.compilelock): To manually release the lock, delete /Users/felixmolter/.theano/compiledir_Darwin-17.7.0-x86_64-i386-64bit-i386-3.6.8-64/lock_dir\n",
      "Sequential sampling (2 chains in 1 job)\n",
      "NUTS: [tau, s, gamma, v]\n",
      "The number of effective samples is smaller than 25% for some parameters.\n"
     ]
    },
    {
     "name": "stdout",
     "output_type": "stream",
     "text": [
      "/!\\ Automatically setting parameter precision...\n",
      "Generating single subject models for 1 subjects...\n"
     ]
    },
    {
     "name": "stderr",
     "output_type": "stream",
     "text": [
      "INFO (theano.gof.compilelock): Waiting for existing lock by process '3855' (I am process '4599')\n",
      "INFO (theano.gof.compilelock): To manually release the lock, delete /Users/felixmolter/.theano/compiledir_Darwin-17.7.0-x86_64-i386-64bit-i386-3.6.8-64/lock_dir\n"
     ]
    },
    {
     "name": "stdout",
     "output_type": "stream",
     "text": [
      "Fitting 1 model(s) using MCMC...\n",
      "  Fitting model 1 of 1...\n"
     ]
    },
    {
     "name": "stderr",
     "output_type": "stream",
     "text": [
      "Sequential sampling (2 chains in 1 job)\n",
      "NUTS: [tau, s, gamma, v]\n"
     ]
    },
    {
     "name": "stdout",
     "output_type": "stream",
     "text": [
      "/!\\ Automatically setting parameter precision...\n",
      "Generating single subject models for 1 subjects...\n",
      "Fitting 1 model(s) using MCMC...\n",
      "  Fitting model 1 of 1...\n"
     ]
    },
    {
     "name": "stderr",
     "output_type": "stream",
     "text": [
      "Sequential sampling (2 chains in 1 job)\n",
      "NUTS: [tau, s, gamma, v]\n"
     ]
    },
    {
     "name": "stdout",
     "output_type": "stream",
     "text": [
      "/!\\ Automatically setting parameter precision...\n",
      "Generating single subject models for 1 subjects...\n",
      "Fitting 1 model(s) using MCMC...\n",
      "  Fitting model 1 of 1...\n"
     ]
    },
    {
     "name": "stderr",
     "output_type": "stream",
     "text": [
      "Sequential sampling (2 chains in 1 job)\n",
      "NUTS: [tau, s, gamma, v]\n"
     ]
    },
    {
     "name": "stdout",
     "output_type": "stream",
     "text": [
      "/!\\ Automatically setting parameter precision...\n",
      "Generating single subject models for 1 subjects...\n",
      "Fitting 1 model(s) using MCMC...\n",
      "  Fitting model 1 of 1...\n"
     ]
    },
    {
     "name": "stderr",
     "output_type": "stream",
     "text": [
      "Sequential sampling (2 chains in 1 job)\n",
      "NUTS: [tau, s, gamma, v]\n",
      "The number of effective samples is smaller than 25% for some parameters.\n"
     ]
    },
    {
     "name": "stdout",
     "output_type": "stream",
     "text": [
      "/!\\ Automatically setting parameter precision...\n",
      "Generating single subject models for 1 subjects...\n",
      "Fitting 1 model(s) using MCMC...\n",
      "  Fitting model 1 of 1...\n"
     ]
    },
    {
     "name": "stderr",
     "output_type": "stream",
     "text": [
      "The acceptance probability does not match the target. It is 0.698010044686511, but should be close to 0.8. Try to increase the number of tuning steps.\n"
     ]
    },
    {
     "name": "stdout",
     "output_type": "stream",
     "text": [
      "/!\\ Automatically setting parameter precision...\n",
      "Generating single subject models for 1 subjects...\n"
     ]
    },
    {
     "name": "stderr",
     "output_type": "stream",
     "text": [
      "Sequential sampling (2 chains in 1 job)\n",
      "NUTS: [tau, s, gamma, v]\n"
     ]
    },
    {
     "name": "stdout",
     "output_type": "stream",
     "text": [
      "Fitting 1 model(s) using MCMC...\n",
      "  Fitting model 1 of 1...\n",
      "/!\\ Automatically setting parameter precision...\n",
      "Generating single subject models for 1 subjects...\n"
     ]
    },
    {
     "name": "stderr",
     "output_type": "stream",
     "text": [
      "Sequential sampling (2 chains in 1 job)\n",
      "NUTS: [tau, s, gamma, v]\n"
     ]
    },
    {
     "name": "stdout",
     "output_type": "stream",
     "text": [
      "Fitting 1 model(s) using MCMC...\n",
      "  Fitting model 1 of 1...\n"
     ]
    },
    {
     "name": "stderr",
     "output_type": "stream",
     "text": [
      "INFO (theano.gof.compilelock): Waiting for existing lock by process '5276' (I am process '4595')\n",
      "INFO (theano.gof.compilelock): To manually release the lock, delete /Users/felixmolter/.theano/compiledir_Darwin-17.7.0-x86_64-i386-64bit-i386-3.6.8-64/lock_dir\n",
      "Sequential sampling (2 chains in 1 job)\n",
      "NUTS: [tau, s, gamma, v]\n"
     ]
    },
    {
     "name": "stdout",
     "output_type": "stream",
     "text": [
      "/!\\ Automatically setting parameter precision...\n",
      "Generating single subject models for 1 subjects...\n",
      "Fitting 1 model(s) using MCMC...\n",
      "  Fitting model 1 of 1...\n",
      "/!\\ Automatically setting parameter precision...\n"
     ]
    },
    {
     "name": "stderr",
     "output_type": "stream",
     "text": [
      "Sequential sampling (2 chains in 1 job)\n",
      "NUTS: [tau, s, gamma, v]\n"
     ]
    },
    {
     "name": "stdout",
     "output_type": "stream",
     "text": [
      "Generating single subject models for 1 subjects...\n",
      "Fitting 1 model(s) using MCMC...\n",
      "  Fitting model 1 of 1...\n"
     ]
    },
    {
     "name": "stderr",
     "output_type": "stream",
     "text": [
      "Sequential sampling (2 chains in 1 job)\n",
      "NUTS: [tau, s, gamma, v]\n",
      "The number of effective samples is smaller than 25% for some parameters.\n"
     ]
    },
    {
     "name": "stdout",
     "output_type": "stream",
     "text": [
      "/!\\ Automatically setting parameter precision...\n",
      "Generating single subject models for 1 subjects...\n",
      "Fitting 1 model(s) using MCMC...\n",
      "  Fitting model 1 of 1...\n"
     ]
    },
    {
     "name": "stderr",
     "output_type": "stream",
     "text": [
      "Sequential sampling (2 chains in 1 job)\n",
      "NUTS: [tau, s, gamma, v]\n"
     ]
    },
    {
     "name": "stdout",
     "output_type": "stream",
     "text": [
      "/!\\ Automatically setting parameter precision...\n",
      "Generating single subject models for 1 subjects...\n",
      "Fitting 1 model(s) using MCMC...\n",
      "  Fitting model 1 of 1...\n"
     ]
    },
    {
     "name": "stderr",
     "output_type": "stream",
     "text": [
      "Sequential sampling (2 chains in 1 job)\n",
      "NUTS: [tau, s, gamma, v]\n"
     ]
    },
    {
     "name": "stdout",
     "output_type": "stream",
     "text": [
      "/!\\ Automatically setting parameter precision...\n",
      "Generating single subject models for 1 subjects...\n",
      "Fitting 1 model(s) using MCMC...\n",
      "  Fitting model 1 of 1...\n"
     ]
    },
    {
     "name": "stderr",
     "output_type": "stream",
     "text": [
      "INFO (theano.gof.compilelock): Waiting for existing lock by process '5276' (I am process '4599')\n",
      "INFO (theano.gof.compilelock): To manually release the lock, delete /Users/felixmolter/.theano/compiledir_Darwin-17.7.0-x86_64-i386-64bit-i386-3.6.8-64/lock_dir\n",
      "INFO (theano.gof.compilelock): Waiting for existing lock by process '5276' (I am process '4599')\n",
      "INFO (theano.gof.compilelock): To manually release the lock, delete /Users/felixmolter/.theano/compiledir_Darwin-17.7.0-x86_64-i386-64bit-i386-3.6.8-64/lock_dir\n"
     ]
    },
    {
     "name": "stdout",
     "output_type": "stream",
     "text": [
      "/!\\ Automatically setting parameter precision...\n",
      "Generating single subject models for 1 subjects...\n",
      "Fitting 1 model(s) using MCMC...\n",
      "  Fitting model 1 of 1...\n"
     ]
    },
    {
     "name": "stderr",
     "output_type": "stream",
     "text": [
      "INFO (theano.gof.compilelock): Waiting for existing lock by process '5275' (I am process '4599')\n",
      "INFO (theano.gof.compilelock): To manually release the lock, delete /Users/felixmolter/.theano/compiledir_Darwin-17.7.0-x86_64-i386-64bit-i386-3.6.8-64/lock_dir\n",
      "Sequential sampling (2 chains in 1 job)\n",
      "NUTS: [tau, s, gamma, v]\n",
      "INFO (theano.gof.compilelock): Waiting for existing lock by process '5273' (I am process '4599')\n",
      "INFO (theano.gof.compilelock): To manually release the lock, delete /Users/felixmolter/.theano/compiledir_Darwin-17.7.0-x86_64-i386-64bit-i386-3.6.8-64/lock_dir\n",
      "Sequential sampling (2 chains in 1 job)\n",
      "NUTS: [tau, s, gamma, v]\n"
     ]
    },
    {
     "name": "stdout",
     "output_type": "stream",
     "text": [
      "/!\\ Automatically setting parameter precision...\n",
      "Generating single subject models for 1 subjects...\n",
      "Fitting 1 model(s) using MCMC...\n",
      "  Fitting model 1 of 1...\n"
     ]
    },
    {
     "name": "stderr",
     "output_type": "stream",
     "text": [
      "INFO (theano.gof.compilelock): Waiting for existing lock by process '5275' (I am process '4590')\n",
      "INFO (theano.gof.compilelock): To manually release the lock, delete /Users/felixmolter/.theano/compiledir_Darwin-17.7.0-x86_64-i386-64bit-i386-3.6.8-64/lock_dir\n",
      "Sequential sampling (2 chains in 1 job)\n",
      "NUTS: [tau, s, gamma, v]\n",
      "The acceptance probability does not match the target. It is 0.682824131810791, but should be close to 0.8. Try to increase the number of tuning steps.\n",
      "The number of effective samples is smaller than 25% for some parameters.\n"
     ]
    },
    {
     "name": "stdout",
     "output_type": "stream",
     "text": [
      "/!\\ Automatically setting parameter precision...\n"
     ]
    },
    {
     "name": "stderr",
     "output_type": "stream",
     "text": [
      "There were 20 divergences after tuning. Increase `target_accept` or reparameterize.\n"
     ]
    },
    {
     "name": "stdout",
     "output_type": "stream",
     "text": [
      "/!\\ Automatically setting parameter precision...\n",
      "Generating single subject models for 1 subjects...\n",
      "Generating single subject models for 1 subjects...\n",
      "Fitting 1 model(s) using MCMC...\n",
      "  Fitting model 1 of 1...\n",
      "Fitting 1 model(s) using MCMC...\n",
      "  Fitting model 1 of 1...\n"
     ]
    },
    {
     "name": "stderr",
     "output_type": "stream",
     "text": [
      "Sequential sampling (2 chains in 1 job)\n",
      "NUTS: [tau, s, gamma, v]\n",
      "INFO (theano.gof.compilelock): Waiting for existing lock by process '5273' (I am process '4595')\n",
      "INFO (theano.gof.compilelock): To manually release the lock, delete /Users/felixmolter/.theano/compiledir_Darwin-17.7.0-x86_64-i386-64bit-i386-3.6.8-64/lock_dir\n",
      "Sequential sampling (2 chains in 1 job)\n",
      "NUTS: [tau, s, gamma, v]\n"
     ]
    },
    {
     "name": "stdout",
     "output_type": "stream",
     "text": [
      "/!\\ Automatically setting parameter precision...\n",
      "Generating single subject models for 1 subjects...\n",
      "Fitting 1 model(s) using MCMC...\n",
      "  Fitting model 1 of 1...\n"
     ]
    },
    {
     "name": "stderr",
     "output_type": "stream",
     "text": [
      "Sequential sampling (2 chains in 1 job)\n",
      "NUTS: [tau, s, gamma, v]\n"
     ]
    },
    {
     "name": "stdout",
     "output_type": "stream",
     "text": [
      "/!\\ Automatically setting parameter precision...\n",
      "Generating single subject models for 1 subjects...\n"
     ]
    },
    {
     "name": "stderr",
     "output_type": "stream",
     "text": [
      "INFO (theano.gof.compilelock): Waiting for existing lock by process '3853' (I am process '4599')\n",
      "INFO (theano.gof.compilelock): To manually release the lock, delete /Users/felixmolter/.theano/compiledir_Darwin-17.7.0-x86_64-i386-64bit-i386-3.6.8-64/lock_dir\n",
      "INFO (theano.gof.compilelock): Waiting for existing lock by process '3853' (I am process '4599')\n",
      "INFO (theano.gof.compilelock): To manually release the lock, delete /Users/felixmolter/.theano/compiledir_Darwin-17.7.0-x86_64-i386-64bit-i386-3.6.8-64/lock_dir\n"
     ]
    },
    {
     "name": "stdout",
     "output_type": "stream",
     "text": [
      "Fitting 1 model(s) using MCMC...\n",
      "  Fitting model 1 of 1...\n"
     ]
    },
    {
     "name": "stderr",
     "output_type": "stream",
     "text": [
      "INFO (theano.gof.compilelock): Waiting for existing lock by process '3854' (I am process '4599')\n",
      "INFO (theano.gof.compilelock): To manually release the lock, delete /Users/felixmolter/.theano/compiledir_Darwin-17.7.0-x86_64-i386-64bit-i386-3.6.8-64/lock_dir\n",
      "INFO (theano.gof.compilelock): Waiting for existing lock by process '3855' (I am process '4599')\n",
      "INFO (theano.gof.compilelock): To manually release the lock, delete /Users/felixmolter/.theano/compiledir_Darwin-17.7.0-x86_64-i386-64bit-i386-3.6.8-64/lock_dir\n",
      "Sequential sampling (2 chains in 1 job)\n",
      "NUTS: [tau, s, gamma, v]\n"
     ]
    },
    {
     "name": "stdout",
     "output_type": "stream",
     "text": [
      "/!\\ Automatically setting parameter precision...\n",
      "Generating single subject models for 1 subjects...\n",
      "Fitting 1 model(s) using MCMC...\n",
      "  Fitting model 1 of 1...\n"
     ]
    },
    {
     "name": "stderr",
     "output_type": "stream",
     "text": [
      "INFO (theano.gof.compilelock): Waiting for existing lock by process '5273' (I am process '4590')\n",
      "INFO (theano.gof.compilelock): To manually release the lock, delete /Users/felixmolter/.theano/compiledir_Darwin-17.7.0-x86_64-i386-64bit-i386-3.6.8-64/lock_dir\n",
      "INFO (theano.gof.compilelock): Waiting for existing lock by process '5273' (I am process '4590')\n",
      "INFO (theano.gof.compilelock): To manually release the lock, delete /Users/felixmolter/.theano/compiledir_Darwin-17.7.0-x86_64-i386-64bit-i386-3.6.8-64/lock_dir\n",
      "INFO (theano.gof.compilelock): Waiting for existing lock by process '5275' (I am process '4590')\n",
      "INFO (theano.gof.compilelock): To manually release the lock, delete /Users/felixmolter/.theano/compiledir_Darwin-17.7.0-x86_64-i386-64bit-i386-3.6.8-64/lock_dir\n",
      "Sequential sampling (2 chains in 1 job)\n",
      "NUTS: [tau, s, gamma, v]\n",
      "The acceptance probability does not match the target. It is 0.6516693099175258, but should be close to 0.8. Try to increase the number of tuning steps.\n",
      "The number of effective samples is smaller than 25% for some parameters.\n"
     ]
    },
    {
     "name": "stdout",
     "output_type": "stream",
     "text": [
      "/!\\ Automatically setting parameter precision...\n",
      "Generating single subject models for 1 subjects...\n",
      "Fitting 1 model(s) using MCMC...\n",
      "  Fitting model 1 of 1...\n"
     ]
    },
    {
     "name": "stderr",
     "output_type": "stream",
     "text": [
      "Sequential sampling (2 chains in 1 job)\n",
      "NUTS: [tau, s, gamma, v]\n",
      "The acceptance probability does not match the target. It is 0.6805572354557592, but should be close to 0.8. Try to increase the number of tuning steps.\n",
      "The number of effective samples is smaller than 25% for some parameters.\n"
     ]
    },
    {
     "name": "stdout",
     "output_type": "stream",
     "text": [
      "/!\\ Automatically setting parameter precision...\n",
      "Generating single subject models for 1 subjects...\n",
      "Fitting 1 model(s) using MCMC...\n",
      "  Fitting model 1 of 1...\n"
     ]
    },
    {
     "name": "stderr",
     "output_type": "stream",
     "text": [
      "INFO (theano.gof.compilelock): Waiting for existing lock by process '3853' (I am process '4590')\n",
      "INFO (theano.gof.compilelock): To manually release the lock, delete /Users/felixmolter/.theano/compiledir_Darwin-17.7.0-x86_64-i386-64bit-i386-3.6.8-64/lock_dir\n",
      "INFO (theano.gof.compilelock): Waiting for existing lock by process '5273' (I am process '4590')\n",
      "INFO (theano.gof.compilelock): To manually release the lock, delete /Users/felixmolter/.theano/compiledir_Darwin-17.7.0-x86_64-i386-64bit-i386-3.6.8-64/lock_dir\n",
      "Sequential sampling (2 chains in 1 job)\n",
      "NUTS: [tau, s, gamma, v]\n"
     ]
    },
    {
     "name": "stdout",
     "output_type": "stream",
     "text": [
      "/!\\ Automatically setting parameter precision...\n",
      "Generating single subject models for 1 subjects...\n",
      "Fitting 1 model(s) using MCMC...\n",
      "  Fitting model 1 of 1...\n"
     ]
    },
    {
     "name": "stderr",
     "output_type": "stream",
     "text": [
      "INFO (theano.gof.compilelock): Waiting for existing lock by process '5275' (I am process '4599')\n",
      "INFO (theano.gof.compilelock): To manually release the lock, delete /Users/felixmolter/.theano/compiledir_Darwin-17.7.0-x86_64-i386-64bit-i386-3.6.8-64/lock_dir\n",
      "INFO (theano.gof.compilelock): Waiting for existing lock by process '5275' (I am process '4599')\n",
      "INFO (theano.gof.compilelock): To manually release the lock, delete /Users/felixmolter/.theano/compiledir_Darwin-17.7.0-x86_64-i386-64bit-i386-3.6.8-64/lock_dir\n",
      "Sequential sampling (2 chains in 1 job)\n",
      "NUTS: [tau, s, gamma, v]\n"
     ]
    },
    {
     "name": "stdout",
     "output_type": "stream",
     "text": [
      "/!\\ Automatically setting parameter precision...\n",
      "Generating single subject models for 1 subjects...\n",
      "Fitting 1 model(s) using MCMC...\n",
      "  Fitting model 1 of 1...\n"
     ]
    },
    {
     "name": "stderr",
     "output_type": "stream",
     "text": [
      "Sequential sampling (2 chains in 1 job)\n",
      "NUTS: [tau, s, gamma, v]\n"
     ]
    },
    {
     "name": "stdout",
     "output_type": "stream",
     "text": [
      "/!\\ Automatically setting parameter precision...\n",
      "Generating single subject models for 1 subjects...\n",
      "Fitting 1 model(s) using MCMC...\n",
      "  Fitting model 1 of 1...\n"
     ]
    },
    {
     "name": "stderr",
     "output_type": "stream",
     "text": [
      "Sequential sampling (2 chains in 1 job)\n",
      "NUTS: [tau, s, gamma, v]\n",
      "The number of effective samples is smaller than 25% for some parameters.\n"
     ]
    },
    {
     "name": "stdout",
     "output_type": "stream",
     "text": [
      "/!\\ Automatically setting parameter precision...\n",
      "Generating single subject models for 1 subjects...\n"
     ]
    },
    {
     "name": "stderr",
     "output_type": "stream",
     "text": [
      "INFO (theano.gof.compilelock): Waiting for existing lock by process '3855' (I am process '4590')\n",
      "INFO (theano.gof.compilelock): To manually release the lock, delete /Users/felixmolter/.theano/compiledir_Darwin-17.7.0-x86_64-i386-64bit-i386-3.6.8-64/lock_dir\n",
      "The number of effective samples is smaller than 25% for some parameters.\n"
     ]
    },
    {
     "name": "stdout",
     "output_type": "stream",
     "text": [
      "/!\\ Automatically setting parameter precision...\n"
     ]
    },
    {
     "name": "stderr",
     "output_type": "stream",
     "text": [
      "INFO (theano.gof.compilelock): Waiting for existing lock by process '5276' (I am process '4590')\n",
      "INFO (theano.gof.compilelock): To manually release the lock, delete /Users/felixmolter/.theano/compiledir_Darwin-17.7.0-x86_64-i386-64bit-i386-3.6.8-64/lock_dir\n"
     ]
    },
    {
     "name": "stdout",
     "output_type": "stream",
     "text": [
      "Generating single subject models for 1 subjects...\n",
      "Fitting 1 model(s) using MCMC...\n",
      "  Fitting model 1 of 1...\n",
      "Fitting 1 model(s) using MCMC...\n",
      "  Fitting model 1 of 1...\n"
     ]
    },
    {
     "name": "stderr",
     "output_type": "stream",
     "text": [
      "Sequential sampling (2 chains in 1 job)\n",
      "NUTS: [tau, s, gamma, v]\n",
      "INFO (theano.gof.compilelock): Waiting for existing lock by process '5273' (I am process '4590')\n",
      "INFO (theano.gof.compilelock): To manually release the lock, delete /Users/felixmolter/.theano/compiledir_Darwin-17.7.0-x86_64-i386-64bit-i386-3.6.8-64/lock_dir\n",
      "INFO (theano.gof.compilelock): Waiting for existing lock by process '5274' (I am process '4590')\n",
      "INFO (theano.gof.compilelock): To manually release the lock, delete /Users/felixmolter/.theano/compiledir_Darwin-17.7.0-x86_64-i386-64bit-i386-3.6.8-64/lock_dir\n",
      "Sequential sampling (2 chains in 1 job)\n",
      "NUTS: [tau, s, gamma, v]\n"
     ]
    },
    {
     "name": "stdout",
     "output_type": "stream",
     "text": [
      "/!\\ Automatically setting parameter precision...\n",
      "Generating single subject models for 1 subjects...\n",
      "/!\\ Automatically setting parameter precision...\n",
      "Generating single subject models for 1 subjects...\n",
      "Fitting 1 model(s) using MCMC...\n",
      "  Fitting model 1 of 1...\n",
      "Fitting 1 model(s) using MCMC...\n",
      "  Fitting model 1 of 1...\n"
     ]
    },
    {
     "name": "stderr",
     "output_type": "stream",
     "text": [
      "INFO (theano.gof.compilelock): Waiting for existing lock by process '4599' (I am process '4590')\n",
      "INFO (theano.gof.compilelock): To manually release the lock, delete /Users/felixmolter/.theano/compiledir_Darwin-17.7.0-x86_64-i386-64bit-i386-3.6.8-64/lock_dir\n",
      "Sequential sampling (2 chains in 1 job)\n",
      "NUTS: [tau, s, gamma, v]\n",
      "INFO (theano.gof.compilelock): Waiting for existing lock by process '5273' (I am process '4590')\n",
      "INFO (theano.gof.compilelock): To manually release the lock, delete /Users/felixmolter/.theano/compiledir_Darwin-17.7.0-x86_64-i386-64bit-i386-3.6.8-64/lock_dir\n",
      "INFO (theano.gof.compilelock): Waiting for existing lock by process '5273' (I am process '4590')\n",
      "INFO (theano.gof.compilelock): To manually release the lock, delete /Users/felixmolter/.theano/compiledir_Darwin-17.7.0-x86_64-i386-64bit-i386-3.6.8-64/lock_dir\n",
      "INFO (theano.gof.compilelock): Waiting for existing lock by process '5275' (I am process '4590')\n",
      "INFO (theano.gof.compilelock): To manually release the lock, delete /Users/felixmolter/.theano/compiledir_Darwin-17.7.0-x86_64-i386-64bit-i386-3.6.8-64/lock_dir\n",
      "Sequential sampling (2 chains in 1 job)\n",
      "NUTS: [tau, s, gamma, v]\n"
     ]
    },
    {
     "name": "stdout",
     "output_type": "stream",
     "text": [
      "/!\\ Automatically setting parameter precision...\n",
      "Generating single subject models for 1 subjects...\n",
      "Fitting 1 model(s) using MCMC...\n",
      "  Fitting model 1 of 1...\n"
     ]
    },
    {
     "name": "stderr",
     "output_type": "stream",
     "text": [
      "Sequential sampling (2 chains in 1 job)\n",
      "NUTS: [tau, s, gamma, v]\n"
     ]
    },
    {
     "name": "stdout",
     "output_type": "stream",
     "text": [
      "/!\\ Automatically setting parameter precision...\n",
      "Generating single subject models for 1 subjects...\n",
      "Fitting 1 model(s) using MCMC...\n",
      "  Fitting model 1 of 1...\n"
     ]
    },
    {
     "name": "stderr",
     "output_type": "stream",
     "text": [
      "Sequential sampling (2 chains in 1 job)\n",
      "NUTS: [tau, s, gamma, v]\n",
      "There was 1 divergence after tuning. Increase `target_accept` or reparameterize.\n",
      "There were 3 divergences after tuning. Increase `target_accept` or reparameterize.\n"
     ]
    },
    {
     "name": "stdout",
     "output_type": "stream",
     "text": [
      "/!\\ Automatically setting parameter precision...\n",
      "Generating single subject models for 1 subjects...\n"
     ]
    },
    {
     "name": "stderr",
     "output_type": "stream",
     "text": [
      "INFO (theano.gof.compilelock): Waiting for existing lock by process '5275' (I am process '4599')\n",
      "INFO (theano.gof.compilelock): To manually release the lock, delete /Users/felixmolter/.theano/compiledir_Darwin-17.7.0-x86_64-i386-64bit-i386-3.6.8-64/lock_dir\n"
     ]
    },
    {
     "name": "stdout",
     "output_type": "stream",
     "text": [
      "Fitting 1 model(s) using MCMC...\n",
      "  Fitting model 1 of 1...\n"
     ]
    },
    {
     "name": "stderr",
     "output_type": "stream",
     "text": [
      "Sequential sampling (2 chains in 1 job)\n",
      "NUTS: [tau, s, gamma, v]\n"
     ]
    },
    {
     "name": "stdout",
     "output_type": "stream",
     "text": [
      "/!\\ Automatically setting parameter precision...\n",
      "Generating single subject models for 1 subjects...\n",
      "Fitting 1 model(s) using MCMC...\n",
      "  Fitting model 1 of 1...\n"
     ]
    },
    {
     "name": "stderr",
     "output_type": "stream",
     "text": [
      "INFO (theano.gof.compilelock): Waiting for existing lock by process '3855' (I am process '4599')\n",
      "INFO (theano.gof.compilelock): To manually release the lock, delete /Users/felixmolter/.theano/compiledir_Darwin-17.7.0-x86_64-i386-64bit-i386-3.6.8-64/lock_dir\n",
      "INFO (theano.gof.compilelock): Waiting for existing lock by process '3854' (I am process '4599')\n",
      "INFO (theano.gof.compilelock): To manually release the lock, delete /Users/felixmolter/.theano/compiledir_Darwin-17.7.0-x86_64-i386-64bit-i386-3.6.8-64/lock_dir\n",
      "Sequential sampling (2 chains in 1 job)\n",
      "NUTS: [tau, s, gamma, v]\n",
      "There were 4 divergences after tuning. Increase `target_accept` or reparameterize.\n",
      "There were 10 divergences after tuning. Increase `target_accept` or reparameterize.\n"
     ]
    },
    {
     "name": "stdout",
     "output_type": "stream",
     "text": [
      "/!\\ Automatically setting parameter precision...\n",
      "Generating single subject models for 1 subjects...\n"
     ]
    },
    {
     "name": "stderr",
     "output_type": "stream",
     "text": [
      "INFO (theano.gof.compilelock): Waiting for existing lock by process '5275' (I am process '4599')\n",
      "INFO (theano.gof.compilelock): To manually release the lock, delete /Users/felixmolter/.theano/compiledir_Darwin-17.7.0-x86_64-i386-64bit-i386-3.6.8-64/lock_dir\n"
     ]
    },
    {
     "name": "stdout",
     "output_type": "stream",
     "text": [
      "Fitting 1 model(s) using MCMC...\n",
      "  Fitting model 1 of 1...\n"
     ]
    },
    {
     "name": "stderr",
     "output_type": "stream",
     "text": [
      "Sequential sampling (2 chains in 1 job)\n",
      "NUTS: [tau, s, gamma, v]\n",
      "There were 7 divergences after tuning. Increase `target_accept` or reparameterize.\n",
      "There were 10 divergences after tuning. Increase `target_accept` or reparameterize.\n",
      "The number of effective samples is smaller than 25% for some parameters.\n"
     ]
    },
    {
     "name": "stdout",
     "output_type": "stream",
     "text": [
      "/!\\ Automatically setting parameter precision...\n",
      "Generating single subject models for 1 subjects...\n",
      "Fitting 1 model(s) using MCMC...\n",
      "  Fitting model 1 of 1...\n"
     ]
    },
    {
     "name": "stderr",
     "output_type": "stream",
     "text": [
      "Sequential sampling (2 chains in 1 job)\n",
      "NUTS: [tau, s, gamma, v]\n",
      "There were 166 divergences after tuning. Increase `target_accept` or reparameterize.\n",
      "There were 166 divergences after tuning. Increase `target_accept` or reparameterize.\n",
      "The acceptance probability does not match the target. It is 0.9086649523896265, but should be close to 0.8. Try to increase the number of tuning steps.\n",
      "The chain reached the maximum tree depth. Increase max_treedepth, increase target_accept or reparameterize.\n",
      "The number of effective samples is smaller than 25% for some parameters.\n"
     ]
    },
    {
     "name": "stdout",
     "output_type": "stream",
     "text": [
      "/!\\ Automatically setting parameter precision...\n",
      "Generating single subject models for 1 subjects...\n"
     ]
    },
    {
     "name": "stderr",
     "output_type": "stream",
     "text": [
      "INFO (theano.gof.compilelock): Waiting for existing lock by process '5276' (I am process '4589')\n",
      "INFO (theano.gof.compilelock): To manually release the lock, delete /Users/felixmolter/.theano/compiledir_Darwin-17.7.0-x86_64-i386-64bit-i386-3.6.8-64/lock_dir\n"
     ]
    },
    {
     "name": "stdout",
     "output_type": "stream",
     "text": [
      "Fitting 1 model(s) using MCMC...\n",
      "  Fitting model 1 of 1...\n"
     ]
    },
    {
     "name": "stderr",
     "output_type": "stream",
     "text": [
      "Sequential sampling (2 chains in 1 job)\n",
      "NUTS: [tau, s, gamma, v]\n",
      "The chain reached the maximum tree depth. Increase max_treedepth, increase target_accept or reparameterize.\n",
      "The gelman-rubin statistic is larger than 1.4 for some parameters. The sampler did not converge.\n",
      "The estimated number of effective samples is smaller than 200 for some parameters.\n"
     ]
    },
    {
     "name": "stdout",
     "output_type": "stream",
     "text": [
      "/!\\ Automatically setting parameter precision...\n",
      "Generating single subject models for 1 subjects...\n"
     ]
    },
    {
     "name": "stderr",
     "output_type": "stream",
     "text": [
      "INFO (theano.gof.compilelock): Waiting for existing lock by process '5275' (I am process '4600')\n",
      "INFO (theano.gof.compilelock): To manually release the lock, delete /Users/felixmolter/.theano/compiledir_Darwin-17.7.0-x86_64-i386-64bit-i386-3.6.8-64/lock_dir\n"
     ]
    },
    {
     "name": "stdout",
     "output_type": "stream",
     "text": [
      "Fitting 1 model(s) using MCMC...\n",
      "  Fitting model 1 of 1...\n"
     ]
    },
    {
     "name": "stderr",
     "output_type": "stream",
     "text": [
      "The chain reached the maximum tree depth. Increase max_treedepth, increase target_accept or reparameterize.\n",
      "The chain reached the maximum tree depth. Increase max_treedepth, increase target_accept or reparameterize.\n",
      "The number of effective samples is smaller than 25% for some parameters.\n"
     ]
    },
    {
     "name": "stdout",
     "output_type": "stream",
     "text": [
      "/!\\ Automatically setting parameter precision...\n",
      "Generating single subject models for 1 subjects...\n"
     ]
    },
    {
     "name": "stderr",
     "output_type": "stream",
     "text": [
      "INFO (theano.gof.compilelock): Waiting for existing lock by process '5276' (I am process '4600')\n",
      "INFO (theano.gof.compilelock): To manually release the lock, delete /Users/felixmolter/.theano/compiledir_Darwin-17.7.0-x86_64-i386-64bit-i386-3.6.8-64/lock_dir\n",
      "INFO (theano.gof.compilelock): Waiting for existing lock by process '5273' (I am process '4588')\n",
      "INFO (theano.gof.compilelock): To manually release the lock, delete /Users/felixmolter/.theano/compiledir_Darwin-17.7.0-x86_64-i386-64bit-i386-3.6.8-64/lock_dir\n",
      "INFO (theano.gof.compilelock): Waiting for existing lock by process '5273' (I am process '4600')\n",
      "INFO (theano.gof.compilelock): To manually release the lock, delete /Users/felixmolter/.theano/compiledir_Darwin-17.7.0-x86_64-i386-64bit-i386-3.6.8-64/lock_dir\n",
      "INFO (theano.gof.compilelock): Waiting for existing lock by process '5273' (I am process '4588')\n",
      "INFO (theano.gof.compilelock): To manually release the lock, delete /Users/felixmolter/.theano/compiledir_Darwin-17.7.0-x86_64-i386-64bit-i386-3.6.8-64/lock_dir\n",
      "Sequential sampling (2 chains in 1 job)\n",
      "NUTS: [tau, s, gamma, v]\n"
     ]
    },
    {
     "name": "stdout",
     "output_type": "stream",
     "text": [
      "Fitting 1 model(s) using MCMC...\n",
      "  Fitting model 1 of 1...\n"
     ]
    },
    {
     "name": "stderr",
     "output_type": "stream",
     "text": [
      "Sequential sampling (2 chains in 1 job)\n",
      "NUTS: [tau, s, gamma, v]\n"
     ]
    },
    {
     "name": "stdout",
     "output_type": "stream",
     "text": [
      "/!\\ Automatically setting parameter precision...\n",
      "Generating single subject models for 1 subjects...\n",
      "Fitting 1 model(s) using MCMC...\n",
      "  Fitting model 1 of 1...\n"
     ]
    },
    {
     "name": "stderr",
     "output_type": "stream",
     "text": [
      "INFO (theano.gof.compilelock): Waiting for existing lock by process '5276' (I am process '4600')\n",
      "INFO (theano.gof.compilelock): To manually release the lock, delete /Users/felixmolter/.theano/compiledir_Darwin-17.7.0-x86_64-i386-64bit-i386-3.6.8-64/lock_dir\n",
      "INFO (theano.gof.compilelock): Waiting for existing lock by process '3853' (I am process '4600')\n",
      "INFO (theano.gof.compilelock): To manually release the lock, delete /Users/felixmolter/.theano/compiledir_Darwin-17.7.0-x86_64-i386-64bit-i386-3.6.8-64/lock_dir\n",
      "INFO (theano.gof.compilelock): Waiting for existing lock by process '3853' (I am process '4600')\n",
      "INFO (theano.gof.compilelock): To manually release the lock, delete /Users/felixmolter/.theano/compiledir_Darwin-17.7.0-x86_64-i386-64bit-i386-3.6.8-64/lock_dir\n",
      "Sequential sampling (2 chains in 1 job)\n",
      "NUTS: [tau, s, gamma, v]\n"
     ]
    },
    {
     "name": "stdout",
     "output_type": "stream",
     "text": [
      "/!\\ Automatically setting parameter precision...\n",
      "Generating single subject models for 1 subjects...\n",
      "Fitting 1 model(s) using MCMC...\n",
      "  Fitting model 1 of 1...\n"
     ]
    },
    {
     "name": "stderr",
     "output_type": "stream",
     "text": [
      "INFO (theano.gof.compilelock): Waiting for existing lock by process '5275' (I am process '4600')\n",
      "INFO (theano.gof.compilelock): To manually release the lock, delete /Users/felixmolter/.theano/compiledir_Darwin-17.7.0-x86_64-i386-64bit-i386-3.6.8-64/lock_dir\n",
      "INFO (theano.gof.compilelock): Waiting for existing lock by process '5274' (I am process '4600')\n",
      "INFO (theano.gof.compilelock): To manually release the lock, delete /Users/felixmolter/.theano/compiledir_Darwin-17.7.0-x86_64-i386-64bit-i386-3.6.8-64/lock_dir\n",
      "Sequential sampling (2 chains in 1 job)\n",
      "NUTS: [tau, s, gamma, v]\n",
      "The acceptance probability does not match the target. It is 0.892055251122697, but should be close to 0.8. Try to increase the number of tuning steps.\n",
      "The acceptance probability does not match the target. It is 0.8827260726263952, but should be close to 0.8. Try to increase the number of tuning steps.\n"
     ]
    },
    {
     "name": "stdout",
     "output_type": "stream",
     "text": [
      "/!\\ Automatically setting parameter precision...\n",
      "Generating single subject models for 1 subjects...\n",
      "Fitting 1 model(s) using MCMC...\n",
      "  Fitting model 1 of 1...\n"
     ]
    },
    {
     "name": "stderr",
     "output_type": "stream",
     "text": [
      "INFO (theano.gof.compilelock): Waiting for existing lock by process '5276' (I am process '4600')\n",
      "INFO (theano.gof.compilelock): To manually release the lock, delete /Users/felixmolter/.theano/compiledir_Darwin-17.7.0-x86_64-i386-64bit-i386-3.6.8-64/lock_dir\n",
      "INFO (theano.gof.compilelock): Waiting for existing lock by process '5273' (I am process '4600')\n",
      "INFO (theano.gof.compilelock): To manually release the lock, delete /Users/felixmolter/.theano/compiledir_Darwin-17.7.0-x86_64-i386-64bit-i386-3.6.8-64/lock_dir\n",
      "INFO (theano.gof.compilelock): Waiting for existing lock by process '5273' (I am process '4600')\n",
      "INFO (theano.gof.compilelock): To manually release the lock, delete /Users/felixmolter/.theano/compiledir_Darwin-17.7.0-x86_64-i386-64bit-i386-3.6.8-64/lock_dir\n",
      "Sequential sampling (2 chains in 1 job)\n",
      "NUTS: [tau, s, gamma, v]\n",
      "The number of effective samples is smaller than 25% for some parameters.\n"
     ]
    },
    {
     "name": "stdout",
     "output_type": "stream",
     "text": [
      "/!\\ Automatically setting parameter precision...\n",
      "Generating single subject models for 1 subjects...\n",
      "Fitting 1 model(s) using MCMC...\n",
      "  Fitting model 1 of 1...\n"
     ]
    },
    {
     "name": "stderr",
     "output_type": "stream",
     "text": [
      "Sequential sampling (2 chains in 1 job)\n",
      "NUTS: [tau, s, gamma, v]\n"
     ]
    },
    {
     "name": "stdout",
     "output_type": "stream",
     "text": [
      "/!\\ Automatically setting parameter precision...\n",
      "Generating single subject models for 1 subjects...\n",
      "Fitting 1 model(s) using MCMC...\n",
      "  Fitting model 1 of 1...\n"
     ]
    },
    {
     "name": "stderr",
     "output_type": "stream",
     "text": [
      "INFO (theano.gof.compilelock): Waiting for existing lock by process '3852' (I am process '4600')\n",
      "INFO (theano.gof.compilelock): To manually release the lock, delete /Users/felixmolter/.theano/compiledir_Darwin-17.7.0-x86_64-i386-64bit-i386-3.6.8-64/lock_dir\n",
      "Sequential sampling (2 chains in 1 job)\n",
      "NUTS: [tau, s, gamma, v]\n"
     ]
    },
    {
     "name": "stdout",
     "output_type": "stream",
     "text": [
      "/!\\ Automatically setting parameter precision...\n",
      "Generating single subject models for 1 subjects...\n"
     ]
    },
    {
     "name": "stderr",
     "output_type": "stream",
     "text": [
      "INFO (theano.gof.compilelock): Waiting for existing lock by process '3855' (I am process '4600')\n",
      "INFO (theano.gof.compilelock): To manually release the lock, delete /Users/felixmolter/.theano/compiledir_Darwin-17.7.0-x86_64-i386-64bit-i386-3.6.8-64/lock_dir\n"
     ]
    },
    {
     "name": "stdout",
     "output_type": "stream",
     "text": [
      "Fitting 1 model(s) using MCMC...\n",
      "  Fitting model 1 of 1...\n"
     ]
    },
    {
     "name": "stderr",
     "output_type": "stream",
     "text": [
      "Sequential sampling (2 chains in 1 job)\n",
      "NUTS: [tau, s, gamma, v]\n"
     ]
    },
    {
     "name": "stdout",
     "output_type": "stream",
     "text": [
      "/!\\ Automatically setting parameter precision...\n",
      "Generating single subject models for 1 subjects...\n",
      "Fitting 1 model(s) using MCMC...\n",
      "  Fitting model 1 of 1...\n"
     ]
    },
    {
     "name": "stderr",
     "output_type": "stream",
     "text": [
      "Sequential sampling (2 chains in 1 job)\n",
      "NUTS: [tau, s, gamma, v]\n"
     ]
    },
    {
     "name": "stdout",
     "output_type": "stream",
     "text": [
      "/!\\ Automatically setting parameter precision...\n",
      "Generating single subject models for 1 subjects...\n",
      "Fitting 1 model(s) using MCMC...\n",
      "  Fitting model 1 of 1...\n"
     ]
    },
    {
     "name": "stderr",
     "output_type": "stream",
     "text": [
      "INFO (theano.gof.compilelock): Waiting for existing lock by process '5274' (I am process '4600')\n",
      "INFO (theano.gof.compilelock): To manually release the lock, delete /Users/felixmolter/.theano/compiledir_Darwin-17.7.0-x86_64-i386-64bit-i386-3.6.8-64/lock_dir\n",
      "INFO (theano.gof.compilelock): Waiting for existing lock by process '3854' (I am process '4600')\n",
      "INFO (theano.gof.compilelock): To manually release the lock, delete /Users/felixmolter/.theano/compiledir_Darwin-17.7.0-x86_64-i386-64bit-i386-3.6.8-64/lock_dir\n",
      "Sequential sampling (2 chains in 1 job)\n",
      "NUTS: [tau, s, gamma, v]\n"
     ]
    },
    {
     "name": "stdout",
     "output_type": "stream",
     "text": [
      "/!\\ Automatically setting parameter precision...\n",
      "Generating single subject models for 1 subjects...\n"
     ]
    },
    {
     "name": "stderr",
     "output_type": "stream",
     "text": [
      "INFO (theano.gof.compilelock): Waiting for existing lock by process '5273' (I am process '4600')\n",
      "INFO (theano.gof.compilelock): To manually release the lock, delete /Users/felixmolter/.theano/compiledir_Darwin-17.7.0-x86_64-i386-64bit-i386-3.6.8-64/lock_dir\n"
     ]
    },
    {
     "name": "stdout",
     "output_type": "stream",
     "text": [
      "Fitting 1 model(s) using MCMC...\n",
      "  Fitting model 1 of 1...\n"
     ]
    },
    {
     "name": "stderr",
     "output_type": "stream",
     "text": [
      "Sequential sampling (2 chains in 1 job)\n",
      "NUTS: [tau, s, gamma, v]\n"
     ]
    },
    {
     "name": "stdout",
     "output_type": "stream",
     "text": [
      "/!\\ Automatically setting parameter precision...\n",
      "Generating single subject models for 1 subjects...\n",
      "Fitting 1 model(s) using MCMC...\n",
      "  Fitting model 1 of 1...\n"
     ]
    },
    {
     "name": "stderr",
     "output_type": "stream",
     "text": [
      "Sequential sampling (2 chains in 1 job)\n",
      "NUTS: [tau, s, gamma, v]\n",
      "The acceptance probability does not match the target. It is 0.7125416646585773, but should be close to 0.8. Try to increase the number of tuning steps.\n"
     ]
    },
    {
     "name": "stdout",
     "output_type": "stream",
     "text": [
      "/!\\ Automatically setting parameter precision...\n",
      "Generating single subject models for 1 subjects...\n",
      "Fitting 1 model(s) using MCMC...\n",
      "  Fitting model 1 of 1...\n"
     ]
    },
    {
     "name": "stderr",
     "output_type": "stream",
     "text": [
      "INFO (theano.gof.compilelock): Waiting for existing lock by process '3853' (I am process '4600')\n",
      "INFO (theano.gof.compilelock): To manually release the lock, delete /Users/felixmolter/.theano/compiledir_Darwin-17.7.0-x86_64-i386-64bit-i386-3.6.8-64/lock_dir\n",
      "INFO (theano.gof.compilelock): Waiting for existing lock by process '3853' (I am process '4600')\n",
      "INFO (theano.gof.compilelock): To manually release the lock, delete /Users/felixmolter/.theano/compiledir_Darwin-17.7.0-x86_64-i386-64bit-i386-3.6.8-64/lock_dir\n",
      "INFO (theano.gof.compilelock): Waiting for existing lock by process '3852' (I am process '4600')\n",
      "INFO (theano.gof.compilelock): To manually release the lock, delete /Users/felixmolter/.theano/compiledir_Darwin-17.7.0-x86_64-i386-64bit-i386-3.6.8-64/lock_dir\n",
      "Sequential sampling (2 chains in 1 job)\n",
      "NUTS: [tau, s, gamma, v]\n"
     ]
    },
    {
     "name": "stdout",
     "output_type": "stream",
     "text": [
      "/!\\ Automatically setting parameter precision...\n",
      "Generating single subject models for 1 subjects...\n",
      "Fitting 1 model(s) using MCMC...\n",
      "  Fitting model 1 of 1...\n"
     ]
    },
    {
     "name": "stderr",
     "output_type": "stream",
     "text": [
      "INFO (theano.gof.compilelock): Waiting for existing lock by process '3852' (I am process '4600')\n",
      "INFO (theano.gof.compilelock): To manually release the lock, delete /Users/felixmolter/.theano/compiledir_Darwin-17.7.0-x86_64-i386-64bit-i386-3.6.8-64/lock_dir\n",
      "Sequential sampling (2 chains in 1 job)\n",
      "NUTS: [tau, s, gamma, v]\n"
     ]
    },
    {
     "name": "stdout",
     "output_type": "stream",
     "text": [
      "/!\\ Automatically setting parameter precision...\n",
      "Generating single subject models for 1 subjects...\n",
      "Fitting 1 model(s) using MCMC...\n",
      "  Fitting model 1 of 1...\n"
     ]
    },
    {
     "name": "stderr",
     "output_type": "stream",
     "text": [
      "Sequential sampling (2 chains in 1 job)\n",
      "NUTS: [tau, s, gamma, v]\n"
     ]
    },
    {
     "name": "stdout",
     "output_type": "stream",
     "text": [
      "/!\\ Automatically setting parameter precision...\n",
      "Generating single subject models for 1 subjects...\n",
      "Fitting 1 model(s) using MCMC...\n",
      "  Fitting model 1 of 1...\n"
     ]
    },
    {
     "name": "stderr",
     "output_type": "stream",
     "text": [
      "Sequential sampling (2 chains in 1 job)\n",
      "NUTS: [tau, s, gamma, v]\n",
      "The acceptance probability does not match the target. It is 0.7089731992945212, but should be close to 0.8. Try to increase the number of tuning steps.\n"
     ]
    },
    {
     "name": "stdout",
     "output_type": "stream",
     "text": [
      "/!\\ Automatically setting parameter precision...\n",
      "Generating single subject models for 1 subjects...\n",
      "Fitting 1 model(s) using MCMC...\n",
      "  Fitting model 1 of 1...\n"
     ]
    },
    {
     "name": "stderr",
     "output_type": "stream",
     "text": [
      "Sequential sampling (2 chains in 1 job)\n",
      "NUTS: [tau, s, gamma, v]\n"
     ]
    },
    {
     "name": "stdout",
     "output_type": "stream",
     "text": [
      "/!\\ Automatically setting parameter precision...\n",
      "Generating single subject models for 1 subjects...\n",
      "Fitting 1 model(s) using MCMC...\n",
      "  Fitting model 1 of 1...\n"
     ]
    },
    {
     "name": "stderr",
     "output_type": "stream",
     "text": [
      "Sequential sampling (2 chains in 1 job)\n",
      "NUTS: [tau, s, gamma, v]\n",
      "The acceptance probability does not match the target. It is 0.5970751608039484, but should be close to 0.8. Try to increase the number of tuning steps.\n"
     ]
    },
    {
     "name": "stdout",
     "output_type": "stream",
     "text": [
      "/!\\ Automatically setting parameter precision...\n",
      "Generating single subject models for 1 subjects...\n",
      "Fitting 1 model(s) using MCMC...\n",
      "  Fitting model 1 of 1...\n"
     ]
    },
    {
     "name": "stderr",
     "output_type": "stream",
     "text": [
      "Sequential sampling (2 chains in 1 job)\n",
      "NUTS: [tau, s, gamma, v]\n"
     ]
    },
    {
     "name": "stdout",
     "output_type": "stream",
     "text": [
      "/!\\ Automatically setting parameter precision...\n",
      "Generating single subject models for 1 subjects...\n",
      "Fitting 1 model(s) using MCMC...\n",
      "  Fitting model 1 of 1...\n"
     ]
    },
    {
     "name": "stderr",
     "output_type": "stream",
     "text": [
      "Sequential sampling (2 chains in 1 job)\n",
      "NUTS: [tau, s, gamma, v]\n"
     ]
    },
    {
     "name": "stdout",
     "output_type": "stream",
     "text": [
      "/!\\ Automatically setting parameter precision...\n",
      "Generating single subject models for 1 subjects...\n",
      "Fitting 1 model(s) using MCMC...\n",
      "  Fitting model 1 of 1...\n"
     ]
    },
    {
     "name": "stderr",
     "output_type": "stream",
     "text": [
      "Sequential sampling (2 chains in 1 job)\n",
      "NUTS: [tau, s, gamma, v]\n"
     ]
    },
    {
     "name": "stdout",
     "output_type": "stream",
     "text": [
      "/!\\ Automatically setting parameter precision...\n",
      "Generating single subject models for 1 subjects...\n",
      "Fitting 1 model(s) using MCMC...\n",
      "  Fitting model 1 of 1...\n"
     ]
    },
    {
     "name": "stderr",
     "output_type": "stream",
     "text": [
      "Sequential sampling (2 chains in 1 job)\n",
      "NUTS: [tau, s, gamma, v]\n",
      "The chain reached the maximum tree depth. Increase max_treedepth, increase target_accept or reparameterize.\n",
      "The chain reached the maximum tree depth. Increase max_treedepth, increase target_accept or reparameterize.\n",
      "The gelman-rubin statistic is larger than 1.05 for some parameters. This indicates slight problems during sampling.\n",
      "The estimated number of effective samples is smaller than 200 for some parameters.\n"
     ]
    },
    {
     "name": "stdout",
     "output_type": "stream",
     "text": [
      "/!\\ Automatically setting parameter precision...\n",
      "Generating single subject models for 1 subjects...\n",
      "Fitting 1 model(s) using MCMC...\n",
      "  Fitting model 1 of 1...\n"
     ]
    },
    {
     "name": "stderr",
     "output_type": "stream",
     "text": [
      "Sequential sampling (2 chains in 1 job)\n",
      "NUTS: [tau, s, gamma, v]\n",
      "The chain reached the maximum tree depth. Increase max_treedepth, increase target_accept or reparameterize.\n",
      "The chain reached the maximum tree depth. Increase max_treedepth, increase target_accept or reparameterize.\n",
      "The gelman-rubin statistic is larger than 1.05 for some parameters. This indicates slight problems during sampling.\n",
      "The estimated number of effective samples is smaller than 200 for some parameters.\n"
     ]
    },
    {
     "name": "stdout",
     "output_type": "stream",
     "text": [
      "/!\\ Automatically setting parameter precision...\n",
      "Generating single subject models for 1 subjects...\n",
      "Fitting 1 model(s) using MCMC...\n",
      "  Fitting model 1 of 1...\n"
     ]
    },
    {
     "name": "stderr",
     "output_type": "stream",
     "text": [
      "The acceptance probability does not match the target. It is 0.6709943737206256, but should be close to 0.8. Try to increase the number of tuning steps.\n"
     ]
    },
    {
     "name": "stdout",
     "output_type": "stream",
     "text": [
      "/!\\ Automatically setting parameter precision...\n",
      "Generating single subject models for 1 subjects...\n"
     ]
    },
    {
     "name": "stderr",
     "output_type": "stream",
     "text": [
      "Sequential sampling (2 chains in 1 job)\n",
      "NUTS: [tau, s, gamma, v]\n"
     ]
    },
    {
     "name": "stdout",
     "output_type": "stream",
     "text": [
      "Fitting 1 model(s) using MCMC...\n",
      "  Fitting model 1 of 1...\n"
     ]
    },
    {
     "name": "stderr",
     "output_type": "stream",
     "text": [
      "Sequential sampling (2 chains in 1 job)\n",
      "NUTS: [tau, s, gamma, v]\n"
     ]
    },
    {
     "name": "stdout",
     "output_type": "stream",
     "text": [
      "/!\\ Automatically setting parameter precision...\n",
      "Generating single subject models for 1 subjects...\n",
      "Fitting 1 model(s) using MCMC...\n",
      "  Fitting model 1 of 1...\n"
     ]
    },
    {
     "name": "stderr",
     "output_type": "stream",
     "text": [
      "Sequential sampling (2 chains in 1 job)\n",
      "NUTS: [tau, s, gamma, v]\n",
      "The chain reached the maximum tree depth. Increase max_treedepth, increase target_accept or reparameterize.\n",
      "The chain reached the maximum tree depth. Increase max_treedepth, increase target_accept or reparameterize.\n",
      "The gelman-rubin statistic is larger than 1.05 for some parameters. This indicates slight problems during sampling.\n",
      "The estimated number of effective samples is smaller than 200 for some parameters.\n"
     ]
    },
    {
     "name": "stdout",
     "output_type": "stream",
     "text": [
      "/!\\ Automatically setting parameter precision...\n",
      "Generating single subject models for 1 subjects...\n",
      "/!\\ Automatically setting parameter precision...\n",
      "Fitting 1 model(s) using MCMC...\n",
      "  Fitting model 1 of 1...\n",
      "Generating single subject models for 1 subjects...\n",
      "Fitting 1 model(s) using MCMC...\n",
      "  Fitting model 1 of 1...\n"
     ]
    },
    {
     "name": "stderr",
     "output_type": "stream",
     "text": [
      "Sequential sampling (2 chains in 1 job)\n",
      "NUTS: [tau, s, gamma, v]\n",
      "Sequential sampling (2 chains in 1 job)\n",
      "NUTS: [tau, s, gamma, v]\n",
      "The chain reached the maximum tree depth. Increase max_treedepth, increase target_accept or reparameterize.\n",
      "The acceptance probability does not match the target. It is 0.6277078134689645, but should be close to 0.8. Try to increase the number of tuning steps.\n",
      "The chain reached the maximum tree depth. Increase max_treedepth, increase target_accept or reparameterize.\n",
      "The gelman-rubin statistic is larger than 1.4 for some parameters. The sampler did not converge.\n",
      "The estimated number of effective samples is smaller than 200 for some parameters.\n"
     ]
    },
    {
     "name": "stdout",
     "output_type": "stream",
     "text": [
      "/!\\ Automatically setting parameter precision...\n",
      "Generating single subject models for 1 subjects...\n",
      "Fitting 1 model(s) using MCMC...\n",
      "  Fitting model 1 of 1...\n"
     ]
    },
    {
     "name": "stderr",
     "output_type": "stream",
     "text": [
      "Sequential sampling (2 chains in 1 job)\n",
      "NUTS: [tau, s, gamma, v]\n",
      "The chain reached the maximum tree depth. Increase max_treedepth, increase target_accept or reparameterize.\n",
      "The chain reached the maximum tree depth. Increase max_treedepth, increase target_accept or reparameterize.\n",
      "The number of effective samples is smaller than 10% for some parameters.\n"
     ]
    },
    {
     "name": "stdout",
     "output_type": "stream",
     "text": [
      "/!\\ Automatically setting parameter precision...\n",
      "Generating single subject models for 1 subjects...\n",
      "Fitting 1 model(s) using MCMC...\n",
      "  Fitting model 1 of 1...\n"
     ]
    },
    {
     "name": "stderr",
     "output_type": "stream",
     "text": [
      "Sequential sampling (2 chains in 1 job)\n",
      "NUTS: [tau, s, gamma, v]\n"
     ]
    },
    {
     "name": "stdout",
     "output_type": "stream",
     "text": [
      "/!\\ Automatically setting parameter precision...\n",
      "Generating single subject models for 1 subjects...\n",
      "Fitting 1 model(s) using MCMC...\n",
      "  Fitting model 1 of 1...\n"
     ]
    },
    {
     "name": "stderr",
     "output_type": "stream",
     "text": [
      "Sequential sampling (2 chains in 1 job)\n",
      "NUTS: [tau, s, gamma, v]\n",
      "The acceptance probability does not match the target. It is 0.6681853927373234, but should be close to 0.8. Try to increase the number of tuning steps.\n",
      "The chain reached the maximum tree depth. Increase max_treedepth, increase target_accept or reparameterize.\n",
      "The chain reached the maximum tree depth. Increase max_treedepth, increase target_accept or reparameterize.\n",
      "The gelman-rubin statistic is larger than 1.05 for some parameters. This indicates slight problems during sampling.\n",
      "The estimated number of effective samples is smaller than 200 for some parameters.\n"
     ]
    },
    {
     "name": "stdout",
     "output_type": "stream",
     "text": [
      "/!\\ Automatically setting parameter precision...\n",
      "Generating single subject models for 1 subjects...\n",
      "Fitting 1 model(s) using MCMC...\n",
      "  Fitting model 1 of 1...\n"
     ]
    },
    {
     "name": "stderr",
     "output_type": "stream",
     "text": [
      "Sequential sampling (2 chains in 1 job)\n",
      "NUTS: [tau, s, gamma, v]\n"
     ]
    },
    {
     "name": "stdout",
     "output_type": "stream",
     "text": [
      "/!\\ Automatically setting parameter precision...\n",
      "Generating single subject models for 1 subjects...\n",
      "Fitting 1 model(s) using MCMC...\n",
      "  Fitting model 1 of 1...\n"
     ]
    },
    {
     "name": "stderr",
     "output_type": "stream",
     "text": [
      "Sequential sampling (2 chains in 1 job)\n",
      "NUTS: [tau, s, gamma, v]\n"
     ]
    },
    {
     "name": "stdout",
     "output_type": "stream",
     "text": [
      "/!\\ Automatically setting parameter precision...\n",
      "Generating single subject models for 1 subjects...\n",
      "Fitting 1 model(s) using MCMC...\n",
      "  Fitting model 1 of 1...\n"
     ]
    },
    {
     "name": "stderr",
     "output_type": "stream",
     "text": [
      "Sequential sampling (2 chains in 1 job)\n",
      "NUTS: [tau, s, gamma, v]\n",
      "There were 100 divergences after tuning. Increase `target_accept` or reparameterize.\n",
      "There were 475 divergences after tuning. Increase `target_accept` or reparameterize.\n"
     ]
    },
    {
     "name": "stdout",
     "output_type": "stream",
     "text": [
      "/!\\ Automatically setting parameter precision...\n",
      "Generating single subject models for 1 subjects...\n",
      "Fitting 1 model(s) using MCMC...\n",
      "  Fitting model 1 of 1...\n"
     ]
    },
    {
     "name": "stderr",
     "output_type": "stream",
     "text": [
      "Sequential sampling (2 chains in 1 job)\n",
      "NUTS: [tau, s, gamma, v]\n"
     ]
    },
    {
     "name": "stdout",
     "output_type": "stream",
     "text": [
      "/!\\ Automatically setting parameter precision...\n",
      "Generating single subject models for 1 subjects...\n",
      "Fitting 1 model(s) using MCMC...\n",
      "  Fitting model 1 of 1...\n"
     ]
    },
    {
     "name": "stderr",
     "output_type": "stream",
     "text": [
      "Sequential sampling (2 chains in 1 job)\n",
      "NUTS: [tau, s, gamma, v]\n"
     ]
    },
    {
     "name": "stdout",
     "output_type": "stream",
     "text": [
      "/!\\ Automatically setting parameter precision...\n",
      "Generating single subject models for 1 subjects...\n",
      "Fitting 1 model(s) using MCMC...\n",
      "  Fitting model 1 of 1...\n"
     ]
    },
    {
     "name": "stderr",
     "output_type": "stream",
     "text": [
      "Sequential sampling (2 chains in 1 job)\n",
      "NUTS: [tau, s, gamma, v]\n"
     ]
    },
    {
     "name": "stdout",
     "output_type": "stream",
     "text": [
      "/!\\ Automatically setting parameter precision...\n",
      "Generating single subject models for 1 subjects...\n",
      "Fitting 1 model(s) using MCMC...\n",
      "  Fitting model 1 of 1...\n"
     ]
    },
    {
     "name": "stderr",
     "output_type": "stream",
     "text": [
      "Sequential sampling (2 chains in 1 job)\n",
      "NUTS: [tau, s, gamma, v]\n"
     ]
    },
    {
     "name": "stdout",
     "output_type": "stream",
     "text": [
      "/!\\ Automatically setting parameter precision...\n",
      "Generating single subject models for 1 subjects...\n",
      "Fitting 1 model(s) using MCMC...\n",
      "  Fitting model 1 of 1...\n"
     ]
    },
    {
     "name": "stderr",
     "output_type": "stream",
     "text": [
      "Sequential sampling (2 chains in 1 job)\n",
      "NUTS: [tau, s, gamma, v]\n"
     ]
    },
    {
     "name": "stdout",
     "output_type": "stream",
     "text": [
      "/!\\ Automatically setting parameter precision...\n",
      "Generating single subject models for 1 subjects...\n",
      "Fitting 1 model(s) using MCMC...\n",
      "  Fitting model 1 of 1...\n"
     ]
    },
    {
     "name": "stderr",
     "output_type": "stream",
     "text": [
      "Sequential sampling (2 chains in 1 job)\n",
      "NUTS: [tau, s, gamma, v]\n"
     ]
    },
    {
     "name": "stdout",
     "output_type": "stream",
     "text": [
      "/!\\ Automatically setting parameter precision...\n",
      "Generating single subject models for 1 subjects...\n",
      "Fitting 1 model(s) using MCMC...\n",
      "  Fitting model 1 of 1...\n"
     ]
    },
    {
     "name": "stderr",
     "output_type": "stream",
     "text": [
      "Sequential sampling (2 chains in 1 job)\n",
      "NUTS: [tau, s, gamma, v]\n"
     ]
    },
    {
     "name": "stdout",
     "output_type": "stream",
     "text": [
      "/!\\ Automatically setting parameter precision...\n",
      "Generating single subject models for 1 subjects...\n",
      "Fitting 1 model(s) using MCMC...\n",
      "  Fitting model 1 of 1...\n"
     ]
    },
    {
     "name": "stderr",
     "output_type": "stream",
     "text": [
      "Sequential sampling (2 chains in 1 job)\n",
      "NUTS: [tau, s, gamma, v]\n"
     ]
    },
    {
     "name": "stdout",
     "output_type": "stream",
     "text": [
      "/!\\ Automatically setting parameter precision...\n",
      "Generating single subject models for 1 subjects...\n",
      "Fitting 1 model(s) using MCMC...\n",
      "  Fitting model 1 of 1...\n"
     ]
    },
    {
     "name": "stderr",
     "output_type": "stream",
     "text": [
      "Sequential sampling (2 chains in 1 job)\n",
      "NUTS: [tau, s, gamma, v]\n"
     ]
    },
    {
     "name": "stdout",
     "output_type": "stream",
     "text": [
      "/!\\ Automatically setting parameter precision...\n",
      "Generating single subject models for 1 subjects...\n",
      "Fitting 1 model(s) using MCMC...\n",
      "  Fitting model 1 of 1...\n"
     ]
    },
    {
     "name": "stderr",
     "output_type": "stream",
     "text": [
      "The chain reached the maximum tree depth. Increase max_treedepth, increase target_accept or reparameterize.\n",
      "The chain reached the maximum tree depth. Increase max_treedepth, increase target_accept or reparameterize.\n",
      "The gelman-rubin statistic is larger than 1.4 for some parameters. The sampler did not converge.\n",
      "The estimated number of effective samples is smaller than 200 for some parameters.\n"
     ]
    },
    {
     "name": "stdout",
     "output_type": "stream",
     "text": [
      "/!\\ Automatically setting parameter precision...\n",
      "Generating single subject models for 1 subjects...\n"
     ]
    },
    {
     "name": "stderr",
     "output_type": "stream",
     "text": [
      "Sequential sampling (2 chains in 1 job)\n",
      "NUTS: [tau, s, gamma, v]\n"
     ]
    },
    {
     "name": "stdout",
     "output_type": "stream",
     "text": [
      "Fitting 1 model(s) using MCMC...\n",
      "  Fitting model 1 of 1...\n"
     ]
    },
    {
     "name": "stderr",
     "output_type": "stream",
     "text": [
      "Sequential sampling (2 chains in 1 job)\n",
      "NUTS: [tau, s, gamma, v]\n"
     ]
    },
    {
     "name": "stdout",
     "output_type": "stream",
     "text": [
      "/!\\ Automatically setting parameter precision...\n",
      "Generating single subject models for 1 subjects...\n",
      "Fitting 1 model(s) using MCMC...\n",
      "  Fitting model 1 of 1...\n"
     ]
    },
    {
     "name": "stderr",
     "output_type": "stream",
     "text": [
      "Sequential sampling (2 chains in 1 job)\n",
      "NUTS: [tau, s, gamma, v]\n",
      "The chain reached the maximum tree depth. Increase max_treedepth, increase target_accept or reparameterize.\n",
      "The chain reached the maximum tree depth. Increase max_treedepth, increase target_accept or reparameterize.\n",
      "The number of effective samples is smaller than 25% for some parameters.\n"
     ]
    },
    {
     "name": "stdout",
     "output_type": "stream",
     "text": [
      "/!\\ Automatically setting parameter precision...\n",
      "Generating single subject models for 1 subjects...\n",
      "Fitting 1 model(s) using MCMC...\n",
      "  Fitting model 1 of 1...\n"
     ]
    },
    {
     "name": "stderr",
     "output_type": "stream",
     "text": [
      "Sequential sampling (2 chains in 1 job)\n",
      "NUTS: [tau, s, gamma, v]\n"
     ]
    },
    {
     "name": "stdout",
     "output_type": "stream",
     "text": [
      "/!\\ Automatically setting parameter precision...\n",
      "Generating single subject models for 1 subjects...\n",
      "Fitting 1 model(s) using MCMC...\n",
      "  Fitting model 1 of 1...\n"
     ]
    },
    {
     "name": "stderr",
     "output_type": "stream",
     "text": [
      "Sequential sampling (2 chains in 1 job)\n",
      "NUTS: [tau, s, gamma, v]\n"
     ]
    },
    {
     "name": "stdout",
     "output_type": "stream",
     "text": [
      "/!\\ Automatically setting parameter precision...\n",
      "Generating single subject models for 1 subjects...\n",
      "Fitting 1 model(s) using MCMC...\n",
      "  Fitting model 1 of 1...\n"
     ]
    },
    {
     "name": "stderr",
     "output_type": "stream",
     "text": [
      "Sequential sampling (2 chains in 1 job)\n",
      "NUTS: [tau, s, gamma, v]\n"
     ]
    },
    {
     "name": "stdout",
     "output_type": "stream",
     "text": [
      "/!\\ Automatically setting parameter precision...\n",
      "Generating single subject models for 1 subjects...\n",
      "Fitting 1 model(s) using MCMC...\n",
      "  Fitting model 1 of 1...\n"
     ]
    },
    {
     "name": "stderr",
     "output_type": "stream",
     "text": [
      "Sequential sampling (2 chains in 1 job)\n",
      "NUTS: [tau, s, gamma, v]\n"
     ]
    },
    {
     "name": "stdout",
     "output_type": "stream",
     "text": [
      "/!\\ Automatically setting parameter precision...\n",
      "Generating single subject models for 1 subjects...\n",
      "Fitting 1 model(s) using MCMC...\n",
      "  Fitting model 1 of 1...\n"
     ]
    },
    {
     "name": "stderr",
     "output_type": "stream",
     "text": [
      "Sequential sampling (2 chains in 1 job)\n",
      "NUTS: [tau, s, gamma, v]\n",
      "There were 3 divergences after tuning. Increase `target_accept` or reparameterize.\n",
      "The acceptance probability does not match the target. It is 0.6702403649847017, but should be close to 0.8. Try to increase the number of tuning steps.\n"
     ]
    },
    {
     "name": "stdout",
     "output_type": "stream",
     "text": [
      "/!\\ Automatically setting parameter precision...\n",
      "Generating single subject models for 1 subjects...\n",
      "Fitting 1 model(s) using MCMC...\n",
      "  Fitting model 1 of 1...\n"
     ]
    },
    {
     "name": "stderr",
     "output_type": "stream",
     "text": [
      "Sequential sampling (2 chains in 1 job)\n",
      "NUTS: [tau, s, gamma, v]\n",
      "The acceptance probability does not match the target. It is 0.6614643661602804, but should be close to 0.8. Try to increase the number of tuning steps.\n",
      "The acceptance probability does not match the target. It is 0.64401307270596, but should be close to 0.8. Try to increase the number of tuning steps.\n"
     ]
    },
    {
     "name": "stdout",
     "output_type": "stream",
     "text": [
      "/!\\ Automatically setting parameter precision...\n",
      "Generating single subject models for 1 subjects...\n",
      "Fitting 1 model(s) using MCMC...\n",
      "  Fitting model 1 of 1...\n"
     ]
    },
    {
     "name": "stderr",
     "output_type": "stream",
     "text": [
      "Sequential sampling (2 chains in 1 job)\n",
      "NUTS: [tau, s, gamma, v]\n",
      "The chain reached the maximum tree depth. Increase max_treedepth, increase target_accept or reparameterize.\n",
      "The chain reached the maximum tree depth. Increase max_treedepth, increase target_accept or reparameterize.\n",
      "The gelman-rubin statistic is larger than 1.2 for some parameters.\n",
      "The estimated number of effective samples is smaller than 200 for some parameters.\n"
     ]
    },
    {
     "name": "stdout",
     "output_type": "stream",
     "text": [
      "/!\\ Automatically setting parameter precision...\n",
      "Generating single subject models for 1 subjects...\n",
      "Fitting 1 model(s) using MCMC...\n",
      "  Fitting model 1 of 1...\n"
     ]
    },
    {
     "name": "stderr",
     "output_type": "stream",
     "text": [
      "Sequential sampling (2 chains in 1 job)\n",
      "NUTS: [tau, s, gamma, v]\n",
      "The chain reached the maximum tree depth. Increase max_treedepth, increase target_accept or reparameterize.\n",
      "The chain reached the maximum tree depth. Increase max_treedepth, increase target_accept or reparameterize.\n",
      "The number of effective samples is smaller than 10% for some parameters.\n"
     ]
    },
    {
     "name": "stdout",
     "output_type": "stream",
     "text": [
      "/!\\ Automatically setting parameter precision...\n",
      "Generating single subject models for 1 subjects...\n",
      "Fitting 1 model(s) using MCMC...\n",
      "  Fitting model 1 of 1...\n"
     ]
    },
    {
     "name": "stderr",
     "output_type": "stream",
     "text": [
      "Sequential sampling (2 chains in 1 job)\n",
      "NUTS: [tau, s, gamma, v]\n",
      "There was 1 divergence after tuning. Increase `target_accept` or reparameterize.\n"
     ]
    },
    {
     "name": "stdout",
     "output_type": "stream",
     "text": [
      "/!\\ Automatically setting parameter precision...\n",
      "Generating single subject models for 1 subjects...\n",
      "Fitting 1 model(s) using MCMC...\n",
      "  Fitting model 1 of 1...\n"
     ]
    },
    {
     "name": "stderr",
     "output_type": "stream",
     "text": [
      "Sequential sampling (2 chains in 1 job)\n",
      "NUTS: [tau, s, gamma, v]\n",
      "The number of effective samples is smaller than 25% for some parameters.\n"
     ]
    },
    {
     "name": "stdout",
     "output_type": "stream",
     "text": [
      "/!\\ Automatically setting parameter precision...\n",
      "Generating single subject models for 1 subjects...\n",
      "Fitting 1 model(s) using MCMC...\n",
      "  Fitting model 1 of 1...\n"
     ]
    },
    {
     "name": "stderr",
     "output_type": "stream",
     "text": [
      "Sequential sampling (2 chains in 1 job)\n",
      "NUTS: [tau, s, gamma, v]\n"
     ]
    },
    {
     "name": "stdout",
     "output_type": "stream",
     "text": [
      "/!\\ Automatically setting parameter precision...\n",
      "Generating single subject models for 1 subjects...\n",
      "Fitting 1 model(s) using MCMC...\n",
      "  Fitting model 1 of 1...\n"
     ]
    },
    {
     "name": "stderr",
     "output_type": "stream",
     "text": [
      "Sequential sampling (2 chains in 1 job)\n",
      "NUTS: [tau, s, gamma, v]\n",
      "There were 18 divergences after tuning. Increase `target_accept` or reparameterize.\n",
      "There were 38 divergences after tuning. Increase `target_accept` or reparameterize.\n"
     ]
    },
    {
     "name": "stdout",
     "output_type": "stream",
     "text": [
      "/!\\ Automatically setting parameter precision...\n",
      "Generating single subject models for 1 subjects...\n",
      "Fitting 1 model(s) using MCMC...\n",
      "  Fitting model 1 of 1...\n"
     ]
    },
    {
     "name": "stderr",
     "output_type": "stream",
     "text": [
      "Sequential sampling (2 chains in 1 job)\n",
      "NUTS: [tau, s, gamma, v]\n",
      "The chain reached the maximum tree depth. Increase max_treedepth, increase target_accept or reparameterize.\n",
      "The chain reached the maximum tree depth. Increase max_treedepth, increase target_accept or reparameterize.\n",
      "The gelman-rubin statistic is larger than 1.05 for some parameters. This indicates slight problems during sampling.\n",
      "The estimated number of effective samples is smaller than 200 for some parameters.\n"
     ]
    },
    {
     "name": "stdout",
     "output_type": "stream",
     "text": [
      "/!\\ Automatically setting parameter precision...\n",
      "Generating single subject models for 1 subjects...\n",
      "Fitting 1 model(s) using MCMC...\n",
      "  Fitting model 1 of 1...\n"
     ]
    },
    {
     "name": "stderr",
     "output_type": "stream",
     "text": [
      "Sequential sampling (2 chains in 1 job)\n",
      "NUTS: [tau, s, gamma, v]\n"
     ]
    },
    {
     "name": "stdout",
     "output_type": "stream",
     "text": [
      "/!\\ Automatically setting parameter precision...\n",
      "Generating single subject models for 1 subjects...\n",
      "Fitting 1 model(s) using MCMC...\n",
      "  Fitting model 1 of 1...\n"
     ]
    },
    {
     "name": "stderr",
     "output_type": "stream",
     "text": [
      "Sequential sampling (2 chains in 1 job)\n",
      "NUTS: [tau, s, gamma, v]\n"
     ]
    },
    {
     "name": "stdout",
     "output_type": "stream",
     "text": [
      "/!\\ Automatically setting parameter precision...\n",
      "Generating single subject models for 1 subjects...\n",
      "Fitting 1 model(s) using MCMC...\n",
      "  Fitting model 1 of 1...\n"
     ]
    },
    {
     "name": "stderr",
     "output_type": "stream",
     "text": [
      "Sequential sampling (2 chains in 1 job)\n",
      "NUTS: [tau, s, gamma, v]\n"
     ]
    },
    {
     "name": "stdout",
     "output_type": "stream",
     "text": [
      "/!\\ Automatically setting parameter precision...\n",
      "Generating single subject models for 1 subjects...\n",
      "Fitting 1 model(s) using MCMC...\n",
      "  Fitting model 1 of 1...\n"
     ]
    },
    {
     "name": "stderr",
     "output_type": "stream",
     "text": [
      "Sequential sampling (2 chains in 1 job)\n",
      "NUTS: [tau, s, gamma, v]\n"
     ]
    },
    {
     "name": "stdout",
     "output_type": "stream",
     "text": [
      "/!\\ Automatically setting parameter precision...\n",
      "Generating single subject models for 1 subjects...\n",
      "Fitting 1 model(s) using MCMC...\n",
      "  Fitting model 1 of 1...\n"
     ]
    },
    {
     "name": "stderr",
     "output_type": "stream",
     "text": [
      "Sequential sampling (2 chains in 1 job)\n",
      "NUTS: [tau, s, gamma, v]\n"
     ]
    },
    {
     "name": "stdout",
     "output_type": "stream",
     "text": [
      "/!\\ Automatically setting parameter precision...\n",
      "Generating single subject models for 1 subjects...\n",
      "Fitting 1 model(s) using MCMC...\n",
      "  Fitting model 1 of 1...\n"
     ]
    },
    {
     "name": "stderr",
     "output_type": "stream",
     "text": [
      "Sequential sampling (2 chains in 1 job)\n",
      "NUTS: [tau, s, gamma, v]\n"
     ]
    },
    {
     "name": "stdout",
     "output_type": "stream",
     "text": [
      "/!\\ Automatically setting parameter precision...\n",
      "Generating single subject models for 1 subjects...\n",
      "Fitting 1 model(s) using MCMC...\n",
      "  Fitting model 1 of 1...\n"
     ]
    },
    {
     "name": "stderr",
     "output_type": "stream",
     "text": [
      "Sequential sampling (2 chains in 1 job)\n",
      "NUTS: [tau, s, gamma, v]\n",
      "There were 2 divergences after tuning. Increase `target_accept` or reparameterize.\n",
      "There were 5 divergences after tuning. Increase `target_accept` or reparameterize.\n"
     ]
    },
    {
     "name": "stdout",
     "output_type": "stream",
     "text": [
      "/!\\ Automatically setting parameter precision...\n",
      "Generating single subject models for 1 subjects...\n",
      "Fitting 1 model(s) using MCMC...\n",
      "  Fitting model 1 of 1...\n"
     ]
    },
    {
     "name": "stderr",
     "output_type": "stream",
     "text": [
      "Sequential sampling (2 chains in 1 job)\n",
      "NUTS: [tau, s, gamma, v]\n"
     ]
    },
    {
     "name": "stdout",
     "output_type": "stream",
     "text": [
      "/!\\ Automatically setting parameter precision...\n",
      "Generating single subject models for 1 subjects...\n",
      "Fitting 1 model(s) using MCMC...\n",
      "  Fitting model 1 of 1...\n"
     ]
    },
    {
     "name": "stderr",
     "output_type": "stream",
     "text": [
      "Sequential sampling (2 chains in 1 job)\n",
      "NUTS: [tau, s, gamma, v]\n",
      "There were 2 divergences after tuning. Increase `target_accept` or reparameterize.\n"
     ]
    },
    {
     "name": "stdout",
     "output_type": "stream",
     "text": [
      "/!\\ Automatically setting parameter precision...\n",
      "Generating single subject models for 1 subjects...\n",
      "Fitting 1 model(s) using MCMC...\n",
      "  Fitting model 1 of 1...\n"
     ]
    },
    {
     "name": "stderr",
     "output_type": "stream",
     "text": [
      "Sequential sampling (2 chains in 1 job)\n",
      "NUTS: [tau, s, gamma, v]\n",
      "There were 4 divergences after tuning. Increase `target_accept` or reparameterize.\n",
      "There were 5 divergences after tuning. Increase `target_accept` or reparameterize.\n"
     ]
    },
    {
     "name": "stdout",
     "output_type": "stream",
     "text": [
      "/!\\ Automatically setting parameter precision...\n",
      "Generating single subject models for 1 subjects...\n",
      "Fitting 1 model(s) using MCMC...\n",
      "  Fitting model 1 of 1...\n"
     ]
    },
    {
     "name": "stderr",
     "output_type": "stream",
     "text": [
      "Sequential sampling (2 chains in 1 job)\n",
      "NUTS: [tau, s, gamma, v]\n"
     ]
    },
    {
     "name": "stdout",
     "output_type": "stream",
     "text": [
      "/!\\ Automatically setting parameter precision...\n",
      "Generating single subject models for 1 subjects...\n",
      "Fitting 1 model(s) using MCMC...\n",
      "  Fitting model 1 of 1...\n"
     ]
    },
    {
     "name": "stderr",
     "output_type": "stream",
     "text": [
      "Sequential sampling (2 chains in 1 job)\n",
      "NUTS: [tau, s, gamma, v]\n",
      "The chain reached the maximum tree depth. Increase max_treedepth, increase target_accept or reparameterize.\n",
      "The chain reached the maximum tree depth. Increase max_treedepth, increase target_accept or reparameterize.\n",
      "The estimated number of effective samples is smaller than 200 for some parameters.\n"
     ]
    },
    {
     "name": "stdout",
     "output_type": "stream",
     "text": [
      "/!\\ Automatically setting parameter precision...\n",
      "Generating single subject models for 1 subjects...\n",
      "Fitting 1 model(s) using MCMC...\n",
      "  Fitting model 1 of 1...\n"
     ]
    },
    {
     "name": "stderr",
     "output_type": "stream",
     "text": [
      "Sequential sampling (2 chains in 1 job)\n",
      "NUTS: [tau, s, gamma, v]\n",
      "The acceptance probability does not match the target. It is 0.8833626600441952, but should be close to 0.8. Try to increase the number of tuning steps.\n",
      "The acceptance probability does not match the target. It is 0.8890899041616592, but should be close to 0.8. Try to increase the number of tuning steps.\n",
      "The number of effective samples is smaller than 25% for some parameters.\n"
     ]
    },
    {
     "name": "stdout",
     "output_type": "stream",
     "text": [
      "/!\\ Automatically setting parameter precision...\n",
      "Generating single subject models for 1 subjects...\n",
      "Fitting 1 model(s) using MCMC...\n",
      "  Fitting model 1 of 1...\n"
     ]
    },
    {
     "name": "stderr",
     "output_type": "stream",
     "text": [
      "Sequential sampling (2 chains in 1 job)\n",
      "NUTS: [tau, s, gamma, v]\n"
     ]
    },
    {
     "name": "stdout",
     "output_type": "stream",
     "text": [
      "/!\\ Automatically setting parameter precision...\n",
      "Generating single subject models for 1 subjects...\n",
      "Fitting 1 model(s) using MCMC...\n",
      "  Fitting model 1 of 1...\n"
     ]
    },
    {
     "name": "stderr",
     "output_type": "stream",
     "text": [
      "Sequential sampling (2 chains in 1 job)\n",
      "NUTS: [tau, s, gamma, v]\n"
     ]
    },
    {
     "name": "stdout",
     "output_type": "stream",
     "text": [
      "/!\\ Automatically setting parameter precision...\n",
      "Generating single subject models for 1 subjects...\n",
      "Fitting 1 model(s) using MCMC...\n",
      "  Fitting model 1 of 1...\n"
     ]
    },
    {
     "name": "stderr",
     "output_type": "stream",
     "text": [
      "Sequential sampling (2 chains in 1 job)\n",
      "NUTS: [tau, s, gamma, v]\n"
     ]
    },
    {
     "name": "stdout",
     "output_type": "stream",
     "text": [
      "/!\\ Automatically setting parameter precision...\n",
      "Generating single subject models for 1 subjects...\n",
      "Fitting 1 model(s) using MCMC...\n",
      "  Fitting model 1 of 1...\n"
     ]
    },
    {
     "name": "stderr",
     "output_type": "stream",
     "text": [
      "Sequential sampling (2 chains in 1 job)\n",
      "NUTS: [tau, s, gamma, v]\n"
     ]
    },
    {
     "name": "stdout",
     "output_type": "stream",
     "text": [
      "/!\\ Automatically setting parameter precision...\n",
      "Generating single subject models for 1 subjects...\n",
      "Fitting 1 model(s) using MCMC...\n",
      "  Fitting model 1 of 1...\n"
     ]
    },
    {
     "name": "stderr",
     "output_type": "stream",
     "text": [
      "Sequential sampling (2 chains in 1 job)\n",
      "NUTS: [tau, s, gamma, v]\n",
      "There were 2 divergences after tuning. Increase `target_accept` or reparameterize.\n",
      "There were 7 divergences after tuning. Increase `target_accept` or reparameterize.\n"
     ]
    },
    {
     "name": "stdout",
     "output_type": "stream",
     "text": [
      "/!\\ Automatically setting parameter precision...\n",
      "Generating single subject models for 1 subjects...\n",
      "Fitting 1 model(s) using MCMC...\n",
      "  Fitting model 1 of 1...\n"
     ]
    },
    {
     "name": "stderr",
     "output_type": "stream",
     "text": [
      "Sequential sampling (2 chains in 1 job)\n",
      "NUTS: [tau, s, gamma, v]\n",
      "There were 89 divergences after tuning. Increase `target_accept` or reparameterize.\n",
      "There were 152 divergences after tuning. Increase `target_accept` or reparameterize.\n"
     ]
    },
    {
     "name": "stdout",
     "output_type": "stream",
     "text": [
      "/!\\ Automatically setting parameter precision...\n",
      "Generating single subject models for 1 subjects...\n",
      "Fitting 1 model(s) using MCMC...\n",
      "  Fitting model 1 of 1...\n"
     ]
    },
    {
     "name": "stderr",
     "output_type": "stream",
     "text": [
      "Sequential sampling (2 chains in 1 job)\n",
      "NUTS: [tau, s, gamma, v]\n",
      "There were 14 divergences after tuning. Increase `target_accept` or reparameterize.\n",
      "There were 27 divergences after tuning. Increase `target_accept` or reparameterize.\n"
     ]
    },
    {
     "name": "stdout",
     "output_type": "stream",
     "text": [
      "/!\\ Automatically setting parameter precision...\n",
      "Generating single subject models for 1 subjects...\n",
      "Fitting 1 model(s) using MCMC...\n",
      "  Fitting model 1 of 1...\n"
     ]
    },
    {
     "name": "stderr",
     "output_type": "stream",
     "text": [
      "Sequential sampling (2 chains in 1 job)\n",
      "NUTS: [tau, s, gamma, v]\n"
     ]
    },
    {
     "name": "stdout",
     "output_type": "stream",
     "text": [
      "/!\\ Automatically setting parameter precision...\n",
      "Generating single subject models for 1 subjects...\n",
      "Fitting 1 model(s) using MCMC...\n",
      "  Fitting model 1 of 1...\n"
     ]
    },
    {
     "name": "stderr",
     "output_type": "stream",
     "text": [
      "Sequential sampling (2 chains in 1 job)\n",
      "NUTS: [tau, s, gamma, v]\n",
      "There were 74 divergences after tuning. Increase `target_accept` or reparameterize.\n",
      "There were 139 divergences after tuning. Increase `target_accept` or reparameterize.\n"
     ]
    },
    {
     "name": "stdout",
     "output_type": "stream",
     "text": [
      "/!\\ Automatically setting parameter precision...\n",
      "Generating single subject models for 1 subjects...\n",
      "Fitting 1 model(s) using MCMC...\n",
      "  Fitting model 1 of 1...\n"
     ]
    },
    {
     "name": "stderr",
     "output_type": "stream",
     "text": [
      "Sequential sampling (2 chains in 1 job)\n",
      "NUTS: [tau, s, gamma, v]\n",
      "The chain reached the maximum tree depth. Increase max_treedepth, increase target_accept or reparameterize.\n",
      "The acceptance probability does not match the target. It is 0.8819517754527224, but should be close to 0.8. Try to increase the number of tuning steps.\n",
      "The chain reached the maximum tree depth. Increase max_treedepth, increase target_accept or reparameterize.\n",
      "The gelman-rubin statistic is larger than 1.05 for some parameters. This indicates slight problems during sampling.\n",
      "The estimated number of effective samples is smaller than 200 for some parameters.\n"
     ]
    },
    {
     "name": "stdout",
     "output_type": "stream",
     "text": [
      "/!\\ Automatically setting parameter precision...\n",
      "Generating single subject models for 1 subjects...\n",
      "Fitting 1 model(s) using MCMC...\n",
      "  Fitting model 1 of 1...\n"
     ]
    },
    {
     "name": "stderr",
     "output_type": "stream",
     "text": [
      "Sequential sampling (2 chains in 1 job)\n",
      "NUTS: [tau, s, gamma, v]\n",
      "The acceptance probability does not match the target. It is 0.5291999249108805, but should be close to 0.8. Try to increase the number of tuning steps.\n",
      "The chain reached the maximum tree depth. Increase max_treedepth, increase target_accept or reparameterize.\n",
      "The chain reached the maximum tree depth. Increase max_treedepth, increase target_accept or reparameterize.\n",
      "The gelman-rubin statistic is larger than 1.4 for some parameters. The sampler did not converge.\n",
      "The estimated number of effective samples is smaller than 200 for some parameters.\n"
     ]
    },
    {
     "name": "stdout",
     "output_type": "stream",
     "text": [
      "/!\\ Automatically setting parameter precision...\n",
      "Generating single subject models for 1 subjects...\n",
      "Fitting 1 model(s) using MCMC...\n",
      "  Fitting model 1 of 1...\n"
     ]
    },
    {
     "name": "stderr",
     "output_type": "stream",
     "text": [
      "Sequential sampling (2 chains in 1 job)\n",
      "NUTS: [tau, s, gamma, v]\n",
      "The chain reached the maximum tree depth. Increase max_treedepth, increase target_accept or reparameterize.\n",
      "The chain reached the maximum tree depth. Increase max_treedepth, increase target_accept or reparameterize.\n",
      "The number of effective samples is smaller than 10% for some parameters.\n"
     ]
    },
    {
     "name": "stdout",
     "output_type": "stream",
     "text": [
      "/!\\ Automatically setting parameter precision...\n",
      "Generating single subject models for 1 subjects...\n",
      "Fitting 1 model(s) using MCMC...\n",
      "  Fitting model 1 of 1...\n"
     ]
    },
    {
     "name": "stderr",
     "output_type": "stream",
     "text": [
      "Sequential sampling (2 chains in 1 job)\n",
      "NUTS: [tau, s, gamma, v]\n",
      "The acceptance probability does not match the target. It is 0.6283658938326764, but should be close to 0.8. Try to increase the number of tuning steps.\n",
      "The chain reached the maximum tree depth. Increase max_treedepth, increase target_accept or reparameterize.\n",
      "The chain reached the maximum tree depth. Increase max_treedepth, increase target_accept or reparameterize.\n",
      "The gelman-rubin statistic is larger than 1.05 for some parameters. This indicates slight problems during sampling.\n",
      "The estimated number of effective samples is smaller than 200 for some parameters.\n"
     ]
    },
    {
     "name": "stdout",
     "output_type": "stream",
     "text": [
      "/!\\ Automatically setting parameter precision...\n",
      "Generating single subject models for 1 subjects...\n",
      "Fitting 1 model(s) using MCMC...\n",
      "  Fitting model 1 of 1...\n"
     ]
    },
    {
     "name": "stderr",
     "output_type": "stream",
     "text": [
      "Sequential sampling (2 chains in 1 job)\n",
      "NUTS: [tau, s, gamma, v]\n",
      "There were 61 divergences after tuning. Increase `target_accept` or reparameterize.\n",
      "The acceptance probability does not match the target. It is 0.5973721670324046, but should be close to 0.8. Try to increase the number of tuning steps.\n",
      "The number of effective samples is smaller than 25% for some parameters.\n"
     ]
    },
    {
     "name": "stdout",
     "output_type": "stream",
     "text": [
      "/!\\ Automatically setting parameter precision...\n",
      "Generating single subject models for 1 subjects...\n",
      "Fitting 1 model(s) using MCMC...\n",
      "  Fitting model 1 of 1...\n"
     ]
    },
    {
     "name": "stderr",
     "output_type": "stream",
     "text": [
      "Sequential sampling (2 chains in 1 job)\n",
      "NUTS: [tau, s, gamma, v]\n"
     ]
    },
    {
     "name": "stdout",
     "output_type": "stream",
     "text": [
      "/!\\ Automatically setting parameter precision...\n",
      "Generating single subject models for 1 subjects...\n",
      "Fitting 1 model(s) using MCMC...\n",
      "  Fitting model 1 of 1...\n"
     ]
    },
    {
     "name": "stderr",
     "output_type": "stream",
     "text": [
      "Sequential sampling (2 chains in 1 job)\n",
      "NUTS: [tau, s, gamma, v]\n",
      "The chain reached the maximum tree depth. Increase max_treedepth, increase target_accept or reparameterize.\n",
      "The chain reached the maximum tree depth. Increase max_treedepth, increase target_accept or reparameterize.\n",
      "The gelman-rubin statistic is larger than 1.2 for some parameters.\n",
      "The estimated number of effective samples is smaller than 200 for some parameters.\n"
     ]
    },
    {
     "name": "stdout",
     "output_type": "stream",
     "text": [
      "/!\\ Automatically setting parameter precision...\n",
      "Generating single subject models for 1 subjects...\n",
      "Fitting 1 model(s) using MCMC...\n",
      "  Fitting model 1 of 1...\n",
      "/!\\ Automatically setting parameter precision...\n",
      "Generating single subject models for 1 subjects...\n",
      "Fitting 1 model(s) using MCMC...\n",
      "  Fitting model 1 of 1...\n"
     ]
    },
    {
     "name": "stderr",
     "output_type": "stream",
     "text": [
      "Sequential sampling (2 chains in 1 job)\n",
      "NUTS: [tau, s, gamma, v]\n",
      "Sequential sampling (2 chains in 1 job)\n",
      "NUTS: [tau, s, gamma, v]\n",
      "The acceptance probability does not match the target. It is 0.907554967170815, but should be close to 0.8. Try to increase the number of tuning steps.\n",
      "The chain reached the maximum tree depth. Increase max_treedepth, increase target_accept or reparameterize.\n",
      "The acceptance probability does not match the target. It is 0.9018537715427974, but should be close to 0.8. Try to increase the number of tuning steps.\n",
      "The chain reached the maximum tree depth. Increase max_treedepth, increase target_accept or reparameterize.\n",
      "The estimated number of effective samples is smaller than 200 for some parameters.\n"
     ]
    },
    {
     "name": "stdout",
     "output_type": "stream",
     "text": [
      "/!\\ Automatically setting parameter precision...\n",
      "Generating single subject models for 1 subjects...\n",
      "Fitting 1 model(s) using MCMC...\n",
      "  Fitting model 1 of 1...\n"
     ]
    },
    {
     "name": "stderr",
     "output_type": "stream",
     "text": [
      "Sequential sampling (2 chains in 1 job)\n",
      "NUTS: [tau, s, gamma, v]\n"
     ]
    },
    {
     "name": "stdout",
     "output_type": "stream",
     "text": [
      "/!\\ Automatically setting parameter precision...\n",
      "Generating single subject models for 1 subjects...\n",
      "Fitting 1 model(s) using MCMC...\n",
      "  Fitting model 1 of 1...\n"
     ]
    },
    {
     "name": "stderr",
     "output_type": "stream",
     "text": [
      "Sequential sampling (2 chains in 1 job)\n",
      "NUTS: [tau, s, gamma, v]\n"
     ]
    },
    {
     "name": "stdout",
     "output_type": "stream",
     "text": [
      "/!\\ Automatically setting parameter precision...\n",
      "Generating single subject models for 1 subjects...\n",
      "Fitting 1 model(s) using MCMC...\n",
      "  Fitting model 1 of 1...\n"
     ]
    },
    {
     "name": "stderr",
     "output_type": "stream",
     "text": [
      "Sequential sampling (2 chains in 1 job)\n",
      "NUTS: [tau, s, gamma, v]\n",
      "The chain reached the maximum tree depth. Increase max_treedepth, increase target_accept or reparameterize.\n",
      "The chain reached the maximum tree depth. Increase max_treedepth, increase target_accept or reparameterize.\n",
      "The gelman-rubin statistic is larger than 1.05 for some parameters. This indicates slight problems during sampling.\n",
      "The estimated number of effective samples is smaller than 200 for some parameters.\n"
     ]
    },
    {
     "name": "stdout",
     "output_type": "stream",
     "text": [
      "/!\\ Automatically setting parameter precision...\n",
      "Generating single subject models for 1 subjects...\n",
      "Fitting 1 model(s) using MCMC...\n",
      "  Fitting model 1 of 1...\n"
     ]
    },
    {
     "name": "stderr",
     "output_type": "stream",
     "text": [
      "Sequential sampling (2 chains in 1 job)\n",
      "NUTS: [tau, s, gamma, v]\n"
     ]
    },
    {
     "name": "stdout",
     "output_type": "stream",
     "text": [
      "/!\\ Automatically setting parameter precision...\n",
      "Generating single subject models for 1 subjects...\n",
      "Fitting 1 model(s) using MCMC...\n",
      "  Fitting model 1 of 1...\n"
     ]
    },
    {
     "name": "stderr",
     "output_type": "stream",
     "text": [
      "Sequential sampling (2 chains in 1 job)\n",
      "NUTS: [tau, s, gamma, v]\n",
      "The acceptance probability does not match the target. It is 0.6924750435164481, but should be close to 0.8. Try to increase the number of tuning steps.\n",
      "The number of effective samples is smaller than 25% for some parameters.\n"
     ]
    },
    {
     "name": "stdout",
     "output_type": "stream",
     "text": [
      "/!\\ Automatically setting parameter precision...\n",
      "Generating single subject models for 1 subjects...\n",
      "Fitting 1 model(s) using MCMC...\n",
      "  Fitting model 1 of 1...\n",
      "/!\\ Automatically setting parameter precision...\n",
      "Generating single subject models for 1 subjects...\n",
      "Fitting 1 model(s) using MCMC...\n",
      "  Fitting model 1 of 1...\n"
     ]
    },
    {
     "name": "stderr",
     "output_type": "stream",
     "text": [
      "Sequential sampling (2 chains in 1 job)\n",
      "NUTS: [tau, s, gamma, v]\n",
      "Sequential sampling (2 chains in 1 job)\n",
      "NUTS: [tau, s, gamma, v]\n"
     ]
    },
    {
     "name": "stdout",
     "output_type": "stream",
     "text": [
      "/!\\ Automatically setting parameter precision...\n",
      "Generating single subject models for 1 subjects...\n",
      "Fitting 1 model(s) using MCMC...\n",
      "  Fitting model 1 of 1...\n"
     ]
    },
    {
     "name": "stderr",
     "output_type": "stream",
     "text": [
      "Sequential sampling (2 chains in 1 job)\n",
      "NUTS: [tau, s, gamma, v]\n"
     ]
    },
    {
     "name": "stdout",
     "output_type": "stream",
     "text": [
      "/!\\ Automatically setting parameter precision...\n",
      "Generating single subject models for 1 subjects...\n",
      "Fitting 1 model(s) using MCMC...\n",
      "  Fitting model 1 of 1...\n"
     ]
    },
    {
     "name": "stderr",
     "output_type": "stream",
     "text": [
      "Sequential sampling (2 chains in 1 job)\n",
      "NUTS: [tau, s, gamma, v]\n",
      "There were 2 divergences after tuning. Increase `target_accept` or reparameterize.\n"
     ]
    },
    {
     "name": "stdout",
     "output_type": "stream",
     "text": [
      "/!\\ Automatically setting parameter precision...\n",
      "Generating single subject models for 1 subjects...\n",
      "Fitting 1 model(s) using MCMC...\n",
      "  Fitting model 1 of 1...\n"
     ]
    },
    {
     "name": "stderr",
     "output_type": "stream",
     "text": [
      "Sequential sampling (2 chains in 1 job)\n",
      "NUTS: [tau, s, gamma, v]\n"
     ]
    },
    {
     "name": "stdout",
     "output_type": "stream",
     "text": [
      "/!\\ Automatically setting parameter precision...\n",
      "Generating single subject models for 1 subjects...\n",
      "Fitting 1 model(s) using MCMC...\n",
      "  Fitting model 1 of 1...\n"
     ]
    },
    {
     "name": "stderr",
     "output_type": "stream",
     "text": [
      "Sequential sampling (2 chains in 1 job)\n",
      "NUTS: [tau, s, gamma, v]\n"
     ]
    },
    {
     "name": "stdout",
     "output_type": "stream",
     "text": [
      "/!\\ Automatically setting parameter precision...\n",
      "Generating single subject models for 1 subjects...\n",
      "Fitting 1 model(s) using MCMC...\n",
      "  Fitting model 1 of 1...\n"
     ]
    },
    {
     "name": "stderr",
     "output_type": "stream",
     "text": [
      "Sequential sampling (2 chains in 1 job)\n",
      "NUTS: [tau, s, gamma, v]\n"
     ]
    },
    {
     "name": "stdout",
     "output_type": "stream",
     "text": [
      "/!\\ Automatically setting parameter precision...\n",
      "Generating single subject models for 1 subjects...\n",
      "Fitting 1 model(s) using MCMC...\n",
      "  Fitting model 1 of 1...\n"
     ]
    },
    {
     "name": "stderr",
     "output_type": "stream",
     "text": [
      "Sequential sampling (2 chains in 1 job)\n",
      "NUTS: [tau, s, gamma, v]\n",
      "There were 3 divergences after tuning. Increase `target_accept` or reparameterize.\n",
      "There were 17 divergences after tuning. Increase `target_accept` or reparameterize.\n"
     ]
    },
    {
     "name": "stdout",
     "output_type": "stream",
     "text": [
      "/!\\ Automatically setting parameter precision...\n",
      "Generating single subject models for 1 subjects...\n",
      "Fitting 1 model(s) using MCMC...\n",
      "  Fitting model 1 of 1...\n"
     ]
    },
    {
     "name": "stderr",
     "output_type": "stream",
     "text": [
      "Sequential sampling (2 chains in 1 job)\n",
      "NUTS: [tau, s, gamma, v]\n",
      "There were 2 divergences after tuning. Increase `target_accept` or reparameterize.\n",
      "There were 5 divergences after tuning. Increase `target_accept` or reparameterize.\n"
     ]
    },
    {
     "name": "stdout",
     "output_type": "stream",
     "text": [
      "/!\\ Automatically setting parameter precision...\n",
      "Generating single subject models for 1 subjects...\n",
      "Fitting 1 model(s) using MCMC...\n",
      "  Fitting model 1 of 1...\n"
     ]
    },
    {
     "name": "stderr",
     "output_type": "stream",
     "text": [
      "Sequential sampling (2 chains in 1 job)\n",
      "NUTS: [tau, s, gamma, v]\n",
      "The chain reached the maximum tree depth. Increase max_treedepth, increase target_accept or reparameterize.\n",
      "The chain reached the maximum tree depth. Increase max_treedepth, increase target_accept or reparameterize.\n",
      "The gelman-rubin statistic is larger than 1.2 for some parameters.\n",
      "The estimated number of effective samples is smaller than 200 for some parameters.\n"
     ]
    },
    {
     "name": "stdout",
     "output_type": "stream",
     "text": [
      "/!\\ Automatically setting parameter precision...\n",
      "Generating single subject models for 1 subjects...\n",
      "Fitting 1 model(s) using MCMC...\n",
      "  Fitting model 1 of 1...\n"
     ]
    },
    {
     "name": "stderr",
     "output_type": "stream",
     "text": [
      "Sequential sampling (2 chains in 1 job)\n",
      "NUTS: [tau, s, gamma, v]\n",
      "The acceptance probability does not match the target. It is 0.8880134628201817, but should be close to 0.8. Try to increase the number of tuning steps.\n",
      "The chain reached the maximum tree depth. Increase max_treedepth, increase target_accept or reparameterize.\n",
      "The chain reached the maximum tree depth. Increase max_treedepth, increase target_accept or reparameterize.\n",
      "The gelman-rubin statistic is larger than 1.05 for some parameters. This indicates slight problems during sampling.\n",
      "The estimated number of effective samples is smaller than 200 for some parameters.\n"
     ]
    },
    {
     "name": "stdout",
     "output_type": "stream",
     "text": [
      "/!\\ Automatically setting parameter precision...\n",
      "Generating single subject models for 1 subjects...\n",
      "Fitting 1 model(s) using MCMC...\n",
      "  Fitting model 1 of 1...\n"
     ]
    },
    {
     "name": "stderr",
     "output_type": "stream",
     "text": [
      "Sequential sampling (2 chains in 1 job)\n",
      "NUTS: [tau, s, gamma, v]\n",
      "There were 161 divergences after tuning. Increase `target_accept` or reparameterize.\n",
      "There were 290 divergences after tuning. Increase `target_accept` or reparameterize.\n"
     ]
    },
    {
     "name": "stdout",
     "output_type": "stream",
     "text": [
      "/!\\ Automatically setting parameter precision...\n",
      "Generating single subject models for 1 subjects...\n",
      "Fitting 1 model(s) using MCMC...\n",
      "  Fitting model 1 of 1...\n"
     ]
    },
    {
     "name": "stderr",
     "output_type": "stream",
     "text": [
      "Sequential sampling (2 chains in 1 job)\n",
      "NUTS: [tau, s, gamma, v]\n",
      "The acceptance probability does not match the target. It is 0.8962206015147909, but should be close to 0.8. Try to increase the number of tuning steps.\n"
     ]
    },
    {
     "name": "stdout",
     "output_type": "stream",
     "text": [
      "/!\\ Automatically setting parameter precision...\n",
      "Generating single subject models for 1 subjects...\n",
      "Fitting 1 model(s) using MCMC...\n",
      "  Fitting model 1 of 1...\n"
     ]
    },
    {
     "name": "stderr",
     "output_type": "stream",
     "text": [
      "Sequential sampling (2 chains in 1 job)\n",
      "NUTS: [tau, s, gamma, v]\n",
      "There were 29 divergences after tuning. Increase `target_accept` or reparameterize.\n",
      "There were 58 divergences after tuning. Increase `target_accept` or reparameterize.\n"
     ]
    },
    {
     "name": "stdout",
     "output_type": "stream",
     "text": [
      "/!\\ Automatically setting parameter precision...\n",
      "Generating single subject models for 1 subjects...\n",
      "Fitting 1 model(s) using MCMC...\n",
      "  Fitting model 1 of 1...\n"
     ]
    },
    {
     "name": "stderr",
     "output_type": "stream",
     "text": [
      "Sequential sampling (2 chains in 1 job)\n",
      "NUTS: [tau, s, gamma, v]\n",
      "The chain reached the maximum tree depth. Increase max_treedepth, increase target_accept or reparameterize.\n",
      "The chain reached the maximum tree depth. Increase max_treedepth, increase target_accept or reparameterize.\n",
      "The gelman-rubin statistic is larger than 1.4 for some parameters. The sampler did not converge.\n",
      "The estimated number of effective samples is smaller than 200 for some parameters.\n"
     ]
    },
    {
     "name": "stdout",
     "output_type": "stream",
     "text": [
      "/!\\ Automatically setting parameter precision...\n",
      "Generating single subject models for 1 subjects...\n",
      "Fitting 1 model(s) using MCMC...\n",
      "  Fitting model 1 of 1...\n"
     ]
    },
    {
     "name": "stderr",
     "output_type": "stream",
     "text": [
      "Sequential sampling (2 chains in 1 job)\n",
      "NUTS: [tau, s, gamma, v]\n",
      "The chain reached the maximum tree depth. Increase max_treedepth, increase target_accept or reparameterize.\n",
      "The chain reached the maximum tree depth. Increase max_treedepth, increase target_accept or reparameterize.\n",
      "The estimated number of effective samples is smaller than 200 for some parameters.\n"
     ]
    },
    {
     "name": "stdout",
     "output_type": "stream",
     "text": [
      "/!\\ Automatically setting parameter precision...\n",
      "Generating single subject models for 1 subjects...\n",
      "Fitting 1 model(s) using MCMC...\n",
      "  Fitting model 1 of 1...\n"
     ]
    },
    {
     "name": "stderr",
     "output_type": "stream",
     "text": [
      "Sequential sampling (2 chains in 1 job)\n",
      "NUTS: [tau, s, gamma, v]\n",
      "The number of effective samples is smaller than 25% for some parameters.\n"
     ]
    },
    {
     "name": "stdout",
     "output_type": "stream",
     "text": [
      "/!\\ Automatically setting parameter precision...\n",
      "Generating single subject models for 1 subjects...\n",
      "Fitting 1 model(s) using MCMC...\n",
      "  Fitting model 1 of 1...\n"
     ]
    },
    {
     "name": "stderr",
     "output_type": "stream",
     "text": [
      "Sequential sampling (2 chains in 1 job)\n",
      "NUTS: [tau, s, gamma, v]\n",
      "The chain reached the maximum tree depth. Increase max_treedepth, increase target_accept or reparameterize.\n",
      "The chain reached the maximum tree depth. Increase max_treedepth, increase target_accept or reparameterize.\n",
      "The estimated number of effective samples is smaller than 200 for some parameters.\n"
     ]
    },
    {
     "name": "stdout",
     "output_type": "stream",
     "text": [
      "/!\\ Automatically setting parameter precision...\n",
      "Generating single subject models for 1 subjects...\n",
      "Fitting 1 model(s) using MCMC...\n",
      "  Fitting model 1 of 1...\n"
     ]
    },
    {
     "name": "stderr",
     "output_type": "stream",
     "text": [
      "Sequential sampling (2 chains in 1 job)\n",
      "NUTS: [tau, s, gamma, v]\n",
      "There was 1 divergence after tuning. Increase `target_accept` or reparameterize.\n",
      "There were 73 divergences after tuning. Increase `target_accept` or reparameterize.\n",
      "The number of effective samples is smaller than 25% for some parameters.\n"
     ]
    },
    {
     "name": "stdout",
     "output_type": "stream",
     "text": [
      "/!\\ Automatically setting parameter precision...\n",
      "Generating single subject models for 1 subjects...\n",
      "Fitting 1 model(s) using MCMC...\n",
      "  Fitting model 1 of 1...\n"
     ]
    },
    {
     "name": "stderr",
     "output_type": "stream",
     "text": [
      "Sequential sampling (2 chains in 1 job)\n",
      "NUTS: [tau, s, gamma, v]\n",
      "The acceptance probability does not match the target. It is 0.5825779823738396, but should be close to 0.8. Try to increase the number of tuning steps.\n",
      "The chain reached the maximum tree depth. Increase max_treedepth, increase target_accept or reparameterize.\n",
      "The acceptance probability does not match the target. It is 0.6424633710031756, but should be close to 0.8. Try to increase the number of tuning steps.\n",
      "The chain reached the maximum tree depth. Increase max_treedepth, increase target_accept or reparameterize.\n",
      "The gelman-rubin statistic is larger than 1.2 for some parameters.\n",
      "The estimated number of effective samples is smaller than 200 for some parameters.\n"
     ]
    },
    {
     "name": "stdout",
     "output_type": "stream",
     "text": [
      "/!\\ Automatically setting parameter precision...\n",
      "Generating single subject models for 1 subjects...\n",
      "Fitting 1 model(s) using MCMC...\n",
      "  Fitting model 1 of 1...\n"
     ]
    },
    {
     "name": "stderr",
     "output_type": "stream",
     "text": [
      "Sequential sampling (2 chains in 1 job)\n",
      "NUTS: [tau, s, gamma, v]\n",
      "The chain reached the maximum tree depth. Increase max_treedepth, increase target_accept or reparameterize.\n",
      "The chain reached the maximum tree depth. Increase max_treedepth, increase target_accept or reparameterize.\n",
      "The gelman-rubin statistic is larger than 1.4 for some parameters. The sampler did not converge.\n",
      "The estimated number of effective samples is smaller than 200 for some parameters.\n"
     ]
    },
    {
     "name": "stdout",
     "output_type": "stream",
     "text": [
      "/!\\ Automatically setting parameter precision...\n",
      "Generating single subject models for 1 subjects...\n",
      "Fitting 1 model(s) using MCMC...\n",
      "  Fitting model 1 of 1...\n"
     ]
    },
    {
     "name": "stderr",
     "output_type": "stream",
     "text": [
      "Sequential sampling (2 chains in 1 job)\n",
      "NUTS: [tau, s, gamma, v]\n"
     ]
    }
   ],
   "source": [
    "from multiprocessing import Pool\n",
    "\n",
    "n_cores = 14\n",
    "p = Pool(n_cores)\n",
    "\n",
    "output = p.map(wrapper, pr.generate_parameter_sets(parameter_info))"
   ]
  },
  {
   "cell_type": "markdown",
   "metadata": {},
   "source": [
    "## Combine results"
   ]
  },
  {
   "cell_type": "code",
   "execution_count": null,
   "metadata": {},
   "outputs": [],
   "source": [
    "filenames = [file for file in listdir(partial_output_folder)\n",
    "             if file.endswith('.csv')]\n",
    "\n",
    "partial_recoveries = []\n",
    "\n",
    "for file in filenames:\n",
    "    partial = pd.read_csv(join(partial_output_folder, file))\n",
    "    partial_recoveries.append(partial)\n",
    "\n",
    "parameter_recovery = pd.concat(partial_recoveries).sort_values('index').reset_index(drop=True)\n",
    "del partial_recoveries\n",
    "parameter_recovery.to_csv(join(output_folder, 'parameter-recovery_', label, '.csv'))\n",
    "parameter_recovery.head()"
   ]
  }
 ],
 "metadata": {
  "kernelspec": {
   "display_name": "Python 3",
   "language": "python",
   "name": "python3"
  },
  "language_info": {
   "codemirror_mode": {
    "name": "ipython",
    "version": 3
   },
   "file_extension": ".py",
   "mimetype": "text/x-python",
   "name": "python",
   "nbconvert_exporter": "python",
   "pygments_lexer": "ipython3",
   "version": "3.6.8"
  },
  "toc": {
   "colors": {
    "hover_highlight": "#DAA520",
    "running_highlight": "#FF0000",
    "selected_highlight": "#FFD700"
   },
   "moveMenuLeft": true,
   "nav_menu": {
    "height": "120px",
    "width": "252px"
   },
   "navigate_menu": true,
   "number_sections": true,
   "sideBar": true,
   "threshold": 4,
   "toc_cell": false,
   "toc_section_display": "block",
   "toc_window_display": false,
   "widenNotebook": false
  }
 },
 "nbformat": 4,
 "nbformat_minor": 2
}
