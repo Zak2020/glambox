{
 "cells": [
  {
   "cell_type": "code",
   "execution_count": 1,
   "metadata": {},
   "outputs": [
    {
     "name": "stderr",
     "output_type": "stream",
     "text": [
      "/Users/felixmolter/anaconda3/lib/python3.6/site-packages/h5py/__init__.py:36: FutureWarning: Conversion of the second argument of issubdtype from `float` to `np.floating` is deprecated. In future, it will be treated as `np.float64 == np.dtype(float).type`.\n",
      "  from ._conv import register_converters as _register_converters\n"
     ]
    }
   ],
   "source": [
    "import numpy as np\n",
    "import pandas as pd\n",
    "import pymc3 as pm\n",
    "from os.path import join, isfile\n",
    "from os import listdir\n",
    "from functools import partial\n",
    "\n",
    "import glam\n",
    "import parameter_recovery as pr\n",
    "\n",
    "%load_ext autoreload\n",
    "%autoreload 2"
   ]
  },
  {
   "cell_type": "markdown",
   "metadata": {},
   "source": [
    "# Systematic parameter recovery – Hierarchical model, with ADVI"
   ]
  },
  {
   "cell_type": "code",
   "execution_count": 2,
   "metadata": {},
   "outputs": [],
   "source": [
    "output_folder = join('results', 'parameter-recovery_hierarchical', 'advi')\n",
    "label = 'hierarchical_advi'"
   ]
  },
  {
   "cell_type": "markdown",
   "metadata": {},
   "source": [
    "## Define parameter ranges from 2011 estimates"
   ]
  },
  {
   "cell_type": "code",
   "execution_count": 3,
   "metadata": {},
   "outputs": [],
   "source": [
    "bounds = dict(v=[0.000015, 0.00015],\n",
    "              gamma=[-1, 1],\n",
    "              s=[0.004, 0.011],\n",
    "              tau=[0.1, 1.25])"
   ]
  },
  {
   "cell_type": "code",
   "execution_count": 4,
   "metadata": {},
   "outputs": [
    {
     "data": {
      "text/plain": [
       "{'v': array([2.850e-05, 8.250e-05, 1.365e-04]),\n",
       " 'gamma': array([-8.00000000e-01,  5.55111512e-17,  8.00000000e-01]),\n",
       " 's': array([0.0047, 0.0075, 0.0103]),\n",
       " 'tau': array([0.215, 0.675, 1.135])}"
      ]
     },
     "execution_count": 4,
     "metadata": {},
     "output_type": "execute_result"
    }
   ],
   "source": [
    "# Determine low, medium, high mean values as 10th, 50th and 90th percentile of these ranges\n",
    "means = {parameter: np.percentile(np.linspace(*bounds[parameter], 100), [10, 50, 90])\n",
    "          for parameter in ['v', 'gamma', 's', 'tau']}\n",
    "means"
   ]
  },
  {
   "cell_type": "code",
   "execution_count": 5,
   "metadata": {},
   "outputs": [],
   "source": [
    "sds = dict(v=0.00005,\n",
    "           s=0.001,\n",
    "           gamma=0.3,\n",
    "           tau=0.2)"
   ]
  },
  {
   "cell_type": "code",
   "execution_count": 6,
   "metadata": {},
   "outputs": [],
   "source": [
    "parameter_info = {parameter: dict(mu=dict(low=means[parameter][0],\n",
    "                                          medium=means[parameter][1],\n",
    "                                          high=means[parameter][2]),\n",
    "                                  sd=sds[parameter],\n",
    "                                  bounds=tuple(bounds[parameter]))\n",
    "                  for parameter in ['v', 'gamma', 's', 'tau']}"
   ]
  },
  {
   "cell_type": "markdown",
   "metadata": {},
   "source": [
    "## Run the recovery in parallel"
   ]
  },
  {
   "cell_type": "code",
   "execution_count": 7,
   "metadata": {},
   "outputs": [],
   "source": [
    "partial_output_folder = join(output_folder, 'partial')\n",
    "\n",
    "simulate_group_args = dict(kind='hierarchical',\n",
    "                           n_individuals=20,\n",
    "                           n_trials=50, \n",
    "                           n_items=3,\n",
    "                           error_weight=0,\n",
    "                           value_range=[1, 10],\n",
    "                           seed=None)\n",
    "\n",
    "make_model_args = dict(kind='hierarchical',\n",
    "                       t0_val=0,\n",
    "                       error_weight=0)\n",
    "\n",
    "fit_args = dict(method='VI',\n",
    "                draws=2000,\n",
    "                n_vi=50000,\n",
    "                progressbar=False)\n",
    "\n",
    "wrapper = partial(pr.recover_and_save_hierarchical,\n",
    "                  output_folder=partial_output_folder,\n",
    "                  label=label,\n",
    "                  simulate_group_args=simulate_group_args,\n",
    "                  make_model_args=make_model_args,\n",
    "                  fit_args=fit_args)"
   ]
  },
  {
   "cell_type": "code",
   "execution_count": null,
   "metadata": {},
   "outputs": [
    {
     "name": "stdout",
     "output_type": "stream",
     "text": [
      "Generating hierarchical model for 20 subjects...\n",
      "Generating hierarchical model for 20 subjects...\n",
      "Generating hierarchical model for 20 subjects...\n",
      "Generating hierarchical model for 20 subjects...\n",
      "Generating hierarchical model for 20 subjects...\n",
      "Generating hierarchical model for 20 subjects...\n",
      "Generating hierarchical model for 20 subjects...\n",
      "Generating hierarchical model for 20 subjects...\n"
     ]
    },
    {
     "name": "stderr",
     "output_type": "stream",
     "text": [
      "WARNING (theano.gof.compilelock): Overriding existing lock by dead process '27032' (I am process '27090')\n",
      "INFO (theano.gof.compilelock): Waiting for existing lock by process '27092' (I am process '27091')\n",
      "INFO (theano.gof.compilelock): To manually release the lock, delete /Users/felixmolter/.theano/compiledir_Darwin-17.7.0-x86_64-i386-64bit-i386-3.6.8-64/lock_dir\n",
      "INFO (theano.gof.compilelock): Waiting for existing lock by process '27092' (I am process '27096')\n",
      "INFO (theano.gof.compilelock): To manually release the lock, delete /Users/felixmolter/.theano/compiledir_Darwin-17.7.0-x86_64-i386-64bit-i386-3.6.8-64/lock_dir\n",
      "INFO (theano.gof.compilelock): Waiting for existing lock by process '27092' (I am process '27094')\n",
      "INFO (theano.gof.compilelock): To manually release the lock, delete /Users/felixmolter/.theano/compiledir_Darwin-17.7.0-x86_64-i386-64bit-i386-3.6.8-64/lock_dir\n",
      "INFO (theano.gof.compilelock): Waiting for existing lock by process '27092' (I am process '27093')\n",
      "INFO (theano.gof.compilelock): To manually release the lock, delete /Users/felixmolter/.theano/compiledir_Darwin-17.7.0-x86_64-i386-64bit-i386-3.6.8-64/lock_dir\n",
      "INFO (theano.gof.compilelock): Waiting for existing lock by process '27092' (I am process '27095')\n",
      "INFO (theano.gof.compilelock): To manually release the lock, delete /Users/felixmolter/.theano/compiledir_Darwin-17.7.0-x86_64-i386-64bit-i386-3.6.8-64/lock_dir\n",
      "INFO (theano.gof.compilelock): Waiting for existing lock by process '27092' (I am process '27097')\n",
      "INFO (theano.gof.compilelock): To manually release the lock, delete /Users/felixmolter/.theano/compiledir_Darwin-17.7.0-x86_64-i386-64bit-i386-3.6.8-64/lock_dir\n",
      "INFO (theano.gof.compilelock): Waiting for existing lock by process '27092' (I am process '27091')\n",
      "INFO (theano.gof.compilelock): To manually release the lock, delete /Users/felixmolter/.theano/compiledir_Darwin-17.7.0-x86_64-i386-64bit-i386-3.6.8-64/lock_dir\n",
      "INFO (theano.gof.compilelock): Waiting for existing lock by process '27092' (I am process '27096')\n",
      "INFO (theano.gof.compilelock): To manually release the lock, delete /Users/felixmolter/.theano/compiledir_Darwin-17.7.0-x86_64-i386-64bit-i386-3.6.8-64/lock_dir\n",
      "INFO (theano.gof.compilelock): Waiting for existing lock by process '27092' (I am process '27094')\n",
      "INFO (theano.gof.compilelock): To manually release the lock, delete /Users/felixmolter/.theano/compiledir_Darwin-17.7.0-x86_64-i386-64bit-i386-3.6.8-64/lock_dir\n",
      "INFO (theano.gof.compilelock): Waiting for existing lock by process '27092' (I am process '27093')\n",
      "INFO (theano.gof.compilelock): To manually release the lock, delete /Users/felixmolter/.theano/compiledir_Darwin-17.7.0-x86_64-i386-64bit-i386-3.6.8-64/lock_dir\n",
      "INFO (theano.gof.compilelock): Waiting for existing lock by process '27092' (I am process '27095')\n",
      "INFO (theano.gof.compilelock): To manually release the lock, delete /Users/felixmolter/.theano/compiledir_Darwin-17.7.0-x86_64-i386-64bit-i386-3.6.8-64/lock_dir\n",
      "INFO (theano.gof.compilelock): Waiting for existing lock by process '27092' (I am process '27097')\n",
      "INFO (theano.gof.compilelock): To manually release the lock, delete /Users/felixmolter/.theano/compiledir_Darwin-17.7.0-x86_64-i386-64bit-i386-3.6.8-64/lock_dir\n"
     ]
    },
    {
     "name": "stdout",
     "output_type": "stream",
     "text": [
      "Fitting 1 model(s) using VI...\n",
      "  Fitting model 1 of 1...\n"
     ]
    },
    {
     "name": "stderr",
     "output_type": "stream",
     "text": [
      "INFO (theano.gof.compilelock): Waiting for existing lock by process '27090' (I am process '27091')\n",
      "INFO (theano.gof.compilelock): To manually release the lock, delete /Users/felixmolter/.theano/compiledir_Darwin-17.7.0-x86_64-i386-64bit-i386-3.6.8-64/lock_dir\n",
      "INFO (theano.gof.compilelock): Waiting for existing lock by process '27090' (I am process '27096')\n",
      "INFO (theano.gof.compilelock): To manually release the lock, delete /Users/felixmolter/.theano/compiledir_Darwin-17.7.0-x86_64-i386-64bit-i386-3.6.8-64/lock_dir\n",
      "INFO (theano.gof.compilelock): Waiting for existing lock by process '27090' (I am process '27094')\n",
      "INFO (theano.gof.compilelock): To manually release the lock, delete /Users/felixmolter/.theano/compiledir_Darwin-17.7.0-x86_64-i386-64bit-i386-3.6.8-64/lock_dir\n",
      "INFO (theano.gof.compilelock): Waiting for existing lock by process '27090' (I am process '27093')\n",
      "INFO (theano.gof.compilelock): To manually release the lock, delete /Users/felixmolter/.theano/compiledir_Darwin-17.7.0-x86_64-i386-64bit-i386-3.6.8-64/lock_dir\n",
      "INFO (theano.gof.compilelock): Waiting for existing lock by process '27090' (I am process '27095')\n",
      "INFO (theano.gof.compilelock): To manually release the lock, delete /Users/felixmolter/.theano/compiledir_Darwin-17.7.0-x86_64-i386-64bit-i386-3.6.8-64/lock_dir\n",
      "INFO (theano.gof.compilelock): Waiting for existing lock by process '27090' (I am process '27097')\n",
      "INFO (theano.gof.compilelock): To manually release the lock, delete /Users/felixmolter/.theano/compiledir_Darwin-17.7.0-x86_64-i386-64bit-i386-3.6.8-64/lock_dir\n"
     ]
    },
    {
     "name": "stdout",
     "output_type": "stream",
     "text": [
      "Fitting 1 model(s) using VI...\n",
      "  Fitting model 1 of 1...\n"
     ]
    },
    {
     "name": "stderr",
     "output_type": "stream",
     "text": [
      "INFO (theano.gof.compilelock): Waiting for existing lock by process '27092' (I am process '27091')\n",
      "INFO (theano.gof.compilelock): To manually release the lock, delete /Users/felixmolter/.theano/compiledir_Darwin-17.7.0-x86_64-i386-64bit-i386-3.6.8-64/lock_dir\n",
      "INFO (theano.gof.compilelock): Waiting for existing lock by process '27092' (I am process '27096')\n",
      "INFO (theano.gof.compilelock): To manually release the lock, delete /Users/felixmolter/.theano/compiledir_Darwin-17.7.0-x86_64-i386-64bit-i386-3.6.8-64/lock_dir\n",
      "INFO (theano.gof.compilelock): Waiting for existing lock by process '27092' (I am process '27094')\n",
      "INFO (theano.gof.compilelock): To manually release the lock, delete /Users/felixmolter/.theano/compiledir_Darwin-17.7.0-x86_64-i386-64bit-i386-3.6.8-64/lock_dir\n",
      "INFO (theano.gof.compilelock): Waiting for existing lock by process '27092' (I am process '27093')\n",
      "INFO (theano.gof.compilelock): To manually release the lock, delete /Users/felixmolter/.theano/compiledir_Darwin-17.7.0-x86_64-i386-64bit-i386-3.6.8-64/lock_dir\n",
      "INFO (theano.gof.compilelock): Waiting for existing lock by process '27092' (I am process '27095')\n",
      "INFO (theano.gof.compilelock): To manually release the lock, delete /Users/felixmolter/.theano/compiledir_Darwin-17.7.0-x86_64-i386-64bit-i386-3.6.8-64/lock_dir\n",
      "INFO (theano.gof.compilelock): Waiting for existing lock by process '27092' (I am process '27097')\n",
      "INFO (theano.gof.compilelock): To manually release the lock, delete /Users/felixmolter/.theano/compiledir_Darwin-17.7.0-x86_64-i386-64bit-i386-3.6.8-64/lock_dir\n",
      "INFO (theano.gof.compilelock): Waiting for existing lock by process '27092' (I am process '27091')\n",
      "INFO (theano.gof.compilelock): To manually release the lock, delete /Users/felixmolter/.theano/compiledir_Darwin-17.7.0-x86_64-i386-64bit-i386-3.6.8-64/lock_dir\n",
      "INFO (theano.gof.compilelock): Waiting for existing lock by process '27092' (I am process '27096')\n",
      "INFO (theano.gof.compilelock): To manually release the lock, delete /Users/felixmolter/.theano/compiledir_Darwin-17.7.0-x86_64-i386-64bit-i386-3.6.8-64/lock_dir\n",
      "INFO (theano.gof.compilelock): Waiting for existing lock by process '27094' (I am process '27093')\n",
      "INFO (theano.gof.compilelock): To manually release the lock, delete /Users/felixmolter/.theano/compiledir_Darwin-17.7.0-x86_64-i386-64bit-i386-3.6.8-64/lock_dir\n",
      "INFO (theano.gof.compilelock): Waiting for existing lock by process '27094' (I am process '27095')\n",
      "INFO (theano.gof.compilelock): To manually release the lock, delete /Users/felixmolter/.theano/compiledir_Darwin-17.7.0-x86_64-i386-64bit-i386-3.6.8-64/lock_dir\n",
      "INFO (theano.gof.compilelock): Waiting for existing lock by process '27094' (I am process '27097')\n",
      "INFO (theano.gof.compilelock): To manually release the lock, delete /Users/felixmolter/.theano/compiledir_Darwin-17.7.0-x86_64-i386-64bit-i386-3.6.8-64/lock_dir\n",
      "INFO (theano.gof.compilelock): Waiting for existing lock by process '27094' (I am process '27091')\n",
      "INFO (theano.gof.compilelock): To manually release the lock, delete /Users/felixmolter/.theano/compiledir_Darwin-17.7.0-x86_64-i386-64bit-i386-3.6.8-64/lock_dir\n",
      "INFO (theano.gof.compilelock): Waiting for existing lock by process '27094' (I am process '27096')\n",
      "INFO (theano.gof.compilelock): To manually release the lock, delete /Users/felixmolter/.theano/compiledir_Darwin-17.7.0-x86_64-i386-64bit-i386-3.6.8-64/lock_dir\n",
      "INFO (theano.gof.compilelock): Waiting for existing lock by process '27093' (I am process '27090')\n",
      "INFO (theano.gof.compilelock): To manually release the lock, delete /Users/felixmolter/.theano/compiledir_Darwin-17.7.0-x86_64-i386-64bit-i386-3.6.8-64/lock_dir\n",
      "INFO (theano.gof.compilelock): Waiting for existing lock by process '27093' (I am process '27095')\n",
      "INFO (theano.gof.compilelock): To manually release the lock, delete /Users/felixmolter/.theano/compiledir_Darwin-17.7.0-x86_64-i386-64bit-i386-3.6.8-64/lock_dir\n",
      "INFO (theano.gof.compilelock): Waiting for existing lock by process '27093' (I am process '27097')\n",
      "INFO (theano.gof.compilelock): To manually release the lock, delete /Users/felixmolter/.theano/compiledir_Darwin-17.7.0-x86_64-i386-64bit-i386-3.6.8-64/lock_dir\n",
      "INFO (theano.gof.compilelock): Waiting for existing lock by process '27093' (I am process '27092')\n",
      "INFO (theano.gof.compilelock): To manually release the lock, delete /Users/felixmolter/.theano/compiledir_Darwin-17.7.0-x86_64-i386-64bit-i386-3.6.8-64/lock_dir\n",
      "INFO (theano.gof.compilelock): Waiting for existing lock by process '27093' (I am process '27090')\n",
      "INFO (theano.gof.compilelock): To manually release the lock, delete /Users/felixmolter/.theano/compiledir_Darwin-17.7.0-x86_64-i386-64bit-i386-3.6.8-64/lock_dir\n",
      "INFO (theano.gof.compilelock): Waiting for existing lock by process '27093' (I am process '27092')\n",
      "INFO (theano.gof.compilelock): To manually release the lock, delete /Users/felixmolter/.theano/compiledir_Darwin-17.7.0-x86_64-i386-64bit-i386-3.6.8-64/lock_dir\n",
      "INFO (theano.gof.compilelock): Waiting for existing lock by process '27091' (I am process '27096')\n",
      "INFO (theano.gof.compilelock): To manually release the lock, delete /Users/felixmolter/.theano/compiledir_Darwin-17.7.0-x86_64-i386-64bit-i386-3.6.8-64/lock_dir\n",
      "INFO (theano.gof.compilelock): Waiting for existing lock by process '27091' (I am process '27095')\n",
      "INFO (theano.gof.compilelock): To manually release the lock, delete /Users/felixmolter/.theano/compiledir_Darwin-17.7.0-x86_64-i386-64bit-i386-3.6.8-64/lock_dir\n",
      "INFO (theano.gof.compilelock): Waiting for existing lock by process '27091' (I am process '27097')\n",
      "INFO (theano.gof.compilelock): To manually release the lock, delete /Users/felixmolter/.theano/compiledir_Darwin-17.7.0-x86_64-i386-64bit-i386-3.6.8-64/lock_dir\n",
      "INFO (theano.gof.compilelock): Waiting for existing lock by process '27093' (I am process '27092')\n",
      "INFO (theano.gof.compilelock): To manually release the lock, delete /Users/felixmolter/.theano/compiledir_Darwin-17.7.0-x86_64-i386-64bit-i386-3.6.8-64/lock_dir\n",
      "INFO (theano.gof.compilelock): Waiting for existing lock by process '27093' (I am process '27096')\n",
      "INFO (theano.gof.compilelock): To manually release the lock, delete /Users/felixmolter/.theano/compiledir_Darwin-17.7.0-x86_64-i386-64bit-i386-3.6.8-64/lock_dir\n",
      "INFO (theano.gof.compilelock): Waiting for existing lock by process '27093' (I am process '27095')\n",
      "INFO (theano.gof.compilelock): To manually release the lock, delete /Users/felixmolter/.theano/compiledir_Darwin-17.7.0-x86_64-i386-64bit-i386-3.6.8-64/lock_dir\n",
      "INFO (theano.gof.compilelock): Waiting for existing lock by process '27093' (I am process '27097')\n",
      "INFO (theano.gof.compilelock): To manually release the lock, delete /Users/felixmolter/.theano/compiledir_Darwin-17.7.0-x86_64-i386-64bit-i386-3.6.8-64/lock_dir\n"
     ]
    },
    {
     "name": "stdout",
     "output_type": "stream",
     "text": [
      "Fitting 1 model(s) using VI...\n",
      "  Fitting model 1 of 1...\n",
      "Fitting 1 model(s) using VI...\n",
      "  Fitting model 1 of 1...\n"
     ]
    },
    {
     "name": "stderr",
     "output_type": "stream",
     "text": [
      "INFO (theano.gof.compilelock): Waiting for existing lock by process '27096' (I am process '27095')\n",
      "INFO (theano.gof.compilelock): To manually release the lock, delete /Users/felixmolter/.theano/compiledir_Darwin-17.7.0-x86_64-i386-64bit-i386-3.6.8-64/lock_dir\n",
      "INFO (theano.gof.compilelock): Waiting for existing lock by process '27096' (I am process '27097')\n",
      "INFO (theano.gof.compilelock): To manually release the lock, delete /Users/felixmolter/.theano/compiledir_Darwin-17.7.0-x86_64-i386-64bit-i386-3.6.8-64/lock_dir\n",
      "INFO (theano.gof.compilelock): Waiting for existing lock by process '27096' (I am process '27092')\n",
      "INFO (theano.gof.compilelock): To manually release the lock, delete /Users/felixmolter/.theano/compiledir_Darwin-17.7.0-x86_64-i386-64bit-i386-3.6.8-64/lock_dir\n",
      "INFO (theano.gof.compilelock): Waiting for existing lock by process '27096' (I am process '27091')\n",
      "INFO (theano.gof.compilelock): To manually release the lock, delete /Users/felixmolter/.theano/compiledir_Darwin-17.7.0-x86_64-i386-64bit-i386-3.6.8-64/lock_dir\n",
      "INFO (theano.gof.compilelock): Waiting for existing lock by process '27094' (I am process '27090')\n",
      "INFO (theano.gof.compilelock): To manually release the lock, delete /Users/felixmolter/.theano/compiledir_Darwin-17.7.0-x86_64-i386-64bit-i386-3.6.8-64/lock_dir\n",
      "INFO (theano.gof.compilelock): Waiting for existing lock by process '27094' (I am process '27095')\n",
      "INFO (theano.gof.compilelock): To manually release the lock, delete /Users/felixmolter/.theano/compiledir_Darwin-17.7.0-x86_64-i386-64bit-i386-3.6.8-64/lock_dir\n",
      "INFO (theano.gof.compilelock): Waiting for existing lock by process '27094' (I am process '27097')\n",
      "INFO (theano.gof.compilelock): To manually release the lock, delete /Users/felixmolter/.theano/compiledir_Darwin-17.7.0-x86_64-i386-64bit-i386-3.6.8-64/lock_dir\n",
      "INFO (theano.gof.compilelock): Waiting for existing lock by process '27094' (I am process '27091')\n",
      "INFO (theano.gof.compilelock): To manually release the lock, delete /Users/felixmolter/.theano/compiledir_Darwin-17.7.0-x86_64-i386-64bit-i386-3.6.8-64/lock_dir\n",
      "INFO (theano.gof.compilelock): Waiting for existing lock by process '27096' (I am process '27090')\n",
      "INFO (theano.gof.compilelock): To manually release the lock, delete /Users/felixmolter/.theano/compiledir_Darwin-17.7.0-x86_64-i386-64bit-i386-3.6.8-64/lock_dir\n",
      "INFO (theano.gof.compilelock): Waiting for existing lock by process '27096' (I am process '27095')\n",
      "INFO (theano.gof.compilelock): To manually release the lock, delete /Users/felixmolter/.theano/compiledir_Darwin-17.7.0-x86_64-i386-64bit-i386-3.6.8-64/lock_dir\n",
      "INFO (theano.gof.compilelock): Waiting for existing lock by process '27096' (I am process '27097')\n",
      "INFO (theano.gof.compilelock): To manually release the lock, delete /Users/felixmolter/.theano/compiledir_Darwin-17.7.0-x86_64-i386-64bit-i386-3.6.8-64/lock_dir\n",
      "INFO (theano.gof.compilelock): Waiting for existing lock by process '27096' (I am process '27093')\n",
      "INFO (theano.gof.compilelock): To manually release the lock, delete /Users/felixmolter/.theano/compiledir_Darwin-17.7.0-x86_64-i386-64bit-i386-3.6.8-64/lock_dir\n",
      "INFO (theano.gof.compilelock): Waiting for existing lock by process '27096' (I am process '27091')\n",
      "INFO (theano.gof.compilelock): To manually release the lock, delete /Users/felixmolter/.theano/compiledir_Darwin-17.7.0-x86_64-i386-64bit-i386-3.6.8-64/lock_dir\n"
     ]
    },
    {
     "name": "stdout",
     "output_type": "stream",
     "text": [
      "Fitting 1 model(s) using VI...\n",
      "  Fitting model 1 of 1...\n"
     ]
    },
    {
     "name": "stderr",
     "output_type": "stream",
     "text": [
      "INFO (theano.gof.compilelock): Waiting for existing lock by process '27096' (I am process '27090')\n",
      "INFO (theano.gof.compilelock): To manually release the lock, delete /Users/felixmolter/.theano/compiledir_Darwin-17.7.0-x86_64-i386-64bit-i386-3.6.8-64/lock_dir\n",
      "INFO (theano.gof.compilelock): Waiting for existing lock by process '27096' (I am process '27095')\n",
      "INFO (theano.gof.compilelock): To manually release the lock, delete /Users/felixmolter/.theano/compiledir_Darwin-17.7.0-x86_64-i386-64bit-i386-3.6.8-64/lock_dir\n",
      "INFO (theano.gof.compilelock): Waiting for existing lock by process '27096' (I am process '27097')\n",
      "INFO (theano.gof.compilelock): To manually release the lock, delete /Users/felixmolter/.theano/compiledir_Darwin-17.7.0-x86_64-i386-64bit-i386-3.6.8-64/lock_dir\n",
      "INFO (theano.gof.compilelock): Waiting for existing lock by process '27096' (I am process '27093')\n",
      "INFO (theano.gof.compilelock): To manually release the lock, delete /Users/felixmolter/.theano/compiledir_Darwin-17.7.0-x86_64-i386-64bit-i386-3.6.8-64/lock_dir\n",
      "INFO (theano.gof.compilelock): Waiting for existing lock by process '27094' (I am process '27091')\n",
      "INFO (theano.gof.compilelock): To manually release the lock, delete /Users/felixmolter/.theano/compiledir_Darwin-17.7.0-x86_64-i386-64bit-i386-3.6.8-64/lock_dir\n",
      "INFO (theano.gof.compilelock): Waiting for existing lock by process '27094' (I am process '27090')\n",
      "INFO (theano.gof.compilelock): To manually release the lock, delete /Users/felixmolter/.theano/compiledir_Darwin-17.7.0-x86_64-i386-64bit-i386-3.6.8-64/lock_dir\n",
      "INFO (theano.gof.compilelock): Waiting for existing lock by process '27094' (I am process '27093')\n",
      "INFO (theano.gof.compilelock): To manually release the lock, delete /Users/felixmolter/.theano/compiledir_Darwin-17.7.0-x86_64-i386-64bit-i386-3.6.8-64/lock_dir\n",
      "INFO (theano.gof.compilelock): Waiting for existing lock by process '27095' (I am process '27097')\n",
      "INFO (theano.gof.compilelock): To manually release the lock, delete /Users/felixmolter/.theano/compiledir_Darwin-17.7.0-x86_64-i386-64bit-i386-3.6.8-64/lock_dir\n",
      "INFO (theano.gof.compilelock): Waiting for existing lock by process '27095' (I am process '27091')\n",
      "INFO (theano.gof.compilelock): To manually release the lock, delete /Users/felixmolter/.theano/compiledir_Darwin-17.7.0-x86_64-i386-64bit-i386-3.6.8-64/lock_dir\n",
      "INFO (theano.gof.compilelock): Waiting for existing lock by process '27090' (I am process '27093')\n",
      "INFO (theano.gof.compilelock): To manually release the lock, delete /Users/felixmolter/.theano/compiledir_Darwin-17.7.0-x86_64-i386-64bit-i386-3.6.8-64/lock_dir\n",
      "INFO (theano.gof.compilelock): Waiting for existing lock by process '27090' (I am process '27092')\n",
      "INFO (theano.gof.compilelock): To manually release the lock, delete /Users/felixmolter/.theano/compiledir_Darwin-17.7.0-x86_64-i386-64bit-i386-3.6.8-64/lock_dir\n",
      "INFO (theano.gof.compilelock): Waiting for existing lock by process '27096' (I am process '27091')\n",
      "INFO (theano.gof.compilelock): To manually release the lock, delete /Users/felixmolter/.theano/compiledir_Darwin-17.7.0-x86_64-i386-64bit-i386-3.6.8-64/lock_dir\n",
      "INFO (theano.gof.compilelock): Waiting for existing lock by process '27096' (I am process '27097')\n",
      "INFO (theano.gof.compilelock): To manually release the lock, delete /Users/felixmolter/.theano/compiledir_Darwin-17.7.0-x86_64-i386-64bit-i386-3.6.8-64/lock_dir\n",
      "INFO (theano.gof.compilelock): Waiting for existing lock by process '27090' (I am process '27095')\n",
      "INFO (theano.gof.compilelock): To manually release the lock, delete /Users/felixmolter/.theano/compiledir_Darwin-17.7.0-x86_64-i386-64bit-i386-3.6.8-64/lock_dir\n",
      "INFO (theano.gof.compilelock): Waiting for existing lock by process '4598' (I am process '27094')\n",
      "INFO (theano.gof.compilelock): To manually release the lock, delete /Users/felixmolter/.theano/compiledir_Darwin-17.7.0-x86_64-i386-64bit-i386-3.6.8-64/lock_dir\n",
      "INFO (theano.gof.compilelock): Waiting for existing lock by process '27091' (I am process '27092')\n",
      "INFO (theano.gof.compilelock): To manually release the lock, delete /Users/felixmolter/.theano/compiledir_Darwin-17.7.0-x86_64-i386-64bit-i386-3.6.8-64/lock_dir\n",
      "INFO (theano.gof.compilelock): Waiting for existing lock by process '27091' (I am process '27093')\n",
      "INFO (theano.gof.compilelock): To manually release the lock, delete /Users/felixmolter/.theano/compiledir_Darwin-17.7.0-x86_64-i386-64bit-i386-3.6.8-64/lock_dir\n",
      "INFO (theano.gof.compilelock): Waiting for existing lock by process '27091' (I am process '27095')\n",
      "INFO (theano.gof.compilelock): To manually release the lock, delete /Users/felixmolter/.theano/compiledir_Darwin-17.7.0-x86_64-i386-64bit-i386-3.6.8-64/lock_dir\n",
      "INFO (theano.gof.compilelock): Waiting for existing lock by process '27091' (I am process '27097')\n",
      "INFO (theano.gof.compilelock): To manually release the lock, delete /Users/felixmolter/.theano/compiledir_Darwin-17.7.0-x86_64-i386-64bit-i386-3.6.8-64/lock_dir\n",
      "INFO (theano.gof.compilelock): Waiting for existing lock by process '27090' (I am process '27094')\n",
      "INFO (theano.gof.compilelock): To manually release the lock, delete /Users/felixmolter/.theano/compiledir_Darwin-17.7.0-x86_64-i386-64bit-i386-3.6.8-64/lock_dir\n",
      "INFO (theano.gof.compilelock): Waiting for existing lock by process '27090' (I am process '27093')\n",
      "INFO (theano.gof.compilelock): To manually release the lock, delete /Users/felixmolter/.theano/compiledir_Darwin-17.7.0-x86_64-i386-64bit-i386-3.6.8-64/lock_dir\n",
      "INFO (theano.gof.compilelock): Waiting for existing lock by process '27090' (I am process '27095')\n",
      "INFO (theano.gof.compilelock): To manually release the lock, delete /Users/felixmolter/.theano/compiledir_Darwin-17.7.0-x86_64-i386-64bit-i386-3.6.8-64/lock_dir\n",
      "INFO (theano.gof.compilelock): Waiting for existing lock by process '27090' (I am process '27097')\n",
      "INFO (theano.gof.compilelock): To manually release the lock, delete /Users/felixmolter/.theano/compiledir_Darwin-17.7.0-x86_64-i386-64bit-i386-3.6.8-64/lock_dir\n",
      "INFO (theano.gof.compilelock): Waiting for existing lock by process '27090' (I am process '27091')\n",
      "INFO (theano.gof.compilelock): To manually release the lock, delete /Users/felixmolter/.theano/compiledir_Darwin-17.7.0-x86_64-i386-64bit-i386-3.6.8-64/lock_dir\n",
      "INFO (theano.gof.compilelock): Waiting for existing lock by process '27096' (I am process '27092')\n",
      "INFO (theano.gof.compilelock): To manually release the lock, delete /Users/felixmolter/.theano/compiledir_Darwin-17.7.0-x86_64-i386-64bit-i386-3.6.8-64/lock_dir\n",
      "INFO (theano.gof.compilelock): Waiting for existing lock by process '27096' (I am process '27091')\n",
      "INFO (theano.gof.compilelock): To manually release the lock, delete /Users/felixmolter/.theano/compiledir_Darwin-17.7.0-x86_64-i386-64bit-i386-3.6.8-64/lock_dir\n",
      "INFO (theano.gof.compilelock): Waiting for existing lock by process '27094' (I am process '27095')\n",
      "INFO (theano.gof.compilelock): To manually release the lock, delete /Users/felixmolter/.theano/compiledir_Darwin-17.7.0-x86_64-i386-64bit-i386-3.6.8-64/lock_dir\n",
      "INFO (theano.gof.compilelock): Waiting for existing lock by process '27094' (I am process '27093')\n",
      "INFO (theano.gof.compilelock): To manually release the lock, delete /Users/felixmolter/.theano/compiledir_Darwin-17.7.0-x86_64-i386-64bit-i386-3.6.8-64/lock_dir\n",
      "INFO (theano.gof.compilelock): Waiting for existing lock by process '4598' (I am process '27091')\n",
      "INFO (theano.gof.compilelock): To manually release the lock, delete /Users/felixmolter/.theano/compiledir_Darwin-17.7.0-x86_64-i386-64bit-i386-3.6.8-64/lock_dir\n",
      "INFO (theano.gof.compilelock): Waiting for existing lock by process '27093' (I am process '27095')\n",
      "INFO (theano.gof.compilelock): To manually release the lock, delete /Users/felixmolter/.theano/compiledir_Darwin-17.7.0-x86_64-i386-64bit-i386-3.6.8-64/lock_dir\n",
      "INFO (theano.gof.compilelock): Waiting for existing lock by process '27093' (I am process '27092')\n",
      "INFO (theano.gof.compilelock): To manually release the lock, delete /Users/felixmolter/.theano/compiledir_Darwin-17.7.0-x86_64-i386-64bit-i386-3.6.8-64/lock_dir\n",
      "INFO (theano.gof.compilelock): Waiting for existing lock by process '27093' (I am process '27094')\n",
      "INFO (theano.gof.compilelock): To manually release the lock, delete /Users/felixmolter/.theano/compiledir_Darwin-17.7.0-x86_64-i386-64bit-i386-3.6.8-64/lock_dir\n"
     ]
    },
    {
     "name": "stderr",
     "output_type": "stream",
     "text": [
      "INFO (theano.gof.compilelock): Waiting for existing lock by process '27093' (I am process '27091')\n",
      "INFO (theano.gof.compilelock): To manually release the lock, delete /Users/felixmolter/.theano/compiledir_Darwin-17.7.0-x86_64-i386-64bit-i386-3.6.8-64/lock_dir\n",
      "INFO (theano.gof.compilelock): Waiting for existing lock by process '27096' (I am process '27095')\n",
      "INFO (theano.gof.compilelock): To manually release the lock, delete /Users/felixmolter/.theano/compiledir_Darwin-17.7.0-x86_64-i386-64bit-i386-3.6.8-64/lock_dir\n",
      "INFO (theano.gof.compilelock): Waiting for existing lock by process '27096' (I am process '27097')\n",
      "INFO (theano.gof.compilelock): To manually release the lock, delete /Users/felixmolter/.theano/compiledir_Darwin-17.7.0-x86_64-i386-64bit-i386-3.6.8-64/lock_dir\n",
      "INFO (theano.gof.compilelock): Waiting for existing lock by process '27092' (I am process '27094')\n",
      "INFO (theano.gof.compilelock): To manually release the lock, delete /Users/felixmolter/.theano/compiledir_Darwin-17.7.0-x86_64-i386-64bit-i386-3.6.8-64/lock_dir\n",
      "INFO (theano.gof.compilelock): Waiting for existing lock by process '27092' (I am process '27097')\n",
      "INFO (theano.gof.compilelock): To manually release the lock, delete /Users/felixmolter/.theano/compiledir_Darwin-17.7.0-x86_64-i386-64bit-i386-3.6.8-64/lock_dir\n",
      "INFO (theano.gof.compilelock): Waiting for existing lock by process '27092' (I am process '27091')\n",
      "INFO (theano.gof.compilelock): To manually release the lock, delete /Users/felixmolter/.theano/compiledir_Darwin-17.7.0-x86_64-i386-64bit-i386-3.6.8-64/lock_dir\n",
      "INFO (theano.gof.compilelock): Waiting for existing lock by process '27092' (I am process '27095')\n",
      "INFO (theano.gof.compilelock): To manually release the lock, delete /Users/felixmolter/.theano/compiledir_Darwin-17.7.0-x86_64-i386-64bit-i386-3.6.8-64/lock_dir\n",
      "INFO (theano.gof.compilelock): Waiting for existing lock by process '27096' (I am process '27094')\n",
      "INFO (theano.gof.compilelock): To manually release the lock, delete /Users/felixmolter/.theano/compiledir_Darwin-17.7.0-x86_64-i386-64bit-i386-3.6.8-64/lock_dir\n",
      "INFO (theano.gof.compilelock): Waiting for existing lock by process '27096' (I am process '27097')\n",
      "INFO (theano.gof.compilelock): To manually release the lock, delete /Users/felixmolter/.theano/compiledir_Darwin-17.7.0-x86_64-i386-64bit-i386-3.6.8-64/lock_dir\n",
      "INFO (theano.gof.compilelock): Waiting for existing lock by process '27096' (I am process '27091')\n",
      "INFO (theano.gof.compilelock): To manually release the lock, delete /Users/felixmolter/.theano/compiledir_Darwin-17.7.0-x86_64-i386-64bit-i386-3.6.8-64/lock_dir\n",
      "INFO (theano.gof.compilelock): Waiting for existing lock by process '27096' (I am process '27095')\n",
      "INFO (theano.gof.compilelock): To manually release the lock, delete /Users/felixmolter/.theano/compiledir_Darwin-17.7.0-x86_64-i386-64bit-i386-3.6.8-64/lock_dir\n",
      "INFO (theano.gof.compilelock): Waiting for existing lock by process '27096' (I am process '27094')\n",
      "INFO (theano.gof.compilelock): To manually release the lock, delete /Users/felixmolter/.theano/compiledir_Darwin-17.7.0-x86_64-i386-64bit-i386-3.6.8-64/lock_dir\n",
      "INFO (theano.gof.compilelock): Waiting for existing lock by process '27092' (I am process '27093')\n",
      "INFO (theano.gof.compilelock): To manually release the lock, delete /Users/felixmolter/.theano/compiledir_Darwin-17.7.0-x86_64-i386-64bit-i386-3.6.8-64/lock_dir\n",
      "INFO (theano.gof.compilelock): Waiting for existing lock by process '27092' (I am process '27091')\n",
      "INFO (theano.gof.compilelock): To manually release the lock, delete /Users/felixmolter/.theano/compiledir_Darwin-17.7.0-x86_64-i386-64bit-i386-3.6.8-64/lock_dir\n",
      "INFO (theano.gof.compilelock): Waiting for existing lock by process '27092' (I am process '27097')\n",
      "INFO (theano.gof.compilelock): To manually release the lock, delete /Users/felixmolter/.theano/compiledir_Darwin-17.7.0-x86_64-i386-64bit-i386-3.6.8-64/lock_dir\n",
      "INFO (theano.gof.compilelock): Waiting for existing lock by process '27092' (I am process '27095')\n",
      "INFO (theano.gof.compilelock): Waiting for existing lock by process '27092' (I am process '27094')\n",
      "INFO (theano.gof.compilelock): To manually release the lock, delete /Users/felixmolter/.theano/compiledir_Darwin-17.7.0-x86_64-i386-64bit-i386-3.6.8-64/lock_dir\n",
      "INFO (theano.gof.compilelock): To manually release the lock, delete /Users/felixmolter/.theano/compiledir_Darwin-17.7.0-x86_64-i386-64bit-i386-3.6.8-64/lock_dir\n",
      "INFO (theano.gof.compilelock): Waiting for existing lock by process '27092' (I am process '27093')\n",
      "INFO (theano.gof.compilelock): To manually release the lock, delete /Users/felixmolter/.theano/compiledir_Darwin-17.7.0-x86_64-i386-64bit-i386-3.6.8-64/lock_dir\n",
      "INFO (theano.gof.compilelock): Waiting for existing lock by process '27092' (I am process '27091')\n",
      "INFO (theano.gof.compilelock): To manually release the lock, delete /Users/felixmolter/.theano/compiledir_Darwin-17.7.0-x86_64-i386-64bit-i386-3.6.8-64/lock_dir\n",
      "INFO (theano.gof.compilelock): Waiting for existing lock by process '27097' (I am process '27095')\n",
      "INFO (theano.gof.compilelock): To manually release the lock, delete /Users/felixmolter/.theano/compiledir_Darwin-17.7.0-x86_64-i386-64bit-i386-3.6.8-64/lock_dir\n",
      "INFO (theano.gof.compilelock): Waiting for existing lock by process '27097' (I am process '27094')\n",
      "INFO (theano.gof.compilelock): To manually release the lock, delete /Users/felixmolter/.theano/compiledir_Darwin-17.7.0-x86_64-i386-64bit-i386-3.6.8-64/lock_dir\n",
      "INFO (theano.gof.compilelock): Waiting for existing lock by process '27097' (I am process '27093')\n",
      "INFO (theano.gof.compilelock): To manually release the lock, delete /Users/felixmolter/.theano/compiledir_Darwin-17.7.0-x86_64-i386-64bit-i386-3.6.8-64/lock_dir\n",
      "INFO (theano.gof.compilelock): Waiting for existing lock by process '27097' (I am process '27091')\n",
      "INFO (theano.gof.compilelock): To manually release the lock, delete /Users/felixmolter/.theano/compiledir_Darwin-17.7.0-x86_64-i386-64bit-i386-3.6.8-64/lock_dir\n"
     ]
    },
    {
     "name": "stdout",
     "output_type": "stream",
     "text": [
      "Fitting 1 model(s) using VI...\n",
      "  Fitting model 1 of 1...\n"
     ]
    },
    {
     "name": "stderr",
     "output_type": "stream",
     "text": [
      "INFO (theano.gof.compilelock): Waiting for existing lock by process '27095' (I am process '27091')\n",
      "INFO (theano.gof.compilelock): To manually release the lock, delete /Users/felixmolter/.theano/compiledir_Darwin-17.7.0-x86_64-i386-64bit-i386-3.6.8-64/lock_dir\n",
      "INFO (theano.gof.compilelock): Waiting for existing lock by process '27095' (I am process '27093')\n",
      "INFO (theano.gof.compilelock): To manually release the lock, delete /Users/felixmolter/.theano/compiledir_Darwin-17.7.0-x86_64-i386-64bit-i386-3.6.8-64/lock_dir\n"
     ]
    },
    {
     "name": "stdout",
     "output_type": "stream",
     "text": [
      "Fitting 1 model(s) using VI...\n",
      "  Fitting model 1 of 1...\n"
     ]
    },
    {
     "name": "stderr",
     "output_type": "stream",
     "text": [
      "INFO (theano.gof.compilelock): Waiting for existing lock by process '27095' (I am process '27097')\n",
      "INFO (theano.gof.compilelock): To manually release the lock, delete /Users/felixmolter/.theano/compiledir_Darwin-17.7.0-x86_64-i386-64bit-i386-3.6.8-64/lock_dir\n",
      "INFO (theano.gof.compilelock): Waiting for existing lock by process '27095' (I am process '27094')\n",
      "INFO (theano.gof.compilelock): To manually release the lock, delete /Users/felixmolter/.theano/compiledir_Darwin-17.7.0-x86_64-i386-64bit-i386-3.6.8-64/lock_dir\n",
      "INFO (theano.gof.compilelock): Waiting for existing lock by process '27093' (I am process '27091')\n",
      "INFO (theano.gof.compilelock): To manually release the lock, delete /Users/felixmolter/.theano/compiledir_Darwin-17.7.0-x86_64-i386-64bit-i386-3.6.8-64/lock_dir\n",
      "INFO (theano.gof.compilelock): Waiting for existing lock by process '27093' (I am process '27091')\n",
      "INFO (theano.gof.compilelock): To manually release the lock, delete /Users/felixmolter/.theano/compiledir_Darwin-17.7.0-x86_64-i386-64bit-i386-3.6.8-64/lock_dir\n",
      "INFO (theano.gof.compilelock): Waiting for existing lock by process '27093' (I am process '27097')\n",
      "INFO (theano.gof.compilelock): To manually release the lock, delete /Users/felixmolter/.theano/compiledir_Darwin-17.7.0-x86_64-i386-64bit-i386-3.6.8-64/lock_dir\n",
      "INFO (theano.gof.compilelock): Waiting for existing lock by process '27093' (I am process '27094')\n",
      "INFO (theano.gof.compilelock): To manually release the lock, delete /Users/felixmolter/.theano/compiledir_Darwin-17.7.0-x86_64-i386-64bit-i386-3.6.8-64/lock_dir\n",
      "INFO (theano.gof.compilelock): Waiting for existing lock by process '27093' (I am process '27095')\n",
      "INFO (theano.gof.compilelock): To manually release the lock, delete /Users/felixmolter/.theano/compiledir_Darwin-17.7.0-x86_64-i386-64bit-i386-3.6.8-64/lock_dir\n",
      "INFO (theano.gof.compilelock): Waiting for existing lock by process '27093' (I am process '27091')\n",
      "INFO (theano.gof.compilelock): To manually release the lock, delete /Users/felixmolter/.theano/compiledir_Darwin-17.7.0-x86_64-i386-64bit-i386-3.6.8-64/lock_dir\n",
      "INFO (theano.gof.compilelock): Waiting for existing lock by process '27093' (I am process '27097')\n",
      "INFO (theano.gof.compilelock): To manually release the lock, delete /Users/felixmolter/.theano/compiledir_Darwin-17.7.0-x86_64-i386-64bit-i386-3.6.8-64/lock_dir\n",
      "INFO (theano.gof.compilelock): Waiting for existing lock by process '27093' (I am process '27094')\n",
      "INFO (theano.gof.compilelock): To manually release the lock, delete /Users/felixmolter/.theano/compiledir_Darwin-17.7.0-x86_64-i386-64bit-i386-3.6.8-64/lock_dir\n"
     ]
    },
    {
     "name": "stdout",
     "output_type": "stream",
     "text": [
      "Fitting 1 model(s) using VI...\n",
      "  Fitting model 1 of 1...\n"
     ]
    },
    {
     "name": "stderr",
     "output_type": "stream",
     "text": [
      "INFO (theano.gof.compilelock): Waiting for existing lock by process '27097' (I am process '27094')\n",
      "INFO (theano.gof.compilelock): To manually release the lock, delete /Users/felixmolter/.theano/compiledir_Darwin-17.7.0-x86_64-i386-64bit-i386-3.6.8-64/lock_dir\n",
      "INFO (theano.gof.compilelock): Waiting for existing lock by process '27091' (I am process '27095')\n",
      "INFO (theano.gof.compilelock): To manually release the lock, delete /Users/felixmolter/.theano/compiledir_Darwin-17.7.0-x86_64-i386-64bit-i386-3.6.8-64/lock_dir\n",
      "INFO (theano.gof.compilelock): Waiting for existing lock by process '27094' (I am process '27095')\n",
      "INFO (theano.gof.compilelock): To manually release the lock, delete /Users/felixmolter/.theano/compiledir_Darwin-17.7.0-x86_64-i386-64bit-i386-3.6.8-64/lock_dir\n",
      "INFO (theano.gof.compilelock): Waiting for existing lock by process '27094' (I am process '27097')\n",
      "INFO (theano.gof.compilelock): To manually release the lock, delete /Users/felixmolter/.theano/compiledir_Darwin-17.7.0-x86_64-i386-64bit-i386-3.6.8-64/lock_dir\n",
      "INFO (theano.gof.compilelock): Waiting for existing lock by process '27094' (I am process '27091')\n",
      "INFO (theano.gof.compilelock): To manually release the lock, delete /Users/felixmolter/.theano/compiledir_Darwin-17.7.0-x86_64-i386-64bit-i386-3.6.8-64/lock_dir\n",
      "INFO (theano.gof.compilelock): Waiting for existing lock by process '27094' (I am process '27095')\n",
      "INFO (theano.gof.compilelock): To manually release the lock, delete /Users/felixmolter/.theano/compiledir_Darwin-17.7.0-x86_64-i386-64bit-i386-3.6.8-64/lock_dir\n",
      "INFO (theano.gof.compilelock): Waiting for existing lock by process '27097' (I am process '27091')\n",
      "INFO (theano.gof.compilelock): To manually release the lock, delete /Users/felixmolter/.theano/compiledir_Darwin-17.7.0-x86_64-i386-64bit-i386-3.6.8-64/lock_dir\n",
      "INFO (theano.gof.compilelock): Waiting for existing lock by process '27097' (I am process '27091')\n",
      "INFO (theano.gof.compilelock): To manually release the lock, delete /Users/felixmolter/.theano/compiledir_Darwin-17.7.0-x86_64-i386-64bit-i386-3.6.8-64/lock_dir\n",
      "INFO (theano.gof.compilelock): Waiting for existing lock by process '27097' (I am process '27095')\n",
      "INFO (theano.gof.compilelock): To manually release the lock, delete /Users/felixmolter/.theano/compiledir_Darwin-17.7.0-x86_64-i386-64bit-i386-3.6.8-64/lock_dir\n",
      "INFO (theano.gof.compilelock): Waiting for existing lock by process '27091' (I am process '27095')\n",
      "INFO (theano.gof.compilelock): To manually release the lock, delete /Users/felixmolter/.theano/compiledir_Darwin-17.7.0-x86_64-i386-64bit-i386-3.6.8-64/lock_dir\n",
      "Finished [100%]: Average Loss = 9,868.5\n"
     ]
    },
    {
     "name": "stdout",
     "output_type": "stream",
     "text": [
      "/!\\ Automatically setting parameter precision...\n",
      "   gamma  gamma_hpd_2.5  gamma_hpd_97.5  gamma_mu  gamma_mu_hpd_2.5  \\\n",
      "0  -0.68      -0.827762       -0.483032 -0.710486         -0.778796   \n",
      "\n",
      "   gamma_mu_hpd_97.5         s  s_hpd_2.5  s_hpd_97.5      s_mu  \\\n",
      "0          -0.634538  0.003906   0.003375    0.004723  0.004012   \n",
      "\n",
      "       ...        tau_hpd_97.5    tau_mu  tau_mu_hpd_2.5  tau_mu_hpd_97.5  \\\n",
      "0      ...            0.623651  0.269164        0.195979          0.34341   \n",
      "\n",
      "          v  v_hpd_2.5  v_hpd_97.5      v_mu  v_mu_hpd_2.5  v_mu_hpd_97.5  \n",
      "0  0.000017   0.000015    0.000019  0.000043      0.000027        0.00006  \n",
      "\n",
      "[1 rows x 28 columns]\n",
      "level_set low\n",
      "parameter_set {'mu': 2.85e-05, 'sd': 5e-05, 'bounds': (1.5e-05, 0.00015)}\n",
      "recovered 4.295867313534318e-05\n",
      "Generating hierarchical model for 20 subjects...\n",
      "Fitting 1 model(s) using VI...\n",
      "  Fitting model 1 of 1...\n"
     ]
    },
    {
     "name": "stderr",
     "output_type": "stream",
     "text": [
      "Finished [100%]: Average Loss = 9,759\n"
     ]
    },
    {
     "name": "stdout",
     "output_type": "stream",
     "text": [
      "/!\\ Automatically setting parameter precision...\n",
      "   gamma  gamma_hpd_2.5  gamma_hpd_97.5  gamma_mu  gamma_mu_hpd_2.5  \\\n",
      "0   0.68       0.443579        0.849851  0.755855          0.679683   \n",
      "\n",
      "   gamma_mu_hpd_97.5         s  s_hpd_2.5  s_hpd_97.5      s_mu  \\\n",
      "0           0.830147  0.003865   0.003391    0.004746  0.003954   \n",
      "\n",
      "       ...        tau_hpd_97.5   tau_mu  tau_mu_hpd_2.5  tau_mu_hpd_97.5  \\\n",
      "0      ...             0.60037  0.23255        0.156208         0.323073   \n",
      "\n",
      "          v  v_hpd_2.5  v_hpd_97.5      v_mu  v_mu_hpd_2.5  v_mu_hpd_97.5  \n",
      "0  0.000018   0.000016     0.00002  0.000043      0.000025       0.000059  \n",
      "\n",
      "[1 rows x 28 columns]\n",
      "level_set low\n",
      "parameter_set {'mu': 2.85e-05, 'sd': 5e-05, 'bounds': (1.5e-05, 0.00015)}\n",
      "recovered 4.269439127340943e-05\n",
      "Generating hierarchical model for 20 subjects...\n",
      "Fitting 1 model(s) using VI...\n",
      "  Fitting model 1 of 1...\n"
     ]
    },
    {
     "name": "stderr",
     "output_type": "stream",
     "text": [
      "Finished [100%]: Average Loss = 9,816.5\n"
     ]
    },
    {
     "name": "stdout",
     "output_type": "stream",
     "text": [
      "/!\\ Automatically setting parameter precision...\n",
      "   gamma  gamma_hpd_2.5  gamma_hpd_97.5  gamma_mu  gamma_mu_hpd_2.5  \\\n",
      "0  -0.56      -0.833471       -0.108753 -0.597417         -0.709804   \n",
      "\n",
      "   gamma_mu_hpd_97.5         s  s_hpd_2.5  s_hpd_97.5      s_mu  \\\n",
      "0          -0.481364  0.009463    0.00861    0.011095  0.010193   \n",
      "\n",
      "       ...        tau_hpd_97.5    tau_mu  tau_mu_hpd_2.5  tau_mu_hpd_97.5  \\\n",
      "0      ...            0.768503  0.332598         0.23446         0.442891   \n",
      "\n",
      "          v  v_hpd_2.5  v_hpd_97.5      v_mu  v_mu_hpd_2.5  v_mu_hpd_97.5  \n",
      "0  0.000018   0.000012    0.000025  0.000039      0.000027       0.000054  \n",
      "\n",
      "[1 rows x 28 columns]\n",
      "level_set low\n",
      "parameter_set {'mu': 2.85e-05, 'sd': 5e-05, 'bounds': (1.5e-05, 0.00015)}\n",
      "recovered 3.9454030764168935e-05\n",
      "Generating hierarchical model for 20 subjects...\n",
      "Fitting 1 model(s) using VI...\n",
      "  Fitting model 1 of 1...\n"
     ]
    },
    {
     "name": "stderr",
     "output_type": "stream",
     "text": [
      "Finished [100%]: Average Loss = 9,921.7\n"
     ]
    },
    {
     "name": "stdout",
     "output_type": "stream",
     "text": [
      "/!\\ Automatically setting parameter precision...\n",
      "   gamma  gamma_hpd_2.5  gamma_hpd_97.5  gamma_mu  gamma_mu_hpd_2.5  \\\n",
      "0  -0.06      -0.336227        0.276535  0.001235          -0.09487   \n",
      "\n",
      "   gamma_mu_hpd_97.5         s  s_hpd_2.5  s_hpd_97.5      s_mu  \\\n",
      "0            0.10987  0.004382   0.003578    0.004936  0.003811   \n",
      "\n",
      "       ...        tau_hpd_97.5    tau_mu  tau_mu_hpd_2.5  tau_mu_hpd_97.5  \\\n",
      "0      ...            0.467859  0.184859        0.135872         0.239683   \n",
      "\n",
      "          v  v_hpd_2.5  v_hpd_97.5      v_mu  v_mu_hpd_2.5  v_mu_hpd_97.5  \n",
      "0  0.000017   0.000015    0.000019  0.000043      0.000027       0.000059  \n",
      "\n",
      "[1 rows x 28 columns]\n",
      "level_set low\n",
      "parameter_set {'mu': 2.85e-05, 'sd': 5e-05, 'bounds': (1.5e-05, 0.00015)}\n",
      "recovered 4.258853065756589e-05\n",
      "Generating hierarchical model for 20 subjects...\n",
      "Fitting 1 model(s) using VI...\n",
      "  Fitting model 1 of 1...\n"
     ]
    },
    {
     "name": "stderr",
     "output_type": "stream",
     "text": [
      "Finished [100%]: Average Loss = 9,759.1\n"
     ]
    },
    {
     "name": "stdout",
     "output_type": "stream",
     "text": [
      "/!\\ Automatically setting parameter precision...\n",
      "   gamma  gamma_hpd_2.5  gamma_hpd_97.5  gamma_mu  gamma_mu_hpd_2.5  \\\n",
      "0  -0.07      -0.401979         0.29493  0.029549         -0.074688   \n",
      "\n",
      "   gamma_mu_hpd_97.5         s  s_hpd_2.5  s_hpd_97.5      s_mu  \\\n",
      "0           0.136451  0.006326   0.005828    0.007758  0.007338   \n",
      "\n",
      "       ...        tau_hpd_97.5    tau_mu  tau_mu_hpd_2.5  tau_mu_hpd_97.5  \\\n",
      "0      ...            0.654754  0.276578        0.197208         0.367118   \n",
      "\n",
      "          v  v_hpd_2.5  v_hpd_97.5      v_mu  v_mu_hpd_2.5  v_mu_hpd_97.5  \n",
      "0  0.000019   0.000015    0.000024  0.000039      0.000026       0.000054  \n",
      "\n",
      "[1 rows x 28 columns]\n",
      "level_set low\n",
      "parameter_set {'mu': 2.85e-05, 'sd': 5e-05, 'bounds': (1.5e-05, 0.00015)}\n",
      "recovered 3.9155655478513244e-05\n",
      "Generating hierarchical model for 20 subjects...\n",
      "Fitting 1 model(s) using VI...\n",
      "  Fitting model 1 of 1...\n"
     ]
    },
    {
     "name": "stderr",
     "output_type": "stream",
     "text": [
      "INFO (theano.gof.compilelock): Waiting for existing lock by process '27093' (I am process '27094')\n",
      "INFO (theano.gof.compilelock): To manually release the lock, delete /Users/felixmolter/.theano/compiledir_Darwin-17.7.0-x86_64-i386-64bit-i386-3.6.8-64/lock_dir\n",
      "Finished [100%]: Average Loss = 9,776\n"
     ]
    },
    {
     "name": "stdout",
     "output_type": "stream",
     "text": [
      "/!\\ Automatically setting parameter precision...\n",
      "   gamma  gamma_hpd_2.5  gamma_hpd_97.5  gamma_mu  gamma_mu_hpd_2.5  \\\n",
      "0   0.75       0.265833        0.910351  0.661822          0.544728   \n",
      "\n",
      "   gamma_mu_hpd_97.5         s  s_hpd_2.5  s_hpd_97.5      s_mu  \\\n",
      "0           0.775914  0.006963   0.005944    0.008011  0.007175   \n",
      "\n",
      "       ...        tau_hpd_97.5    tau_mu  tau_mu_hpd_2.5  tau_mu_hpd_97.5  \\\n",
      "0      ...            0.575128  0.253684        0.171973          0.33254   \n",
      "\n",
      "          v  v_hpd_2.5  v_hpd_97.5     v_mu  v_mu_hpd_2.5  v_mu_hpd_97.5  \n",
      "0  0.000018   0.000015    0.000023  0.00004      0.000026       0.000055  \n",
      "\n",
      "[1 rows x 28 columns]\n",
      "level_set low\n",
      "parameter_set {'mu': 2.85e-05, 'sd': 5e-05, 'bounds': (1.5e-05, 0.00015)}\n",
      "recovered 3.954992387727951e-05\n",
      "Generating hierarchical model for 20 subjects...\n",
      "Fitting 1 model(s) using VI...\n",
      "  Fitting model 1 of 1...\n"
     ]
    },
    {
     "name": "stderr",
     "output_type": "stream",
     "text": [
      "Finished [100%]: Average Loss = 9,843.3\n"
     ]
    },
    {
     "name": "stdout",
     "output_type": "stream",
     "text": [
      "/!\\ Automatically setting parameter precision...\n",
      "   gamma  gamma_hpd_2.5  gamma_hpd_97.5  gamma_mu  gamma_mu_hpd_2.5  \\\n",
      "0  -0.66      -0.824551       -0.336494 -0.655883         -0.749638   \n",
      "\n",
      "   gamma_mu_hpd_97.5         s  s_hpd_2.5  s_hpd_97.5      s_mu  \\\n",
      "0          -0.563759  0.006379   0.005627    0.007663  0.007241   \n",
      "\n",
      "       ...        tau_hpd_97.5    tau_mu  tau_mu_hpd_2.5  tau_mu_hpd_97.5  \\\n",
      "0      ...            0.698767  0.309479        0.222082         0.401476   \n",
      "\n",
      "          v  v_hpd_2.5  v_hpd_97.5      v_mu  v_mu_hpd_2.5  v_mu_hpd_97.5  \n",
      "0  0.000018   0.000015    0.000023  0.000041      0.000027       0.000056  \n",
      "\n",
      "[1 rows x 28 columns]\n",
      "level_set low\n",
      "parameter_set {'mu': 2.85e-05, 'sd': 5e-05, 'bounds': (1.5e-05, 0.00015)}\n",
      "recovered 4.0543565614058195e-05\n",
      "Generating hierarchical model for 20 subjects...\n"
     ]
    },
    {
     "name": "stderr",
     "output_type": "stream",
     "text": [
      "Finished [100%]: Average Loss = 9,786.7\n"
     ]
    },
    {
     "name": "stdout",
     "output_type": "stream",
     "text": [
      "/!\\ Automatically setting parameter precision...\n",
      "Fitting 1 model(s) using VI...\n",
      "  Fitting model 1 of 1...\n",
      "   gamma  gamma_hpd_2.5  gamma_hpd_97.5  gamma_mu  gamma_mu_hpd_2.5  \\\n",
      "0  -0.02      -0.480301        0.415569  0.027743         -0.123699   \n",
      "\n",
      "   gamma_mu_hpd_97.5         s  s_hpd_2.5  s_hpd_97.5      s_mu  \\\n",
      "0            0.16533  0.009365   0.008671    0.011004  0.010199   \n",
      "\n",
      "       ...        tau_hpd_97.5    tau_mu  tau_mu_hpd_2.5  tau_mu_hpd_97.5  \\\n",
      "0      ...            0.789133  0.307547         0.20842         0.414141   \n",
      "\n",
      "          v  v_hpd_2.5  v_hpd_97.5     v_mu  v_mu_hpd_2.5  v_mu_hpd_97.5  \n",
      "0  0.000018   0.000013    0.000028  0.00004      0.000027       0.000054  \n",
      "\n",
      "[1 rows x 28 columns]\n",
      "level_set low\n",
      "parameter_set {'mu': 2.85e-05, 'sd': 5e-05, 'bounds': (1.5e-05, 0.00015)}\n",
      "recovered 3.957166227945182e-05\n",
      "Generating hierarchical model for 20 subjects...\n",
      "Fitting 1 model(s) using VI...\n",
      "  Fitting model 1 of 1...\n"
     ]
    },
    {
     "name": "stderr",
     "output_type": "stream",
     "text": [
      "INFO (theano.gof.compilelock): Waiting for existing lock by process '27097' (I am process '27091')\n",
      "INFO (theano.gof.compilelock): To manually release the lock, delete /Users/felixmolter/.theano/compiledir_Darwin-17.7.0-x86_64-i386-64bit-i386-3.6.8-64/lock_dir\n",
      "INFO (theano.gof.compilelock): Waiting for existing lock by process '27091' (I am process '27095')\n",
      "INFO (theano.gof.compilelock): To manually release the lock, delete /Users/felixmolter/.theano/compiledir_Darwin-17.7.0-x86_64-i386-64bit-i386-3.6.8-64/lock_dir\n",
      "Finished [100%]: Average Loss = 9,614.6\n"
     ]
    },
    {
     "name": "stdout",
     "output_type": "stream",
     "text": [
      "/!\\ Automatically setting parameter precision...\n",
      "   gamma  gamma_hpd_2.5  gamma_hpd_97.5  gamma_mu  gamma_mu_hpd_2.5  \\\n",
      "0  -0.94      -0.990235       -0.694036 -0.681435         -0.761512   \n",
      "\n",
      "   gamma_mu_hpd_97.5         s  s_hpd_2.5  s_hpd_97.5      s_mu  \\\n",
      "0          -0.596965  0.004767   0.004252    0.005751  0.004066   \n",
      "\n",
      "       ...        tau_hpd_97.5    tau_mu  tau_mu_hpd_2.5  tau_mu_hpd_97.5  \\\n",
      "0      ...            0.906212  0.597708        0.478845         0.726235   \n",
      "\n",
      "          v  v_hpd_2.5  v_hpd_97.5      v_mu  v_mu_hpd_2.5  v_mu_hpd_97.5  \n",
      "0  0.000017   0.000015     0.00002  0.000042       0.00003       0.000057  \n",
      "\n",
      "[1 rows x 28 columns]\n",
      "level_set low\n",
      "parameter_set {'mu': 2.85e-05, 'sd': 5e-05, 'bounds': (1.5e-05, 0.00015)}\n",
      "recovered 4.21207327326722e-05\n",
      "Generating hierarchical model for 20 subjects...\n",
      "Fitting 1 model(s) using VI...\n",
      "  Fitting model 1 of 1...\n"
     ]
    },
    {
     "name": "stderr",
     "output_type": "stream",
     "text": [
      "Finished [100%]: Average Loss = 9,277.6\n"
     ]
    },
    {
     "name": "stdout",
     "output_type": "stream",
     "text": [
      "/!\\ Automatically setting parameter precision...\n",
      "   gamma  gamma_hpd_2.5  gamma_hpd_97.5  gamma_mu  gamma_mu_hpd_2.5  \\\n",
      "0   0.56        0.22285        0.787583  0.731609          0.634502   \n",
      "\n",
      "   gamma_mu_hpd_97.5         s  s_hpd_2.5  s_hpd_97.5      s_mu  \\\n",
      "0           0.833629  0.005085   0.004235    0.005817  0.004348   \n",
      "\n",
      "       ...        tau_hpd_97.5    tau_mu  tau_mu_hpd_2.5  tau_mu_hpd_97.5  \\\n",
      "0      ...            0.607543  0.665691         0.57198         0.773537   \n",
      "\n",
      "          v  v_hpd_2.5  v_hpd_97.5      v_mu  v_mu_hpd_2.5  v_mu_hpd_97.5  \n",
      "0  0.000016   0.000014    0.000019  0.000037      0.000026        0.00005  \n",
      "\n",
      "[1 rows x 28 columns]\n",
      "level_set low\n",
      "parameter_set {'mu': 2.85e-05, 'sd': 5e-05, 'bounds': (1.5e-05, 0.00015)}\n",
      "recovered 3.706016202313316e-05\n",
      "Generating hierarchical model for 20 subjects...\n",
      "Fitting 1 model(s) using VI...\n",
      "  Fitting model 1 of 1...\n"
     ]
    },
    {
     "name": "stderr",
     "output_type": "stream",
     "text": [
      "Finished [100%]: Average Loss = 9,667.9\n"
     ]
    },
    {
     "name": "stdout",
     "output_type": "stream",
     "text": [
      "/!\\ Automatically setting parameter precision...\n",
      "   gamma  gamma_hpd_2.5  gamma_hpd_97.5  gamma_mu  gamma_mu_hpd_2.5  \\\n",
      "0  -0.88       -0.96946       -0.187777  -0.65032         -0.755505   \n",
      "\n",
      "   gamma_mu_hpd_97.5        s  s_hpd_2.5  s_hpd_97.5      s_mu      ...        \\\n",
      "0          -0.541053  0.01079   0.009616    0.011967  0.010395      ...         \n",
      "\n",
      "   tau_hpd_97.5    tau_mu  tau_mu_hpd_2.5  tau_mu_hpd_97.5         v  \\\n",
      "0      1.143625  0.764175        0.636625         0.915829  0.000015   \n",
      "\n",
      "   v_hpd_2.5  v_hpd_97.5     v_mu  v_mu_hpd_2.5  v_mu_hpd_97.5  \n",
      "0   0.000009    0.000027  0.00004      0.000029        0.00005  \n",
      "\n",
      "[1 rows x 28 columns]\n",
      "level_set low\n",
      "parameter_set {'mu': 2.85e-05, 'sd': 5e-05, 'bounds': (1.5e-05, 0.00015)}\n",
      "recovered 3.972298688551734e-05\n",
      "Generating hierarchical model for 20 subjects...\n",
      "Fitting 1 model(s) using VI...\n",
      "  Fitting model 1 of 1...\n"
     ]
    },
    {
     "name": "stderr",
     "output_type": "stream",
     "text": [
      "INFO (theano.gof.compilelock): Waiting for existing lock by process '27096' (I am process '27092')\n",
      "INFO (theano.gof.compilelock): To manually release the lock, delete /Users/felixmolter/.theano/compiledir_Darwin-17.7.0-x86_64-i386-64bit-i386-3.6.8-64/lock_dir\n",
      "Finished [100%]: Average Loss = 9,551.9\n"
     ]
    },
    {
     "name": "stdout",
     "output_type": "stream",
     "text": [
      "/!\\ Automatically setting parameter precision...\n",
      "   gamma  gamma_hpd_2.5  gamma_hpd_97.5  gamma_mu  gamma_mu_hpd_2.5  \\\n",
      "0  -0.58      -0.772253       -0.206109  0.031163         -0.142788   \n",
      "\n",
      "   gamma_mu_hpd_97.5         s  s_hpd_2.5  s_hpd_97.5      s_mu  \\\n",
      "0           0.195234  0.004714   0.004335    0.005896  0.004116   \n",
      "\n",
      "       ...        tau_hpd_97.5    tau_mu  tau_mu_hpd_2.5  tau_mu_hpd_97.5  \\\n",
      "0      ...             1.00786  0.625542        0.516828         0.738746   \n",
      "\n",
      "          v  v_hpd_2.5  v_hpd_97.5      v_mu  v_mu_hpd_2.5  v_mu_hpd_97.5  \n",
      "0  0.000014   0.000012    0.000017  0.000039      0.000026       0.000052  \n",
      "\n",
      "[1 rows x 28 columns]\n",
      "level_set low\n",
      "parameter_set {'mu': 2.85e-05, 'sd': 5e-05, 'bounds': (1.5e-05, 0.00015)}\n",
      "recovered 3.8860428231315734e-05\n",
      "Generating hierarchical model for 20 subjects...\n",
      "Fitting 1 model(s) using VI...\n",
      "  Fitting model 1 of 1...\n"
     ]
    },
    {
     "name": "stderr",
     "output_type": "stream",
     "text": [
      "Finished [100%]: Average Loss = 9,542.7\n"
     ]
    },
    {
     "name": "stdout",
     "output_type": "stream",
     "text": [
      "/!\\ Automatically setting parameter precision...\n",
      "   gamma  gamma_hpd_2.5  gamma_hpd_97.5  gamma_mu  gamma_mu_hpd_2.5  \\\n",
      "0   -0.3      -0.649776        0.155937  0.007122         -0.158877   \n",
      "\n",
      "   gamma_mu_hpd_97.5         s  s_hpd_2.5  s_hpd_97.5      s_mu  \\\n",
      "0           0.165264  0.008278   0.007088    0.009207  0.007784   \n",
      "\n",
      "       ...        tau_hpd_97.5    tau_mu  tau_mu_hpd_2.5  tau_mu_hpd_97.5  \\\n",
      "0      ...            1.082637  0.717511        0.628046         0.809818   \n",
      "\n",
      "          v  v_hpd_2.5  v_hpd_97.5      v_mu  v_mu_hpd_2.5  v_mu_hpd_97.5  \n",
      "0  0.000014    0.00001    0.000019  0.000036      0.000026       0.000047  \n",
      "\n",
      "[1 rows x 28 columns]\n",
      "level_set low\n",
      "parameter_set {'mu': 2.85e-05, 'sd': 5e-05, 'bounds': (1.5e-05, 0.00015)}\n",
      "recovered 3.616901470925981e-05\n",
      "Generating hierarchical model for 20 subjects...\n",
      "Fitting 1 model(s) using VI...\n",
      "  Fitting model 1 of 1...\n"
     ]
    },
    {
     "name": "stderr",
     "output_type": "stream",
     "text": [
      "Finished [100%]: Average Loss = 9,449.8\n"
     ]
    },
    {
     "name": "stdout",
     "output_type": "stream",
     "text": [
      "/!\\ Automatically setting parameter precision...\n",
      "   gamma  gamma_hpd_2.5  gamma_hpd_97.5  gamma_mu  gamma_mu_hpd_2.5  \\\n",
      "0   0.73       0.324815        0.888837  0.717505          0.634066   \n",
      "\n",
      "   gamma_mu_hpd_97.5        s  s_hpd_2.5  s_hpd_97.5     s_mu      ...        \\\n",
      "0           0.794055  0.00783   0.007006     0.00924  0.00758      ...         \n",
      "\n",
      "   tau_hpd_97.5    tau_mu  tau_mu_hpd_2.5  tau_mu_hpd_97.5         v  \\\n",
      "0      1.021379  0.754538        0.649977         0.864427  0.000018   \n",
      "\n",
      "   v_hpd_2.5  v_hpd_97.5      v_mu  v_mu_hpd_2.5  v_mu_hpd_97.5  \n",
      "0   0.000012    0.000023  0.000036      0.000027       0.000047  \n",
      "\n",
      "[1 rows x 28 columns]\n",
      "level_set low\n",
      "parameter_set {'mu': 2.85e-05, 'sd': 5e-05, 'bounds': (1.5e-05, 0.00015)}\n",
      "recovered 3.605666427297434e-05\n",
      "Generating hierarchical model for 20 subjects...\n",
      "Fitting 1 model(s) using VI...\n",
      "  Fitting model 1 of 1...\n"
     ]
    },
    {
     "name": "stderr",
     "output_type": "stream",
     "text": [
      "Finished [100%]: Average Loss = 9,559.2\n"
     ]
    },
    {
     "name": "stdout",
     "output_type": "stream",
     "text": [
      "/!\\ Automatically setting parameter precision...\n",
      "   gamma  gamma_hpd_2.5  gamma_hpd_97.5  gamma_mu  gamma_mu_hpd_2.5  \\\n",
      "0  -0.82      -0.970901       -0.407489 -0.681048         -0.763486   \n",
      "\n",
      "   gamma_mu_hpd_97.5         s  s_hpd_2.5  s_hpd_97.5      s_mu  \\\n",
      "0           -0.60704  0.007856   0.007214    0.009275  0.007712   \n",
      "\n",
      "       ...        tau_hpd_97.5    tau_mu  tau_mu_hpd_2.5  tau_mu_hpd_97.5  \\\n",
      "0      ...            1.214006  0.730538        0.598107         0.884502   \n",
      "\n",
      "          v  v_hpd_2.5  v_hpd_97.5      v_mu  v_mu_hpd_2.5  v_mu_hpd_97.5  \n",
      "0  0.000015   0.000011    0.000021  0.000039      0.000029        0.00005  \n",
      "\n",
      "[1 rows x 28 columns]\n",
      "level_set low\n",
      "parameter_set {'mu': 2.85e-05, 'sd': 5e-05, 'bounds': (1.5e-05, 0.00015)}\n",
      "recovered 3.92206029840395e-05\n",
      "Generating hierarchical model for 20 subjects...\n"
     ]
    },
    {
     "name": "stderr",
     "output_type": "stream",
     "text": [
      "Finished [100%]: Average Loss = 9,658.5\n"
     ]
    },
    {
     "name": "stdout",
     "output_type": "stream",
     "text": [
      "/!\\ Automatically setting parameter precision...\n",
      "   gamma  gamma_hpd_2.5  gamma_hpd_97.5  gamma_mu  gamma_mu_hpd_2.5  \\\n",
      "0   0.07      -0.564663        0.617902  0.036876         -0.143874   \n",
      "\n",
      "   gamma_mu_hpd_97.5        s  s_hpd_2.5  s_hpd_97.5      s_mu      ...        \\\n",
      "0           0.203359  0.01092   0.009475    0.011991  0.010357      ...         \n",
      "\n",
      "   tau_hpd_97.5    tau_mu  tau_mu_hpd_2.5  tau_mu_hpd_97.5         v  \\\n",
      "0      1.099046  0.749188         0.62047         0.878237  0.000015   \n",
      "\n",
      "   v_hpd_2.5  v_hpd_97.5      v_mu  v_mu_hpd_2.5  v_mu_hpd_97.5  \n",
      "0    0.00001    0.000027  0.000037      0.000027       0.000048  \n",
      "\n",
      "[1 rows x 28 columns]\n",
      "level_set low\n",
      "parameter_set {'mu': 2.85e-05, 'sd': 5e-05, 'bounds': (1.5e-05, 0.00015)}\n",
      "recovered 3.707396512914726e-05\n",
      "Generating hierarchical model for 20 subjects...\n",
      "Fitting 1 model(s) using VI...\n",
      "  Fitting model 1 of 1...\n",
      "Fitting 1 model(s) using VI...\n",
      "  Fitting model 1 of 1...\n"
     ]
    },
    {
     "name": "stderr",
     "output_type": "stream",
     "text": [
      "INFO (theano.gof.compilelock): Waiting for existing lock by process '27091' (I am process '27095')\n",
      "INFO (theano.gof.compilelock): To manually release the lock, delete /Users/felixmolter/.theano/compiledir_Darwin-17.7.0-x86_64-i386-64bit-i386-3.6.8-64/lock_dir\n",
      "Finished [100%]: Average Loss = 9,392.2\n"
     ]
    },
    {
     "name": "stdout",
     "output_type": "stream",
     "text": [
      "/!\\ Automatically setting parameter precision...\n",
      "   gamma  gamma_hpd_2.5  gamma_hpd_97.5  gamma_mu  gamma_mu_hpd_2.5  \\\n",
      "0  -0.61      -0.692972       -0.459562 -0.645627         -0.697761   \n",
      "\n",
      "   gamma_mu_hpd_97.5         s  s_hpd_2.5  s_hpd_97.5      s_mu  \\\n",
      "0           -0.59519  0.004369   0.003743    0.005214  0.004384   \n",
      "\n",
      "       ...        tau_hpd_97.5    tau_mu  tau_mu_hpd_2.5  tau_mu_hpd_97.5  \\\n",
      "0      ...            1.942091  1.078838        0.844027         1.349474   \n",
      "\n",
      "          v  v_hpd_2.5  v_hpd_97.5      v_mu  v_mu_hpd_2.5  v_mu_hpd_97.5  \n",
      "0  0.000017   0.000015     0.00002  0.000044      0.000024       0.000067  \n",
      "\n",
      "[1 rows x 28 columns]\n",
      "level_set low\n",
      "parameter_set {'mu': 2.85e-05, 'sd': 5e-05, 'bounds': (1.5e-05, 0.00015)}\n",
      "recovered 4.399681094428445e-05\n",
      "Generating hierarchical model for 20 subjects...\n",
      "Fitting 1 model(s) using VI...\n",
      "  Fitting model 1 of 1...\n"
     ]
    },
    {
     "name": "stderr",
     "output_type": "stream",
     "text": [
      "Finished [100%]: Average Loss = 9,049.7\n"
     ]
    },
    {
     "name": "stdout",
     "output_type": "stream",
     "text": [
      "/!\\ Automatically setting parameter precision...\n",
      "   gamma  gamma_hpd_2.5  gamma_hpd_97.5  gamma_mu  gamma_mu_hpd_2.5  \\\n",
      "0    0.7       0.524692        0.836667   0.70172          0.572929   \n",
      "\n",
      "   gamma_mu_hpd_97.5         s  s_hpd_2.5  s_hpd_97.5      s_mu  \\\n",
      "0           0.820466  0.003783   0.003083    0.004514  0.004219   \n",
      "\n",
      "       ...        tau_hpd_97.5    tau_mu  tau_mu_hpd_2.5  tau_mu_hpd_97.5  \\\n",
      "0      ...            1.441394  1.052597        0.919396         1.195665   \n",
      "\n",
      "          v  v_hpd_2.5  v_hpd_97.5      v_mu  v_mu_hpd_2.5  v_mu_hpd_97.5  \n",
      "0  0.000016   0.000014    0.000018  0.000039      0.000022       0.000058  \n",
      "\n",
      "[1 rows x 28 columns]\n",
      "level_set low\n",
      "parameter_set {'mu': 2.85e-05, 'sd': 5e-05, 'bounds': (1.5e-05, 0.00015)}\n",
      "recovered 3.919557573384851e-05\n",
      "Generating hierarchical model for 20 subjects...\n",
      "Fitting 1 model(s) using VI...\n",
      "  Fitting model 1 of 1...\n"
     ]
    },
    {
     "name": "stderr",
     "output_type": "stream",
     "text": [
      "Finished [100%]: Average Loss = 9,659.1\n"
     ]
    },
    {
     "name": "stdout",
     "output_type": "stream",
     "text": [
      "/!\\ Automatically setting parameter precision...\n",
      "   gamma  gamma_hpd_2.5  gamma_hpd_97.5  gamma_mu  gamma_mu_hpd_2.5  \\\n",
      "0  -0.65      -0.766657       -0.368138 -0.646327         -0.715884   \n",
      "\n",
      "   gamma_mu_hpd_97.5         s  s_hpd_2.5  s_hpd_97.5     s_mu      ...        \\\n",
      "0           -0.57405  0.009864   0.008898    0.011138  0.01001      ...         \n",
      "\n",
      "   tau_hpd_97.5    tau_mu  tau_mu_hpd_2.5  tau_mu_hpd_97.5         v  \\\n",
      "0      1.939138  1.177603        0.977255         1.371844  0.000023   \n",
      "\n",
      "   v_hpd_2.5  v_hpd_97.5      v_mu  v_mu_hpd_2.5  v_mu_hpd_97.5  \n",
      "0   0.000016    0.000034  0.000044      0.000026       0.000064  \n",
      "\n",
      "[1 rows x 28 columns]\n",
      "level_set low\n",
      "parameter_set {'mu': 2.85e-05, 'sd': 5e-05, 'bounds': (1.5e-05, 0.00015)}\n",
      "recovered 4.376760539553843e-05\n",
      "Generating hierarchical model for 20 subjects...\n",
      "Fitting 1 model(s) using VI...\n",
      "  Fitting model 1 of 1...\n"
     ]
    },
    {
     "name": "stderr",
     "output_type": "stream",
     "text": [
      "Finished [100%]: Average Loss = 9,298.1\n"
     ]
    },
    {
     "name": "stdout",
     "output_type": "stream",
     "text": [
      "/!\\ Automatically setting parameter precision...\n",
      "   gamma  gamma_hpd_2.5  gamma_hpd_97.5  gamma_mu  gamma_mu_hpd_2.5  \\\n",
      "0  -0.03      -0.165909        0.130714  0.033113         -0.121132   \n",
      "\n",
      "   gamma_mu_hpd_97.5         s  s_hpd_2.5  s_hpd_97.5      s_mu  \\\n",
      "0           0.193922  0.004026   0.003234    0.004582  0.003984   \n",
      "\n",
      "       ...        tau_hpd_97.5    tau_mu  tau_mu_hpd_2.5  tau_mu_hpd_97.5  \\\n",
      "0      ...            1.274352  0.937048        0.826083         1.057158   \n",
      "\n",
      "          v  v_hpd_2.5  v_hpd_97.5     v_mu  v_mu_hpd_2.5  v_mu_hpd_97.5  \n",
      "0  0.000017   0.000015    0.000019  0.00004      0.000023       0.000059  \n",
      "\n",
      "[1 rows x 28 columns]\n",
      "level_set low\n",
      "parameter_set {'mu': 2.85e-05, 'sd': 5e-05, 'bounds': (1.5e-05, 0.00015)}\n",
      "recovered 4.0315012182335506e-05\n",
      "Generating hierarchical model for 20 subjects...\n",
      "Fitting 1 model(s) using VI...\n",
      "  Fitting model 1 of 1...\n"
     ]
    },
    {
     "name": "stderr",
     "output_type": "stream",
     "text": [
      "Finished [100%]: Average Loss = 9,507.3\n"
     ]
    },
    {
     "name": "stdout",
     "output_type": "stream",
     "text": [
      "/!\\ Automatically setting parameter precision...\n",
      "   gamma  gamma_hpd_2.5  gamma_hpd_97.5  gamma_mu  gamma_mu_hpd_2.5  \\\n",
      "0  -0.06       -0.29669        0.260896  0.015926         -0.131093   \n",
      "\n",
      "   gamma_mu_hpd_97.5         s  s_hpd_2.5  s_hpd_97.5     s_mu      ...        \\\n",
      "0           0.165606  0.006754   0.006025    0.007894  0.00708      ...         \n",
      "\n",
      "   tau_hpd_97.5    tau_mu  tau_mu_hpd_2.5  tau_mu_hpd_97.5         v  \\\n",
      "0      1.482206  1.099896        0.959036         1.236569  0.000019   \n",
      "\n",
      "   v_hpd_2.5  v_hpd_97.5      v_mu  v_mu_hpd_2.5  v_mu_hpd_97.5  \n",
      "0   0.000015    0.000023  0.000041      0.000022       0.000059  \n",
      "\n",
      "[1 rows x 28 columns]\n",
      "level_set low\n",
      "parameter_set {'mu': 2.85e-05, 'sd': 5e-05, 'bounds': (1.5e-05, 0.00015)}\n",
      "recovered 4.068427994285914e-05\n",
      "Generating hierarchical model for 20 subjects...\n"
     ]
    },
    {
     "name": "stderr",
     "output_type": "stream",
     "text": [
      "INFO (theano.gof.compilelock): Waiting for existing lock by process '27093' (I am process '27094')\n",
      "INFO (theano.gof.compilelock): To manually release the lock, delete /Users/felixmolter/.theano/compiledir_Darwin-17.7.0-x86_64-i386-64bit-i386-3.6.8-64/lock_dir\n"
     ]
    },
    {
     "name": "stdout",
     "output_type": "stream",
     "text": [
      "Fitting 1 model(s) using VI...\n",
      "  Fitting model 1 of 1...\n"
     ]
    },
    {
     "name": "stderr",
     "output_type": "stream",
     "text": [
      "Finished [100%]: Average Loss = 9,380.2\n",
      "INFO (theano.gof.compilelock): Waiting for existing lock by process '27094' (I am process '27097')\n",
      "INFO (theano.gof.compilelock): To manually release the lock, delete /Users/felixmolter/.theano/compiledir_Darwin-17.7.0-x86_64-i386-64bit-i386-3.6.8-64/lock_dir\n"
     ]
    },
    {
     "name": "stdout",
     "output_type": "stream",
     "text": [
      "/!\\ Automatically setting parameter precision...\n",
      "   gamma  gamma_hpd_2.5  gamma_hpd_97.5  gamma_mu  gamma_mu_hpd_2.5  \\\n",
      "0   0.52       0.294332        0.746927  0.662245          0.514544   \n",
      "\n",
      "   gamma_mu_hpd_97.5         s  s_hpd_2.5  s_hpd_97.5      s_mu  \\\n",
      "0           0.784457  0.006687   0.005994    0.007718  0.007155   \n",
      "\n",
      "       ...        tau_hpd_97.5    tau_mu  tau_mu_hpd_2.5  tau_mu_hpd_97.5  \\\n",
      "0      ...            1.751677  1.192118        1.045189         1.339288   \n",
      "\n",
      "          v  v_hpd_2.5  v_hpd_97.5      v_mu  v_mu_hpd_2.5  v_mu_hpd_97.5  \n",
      "0  0.000017   0.000013     0.00002  0.000039      0.000024       0.000057  \n",
      "\n",
      "[1 rows x 28 columns]\n",
      "level_set low\n",
      "parameter_set {'mu': 2.85e-05, 'sd': 5e-05, 'bounds': (1.5e-05, 0.00015)}\n",
      "recovered 3.917914472038592e-05\n",
      "Generating hierarchical model for 20 subjects...\n",
      "Fitting 1 model(s) using VI...\n",
      "  Fitting model 1 of 1...\n"
     ]
    },
    {
     "name": "stderr",
     "output_type": "stream",
     "text": [
      "Finished [100%]: Average Loss = 9,660.8\n"
     ]
    },
    {
     "name": "stdout",
     "output_type": "stream",
     "text": [
      "/!\\ Automatically setting parameter precision...\n",
      "   gamma  gamma_hpd_2.5  gamma_hpd_97.5  gamma_mu  gamma_mu_hpd_2.5  \\\n",
      "0  -0.53      -0.633003       -0.359884  -0.62284         -0.684385   \n",
      "\n",
      "   gamma_mu_hpd_97.5         s  s_hpd_2.5  s_hpd_97.5      s_mu  \\\n",
      "0          -0.562128  0.007224   0.006316    0.008423  0.007274   \n",
      "\n",
      "       ...        tau_hpd_97.5    tau_mu  tau_mu_hpd_2.5  tau_mu_hpd_97.5  \\\n",
      "0      ...            2.324413  1.204617        0.979723          1.43867   \n",
      "\n",
      "          v  v_hpd_2.5  v_hpd_97.5      v_mu  v_mu_hpd_2.5  v_mu_hpd_97.5  \n",
      "0  0.000016   0.000013    0.000021  0.000044      0.000023       0.000069  \n",
      "\n",
      "[1 rows x 28 columns]\n",
      "level_set low\n",
      "parameter_set {'mu': 2.85e-05, 'sd': 5e-05, 'bounds': (1.5e-05, 0.00015)}\n",
      "recovered 4.412371546605752e-05\n",
      "Generating hierarchical model for 20 subjects...\n"
     ]
    },
    {
     "name": "stderr",
     "output_type": "stream",
     "text": [
      "Finished [100%]: Average Loss = 9,625.8\n"
     ]
    },
    {
     "name": "stdout",
     "output_type": "stream",
     "text": [
      "Fitting 1 model(s) using VI...\n",
      "  Fitting model 1 of 1...\n",
      "/!\\ Automatically setting parameter precision...\n",
      "   gamma  gamma_hpd_2.5  gamma_hpd_97.5  gamma_mu  gamma_mu_hpd_2.5  \\\n",
      "0   0.01      -0.484752        0.402891  0.005606         -0.152314   \n",
      "\n",
      "   gamma_mu_hpd_97.5         s  s_hpd_2.5  s_hpd_97.5      s_mu  \\\n",
      "0           0.170194  0.009535   0.008897    0.010964  0.009746   \n",
      "\n",
      "       ...        tau_hpd_97.5    tau_mu  tau_mu_hpd_2.5  tau_mu_hpd_97.5  \\\n",
      "0      ...            1.688804  1.120541        0.905515         1.338891   \n",
      "\n",
      "          v  v_hpd_2.5  v_hpd_97.5      v_mu  v_mu_hpd_2.5  v_mu_hpd_97.5  \n",
      "0  0.000019   0.000014    0.000028  0.000041      0.000025       0.000058  \n",
      "\n",
      "[1 rows x 28 columns]\n",
      "level_set low\n",
      "parameter_set {'mu': 2.85e-05, 'sd': 5e-05, 'bounds': (1.5e-05, 0.00015)}\n",
      "recovered 4.0776286894403075e-05\n",
      "Generating hierarchical model for 20 subjects...\n",
      "Fitting 1 model(s) using VI...\n",
      "  Fitting model 1 of 1...\n"
     ]
    },
    {
     "name": "stderr",
     "output_type": "stream",
     "text": [
      "INFO (theano.gof.compilelock): Waiting for existing lock by process '27091' (I am process '27095')\n",
      "INFO (theano.gof.compilelock): To manually release the lock, delete /Users/felixmolter/.theano/compiledir_Darwin-17.7.0-x86_64-i386-64bit-i386-3.6.8-64/lock_dir\n",
      "Finished [100%]: Average Loss = 9,562.8\n"
     ]
    },
    {
     "name": "stdout",
     "output_type": "stream",
     "text": [
      "/!\\ Automatically setting parameter precision...\n",
      "   gamma  gamma_hpd_2.5  gamma_hpd_97.5  gamma_mu  gamma_mu_hpd_2.5  \\\n",
      "0   0.33      -0.264706        0.790756   0.38982          0.215386   \n",
      "\n",
      "   gamma_mu_hpd_97.5         s  s_hpd_2.5  s_hpd_97.5      s_mu  \\\n",
      "0           0.563967  0.010149   0.009126    0.011584  0.010001   \n",
      "\n",
      "       ...        tau_hpd_97.5    tau_mu  tau_mu_hpd_2.5  tau_mu_hpd_97.5  \\\n",
      "0      ...            0.217089  0.190518        0.140557         0.251472   \n",
      "\n",
      "          v  v_hpd_2.5  v_hpd_97.5      v_mu  v_mu_hpd_2.5  v_mu_hpd_97.5  \n",
      "0  0.000071   0.000059    0.000083  0.000049      0.000035       0.000066  \n",
      "\n",
      "[1 rows x 28 columns]\n",
      "level_set low\n",
      "parameter_set {'mu': 2.85e-05, 'sd': 5e-05, 'bounds': (1.5e-05, 0.00015)}\n",
      "recovered 4.89254632305349e-05\n",
      "Generating hierarchical model for 20 subjects...\n",
      "Fitting 1 model(s) using VI...\n",
      "  Fitting model 1 of 1...\n"
     ]
    },
    {
     "name": "stderr",
     "output_type": "stream",
     "text": [
      "Finished [100%]: Average Loss = 9,013\n"
     ]
    },
    {
     "name": "stdout",
     "output_type": "stream",
     "text": [
      "/!\\ Automatically setting parameter precision...\n",
      "   gamma  gamma_hpd_2.5  gamma_hpd_97.5  gamma_mu  gamma_mu_hpd_2.5  \\\n",
      "0  -0.84      -0.946414       -0.498706  -0.67941         -0.775202   \n",
      "\n",
      "   gamma_mu_hpd_97.5         s  s_hpd_2.5  s_hpd_97.5      s_mu  \\\n",
      "0          -0.579484  0.002501   0.002428    0.002598  0.002775   \n",
      "\n",
      "       ...        tau_hpd_97.5    tau_mu  tau_mu_hpd_2.5  tau_mu_hpd_97.5  \\\n",
      "0      ...            0.068101  0.121732        0.083731         0.161941   \n",
      "\n",
      "          v  v_hpd_2.5  v_hpd_97.5      v_mu  v_mu_hpd_2.5  v_mu_hpd_97.5  \n",
      "0  0.000138   0.000134    0.000141  0.000101      0.000078       0.000124  \n",
      "\n",
      "[1 rows x 28 columns]\n",
      "level_set medium\n",
      "parameter_set {'mu': 8.249999999999999e-05, 'sd': 5e-05, 'bounds': (1.5e-05, 0.00015)}\n",
      "recovered 0.00010103152308904165\n",
      "Generating hierarchical model for 20 subjects...\n",
      "Fitting 1 model(s) using VI...\n",
      "  Fitting model 1 of 1...\n"
     ]
    },
    {
     "name": "stderr",
     "output_type": "stream",
     "text": [
      "Finished [100%]: Average Loss = 9,083.6\n"
     ]
    },
    {
     "name": "stdout",
     "output_type": "stream",
     "text": [
      "/!\\ Automatically setting parameter precision...\n",
      "   gamma  gamma_hpd_2.5  gamma_hpd_97.5  gamma_mu  gamma_mu_hpd_2.5  \\\n",
      "0  -0.82      -0.918873       -0.391231  -0.65059         -0.747332   \n",
      "\n",
      "   gamma_mu_hpd_97.5         s  s_hpd_2.5  s_hpd_97.5      s_mu  \\\n",
      "0          -0.547021  0.007835   0.006504    0.008948  0.006127   \n",
      "\n",
      "       ...        tau_hpd_97.5    tau_mu  tau_mu_hpd_2.5  tau_mu_hpd_97.5  \\\n",
      "0      ...            0.173673  0.141999        0.112044         0.175827   \n",
      "\n",
      "          v  v_hpd_2.5  v_hpd_97.5      v_mu  v_mu_hpd_2.5  v_mu_hpd_97.5  \n",
      "0  0.000125   0.000116    0.000135  0.000099      0.000075       0.000123  \n",
      "\n",
      "[1 rows x 28 columns]\n",
      "level_set medium\n",
      "parameter_set {'mu': 8.249999999999999e-05, 'sd': 5e-05, 'bounds': (1.5e-05, 0.00015)}\n",
      "recovered 9.850635520596899e-05\n",
      "Generating hierarchical model for 20 subjects...\n",
      "Fitting 1 model(s) using VI...\n",
      "  Fitting model 1 of 1...\n"
     ]
    },
    {
     "name": "stderr",
     "output_type": "stream",
     "text": [
      "Finished [100%]: Average Loss = 8,811.2\n"
     ]
    },
    {
     "name": "stdout",
     "output_type": "stream",
     "text": [
      "/!\\ Automatically setting parameter precision...\n",
      "   gamma  gamma_hpd_2.5  gamma_hpd_97.5  gamma_mu  gamma_mu_hpd_2.5  \\\n",
      "0  -0.77       -0.91595        -0.26832 -0.602181         -0.714279   \n",
      "\n",
      "   gamma_mu_hpd_97.5         s  s_hpd_2.5  s_hpd_97.5      s_mu  \\\n",
      "0          -0.483113  0.010323   0.009327    0.011611  0.010053   \n",
      "\n",
      "       ...        tau_hpd_97.5    tau_mu  tau_mu_hpd_2.5  tau_mu_hpd_97.5  \\\n",
      "0      ...            0.225154  0.206175        0.156059         0.258735   \n",
      "\n",
      "          v  v_hpd_2.5  v_hpd_97.5      v_mu  v_mu_hpd_2.5  v_mu_hpd_97.5  \n",
      "0  0.000121   0.000106    0.000133  0.000093      0.000072       0.000115  \n",
      "\n",
      "[1 rows x 28 columns]\n",
      "level_set medium\n",
      "parameter_set {'mu': 8.249999999999999e-05, 'sd': 5e-05, 'bounds': (1.5e-05, 0.00015)}\n",
      "recovered 9.338697564721271e-05\n",
      "Generating hierarchical model for 20 subjects...\n",
      "Fitting 1 model(s) using VI...\n",
      "  Fitting model 1 of 1...\n"
     ]
    },
    {
     "name": "stderr",
     "output_type": "stream",
     "text": [
      "Finished [100%]: Average Loss = 9,006.9\n"
     ]
    },
    {
     "name": "stdout",
     "output_type": "stream",
     "text": [
      "/!\\ Automatically setting parameter precision...\n",
      "   gamma  gamma_hpd_2.5  gamma_hpd_97.5  gamma_mu  gamma_mu_hpd_2.5  \\\n",
      "0  -0.62      -0.728517       -0.285344 -0.012626         -0.158543   \n",
      "\n",
      "   gamma_mu_hpd_97.5         s  s_hpd_2.5  s_hpd_97.5      s_mu  \\\n",
      "0           0.107661  0.002508   0.002413    0.002585  0.002777   \n",
      "\n",
      "       ...        tau_hpd_97.5    tau_mu  tau_mu_hpd_2.5  tau_mu_hpd_97.5  \\\n",
      "0      ...            0.086743  0.110236        0.069786         0.153708   \n",
      "\n",
      "          v  v_hpd_2.5  v_hpd_97.5      v_mu  v_mu_hpd_2.5  v_mu_hpd_97.5  \n",
      "0  0.000137   0.000133     0.00014  0.000098      0.000077        0.00012  \n",
      "\n",
      "[1 rows x 28 columns]\n",
      "level_set medium\n",
      "parameter_set {'mu': 8.249999999999999e-05, 'sd': 5e-05, 'bounds': (1.5e-05, 0.00015)}\n",
      "recovered 9.844797550643342e-05\n",
      "Generating hierarchical model for 20 subjects...\n",
      "Fitting 1 model(s) using VI...\n",
      "  Fitting model 1 of 1...\n"
     ]
    },
    {
     "name": "stderr",
     "output_type": "stream",
     "text": [
      "Finished [100%]: Average Loss = 9,020.4\n"
     ]
    },
    {
     "name": "stdout",
     "output_type": "stream",
     "text": [
      "/!\\ Automatically setting parameter precision...\n",
      "   gamma  gamma_hpd_2.5  gamma_hpd_97.5  gamma_mu  gamma_mu_hpd_2.5  \\\n",
      "0  -0.39      -0.821002        0.070731 -0.024252         -0.153483   \n",
      "\n",
      "   gamma_mu_hpd_97.5         s  s_hpd_2.5  s_hpd_97.5      s_mu  \\\n",
      "0           0.119635  0.007616   0.006528    0.008964  0.006439   \n",
      "\n",
      "       ...        tau_hpd_97.5    tau_mu  tau_mu_hpd_2.5  tau_mu_hpd_97.5  \\\n",
      "0      ...            0.157853  0.140584        0.103055         0.183577   \n",
      "\n",
      "          v  v_hpd_2.5  v_hpd_97.5      v_mu  v_mu_hpd_2.5  v_mu_hpd_97.5  \n",
      "0  0.000123   0.000113    0.000133  0.000095      0.000072       0.000118  \n",
      "\n",
      "[1 rows x 28 columns]\n",
      "level_set medium\n",
      "parameter_set {'mu': 8.249999999999999e-05, 'sd': 5e-05, 'bounds': (1.5e-05, 0.00015)}\n",
      "recovered 9.527829418897043e-05\n",
      "Generating hierarchical model for 20 subjects...\n",
      "Fitting 1 model(s) using VI...\n",
      "  Fitting model 1 of 1...\n"
     ]
    },
    {
     "name": "stderr",
     "output_type": "stream",
     "text": [
      "Finished [100%]: Average Loss = 8,818.8\n"
     ]
    },
    {
     "name": "stdout",
     "output_type": "stream",
     "text": [
      "/!\\ Automatically setting parameter precision...\n",
      "   gamma  gamma_hpd_2.5  gamma_hpd_97.5  gamma_mu  gamma_mu_hpd_2.5  \\\n",
      "0  -0.39      -0.732484         0.34534  0.015305         -0.129645   \n",
      "\n",
      "   gamma_mu_hpd_97.5         s  s_hpd_2.5  s_hpd_97.5      s_mu  \\\n",
      "0           0.173818  0.010434   0.009392    0.011637  0.010118   \n",
      "\n",
      "       ...        tau_hpd_97.5    tau_mu  tau_mu_hpd_2.5  tau_mu_hpd_97.5  \\\n",
      "0      ...            0.193938  0.181975        0.132576         0.235569   \n",
      "\n",
      "          v  v_hpd_2.5  v_hpd_97.5     v_mu  v_mu_hpd_2.5  v_mu_hpd_97.5  \n",
      "0  0.000115   0.000105    0.000132  0.00009      0.000069        0.00011  \n",
      "\n",
      "[1 rows x 28 columns]\n",
      "level_set medium\n",
      "parameter_set {'mu': 8.249999999999999e-05, 'sd': 5e-05, 'bounds': (1.5e-05, 0.00015)}\n",
      "recovered 8.999280283969654e-05\n",
      "Generating hierarchical model for 20 subjects...\n",
      "Fitting 1 model(s) using VI...\n",
      "  Fitting model 1 of 1...\n"
     ]
    },
    {
     "name": "stderr",
     "output_type": "stream",
     "text": [
      "Finished [100%]: Average Loss = 8,882.9\n"
     ]
    },
    {
     "name": "stdout",
     "output_type": "stream",
     "text": [
      "/!\\ Automatically setting parameter precision...\n",
      "   gamma  gamma_hpd_2.5  gamma_hpd_97.5  gamma_mu  gamma_mu_hpd_2.5  \\\n",
      "0   0.31       0.134276        0.542368  0.650472          0.530947   \n",
      "\n",
      "   gamma_mu_hpd_97.5         s  s_hpd_2.5  s_hpd_97.5      s_mu  \\\n",
      "0           0.750392  0.002507   0.002429    0.002591  0.002747   \n",
      "\n",
      "       ...        tau_hpd_97.5    tau_mu  tau_mu_hpd_2.5  tau_mu_hpd_97.5  \\\n",
      "0      ...            0.082117  0.123786        0.083552         0.169682   \n",
      "\n",
      "          v  v_hpd_2.5  v_hpd_97.5      v_mu  v_mu_hpd_2.5  v_mu_hpd_97.5  \n",
      "0  0.000138   0.000135    0.000142  0.000098      0.000076       0.000121  \n",
      "\n",
      "[1 rows x 28 columns]\n",
      "level_set medium\n",
      "parameter_set {'mu': 8.249999999999999e-05, 'sd': 5e-05, 'bounds': (1.5e-05, 0.00015)}\n",
      "recovered 9.832803602994168e-05\n",
      "Generating hierarchical model for 20 subjects...\n",
      "Fitting 1 model(s) using VI...\n",
      "  Fitting model 1 of 1...\n"
     ]
    },
    {
     "name": "stderr",
     "output_type": "stream",
     "text": [
      "Finished [100%]: Average Loss = 9,569.4\n",
      "INFO (theano.gof.compilelock): Waiting for existing lock by process '27095' (I am process '27090')\n",
      "INFO (theano.gof.compilelock): To manually release the lock, delete /Users/felixmolter/.theano/compiledir_Darwin-17.7.0-x86_64-i386-64bit-i386-3.6.8-64/lock_dir\n"
     ]
    },
    {
     "name": "stdout",
     "output_type": "stream",
     "text": [
      "/!\\ Automatically setting parameter precision...\n",
      "   gamma  gamma_hpd_2.5  gamma_hpd_97.5  gamma_mu  gamma_mu_hpd_2.5  \\\n",
      "0   0.49       0.249679        0.718011    0.6804          0.582395   \n",
      "\n",
      "   gamma_mu_hpd_97.5         s  s_hpd_2.5  s_hpd_97.5      s_mu  \\\n",
      "0           0.777795  0.009685   0.008937    0.010887  0.009987   \n",
      "\n",
      "       ...        tau_hpd_97.5   tau_mu  tau_mu_hpd_2.5  tau_mu_hpd_97.5  \\\n",
      "0      ...            0.763021  0.73357        0.581915          0.89125   \n",
      "\n",
      "          v  v_hpd_2.5  v_hpd_97.5     v_mu  v_mu_hpd_2.5  v_mu_hpd_97.5  \n",
      "0  0.000066   0.000057    0.000076  0.00004      0.000028       0.000055  \n",
      "\n",
      "[1 rows x 28 columns]\n",
      "level_set low\n",
      "parameter_set {'mu': 2.85e-05, 'sd': 5e-05, 'bounds': (1.5e-05, 0.00015)}\n",
      "recovered 3.990972350942185e-05\n",
      "Generating hierarchical model for 20 subjects...\n",
      "Fitting 1 model(s) using VI...\n",
      "  Fitting model 1 of 1...\n"
     ]
    },
    {
     "name": "stderr",
     "output_type": "stream",
     "text": [
      "Finished [100%]: Average Loss = 8,806.2\n"
     ]
    },
    {
     "name": "stdout",
     "output_type": "stream",
     "text": [
      "/!\\ Automatically setting parameter precision...\n",
      "   gamma  gamma_hpd_2.5  gamma_hpd_97.5  gamma_mu  gamma_mu_hpd_2.5  \\\n",
      "0  -0.83      -0.884102       -0.731172 -0.725863         -0.808526   \n",
      "\n",
      "   gamma_mu_hpd_97.5         s  s_hpd_2.5  s_hpd_97.5      s_mu  \\\n",
      "0          -0.639676  0.002681    0.00255    0.002777  0.002844   \n",
      "\n",
      "       ...        tau_hpd_97.5    tau_mu  tau_mu_hpd_2.5  tau_mu_hpd_97.5  \\\n",
      "0      ...            0.347002  0.434313        0.361574         0.515803   \n",
      "\n",
      "          v  v_hpd_2.5  v_hpd_97.5      v_mu  v_mu_hpd_2.5  v_mu_hpd_97.5  \n",
      "0  0.000162   0.000157    0.000167  0.000097      0.000072       0.000127  \n",
      "\n",
      "[1 rows x 28 columns]\n",
      "level_set medium\n",
      "parameter_set {'mu': 8.249999999999999e-05, 'sd': 5e-05, 'bounds': (1.5e-05, 0.00015)}\n",
      "recovered 9.725045304019667e-05\n",
      "Generating hierarchical model for 20 subjects...\n",
      "Fitting 1 model(s) using VI...\n",
      "  Fitting model 1 of 1...\n"
     ]
    },
    {
     "name": "stderr",
     "output_type": "stream",
     "text": [
      "Finished [100%]: Average Loss = 8,996.7\n"
     ]
    },
    {
     "name": "stdout",
     "output_type": "stream",
     "text": [
      "/!\\ Automatically setting parameter precision...\n",
      "   gamma  gamma_hpd_2.5  gamma_hpd_97.5  gamma_mu  gamma_mu_hpd_2.5  \\\n",
      "0  -0.86      -0.939995       -0.731656 -0.739722          -0.81091   \n",
      "\n",
      "   gamma_mu_hpd_97.5         s  s_hpd_2.5  s_hpd_97.5      s_mu  \\\n",
      "0          -0.661803  0.002819   0.002729    0.002954  0.005431   \n",
      "\n",
      "       ...        tau_hpd_97.5    tau_mu  tau_mu_hpd_2.5  tau_mu_hpd_97.5  \\\n",
      "0      ...            0.244096  0.456969         0.34829         0.559522   \n",
      "\n",
      "          v  v_hpd_2.5  v_hpd_97.5    v_mu  v_mu_hpd_2.5  v_mu_hpd_97.5  \n",
      "0  0.000177   0.000172    0.000183  0.0001      0.000072       0.000132  \n",
      "\n",
      "[1 rows x 28 columns]\n",
      "level_set medium\n",
      "parameter_set {'mu': 8.249999999999999e-05, 'sd': 5e-05, 'bounds': (1.5e-05, 0.00015)}\n",
      "recovered 9.990202226052027e-05\n",
      "Generating hierarchical model for 20 subjects...\n",
      "Fitting 1 model(s) using VI...\n",
      "  Fitting model 1 of 1...\n"
     ]
    },
    {
     "name": "stderr",
     "output_type": "stream",
     "text": [
      "Finished [100%]: Average Loss = 8,704.5\n"
     ]
    },
    {
     "name": "stdout",
     "output_type": "stream",
     "text": [
      "/!\\ Automatically setting parameter precision...\n",
      "   gamma  gamma_hpd_2.5  gamma_hpd_97.5  gamma_mu  gamma_mu_hpd_2.5  \\\n",
      "0   -0.8      -0.898987       -0.627293 -0.740515         -0.796117   \n",
      "\n",
      "   gamma_mu_hpd_97.5         s  s_hpd_2.5  s_hpd_97.5      s_mu  \\\n",
      "0          -0.681398  0.009822   0.008634    0.010907  0.009723   \n",
      "\n",
      "       ...        tau_hpd_97.5    tau_mu  tau_mu_hpd_2.5  tau_mu_hpd_97.5  \\\n",
      "0      ...            0.711812  0.580353        0.502976         0.662306   \n",
      "\n",
      "          v  v_hpd_2.5  v_hpd_97.5      v_mu  v_mu_hpd_2.5  v_mu_hpd_97.5  \n",
      "0  0.000144   0.000131     0.00016  0.000092      0.000068        0.00012  \n",
      "\n",
      "[1 rows x 28 columns]\n",
      "level_set medium\n",
      "parameter_set {'mu': 8.249999999999999e-05, 'sd': 5e-05, 'bounds': (1.5e-05, 0.00015)}\n",
      "recovered 9.228592146684319e-05\n",
      "Generating hierarchical model for 20 subjects...\n",
      "Fitting 1 model(s) using VI...\n",
      "  Fitting model 1 of 1...\n"
     ]
    },
    {
     "name": "stderr",
     "output_type": "stream",
     "text": [
      "Finished [100%]: Average Loss = 8,523.2\n"
     ]
    },
    {
     "name": "stdout",
     "output_type": "stream",
     "text": [
      "/!\\ Automatically setting parameter precision...\n",
      "   gamma  gamma_hpd_2.5  gamma_hpd_97.5  gamma_mu  gamma_mu_hpd_2.5  \\\n",
      "0  -0.54      -0.626948       -0.471973 -0.021544         -0.193953   \n",
      "\n",
      "   gamma_mu_hpd_97.5         s  s_hpd_2.5  s_hpd_97.5      s_mu  \\\n",
      "0           0.128705  0.002555   0.002417    0.002715  0.002802   \n",
      "\n",
      "       ...        tau_hpd_97.5   tau_mu  tau_mu_hpd_2.5  tau_mu_hpd_97.5  \\\n",
      "0      ...            0.372754  0.40839        0.335913         0.475388   \n",
      "\n",
      "          v  v_hpd_2.5  v_hpd_97.5      v_mu  v_mu_hpd_2.5  v_mu_hpd_97.5  \n",
      "0  0.000148   0.000145    0.000152  0.000087      0.000062        0.00011  \n",
      "\n",
      "[1 rows x 28 columns]\n",
      "level_set medium\n",
      "parameter_set {'mu': 8.249999999999999e-05, 'sd': 5e-05, 'bounds': (1.5e-05, 0.00015)}\n",
      "recovered 8.659788967750567e-05\n",
      "Generating hierarchical model for 20 subjects...\n",
      "Fitting 1 model(s) using VI...\n",
      "  Fitting model 1 of 1...\n"
     ]
    },
    {
     "name": "stderr",
     "output_type": "stream",
     "text": [
      "Finished [100%]: Average Loss = 8,877.1\n",
      "INFO (theano.gof.compilelock): Waiting for existing lock by process '27094' (I am process '27097')\n",
      "INFO (theano.gof.compilelock): To manually release the lock, delete /Users/felixmolter/.theano/compiledir_Darwin-17.7.0-x86_64-i386-64bit-i386-3.6.8-64/lock_dir\n"
     ]
    },
    {
     "name": "stdout",
     "output_type": "stream",
     "text": [
      "/!\\ Automatically setting parameter precision...\n",
      "   gamma  gamma_hpd_2.5  gamma_hpd_97.5  gamma_mu  gamma_mu_hpd_2.5  \\\n",
      "0  -0.64      -0.723522       -0.532401 -0.034542         -0.205024   \n",
      "\n",
      "   gamma_mu_hpd_97.5         s  s_hpd_2.5  s_hpd_97.5     s_mu      ...        \\\n",
      "0           0.146009  0.002654   0.002539    0.002751  0.00562      ...         \n",
      "\n",
      "   tau_hpd_97.5    tau_mu  tau_mu_hpd_2.5  tau_mu_hpd_97.5         v  \\\n",
      "0      0.322269  0.492525        0.381162         0.617975  0.000157   \n",
      "\n",
      "   v_hpd_2.5  v_hpd_97.5      v_mu  v_mu_hpd_2.5  v_mu_hpd_97.5  \n",
      "0   0.000152    0.000161  0.000089      0.000065       0.000118  \n",
      "\n",
      "[1 rows x 28 columns]\n",
      "level_set medium\n",
      "parameter_set {'mu': 8.249999999999999e-05, 'sd': 5e-05, 'bounds': (1.5e-05, 0.00015)}\n",
      "recovered 8.903822246986323e-05\n",
      "Generating hierarchical model for 20 subjects...\n",
      "Fitting 1 model(s) using VI...\n",
      "  Fitting model 1 of 1...\n"
     ]
    },
    {
     "name": "stderr",
     "output_type": "stream",
     "text": [
      "Finished [100%]: Average Loss = 8,693.3\n"
     ]
    },
    {
     "name": "stdout",
     "output_type": "stream",
     "text": [
      "/!\\ Automatically setting parameter precision...\n",
      "   gamma  gamma_hpd_2.5  gamma_hpd_97.5  gamma_mu  gamma_mu_hpd_2.5  \\\n",
      "0  -0.52      -0.688074       -0.312306 -0.016368         -0.181124   \n",
      "\n",
      "   gamma_mu_hpd_97.5         s  s_hpd_2.5  s_hpd_97.5      s_mu  \\\n",
      "0           0.157733  0.008789    0.00809    0.010322  0.009748   \n",
      "\n",
      "       ...        tau_hpd_97.5    tau_mu  tau_mu_hpd_2.5  tau_mu_hpd_97.5  \\\n",
      "0      ...            0.668006  0.583905        0.488912         0.691899   \n",
      "\n",
      "          v  v_hpd_2.5  v_hpd_97.5      v_mu  v_mu_hpd_2.5  v_mu_hpd_97.5  \n",
      "0  0.000132   0.000121    0.000146  0.000081      0.000061       0.000103  \n",
      "\n",
      "[1 rows x 28 columns]\n",
      "level_set medium\n",
      "parameter_set {'mu': 8.249999999999999e-05, 'sd': 5e-05, 'bounds': (1.5e-05, 0.00015)}\n",
      "recovered 8.097841736239875e-05\n",
      "Generating hierarchical model for 20 subjects...\n",
      "Fitting 1 model(s) using VI...\n",
      "  Fitting model 1 of 1...\n"
     ]
    },
    {
     "name": "stderr",
     "output_type": "stream",
     "text": [
      "Finished [100%]: Average Loss = 8,272.7\n",
      "INFO (theano.gof.compilelock): Waiting for existing lock by process '27091' (I am process '27095')\n",
      "INFO (theano.gof.compilelock): To manually release the lock, delete /Users/felixmolter/.theano/compiledir_Darwin-17.7.0-x86_64-i386-64bit-i386-3.6.8-64/lock_dir\n"
     ]
    },
    {
     "name": "stdout",
     "output_type": "stream",
     "text": [
      "/!\\ Automatically setting parameter precision...\n",
      "   gamma  gamma_hpd_2.5  gamma_hpd_97.5  gamma_mu  gamma_mu_hpd_2.5  \\\n",
      "0   0.34       0.275593        0.431664  0.681618          0.561548   \n",
      "\n",
      "   gamma_mu_hpd_97.5         s  s_hpd_2.5  s_hpd_97.5      s_mu  \\\n",
      "0           0.784614  0.002595   0.002477    0.002689  0.003122   \n",
      "\n",
      "       ...        tau_hpd_97.5    tau_mu  tau_mu_hpd_2.5  tau_mu_hpd_97.5  \\\n",
      "0      ...            0.369901  0.425589        0.362123         0.493855   \n",
      "\n",
      "          v  v_hpd_2.5  v_hpd_97.5      v_mu  v_mu_hpd_2.5  v_mu_hpd_97.5  \n",
      "0  0.000141   0.000137    0.000145  0.000088      0.000065       0.000115  \n",
      "\n",
      "[1 rows x 28 columns]\n",
      "level_set medium\n",
      "parameter_set {'mu': 8.249999999999999e-05, 'sd': 5e-05, 'bounds': (1.5e-05, 0.00015)}\n",
      "recovered 8.814634489965146e-05\n",
      "Generating hierarchical model for 20 subjects...\n",
      "Fitting 1 model(s) using VI...\n",
      "  Fitting model 1 of 1...\n"
     ]
    },
    {
     "name": "stderr",
     "output_type": "stream",
     "text": [
      "Finished [100%]: Average Loss = 9,402.5\n"
     ]
    },
    {
     "name": "stdout",
     "output_type": "stream",
     "text": [
      "/!\\ Automatically setting parameter precision...\n",
      "   gamma  gamma_hpd_2.5  gamma_hpd_97.5  gamma_mu  gamma_mu_hpd_2.5  \\\n",
      "0   0.86        0.50336        0.974497  0.757814          0.662874   \n",
      "\n",
      "   gamma_mu_hpd_97.5         s  s_hpd_2.5  s_hpd_97.5      s_mu  \\\n",
      "0           0.838295  0.008495   0.007786    0.010131  0.010079   \n",
      "\n",
      "       ...        tau_hpd_97.5    tau_mu  tau_mu_hpd_2.5  tau_mu_hpd_97.5  \\\n",
      "0      ...            2.200199  1.359628        1.148038         1.572172   \n",
      "\n",
      "          v  v_hpd_2.5  v_hpd_97.5      v_mu  v_mu_hpd_2.5  v_mu_hpd_97.5  \n",
      "0  0.000025    0.00002     0.00003  0.000038      0.000028       0.000049  \n",
      "\n",
      "[1 rows x 28 columns]\n",
      "level_set low\n",
      "parameter_set {'mu': 2.85e-05, 'sd': 5e-05, 'bounds': (1.5e-05, 0.00015)}\n",
      "recovered 3.753039318099336e-05\n",
      "Generating hierarchical model for 20 subjects...\n",
      "Fitting 1 model(s) using VI...\n",
      "  Fitting model 1 of 1...\n"
     ]
    },
    {
     "name": "stderr",
     "output_type": "stream",
     "text": [
      "Finished [100%]: Average Loss = 8,384.9\n"
     ]
    },
    {
     "name": "stdout",
     "output_type": "stream",
     "text": [
      "/!\\ Automatically setting parameter precision...\n",
      "   gamma  gamma_hpd_2.5  gamma_hpd_97.5  gamma_mu  gamma_mu_hpd_2.5  \\\n",
      "0  -0.49      -0.551243       -0.443584 -0.569012         -0.666985   \n",
      "\n",
      "   gamma_mu_hpd_97.5         s  s_hpd_2.5  s_hpd_97.5      s_mu  \\\n",
      "0          -0.462257  0.002018   0.001917    0.002094  0.003578   \n",
      "\n",
      "       ...        tau_hpd_97.5    tau_mu  tau_mu_hpd_2.5  tau_mu_hpd_97.5  \\\n",
      "0      ...            0.904451  0.749102        0.624662         0.881824   \n",
      "\n",
      "          v  v_hpd_2.5  v_hpd_97.5      v_mu  v_mu_hpd_2.5  v_mu_hpd_97.5  \n",
      "0  0.000083   0.000081    0.000085  0.000096      0.000074       0.000117  \n",
      "\n",
      "[1 rows x 28 columns]\n",
      "level_set medium\n",
      "parameter_set {'mu': 8.249999999999999e-05, 'sd': 5e-05, 'bounds': (1.5e-05, 0.00015)}\n",
      "recovered 9.584455395135493e-05\n",
      "Generating hierarchical model for 20 subjects...\n",
      "Fitting 1 model(s) using VI...\n",
      "  Fitting model 1 of 1...\n"
     ]
    },
    {
     "name": "stderr",
     "output_type": "stream",
     "text": [
      "Finished [100%]: Average Loss = 8,321.3\n"
     ]
    },
    {
     "name": "stdout",
     "output_type": "stream",
     "text": [
      "/!\\ Automatically setting parameter precision...\n",
      "   gamma  gamma_hpd_2.5  gamma_hpd_97.5  gamma_mu  gamma_mu_hpd_2.5  \\\n",
      "0  -0.43      -0.515039       -0.363149 -0.537424         -0.619045   \n",
      "\n",
      "   gamma_mu_hpd_97.5        s  s_hpd_2.5  s_hpd_97.5      s_mu      ...        \\\n",
      "0          -0.445787  0.00215   0.001918    0.002531  0.007367      ...         \n",
      "\n",
      "   tau_hpd_97.5    tau_mu  tau_mu_hpd_2.5  tau_mu_hpd_97.5         v  \\\n",
      "0      0.885775  1.162617        1.020277         1.298904  0.000081   \n",
      "\n",
      "   v_hpd_2.5  v_hpd_97.5      v_mu  v_mu_hpd_2.5  v_mu_hpd_97.5  \n",
      "0   0.000078    0.000083  0.000088      0.000069       0.000108  \n",
      "\n",
      "[1 rows x 28 columns]\n",
      "level_set medium\n",
      "parameter_set {'mu': 8.249999999999999e-05, 'sd': 5e-05, 'bounds': (1.5e-05, 0.00015)}\n",
      "recovered 8.776450543160054e-05\n",
      "Generating hierarchical model for 20 subjects...\n",
      "Fitting 1 model(s) using VI...\n",
      "  Fitting model 1 of 1...\n"
     ]
    },
    {
     "name": "stderr",
     "output_type": "stream",
     "text": [
      "Finished [100%]: Average Loss = 8,408.1\n"
     ]
    },
    {
     "name": "stdout",
     "output_type": "stream",
     "text": [
      "/!\\ Automatically setting parameter precision...\n",
      "   gamma  gamma_hpd_2.5  gamma_hpd_97.5  gamma_mu  gamma_mu_hpd_2.5  \\\n",
      "0  -0.54      -0.677334       -0.409341 -0.562749         -0.644288   \n",
      "\n",
      "   gamma_mu_hpd_97.5         s  s_hpd_2.5  s_hpd_97.5      s_mu  \\\n",
      "0          -0.480381  0.008808   0.008001    0.010782  0.010378   \n",
      "\n",
      "       ...        tau_hpd_97.5    tau_mu  tau_mu_hpd_2.5  tau_mu_hpd_97.5  \\\n",
      "0      ...             1.81232  1.327994        1.165179         1.484585   \n",
      "\n",
      "          v  v_hpd_2.5  v_hpd_97.5      v_mu  v_mu_hpd_2.5  v_mu_hpd_97.5  \n",
      "0  0.000072   0.000064    0.000082  0.000086      0.000067       0.000105  \n",
      "\n",
      "[1 rows x 28 columns]\n",
      "level_set medium\n",
      "parameter_set {'mu': 8.249999999999999e-05, 'sd': 5e-05, 'bounds': (1.5e-05, 0.00015)}\n",
      "recovered 8.617417053894109e-05\n",
      "Generating hierarchical model for 20 subjects...\n",
      "Fitting 1 model(s) using VI...\n",
      "  Fitting model 1 of 1...\n"
     ]
    },
    {
     "name": "stderr",
     "output_type": "stream",
     "text": [
      "Finished [100%]: Average Loss = 8,037.2\n"
     ]
    },
    {
     "name": "stdout",
     "output_type": "stream",
     "text": [
      "/!\\ Automatically setting parameter precision...\n",
      "   gamma  gamma_hpd_2.5  gamma_hpd_97.5  gamma_mu  gamma_mu_hpd_2.5  \\\n",
      "0   0.28       0.239847        0.314164  0.131978         -0.010085   \n",
      "\n",
      "   gamma_mu_hpd_97.5         s  s_hpd_2.5  s_hpd_97.5      s_mu  \\\n",
      "0           0.261234  0.002043   0.001885    0.002194  0.003269   \n",
      "\n",
      "       ...        tau_hpd_97.5    tau_mu  tau_mu_hpd_2.5  tau_mu_hpd_97.5  \\\n",
      "0      ...            1.172722  0.860236        0.735652         0.994539   \n",
      "\n",
      "          v  v_hpd_2.5  v_hpd_97.5      v_mu  v_mu_hpd_2.5  v_mu_hpd_97.5  \n",
      "0  0.000079   0.000077    0.000081  0.000088       0.00007       0.000108  \n",
      "\n",
      "[1 rows x 28 columns]\n",
      "level_set medium\n",
      "parameter_set {'mu': 8.249999999999999e-05, 'sd': 5e-05, 'bounds': (1.5e-05, 0.00015)}\n",
      "recovered 8.826454706282024e-05\n",
      "Generating hierarchical model for 20 subjects...\n",
      "Fitting 1 model(s) using VI...\n",
      "  Fitting model 1 of 1...\n"
     ]
    },
    {
     "name": "stderr",
     "output_type": "stream",
     "text": [
      "Finished [100%]: Average Loss = 8,118.3\n"
     ]
    },
    {
     "name": "stdout",
     "output_type": "stream",
     "text": [
      "/!\\ Automatically setting parameter precision...\n",
      "   gamma  gamma_hpd_2.5  gamma_hpd_97.5  gamma_mu  gamma_mu_hpd_2.5  \\\n",
      "0    0.3       0.253368        0.357977  0.130032         -0.017024   \n",
      "\n",
      "   gamma_mu_hpd_97.5         s  s_hpd_2.5  s_hpd_97.5      s_mu  \\\n",
      "0           0.265105  0.002285   0.002072    0.002496  0.007247   \n",
      "\n",
      "       ...        tau_hpd_97.5    tau_mu  tau_mu_hpd_2.5  tau_mu_hpd_97.5  \\\n",
      "0      ...            1.162364  1.160509        1.058321         1.254232   \n",
      "\n",
      "         v  v_hpd_2.5  v_hpd_97.5      v_mu  v_mu_hpd_2.5  v_mu_hpd_97.5  \n",
      "0  0.00008   0.000078    0.000083  0.000083      0.000066       0.000101  \n",
      "\n",
      "[1 rows x 28 columns]\n",
      "level_set medium\n",
      "parameter_set {'mu': 8.249999999999999e-05, 'sd': 5e-05, 'bounds': (1.5e-05, 0.00015)}\n",
      "recovered 8.294518946789054e-05\n",
      "Generating hierarchical model for 20 subjects...\n",
      "Fitting 1 model(s) using VI...\n",
      "  Fitting model 1 of 1...\n"
     ]
    },
    {
     "name": "stderr",
     "output_type": "stream",
     "text": [
      "Finished [100%]: Average Loss = 8,284\n"
     ]
    },
    {
     "name": "stdout",
     "output_type": "stream",
     "text": [
      "/!\\ Automatically setting parameter precision...\n",
      "   gamma  gamma_hpd_2.5  gamma_hpd_97.5  gamma_mu  gamma_mu_hpd_2.5  \\\n",
      "0   0.23       0.086334        0.361562  0.133076          0.000624   \n",
      "\n",
      "   gamma_mu_hpd_97.5         s  s_hpd_2.5  s_hpd_97.5      s_mu  \\\n",
      "0           0.256549  0.008945   0.007744    0.010521  0.010155   \n",
      "\n",
      "       ...        tau_hpd_97.5    tau_mu  tau_mu_hpd_2.5  tau_mu_hpd_97.5  \\\n",
      "0      ...            1.984652  1.412593        1.250147         1.554363   \n",
      "\n",
      "          v  v_hpd_2.5  v_hpd_97.5      v_mu  v_mu_hpd_2.5  v_mu_hpd_97.5  \n",
      "0  0.000076   0.000067    0.000083  0.000081      0.000065       0.000099  \n",
      "\n",
      "[1 rows x 28 columns]\n",
      "level_set medium\n",
      "parameter_set {'mu': 8.249999999999999e-05, 'sd': 5e-05, 'bounds': (1.5e-05, 0.00015)}\n",
      "recovered 8.114155236935635e-05\n",
      "Generating hierarchical model for 20 subjects...\n",
      "Fitting 1 model(s) using VI...\n",
      "  Fitting model 1 of 1...\n"
     ]
    },
    {
     "name": "stderr",
     "output_type": "stream",
     "text": [
      "Finished [100%]: Average Loss = 7,720.7\n"
     ]
    },
    {
     "name": "stdout",
     "output_type": "stream",
     "text": [
      "/!\\ Automatically setting parameter precision...\n",
      "   gamma  gamma_hpd_2.5  gamma_hpd_97.5  gamma_mu  gamma_mu_hpd_2.5  \\\n",
      "0   0.92       0.840761        0.964321  0.849499          0.770757   \n",
      "\n",
      "   gamma_mu_hpd_97.5         s  s_hpd_2.5  s_hpd_97.5      s_mu  \\\n",
      "0           0.913575  0.002115   0.001917    0.002307  0.003976   \n",
      "\n",
      "       ...        tau_hpd_97.5    tau_mu  tau_mu_hpd_2.5  tau_mu_hpd_97.5  \\\n",
      "0      ...            1.169811  1.094901        0.981701          1.22276   \n",
      "\n",
      "         v  v_hpd_2.5  v_hpd_97.5      v_mu  v_mu_hpd_2.5  v_mu_hpd_97.5  \n",
      "0  0.00008   0.000078    0.000082  0.000083      0.000066       0.000102  \n",
      "\n",
      "[1 rows x 28 columns]\n",
      "level_set medium\n",
      "parameter_set {'mu': 8.249999999999999e-05, 'sd': 5e-05, 'bounds': (1.5e-05, 0.00015)}\n",
      "recovered 8.269673581937925e-05\n",
      "Generating hierarchical model for 20 subjects...\n",
      "Fitting 1 model(s) using VI...\n",
      "  Fitting model 1 of 1...\n"
     ]
    },
    {
     "name": "stderr",
     "output_type": "stream",
     "text": [
      "Finished [100%]: Average Loss = 9,269.8\n"
     ]
    },
    {
     "name": "stdout",
     "output_type": "stream",
     "text": [
      "/!\\ Automatically setting parameter precision...\n",
      "   gamma  gamma_hpd_2.5  gamma_hpd_97.5  gamma_mu  gamma_mu_hpd_2.5  \\\n",
      "0   0.55       0.121679        0.862932  0.565208          0.436848   \n",
      "\n",
      "   gamma_mu_hpd_97.5         s  s_hpd_2.5  s_hpd_97.5      s_mu  \\\n",
      "0           0.686157  0.002643   0.002574    0.002697  0.005166   \n",
      "\n",
      "       ...        tau_hpd_97.5    tau_mu  tau_mu_hpd_2.5  tau_mu_hpd_97.5  \\\n",
      "0      ...            0.040016  0.131367        0.087575         0.182111   \n",
      "\n",
      "          v  v_hpd_2.5  v_hpd_97.5      v_mu  v_mu_hpd_2.5  v_mu_hpd_97.5  \n",
      "0  0.000146   0.000142     0.00015  0.000108      0.000081       0.000138  \n",
      "\n",
      "[1 rows x 28 columns]\n",
      "level_set medium\n",
      "parameter_set {'mu': 8.249999999999999e-05, 'sd': 5e-05, 'bounds': (1.5e-05, 0.00015)}\n",
      "recovered 0.00010774321726452277\n",
      "Generating hierarchical model for 20 subjects...\n",
      "Fitting 1 model(s) using VI...\n",
      "  Fitting model 1 of 1...\n"
     ]
    },
    {
     "name": "stderr",
     "output_type": "stream",
     "text": [
      "Finished [100%]: Average Loss = 8,739.9\n"
     ]
    },
    {
     "name": "stdout",
     "output_type": "stream",
     "text": [
      "/!\\ Automatically setting parameter precision...\n",
      "   gamma  gamma_hpd_2.5  gamma_hpd_97.5  gamma_mu  gamma_mu_hpd_2.5  \\\n",
      "0   0.58       0.043386        0.868146  0.545863          0.405292   \n",
      "\n",
      "   gamma_mu_hpd_97.5         s  s_hpd_2.5  s_hpd_97.5      s_mu  \\\n",
      "0           0.687541  0.010228   0.009189    0.011434  0.010306   \n",
      "\n",
      "       ...        tau_hpd_97.5   tau_mu  tau_mu_hpd_2.5  tau_mu_hpd_97.5  \\\n",
      "0      ...             0.17472  0.22477        0.166714         0.286774   \n",
      "\n",
      "          v  v_hpd_2.5  v_hpd_97.5      v_mu  v_mu_hpd_2.5  v_mu_hpd_97.5  \n",
      "0  0.000122    0.00011    0.000138  0.000094      0.000071       0.000117  \n",
      "\n",
      "[1 rows x 28 columns]\n",
      "level_set medium\n",
      "parameter_set {'mu': 8.249999999999999e-05, 'sd': 5e-05, 'bounds': (1.5e-05, 0.00015)}\n",
      "recovered 9.404780638237254e-05\n",
      "Generating hierarchical model for 20 subjects...\n",
      "Fitting 1 model(s) using VI...\n",
      "  Fitting model 1 of 1...\n"
     ]
    },
    {
     "name": "stderr",
     "output_type": "stream",
     "text": [
      "Finished [100%]: Average Loss = 8,254.6\n"
     ]
    },
    {
     "name": "stdout",
     "output_type": "stream",
     "text": [
      "/!\\ Automatically setting parameter precision...\n",
      "   gamma  gamma_hpd_2.5  gamma_hpd_97.5  gamma_mu  gamma_mu_hpd_2.5  \\\n",
      "0  -0.93      -0.990531       -0.713669 -0.681283         -0.757297   \n",
      "\n",
      "   gamma_mu_hpd_97.5         s  s_hpd_2.5  s_hpd_97.5      s_mu  \\\n",
      "0          -0.615096  0.002693   0.002591    0.002794  0.002477   \n",
      "\n",
      "       ...        tau_hpd_97.5    tau_mu  tau_mu_hpd_2.5  tau_mu_hpd_97.5  \\\n",
      "0      ...            0.137361  0.145125         0.10011           0.1903   \n",
      "\n",
      "          v  v_hpd_2.5  v_hpd_97.5      v_mu  v_mu_hpd_2.5  v_mu_hpd_97.5  \n",
      "0  0.000163   0.000159    0.000168  0.000141      0.000124       0.000159  \n",
      "\n",
      "[1 rows x 28 columns]\n",
      "level_set high\n",
      "parameter_set {'mu': 0.0001365, 'sd': 5e-05, 'bounds': (1.5e-05, 0.00015)}\n",
      "recovered 0.00014127334569924183\n",
      "Generating hierarchical model for 20 subjects...\n",
      "Fitting 1 model(s) using VI...\n",
      "  Fitting model 1 of 1...\n"
     ]
    },
    {
     "name": "stderr",
     "output_type": "stream",
     "text": [
      "Finished [100%]: Average Loss = 8,868.7\n"
     ]
    },
    {
     "name": "stdout",
     "output_type": "stream",
     "text": [
      "/!\\ Automatically setting parameter precision...\n",
      "   gamma  gamma_hpd_2.5  gamma_hpd_97.5  gamma_mu  gamma_mu_hpd_2.5  \\\n",
      "0  -0.79      -0.929455        -0.33911 -0.635482         -0.727397   \n",
      "\n",
      "   gamma_mu_hpd_97.5        s  s_hpd_2.5  s_hpd_97.5      s_mu      ...        \\\n",
      "0          -0.531384  0.00808   0.006892    0.009704  0.004593      ...         \n",
      "\n",
      "   tau_hpd_97.5   tau_mu  tau_mu_hpd_2.5  tau_mu_hpd_97.5         v  \\\n",
      "0      0.206902  0.13428        0.099492         0.173742  0.000149   \n",
      "\n",
      "   v_hpd_2.5  v_hpd_97.5      v_mu  v_mu_hpd_2.5  v_mu_hpd_97.5  \n",
      "0   0.000136    0.000161  0.000146      0.000124       0.000169  \n",
      "\n",
      "[1 rows x 28 columns]\n",
      "level_set high\n",
      "parameter_set {'mu': 0.0001365, 'sd': 5e-05, 'bounds': (1.5e-05, 0.00015)}\n",
      "recovered 0.00014578656245784225\n",
      "Generating hierarchical model for 20 subjects...\n",
      "Fitting 1 model(s) using VI...\n",
      "  Fitting model 1 of 1...\n"
     ]
    },
    {
     "name": "stderr",
     "output_type": "stream",
     "text": [
      "Finished [100%]: Average Loss = 8,284.7\n"
     ]
    },
    {
     "name": "stdout",
     "output_type": "stream",
     "text": [
      "/!\\ Automatically setting parameter precision...\n",
      "   gamma  gamma_hpd_2.5  gamma_hpd_97.5  gamma_mu  gamma_mu_hpd_2.5  \\\n",
      "0  -0.78      -0.951462       -0.342805 -0.616314         -0.698607   \n",
      "\n",
      "   gamma_mu_hpd_97.5         s  s_hpd_2.5  s_hpd_97.5      s_mu  \\\n",
      "0          -0.524624  0.010577    0.00959    0.011835  0.010548   \n",
      "\n",
      "       ...        tau_hpd_97.5   tau_mu  tau_mu_hpd_2.5  tau_mu_hpd_97.5  \\\n",
      "0      ...            0.211954  0.24107        0.179263         0.309185   \n",
      "\n",
      "          v  v_hpd_2.5  v_hpd_97.5     v_mu  v_mu_hpd_2.5  v_mu_hpd_97.5  \n",
      "0  0.000152   0.000138     0.00017  0.00013      0.000112       0.000149  \n",
      "\n",
      "[1 rows x 28 columns]\n",
      "level_set high\n",
      "parameter_set {'mu': 0.0001365, 'sd': 5e-05, 'bounds': (1.5e-05, 0.00015)}\n",
      "recovered 0.0001303556838062281\n",
      "Generating hierarchical model for 20 subjects...\n",
      "Fitting 1 model(s) using VI...\n",
      "  Fitting model 1 of 1...\n"
     ]
    },
    {
     "name": "stderr",
     "output_type": "stream",
     "text": [
      "Finished [100%]: Average Loss = 8,230.5\n"
     ]
    },
    {
     "name": "stdout",
     "output_type": "stream",
     "text": [
      "/!\\ Automatically setting parameter precision...\n",
      "   gamma  gamma_hpd_2.5  gamma_hpd_97.5  gamma_mu  gamma_mu_hpd_2.5  \\\n",
      "0  -0.27      -0.574115        0.008218 -0.053217         -0.206823   \n",
      "\n",
      "   gamma_mu_hpd_97.5         s  s_hpd_2.5  s_hpd_97.5      s_mu  \\\n",
      "0           0.130216  0.002695   0.002607    0.002785  0.002474   \n",
      "\n",
      "       ...        tau_hpd_97.5    tau_mu  tau_mu_hpd_2.5  tau_mu_hpd_97.5  \\\n",
      "0      ...            0.078159  0.120462        0.080233         0.163249   \n",
      "\n",
      "         v  v_hpd_2.5  v_hpd_97.5      v_mu  v_mu_hpd_2.5  v_mu_hpd_97.5  \n",
      "0  0.00016   0.000156    0.000164  0.000138       0.00012       0.000154  \n",
      "\n",
      "[1 rows x 28 columns]\n",
      "level_set high\n",
      "parameter_set {'mu': 0.0001365, 'sd': 5e-05, 'bounds': (1.5e-05, 0.00015)}\n",
      "recovered 0.00013827449547110883\n",
      "Generating hierarchical model for 20 subjects...\n",
      "Fitting 1 model(s) using VI...\n",
      "  Fitting model 1 of 1...\n"
     ]
    },
    {
     "name": "stderr",
     "output_type": "stream",
     "text": [
      "INFO (theano.gof.compilelock): Waiting for existing lock by process '27097' (I am process '27094')\n",
      "INFO (theano.gof.compilelock): To manually release the lock, delete /Users/felixmolter/.theano/compiledir_Darwin-17.7.0-x86_64-i386-64bit-i386-3.6.8-64/lock_dir\n",
      "Finished [100%]: Average Loss = 8,929.1\n"
     ]
    },
    {
     "name": "stdout",
     "output_type": "stream",
     "text": [
      "/!\\ Automatically setting parameter precision...\n",
      "   gamma  gamma_hpd_2.5  gamma_hpd_97.5  gamma_mu  gamma_mu_hpd_2.5  \\\n",
      "0   -0.3      -0.662781        0.241108 -0.049356         -0.187072   \n",
      "\n",
      "   gamma_mu_hpd_97.5         s  s_hpd_2.5  s_hpd_97.5      s_mu  \\\n",
      "0           0.087411  0.002858   0.002804    0.002956  0.004315   \n",
      "\n",
      "       ...        tau_hpd_97.5    tau_mu  tau_mu_hpd_2.5  tau_mu_hpd_97.5  \\\n",
      "0      ...             0.04648  0.113046        0.072242         0.155807   \n",
      "\n",
      "          v  v_hpd_2.5  v_hpd_97.5      v_mu  v_mu_hpd_2.5  v_mu_hpd_97.5  \n",
      "0  0.000172   0.000168    0.000177  0.000144      0.000123       0.000167  \n",
      "\n",
      "[1 rows x 28 columns]\n",
      "level_set high\n",
      "parameter_set {'mu': 0.0001365, 'sd': 5e-05, 'bounds': (1.5e-05, 0.00015)}\n",
      "recovered 0.00014435279226503089\n",
      "Generating hierarchical model for 20 subjects...\n",
      "Fitting 1 model(s) using VI...\n",
      "  Fitting model 1 of 1...\n"
     ]
    },
    {
     "name": "stderr",
     "output_type": "stream",
     "text": [
      "Finished [100%]: Average Loss = 8,285.9\n"
     ]
    },
    {
     "name": "stdout",
     "output_type": "stream",
     "text": [
      "/!\\ Automatically setting parameter precision...\n",
      "   gamma  gamma_hpd_2.5  gamma_hpd_97.5  gamma_mu  gamma_mu_hpd_2.5  \\\n",
      "0  -0.25      -0.600232         0.30908 -0.052803         -0.214432   \n",
      "\n",
      "   gamma_mu_hpd_97.5         s  s_hpd_2.5  s_hpd_97.5      s_mu  \\\n",
      "0           0.102574  0.010098   0.009525    0.011853  0.010513   \n",
      "\n",
      "       ...        tau_hpd_97.5    tau_mu  tau_mu_hpd_2.5  tau_mu_hpd_97.5  \\\n",
      "0      ...            0.187466  0.217256        0.159016          0.27349   \n",
      "\n",
      "          v  v_hpd_2.5  v_hpd_97.5      v_mu  v_mu_hpd_2.5  v_mu_hpd_97.5  \n",
      "0  0.000149   0.000137    0.000168  0.000128       0.00011       0.000147  \n",
      "\n",
      "[1 rows x 28 columns]\n",
      "level_set high\n",
      "parameter_set {'mu': 0.0001365, 'sd': 5e-05, 'bounds': (1.5e-05, 0.00015)}\n",
      "recovered 0.0001277016981862139\n",
      "Generating hierarchical model for 20 subjects...\n",
      "Fitting 1 model(s) using VI...\n",
      "  Fitting model 1 of 1...\n"
     ]
    },
    {
     "name": "stderr",
     "output_type": "stream",
     "text": [
      "Finished [100%]: Average Loss = 8,659.3\n"
     ]
    },
    {
     "name": "stdout",
     "output_type": "stream",
     "text": [
      "/!\\ Automatically setting parameter precision...\n",
      "   gamma  gamma_hpd_2.5  gamma_hpd_97.5  gamma_mu  gamma_mu_hpd_2.5  \\\n",
      "0   0.96       0.690134        0.995508  0.650667          0.493718   \n",
      "\n",
      "   gamma_mu_hpd_97.5         s  s_hpd_2.5  s_hpd_97.5      s_mu  \\\n",
      "0            0.80539  0.004533   0.003446    0.006388  0.005491   \n",
      "\n",
      "       ...        tau_hpd_97.5    tau_mu  tau_mu_hpd_2.5  tau_mu_hpd_97.5  \\\n",
      "0      ...            0.556468  0.461067        0.374614         0.553932   \n",
      "\n",
      "          v  v_hpd_2.5  v_hpd_97.5      v_mu  v_mu_hpd_2.5  v_mu_hpd_97.5  \n",
      "0  0.000068   0.000063    0.000073  0.000096      0.000069       0.000125  \n",
      "\n",
      "[1 rows x 28 columns]\n",
      "level_set medium\n",
      "parameter_set {'mu': 8.249999999999999e-05, 'sd': 5e-05, 'bounds': (1.5e-05, 0.00015)}\n",
      "recovered 9.551144902747796e-05\n",
      "Generating hierarchical model for 20 subjects...\n",
      "Fitting 1 model(s) using VI...\n",
      "  Fitting model 1 of 1...\n"
     ]
    },
    {
     "name": "stderr",
     "output_type": "stream",
     "text": [
      "Finished [100%]: Average Loss = 8,476.3\n"
     ]
    },
    {
     "name": "stdout",
     "output_type": "stream",
     "text": [
      "/!\\ Automatically setting parameter precision...\n",
      "   gamma  gamma_hpd_2.5  gamma_hpd_97.5  gamma_mu  gamma_mu_hpd_2.5  \\\n",
      "0   0.95       0.586298        0.993447  0.629319           0.47481   \n",
      "\n",
      "   gamma_mu_hpd_97.5         s  s_hpd_2.5  s_hpd_97.5      s_mu  \\\n",
      "0           0.771406  0.009492   0.008155    0.010582  0.010103   \n",
      "\n",
      "       ...        tau_hpd_97.5    tau_mu  tau_mu_hpd_2.5  tau_mu_hpd_97.5  \\\n",
      "0      ...            0.915775  0.651733        0.570163         0.734707   \n",
      "\n",
      "          v  v_hpd_2.5  v_hpd_97.5      v_mu  v_mu_hpd_2.5  v_mu_hpd_97.5  \n",
      "0  0.000063   0.000056    0.000072  0.000086      0.000063       0.000107  \n",
      "\n",
      "[1 rows x 28 columns]\n",
      "level_set medium\n",
      "parameter_set {'mu': 8.249999999999999e-05, 'sd': 5e-05, 'bounds': (1.5e-05, 0.00015)}\n",
      "recovered 8.550334207498063e-05\n",
      "Generating hierarchical model for 20 subjects...\n",
      "Fitting 1 model(s) using VI...\n",
      "  Fitting model 1 of 1...\n"
     ]
    },
    {
     "name": "stderr",
     "output_type": "stream",
     "text": [
      "Finished [100%]: Average Loss = 7,915.1\n"
     ]
    },
    {
     "name": "stdout",
     "output_type": "stream",
     "text": [
      "/!\\ Automatically setting parameter precision...\n",
      "   gamma  gamma_hpd_2.5  gamma_hpd_97.5  gamma_mu  gamma_mu_hpd_2.5  \\\n",
      "0  -0.43      -0.496875       -0.354248 -0.644395         -0.739226   \n",
      "\n",
      "   gamma_mu_hpd_97.5        s  s_hpd_2.5  s_hpd_97.5      s_mu      ...        \\\n",
      "0          -0.553668  0.00243     0.0023    0.002562  0.002803      ...         \n",
      "\n",
      "   tau_hpd_97.5    tau_mu  tau_mu_hpd_2.5  tau_mu_hpd_97.5         v  \\\n",
      "0      0.506312  0.418087        0.351398         0.493326  0.000124   \n",
      "\n",
      "   v_hpd_2.5  v_hpd_97.5     v_mu  v_mu_hpd_2.5  v_mu_hpd_97.5  \n",
      "0   0.000121    0.000128  0.00014       0.00012       0.000161  \n",
      "\n",
      "[1 rows x 28 columns]\n",
      "level_set high\n",
      "parameter_set {'mu': 0.0001365, 'sd': 5e-05, 'bounds': (1.5e-05, 0.00015)}\n",
      "recovered 0.00014030691367723002\n",
      "Generating hierarchical model for 20 subjects...\n",
      "Fitting 1 model(s) using VI...\n",
      "  Fitting model 1 of 1...\n"
     ]
    },
    {
     "name": "stderr",
     "output_type": "stream",
     "text": [
      "Finished [100%]: Average Loss = 8,440.6\n"
     ]
    },
    {
     "name": "stdout",
     "output_type": "stream",
     "text": [
      "/!\\ Automatically setting parameter precision...\n",
      "   gamma  gamma_hpd_2.5  gamma_hpd_97.5  gamma_mu  gamma_mu_hpd_2.5  \\\n",
      "0  -0.62      -0.680999       -0.492783 -0.668605         -0.759309   \n",
      "\n",
      "   gamma_mu_hpd_97.5         s  s_hpd_2.5  s_hpd_97.5      s_mu  \\\n",
      "0          -0.559957  0.002421   0.002274    0.002562  0.004533   \n",
      "\n",
      "       ...        tau_hpd_97.5    tau_mu  tau_mu_hpd_2.5  tau_mu_hpd_97.5  \\\n",
      "0      ...            0.553169  0.409037        0.329414         0.497928   \n",
      "\n",
      "          v  v_hpd_2.5  v_hpd_97.5      v_mu  v_mu_hpd_2.5  v_mu_hpd_97.5  \n",
      "0  0.000123   0.000119    0.000126  0.000147      0.000121       0.000171  \n",
      "\n",
      "[1 rows x 28 columns]\n",
      "level_set high\n",
      "parameter_set {'mu': 0.0001365, 'sd': 5e-05, 'bounds': (1.5e-05, 0.00015)}\n",
      "recovered 0.00014724416524255913\n",
      "Generating hierarchical model for 20 subjects...\n",
      "Fitting 1 model(s) using VI...\n",
      "  Fitting model 1 of 1...\n"
     ]
    },
    {
     "name": "stderr",
     "output_type": "stream",
     "text": [
      "Finished [100%]: Average Loss = 7,965.9\n"
     ]
    },
    {
     "name": "stdout",
     "output_type": "stream",
     "text": [
      "/!\\ Automatically setting parameter precision...\n",
      "   gamma  gamma_hpd_2.5  gamma_hpd_97.5  gamma_mu  gamma_mu_hpd_2.5  \\\n",
      "0  -0.48      -0.621663        -0.26859 -0.653475         -0.729463   \n",
      "\n",
      "   gamma_mu_hpd_97.5         s  s_hpd_2.5  s_hpd_97.5      s_mu  \\\n",
      "0          -0.577296  0.009415   0.008473    0.011002  0.010232   \n",
      "\n",
      "       ...        tau_hpd_97.5    tau_mu  tau_mu_hpd_2.5  tau_mu_hpd_97.5  \\\n",
      "0      ...             0.93303  0.691402        0.563111         0.808174   \n",
      "\n",
      "          v  v_hpd_2.5  v_hpd_97.5     v_mu  v_mu_hpd_2.5  v_mu_hpd_97.5  \n",
      "0  0.000109   0.000099    0.000121  0.00013      0.000109        0.00015  \n",
      "\n",
      "[1 rows x 28 columns]\n",
      "level_set high\n",
      "parameter_set {'mu': 0.0001365, 'sd': 5e-05, 'bounds': (1.5e-05, 0.00015)}\n",
      "recovered 0.00012956754721962094\n",
      "Generating hierarchical model for 20 subjects...\n",
      "Fitting 1 model(s) using VI...\n",
      "  Fitting model 1 of 1...\n"
     ]
    },
    {
     "name": "stderr",
     "output_type": "stream",
     "text": [
      "Finished [100%]: Average Loss = 7,751.2\n"
     ]
    },
    {
     "name": "stdout",
     "output_type": "stream",
     "text": [
      "/!\\ Automatically setting parameter precision...\n",
      "   gamma  gamma_hpd_2.5  gamma_hpd_97.5  gamma_mu  gamma_mu_hpd_2.5  \\\n",
      "0   0.33       0.252895        0.402395 -0.070781         -0.260781   \n",
      "\n",
      "   gamma_mu_hpd_97.5         s  s_hpd_2.5  s_hpd_97.5      s_mu  \\\n",
      "0           0.117566  0.002428   0.002299    0.002556  0.002494   \n",
      "\n",
      "       ...        tau_hpd_97.5    tau_mu  tau_mu_hpd_2.5  tau_mu_hpd_97.5  \\\n",
      "0      ...            0.511595  0.396154        0.320101          0.46779   \n",
      "\n",
      "          v  v_hpd_2.5  v_hpd_97.5      v_mu  v_mu_hpd_2.5  v_mu_hpd_97.5  \n",
      "0  0.000123    0.00012    0.000126  0.000133      0.000117        0.00015  \n",
      "\n",
      "[1 rows x 28 columns]\n",
      "level_set high\n",
      "parameter_set {'mu': 0.0001365, 'sd': 5e-05, 'bounds': (1.5e-05, 0.00015)}\n",
      "recovered 0.0001331145983173384\n",
      "Generating hierarchical model for 20 subjects...\n"
     ]
    },
    {
     "name": "stderr",
     "output_type": "stream",
     "text": [
      "INFO (theano.gof.compilelock): Waiting for existing lock by process '27094' (I am process '27097')\n",
      "INFO (theano.gof.compilelock): To manually release the lock, delete /Users/felixmolter/.theano/compiledir_Darwin-17.7.0-x86_64-i386-64bit-i386-3.6.8-64/lock_dir\n"
     ]
    },
    {
     "name": "stdout",
     "output_type": "stream",
     "text": [
      "Fitting 1 model(s) using VI...\n",
      "  Fitting model 1 of 1...\n"
     ]
    },
    {
     "name": "stderr",
     "output_type": "stream",
     "text": [
      "Finished [100%]: Average Loss = 8,452.1\n"
     ]
    },
    {
     "name": "stdout",
     "output_type": "stream",
     "text": [
      "/!\\ Automatically setting parameter precision...\n",
      "   gamma  gamma_hpd_2.5  gamma_hpd_97.5  gamma_mu  gamma_mu_hpd_2.5  \\\n",
      "0   0.34       0.223947        0.422996 -0.056675         -0.249241   \n",
      "\n",
      "   gamma_mu_hpd_97.5        s  s_hpd_2.5  s_hpd_97.5      s_mu      ...        \\\n",
      "0           0.128202  0.00246   0.002362    0.002593  0.004194      ...         \n",
      "\n",
      "   tau_hpd_97.5    tau_mu  tau_mu_hpd_2.5  tau_mu_hpd_97.5         v  \\\n",
      "0      0.397151  0.325763        0.274783          0.38188  0.000128   \n",
      "\n",
      "   v_hpd_2.5  v_hpd_97.5      v_mu  v_mu_hpd_2.5  v_mu_hpd_97.5  \n",
      "0   0.000125    0.000132  0.000144      0.000118       0.000168  \n",
      "\n",
      "[1 rows x 28 columns]\n",
      "level_set high\n",
      "parameter_set {'mu': 0.0001365, 'sd': 5e-05, 'bounds': (1.5e-05, 0.00015)}\n",
      "recovered 0.00014392804137430034\n",
      "Generating hierarchical model for 20 subjects...\n",
      "Fitting 1 model(s) using VI...\n",
      "  Fitting model 1 of 1...\n"
     ]
    },
    {
     "name": "stderr",
     "output_type": "stream",
     "text": [
      "Finished [100%]: Average Loss = 7,934.1\n"
     ]
    },
    {
     "name": "stdout",
     "output_type": "stream",
     "text": [
      "/!\\ Automatically setting parameter precision...\n",
      "   gamma  gamma_hpd_2.5  gamma_hpd_97.5  gamma_mu  gamma_mu_hpd_2.5  \\\n",
      "0    0.4       0.157174        0.515839 -0.019849         -0.223702   \n",
      "\n",
      "   gamma_mu_hpd_97.5         s  s_hpd_2.5  s_hpd_97.5      s_mu  \\\n",
      "0           0.166352  0.009112   0.008308    0.010616  0.010102   \n",
      "\n",
      "       ...        tau_hpd_97.5    tau_mu  tau_mu_hpd_2.5  tau_mu_hpd_97.5  \\\n",
      "0      ...            0.823257  0.583978        0.497438         0.675062   \n",
      "\n",
      "          v  v_hpd_2.5  v_hpd_97.5      v_mu  v_mu_hpd_2.5  v_mu_hpd_97.5  \n",
      "0  0.000113   0.000103    0.000126  0.000124      0.000107       0.000143  \n",
      "\n",
      "[1 rows x 28 columns]\n",
      "level_set high\n",
      "parameter_set {'mu': 0.0001365, 'sd': 5e-05, 'bounds': (1.5e-05, 0.00015)}\n",
      "recovered 0.0001243920616757348\n",
      "Generating hierarchical model for 20 subjects...\n",
      "Fitting 1 model(s) using VI...\n",
      "  Fitting model 1 of 1...\n"
     ]
    },
    {
     "name": "stderr",
     "output_type": "stream",
     "text": [
      "Finished [100%]: Average Loss = 8,049.5\n",
      "INFO (theano.gof.compilelock): Waiting for existing lock by process '27095' (I am process '27090')\n",
      "INFO (theano.gof.compilelock): To manually release the lock, delete /Users/felixmolter/.theano/compiledir_Darwin-17.7.0-x86_64-i386-64bit-i386-3.6.8-64/lock_dir\n"
     ]
    },
    {
     "name": "stdout",
     "output_type": "stream",
     "text": [
      "/!\\ Automatically setting parameter precision...\n",
      "   gamma  gamma_hpd_2.5  gamma_hpd_97.5  gamma_mu  gamma_mu_hpd_2.5  \\\n",
      "0    0.9        0.67953        0.973535  0.700593          0.578695   \n",
      "\n",
      "   gamma_mu_hpd_97.5         s  s_hpd_2.5  s_hpd_97.5      s_mu  \\\n",
      "0           0.810754  0.006917   0.005962     0.00841  0.006177   \n",
      "\n",
      "       ...        tau_hpd_97.5    tau_mu  tau_mu_hpd_2.5  tau_mu_hpd_97.5  \\\n",
      "0      ...            1.350247  0.909268         0.77471         1.040836   \n",
      "\n",
      "          v  v_hpd_2.5  v_hpd_97.5      v_mu  v_mu_hpd_2.5  v_mu_hpd_97.5  \n",
      "0  0.000063   0.000057    0.000069  0.000096      0.000074       0.000119  \n",
      "\n",
      "[1 rows x 28 columns]\n",
      "level_set medium\n",
      "parameter_set {'mu': 8.249999999999999e-05, 'sd': 5e-05, 'bounds': (1.5e-05, 0.00015)}\n",
      "recovered 9.621080711573592e-05\n",
      "Generating hierarchical model for 20 subjects...\n",
      "Fitting 1 model(s) using VI...\n",
      "  Fitting model 1 of 1...\n"
     ]
    },
    {
     "name": "stderr",
     "output_type": "stream",
     "text": [
      "Finished [100%]: Average Loss = 8,184.2\n"
     ]
    },
    {
     "name": "stdout",
     "output_type": "stream",
     "text": [
      "/!\\ Automatically setting parameter precision...\n",
      "   gamma  gamma_hpd_2.5  gamma_hpd_97.5  gamma_mu  gamma_mu_hpd_2.5  \\\n",
      "0   0.86       0.556358         0.95819   0.69004          0.556898   \n",
      "\n",
      "   gamma_mu_hpd_97.5         s  s_hpd_2.5  s_hpd_97.5      s_mu  \\\n",
      "0           0.788612  0.010334    0.00918    0.011253  0.010018   \n",
      "\n",
      "       ...        tau_hpd_97.5   tau_mu  tau_mu_hpd_2.5  tau_mu_hpd_97.5  \\\n",
      "0      ...            1.681407  1.10537        0.963729         1.251427   \n",
      "\n",
      "          v  v_hpd_2.5  v_hpd_97.5     v_mu  v_mu_hpd_2.5  v_mu_hpd_97.5  \n",
      "0  0.000059   0.000051    0.000069  0.00009       0.00007       0.000112  \n",
      "\n",
      "[1 rows x 28 columns]\n",
      "level_set medium\n",
      "parameter_set {'mu': 8.249999999999999e-05, 'sd': 5e-05, 'bounds': (1.5e-05, 0.00015)}\n",
      "recovered 9.018584280241667e-05\n",
      "Generating hierarchical model for 20 subjects...\n",
      "Fitting 1 model(s) using VI...\n",
      "  Fitting model 1 of 1...\n"
     ]
    },
    {
     "name": "stderr",
     "output_type": "stream",
     "text": [
      "Finished [100%]: Average Loss = 8,009.8\n"
     ]
    },
    {
     "name": "stdout",
     "output_type": "stream",
     "text": [
      "/!\\ Automatically setting parameter precision...\n",
      "   gamma  gamma_hpd_2.5  gamma_hpd_97.5  gamma_mu  gamma_mu_hpd_2.5  \\\n",
      "0  -0.66      -0.724978       -0.592156 -0.652148         -0.720372   \n",
      "\n",
      "   gamma_mu_hpd_97.5         s  s_hpd_2.5  s_hpd_97.5      s_mu  \\\n",
      "0          -0.584948  0.002578   0.002475     0.00269  0.002801   \n",
      "\n",
      "       ...        tau_hpd_97.5    tau_mu  tau_mu_hpd_2.5  tau_mu_hpd_97.5  \\\n",
      "0      ...            0.586403  0.505077         0.36568         0.644416   \n",
      "\n",
      "          v  v_hpd_2.5  v_hpd_97.5      v_mu  v_mu_hpd_2.5  v_mu_hpd_97.5  \n",
      "0  0.000146   0.000141     0.00015  0.000165      0.000145       0.000189  \n",
      "\n",
      "[1 rows x 28 columns]\n",
      "level_set high\n",
      "parameter_set {'mu': 0.0001365, 'sd': 5e-05, 'bounds': (1.5e-05, 0.00015)}\n",
      "recovered 0.0001654461100355343\n",
      "Generating hierarchical model for 20 subjects...\n",
      "Fitting 1 model(s) using VI...\n",
      "  Fitting model 1 of 1...\n"
     ]
    },
    {
     "name": "stderr",
     "output_type": "stream",
     "text": [
      "Finished [100%]: Average Loss = 7,825.2\n"
     ]
    },
    {
     "name": "stdout",
     "output_type": "stream",
     "text": [
      "/!\\ Automatically setting parameter precision...\n",
      "   gamma  gamma_hpd_2.5  gamma_hpd_97.5  gamma_mu  gamma_mu_hpd_2.5  \\\n",
      "0  -0.65      -0.731193       -0.586256 -0.657731         -0.717106   \n",
      "\n",
      "   gamma_mu_hpd_97.5         s  s_hpd_2.5  s_hpd_97.5    s_mu      ...        \\\n",
      "0          -0.599655  0.004606   0.002544    0.006751  0.0065      ...         \n",
      "\n",
      "   tau_hpd_97.5    tau_mu  tau_mu_hpd_2.5  tau_mu_hpd_97.5         v  \\\n",
      "0      0.960488  1.033656         0.78557         1.308099  0.000144   \n",
      "\n",
      "   v_hpd_2.5  v_hpd_97.5      v_mu  v_mu_hpd_2.5  v_mu_hpd_97.5  \n",
      "0   0.000135    0.000155  0.000151      0.000126       0.000175  \n",
      "\n",
      "[1 rows x 28 columns]\n",
      "level_set high\n",
      "parameter_set {'mu': 0.0001365, 'sd': 5e-05, 'bounds': (1.5e-05, 0.00015)}\n",
      "recovered 0.0001511176099617029\n"
     ]
    },
    {
     "name": "stderr",
     "output_type": "stream",
     "text": [
      "Finished [100%]: Average Loss = 7,637.2\n"
     ]
    },
    {
     "name": "stdout",
     "output_type": "stream",
     "text": [
      "/!\\ Automatically setting parameter precision...\n",
      "   gamma  gamma_hpd_2.5  gamma_hpd_97.5  gamma_mu  gamma_mu_hpd_2.5  \\\n",
      "0  -0.71      -0.813622       -0.625826 -0.643143         -0.695785   \n",
      "\n",
      "   gamma_mu_hpd_97.5         s  s_hpd_2.5  s_hpd_97.5      s_mu  \\\n",
      "0           -0.58595  0.010571   0.009655    0.011874  0.010929   \n",
      "\n",
      "       ...        tau_hpd_97.5    tau_mu  tau_mu_hpd_2.5  tau_mu_hpd_97.5  \\\n",
      "0      ...            1.338379  1.327699        1.145202         1.524591   \n",
      "\n",
      "          v  v_hpd_2.5  v_hpd_97.5      v_mu  v_mu_hpd_2.5  v_mu_hpd_97.5  \n",
      "0  0.000129   0.000112    0.000142  0.000136      0.000119       0.000155  \n",
      "\n",
      "[1 rows x 28 columns]\n",
      "level_set high\n",
      "parameter_set {'mu': 0.0001365, 'sd': 5e-05, 'bounds': (1.5e-05, 0.00015)}\n",
      "recovered 0.00013643022070123013\n"
     ]
    },
    {
     "name": "stderr",
     "output_type": "stream",
     "text": [
      "Finished [100%]: Average Loss = 7,188.5\n"
     ]
    },
    {
     "name": "stdout",
     "output_type": "stream",
     "text": [
      "/!\\ Automatically setting parameter precision...\n",
      "   gamma  gamma_hpd_2.5  gamma_hpd_97.5  gamma_mu  gamma_mu_hpd_2.5  \\\n",
      "0   0.18       0.115312        0.235929  -0.01351         -0.146607   \n",
      "\n",
      "   gamma_mu_hpd_97.5         s  s_hpd_2.5  s_hpd_97.5      s_mu  \\\n",
      "0           0.111692  0.002555    0.00242    0.002741  0.002962   \n",
      "\n",
      "       ...        tau_hpd_97.5    tau_mu  tau_mu_hpd_2.5  tau_mu_hpd_97.5  \\\n",
      "0      ...            0.652754  0.797069        0.704148         0.899159   \n",
      "\n",
      "          v  v_hpd_2.5  v_hpd_97.5      v_mu  v_mu_hpd_2.5  v_mu_hpd_97.5  \n",
      "0  0.000133    0.00013    0.000137  0.000139      0.000123       0.000155  \n",
      "\n",
      "[1 rows x 28 columns]\n",
      "level_set high\n",
      "parameter_set {'mu': 0.0001365, 'sd': 5e-05, 'bounds': (1.5e-05, 0.00015)}\n",
      "recovered 0.00013941021772918112\n"
     ]
    },
    {
     "name": "stderr",
     "output_type": "stream",
     "text": [
      "Finished [100%]: Average Loss = 7,653.5\n"
     ]
    },
    {
     "name": "stdout",
     "output_type": "stream",
     "text": [
      "/!\\ Automatically setting parameter precision...\n",
      "   gamma  gamma_hpd_2.5  gamma_hpd_97.5  gamma_mu  gamma_mu_hpd_2.5  \\\n",
      "0   0.22       0.088515        0.347362 -0.014591         -0.148705   \n",
      "\n",
      "   gamma_mu_hpd_97.5         s  s_hpd_2.5  s_hpd_97.5      s_mu  \\\n",
      "0           0.103742  0.002763   0.002621    0.002862  0.005774   \n",
      "\n",
      "       ...        tau_hpd_97.5    tau_mu  tau_mu_hpd_2.5  tau_mu_hpd_97.5  \\\n",
      "0      ...            0.417269  0.923325        0.755701         1.107574   \n",
      "\n",
      "         v  v_hpd_2.5  v_hpd_97.5      v_mu  v_mu_hpd_2.5  v_mu_hpd_97.5  \n",
      "0  0.00015   0.000146    0.000156  0.000139      0.000119       0.000159  \n",
      "\n",
      "[1 rows x 28 columns]\n",
      "level_set high\n",
      "parameter_set {'mu': 0.0001365, 'sd': 5e-05, 'bounds': (1.5e-05, 0.00015)}\n",
      "recovered 0.0001390849169874914\n"
     ]
    },
    {
     "name": "stderr",
     "output_type": "stream",
     "text": [
      "Finished [100%]: Average Loss = 7,563.2\n"
     ]
    },
    {
     "name": "stdout",
     "output_type": "stream",
     "text": [
      "/!\\ Automatically setting parameter precision...\n",
      "   gamma  gamma_hpd_2.5  gamma_hpd_97.5  gamma_mu  gamma_mu_hpd_2.5  \\\n",
      "0   0.16       0.036387        0.289828 -0.029736         -0.155693   \n",
      "\n",
      "   gamma_mu_hpd_97.5         s  s_hpd_2.5  s_hpd_97.5      s_mu  \\\n",
      "0           0.109279  0.010124   0.009162     0.01149  0.010556   \n",
      "\n",
      "       ...        tau_hpd_97.5    tau_mu  tau_mu_hpd_2.5  tau_mu_hpd_97.5  \\\n",
      "0      ...            1.616422  1.321406        1.198148         1.436299   \n",
      "\n",
      "          v  v_hpd_2.5  v_hpd_97.5      v_mu  v_mu_hpd_2.5  v_mu_hpd_97.5  \n",
      "0  0.000118   0.000105    0.000127  0.000125       0.00011       0.000141  \n",
      "\n",
      "[1 rows x 28 columns]\n",
      "level_set high\n",
      "parameter_set {'mu': 0.0001365, 'sd': 5e-05, 'bounds': (1.5e-05, 0.00015)}\n",
      "recovered 0.00012482522693146248\n"
     ]
    },
    {
     "name": "stderr",
     "output_type": "stream",
     "text": [
      "Finished [100%]: Average Loss = 7,857.7\n"
     ]
    },
    {
     "name": "stdout",
     "output_type": "stream",
     "text": [
      "/!\\ Automatically setting parameter precision...\n",
      "   gamma  gamma_hpd_2.5  gamma_hpd_97.5  gamma_mu  gamma_mu_hpd_2.5  \\\n",
      "0   0.15       0.028084        0.310067  0.708938           0.60211   \n",
      "\n",
      "   gamma_mu_hpd_97.5         s  s_hpd_2.5  s_hpd_97.5      s_mu  \\\n",
      "0           0.813192  0.002783   0.002628    0.002948  0.002662   \n",
      "\n",
      "       ...        tau_hpd_97.5    tau_mu  tau_mu_hpd_2.5  tau_mu_hpd_97.5  \\\n",
      "0      ...             0.25174  0.167707        0.129713         0.210874   \n",
      "\n",
      "          v  v_hpd_2.5  v_hpd_97.5      v_mu  v_mu_hpd_2.5  v_mu_hpd_97.5  \n",
      "0  0.000165    0.00016    0.000171  0.000138      0.000122       0.000152  \n",
      "\n",
      "[1 rows x 28 columns]\n",
      "level_set high\n",
      "parameter_set {'mu': 0.0001365, 'sd': 5e-05, 'bounds': (1.5e-05, 0.00015)}\n",
      "recovered 0.00013775498422652292\n",
      "Generating hierarchical model for 20 subjects...\n",
      "Fitting 1 model(s) using VI...\n",
      "  Fitting model 1 of 1...\n"
     ]
    },
    {
     "name": "stderr",
     "output_type": "stream",
     "text": [
      "Finished [100%]: Average Loss = 8,696.9\n"
     ]
    },
    {
     "name": "stdout",
     "output_type": "stream",
     "text": [
      "/!\\ Automatically setting parameter precision...\n",
      "   gamma  gamma_hpd_2.5  gamma_hpd_97.5  gamma_mu  gamma_mu_hpd_2.5  \\\n",
      "0   0.35       0.179952        0.520738  0.693802          0.597017   \n",
      "\n",
      "   gamma_mu_hpd_97.5        s  s_hpd_2.5  s_hpd_97.5      s_mu      ...        \\\n",
      "0            0.78411  0.00862   0.007559     0.01036  0.004496      ...         \n",
      "\n",
      "   tau_hpd_97.5    tau_mu  tau_mu_hpd_2.5  tau_mu_hpd_97.5         v  \\\n",
      "0      0.562585  0.181246        0.122262         0.253546  0.000139   \n",
      "\n",
      "   v_hpd_2.5  v_hpd_97.5      v_mu  v_mu_hpd_2.5  v_mu_hpd_97.5  \n",
      "0    0.00013    0.000155  0.000143      0.000127       0.000161  \n",
      "\n",
      "[1 rows x 28 columns]\n",
      "level_set high\n",
      "parameter_set {'mu': 0.0001365, 'sd': 5e-05, 'bounds': (1.5e-05, 0.00015)}\n",
      "recovered 0.00014282449808676625\n",
      "Generating hierarchical model for 20 subjects...\n",
      "Fitting 1 model(s) using VI...\n",
      "  Fitting model 1 of 1...\n"
     ]
    },
    {
     "name": "stderr",
     "output_type": "stream",
     "text": [
      "Finished [100%]: Average Loss = 8,071.4\n"
     ]
    },
    {
     "name": "stdout",
     "output_type": "stream",
     "text": [
      "/!\\ Automatically setting parameter precision...\n",
      "   gamma  gamma_hpd_2.5  gamma_hpd_97.5  gamma_mu  gamma_mu_hpd_2.5  \\\n",
      "0   0.26       0.086927        0.510296  0.641902          0.534961   \n",
      "\n",
      "   gamma_mu_hpd_97.5         s  s_hpd_2.5  s_hpd_97.5      s_mu  \\\n",
      "0             0.7505  0.010634   0.009801    0.012151  0.010142   \n",
      "\n",
      "       ...        tau_hpd_97.5    tau_mu  tau_mu_hpd_2.5  tau_mu_hpd_97.5  \\\n",
      "0      ...             0.48443  0.287038         0.21697         0.360622   \n",
      "\n",
      "          v  v_hpd_2.5  v_hpd_97.5      v_mu  v_mu_hpd_2.5  v_mu_hpd_97.5  \n",
      "0  0.000154   0.000136    0.000167  0.000128      0.000113       0.000142  \n",
      "\n",
      "[1 rows x 28 columns]\n",
      "level_set high\n",
      "parameter_set {'mu': 0.0001365, 'sd': 5e-05, 'bounds': (1.5e-05, 0.00015)}\n",
      "recovered 0.00012754482323183554\n",
      "Generating hierarchical model for 20 subjects...\n",
      "Fitting 1 model(s) using VI...\n",
      "  Fitting model 1 of 1...\n"
     ]
    },
    {
     "name": "stderr",
     "output_type": "stream",
     "text": [
      "Finished [100%]: Average Loss = 7,291\n"
     ]
    },
    {
     "name": "stdout",
     "output_type": "stream",
     "text": [
      "/!\\ Automatically setting parameter precision...\n",
      "   gamma  gamma_hpd_2.5  gamma_hpd_97.5  gamma_mu  gamma_mu_hpd_2.5  \\\n",
      "0   0.48       0.425082        0.544538   0.67394          0.566008   \n",
      "\n",
      "   gamma_mu_hpd_97.5         s  s_hpd_2.5  s_hpd_97.5      s_mu  \\\n",
      "0           0.775539  0.003024   0.002797    0.003451  0.002893   \n",
      "\n",
      "       ...        tau_hpd_97.5    tau_mu  tau_mu_hpd_2.5  tau_mu_hpd_97.5  \\\n",
      "0      ...            0.981068  0.512608        0.421553         0.599224   \n",
      "\n",
      "          v  v_hpd_2.5  v_hpd_97.5      v_mu  v_mu_hpd_2.5  v_mu_hpd_97.5  \n",
      "0  0.000147   0.000143    0.000152  0.000127      0.000107       0.000147  \n",
      "\n",
      "[1 rows x 28 columns]\n",
      "level_set high\n",
      "parameter_set {'mu': 0.0001365, 'sd': 5e-05, 'bounds': (1.5e-05, 0.00015)}\n",
      "recovered 0.00012659418448934137\n",
      "Generating hierarchical model for 20 subjects...\n",
      "Fitting 1 model(s) using VI...\n",
      "  Fitting model 1 of 1...\n"
     ]
    },
    {
     "name": "stderr",
     "output_type": "stream",
     "text": [
      "Finished [100%]: Average Loss = 8,037.1\n"
     ]
    }
   ],
   "source": [
    "from multiprocessing import Pool\n",
    "\n",
    "n_cores = 8\n",
    "p = Pool(n_cores)\n",
    "\n",
    "output = p.map(wrapper, pr.generate_hierarchical_parameter_sets(parameter_info))"
   ]
  },
  {
   "cell_type": "markdown",
   "metadata": {},
   "source": [
    "## Combine results"
   ]
  },
  {
   "cell_type": "code",
   "execution_count": null,
   "metadata": {},
   "outputs": [],
   "source": [
    "filenames = [file for file in listdir(partial_output_folder)\n",
    "             if file.endswith('.csv')]\n",
    "\n",
    "partial_recoveries = []\n",
    "\n",
    "for file in filenames:\n",
    "    partial = pd.read_csv(join(partial_output_folder, file))\n",
    "    partial_recoveries.append(partial)\n",
    "\n",
    "parameter_recovery = pd.concat(partial_recoveries).sort_values('index').reset_index(drop=True)\n",
    "del partial_recoveries\n",
    "parameter_recovery.to_csv(join(output_folder, 'parameter-recovery_', label, '.csv'))\n",
    "parameter_recovery.head()"
   ]
  },
  {
   "cell_type": "code",
   "execution_count": null,
   "metadata": {},
   "outputs": [],
   "source": []
  }
 ],
 "metadata": {
  "kernelspec": {
   "display_name": "Python 3",
   "language": "python",
   "name": "python3"
  },
  "language_info": {
   "codemirror_mode": {
    "name": "ipython",
    "version": 3
   },
   "file_extension": ".py",
   "mimetype": "text/x-python",
   "name": "python",
   "nbconvert_exporter": "python",
   "pygments_lexer": "ipython3",
   "version": "3.6.8"
  },
  "toc": {
   "colors": {
    "hover_highlight": "#DAA520",
    "running_highlight": "#FF0000",
    "selected_highlight": "#FFD700"
   },
   "moveMenuLeft": true,
   "nav_menu": {
    "height": "66px",
    "width": "252px"
   },
   "navigate_menu": true,
   "number_sections": true,
   "sideBar": true,
   "threshold": 4,
   "toc_cell": false,
   "toc_section_display": "block",
   "toc_window_display": false,
   "widenNotebook": false
  }
 },
 "nbformat": 4,
 "nbformat_minor": 2
}
