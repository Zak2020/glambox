{
 "cells": [
  {
   "cell_type": "code",
   "execution_count": null,
   "metadata": {},
   "outputs": [],
   "source": [
    "import numpy as np\n",
    "import pandas as pd\n",
    "\n",
    "import matplotlib.pyplot as plt\n",
    "%matplotlib inline \n",
    "\n",
    "import glam\n",
    "\n",
    "%load_ext autoreload\n",
    "%autoreload 2"
   ]
  },
  {
   "cell_type": "markdown",
   "metadata": {},
   "source": [
    "# Systematic parameter recovery (ADVI)\n",
    "\n",
    "Here, we perform a structured and systematic parameter recovery study. We use the original model variant with 4 parameters ($v$, $\\gamma$, $\\sigma$, $\\tau$). For each parameter, we define a range of sensible values and select a `low`, `medium` and `high` value, based on the individual parameter estimates we obtained by hierarchically fitting the GLAM to the data from Krajbich & Rangel (2011) in Thomas, Molter, Krajbich, Heekeren & Mohr (submitted).\n",
    "\n",
    "We then pick one parameter, one constellation of values of the remaining three parameters (e.g., we pick $v$, and set $\\gamma$, $\\sigma$ and $\\tau$ to their `low` values). Then, for 10 different values of $v$ along its range, we generate a synthetic dataset for a single participant with N=100 trials, random item values and gaze, fit the model and record the generating and estimated parameters. The procedure is repeated for all possible constellation of other parameter values, and other parameters, resulting in 1080 ($10 \\times 4 \\times 3^3$) simulated and fitted datasets total."
   ]
  },
  {
   "cell_type": "markdown",
   "metadata": {},
   "source": [
    "## Define parameter ranges from 2011 estimates"
   ]
  },
  {
   "cell_type": "code",
   "execution_count": null,
   "metadata": {},
   "outputs": [],
   "source": [
    "bounds = dict(v=[0.000015, 0.00015],\n",
    "              gamma=[-1, 1],\n",
    "              s=[0.004, 0.011],\n",
    "              tau=[0.1, 1.25])\n",
    "\n",
    "ranges = {parameter: np.linspace(*bounds[parameter], 10)\n",
    "          for parameter in ['v', 'gamma', 's', 'tau']}\n",
    "ranges"
   ]
  },
  {
   "cell_type": "code",
   "execution_count": null,
   "metadata": {},
   "outputs": [],
   "source": [
    "# Determine low, medium, high values as 10th, 50th and 90th percentile of these ranges\n",
    "values = {parameter: np.percentile(np.linspace(*bounds[parameter], 100), [10, 50, 90])\n",
    "          for parameter in ['v', 'gamma', 's', 'tau']}\n",
    "values"
   ]
  },
  {
   "cell_type": "markdown",
   "metadata": {},
   "source": [
    "# Recover a single GLAM"
   ]
  },
  {
   "cell_type": "code",
   "execution_count": null,
   "metadata": {},
   "outputs": [],
   "source": [
    "def recover_glam(parameters, n_trials=100, n_items=3, seed=None):\n",
    "\n",
    "    G = glam.GLAM()\n",
    "\n",
    "    G.simulate_group(kind='individual',\n",
    "                     n_individuals=1,\n",
    "                     n_trials=n_trials, \n",
    "                     n_items=n_items,\n",
    "                     parameters=parameters,\n",
    "                     error_weight=0,\n",
    "                     value_range=[1, 10],\n",
    "                     seed=seed)\n",
    "    G.make_model('individual', t0_val=0, error_weight=0)\n",
    "    G.fit(method='VI', draws=2000, n_vi=50000, progressbar=False)\n",
    "    \n",
    "    return G"
   ]
  },
  {
   "cell_type": "code",
   "execution_count": null,
   "metadata": {},
   "outputs": [],
   "source": [
    "parameters = dict(v=[ranges['v'][0]],\n",
    "                  gamma=[values['gamma'][0]],\n",
    "                  s=[values['s'][0]],\n",
    "                  tau=[values['tau'][0]],\n",
    "                  t0=[0])\n",
    "\n",
    "result = recover_glam(parameters=parameters, seed=1)"
   ]
  },
  {
   "cell_type": "markdown",
   "metadata": {},
   "source": [
    "# Run over multiple parameter sets"
   ]
  },
  {
   "cell_type": "code",
   "execution_count": null,
   "metadata": {},
   "outputs": [],
   "source": [
    "parameter_info = {parameter: dict(low=values[parameter][0],\n",
    "                                  medium=values[parameter][1],\n",
    "                                  high=values[parameter][2],\n",
    "                                  variable=ranges[parameter])\n",
    "                  for parameter in ['v', 'gamma', 's', 'tau']}"
   ]
  },
  {
   "cell_type": "code",
   "execution_count": null,
   "metadata": {
    "scrolled": false
   },
   "outputs": [],
   "source": [
    "def generate_parameter_sets(parameter_info):\n",
    "\n",
    "    from itertools import product\n",
    "    \n",
    "    levels = ['low', 'medium', 'high']\n",
    "    parameters = ['v', 'gamma', 's', 'tau']\n",
    "    \n",
    "    constellations = list(product(levels, levels, levels))\n",
    "\n",
    "    index = 0\n",
    "    \n",
    "    for variable_parameter in parameter_info.keys():\n",
    "        \n",
    "        others = [p for p in parameters\n",
    "                  if p != variable_parameter]\n",
    "        \n",
    "        for other_constellation in constellations:\n",
    "\n",
    "            for variable_value in parameter_info[variable_parameter]['variable']:\n",
    "\n",
    "                level_set = dict()\n",
    "                level_set[variable_parameter] = 'variable'\n",
    "                parameter_set = dict(t0=[0])\n",
    "                parameter_set[variable_parameter] = [variable_value]\n",
    "\n",
    "                for o, other in enumerate(others):\n",
    "                    level_set[other] = other_constellation[o]\n",
    "                    parameter_set[other] = [parameter_info[other][other_constellation[o]]]\n",
    "                    \n",
    "                index += 1\n",
    "                yield index, level_set, parameter_set"
   ]
  },
  {
   "cell_type": "code",
   "execution_count": null,
   "metadata": {},
   "outputs": [],
   "source": [
    "all_generated_inputs = list(generate_parameter_sets(parameter_info=parameter_info))\n",
    "all_generated_inputs[:2]"
   ]
  },
  {
   "cell_type": "code",
   "execution_count": null,
   "metadata": {},
   "outputs": [],
   "source": [
    "!mkdir results/parameter_recovery\n",
    "!mkdir results/parameter_recovery/advi\n",
    "!mkdir results/parameter_recovery/advi/partial"
   ]
  },
  {
   "cell_type": "code",
   "execution_count": null,
   "metadata": {},
   "outputs": [],
   "source": [
    "from os.path import join, isfile"
   ]
  },
  {
   "cell_type": "code",
   "execution_count": null,
   "metadata": {},
   "outputs": [],
   "source": [
    "def wrap_recover_glam(generated_input):\n",
    "    \n",
    "    from pymc3 import summary\n",
    "    \n",
    "    index, level_set, parameter_set = generated_input\n",
    "\n",
    "    # check if already done:\n",
    "    filename = join('results', 'parameter_recovery', 'advi', 'partial', 'parameter_recovery_advi_part{}.csv'.format(index))\n",
    "    if isfile(filename):\n",
    "        print(\"Found previous result for index {}. Skipping...\".format(index))\n",
    "        return\n",
    "    else:\n",
    "        # perform actual recovery\n",
    "        result = recover_glam(parameter_set, n_trials=100, n_items=3, seed=index)\n",
    "\n",
    "        # assemble output dataframe row\n",
    "        output = pd.DataFrame(dict(index=[index],\n",
    "                                   v_level=[level_set['v']],\n",
    "                                   gamma_level=[level_set['gamma']],\n",
    "                                   s_level=[level_set['s']],\n",
    "                                   tau_level=[level_set['tau']],\n",
    "                                   v_gen=parameter_set['v'],\n",
    "                                   gamma_gen=parameter_set['gamma'],\n",
    "                                   s_gen=parameter_set['s'],\n",
    "                                   tau_gen=parameter_set['tau'],\n",
    "                                   v_rec=result.estimates['v'][0],\n",
    "                                   gamma_rec=result.estimates['gamma'][0],\n",
    "                                   s_rec=result.estimates['s'][0],\n",
    "                                   tau_rec=result.estimates['tau'][0],\n",
    "                                   converged=[np.nan]))\n",
    "\n",
    "        output.to_csv(filename,\n",
    "                      index=False)\n",
    "\n",
    "        return output"
   ]
  },
  {
   "cell_type": "code",
   "execution_count": null,
   "metadata": {},
   "outputs": [],
   "source": [
    "wrap_recover_glam(all_generated_inputs[0])"
   ]
  },
  {
   "cell_type": "markdown",
   "metadata": {},
   "source": [
    "## Run the recovery in parallel"
   ]
  },
  {
   "cell_type": "code",
   "execution_count": null,
   "metadata": {},
   "outputs": [],
   "source": [
    "from multiprocessing import Pool\n",
    "\n",
    "n_cores = 4\n",
    "p = Pool(n_cores)\n",
    "\n",
    "output = p.map(wrap_recover_glam, generate_parameter_sets(parameter_info))"
   ]
  },
  {
   "cell_type": "markdown",
   "metadata": {},
   "source": [
    "### Combine outputs"
   ]
  },
  {
   "cell_type": "code",
   "execution_count": null,
   "metadata": {},
   "outputs": [],
   "source": [
    "from os import listdir"
   ]
  },
  {
   "cell_type": "code",
   "execution_count": null,
   "metadata": {},
   "outputs": [],
   "source": [
    "filenames = [file for file in listdir(join('results', 'parameter_recovery', 'advi', 'partial'))\n",
    "             if file.endswith('.csv')]\n",
    "\n",
    "partial_recoveries = []\n",
    "\n",
    "for file in filenames:\n",
    "    partial = pd.read_csv(join('results', 'parameter_recovery', 'advi', 'partial', file))\n",
    "    partial_recoveries.append(partial)\n",
    "\n",
    "parameter_recovery = pd.concat(partial_recoveries).sort_values('index').reset_index(drop=True)\n",
    "del partial_recoveries\n",
    "parameter_recovery.to_csv(join('results', 'parameter_recovery', 'advi', 'parameter_recovery_advi.csv'))\n",
    "parameter_recovery.head()"
   ]
  }
 ],
 "metadata": {
  "kernelspec": {
   "display_name": "Python 3",
   "language": "python",
   "name": "python3"
  },
  "language_info": {
   "codemirror_mode": {
    "name": "ipython",
    "version": 3
   },
   "file_extension": ".py",
   "mimetype": "text/x-python",
   "name": "python",
   "nbconvert_exporter": "python",
   "pygments_lexer": "ipython3",
   "version": "3.6.8"
  },
  "toc": {
   "colors": {
    "hover_highlight": "#DAA520",
    "running_highlight": "#FF0000",
    "selected_highlight": "#FFD700"
   },
   "moveMenuLeft": true,
   "nav_menu": {
    "height": "120px",
    "width": "252px"
   },
   "navigate_menu": true,
   "number_sections": true,
   "sideBar": true,
   "threshold": 4,
   "toc_cell": false,
   "toc_section_display": "block",
   "toc_window_display": false,
   "widenNotebook": false
  }
 },
 "nbformat": 4,
 "nbformat_minor": 2
}
