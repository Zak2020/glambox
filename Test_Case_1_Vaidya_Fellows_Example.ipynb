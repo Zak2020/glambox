{
 "cells": [
  {
   "cell_type": "code",
   "execution_count": 1,
   "metadata": {},
   "outputs": [],
   "source": [
    "import numpy as np\n",
    "import pandas as pd\n",
    "\n",
    "import matplotlib.pyplot as plt\n",
    "%matplotlib inline \n",
    "\n",
    "from pymc3 import traceplot\n",
    "\n",
    "import glam\n",
    "\n",
    "%load_ext autoreload\n",
    "%autoreload 2"
   ]
  },
  {
   "cell_type": "markdown",
   "metadata": {},
   "source": [
    "# Test Case 1: Vaidya & Fellows (2015)\n",
    "\n",
    "Here, we simulate a between subjects design. The example follows the analyses made in Vaidya & Fellows (2015), where different groups of frontal lobe patients (group assignment by exact region lesioned by stroke) exhibit different gaze biases in a 3 alternative value based choice task.\n",
    "\n",
    "We simulate three groups (the paper used 4, but we're simplifying a bit) with `high`, `medium` and `low` gaze bias, fit GLAM, and analyse differences in gaze-bias estimates.\n",
    "\n",
    "As in the real world reference, the groups have different sizes. Every subject performed 100 trials."
   ]
  },
  {
   "cell_type": "markdown",
   "metadata": {},
   "source": [
    "## Simulate data"
   ]
  },
  {
   "cell_type": "code",
   "execution_count": 2,
   "metadata": {
    "scrolled": true
   },
   "outputs": [
    {
     "name": "stdout",
     "output_type": "stream",
     "text": [
      "high gamma mean: -0.461855212173\n",
      "medium gamma mean: 0.127051971015\n",
      "low gamma mean: 0.608363989306\n"
     ]
    },
    {
     "data": {
      "text/html": [
       "<div>\n",
       "<style scoped>\n",
       "    .dataframe tbody tr th:only-of-type {\n",
       "        vertical-align: middle;\n",
       "    }\n",
       "\n",
       "    .dataframe tbody tr th {\n",
       "        vertical-align: top;\n",
       "    }\n",
       "\n",
       "    .dataframe thead th {\n",
       "        text-align: right;\n",
       "    }\n",
       "</style>\n",
       "<table border=\"1\" class=\"dataframe\">\n",
       "  <thead>\n",
       "    <tr style=\"text-align: right;\">\n",
       "      <th></th>\n",
       "      <th>choice</th>\n",
       "      <th>repeat</th>\n",
       "      <th>rt</th>\n",
       "      <th>subject</th>\n",
       "      <th>trial</th>\n",
       "      <th>item_value_0</th>\n",
       "      <th>gaze_0</th>\n",
       "      <th>item_value_1</th>\n",
       "      <th>gaze_1</th>\n",
       "      <th>item_value_2</th>\n",
       "      <th>gaze_2</th>\n",
       "    </tr>\n",
       "  </thead>\n",
       "  <tbody>\n",
       "    <tr>\n",
       "      <th>count</th>\n",
       "      <td>5200.000000</td>\n",
       "      <td>5200.0</td>\n",
       "      <td>5200.000000</td>\n",
       "      <td>5200.000000</td>\n",
       "      <td>5200.000000</td>\n",
       "      <td>5200.000000</td>\n",
       "      <td>5200.000000</td>\n",
       "      <td>5200.000000</td>\n",
       "      <td>5200.000000</td>\n",
       "      <td>5200.000000</td>\n",
       "      <td>5200.000000</td>\n",
       "    </tr>\n",
       "    <tr>\n",
       "      <th>mean</th>\n",
       "      <td>0.992500</td>\n",
       "      <td>0.0</td>\n",
       "      <td>1417.585962</td>\n",
       "      <td>25.500000</td>\n",
       "      <td>49.500000</td>\n",
       "      <td>4.514038</td>\n",
       "      <td>0.332277</td>\n",
       "      <td>4.516538</td>\n",
       "      <td>0.334341</td>\n",
       "      <td>4.448846</td>\n",
       "      <td>0.333382</td>\n",
       "    </tr>\n",
       "    <tr>\n",
       "      <th>std</th>\n",
       "      <td>0.818462</td>\n",
       "      <td>0.0</td>\n",
       "      <td>2228.774122</td>\n",
       "      <td>15.009774</td>\n",
       "      <td>28.868846</td>\n",
       "      <td>2.856273</td>\n",
       "      <td>0.178318</td>\n",
       "      <td>2.857135</td>\n",
       "      <td>0.179267</td>\n",
       "      <td>2.905593</td>\n",
       "      <td>0.180060</td>\n",
       "    </tr>\n",
       "    <tr>\n",
       "      <th>min</th>\n",
       "      <td>0.000000</td>\n",
       "      <td>0.0</td>\n",
       "      <td>24.000000</td>\n",
       "      <td>0.000000</td>\n",
       "      <td>0.000000</td>\n",
       "      <td>0.000000</td>\n",
       "      <td>0.000027</td>\n",
       "      <td>0.000000</td>\n",
       "      <td>0.000074</td>\n",
       "      <td>0.000000</td>\n",
       "      <td>0.000513</td>\n",
       "    </tr>\n",
       "    <tr>\n",
       "      <th>25%</th>\n",
       "      <td>0.000000</td>\n",
       "      <td>0.0</td>\n",
       "      <td>490.750000</td>\n",
       "      <td>12.750000</td>\n",
       "      <td>24.750000</td>\n",
       "      <td>2.000000</td>\n",
       "      <td>0.201535</td>\n",
       "      <td>2.000000</td>\n",
       "      <td>0.204059</td>\n",
       "      <td>2.000000</td>\n",
       "      <td>0.201767</td>\n",
       "    </tr>\n",
       "    <tr>\n",
       "      <th>50%</th>\n",
       "      <td>1.000000</td>\n",
       "      <td>0.0</td>\n",
       "      <td>712.500000</td>\n",
       "      <td>25.500000</td>\n",
       "      <td>49.500000</td>\n",
       "      <td>5.000000</td>\n",
       "      <td>0.332239</td>\n",
       "      <td>5.000000</td>\n",
       "      <td>0.334087</td>\n",
       "      <td>4.000000</td>\n",
       "      <td>0.332852</td>\n",
       "    </tr>\n",
       "    <tr>\n",
       "      <th>75%</th>\n",
       "      <td>2.000000</td>\n",
       "      <td>0.0</td>\n",
       "      <td>1226.000000</td>\n",
       "      <td>38.250000</td>\n",
       "      <td>74.250000</td>\n",
       "      <td>7.000000</td>\n",
       "      <td>0.445534</td>\n",
       "      <td>7.000000</td>\n",
       "      <td>0.450252</td>\n",
       "      <td>7.000000</td>\n",
       "      <td>0.443811</td>\n",
       "    </tr>\n",
       "    <tr>\n",
       "      <th>max</th>\n",
       "      <td>2.000000</td>\n",
       "      <td>0.0</td>\n",
       "      <td>28629.000000</td>\n",
       "      <td>51.000000</td>\n",
       "      <td>99.000000</td>\n",
       "      <td>9.000000</td>\n",
       "      <td>0.970054</td>\n",
       "      <td>9.000000</td>\n",
       "      <td>0.976270</td>\n",
       "      <td>9.000000</td>\n",
       "      <td>0.953022</td>\n",
       "    </tr>\n",
       "  </tbody>\n",
       "</table>\n",
       "</div>"
      ],
      "text/plain": [
       "            choice  repeat            rt      subject        trial  \\\n",
       "count  5200.000000  5200.0   5200.000000  5200.000000  5200.000000   \n",
       "mean      0.992500     0.0   1417.585962    25.500000    49.500000   \n",
       "std       0.818462     0.0   2228.774122    15.009774    28.868846   \n",
       "min       0.000000     0.0     24.000000     0.000000     0.000000   \n",
       "25%       0.000000     0.0    490.750000    12.750000    24.750000   \n",
       "50%       1.000000     0.0    712.500000    25.500000    49.500000   \n",
       "75%       2.000000     0.0   1226.000000    38.250000    74.250000   \n",
       "max       2.000000     0.0  28629.000000    51.000000    99.000000   \n",
       "\n",
       "       item_value_0       gaze_0  item_value_1       gaze_1  item_value_2  \\\n",
       "count   5200.000000  5200.000000   5200.000000  5200.000000   5200.000000   \n",
       "mean       4.514038     0.332277      4.516538     0.334341      4.448846   \n",
       "std        2.856273     0.178318      2.857135     0.179267      2.905593   \n",
       "min        0.000000     0.000027      0.000000     0.000074      0.000000   \n",
       "25%        2.000000     0.201535      2.000000     0.204059      2.000000   \n",
       "50%        5.000000     0.332239      5.000000     0.334087      4.000000   \n",
       "75%        7.000000     0.445534      7.000000     0.450252      7.000000   \n",
       "max        9.000000     0.970054      9.000000     0.976270      9.000000   \n",
       "\n",
       "            gaze_2  \n",
       "count  5200.000000  \n",
       "mean      0.333382  \n",
       "std       0.180060  \n",
       "min       0.000513  \n",
       "25%       0.201767  \n",
       "50%       0.332852  \n",
       "75%       0.443811  \n",
       "max       0.953022  "
      ]
     },
     "execution_count": 2,
     "metadata": {},
     "output_type": "execute_result"
    }
   ],
   "source": [
    "# Set the random seed, so that we can re-create exactly the same data, if we need to\n",
    "np.random.seed(1313)\n",
    "\n",
    "# Setup up the GLAM instance\n",
    "model = glam.GLAM()\n",
    "\n",
    "# There are three groups, labeled high, medium and low\n",
    "groups = ['high', 'medium', 'low']\n",
    "\n",
    "# The three groups are of different sizes\n",
    "N = dict(high=27,\n",
    "         medium=12,\n",
    "         low=13)\n",
    "\n",
    "# Every subject performed 100 trials of a 3-Alternative-Forced-Choice task\n",
    "n_trials = 100\n",
    "n_items = 3\n",
    "\n",
    "# The groups differ in their mean gaze-bias parameter\n",
    "gamma = dict(high=np.clip(np.random.normal(loc=-0.5, scale=0.4, size=N['high']), -1.0, 1.0),\n",
    "             medium=np.clip(np.random.normal(loc=0.1, scale=0.4, size=N['medium']), -1.0, 1.0),\n",
    "             low=np.clip(np.random.normal(loc=0.6, scale=0.3, size=N['low']), -1.0, 1.0))\n",
    "\n",
    "print('high gamma mean:', gamma['high'].mean())\n",
    "print('medium gamma mean:', gamma['medium'].mean())\n",
    "print('low gamma mean:', gamma['low'].mean())\n",
    "\n",
    "# other parameters don't SYSTEMATICALLY vary between conditions, but vary between groups because there is variance between subjects\n",
    "\n",
    "# We now simulate data for each group, using the specific group details, we set up\n",
    "for group in groups:\n",
    "    model.simulate_group(kind='individual',\n",
    "                         n_individuals=N[group],\n",
    "                         parameters=dict(gamma=gamma[group],\n",
    "                                         v=np.clip(np.random.normal(loc=0.0002, scale=0.0001, size=N[group]), 0.00001, 0.01),\n",
    "                                         s=np.clip(np.random.normal(loc=0.0075, scale=0.001, size=N[group]), 0.001, 0.05),\n",
    "                                         tau=np.clip(np.random.normal(loc=1.0, scale=0.1, size=N[group]), 0.0, 5.0),\n",
    "                                         t0=np.zeros(N[group])),\n",
    "                         n_items=n_items,\n",
    "                         n_trials=n_trials,\n",
    "                         label=group)\n",
    "\n",
    "model.data.describe()"
   ]
  },
  {
   "cell_type": "code",
   "execution_count": 3,
   "metadata": {},
   "outputs": [
    {
     "name": "stdout",
     "output_type": "stream",
     "text": [
      "high 0.00751092011352\n",
      "medium 0.00746647259397\n",
      "low 0.00712128261751\n"
     ]
    }
   ],
   "source": [
    "for group in groups:\n",
    "    print(group, model.parameters[group]['s'].mean())"
   ]
  },
  {
   "cell_type": "code",
   "execution_count": 4,
   "metadata": {},
   "outputs": [
    {
     "data": {
      "text/plain": [
       "(<matplotlib.figure.Figure at 0x1c1d88e278>,\n",
       " array([<matplotlib.axes._subplots.AxesSubplot object at 0x1c1d8b70b8>,\n",
       "        <matplotlib.axes._subplots.AxesSubplot object at 0x1c1db18b38>,\n",
       "        <matplotlib.axes._subplots.AxesSubplot object at 0x1c1db30860>,\n",
       "        <matplotlib.axes._subplots.AxesSubplot object at 0x1c1db82b38>], dtype=object))"
      ]
     },
     "execution_count": 4,
     "metadata": {},
     "output_type": "execute_result"
    },
    {
     "data": {
      "image/png": "[encoded data removed]",
      "text/plain": [
       "<matplotlib.figure.Figure at 0x1c1d88e278>"
      ]
     },
     "metadata": {},
     "output_type": "display_data"
    }
   ],
   "source": [
    "glam.plot_fit(model.data,\n",
    "              [model.data[model.data['condition'] == 'high'],\n",
    "               model.data[model.data['condition'] == 'medium'],\n",
    "               model.data[model.data['condition'] == 'low']])"
   ]
  },
  {
   "cell_type": "markdown",
   "metadata": {},
   "source": [
    "The data looks somewhat plausible. Similar to what would be obtained experimentally (e.g., Krajbich & Rangel, 2011; Krajbich et al., 2010)."
   ]
  },
  {
   "cell_type": "markdown",
   "metadata": {},
   "source": [
    "## Model fitting\n",
    "\n",
    "### Model set up\n",
    "\n",
    "We now need to specify the exact model to fit to the data. We need to indicate that the gaze-bias parameter shall depend on the `condition` variable of our data. Note that this variable can have any name, but the `simulation` method used above just happens to call it `condition`.\n",
    "\n",
    "We also have to choose whether we want to fit the model hierarchically to all of our subjects, or to each individual subject alone. We choose the hierarchical model here."
   ]
  },
  {
   "cell_type": "code",
   "execution_count": 5,
   "metadata": {},
   "outputs": [
    {
     "name": "stdout",
     "output_type": "stream",
     "text": [
      "Generating hierarchical model for 52 subjects...\n"
     ]
    }
   ],
   "source": [
    "model.make_model(kind='hierarchical',\n",
    "                 depends_on=dict(gamma='condition'),\n",
    "                 t0_val=0)"
   ]
  },
  {
   "cell_type": "markdown",
   "metadata": {},
   "source": [
    "### Parameter estimation\n",
    "\n",
    "The model is specified. Now the parameters can be estimated. `GLAMbox` implements the model as a `pymc3` model object, that can be fit with all fitting procedures included in `pymc3`. For large hierarchical models in particular, we made the experience that automatic differentiation variational inference (ADVI; Kucukelbir,  Ranganath, Gelman & Blei, 2015) performs well and is very fast."
   ]
  },
  {
   "cell_type": "code",
   "execution_count": 7,
   "metadata": {},
   "outputs": [
    {
     "name": "stdout",
     "output_type": "stream",
     "text": [
      "Fitting 1 model(s) using ADVI...\n",
      "  Fitting model 1 of 1...\n"
     ]
    },
    {
     "name": "stderr",
     "output_type": "stream",
     "text": [
      "Average Loss = 40,652: 100%|██████████| 25000/25000 [06:51<00:00, 60.68it/s]   \n",
      "Finished [100%]: Average Loss = 40,648\n"
     ]
    },
    {
     "name": "stdout",
     "output_type": "stream",
     "text": [
      "/!\\ Automatically setting parameter precision...\n"
     ]
    }
   ],
   "source": [
    "model.fit(method='ADVI', n_advi=25000)"
   ]
  },
  {
   "cell_type": "markdown",
   "metadata": {},
   "source": [
    "## Analysis\n",
    "\n",
    "Now that parameters are estimated, it would be reasonable to analyse resulting parameter estimates. After fitting, the `GLAM` model instance automatically extracts posterior modes for every estimated parameter. However, in order to make full use of the Bayesian parameter estimation procedure, the `pymc3` trace object is also attached to the model instance (note that in the case of variational inference, this trace is simply being sampled using the estimated variational parameters. It is not the result of an MCMC algorithm, as would be obtained if estimation would have been done using traditional sampling techniques like Metropolis or NUTS sampling)."
   ]
  },
  {
   "cell_type": "code",
   "execution_count": 8,
   "metadata": {},
   "outputs": [
    {
     "data": {
      "image/png": "[encoded data removed]",
      "text/plain": [
       "<matplotlib.figure.Figure at 0x121d800b8>"
      ]
     },
     "metadata": {},
     "output_type": "display_data"
    }
   ],
   "source": [
    "group_label = np.repeat(np.array(groups), np.array([N[group] for group in groups]))\n",
    "\n",
    "gamma_estimates = np.vstack([model.estimates['gamma_{}'.format(group)]\n",
    "                             for group in groups]).ravel()\n",
    "\n",
    "df = pd.DataFrame(dict(group=group_label,\n",
    "                       gamma=gamma_estimates))\n",
    "df['group'] = pd.Categorical(group_label,\n",
    "                             categories=['high', 'medium', 'low'],\n",
    "                             ordered=True)\n",
    "\n",
    "fig, ax = plt.subplots()\n",
    "df.boxplot(column='gamma', by='group', ax=ax)\n",
    "ax.set_ylabel(r'Gaze bias parameter $\\gamma$')\n",
    "ax.set_title('')\n",
    "fig.suptitle('')\n",
    "fig.tight_layout()"
   ]
  },
  {
   "cell_type": "code",
   "execution_count": 9,
   "metadata": {},
   "outputs": [
    {
     "data": {
      "text/plain": [
       "<matplotlib.text.Text at 0x121e17c18>"
      ]
     },
     "execution_count": 9,
     "metadata": {},
     "output_type": "execute_result"
    },
    {
     "data": {
      "image/png": "[encoded data removed]",
      "text/plain": [
       "<matplotlib.figure.Figure at 0x1213ef908>"
      ]
     },
     "metadata": {},
     "output_type": "display_data"
    }
   ],
   "source": [
    "bins = np.linspace(-1, 1, 100)\n",
    "\n",
    "fig, ax = plt.subplots()\n",
    "\n",
    "for g, group in enumerate(groups):\n",
    "    ax.hist(model.trace['gamma_{}_mu'.format(group)], bins=bins,\n",
    "            histtype='stepfilled', alpha=0.5, color='C{}'.format(g),\n",
    "            label=group, normed=True)\n",
    "    \n",
    "    ax.axvline(model.parameters[group]['gamma'].mean(), color='C{}'.format(g))\n",
    "    \n",
    "ax.legend(frameon=False)\n",
    "ax.set_xlabel(r'$\\gamma$')\n",
    "ax.set_ylabel('Posterior probability')\n",
    "ax.set_title(r'Posterior of $\\gamma$ group means')"
   ]
  },
  {
   "cell_type": "markdown",
   "metadata": {},
   "source": [
    "With this, we can now ask: What is the probability that the `low` bias group has a higher mean $\\gamma$ parameter than the `medium` bias group?"
   ]
  },
  {
   "cell_type": "code",
   "execution_count": 10,
   "metadata": {},
   "outputs": [
    {
     "name": "stdout",
     "output_type": "stream",
     "text": [
      "P(γ_low > γ_medium) =  0.997\n"
     ]
    }
   ],
   "source": [
    "print('P(γ_low > γ_medium) = ',\n",
    "      (model.trace['gamma_low_mu'] > model.trace['gamma_medium_mu']).mean())"
   ]
  },
  {
   "cell_type": "markdown",
   "metadata": {},
   "source": [
    "# References\n",
    "\n",
    "- Vaidya, A. R., & Fellows, L. K. (2015). Testing necessary regional frontal contributions to value assessment and fixation-based updating. Nature Communications, 6, 10120. https://doi.org/10.1038/ncomms10120\n",
    "\n",
    "- Kucukelbir, A., Ranganath, R., Gelman, A., & Blei, D. M. (2015). Automatic Variational Inference in Stan. ArXiv:1506.03431 [Stat]. Retrieved from http://arxiv.org/abs/1506.03431"
   ]
  },
  {
   "cell_type": "markdown",
   "metadata": {},
   "source": [
    "---\n",
    "\n",
    "# TODO // INTERNAL COMMENTS"
   ]
  },
  {
   "cell_type": "code",
   "execution_count": 11,
   "metadata": {},
   "outputs": [
    {
     "name": "stdout",
     "output_type": "stream",
     "text": [
      "True mean in 'low' condition was 0.608363989306\n",
      "\n",
      "gamma_low_mu:\n",
      "\n",
      "  Mean             SD               MC Error         95% HPD interval\n",
      "  -------------------------------------------------------------------\n",
      "  \n",
      "  0.612            0.070            0.002            [0.466, 0.737]\n",
      "\n",
      "  Posterior quantiles:\n",
      "  2.5            25             50             75             97.5\n",
      "  |--------------|==============|==============|--------------|\n",
      "  \n",
      "  0.466          0.566          0.615          0.662          0.737\n",
      "\n"
     ]
    }
   ],
   "source": [
    "### --- INTERNAL COMMENT ---\n",
    "# Are gamma estimates biased?\n",
    "import pymc3 as pm\n",
    "print(\"True mean in 'low' condition was\", model.parameters['low']['gamma'].mean())\n",
    "pm.summary(model.trace, varnames=['gamma_low_mu'])"
   ]
  },
  {
   "cell_type": "markdown",
   "metadata": {},
   "source": [
    "This is very much on point."
   ]
  },
  {
   "cell_type": "code",
   "execution_count": 12,
   "metadata": {},
   "outputs": [
    {
     "data": {
      "image/png": "[encoded data removed]",
      "text/plain": [
       "<matplotlib.figure.Figure at 0x1223f5710>"
      ]
     },
     "metadata": {},
     "output_type": "display_data"
    }
   ],
   "source": [
    "fig, ax = plt.subplots(figsize=(4, 4))\n",
    "\n",
    "for g, group in enumerate(groups):\n",
    "    ax.scatter(model.parameters[group]['gamma'],\n",
    "               model.estimates['gamma_{}'.format(group)].ravel(),\n",
    "               color='C{}'.format(g),\n",
    "               label=group)\n",
    "\n",
    "ax.set_xlim(-1, 1)\n",
    "ax.set_ylim(-1, 1)\n",
    "\n",
    "ax.set_xlabel('Generating')\n",
    "ax.set_ylabel('Estimated')\n",
    "ax.set_title(r'$\\gamma$')\n",
    "ax.legend()\n",
    "\n",
    "fig.tight_layout()"
   ]
  },
  {
   "cell_type": "markdown",
   "metadata": {},
   "source": [
    "This looks great, too."
   ]
  }
 ],
 "metadata": {
  "kernelspec": {
   "display_name": "Python 3",
   "language": "python",
   "name": "python3"
  },
  "language_info": {
   "codemirror_mode": {
    "name": "ipython",
    "version": 3
   },
   "file_extension": ".py",
   "mimetype": "text/x-python",
   "name": "python",
   "nbconvert_exporter": "python",
   "pygments_lexer": "ipython3",
   "version": "3.6.4"
  }
 },
 "nbformat": 4,
 "nbformat_minor": 2
}
