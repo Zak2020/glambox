{
 "cells": [
  {
   "cell_type": "code",
   "execution_count": 1,
   "metadata": {},
   "outputs": [
    {
     "name": "stderr",
     "output_type": "stream",
     "text": [
      "/Users/felixmolter/anaconda3/lib/python3.6/site-packages/h5py/__init__.py:36: FutureWarning: Conversion of the second argument of issubdtype from `float` to `np.floating` is deprecated. In future, it will be treated as `np.float64 == np.dtype(float).type`.\n",
      "  from ._conv import register_converters as _register_converters\n"
     ]
    }
   ],
   "source": [
    "import numpy as np\n",
    "import pandas as pd\n",
    "import pymc3 as pm\n",
    "from os.path import join, isfile\n",
    "from os import listdir\n",
    "from functools import partial\n",
    "\n",
    "import glam\n",
    "import parameter_recovery as pr\n",
    "\n",
    "%load_ext autoreload\n",
    "%autoreload 2"
   ]
  },
  {
   "cell_type": "markdown",
   "metadata": {},
   "source": [
    "# Systematic parameter recovery – Hierarchical model, with Metropolis"
   ]
  },
  {
   "cell_type": "code",
   "execution_count": 2,
   "metadata": {},
   "outputs": [],
   "source": [
    "output_folder = join('results', 'parameter-recovery_hierarchical', 'metropolis')\n",
    "label = 'hierarchical_metropolis'"
   ]
  },
  {
   "cell_type": "markdown",
   "metadata": {},
   "source": [
    "## Define parameter ranges from 2011 estimates"
   ]
  },
  {
   "cell_type": "code",
   "execution_count": 3,
   "metadata": {},
   "outputs": [],
   "source": [
    "bounds = dict(v=[1e-10, 0.0002],\n",
    "              gamma=[-10, 1],\n",
    "              s=[1e-10, 0.05],\n",
    "              tau=[0., 5])"
   ]
  },
  {
   "cell_type": "code",
   "execution_count": 4,
   "metadata": {},
   "outputs": [
    {
     "data": {
      "text/plain": [
       "{'v': array([3.30e-05, 8.50e-05, 1.37e-04]),\n",
       " 'gamma': array([-0.7,  0. ,  0.7]),\n",
       " 's': array([0.0067, 0.0095, 0.0123]),\n",
       " 'tau': array([0.215, 0.675, 1.135])}"
      ]
     },
     "execution_count": 4,
     "metadata": {},
     "output_type": "execute_result"
    }
   ],
   "source": [
    "means = {'v': np.array([3.30e-05, 8.50e-05, 1.37e-04]),\n",
    "         'gamma': np.array([-0.7,  0,  0.7]),\n",
    "         's': np.array([0.0067, 0.0095, 0.0123]),\n",
    "         'tau': np.array([0.215, 0.675, 1.135])}\n",
    "means"
   ]
  },
  {
   "cell_type": "code",
   "execution_count": 5,
   "metadata": {},
   "outputs": [],
   "source": [
    "sds = dict(v=0.00001,\n",
    "           s=0.001,\n",
    "           gamma=0.2,\n",
    "           tau=0.2)"
   ]
  },
  {
   "cell_type": "code",
   "execution_count": 6,
   "metadata": {},
   "outputs": [],
   "source": [
    "parameter_info = {parameter: dict(mu=dict(low=means[parameter][0],\n",
    "                                          medium=means[parameter][1],\n",
    "                                          high=means[parameter][2]),\n",
    "                                  sd=sds[parameter],\n",
    "                                  bounds=tuple(bounds[parameter]))\n",
    "                  for parameter in ['v', 'gamma', 's', 'tau']}"
   ]
  },
  {
   "cell_type": "markdown",
   "metadata": {},
   "source": [
    "## Run the recovery in parallel"
   ]
  },
  {
   "cell_type": "code",
   "execution_count": 7,
   "metadata": {},
   "outputs": [],
   "source": [
    "partial_output_folder = join(output_folder, 'partial')\n",
    "traceplot_folder = join(partial_output_folder, 'traceplots')\n",
    "\n",
    "simulate_group_args = dict(kind='hierarchical',\n",
    "                           n_individuals=20,\n",
    "                           n_trials=50, \n",
    "                           n_items=3,\n",
    "                           error_weight=0,\n",
    "                           value_range=[1, 10],\n",
    "                           seed=None)\n",
    "\n",
    "make_model_args = dict(kind='hierarchical',\n",
    "                       t0_val=0,\n",
    "                       error_weight=0)\n",
    "\n",
    "fit_args = dict(method='MCMC',\n",
    "                step=pm.Metropolis,\n",
    "                draws=20000,\n",
    "                tune=180000,\n",
    "                cores=1,\n",
    "                chains=2,\n",
    "                progressbar=False)\n",
    "\n",
    "wrapper = partial(pr.recover_and_save_hierarchical,\n",
    "                  output_folder=partial_output_folder,\n",
    "                  label=label,\n",
    "                  simulate_group_args=simulate_group_args,\n",
    "                  make_model_args=make_model_args,\n",
    "                  fit_args=fit_args,\n",
    "                  save_trace_to=None,\n",
    "                  save_traceplot_to=traceplot_folder)"
   ]
  },
  {
   "cell_type": "code",
   "execution_count": 8,
   "metadata": {
    "scrolled": false
   },
   "outputs": [
    {
     "name": "stdout",
     "output_type": "stream",
     "text": [
      "Generating hierarchical model for 20 subjects...\n",
      "Generating hierarchical model for 20 subjects...\n",
      "Generating hierarchical model for 20 subjects...\n",
      "Generating hierarchical model for 20 subjects...\n",
      "Generating hierarchical model for 20 subjects...\n",
      "Generating hierarchical model for 20 subjects...\n",
      "Generating hierarchical model for 20 subjects...\n",
      "Generating hierarchical model for 20 subjects...\n",
      "Generating hierarchical model for 20 subjects...\n",
      "Generating hierarchical model for 20 subjects...\n",
      "Generating hierarchical model for 20 subjects...\n",
      "Generating hierarchical model for 20 subjects...\n",
      "Generating hierarchical model for 20 subjects...\n",
      "Generating hierarchical model for 20 subjects...\n",
      "Generating hierarchical model for 20 subjects...\n",
      "Generating hierarchical model for 20 subjects...\n",
      "Generating hierarchical model for 20 subjects...\n",
      "Generating hierarchical model for 20 subjects...\n",
      "Generating hierarchical model for 20 subjects...\n",
      "Generating hierarchical model for 20 subjects...\n",
      "Generating hierarchical model for 20 subjects...\n",
      "Generating hierarchical model for 20 subjects...\n",
      "Fitting 1 model(s) using MCMC...\n",
      "  Fitting model 1 of 1...\n"
     ]
    },
    {
     "name": "stderr",
     "output_type": "stream",
     "text": [
      "INFO (theano.gof.compilelock): Waiting for existing lock by process '4590' (I am process '4585')\n",
      "INFO (theano.gof.compilelock): To manually release the lock, delete /Users/felixmolter/.theano/compiledir_Darwin-17.7.0-x86_64-i386-64bit-i386-3.6.8-64/lock_dir\n",
      "INFO (theano.gof.compilelock): Waiting for existing lock by process '4590' (I am process '4586')\n",
      "INFO (theano.gof.compilelock): To manually release the lock, delete /Users/felixmolter/.theano/compiledir_Darwin-17.7.0-x86_64-i386-64bit-i386-3.6.8-64/lock_dir\n",
      "INFO (theano.gof.compilelock): Waiting for existing lock by process '4590' (I am process '4587')\n",
      "INFO (theano.gof.compilelock): To manually release the lock, delete /Users/felixmolter/.theano/compiledir_Darwin-17.7.0-x86_64-i386-64bit-i386-3.6.8-64/lock_dir\n",
      "INFO (theano.gof.compilelock): Waiting for existing lock by process '4590' (I am process '4601')\n",
      "INFO (theano.gof.compilelock): To manually release the lock, delete /Users/felixmolter/.theano/compiledir_Darwin-17.7.0-x86_64-i386-64bit-i386-3.6.8-64/lock_dir\n",
      "INFO (theano.gof.compilelock): Waiting for existing lock by process '4590' (I am process '4604')\n",
      "INFO (theano.gof.compilelock): To manually release the lock, delete /Users/felixmolter/.theano/compiledir_Darwin-17.7.0-x86_64-i386-64bit-i386-3.6.8-64/lock_dir\n",
      "INFO (theano.gof.compilelock): Waiting for existing lock by process '4590' (I am process '4584')\n",
      "INFO (theano.gof.compilelock): To manually release the lock, delete /Users/felixmolter/.theano/compiledir_Darwin-17.7.0-x86_64-i386-64bit-i386-3.6.8-64/lock_dir\n",
      "INFO (theano.gof.compilelock): Waiting for existing lock by process '4590' (I am process '4595')\n",
      "INFO (theano.gof.compilelock): Waiting for existing lock by process '4590' (I am process '4591')\n",
      "INFO (theano.gof.compilelock): To manually release the lock, delete /Users/felixmolter/.theano/compiledir_Darwin-17.7.0-x86_64-i386-64bit-i386-3.6.8-64/lock_dir\n",
      "INFO (theano.gof.compilelock): To manually release the lock, delete /Users/felixmolter/.theano/compiledir_Darwin-17.7.0-x86_64-i386-64bit-i386-3.6.8-64/lock_dir\n",
      "INFO (theano.gof.compilelock): Waiting for existing lock by process '4590' (I am process '4592')\n",
      "INFO (theano.gof.compilelock): Waiting for existing lock by process '4590' (I am process '4599')\n",
      "INFO (theano.gof.compilelock): Waiting for existing lock by process '4590' (I am process '4598')\n",
      "INFO (theano.gof.compilelock): To manually release the lock, delete /Users/felixmolter/.theano/compiledir_Darwin-17.7.0-x86_64-i386-64bit-i386-3.6.8-64/lock_dir\n",
      "INFO (theano.gof.compilelock): Waiting for existing lock by process '4590' (I am process '4600')\n",
      "INFO (theano.gof.compilelock): To manually release the lock, delete /Users/felixmolter/.theano/compiledir_Darwin-17.7.0-x86_64-i386-64bit-i386-3.6.8-64/lock_dir\n",
      "INFO (theano.gof.compilelock): Waiting for existing lock by process '4590' (I am process '4603')\n",
      "INFO (theano.gof.compilelock): To manually release the lock, delete /Users/felixmolter/.theano/compiledir_Darwin-17.7.0-x86_64-i386-64bit-i386-3.6.8-64/lock_dir\n",
      "INFO (theano.gof.compilelock): To manually release the lock, delete /Users/felixmolter/.theano/compiledir_Darwin-17.7.0-x86_64-i386-64bit-i386-3.6.8-64/lock_dir\n",
      "INFO (theano.gof.compilelock): To manually release the lock, delete /Users/felixmolter/.theano/compiledir_Darwin-17.7.0-x86_64-i386-64bit-i386-3.6.8-64/lock_dir\n",
      "INFO (theano.gof.compilelock): Waiting for existing lock by process '4590' (I am process '4602')\n",
      "INFO (theano.gof.compilelock): Waiting for existing lock by process '4590' (I am process '4605')\n",
      "INFO (theano.gof.compilelock): Waiting for existing lock by process '4590' (I am process '4593')\n",
      "INFO (theano.gof.compilelock): To manually release the lock, delete /Users/felixmolter/.theano/compiledir_Darwin-17.7.0-x86_64-i386-64bit-i386-3.6.8-64/lock_dir\n",
      "INFO (theano.gof.compilelock): To manually release the lock, delete /Users/felixmolter/.theano/compiledir_Darwin-17.7.0-x86_64-i386-64bit-i386-3.6.8-64/lock_dir\n",
      "INFO (theano.gof.compilelock): To manually release the lock, delete /Users/felixmolter/.theano/compiledir_Darwin-17.7.0-x86_64-i386-64bit-i386-3.6.8-64/lock_dir\n",
      "INFO (theano.gof.compilelock): Waiting for existing lock by process '4590' (I am process '4588')\n",
      "INFO (theano.gof.compilelock): Waiting for existing lock by process '4590' (I am process '4596')\n",
      "INFO (theano.gof.compilelock): Waiting for existing lock by process '4590' (I am process '4589')\n",
      "INFO (theano.gof.compilelock): To manually release the lock, delete /Users/felixmolter/.theano/compiledir_Darwin-17.7.0-x86_64-i386-64bit-i386-3.6.8-64/lock_dir\n",
      "INFO (theano.gof.compilelock): To manually release the lock, delete /Users/felixmolter/.theano/compiledir_Darwin-17.7.0-x86_64-i386-64bit-i386-3.6.8-64/lock_dir\n",
      "INFO (theano.gof.compilelock): To manually release the lock, delete /Users/felixmolter/.theano/compiledir_Darwin-17.7.0-x86_64-i386-64bit-i386-3.6.8-64/lock_dir\n",
      "INFO (theano.gof.compilelock): Waiting for existing lock by process '4590' (I am process '4594')\n",
      "INFO (theano.gof.compilelock): To manually release the lock, delete /Users/felixmolter/.theano/compiledir_Darwin-17.7.0-x86_64-i386-64bit-i386-3.6.8-64/lock_dir\n"
     ]
    },
    {
     "name": "stdout",
     "output_type": "stream",
     "text": [
      "Fitting 1 model(s) using MCMC...\n",
      "  Fitting model 1 of 1...\n"
     ]
    },
    {
     "name": "stderr",
     "output_type": "stream",
     "text": [
      "INFO (theano.gof.compilelock): Waiting for existing lock by process '4585' (I am process '4586')\n",
      "INFO (theano.gof.compilelock): To manually release the lock, delete /Users/felixmolter/.theano/compiledir_Darwin-17.7.0-x86_64-i386-64bit-i386-3.6.8-64/lock_dir\n",
      "INFO (theano.gof.compilelock): Waiting for existing lock by process '4585' (I am process '4587')\n",
      "INFO (theano.gof.compilelock): To manually release the lock, delete /Users/felixmolter/.theano/compiledir_Darwin-17.7.0-x86_64-i386-64bit-i386-3.6.8-64/lock_dir\n",
      "INFO (theano.gof.compilelock): Waiting for existing lock by process '4585' (I am process '4601')\n",
      "INFO (theano.gof.compilelock): To manually release the lock, delete /Users/felixmolter/.theano/compiledir_Darwin-17.7.0-x86_64-i386-64bit-i386-3.6.8-64/lock_dir\n",
      "INFO (theano.gof.compilelock): Waiting for existing lock by process '4585' (I am process '4604')\n",
      "INFO (theano.gof.compilelock): To manually release the lock, delete /Users/felixmolter/.theano/compiledir_Darwin-17.7.0-x86_64-i386-64bit-i386-3.6.8-64/lock_dir\n",
      "INFO (theano.gof.compilelock): Waiting for existing lock by process '4585' (I am process '4584')\n",
      "INFO (theano.gof.compilelock): To manually release the lock, delete /Users/felixmolter/.theano/compiledir_Darwin-17.7.0-x86_64-i386-64bit-i386-3.6.8-64/lock_dir\n",
      "INFO (theano.gof.compilelock): Waiting for existing lock by process '4585' (I am process '4591')\n",
      "INFO (theano.gof.compilelock): Waiting for existing lock by process '4585' (I am process '4595')\n",
      "INFO (theano.gof.compilelock): To manually release the lock, delete /Users/felixmolter/.theano/compiledir_Darwin-17.7.0-x86_64-i386-64bit-i386-3.6.8-64/lock_dir\n",
      "INFO (theano.gof.compilelock): To manually release the lock, delete /Users/felixmolter/.theano/compiledir_Darwin-17.7.0-x86_64-i386-64bit-i386-3.6.8-64/lock_dir\n",
      "INFO (theano.gof.compilelock): Waiting for existing lock by process '4585' (I am process '4592')\n",
      "INFO (theano.gof.compilelock): Waiting for existing lock by process '4585' (I am process '4599')\n",
      "INFO (theano.gof.compilelock): To manually release the lock, delete /Users/felixmolter/.theano/compiledir_Darwin-17.7.0-x86_64-i386-64bit-i386-3.6.8-64/lock_dir\n",
      "INFO (theano.gof.compilelock): Waiting for existing lock by process '4585' (I am process '4598')\n",
      "INFO (theano.gof.compilelock): To manually release the lock, delete /Users/felixmolter/.theano/compiledir_Darwin-17.7.0-x86_64-i386-64bit-i386-3.6.8-64/lock_dir\n",
      "INFO (theano.gof.compilelock): Waiting for existing lock by process '4585' (I am process '4600')\n",
      "INFO (theano.gof.compilelock): Waiting for existing lock by process '4585' (I am process '4603')\n",
      "INFO (theano.gof.compilelock): To manually release the lock, delete /Users/felixmolter/.theano/compiledir_Darwin-17.7.0-x86_64-i386-64bit-i386-3.6.8-64/lock_dir\n",
      "INFO (theano.gof.compilelock): To manually release the lock, delete /Users/felixmolter/.theano/compiledir_Darwin-17.7.0-x86_64-i386-64bit-i386-3.6.8-64/lock_dir\n",
      "INFO (theano.gof.compilelock): To manually release the lock, delete /Users/felixmolter/.theano/compiledir_Darwin-17.7.0-x86_64-i386-64bit-i386-3.6.8-64/lock_dir\n",
      "INFO (theano.gof.compilelock): Waiting for existing lock by process '4585' (I am process '4605')\n",
      "INFO (theano.gof.compilelock): Waiting for existing lock by process '4585' (I am process '4602')\n",
      "INFO (theano.gof.compilelock): Waiting for existing lock by process '4585' (I am process '4593')\n",
      "INFO (theano.gof.compilelock): To manually release the lock, delete /Users/felixmolter/.theano/compiledir_Darwin-17.7.0-x86_64-i386-64bit-i386-3.6.8-64/lock_dir\n",
      "INFO (theano.gof.compilelock): To manually release the lock, delete /Users/felixmolter/.theano/compiledir_Darwin-17.7.0-x86_64-i386-64bit-i386-3.6.8-64/lock_dir\n",
      "INFO (theano.gof.compilelock): To manually release the lock, delete /Users/felixmolter/.theano/compiledir_Darwin-17.7.0-x86_64-i386-64bit-i386-3.6.8-64/lock_dir\n",
      "INFO (theano.gof.compilelock): Waiting for existing lock by process '4585' (I am process '4588')\n",
      "INFO (theano.gof.compilelock): Waiting for existing lock by process '4585' (I am process '4596')\n",
      "INFO (theano.gof.compilelock): Waiting for existing lock by process '4585' (I am process '4589')\n",
      "INFO (theano.gof.compilelock): To manually release the lock, delete /Users/felixmolter/.theano/compiledir_Darwin-17.7.0-x86_64-i386-64bit-i386-3.6.8-64/lock_dir\n",
      "INFO (theano.gof.compilelock): To manually release the lock, delete /Users/felixmolter/.theano/compiledir_Darwin-17.7.0-x86_64-i386-64bit-i386-3.6.8-64/lock_dir\n",
      "INFO (theano.gof.compilelock): To manually release the lock, delete /Users/felixmolter/.theano/compiledir_Darwin-17.7.0-x86_64-i386-64bit-i386-3.6.8-64/lock_dir\n",
      "INFO (theano.gof.compilelock): Waiting for existing lock by process '4585' (I am process '4594')\n",
      "INFO (theano.gof.compilelock): To manually release the lock, delete /Users/felixmolter/.theano/compiledir_Darwin-17.7.0-x86_64-i386-64bit-i386-3.6.8-64/lock_dir\n",
      "INFO (theano.gof.compilelock): Waiting for existing lock by process '4585' (I am process '4597')\n",
      "INFO (theano.gof.compilelock): To manually release the lock, delete /Users/felixmolter/.theano/compiledir_Darwin-17.7.0-x86_64-i386-64bit-i386-3.6.8-64/lock_dir\n"
     ]
    },
    {
     "name": "stdout",
     "output_type": "stream",
     "text": [
      "Fitting 1 model(s) using MCMC...\n",
      "  Fitting model 1 of 1...\n"
     ]
    },
    {
     "name": "stderr",
     "output_type": "stream",
     "text": [
      "INFO (theano.gof.compilelock): Waiting for existing lock by process '4590' (I am process '4586')\n",
      "INFO (theano.gof.compilelock): To manually release the lock, delete /Users/felixmolter/.theano/compiledir_Darwin-17.7.0-x86_64-i386-64bit-i386-3.6.8-64/lock_dir\n",
      "INFO (theano.gof.compilelock): Waiting for existing lock by process '4590' (I am process '4587')\n",
      "INFO (theano.gof.compilelock): To manually release the lock, delete /Users/felixmolter/.theano/compiledir_Darwin-17.7.0-x86_64-i386-64bit-i386-3.6.8-64/lock_dir\n",
      "INFO (theano.gof.compilelock): Waiting for existing lock by process '4590' (I am process '4601')\n",
      "INFO (theano.gof.compilelock): To manually release the lock, delete /Users/felixmolter/.theano/compiledir_Darwin-17.7.0-x86_64-i386-64bit-i386-3.6.8-64/lock_dir\n",
      "INFO (theano.gof.compilelock): Waiting for existing lock by process '4590' (I am process '4604')\n",
      "INFO (theano.gof.compilelock): To manually release the lock, delete /Users/felixmolter/.theano/compiledir_Darwin-17.7.0-x86_64-i386-64bit-i386-3.6.8-64/lock_dir\n",
      "INFO (theano.gof.compilelock): Waiting for existing lock by process '4590' (I am process '4584')\n",
      "INFO (theano.gof.compilelock): To manually release the lock, delete /Users/felixmolter/.theano/compiledir_Darwin-17.7.0-x86_64-i386-64bit-i386-3.6.8-64/lock_dir\n",
      "INFO (theano.gof.compilelock): Waiting for existing lock by process '4590' (I am process '4595')\n",
      "INFO (theano.gof.compilelock): Waiting for existing lock by process '4590' (I am process '4591')\n",
      "INFO (theano.gof.compilelock): To manually release the lock, delete /Users/felixmolter/.theano/compiledir_Darwin-17.7.0-x86_64-i386-64bit-i386-3.6.8-64/lock_dir\n",
      "INFO (theano.gof.compilelock): To manually release the lock, delete /Users/felixmolter/.theano/compiledir_Darwin-17.7.0-x86_64-i386-64bit-i386-3.6.8-64/lock_dir\n",
      "INFO (theano.gof.compilelock): Waiting for existing lock by process '4590' (I am process '4592')\n",
      "INFO (theano.gof.compilelock): To manually release the lock, delete /Users/felixmolter/.theano/compiledir_Darwin-17.7.0-x86_64-i386-64bit-i386-3.6.8-64/lock_dir\n",
      "INFO (theano.gof.compilelock): Waiting for existing lock by process '4590' (I am process '4598')\n",
      "INFO (theano.gof.compilelock): Waiting for existing lock by process '4590' (I am process '4599')\n",
      "INFO (theano.gof.compilelock): Waiting for existing lock by process '4590' (I am process '4600')\n",
      "INFO (theano.gof.compilelock): To manually release the lock, delete /Users/felixmolter/.theano/compiledir_Darwin-17.7.0-x86_64-i386-64bit-i386-3.6.8-64/lock_dir\n",
      "INFO (theano.gof.compilelock): Waiting for existing lock by process '4590' (I am process '4603')\n",
      "INFO (theano.gof.compilelock): To manually release the lock, delete /Users/felixmolter/.theano/compiledir_Darwin-17.7.0-x86_64-i386-64bit-i386-3.6.8-64/lock_dir\n",
      "INFO (theano.gof.compilelock): To manually release the lock, delete /Users/felixmolter/.theano/compiledir_Darwin-17.7.0-x86_64-i386-64bit-i386-3.6.8-64/lock_dir\n",
      "INFO (theano.gof.compilelock): To manually release the lock, delete /Users/felixmolter/.theano/compiledir_Darwin-17.7.0-x86_64-i386-64bit-i386-3.6.8-64/lock_dir\n",
      "INFO (theano.gof.compilelock): Waiting for existing lock by process '4590' (I am process '4602')\n",
      "INFO (theano.gof.compilelock): Waiting for existing lock by process '4590' (I am process '4605')\n",
      "INFO (theano.gof.compilelock): Waiting for existing lock by process '4590' (I am process '4593')\n",
      "INFO (theano.gof.compilelock): To manually release the lock, delete /Users/felixmolter/.theano/compiledir_Darwin-17.7.0-x86_64-i386-64bit-i386-3.6.8-64/lock_dir\n",
      "INFO (theano.gof.compilelock): To manually release the lock, delete /Users/felixmolter/.theano/compiledir_Darwin-17.7.0-x86_64-i386-64bit-i386-3.6.8-64/lock_dir\n",
      "INFO (theano.gof.compilelock): To manually release the lock, delete /Users/felixmolter/.theano/compiledir_Darwin-17.7.0-x86_64-i386-64bit-i386-3.6.8-64/lock_dir\n",
      "INFO (theano.gof.compilelock): Waiting for existing lock by process '4590' (I am process '4589')\n",
      "INFO (theano.gof.compilelock): Waiting for existing lock by process '4590' (I am process '4596')\n",
      "INFO (theano.gof.compilelock): Waiting for existing lock by process '4590' (I am process '4588')\n",
      "INFO (theano.gof.compilelock): To manually release the lock, delete /Users/felixmolter/.theano/compiledir_Darwin-17.7.0-x86_64-i386-64bit-i386-3.6.8-64/lock_dir\n",
      "INFO (theano.gof.compilelock): To manually release the lock, delete /Users/felixmolter/.theano/compiledir_Darwin-17.7.0-x86_64-i386-64bit-i386-3.6.8-64/lock_dir\n",
      "INFO (theano.gof.compilelock): To manually release the lock, delete /Users/felixmolter/.theano/compiledir_Darwin-17.7.0-x86_64-i386-64bit-i386-3.6.8-64/lock_dir\n",
      "INFO (theano.gof.compilelock): Waiting for existing lock by process '4590' (I am process '4594')\n",
      "INFO (theano.gof.compilelock): To manually release the lock, delete /Users/felixmolter/.theano/compiledir_Darwin-17.7.0-x86_64-i386-64bit-i386-3.6.8-64/lock_dir\n",
      "INFO (theano.gof.compilelock): Waiting for existing lock by process '4585' (I am process '4586')\n",
      "INFO (theano.gof.compilelock): To manually release the lock, delete /Users/felixmolter/.theano/compiledir_Darwin-17.7.0-x86_64-i386-64bit-i386-3.6.8-64/lock_dir\n",
      "INFO (theano.gof.compilelock): Waiting for existing lock by process '4585' (I am process '4587')\n",
      "INFO (theano.gof.compilelock): To manually release the lock, delete /Users/felixmolter/.theano/compiledir_Darwin-17.7.0-x86_64-i386-64bit-i386-3.6.8-64/lock_dir\n",
      "INFO (theano.gof.compilelock): Waiting for existing lock by process '4601' (I am process '4604')\n",
      "INFO (theano.gof.compilelock): To manually release the lock, delete /Users/felixmolter/.theano/compiledir_Darwin-17.7.0-x86_64-i386-64bit-i386-3.6.8-64/lock_dir\n",
      "INFO (theano.gof.compilelock): Waiting for existing lock by process '4601' (I am process '4584')\n",
      "INFO (theano.gof.compilelock): To manually release the lock, delete /Users/felixmolter/.theano/compiledir_Darwin-17.7.0-x86_64-i386-64bit-i386-3.6.8-64/lock_dir\n",
      "INFO (theano.gof.compilelock): Waiting for existing lock by process '4601' (I am process '4595')\n",
      "INFO (theano.gof.compilelock): Waiting for existing lock by process '4601' (I am process '4591')\n",
      "INFO (theano.gof.compilelock): To manually release the lock, delete /Users/felixmolter/.theano/compiledir_Darwin-17.7.0-x86_64-i386-64bit-i386-3.6.8-64/lock_dir\n",
      "INFO (theano.gof.compilelock): To manually release the lock, delete /Users/felixmolter/.theano/compiledir_Darwin-17.7.0-x86_64-i386-64bit-i386-3.6.8-64/lock_dir\n",
      "INFO (theano.gof.compilelock): Waiting for existing lock by process '4601' (I am process '4592')\n",
      "INFO (theano.gof.compilelock): To manually release the lock, delete /Users/felixmolter/.theano/compiledir_Darwin-17.7.0-x86_64-i386-64bit-i386-3.6.8-64/lock_dir\n",
      "INFO (theano.gof.compilelock): Waiting for existing lock by process '4601' (I am process '4599')\n",
      "INFO (theano.gof.compilelock): Waiting for existing lock by process '4601' (I am process '4598')\n",
      "INFO (theano.gof.compilelock): To manually release the lock, delete /Users/felixmolter/.theano/compiledir_Darwin-17.7.0-x86_64-i386-64bit-i386-3.6.8-64/lock_dir\n",
      "INFO (theano.gof.compilelock): Waiting for existing lock by process '4601' (I am process '4600')\n",
      "INFO (theano.gof.compilelock): Waiting for existing lock by process '4601' (I am process '4603')\n",
      "INFO (theano.gof.compilelock): To manually release the lock, delete /Users/felixmolter/.theano/compiledir_Darwin-17.7.0-x86_64-i386-64bit-i386-3.6.8-64/lock_dir\n",
      "INFO (theano.gof.compilelock): To manually release the lock, delete /Users/felixmolter/.theano/compiledir_Darwin-17.7.0-x86_64-i386-64bit-i386-3.6.8-64/lock_dir\n",
      "INFO (theano.gof.compilelock): To manually release the lock, delete /Users/felixmolter/.theano/compiledir_Darwin-17.7.0-x86_64-i386-64bit-i386-3.6.8-64/lock_dir\n",
      "INFO (theano.gof.compilelock): Waiting for existing lock by process '4601' (I am process '4602')\n",
      "INFO (theano.gof.compilelock): Waiting for existing lock by process '4601' (I am process '4593')\n",
      "INFO (theano.gof.compilelock): Waiting for existing lock by process '4601' (I am process '4605')\n",
      "INFO (theano.gof.compilelock): To manually release the lock, delete /Users/felixmolter/.theano/compiledir_Darwin-17.7.0-x86_64-i386-64bit-i386-3.6.8-64/lock_dir\n",
      "INFO (theano.gof.compilelock): To manually release the lock, delete /Users/felixmolter/.theano/compiledir_Darwin-17.7.0-x86_64-i386-64bit-i386-3.6.8-64/lock_dir\n"
     ]
    },
    {
     "name": "stderr",
     "output_type": "stream",
     "text": [
      "INFO (theano.gof.compilelock): To manually release the lock, delete /Users/felixmolter/.theano/compiledir_Darwin-17.7.0-x86_64-i386-64bit-i386-3.6.8-64/lock_dir\n",
      "INFO (theano.gof.compilelock): Waiting for existing lock by process '4601' (I am process '4596')\n",
      "INFO (theano.gof.compilelock): Waiting for existing lock by process '4601' (I am process '4588')\n",
      "INFO (theano.gof.compilelock): Waiting for existing lock by process '4601' (I am process '4589')\n",
      "INFO (theano.gof.compilelock): To manually release the lock, delete /Users/felixmolter/.theano/compiledir_Darwin-17.7.0-x86_64-i386-64bit-i386-3.6.8-64/lock_dir\n",
      "INFO (theano.gof.compilelock): To manually release the lock, delete /Users/felixmolter/.theano/compiledir_Darwin-17.7.0-x86_64-i386-64bit-i386-3.6.8-64/lock_dir\n",
      "INFO (theano.gof.compilelock): To manually release the lock, delete /Users/felixmolter/.theano/compiledir_Darwin-17.7.0-x86_64-i386-64bit-i386-3.6.8-64/lock_dir\n",
      "INFO (theano.gof.compilelock): Waiting for existing lock by process '4601' (I am process '4594')\n",
      "INFO (theano.gof.compilelock): To manually release the lock, delete /Users/felixmolter/.theano/compiledir_Darwin-17.7.0-x86_64-i386-64bit-i386-3.6.8-64/lock_dir\n"
     ]
    },
    {
     "name": "stdout",
     "output_type": "stream",
     "text": [
      "Fitting 1 model(s) using MCMC...\n",
      "  Fitting model 1 of 1...\n"
     ]
    },
    {
     "name": "stderr",
     "output_type": "stream",
     "text": [
      "INFO (theano.gof.compilelock): Waiting for existing lock by process '4586' (I am process '4587')\n",
      "INFO (theano.gof.compilelock): To manually release the lock, delete /Users/felixmolter/.theano/compiledir_Darwin-17.7.0-x86_64-i386-64bit-i386-3.6.8-64/lock_dir\n",
      "INFO (theano.gof.compilelock): Waiting for existing lock by process '4586' (I am process '4604')\n",
      "INFO (theano.gof.compilelock): To manually release the lock, delete /Users/felixmolter/.theano/compiledir_Darwin-17.7.0-x86_64-i386-64bit-i386-3.6.8-64/lock_dir\n",
      "INFO (theano.gof.compilelock): Waiting for existing lock by process '4586' (I am process '4584')\n",
      "INFO (theano.gof.compilelock): To manually release the lock, delete /Users/felixmolter/.theano/compiledir_Darwin-17.7.0-x86_64-i386-64bit-i386-3.6.8-64/lock_dir\n",
      "INFO (theano.gof.compilelock): Waiting for existing lock by process '4586' (I am process '4591')\n",
      "INFO (theano.gof.compilelock): Waiting for existing lock by process '4586' (I am process '4595')\n",
      "INFO (theano.gof.compilelock): Waiting for existing lock by process '4586' (I am process '4592')\n",
      "INFO (theano.gof.compilelock): To manually release the lock, delete /Users/felixmolter/.theano/compiledir_Darwin-17.7.0-x86_64-i386-64bit-i386-3.6.8-64/lock_dir\n",
      "INFO (theano.gof.compilelock): To manually release the lock, delete /Users/felixmolter/.theano/compiledir_Darwin-17.7.0-x86_64-i386-64bit-i386-3.6.8-64/lock_dir\n",
      "INFO (theano.gof.compilelock): To manually release the lock, delete /Users/felixmolter/.theano/compiledir_Darwin-17.7.0-x86_64-i386-64bit-i386-3.6.8-64/lock_dir\n",
      "INFO (theano.gof.compilelock): Waiting for existing lock by process '4586' (I am process '4599')\n",
      "INFO (theano.gof.compilelock): Waiting for existing lock by process '4586' (I am process '4598')\n",
      "INFO (theano.gof.compilelock): Waiting for existing lock by process '4586' (I am process '4600')\n",
      "INFO (theano.gof.compilelock): Waiting for existing lock by process '4586' (I am process '4603')\n",
      "INFO (theano.gof.compilelock): To manually release the lock, delete /Users/felixmolter/.theano/compiledir_Darwin-17.7.0-x86_64-i386-64bit-i386-3.6.8-64/lock_dir\n",
      "INFO (theano.gof.compilelock): To manually release the lock, delete /Users/felixmolter/.theano/compiledir_Darwin-17.7.0-x86_64-i386-64bit-i386-3.6.8-64/lock_dir\n",
      "INFO (theano.gof.compilelock): To manually release the lock, delete /Users/felixmolter/.theano/compiledir_Darwin-17.7.0-x86_64-i386-64bit-i386-3.6.8-64/lock_dir\n",
      "INFO (theano.gof.compilelock): To manually release the lock, delete /Users/felixmolter/.theano/compiledir_Darwin-17.7.0-x86_64-i386-64bit-i386-3.6.8-64/lock_dir\n",
      "INFO (theano.gof.compilelock): Waiting for existing lock by process '4586' (I am process '4602')\n",
      "INFO (theano.gof.compilelock): Waiting for existing lock by process '4586' (I am process '4605')\n",
      "INFO (theano.gof.compilelock): Waiting for existing lock by process '4586' (I am process '4593')\n",
      "INFO (theano.gof.compilelock): To manually release the lock, delete /Users/felixmolter/.theano/compiledir_Darwin-17.7.0-x86_64-i386-64bit-i386-3.6.8-64/lock_dir\n",
      "INFO (theano.gof.compilelock): To manually release the lock, delete /Users/felixmolter/.theano/compiledir_Darwin-17.7.0-x86_64-i386-64bit-i386-3.6.8-64/lock_dir\n",
      "INFO (theano.gof.compilelock): To manually release the lock, delete /Users/felixmolter/.theano/compiledir_Darwin-17.7.0-x86_64-i386-64bit-i386-3.6.8-64/lock_dir\n",
      "INFO (theano.gof.compilelock): Waiting for existing lock by process '4586' (I am process '4588')\n",
      "INFO (theano.gof.compilelock): Waiting for existing lock by process '4586' (I am process '4596')\n",
      "INFO (theano.gof.compilelock): Waiting for existing lock by process '4586' (I am process '4589')\n",
      "INFO (theano.gof.compilelock): To manually release the lock, delete /Users/felixmolter/.theano/compiledir_Darwin-17.7.0-x86_64-i386-64bit-i386-3.6.8-64/lock_dir\n",
      "INFO (theano.gof.compilelock): To manually release the lock, delete /Users/felixmolter/.theano/compiledir_Darwin-17.7.0-x86_64-i386-64bit-i386-3.6.8-64/lock_dir\n",
      "INFO (theano.gof.compilelock): To manually release the lock, delete /Users/felixmolter/.theano/compiledir_Darwin-17.7.0-x86_64-i386-64bit-i386-3.6.8-64/lock_dir\n",
      "INFO (theano.gof.compilelock): Waiting for existing lock by process '4586' (I am process '4594')\n",
      "INFO (theano.gof.compilelock): To manually release the lock, delete /Users/felixmolter/.theano/compiledir_Darwin-17.7.0-x86_64-i386-64bit-i386-3.6.8-64/lock_dir\n",
      "INFO (theano.gof.compilelock): Waiting for existing lock by process '4586' (I am process '4585')\n",
      "INFO (theano.gof.compilelock): To manually release the lock, delete /Users/felixmolter/.theano/compiledir_Darwin-17.7.0-x86_64-i386-64bit-i386-3.6.8-64/lock_dir\n",
      "INFO (theano.gof.compilelock): Waiting for existing lock by process '4587' (I am process '4585')\n",
      "INFO (theano.gof.compilelock): To manually release the lock, delete /Users/felixmolter/.theano/compiledir_Darwin-17.7.0-x86_64-i386-64bit-i386-3.6.8-64/lock_dir\n",
      "INFO (theano.gof.compilelock): Waiting for existing lock by process '4587' (I am process '4604')\n",
      "INFO (theano.gof.compilelock): To manually release the lock, delete /Users/felixmolter/.theano/compiledir_Darwin-17.7.0-x86_64-i386-64bit-i386-3.6.8-64/lock_dir\n",
      "INFO (theano.gof.compilelock): Waiting for existing lock by process '4587' (I am process '4584')\n",
      "INFO (theano.gof.compilelock): To manually release the lock, delete /Users/felixmolter/.theano/compiledir_Darwin-17.7.0-x86_64-i386-64bit-i386-3.6.8-64/lock_dir\n",
      "INFO (theano.gof.compilelock): Waiting for existing lock by process '4587' (I am process '4591')\n",
      "INFO (theano.gof.compilelock): Waiting for existing lock by process '4587' (I am process '4595')\n",
      "INFO (theano.gof.compilelock): Waiting for existing lock by process '4587' (I am process '4592')\n",
      "INFO (theano.gof.compilelock): To manually release the lock, delete /Users/felixmolter/.theano/compiledir_Darwin-17.7.0-x86_64-i386-64bit-i386-3.6.8-64/lock_dir\n",
      "INFO (theano.gof.compilelock): To manually release the lock, delete /Users/felixmolter/.theano/compiledir_Darwin-17.7.0-x86_64-i386-64bit-i386-3.6.8-64/lock_dir\n",
      "INFO (theano.gof.compilelock): To manually release the lock, delete /Users/felixmolter/.theano/compiledir_Darwin-17.7.0-x86_64-i386-64bit-i386-3.6.8-64/lock_dir\n",
      "INFO (theano.gof.compilelock): Waiting for existing lock by process '4587' (I am process '4599')\n",
      "INFO (theano.gof.compilelock): Waiting for existing lock by process '4587' (I am process '4598')\n",
      "INFO (theano.gof.compilelock): Waiting for existing lock by process '4587' (I am process '4600')\n",
      "INFO (theano.gof.compilelock): Waiting for existing lock by process '4587' (I am process '4603')\n",
      "INFO (theano.gof.compilelock): To manually release the lock, delete /Users/felixmolter/.theano/compiledir_Darwin-17.7.0-x86_64-i386-64bit-i386-3.6.8-64/lock_dir\n",
      "INFO (theano.gof.compilelock): To manually release the lock, delete /Users/felixmolter/.theano/compiledir_Darwin-17.7.0-x86_64-i386-64bit-i386-3.6.8-64/lock_dir\n",
      "INFO (theano.gof.compilelock): To manually release the lock, delete /Users/felixmolter/.theano/compiledir_Darwin-17.7.0-x86_64-i386-64bit-i386-3.6.8-64/lock_dir\n",
      "INFO (theano.gof.compilelock): To manually release the lock, delete /Users/felixmolter/.theano/compiledir_Darwin-17.7.0-x86_64-i386-64bit-i386-3.6.8-64/lock_dir\n",
      "INFO (theano.gof.compilelock): Waiting for existing lock by process '4587' (I am process '4602')\n",
      "INFO (theano.gof.compilelock): Waiting for existing lock by process '4587' (I am process '4593')\n",
      "INFO (theano.gof.compilelock): Waiting for existing lock by process '4587' (I am process '4605')\n",
      "INFO (theano.gof.compilelock): To manually release the lock, delete /Users/felixmolter/.theano/compiledir_Darwin-17.7.0-x86_64-i386-64bit-i386-3.6.8-64/lock_dir\n",
      "INFO (theano.gof.compilelock): To manually release the lock, delete /Users/felixmolter/.theano/compiledir_Darwin-17.7.0-x86_64-i386-64bit-i386-3.6.8-64/lock_dir\n",
      "INFO (theano.gof.compilelock): To manually release the lock, delete /Users/felixmolter/.theano/compiledir_Darwin-17.7.0-x86_64-i386-64bit-i386-3.6.8-64/lock_dir\n",
      "INFO (theano.gof.compilelock): Waiting for existing lock by process '4587' (I am process '4596')\n",
      "INFO (theano.gof.compilelock): Waiting for existing lock by process '4587' (I am process '4588')\n",
      "INFO (theano.gof.compilelock): Waiting for existing lock by process '4587' (I am process '4589')\n"
     ]
    },
    {
     "name": "stderr",
     "output_type": "stream",
     "text": [
      "INFO (theano.gof.compilelock): To manually release the lock, delete /Users/felixmolter/.theano/compiledir_Darwin-17.7.0-x86_64-i386-64bit-i386-3.6.8-64/lock_dir\n",
      "INFO (theano.gof.compilelock): To manually release the lock, delete /Users/felixmolter/.theano/compiledir_Darwin-17.7.0-x86_64-i386-64bit-i386-3.6.8-64/lock_dir\n",
      "INFO (theano.gof.compilelock): To manually release the lock, delete /Users/felixmolter/.theano/compiledir_Darwin-17.7.0-x86_64-i386-64bit-i386-3.6.8-64/lock_dir\n",
      "INFO (theano.gof.compilelock): Waiting for existing lock by process '4587' (I am process '4594')\n",
      "INFO (theano.gof.compilelock): To manually release the lock, delete /Users/felixmolter/.theano/compiledir_Darwin-17.7.0-x86_64-i386-64bit-i386-3.6.8-64/lock_dir\n",
      "INFO (theano.gof.compilelock): Waiting for existing lock by process '4587' (I am process '4586')\n",
      "INFO (theano.gof.compilelock): To manually release the lock, delete /Users/felixmolter/.theano/compiledir_Darwin-17.7.0-x86_64-i386-64bit-i386-3.6.8-64/lock_dir\n",
      "INFO (theano.gof.compilelock): Waiting for existing lock by process '4587' (I am process '4597')\n",
      "INFO (theano.gof.compilelock): To manually release the lock, delete /Users/felixmolter/.theano/compiledir_Darwin-17.7.0-x86_64-i386-64bit-i386-3.6.8-64/lock_dir\n",
      "INFO (theano.gof.compilelock): Waiting for existing lock by process '4587' (I am process '4590')\n",
      "INFO (theano.gof.compilelock): To manually release the lock, delete /Users/felixmolter/.theano/compiledir_Darwin-17.7.0-x86_64-i386-64bit-i386-3.6.8-64/lock_dir\n"
     ]
    },
    {
     "name": "stdout",
     "output_type": "stream",
     "text": [
      "Fitting 1 model(s) using MCMC...\n",
      "  Fitting model 1 of 1...\n"
     ]
    },
    {
     "name": "stderr",
     "output_type": "stream",
     "text": [
      "INFO (theano.gof.compilelock): Waiting for existing lock by process '4587' (I am process '4585')\n",
      "INFO (theano.gof.compilelock): To manually release the lock, delete /Users/felixmolter/.theano/compiledir_Darwin-17.7.0-x86_64-i386-64bit-i386-3.6.8-64/lock_dir\n",
      "INFO (theano.gof.compilelock): Waiting for existing lock by process '4587' (I am process '4601')\n",
      "INFO (theano.gof.compilelock): To manually release the lock, delete /Users/felixmolter/.theano/compiledir_Darwin-17.7.0-x86_64-i386-64bit-i386-3.6.8-64/lock_dir\n",
      "INFO (theano.gof.compilelock): Waiting for existing lock by process '4587' (I am process '4604')\n",
      "INFO (theano.gof.compilelock): To manually release the lock, delete /Users/felixmolter/.theano/compiledir_Darwin-17.7.0-x86_64-i386-64bit-i386-3.6.8-64/lock_dir\n",
      "INFO (theano.gof.compilelock): Waiting for existing lock by process '4587' (I am process '4584')\n",
      "INFO (theano.gof.compilelock): To manually release the lock, delete /Users/felixmolter/.theano/compiledir_Darwin-17.7.0-x86_64-i386-64bit-i386-3.6.8-64/lock_dir\n",
      "INFO (theano.gof.compilelock): Waiting for existing lock by process '4587' (I am process '4595')\n",
      "INFO (theano.gof.compilelock): Waiting for existing lock by process '4587' (I am process '4591')\n",
      "INFO (theano.gof.compilelock): Waiting for existing lock by process '4587' (I am process '4592')\n",
      "INFO (theano.gof.compilelock): To manually release the lock, delete /Users/felixmolter/.theano/compiledir_Darwin-17.7.0-x86_64-i386-64bit-i386-3.6.8-64/lock_dir\n",
      "INFO (theano.gof.compilelock): To manually release the lock, delete /Users/felixmolter/.theano/compiledir_Darwin-17.7.0-x86_64-i386-64bit-i386-3.6.8-64/lock_dir\n",
      "INFO (theano.gof.compilelock): To manually release the lock, delete /Users/felixmolter/.theano/compiledir_Darwin-17.7.0-x86_64-i386-64bit-i386-3.6.8-64/lock_dir\n",
      "INFO (theano.gof.compilelock): Waiting for existing lock by process '4587' (I am process '4598')\n",
      "INFO (theano.gof.compilelock): Waiting for existing lock by process '4587' (I am process '4599')\n",
      "INFO (theano.gof.compilelock): Waiting for existing lock by process '4587' (I am process '4600')\n",
      "INFO (theano.gof.compilelock): Waiting for existing lock by process '4587' (I am process '4603')\n",
      "INFO (theano.gof.compilelock): To manually release the lock, delete /Users/felixmolter/.theano/compiledir_Darwin-17.7.0-x86_64-i386-64bit-i386-3.6.8-64/lock_dir\n",
      "INFO (theano.gof.compilelock): To manually release the lock, delete /Users/felixmolter/.theano/compiledir_Darwin-17.7.0-x86_64-i386-64bit-i386-3.6.8-64/lock_dir\n",
      "INFO (theano.gof.compilelock): To manually release the lock, delete /Users/felixmolter/.theano/compiledir_Darwin-17.7.0-x86_64-i386-64bit-i386-3.6.8-64/lock_dir\n",
      "INFO (theano.gof.compilelock): To manually release the lock, delete /Users/felixmolter/.theano/compiledir_Darwin-17.7.0-x86_64-i386-64bit-i386-3.6.8-64/lock_dir\n",
      "INFO (theano.gof.compilelock): Waiting for existing lock by process '4587' (I am process '4602')\n",
      "INFO (theano.gof.compilelock): Waiting for existing lock by process '4587' (I am process '4593')\n",
      "INFO (theano.gof.compilelock): To manually release the lock, delete /Users/felixmolter/.theano/compiledir_Darwin-17.7.0-x86_64-i386-64bit-i386-3.6.8-64/lock_dir\n",
      "INFO (theano.gof.compilelock): Waiting for existing lock by process '4587' (I am process '4605')\n",
      "INFO (theano.gof.compilelock): To manually release the lock, delete /Users/felixmolter/.theano/compiledir_Darwin-17.7.0-x86_64-i386-64bit-i386-3.6.8-64/lock_dir\n",
      "INFO (theano.gof.compilelock): To manually release the lock, delete /Users/felixmolter/.theano/compiledir_Darwin-17.7.0-x86_64-i386-64bit-i386-3.6.8-64/lock_dir\n",
      "INFO (theano.gof.compilelock): Waiting for existing lock by process '4587' (I am process '4596')\n",
      "INFO (theano.gof.compilelock): Waiting for existing lock by process '4587' (I am process '4588')\n",
      "INFO (theano.gof.compilelock): Waiting for existing lock by process '4587' (I am process '4589')\n",
      "INFO (theano.gof.compilelock): To manually release the lock, delete /Users/felixmolter/.theano/compiledir_Darwin-17.7.0-x86_64-i386-64bit-i386-3.6.8-64/lock_dir\n",
      "INFO (theano.gof.compilelock): To manually release the lock, delete /Users/felixmolter/.theano/compiledir_Darwin-17.7.0-x86_64-i386-64bit-i386-3.6.8-64/lock_dir\n",
      "INFO (theano.gof.compilelock): To manually release the lock, delete /Users/felixmolter/.theano/compiledir_Darwin-17.7.0-x86_64-i386-64bit-i386-3.6.8-64/lock_dir\n",
      "INFO (theano.gof.compilelock): Waiting for existing lock by process '4587' (I am process '4594')\n",
      "INFO (theano.gof.compilelock): To manually release the lock, delete /Users/felixmolter/.theano/compiledir_Darwin-17.7.0-x86_64-i386-64bit-i386-3.6.8-64/lock_dir\n",
      "INFO (theano.gof.compilelock): Waiting for existing lock by process '4587' (I am process '4586')\n",
      "INFO (theano.gof.compilelock): To manually release the lock, delete /Users/felixmolter/.theano/compiledir_Darwin-17.7.0-x86_64-i386-64bit-i386-3.6.8-64/lock_dir\n",
      "INFO (theano.gof.compilelock): Waiting for existing lock by process '4597' (I am process '4590')\n",
      "INFO (theano.gof.compilelock): To manually release the lock, delete /Users/felixmolter/.theano/compiledir_Darwin-17.7.0-x86_64-i386-64bit-i386-3.6.8-64/lock_dir\n",
      "INFO (theano.gof.compilelock): Waiting for existing lock by process '4587' (I am process '4604')\n",
      "INFO (theano.gof.compilelock): To manually release the lock, delete /Users/felixmolter/.theano/compiledir_Darwin-17.7.0-x86_64-i386-64bit-i386-3.6.8-64/lock_dir\n",
      "INFO (theano.gof.compilelock): Waiting for existing lock by process '4587' (I am process '4584')\n",
      "INFO (theano.gof.compilelock): To manually release the lock, delete /Users/felixmolter/.theano/compiledir_Darwin-17.7.0-x86_64-i386-64bit-i386-3.6.8-64/lock_dir\n",
      "INFO (theano.gof.compilelock): Waiting for existing lock by process '4587' (I am process '4595')\n",
      "INFO (theano.gof.compilelock): Waiting for existing lock by process '4587' (I am process '4591')\n",
      "INFO (theano.gof.compilelock): Waiting for existing lock by process '4587' (I am process '4592')\n",
      "INFO (theano.gof.compilelock): To manually release the lock, delete /Users/felixmolter/.theano/compiledir_Darwin-17.7.0-x86_64-i386-64bit-i386-3.6.8-64/lock_dir\n",
      "INFO (theano.gof.compilelock): To manually release the lock, delete /Users/felixmolter/.theano/compiledir_Darwin-17.7.0-x86_64-i386-64bit-i386-3.6.8-64/lock_dir\n",
      "INFO (theano.gof.compilelock): To manually release the lock, delete /Users/felixmolter/.theano/compiledir_Darwin-17.7.0-x86_64-i386-64bit-i386-3.6.8-64/lock_dir\n",
      "INFO (theano.gof.compilelock): Waiting for existing lock by process '4587' (I am process '4599')\n",
      "INFO (theano.gof.compilelock): Waiting for existing lock by process '4587' (I am process '4598')\n",
      "INFO (theano.gof.compilelock): To manually release the lock, delete /Users/felixmolter/.theano/compiledir_Darwin-17.7.0-x86_64-i386-64bit-i386-3.6.8-64/lock_dir\n",
      "INFO (theano.gof.compilelock): To manually release the lock, delete /Users/felixmolter/.theano/compiledir_Darwin-17.7.0-x86_64-i386-64bit-i386-3.6.8-64/lock_dir\n",
      "INFO (theano.gof.compilelock): Waiting for existing lock by process '4587' (I am process '4600')\n",
      "INFO (theano.gof.compilelock): Waiting for existing lock by process '4587' (I am process '4603')\n",
      "INFO (theano.gof.compilelock): To manually release the lock, delete /Users/felixmolter/.theano/compiledir_Darwin-17.7.0-x86_64-i386-64bit-i386-3.6.8-64/lock_dir\n",
      "INFO (theano.gof.compilelock): To manually release the lock, delete /Users/felixmolter/.theano/compiledir_Darwin-17.7.0-x86_64-i386-64bit-i386-3.6.8-64/lock_dir\n",
      "INFO (theano.gof.compilelock): Waiting for existing lock by process '4587' (I am process '4602')\n",
      "INFO (theano.gof.compilelock): Waiting for existing lock by process '4587' (I am process '4605')\n",
      "INFO (theano.gof.compilelock): Waiting for existing lock by process '4587' (I am process '4593')\n",
      "INFO (theano.gof.compilelock): To manually release the lock, delete /Users/felixmolter/.theano/compiledir_Darwin-17.7.0-x86_64-i386-64bit-i386-3.6.8-64/lock_dir\n",
      "INFO (theano.gof.compilelock): To manually release the lock, delete /Users/felixmolter/.theano/compiledir_Darwin-17.7.0-x86_64-i386-64bit-i386-3.6.8-64/lock_dir\n",
      "INFO (theano.gof.compilelock): To manually release the lock, delete /Users/felixmolter/.theano/compiledir_Darwin-17.7.0-x86_64-i386-64bit-i386-3.6.8-64/lock_dir\n"
     ]
    },
    {
     "name": "stderr",
     "output_type": "stream",
     "text": [
      "INFO (theano.gof.compilelock): Waiting for existing lock by process '4587' (I am process '4596')\n",
      "INFO (theano.gof.compilelock): Waiting for existing lock by process '4587' (I am process '4589')\n",
      "INFO (theano.gof.compilelock): Waiting for existing lock by process '4587' (I am process '4588')\n",
      "INFO (theano.gof.compilelock): To manually release the lock, delete /Users/felixmolter/.theano/compiledir_Darwin-17.7.0-x86_64-i386-64bit-i386-3.6.8-64/lock_dir\n",
      "INFO (theano.gof.compilelock): To manually release the lock, delete /Users/felixmolter/.theano/compiledir_Darwin-17.7.0-x86_64-i386-64bit-i386-3.6.8-64/lock_dir\n",
      "INFO (theano.gof.compilelock): To manually release the lock, delete /Users/felixmolter/.theano/compiledir_Darwin-17.7.0-x86_64-i386-64bit-i386-3.6.8-64/lock_dir\n",
      "INFO (theano.gof.compilelock): Waiting for existing lock by process '4587' (I am process '4594')\n",
      "INFO (theano.gof.compilelock): To manually release the lock, delete /Users/felixmolter/.theano/compiledir_Darwin-17.7.0-x86_64-i386-64bit-i386-3.6.8-64/lock_dir\n",
      "INFO (theano.gof.compilelock): Waiting for existing lock by process '4601' (I am process '4585')\n",
      "INFO (theano.gof.compilelock): To manually release the lock, delete /Users/felixmolter/.theano/compiledir_Darwin-17.7.0-x86_64-i386-64bit-i386-3.6.8-64/lock_dir\n",
      "INFO (theano.gof.compilelock): Waiting for existing lock by process '4601' (I am process '4586')\n",
      "INFO (theano.gof.compilelock): To manually release the lock, delete /Users/felixmolter/.theano/compiledir_Darwin-17.7.0-x86_64-i386-64bit-i386-3.6.8-64/lock_dir\n",
      "INFO (theano.gof.compilelock): Waiting for existing lock by process '4604' (I am process '4584')\n",
      "INFO (theano.gof.compilelock): To manually release the lock, delete /Users/felixmolter/.theano/compiledir_Darwin-17.7.0-x86_64-i386-64bit-i386-3.6.8-64/lock_dir\n",
      "INFO (theano.gof.compilelock): Waiting for existing lock by process '4604' (I am process '4591')\n",
      "INFO (theano.gof.compilelock): Waiting for existing lock by process '4604' (I am process '4595')\n",
      "INFO (theano.gof.compilelock): Waiting for existing lock by process '4604' (I am process '4592')\n",
      "INFO (theano.gof.compilelock): To manually release the lock, delete /Users/felixmolter/.theano/compiledir_Darwin-17.7.0-x86_64-i386-64bit-i386-3.6.8-64/lock_dir\n",
      "INFO (theano.gof.compilelock): To manually release the lock, delete /Users/felixmolter/.theano/compiledir_Darwin-17.7.0-x86_64-i386-64bit-i386-3.6.8-64/lock_dir\n",
      "INFO (theano.gof.compilelock): To manually release the lock, delete /Users/felixmolter/.theano/compiledir_Darwin-17.7.0-x86_64-i386-64bit-i386-3.6.8-64/lock_dir\n",
      "INFO (theano.gof.compilelock): Waiting for existing lock by process '4604' (I am process '4598')\n",
      "INFO (theano.gof.compilelock): Waiting for existing lock by process '4604' (I am process '4599')\n",
      "INFO (theano.gof.compilelock): To manually release the lock, delete /Users/felixmolter/.theano/compiledir_Darwin-17.7.0-x86_64-i386-64bit-i386-3.6.8-64/lock_dir\n",
      "INFO (theano.gof.compilelock): Waiting for existing lock by process '4604' (I am process '4603')\n",
      "INFO (theano.gof.compilelock): Waiting for existing lock by process '4604' (I am process '4600')\n",
      "INFO (theano.gof.compilelock): To manually release the lock, delete /Users/felixmolter/.theano/compiledir_Darwin-17.7.0-x86_64-i386-64bit-i386-3.6.8-64/lock_dir\n",
      "INFO (theano.gof.compilelock): To manually release the lock, delete /Users/felixmolter/.theano/compiledir_Darwin-17.7.0-x86_64-i386-64bit-i386-3.6.8-64/lock_dir\n",
      "INFO (theano.gof.compilelock): To manually release the lock, delete /Users/felixmolter/.theano/compiledir_Darwin-17.7.0-x86_64-i386-64bit-i386-3.6.8-64/lock_dir\n",
      "INFO (theano.gof.compilelock): Waiting for existing lock by process '4604' (I am process '4602')\n",
      "INFO (theano.gof.compilelock): Waiting for existing lock by process '4604' (I am process '4593')\n",
      "INFO (theano.gof.compilelock): Waiting for existing lock by process '4604' (I am process '4605')\n",
      "INFO (theano.gof.compilelock): To manually release the lock, delete /Users/felixmolter/.theano/compiledir_Darwin-17.7.0-x86_64-i386-64bit-i386-3.6.8-64/lock_dir\n",
      "INFO (theano.gof.compilelock): To manually release the lock, delete /Users/felixmolter/.theano/compiledir_Darwin-17.7.0-x86_64-i386-64bit-i386-3.6.8-64/lock_dir\n",
      "INFO (theano.gof.compilelock): Waiting for existing lock by process '4604' (I am process '4588')\n",
      "INFO (theano.gof.compilelock): To manually release the lock, delete /Users/felixmolter/.theano/compiledir_Darwin-17.7.0-x86_64-i386-64bit-i386-3.6.8-64/lock_dir\n",
      "INFO (theano.gof.compilelock): Waiting for existing lock by process '4604' (I am process '4589')\n",
      "INFO (theano.gof.compilelock): Waiting for existing lock by process '4604' (I am process '4596')\n",
      "INFO (theano.gof.compilelock): To manually release the lock, delete /Users/felixmolter/.theano/compiledir_Darwin-17.7.0-x86_64-i386-64bit-i386-3.6.8-64/lock_dir\n",
      "INFO (theano.gof.compilelock): To manually release the lock, delete /Users/felixmolter/.theano/compiledir_Darwin-17.7.0-x86_64-i386-64bit-i386-3.6.8-64/lock_dir\n",
      "INFO (theano.gof.compilelock): To manually release the lock, delete /Users/felixmolter/.theano/compiledir_Darwin-17.7.0-x86_64-i386-64bit-i386-3.6.8-64/lock_dir\n",
      "INFO (theano.gof.compilelock): Waiting for existing lock by process '4604' (I am process '4594')\n",
      "INFO (theano.gof.compilelock): To manually release the lock, delete /Users/felixmolter/.theano/compiledir_Darwin-17.7.0-x86_64-i386-64bit-i386-3.6.8-64/lock_dir\n",
      "Sequential sampling (2 chains in 1 job)\n",
      "CompoundStep\n",
      ">Metropolis: [tau_offset]\n",
      ">Metropolis: [tau_sd]\n",
      ">Metropolis: [tau_mu]\n",
      ">Metropolis: [s_offset]\n",
      ">Metropolis: [s_sd]\n",
      ">Metropolis: [s_mu]\n",
      ">Metropolis: [gamma_offset]\n",
      ">Metropolis: [gamma_sd]\n",
      ">Metropolis: [gamma_mu]\n",
      ">Metropolis: [v_offset]\n",
      ">Metropolis: [v_sd]\n",
      ">Metropolis: [v_mu]\n",
      "INFO (theano.gof.compilelock): Waiting for existing lock by process '4601' (I am process '4584')\n",
      "INFO (theano.gof.compilelock): To manually release the lock, delete /Users/felixmolter/.theano/compiledir_Darwin-17.7.0-x86_64-i386-64bit-i386-3.6.8-64/lock_dir\n",
      "INFO (theano.gof.compilelock): Waiting for existing lock by process '4601' (I am process '4592')\n",
      "INFO (theano.gof.compilelock): Waiting for existing lock by process '4601' (I am process '4595')\n",
      "INFO (theano.gof.compilelock): Waiting for existing lock by process '4601' (I am process '4591')\n",
      "INFO (theano.gof.compilelock): To manually release the lock, delete /Users/felixmolter/.theano/compiledir_Darwin-17.7.0-x86_64-i386-64bit-i386-3.6.8-64/lock_dir\n",
      "INFO (theano.gof.compilelock): To manually release the lock, delete /Users/felixmolter/.theano/compiledir_Darwin-17.7.0-x86_64-i386-64bit-i386-3.6.8-64/lock_dir\n",
      "INFO (theano.gof.compilelock): To manually release the lock, delete /Users/felixmolter/.theano/compiledir_Darwin-17.7.0-x86_64-i386-64bit-i386-3.6.8-64/lock_dir\n",
      "INFO (theano.gof.compilelock): Waiting for existing lock by process '4601' (I am process '4599')\n",
      "INFO (theano.gof.compilelock): Waiting for existing lock by process '4601' (I am process '4598')\n",
      "INFO (theano.gof.compilelock): To manually release the lock, delete /Users/felixmolter/.theano/compiledir_Darwin-17.7.0-x86_64-i386-64bit-i386-3.6.8-64/lock_dir\n",
      "INFO (theano.gof.compilelock): Waiting for existing lock by process '4601' (I am process '4603')\n",
      "INFO (theano.gof.compilelock): To manually release the lock, delete /Users/felixmolter/.theano/compiledir_Darwin-17.7.0-x86_64-i386-64bit-i386-3.6.8-64/lock_dir\n",
      "INFO (theano.gof.compilelock): Waiting for existing lock by process '4601' (I am process '4600')\n",
      "INFO (theano.gof.compilelock): To manually release the lock, delete /Users/felixmolter/.theano/compiledir_Darwin-17.7.0-x86_64-i386-64bit-i386-3.6.8-64/lock_dir\n",
      "INFO (theano.gof.compilelock): Waiting for existing lock by process '4601' (I am process '4602')\n",
      "INFO (theano.gof.compilelock): To manually release the lock, delete /Users/felixmolter/.theano/compiledir_Darwin-17.7.0-x86_64-i386-64bit-i386-3.6.8-64/lock_dir\n",
      "INFO (theano.gof.compilelock): Waiting for existing lock by process '4601' (I am process '4593')\n",
      "INFO (theano.gof.compilelock): Waiting for existing lock by process '4601' (I am process '4605')\n",
      "INFO (theano.gof.compilelock): To manually release the lock, delete /Users/felixmolter/.theano/compiledir_Darwin-17.7.0-x86_64-i386-64bit-i386-3.6.8-64/lock_dir\n"
     ]
    },
    {
     "name": "stderr",
     "output_type": "stream",
     "text": [
      "INFO (theano.gof.compilelock): To manually release the lock, delete /Users/felixmolter/.theano/compiledir_Darwin-17.7.0-x86_64-i386-64bit-i386-3.6.8-64/lock_dir\n",
      "INFO (theano.gof.compilelock): Waiting for existing lock by process '4601' (I am process '4589')\n",
      "INFO (theano.gof.compilelock): Waiting for existing lock by process '4601' (I am process '4588')\n",
      "INFO (theano.gof.compilelock): To manually release the lock, delete /Users/felixmolter/.theano/compiledir_Darwin-17.7.0-x86_64-i386-64bit-i386-3.6.8-64/lock_dir\n",
      "INFO (theano.gof.compilelock): Waiting for existing lock by process '4601' (I am process '4596')\n",
      "INFO (theano.gof.compilelock): To manually release the lock, delete /Users/felixmolter/.theano/compiledir_Darwin-17.7.0-x86_64-i386-64bit-i386-3.6.8-64/lock_dir\n",
      "INFO (theano.gof.compilelock): To manually release the lock, delete /Users/felixmolter/.theano/compiledir_Darwin-17.7.0-x86_64-i386-64bit-i386-3.6.8-64/lock_dir\n",
      "INFO (theano.gof.compilelock): To manually release the lock, delete /Users/felixmolter/.theano/compiledir_Darwin-17.7.0-x86_64-i386-64bit-i386-3.6.8-64/lock_dir\n",
      "INFO (theano.gof.compilelock): Waiting for existing lock by process '4601' (I am process '4594')\n",
      "INFO (theano.gof.compilelock): To manually release the lock, delete /Users/felixmolter/.theano/compiledir_Darwin-17.7.0-x86_64-i386-64bit-i386-3.6.8-64/lock_dir\n",
      "Sequential sampling (2 chains in 1 job)\n",
      "CompoundStep\n",
      ">Metropolis: [tau_offset]\n",
      ">Metropolis: [tau_sd]\n",
      ">Metropolis: [tau_mu]\n",
      ">Metropolis: [s_offset]\n",
      ">Metropolis: [s_sd]\n",
      ">Metropolis: [s_mu]\n",
      ">Metropolis: [gamma_offset]\n",
      ">Metropolis: [gamma_sd]\n",
      ">Metropolis: [gamma_mu]\n",
      ">Metropolis: [v_offset]\n",
      ">Metropolis: [v_sd]\n",
      ">Metropolis: [v_mu]\n",
      "INFO (theano.gof.compilelock): Waiting for existing lock by process '4587' (I am process '4604')\n",
      "INFO (theano.gof.compilelock): To manually release the lock, delete /Users/felixmolter/.theano/compiledir_Darwin-17.7.0-x86_64-i386-64bit-i386-3.6.8-64/lock_dir\n",
      "Sequential sampling (2 chains in 1 job)\n",
      "CompoundStep\n",
      ">Metropolis: [tau_offset]\n",
      ">Metropolis: [tau_sd]\n",
      ">Metropolis: [tau_mu]\n",
      ">Metropolis: [s_offset]\n",
      ">Metropolis: [s_sd]\n",
      ">Metropolis: [s_mu]\n",
      ">Metropolis: [gamma_offset]\n",
      ">Metropolis: [gamma_sd]\n",
      ">Metropolis: [gamma_mu]\n",
      ">Metropolis: [v_offset]\n",
      ">Metropolis: [v_sd]\n",
      ">Metropolis: [v_mu]\n",
      "INFO (theano.gof.compilelock): Waiting for existing lock by process '4586' (I am process '4585')\n",
      "INFO (theano.gof.compilelock): To manually release the lock, delete /Users/felixmolter/.theano/compiledir_Darwin-17.7.0-x86_64-i386-64bit-i386-3.6.8-64/lock_dir\n",
      "INFO (theano.gof.compilelock): Waiting for existing lock by process '4586' (I am process '4604')\n",
      "INFO (theano.gof.compilelock): To manually release the lock, delete /Users/felixmolter/.theano/compiledir_Darwin-17.7.0-x86_64-i386-64bit-i386-3.6.8-64/lock_dir\n",
      "INFO (theano.gof.compilelock): Waiting for existing lock by process '4584' (I am process '4592')\n",
      "INFO (theano.gof.compilelock): Waiting for existing lock by process '4584' (I am process '4595')\n",
      "INFO (theano.gof.compilelock): Waiting for existing lock by process '4584' (I am process '4591')\n",
      "INFO (theano.gof.compilelock): To manually release the lock, delete /Users/felixmolter/.theano/compiledir_Darwin-17.7.0-x86_64-i386-64bit-i386-3.6.8-64/lock_dir\n",
      "INFO (theano.gof.compilelock): To manually release the lock, delete /Users/felixmolter/.theano/compiledir_Darwin-17.7.0-x86_64-i386-64bit-i386-3.6.8-64/lock_dir\n",
      "INFO (theano.gof.compilelock): To manually release the lock, delete /Users/felixmolter/.theano/compiledir_Darwin-17.7.0-x86_64-i386-64bit-i386-3.6.8-64/lock_dir\n",
      "INFO (theano.gof.compilelock): Waiting for existing lock by process '4584' (I am process '4599')\n",
      "INFO (theano.gof.compilelock): Waiting for existing lock by process '4584' (I am process '4598')\n",
      "INFO (theano.gof.compilelock): To manually release the lock, delete /Users/felixmolter/.theano/compiledir_Darwin-17.7.0-x86_64-i386-64bit-i386-3.6.8-64/lock_dir\n",
      "INFO (theano.gof.compilelock): To manually release the lock, delete /Users/felixmolter/.theano/compiledir_Darwin-17.7.0-x86_64-i386-64bit-i386-3.6.8-64/lock_dir\n",
      "INFO (theano.gof.compilelock): Waiting for existing lock by process '4584' (I am process '4603')\n",
      "INFO (theano.gof.compilelock): Waiting for existing lock by process '4584' (I am process '4600')\n",
      "INFO (theano.gof.compilelock): To manually release the lock, delete /Users/felixmolter/.theano/compiledir_Darwin-17.7.0-x86_64-i386-64bit-i386-3.6.8-64/lock_dir\n",
      "INFO (theano.gof.compilelock): Waiting for existing lock by process '4584' (I am process '4602')\n",
      "INFO (theano.gof.compilelock): To manually release the lock, delete /Users/felixmolter/.theano/compiledir_Darwin-17.7.0-x86_64-i386-64bit-i386-3.6.8-64/lock_dir\n",
      "INFO (theano.gof.compilelock): Waiting for existing lock by process '4584' (I am process '4593')\n",
      "INFO (theano.gof.compilelock): Waiting for existing lock by process '4584' (I am process '4605')\n",
      "INFO (theano.gof.compilelock): To manually release the lock, delete /Users/felixmolter/.theano/compiledir_Darwin-17.7.0-x86_64-i386-64bit-i386-3.6.8-64/lock_dir\n",
      "INFO (theano.gof.compilelock): To manually release the lock, delete /Users/felixmolter/.theano/compiledir_Darwin-17.7.0-x86_64-i386-64bit-i386-3.6.8-64/lock_dir\n",
      "INFO (theano.gof.compilelock): Waiting for existing lock by process '4584' (I am process '4588')\n",
      "INFO (theano.gof.compilelock): Waiting for existing lock by process '4584' (I am process '4589')\n",
      "INFO (theano.gof.compilelock): Waiting for existing lock by process '4584' (I am process '4596')\n",
      "INFO (theano.gof.compilelock): To manually release the lock, delete /Users/felixmolter/.theano/compiledir_Darwin-17.7.0-x86_64-i386-64bit-i386-3.6.8-64/lock_dir\n",
      "INFO (theano.gof.compilelock): To manually release the lock, delete /Users/felixmolter/.theano/compiledir_Darwin-17.7.0-x86_64-i386-64bit-i386-3.6.8-64/lock_dir\n",
      "INFO (theano.gof.compilelock): To manually release the lock, delete /Users/felixmolter/.theano/compiledir_Darwin-17.7.0-x86_64-i386-64bit-i386-3.6.8-64/lock_dir\n",
      "INFO (theano.gof.compilelock): To manually release the lock, delete /Users/felixmolter/.theano/compiledir_Darwin-17.7.0-x86_64-i386-64bit-i386-3.6.8-64/lock_dir\n",
      "INFO (theano.gof.compilelock): Waiting for existing lock by process '4584' (I am process '4594')\n",
      "INFO (theano.gof.compilelock): To manually release the lock, delete /Users/felixmolter/.theano/compiledir_Darwin-17.7.0-x86_64-i386-64bit-i386-3.6.8-64/lock_dir\n",
      "INFO (theano.gof.compilelock): Waiting for existing lock by process '4584' (I am process '4590')\n",
      "INFO (theano.gof.compilelock): To manually release the lock, delete /Users/felixmolter/.theano/compiledir_Darwin-17.7.0-x86_64-i386-64bit-i386-3.6.8-64/lock_dir\n",
      "INFO (theano.gof.compilelock): Waiting for existing lock by process '4584' (I am process '4601')\n",
      "INFO (theano.gof.compilelock): To manually release the lock, delete /Users/felixmolter/.theano/compiledir_Darwin-17.7.0-x86_64-i386-64bit-i386-3.6.8-64/lock_dir\n",
      "INFO (theano.gof.compilelock): Waiting for existing lock by unknown process (I am process '4595')\n",
      "INFO (theano.gof.compilelock): Waiting for existing lock by unknown process (I am process '4592')\n",
      "INFO (theano.gof.compilelock): To manually release the lock, delete /Users/felixmolter/.theano/compiledir_Darwin-17.7.0-x86_64-i386-64bit-i386-3.6.8-64/lock_dir\n",
      "INFO (theano.gof.compilelock): To manually release the lock, delete /Users/felixmolter/.theano/compiledir_Darwin-17.7.0-x86_64-i386-64bit-i386-3.6.8-64/lock_dir\n",
      "INFO (theano.gof.compilelock): Waiting for existing lock by process '4591' (I am process '4599')\n",
      "INFO (theano.gof.compilelock): Waiting for existing lock by process '4591' (I am process '4598')\n",
      "INFO (theano.gof.compilelock): To manually release the lock, delete /Users/felixmolter/.theano/compiledir_Darwin-17.7.0-x86_64-i386-64bit-i386-3.6.8-64/lock_dir\n",
      "INFO (theano.gof.compilelock): Waiting for existing lock by process '4591' (I am process '4603')\n",
      "INFO (theano.gof.compilelock): To manually release the lock, delete /Users/felixmolter/.theano/compiledir_Darwin-17.7.0-x86_64-i386-64bit-i386-3.6.8-64/lock_dir\n",
      "INFO (theano.gof.compilelock): Waiting for existing lock by process '4591' (I am process '4600')\n",
      "INFO (theano.gof.compilelock): To manually release the lock, delete /Users/felixmolter/.theano/compiledir_Darwin-17.7.0-x86_64-i386-64bit-i386-3.6.8-64/lock_dir\n"
     ]
    },
    {
     "name": "stderr",
     "output_type": "stream",
     "text": [
      "INFO (theano.gof.compilelock): Waiting for existing lock by process '4591' (I am process '4602')\n",
      "INFO (theano.gof.compilelock): To manually release the lock, delete /Users/felixmolter/.theano/compiledir_Darwin-17.7.0-x86_64-i386-64bit-i386-3.6.8-64/lock_dir\n",
      "INFO (theano.gof.compilelock): Waiting for existing lock by process '4591' (I am process '4593')\n",
      "INFO (theano.gof.compilelock): To manually release the lock, delete /Users/felixmolter/.theano/compiledir_Darwin-17.7.0-x86_64-i386-64bit-i386-3.6.8-64/lock_dir\n",
      "INFO (theano.gof.compilelock): Waiting for existing lock by process '4591' (I am process '4605')\n",
      "INFO (theano.gof.compilelock): Waiting for existing lock by process '4591' (I am process '4588')\n",
      "INFO (theano.gof.compilelock): To manually release the lock, delete /Users/felixmolter/.theano/compiledir_Darwin-17.7.0-x86_64-i386-64bit-i386-3.6.8-64/lock_dir\n",
      "INFO (theano.gof.compilelock): Waiting for existing lock by process '4591' (I am process '4589')\n",
      "INFO (theano.gof.compilelock): Waiting for existing lock by process '4591' (I am process '4596')\n",
      "INFO (theano.gof.compilelock): To manually release the lock, delete /Users/felixmolter/.theano/compiledir_Darwin-17.7.0-x86_64-i386-64bit-i386-3.6.8-64/lock_dir\n",
      "INFO (theano.gof.compilelock): To manually release the lock, delete /Users/felixmolter/.theano/compiledir_Darwin-17.7.0-x86_64-i386-64bit-i386-3.6.8-64/lock_dir\n",
      "INFO (theano.gof.compilelock): To manually release the lock, delete /Users/felixmolter/.theano/compiledir_Darwin-17.7.0-x86_64-i386-64bit-i386-3.6.8-64/lock_dir\n",
      "INFO (theano.gof.compilelock): To manually release the lock, delete /Users/felixmolter/.theano/compiledir_Darwin-17.7.0-x86_64-i386-64bit-i386-3.6.8-64/lock_dir\n",
      "INFO (theano.gof.compilelock): Waiting for existing lock by process '4591' (I am process '4594')\n",
      "INFO (theano.gof.compilelock): To manually release the lock, delete /Users/felixmolter/.theano/compiledir_Darwin-17.7.0-x86_64-i386-64bit-i386-3.6.8-64/lock_dir\n",
      "INFO (theano.gof.compilelock): Waiting for existing lock by process '4591' (I am process '4604')\n",
      "INFO (theano.gof.compilelock): To manually release the lock, delete /Users/felixmolter/.theano/compiledir_Darwin-17.7.0-x86_64-i386-64bit-i386-3.6.8-64/lock_dir\n",
      "INFO (theano.gof.compilelock): Waiting for existing lock by process '4591' (I am process '4585')\n",
      "INFO (theano.gof.compilelock): To manually release the lock, delete /Users/felixmolter/.theano/compiledir_Darwin-17.7.0-x86_64-i386-64bit-i386-3.6.8-64/lock_dir\n"
     ]
    },
    {
     "name": "stdout",
     "output_type": "stream",
     "text": [
      "Fitting 1 model(s) using MCMC...\n",
      "  Fitting model 1 of 1...\n"
     ]
    },
    {
     "name": "stderr",
     "output_type": "stream",
     "text": [
      "INFO (theano.gof.compilelock): Waiting for existing lock by unknown process (I am process '4592')\n",
      "INFO (theano.gof.compilelock): To manually release the lock, delete /Users/felixmolter/.theano/compiledir_Darwin-17.7.0-x86_64-i386-64bit-i386-3.6.8-64/lock_dir\n",
      "INFO (theano.gof.compilelock): Waiting for existing lock by process '4595' (I am process '4599')\n",
      "INFO (theano.gof.compilelock): Waiting for existing lock by process '4595' (I am process '4603')\n",
      "INFO (theano.gof.compilelock): Waiting for existing lock by process '4595' (I am process '4598')\n",
      "INFO (theano.gof.compilelock): To manually release the lock, delete /Users/felixmolter/.theano/compiledir_Darwin-17.7.0-x86_64-i386-64bit-i386-3.6.8-64/lock_dir\n",
      "INFO (theano.gof.compilelock): To manually release the lock, delete /Users/felixmolter/.theano/compiledir_Darwin-17.7.0-x86_64-i386-64bit-i386-3.6.8-64/lock_dir\n",
      "INFO (theano.gof.compilelock): To manually release the lock, delete /Users/felixmolter/.theano/compiledir_Darwin-17.7.0-x86_64-i386-64bit-i386-3.6.8-64/lock_dir\n",
      "INFO (theano.gof.compilelock): Waiting for existing lock by process '4595' (I am process '4600')\n",
      "INFO (theano.gof.compilelock): Waiting for existing lock by process '4595' (I am process '4602')\n",
      "INFO (theano.gof.compilelock): To manually release the lock, delete /Users/felixmolter/.theano/compiledir_Darwin-17.7.0-x86_64-i386-64bit-i386-3.6.8-64/lock_dir\n",
      "INFO (theano.gof.compilelock): Waiting for existing lock by process '4595' (I am process '4593')\n",
      "INFO (theano.gof.compilelock): To manually release the lock, delete /Users/felixmolter/.theano/compiledir_Darwin-17.7.0-x86_64-i386-64bit-i386-3.6.8-64/lock_dir\n",
      "INFO (theano.gof.compilelock): To manually release the lock, delete /Users/felixmolter/.theano/compiledir_Darwin-17.7.0-x86_64-i386-64bit-i386-3.6.8-64/lock_dir\n",
      "INFO (theano.gof.compilelock): Waiting for existing lock by process '4595' (I am process '4588')\n",
      "INFO (theano.gof.compilelock): Waiting for existing lock by process '4595' (I am process '4605')\n",
      "INFO (theano.gof.compilelock): Waiting for existing lock by process '4595' (I am process '4589')\n",
      "INFO (theano.gof.compilelock): Waiting for existing lock by process '4595' (I am process '4596')\n",
      "INFO (theano.gof.compilelock): To manually release the lock, delete /Users/felixmolter/.theano/compiledir_Darwin-17.7.0-x86_64-i386-64bit-i386-3.6.8-64/lock_dir\n",
      "INFO (theano.gof.compilelock): To manually release the lock, delete /Users/felixmolter/.theano/compiledir_Darwin-17.7.0-x86_64-i386-64bit-i386-3.6.8-64/lock_dir\n",
      "INFO (theano.gof.compilelock): To manually release the lock, delete /Users/felixmolter/.theano/compiledir_Darwin-17.7.0-x86_64-i386-64bit-i386-3.6.8-64/lock_dir\n",
      "INFO (theano.gof.compilelock): To manually release the lock, delete /Users/felixmolter/.theano/compiledir_Darwin-17.7.0-x86_64-i386-64bit-i386-3.6.8-64/lock_dir\n",
      "INFO (theano.gof.compilelock): Waiting for existing lock by process '4595' (I am process '4594')\n",
      "INFO (theano.gof.compilelock): To manually release the lock, delete /Users/felixmolter/.theano/compiledir_Darwin-17.7.0-x86_64-i386-64bit-i386-3.6.8-64/lock_dir\n",
      "INFO (theano.gof.compilelock): Waiting for existing lock by process '4595' (I am process '4601')\n",
      "INFO (theano.gof.compilelock): To manually release the lock, delete /Users/felixmolter/.theano/compiledir_Darwin-17.7.0-x86_64-i386-64bit-i386-3.6.8-64/lock_dir\n",
      "INFO (theano.gof.compilelock): Waiting for existing lock by process '4595' (I am process '4586')\n",
      "INFO (theano.gof.compilelock): To manually release the lock, delete /Users/felixmolter/.theano/compiledir_Darwin-17.7.0-x86_64-i386-64bit-i386-3.6.8-64/lock_dir\n",
      "INFO (theano.gof.compilelock): Waiting for existing lock by process '4595' (I am process '4584')\n",
      "INFO (theano.gof.compilelock): To manually release the lock, delete /Users/felixmolter/.theano/compiledir_Darwin-17.7.0-x86_64-i386-64bit-i386-3.6.8-64/lock_dir\n",
      "Sequential sampling (2 chains in 1 job)\n",
      "CompoundStep\n",
      ">Metropolis: [tau_offset]\n",
      ">Metropolis: [tau_sd]\n",
      ">Metropolis: [tau_mu]\n",
      ">Metropolis: [s_offset]\n",
      ">Metropolis: [s_sd]\n",
      ">Metropolis: [s_mu]\n",
      ">Metropolis: [gamma_offset]\n",
      ">Metropolis: [gamma_sd]\n",
      ">Metropolis: [gamma_mu]\n",
      ">Metropolis: [v_offset]\n",
      ">Metropolis: [v_sd]\n",
      ">Metropolis: [v_mu]\n"
     ]
    },
    {
     "name": "stdout",
     "output_type": "stream",
     "text": [
      "Fitting 1 model(s) using MCMC...\n",
      "  Fitting model 1 of 1...\n"
     ]
    },
    {
     "name": "stderr",
     "output_type": "stream",
     "text": [
      "INFO (theano.gof.compilelock): Waiting for existing lock by process '4590' (I am process '4592')\n",
      "INFO (theano.gof.compilelock): Waiting for existing lock by process '4590' (I am process '4599')\n",
      "INFO (theano.gof.compilelock): To manually release the lock, delete /Users/felixmolter/.theano/compiledir_Darwin-17.7.0-x86_64-i386-64bit-i386-3.6.8-64/lock_dir\n",
      "INFO (theano.gof.compilelock): Waiting for existing lock by process '4590' (I am process '4598')\n",
      "INFO (theano.gof.compilelock): Waiting for existing lock by process '4590' (I am process '4603')\n",
      "INFO (theano.gof.compilelock): To manually release the lock, delete /Users/felixmolter/.theano/compiledir_Darwin-17.7.0-x86_64-i386-64bit-i386-3.6.8-64/lock_dir\n",
      "INFO (theano.gof.compilelock): To manually release the lock, delete /Users/felixmolter/.theano/compiledir_Darwin-17.7.0-x86_64-i386-64bit-i386-3.6.8-64/lock_dir\n",
      "INFO (theano.gof.compilelock): Waiting for existing lock by process '4590' (I am process '4600')\n",
      "INFO (theano.gof.compilelock): To manually release the lock, delete /Users/felixmolter/.theano/compiledir_Darwin-17.7.0-x86_64-i386-64bit-i386-3.6.8-64/lock_dir\n",
      "INFO (theano.gof.compilelock): To manually release the lock, delete /Users/felixmolter/.theano/compiledir_Darwin-17.7.0-x86_64-i386-64bit-i386-3.6.8-64/lock_dir\n",
      "INFO (theano.gof.compilelock): Waiting for existing lock by process '4590' (I am process '4593')\n",
      "INFO (theano.gof.compilelock): Waiting for existing lock by process '4590' (I am process '4602')\n",
      "INFO (theano.gof.compilelock): To manually release the lock, delete /Users/felixmolter/.theano/compiledir_Darwin-17.7.0-x86_64-i386-64bit-i386-3.6.8-64/lock_dir\n",
      "INFO (theano.gof.compilelock): To manually release the lock, delete /Users/felixmolter/.theano/compiledir_Darwin-17.7.0-x86_64-i386-64bit-i386-3.6.8-64/lock_dir\n",
      "INFO (theano.gof.compilelock): Waiting for existing lock by process '4590' (I am process '4605')\n",
      "INFO (theano.gof.compilelock): Waiting for existing lock by process '4590' (I am process '4588')\n",
      "INFO (theano.gof.compilelock): Waiting for existing lock by process '4590' (I am process '4589')\n",
      "INFO (theano.gof.compilelock): Waiting for existing lock by process '4590' (I am process '4596')\n",
      "INFO (theano.gof.compilelock): To manually release the lock, delete /Users/felixmolter/.theano/compiledir_Darwin-17.7.0-x86_64-i386-64bit-i386-3.6.8-64/lock_dir\n",
      "INFO (theano.gof.compilelock): To manually release the lock, delete /Users/felixmolter/.theano/compiledir_Darwin-17.7.0-x86_64-i386-64bit-i386-3.6.8-64/lock_dir\n",
      "INFO (theano.gof.compilelock): To manually release the lock, delete /Users/felixmolter/.theano/compiledir_Darwin-17.7.0-x86_64-i386-64bit-i386-3.6.8-64/lock_dir\n",
      "INFO (theano.gof.compilelock): To manually release the lock, delete /Users/felixmolter/.theano/compiledir_Darwin-17.7.0-x86_64-i386-64bit-i386-3.6.8-64/lock_dir\n",
      "INFO (theano.gof.compilelock): Waiting for existing lock by process '4590' (I am process '4594')\n",
      "INFO (theano.gof.compilelock): To manually release the lock, delete /Users/felixmolter/.theano/compiledir_Darwin-17.7.0-x86_64-i386-64bit-i386-3.6.8-64/lock_dir\n"
     ]
    },
    {
     "name": "stdout",
     "output_type": "stream",
     "text": [
      "Fitting 1 model(s) using MCMC...\n",
      "  Fitting model 1 of 1...\n"
     ]
    },
    {
     "name": "stderr",
     "output_type": "stream",
     "text": [
      "INFO (theano.gof.compilelock): Waiting for existing lock by process '4595' (I am process '4586')\n",
      "INFO (theano.gof.compilelock): To manually release the lock, delete /Users/felixmolter/.theano/compiledir_Darwin-17.7.0-x86_64-i386-64bit-i386-3.6.8-64/lock_dir\n",
      "INFO (theano.gof.compilelock): Waiting for existing lock by process '4595' (I am process '4604')\n",
      "INFO (theano.gof.compilelock): To manually release the lock, delete /Users/felixmolter/.theano/compiledir_Darwin-17.7.0-x86_64-i386-64bit-i386-3.6.8-64/lock_dir\n",
      "INFO (theano.gof.compilelock): Waiting for existing lock by process '4595' (I am process '4585')\n",
      "INFO (theano.gof.compilelock): To manually release the lock, delete /Users/felixmolter/.theano/compiledir_Darwin-17.7.0-x86_64-i386-64bit-i386-3.6.8-64/lock_dir\n"
     ]
    },
    {
     "name": "stdout",
     "output_type": "stream",
     "text": [
      "Fitting 1 model(s) using MCMC...\n",
      "  Fitting model 1 of 1...\n"
     ]
    },
    {
     "name": "stderr",
     "output_type": "stream",
     "text": [
      "INFO (theano.gof.compilelock): Waiting for existing lock by process '4592' (I am process '4599')\n",
      "INFO (theano.gof.compilelock): Waiting for existing lock by process '4592' (I am process '4598')\n",
      "INFO (theano.gof.compilelock): Waiting for existing lock by process '4592' (I am process '4603')\n",
      "INFO (theano.gof.compilelock): To manually release the lock, delete /Users/felixmolter/.theano/compiledir_Darwin-17.7.0-x86_64-i386-64bit-i386-3.6.8-64/lock_dir\n",
      "INFO (theano.gof.compilelock): To manually release the lock, delete /Users/felixmolter/.theano/compiledir_Darwin-17.7.0-x86_64-i386-64bit-i386-3.6.8-64/lock_dir\n",
      "INFO (theano.gof.compilelock): Waiting for existing lock by process '4592' (I am process '4600')\n",
      "INFO (theano.gof.compilelock): To manually release the lock, delete /Users/felixmolter/.theano/compiledir_Darwin-17.7.0-x86_64-i386-64bit-i386-3.6.8-64/lock_dir\n",
      "INFO (theano.gof.compilelock): Waiting for existing lock by process '4592' (I am process '4593')\n",
      "INFO (theano.gof.compilelock): Waiting for existing lock by process '4592' (I am process '4602')\n",
      "INFO (theano.gof.compilelock): To manually release the lock, delete /Users/felixmolter/.theano/compiledir_Darwin-17.7.0-x86_64-i386-64bit-i386-3.6.8-64/lock_dir\n",
      "INFO (theano.gof.compilelock): To manually release the lock, delete /Users/felixmolter/.theano/compiledir_Darwin-17.7.0-x86_64-i386-64bit-i386-3.6.8-64/lock_dir\n",
      "INFO (theano.gof.compilelock): To manually release the lock, delete /Users/felixmolter/.theano/compiledir_Darwin-17.7.0-x86_64-i386-64bit-i386-3.6.8-64/lock_dir\n",
      "INFO (theano.gof.compilelock): Waiting for existing lock by process '4592' (I am process '4588')\n",
      "INFO (theano.gof.compilelock): Waiting for existing lock by process '4592' (I am process '4605')\n",
      "INFO (theano.gof.compilelock): Waiting for existing lock by process '4592' (I am process '4589')\n",
      "INFO (theano.gof.compilelock): To manually release the lock, delete /Users/felixmolter/.theano/compiledir_Darwin-17.7.0-x86_64-i386-64bit-i386-3.6.8-64/lock_dir\n",
      "INFO (theano.gof.compilelock): Waiting for existing lock by process '4592' (I am process '4596')\n",
      "INFO (theano.gof.compilelock): To manually release the lock, delete /Users/felixmolter/.theano/compiledir_Darwin-17.7.0-x86_64-i386-64bit-i386-3.6.8-64/lock_dir\n",
      "INFO (theano.gof.compilelock): To manually release the lock, delete /Users/felixmolter/.theano/compiledir_Darwin-17.7.0-x86_64-i386-64bit-i386-3.6.8-64/lock_dir\n",
      "INFO (theano.gof.compilelock): To manually release the lock, delete /Users/felixmolter/.theano/compiledir_Darwin-17.7.0-x86_64-i386-64bit-i386-3.6.8-64/lock_dir\n",
      "INFO (theano.gof.compilelock): Waiting for existing lock by process '4592' (I am process '4594')\n",
      "INFO (theano.gof.compilelock): To manually release the lock, delete /Users/felixmolter/.theano/compiledir_Darwin-17.7.0-x86_64-i386-64bit-i386-3.6.8-64/lock_dir\n",
      "INFO (theano.gof.compilelock): Waiting for existing lock by process '4592' (I am process '4604')\n",
      "INFO (theano.gof.compilelock): To manually release the lock, delete /Users/felixmolter/.theano/compiledir_Darwin-17.7.0-x86_64-i386-64bit-i386-3.6.8-64/lock_dir\n",
      "INFO (theano.gof.compilelock): Waiting for existing lock by process '4592' (I am process '4585')\n",
      "INFO (theano.gof.compilelock): To manually release the lock, delete /Users/felixmolter/.theano/compiledir_Darwin-17.7.0-x86_64-i386-64bit-i386-3.6.8-64/lock_dir\n",
      "INFO (theano.gof.compilelock): Waiting for existing lock by process '4592' (I am process '4586')\n",
      "INFO (theano.gof.compilelock): To manually release the lock, delete /Users/felixmolter/.theano/compiledir_Darwin-17.7.0-x86_64-i386-64bit-i386-3.6.8-64/lock_dir\n",
      "INFO (theano.gof.compilelock): Waiting for existing lock by process '4584' (I am process '4595')\n",
      "INFO (theano.gof.compilelock): To manually release the lock, delete /Users/felixmolter/.theano/compiledir_Darwin-17.7.0-x86_64-i386-64bit-i386-3.6.8-64/lock_dir\n",
      "INFO (theano.gof.compilelock): Waiting for existing lock by process '4584' (I am process '4599')\n",
      "INFO (theano.gof.compilelock): Waiting for existing lock by process '4584' (I am process '4598')\n",
      "INFO (theano.gof.compilelock): Waiting for existing lock by process '4584' (I am process '4603')\n",
      "INFO (theano.gof.compilelock): Waiting for existing lock by process '4584' (I am process '4600')\n",
      "INFO (theano.gof.compilelock): To manually release the lock, delete /Users/felixmolter/.theano/compiledir_Darwin-17.7.0-x86_64-i386-64bit-i386-3.6.8-64/lock_dir\n",
      "INFO (theano.gof.compilelock): To manually release the lock, delete /Users/felixmolter/.theano/compiledir_Darwin-17.7.0-x86_64-i386-64bit-i386-3.6.8-64/lock_dir\n",
      "INFO (theano.gof.compilelock): To manually release the lock, delete /Users/felixmolter/.theano/compiledir_Darwin-17.7.0-x86_64-i386-64bit-i386-3.6.8-64/lock_dir\n",
      "INFO (theano.gof.compilelock): To manually release the lock, delete /Users/felixmolter/.theano/compiledir_Darwin-17.7.0-x86_64-i386-64bit-i386-3.6.8-64/lock_dir\n",
      "INFO (theano.gof.compilelock): Waiting for existing lock by process '4584' (I am process '4593')\n",
      "INFO (theano.gof.compilelock): Waiting for existing lock by process '4584' (I am process '4602')\n",
      "INFO (theano.gof.compilelock): To manually release the lock, delete /Users/felixmolter/.theano/compiledir_Darwin-17.7.0-x86_64-i386-64bit-i386-3.6.8-64/lock_dir\n",
      "INFO (theano.gof.compilelock): To manually release the lock, delete /Users/felixmolter/.theano/compiledir_Darwin-17.7.0-x86_64-i386-64bit-i386-3.6.8-64/lock_dir\n",
      "INFO (theano.gof.compilelock): Waiting for existing lock by process '4584' (I am process '4588')\n",
      "INFO (theano.gof.compilelock): Waiting for existing lock by process '4584' (I am process '4605')\n",
      "INFO (theano.gof.compilelock): Waiting for existing lock by process '4584' (I am process '4589')\n",
      "INFO (theano.gof.compilelock): To manually release the lock, delete /Users/felixmolter/.theano/compiledir_Darwin-17.7.0-x86_64-i386-64bit-i386-3.6.8-64/lock_dir\n",
      "INFO (theano.gof.compilelock): To manually release the lock, delete /Users/felixmolter/.theano/compiledir_Darwin-17.7.0-x86_64-i386-64bit-i386-3.6.8-64/lock_dir\n",
      "INFO (theano.gof.compilelock): Waiting for existing lock by process '4584' (I am process '4596')\n",
      "INFO (theano.gof.compilelock): To manually release the lock, delete /Users/felixmolter/.theano/compiledir_Darwin-17.7.0-x86_64-i386-64bit-i386-3.6.8-64/lock_dir\n",
      "INFO (theano.gof.compilelock): To manually release the lock, delete /Users/felixmolter/.theano/compiledir_Darwin-17.7.0-x86_64-i386-64bit-i386-3.6.8-64/lock_dir\n",
      "INFO (theano.gof.compilelock): Waiting for existing lock by process '4584' (I am process '4594')\n",
      "INFO (theano.gof.compilelock): To manually release the lock, delete /Users/felixmolter/.theano/compiledir_Darwin-17.7.0-x86_64-i386-64bit-i386-3.6.8-64/lock_dir\n",
      "INFO (theano.gof.compilelock): Waiting for existing lock by process '4585' (I am process '4586')\n",
      "INFO (theano.gof.compilelock): To manually release the lock, delete /Users/felixmolter/.theano/compiledir_Darwin-17.7.0-x86_64-i386-64bit-i386-3.6.8-64/lock_dir\n"
     ]
    },
    {
     "name": "stdout",
     "output_type": "stream",
     "text": [
      "Fitting 1 model(s) using MCMC...\n",
      "  Fitting model 1 of 1...\n"
     ]
    },
    {
     "name": "stderr",
     "output_type": "stream",
     "text": [
      "INFO (theano.gof.compilelock): Waiting for existing lock by process '4595' (I am process '4604')\n",
      "INFO (theano.gof.compilelock): To manually release the lock, delete /Users/felixmolter/.theano/compiledir_Darwin-17.7.0-x86_64-i386-64bit-i386-3.6.8-64/lock_dir\n",
      "INFO (theano.gof.compilelock): Waiting for existing lock by process '4595' (I am process '4591')\n",
      "INFO (theano.gof.compilelock): To manually release the lock, delete /Users/felixmolter/.theano/compiledir_Darwin-17.7.0-x86_64-i386-64bit-i386-3.6.8-64/lock_dir\n",
      "INFO (theano.gof.compilelock): Waiting for existing lock by unknown process (I am process '4598')\n",
      "INFO (theano.gof.compilelock): To manually release the lock, delete /Users/felixmolter/.theano/compiledir_Darwin-17.7.0-x86_64-i386-64bit-i386-3.6.8-64/lock_dir\n",
      "INFO (theano.gof.compilelock): Waiting for existing lock by process '4599' (I am process '4603')\n",
      "INFO (theano.gof.compilelock): Waiting for existing lock by process '4599' (I am process '4600')\n",
      "INFO (theano.gof.compilelock): Waiting for existing lock by process '4599' (I am process '4602')\n",
      "INFO (theano.gof.compilelock): Waiting for existing lock by process '4599' (I am process '4593')\n",
      "INFO (theano.gof.compilelock): To manually release the lock, delete /Users/felixmolter/.theano/compiledir_Darwin-17.7.0-x86_64-i386-64bit-i386-3.6.8-64/lock_dir\n",
      "INFO (theano.gof.compilelock): To manually release the lock, delete /Users/felixmolter/.theano/compiledir_Darwin-17.7.0-x86_64-i386-64bit-i386-3.6.8-64/lock_dir\n",
      "INFO (theano.gof.compilelock): To manually release the lock, delete /Users/felixmolter/.theano/compiledir_Darwin-17.7.0-x86_64-i386-64bit-i386-3.6.8-64/lock_dir\n",
      "INFO (theano.gof.compilelock): To manually release the lock, delete /Users/felixmolter/.theano/compiledir_Darwin-17.7.0-x86_64-i386-64bit-i386-3.6.8-64/lock_dir\n",
      "INFO (theano.gof.compilelock): Waiting for existing lock by process '4599' (I am process '4588')\n",
      "INFO (theano.gof.compilelock): Waiting for existing lock by process '4599' (I am process '4605')\n",
      "INFO (theano.gof.compilelock): Waiting for existing lock by process '4599' (I am process '4589')\n",
      "INFO (theano.gof.compilelock): To manually release the lock, delete /Users/felixmolter/.theano/compiledir_Darwin-17.7.0-x86_64-i386-64bit-i386-3.6.8-64/lock_dir\n",
      "INFO (theano.gof.compilelock): Waiting for existing lock by process '4599' (I am process '4596')\n",
      "INFO (theano.gof.compilelock): To manually release the lock, delete /Users/felixmolter/.theano/compiledir_Darwin-17.7.0-x86_64-i386-64bit-i386-3.6.8-64/lock_dir\n",
      "INFO (theano.gof.compilelock): To manually release the lock, delete /Users/felixmolter/.theano/compiledir_Darwin-17.7.0-x86_64-i386-64bit-i386-3.6.8-64/lock_dir\n",
      "INFO (theano.gof.compilelock): To manually release the lock, delete /Users/felixmolter/.theano/compiledir_Darwin-17.7.0-x86_64-i386-64bit-i386-3.6.8-64/lock_dir\n",
      "INFO (theano.gof.compilelock): Waiting for existing lock by process '4599' (I am process '4594')\n",
      "INFO (theano.gof.compilelock): To manually release the lock, delete /Users/felixmolter/.theano/compiledir_Darwin-17.7.0-x86_64-i386-64bit-i386-3.6.8-64/lock_dir\n",
      "INFO (theano.gof.compilelock): Waiting for existing lock by process '4599' (I am process '4592')\n",
      "INFO (theano.gof.compilelock): To manually release the lock, delete /Users/felixmolter/.theano/compiledir_Darwin-17.7.0-x86_64-i386-64bit-i386-3.6.8-64/lock_dir\n",
      "INFO (theano.gof.compilelock): Waiting for existing lock by process '4599' (I am process '4584')\n",
      "INFO (theano.gof.compilelock): To manually release the lock, delete /Users/felixmolter/.theano/compiledir_Darwin-17.7.0-x86_64-i386-64bit-i386-3.6.8-64/lock_dir\n",
      "INFO (theano.gof.compilelock): Waiting for existing lock by process '4599' (I am process '4595')\n",
      "INFO (theano.gof.compilelock): To manually release the lock, delete /Users/felixmolter/.theano/compiledir_Darwin-17.7.0-x86_64-i386-64bit-i386-3.6.8-64/lock_dir\n"
     ]
    },
    {
     "name": "stdout",
     "output_type": "stream",
     "text": [
      "Fitting 1 model(s) using MCMC...\n",
      "  Fitting model 1 of 1...\n"
     ]
    },
    {
     "name": "stderr",
     "output_type": "stream",
     "text": [
      "INFO (theano.gof.compilelock): Waiting for existing lock by process '4586' (I am process '4598')\n",
      "INFO (theano.gof.compilelock): To manually release the lock, delete /Users/felixmolter/.theano/compiledir_Darwin-17.7.0-x86_64-i386-64bit-i386-3.6.8-64/lock_dir\n",
      "INFO (theano.gof.compilelock): Waiting for existing lock by process '4586' (I am process '4603')\n",
      "INFO (theano.gof.compilelock): Waiting for existing lock by process '4586' (I am process '4593')\n",
      "INFO (theano.gof.compilelock): Waiting for existing lock by process '4586' (I am process '4602')\n",
      "INFO (theano.gof.compilelock): Waiting for existing lock by process '4586' (I am process '4600')\n",
      "INFO (theano.gof.compilelock): Waiting for existing lock by process '4586' (I am process '4588')\n",
      "INFO (theano.gof.compilelock): To manually release the lock, delete /Users/felixmolter/.theano/compiledir_Darwin-17.7.0-x86_64-i386-64bit-i386-3.6.8-64/lock_dir\n",
      "INFO (theano.gof.compilelock): To manually release the lock, delete /Users/felixmolter/.theano/compiledir_Darwin-17.7.0-x86_64-i386-64bit-i386-3.6.8-64/lock_dir\n",
      "INFO (theano.gof.compilelock): To manually release the lock, delete /Users/felixmolter/.theano/compiledir_Darwin-17.7.0-x86_64-i386-64bit-i386-3.6.8-64/lock_dir\n",
      "INFO (theano.gof.compilelock): To manually release the lock, delete /Users/felixmolter/.theano/compiledir_Darwin-17.7.0-x86_64-i386-64bit-i386-3.6.8-64/lock_dir\n",
      "INFO (theano.gof.compilelock): Waiting for existing lock by process '4586' (I am process '4605')\n",
      "INFO (theano.gof.compilelock): To manually release the lock, delete /Users/felixmolter/.theano/compiledir_Darwin-17.7.0-x86_64-i386-64bit-i386-3.6.8-64/lock_dir\n",
      "INFO (theano.gof.compilelock): Waiting for existing lock by process '4586' (I am process '4589')\n",
      "INFO (theano.gof.compilelock): To manually release the lock, delete /Users/felixmolter/.theano/compiledir_Darwin-17.7.0-x86_64-i386-64bit-i386-3.6.8-64/lock_dir\n",
      "INFO (theano.gof.compilelock): To manually release the lock, delete /Users/felixmolter/.theano/compiledir_Darwin-17.7.0-x86_64-i386-64bit-i386-3.6.8-64/lock_dir\n",
      "INFO (theano.gof.compilelock): Waiting for existing lock by process '4586' (I am process '4596')\n",
      "INFO (theano.gof.compilelock): To manually release the lock, delete /Users/felixmolter/.theano/compiledir_Darwin-17.7.0-x86_64-i386-64bit-i386-3.6.8-64/lock_dir\n",
      "INFO (theano.gof.compilelock): Waiting for existing lock by process '4594' (I am process '4592')\n",
      "INFO (theano.gof.compilelock): To manually release the lock, delete /Users/felixmolter/.theano/compiledir_Darwin-17.7.0-x86_64-i386-64bit-i386-3.6.8-64/lock_dir\n",
      "Sequential sampling (2 chains in 1 job)\n",
      "CompoundStep\n",
      ">Metropolis: [tau_offset]\n",
      ">Metropolis: [tau_sd]\n",
      ">Metropolis: [tau_mu]\n",
      ">Metropolis: [s_offset]\n",
      ">Metropolis: [s_sd]\n",
      ">Metropolis: [s_mu]\n",
      ">Metropolis: [gamma_offset]\n",
      ">Metropolis: [gamma_sd]\n",
      ">Metropolis: [gamma_mu]\n",
      ">Metropolis: [v_offset]\n",
      ">Metropolis: [v_sd]\n",
      ">Metropolis: [v_mu]\n",
      "INFO (theano.gof.compilelock): Waiting for existing lock by process '4591' (I am process '4584')\n",
      "INFO (theano.gof.compilelock): To manually release the lock, delete /Users/felixmolter/.theano/compiledir_Darwin-17.7.0-x86_64-i386-64bit-i386-3.6.8-64/lock_dir\n"
     ]
    },
    {
     "name": "stdout",
     "output_type": "stream",
     "text": [
      "Fitting 1 model(s) using MCMC...\n",
      "  Fitting model 1 of 1...\n"
     ]
    },
    {
     "name": "stderr",
     "output_type": "stream",
     "text": [
      "INFO (theano.gof.compilelock): Waiting for existing lock by process '4598' (I am process '4603')\n",
      "INFO (theano.gof.compilelock): Waiting for existing lock by process '4598' (I am process '4593')\n",
      "INFO (theano.gof.compilelock): Waiting for existing lock by process '4598' (I am process '4602')\n",
      "INFO (theano.gof.compilelock): Waiting for existing lock by process '4598' (I am process '4600')\n",
      "INFO (theano.gof.compilelock): Waiting for existing lock by process '4598' (I am process '4588')\n",
      "INFO (theano.gof.compilelock): To manually release the lock, delete /Users/felixmolter/.theano/compiledir_Darwin-17.7.0-x86_64-i386-64bit-i386-3.6.8-64/lock_dir\n",
      "INFO (theano.gof.compilelock): To manually release the lock, delete /Users/felixmolter/.theano/compiledir_Darwin-17.7.0-x86_64-i386-64bit-i386-3.6.8-64/lock_dir\n",
      "INFO (theano.gof.compilelock): To manually release the lock, delete /Users/felixmolter/.theano/compiledir_Darwin-17.7.0-x86_64-i386-64bit-i386-3.6.8-64/lock_dir\n",
      "INFO (theano.gof.compilelock): To manually release the lock, delete /Users/felixmolter/.theano/compiledir_Darwin-17.7.0-x86_64-i386-64bit-i386-3.6.8-64/lock_dir\n",
      "INFO (theano.gof.compilelock): Waiting for existing lock by process '4598' (I am process '4605')\n",
      "INFO (theano.gof.compilelock): Waiting for existing lock by process '4598' (I am process '4589')\n",
      "INFO (theano.gof.compilelock): To manually release the lock, delete /Users/felixmolter/.theano/compiledir_Darwin-17.7.0-x86_64-i386-64bit-i386-3.6.8-64/lock_dir\n",
      "INFO (theano.gof.compilelock): Waiting for existing lock by process '4598' (I am process '4596')\n",
      "INFO (theano.gof.compilelock): To manually release the lock, delete /Users/felixmolter/.theano/compiledir_Darwin-17.7.0-x86_64-i386-64bit-i386-3.6.8-64/lock_dir\n",
      "INFO (theano.gof.compilelock): To manually release the lock, delete /Users/felixmolter/.theano/compiledir_Darwin-17.7.0-x86_64-i386-64bit-i386-3.6.8-64/lock_dir\n",
      "INFO (theano.gof.compilelock): To manually release the lock, delete /Users/felixmolter/.theano/compiledir_Darwin-17.7.0-x86_64-i386-64bit-i386-3.6.8-64/lock_dir\n",
      "INFO (theano.gof.compilelock): Waiting for existing lock by process '4598' (I am process '4586')\n",
      "INFO (theano.gof.compilelock): To manually release the lock, delete /Users/felixmolter/.theano/compiledir_Darwin-17.7.0-x86_64-i386-64bit-i386-3.6.8-64/lock_dir\n",
      "INFO (theano.gof.compilelock): Waiting for existing lock by process '4598' (I am process '4585')\n",
      "INFO (theano.gof.compilelock): To manually release the lock, delete /Users/felixmolter/.theano/compiledir_Darwin-17.7.0-x86_64-i386-64bit-i386-3.6.8-64/lock_dir\n",
      "INFO (theano.gof.compilelock): Waiting for existing lock by process '4595' (I am process '4584')\n",
      "INFO (theano.gof.compilelock): To manually release the lock, delete /Users/felixmolter/.theano/compiledir_Darwin-17.7.0-x86_64-i386-64bit-i386-3.6.8-64/lock_dir\n",
      "INFO (theano.gof.compilelock): Waiting for existing lock by unknown process (I am process '4602')\n",
      "INFO (theano.gof.compilelock): Waiting for existing lock by unknown process (I am process '4589')\n",
      "INFO (theano.gof.compilelock): Waiting for existing lock by unknown process (I am process '4605')\n",
      "INFO (theano.gof.compilelock): Waiting for existing lock by unknown process (I am process '4588')\n",
      "INFO (theano.gof.compilelock): Waiting for existing lock by unknown process (I am process '4593')\n",
      "INFO (theano.gof.compilelock): Waiting for existing lock by unknown process (I am process '4600')\n",
      "INFO (theano.gof.compilelock): Waiting for existing lock by unknown process (I am process '4596')\n",
      "INFO (theano.gof.compilelock): To manually release the lock, delete /Users/felixmolter/.theano/compiledir_Darwin-17.7.0-x86_64-i386-64bit-i386-3.6.8-64/lock_dir\n",
      "INFO (theano.gof.compilelock): To manually release the lock, delete /Users/felixmolter/.theano/compiledir_Darwin-17.7.0-x86_64-i386-64bit-i386-3.6.8-64/lock_dir\n",
      "INFO (theano.gof.compilelock): To manually release the lock, delete /Users/felixmolter/.theano/compiledir_Darwin-17.7.0-x86_64-i386-64bit-i386-3.6.8-64/lock_dir\n",
      "INFO (theano.gof.compilelock): To manually release the lock, delete /Users/felixmolter/.theano/compiledir_Darwin-17.7.0-x86_64-i386-64bit-i386-3.6.8-64/lock_dir\n",
      "INFO (theano.gof.compilelock): To manually release the lock, delete /Users/felixmolter/.theano/compiledir_Darwin-17.7.0-x86_64-i386-64bit-i386-3.6.8-64/lock_dir\n",
      "INFO (theano.gof.compilelock): To manually release the lock, delete /Users/felixmolter/.theano/compiledir_Darwin-17.7.0-x86_64-i386-64bit-i386-3.6.8-64/lock_dir\n",
      "INFO (theano.gof.compilelock): To manually release the lock, delete /Users/felixmolter/.theano/compiledir_Darwin-17.7.0-x86_64-i386-64bit-i386-3.6.8-64/lock_dir\n",
      "INFO (theano.gof.compilelock): Waiting for existing lock by process '4603' (I am process '4599')\n",
      "INFO (theano.gof.compilelock): To manually release the lock, delete /Users/felixmolter/.theano/compiledir_Darwin-17.7.0-x86_64-i386-64bit-i386-3.6.8-64/lock_dir\n",
      "INFO (theano.gof.compilelock): Waiting for existing lock by process '4603' (I am process '4585')\n",
      "INFO (theano.gof.compilelock): To manually release the lock, delete /Users/felixmolter/.theano/compiledir_Darwin-17.7.0-x86_64-i386-64bit-i386-3.6.8-64/lock_dir\n",
      "INFO (theano.gof.compilelock): Waiting for existing lock by process '4603' (I am process '4594')\n",
      "INFO (theano.gof.compilelock): To manually release the lock, delete /Users/felixmolter/.theano/compiledir_Darwin-17.7.0-x86_64-i386-64bit-i386-3.6.8-64/lock_dir\n",
      "INFO (theano.gof.compilelock): Waiting for existing lock by process '4603' (I am process '4604')\n",
      "INFO (theano.gof.compilelock): To manually release the lock, delete /Users/felixmolter/.theano/compiledir_Darwin-17.7.0-x86_64-i386-64bit-i386-3.6.8-64/lock_dir\n",
      "INFO (theano.gof.compilelock): Waiting for existing lock by process '4586' (I am process '4591')\n",
      "INFO (theano.gof.compilelock): To manually release the lock, delete /Users/felixmolter/.theano/compiledir_Darwin-17.7.0-x86_64-i386-64bit-i386-3.6.8-64/lock_dir\n",
      "INFO (theano.gof.compilelock): Waiting for existing lock by process '4586' (I am process '4598')\n",
      "INFO (theano.gof.compilelock): To manually release the lock, delete /Users/felixmolter/.theano/compiledir_Darwin-17.7.0-x86_64-i386-64bit-i386-3.6.8-64/lock_dir\n",
      "INFO (theano.gof.compilelock): Waiting for existing lock by process '4584' (I am process '4599')\n",
      "INFO (theano.gof.compilelock): To manually release the lock, delete /Users/felixmolter/.theano/compiledir_Darwin-17.7.0-x86_64-i386-64bit-i386-3.6.8-64/lock_dir\n",
      "INFO (theano.gof.compilelock): Waiting for existing lock by process '4605' (I am process '4602')\n",
      "INFO (theano.gof.compilelock): Waiting for existing lock by process '4605' (I am process '4600')\n",
      "INFO (theano.gof.compilelock): Waiting for existing lock by process '4605' (I am process '4593')\n",
      "INFO (theano.gof.compilelock): Waiting for existing lock by process '4605' (I am process '4588')\n",
      "INFO (theano.gof.compilelock): Waiting for existing lock by process '4605' (I am process '4589')\n",
      "INFO (theano.gof.compilelock): Waiting for existing lock by process '4605' (I am process '4596')\n",
      "INFO (theano.gof.compilelock): To manually release the lock, delete /Users/felixmolter/.theano/compiledir_Darwin-17.7.0-x86_64-i386-64bit-i386-3.6.8-64/lock_dir\n",
      "INFO (theano.gof.compilelock): To manually release the lock, delete /Users/felixmolter/.theano/compiledir_Darwin-17.7.0-x86_64-i386-64bit-i386-3.6.8-64/lock_dir\n",
      "INFO (theano.gof.compilelock): To manually release the lock, delete /Users/felixmolter/.theano/compiledir_Darwin-17.7.0-x86_64-i386-64bit-i386-3.6.8-64/lock_dir\n",
      "INFO (theano.gof.compilelock): To manually release the lock, delete /Users/felixmolter/.theano/compiledir_Darwin-17.7.0-x86_64-i386-64bit-i386-3.6.8-64/lock_dir\n",
      "INFO (theano.gof.compilelock): To manually release the lock, delete /Users/felixmolter/.theano/compiledir_Darwin-17.7.0-x86_64-i386-64bit-i386-3.6.8-64/lock_dir\n",
      "INFO (theano.gof.compilelock): To manually release the lock, delete /Users/felixmolter/.theano/compiledir_Darwin-17.7.0-x86_64-i386-64bit-i386-3.6.8-64/lock_dir\n",
      "INFO (theano.gof.compilelock): Waiting for existing lock by process '4605' (I am process '4594')\n",
      "INFO (theano.gof.compilelock): To manually release the lock, delete /Users/felixmolter/.theano/compiledir_Darwin-17.7.0-x86_64-i386-64bit-i386-3.6.8-64/lock_dir\n"
     ]
    },
    {
     "name": "stderr",
     "output_type": "stream",
     "text": [
      "INFO (theano.gof.compilelock): Waiting for existing lock by process '4605' (I am process '4585')\n",
      "INFO (theano.gof.compilelock): To manually release the lock, delete /Users/felixmolter/.theano/compiledir_Darwin-17.7.0-x86_64-i386-64bit-i386-3.6.8-64/lock_dir\n",
      "INFO (theano.gof.compilelock): Waiting for existing lock by process '4603' (I am process '4592')\n",
      "INFO (theano.gof.compilelock): To manually release the lock, delete /Users/felixmolter/.theano/compiledir_Darwin-17.7.0-x86_64-i386-64bit-i386-3.6.8-64/lock_dir\n",
      "INFO (theano.gof.compilelock): Waiting for existing lock by process '4603' (I am process '4604')\n",
      "INFO (theano.gof.compilelock): To manually release the lock, delete /Users/felixmolter/.theano/compiledir_Darwin-17.7.0-x86_64-i386-64bit-i386-3.6.8-64/lock_dir\n",
      "INFO (theano.gof.compilelock): Waiting for existing lock by process '4603' (I am process '4598')\n",
      "INFO (theano.gof.compilelock): To manually release the lock, delete /Users/felixmolter/.theano/compiledir_Darwin-17.7.0-x86_64-i386-64bit-i386-3.6.8-64/lock_dir\n",
      "INFO (theano.gof.compilelock): Waiting for existing lock by process '4603' (I am process '4591')\n",
      "INFO (theano.gof.compilelock): To manually release the lock, delete /Users/felixmolter/.theano/compiledir_Darwin-17.7.0-x86_64-i386-64bit-i386-3.6.8-64/lock_dir\n",
      "INFO (theano.gof.compilelock): Waiting for existing lock by process '4603' (I am process '4599')\n",
      "INFO (theano.gof.compilelock): To manually release the lock, delete /Users/felixmolter/.theano/compiledir_Darwin-17.7.0-x86_64-i386-64bit-i386-3.6.8-64/lock_dir\n"
     ]
    },
    {
     "name": "stdout",
     "output_type": "stream",
     "text": [
      "Fitting 1 model(s) using MCMC...\n",
      "  Fitting model 1 of 1...\n"
     ]
    },
    {
     "name": "stderr",
     "output_type": "stream",
     "text": [
      "INFO (theano.gof.compilelock): Waiting for existing lock by process '4585' (I am process '4605')\n",
      "INFO (theano.gof.compilelock): To manually release the lock, delete /Users/felixmolter/.theano/compiledir_Darwin-17.7.0-x86_64-i386-64bit-i386-3.6.8-64/lock_dir\n",
      "INFO (theano.gof.compilelock): Waiting for existing lock by process '4585' (I am process '4592')\n",
      "INFO (theano.gof.compilelock): To manually release the lock, delete /Users/felixmolter/.theano/compiledir_Darwin-17.7.0-x86_64-i386-64bit-i386-3.6.8-64/lock_dir\n",
      "INFO (theano.gof.compilelock): Waiting for existing lock by process '4594' (I am process '4586')\n",
      "INFO (theano.gof.compilelock): To manually release the lock, delete /Users/felixmolter/.theano/compiledir_Darwin-17.7.0-x86_64-i386-64bit-i386-3.6.8-64/lock_dir\n",
      "INFO (theano.gof.compilelock): Waiting for existing lock by process '4594' (I am process '4600')\n",
      "INFO (theano.gof.compilelock): Waiting for existing lock by process '4594' (I am process '4596')\n",
      "INFO (theano.gof.compilelock): Waiting for existing lock by process '4594' (I am process '4593')\n",
      "INFO (theano.gof.compilelock): Waiting for existing lock by process '4594' (I am process '4588')\n",
      "INFO (theano.gof.compilelock): Waiting for existing lock by process '4594' (I am process '4589')\n",
      "INFO (theano.gof.compilelock): Waiting for existing lock by process '4594' (I am process '4602')\n",
      "INFO (theano.gof.compilelock): To manually release the lock, delete /Users/felixmolter/.theano/compiledir_Darwin-17.7.0-x86_64-i386-64bit-i386-3.6.8-64/lock_dir\n",
      "INFO (theano.gof.compilelock): To manually release the lock, delete /Users/felixmolter/.theano/compiledir_Darwin-17.7.0-x86_64-i386-64bit-i386-3.6.8-64/lock_dir\n",
      "INFO (theano.gof.compilelock): To manually release the lock, delete /Users/felixmolter/.theano/compiledir_Darwin-17.7.0-x86_64-i386-64bit-i386-3.6.8-64/lock_dir\n",
      "INFO (theano.gof.compilelock): To manually release the lock, delete /Users/felixmolter/.theano/compiledir_Darwin-17.7.0-x86_64-i386-64bit-i386-3.6.8-64/lock_dir\n",
      "INFO (theano.gof.compilelock): To manually release the lock, delete /Users/felixmolter/.theano/compiledir_Darwin-17.7.0-x86_64-i386-64bit-i386-3.6.8-64/lock_dir\n",
      "INFO (theano.gof.compilelock): To manually release the lock, delete /Users/felixmolter/.theano/compiledir_Darwin-17.7.0-x86_64-i386-64bit-i386-3.6.8-64/lock_dir\n",
      "INFO (theano.gof.compilelock): Waiting for existing lock by process '4594' (I am process '4598')\n",
      "INFO (theano.gof.compilelock): To manually release the lock, delete /Users/felixmolter/.theano/compiledir_Darwin-17.7.0-x86_64-i386-64bit-i386-3.6.8-64/lock_dir\n",
      "INFO (theano.gof.compilelock): Waiting for existing lock by process '4594' (I am process '4604')\n",
      "INFO (theano.gof.compilelock): To manually release the lock, delete /Users/felixmolter/.theano/compiledir_Darwin-17.7.0-x86_64-i386-64bit-i386-3.6.8-64/lock_dir\n",
      "INFO (theano.gof.compilelock): Waiting for existing lock by process '4594' (I am process '4595')\n",
      "INFO (theano.gof.compilelock): To manually release the lock, delete /Users/felixmolter/.theano/compiledir_Darwin-17.7.0-x86_64-i386-64bit-i386-3.6.8-64/lock_dir\n",
      "INFO (theano.gof.compilelock): Waiting for existing lock by process '4591' (I am process '4599')\n",
      "INFO (theano.gof.compilelock): To manually release the lock, delete /Users/felixmolter/.theano/compiledir_Darwin-17.7.0-x86_64-i386-64bit-i386-3.6.8-64/lock_dir\n",
      "INFO (theano.gof.compilelock): Waiting for existing lock by process '4591' (I am process '4605')\n",
      "INFO (theano.gof.compilelock): To manually release the lock, delete /Users/felixmolter/.theano/compiledir_Darwin-17.7.0-x86_64-i386-64bit-i386-3.6.8-64/lock_dir\n",
      "INFO (theano.gof.compilelock): Waiting for existing lock by process '4591' (I am process '4592')\n",
      "INFO (theano.gof.compilelock): To manually release the lock, delete /Users/felixmolter/.theano/compiledir_Darwin-17.7.0-x86_64-i386-64bit-i386-3.6.8-64/lock_dir\n",
      "INFO (theano.gof.compilelock): Waiting for existing lock by process '4603' (I am process '4596')\n",
      "INFO (theano.gof.compilelock): Waiting for existing lock by process '4603' (I am process '4593')\n",
      "INFO (theano.gof.compilelock): Waiting for existing lock by process '4603' (I am process '4588')\n",
      "INFO (theano.gof.compilelock): Waiting for existing lock by process '4603' (I am process '4602')\n",
      "INFO (theano.gof.compilelock): Waiting for existing lock by process '4603' (I am process '4589')\n",
      "INFO (theano.gof.compilelock): Waiting for existing lock by process '4603' (I am process '4600')\n",
      "INFO (theano.gof.compilelock): To manually release the lock, delete /Users/felixmolter/.theano/compiledir_Darwin-17.7.0-x86_64-i386-64bit-i386-3.6.8-64/lock_dir\n",
      "INFO (theano.gof.compilelock): To manually release the lock, delete /Users/felixmolter/.theano/compiledir_Darwin-17.7.0-x86_64-i386-64bit-i386-3.6.8-64/lock_dir\n",
      "INFO (theano.gof.compilelock): To manually release the lock, delete /Users/felixmolter/.theano/compiledir_Darwin-17.7.0-x86_64-i386-64bit-i386-3.6.8-64/lock_dir\n",
      "INFO (theano.gof.compilelock): To manually release the lock, delete /Users/felixmolter/.theano/compiledir_Darwin-17.7.0-x86_64-i386-64bit-i386-3.6.8-64/lock_dir\n",
      "INFO (theano.gof.compilelock): To manually release the lock, delete /Users/felixmolter/.theano/compiledir_Darwin-17.7.0-x86_64-i386-64bit-i386-3.6.8-64/lock_dir\n",
      "INFO (theano.gof.compilelock): To manually release the lock, delete /Users/felixmolter/.theano/compiledir_Darwin-17.7.0-x86_64-i386-64bit-i386-3.6.8-64/lock_dir\n",
      "INFO (theano.gof.compilelock): Waiting for existing lock by process '4603' (I am process '4594')\n",
      "INFO (theano.gof.compilelock): To manually release the lock, delete /Users/felixmolter/.theano/compiledir_Darwin-17.7.0-x86_64-i386-64bit-i386-3.6.8-64/lock_dir\n",
      "INFO (theano.gof.compilelock): Waiting for existing lock by process '4603' (I am process '4584')\n",
      "INFO (theano.gof.compilelock): To manually release the lock, delete /Users/felixmolter/.theano/compiledir_Darwin-17.7.0-x86_64-i386-64bit-i386-3.6.8-64/lock_dir\n",
      "INFO (theano.gof.compilelock): Waiting for existing lock by process '4603' (I am process '4604')\n",
      "INFO (theano.gof.compilelock): To manually release the lock, delete /Users/felixmolter/.theano/compiledir_Darwin-17.7.0-x86_64-i386-64bit-i386-3.6.8-64/lock_dir\n",
      "INFO (theano.gof.compilelock): Waiting for existing lock by process '4603' (I am process '4586')\n",
      "INFO (theano.gof.compilelock): To manually release the lock, delete /Users/felixmolter/.theano/compiledir_Darwin-17.7.0-x86_64-i386-64bit-i386-3.6.8-64/lock_dir\n",
      "INFO (theano.gof.compilelock): Waiting for existing lock by process '4595' (I am process '4598')\n",
      "INFO (theano.gof.compilelock): To manually release the lock, delete /Users/felixmolter/.theano/compiledir_Darwin-17.7.0-x86_64-i386-64bit-i386-3.6.8-64/lock_dir\n",
      "INFO (theano.gof.compilelock): Waiting for existing lock by process '4595' (I am process '4599')\n",
      "INFO (theano.gof.compilelock): To manually release the lock, delete /Users/felixmolter/.theano/compiledir_Darwin-17.7.0-x86_64-i386-64bit-i386-3.6.8-64/lock_dir\n",
      "INFO (theano.gof.compilelock): Waiting for existing lock by process '4593' (I am process '4602')\n",
      "INFO (theano.gof.compilelock): Waiting for existing lock by process '4593' (I am process '4588')\n",
      "INFO (theano.gof.compilelock): Waiting for existing lock by process '4593' (I am process '4596')\n",
      "INFO (theano.gof.compilelock): Waiting for existing lock by process '4593' (I am process '4589')\n",
      "INFO (theano.gof.compilelock): Waiting for existing lock by process '4593' (I am process '4600')\n",
      "INFO (theano.gof.compilelock): To manually release the lock, delete /Users/felixmolter/.theano/compiledir_Darwin-17.7.0-x86_64-i386-64bit-i386-3.6.8-64/lock_dir\n",
      "INFO (theano.gof.compilelock): To manually release the lock, delete /Users/felixmolter/.theano/compiledir_Darwin-17.7.0-x86_64-i386-64bit-i386-3.6.8-64/lock_dir\n",
      "INFO (theano.gof.compilelock): To manually release the lock, delete /Users/felixmolter/.theano/compiledir_Darwin-17.7.0-x86_64-i386-64bit-i386-3.6.8-64/lock_dir\n",
      "INFO (theano.gof.compilelock): To manually release the lock, delete /Users/felixmolter/.theano/compiledir_Darwin-17.7.0-x86_64-i386-64bit-i386-3.6.8-64/lock_dir\n",
      "INFO (theano.gof.compilelock): To manually release the lock, delete /Users/felixmolter/.theano/compiledir_Darwin-17.7.0-x86_64-i386-64bit-i386-3.6.8-64/lock_dir\n"
     ]
    },
    {
     "name": "stderr",
     "output_type": "stream",
     "text": [
      "INFO (theano.gof.compilelock): Waiting for existing lock by process '4593' (I am process '4592')\n",
      "INFO (theano.gof.compilelock): To manually release the lock, delete /Users/felixmolter/.theano/compiledir_Darwin-17.7.0-x86_64-i386-64bit-i386-3.6.8-64/lock_dir\n",
      "Sequential sampling (2 chains in 1 job)\n",
      "CompoundStep\n",
      ">Metropolis: [tau_offset]\n",
      ">Metropolis: [tau_sd]\n",
      ">Metropolis: [tau_mu]\n",
      ">Metropolis: [s_offset]\n",
      ">Metropolis: [s_sd]\n",
      ">Metropolis: [s_mu]\n",
      ">Metropolis: [gamma_offset]\n",
      ">Metropolis: [gamma_sd]\n",
      ">Metropolis: [gamma_mu]\n",
      ">Metropolis: [v_offset]\n",
      ">Metropolis: [v_sd]\n",
      ">Metropolis: [v_mu]\n",
      "INFO (theano.gof.compilelock): Waiting for existing lock by process '4603' (I am process '4604')\n",
      "INFO (theano.gof.compilelock): To manually release the lock, delete /Users/felixmolter/.theano/compiledir_Darwin-17.7.0-x86_64-i386-64bit-i386-3.6.8-64/lock_dir\n",
      "INFO (theano.gof.compilelock): Waiting for existing lock by process '4591' (I am process '4599')\n",
      "INFO (theano.gof.compilelock): To manually release the lock, delete /Users/felixmolter/.theano/compiledir_Darwin-17.7.0-x86_64-i386-64bit-i386-3.6.8-64/lock_dir\n",
      "INFO (theano.gof.compilelock): Waiting for existing lock by process '4591' (I am process '4594')\n",
      "INFO (theano.gof.compilelock): To manually release the lock, delete /Users/felixmolter/.theano/compiledir_Darwin-17.7.0-x86_64-i386-64bit-i386-3.6.8-64/lock_dir\n",
      "INFO (theano.gof.compilelock): Waiting for existing lock by process '4591' (I am process '4584')\n",
      "INFO (theano.gof.compilelock): To manually release the lock, delete /Users/felixmolter/.theano/compiledir_Darwin-17.7.0-x86_64-i386-64bit-i386-3.6.8-64/lock_dir\n",
      "INFO (theano.gof.compilelock): Waiting for existing lock by process '4586' (I am process '4596')\n",
      "INFO (theano.gof.compilelock): Waiting for existing lock by process '4586' (I am process '4602')\n",
      "INFO (theano.gof.compilelock): Waiting for existing lock by process '4586' (I am process '4588')\n",
      "INFO (theano.gof.compilelock): Waiting for existing lock by process '4586' (I am process '4589')\n",
      "INFO (theano.gof.compilelock): Waiting for existing lock by process '4586' (I am process '4600')\n",
      "INFO (theano.gof.compilelock): To manually release the lock, delete /Users/felixmolter/.theano/compiledir_Darwin-17.7.0-x86_64-i386-64bit-i386-3.6.8-64/lock_dir\n",
      "INFO (theano.gof.compilelock): To manually release the lock, delete /Users/felixmolter/.theano/compiledir_Darwin-17.7.0-x86_64-i386-64bit-i386-3.6.8-64/lock_dir\n",
      "INFO (theano.gof.compilelock): To manually release the lock, delete /Users/felixmolter/.theano/compiledir_Darwin-17.7.0-x86_64-i386-64bit-i386-3.6.8-64/lock_dir\n",
      "INFO (theano.gof.compilelock): To manually release the lock, delete /Users/felixmolter/.theano/compiledir_Darwin-17.7.0-x86_64-i386-64bit-i386-3.6.8-64/lock_dir\n",
      "INFO (theano.gof.compilelock): To manually release the lock, delete /Users/felixmolter/.theano/compiledir_Darwin-17.7.0-x86_64-i386-64bit-i386-3.6.8-64/lock_dir\n",
      "INFO (theano.gof.compilelock): Waiting for existing lock by process '4586' (I am process '4592')\n",
      "INFO (theano.gof.compilelock): To manually release the lock, delete /Users/felixmolter/.theano/compiledir_Darwin-17.7.0-x86_64-i386-64bit-i386-3.6.8-64/lock_dir\n",
      "Sequential sampling (2 chains in 1 job)\n",
      "CompoundStep\n",
      ">Metropolis: [tau_offset]\n",
      ">Metropolis: [tau_sd]\n",
      ">Metropolis: [tau_mu]\n",
      ">Metropolis: [s_offset]\n",
      ">Metropolis: [s_sd]\n",
      ">Metropolis: [s_mu]\n",
      ">Metropolis: [gamma_offset]\n",
      ">Metropolis: [gamma_sd]\n",
      ">Metropolis: [gamma_mu]\n",
      ">Metropolis: [v_offset]\n",
      ">Metropolis: [v_sd]\n",
      ">Metropolis: [v_mu]\n",
      "INFO (theano.gof.compilelock): Waiting for existing lock by process '4595' (I am process '4593')\n",
      "INFO (theano.gof.compilelock): To manually release the lock, delete /Users/felixmolter/.theano/compiledir_Darwin-17.7.0-x86_64-i386-64bit-i386-3.6.8-64/lock_dir\n",
      "INFO (theano.gof.compilelock): Waiting for existing lock by process '4591' (I am process '4605')\n",
      "INFO (theano.gof.compilelock): Waiting for existing lock by process '4591' (I am process '4604')\n",
      "INFO (theano.gof.compilelock): To manually release the lock, delete /Users/felixmolter/.theano/compiledir_Darwin-17.7.0-x86_64-i386-64bit-i386-3.6.8-64/lock_dir\n",
      "INFO (theano.gof.compilelock): To manually release the lock, delete /Users/felixmolter/.theano/compiledir_Darwin-17.7.0-x86_64-i386-64bit-i386-3.6.8-64/lock_dir\n",
      "INFO (theano.gof.compilelock): Waiting for existing lock by process '4584' (I am process '4594')\n",
      "INFO (theano.gof.compilelock): To manually release the lock, delete /Users/felixmolter/.theano/compiledir_Darwin-17.7.0-x86_64-i386-64bit-i386-3.6.8-64/lock_dir\n",
      "INFO (theano.gof.compilelock): Waiting for existing lock by process '4598' (I am process '4599')\n",
      "INFO (theano.gof.compilelock): To manually release the lock, delete /Users/felixmolter/.theano/compiledir_Darwin-17.7.0-x86_64-i386-64bit-i386-3.6.8-64/lock_dir\n",
      "INFO (theano.gof.compilelock): Waiting for existing lock by process '4598' (I am process '4588')\n",
      "INFO (theano.gof.compilelock): Waiting for existing lock by process '4598' (I am process '4589')\n",
      "INFO (theano.gof.compilelock): Waiting for existing lock by process '4598' (I am process '4602')\n",
      "INFO (theano.gof.compilelock): Waiting for existing lock by process '4598' (I am process '4600')\n",
      "INFO (theano.gof.compilelock): Waiting for existing lock by process '4598' (I am process '4596')\n",
      "INFO (theano.gof.compilelock): To manually release the lock, delete /Users/felixmolter/.theano/compiledir_Darwin-17.7.0-x86_64-i386-64bit-i386-3.6.8-64/lock_dir\n",
      "INFO (theano.gof.compilelock): To manually release the lock, delete /Users/felixmolter/.theano/compiledir_Darwin-17.7.0-x86_64-i386-64bit-i386-3.6.8-64/lock_dir\n",
      "INFO (theano.gof.compilelock): To manually release the lock, delete /Users/felixmolter/.theano/compiledir_Darwin-17.7.0-x86_64-i386-64bit-i386-3.6.8-64/lock_dir\n",
      "INFO (theano.gof.compilelock): To manually release the lock, delete /Users/felixmolter/.theano/compiledir_Darwin-17.7.0-x86_64-i386-64bit-i386-3.6.8-64/lock_dir\n",
      "INFO (theano.gof.compilelock): To manually release the lock, delete /Users/felixmolter/.theano/compiledir_Darwin-17.7.0-x86_64-i386-64bit-i386-3.6.8-64/lock_dir\n",
      "INFO (theano.gof.compilelock): Waiting for existing lock by process '4598' (I am process '4592')\n",
      "INFO (theano.gof.compilelock): To manually release the lock, delete /Users/felixmolter/.theano/compiledir_Darwin-17.7.0-x86_64-i386-64bit-i386-3.6.8-64/lock_dir\n",
      "Sequential sampling (2 chains in 1 job)\n",
      "CompoundStep\n",
      ">Metropolis: [tau_offset]\n",
      ">Metropolis: [tau_sd]\n",
      ">Metropolis: [tau_mu]\n",
      ">Metropolis: [s_offset]\n",
      ">Metropolis: [s_sd]\n",
      ">Metropolis: [s_mu]\n",
      ">Metropolis: [gamma_offset]\n",
      ">Metropolis: [gamma_sd]\n",
      ">Metropolis: [gamma_mu]\n",
      ">Metropolis: [v_offset]\n",
      ">Metropolis: [v_sd]\n",
      ">Metropolis: [v_mu]\n",
      "INFO (theano.gof.compilelock): Waiting for existing lock by process '4598' (I am process '4604')\n",
      "INFO (theano.gof.compilelock): To manually release the lock, delete /Users/felixmolter/.theano/compiledir_Darwin-17.7.0-x86_64-i386-64bit-i386-3.6.8-64/lock_dir\n",
      "INFO (theano.gof.compilelock): Waiting for existing lock by process '4598' (I am process '4605')\n",
      "INFO (theano.gof.compilelock): To manually release the lock, delete /Users/felixmolter/.theano/compiledir_Darwin-17.7.0-x86_64-i386-64bit-i386-3.6.8-64/lock_dir\n",
      "INFO (theano.gof.compilelock): Waiting for existing lock by process '4598' (I am process '4593')\n",
      "INFO (theano.gof.compilelock): To manually release the lock, delete /Users/felixmolter/.theano/compiledir_Darwin-17.7.0-x86_64-i386-64bit-i386-3.6.8-64/lock_dir\n"
     ]
    },
    {
     "name": "stdout",
     "output_type": "stream",
     "text": [
      "Fitting 1 model(s) using MCMC...\n",
      "  Fitting model 1 of 1...\n"
     ]
    },
    {
     "name": "stderr",
     "output_type": "stream",
     "text": [
      "INFO (theano.gof.compilelock): Waiting for existing lock by process '4599' (I am process '4596')\n",
      "INFO (theano.gof.compilelock): Waiting for existing lock by process '4599' (I am process '4600')\n",
      "INFO (theano.gof.compilelock): Waiting for existing lock by process '4599' (I am process '4588')\n",
      "INFO (theano.gof.compilelock): Waiting for existing lock by process '4599' (I am process '4589')\n",
      "INFO (theano.gof.compilelock): Waiting for existing lock by process '4599' (I am process '4602')\n",
      "INFO (theano.gof.compilelock): To manually release the lock, delete /Users/felixmolter/.theano/compiledir_Darwin-17.7.0-x86_64-i386-64bit-i386-3.6.8-64/lock_dir\n",
      "INFO (theano.gof.compilelock): To manually release the lock, delete /Users/felixmolter/.theano/compiledir_Darwin-17.7.0-x86_64-i386-64bit-i386-3.6.8-64/lock_dir\n",
      "INFO (theano.gof.compilelock): To manually release the lock, delete /Users/felixmolter/.theano/compiledir_Darwin-17.7.0-x86_64-i386-64bit-i386-3.6.8-64/lock_dir\n",
      "INFO (theano.gof.compilelock): To manually release the lock, delete /Users/felixmolter/.theano/compiledir_Darwin-17.7.0-x86_64-i386-64bit-i386-3.6.8-64/lock_dir\n",
      "INFO (theano.gof.compilelock): To manually release the lock, delete /Users/felixmolter/.theano/compiledir_Darwin-17.7.0-x86_64-i386-64bit-i386-3.6.8-64/lock_dir\n",
      "INFO (theano.gof.compilelock): Waiting for existing lock by process '4598' (I am process '4584')\n",
      "INFO (theano.gof.compilelock): To manually release the lock, delete /Users/felixmolter/.theano/compiledir_Darwin-17.7.0-x86_64-i386-64bit-i386-3.6.8-64/lock_dir\n",
      "INFO (theano.gof.compilelock): Waiting for existing lock by process '4598' (I am process '4592')\n",
      "INFO (theano.gof.compilelock): To manually release the lock, delete /Users/felixmolter/.theano/compiledir_Darwin-17.7.0-x86_64-i386-64bit-i386-3.6.8-64/lock_dir\n",
      "INFO (theano.gof.compilelock): Waiting for existing lock by process '4598' (I am process '4605')\n",
      "INFO (theano.gof.compilelock): To manually release the lock, delete /Users/felixmolter/.theano/compiledir_Darwin-17.7.0-x86_64-i386-64bit-i386-3.6.8-64/lock_dir\n",
      "INFO (theano.gof.compilelock): Waiting for existing lock by process '4598' (I am process '4594')\n",
      "INFO (theano.gof.compilelock): To manually release the lock, delete /Users/felixmolter/.theano/compiledir_Darwin-17.7.0-x86_64-i386-64bit-i386-3.6.8-64/lock_dir\n",
      "INFO (theano.gof.compilelock): Waiting for existing lock by process '4598' (I am process '4603')\n",
      "INFO (theano.gof.compilelock): To manually release the lock, delete /Users/felixmolter/.theano/compiledir_Darwin-17.7.0-x86_64-i386-64bit-i386-3.6.8-64/lock_dir\n",
      "Sequential sampling (2 chains in 1 job)\n",
      "CompoundStep\n",
      ">Metropolis: [tau_offset]\n",
      ">Metropolis: [tau_sd]\n",
      ">Metropolis: [tau_mu]\n",
      ">Metropolis: [s_offset]\n",
      ">Metropolis: [s_sd]\n",
      ">Metropolis: [s_mu]\n",
      ">Metropolis: [gamma_offset]\n",
      ">Metropolis: [gamma_sd]\n",
      ">Metropolis: [gamma_mu]\n",
      ">Metropolis: [v_offset]\n",
      ">Metropolis: [v_sd]\n",
      ">Metropolis: [v_mu]\n",
      "INFO (theano.gof.compilelock): Waiting for existing lock by unknown process (I am process '4589')\n",
      "INFO (theano.gof.compilelock): Waiting for existing lock by unknown process (I am process '4588')\n",
      "INFO (theano.gof.compilelock): Waiting for existing lock by unknown process (I am process '4602')\n",
      "INFO (theano.gof.compilelock): Waiting for existing lock by unknown process (I am process '4596')\n",
      "INFO (theano.gof.compilelock): To manually release the lock, delete /Users/felixmolter/.theano/compiledir_Darwin-17.7.0-x86_64-i386-64bit-i386-3.6.8-64/lock_dir\n",
      "INFO (theano.gof.compilelock): To manually release the lock, delete /Users/felixmolter/.theano/compiledir_Darwin-17.7.0-x86_64-i386-64bit-i386-3.6.8-64/lock_dir\n",
      "INFO (theano.gof.compilelock): To manually release the lock, delete /Users/felixmolter/.theano/compiledir_Darwin-17.7.0-x86_64-i386-64bit-i386-3.6.8-64/lock_dir\n",
      "INFO (theano.gof.compilelock): To manually release the lock, delete /Users/felixmolter/.theano/compiledir_Darwin-17.7.0-x86_64-i386-64bit-i386-3.6.8-64/lock_dir\n",
      "INFO (theano.gof.compilelock): Waiting for existing lock by process '4600' (I am process '4593')\n",
      "INFO (theano.gof.compilelock): To manually release the lock, delete /Users/felixmolter/.theano/compiledir_Darwin-17.7.0-x86_64-i386-64bit-i386-3.6.8-64/lock_dir\n",
      "INFO (theano.gof.compilelock): Waiting for existing lock by process '4594' (I am process '4592')\n",
      "INFO (theano.gof.compilelock): To manually release the lock, delete /Users/felixmolter/.theano/compiledir_Darwin-17.7.0-x86_64-i386-64bit-i386-3.6.8-64/lock_dir\n",
      "INFO (theano.gof.compilelock): Waiting for existing lock by process '4605' (I am process '4584')\n",
      "INFO (theano.gof.compilelock): To manually release the lock, delete /Users/felixmolter/.theano/compiledir_Darwin-17.7.0-x86_64-i386-64bit-i386-3.6.8-64/lock_dir\n",
      "INFO (theano.gof.compilelock): Waiting for existing lock by process '4605' (I am process '4599')\n",
      "INFO (theano.gof.compilelock): To manually release the lock, delete /Users/felixmolter/.theano/compiledir_Darwin-17.7.0-x86_64-i386-64bit-i386-3.6.8-64/lock_dir\n",
      "INFO (theano.gof.compilelock): Waiting for existing lock by process '4605' (I am process '4586')\n",
      "INFO (theano.gof.compilelock): To manually release the lock, delete /Users/felixmolter/.theano/compiledir_Darwin-17.7.0-x86_64-i386-64bit-i386-3.6.8-64/lock_dir\n",
      "INFO (theano.gof.compilelock): Waiting for existing lock by process '4605' (I am process '4603')\n",
      "INFO (theano.gof.compilelock): To manually release the lock, delete /Users/felixmolter/.theano/compiledir_Darwin-17.7.0-x86_64-i386-64bit-i386-3.6.8-64/lock_dir\n",
      "INFO (theano.gof.compilelock): Waiting for existing lock by process '4605' (I am process '4598')\n",
      "INFO (theano.gof.compilelock): To manually release the lock, delete /Users/felixmolter/.theano/compiledir_Darwin-17.7.0-x86_64-i386-64bit-i386-3.6.8-64/lock_dir\n"
     ]
    },
    {
     "name": "stdout",
     "output_type": "stream",
     "text": [
      "Fitting 1 model(s) using MCMC...\n",
      "  Fitting model 1 of 1...\n"
     ]
    },
    {
     "name": "stderr",
     "output_type": "stream",
     "text": [
      "INFO (theano.gof.compilelock): Waiting for existing lock by process '4592' (I am process '4600')\n",
      "INFO (theano.gof.compilelock): To manually release the lock, delete /Users/felixmolter/.theano/compiledir_Darwin-17.7.0-x86_64-i386-64bit-i386-3.6.8-64/lock_dir\n",
      "INFO (theano.gof.compilelock): Waiting for existing lock by process '4592' (I am process '4594')\n",
      "INFO (theano.gof.compilelock): To manually release the lock, delete /Users/felixmolter/.theano/compiledir_Darwin-17.7.0-x86_64-i386-64bit-i386-3.6.8-64/lock_dir\n",
      "INFO (theano.gof.compilelock): Waiting for existing lock by process '4592' (I am process '4602')\n",
      "INFO (theano.gof.compilelock): Waiting for existing lock by process '4592' (I am process '4588')\n",
      "INFO (theano.gof.compilelock): Waiting for existing lock by process '4592' (I am process '4596')\n",
      "INFO (theano.gof.compilelock): Waiting for existing lock by process '4592' (I am process '4589')\n",
      "INFO (theano.gof.compilelock): To manually release the lock, delete /Users/felixmolter/.theano/compiledir_Darwin-17.7.0-x86_64-i386-64bit-i386-3.6.8-64/lock_dir\n",
      "INFO (theano.gof.compilelock): To manually release the lock, delete /Users/felixmolter/.theano/compiledir_Darwin-17.7.0-x86_64-i386-64bit-i386-3.6.8-64/lock_dir\n",
      "INFO (theano.gof.compilelock): To manually release the lock, delete /Users/felixmolter/.theano/compiledir_Darwin-17.7.0-x86_64-i386-64bit-i386-3.6.8-64/lock_dir\n",
      "INFO (theano.gof.compilelock): To manually release the lock, delete /Users/felixmolter/.theano/compiledir_Darwin-17.7.0-x86_64-i386-64bit-i386-3.6.8-64/lock_dir\n",
      "INFO (theano.gof.compilelock): Waiting for existing lock by process '4592' (I am process '4593')\n",
      "INFO (theano.gof.compilelock): To manually release the lock, delete /Users/felixmolter/.theano/compiledir_Darwin-17.7.0-x86_64-i386-64bit-i386-3.6.8-64/lock_dir\n",
      "INFO (theano.gof.compilelock): Waiting for existing lock by process '4584' (I am process '4586')\n",
      "INFO (theano.gof.compilelock): To manually release the lock, delete /Users/felixmolter/.theano/compiledir_Darwin-17.7.0-x86_64-i386-64bit-i386-3.6.8-64/lock_dir\n",
      "INFO (theano.gof.compilelock): Waiting for existing lock by process '4584' (I am process '4599')\n",
      "INFO (theano.gof.compilelock): To manually release the lock, delete /Users/felixmolter/.theano/compiledir_Darwin-17.7.0-x86_64-i386-64bit-i386-3.6.8-64/lock_dir\n",
      "INFO (theano.gof.compilelock): Waiting for existing lock by process '4584' (I am process '4603')\n",
      "INFO (theano.gof.compilelock): To manually release the lock, delete /Users/felixmolter/.theano/compiledir_Darwin-17.7.0-x86_64-i386-64bit-i386-3.6.8-64/lock_dir\n",
      "INFO (theano.gof.compilelock): Waiting for existing lock by process '4604' (I am process '4600')\n",
      "INFO (theano.gof.compilelock): To manually release the lock, delete /Users/felixmolter/.theano/compiledir_Darwin-17.7.0-x86_64-i386-64bit-i386-3.6.8-64/lock_dir\n",
      "INFO (theano.gof.compilelock): Waiting for existing lock by unknown process (I am process '4589')\n",
      "INFO (theano.gof.compilelock): Waiting for existing lock by unknown process (I am process '4596')\n",
      "INFO (theano.gof.compilelock): Waiting for existing lock by unknown process (I am process '4602')\n",
      "INFO (theano.gof.compilelock): To manually release the lock, delete /Users/felixmolter/.theano/compiledir_Darwin-17.7.0-x86_64-i386-64bit-i386-3.6.8-64/lock_dir\n",
      "INFO (theano.gof.compilelock): To manually release the lock, delete /Users/felixmolter/.theano/compiledir_Darwin-17.7.0-x86_64-i386-64bit-i386-3.6.8-64/lock_dir\n",
      "INFO (theano.gof.compilelock): To manually release the lock, delete /Users/felixmolter/.theano/compiledir_Darwin-17.7.0-x86_64-i386-64bit-i386-3.6.8-64/lock_dir\n",
      "INFO (theano.gof.compilelock): Waiting for existing lock by process '4588' (I am process '4593')\n",
      "INFO (theano.gof.compilelock): To manually release the lock, delete /Users/felixmolter/.theano/compiledir_Darwin-17.7.0-x86_64-i386-64bit-i386-3.6.8-64/lock_dir\n",
      "INFO (theano.gof.compilelock): Waiting for existing lock by process '4588' (I am process '4605')\n",
      "INFO (theano.gof.compilelock): To manually release the lock, delete /Users/felixmolter/.theano/compiledir_Darwin-17.7.0-x86_64-i386-64bit-i386-3.6.8-64/lock_dir\n",
      "INFO (theano.gof.compilelock): Waiting for existing lock by process '4603' (I am process '4586')\n",
      "INFO (theano.gof.compilelock): To manually release the lock, delete /Users/felixmolter/.theano/compiledir_Darwin-17.7.0-x86_64-i386-64bit-i386-3.6.8-64/lock_dir\n",
      "INFO (theano.gof.compilelock): Waiting for existing lock by process '4603' (I am process '4599')\n",
      "INFO (theano.gof.compilelock): To manually release the lock, delete /Users/felixmolter/.theano/compiledir_Darwin-17.7.0-x86_64-i386-64bit-i386-3.6.8-64/lock_dir\n",
      "INFO (theano.gof.compilelock): Waiting for existing lock by process '4603' (I am process '4594')\n",
      "INFO (theano.gof.compilelock): To manually release the lock, delete /Users/felixmolter/.theano/compiledir_Darwin-17.7.0-x86_64-i386-64bit-i386-3.6.8-64/lock_dir\n",
      "INFO (theano.gof.compilelock): Waiting for existing lock by process '4588' (I am process '4605')\n",
      "INFO (theano.gof.compilelock): To manually release the lock, delete /Users/felixmolter/.theano/compiledir_Darwin-17.7.0-x86_64-i386-64bit-i386-3.6.8-64/lock_dir\n",
      "Sequential sampling (2 chains in 1 job)\n",
      "CompoundStep\n",
      ">Metropolis: [tau_offset]\n",
      ">Metropolis: [tau_sd]\n",
      ">Metropolis: [tau_mu]\n",
      ">Metropolis: [s_offset]\n",
      ">Metropolis: [s_sd]\n",
      ">Metropolis: [s_mu]\n",
      ">Metropolis: [gamma_offset]\n",
      ">Metropolis: [gamma_sd]\n",
      ">Metropolis: [gamma_mu]\n",
      ">Metropolis: [v_offset]\n",
      ">Metropolis: [v_sd]\n",
      ">Metropolis: [v_mu]\n",
      "INFO (theano.gof.compilelock): Waiting for existing lock by process '4588' (I am process '4593')\n",
      "INFO (theano.gof.compilelock): To manually release the lock, delete /Users/felixmolter/.theano/compiledir_Darwin-17.7.0-x86_64-i386-64bit-i386-3.6.8-64/lock_dir\n",
      "INFO (theano.gof.compilelock): Waiting for existing lock by unknown process (I am process '4596')\n",
      "INFO (theano.gof.compilelock): Waiting for existing lock by unknown process (I am process '4602')\n",
      "INFO (theano.gof.compilelock): To manually release the lock, delete /Users/felixmolter/.theano/compiledir_Darwin-17.7.0-x86_64-i386-64bit-i386-3.6.8-64/lock_dir\n",
      "INFO (theano.gof.compilelock): To manually release the lock, delete /Users/felixmolter/.theano/compiledir_Darwin-17.7.0-x86_64-i386-64bit-i386-3.6.8-64/lock_dir\n",
      "INFO (theano.gof.compilelock): Waiting for existing lock by process '4589' (I am process '4586')\n",
      "INFO (theano.gof.compilelock): To manually release the lock, delete /Users/felixmolter/.theano/compiledir_Darwin-17.7.0-x86_64-i386-64bit-i386-3.6.8-64/lock_dir\n",
      "INFO (theano.gof.compilelock): Waiting for existing lock by process '4589' (I am process '4600')\n",
      "INFO (theano.gof.compilelock): To manually release the lock, delete /Users/felixmolter/.theano/compiledir_Darwin-17.7.0-x86_64-i386-64bit-i386-3.6.8-64/lock_dir\n",
      "INFO (theano.gof.compilelock): Waiting for existing lock by process '4589' (I am process '4594')\n",
      "INFO (theano.gof.compilelock): To manually release the lock, delete /Users/felixmolter/.theano/compiledir_Darwin-17.7.0-x86_64-i386-64bit-i386-3.6.8-64/lock_dir\n",
      "INFO (theano.gof.compilelock): Waiting for existing lock by process '4589' (I am process '4598')\n",
      "INFO (theano.gof.compilelock): To manually release the lock, delete /Users/felixmolter/.theano/compiledir_Darwin-17.7.0-x86_64-i386-64bit-i386-3.6.8-64/lock_dir\n",
      "INFO (theano.gof.compilelock): Waiting for existing lock by process '4589' (I am process '4599')\n",
      "INFO (theano.gof.compilelock): To manually release the lock, delete /Users/felixmolter/.theano/compiledir_Darwin-17.7.0-x86_64-i386-64bit-i386-3.6.8-64/lock_dir\n",
      "INFO (theano.gof.compilelock): Waiting for existing lock by process '4589' (I am process '4605')\n",
      "INFO (theano.gof.compilelock): To manually release the lock, delete /Users/felixmolter/.theano/compiledir_Darwin-17.7.0-x86_64-i386-64bit-i386-3.6.8-64/lock_dir\n",
      "INFO (theano.gof.compilelock): Waiting for existing lock by process '4589' (I am process '4594')\n",
      "INFO (theano.gof.compilelock): To manually release the lock, delete /Users/felixmolter/.theano/compiledir_Darwin-17.7.0-x86_64-i386-64bit-i386-3.6.8-64/lock_dir\n",
      "INFO (theano.gof.compilelock): Waiting for existing lock by process '4589' (I am process '4603')\n",
      "INFO (theano.gof.compilelock): To manually release the lock, delete /Users/felixmolter/.theano/compiledir_Darwin-17.7.0-x86_64-i386-64bit-i386-3.6.8-64/lock_dir\n"
     ]
    },
    {
     "name": "stderr",
     "output_type": "stream",
     "text": [
      "INFO (theano.gof.compilelock): Waiting for existing lock by process '4589' (I am process '4592')\n",
      "INFO (theano.gof.compilelock): To manually release the lock, delete /Users/felixmolter/.theano/compiledir_Darwin-17.7.0-x86_64-i386-64bit-i386-3.6.8-64/lock_dir\n",
      "INFO (theano.gof.compilelock): Waiting for existing lock by process '4589' (I am process '4593')\n",
      "INFO (theano.gof.compilelock): To manually release the lock, delete /Users/felixmolter/.theano/compiledir_Darwin-17.7.0-x86_64-i386-64bit-i386-3.6.8-64/lock_dir\n",
      "INFO (theano.gof.compilelock): Waiting for existing lock by process '4589' (I am process '4588')\n",
      "INFO (theano.gof.compilelock): To manually release the lock, delete /Users/felixmolter/.theano/compiledir_Darwin-17.7.0-x86_64-i386-64bit-i386-3.6.8-64/lock_dir\n"
     ]
    },
    {
     "name": "stdout",
     "output_type": "stream",
     "text": [
      "Fitting 1 model(s) using MCMC...\n",
      "  Fitting model 1 of 1...\n"
     ]
    },
    {
     "name": "stderr",
     "output_type": "stream",
     "text": [
      "INFO (theano.gof.compilelock): Waiting for existing lock by unknown process (I am process '4602')\n",
      "INFO (theano.gof.compilelock): To manually release the lock, delete /Users/felixmolter/.theano/compiledir_Darwin-17.7.0-x86_64-i386-64bit-i386-3.6.8-64/lock_dir\n"
     ]
    },
    {
     "name": "stdout",
     "output_type": "stream",
     "text": [
      "Fitting 1 model(s) using MCMC...\n",
      "  Fitting model 1 of 1...\n"
     ]
    },
    {
     "name": "stderr",
     "output_type": "stream",
     "text": [
      "INFO (theano.gof.compilelock): Waiting for existing lock by process '4605' (I am process '4600')\n",
      "INFO (theano.gof.compilelock): To manually release the lock, delete /Users/felixmolter/.theano/compiledir_Darwin-17.7.0-x86_64-i386-64bit-i386-3.6.8-64/lock_dir\n",
      "INFO (theano.gof.compilelock): Waiting for existing lock by process '4605' (I am process '4603')\n",
      "INFO (theano.gof.compilelock): To manually release the lock, delete /Users/felixmolter/.theano/compiledir_Darwin-17.7.0-x86_64-i386-64bit-i386-3.6.8-64/lock_dir\n",
      "INFO (theano.gof.compilelock): Waiting for existing lock by process '4605' (I am process '4598')\n",
      "INFO (theano.gof.compilelock): To manually release the lock, delete /Users/felixmolter/.theano/compiledir_Darwin-17.7.0-x86_64-i386-64bit-i386-3.6.8-64/lock_dir\n",
      "INFO (theano.gof.compilelock): Waiting for existing lock by process '4592' (I am process '4588')\n",
      "INFO (theano.gof.compilelock): To manually release the lock, delete /Users/felixmolter/.theano/compiledir_Darwin-17.7.0-x86_64-i386-64bit-i386-3.6.8-64/lock_dir\n",
      "INFO (theano.gof.compilelock): Waiting for existing lock by process '4592' (I am process '4602')\n",
      "INFO (theano.gof.compilelock): To manually release the lock, delete /Users/felixmolter/.theano/compiledir_Darwin-17.7.0-x86_64-i386-64bit-i386-3.6.8-64/lock_dir\n",
      "INFO (theano.gof.compilelock): Waiting for existing lock by process '4593' (I am process '4589')\n",
      "INFO (theano.gof.compilelock): To manually release the lock, delete /Users/felixmolter/.theano/compiledir_Darwin-17.7.0-x86_64-i386-64bit-i386-3.6.8-64/lock_dir\n",
      "INFO (theano.gof.compilelock): Waiting for existing lock by process '4593' (I am process '4599')\n",
      "INFO (theano.gof.compilelock): To manually release the lock, delete /Users/felixmolter/.theano/compiledir_Darwin-17.7.0-x86_64-i386-64bit-i386-3.6.8-64/lock_dir\n",
      "INFO (theano.gof.compilelock): Waiting for existing lock by process '4593' (I am process '4596')\n",
      "INFO (theano.gof.compilelock): To manually release the lock, delete /Users/felixmolter/.theano/compiledir_Darwin-17.7.0-x86_64-i386-64bit-i386-3.6.8-64/lock_dir\n",
      "Sequential sampling (2 chains in 1 job)\n",
      "CompoundStep\n",
      ">Metropolis: [tau_offset]\n",
      ">Metropolis: [tau_sd]\n",
      ">Metropolis: [tau_mu]\n",
      ">Metropolis: [s_offset]\n",
      ">Metropolis: [s_sd]\n",
      ">Metropolis: [s_mu]\n",
      ">Metropolis: [gamma_offset]\n",
      ">Metropolis: [gamma_sd]\n",
      ">Metropolis: [gamma_mu]\n",
      ">Metropolis: [v_offset]\n",
      ">Metropolis: [v_sd]\n",
      ">Metropolis: [v_mu]\n",
      "INFO (theano.gof.compilelock): Waiting for existing lock by process '4604' (I am process '4598')\n",
      "INFO (theano.gof.compilelock): To manually release the lock, delete /Users/felixmolter/.theano/compiledir_Darwin-17.7.0-x86_64-i386-64bit-i386-3.6.8-64/lock_dir\n",
      "INFO (theano.gof.compilelock): Waiting for existing lock by process '4604' (I am process '4600')\n",
      "INFO (theano.gof.compilelock): To manually release the lock, delete /Users/felixmolter/.theano/compiledir_Darwin-17.7.0-x86_64-i386-64bit-i386-3.6.8-64/lock_dir\n",
      "INFO (theano.gof.compilelock): Waiting for existing lock by process '4604' (I am process '4603')\n",
      "INFO (theano.gof.compilelock): To manually release the lock, delete /Users/felixmolter/.theano/compiledir_Darwin-17.7.0-x86_64-i386-64bit-i386-3.6.8-64/lock_dir\n",
      "Sequential sampling (2 chains in 1 job)\n",
      "CompoundStep\n",
      ">Metropolis: [tau_offset]\n",
      ">Metropolis: [tau_sd]\n",
      ">Metropolis: [tau_mu]\n",
      ">Metropolis: [s_offset]\n",
      ">Metropolis: [s_sd]\n",
      ">Metropolis: [s_mu]\n",
      ">Metropolis: [gamma_offset]\n",
      ">Metropolis: [gamma_sd]\n",
      ">Metropolis: [gamma_mu]\n",
      ">Metropolis: [v_offset]\n",
      ">Metropolis: [v_sd]\n",
      ">Metropolis: [v_mu]\n",
      "INFO (theano.gof.compilelock): Waiting for existing lock by process '4592' (I am process '4594')\n",
      "INFO (theano.gof.compilelock): To manually release the lock, delete /Users/felixmolter/.theano/compiledir_Darwin-17.7.0-x86_64-i386-64bit-i386-3.6.8-64/lock_dir\n"
     ]
    },
    {
     "name": "stdout",
     "output_type": "stream",
     "text": [
      "Fitting 1 model(s) using MCMC...\n",
      "  Fitting model 1 of 1...\n"
     ]
    },
    {
     "name": "stderr",
     "output_type": "stream",
     "text": [
      "INFO (theano.gof.compilelock): Waiting for existing lock by process '4599' (I am process '4602')\n",
      "INFO (theano.gof.compilelock): To manually release the lock, delete /Users/felixmolter/.theano/compiledir_Darwin-17.7.0-x86_64-i386-64bit-i386-3.6.8-64/lock_dir\n",
      "INFO (theano.gof.compilelock): Waiting for existing lock by process '4596' (I am process '4593')\n",
      "INFO (theano.gof.compilelock): To manually release the lock, delete /Users/felixmolter/.theano/compiledir_Darwin-17.7.0-x86_64-i386-64bit-i386-3.6.8-64/lock_dir\n",
      "INFO (theano.gof.compilelock): Waiting for existing lock by process '4596' (I am process '4598')\n",
      "INFO (theano.gof.compilelock): To manually release the lock, delete /Users/felixmolter/.theano/compiledir_Darwin-17.7.0-x86_64-i386-64bit-i386-3.6.8-64/lock_dir\n",
      "INFO (theano.gof.compilelock): Waiting for existing lock by process '4596' (I am process '4605')\n",
      "INFO (theano.gof.compilelock): To manually release the lock, delete /Users/felixmolter/.theano/compiledir_Darwin-17.7.0-x86_64-i386-64bit-i386-3.6.8-64/lock_dir\n",
      "INFO (theano.gof.compilelock): Waiting for existing lock by process '4596' (I am process '4600')\n",
      "INFO (theano.gof.compilelock): To manually release the lock, delete /Users/felixmolter/.theano/compiledir_Darwin-17.7.0-x86_64-i386-64bit-i386-3.6.8-64/lock_dir\n",
      "INFO (theano.gof.compilelock): Waiting for existing lock by process '4596' (I am process '4594')\n",
      "INFO (theano.gof.compilelock): To manually release the lock, delete /Users/felixmolter/.theano/compiledir_Darwin-17.7.0-x86_64-i386-64bit-i386-3.6.8-64/lock_dir\n",
      "INFO (theano.gof.compilelock): Waiting for existing lock by process '4603' (I am process '4588')\n",
      "INFO (theano.gof.compilelock): To manually release the lock, delete /Users/felixmolter/.theano/compiledir_Darwin-17.7.0-x86_64-i386-64bit-i386-3.6.8-64/lock_dir\n",
      "INFO (theano.gof.compilelock): Waiting for existing lock by process '4602' (I am process '4599')\n",
      "INFO (theano.gof.compilelock): To manually release the lock, delete /Users/felixmolter/.theano/compiledir_Darwin-17.7.0-x86_64-i386-64bit-i386-3.6.8-64/lock_dir\n",
      "INFO (theano.gof.compilelock): Waiting for existing lock by process '4600' (I am process '4593')\n",
      "INFO (theano.gof.compilelock): To manually release the lock, delete /Users/felixmolter/.theano/compiledir_Darwin-17.7.0-x86_64-i386-64bit-i386-3.6.8-64/lock_dir\n",
      "INFO (theano.gof.compilelock): Waiting for existing lock by process '4600' (I am process '4605')\n",
      "INFO (theano.gof.compilelock): To manually release the lock, delete /Users/felixmolter/.theano/compiledir_Darwin-17.7.0-x86_64-i386-64bit-i386-3.6.8-64/lock_dir\n",
      "INFO (theano.gof.compilelock): Waiting for existing lock by process '4600' (I am process '4594')\n",
      "INFO (theano.gof.compilelock): To manually release the lock, delete /Users/felixmolter/.theano/compiledir_Darwin-17.7.0-x86_64-i386-64bit-i386-3.6.8-64/lock_dir\n",
      "INFO (theano.gof.compilelock): Waiting for existing lock by process '4600' (I am process '4588')\n",
      "INFO (theano.gof.compilelock): To manually release the lock, delete /Users/felixmolter/.theano/compiledir_Darwin-17.7.0-x86_64-i386-64bit-i386-3.6.8-64/lock_dir\n",
      "INFO (theano.gof.compilelock): Waiting for existing lock by process '4600' (I am process '4598')\n",
      "INFO (theano.gof.compilelock): To manually release the lock, delete /Users/felixmolter/.theano/compiledir_Darwin-17.7.0-x86_64-i386-64bit-i386-3.6.8-64/lock_dir\n",
      "INFO (theano.gof.compilelock): Waiting for existing lock by process '4600' (I am process '4589')\n",
      "INFO (theano.gof.compilelock): To manually release the lock, delete /Users/felixmolter/.theano/compiledir_Darwin-17.7.0-x86_64-i386-64bit-i386-3.6.8-64/lock_dir\n",
      "INFO (theano.gof.compilelock): Waiting for existing lock by process '4596' (I am process '4599')\n",
      "INFO (theano.gof.compilelock): To manually release the lock, delete /Users/felixmolter/.theano/compiledir_Darwin-17.7.0-x86_64-i386-64bit-i386-3.6.8-64/lock_dir\n"
     ]
    },
    {
     "name": "stdout",
     "output_type": "stream",
     "text": [
      "Fitting 1 model(s) using MCMC...\n",
      "  Fitting model 1 of 1...\n"
     ]
    },
    {
     "name": "stderr",
     "output_type": "stream",
     "text": [
      "INFO (theano.gof.compilelock): Waiting for existing lock by process '4593' (I am process '4602')\n",
      "INFO (theano.gof.compilelock): To manually release the lock, delete /Users/felixmolter/.theano/compiledir_Darwin-17.7.0-x86_64-i386-64bit-i386-3.6.8-64/lock_dir\n"
     ]
    },
    {
     "name": "stdout",
     "output_type": "stream",
     "text": [
      "Fitting 1 model(s) using MCMC...\n",
      "  Fitting model 1 of 1...\n"
     ]
    },
    {
     "name": "stderr",
     "output_type": "stream",
     "text": [
      "INFO (theano.gof.compilelock): Waiting for existing lock by process '4598' (I am process '4605')\n",
      "INFO (theano.gof.compilelock): To manually release the lock, delete /Users/felixmolter/.theano/compiledir_Darwin-17.7.0-x86_64-i386-64bit-i386-3.6.8-64/lock_dir\n",
      "INFO (theano.gof.compilelock): Waiting for existing lock by process '4598' (I am process '4594')\n",
      "INFO (theano.gof.compilelock): To manually release the lock, delete /Users/felixmolter/.theano/compiledir_Darwin-17.7.0-x86_64-i386-64bit-i386-3.6.8-64/lock_dir\n",
      "INFO (theano.gof.compilelock): Waiting for existing lock by process '4598' (I am process '4589')\n",
      "INFO (theano.gof.compilelock): To manually release the lock, delete /Users/felixmolter/.theano/compiledir_Darwin-17.7.0-x86_64-i386-64bit-i386-3.6.8-64/lock_dir\n",
      "INFO (theano.gof.compilelock): Waiting for existing lock by process '4599' (I am process '4596')\n",
      "INFO (theano.gof.compilelock): To manually release the lock, delete /Users/felixmolter/.theano/compiledir_Darwin-17.7.0-x86_64-i386-64bit-i386-3.6.8-64/lock_dir\n",
      "INFO (theano.gof.compilelock): Waiting for existing lock by process '4599' (I am process '4600')\n",
      "INFO (theano.gof.compilelock): To manually release the lock, delete /Users/felixmolter/.theano/compiledir_Darwin-17.7.0-x86_64-i386-64bit-i386-3.6.8-64/lock_dir\n",
      "INFO (theano.gof.compilelock): Waiting for existing lock by process '4605' (I am process '4602')\n",
      "INFO (theano.gof.compilelock): To manually release the lock, delete /Users/felixmolter/.theano/compiledir_Darwin-17.7.0-x86_64-i386-64bit-i386-3.6.8-64/lock_dir\n"
     ]
    },
    {
     "name": "stdout",
     "output_type": "stream",
     "text": [
      "Fitting 1 model(s) using MCMC...\n",
      "  Fitting model 1 of 1...\n"
     ]
    },
    {
     "name": "stderr",
     "output_type": "stream",
     "text": [
      "INFO (theano.gof.compilelock): Waiting for existing lock by unknown process (I am process '4594')\n",
      "INFO (theano.gof.compilelock): To manually release the lock, delete /Users/felixmolter/.theano/compiledir_Darwin-17.7.0-x86_64-i386-64bit-i386-3.6.8-64/lock_dir\n",
      "INFO (theano.gof.compilelock): Waiting for existing lock by process '4589' (I am process '4596')\n",
      "INFO (theano.gof.compilelock): To manually release the lock, delete /Users/felixmolter/.theano/compiledir_Darwin-17.7.0-x86_64-i386-64bit-i386-3.6.8-64/lock_dir\n",
      "INFO (theano.gof.compilelock): Waiting for existing lock by process '4588' (I am process '4602')\n",
      "INFO (theano.gof.compilelock): To manually release the lock, delete /Users/felixmolter/.theano/compiledir_Darwin-17.7.0-x86_64-i386-64bit-i386-3.6.8-64/lock_dir\n",
      "INFO (theano.gof.compilelock): Waiting for existing lock by process '4598' (I am process '4593')\n",
      "INFO (theano.gof.compilelock): To manually release the lock, delete /Users/felixmolter/.theano/compiledir_Darwin-17.7.0-x86_64-i386-64bit-i386-3.6.8-64/lock_dir\n",
      "INFO (theano.gof.compilelock): Waiting for existing lock by process '4598' (I am process '4600')\n",
      "INFO (theano.gof.compilelock): To manually release the lock, delete /Users/felixmolter/.theano/compiledir_Darwin-17.7.0-x86_64-i386-64bit-i386-3.6.8-64/lock_dir\n",
      "INFO (theano.gof.compilelock): Waiting for existing lock by process '4589' (I am process '4599')\n",
      "INFO (theano.gof.compilelock): To manually release the lock, delete /Users/felixmolter/.theano/compiledir_Darwin-17.7.0-x86_64-i386-64bit-i386-3.6.8-64/lock_dir\n",
      "INFO (theano.gof.compilelock): Waiting for existing lock by process '4589' (I am process '4596')\n",
      "INFO (theano.gof.compilelock): To manually release the lock, delete /Users/felixmolter/.theano/compiledir_Darwin-17.7.0-x86_64-i386-64bit-i386-3.6.8-64/lock_dir\n",
      "INFO (theano.gof.compilelock): Waiting for existing lock by process '4589' (I am process '4602')\n",
      "INFO (theano.gof.compilelock): To manually release the lock, delete /Users/felixmolter/.theano/compiledir_Darwin-17.7.0-x86_64-i386-64bit-i386-3.6.8-64/lock_dir\n",
      "Sequential sampling (2 chains in 1 job)\n",
      "CompoundStep\n",
      ">Metropolis: [tau_offset]\n",
      ">Metropolis: [tau_sd]\n",
      ">Metropolis: [tau_mu]\n",
      ">Metropolis: [s_offset]\n",
      ">Metropolis: [s_sd]\n",
      ">Metropolis: [s_mu]\n",
      ">Metropolis: [gamma_offset]\n",
      ">Metropolis: [gamma_sd]\n",
      ">Metropolis: [gamma_mu]\n",
      ">Metropolis: [v_offset]\n",
      ">Metropolis: [v_sd]\n",
      ">Metropolis: [v_mu]\n",
      "INFO (theano.gof.compilelock): Waiting for existing lock by process '4588' (I am process '4593')\n",
      "INFO (theano.gof.compilelock): To manually release the lock, delete /Users/felixmolter/.theano/compiledir_Darwin-17.7.0-x86_64-i386-64bit-i386-3.6.8-64/lock_dir\n",
      "INFO (theano.gof.compilelock): Waiting for existing lock by process '4599' (I am process '4605')\n",
      "INFO (theano.gof.compilelock): To manually release the lock, delete /Users/felixmolter/.theano/compiledir_Darwin-17.7.0-x86_64-i386-64bit-i386-3.6.8-64/lock_dir\n",
      "INFO (theano.gof.compilelock): Waiting for existing lock by process '4599' (I am process '4596')\n",
      "INFO (theano.gof.compilelock): To manually release the lock, delete /Users/felixmolter/.theano/compiledir_Darwin-17.7.0-x86_64-i386-64bit-i386-3.6.8-64/lock_dir\n",
      "INFO (theano.gof.compilelock): Waiting for existing lock by process '4599' (I am process '4594')\n",
      "INFO (theano.gof.compilelock): To manually release the lock, delete /Users/felixmolter/.theano/compiledir_Darwin-17.7.0-x86_64-i386-64bit-i386-3.6.8-64/lock_dir\n",
      "INFO (theano.gof.compilelock): Waiting for existing lock by process '4599' (I am process '4602')\n",
      "INFO (theano.gof.compilelock): To manually release the lock, delete /Users/felixmolter/.theano/compiledir_Darwin-17.7.0-x86_64-i386-64bit-i386-3.6.8-64/lock_dir\n",
      "INFO (theano.gof.compilelock): Waiting for existing lock by process '4598' (I am process '4593')\n",
      "INFO (theano.gof.compilelock): To manually release the lock, delete /Users/felixmolter/.theano/compiledir_Darwin-17.7.0-x86_64-i386-64bit-i386-3.6.8-64/lock_dir\n",
      "INFO (theano.gof.compilelock): Waiting for existing lock by process '4596' (I am process '4594')\n",
      "INFO (theano.gof.compilelock): To manually release the lock, delete /Users/felixmolter/.theano/compiledir_Darwin-17.7.0-x86_64-i386-64bit-i386-3.6.8-64/lock_dir\n",
      "INFO (theano.gof.compilelock): Waiting for existing lock by process '4596' (I am process '4593')\n",
      "INFO (theano.gof.compilelock): To manually release the lock, delete /Users/felixmolter/.theano/compiledir_Darwin-17.7.0-x86_64-i386-64bit-i386-3.6.8-64/lock_dir\n",
      "INFO (theano.gof.compilelock): Waiting for existing lock by process '4602' (I am process '4589')\n",
      "INFO (theano.gof.compilelock): To manually release the lock, delete /Users/felixmolter/.theano/compiledir_Darwin-17.7.0-x86_64-i386-64bit-i386-3.6.8-64/lock_dir\n",
      "INFO (theano.gof.compilelock): Waiting for existing lock by process '4602' (I am process '4600')\n",
      "INFO (theano.gof.compilelock): To manually release the lock, delete /Users/felixmolter/.theano/compiledir_Darwin-17.7.0-x86_64-i386-64bit-i386-3.6.8-64/lock_dir\n",
      "INFO (theano.gof.compilelock): Waiting for existing lock by process '4602' (I am process '4594')\n",
      "INFO (theano.gof.compilelock): To manually release the lock, delete /Users/felixmolter/.theano/compiledir_Darwin-17.7.0-x86_64-i386-64bit-i386-3.6.8-64/lock_dir\n",
      "Sequential sampling (2 chains in 1 job)\n",
      "CompoundStep\n",
      ">Metropolis: [tau_offset]\n",
      ">Metropolis: [tau_sd]\n",
      ">Metropolis: [tau_mu]\n",
      ">Metropolis: [s_offset]\n",
      ">Metropolis: [s_sd]\n",
      ">Metropolis: [s_mu]\n",
      ">Metropolis: [gamma_offset]\n",
      ">Metropolis: [gamma_sd]\n",
      ">Metropolis: [gamma_mu]\n",
      ">Metropolis: [v_offset]\n",
      ">Metropolis: [v_sd]\n",
      ">Metropolis: [v_mu]\n",
      "INFO (theano.gof.compilelock): Waiting for existing lock by process '4602' (I am process '4593')\n",
      "INFO (theano.gof.compilelock): To manually release the lock, delete /Users/felixmolter/.theano/compiledir_Darwin-17.7.0-x86_64-i386-64bit-i386-3.6.8-64/lock_dir\n",
      "INFO (theano.gof.compilelock): Waiting for existing lock by process '4599' (I am process '4589')\n",
      "INFO (theano.gof.compilelock): To manually release the lock, delete /Users/felixmolter/.theano/compiledir_Darwin-17.7.0-x86_64-i386-64bit-i386-3.6.8-64/lock_dir\n",
      "INFO (theano.gof.compilelock): Waiting for existing lock by process '4599' (I am process '4594')\n",
      "INFO (theano.gof.compilelock): To manually release the lock, delete /Users/felixmolter/.theano/compiledir_Darwin-17.7.0-x86_64-i386-64bit-i386-3.6.8-64/lock_dir\n",
      "INFO (theano.gof.compilelock): Waiting for existing lock by process '4599' (I am process '4600')\n",
      "INFO (theano.gof.compilelock): To manually release the lock, delete /Users/felixmolter/.theano/compiledir_Darwin-17.7.0-x86_64-i386-64bit-i386-3.6.8-64/lock_dir\n",
      "Sequential sampling (2 chains in 1 job)\n",
      "CompoundStep\n",
      ">Metropolis: [tau_offset]\n",
      ">Metropolis: [tau_sd]\n",
      ">Metropolis: [tau_mu]\n",
      ">Metropolis: [s_offset]\n",
      ">Metropolis: [s_sd]\n",
      ">Metropolis: [s_mu]\n",
      ">Metropolis: [gamma_offset]\n",
      ">Metropolis: [gamma_sd]\n",
      ">Metropolis: [gamma_mu]\n",
      ">Metropolis: [v_offset]\n",
      ">Metropolis: [v_sd]\n",
      ">Metropolis: [v_mu]\n",
      "INFO (theano.gof.compilelock): Waiting for existing lock by process '4605' (I am process '4596')\n",
      "INFO (theano.gof.compilelock): To manually release the lock, delete /Users/felixmolter/.theano/compiledir_Darwin-17.7.0-x86_64-i386-64bit-i386-3.6.8-64/lock_dir\n",
      "Sequential sampling (2 chains in 1 job)\n",
      "CompoundStep\n",
      ">Metropolis: [tau_offset]\n",
      ">Metropolis: [tau_sd]\n",
      ">Metropolis: [tau_mu]\n",
      ">Metropolis: [s_offset]\n",
      ">Metropolis: [s_sd]\n",
      ">Metropolis: [s_mu]\n",
      ">Metropolis: [gamma_offset]\n",
      ">Metropolis: [gamma_sd]\n",
      ">Metropolis: [gamma_mu]\n",
      ">Metropolis: [v_offset]\n",
      ">Metropolis: [v_sd]\n",
      ">Metropolis: [v_mu]\n",
      "INFO (theano.gof.compilelock): Waiting for existing lock by process '4594' (I am process '4593')\n",
      "INFO (theano.gof.compilelock): To manually release the lock, delete /Users/felixmolter/.theano/compiledir_Darwin-17.7.0-x86_64-i386-64bit-i386-3.6.8-64/lock_dir\n",
      "INFO (theano.gof.compilelock): Waiting for existing lock by process '4594' (I am process '4600')\n",
      "INFO (theano.gof.compilelock): To manually release the lock, delete /Users/felixmolter/.theano/compiledir_Darwin-17.7.0-x86_64-i386-64bit-i386-3.6.8-64/lock_dir\n",
      "INFO (theano.gof.compilelock): Waiting for existing lock by process '4594' (I am process '4602')\n",
      "INFO (theano.gof.compilelock): To manually release the lock, delete /Users/felixmolter/.theano/compiledir_Darwin-17.7.0-x86_64-i386-64bit-i386-3.6.8-64/lock_dir\n"
     ]
    },
    {
     "name": "stderr",
     "output_type": "stream",
     "text": [
      "INFO (theano.gof.compilelock): Waiting for existing lock by process '4589' (I am process '4588')\n",
      "INFO (theano.gof.compilelock): To manually release the lock, delete /Users/felixmolter/.theano/compiledir_Darwin-17.7.0-x86_64-i386-64bit-i386-3.6.8-64/lock_dir\n",
      "INFO (theano.gof.compilelock): Waiting for existing lock by process '4599' (I am process '4593')\n",
      "INFO (theano.gof.compilelock): To manually release the lock, delete /Users/felixmolter/.theano/compiledir_Darwin-17.7.0-x86_64-i386-64bit-i386-3.6.8-64/lock_dir\n",
      "INFO (theano.gof.compilelock): Waiting for existing lock by process '4599' (I am process '4596')\n",
      "INFO (theano.gof.compilelock): To manually release the lock, delete /Users/felixmolter/.theano/compiledir_Darwin-17.7.0-x86_64-i386-64bit-i386-3.6.8-64/lock_dir\n",
      "INFO (theano.gof.compilelock): Waiting for existing lock by process '4600' (I am process '4602')\n",
      "INFO (theano.gof.compilelock): To manually release the lock, delete /Users/felixmolter/.theano/compiledir_Darwin-17.7.0-x86_64-i386-64bit-i386-3.6.8-64/lock_dir\n",
      "Sequential sampling (2 chains in 1 job)\n",
      "CompoundStep\n",
      ">Metropolis: [tau_offset]\n",
      ">Metropolis: [tau_sd]\n",
      ">Metropolis: [tau_mu]\n",
      ">Metropolis: [s_offset]\n",
      ">Metropolis: [s_sd]\n",
      ">Metropolis: [s_mu]\n",
      ">Metropolis: [gamma_offset]\n",
      ">Metropolis: [gamma_sd]\n",
      ">Metropolis: [gamma_mu]\n",
      ">Metropolis: [v_offset]\n",
      ">Metropolis: [v_sd]\n",
      ">Metropolis: [v_mu]\n",
      "INFO (theano.gof.compilelock): Waiting for existing lock by process '4588' (I am process '4593')\n",
      "INFO (theano.gof.compilelock): To manually release the lock, delete /Users/felixmolter/.theano/compiledir_Darwin-17.7.0-x86_64-i386-64bit-i386-3.6.8-64/lock_dir\n",
      "INFO (theano.gof.compilelock): Waiting for existing lock by process '4596' (I am process '4602')\n",
      "INFO (theano.gof.compilelock): To manually release the lock, delete /Users/felixmolter/.theano/compiledir_Darwin-17.7.0-x86_64-i386-64bit-i386-3.6.8-64/lock_dir\n",
      "INFO (theano.gof.compilelock): Waiting for existing lock by process '4589' (I am process '4594')\n",
      "INFO (theano.gof.compilelock): To manually release the lock, delete /Users/felixmolter/.theano/compiledir_Darwin-17.7.0-x86_64-i386-64bit-i386-3.6.8-64/lock_dir\n",
      "INFO (theano.gof.compilelock): Waiting for existing lock by process '4593' (I am process '4602')\n",
      "INFO (theano.gof.compilelock): To manually release the lock, delete /Users/felixmolter/.theano/compiledir_Darwin-17.7.0-x86_64-i386-64bit-i386-3.6.8-64/lock_dir\n",
      "INFO (theano.gof.compilelock): Waiting for existing lock by process '4594' (I am process '4600')\n",
      "INFO (theano.gof.compilelock): To manually release the lock, delete /Users/felixmolter/.theano/compiledir_Darwin-17.7.0-x86_64-i386-64bit-i386-3.6.8-64/lock_dir\n",
      "INFO (theano.gof.compilelock): Waiting for existing lock by process '4594' (I am process '4602')\n",
      "INFO (theano.gof.compilelock): To manually release the lock, delete /Users/felixmolter/.theano/compiledir_Darwin-17.7.0-x86_64-i386-64bit-i386-3.6.8-64/lock_dir\n",
      "INFO (theano.gof.compilelock): Waiting for existing lock by process '4593' (I am process '4600')\n",
      "INFO (theano.gof.compilelock): To manually release the lock, delete /Users/felixmolter/.theano/compiledir_Darwin-17.7.0-x86_64-i386-64bit-i386-3.6.8-64/lock_dir\n",
      "INFO (theano.gof.compilelock): Waiting for existing lock by process '4593' (I am process '4602')\n",
      "INFO (theano.gof.compilelock): To manually release the lock, delete /Users/felixmolter/.theano/compiledir_Darwin-17.7.0-x86_64-i386-64bit-i386-3.6.8-64/lock_dir\n",
      "INFO (theano.gof.compilelock): Waiting for existing lock by process '4596' (I am process '4600')\n",
      "INFO (theano.gof.compilelock): To manually release the lock, delete /Users/felixmolter/.theano/compiledir_Darwin-17.7.0-x86_64-i386-64bit-i386-3.6.8-64/lock_dir\n"
     ]
    },
    {
     "name": "stdout",
     "output_type": "stream",
     "text": [
      "Fitting 1 model(s) using MCMC...\n",
      "  Fitting model 1 of 1...\n"
     ]
    },
    {
     "name": "stderr",
     "output_type": "stream",
     "text": [
      "Sequential sampling (2 chains in 1 job)\n",
      "CompoundStep\n",
      ">Metropolis: [tau_offset]\n",
      ">Metropolis: [tau_sd]\n",
      ">Metropolis: [tau_mu]\n",
      ">Metropolis: [s_offset]\n",
      ">Metropolis: [s_sd]\n",
      ">Metropolis: [s_mu]\n",
      ">Metropolis: [gamma_offset]\n",
      ">Metropolis: [gamma_sd]\n",
      ">Metropolis: [gamma_mu]\n",
      ">Metropolis: [v_offset]\n",
      ">Metropolis: [v_sd]\n",
      ">Metropolis: [v_mu]\n",
      "INFO (theano.gof.compilelock): Waiting for existing lock by process '4593' (I am process '4596')\n",
      "INFO (theano.gof.compilelock): To manually release the lock, delete /Users/felixmolter/.theano/compiledir_Darwin-17.7.0-x86_64-i386-64bit-i386-3.6.8-64/lock_dir\n",
      "Sequential sampling (2 chains in 1 job)\n",
      "CompoundStep\n",
      ">Metropolis: [tau_offset]\n",
      ">Metropolis: [tau_sd]\n",
      ">Metropolis: [tau_mu]\n",
      ">Metropolis: [s_offset]\n",
      ">Metropolis: [s_sd]\n",
      ">Metropolis: [s_mu]\n",
      ">Metropolis: [gamma_offset]\n",
      ">Metropolis: [gamma_sd]\n",
      ">Metropolis: [gamma_mu]\n",
      ">Metropolis: [v_offset]\n",
      ">Metropolis: [v_sd]\n",
      ">Metropolis: [v_mu]\n",
      "Sequential sampling (2 chains in 1 job)\n",
      "CompoundStep\n",
      ">Metropolis: [tau_offset]\n",
      ">Metropolis: [tau_sd]\n",
      ">Metropolis: [tau_mu]\n",
      ">Metropolis: [s_offset]\n",
      ">Metropolis: [s_sd]\n",
      ">Metropolis: [s_mu]\n",
      ">Metropolis: [gamma_offset]\n",
      ">Metropolis: [gamma_sd]\n",
      ">Metropolis: [gamma_mu]\n",
      ">Metropolis: [v_offset]\n",
      ">Metropolis: [v_sd]\n",
      ">Metropolis: [v_mu]\n",
      "Sequential sampling (2 chains in 1 job)\n",
      "CompoundStep\n",
      ">Metropolis: [tau_offset]\n",
      ">Metropolis: [tau_sd]\n",
      ">Metropolis: [tau_mu]\n",
      ">Metropolis: [s_offset]\n",
      ">Metropolis: [s_sd]\n",
      ">Metropolis: [s_mu]\n",
      ">Metropolis: [gamma_offset]\n",
      ">Metropolis: [gamma_sd]\n",
      ">Metropolis: [gamma_mu]\n",
      ">Metropolis: [v_offset]\n",
      ">Metropolis: [v_sd]\n",
      ">Metropolis: [v_mu]\n",
      "Sequential sampling (2 chains in 1 job)\n",
      "CompoundStep\n",
      ">Metropolis: [tau_offset]\n",
      ">Metropolis: [tau_sd]\n",
      ">Metropolis: [tau_mu]\n",
      ">Metropolis: [s_offset]\n",
      ">Metropolis: [s_sd]\n",
      ">Metropolis: [s_mu]\n",
      ">Metropolis: [gamma_offset]\n",
      ">Metropolis: [gamma_sd]\n",
      ">Metropolis: [gamma_mu]\n",
      ">Metropolis: [v_offset]\n",
      ">Metropolis: [v_sd]\n",
      ">Metropolis: [v_mu]\n",
      "The gelman-rubin statistic is larger than 1.05 for some parameters. This indicates slight problems during sampling.\n",
      "The estimated number of effective samples is smaller than 200 for some parameters.\n"
     ]
    },
    {
     "name": "stdout",
     "output_type": "stream",
     "text": [
      "/!\\ Automatically setting parameter precision...\n"
     ]
    },
    {
     "name": "stderr",
     "output_type": "stream",
     "text": [
      "The gelman-rubin statistic is larger than 1.05 for some parameters. This indicates slight problems during sampling.\n",
      "The estimated number of effective samples is smaller than 200 for some parameters.\n"
     ]
    },
    {
     "name": "stdout",
     "output_type": "stream",
     "text": [
      "/!\\ Automatically setting parameter precision...\n"
     ]
    },
    {
     "name": "stderr",
     "output_type": "stream",
     "text": [
      "The estimated number of effective samples is smaller than 200 for some parameters.\n"
     ]
    },
    {
     "name": "stdout",
     "output_type": "stream",
     "text": [
      "/!\\ Automatically setting parameter precision...\n"
     ]
    },
    {
     "name": "stderr",
     "output_type": "stream",
     "text": [
      "The estimated number of effective samples is smaller than 200 for some parameters.\n"
     ]
    },
    {
     "name": "stdout",
     "output_type": "stream",
     "text": [
      "/!\\ Automatically setting parameter precision...\n"
     ]
    },
    {
     "name": "stderr",
     "output_type": "stream",
     "text": [
      "The estimated number of effective samples is smaller than 200 for some parameters.\n"
     ]
    },
    {
     "name": "stdout",
     "output_type": "stream",
     "text": [
      "/!\\ Automatically setting parameter precision...\n"
     ]
    },
    {
     "name": "stderr",
     "output_type": "stream",
     "text": [
      "The estimated number of effective samples is smaller than 200 for some parameters.\n"
     ]
    },
    {
     "name": "stdout",
     "output_type": "stream",
     "text": [
      "/!\\ Automatically setting parameter precision...\n"
     ]
    },
    {
     "name": "stderr",
     "output_type": "stream",
     "text": [
      "The gelman-rubin statistic is larger than 1.05 for some parameters. This indicates slight problems during sampling.\n",
      "The estimated number of effective samples is smaller than 200 for some parameters.\n"
     ]
    },
    {
     "name": "stdout",
     "output_type": "stream",
     "text": [
      "/!\\ Automatically setting parameter precision...\n"
     ]
    },
    {
     "name": "stderr",
     "output_type": "stream",
     "text": [
      "The estimated number of effective samples is smaller than 200 for some parameters.\n"
     ]
    },
    {
     "name": "stdout",
     "output_type": "stream",
     "text": [
      "/!\\ Automatically setting parameter precision...\n"
     ]
    },
    {
     "name": "stderr",
     "output_type": "stream",
     "text": [
      "The estimated number of effective samples is smaller than 200 for some parameters.\n"
     ]
    },
    {
     "name": "stdout",
     "output_type": "stream",
     "text": [
      "/!\\ Automatically setting parameter precision...\n"
     ]
    },
    {
     "name": "stderr",
     "output_type": "stream",
     "text": [
      "The gelman-rubin statistic is larger than 1.05 for some parameters. This indicates slight problems during sampling.\n",
      "The estimated number of effective samples is smaller than 200 for some parameters.\n"
     ]
    },
    {
     "name": "stdout",
     "output_type": "stream",
     "text": [
      "/!\\ Automatically setting parameter precision...\n"
     ]
    },
    {
     "name": "stderr",
     "output_type": "stream",
     "text": [
      "The estimated number of effective samples is smaller than 200 for some parameters.\n"
     ]
    },
    {
     "name": "stdout",
     "output_type": "stream",
     "text": [
      "/!\\ Automatically setting parameter precision...\n"
     ]
    },
    {
     "name": "stderr",
     "output_type": "stream",
     "text": [
      "The estimated number of effective samples is smaller than 200 for some parameters.\n"
     ]
    },
    {
     "name": "stdout",
     "output_type": "stream",
     "text": [
      "/!\\ Automatically setting parameter precision...\n"
     ]
    },
    {
     "name": "stderr",
     "output_type": "stream",
     "text": [
      "The estimated number of effective samples is smaller than 200 for some parameters.\n"
     ]
    },
    {
     "name": "stdout",
     "output_type": "stream",
     "text": [
      "/!\\ Automatically setting parameter precision...\n"
     ]
    },
    {
     "name": "stderr",
     "output_type": "stream",
     "text": [
      "The estimated number of effective samples is smaller than 200 for some parameters.\n"
     ]
    },
    {
     "name": "stdout",
     "output_type": "stream",
     "text": [
      "/!\\ Automatically setting parameter precision...\n"
     ]
    },
    {
     "name": "stderr",
     "output_type": "stream",
     "text": [
      "The estimated number of effective samples is smaller than 200 for some parameters.\n"
     ]
    },
    {
     "name": "stdout",
     "output_type": "stream",
     "text": [
      "/!\\ Automatically setting parameter precision...\n"
     ]
    },
    {
     "name": "stderr",
     "output_type": "stream",
     "text": [
      "The estimated number of effective samples is smaller than 200 for some parameters.\n"
     ]
    },
    {
     "name": "stdout",
     "output_type": "stream",
     "text": [
      "/!\\ Automatically setting parameter precision...\n"
     ]
    },
    {
     "name": "stderr",
     "output_type": "stream",
     "text": [
      "The gelman-rubin statistic is larger than 1.05 for some parameters. This indicates slight problems during sampling.\n",
      "The estimated number of effective samples is smaller than 200 for some parameters.\n"
     ]
    },
    {
     "name": "stdout",
     "output_type": "stream",
     "text": [
      "/!\\ Automatically setting parameter precision...\n"
     ]
    },
    {
     "name": "stderr",
     "output_type": "stream",
     "text": [
      "The estimated number of effective samples is smaller than 200 for some parameters.\n"
     ]
    },
    {
     "name": "stdout",
     "output_type": "stream",
     "text": [
      "/!\\ Automatically setting parameter precision...\n"
     ]
    },
    {
     "name": "stderr",
     "output_type": "stream",
     "text": [
      "The estimated number of effective samples is smaller than 200 for some parameters.\n"
     ]
    },
    {
     "name": "stdout",
     "output_type": "stream",
     "text": [
      "/!\\ Automatically setting parameter precision...\n"
     ]
    },
    {
     "name": "stderr",
     "output_type": "stream",
     "text": [
      "The estimated number of effective samples is smaller than 200 for some parameters.\n"
     ]
    },
    {
     "name": "stdout",
     "output_type": "stream",
     "text": [
      "/!\\ Automatically setting parameter precision...\n"
     ]
    },
    {
     "name": "stderr",
     "output_type": "stream",
     "text": [
      "The estimated number of effective samples is smaller than 200 for some parameters.\n"
     ]
    },
    {
     "name": "stdout",
     "output_type": "stream",
     "text": [
      "/!\\ Automatically setting parameter precision...\n"
     ]
    },
    {
     "name": "stderr",
     "output_type": "stream",
     "text": [
      "The estimated number of effective samples is smaller than 200 for some parameters.\n"
     ]
    },
    {
     "name": "stdout",
     "output_type": "stream",
     "text": [
      "/!\\ Automatically setting parameter precision...\n",
      "Generating hierarchical model for 20 subjects...\n",
      "Fitting 1 model(s) using MCMC...\n",
      "  Fitting model 1 of 1...\n",
      "Generating hierarchical model for 20 subjects...\n",
      "Fitting 1 model(s) using MCMC...\n",
      "  Fitting model 1 of 1...\n"
     ]
    },
    {
     "name": "stderr",
     "output_type": "stream",
     "text": [
      "Sequential sampling (2 chains in 1 job)\n",
      "CompoundStep\n",
      ">Metropolis: [tau_offset]\n",
      ">Metropolis: [tau_sd]\n",
      ">Metropolis: [tau_mu]\n",
      ">Metropolis: [s_offset]\n",
      ">Metropolis: [s_sd]\n",
      ">Metropolis: [s_mu]\n",
      ">Metropolis: [gamma_offset]\n",
      ">Metropolis: [gamma_sd]\n",
      ">Metropolis: [gamma_mu]\n",
      ">Metropolis: [v_offset]\n",
      ">Metropolis: [v_sd]\n",
      ">Metropolis: [v_mu]\n",
      "Sequential sampling (2 chains in 1 job)\n",
      "CompoundStep\n",
      ">Metropolis: [tau_offset]\n",
      ">Metropolis: [tau_sd]\n",
      ">Metropolis: [tau_mu]\n",
      ">Metropolis: [s_offset]\n",
      ">Metropolis: [s_sd]\n",
      ">Metropolis: [s_mu]\n",
      ">Metropolis: [gamma_offset]\n",
      ">Metropolis: [gamma_sd]\n",
      ">Metropolis: [gamma_mu]\n",
      ">Metropolis: [v_offset]\n",
      ">Metropolis: [v_sd]\n",
      ">Metropolis: [v_mu]\n"
     ]
    },
    {
     "name": "stdout",
     "output_type": "stream",
     "text": [
      "Generating hierarchical model for 20 subjects...\n",
      "Fitting 1 model(s) using MCMC...\n",
      "  Fitting model 1 of 1...\n",
      "Generating hierarchical model for 20 subjects...\n",
      "Fitting 1 model(s) using MCMC...\n",
      "  Fitting model 1 of 1...\n",
      "Generating hierarchical model for 20 subjects...\n"
     ]
    },
    {
     "name": "stderr",
     "output_type": "stream",
     "text": [
      "Sequential sampling (2 chains in 1 job)\n",
      "CompoundStep\n",
      ">Metropolis: [tau_offset]\n",
      ">Metropolis: [tau_sd]\n",
      ">Metropolis: [tau_mu]\n",
      ">Metropolis: [s_offset]\n",
      ">Metropolis: [s_sd]\n",
      ">Metropolis: [s_mu]\n",
      ">Metropolis: [gamma_offset]\n",
      ">Metropolis: [gamma_sd]\n",
      ">Metropolis: [gamma_mu]\n",
      ">Metropolis: [v_offset]\n",
      ">Metropolis: [v_sd]\n",
      ">Metropolis: [v_mu]\n"
     ]
    },
    {
     "name": "stdout",
     "output_type": "stream",
     "text": [
      "Fitting 1 model(s) using MCMC...\n",
      "  Fitting model 1 of 1...\n"
     ]
    },
    {
     "name": "stderr",
     "output_type": "stream",
     "text": [
      "Sequential sampling (2 chains in 1 job)\n",
      "CompoundStep\n",
      ">Metropolis: [tau_offset]\n",
      ">Metropolis: [tau_sd]\n",
      ">Metropolis: [tau_mu]\n",
      ">Metropolis: [s_offset]\n",
      ">Metropolis: [s_sd]\n",
      ">Metropolis: [s_mu]\n",
      ">Metropolis: [gamma_offset]\n",
      ">Metropolis: [gamma_sd]\n",
      ">Metropolis: [gamma_mu]\n",
      ">Metropolis: [v_offset]\n",
      ">Metropolis: [v_sd]\n",
      ">Metropolis: [v_mu]\n"
     ]
    },
    {
     "name": "stdout",
     "output_type": "stream",
     "text": [
      "Generating hierarchical model for 20 subjects...\n",
      "Fitting 1 model(s) using MCMC...\n",
      "  Fitting model 1 of 1...\n",
      "Generating hierarchical model for 20 subjects...\n",
      "Fitting 1 model(s) using MCMC...\n",
      "  Fitting model 1 of 1...\n"
     ]
    },
    {
     "name": "stderr",
     "output_type": "stream",
     "text": [
      "Sequential sampling (2 chains in 1 job)\n",
      "CompoundStep\n",
      ">Metropolis: [tau_offset]\n",
      ">Metropolis: [tau_sd]\n",
      ">Metropolis: [tau_mu]\n",
      ">Metropolis: [s_offset]\n",
      ">Metropolis: [s_sd]\n",
      ">Metropolis: [s_mu]\n",
      ">Metropolis: [gamma_offset]\n",
      ">Metropolis: [gamma_sd]\n",
      ">Metropolis: [gamma_mu]\n",
      ">Metropolis: [v_offset]\n",
      ">Metropolis: [v_sd]\n",
      ">Metropolis: [v_mu]\n",
      "Sequential sampling (2 chains in 1 job)\n",
      "CompoundStep\n",
      ">Metropolis: [tau_offset]\n",
      ">Metropolis: [tau_sd]\n",
      ">Metropolis: [tau_mu]\n",
      ">Metropolis: [s_offset]\n",
      ">Metropolis: [s_sd]\n",
      ">Metropolis: [s_mu]\n",
      ">Metropolis: [gamma_offset]\n",
      ">Metropolis: [gamma_sd]\n",
      ">Metropolis: [gamma_mu]\n",
      ">Metropolis: [v_offset]\n",
      ">Metropolis: [v_sd]\n",
      ">Metropolis: [v_mu]\n",
      "Sequential sampling (2 chains in 1 job)\n",
      "CompoundStep\n",
      ">Metropolis: [tau_offset]\n",
      ">Metropolis: [tau_sd]\n",
      ">Metropolis: [tau_mu]\n",
      ">Metropolis: [s_offset]\n",
      ">Metropolis: [s_sd]\n",
      ">Metropolis: [s_mu]\n",
      ">Metropolis: [gamma_offset]\n",
      ">Metropolis: [gamma_sd]\n",
      ">Metropolis: [gamma_mu]\n",
      ">Metropolis: [v_offset]\n",
      ">Metropolis: [v_sd]\n",
      ">Metropolis: [v_mu]\n"
     ]
    },
    {
     "name": "stdout",
     "output_type": "stream",
     "text": [
      "Generating hierarchical model for 20 subjects...\n",
      "Fitting 1 model(s) using MCMC...\n",
      "  Fitting model 1 of 1...\n",
      "Generating hierarchical model for 20 subjects...\n",
      "Fitting 1 model(s) using MCMC...\n",
      "  Fitting model 1 of 1...\n"
     ]
    },
    {
     "name": "stderr",
     "output_type": "stream",
     "text": [
      "Sequential sampling (2 chains in 1 job)\n",
      "CompoundStep\n",
      ">Metropolis: [tau_offset]\n",
      ">Metropolis: [tau_sd]\n",
      ">Metropolis: [tau_mu]\n",
      ">Metropolis: [s_offset]\n",
      ">Metropolis: [s_sd]\n",
      ">Metropolis: [s_mu]\n",
      ">Metropolis: [gamma_offset]\n",
      ">Metropolis: [gamma_sd]\n",
      ">Metropolis: [gamma_mu]\n",
      ">Metropolis: [v_offset]\n",
      ">Metropolis: [v_sd]\n",
      ">Metropolis: [v_mu]\n"
     ]
    },
    {
     "name": "stdout",
     "output_type": "stream",
     "text": [
      "Generating hierarchical model for 20 subjects...\n",
      "Fitting 1 model(s) using MCMC...\n",
      "  Fitting model 1 of 1...\n",
      "Generating hierarchical model for 20 subjects...\n",
      "Fitting 1 model(s) using MCMC...\n",
      "  Fitting model 1 of 1...\n"
     ]
    },
    {
     "name": "stderr",
     "output_type": "stream",
     "text": [
      "Sequential sampling (2 chains in 1 job)\n",
      "CompoundStep\n",
      ">Metropolis: [tau_offset]\n",
      ">Metropolis: [tau_sd]\n",
      ">Metropolis: [tau_mu]\n",
      ">Metropolis: [s_offset]\n",
      ">Metropolis: [s_sd]\n",
      ">Metropolis: [s_mu]\n",
      ">Metropolis: [gamma_offset]\n",
      ">Metropolis: [gamma_sd]\n",
      ">Metropolis: [gamma_mu]\n",
      ">Metropolis: [v_offset]\n",
      ">Metropolis: [v_sd]\n",
      ">Metropolis: [v_mu]\n",
      "Sequential sampling (2 chains in 1 job)\n",
      "CompoundStep\n",
      ">Metropolis: [tau_offset]\n",
      ">Metropolis: [tau_sd]\n",
      ">Metropolis: [tau_mu]\n",
      ">Metropolis: [s_offset]\n",
      ">Metropolis: [s_sd]\n",
      ">Metropolis: [s_mu]\n",
      ">Metropolis: [gamma_offset]\n",
      ">Metropolis: [gamma_sd]\n",
      ">Metropolis: [gamma_mu]\n",
      ">Metropolis: [v_offset]\n",
      ">Metropolis: [v_sd]\n",
      ">Metropolis: [v_mu]\n",
      "Sequential sampling (2 chains in 1 job)\n",
      "CompoundStep\n",
      ">Metropolis: [tau_offset]\n",
      ">Metropolis: [tau_sd]\n",
      ">Metropolis: [tau_mu]\n",
      ">Metropolis: [s_offset]\n",
      ">Metropolis: [s_sd]\n",
      ">Metropolis: [s_mu]\n",
      ">Metropolis: [gamma_offset]\n",
      ">Metropolis: [gamma_sd]\n",
      ">Metropolis: [gamma_mu]\n",
      ">Metropolis: [v_offset]\n",
      ">Metropolis: [v_sd]\n",
      ">Metropolis: [v_mu]\n"
     ]
    },
    {
     "name": "stdout",
     "output_type": "stream",
     "text": [
      "Generating hierarchical model for 20 subjects...\n",
      "Fitting 1 model(s) using MCMC...\n",
      "  Fitting model 1 of 1...\n",
      "Generating hierarchical model for 20 subjects...\n",
      "Generating hierarchical model for 20 subjects...\n",
      "Fitting 1 model(s) using MCMC...\n",
      "  Fitting model 1 of 1...\n"
     ]
    },
    {
     "name": "stderr",
     "output_type": "stream",
     "text": [
      "INFO (theano.gof.compilelock): Waiting for existing lock by process '4589' (I am process '4585')\n",
      "INFO (theano.gof.compilelock): To manually release the lock, delete /Users/felixmolter/.theano/compiledir_Darwin-17.7.0-x86_64-i386-64bit-i386-3.6.8-64/lock_dir\n"
     ]
    },
    {
     "name": "stdout",
     "output_type": "stream",
     "text": [
      "Fitting 1 model(s) using MCMC...\n",
      "  Fitting model 1 of 1...\n"
     ]
    },
    {
     "name": "stderr",
     "output_type": "stream",
     "text": [
      "Sequential sampling (2 chains in 1 job)\n",
      "CompoundStep\n",
      ">Metropolis: [tau_offset]\n",
      ">Metropolis: [tau_sd]\n",
      ">Metropolis: [tau_mu]\n",
      ">Metropolis: [s_offset]\n",
      ">Metropolis: [s_sd]\n",
      ">Metropolis: [s_mu]\n",
      ">Metropolis: [gamma_offset]\n",
      ">Metropolis: [gamma_sd]\n",
      ">Metropolis: [gamma_mu]\n",
      ">Metropolis: [v_offset]\n",
      ">Metropolis: [v_sd]\n",
      ">Metropolis: [v_mu]\n"
     ]
    },
    {
     "name": "stdout",
     "output_type": "stream",
     "text": [
      "Generating hierarchical model for 20 subjects...\n",
      "Generating hierarchical model for 20 subjects...\n",
      "Fitting 1 model(s) using MCMC...\n",
      "  Fitting model 1 of 1...\n",
      "Fitting 1 model(s) using MCMC...\n",
      "  Fitting model 1 of 1...\n"
     ]
    },
    {
     "name": "stderr",
     "output_type": "stream",
     "text": [
      "INFO (theano.gof.compilelock): Waiting for existing lock by process '4589' (I am process '4600')\n",
      "INFO (theano.gof.compilelock): To manually release the lock, delete /Users/felixmolter/.theano/compiledir_Darwin-17.7.0-x86_64-i386-64bit-i386-3.6.8-64/lock_dir\n",
      "INFO (theano.gof.compilelock): Waiting for existing lock by process '4585' (I am process '4600')\n",
      "INFO (theano.gof.compilelock): To manually release the lock, delete /Users/felixmolter/.theano/compiledir_Darwin-17.7.0-x86_64-i386-64bit-i386-3.6.8-64/lock_dir\n",
      "INFO (theano.gof.compilelock): Waiting for existing lock by process '4585' (I am process '4600')\n",
      "INFO (theano.gof.compilelock): To manually release the lock, delete /Users/felixmolter/.theano/compiledir_Darwin-17.7.0-x86_64-i386-64bit-i386-3.6.8-64/lock_dir\n",
      "Sequential sampling (2 chains in 1 job)\n",
      "CompoundStep\n",
      ">Metropolis: [tau_offset]\n",
      ">Metropolis: [tau_sd]\n",
      ">Metropolis: [tau_mu]\n",
      ">Metropolis: [s_offset]\n",
      ">Metropolis: [s_sd]\n",
      ">Metropolis: [s_mu]\n",
      ">Metropolis: [gamma_offset]\n",
      ">Metropolis: [gamma_sd]\n",
      ">Metropolis: [gamma_mu]\n",
      ">Metropolis: [v_offset]\n",
      ">Metropolis: [v_sd]\n",
      ">Metropolis: [v_mu]\n",
      "Sequential sampling (2 chains in 1 job)\n",
      "CompoundStep\n",
      ">Metropolis: [tau_offset]\n",
      ">Metropolis: [tau_sd]\n",
      ">Metropolis: [tau_mu]\n",
      ">Metropolis: [s_offset]\n",
      ">Metropolis: [s_sd]\n",
      ">Metropolis: [s_mu]\n",
      ">Metropolis: [gamma_offset]\n",
      ">Metropolis: [gamma_sd]\n",
      ">Metropolis: [gamma_mu]\n",
      ">Metropolis: [v_offset]\n",
      ">Metropolis: [v_sd]\n",
      ">Metropolis: [v_mu]\n"
     ]
    },
    {
     "name": "stdout",
     "output_type": "stream",
     "text": [
      "Generating hierarchical model for 20 subjects...\n",
      "Generating hierarchical model for 20 subjects...\n",
      "Fitting 1 model(s) using MCMC...\n",
      "  Fitting model 1 of 1...\n",
      "Fitting 1 model(s) using MCMC...\n",
      "  Fitting model 1 of 1...\n"
     ]
    },
    {
     "name": "stderr",
     "output_type": "stream",
     "text": [
      "Sequential sampling (2 chains in 1 job)\n",
      "CompoundStep\n",
      ">Metropolis: [tau_offset]\n",
      ">Metropolis: [tau_sd]\n",
      ">Metropolis: [tau_mu]\n",
      ">Metropolis: [s_offset]\n",
      ">Metropolis: [s_sd]\n",
      ">Metropolis: [s_mu]\n",
      ">Metropolis: [gamma_offset]\n",
      ">Metropolis: [gamma_sd]\n",
      ">Metropolis: [gamma_mu]\n",
      ">Metropolis: [v_offset]\n",
      ">Metropolis: [v_sd]\n",
      ">Metropolis: [v_mu]\n",
      "Sequential sampling (2 chains in 1 job)\n",
      "CompoundStep\n",
      ">Metropolis: [tau_offset]\n",
      ">Metropolis: [tau_sd]\n",
      ">Metropolis: [tau_mu]\n",
      ">Metropolis: [s_offset]\n",
      ">Metropolis: [s_sd]\n",
      ">Metropolis: [s_mu]\n",
      ">Metropolis: [gamma_offset]\n",
      ">Metropolis: [gamma_sd]\n",
      ">Metropolis: [gamma_mu]\n",
      ">Metropolis: [v_offset]\n",
      ">Metropolis: [v_sd]\n",
      ">Metropolis: [v_mu]\n"
     ]
    },
    {
     "name": "stdout",
     "output_type": "stream",
     "text": [
      "Generating hierarchical model for 20 subjects...\n",
      "Fitting 1 model(s) using MCMC...\n",
      "  Fitting model 1 of 1...\n"
     ]
    },
    {
     "name": "stderr",
     "output_type": "stream",
     "text": [
      "Sequential sampling (2 chains in 1 job)\n",
      "CompoundStep\n",
      ">Metropolis: [tau_offset]\n",
      ">Metropolis: [tau_sd]\n",
      ">Metropolis: [tau_mu]\n",
      ">Metropolis: [s_offset]\n",
      ">Metropolis: [s_sd]\n",
      ">Metropolis: [s_mu]\n",
      ">Metropolis: [gamma_offset]\n",
      ">Metropolis: [gamma_sd]\n",
      ">Metropolis: [gamma_mu]\n",
      ">Metropolis: [v_offset]\n",
      ">Metropolis: [v_sd]\n",
      ">Metropolis: [v_mu]\n"
     ]
    },
    {
     "name": "stdout",
     "output_type": "stream",
     "text": [
      "Generating hierarchical model for 20 subjects...\n",
      "Generating hierarchical model for 20 subjects...\n"
     ]
    },
    {
     "name": "stderr",
     "output_type": "stream",
     "text": [
      "Sequential sampling (2 chains in 1 job)\n",
      "CompoundStep\n",
      ">Metropolis: [tau_offset]\n",
      ">Metropolis: [tau_sd]\n",
      ">Metropolis: [tau_mu]\n",
      ">Metropolis: [s_offset]\n",
      ">Metropolis: [s_sd]\n",
      ">Metropolis: [s_mu]\n",
      ">Metropolis: [gamma_offset]\n",
      ">Metropolis: [gamma_sd]\n",
      ">Metropolis: [gamma_mu]\n",
      ">Metropolis: [v_offset]\n",
      ">Metropolis: [v_sd]\n",
      ">Metropolis: [v_mu]\n"
     ]
    },
    {
     "name": "stdout",
     "output_type": "stream",
     "text": [
      "Fitting 1 model(s) using MCMC...\n",
      "  Fitting model 1 of 1...\n",
      "Fitting 1 model(s) using MCMC...\n",
      "  Fitting model 1 of 1...\n",
      "Generating hierarchical model for 20 subjects...\n",
      "Fitting 1 model(s) using MCMC...\n",
      "  Fitting model 1 of 1...\n"
     ]
    },
    {
     "name": "stderr",
     "output_type": "stream",
     "text": [
      "Sequential sampling (2 chains in 1 job)\n",
      "CompoundStep\n",
      ">Metropolis: [tau_offset]\n",
      ">Metropolis: [tau_sd]\n",
      ">Metropolis: [tau_mu]\n",
      ">Metropolis: [s_offset]\n",
      ">Metropolis: [s_sd]\n",
      ">Metropolis: [s_mu]\n",
      ">Metropolis: [gamma_offset]\n",
      ">Metropolis: [gamma_sd]\n",
      ">Metropolis: [gamma_mu]\n",
      ">Metropolis: [v_offset]\n",
      ">Metropolis: [v_sd]\n",
      ">Metropolis: [v_mu]\n",
      "Sequential sampling (2 chains in 1 job)\n",
      "CompoundStep\n",
      ">Metropolis: [tau_offset]\n",
      ">Metropolis: [tau_sd]\n",
      ">Metropolis: [tau_mu]\n",
      ">Metropolis: [s_offset]\n",
      ">Metropolis: [s_sd]\n",
      ">Metropolis: [s_mu]\n",
      ">Metropolis: [gamma_offset]\n",
      ">Metropolis: [gamma_sd]\n",
      ">Metropolis: [gamma_mu]\n",
      ">Metropolis: [v_offset]\n",
      ">Metropolis: [v_sd]\n",
      ">Metropolis: [v_mu]\n",
      "Sequential sampling (2 chains in 1 job)\n",
      "CompoundStep\n",
      ">Metropolis: [tau_offset]\n",
      ">Metropolis: [tau_sd]\n",
      ">Metropolis: [tau_mu]\n",
      ">Metropolis: [s_offset]\n",
      ">Metropolis: [s_sd]\n",
      ">Metropolis: [s_mu]\n",
      ">Metropolis: [gamma_offset]\n",
      ">Metropolis: [gamma_sd]\n",
      ">Metropolis: [gamma_mu]\n",
      ">Metropolis: [v_offset]\n",
      ">Metropolis: [v_sd]\n",
      ">Metropolis: [v_mu]\n",
      "Sequential sampling (2 chains in 1 job)\n",
      "CompoundStep\n",
      ">Metropolis: [tau_offset]\n",
      ">Metropolis: [tau_sd]\n",
      ">Metropolis: [tau_mu]\n",
      ">Metropolis: [s_offset]\n",
      ">Metropolis: [s_sd]\n",
      ">Metropolis: [s_mu]\n",
      ">Metropolis: [gamma_offset]\n",
      ">Metropolis: [gamma_sd]\n",
      ">Metropolis: [gamma_mu]\n",
      ">Metropolis: [v_offset]\n",
      ">Metropolis: [v_sd]\n",
      ">Metropolis: [v_mu]\n",
      "The gelman-rubin statistic is larger than 1.05 for some parameters. This indicates slight problems during sampling.\n",
      "The estimated number of effective samples is smaller than 200 for some parameters.\n"
     ]
    },
    {
     "name": "stdout",
     "output_type": "stream",
     "text": [
      "/!\\ Automatically setting parameter precision...\n"
     ]
    },
    {
     "name": "stderr",
     "output_type": "stream",
     "text": [
      "The estimated number of effective samples is smaller than 200 for some parameters.\n"
     ]
    },
    {
     "name": "stdout",
     "output_type": "stream",
     "text": [
      "/!\\ Automatically setting parameter precision...\n"
     ]
    },
    {
     "name": "stderr",
     "output_type": "stream",
     "text": [
      "The estimated number of effective samples is smaller than 200 for some parameters.\n"
     ]
    },
    {
     "name": "stdout",
     "output_type": "stream",
     "text": [
      "/!\\ Automatically setting parameter precision...\n"
     ]
    },
    {
     "name": "stderr",
     "output_type": "stream",
     "text": [
      "The gelman-rubin statistic is larger than 1.05 for some parameters. This indicates slight problems during sampling.\n",
      "The estimated number of effective samples is smaller than 200 for some parameters.\n"
     ]
    },
    {
     "name": "stdout",
     "output_type": "stream",
     "text": [
      "/!\\ Automatically setting parameter precision...\n"
     ]
    },
    {
     "name": "stderr",
     "output_type": "stream",
     "text": [
      "The gelman-rubin statistic is larger than 1.05 for some parameters. This indicates slight problems during sampling.\n",
      "The estimated number of effective samples is smaller than 200 for some parameters.\n"
     ]
    },
    {
     "name": "stdout",
     "output_type": "stream",
     "text": [
      "/!\\ Automatically setting parameter precision...\n"
     ]
    },
    {
     "name": "stderr",
     "output_type": "stream",
     "text": [
      "The estimated number of effective samples is smaller than 200 for some parameters.\n"
     ]
    },
    {
     "name": "stdout",
     "output_type": "stream",
     "text": [
      "/!\\ Automatically setting parameter precision...\n"
     ]
    },
    {
     "name": "stderr",
     "output_type": "stream",
     "text": [
      "The estimated number of effective samples is smaller than 200 for some parameters.\n"
     ]
    },
    {
     "name": "stdout",
     "output_type": "stream",
     "text": [
      "/!\\ Automatically setting parameter precision...\n"
     ]
    },
    {
     "name": "stderr",
     "output_type": "stream",
     "text": [
      "The estimated number of effective samples is smaller than 200 for some parameters.\n"
     ]
    },
    {
     "name": "stdout",
     "output_type": "stream",
     "text": [
      "/!\\ Automatically setting parameter precision...\n"
     ]
    },
    {
     "name": "stderr",
     "output_type": "stream",
     "text": [
      "The estimated number of effective samples is smaller than 200 for some parameters.\n"
     ]
    },
    {
     "name": "stdout",
     "output_type": "stream",
     "text": [
      "/!\\ Automatically setting parameter precision...\n"
     ]
    },
    {
     "name": "stderr",
     "output_type": "stream",
     "text": [
      "The estimated number of effective samples is smaller than 200 for some parameters.\n"
     ]
    },
    {
     "name": "stdout",
     "output_type": "stream",
     "text": [
      "/!\\ Automatically setting parameter precision...\n"
     ]
    },
    {
     "name": "stderr",
     "output_type": "stream",
     "text": [
      "The gelman-rubin statistic is larger than 1.05 for some parameters. This indicates slight problems during sampling.\n",
      "The estimated number of effective samples is smaller than 200 for some parameters.\n"
     ]
    },
    {
     "name": "stdout",
     "output_type": "stream",
     "text": [
      "/!\\ Automatically setting parameter precision...\n"
     ]
    },
    {
     "name": "stderr",
     "output_type": "stream",
     "text": [
      "The estimated number of effective samples is smaller than 200 for some parameters.\n"
     ]
    },
    {
     "name": "stdout",
     "output_type": "stream",
     "text": [
      "/!\\ Automatically setting parameter precision...\n"
     ]
    },
    {
     "name": "stderr",
     "output_type": "stream",
     "text": [
      "The estimated number of effective samples is smaller than 200 for some parameters.\n"
     ]
    },
    {
     "name": "stdout",
     "output_type": "stream",
     "text": [
      "/!\\ Automatically setting parameter precision...\n"
     ]
    },
    {
     "name": "stderr",
     "output_type": "stream",
     "text": [
      "The estimated number of effective samples is smaller than 200 for some parameters.\n"
     ]
    },
    {
     "name": "stdout",
     "output_type": "stream",
     "text": [
      "/!\\ Automatically setting parameter precision...\n"
     ]
    },
    {
     "name": "stderr",
     "output_type": "stream",
     "text": [
      "The gelman-rubin statistic is larger than 1.05 for some parameters. This indicates slight problems during sampling.\n",
      "The estimated number of effective samples is smaller than 200 for some parameters.\n"
     ]
    },
    {
     "name": "stdout",
     "output_type": "stream",
     "text": [
      "/!\\ Automatically setting parameter precision...\n"
     ]
    },
    {
     "name": "stderr",
     "output_type": "stream",
     "text": [
      "The estimated number of effective samples is smaller than 200 for some parameters.\n"
     ]
    },
    {
     "name": "stdout",
     "output_type": "stream",
     "text": [
      "/!\\ Automatically setting parameter precision...\n"
     ]
    },
    {
     "name": "stderr",
     "output_type": "stream",
     "text": [
      "The estimated number of effective samples is smaller than 200 for some parameters.\n"
     ]
    },
    {
     "name": "stdout",
     "output_type": "stream",
     "text": [
      "/!\\ Automatically setting parameter precision...\n"
     ]
    },
    {
     "name": "stderr",
     "output_type": "stream",
     "text": [
      "The estimated number of effective samples is smaller than 200 for some parameters.\n"
     ]
    },
    {
     "name": "stdout",
     "output_type": "stream",
     "text": [
      "/!\\ Automatically setting parameter precision...\n"
     ]
    },
    {
     "name": "stderr",
     "output_type": "stream",
     "text": [
      "The number of effective samples is smaller than 10% for some parameters.\n"
     ]
    },
    {
     "name": "stdout",
     "output_type": "stream",
     "text": [
      "/!\\ Automatically setting parameter precision...\n"
     ]
    },
    {
     "name": "stderr",
     "output_type": "stream",
     "text": [
      "The gelman-rubin statistic is larger than 1.05 for some parameters. This indicates slight problems during sampling.\n",
      "The estimated number of effective samples is smaller than 200 for some parameters.\n"
     ]
    },
    {
     "name": "stdout",
     "output_type": "stream",
     "text": [
      "/!\\ Automatically setting parameter precision...\n"
     ]
    },
    {
     "name": "stderr",
     "output_type": "stream",
     "text": [
      "The gelman-rubin statistic is larger than 1.05 for some parameters. This indicates slight problems during sampling.\n",
      "The estimated number of effective samples is smaller than 200 for some parameters.\n"
     ]
    },
    {
     "name": "stdout",
     "output_type": "stream",
     "text": [
      "/!\\ Automatically setting parameter precision...\n"
     ]
    },
    {
     "name": "stderr",
     "output_type": "stream",
     "text": [
      "The gelman-rubin statistic is larger than 1.05 for some parameters. This indicates slight problems during sampling.\n",
      "The estimated number of effective samples is smaller than 200 for some parameters.\n"
     ]
    },
    {
     "name": "stdout",
     "output_type": "stream",
     "text": [
      "/!\\ Automatically setting parameter precision...\n",
      "Generating hierarchical model for 20 subjects...\n",
      "Fitting 1 model(s) using MCMC...\n",
      "  Fitting model 1 of 1...\n",
      "Generating hierarchical model for 20 subjects...\n",
      "Fitting 1 model(s) using MCMC...\n",
      "  Fitting model 1 of 1...\n",
      "Generating hierarchical model for 20 subjects...\n"
     ]
    },
    {
     "name": "stderr",
     "output_type": "stream",
     "text": [
      "Sequential sampling (2 chains in 1 job)\n",
      "CompoundStep\n",
      ">Metropolis: [tau_offset]\n",
      ">Metropolis: [tau_sd]\n",
      ">Metropolis: [tau_mu]\n",
      ">Metropolis: [s_offset]\n",
      ">Metropolis: [s_sd]\n",
      ">Metropolis: [s_mu]\n",
      ">Metropolis: [gamma_offset]\n",
      ">Metropolis: [gamma_sd]\n",
      ">Metropolis: [gamma_mu]\n",
      ">Metropolis: [v_offset]\n",
      ">Metropolis: [v_sd]\n",
      ">Metropolis: [v_mu]\n"
     ]
    },
    {
     "name": "stdout",
     "output_type": "stream",
     "text": [
      "Fitting 1 model(s) using MCMC...\n",
      "  Fitting model 1 of 1...\n",
      "Generating hierarchical model for 20 subjects...\n",
      "Fitting 1 model(s) using MCMC...\n",
      "  Fitting model 1 of 1...\n"
     ]
    },
    {
     "name": "stderr",
     "output_type": "stream",
     "text": [
      "Sequential sampling (2 chains in 1 job)\n",
      "CompoundStep\n",
      ">Metropolis: [tau_offset]\n",
      ">Metropolis: [tau_sd]\n",
      ">Metropolis: [tau_mu]\n",
      ">Metropolis: [s_offset]\n",
      ">Metropolis: [s_sd]\n",
      ">Metropolis: [s_mu]\n",
      ">Metropolis: [gamma_offset]\n",
      ">Metropolis: [gamma_sd]\n",
      ">Metropolis: [gamma_mu]\n",
      ">Metropolis: [v_offset]\n",
      ">Metropolis: [v_sd]\n",
      ">Metropolis: [v_mu]\n",
      "INFO (theano.gof.compilelock): Waiting for existing lock by process '4590' (I am process '4584')\n",
      "INFO (theano.gof.compilelock): To manually release the lock, delete /Users/felixmolter/.theano/compiledir_Darwin-17.7.0-x86_64-i386-64bit-i386-3.6.8-64/lock_dir\n",
      "Sequential sampling (2 chains in 1 job)\n",
      "CompoundStep\n",
      ">Metropolis: [tau_offset]\n",
      ">Metropolis: [tau_sd]\n",
      ">Metropolis: [tau_mu]\n",
      ">Metropolis: [s_offset]\n",
      ">Metropolis: [s_sd]\n",
      ">Metropolis: [s_mu]\n",
      ">Metropolis: [gamma_offset]\n",
      ">Metropolis: [gamma_sd]\n",
      ">Metropolis: [gamma_mu]\n",
      ">Metropolis: [v_offset]\n",
      ">Metropolis: [v_sd]\n",
      ">Metropolis: [v_mu]\n",
      "Sequential sampling (2 chains in 1 job)\n",
      "CompoundStep\n",
      ">Metropolis: [tau_offset]\n",
      ">Metropolis: [tau_sd]\n",
      ">Metropolis: [tau_mu]\n",
      ">Metropolis: [s_offset]\n",
      ">Metropolis: [s_sd]\n",
      ">Metropolis: [s_mu]\n",
      ">Metropolis: [gamma_offset]\n",
      ">Metropolis: [gamma_sd]\n",
      ">Metropolis: [gamma_mu]\n",
      ">Metropolis: [v_offset]\n",
      ">Metropolis: [v_sd]\n",
      ">Metropolis: [v_mu]\n"
     ]
    },
    {
     "name": "stdout",
     "output_type": "stream",
     "text": [
      "Generating hierarchical model for 20 subjects...\n",
      "Fitting 1 model(s) using MCMC...\n",
      "  Fitting model 1 of 1...\n"
     ]
    },
    {
     "name": "stderr",
     "output_type": "stream",
     "text": [
      "Sequential sampling (2 chains in 1 job)\n",
      "CompoundStep\n",
      ">Metropolis: [tau_offset]\n",
      ">Metropolis: [tau_sd]\n",
      ">Metropolis: [tau_mu]\n",
      ">Metropolis: [s_offset]\n",
      ">Metropolis: [s_sd]\n",
      ">Metropolis: [s_mu]\n",
      ">Metropolis: [gamma_offset]\n",
      ">Metropolis: [gamma_sd]\n",
      ">Metropolis: [gamma_mu]\n",
      ">Metropolis: [v_offset]\n",
      ">Metropolis: [v_sd]\n",
      ">Metropolis: [v_mu]\n"
     ]
    },
    {
     "name": "stdout",
     "output_type": "stream",
     "text": [
      "Generating hierarchical model for 20 subjects...\n",
      "Fitting 1 model(s) using MCMC...\n",
      "  Fitting model 1 of 1...\n",
      "Generating hierarchical model for 20 subjects...\n",
      "Fitting 1 model(s) using MCMC...\n",
      "  Fitting model 1 of 1...\n"
     ]
    },
    {
     "name": "stderr",
     "output_type": "stream",
     "text": [
      "Sequential sampling (2 chains in 1 job)\n",
      "CompoundStep\n",
      ">Metropolis: [tau_offset]\n",
      ">Metropolis: [tau_sd]\n",
      ">Metropolis: [tau_mu]\n",
      ">Metropolis: [s_offset]\n",
      ">Metropolis: [s_sd]\n",
      ">Metropolis: [s_mu]\n",
      ">Metropolis: [gamma_offset]\n",
      ">Metropolis: [gamma_sd]\n",
      ">Metropolis: [gamma_mu]\n",
      ">Metropolis: [v_offset]\n",
      ">Metropolis: [v_sd]\n",
      ">Metropolis: [v_mu]\n",
      "Sequential sampling (2 chains in 1 job)\n",
      "CompoundStep\n",
      ">Metropolis: [tau_offset]\n",
      ">Metropolis: [tau_sd]\n",
      ">Metropolis: [tau_mu]\n",
      ">Metropolis: [s_offset]\n",
      ">Metropolis: [s_sd]\n",
      ">Metropolis: [s_mu]\n",
      ">Metropolis: [gamma_offset]\n",
      ">Metropolis: [gamma_sd]\n",
      ">Metropolis: [gamma_mu]\n",
      ">Metropolis: [v_offset]\n",
      ">Metropolis: [v_sd]\n",
      ">Metropolis: [v_mu]\n"
     ]
    },
    {
     "name": "stdout",
     "output_type": "stream",
     "text": [
      "Generating hierarchical model for 20 subjects...\n",
      "Fitting 1 model(s) using MCMC...\n",
      "  Fitting model 1 of 1...\n",
      "Generating hierarchical model for 20 subjects...\n",
      "Fitting 1 model(s) using MCMC...\n",
      "  Fitting model 1 of 1...\n",
      "Generating hierarchical model for 20 subjects...\n",
      "Fitting 1 model(s) using MCMC...\n",
      "  Fitting model 1 of 1...\n"
     ]
    },
    {
     "name": "stderr",
     "output_type": "stream",
     "text": [
      "INFO (theano.gof.compilelock): Waiting for existing lock by process '4593' (I am process '4605')\n",
      "INFO (theano.gof.compilelock): To manually release the lock, delete /Users/felixmolter/.theano/compiledir_Darwin-17.7.0-x86_64-i386-64bit-i386-3.6.8-64/lock_dir\n",
      "INFO (theano.gof.compilelock): Waiting for existing lock by process '4588' (I am process '4605')\n",
      "INFO (theano.gof.compilelock): To manually release the lock, delete /Users/felixmolter/.theano/compiledir_Darwin-17.7.0-x86_64-i386-64bit-i386-3.6.8-64/lock_dir\n",
      "Sequential sampling (2 chains in 1 job)\n",
      "CompoundStep\n",
      ">Metropolis: [tau_offset]\n",
      ">Metropolis: [tau_sd]\n",
      ">Metropolis: [tau_mu]\n",
      ">Metropolis: [s_offset]\n",
      ">Metropolis: [s_sd]\n",
      ">Metropolis: [s_mu]\n",
      ">Metropolis: [gamma_offset]\n",
      ">Metropolis: [gamma_sd]\n",
      ">Metropolis: [gamma_mu]\n",
      ">Metropolis: [v_offset]\n",
      ">Metropolis: [v_sd]\n",
      ">Metropolis: [v_mu]\n"
     ]
    },
    {
     "name": "stdout",
     "output_type": "stream",
     "text": [
      "Generating hierarchical model for 20 subjects...\n"
     ]
    },
    {
     "name": "stderr",
     "output_type": "stream",
     "text": [
      "Sequential sampling (2 chains in 1 job)\n",
      "CompoundStep\n",
      ">Metropolis: [tau_offset]\n",
      ">Metropolis: [tau_sd]\n",
      ">Metropolis: [tau_mu]\n",
      ">Metropolis: [s_offset]\n",
      ">Metropolis: [s_sd]\n",
      ">Metropolis: [s_mu]\n",
      ">Metropolis: [gamma_offset]\n",
      ">Metropolis: [gamma_sd]\n",
      ">Metropolis: [gamma_mu]\n",
      ">Metropolis: [v_offset]\n",
      ">Metropolis: [v_sd]\n",
      ">Metropolis: [v_mu]\n"
     ]
    },
    {
     "name": "stdout",
     "output_type": "stream",
     "text": [
      "Fitting 1 model(s) using MCMC...\n",
      "  Fitting model 1 of 1...\n",
      "Generating hierarchical model for 20 subjects...\n",
      "Fitting 1 model(s) using MCMC...\n",
      "  Fitting model 1 of 1...\n"
     ]
    },
    {
     "name": "stderr",
     "output_type": "stream",
     "text": [
      "Sequential sampling (2 chains in 1 job)\n",
      "CompoundStep\n",
      ">Metropolis: [tau_offset]\n",
      ">Metropolis: [tau_sd]\n",
      ">Metropolis: [tau_mu]\n",
      ">Metropolis: [s_offset]\n",
      ">Metropolis: [s_sd]\n",
      ">Metropolis: [s_mu]\n",
      ">Metropolis: [gamma_offset]\n",
      ">Metropolis: [gamma_sd]\n",
      ">Metropolis: [gamma_mu]\n",
      ">Metropolis: [v_offset]\n",
      ">Metropolis: [v_sd]\n",
      ">Metropolis: [v_mu]\n",
      "INFO (theano.gof.compilelock): Waiting for existing lock by process '4599' (I am process '4592')\n",
      "INFO (theano.gof.compilelock): To manually release the lock, delete /Users/felixmolter/.theano/compiledir_Darwin-17.7.0-x86_64-i386-64bit-i386-3.6.8-64/lock_dir\n",
      "Sequential sampling (2 chains in 1 job)\n",
      "CompoundStep\n",
      ">Metropolis: [tau_offset]\n",
      ">Metropolis: [tau_sd]\n",
      ">Metropolis: [tau_mu]\n",
      ">Metropolis: [s_offset]\n",
      ">Metropolis: [s_sd]\n",
      ">Metropolis: [s_mu]\n",
      ">Metropolis: [gamma_offset]\n",
      ">Metropolis: [gamma_sd]\n",
      ">Metropolis: [gamma_mu]\n",
      ">Metropolis: [v_offset]\n",
      ">Metropolis: [v_sd]\n",
      ">Metropolis: [v_mu]\n",
      "Sequential sampling (2 chains in 1 job)\n",
      "CompoundStep\n",
      ">Metropolis: [tau_offset]\n",
      ">Metropolis: [tau_sd]\n",
      ">Metropolis: [tau_mu]\n",
      ">Metropolis: [s_offset]\n",
      ">Metropolis: [s_sd]\n",
      ">Metropolis: [s_mu]\n",
      ">Metropolis: [gamma_offset]\n",
      ">Metropolis: [gamma_sd]\n",
      ">Metropolis: [gamma_mu]\n",
      ">Metropolis: [v_offset]\n",
      ">Metropolis: [v_sd]\n",
      ">Metropolis: [v_mu]\n"
     ]
    },
    {
     "name": "stdout",
     "output_type": "stream",
     "text": [
      "Generating hierarchical model for 20 subjects...\n",
      "Fitting 1 model(s) using MCMC...\n",
      "  Fitting model 1 of 1...\n"
     ]
    },
    {
     "name": "stderr",
     "output_type": "stream",
     "text": [
      "Sequential sampling (2 chains in 1 job)\n",
      "CompoundStep\n",
      ">Metropolis: [tau_offset]\n",
      ">Metropolis: [tau_sd]\n",
      ">Metropolis: [tau_mu]\n",
      ">Metropolis: [s_offset]\n",
      ">Metropolis: [s_sd]\n",
      ">Metropolis: [s_mu]\n",
      ">Metropolis: [gamma_offset]\n",
      ">Metropolis: [gamma_sd]\n",
      ">Metropolis: [gamma_mu]\n",
      ">Metropolis: [v_offset]\n",
      ">Metropolis: [v_sd]\n",
      ">Metropolis: [v_mu]\n"
     ]
    },
    {
     "name": "stdout",
     "output_type": "stream",
     "text": [
      "Generating hierarchical model for 20 subjects...\n",
      "Fitting 1 model(s) using MCMC...\n",
      "  Fitting model 1 of 1...\n",
      "Generating hierarchical model for 20 subjects...\n",
      "Fitting 1 model(s) using MCMC...\n",
      "  Fitting model 1 of 1...\n"
     ]
    },
    {
     "name": "stderr",
     "output_type": "stream",
     "text": [
      "Sequential sampling (2 chains in 1 job)\n",
      "CompoundStep\n",
      ">Metropolis: [tau_offset]\n",
      ">Metropolis: [tau_sd]\n",
      ">Metropolis: [tau_mu]\n",
      ">Metropolis: [s_offset]\n",
      ">Metropolis: [s_sd]\n",
      ">Metropolis: [s_mu]\n",
      ">Metropolis: [gamma_offset]\n",
      ">Metropolis: [gamma_sd]\n",
      ">Metropolis: [gamma_mu]\n",
      ">Metropolis: [v_offset]\n",
      ">Metropolis: [v_sd]\n",
      ">Metropolis: [v_mu]\n",
      "Sequential sampling (2 chains in 1 job)\n",
      "CompoundStep\n",
      ">Metropolis: [tau_offset]\n",
      ">Metropolis: [tau_sd]\n",
      ">Metropolis: [tau_mu]\n",
      ">Metropolis: [s_offset]\n",
      ">Metropolis: [s_sd]\n",
      ">Metropolis: [s_mu]\n",
      ">Metropolis: [gamma_offset]\n",
      ">Metropolis: [gamma_sd]\n",
      ">Metropolis: [gamma_mu]\n",
      ">Metropolis: [v_offset]\n",
      ">Metropolis: [v_sd]\n",
      ">Metropolis: [v_mu]\n"
     ]
    },
    {
     "name": "stdout",
     "output_type": "stream",
     "text": [
      "Generating hierarchical model for 20 subjects...\n",
      "Fitting 1 model(s) using MCMC...\n",
      "  Fitting model 1 of 1...\n",
      "Generating hierarchical model for 20 subjects...\n",
      "Fitting 1 model(s) using MCMC...\n",
      "  Fitting model 1 of 1...\n"
     ]
    },
    {
     "name": "stderr",
     "output_type": "stream",
     "text": [
      "Sequential sampling (2 chains in 1 job)\n",
      "CompoundStep\n",
      ">Metropolis: [tau_offset]\n",
      ">Metropolis: [tau_sd]\n",
      ">Metropolis: [tau_mu]\n",
      ">Metropolis: [s_offset]\n",
      ">Metropolis: [s_sd]\n",
      ">Metropolis: [s_mu]\n",
      ">Metropolis: [gamma_offset]\n",
      ">Metropolis: [gamma_sd]\n",
      ">Metropolis: [gamma_mu]\n",
      ">Metropolis: [v_offset]\n",
      ">Metropolis: [v_sd]\n",
      ">Metropolis: [v_mu]\n"
     ]
    },
    {
     "name": "stdout",
     "output_type": "stream",
     "text": [
      "Generating hierarchical model for 20 subjects...\n",
      "Fitting 1 model(s) using MCMC...\n",
      "  Fitting model 1 of 1...\n",
      "Generating hierarchical model for 20 subjects...\n",
      "Fitting 1 model(s) using MCMC...\n",
      "  Fitting model 1 of 1...\n"
     ]
    },
    {
     "name": "stderr",
     "output_type": "stream",
     "text": [
      "Sequential sampling (2 chains in 1 job)\n",
      "CompoundStep\n",
      ">Metropolis: [tau_offset]\n",
      ">Metropolis: [tau_sd]\n",
      ">Metropolis: [tau_mu]\n",
      ">Metropolis: [s_offset]\n",
      ">Metropolis: [s_sd]\n",
      ">Metropolis: [s_mu]\n",
      ">Metropolis: [gamma_offset]\n",
      ">Metropolis: [gamma_sd]\n",
      ">Metropolis: [gamma_mu]\n",
      ">Metropolis: [v_offset]\n",
      ">Metropolis: [v_sd]\n",
      ">Metropolis: [v_mu]\n"
     ]
    },
    {
     "name": "stdout",
     "output_type": "stream",
     "text": [
      "Generating hierarchical model for 20 subjects...\n",
      "Fitting 1 model(s) using MCMC...\n",
      "  Fitting model 1 of 1...\n"
     ]
    },
    {
     "name": "stderr",
     "output_type": "stream",
     "text": [
      "Sequential sampling (2 chains in 1 job)\n",
      "CompoundStep\n",
      ">Metropolis: [tau_offset]\n",
      ">Metropolis: [tau_sd]\n",
      ">Metropolis: [tau_mu]\n",
      ">Metropolis: [s_offset]\n",
      ">Metropolis: [s_sd]\n",
      ">Metropolis: [s_mu]\n",
      ">Metropolis: [gamma_offset]\n",
      ">Metropolis: [gamma_sd]\n",
      ">Metropolis: [gamma_mu]\n",
      ">Metropolis: [v_offset]\n",
      ">Metropolis: [v_sd]\n",
      ">Metropolis: [v_mu]\n"
     ]
    },
    {
     "name": "stdout",
     "output_type": "stream",
     "text": [
      "Generating hierarchical model for 20 subjects...\n"
     ]
    },
    {
     "name": "stderr",
     "output_type": "stream",
     "text": [
      "Sequential sampling (2 chains in 1 job)\n",
      "CompoundStep\n",
      ">Metropolis: [tau_offset]\n",
      ">Metropolis: [tau_sd]\n",
      ">Metropolis: [tau_mu]\n",
      ">Metropolis: [s_offset]\n",
      ">Metropolis: [s_sd]\n",
      ">Metropolis: [s_mu]\n",
      ">Metropolis: [gamma_offset]\n",
      ">Metropolis: [gamma_sd]\n",
      ">Metropolis: [gamma_mu]\n",
      ">Metropolis: [v_offset]\n",
      ">Metropolis: [v_sd]\n",
      ">Metropolis: [v_mu]\n"
     ]
    },
    {
     "name": "stdout",
     "output_type": "stream",
     "text": [
      "Fitting 1 model(s) using MCMC...\n",
      "  Fitting model 1 of 1...\n"
     ]
    },
    {
     "name": "stderr",
     "output_type": "stream",
     "text": [
      "Sequential sampling (2 chains in 1 job)\n",
      "CompoundStep\n",
      ">Metropolis: [tau_offset]\n",
      ">Metropolis: [tau_sd]\n",
      ">Metropolis: [tau_mu]\n",
      ">Metropolis: [s_offset]\n",
      ">Metropolis: [s_sd]\n",
      ">Metropolis: [s_mu]\n",
      ">Metropolis: [gamma_offset]\n",
      ">Metropolis: [gamma_sd]\n",
      ">Metropolis: [gamma_mu]\n",
      ">Metropolis: [v_offset]\n",
      ">Metropolis: [v_sd]\n",
      ">Metropolis: [v_mu]\n",
      "Sequential sampling (2 chains in 1 job)\n",
      "CompoundStep\n",
      ">Metropolis: [tau_offset]\n",
      ">Metropolis: [tau_sd]\n",
      ">Metropolis: [tau_mu]\n",
      ">Metropolis: [s_offset]\n",
      ">Metropolis: [s_sd]\n",
      ">Metropolis: [s_mu]\n",
      ">Metropolis: [gamma_offset]\n",
      ">Metropolis: [gamma_sd]\n",
      ">Metropolis: [gamma_mu]\n",
      ">Metropolis: [v_offset]\n",
      ">Metropolis: [v_sd]\n",
      ">Metropolis: [v_mu]\n"
     ]
    },
    {
     "name": "stdout",
     "output_type": "stream",
     "text": [
      "Generating hierarchical model for 20 subjects...\n",
      "Fitting 1 model(s) using MCMC...\n",
      "  Fitting model 1 of 1...\n"
     ]
    },
    {
     "name": "stderr",
     "output_type": "stream",
     "text": [
      "Sequential sampling (2 chains in 1 job)\n",
      "CompoundStep\n",
      ">Metropolis: [tau_offset]\n",
      ">Metropolis: [tau_sd]\n",
      ">Metropolis: [tau_mu]\n",
      ">Metropolis: [s_offset]\n",
      ">Metropolis: [s_sd]\n",
      ">Metropolis: [s_mu]\n",
      ">Metropolis: [gamma_offset]\n",
      ">Metropolis: [gamma_sd]\n",
      ">Metropolis: [gamma_mu]\n",
      ">Metropolis: [v_offset]\n",
      ">Metropolis: [v_sd]\n",
      ">Metropolis: [v_mu]\n",
      "The estimated number of effective samples is smaller than 200 for some parameters.\n"
     ]
    },
    {
     "name": "stdout",
     "output_type": "stream",
     "text": [
      "/!\\ Automatically setting parameter precision...\n"
     ]
    },
    {
     "name": "stderr",
     "output_type": "stream",
     "text": [
      "The estimated number of effective samples is smaller than 200 for some parameters.\n"
     ]
    },
    {
     "name": "stdout",
     "output_type": "stream",
     "text": [
      "/!\\ Automatically setting parameter precision...\n"
     ]
    },
    {
     "name": "stderr",
     "output_type": "stream",
     "text": [
      "The gelman-rubin statistic is larger than 1.05 for some parameters. This indicates slight problems during sampling.\n",
      "The estimated number of effective samples is smaller than 200 for some parameters.\n"
     ]
    },
    {
     "name": "stdout",
     "output_type": "stream",
     "text": [
      "/!\\ Automatically setting parameter precision...\n"
     ]
    },
    {
     "name": "stderr",
     "output_type": "stream",
     "text": [
      "The estimated number of effective samples is smaller than 200 for some parameters.\n"
     ]
    },
    {
     "name": "stdout",
     "output_type": "stream",
     "text": [
      "/!\\ Automatically setting parameter precision...\n"
     ]
    },
    {
     "name": "stderr",
     "output_type": "stream",
     "text": [
      "The estimated number of effective samples is smaller than 200 for some parameters.\n"
     ]
    },
    {
     "name": "stdout",
     "output_type": "stream",
     "text": [
      "/!\\ Automatically setting parameter precision...\n"
     ]
    },
    {
     "name": "stderr",
     "output_type": "stream",
     "text": [
      "The estimated number of effective samples is smaller than 200 for some parameters.\n"
     ]
    },
    {
     "name": "stdout",
     "output_type": "stream",
     "text": [
      "/!\\ Automatically setting parameter precision...\n"
     ]
    },
    {
     "name": "stderr",
     "output_type": "stream",
     "text": [
      "The estimated number of effective samples is smaller than 200 for some parameters.\n"
     ]
    },
    {
     "name": "stdout",
     "output_type": "stream",
     "text": [
      "/!\\ Automatically setting parameter precision...\n"
     ]
    },
    {
     "name": "stderr",
     "output_type": "stream",
     "text": [
      "The estimated number of effective samples is smaller than 200 for some parameters.\n"
     ]
    },
    {
     "name": "stdout",
     "output_type": "stream",
     "text": [
      "/!\\ Automatically setting parameter precision...\n"
     ]
    },
    {
     "name": "stderr",
     "output_type": "stream",
     "text": [
      "The gelman-rubin statistic is larger than 1.05 for some parameters. This indicates slight problems during sampling.\n",
      "The estimated number of effective samples is smaller than 200 for some parameters.\n"
     ]
    },
    {
     "name": "stdout",
     "output_type": "stream",
     "text": [
      "/!\\ Automatically setting parameter precision...\n"
     ]
    },
    {
     "name": "stderr",
     "output_type": "stream",
     "text": [
      "The estimated number of effective samples is smaller than 200 for some parameters.\n"
     ]
    },
    {
     "name": "stdout",
     "output_type": "stream",
     "text": [
      "/!\\ Automatically setting parameter precision...\n"
     ]
    },
    {
     "name": "stderr",
     "output_type": "stream",
     "text": [
      "The estimated number of effective samples is smaller than 200 for some parameters.\n"
     ]
    },
    {
     "name": "stdout",
     "output_type": "stream",
     "text": [
      "/!\\ Automatically setting parameter precision...\n"
     ]
    },
    {
     "name": "stderr",
     "output_type": "stream",
     "text": [
      "The estimated number of effective samples is smaller than 200 for some parameters.\n"
     ]
    },
    {
     "name": "stdout",
     "output_type": "stream",
     "text": [
      "/!\\ Automatically setting parameter precision...\n"
     ]
    },
    {
     "name": "stderr",
     "output_type": "stream",
     "text": [
      "The gelman-rubin statistic is larger than 1.05 for some parameters. This indicates slight problems during sampling.\n",
      "The estimated number of effective samples is smaller than 200 for some parameters.\n"
     ]
    },
    {
     "name": "stdout",
     "output_type": "stream",
     "text": [
      "/!\\ Automatically setting parameter precision...\n"
     ]
    },
    {
     "name": "stderr",
     "output_type": "stream",
     "text": [
      "The gelman-rubin statistic is larger than 1.05 for some parameters. This indicates slight problems during sampling.\n",
      "The estimated number of effective samples is smaller than 200 for some parameters.\n"
     ]
    },
    {
     "name": "stdout",
     "output_type": "stream",
     "text": [
      "/!\\ Automatically setting parameter precision...\n"
     ]
    },
    {
     "name": "stderr",
     "output_type": "stream",
     "text": [
      "The estimated number of effective samples is smaller than 200 for some parameters.\n"
     ]
    },
    {
     "name": "stdout",
     "output_type": "stream",
     "text": [
      "/!\\ Automatically setting parameter precision...\n"
     ]
    },
    {
     "name": "stderr",
     "output_type": "stream",
     "text": [
      "The estimated number of effective samples is smaller than 200 for some parameters.\n"
     ]
    },
    {
     "name": "stdout",
     "output_type": "stream",
     "text": [
      "/!\\ Automatically setting parameter precision...\n"
     ]
    },
    {
     "name": "stderr",
     "output_type": "stream",
     "text": [
      "The gelman-rubin statistic is larger than 1.05 for some parameters. This indicates slight problems during sampling.\n",
      "The estimated number of effective samples is smaller than 200 for some parameters.\n"
     ]
    },
    {
     "name": "stdout",
     "output_type": "stream",
     "text": [
      "/!\\ Automatically setting parameter precision...\n"
     ]
    },
    {
     "name": "stderr",
     "output_type": "stream",
     "text": [
      "The number of effective samples is smaller than 10% for some parameters.\n"
     ]
    },
    {
     "name": "stdout",
     "output_type": "stream",
     "text": [
      "/!\\ Automatically setting parameter precision...\n"
     ]
    },
    {
     "name": "stderr",
     "output_type": "stream",
     "text": [
      "The estimated number of effective samples is smaller than 200 for some parameters.\n"
     ]
    },
    {
     "name": "stdout",
     "output_type": "stream",
     "text": [
      "/!\\ Automatically setting parameter precision...\n"
     ]
    },
    {
     "name": "stderr",
     "output_type": "stream",
     "text": [
      "The estimated number of effective samples is smaller than 200 for some parameters.\n"
     ]
    },
    {
     "name": "stdout",
     "output_type": "stream",
     "text": [
      "/!\\ Automatically setting parameter precision...\n"
     ]
    },
    {
     "name": "stderr",
     "output_type": "stream",
     "text": [
      "The gelman-rubin statistic is larger than 1.05 for some parameters. This indicates slight problems during sampling.\n",
      "The estimated number of effective samples is smaller than 200 for some parameters.\n"
     ]
    },
    {
     "name": "stdout",
     "output_type": "stream",
     "text": [
      "/!\\ Automatically setting parameter precision...\n"
     ]
    },
    {
     "name": "stderr",
     "output_type": "stream",
     "text": [
      "The estimated number of effective samples is smaller than 200 for some parameters.\n"
     ]
    },
    {
     "name": "stdout",
     "output_type": "stream",
     "text": [
      "/!\\ Automatically setting parameter precision...\n",
      "Generating hierarchical model for 20 subjects...\n",
      "Generating hierarchical model for 20 subjects...\n",
      "Fitting 1 model(s) using MCMC...\n",
      "  Fitting model 1 of 1...\n",
      "Fitting 1 model(s) using MCMC...\n",
      "  Fitting model 1 of 1...\n"
     ]
    },
    {
     "name": "stderr",
     "output_type": "stream",
     "text": [
      "Sequential sampling (2 chains in 1 job)\n",
      "CompoundStep\n",
      ">Metropolis: [tau_offset]\n",
      ">Metropolis: [tau_sd]\n",
      ">Metropolis: [tau_mu]\n",
      ">Metropolis: [s_offset]\n",
      ">Metropolis: [s_sd]\n",
      ">Metropolis: [s_mu]\n",
      ">Metropolis: [gamma_offset]\n",
      ">Metropolis: [gamma_sd]\n",
      ">Metropolis: [gamma_mu]\n",
      ">Metropolis: [v_offset]\n",
      ">Metropolis: [v_sd]\n",
      ">Metropolis: [v_mu]\n",
      "Sequential sampling (2 chains in 1 job)\n",
      "CompoundStep\n",
      ">Metropolis: [tau_offset]\n",
      ">Metropolis: [tau_sd]\n",
      ">Metropolis: [tau_mu]\n",
      ">Metropolis: [s_offset]\n",
      ">Metropolis: [s_sd]\n",
      ">Metropolis: [s_mu]\n",
      ">Metropolis: [gamma_offset]\n",
      ">Metropolis: [gamma_sd]\n",
      ">Metropolis: [gamma_mu]\n",
      ">Metropolis: [v_offset]\n",
      ">Metropolis: [v_sd]\n",
      ">Metropolis: [v_mu]\n"
     ]
    },
    {
     "name": "stdout",
     "output_type": "stream",
     "text": [
      "Generating hierarchical model for 20 subjects...\n",
      "Fitting 1 model(s) using MCMC...\n",
      "  Fitting model 1 of 1...\n",
      "Generating hierarchical model for 20 subjects...\n",
      "Fitting 1 model(s) using MCMC...\n",
      "  Fitting model 1 of 1...\n",
      "Generating hierarchical model for 20 subjects...\n"
     ]
    },
    {
     "name": "stderr",
     "output_type": "stream",
     "text": [
      "INFO (theano.gof.compilelock): Waiting for existing lock by process '4590' (I am process '4584')\n",
      "INFO (theano.gof.compilelock): To manually release the lock, delete /Users/felixmolter/.theano/compiledir_Darwin-17.7.0-x86_64-i386-64bit-i386-3.6.8-64/lock_dir\n"
     ]
    },
    {
     "name": "stdout",
     "output_type": "stream",
     "text": [
      "Fitting 1 model(s) using MCMC...\n",
      "  Fitting model 1 of 1...\n",
      "Generating hierarchical model for 20 subjects...\n",
      "Fitting 1 model(s) using MCMC...\n",
      "  Fitting model 1 of 1...\n",
      "Generating hierarchical model for 20 subjects...\n"
     ]
    },
    {
     "name": "stderr",
     "output_type": "stream",
     "text": [
      "Sequential sampling (2 chains in 1 job)\n",
      "CompoundStep\n",
      ">Metropolis: [tau_offset]\n",
      ">Metropolis: [tau_sd]\n",
      ">Metropolis: [tau_mu]\n",
      ">Metropolis: [s_offset]\n",
      ">Metropolis: [s_sd]\n",
      ">Metropolis: [s_mu]\n",
      ">Metropolis: [gamma_offset]\n",
      ">Metropolis: [gamma_sd]\n",
      ">Metropolis: [gamma_mu]\n",
      ">Metropolis: [v_offset]\n",
      ">Metropolis: [v_sd]\n",
      ">Metropolis: [v_mu]\n"
     ]
    },
    {
     "name": "stdout",
     "output_type": "stream",
     "text": [
      "Fitting 1 model(s) using MCMC...\n",
      "  Fitting model 1 of 1...\n"
     ]
    },
    {
     "name": "stderr",
     "output_type": "stream",
     "text": [
      "Sequential sampling (2 chains in 1 job)\n",
      "CompoundStep\n",
      ">Metropolis: [tau_offset]\n",
      ">Metropolis: [tau_sd]\n",
      ">Metropolis: [tau_mu]\n",
      ">Metropolis: [s_offset]\n",
      ">Metropolis: [s_sd]\n",
      ">Metropolis: [s_mu]\n",
      ">Metropolis: [gamma_offset]\n",
      ">Metropolis: [gamma_sd]\n",
      ">Metropolis: [gamma_mu]\n",
      ">Metropolis: [v_offset]\n",
      ">Metropolis: [v_sd]\n",
      ">Metropolis: [v_mu]\n",
      "INFO (theano.gof.compilelock): Waiting for existing lock by process '4584' (I am process '4601')\n",
      "INFO (theano.gof.compilelock): To manually release the lock, delete /Users/felixmolter/.theano/compiledir_Darwin-17.7.0-x86_64-i386-64bit-i386-3.6.8-64/lock_dir\n",
      "Sequential sampling (2 chains in 1 job)\n",
      "CompoundStep\n",
      ">Metropolis: [tau_offset]\n",
      ">Metropolis: [tau_sd]\n",
      ">Metropolis: [tau_mu]\n",
      ">Metropolis: [s_offset]\n",
      ">Metropolis: [s_sd]\n",
      ">Metropolis: [s_mu]\n",
      ">Metropolis: [gamma_offset]\n",
      ">Metropolis: [gamma_sd]\n",
      ">Metropolis: [gamma_mu]\n",
      ">Metropolis: [v_offset]\n",
      ">Metropolis: [v_sd]\n",
      ">Metropolis: [v_mu]\n",
      "Sequential sampling (2 chains in 1 job)\n",
      "CompoundStep\n",
      ">Metropolis: [tau_offset]\n",
      ">Metropolis: [tau_sd]\n",
      ">Metropolis: [tau_mu]\n",
      ">Metropolis: [s_offset]\n",
      ">Metropolis: [s_sd]\n",
      ">Metropolis: [s_mu]\n",
      ">Metropolis: [gamma_offset]\n",
      ">Metropolis: [gamma_sd]\n",
      ">Metropolis: [gamma_mu]\n",
      ">Metropolis: [v_offset]\n",
      ">Metropolis: [v_sd]\n",
      ">Metropolis: [v_mu]\n",
      "Sequential sampling (2 chains in 1 job)\n",
      "CompoundStep\n",
      ">Metropolis: [tau_offset]\n",
      ">Metropolis: [tau_sd]\n",
      ">Metropolis: [tau_mu]\n",
      ">Metropolis: [s_offset]\n",
      ">Metropolis: [s_sd]\n",
      ">Metropolis: [s_mu]\n",
      ">Metropolis: [gamma_offset]\n",
      ">Metropolis: [gamma_sd]\n",
      ">Metropolis: [gamma_mu]\n",
      ">Metropolis: [v_offset]\n",
      ">Metropolis: [v_sd]\n",
      ">Metropolis: [v_mu]\n"
     ]
    },
    {
     "name": "stdout",
     "output_type": "stream",
     "text": [
      "Generating hierarchical model for 20 subjects...\n",
      "Fitting 1 model(s) using MCMC...\n",
      "  Fitting model 1 of 1...\n"
     ]
    },
    {
     "name": "stderr",
     "output_type": "stream",
     "text": [
      "Sequential sampling (2 chains in 1 job)\n",
      "CompoundStep\n",
      ">Metropolis: [tau_offset]\n",
      ">Metropolis: [tau_sd]\n",
      ">Metropolis: [tau_mu]\n",
      ">Metropolis: [s_offset]\n",
      ">Metropolis: [s_sd]\n",
      ">Metropolis: [s_mu]\n",
      ">Metropolis: [gamma_offset]\n",
      ">Metropolis: [gamma_sd]\n",
      ">Metropolis: [gamma_mu]\n",
      ">Metropolis: [v_offset]\n",
      ">Metropolis: [v_sd]\n",
      ">Metropolis: [v_mu]\n"
     ]
    },
    {
     "name": "stdout",
     "output_type": "stream",
     "text": [
      "Generating hierarchical model for 20 subjects...\n",
      "Fitting 1 model(s) using MCMC...\n",
      "  Fitting model 1 of 1...\n",
      "Generating hierarchical model for 20 subjects...\n",
      "Fitting 1 model(s) using MCMC...\n",
      "  Fitting model 1 of 1...\n"
     ]
    },
    {
     "name": "stderr",
     "output_type": "stream",
     "text": [
      "Sequential sampling (2 chains in 1 job)\n",
      "CompoundStep\n",
      ">Metropolis: [tau_offset]\n",
      ">Metropolis: [tau_sd]\n",
      ">Metropolis: [tau_mu]\n",
      ">Metropolis: [s_offset]\n",
      ">Metropolis: [s_sd]\n",
      ">Metropolis: [s_mu]\n",
      ">Metropolis: [gamma_offset]\n",
      ">Metropolis: [gamma_sd]\n",
      ">Metropolis: [gamma_mu]\n",
      ">Metropolis: [v_offset]\n",
      ">Metropolis: [v_sd]\n",
      ">Metropolis: [v_mu]\n"
     ]
    },
    {
     "name": "stdout",
     "output_type": "stream",
     "text": [
      "Generating hierarchical model for 20 subjects...\n",
      "Fitting 1 model(s) using MCMC...\n",
      "  Fitting model 1 of 1...\n"
     ]
    },
    {
     "name": "stderr",
     "output_type": "stream",
     "text": [
      "Sequential sampling (2 chains in 1 job)\n",
      "CompoundStep\n",
      ">Metropolis: [tau_offset]\n",
      ">Metropolis: [tau_sd]\n",
      ">Metropolis: [tau_mu]\n",
      ">Metropolis: [s_offset]\n",
      ">Metropolis: [s_sd]\n",
      ">Metropolis: [s_mu]\n",
      ">Metropolis: [gamma_offset]\n",
      ">Metropolis: [gamma_sd]\n",
      ">Metropolis: [gamma_mu]\n",
      ">Metropolis: [v_offset]\n",
      ">Metropolis: [v_sd]\n",
      ">Metropolis: [v_mu]\n"
     ]
    },
    {
     "name": "stdout",
     "output_type": "stream",
     "text": [
      "Generating hierarchical model for 20 subjects...\n",
      "Fitting 1 model(s) using MCMC...\n",
      "  Fitting model 1 of 1...\n"
     ]
    },
    {
     "name": "stderr",
     "output_type": "stream",
     "text": [
      "Sequential sampling (2 chains in 1 job)\n",
      "CompoundStep\n",
      ">Metropolis: [tau_offset]\n",
      ">Metropolis: [tau_sd]\n",
      ">Metropolis: [tau_mu]\n",
      ">Metropolis: [s_offset]\n",
      ">Metropolis: [s_sd]\n",
      ">Metropolis: [s_mu]\n",
      ">Metropolis: [gamma_offset]\n",
      ">Metropolis: [gamma_sd]\n",
      ">Metropolis: [gamma_mu]\n",
      ">Metropolis: [v_offset]\n",
      ">Metropolis: [v_sd]\n",
      ">Metropolis: [v_mu]\n",
      "Sequential sampling (2 chains in 1 job)\n",
      "CompoundStep\n",
      ">Metropolis: [tau_offset]\n",
      ">Metropolis: [tau_sd]\n",
      ">Metropolis: [tau_mu]\n",
      ">Metropolis: [s_offset]\n",
      ">Metropolis: [s_sd]\n",
      ">Metropolis: [s_mu]\n",
      ">Metropolis: [gamma_offset]\n",
      ">Metropolis: [gamma_sd]\n",
      ">Metropolis: [gamma_mu]\n",
      ">Metropolis: [v_offset]\n",
      ">Metropolis: [v_sd]\n",
      ">Metropolis: [v_mu]\n"
     ]
    },
    {
     "name": "stdout",
     "output_type": "stream",
     "text": [
      "Generating hierarchical model for 20 subjects...\n",
      "Fitting 1 model(s) using MCMC...\n",
      "  Fitting model 1 of 1...\n"
     ]
    },
    {
     "name": "stderr",
     "output_type": "stream",
     "text": [
      "Sequential sampling (2 chains in 1 job)\n",
      "CompoundStep\n",
      ">Metropolis: [tau_offset]\n",
      ">Metropolis: [tau_sd]\n",
      ">Metropolis: [tau_mu]\n",
      ">Metropolis: [s_offset]\n",
      ">Metropolis: [s_sd]\n",
      ">Metropolis: [s_mu]\n",
      ">Metropolis: [gamma_offset]\n",
      ">Metropolis: [gamma_sd]\n",
      ">Metropolis: [gamma_mu]\n",
      ">Metropolis: [v_offset]\n",
      ">Metropolis: [v_sd]\n",
      ">Metropolis: [v_mu]\n"
     ]
    },
    {
     "name": "stdout",
     "output_type": "stream",
     "text": [
      "Generating hierarchical model for 20 subjects...\n",
      "Fitting 1 model(s) using MCMC...\n",
      "  Fitting model 1 of 1...\n",
      "Generating hierarchical model for 20 subjects...\n",
      "Fitting 1 model(s) using MCMC...\n",
      "  Fitting model 1 of 1...\n"
     ]
    },
    {
     "name": "stderr",
     "output_type": "stream",
     "text": [
      "Sequential sampling (2 chains in 1 job)\n",
      "CompoundStep\n",
      ">Metropolis: [tau_offset]\n",
      ">Metropolis: [tau_sd]\n",
      ">Metropolis: [tau_mu]\n",
      ">Metropolis: [s_offset]\n",
      ">Metropolis: [s_sd]\n",
      ">Metropolis: [s_mu]\n",
      ">Metropolis: [gamma_offset]\n",
      ">Metropolis: [gamma_sd]\n",
      ">Metropolis: [gamma_mu]\n",
      ">Metropolis: [v_offset]\n",
      ">Metropolis: [v_sd]\n",
      ">Metropolis: [v_mu]\n",
      "Sequential sampling (2 chains in 1 job)\n",
      "CompoundStep\n",
      ">Metropolis: [tau_offset]\n",
      ">Metropolis: [tau_sd]\n",
      ">Metropolis: [tau_mu]\n",
      ">Metropolis: [s_offset]\n",
      ">Metropolis: [s_sd]\n",
      ">Metropolis: [s_mu]\n",
      ">Metropolis: [gamma_offset]\n",
      ">Metropolis: [gamma_sd]\n",
      ">Metropolis: [gamma_mu]\n",
      ">Metropolis: [v_offset]\n",
      ">Metropolis: [v_sd]\n",
      ">Metropolis: [v_mu]\n",
      "The gelman-rubin statistic is larger than 1.05 for some parameters. This indicates slight problems during sampling.\n",
      "The estimated number of effective samples is smaller than 200 for some parameters.\n"
     ]
    },
    {
     "name": "stdout",
     "output_type": "stream",
     "text": [
      "/!\\ Automatically setting parameter precision...\n"
     ]
    },
    {
     "name": "stderr",
     "output_type": "stream",
     "text": [
      "The gelman-rubin statistic is larger than 1.05 for some parameters. This indicates slight problems during sampling.\n",
      "The estimated number of effective samples is smaller than 200 for some parameters.\n"
     ]
    },
    {
     "name": "stdout",
     "output_type": "stream",
     "text": [
      "/!\\ Automatically setting parameter precision...\n"
     ]
    },
    {
     "name": "stderr",
     "output_type": "stream",
     "text": [
      "The gelman-rubin statistic is larger than 1.05 for some parameters. This indicates slight problems during sampling.\n",
      "The estimated number of effective samples is smaller than 200 for some parameters.\n"
     ]
    },
    {
     "name": "stdout",
     "output_type": "stream",
     "text": [
      "/!\\ Automatically setting parameter precision...\n"
     ]
    },
    {
     "name": "stderr",
     "output_type": "stream",
     "text": [
      "The estimated number of effective samples is smaller than 200 for some parameters.\n"
     ]
    },
    {
     "name": "stdout",
     "output_type": "stream",
     "text": [
      "/!\\ Automatically setting parameter precision...\n"
     ]
    },
    {
     "name": "stderr",
     "output_type": "stream",
     "text": [
      "The gelman-rubin statistic is larger than 1.05 for some parameters. This indicates slight problems during sampling.\n",
      "The estimated number of effective samples is smaller than 200 for some parameters.\n"
     ]
    },
    {
     "name": "stdout",
     "output_type": "stream",
     "text": [
      "/!\\ Automatically setting parameter precision...\n"
     ]
    },
    {
     "name": "stderr",
     "output_type": "stream",
     "text": [
      "The estimated number of effective samples is smaller than 200 for some parameters.\n"
     ]
    },
    {
     "name": "stdout",
     "output_type": "stream",
     "text": [
      "/!\\ Automatically setting parameter precision...\n"
     ]
    },
    {
     "name": "stderr",
     "output_type": "stream",
     "text": [
      "The estimated number of effective samples is smaller than 200 for some parameters.\n"
     ]
    },
    {
     "name": "stdout",
     "output_type": "stream",
     "text": [
      "/!\\ Automatically setting parameter precision...\n"
     ]
    },
    {
     "name": "stderr",
     "output_type": "stream",
     "text": [
      "The estimated number of effective samples is smaller than 200 for some parameters.\n"
     ]
    },
    {
     "name": "stdout",
     "output_type": "stream",
     "text": [
      "/!\\ Automatically setting parameter precision...\n"
     ]
    },
    {
     "name": "stderr",
     "output_type": "stream",
     "text": [
      "The estimated number of effective samples is smaller than 200 for some parameters.\n"
     ]
    },
    {
     "name": "stdout",
     "output_type": "stream",
     "text": [
      "/!\\ Automatically setting parameter precision...\n"
     ]
    },
    {
     "name": "stderr",
     "output_type": "stream",
     "text": [
      "The gelman-rubin statistic is larger than 1.05 for some parameters. This indicates slight problems during sampling.\n",
      "The estimated number of effective samples is smaller than 200 for some parameters.\n"
     ]
    },
    {
     "name": "stdout",
     "output_type": "stream",
     "text": [
      "/!\\ Automatically setting parameter precision...\n"
     ]
    },
    {
     "name": "stderr",
     "output_type": "stream",
     "text": [
      "The estimated number of effective samples is smaller than 200 for some parameters.\n"
     ]
    },
    {
     "name": "stdout",
     "output_type": "stream",
     "text": [
      "/!\\ Automatically setting parameter precision...\n"
     ]
    },
    {
     "name": "stderr",
     "output_type": "stream",
     "text": [
      "The estimated number of effective samples is smaller than 200 for some parameters.\n"
     ]
    },
    {
     "name": "stdout",
     "output_type": "stream",
     "text": [
      "/!\\ Automatically setting parameter precision...\n"
     ]
    },
    {
     "name": "stderr",
     "output_type": "stream",
     "text": [
      "The estimated number of effective samples is smaller than 200 for some parameters.\n"
     ]
    },
    {
     "name": "stdout",
     "output_type": "stream",
     "text": [
      "/!\\ Automatically setting parameter precision...\n"
     ]
    },
    {
     "name": "stderr",
     "output_type": "stream",
     "text": [
      "The estimated number of effective samples is smaller than 200 for some parameters.\n"
     ]
    },
    {
     "name": "stdout",
     "output_type": "stream",
     "text": [
      "/!\\ Automatically setting parameter precision...\n"
     ]
    },
    {
     "name": "stderr",
     "output_type": "stream",
     "text": [
      "The estimated number of effective samples is smaller than 200 for some parameters.\n"
     ]
    },
    {
     "name": "stdout",
     "output_type": "stream",
     "text": [
      "/!\\ Automatically setting parameter precision...\n"
     ]
    }
   ],
   "source": [
    "from multiprocessing import Pool\n",
    "\n",
    "n_cores = 22\n",
    "p = Pool(n_cores)\n",
    "\n",
    "output = p.map(wrapper, pr.generate_hierarchical_parameter_sets(parameter_info))"
   ]
  },
  {
   "cell_type": "markdown",
   "metadata": {},
   "source": [
    "## Combine results"
   ]
  },
  {
   "cell_type": "code",
   "execution_count": 9,
   "metadata": {},
   "outputs": [
    {
     "data": {
      "text/html": [
       "<div>\n",
       "<style scoped>\n",
       "    .dataframe tbody tr th:only-of-type {\n",
       "        vertical-align: middle;\n",
       "    }\n",
       "\n",
       "    .dataframe tbody tr th {\n",
       "        vertical-align: top;\n",
       "    }\n",
       "\n",
       "    .dataframe thead th {\n",
       "        text-align: right;\n",
       "    }\n",
       "</style>\n",
       "<table border=\"1\" class=\"dataframe\">\n",
       "  <thead>\n",
       "    <tr style=\"text-align: right;\">\n",
       "      <th></th>\n",
       "      <th>index</th>\n",
       "      <th>v_level</th>\n",
       "      <th>gamma_level</th>\n",
       "      <th>s_level</th>\n",
       "      <th>tau_level</th>\n",
       "      <th>v_gen</th>\n",
       "      <th>v_gen_actual</th>\n",
       "      <th>gamma_gen</th>\n",
       "      <th>gamma_gen_actual</th>\n",
       "      <th>s_gen</th>\n",
       "      <th>...</th>\n",
       "      <th>gamma_rec</th>\n",
       "      <th>gamma_rec_hpd_lower</th>\n",
       "      <th>gamma_rec_hpd_upper</th>\n",
       "      <th>s_rec</th>\n",
       "      <th>s_rec_hpd_lower</th>\n",
       "      <th>s_rec_hpd_upper</th>\n",
       "      <th>tau_rec</th>\n",
       "      <th>tau_rec_hpd_lower</th>\n",
       "      <th>tau_rec_hpd_upper</th>\n",
       "      <th>converged</th>\n",
       "    </tr>\n",
       "  </thead>\n",
       "  <tbody>\n",
       "    <tr>\n",
       "      <th>0</th>\n",
       "      <td>0</td>\n",
       "      <td>low</td>\n",
       "      <td>low</td>\n",
       "      <td>low</td>\n",
       "      <td>low</td>\n",
       "      <td>0.000033</td>\n",
       "      <td>0.000039</td>\n",
       "      <td>-0.7</td>\n",
       "      <td>-0.779017</td>\n",
       "      <td>0.0067</td>\n",
       "      <td>...</td>\n",
       "      <td>-0.766530</td>\n",
       "      <td>-0.969478</td>\n",
       "      <td>-0.573529</td>\n",
       "      <td>0.006564</td>\n",
       "      <td>0.005744</td>\n",
       "      <td>0.007390</td>\n",
       "      <td>0.118701</td>\n",
       "      <td>0.011519</td>\n",
       "      <td>0.210938</td>\n",
       "      <td>True</td>\n",
       "    </tr>\n",
       "    <tr>\n",
       "      <th>1</th>\n",
       "      <td>1</td>\n",
       "      <td>low</td>\n",
       "      <td>low</td>\n",
       "      <td>low</td>\n",
       "      <td>medium</td>\n",
       "      <td>0.000033</td>\n",
       "      <td>0.000032</td>\n",
       "      <td>-0.7</td>\n",
       "      <td>-0.659172</td>\n",
       "      <td>0.0067</td>\n",
       "      <td>...</td>\n",
       "      <td>-0.587455</td>\n",
       "      <td>-0.650783</td>\n",
       "      <td>-0.514818</td>\n",
       "      <td>0.006696</td>\n",
       "      <td>0.006254</td>\n",
       "      <td>0.007152</td>\n",
       "      <td>0.765726</td>\n",
       "      <td>0.627700</td>\n",
       "      <td>0.916429</td>\n",
       "      <td>True</td>\n",
       "    </tr>\n",
       "    <tr>\n",
       "      <th>2</th>\n",
       "      <td>2</td>\n",
       "      <td>low</td>\n",
       "      <td>low</td>\n",
       "      <td>low</td>\n",
       "      <td>high</td>\n",
       "      <td>0.000033</td>\n",
       "      <td>0.000031</td>\n",
       "      <td>-0.7</td>\n",
       "      <td>-0.685173</td>\n",
       "      <td>0.0067</td>\n",
       "      <td>...</td>\n",
       "      <td>-0.582108</td>\n",
       "      <td>-0.637719</td>\n",
       "      <td>-0.526333</td>\n",
       "      <td>0.006384</td>\n",
       "      <td>0.005944</td>\n",
       "      <td>0.006866</td>\n",
       "      <td>1.218035</td>\n",
       "      <td>0.948798</td>\n",
       "      <td>1.495412</td>\n",
       "      <td>True</td>\n",
       "    </tr>\n",
       "    <tr>\n",
       "      <th>3</th>\n",
       "      <td>3</td>\n",
       "      <td>low</td>\n",
       "      <td>low</td>\n",
       "      <td>medium</td>\n",
       "      <td>low</td>\n",
       "      <td>0.000033</td>\n",
       "      <td>0.000032</td>\n",
       "      <td>-0.7</td>\n",
       "      <td>-0.766911</td>\n",
       "      <td>0.0095</td>\n",
       "      <td>...</td>\n",
       "      <td>-0.684036</td>\n",
       "      <td>-0.889326</td>\n",
       "      <td>-0.489667</td>\n",
       "      <td>0.008897</td>\n",
       "      <td>0.008242</td>\n",
       "      <td>0.009547</td>\n",
       "      <td>0.310423</td>\n",
       "      <td>0.221002</td>\n",
       "      <td>0.396320</td>\n",
       "      <td>True</td>\n",
       "    </tr>\n",
       "    <tr>\n",
       "      <th>4</th>\n",
       "      <td>4</td>\n",
       "      <td>low</td>\n",
       "      <td>low</td>\n",
       "      <td>medium</td>\n",
       "      <td>medium</td>\n",
       "      <td>0.000033</td>\n",
       "      <td>0.000033</td>\n",
       "      <td>-0.7</td>\n",
       "      <td>-0.714497</td>\n",
       "      <td>0.0095</td>\n",
       "      <td>...</td>\n",
       "      <td>-0.633952</td>\n",
       "      <td>-0.727031</td>\n",
       "      <td>-0.548031</td>\n",
       "      <td>0.009490</td>\n",
       "      <td>0.008759</td>\n",
       "      <td>0.010277</td>\n",
       "      <td>0.888521</td>\n",
       "      <td>0.617116</td>\n",
       "      <td>1.191125</td>\n",
       "      <td>True</td>\n",
       "    </tr>\n",
       "  </tbody>\n",
       "</table>\n",
       "<p>5 rows × 26 columns</p>\n",
       "</div>"
      ],
      "text/plain": [
       "   index v_level gamma_level s_level tau_level     v_gen  v_gen_actual  \\\n",
       "0      0     low         low     low       low  0.000033      0.000039   \n",
       "1      1     low         low     low    medium  0.000033      0.000032   \n",
       "2      2     low         low     low      high  0.000033      0.000031   \n",
       "3      3     low         low  medium       low  0.000033      0.000032   \n",
       "4      4     low         low  medium    medium  0.000033      0.000033   \n",
       "\n",
       "   gamma_gen  gamma_gen_actual   s_gen    ...      gamma_rec  \\\n",
       "0       -0.7         -0.779017  0.0067    ...      -0.766530   \n",
       "1       -0.7         -0.659172  0.0067    ...      -0.587455   \n",
       "2       -0.7         -0.685173  0.0067    ...      -0.582108   \n",
       "3       -0.7         -0.766911  0.0095    ...      -0.684036   \n",
       "4       -0.7         -0.714497  0.0095    ...      -0.633952   \n",
       "\n",
       "   gamma_rec_hpd_lower  gamma_rec_hpd_upper     s_rec  s_rec_hpd_lower  \\\n",
       "0            -0.969478            -0.573529  0.006564         0.005744   \n",
       "1            -0.650783            -0.514818  0.006696         0.006254   \n",
       "2            -0.637719            -0.526333  0.006384         0.005944   \n",
       "3            -0.889326            -0.489667  0.008897         0.008242   \n",
       "4            -0.727031            -0.548031  0.009490         0.008759   \n",
       "\n",
       "   s_rec_hpd_upper   tau_rec  tau_rec_hpd_lower  tau_rec_hpd_upper  converged  \n",
       "0         0.007390  0.118701           0.011519           0.210938       True  \n",
       "1         0.007152  0.765726           0.627700           0.916429       True  \n",
       "2         0.006866  1.218035           0.948798           1.495412       True  \n",
       "3         0.009547  0.310423           0.221002           0.396320       True  \n",
       "4         0.010277  0.888521           0.617116           1.191125       True  \n",
       "\n",
       "[5 rows x 26 columns]"
      ]
     },
     "execution_count": 9,
     "metadata": {},
     "output_type": "execute_result"
    }
   ],
   "source": [
    "filenames = [file for file in listdir(partial_output_folder)\n",
    "             if file.endswith('.csv')]\n",
    "\n",
    "partial_recoveries = []\n",
    "\n",
    "for file in filenames:\n",
    "    partial = pd.read_csv(join(partial_output_folder, file))\n",
    "    partial_recoveries.append(partial)\n",
    "\n",
    "parameter_recovery = pd.concat(partial_recoveries).sort_values('index').reset_index(drop=True)\n",
    "del partial_recoveries\n",
    "parameter_recovery.to_csv(join(output_folder, 'parameter-recovery_{}.csv'.format(label)))\n",
    "parameter_recovery.head()"
   ]
  }
 ],
 "metadata": {
  "kernelspec": {
   "display_name": "Python 3",
   "language": "python",
   "name": "python3"
  },
  "language_info": {
   "codemirror_mode": {
    "name": "ipython",
    "version": 3
   },
   "file_extension": ".py",
   "mimetype": "text/x-python",
   "name": "python",
   "nbconvert_exporter": "python",
   "pygments_lexer": "ipython3",
   "version": "3.6.8"
  },
  "toc": {
   "colors": {
    "hover_highlight": "#DAA520",
    "running_highlight": "#FF0000",
    "selected_highlight": "#FFD700"
   },
   "moveMenuLeft": true,
   "nav_menu": {
    "height": "66px",
    "width": "252px"
   },
   "navigate_menu": true,
   "number_sections": true,
   "sideBar": true,
   "threshold": 4,
   "toc_cell": false,
   "toc_section_display": "block",
   "toc_window_display": false,
   "widenNotebook": false
  }
 },
 "nbformat": 4,
 "nbformat_minor": 2
}
