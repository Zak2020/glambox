{
 "cells": [
  {
   "cell_type": "code",
   "execution_count": 1,
   "metadata": {},
   "outputs": [
    {
     "name": "stderr",
     "output_type": "stream",
     "text": [
      "/Users/felixmolter/anaconda3/lib/python3.6/site-packages/h5py/__init__.py:36: FutureWarning: Conversion of the second argument of issubdtype from `float` to `np.floating` is deprecated. In future, it will be treated as `np.float64 == np.dtype(float).type`.\n",
      "  from ._conv import register_converters as _register_converters\n"
     ]
    }
   ],
   "source": [
    "import numpy as np\n",
    "import pandas as pd\n",
    "import pymc3 as pm\n",
    "from os.path import join, isfile\n",
    "from os import listdir\n",
    "from functools import partial\n",
    "\n",
    "import glam\n",
    "import parameter_recovery as pr\n",
    "\n",
    "%load_ext autoreload\n",
    "%autoreload 2"
   ]
  },
  {
   "cell_type": "markdown",
   "metadata": {},
   "source": [
    "# Systematic parameter recovery – Hierarchical model, with Metropolis"
   ]
  },
  {
   "cell_type": "code",
   "execution_count": 2,
   "metadata": {},
   "outputs": [],
   "source": [
    "output_folder = join('results', 'parameter-recovery_hierarchical', 'metropolis')\n",
    "label = 'hierarchical_metropolis'"
   ]
  },
  {
   "cell_type": "markdown",
   "metadata": {},
   "source": [
    "## Define parameter ranges from 2011 estimates"
   ]
  },
  {
   "cell_type": "code",
   "execution_count": 3,
   "metadata": {},
   "outputs": [],
   "source": [
    "bounds = dict(v=[0.00002, 0.00015],\n",
    "              gamma=[-1, 1],\n",
    "              s=[0.006, 0.013],\n",
    "              tau=[0.1, 1.25])"
   ]
  },
  {
   "cell_type": "code",
   "execution_count": 4,
   "metadata": {},
   "outputs": [
    {
     "data": {
      "text/plain": [
       "{'v': array([3.30e-05, 8.50e-05, 1.37e-04]),\n",
       " 'gamma': array([-8.00000000e-01,  5.55111512e-17,  8.00000000e-01]),\n",
       " 's': array([0.0067, 0.0095, 0.0123]),\n",
       " 'tau': array([0.215, 0.675, 1.135])}"
      ]
     },
     "execution_count": 4,
     "metadata": {},
     "output_type": "execute_result"
    }
   ],
   "source": [
    "# Determine low, medium, high mean values as 10th, 50th and 90th percentile of these ranges\n",
    "means = {parameter: np.percentile(np.linspace(*bounds[parameter], 100), [10, 50, 90])\n",
    "          for parameter in ['v', 'gamma', 's', 'tau']}\n",
    "means"
   ]
  },
  {
   "cell_type": "code",
   "execution_count": 5,
   "metadata": {},
   "outputs": [],
   "source": [
    "sds = dict(v=0.00005,\n",
    "           s=0.001,\n",
    "           gamma=0.3,\n",
    "           tau=0.2)"
   ]
  },
  {
   "cell_type": "code",
   "execution_count": 6,
   "metadata": {},
   "outputs": [],
   "source": [
    "parameter_info = {parameter: dict(mu=dict(low=means[parameter][0],\n",
    "                                          medium=means[parameter][1],\n",
    "                                          high=means[parameter][2]),\n",
    "                                  sd=sds[parameter],\n",
    "                                  bounds=tuple(bounds[parameter]))\n",
    "                  for parameter in ['v', 'gamma', 's', 'tau']}"
   ]
  },
  {
   "cell_type": "markdown",
   "metadata": {},
   "source": [
    "## Run the recovery in parallel"
   ]
  },
  {
   "cell_type": "code",
   "execution_count": 7,
   "metadata": {},
   "outputs": [],
   "source": [
    "partial_output_folder = join(output_folder, 'partial')\n",
    "\n",
    "simulate_group_args = dict(kind='hierarchical',\n",
    "                           n_individuals=20,\n",
    "                           n_trials=50, \n",
    "                           n_items=3,\n",
    "                           error_weight=0,\n",
    "                           value_range=[1, 10],\n",
    "                           seed=None)\n",
    "\n",
    "make_model_args = dict(kind='hierarchical',\n",
    "                       t0_val=0,\n",
    "                       error_weight=0)\n",
    "\n",
    "fit_args = dict(method='MCMC',\n",
    "                step=pm.Metropolis,\n",
    "                draws=20000,\n",
    "                tune=180000,\n",
    "                cores=1,\n",
    "                chains=2,\n",
    "                progressbar=False)\n",
    "\n",
    "wrapper = partial(pr.recover_and_save_hierarchical,\n",
    "                  output_folder=partial_output_folder,\n",
    "                  label=label,\n",
    "                  simulate_group_args=simulate_group_args,\n",
    "                  make_model_args=make_model_args,\n",
    "                  fit_args=fit_args)"
   ]
  },
  {
   "cell_type": "code",
   "execution_count": 8,
   "metadata": {
    "scrolled": true
   },
   "outputs": [
    {
     "name": "stdout",
     "output_type": "stream",
     "text": [
      "Generating hierarchical model for 20 subjects...\n",
      "Generating hierarchical model for 20 subjects...\n",
      "Generating hierarchical model for 20 subjects...\n",
      "Generating hierarchical model for 20 subjects...\n",
      "Generating hierarchical model for 20 subjects...\n",
      "Generating hierarchical model for 20 subjects...\n",
      "Generating hierarchical model for 20 subjects...\n",
      "Generating hierarchical model for 20 subjects...\n",
      "Generating hierarchical model for 20 subjects...\n",
      "Generating hierarchical model for 20 subjects...\n",
      "Generating hierarchical model for 20 subjects...\n",
      "Generating hierarchical model for 20 subjects...\n",
      "Generating hierarchical model for 20 subjects...\n",
      "Generating hierarchical model for 20 subjects...\n",
      "Generating hierarchical model for 20 subjects...\n",
      "Generating hierarchical model for 20 subjects...\n",
      "Generating hierarchical model for 20 subjects...\n",
      "Generating hierarchical model for 20 subjects...\n",
      "Generating hierarchical model for 20 subjects...\n",
      "Generating hierarchical model for 20 subjects...\n",
      "Generating hierarchical model for 20 subjects...\n",
      "Generating hierarchical model for 20 subjects...\n",
      "Fitting 1 model(s) using MCMC...\n",
      "  Fitting model 1 of 1...\n"
     ]
    },
    {
     "name": "stderr",
     "output_type": "stream",
     "text": [
      "INFO (theano.gof.compilelock): Waiting for existing lock by process '73716' (I am process '73734')\n",
      "INFO (theano.gof.compilelock): To manually release the lock, delete /Users/felixmolter/.theano/compiledir_Darwin-17.7.0-x86_64-i386-64bit-i386-3.6.8-64/lock_dir\n",
      "INFO (theano.gof.compilelock): Waiting for existing lock by process '73716' (I am process '73725')\n",
      "INFO (theano.gof.compilelock): To manually release the lock, delete /Users/felixmolter/.theano/compiledir_Darwin-17.7.0-x86_64-i386-64bit-i386-3.6.8-64/lock_dir\n",
      "INFO (theano.gof.compilelock): Waiting for existing lock by process '73716' (I am process '73715')\n",
      "INFO (theano.gof.compilelock): To manually release the lock, delete /Users/felixmolter/.theano/compiledir_Darwin-17.7.0-x86_64-i386-64bit-i386-3.6.8-64/lock_dir\n",
      "INFO (theano.gof.compilelock): Waiting for existing lock by process '73716' (I am process '73728')\n",
      "INFO (theano.gof.compilelock): To manually release the lock, delete /Users/felixmolter/.theano/compiledir_Darwin-17.7.0-x86_64-i386-64bit-i386-3.6.8-64/lock_dir\n",
      "INFO (theano.gof.compilelock): Waiting for existing lock by process '73716' (I am process '73726')\n",
      "INFO (theano.gof.compilelock): To manually release the lock, delete /Users/felixmolter/.theano/compiledir_Darwin-17.7.0-x86_64-i386-64bit-i386-3.6.8-64/lock_dir\n",
      "INFO (theano.gof.compilelock): Waiting for existing lock by process '73716' (I am process '73714')\n",
      "INFO (theano.gof.compilelock): To manually release the lock, delete /Users/felixmolter/.theano/compiledir_Darwin-17.7.0-x86_64-i386-64bit-i386-3.6.8-64/lock_dir\n",
      "INFO (theano.gof.compilelock): Waiting for existing lock by process '73716' (I am process '73720')\n",
      "INFO (theano.gof.compilelock): To manually release the lock, delete /Users/felixmolter/.theano/compiledir_Darwin-17.7.0-x86_64-i386-64bit-i386-3.6.8-64/lock_dir\n",
      "INFO (theano.gof.compilelock): Waiting for existing lock by process '73716' (I am process '73724')\n",
      "INFO (theano.gof.compilelock): Waiting for existing lock by process '73716' (I am process '73717')\n",
      "INFO (theano.gof.compilelock): To manually release the lock, delete /Users/felixmolter/.theano/compiledir_Darwin-17.7.0-x86_64-i386-64bit-i386-3.6.8-64/lock_dir\n",
      "INFO (theano.gof.compilelock): To manually release the lock, delete /Users/felixmolter/.theano/compiledir_Darwin-17.7.0-x86_64-i386-64bit-i386-3.6.8-64/lock_dir\n",
      "INFO (theano.gof.compilelock): Waiting for existing lock by process '73716' (I am process '73713')\n",
      "INFO (theano.gof.compilelock): To manually release the lock, delete /Users/felixmolter/.theano/compiledir_Darwin-17.7.0-x86_64-i386-64bit-i386-3.6.8-64/lock_dir\n",
      "INFO (theano.gof.compilelock): Waiting for existing lock by process '73716' (I am process '73719')\n",
      "INFO (theano.gof.compilelock): Waiting for existing lock by process '73716' (I am process '73733')\n",
      "INFO (theano.gof.compilelock): To manually release the lock, delete /Users/felixmolter/.theano/compiledir_Darwin-17.7.0-x86_64-i386-64bit-i386-3.6.8-64/lock_dir\n",
      "INFO (theano.gof.compilelock): Waiting for existing lock by process '73716' (I am process '73732')\n",
      "INFO (theano.gof.compilelock): To manually release the lock, delete /Users/felixmolter/.theano/compiledir_Darwin-17.7.0-x86_64-i386-64bit-i386-3.6.8-64/lock_dir\n",
      "INFO (theano.gof.compilelock): To manually release the lock, delete /Users/felixmolter/.theano/compiledir_Darwin-17.7.0-x86_64-i386-64bit-i386-3.6.8-64/lock_dir\n",
      "INFO (theano.gof.compilelock): Waiting for existing lock by process '73716' (I am process '73721')\n",
      "INFO (theano.gof.compilelock): To manually release the lock, delete /Users/felixmolter/.theano/compiledir_Darwin-17.7.0-x86_64-i386-64bit-i386-3.6.8-64/lock_dir\n",
      "INFO (theano.gof.compilelock): Waiting for existing lock by process '73716' (I am process '73730')\n",
      "INFO (theano.gof.compilelock): To manually release the lock, delete /Users/felixmolter/.theano/compiledir_Darwin-17.7.0-x86_64-i386-64bit-i386-3.6.8-64/lock_dir\n",
      "INFO (theano.gof.compilelock): Waiting for existing lock by process '73716' (I am process '73731')\n",
      "INFO (theano.gof.compilelock): Waiting for existing lock by process '73716' (I am process '73729')\n",
      "INFO (theano.gof.compilelock): Waiting for existing lock by process '73716' (I am process '73722')\n",
      "INFO (theano.gof.compilelock): To manually release the lock, delete /Users/felixmolter/.theano/compiledir_Darwin-17.7.0-x86_64-i386-64bit-i386-3.6.8-64/lock_dir\n",
      "INFO (theano.gof.compilelock): To manually release the lock, delete /Users/felixmolter/.theano/compiledir_Darwin-17.7.0-x86_64-i386-64bit-i386-3.6.8-64/lock_dir\n",
      "INFO (theano.gof.compilelock): To manually release the lock, delete /Users/felixmolter/.theano/compiledir_Darwin-17.7.0-x86_64-i386-64bit-i386-3.6.8-64/lock_dir\n",
      "INFO (theano.gof.compilelock): Waiting for existing lock by process '73716' (I am process '73718')\n",
      "INFO (theano.gof.compilelock): To manually release the lock, delete /Users/felixmolter/.theano/compiledir_Darwin-17.7.0-x86_64-i386-64bit-i386-3.6.8-64/lock_dir\n",
      "INFO (theano.gof.compilelock): Waiting for existing lock by process '73716' (I am process '73727')\n",
      "INFO (theano.gof.compilelock): To manually release the lock, delete /Users/felixmolter/.theano/compiledir_Darwin-17.7.0-x86_64-i386-64bit-i386-3.6.8-64/lock_dir\n"
     ]
    },
    {
     "name": "stdout",
     "output_type": "stream",
     "text": [
      "Fitting 1 model(s) using MCMC...\n",
      "  Fitting model 1 of 1...\n"
     ]
    },
    {
     "name": "stderr",
     "output_type": "stream",
     "text": [
      "INFO (theano.gof.compilelock): Waiting for existing lock by process '73734' (I am process '73725')\n",
      "INFO (theano.gof.compilelock): To manually release the lock, delete /Users/felixmolter/.theano/compiledir_Darwin-17.7.0-x86_64-i386-64bit-i386-3.6.8-64/lock_dir\n",
      "INFO (theano.gof.compilelock): Waiting for existing lock by process '73734' (I am process '73715')\n",
      "INFO (theano.gof.compilelock): To manually release the lock, delete /Users/felixmolter/.theano/compiledir_Darwin-17.7.0-x86_64-i386-64bit-i386-3.6.8-64/lock_dir\n",
      "INFO (theano.gof.compilelock): Waiting for existing lock by process '73734' (I am process '73728')\n",
      "INFO (theano.gof.compilelock): To manually release the lock, delete /Users/felixmolter/.theano/compiledir_Darwin-17.7.0-x86_64-i386-64bit-i386-3.6.8-64/lock_dir\n",
      "INFO (theano.gof.compilelock): Waiting for existing lock by process '73734' (I am process '73726')\n",
      "INFO (theano.gof.compilelock): To manually release the lock, delete /Users/felixmolter/.theano/compiledir_Darwin-17.7.0-x86_64-i386-64bit-i386-3.6.8-64/lock_dir\n",
      "INFO (theano.gof.compilelock): Waiting for existing lock by process '73734' (I am process '73714')\n",
      "INFO (theano.gof.compilelock): To manually release the lock, delete /Users/felixmolter/.theano/compiledir_Darwin-17.7.0-x86_64-i386-64bit-i386-3.6.8-64/lock_dir\n",
      "INFO (theano.gof.compilelock): Waiting for existing lock by process '73734' (I am process '73720')\n",
      "INFO (theano.gof.compilelock): To manually release the lock, delete /Users/felixmolter/.theano/compiledir_Darwin-17.7.0-x86_64-i386-64bit-i386-3.6.8-64/lock_dir\n",
      "INFO (theano.gof.compilelock): Waiting for existing lock by process '73734' (I am process '73724')\n",
      "INFO (theano.gof.compilelock): Waiting for existing lock by process '73734' (I am process '73717')\n",
      "INFO (theano.gof.compilelock): To manually release the lock, delete /Users/felixmolter/.theano/compiledir_Darwin-17.7.0-x86_64-i386-64bit-i386-3.6.8-64/lock_dir\n",
      "INFO (theano.gof.compilelock): To manually release the lock, delete /Users/felixmolter/.theano/compiledir_Darwin-17.7.0-x86_64-i386-64bit-i386-3.6.8-64/lock_dir\n",
      "INFO (theano.gof.compilelock): Waiting for existing lock by process '73734' (I am process '73713')\n",
      "INFO (theano.gof.compilelock): To manually release the lock, delete /Users/felixmolter/.theano/compiledir_Darwin-17.7.0-x86_64-i386-64bit-i386-3.6.8-64/lock_dir\n",
      "INFO (theano.gof.compilelock): Waiting for existing lock by process '73734' (I am process '73719')\n",
      "INFO (theano.gof.compilelock): Waiting for existing lock by process '73734' (I am process '73733')\n",
      "INFO (theano.gof.compilelock): To manually release the lock, delete /Users/felixmolter/.theano/compiledir_Darwin-17.7.0-x86_64-i386-64bit-i386-3.6.8-64/lock_dir\n",
      "INFO (theano.gof.compilelock): To manually release the lock, delete /Users/felixmolter/.theano/compiledir_Darwin-17.7.0-x86_64-i386-64bit-i386-3.6.8-64/lock_dir\n",
      "INFO (theano.gof.compilelock): Waiting for existing lock by process '73734' (I am process '73732')\n",
      "INFO (theano.gof.compilelock): To manually release the lock, delete /Users/felixmolter/.theano/compiledir_Darwin-17.7.0-x86_64-i386-64bit-i386-3.6.8-64/lock_dir\n",
      "INFO (theano.gof.compilelock): Waiting for existing lock by process '73734' (I am process '73721')\n",
      "INFO (theano.gof.compilelock): To manually release the lock, delete /Users/felixmolter/.theano/compiledir_Darwin-17.7.0-x86_64-i386-64bit-i386-3.6.8-64/lock_dir\n",
      "INFO (theano.gof.compilelock): Waiting for existing lock by process '73734' (I am process '73730')\n",
      "INFO (theano.gof.compilelock): To manually release the lock, delete /Users/felixmolter/.theano/compiledir_Darwin-17.7.0-x86_64-i386-64bit-i386-3.6.8-64/lock_dir\n",
      "INFO (theano.gof.compilelock): Waiting for existing lock by process '73734' (I am process '73731')\n",
      "INFO (theano.gof.compilelock): Waiting for existing lock by process '73734' (I am process '73729')\n",
      "INFO (theano.gof.compilelock): Waiting for existing lock by process '73734' (I am process '73722')\n",
      "INFO (theano.gof.compilelock): To manually release the lock, delete /Users/felixmolter/.theano/compiledir_Darwin-17.7.0-x86_64-i386-64bit-i386-3.6.8-64/lock_dir\n",
      "INFO (theano.gof.compilelock): To manually release the lock, delete /Users/felixmolter/.theano/compiledir_Darwin-17.7.0-x86_64-i386-64bit-i386-3.6.8-64/lock_dir\n",
      "INFO (theano.gof.compilelock): To manually release the lock, delete /Users/felixmolter/.theano/compiledir_Darwin-17.7.0-x86_64-i386-64bit-i386-3.6.8-64/lock_dir\n",
      "INFO (theano.gof.compilelock): Waiting for existing lock by process '73734' (I am process '73718')\n",
      "INFO (theano.gof.compilelock): To manually release the lock, delete /Users/felixmolter/.theano/compiledir_Darwin-17.7.0-x86_64-i386-64bit-i386-3.6.8-64/lock_dir\n",
      "INFO (theano.gof.compilelock): Waiting for existing lock by process '73734' (I am process '73727')\n",
      "INFO (theano.gof.compilelock): To manually release the lock, delete /Users/felixmolter/.theano/compiledir_Darwin-17.7.0-x86_64-i386-64bit-i386-3.6.8-64/lock_dir\n",
      "INFO (theano.gof.compilelock): Waiting for existing lock by process '73725' (I am process '73715')\n",
      "INFO (theano.gof.compilelock): To manually release the lock, delete /Users/felixmolter/.theano/compiledir_Darwin-17.7.0-x86_64-i386-64bit-i386-3.6.8-64/lock_dir\n",
      "INFO (theano.gof.compilelock): Waiting for existing lock by process '73725' (I am process '73728')\n",
      "INFO (theano.gof.compilelock): To manually release the lock, delete /Users/felixmolter/.theano/compiledir_Darwin-17.7.0-x86_64-i386-64bit-i386-3.6.8-64/lock_dir\n",
      "INFO (theano.gof.compilelock): Waiting for existing lock by process '73725' (I am process '73726')\n",
      "INFO (theano.gof.compilelock): Waiting for existing lock by process '73725' (I am process '73714')\n",
      "INFO (theano.gof.compilelock): To manually release the lock, delete /Users/felixmolter/.theano/compiledir_Darwin-17.7.0-x86_64-i386-64bit-i386-3.6.8-64/lock_dir\n",
      "INFO (theano.gof.compilelock): To manually release the lock, delete /Users/felixmolter/.theano/compiledir_Darwin-17.7.0-x86_64-i386-64bit-i386-3.6.8-64/lock_dir\n",
      "INFO (theano.gof.compilelock): Waiting for existing lock by process '73725' (I am process '73720')\n",
      "INFO (theano.gof.compilelock): To manually release the lock, delete /Users/felixmolter/.theano/compiledir_Darwin-17.7.0-x86_64-i386-64bit-i386-3.6.8-64/lock_dir\n",
      "INFO (theano.gof.compilelock): Waiting for existing lock by process '73725' (I am process '73724')\n",
      "INFO (theano.gof.compilelock): Waiting for existing lock by process '73725' (I am process '73717')\n",
      "INFO (theano.gof.compilelock): To manually release the lock, delete /Users/felixmolter/.theano/compiledir_Darwin-17.7.0-x86_64-i386-64bit-i386-3.6.8-64/lock_dir\n",
      "INFO (theano.gof.compilelock): To manually release the lock, delete /Users/felixmolter/.theano/compiledir_Darwin-17.7.0-x86_64-i386-64bit-i386-3.6.8-64/lock_dir\n",
      "INFO (theano.gof.compilelock): Waiting for existing lock by process '73725' (I am process '73713')\n",
      "INFO (theano.gof.compilelock): To manually release the lock, delete /Users/felixmolter/.theano/compiledir_Darwin-17.7.0-x86_64-i386-64bit-i386-3.6.8-64/lock_dir\n",
      "INFO (theano.gof.compilelock): Waiting for existing lock by process '73725' (I am process '73719')\n",
      "INFO (theano.gof.compilelock): Waiting for existing lock by process '73725' (I am process '73733')\n",
      "INFO (theano.gof.compilelock): To manually release the lock, delete /Users/felixmolter/.theano/compiledir_Darwin-17.7.0-x86_64-i386-64bit-i386-3.6.8-64/lock_dir\n",
      "INFO (theano.gof.compilelock): To manually release the lock, delete /Users/felixmolter/.theano/compiledir_Darwin-17.7.0-x86_64-i386-64bit-i386-3.6.8-64/lock_dir\n",
      "INFO (theano.gof.compilelock): Waiting for existing lock by process '73725' (I am process '73732')\n",
      "INFO (theano.gof.compilelock): To manually release the lock, delete /Users/felixmolter/.theano/compiledir_Darwin-17.7.0-x86_64-i386-64bit-i386-3.6.8-64/lock_dir\n",
      "INFO (theano.gof.compilelock): Waiting for existing lock by process '73725' (I am process '73721')\n",
      "INFO (theano.gof.compilelock): To manually release the lock, delete /Users/felixmolter/.theano/compiledir_Darwin-17.7.0-x86_64-i386-64bit-i386-3.6.8-64/lock_dir\n",
      "INFO (theano.gof.compilelock): Waiting for existing lock by process '73725' (I am process '73730')\n",
      "INFO (theano.gof.compilelock): To manually release the lock, delete /Users/felixmolter/.theano/compiledir_Darwin-17.7.0-x86_64-i386-64bit-i386-3.6.8-64/lock_dir\n"
     ]
    },
    {
     "name": "stderr",
     "output_type": "stream",
     "text": [
      "INFO (theano.gof.compilelock): Waiting for existing lock by process '73725' (I am process '73722')\n",
      "INFO (theano.gof.compilelock): Waiting for existing lock by process '73725' (I am process '73729')\n",
      "INFO (theano.gof.compilelock): Waiting for existing lock by process '73725' (I am process '73731')\n",
      "INFO (theano.gof.compilelock): To manually release the lock, delete /Users/felixmolter/.theano/compiledir_Darwin-17.7.0-x86_64-i386-64bit-i386-3.6.8-64/lock_dir\n",
      "INFO (theano.gof.compilelock): To manually release the lock, delete /Users/felixmolter/.theano/compiledir_Darwin-17.7.0-x86_64-i386-64bit-i386-3.6.8-64/lock_dir\n",
      "INFO (theano.gof.compilelock): To manually release the lock, delete /Users/felixmolter/.theano/compiledir_Darwin-17.7.0-x86_64-i386-64bit-i386-3.6.8-64/lock_dir\n",
      "INFO (theano.gof.compilelock): Waiting for existing lock by process '73725' (I am process '73718')\n",
      "INFO (theano.gof.compilelock): To manually release the lock, delete /Users/felixmolter/.theano/compiledir_Darwin-17.7.0-x86_64-i386-64bit-i386-3.6.8-64/lock_dir\n",
      "INFO (theano.gof.compilelock): Waiting for existing lock by process '73725' (I am process '73727')\n",
      "INFO (theano.gof.compilelock): To manually release the lock, delete /Users/felixmolter/.theano/compiledir_Darwin-17.7.0-x86_64-i386-64bit-i386-3.6.8-64/lock_dir\n"
     ]
    },
    {
     "name": "stdout",
     "output_type": "stream",
     "text": [
      "Fitting 1 model(s) using MCMC...\n",
      "  Fitting model 1 of 1...\n"
     ]
    },
    {
     "name": "stderr",
     "output_type": "stream",
     "text": [
      "INFO (theano.gof.compilelock): Waiting for existing lock by process '73716' (I am process '73715')\n",
      "INFO (theano.gof.compilelock): To manually release the lock, delete /Users/felixmolter/.theano/compiledir_Darwin-17.7.0-x86_64-i386-64bit-i386-3.6.8-64/lock_dir\n",
      "INFO (theano.gof.compilelock): Waiting for existing lock by process '73716' (I am process '73728')\n",
      "INFO (theano.gof.compilelock): To manually release the lock, delete /Users/felixmolter/.theano/compiledir_Darwin-17.7.0-x86_64-i386-64bit-i386-3.6.8-64/lock_dir\n",
      "INFO (theano.gof.compilelock): Waiting for existing lock by process '73716' (I am process '73726')\n",
      "INFO (theano.gof.compilelock): Waiting for existing lock by process '73716' (I am process '73714')\n",
      "INFO (theano.gof.compilelock): To manually release the lock, delete /Users/felixmolter/.theano/compiledir_Darwin-17.7.0-x86_64-i386-64bit-i386-3.6.8-64/lock_dir\n",
      "INFO (theano.gof.compilelock): To manually release the lock, delete /Users/felixmolter/.theano/compiledir_Darwin-17.7.0-x86_64-i386-64bit-i386-3.6.8-64/lock_dir\n",
      "INFO (theano.gof.compilelock): Waiting for existing lock by process '73716' (I am process '73720')\n",
      "INFO (theano.gof.compilelock): To manually release the lock, delete /Users/felixmolter/.theano/compiledir_Darwin-17.7.0-x86_64-i386-64bit-i386-3.6.8-64/lock_dir\n",
      "INFO (theano.gof.compilelock): Waiting for existing lock by process '73716' (I am process '73724')\n",
      "INFO (theano.gof.compilelock): Waiting for existing lock by process '73716' (I am process '73717')\n",
      "INFO (theano.gof.compilelock): To manually release the lock, delete /Users/felixmolter/.theano/compiledir_Darwin-17.7.0-x86_64-i386-64bit-i386-3.6.8-64/lock_dir\n",
      "INFO (theano.gof.compilelock): To manually release the lock, delete /Users/felixmolter/.theano/compiledir_Darwin-17.7.0-x86_64-i386-64bit-i386-3.6.8-64/lock_dir\n",
      "INFO (theano.gof.compilelock): Waiting for existing lock by process '73716' (I am process '73713')\n",
      "INFO (theano.gof.compilelock): To manually release the lock, delete /Users/felixmolter/.theano/compiledir_Darwin-17.7.0-x86_64-i386-64bit-i386-3.6.8-64/lock_dir\n",
      "INFO (theano.gof.compilelock): Waiting for existing lock by process '73716' (I am process '73719')\n",
      "INFO (theano.gof.compilelock): Waiting for existing lock by process '73716' (I am process '73733')\n",
      "INFO (theano.gof.compilelock): To manually release the lock, delete /Users/felixmolter/.theano/compiledir_Darwin-17.7.0-x86_64-i386-64bit-i386-3.6.8-64/lock_dir\n",
      "INFO (theano.gof.compilelock): To manually release the lock, delete /Users/felixmolter/.theano/compiledir_Darwin-17.7.0-x86_64-i386-64bit-i386-3.6.8-64/lock_dir\n",
      "INFO (theano.gof.compilelock): Waiting for existing lock by process '73716' (I am process '73732')\n",
      "INFO (theano.gof.compilelock): To manually release the lock, delete /Users/felixmolter/.theano/compiledir_Darwin-17.7.0-x86_64-i386-64bit-i386-3.6.8-64/lock_dir\n",
      "INFO (theano.gof.compilelock): Waiting for existing lock by process '73716' (I am process '73721')\n",
      "INFO (theano.gof.compilelock): To manually release the lock, delete /Users/felixmolter/.theano/compiledir_Darwin-17.7.0-x86_64-i386-64bit-i386-3.6.8-64/lock_dir\n",
      "INFO (theano.gof.compilelock): Waiting for existing lock by process '73716' (I am process '73730')\n",
      "INFO (theano.gof.compilelock): To manually release the lock, delete /Users/felixmolter/.theano/compiledir_Darwin-17.7.0-x86_64-i386-64bit-i386-3.6.8-64/lock_dir\n",
      "INFO (theano.gof.compilelock): Waiting for existing lock by process '73716' (I am process '73722')\n",
      "INFO (theano.gof.compilelock): Waiting for existing lock by process '73716' (I am process '73729')\n",
      "INFO (theano.gof.compilelock): Waiting for existing lock by process '73716' (I am process '73731')\n",
      "INFO (theano.gof.compilelock): To manually release the lock, delete /Users/felixmolter/.theano/compiledir_Darwin-17.7.0-x86_64-i386-64bit-i386-3.6.8-64/lock_dir\n",
      "INFO (theano.gof.compilelock): To manually release the lock, delete /Users/felixmolter/.theano/compiledir_Darwin-17.7.0-x86_64-i386-64bit-i386-3.6.8-64/lock_dir\n",
      "INFO (theano.gof.compilelock): To manually release the lock, delete /Users/felixmolter/.theano/compiledir_Darwin-17.7.0-x86_64-i386-64bit-i386-3.6.8-64/lock_dir\n",
      "INFO (theano.gof.compilelock): Waiting for existing lock by process '73716' (I am process '73718')\n",
      "INFO (theano.gof.compilelock): To manually release the lock, delete /Users/felixmolter/.theano/compiledir_Darwin-17.7.0-x86_64-i386-64bit-i386-3.6.8-64/lock_dir\n",
      "INFO (theano.gof.compilelock): Waiting for existing lock by process '73716' (I am process '73727')\n",
      "INFO (theano.gof.compilelock): To manually release the lock, delete /Users/felixmolter/.theano/compiledir_Darwin-17.7.0-x86_64-i386-64bit-i386-3.6.8-64/lock_dir\n",
      "INFO (theano.gof.compilelock): Waiting for existing lock by process '73786' (I am process '73723')\n",
      "INFO (theano.gof.compilelock): To manually release the lock, delete /Users/felixmolter/.theano/compiledir_Darwin-17.7.0-x86_64-i386-64bit-i386-3.6.8-64/lock_dir\n",
      "INFO (theano.gof.compilelock): Waiting for existing lock by process '73725' (I am process '73734')\n",
      "INFO (theano.gof.compilelock): To manually release the lock, delete /Users/felixmolter/.theano/compiledir_Darwin-17.7.0-x86_64-i386-64bit-i386-3.6.8-64/lock_dir\n",
      "INFO (theano.gof.compilelock): Waiting for existing lock by process '73725' (I am process '73715')\n",
      "INFO (theano.gof.compilelock): To manually release the lock, delete /Users/felixmolter/.theano/compiledir_Darwin-17.7.0-x86_64-i386-64bit-i386-3.6.8-64/lock_dir\n",
      "INFO (theano.gof.compilelock): Waiting for existing lock by process '73725' (I am process '73728')\n",
      "INFO (theano.gof.compilelock): To manually release the lock, delete /Users/felixmolter/.theano/compiledir_Darwin-17.7.0-x86_64-i386-64bit-i386-3.6.8-64/lock_dir\n",
      "INFO (theano.gof.compilelock): Waiting for existing lock by process '73725' (I am process '73726')\n",
      "INFO (theano.gof.compilelock): Waiting for existing lock by process '73725' (I am process '73714')\n",
      "INFO (theano.gof.compilelock): To manually release the lock, delete /Users/felixmolter/.theano/compiledir_Darwin-17.7.0-x86_64-i386-64bit-i386-3.6.8-64/lock_dir\n",
      "INFO (theano.gof.compilelock): To manually release the lock, delete /Users/felixmolter/.theano/compiledir_Darwin-17.7.0-x86_64-i386-64bit-i386-3.6.8-64/lock_dir\n",
      "INFO (theano.gof.compilelock): Waiting for existing lock by process '73725' (I am process '73720')\n",
      "INFO (theano.gof.compilelock): To manually release the lock, delete /Users/felixmolter/.theano/compiledir_Darwin-17.7.0-x86_64-i386-64bit-i386-3.6.8-64/lock_dir\n",
      "INFO (theano.gof.compilelock): Waiting for existing lock by process '73725' (I am process '73724')\n",
      "INFO (theano.gof.compilelock): Waiting for existing lock by process '73725' (I am process '73717')\n",
      "INFO (theano.gof.compilelock): To manually release the lock, delete /Users/felixmolter/.theano/compiledir_Darwin-17.7.0-x86_64-i386-64bit-i386-3.6.8-64/lock_dir\n",
      "INFO (theano.gof.compilelock): To manually release the lock, delete /Users/felixmolter/.theano/compiledir_Darwin-17.7.0-x86_64-i386-64bit-i386-3.6.8-64/lock_dir\n",
      "INFO (theano.gof.compilelock): Waiting for existing lock by process '73725' (I am process '73713')\n",
      "INFO (theano.gof.compilelock): Waiting for existing lock by process '73725' (I am process '73719')\n",
      "INFO (theano.gof.compilelock): To manually release the lock, delete /Users/felixmolter/.theano/compiledir_Darwin-17.7.0-x86_64-i386-64bit-i386-3.6.8-64/lock_dir\n",
      "INFO (theano.gof.compilelock): Waiting for existing lock by process '73725' (I am process '73733')\n",
      "INFO (theano.gof.compilelock): To manually release the lock, delete /Users/felixmolter/.theano/compiledir_Darwin-17.7.0-x86_64-i386-64bit-i386-3.6.8-64/lock_dir\n",
      "INFO (theano.gof.compilelock): To manually release the lock, delete /Users/felixmolter/.theano/compiledir_Darwin-17.7.0-x86_64-i386-64bit-i386-3.6.8-64/lock_dir\n",
      "INFO (theano.gof.compilelock): Waiting for existing lock by process '73725' (I am process '73732')\n",
      "INFO (theano.gof.compilelock): To manually release the lock, delete /Users/felixmolter/.theano/compiledir_Darwin-17.7.0-x86_64-i386-64bit-i386-3.6.8-64/lock_dir\n",
      "INFO (theano.gof.compilelock): Waiting for existing lock by process '73725' (I am process '73721')\n",
      "INFO (theano.gof.compilelock): To manually release the lock, delete /Users/felixmolter/.theano/compiledir_Darwin-17.7.0-x86_64-i386-64bit-i386-3.6.8-64/lock_dir\n"
     ]
    },
    {
     "name": "stderr",
     "output_type": "stream",
     "text": [
      "INFO (theano.gof.compilelock): Waiting for existing lock by process '73725' (I am process '73730')\n",
      "INFO (theano.gof.compilelock): To manually release the lock, delete /Users/felixmolter/.theano/compiledir_Darwin-17.7.0-x86_64-i386-64bit-i386-3.6.8-64/lock_dir\n",
      "INFO (theano.gof.compilelock): Waiting for existing lock by process '73725' (I am process '73731')\n",
      "INFO (theano.gof.compilelock): Waiting for existing lock by process '73725' (I am process '73729')\n",
      "INFO (theano.gof.compilelock): Waiting for existing lock by process '73725' (I am process '73722')\n",
      "INFO (theano.gof.compilelock): To manually release the lock, delete /Users/felixmolter/.theano/compiledir_Darwin-17.7.0-x86_64-i386-64bit-i386-3.6.8-64/lock_dir\n",
      "INFO (theano.gof.compilelock): To manually release the lock, delete /Users/felixmolter/.theano/compiledir_Darwin-17.7.0-x86_64-i386-64bit-i386-3.6.8-64/lock_dir\n",
      "INFO (theano.gof.compilelock): To manually release the lock, delete /Users/felixmolter/.theano/compiledir_Darwin-17.7.0-x86_64-i386-64bit-i386-3.6.8-64/lock_dir\n",
      "INFO (theano.gof.compilelock): Waiting for existing lock by process '73725' (I am process '73718')\n",
      "INFO (theano.gof.compilelock): To manually release the lock, delete /Users/felixmolter/.theano/compiledir_Darwin-17.7.0-x86_64-i386-64bit-i386-3.6.8-64/lock_dir\n",
      "INFO (theano.gof.compilelock): Waiting for existing lock by process '73725' (I am process '73727')\n",
      "INFO (theano.gof.compilelock): To manually release the lock, delete /Users/felixmolter/.theano/compiledir_Darwin-17.7.0-x86_64-i386-64bit-i386-3.6.8-64/lock_dir\n"
     ]
    },
    {
     "name": "stdout",
     "output_type": "stream",
     "text": [
      "Fitting 1 model(s) using MCMC...\n",
      "  Fitting model 1 of 1...\n"
     ]
    },
    {
     "name": "stderr",
     "output_type": "stream",
     "text": [
      "INFO (theano.gof.compilelock): Waiting for existing lock by process '73787' (I am process '73734')\n",
      "INFO (theano.gof.compilelock): To manually release the lock, delete /Users/felixmolter/.theano/compiledir_Darwin-17.7.0-x86_64-i386-64bit-i386-3.6.8-64/lock_dir\n",
      "INFO (theano.gof.compilelock): Waiting for existing lock by process '73723' (I am process '73715')\n",
      "INFO (theano.gof.compilelock): To manually release the lock, delete /Users/felixmolter/.theano/compiledir_Darwin-17.7.0-x86_64-i386-64bit-i386-3.6.8-64/lock_dir\n",
      "INFO (theano.gof.compilelock): Waiting for existing lock by process '73728' (I am process '73726')\n",
      "INFO (theano.gof.compilelock): Waiting for existing lock by process '73728' (I am process '73714')\n",
      "INFO (theano.gof.compilelock): To manually release the lock, delete /Users/felixmolter/.theano/compiledir_Darwin-17.7.0-x86_64-i386-64bit-i386-3.6.8-64/lock_dir\n",
      "INFO (theano.gof.compilelock): To manually release the lock, delete /Users/felixmolter/.theano/compiledir_Darwin-17.7.0-x86_64-i386-64bit-i386-3.6.8-64/lock_dir\n",
      "INFO (theano.gof.compilelock): Waiting for existing lock by process '73728' (I am process '73720')\n",
      "INFO (theano.gof.compilelock): To manually release the lock, delete /Users/felixmolter/.theano/compiledir_Darwin-17.7.0-x86_64-i386-64bit-i386-3.6.8-64/lock_dir\n",
      "INFO (theano.gof.compilelock): Waiting for existing lock by process '73728' (I am process '73724')\n",
      "INFO (theano.gof.compilelock): Waiting for existing lock by process '73728' (I am process '73717')\n",
      "INFO (theano.gof.compilelock): To manually release the lock, delete /Users/felixmolter/.theano/compiledir_Darwin-17.7.0-x86_64-i386-64bit-i386-3.6.8-64/lock_dir\n",
      "INFO (theano.gof.compilelock): To manually release the lock, delete /Users/felixmolter/.theano/compiledir_Darwin-17.7.0-x86_64-i386-64bit-i386-3.6.8-64/lock_dir\n",
      "INFO (theano.gof.compilelock): Waiting for existing lock by process '73728' (I am process '73713')\n",
      "INFO (theano.gof.compilelock): Waiting for existing lock by process '73728' (I am process '73719')\n",
      "INFO (theano.gof.compilelock): Waiting for existing lock by process '73728' (I am process '73733')\n",
      "INFO (theano.gof.compilelock): To manually release the lock, delete /Users/felixmolter/.theano/compiledir_Darwin-17.7.0-x86_64-i386-64bit-i386-3.6.8-64/lock_dir\n",
      "INFO (theano.gof.compilelock): To manually release the lock, delete /Users/felixmolter/.theano/compiledir_Darwin-17.7.0-x86_64-i386-64bit-i386-3.6.8-64/lock_dir\n",
      "INFO (theano.gof.compilelock): To manually release the lock, delete /Users/felixmolter/.theano/compiledir_Darwin-17.7.0-x86_64-i386-64bit-i386-3.6.8-64/lock_dir\n",
      "INFO (theano.gof.compilelock): Waiting for existing lock by process '73728' (I am process '73732')\n",
      "INFO (theano.gof.compilelock): Waiting for existing lock by process '73728' (I am process '73721')\n",
      "INFO (theano.gof.compilelock): To manually release the lock, delete /Users/felixmolter/.theano/compiledir_Darwin-17.7.0-x86_64-i386-64bit-i386-3.6.8-64/lock_dir\n",
      "INFO (theano.gof.compilelock): To manually release the lock, delete /Users/felixmolter/.theano/compiledir_Darwin-17.7.0-x86_64-i386-64bit-i386-3.6.8-64/lock_dir\n",
      "INFO (theano.gof.compilelock): Waiting for existing lock by process '73728' (I am process '73730')\n",
      "INFO (theano.gof.compilelock): To manually release the lock, delete /Users/felixmolter/.theano/compiledir_Darwin-17.7.0-x86_64-i386-64bit-i386-3.6.8-64/lock_dir\n",
      "INFO (theano.gof.compilelock): Waiting for existing lock by process '73728' (I am process '73729')\n",
      "INFO (theano.gof.compilelock): Waiting for existing lock by process '73728' (I am process '73722')\n",
      "INFO (theano.gof.compilelock): Waiting for existing lock by process '73728' (I am process '73731')\n",
      "INFO (theano.gof.compilelock): To manually release the lock, delete /Users/felixmolter/.theano/compiledir_Darwin-17.7.0-x86_64-i386-64bit-i386-3.6.8-64/lock_dir\n",
      "INFO (theano.gof.compilelock): To manually release the lock, delete /Users/felixmolter/.theano/compiledir_Darwin-17.7.0-x86_64-i386-64bit-i386-3.6.8-64/lock_dir\n",
      "INFO (theano.gof.compilelock): To manually release the lock, delete /Users/felixmolter/.theano/compiledir_Darwin-17.7.0-x86_64-i386-64bit-i386-3.6.8-64/lock_dir\n",
      "INFO (theano.gof.compilelock): Waiting for existing lock by process '73728' (I am process '73718')\n",
      "INFO (theano.gof.compilelock): To manually release the lock, delete /Users/felixmolter/.theano/compiledir_Darwin-17.7.0-x86_64-i386-64bit-i386-3.6.8-64/lock_dir\n",
      "INFO (theano.gof.compilelock): Waiting for existing lock by process '73728' (I am process '73727')\n",
      "INFO (theano.gof.compilelock): To manually release the lock, delete /Users/felixmolter/.theano/compiledir_Darwin-17.7.0-x86_64-i386-64bit-i386-3.6.8-64/lock_dir\n",
      "INFO (theano.gof.compilelock): Waiting for existing lock by process '73728' (I am process '73725')\n",
      "INFO (theano.gof.compilelock): To manually release the lock, delete /Users/felixmolter/.theano/compiledir_Darwin-17.7.0-x86_64-i386-64bit-i386-3.6.8-64/lock_dir\n"
     ]
    },
    {
     "name": "stdout",
     "output_type": "stream",
     "text": [
      "Fitting 1 model(s) using MCMC...\n",
      "  Fitting model 1 of 1...\n"
     ]
    },
    {
     "name": "stderr",
     "output_type": "stream",
     "text": [
      "INFO (theano.gof.compilelock): Waiting for existing lock by process '73734' (I am process '73715')\n",
      "INFO (theano.gof.compilelock): To manually release the lock, delete /Users/felixmolter/.theano/compiledir_Darwin-17.7.0-x86_64-i386-64bit-i386-3.6.8-64/lock_dir\n",
      "INFO (theano.gof.compilelock): Waiting for existing lock by process '73734' (I am process '73714')\n",
      "INFO (theano.gof.compilelock): Waiting for existing lock by process '73734' (I am process '73726')\n",
      "INFO (theano.gof.compilelock): To manually release the lock, delete /Users/felixmolter/.theano/compiledir_Darwin-17.7.0-x86_64-i386-64bit-i386-3.6.8-64/lock_dir\n",
      "INFO (theano.gof.compilelock): To manually release the lock, delete /Users/felixmolter/.theano/compiledir_Darwin-17.7.0-x86_64-i386-64bit-i386-3.6.8-64/lock_dir\n",
      "INFO (theano.gof.compilelock): Waiting for existing lock by process '73734' (I am process '73720')\n",
      "INFO (theano.gof.compilelock): To manually release the lock, delete /Users/felixmolter/.theano/compiledir_Darwin-17.7.0-x86_64-i386-64bit-i386-3.6.8-64/lock_dir\n",
      "INFO (theano.gof.compilelock): Waiting for existing lock by process '73734' (I am process '73724')\n",
      "INFO (theano.gof.compilelock): Waiting for existing lock by process '73734' (I am process '73717')\n",
      "INFO (theano.gof.compilelock): To manually release the lock, delete /Users/felixmolter/.theano/compiledir_Darwin-17.7.0-x86_64-i386-64bit-i386-3.6.8-64/lock_dir\n",
      "INFO (theano.gof.compilelock): To manually release the lock, delete /Users/felixmolter/.theano/compiledir_Darwin-17.7.0-x86_64-i386-64bit-i386-3.6.8-64/lock_dir\n",
      "INFO (theano.gof.compilelock): Waiting for existing lock by process '73734' (I am process '73733')\n",
      "INFO (theano.gof.compilelock): Waiting for existing lock by process '73734' (I am process '73713')\n",
      "INFO (theano.gof.compilelock): Waiting for existing lock by process '73734' (I am process '73719')\n",
      "INFO (theano.gof.compilelock): To manually release the lock, delete /Users/felixmolter/.theano/compiledir_Darwin-17.7.0-x86_64-i386-64bit-i386-3.6.8-64/lock_dir\n",
      "INFO (theano.gof.compilelock): To manually release the lock, delete /Users/felixmolter/.theano/compiledir_Darwin-17.7.0-x86_64-i386-64bit-i386-3.6.8-64/lock_dir\n",
      "INFO (theano.gof.compilelock): To manually release the lock, delete /Users/felixmolter/.theano/compiledir_Darwin-17.7.0-x86_64-i386-64bit-i386-3.6.8-64/lock_dir\n",
      "INFO (theano.gof.compilelock): Waiting for existing lock by process '73734' (I am process '73732')\n",
      "INFO (theano.gof.compilelock): Waiting for existing lock by process '73734' (I am process '73721')\n",
      "INFO (theano.gof.compilelock): To manually release the lock, delete /Users/felixmolter/.theano/compiledir_Darwin-17.7.0-x86_64-i386-64bit-i386-3.6.8-64/lock_dir\n",
      "INFO (theano.gof.compilelock): To manually release the lock, delete /Users/felixmolter/.theano/compiledir_Darwin-17.7.0-x86_64-i386-64bit-i386-3.6.8-64/lock_dir\n",
      "INFO (theano.gof.compilelock): Waiting for existing lock by process '73734' (I am process '73730')\n",
      "INFO (theano.gof.compilelock): To manually release the lock, delete /Users/felixmolter/.theano/compiledir_Darwin-17.7.0-x86_64-i386-64bit-i386-3.6.8-64/lock_dir\n",
      "INFO (theano.gof.compilelock): Waiting for existing lock by process '73734' (I am process '73731')\n",
      "INFO (theano.gof.compilelock): Waiting for existing lock by process '73734' (I am process '73722')\n",
      "INFO (theano.gof.compilelock): Waiting for existing lock by process '73734' (I am process '73729')\n",
      "INFO (theano.gof.compilelock): To manually release the lock, delete /Users/felixmolter/.theano/compiledir_Darwin-17.7.0-x86_64-i386-64bit-i386-3.6.8-64/lock_dir\n",
      "INFO (theano.gof.compilelock): To manually release the lock, delete /Users/felixmolter/.theano/compiledir_Darwin-17.7.0-x86_64-i386-64bit-i386-3.6.8-64/lock_dir\n",
      "INFO (theano.gof.compilelock): Waiting for existing lock by process '73734' (I am process '73718')\n",
      "INFO (theano.gof.compilelock): To manually release the lock, delete /Users/felixmolter/.theano/compiledir_Darwin-17.7.0-x86_64-i386-64bit-i386-3.6.8-64/lock_dir\n",
      "INFO (theano.gof.compilelock): To manually release the lock, delete /Users/felixmolter/.theano/compiledir_Darwin-17.7.0-x86_64-i386-64bit-i386-3.6.8-64/lock_dir\n",
      "INFO (theano.gof.compilelock): Waiting for existing lock by process '73734' (I am process '73727')\n",
      "INFO (theano.gof.compilelock): To manually release the lock, delete /Users/felixmolter/.theano/compiledir_Darwin-17.7.0-x86_64-i386-64bit-i386-3.6.8-64/lock_dir\n",
      "INFO (theano.gof.compilelock): Waiting for existing lock by process '73723' (I am process '73725')\n",
      "INFO (theano.gof.compilelock): To manually release the lock, delete /Users/felixmolter/.theano/compiledir_Darwin-17.7.0-x86_64-i386-64bit-i386-3.6.8-64/lock_dir\n",
      "Sequential sampling (2 chains in 1 job)\n",
      "CompoundStep\n",
      ">Metropolis: [tau_offset]\n",
      ">Metropolis: [tau_sd]\n",
      ">Metropolis: [tau_mu]\n",
      ">Metropolis: [s_offset]\n",
      ">Metropolis: [s_sd]\n",
      ">Metropolis: [s_mu]\n",
      ">Metropolis: [gamma_offset]\n",
      ">Metropolis: [gamma_sd]\n",
      ">Metropolis: [gamma_mu]\n",
      ">Metropolis: [v_offset]\n",
      ">Metropolis: [v_sd]\n",
      ">Metropolis: [v_mu]\n",
      "INFO (theano.gof.compilelock): Waiting for existing lock by process '73787' (I am process '73715')\n",
      "INFO (theano.gof.compilelock): To manually release the lock, delete /Users/felixmolter/.theano/compiledir_Darwin-17.7.0-x86_64-i386-64bit-i386-3.6.8-64/lock_dir\n",
      "INFO (theano.gof.compilelock): Waiting for existing lock by process '73787' (I am process '73714')\n",
      "INFO (theano.gof.compilelock): Waiting for existing lock by process '73787' (I am process '73726')\n",
      "INFO (theano.gof.compilelock): To manually release the lock, delete /Users/felixmolter/.theano/compiledir_Darwin-17.7.0-x86_64-i386-64bit-i386-3.6.8-64/lock_dir\n",
      "INFO (theano.gof.compilelock): To manually release the lock, delete /Users/felixmolter/.theano/compiledir_Darwin-17.7.0-x86_64-i386-64bit-i386-3.6.8-64/lock_dir\n",
      "INFO (theano.gof.compilelock): Waiting for existing lock by process '73787' (I am process '73720')\n",
      "INFO (theano.gof.compilelock): To manually release the lock, delete /Users/felixmolter/.theano/compiledir_Darwin-17.7.0-x86_64-i386-64bit-i386-3.6.8-64/lock_dir\n",
      "INFO (theano.gof.compilelock): Waiting for existing lock by process '73787' (I am process '73724')\n",
      "INFO (theano.gof.compilelock): To manually release the lock, delete /Users/felixmolter/.theano/compiledir_Darwin-17.7.0-x86_64-i386-64bit-i386-3.6.8-64/lock_dir\n",
      "INFO (theano.gof.compilelock): Waiting for existing lock by process '73787' (I am process '73717')\n",
      "INFO (theano.gof.compilelock): To manually release the lock, delete /Users/felixmolter/.theano/compiledir_Darwin-17.7.0-x86_64-i386-64bit-i386-3.6.8-64/lock_dir\n",
      "INFO (theano.gof.compilelock): Waiting for existing lock by process '73787' (I am process '73713')\n",
      "INFO (theano.gof.compilelock): Waiting for existing lock by process '73787' (I am process '73719')\n",
      "INFO (theano.gof.compilelock): Waiting for existing lock by process '73787' (I am process '73733')\n",
      "INFO (theano.gof.compilelock): To manually release the lock, delete /Users/felixmolter/.theano/compiledir_Darwin-17.7.0-x86_64-i386-64bit-i386-3.6.8-64/lock_dir\n",
      "INFO (theano.gof.compilelock): To manually release the lock, delete /Users/felixmolter/.theano/compiledir_Darwin-17.7.0-x86_64-i386-64bit-i386-3.6.8-64/lock_dir\n",
      "INFO (theano.gof.compilelock): To manually release the lock, delete /Users/felixmolter/.theano/compiledir_Darwin-17.7.0-x86_64-i386-64bit-i386-3.6.8-64/lock_dir\n",
      "INFO (theano.gof.compilelock): Waiting for existing lock by process '73787' (I am process '73732')\n",
      "INFO (theano.gof.compilelock): Waiting for existing lock by process '73787' (I am process '73721')\n",
      "INFO (theano.gof.compilelock): To manually release the lock, delete /Users/felixmolter/.theano/compiledir_Darwin-17.7.0-x86_64-i386-64bit-i386-3.6.8-64/lock_dir\n",
      "INFO (theano.gof.compilelock): To manually release the lock, delete /Users/felixmolter/.theano/compiledir_Darwin-17.7.0-x86_64-i386-64bit-i386-3.6.8-64/lock_dir\n",
      "INFO (theano.gof.compilelock): Waiting for existing lock by process '73787' (I am process '73730')\n",
      "INFO (theano.gof.compilelock): To manually release the lock, delete /Users/felixmolter/.theano/compiledir_Darwin-17.7.0-x86_64-i386-64bit-i386-3.6.8-64/lock_dir\n",
      "INFO (theano.gof.compilelock): Waiting for existing lock by process '73787' (I am process '73729')\n"
     ]
    },
    {
     "name": "stderr",
     "output_type": "stream",
     "text": [
      "INFO (theano.gof.compilelock): Waiting for existing lock by process '73787' (I am process '73722')\n",
      "INFO (theano.gof.compilelock): Waiting for existing lock by process '73787' (I am process '73731')\n",
      "INFO (theano.gof.compilelock): Waiting for existing lock by process '73787' (I am process '73718')\n",
      "INFO (theano.gof.compilelock): To manually release the lock, delete /Users/felixmolter/.theano/compiledir_Darwin-17.7.0-x86_64-i386-64bit-i386-3.6.8-64/lock_dir\n",
      "INFO (theano.gof.compilelock): To manually release the lock, delete /Users/felixmolter/.theano/compiledir_Darwin-17.7.0-x86_64-i386-64bit-i386-3.6.8-64/lock_dir\n",
      "INFO (theano.gof.compilelock): To manually release the lock, delete /Users/felixmolter/.theano/compiledir_Darwin-17.7.0-x86_64-i386-64bit-i386-3.6.8-64/lock_dir\n",
      "INFO (theano.gof.compilelock): To manually release the lock, delete /Users/felixmolter/.theano/compiledir_Darwin-17.7.0-x86_64-i386-64bit-i386-3.6.8-64/lock_dir\n",
      "INFO (theano.gof.compilelock): Waiting for existing lock by process '73787' (I am process '73727')\n",
      "INFO (theano.gof.compilelock): To manually release the lock, delete /Users/felixmolter/.theano/compiledir_Darwin-17.7.0-x86_64-i386-64bit-i386-3.6.8-64/lock_dir\n",
      "INFO (theano.gof.compilelock): Waiting for existing lock by process '73787' (I am process '73725')\n",
      "INFO (theano.gof.compilelock): To manually release the lock, delete /Users/felixmolter/.theano/compiledir_Darwin-17.7.0-x86_64-i386-64bit-i386-3.6.8-64/lock_dir\n",
      "INFO (theano.gof.compilelock): Waiting for existing lock by process '73787' (I am process '73716')\n",
      "INFO (theano.gof.compilelock): To manually release the lock, delete /Users/felixmolter/.theano/compiledir_Darwin-17.7.0-x86_64-i386-64bit-i386-3.6.8-64/lock_dir\n",
      "INFO (theano.gof.compilelock): Waiting for existing lock by process '73787' (I am process '73728')\n",
      "INFO (theano.gof.compilelock): To manually release the lock, delete /Users/felixmolter/.theano/compiledir_Darwin-17.7.0-x86_64-i386-64bit-i386-3.6.8-64/lock_dir\n",
      "INFO (theano.gof.compilelock): Waiting for existing lock by process '73787' (I am process '73734')\n",
      "INFO (theano.gof.compilelock): To manually release the lock, delete /Users/felixmolter/.theano/compiledir_Darwin-17.7.0-x86_64-i386-64bit-i386-3.6.8-64/lock_dir\n",
      "INFO (theano.gof.compilelock): Waiting for existing lock by process '73715' (I am process '73714')\n",
      "INFO (theano.gof.compilelock): Waiting for existing lock by process '73715' (I am process '73726')\n",
      "INFO (theano.gof.compilelock): To manually release the lock, delete /Users/felixmolter/.theano/compiledir_Darwin-17.7.0-x86_64-i386-64bit-i386-3.6.8-64/lock_dir\n",
      "INFO (theano.gof.compilelock): To manually release the lock, delete /Users/felixmolter/.theano/compiledir_Darwin-17.7.0-x86_64-i386-64bit-i386-3.6.8-64/lock_dir\n",
      "INFO (theano.gof.compilelock): Waiting for existing lock by process '73715' (I am process '73720')\n",
      "INFO (theano.gof.compilelock): To manually release the lock, delete /Users/felixmolter/.theano/compiledir_Darwin-17.7.0-x86_64-i386-64bit-i386-3.6.8-64/lock_dir\n",
      "INFO (theano.gof.compilelock): Waiting for existing lock by process '73715' (I am process '73724')\n",
      "INFO (theano.gof.compilelock): To manually release the lock, delete /Users/felixmolter/.theano/compiledir_Darwin-17.7.0-x86_64-i386-64bit-i386-3.6.8-64/lock_dir\n",
      "INFO (theano.gof.compilelock): Waiting for existing lock by process '73715' (I am process '73717')\n",
      "INFO (theano.gof.compilelock): To manually release the lock, delete /Users/felixmolter/.theano/compiledir_Darwin-17.7.0-x86_64-i386-64bit-i386-3.6.8-64/lock_dir\n",
      "INFO (theano.gof.compilelock): Waiting for existing lock by process '73715' (I am process '73733')\n",
      "INFO (theano.gof.compilelock): Waiting for existing lock by process '73715' (I am process '73719')\n",
      "INFO (theano.gof.compilelock): Waiting for existing lock by process '73715' (I am process '73713')\n",
      "INFO (theano.gof.compilelock): To manually release the lock, delete /Users/felixmolter/.theano/compiledir_Darwin-17.7.0-x86_64-i386-64bit-i386-3.6.8-64/lock_dir\n",
      "INFO (theano.gof.compilelock): Waiting for existing lock by process '73715' (I am process '73732')\n",
      "INFO (theano.gof.compilelock): Waiting for existing lock by process '73715' (I am process '73721')\n",
      "INFO (theano.gof.compilelock): To manually release the lock, delete /Users/felixmolter/.theano/compiledir_Darwin-17.7.0-x86_64-i386-64bit-i386-3.6.8-64/lock_dir\n",
      "INFO (theano.gof.compilelock): To manually release the lock, delete /Users/felixmolter/.theano/compiledir_Darwin-17.7.0-x86_64-i386-64bit-i386-3.6.8-64/lock_dir\n",
      "INFO (theano.gof.compilelock): To manually release the lock, delete /Users/felixmolter/.theano/compiledir_Darwin-17.7.0-x86_64-i386-64bit-i386-3.6.8-64/lock_dir\n",
      "INFO (theano.gof.compilelock): To manually release the lock, delete /Users/felixmolter/.theano/compiledir_Darwin-17.7.0-x86_64-i386-64bit-i386-3.6.8-64/lock_dir\n",
      "INFO (theano.gof.compilelock): Waiting for existing lock by process '73715' (I am process '73730')\n",
      "INFO (theano.gof.compilelock): To manually release the lock, delete /Users/felixmolter/.theano/compiledir_Darwin-17.7.0-x86_64-i386-64bit-i386-3.6.8-64/lock_dir\n",
      "INFO (theano.gof.compilelock): Waiting for existing lock by process '73715' (I am process '73729')\n",
      "INFO (theano.gof.compilelock): Waiting for existing lock by process '73715' (I am process '73722')\n",
      "INFO (theano.gof.compilelock): Waiting for existing lock by process '73715' (I am process '73731')\n",
      "INFO (theano.gof.compilelock): Waiting for existing lock by process '73715' (I am process '73718')\n",
      "INFO (theano.gof.compilelock): To manually release the lock, delete /Users/felixmolter/.theano/compiledir_Darwin-17.7.0-x86_64-i386-64bit-i386-3.6.8-64/lock_dir\n",
      "INFO (theano.gof.compilelock): To manually release the lock, delete /Users/felixmolter/.theano/compiledir_Darwin-17.7.0-x86_64-i386-64bit-i386-3.6.8-64/lock_dir\n",
      "INFO (theano.gof.compilelock): To manually release the lock, delete /Users/felixmolter/.theano/compiledir_Darwin-17.7.0-x86_64-i386-64bit-i386-3.6.8-64/lock_dir\n",
      "INFO (theano.gof.compilelock): To manually release the lock, delete /Users/felixmolter/.theano/compiledir_Darwin-17.7.0-x86_64-i386-64bit-i386-3.6.8-64/lock_dir\n",
      "INFO (theano.gof.compilelock): Waiting for existing lock by process '73715' (I am process '73727')\n",
      "INFO (theano.gof.compilelock): To manually release the lock, delete /Users/felixmolter/.theano/compiledir_Darwin-17.7.0-x86_64-i386-64bit-i386-3.6.8-64/lock_dir\n",
      "INFO (theano.gof.compilelock): Waiting for existing lock by process '73723' (I am process '73725')\n",
      "INFO (theano.gof.compilelock): To manually release the lock, delete /Users/felixmolter/.theano/compiledir_Darwin-17.7.0-x86_64-i386-64bit-i386-3.6.8-64/lock_dir\n",
      "INFO (theano.gof.compilelock): Waiting for existing lock by process '73716' (I am process '73734')\n",
      "INFO (theano.gof.compilelock): To manually release the lock, delete /Users/felixmolter/.theano/compiledir_Darwin-17.7.0-x86_64-i386-64bit-i386-3.6.8-64/lock_dir\n",
      "Sequential sampling (2 chains in 1 job)\n",
      "CompoundStep\n",
      ">Metropolis: [tau_offset]\n",
      ">Metropolis: [tau_sd]\n",
      ">Metropolis: [tau_mu]\n",
      ">Metropolis: [s_offset]\n",
      ">Metropolis: [s_sd]\n",
      ">Metropolis: [s_mu]\n",
      ">Metropolis: [gamma_offset]\n",
      ">Metropolis: [gamma_sd]\n",
      ">Metropolis: [gamma_mu]\n",
      ">Metropolis: [v_offset]\n",
      ">Metropolis: [v_sd]\n",
      ">Metropolis: [v_mu]\n",
      "INFO (theano.gof.compilelock): Waiting for existing lock by process '73787' (I am process '73714')\n",
      "INFO (theano.gof.compilelock): Waiting for existing lock by process '73787' (I am process '73726')\n",
      "INFO (theano.gof.compilelock): To manually release the lock, delete /Users/felixmolter/.theano/compiledir_Darwin-17.7.0-x86_64-i386-64bit-i386-3.6.8-64/lock_dir\n",
      "INFO (theano.gof.compilelock): To manually release the lock, delete /Users/felixmolter/.theano/compiledir_Darwin-17.7.0-x86_64-i386-64bit-i386-3.6.8-64/lock_dir\n",
      "INFO (theano.gof.compilelock): Waiting for existing lock by process '73720' (I am process '73724')\n",
      "INFO (theano.gof.compilelock): To manually release the lock, delete /Users/felixmolter/.theano/compiledir_Darwin-17.7.0-x86_64-i386-64bit-i386-3.6.8-64/lock_dir\n",
      "INFO (theano.gof.compilelock): Waiting for existing lock by process '73720' (I am process '73717')\n",
      "INFO (theano.gof.compilelock): To manually release the lock, delete /Users/felixmolter/.theano/compiledir_Darwin-17.7.0-x86_64-i386-64bit-i386-3.6.8-64/lock_dir\n"
     ]
    },
    {
     "name": "stderr",
     "output_type": "stream",
     "text": [
      "INFO (theano.gof.compilelock): Waiting for existing lock by process '73720' (I am process '73733')\n",
      "INFO (theano.gof.compilelock): Waiting for existing lock by process '73720' (I am process '73713')\n",
      "INFO (theano.gof.compilelock): Waiting for existing lock by process '73720' (I am process '73719')\n",
      "INFO (theano.gof.compilelock): Waiting for existing lock by process '73720' (I am process '73732')\n",
      "INFO (theano.gof.compilelock): Waiting for existing lock by process '73720' (I am process '73721')\n",
      "INFO (theano.gof.compilelock): To manually release the lock, delete /Users/felixmolter/.theano/compiledir_Darwin-17.7.0-x86_64-i386-64bit-i386-3.6.8-64/lock_dir\n",
      "INFO (theano.gof.compilelock): To manually release the lock, delete /Users/felixmolter/.theano/compiledir_Darwin-17.7.0-x86_64-i386-64bit-i386-3.6.8-64/lock_dir\n",
      "INFO (theano.gof.compilelock): To manually release the lock, delete /Users/felixmolter/.theano/compiledir_Darwin-17.7.0-x86_64-i386-64bit-i386-3.6.8-64/lock_dir\n",
      "INFO (theano.gof.compilelock): To manually release the lock, delete /Users/felixmolter/.theano/compiledir_Darwin-17.7.0-x86_64-i386-64bit-i386-3.6.8-64/lock_dir\n",
      "INFO (theano.gof.compilelock): To manually release the lock, delete /Users/felixmolter/.theano/compiledir_Darwin-17.7.0-x86_64-i386-64bit-i386-3.6.8-64/lock_dir\n",
      "INFO (theano.gof.compilelock): Waiting for existing lock by process '73720' (I am process '73730')\n",
      "INFO (theano.gof.compilelock): To manually release the lock, delete /Users/felixmolter/.theano/compiledir_Darwin-17.7.0-x86_64-i386-64bit-i386-3.6.8-64/lock_dir\n",
      "INFO (theano.gof.compilelock): Waiting for existing lock by process '73720' (I am process '73729')\n",
      "INFO (theano.gof.compilelock): Waiting for existing lock by process '73720' (I am process '73731')\n",
      "INFO (theano.gof.compilelock): Waiting for existing lock by process '73720' (I am process '73722')\n",
      "INFO (theano.gof.compilelock): Waiting for existing lock by process '73720' (I am process '73718')\n",
      "INFO (theano.gof.compilelock): To manually release the lock, delete /Users/felixmolter/.theano/compiledir_Darwin-17.7.0-x86_64-i386-64bit-i386-3.6.8-64/lock_dir\n",
      "INFO (theano.gof.compilelock): To manually release the lock, delete /Users/felixmolter/.theano/compiledir_Darwin-17.7.0-x86_64-i386-64bit-i386-3.6.8-64/lock_dir\n",
      "INFO (theano.gof.compilelock): To manually release the lock, delete /Users/felixmolter/.theano/compiledir_Darwin-17.7.0-x86_64-i386-64bit-i386-3.6.8-64/lock_dir\n",
      "INFO (theano.gof.compilelock): To manually release the lock, delete /Users/felixmolter/.theano/compiledir_Darwin-17.7.0-x86_64-i386-64bit-i386-3.6.8-64/lock_dir\n",
      "INFO (theano.gof.compilelock): Waiting for existing lock by process '73720' (I am process '73727')\n",
      "INFO (theano.gof.compilelock): To manually release the lock, delete /Users/felixmolter/.theano/compiledir_Darwin-17.7.0-x86_64-i386-64bit-i386-3.6.8-64/lock_dir\n",
      "INFO (theano.gof.compilelock): Waiting for existing lock by process '73725' (I am process '73734')\n",
      "INFO (theano.gof.compilelock): To manually release the lock, delete /Users/felixmolter/.theano/compiledir_Darwin-17.7.0-x86_64-i386-64bit-i386-3.6.8-64/lock_dir\n",
      "INFO (theano.gof.compilelock): Waiting for existing lock by process '73725' (I am process '73728')\n",
      "INFO (theano.gof.compilelock): To manually release the lock, delete /Users/felixmolter/.theano/compiledir_Darwin-17.7.0-x86_64-i386-64bit-i386-3.6.8-64/lock_dir\n",
      "INFO (theano.gof.compilelock): Waiting for existing lock by process '73714' (I am process '73726')\n",
      "INFO (theano.gof.compilelock): To manually release the lock, delete /Users/felixmolter/.theano/compiledir_Darwin-17.7.0-x86_64-i386-64bit-i386-3.6.8-64/lock_dir\n",
      "INFO (theano.gof.compilelock): Waiting for existing lock by process '73714' (I am process '73724')\n",
      "INFO (theano.gof.compilelock): Waiting for existing lock by process '73714' (I am process '73717')\n",
      "INFO (theano.gof.compilelock): To manually release the lock, delete /Users/felixmolter/.theano/compiledir_Darwin-17.7.0-x86_64-i386-64bit-i386-3.6.8-64/lock_dir\n",
      "INFO (theano.gof.compilelock): To manually release the lock, delete /Users/felixmolter/.theano/compiledir_Darwin-17.7.0-x86_64-i386-64bit-i386-3.6.8-64/lock_dir\n",
      "INFO (theano.gof.compilelock): Waiting for existing lock by process '73714' (I am process '73719')\n",
      "INFO (theano.gof.compilelock): Waiting for existing lock by process '73714' (I am process '73733')\n",
      "INFO (theano.gof.compilelock): Waiting for existing lock by process '73714' (I am process '73732')\n",
      "INFO (theano.gof.compilelock): Waiting for existing lock by process '73714' (I am process '73713')\n",
      "INFO (theano.gof.compilelock): Waiting for existing lock by process '73714' (I am process '73721')\n",
      "INFO (theano.gof.compilelock): To manually release the lock, delete /Users/felixmolter/.theano/compiledir_Darwin-17.7.0-x86_64-i386-64bit-i386-3.6.8-64/lock_dir\n",
      "INFO (theano.gof.compilelock): To manually release the lock, delete /Users/felixmolter/.theano/compiledir_Darwin-17.7.0-x86_64-i386-64bit-i386-3.6.8-64/lock_dir\n",
      "INFO (theano.gof.compilelock): To manually release the lock, delete /Users/felixmolter/.theano/compiledir_Darwin-17.7.0-x86_64-i386-64bit-i386-3.6.8-64/lock_dir\n",
      "INFO (theano.gof.compilelock): To manually release the lock, delete /Users/felixmolter/.theano/compiledir_Darwin-17.7.0-x86_64-i386-64bit-i386-3.6.8-64/lock_dir\n",
      "INFO (theano.gof.compilelock): To manually release the lock, delete /Users/felixmolter/.theano/compiledir_Darwin-17.7.0-x86_64-i386-64bit-i386-3.6.8-64/lock_dir\n",
      "INFO (theano.gof.compilelock): Waiting for existing lock by process '73714' (I am process '73730')\n",
      "INFO (theano.gof.compilelock): To manually release the lock, delete /Users/felixmolter/.theano/compiledir_Darwin-17.7.0-x86_64-i386-64bit-i386-3.6.8-64/lock_dir\n",
      "INFO (theano.gof.compilelock): Waiting for existing lock by process '73714' (I am process '73729')\n",
      "INFO (theano.gof.compilelock): Waiting for existing lock by process '73714' (I am process '73731')\n",
      "INFO (theano.gof.compilelock): Waiting for existing lock by process '73714' (I am process '73718')\n",
      "INFO (theano.gof.compilelock): Waiting for existing lock by process '73714' (I am process '73722')\n",
      "INFO (theano.gof.compilelock): To manually release the lock, delete /Users/felixmolter/.theano/compiledir_Darwin-17.7.0-x86_64-i386-64bit-i386-3.6.8-64/lock_dir\n",
      "INFO (theano.gof.compilelock): To manually release the lock, delete /Users/felixmolter/.theano/compiledir_Darwin-17.7.0-x86_64-i386-64bit-i386-3.6.8-64/lock_dir\n",
      "INFO (theano.gof.compilelock): To manually release the lock, delete /Users/felixmolter/.theano/compiledir_Darwin-17.7.0-x86_64-i386-64bit-i386-3.6.8-64/lock_dir\n",
      "INFO (theano.gof.compilelock): Waiting for existing lock by process '73714' (I am process '73727')\n",
      "INFO (theano.gof.compilelock): To manually release the lock, delete /Users/felixmolter/.theano/compiledir_Darwin-17.7.0-x86_64-i386-64bit-i386-3.6.8-64/lock_dir\n",
      "INFO (theano.gof.compilelock): To manually release the lock, delete /Users/felixmolter/.theano/compiledir_Darwin-17.7.0-x86_64-i386-64bit-i386-3.6.8-64/lock_dir\n",
      "INFO (theano.gof.compilelock): Waiting for existing lock by process '73714' (I am process '73715')\n",
      "INFO (theano.gof.compilelock): To manually release the lock, delete /Users/felixmolter/.theano/compiledir_Darwin-17.7.0-x86_64-i386-64bit-i386-3.6.8-64/lock_dir\n",
      "INFO (theano.gof.compilelock): Waiting for existing lock by process '73714' (I am process '73720')\n",
      "INFO (theano.gof.compilelock): To manually release the lock, delete /Users/felixmolter/.theano/compiledir_Darwin-17.7.0-x86_64-i386-64bit-i386-3.6.8-64/lock_dir\n",
      "INFO (theano.gof.compilelock): Waiting for existing lock by process '73714' (I am process '73734')\n",
      "INFO (theano.gof.compilelock): To manually release the lock, delete /Users/felixmolter/.theano/compiledir_Darwin-17.7.0-x86_64-i386-64bit-i386-3.6.8-64/lock_dir\n",
      "INFO (theano.gof.compilelock): Waiting for existing lock by process '73714' (I am process '73728')\n",
      "INFO (theano.gof.compilelock): To manually release the lock, delete /Users/felixmolter/.theano/compiledir_Darwin-17.7.0-x86_64-i386-64bit-i386-3.6.8-64/lock_dir\n",
      "INFO (theano.gof.compilelock): Waiting for existing lock by process '73715' (I am process '73726')\n",
      "INFO (theano.gof.compilelock): To manually release the lock, delete /Users/felixmolter/.theano/compiledir_Darwin-17.7.0-x86_64-i386-64bit-i386-3.6.8-64/lock_dir\n"
     ]
    },
    {
     "name": "stderr",
     "output_type": "stream",
     "text": [
      "INFO (theano.gof.compilelock): Waiting for existing lock by process '73715' (I am process '73724')\n",
      "INFO (theano.gof.compilelock): Waiting for existing lock by process '73715' (I am process '73717')\n",
      "INFO (theano.gof.compilelock): To manually release the lock, delete /Users/felixmolter/.theano/compiledir_Darwin-17.7.0-x86_64-i386-64bit-i386-3.6.8-64/lock_dir\n",
      "INFO (theano.gof.compilelock): To manually release the lock, delete /Users/felixmolter/.theano/compiledir_Darwin-17.7.0-x86_64-i386-64bit-i386-3.6.8-64/lock_dir\n",
      "INFO (theano.gof.compilelock): Waiting for existing lock by process '73715' (I am process '73732')\n",
      "INFO (theano.gof.compilelock): Waiting for existing lock by process '73715' (I am process '73733')\n",
      "INFO (theano.gof.compilelock): Waiting for existing lock by process '73715' (I am process '73721')\n",
      "INFO (theano.gof.compilelock): Waiting for existing lock by process '73715' (I am process '73713')\n",
      "INFO (theano.gof.compilelock): Waiting for existing lock by process '73715' (I am process '73719')\n",
      "INFO (theano.gof.compilelock): To manually release the lock, delete /Users/felixmolter/.theano/compiledir_Darwin-17.7.0-x86_64-i386-64bit-i386-3.6.8-64/lock_dir\n",
      "INFO (theano.gof.compilelock): To manually release the lock, delete /Users/felixmolter/.theano/compiledir_Darwin-17.7.0-x86_64-i386-64bit-i386-3.6.8-64/lock_dir\n",
      "INFO (theano.gof.compilelock): To manually release the lock, delete /Users/felixmolter/.theano/compiledir_Darwin-17.7.0-x86_64-i386-64bit-i386-3.6.8-64/lock_dir\n",
      "INFO (theano.gof.compilelock): To manually release the lock, delete /Users/felixmolter/.theano/compiledir_Darwin-17.7.0-x86_64-i386-64bit-i386-3.6.8-64/lock_dir\n",
      "INFO (theano.gof.compilelock): To manually release the lock, delete /Users/felixmolter/.theano/compiledir_Darwin-17.7.0-x86_64-i386-64bit-i386-3.6.8-64/lock_dir\n",
      "INFO (theano.gof.compilelock): Waiting for existing lock by process '73715' (I am process '73730')\n",
      "INFO (theano.gof.compilelock): To manually release the lock, delete /Users/felixmolter/.theano/compiledir_Darwin-17.7.0-x86_64-i386-64bit-i386-3.6.8-64/lock_dir\n",
      "INFO (theano.gof.compilelock): Waiting for existing lock by process '73715' (I am process '73729')\n",
      "INFO (theano.gof.compilelock): Waiting for existing lock by process '73715' (I am process '73722')\n",
      "INFO (theano.gof.compilelock): Waiting for existing lock by process '73715' (I am process '73718')\n",
      "INFO (theano.gof.compilelock): Waiting for existing lock by process '73715' (I am process '73731')\n",
      "INFO (theano.gof.compilelock): Waiting for existing lock by process '73715' (I am process '73727')\n",
      "INFO (theano.gof.compilelock): To manually release the lock, delete /Users/felixmolter/.theano/compiledir_Darwin-17.7.0-x86_64-i386-64bit-i386-3.6.8-64/lock_dir\n",
      "INFO (theano.gof.compilelock): To manually release the lock, delete /Users/felixmolter/.theano/compiledir_Darwin-17.7.0-x86_64-i386-64bit-i386-3.6.8-64/lock_dir\n",
      "INFO (theano.gof.compilelock): To manually release the lock, delete /Users/felixmolter/.theano/compiledir_Darwin-17.7.0-x86_64-i386-64bit-i386-3.6.8-64/lock_dir\n",
      "INFO (theano.gof.compilelock): To manually release the lock, delete /Users/felixmolter/.theano/compiledir_Darwin-17.7.0-x86_64-i386-64bit-i386-3.6.8-64/lock_dir\n",
      "INFO (theano.gof.compilelock): To manually release the lock, delete /Users/felixmolter/.theano/compiledir_Darwin-17.7.0-x86_64-i386-64bit-i386-3.6.8-64/lock_dir\n",
      "INFO (theano.gof.compilelock): Waiting for existing lock by process '73715' (I am process '73720')\n",
      "INFO (theano.gof.compilelock): To manually release the lock, delete /Users/felixmolter/.theano/compiledir_Darwin-17.7.0-x86_64-i386-64bit-i386-3.6.8-64/lock_dir\n",
      "INFO (theano.gof.compilelock): Waiting for existing lock by process '73728' (I am process '73726')\n",
      "INFO (theano.gof.compilelock): To manually release the lock, delete /Users/felixmolter/.theano/compiledir_Darwin-17.7.0-x86_64-i386-64bit-i386-3.6.8-64/lock_dir\n",
      "INFO (theano.gof.compilelock): Waiting for existing lock by process '73728' (I am process '73724')\n",
      "INFO (theano.gof.compilelock): Waiting for existing lock by process '73728' (I am process '73717')\n",
      "INFO (theano.gof.compilelock): To manually release the lock, delete /Users/felixmolter/.theano/compiledir_Darwin-17.7.0-x86_64-i386-64bit-i386-3.6.8-64/lock_dir\n",
      "INFO (theano.gof.compilelock): To manually release the lock, delete /Users/felixmolter/.theano/compiledir_Darwin-17.7.0-x86_64-i386-64bit-i386-3.6.8-64/lock_dir\n",
      "INFO (theano.gof.compilelock): Waiting for existing lock by unknown process (I am process '73713')\n",
      "INFO (theano.gof.compilelock): Waiting for existing lock by unknown process (I am process '73719')\n",
      "INFO (theano.gof.compilelock): Waiting for existing lock by unknown process (I am process '73721')\n",
      "INFO (theano.gof.compilelock): Waiting for existing lock by unknown process (I am process '73733')\n",
      "INFO (theano.gof.compilelock): To manually release the lock, delete /Users/felixmolter/.theano/compiledir_Darwin-17.7.0-x86_64-i386-64bit-i386-3.6.8-64/lock_dir\n",
      "INFO (theano.gof.compilelock): To manually release the lock, delete /Users/felixmolter/.theano/compiledir_Darwin-17.7.0-x86_64-i386-64bit-i386-3.6.8-64/lock_dir\n",
      "INFO (theano.gof.compilelock): To manually release the lock, delete /Users/felixmolter/.theano/compiledir_Darwin-17.7.0-x86_64-i386-64bit-i386-3.6.8-64/lock_dir\n",
      "INFO (theano.gof.compilelock): To manually release the lock, delete /Users/felixmolter/.theano/compiledir_Darwin-17.7.0-x86_64-i386-64bit-i386-3.6.8-64/lock_dir\n",
      "INFO (theano.gof.compilelock): Waiting for existing lock by process '73732' (I am process '73730')\n",
      "INFO (theano.gof.compilelock): To manually release the lock, delete /Users/felixmolter/.theano/compiledir_Darwin-17.7.0-x86_64-i386-64bit-i386-3.6.8-64/lock_dir\n",
      "INFO (theano.gof.compilelock): Waiting for existing lock by process '73732' (I am process '73718')\n",
      "INFO (theano.gof.compilelock): Waiting for existing lock by process '73732' (I am process '73729')\n",
      "INFO (theano.gof.compilelock): Waiting for existing lock by process '73732' (I am process '73731')\n",
      "INFO (theano.gof.compilelock): Waiting for existing lock by process '73732' (I am process '73722')\n",
      "INFO (theano.gof.compilelock): Waiting for existing lock by process '73732' (I am process '73727')\n",
      "INFO (theano.gof.compilelock): To manually release the lock, delete /Users/felixmolter/.theano/compiledir_Darwin-17.7.0-x86_64-i386-64bit-i386-3.6.8-64/lock_dir\n",
      "INFO (theano.gof.compilelock): To manually release the lock, delete /Users/felixmolter/.theano/compiledir_Darwin-17.7.0-x86_64-i386-64bit-i386-3.6.8-64/lock_dir\n",
      "INFO (theano.gof.compilelock): To manually release the lock, delete /Users/felixmolter/.theano/compiledir_Darwin-17.7.0-x86_64-i386-64bit-i386-3.6.8-64/lock_dir\n",
      "INFO (theano.gof.compilelock): To manually release the lock, delete /Users/felixmolter/.theano/compiledir_Darwin-17.7.0-x86_64-i386-64bit-i386-3.6.8-64/lock_dir\n",
      "INFO (theano.gof.compilelock): To manually release the lock, delete /Users/felixmolter/.theano/compiledir_Darwin-17.7.0-x86_64-i386-64bit-i386-3.6.8-64/lock_dir\n",
      "INFO (theano.gof.compilelock): Waiting for existing lock by process '73732' (I am process '73714')\n",
      "INFO (theano.gof.compilelock): To manually release the lock, delete /Users/felixmolter/.theano/compiledir_Darwin-17.7.0-x86_64-i386-64bit-i386-3.6.8-64/lock_dir\n",
      "INFO (theano.gof.compilelock): Waiting for existing lock by process '73720' (I am process '73715')\n",
      "INFO (theano.gof.compilelock): To manually release the lock, delete /Users/felixmolter/.theano/compiledir_Darwin-17.7.0-x86_64-i386-64bit-i386-3.6.8-64/lock_dir\n"
     ]
    },
    {
     "name": "stdout",
     "output_type": "stream",
     "text": [
      "Fitting 1 model(s) using MCMC...\n",
      "  Fitting model 1 of 1...\n"
     ]
    },
    {
     "name": "stderr",
     "output_type": "stream",
     "text": [
      "INFO (theano.gof.compilelock): Waiting for existing lock by process '73786' (I am process '73734')\n",
      "INFO (theano.gof.compilelock): To manually release the lock, delete /Users/felixmolter/.theano/compiledir_Darwin-17.7.0-x86_64-i386-64bit-i386-3.6.8-64/lock_dir\n",
      "INFO (theano.gof.compilelock): Waiting for existing lock by process '73786' (I am process '73726')\n",
      "INFO (theano.gof.compilelock): To manually release the lock, delete /Users/felixmolter/.theano/compiledir_Darwin-17.7.0-x86_64-i386-64bit-i386-3.6.8-64/lock_dir\n",
      "INFO (theano.gof.compilelock): Waiting for existing lock by process '73786' (I am process '73724')\n",
      "INFO (theano.gof.compilelock): Waiting for existing lock by process '73786' (I am process '73717')\n",
      "INFO (theano.gof.compilelock): To manually release the lock, delete /Users/felixmolter/.theano/compiledir_Darwin-17.7.0-x86_64-i386-64bit-i386-3.6.8-64/lock_dir\n",
      "INFO (theano.gof.compilelock): To manually release the lock, delete /Users/felixmolter/.theano/compiledir_Darwin-17.7.0-x86_64-i386-64bit-i386-3.6.8-64/lock_dir\n",
      "INFO (theano.gof.compilelock): Waiting for existing lock by process '73786' (I am process '73719')\n",
      "INFO (theano.gof.compilelock): Waiting for existing lock by process '73786' (I am process '73721')\n",
      "INFO (theano.gof.compilelock): Waiting for existing lock by process '73786' (I am process '73733')\n",
      "INFO (theano.gof.compilelock): Waiting for existing lock by process '73786' (I am process '73713')\n",
      "INFO (theano.gof.compilelock): To manually release the lock, delete /Users/felixmolter/.theano/compiledir_Darwin-17.7.0-x86_64-i386-64bit-i386-3.6.8-64/lock_dir\n",
      "INFO (theano.gof.compilelock): To manually release the lock, delete /Users/felixmolter/.theano/compiledir_Darwin-17.7.0-x86_64-i386-64bit-i386-3.6.8-64/lock_dir\n",
      "INFO (theano.gof.compilelock): To manually release the lock, delete /Users/felixmolter/.theano/compiledir_Darwin-17.7.0-x86_64-i386-64bit-i386-3.6.8-64/lock_dir\n",
      "INFO (theano.gof.compilelock): To manually release the lock, delete /Users/felixmolter/.theano/compiledir_Darwin-17.7.0-x86_64-i386-64bit-i386-3.6.8-64/lock_dir\n",
      "INFO (theano.gof.compilelock): Waiting for existing lock by process '73786' (I am process '73730')\n",
      "INFO (theano.gof.compilelock): To manually release the lock, delete /Users/felixmolter/.theano/compiledir_Darwin-17.7.0-x86_64-i386-64bit-i386-3.6.8-64/lock_dir\n",
      "INFO (theano.gof.compilelock): Waiting for existing lock by process '73786' (I am process '73722')\n",
      "INFO (theano.gof.compilelock): Waiting for existing lock by process '73786' (I am process '73731')\n",
      "INFO (theano.gof.compilelock): Waiting for existing lock by process '73786' (I am process '73718')\n",
      "INFO (theano.gof.compilelock): Waiting for existing lock by process '73786' (I am process '73727')\n",
      "INFO (theano.gof.compilelock): Waiting for existing lock by process '73786' (I am process '73729')\n",
      "INFO (theano.gof.compilelock): To manually release the lock, delete /Users/felixmolter/.theano/compiledir_Darwin-17.7.0-x86_64-i386-64bit-i386-3.6.8-64/lock_dir\n",
      "INFO (theano.gof.compilelock): To manually release the lock, delete /Users/felixmolter/.theano/compiledir_Darwin-17.7.0-x86_64-i386-64bit-i386-3.6.8-64/lock_dir\n",
      "INFO (theano.gof.compilelock): To manually release the lock, delete /Users/felixmolter/.theano/compiledir_Darwin-17.7.0-x86_64-i386-64bit-i386-3.6.8-64/lock_dir\n",
      "INFO (theano.gof.compilelock): To manually release the lock, delete /Users/felixmolter/.theano/compiledir_Darwin-17.7.0-x86_64-i386-64bit-i386-3.6.8-64/lock_dir\n",
      "INFO (theano.gof.compilelock): To manually release the lock, delete /Users/felixmolter/.theano/compiledir_Darwin-17.7.0-x86_64-i386-64bit-i386-3.6.8-64/lock_dir\n",
      "INFO (theano.gof.compilelock): Waiting for existing lock by process '73714' (I am process '73728')\n"
     ]
    },
    {
     "name": "stdout",
     "output_type": "stream",
     "text": [
      "Fitting 1 model(s) using MCMC...\n"
     ]
    },
    {
     "name": "stderr",
     "output_type": "stream",
     "text": [
      "INFO (theano.gof.compilelock): To manually release the lock, delete /Users/felixmolter/.theano/compiledir_Darwin-17.7.0-x86_64-i386-64bit-i386-3.6.8-64/lock_dir\n"
     ]
    },
    {
     "name": "stdout",
     "output_type": "stream",
     "text": [
      "  Fitting model 1 of 1...\n",
      "Fitting 1 model(s) using MCMC...\n",
      "  Fitting model 1 of 1...\n"
     ]
    },
    {
     "name": "stderr",
     "output_type": "stream",
     "text": [
      "INFO (theano.gof.compilelock): Waiting for existing lock by process '73728' (I am process '73725')\n",
      "INFO (theano.gof.compilelock): To manually release the lock, delete /Users/felixmolter/.theano/compiledir_Darwin-17.7.0-x86_64-i386-64bit-i386-3.6.8-64/lock_dir\n",
      "INFO (theano.gof.compilelock): Waiting for existing lock by process '73728' (I am process '73734')\n",
      "INFO (theano.gof.compilelock): To manually release the lock, delete /Users/felixmolter/.theano/compiledir_Darwin-17.7.0-x86_64-i386-64bit-i386-3.6.8-64/lock_dir\n",
      "INFO (theano.gof.compilelock): Waiting for existing lock by process '73726' (I am process '73717')\n",
      "INFO (theano.gof.compilelock): Waiting for existing lock by process '73726' (I am process '73724')\n",
      "INFO (theano.gof.compilelock): To manually release the lock, delete /Users/felixmolter/.theano/compiledir_Darwin-17.7.0-x86_64-i386-64bit-i386-3.6.8-64/lock_dir\n",
      "INFO (theano.gof.compilelock): To manually release the lock, delete /Users/felixmolter/.theano/compiledir_Darwin-17.7.0-x86_64-i386-64bit-i386-3.6.8-64/lock_dir\n",
      "INFO (theano.gof.compilelock): Waiting for existing lock by process '73726' (I am process '73733')\n",
      "INFO (theano.gof.compilelock): Waiting for existing lock by process '73726' (I am process '73721')\n",
      "INFO (theano.gof.compilelock): Waiting for existing lock by process '73726' (I am process '73719')\n",
      "INFO (theano.gof.compilelock): Waiting for existing lock by process '73726' (I am process '73713')\n",
      "INFO (theano.gof.compilelock): To manually release the lock, delete /Users/felixmolter/.theano/compiledir_Darwin-17.7.0-x86_64-i386-64bit-i386-3.6.8-64/lock_dir\n",
      "INFO (theano.gof.compilelock): To manually release the lock, delete /Users/felixmolter/.theano/compiledir_Darwin-17.7.0-x86_64-i386-64bit-i386-3.6.8-64/lock_dir\n",
      "INFO (theano.gof.compilelock): To manually release the lock, delete /Users/felixmolter/.theano/compiledir_Darwin-17.7.0-x86_64-i386-64bit-i386-3.6.8-64/lock_dir\n",
      "INFO (theano.gof.compilelock): To manually release the lock, delete /Users/felixmolter/.theano/compiledir_Darwin-17.7.0-x86_64-i386-64bit-i386-3.6.8-64/lock_dir\n",
      "INFO (theano.gof.compilelock): Waiting for existing lock by process '73726' (I am process '73730')\n",
      "INFO (theano.gof.compilelock): To manually release the lock, delete /Users/felixmolter/.theano/compiledir_Darwin-17.7.0-x86_64-i386-64bit-i386-3.6.8-64/lock_dir\n",
      "INFO (theano.gof.compilelock): Waiting for existing lock by process '73726' (I am process '73722')\n",
      "INFO (theano.gof.compilelock): Waiting for existing lock by process '73726' (I am process '73727')\n",
      "INFO (theano.gof.compilelock): Waiting for existing lock by process '73726' (I am process '73718')\n",
      "INFO (theano.gof.compilelock): Waiting for existing lock by process '73726' (I am process '73729')\n",
      "INFO (theano.gof.compilelock): Waiting for existing lock by process '73726' (I am process '73731')\n",
      "INFO (theano.gof.compilelock): To manually release the lock, delete /Users/felixmolter/.theano/compiledir_Darwin-17.7.0-x86_64-i386-64bit-i386-3.6.8-64/lock_dir\n",
      "INFO (theano.gof.compilelock): To manually release the lock, delete /Users/felixmolter/.theano/compiledir_Darwin-17.7.0-x86_64-i386-64bit-i386-3.6.8-64/lock_dir\n",
      "INFO (theano.gof.compilelock): To manually release the lock, delete /Users/felixmolter/.theano/compiledir_Darwin-17.7.0-x86_64-i386-64bit-i386-3.6.8-64/lock_dir\n",
      "INFO (theano.gof.compilelock): To manually release the lock, delete /Users/felixmolter/.theano/compiledir_Darwin-17.7.0-x86_64-i386-64bit-i386-3.6.8-64/lock_dir\n",
      "INFO (theano.gof.compilelock): To manually release the lock, delete /Users/felixmolter/.theano/compiledir_Darwin-17.7.0-x86_64-i386-64bit-i386-3.6.8-64/lock_dir\n",
      "INFO (theano.gof.compilelock): Waiting for existing lock by process '73726' (I am process '73720')\n",
      "INFO (theano.gof.compilelock): To manually release the lock, delete /Users/felixmolter/.theano/compiledir_Darwin-17.7.0-x86_64-i386-64bit-i386-3.6.8-64/lock_dir\n"
     ]
    },
    {
     "name": "stdout",
     "output_type": "stream",
     "text": [
      "Fitting 1 model(s) using MCMC...\n",
      "  Fitting model 1 of 1...\n"
     ]
    },
    {
     "name": "stderr",
     "output_type": "stream",
     "text": [
      "INFO (theano.gof.compilelock): Waiting for existing lock by process '73725' (I am process '73717')\n",
      "INFO (theano.gof.compilelock): Waiting for existing lock by process '73725' (I am process '73724')\n",
      "INFO (theano.gof.compilelock): To manually release the lock, delete /Users/felixmolter/.theano/compiledir_Darwin-17.7.0-x86_64-i386-64bit-i386-3.6.8-64/lock_dir\n",
      "INFO (theano.gof.compilelock): To manually release the lock, delete /Users/felixmolter/.theano/compiledir_Darwin-17.7.0-x86_64-i386-64bit-i386-3.6.8-64/lock_dir\n",
      "INFO (theano.gof.compilelock): Waiting for existing lock by process '73725' (I am process '73733')\n",
      "INFO (theano.gof.compilelock): Waiting for existing lock by process '73725' (I am process '73713')\n",
      "INFO (theano.gof.compilelock): Waiting for existing lock by process '73725' (I am process '73721')\n",
      "INFO (theano.gof.compilelock): Waiting for existing lock by process '73725' (I am process '73719')\n",
      "INFO (theano.gof.compilelock): To manually release the lock, delete /Users/felixmolter/.theano/compiledir_Darwin-17.7.0-x86_64-i386-64bit-i386-3.6.8-64/lock_dir\n",
      "INFO (theano.gof.compilelock): To manually release the lock, delete /Users/felixmolter/.theano/compiledir_Darwin-17.7.0-x86_64-i386-64bit-i386-3.6.8-64/lock_dir\n",
      "INFO (theano.gof.compilelock): To manually release the lock, delete /Users/felixmolter/.theano/compiledir_Darwin-17.7.0-x86_64-i386-64bit-i386-3.6.8-64/lock_dir\n",
      "INFO (theano.gof.compilelock): To manually release the lock, delete /Users/felixmolter/.theano/compiledir_Darwin-17.7.0-x86_64-i386-64bit-i386-3.6.8-64/lock_dir\n",
      "INFO (theano.gof.compilelock): Waiting for existing lock by process '73725' (I am process '73730')\n",
      "INFO (theano.gof.compilelock): To manually release the lock, delete /Users/felixmolter/.theano/compiledir_Darwin-17.7.0-x86_64-i386-64bit-i386-3.6.8-64/lock_dir\n",
      "INFO (theano.gof.compilelock): Waiting for existing lock by process '73725' (I am process '73727')\n",
      "INFO (theano.gof.compilelock): Waiting for existing lock by process '73725' (I am process '73729')\n",
      "INFO (theano.gof.compilelock): Waiting for existing lock by process '73725' (I am process '73722')\n",
      "INFO (theano.gof.compilelock): Waiting for existing lock by process '73725' (I am process '73718')\n",
      "INFO (theano.gof.compilelock): Waiting for existing lock by process '73725' (I am process '73731')\n",
      "INFO (theano.gof.compilelock): To manually release the lock, delete /Users/felixmolter/.theano/compiledir_Darwin-17.7.0-x86_64-i386-64bit-i386-3.6.8-64/lock_dir\n",
      "INFO (theano.gof.compilelock): To manually release the lock, delete /Users/felixmolter/.theano/compiledir_Darwin-17.7.0-x86_64-i386-64bit-i386-3.6.8-64/lock_dir\n",
      "INFO (theano.gof.compilelock): To manually release the lock, delete /Users/felixmolter/.theano/compiledir_Darwin-17.7.0-x86_64-i386-64bit-i386-3.6.8-64/lock_dir\n",
      "INFO (theano.gof.compilelock): To manually release the lock, delete /Users/felixmolter/.theano/compiledir_Darwin-17.7.0-x86_64-i386-64bit-i386-3.6.8-64/lock_dir\n",
      "INFO (theano.gof.compilelock): To manually release the lock, delete /Users/felixmolter/.theano/compiledir_Darwin-17.7.0-x86_64-i386-64bit-i386-3.6.8-64/lock_dir\n",
      "INFO (theano.gof.compilelock): Waiting for existing lock by process '73725' (I am process '73734')\n",
      "INFO (theano.gof.compilelock): To manually release the lock, delete /Users/felixmolter/.theano/compiledir_Darwin-17.7.0-x86_64-i386-64bit-i386-3.6.8-64/lock_dir\n",
      "INFO (theano.gof.compilelock): Waiting for existing lock by process '73714' (I am process '73720')\n",
      "INFO (theano.gof.compilelock): To manually release the lock, delete /Users/felixmolter/.theano/compiledir_Darwin-17.7.0-x86_64-i386-64bit-i386-3.6.8-64/lock_dir\n",
      "INFO (theano.gof.compilelock): Waiting for existing lock by process '73714' (I am process '73726')\n",
      "INFO (theano.gof.compilelock): To manually release the lock, delete /Users/felixmolter/.theano/compiledir_Darwin-17.7.0-x86_64-i386-64bit-i386-3.6.8-64/lock_dir\n",
      "Sequential sampling (2 chains in 1 job)\n",
      "CompoundStep\n",
      ">Metropolis: [tau_offset]\n",
      ">Metropolis: [tau_sd]\n",
      ">Metropolis: [tau_mu]\n",
      ">Metropolis: [s_offset]\n",
      ">Metropolis: [s_sd]\n",
      ">Metropolis: [s_mu]\n",
      ">Metropolis: [gamma_offset]\n",
      ">Metropolis: [gamma_sd]\n",
      ">Metropolis: [gamma_mu]\n",
      ">Metropolis: [v_offset]\n",
      ">Metropolis: [v_sd]\n",
      ">Metropolis: [v_mu]\n",
      "INFO (theano.gof.compilelock): Waiting for existing lock by process '73715' (I am process '73732')\n",
      "INFO (theano.gof.compilelock): To manually release the lock, delete /Users/felixmolter/.theano/compiledir_Darwin-17.7.0-x86_64-i386-64bit-i386-3.6.8-64/lock_dir\n",
      "INFO (theano.gof.compilelock): Waiting for existing lock by process '73715' (I am process '73734')\n",
      "INFO (theano.gof.compilelock): To manually release the lock, delete /Users/felixmolter/.theano/compiledir_Darwin-17.7.0-x86_64-i386-64bit-i386-3.6.8-64/lock_dir\n",
      "INFO (theano.gof.compilelock): Waiting for existing lock by unknown process (I am process '73717')\n",
      "INFO (theano.gof.compilelock): To manually release the lock, delete /Users/felixmolter/.theano/compiledir_Darwin-17.7.0-x86_64-i386-64bit-i386-3.6.8-64/lock_dir\n",
      "INFO (theano.gof.compilelock): Waiting for existing lock by process '73724' (I am process '73733')\n",
      "INFO (theano.gof.compilelock): Waiting for existing lock by process '73724' (I am process '73719')\n",
      "INFO (theano.gof.compilelock): Waiting for existing lock by process '73724' (I am process '73713')\n",
      "INFO (theano.gof.compilelock): Waiting for existing lock by process '73724' (I am process '73721')\n",
      "INFO (theano.gof.compilelock): To manually release the lock, delete /Users/felixmolter/.theano/compiledir_Darwin-17.7.0-x86_64-i386-64bit-i386-3.6.8-64/lock_dir\n",
      "INFO (theano.gof.compilelock): To manually release the lock, delete /Users/felixmolter/.theano/compiledir_Darwin-17.7.0-x86_64-i386-64bit-i386-3.6.8-64/lock_dir\n",
      "INFO (theano.gof.compilelock): To manually release the lock, delete /Users/felixmolter/.theano/compiledir_Darwin-17.7.0-x86_64-i386-64bit-i386-3.6.8-64/lock_dir\n",
      "INFO (theano.gof.compilelock): To manually release the lock, delete /Users/felixmolter/.theano/compiledir_Darwin-17.7.0-x86_64-i386-64bit-i386-3.6.8-64/lock_dir\n",
      "INFO (theano.gof.compilelock): Waiting for existing lock by process '73724' (I am process '73730')\n",
      "INFO (theano.gof.compilelock): To manually release the lock, delete /Users/felixmolter/.theano/compiledir_Darwin-17.7.0-x86_64-i386-64bit-i386-3.6.8-64/lock_dir\n",
      "INFO (theano.gof.compilelock): Waiting for existing lock by process '73724' (I am process '73718')\n",
      "INFO (theano.gof.compilelock): Waiting for existing lock by process '73724' (I am process '73729')\n",
      "INFO (theano.gof.compilelock): Waiting for existing lock by process '73724' (I am process '73731')\n",
      "INFO (theano.gof.compilelock): Waiting for existing lock by process '73724' (I am process '73727')\n",
      "INFO (theano.gof.compilelock): Waiting for existing lock by process '73724' (I am process '73722')\n",
      "INFO (theano.gof.compilelock): To manually release the lock, delete /Users/felixmolter/.theano/compiledir_Darwin-17.7.0-x86_64-i386-64bit-i386-3.6.8-64/lock_dir\n",
      "INFO (theano.gof.compilelock): To manually release the lock, delete /Users/felixmolter/.theano/compiledir_Darwin-17.7.0-x86_64-i386-64bit-i386-3.6.8-64/lock_dir\n",
      "INFO (theano.gof.compilelock): To manually release the lock, delete /Users/felixmolter/.theano/compiledir_Darwin-17.7.0-x86_64-i386-64bit-i386-3.6.8-64/lock_dir\n",
      "INFO (theano.gof.compilelock): To manually release the lock, delete /Users/felixmolter/.theano/compiledir_Darwin-17.7.0-x86_64-i386-64bit-i386-3.6.8-64/lock_dir\n",
      "INFO (theano.gof.compilelock): To manually release the lock, delete /Users/felixmolter/.theano/compiledir_Darwin-17.7.0-x86_64-i386-64bit-i386-3.6.8-64/lock_dir\n",
      "INFO (theano.gof.compilelock): Waiting for existing lock by process '73726' (I am process '73732')\n",
      "INFO (theano.gof.compilelock): To manually release the lock, delete /Users/felixmolter/.theano/compiledir_Darwin-17.7.0-x86_64-i386-64bit-i386-3.6.8-64/lock_dir\n",
      "INFO (theano.gof.compilelock): Waiting for existing lock by process '73786' (I am process '73717')\n",
      "INFO (theano.gof.compilelock): To manually release the lock, delete /Users/felixmolter/.theano/compiledir_Darwin-17.7.0-x86_64-i386-64bit-i386-3.6.8-64/lock_dir\n",
      "INFO (theano.gof.compilelock): Waiting for existing lock by unknown process (I am process '73713')\n"
     ]
    },
    {
     "name": "stderr",
     "output_type": "stream",
     "text": [
      "INFO (theano.gof.compilelock): Waiting for existing lock by unknown process (I am process '73719')\n",
      "INFO (theano.gof.compilelock): Waiting for existing lock by unknown process (I am process '73721')\n",
      "INFO (theano.gof.compilelock): To manually release the lock, delete /Users/felixmolter/.theano/compiledir_Darwin-17.7.0-x86_64-i386-64bit-i386-3.6.8-64/lock_dir\n",
      "INFO (theano.gof.compilelock): To manually release the lock, delete /Users/felixmolter/.theano/compiledir_Darwin-17.7.0-x86_64-i386-64bit-i386-3.6.8-64/lock_dir\n",
      "INFO (theano.gof.compilelock): To manually release the lock, delete /Users/felixmolter/.theano/compiledir_Darwin-17.7.0-x86_64-i386-64bit-i386-3.6.8-64/lock_dir\n",
      "INFO (theano.gof.compilelock): Waiting for existing lock by process '73733' (I am process '73730')\n",
      "INFO (theano.gof.compilelock): To manually release the lock, delete /Users/felixmolter/.theano/compiledir_Darwin-17.7.0-x86_64-i386-64bit-i386-3.6.8-64/lock_dir\n",
      "INFO (theano.gof.compilelock): Waiting for existing lock by process '73733' (I am process '73731')\n",
      "INFO (theano.gof.compilelock): Waiting for existing lock by process '73733' (I am process '73729')\n",
      "INFO (theano.gof.compilelock): Waiting for existing lock by process '73733' (I am process '73718')\n",
      "INFO (theano.gof.compilelock): Waiting for existing lock by process '73733' (I am process '73727')\n",
      "INFO (theano.gof.compilelock): Waiting for existing lock by process '73733' (I am process '73722')\n",
      "INFO (theano.gof.compilelock): To manually release the lock, delete /Users/felixmolter/.theano/compiledir_Darwin-17.7.0-x86_64-i386-64bit-i386-3.6.8-64/lock_dir\n",
      "INFO (theano.gof.compilelock): To manually release the lock, delete /Users/felixmolter/.theano/compiledir_Darwin-17.7.0-x86_64-i386-64bit-i386-3.6.8-64/lock_dir\n",
      "INFO (theano.gof.compilelock): To manually release the lock, delete /Users/felixmolter/.theano/compiledir_Darwin-17.7.0-x86_64-i386-64bit-i386-3.6.8-64/lock_dir\n",
      "INFO (theano.gof.compilelock): To manually release the lock, delete /Users/felixmolter/.theano/compiledir_Darwin-17.7.0-x86_64-i386-64bit-i386-3.6.8-64/lock_dir\n",
      "INFO (theano.gof.compilelock): To manually release the lock, delete /Users/felixmolter/.theano/compiledir_Darwin-17.7.0-x86_64-i386-64bit-i386-3.6.8-64/lock_dir\n",
      "INFO (theano.gof.compilelock): Waiting for existing lock by process '73733' (I am process '73724')\n",
      "INFO (theano.gof.compilelock): To manually release the lock, delete /Users/felixmolter/.theano/compiledir_Darwin-17.7.0-x86_64-i386-64bit-i386-3.6.8-64/lock_dir\n",
      "INFO (theano.gof.compilelock): Waiting for existing lock by process '73733' (I am process '73728')\n",
      "INFO (theano.gof.compilelock): To manually release the lock, delete /Users/felixmolter/.theano/compiledir_Darwin-17.7.0-x86_64-i386-64bit-i386-3.6.8-64/lock_dir\n",
      "INFO (theano.gof.compilelock): Waiting for existing lock by process '73733' (I am process '73714')\n",
      "INFO (theano.gof.compilelock): To manually release the lock, delete /Users/felixmolter/.theano/compiledir_Darwin-17.7.0-x86_64-i386-64bit-i386-3.6.8-64/lock_dir\n",
      "INFO (theano.gof.compilelock): Waiting for existing lock by process '73720' (I am process '73726')\n",
      "INFO (theano.gof.compilelock): To manually release the lock, delete /Users/felixmolter/.theano/compiledir_Darwin-17.7.0-x86_64-i386-64bit-i386-3.6.8-64/lock_dir\n",
      "INFO (theano.gof.compilelock): Waiting for existing lock by process '73715' (I am process '73732')\n",
      "INFO (theano.gof.compilelock): To manually release the lock, delete /Users/felixmolter/.theano/compiledir_Darwin-17.7.0-x86_64-i386-64bit-i386-3.6.8-64/lock_dir\n",
      "INFO (theano.gof.compilelock): Waiting for existing lock by process '73717' (I am process '73713')\n",
      "INFO (theano.gof.compilelock): Waiting for existing lock by process '73717' (I am process '73721')\n",
      "INFO (theano.gof.compilelock): Waiting for existing lock by process '73717' (I am process '73719')\n",
      "INFO (theano.gof.compilelock): To manually release the lock, delete /Users/felixmolter/.theano/compiledir_Darwin-17.7.0-x86_64-i386-64bit-i386-3.6.8-64/lock_dir\n",
      "INFO (theano.gof.compilelock): To manually release the lock, delete /Users/felixmolter/.theano/compiledir_Darwin-17.7.0-x86_64-i386-64bit-i386-3.6.8-64/lock_dir\n",
      "INFO (theano.gof.compilelock): To manually release the lock, delete /Users/felixmolter/.theano/compiledir_Darwin-17.7.0-x86_64-i386-64bit-i386-3.6.8-64/lock_dir\n",
      "INFO (theano.gof.compilelock): Waiting for existing lock by process '73717' (I am process '73730')\n",
      "INFO (theano.gof.compilelock): To manually release the lock, delete /Users/felixmolter/.theano/compiledir_Darwin-17.7.0-x86_64-i386-64bit-i386-3.6.8-64/lock_dir\n",
      "INFO (theano.gof.compilelock): Waiting for existing lock by process '73717' (I am process '73729')\n",
      "INFO (theano.gof.compilelock): Waiting for existing lock by process '73717' (I am process '73718')\n",
      "INFO (theano.gof.compilelock): Waiting for existing lock by process '73717' (I am process '73731')\n",
      "INFO (theano.gof.compilelock): Waiting for existing lock by process '73717' (I am process '73722')\n",
      "INFO (theano.gof.compilelock): Waiting for existing lock by process '73717' (I am process '73727')\n",
      "INFO (theano.gof.compilelock): To manually release the lock, delete /Users/felixmolter/.theano/compiledir_Darwin-17.7.0-x86_64-i386-64bit-i386-3.6.8-64/lock_dir\n",
      "INFO (theano.gof.compilelock): To manually release the lock, delete /Users/felixmolter/.theano/compiledir_Darwin-17.7.0-x86_64-i386-64bit-i386-3.6.8-64/lock_dir\n",
      "INFO (theano.gof.compilelock): To manually release the lock, delete /Users/felixmolter/.theano/compiledir_Darwin-17.7.0-x86_64-i386-64bit-i386-3.6.8-64/lock_dir\n",
      "INFO (theano.gof.compilelock): To manually release the lock, delete /Users/felixmolter/.theano/compiledir_Darwin-17.7.0-x86_64-i386-64bit-i386-3.6.8-64/lock_dir\n",
      "INFO (theano.gof.compilelock): To manually release the lock, delete /Users/felixmolter/.theano/compiledir_Darwin-17.7.0-x86_64-i386-64bit-i386-3.6.8-64/lock_dir\n",
      "INFO (theano.gof.compilelock): Waiting for existing lock by process '73717' (I am process '73733')\n",
      "INFO (theano.gof.compilelock): To manually release the lock, delete /Users/felixmolter/.theano/compiledir_Darwin-17.7.0-x86_64-i386-64bit-i386-3.6.8-64/lock_dir\n",
      "INFO (theano.gof.compilelock): Waiting for existing lock by process '73717' (I am process '73728')\n",
      "INFO (theano.gof.compilelock): To manually release the lock, delete /Users/felixmolter/.theano/compiledir_Darwin-17.7.0-x86_64-i386-64bit-i386-3.6.8-64/lock_dir\n",
      "INFO (theano.gof.compilelock): Waiting for existing lock by unknown process (I am process '73726')\n",
      "INFO (theano.gof.compilelock): To manually release the lock, delete /Users/felixmolter/.theano/compiledir_Darwin-17.7.0-x86_64-i386-64bit-i386-3.6.8-64/lock_dir\n",
      "INFO (theano.gof.compilelock): Waiting for existing lock by process '73724' (I am process '73719')\n",
      "INFO (theano.gof.compilelock): Waiting for existing lock by process '73724' (I am process '73721')\n",
      "INFO (theano.gof.compilelock): Waiting for existing lock by process '73724' (I am process '73713')\n",
      "INFO (theano.gof.compilelock): To manually release the lock, delete /Users/felixmolter/.theano/compiledir_Darwin-17.7.0-x86_64-i386-64bit-i386-3.6.8-64/lock_dir\n",
      "INFO (theano.gof.compilelock): To manually release the lock, delete /Users/felixmolter/.theano/compiledir_Darwin-17.7.0-x86_64-i386-64bit-i386-3.6.8-64/lock_dir\n",
      "INFO (theano.gof.compilelock): To manually release the lock, delete /Users/felixmolter/.theano/compiledir_Darwin-17.7.0-x86_64-i386-64bit-i386-3.6.8-64/lock_dir\n",
      "INFO (theano.gof.compilelock): Waiting for existing lock by process '73724' (I am process '73730')\n",
      "INFO (theano.gof.compilelock): To manually release the lock, delete /Users/felixmolter/.theano/compiledir_Darwin-17.7.0-x86_64-i386-64bit-i386-3.6.8-64/lock_dir\n",
      "INFO (theano.gof.compilelock): Waiting for existing lock by process '73724' (I am process '73729')\n",
      "INFO (theano.gof.compilelock): Waiting for existing lock by process '73724' (I am process '73718')\n",
      "INFO (theano.gof.compilelock): Waiting for existing lock by process '73724' (I am process '73731')\n",
      "INFO (theano.gof.compilelock): Waiting for existing lock by process '73724' (I am process '73727')\n",
      "INFO (theano.gof.compilelock): Waiting for existing lock by process '73724' (I am process '73722')\n"
     ]
    },
    {
     "name": "stderr",
     "output_type": "stream",
     "text": [
      "INFO (theano.gof.compilelock): To manually release the lock, delete /Users/felixmolter/.theano/compiledir_Darwin-17.7.0-x86_64-i386-64bit-i386-3.6.8-64/lock_dir\n",
      "INFO (theano.gof.compilelock): To manually release the lock, delete /Users/felixmolter/.theano/compiledir_Darwin-17.7.0-x86_64-i386-64bit-i386-3.6.8-64/lock_dir\n",
      "INFO (theano.gof.compilelock): To manually release the lock, delete /Users/felixmolter/.theano/compiledir_Darwin-17.7.0-x86_64-i386-64bit-i386-3.6.8-64/lock_dir\n",
      "INFO (theano.gof.compilelock): To manually release the lock, delete /Users/felixmolter/.theano/compiledir_Darwin-17.7.0-x86_64-i386-64bit-i386-3.6.8-64/lock_dir\n",
      "INFO (theano.gof.compilelock): To manually release the lock, delete /Users/felixmolter/.theano/compiledir_Darwin-17.7.0-x86_64-i386-64bit-i386-3.6.8-64/lock_dir\n",
      "INFO (theano.gof.compilelock): Waiting for existing lock by process '73724' (I am process '73734')\n",
      "INFO (theano.gof.compilelock): To manually release the lock, delete /Users/felixmolter/.theano/compiledir_Darwin-17.7.0-x86_64-i386-64bit-i386-3.6.8-64/lock_dir\n",
      "INFO (theano.gof.compilelock): Waiting for existing lock by process '73724' (I am process '73720')\n",
      "INFO (theano.gof.compilelock): To manually release the lock, delete /Users/felixmolter/.theano/compiledir_Darwin-17.7.0-x86_64-i386-64bit-i386-3.6.8-64/lock_dir\n",
      "INFO (theano.gof.compilelock): Waiting for existing lock by process '73724' (I am process '73728')\n",
      "INFO (theano.gof.compilelock): To manually release the lock, delete /Users/felixmolter/.theano/compiledir_Darwin-17.7.0-x86_64-i386-64bit-i386-3.6.8-64/lock_dir\n",
      "INFO (theano.gof.compilelock): Waiting for existing lock by process '73724' (I am process '73733')\n",
      "INFO (theano.gof.compilelock): To manually release the lock, delete /Users/felixmolter/.theano/compiledir_Darwin-17.7.0-x86_64-i386-64bit-i386-3.6.8-64/lock_dir\n"
     ]
    },
    {
     "name": "stdout",
     "output_type": "stream",
     "text": [
      "Fitting 1 model(s) using MCMC...\n",
      "  Fitting model 1 of 1...\n"
     ]
    },
    {
     "name": "stderr",
     "output_type": "stream",
     "text": [
      "INFO (theano.gof.compilelock): Waiting for existing lock by process '73717' (I am process '73726')\n",
      "INFO (theano.gof.compilelock): To manually release the lock, delete /Users/felixmolter/.theano/compiledir_Darwin-17.7.0-x86_64-i386-64bit-i386-3.6.8-64/lock_dir\n",
      "INFO (theano.gof.compilelock): Waiting for existing lock by process '73717' (I am process '73732')\n",
      "INFO (theano.gof.compilelock): To manually release the lock, delete /Users/felixmolter/.theano/compiledir_Darwin-17.7.0-x86_64-i386-64bit-i386-3.6.8-64/lock_dir\n",
      "INFO (theano.gof.compilelock): Waiting for existing lock by unknown process (I am process '73721')\n",
      "INFO (theano.gof.compilelock): Waiting for existing lock by unknown process (I am process '73719')\n",
      "INFO (theano.gof.compilelock): To manually release the lock, delete /Users/felixmolter/.theano/compiledir_Darwin-17.7.0-x86_64-i386-64bit-i386-3.6.8-64/lock_dir\n",
      "INFO (theano.gof.compilelock): To manually release the lock, delete /Users/felixmolter/.theano/compiledir_Darwin-17.7.0-x86_64-i386-64bit-i386-3.6.8-64/lock_dir\n",
      "INFO (theano.gof.compilelock): Waiting for existing lock by process '73713' (I am process '73730')\n",
      "INFO (theano.gof.compilelock): To manually release the lock, delete /Users/felixmolter/.theano/compiledir_Darwin-17.7.0-x86_64-i386-64bit-i386-3.6.8-64/lock_dir\n",
      "INFO (theano.gof.compilelock): Waiting for existing lock by process '73713' (I am process '73729')\n",
      "INFO (theano.gof.compilelock): Waiting for existing lock by process '73713' (I am process '73731')\n",
      "INFO (theano.gof.compilelock): Waiting for existing lock by process '73713' (I am process '73718')\n",
      "INFO (theano.gof.compilelock): Waiting for existing lock by process '73713' (I am process '73722')\n",
      "INFO (theano.gof.compilelock): Waiting for existing lock by process '73713' (I am process '73727')\n",
      "INFO (theano.gof.compilelock): To manually release the lock, delete /Users/felixmolter/.theano/compiledir_Darwin-17.7.0-x86_64-i386-64bit-i386-3.6.8-64/lock_dir\n",
      "INFO (theano.gof.compilelock): To manually release the lock, delete /Users/felixmolter/.theano/compiledir_Darwin-17.7.0-x86_64-i386-64bit-i386-3.6.8-64/lock_dir\n",
      "INFO (theano.gof.compilelock): To manually release the lock, delete /Users/felixmolter/.theano/compiledir_Darwin-17.7.0-x86_64-i386-64bit-i386-3.6.8-64/lock_dir\n",
      "INFO (theano.gof.compilelock): To manually release the lock, delete /Users/felixmolter/.theano/compiledir_Darwin-17.7.0-x86_64-i386-64bit-i386-3.6.8-64/lock_dir\n",
      "INFO (theano.gof.compilelock): To manually release the lock, delete /Users/felixmolter/.theano/compiledir_Darwin-17.7.0-x86_64-i386-64bit-i386-3.6.8-64/lock_dir\n",
      "INFO (theano.gof.compilelock): Waiting for existing lock by process '73713' (I am process '73728')\n",
      "INFO (theano.gof.compilelock): To manually release the lock, delete /Users/felixmolter/.theano/compiledir_Darwin-17.7.0-x86_64-i386-64bit-i386-3.6.8-64/lock_dir\n",
      "INFO (theano.gof.compilelock): Waiting for existing lock by process '73713' (I am process '73726')\n",
      "INFO (theano.gof.compilelock): To manually release the lock, delete /Users/felixmolter/.theano/compiledir_Darwin-17.7.0-x86_64-i386-64bit-i386-3.6.8-64/lock_dir\n",
      "INFO (theano.gof.compilelock): Waiting for existing lock by process '73713' (I am process '73720')\n",
      "INFO (theano.gof.compilelock): To manually release the lock, delete /Users/felixmolter/.theano/compiledir_Darwin-17.7.0-x86_64-i386-64bit-i386-3.6.8-64/lock_dir\n",
      "INFO (theano.gof.compilelock): Waiting for existing lock by process '73713' (I am process '73715')\n",
      "INFO (theano.gof.compilelock): To manually release the lock, delete /Users/felixmolter/.theano/compiledir_Darwin-17.7.0-x86_64-i386-64bit-i386-3.6.8-64/lock_dir\n",
      "INFO (theano.gof.compilelock): Waiting for existing lock by process '73713' (I am process '73734')\n",
      "INFO (theano.gof.compilelock): To manually release the lock, delete /Users/felixmolter/.theano/compiledir_Darwin-17.7.0-x86_64-i386-64bit-i386-3.6.8-64/lock_dir\n",
      "INFO (theano.gof.compilelock): Waiting for existing lock by process '73713' (I am process '73733')\n",
      "INFO (theano.gof.compilelock): To manually release the lock, delete /Users/felixmolter/.theano/compiledir_Darwin-17.7.0-x86_64-i386-64bit-i386-3.6.8-64/lock_dir\n"
     ]
    },
    {
     "name": "stdout",
     "output_type": "stream",
     "text": [
      "Fitting 1 model(s) using MCMC...\n",
      "  Fitting model 1 of 1...\n"
     ]
    },
    {
     "name": "stderr",
     "output_type": "stream",
     "text": [
      "INFO (theano.gof.compilelock): Waiting for existing lock by process '73786' (I am process '73726')\n",
      "INFO (theano.gof.compilelock): To manually release the lock, delete /Users/felixmolter/.theano/compiledir_Darwin-17.7.0-x86_64-i386-64bit-i386-3.6.8-64/lock_dir\n",
      "INFO (theano.gof.compilelock): Waiting for existing lock by process '73786' (I am process '73714')\n",
      "INFO (theano.gof.compilelock): To manually release the lock, delete /Users/felixmolter/.theano/compiledir_Darwin-17.7.0-x86_64-i386-64bit-i386-3.6.8-64/lock_dir\n",
      "INFO (theano.gof.compilelock): Waiting for existing lock by process '73786' (I am process '73732')\n",
      "INFO (theano.gof.compilelock): To manually release the lock, delete /Users/felixmolter/.theano/compiledir_Darwin-17.7.0-x86_64-i386-64bit-i386-3.6.8-64/lock_dir\n",
      "INFO (theano.gof.compilelock): Waiting for existing lock by process '73733' (I am process '73720')\n",
      "INFO (theano.gof.compilelock): To manually release the lock, delete /Users/felixmolter/.theano/compiledir_Darwin-17.7.0-x86_64-i386-64bit-i386-3.6.8-64/lock_dir\n",
      "INFO (theano.gof.compilelock): Waiting for existing lock by process '73733' (I am process '73717')\n",
      "INFO (theano.gof.compilelock): To manually release the lock, delete /Users/felixmolter/.theano/compiledir_Darwin-17.7.0-x86_64-i386-64bit-i386-3.6.8-64/lock_dir\n",
      "INFO (theano.gof.compilelock): Waiting for existing lock by process '73733' (I am process '73724')\n",
      "INFO (theano.gof.compilelock): To manually release the lock, delete /Users/felixmolter/.theano/compiledir_Darwin-17.7.0-x86_64-i386-64bit-i386-3.6.8-64/lock_dir\n",
      "INFO (theano.gof.compilelock): Waiting for existing lock by process '73733' (I am process '73721')\n",
      "INFO (theano.gof.compilelock): Waiting for existing lock by process '73733' (I am process '73719')\n",
      "INFO (theano.gof.compilelock): To manually release the lock, delete /Users/felixmolter/.theano/compiledir_Darwin-17.7.0-x86_64-i386-64bit-i386-3.6.8-64/lock_dir\n",
      "INFO (theano.gof.compilelock): To manually release the lock, delete /Users/felixmolter/.theano/compiledir_Darwin-17.7.0-x86_64-i386-64bit-i386-3.6.8-64/lock_dir\n",
      "INFO (theano.gof.compilelock): Waiting for existing lock by process '73733' (I am process '73730')\n",
      "INFO (theano.gof.compilelock): To manually release the lock, delete /Users/felixmolter/.theano/compiledir_Darwin-17.7.0-x86_64-i386-64bit-i386-3.6.8-64/lock_dir\n",
      "INFO (theano.gof.compilelock): Waiting for existing lock by process '73733' (I am process '73729')\n",
      "INFO (theano.gof.compilelock): Waiting for existing lock by process '73733' (I am process '73731')\n",
      "INFO (theano.gof.compilelock): Waiting for existing lock by process '73733' (I am process '73718')\n",
      "INFO (theano.gof.compilelock): Waiting for existing lock by process '73733' (I am process '73727')\n",
      "INFO (theano.gof.compilelock): Waiting for existing lock by process '73733' (I am process '73722')\n",
      "INFO (theano.gof.compilelock): To manually release the lock, delete /Users/felixmolter/.theano/compiledir_Darwin-17.7.0-x86_64-i386-64bit-i386-3.6.8-64/lock_dir\n",
      "INFO (theano.gof.compilelock): To manually release the lock, delete /Users/felixmolter/.theano/compiledir_Darwin-17.7.0-x86_64-i386-64bit-i386-3.6.8-64/lock_dir\n",
      "INFO (theano.gof.compilelock): To manually release the lock, delete /Users/felixmolter/.theano/compiledir_Darwin-17.7.0-x86_64-i386-64bit-i386-3.6.8-64/lock_dir\n",
      "INFO (theano.gof.compilelock): To manually release the lock, delete /Users/felixmolter/.theano/compiledir_Darwin-17.7.0-x86_64-i386-64bit-i386-3.6.8-64/lock_dir\n",
      "INFO (theano.gof.compilelock): To manually release the lock, delete /Users/felixmolter/.theano/compiledir_Darwin-17.7.0-x86_64-i386-64bit-i386-3.6.8-64/lock_dir\n",
      "INFO (theano.gof.compilelock): Waiting for existing lock by process '73733' (I am process '73728')\n",
      "INFO (theano.gof.compilelock): To manually release the lock, delete /Users/felixmolter/.theano/compiledir_Darwin-17.7.0-x86_64-i386-64bit-i386-3.6.8-64/lock_dir\n",
      "INFO (theano.gof.compilelock): Waiting for existing lock by process '73733' (I am process '73715')\n",
      "INFO (theano.gof.compilelock): To manually release the lock, delete /Users/felixmolter/.theano/compiledir_Darwin-17.7.0-x86_64-i386-64bit-i386-3.6.8-64/lock_dir\n",
      "INFO (theano.gof.compilelock): Waiting for existing lock by process '73733' (I am process '73734')\n",
      "INFO (theano.gof.compilelock): To manually release the lock, delete /Users/felixmolter/.theano/compiledir_Darwin-17.7.0-x86_64-i386-64bit-i386-3.6.8-64/lock_dir\n"
     ]
    },
    {
     "name": "stdout",
     "output_type": "stream",
     "text": [
      "Fitting 1 model(s) using MCMC...\n",
      "  Fitting model 1 of 1...\n"
     ]
    },
    {
     "name": "stderr",
     "output_type": "stream",
     "text": [
      "INFO (theano.gof.compilelock): Waiting for existing lock by process '73733' (I am process '73717')\n",
      "INFO (theano.gof.compilelock): To manually release the lock, delete /Users/felixmolter/.theano/compiledir_Darwin-17.7.0-x86_64-i386-64bit-i386-3.6.8-64/lock_dir\n",
      "INFO (theano.gof.compilelock): Waiting for existing lock by process '73733' (I am process '73721')\n",
      "INFO (theano.gof.compilelock): Waiting for existing lock by process '73733' (I am process '73719')\n",
      "INFO (theano.gof.compilelock): Waiting for existing lock by process '73733' (I am process '73730')\n",
      "INFO (theano.gof.compilelock): To manually release the lock, delete /Users/felixmolter/.theano/compiledir_Darwin-17.7.0-x86_64-i386-64bit-i386-3.6.8-64/lock_dir\n",
      "INFO (theano.gof.compilelock): To manually release the lock, delete /Users/felixmolter/.theano/compiledir_Darwin-17.7.0-x86_64-i386-64bit-i386-3.6.8-64/lock_dir\n",
      "INFO (theano.gof.compilelock): To manually release the lock, delete /Users/felixmolter/.theano/compiledir_Darwin-17.7.0-x86_64-i386-64bit-i386-3.6.8-64/lock_dir\n",
      "INFO (theano.gof.compilelock): Waiting for existing lock by process '73733' (I am process '73718')\n",
      "INFO (theano.gof.compilelock): Waiting for existing lock by process '73733' (I am process '73731')\n",
      "INFO (theano.gof.compilelock): Waiting for existing lock by process '73733' (I am process '73729')\n",
      "INFO (theano.gof.compilelock): Waiting for existing lock by process '73733' (I am process '73727')\n",
      "INFO (theano.gof.compilelock): To manually release the lock, delete /Users/felixmolter/.theano/compiledir_Darwin-17.7.0-x86_64-i386-64bit-i386-3.6.8-64/lock_dir\n",
      "INFO (theano.gof.compilelock): Waiting for existing lock by process '73733' (I am process '73722')\n",
      "INFO (theano.gof.compilelock): To manually release the lock, delete /Users/felixmolter/.theano/compiledir_Darwin-17.7.0-x86_64-i386-64bit-i386-3.6.8-64/lock_dir\n",
      "INFO (theano.gof.compilelock): To manually release the lock, delete /Users/felixmolter/.theano/compiledir_Darwin-17.7.0-x86_64-i386-64bit-i386-3.6.8-64/lock_dir\n",
      "INFO (theano.gof.compilelock): To manually release the lock, delete /Users/felixmolter/.theano/compiledir_Darwin-17.7.0-x86_64-i386-64bit-i386-3.6.8-64/lock_dir\n",
      "INFO (theano.gof.compilelock): To manually release the lock, delete /Users/felixmolter/.theano/compiledir_Darwin-17.7.0-x86_64-i386-64bit-i386-3.6.8-64/lock_dir\n",
      "INFO (theano.gof.compilelock): Waiting for existing lock by process '73733' (I am process '73714')\n",
      "INFO (theano.gof.compilelock): To manually release the lock, delete /Users/felixmolter/.theano/compiledir_Darwin-17.7.0-x86_64-i386-64bit-i386-3.6.8-64/lock_dir\n",
      "INFO (theano.gof.compilelock): Waiting for existing lock by process '73733' (I am process '73728')\n",
      "INFO (theano.gof.compilelock): To manually release the lock, delete /Users/felixmolter/.theano/compiledir_Darwin-17.7.0-x86_64-i386-64bit-i386-3.6.8-64/lock_dir\n",
      "INFO (theano.gof.compilelock): Waiting for existing lock by process '73733' (I am process '73720')\n",
      "INFO (theano.gof.compilelock): To manually release the lock, delete /Users/felixmolter/.theano/compiledir_Darwin-17.7.0-x86_64-i386-64bit-i386-3.6.8-64/lock_dir\n",
      "INFO (theano.gof.compilelock): Waiting for existing lock by process '73733' (I am process '73734')\n",
      "INFO (theano.gof.compilelock): To manually release the lock, delete /Users/felixmolter/.theano/compiledir_Darwin-17.7.0-x86_64-i386-64bit-i386-3.6.8-64/lock_dir\n",
      "INFO (theano.gof.compilelock): Waiting for existing lock by process '73732' (I am process '73726')\n",
      "INFO (theano.gof.compilelock): To manually release the lock, delete /Users/felixmolter/.theano/compiledir_Darwin-17.7.0-x86_64-i386-64bit-i386-3.6.8-64/lock_dir\n",
      "INFO (theano.gof.compilelock): Waiting for existing lock by process '73732' (I am process '73715')\n",
      "INFO (theano.gof.compilelock): To manually release the lock, delete /Users/felixmolter/.theano/compiledir_Darwin-17.7.0-x86_64-i386-64bit-i386-3.6.8-64/lock_dir\n",
      "INFO (theano.gof.compilelock): Waiting for existing lock by process '73732' (I am process '73713')\n",
      "INFO (theano.gof.compilelock): To manually release the lock, delete /Users/felixmolter/.theano/compiledir_Darwin-17.7.0-x86_64-i386-64bit-i386-3.6.8-64/lock_dir\n",
      "INFO (theano.gof.compilelock): Waiting for existing lock by process '73732' (I am process '73724')\n",
      "INFO (theano.gof.compilelock): To manually release the lock, delete /Users/felixmolter/.theano/compiledir_Darwin-17.7.0-x86_64-i386-64bit-i386-3.6.8-64/lock_dir\n",
      "INFO (theano.gof.compilelock): Waiting for existing lock by unknown process (I am process '73730')\n",
      "INFO (theano.gof.compilelock): Waiting for existing lock by unknown process (I am process '73721')\n",
      "INFO (theano.gof.compilelock): To manually release the lock, delete /Users/felixmolter/.theano/compiledir_Darwin-17.7.0-x86_64-i386-64bit-i386-3.6.8-64/lock_dir\n",
      "INFO (theano.gof.compilelock): To manually release the lock, delete /Users/felixmolter/.theano/compiledir_Darwin-17.7.0-x86_64-i386-64bit-i386-3.6.8-64/lock_dir\n",
      "INFO (theano.gof.compilelock): Waiting for existing lock by process '73719' (I am process '73718')\n",
      "INFO (theano.gof.compilelock): Waiting for existing lock by process '73719' (I am process '73729')\n",
      "INFO (theano.gof.compilelock): Waiting for existing lock by process '73719' (I am process '73731')\n",
      "INFO (theano.gof.compilelock): Waiting for existing lock by process '73719' (I am process '73722')\n",
      "INFO (theano.gof.compilelock): Waiting for existing lock by process '73719' (I am process '73727')\n",
      "INFO (theano.gof.compilelock): To manually release the lock, delete /Users/felixmolter/.theano/compiledir_Darwin-17.7.0-x86_64-i386-64bit-i386-3.6.8-64/lock_dir\n",
      "INFO (theano.gof.compilelock): To manually release the lock, delete /Users/felixmolter/.theano/compiledir_Darwin-17.7.0-x86_64-i386-64bit-i386-3.6.8-64/lock_dir\n",
      "INFO (theano.gof.compilelock): To manually release the lock, delete /Users/felixmolter/.theano/compiledir_Darwin-17.7.0-x86_64-i386-64bit-i386-3.6.8-64/lock_dir\n",
      "INFO (theano.gof.compilelock): To manually release the lock, delete /Users/felixmolter/.theano/compiledir_Darwin-17.7.0-x86_64-i386-64bit-i386-3.6.8-64/lock_dir\n",
      "INFO (theano.gof.compilelock): To manually release the lock, delete /Users/felixmolter/.theano/compiledir_Darwin-17.7.0-x86_64-i386-64bit-i386-3.6.8-64/lock_dir\n",
      "INFO (theano.gof.compilelock): Waiting for existing lock by process '73719' (I am process '73734')\n",
      "INFO (theano.gof.compilelock): To manually release the lock, delete /Users/felixmolter/.theano/compiledir_Darwin-17.7.0-x86_64-i386-64bit-i386-3.6.8-64/lock_dir\n",
      "INFO (theano.gof.compilelock): Waiting for existing lock by process '73719' (I am process '73720')\n",
      "INFO (theano.gof.compilelock): To manually release the lock, delete /Users/felixmolter/.theano/compiledir_Darwin-17.7.0-x86_64-i386-64bit-i386-3.6.8-64/lock_dir\n"
     ]
    },
    {
     "name": "stdout",
     "output_type": "stream",
     "text": [
      "Fitting 1 model(s) using MCMC...\n",
      "  Fitting model 1 of 1...\n"
     ]
    },
    {
     "name": "stderr",
     "output_type": "stream",
     "text": [
      "INFO (theano.gof.compilelock): Waiting for existing lock by process '73714' (I am process '73726')\n",
      "INFO (theano.gof.compilelock): To manually release the lock, delete /Users/felixmolter/.theano/compiledir_Darwin-17.7.0-x86_64-i386-64bit-i386-3.6.8-64/lock_dir\n",
      "INFO (theano.gof.compilelock): Waiting for existing lock by process '73728' (I am process '73715')\n",
      "INFO (theano.gof.compilelock): To manually release the lock, delete /Users/felixmolter/.theano/compiledir_Darwin-17.7.0-x86_64-i386-64bit-i386-3.6.8-64/lock_dir\n",
      "INFO (theano.gof.compilelock): Waiting for existing lock by process '73728' (I am process '73713')\n",
      "INFO (theano.gof.compilelock): To manually release the lock, delete /Users/felixmolter/.theano/compiledir_Darwin-17.7.0-x86_64-i386-64bit-i386-3.6.8-64/lock_dir\n",
      "INFO (theano.gof.compilelock): Waiting for existing lock by process '73728' (I am process '73724')\n",
      "INFO (theano.gof.compilelock): To manually release the lock, delete /Users/felixmolter/.theano/compiledir_Darwin-17.7.0-x86_64-i386-64bit-i386-3.6.8-64/lock_dir\n",
      "INFO (theano.gof.compilelock): Waiting for existing lock by unknown process (I am process '73730')\n",
      "INFO (theano.gof.compilelock): To manually release the lock, delete /Users/felixmolter/.theano/compiledir_Darwin-17.7.0-x86_64-i386-64bit-i386-3.6.8-64/lock_dir\n",
      "INFO (theano.gof.compilelock): Waiting for existing lock by process '73721' (I am process '73727')\n",
      "INFO (theano.gof.compilelock): Waiting for existing lock by process '73721' (I am process '73731')\n",
      "INFO (theano.gof.compilelock): Waiting for existing lock by process '73721' (I am process '73729')\n",
      "INFO (theano.gof.compilelock): Waiting for existing lock by process '73721' (I am process '73718')\n",
      "INFO (theano.gof.compilelock): Waiting for existing lock by process '73721' (I am process '73722')\n",
      "INFO (theano.gof.compilelock): To manually release the lock, delete /Users/felixmolter/.theano/compiledir_Darwin-17.7.0-x86_64-i386-64bit-i386-3.6.8-64/lock_dir\n",
      "INFO (theano.gof.compilelock): To manually release the lock, delete /Users/felixmolter/.theano/compiledir_Darwin-17.7.0-x86_64-i386-64bit-i386-3.6.8-64/lock_dir\n",
      "INFO (theano.gof.compilelock): To manually release the lock, delete /Users/felixmolter/.theano/compiledir_Darwin-17.7.0-x86_64-i386-64bit-i386-3.6.8-64/lock_dir\n",
      "INFO (theano.gof.compilelock): To manually release the lock, delete /Users/felixmolter/.theano/compiledir_Darwin-17.7.0-x86_64-i386-64bit-i386-3.6.8-64/lock_dir\n",
      "INFO (theano.gof.compilelock): To manually release the lock, delete /Users/felixmolter/.theano/compiledir_Darwin-17.7.0-x86_64-i386-64bit-i386-3.6.8-64/lock_dir\n",
      "Sequential sampling (2 chains in 1 job)\n",
      "CompoundStep\n",
      ">Metropolis: [tau_offset]\n",
      ">Metropolis: [tau_sd]\n",
      ">Metropolis: [tau_mu]\n",
      ">Metropolis: [s_offset]\n",
      ">Metropolis: [s_sd]\n",
      ">Metropolis: [s_mu]\n",
      ">Metropolis: [gamma_offset]\n",
      ">Metropolis: [gamma_sd]\n",
      ">Metropolis: [gamma_mu]\n",
      ">Metropolis: [v_offset]\n",
      ">Metropolis: [v_sd]\n",
      ">Metropolis: [v_mu]\n",
      "INFO (theano.gof.compilelock): Waiting for existing lock by process '73714' (I am process '73720')\n",
      "INFO (theano.gof.compilelock): To manually release the lock, delete /Users/felixmolter/.theano/compiledir_Darwin-17.7.0-x86_64-i386-64bit-i386-3.6.8-64/lock_dir\n",
      "Sequential sampling (2 chains in 1 job)\n",
      "CompoundStep\n",
      ">Metropolis: [tau_offset]\n",
      ">Metropolis: [tau_sd]\n",
      ">Metropolis: [tau_mu]\n",
      ">Metropolis: [s_offset]\n",
      ">Metropolis: [s_sd]\n",
      ">Metropolis: [s_mu]\n",
      ">Metropolis: [gamma_offset]\n",
      ">Metropolis: [gamma_sd]\n",
      ">Metropolis: [gamma_mu]\n",
      ">Metropolis: [v_offset]\n",
      ">Metropolis: [v_sd]\n",
      ">Metropolis: [v_mu]\n",
      "INFO (theano.gof.compilelock): Waiting for existing lock by process '73734' (I am process '73732')\n",
      "INFO (theano.gof.compilelock): To manually release the lock, delete /Users/felixmolter/.theano/compiledir_Darwin-17.7.0-x86_64-i386-64bit-i386-3.6.8-64/lock_dir\n",
      "INFO (theano.gof.compilelock): Waiting for existing lock by process '73734' (I am process '73733')\n",
      "INFO (theano.gof.compilelock): To manually release the lock, delete /Users/felixmolter/.theano/compiledir_Darwin-17.7.0-x86_64-i386-64bit-i386-3.6.8-64/lock_dir\n",
      "INFO (theano.gof.compilelock): Waiting for existing lock by process '73726' (I am process '73713')\n",
      "INFO (theano.gof.compilelock): To manually release the lock, delete /Users/felixmolter/.theano/compiledir_Darwin-17.7.0-x86_64-i386-64bit-i386-3.6.8-64/lock_dir\n",
      "INFO (theano.gof.compilelock): Waiting for existing lock by process '73726' (I am process '73724')\n",
      "INFO (theano.gof.compilelock): To manually release the lock, delete /Users/felixmolter/.theano/compiledir_Darwin-17.7.0-x86_64-i386-64bit-i386-3.6.8-64/lock_dir\n",
      "INFO (theano.gof.compilelock): Waiting for existing lock by process '73726' (I am process '73715')\n",
      "INFO (theano.gof.compilelock): To manually release the lock, delete /Users/felixmolter/.theano/compiledir_Darwin-17.7.0-x86_64-i386-64bit-i386-3.6.8-64/lock_dir\n"
     ]
    },
    {
     "name": "stdout",
     "output_type": "stream",
     "text": [
      "Fitting 1 model(s) using MCMC...\n",
      "  Fitting model 1 of 1...\n"
     ]
    },
    {
     "name": "stderr",
     "output_type": "stream",
     "text": [
      "INFO (theano.gof.compilelock): Waiting for existing lock by process '73720' (I am process '73730')\n",
      "INFO (theano.gof.compilelock): To manually release the lock, delete /Users/felixmolter/.theano/compiledir_Darwin-17.7.0-x86_64-i386-64bit-i386-3.6.8-64/lock_dir\n",
      "INFO (theano.gof.compilelock): Waiting for existing lock by process '73729' (I am process '73722')\n",
      "INFO (theano.gof.compilelock): Waiting for existing lock by process '73729' (I am process '73718')\n",
      "INFO (theano.gof.compilelock): Waiting for existing lock by process '73729' (I am process '73727')\n",
      "INFO (theano.gof.compilelock): Waiting for existing lock by process '73729' (I am process '73731')\n",
      "INFO (theano.gof.compilelock): To manually release the lock, delete /Users/felixmolter/.theano/compiledir_Darwin-17.7.0-x86_64-i386-64bit-i386-3.6.8-64/lock_dir\n",
      "INFO (theano.gof.compilelock): To manually release the lock, delete /Users/felixmolter/.theano/compiledir_Darwin-17.7.0-x86_64-i386-64bit-i386-3.6.8-64/lock_dir\n",
      "INFO (theano.gof.compilelock): To manually release the lock, delete /Users/felixmolter/.theano/compiledir_Darwin-17.7.0-x86_64-i386-64bit-i386-3.6.8-64/lock_dir\n",
      "INFO (theano.gof.compilelock): To manually release the lock, delete /Users/felixmolter/.theano/compiledir_Darwin-17.7.0-x86_64-i386-64bit-i386-3.6.8-64/lock_dir\n",
      "Sequential sampling (2 chains in 1 job)\n",
      "CompoundStep\n",
      ">Metropolis: [tau_offset]\n",
      ">Metropolis: [tau_sd]\n",
      ">Metropolis: [tau_mu]\n",
      ">Metropolis: [s_offset]\n",
      ">Metropolis: [s_sd]\n",
      ">Metropolis: [s_mu]\n",
      ">Metropolis: [gamma_offset]\n",
      ">Metropolis: [gamma_sd]\n",
      ">Metropolis: [gamma_mu]\n",
      ">Metropolis: [v_offset]\n",
      ">Metropolis: [v_sd]\n",
      ">Metropolis: [v_mu]\n",
      "INFO (theano.gof.compilelock): Waiting for existing lock by process '73728' (I am process '73733')\n",
      "INFO (theano.gof.compilelock): To manually release the lock, delete /Users/felixmolter/.theano/compiledir_Darwin-17.7.0-x86_64-i386-64bit-i386-3.6.8-64/lock_dir\n",
      "INFO (theano.gof.compilelock): Waiting for existing lock by process '73732' (I am process '73713')\n",
      "INFO (theano.gof.compilelock): To manually release the lock, delete /Users/felixmolter/.theano/compiledir_Darwin-17.7.0-x86_64-i386-64bit-i386-3.6.8-64/lock_dir\n",
      "INFO (theano.gof.compilelock): Waiting for existing lock by process '73724' (I am process '73719')\n",
      "INFO (theano.gof.compilelock): To manually release the lock, delete /Users/felixmolter/.theano/compiledir_Darwin-17.7.0-x86_64-i386-64bit-i386-3.6.8-64/lock_dir\n",
      "INFO (theano.gof.compilelock): Waiting for existing lock by process '73724' (I am process '73717')\n",
      "INFO (theano.gof.compilelock): To manually release the lock, delete /Users/felixmolter/.theano/compiledir_Darwin-17.7.0-x86_64-i386-64bit-i386-3.6.8-64/lock_dir\n",
      "INFO (theano.gof.compilelock): Waiting for existing lock by process '73724' (I am process '73730')\n",
      "INFO (theano.gof.compilelock): To manually release the lock, delete /Users/felixmolter/.theano/compiledir_Darwin-17.7.0-x86_64-i386-64bit-i386-3.6.8-64/lock_dir\n",
      "INFO (theano.gof.compilelock): Waiting for existing lock by process '73724' (I am process '73718')\n",
      "INFO (theano.gof.compilelock): Waiting for existing lock by process '73724' (I am process '73731')\n",
      "INFO (theano.gof.compilelock): Waiting for existing lock by process '73724' (I am process '73722')\n",
      "INFO (theano.gof.compilelock): Waiting for existing lock by process '73724' (I am process '73727')\n",
      "INFO (theano.gof.compilelock): To manually release the lock, delete /Users/felixmolter/.theano/compiledir_Darwin-17.7.0-x86_64-i386-64bit-i386-3.6.8-64/lock_dir\n",
      "INFO (theano.gof.compilelock): To manually release the lock, delete /Users/felixmolter/.theano/compiledir_Darwin-17.7.0-x86_64-i386-64bit-i386-3.6.8-64/lock_dir\n",
      "INFO (theano.gof.compilelock): To manually release the lock, delete /Users/felixmolter/.theano/compiledir_Darwin-17.7.0-x86_64-i386-64bit-i386-3.6.8-64/lock_dir\n",
      "INFO (theano.gof.compilelock): To manually release the lock, delete /Users/felixmolter/.theano/compiledir_Darwin-17.7.0-x86_64-i386-64bit-i386-3.6.8-64/lock_dir\n",
      "INFO (theano.gof.compilelock): Waiting for existing lock by process '73715' (I am process '73721')\n",
      "INFO (theano.gof.compilelock): To manually release the lock, delete /Users/felixmolter/.theano/compiledir_Darwin-17.7.0-x86_64-i386-64bit-i386-3.6.8-64/lock_dir\n",
      "INFO (theano.gof.compilelock): Waiting for existing lock by process '73715' (I am process '73734')\n",
      "INFO (theano.gof.compilelock): To manually release the lock, delete /Users/felixmolter/.theano/compiledir_Darwin-17.7.0-x86_64-i386-64bit-i386-3.6.8-64/lock_dir\n",
      "INFO (theano.gof.compilelock): Waiting for existing lock by process '73715' (I am process '73713')\n",
      "INFO (theano.gof.compilelock): To manually release the lock, delete /Users/felixmolter/.theano/compiledir_Darwin-17.7.0-x86_64-i386-64bit-i386-3.6.8-64/lock_dir\n",
      "INFO (theano.gof.compilelock): Waiting for existing lock by process '73715' (I am process '73717')\n",
      "INFO (theano.gof.compilelock): To manually release the lock, delete /Users/felixmolter/.theano/compiledir_Darwin-17.7.0-x86_64-i386-64bit-i386-3.6.8-64/lock_dir\n",
      "INFO (theano.gof.compilelock): Waiting for existing lock by process '73724' (I am process '73730')\n",
      "INFO (theano.gof.compilelock): To manually release the lock, delete /Users/felixmolter/.theano/compiledir_Darwin-17.7.0-x86_64-i386-64bit-i386-3.6.8-64/lock_dir\n",
      "INFO (theano.gof.compilelock): Waiting for existing lock by process '73724' (I am process '73722')\n",
      "INFO (theano.gof.compilelock): Waiting for existing lock by process '73724' (I am process '73718')\n",
      "INFO (theano.gof.compilelock): Waiting for existing lock by process '73724' (I am process '73727')\n",
      "INFO (theano.gof.compilelock): Waiting for existing lock by process '73724' (I am process '73731')\n",
      "INFO (theano.gof.compilelock): To manually release the lock, delete /Users/felixmolter/.theano/compiledir_Darwin-17.7.0-x86_64-i386-64bit-i386-3.6.8-64/lock_dir\n",
      "INFO (theano.gof.compilelock): To manually release the lock, delete /Users/felixmolter/.theano/compiledir_Darwin-17.7.0-x86_64-i386-64bit-i386-3.6.8-64/lock_dir\n",
      "INFO (theano.gof.compilelock): To manually release the lock, delete /Users/felixmolter/.theano/compiledir_Darwin-17.7.0-x86_64-i386-64bit-i386-3.6.8-64/lock_dir\n",
      "INFO (theano.gof.compilelock): To manually release the lock, delete /Users/felixmolter/.theano/compiledir_Darwin-17.7.0-x86_64-i386-64bit-i386-3.6.8-64/lock_dir\n",
      "INFO (theano.gof.compilelock): Waiting for existing lock by process '73724' (I am process '73719')\n",
      "INFO (theano.gof.compilelock): To manually release the lock, delete /Users/felixmolter/.theano/compiledir_Darwin-17.7.0-x86_64-i386-64bit-i386-3.6.8-64/lock_dir\n",
      "Sequential sampling (2 chains in 1 job)\n",
      "CompoundStep\n",
      ">Metropolis: [tau_offset]\n",
      ">Metropolis: [tau_sd]\n",
      ">Metropolis: [tau_mu]\n",
      ">Metropolis: [s_offset]\n",
      ">Metropolis: [s_sd]\n",
      ">Metropolis: [s_mu]\n",
      ">Metropolis: [gamma_offset]\n",
      ">Metropolis: [gamma_sd]\n",
      ">Metropolis: [gamma_mu]\n",
      ">Metropolis: [v_offset]\n",
      ">Metropolis: [v_sd]\n",
      ">Metropolis: [v_mu]\n",
      "INFO (theano.gof.compilelock): Waiting for existing lock by process '73713' (I am process '73734')\n",
      "INFO (theano.gof.compilelock): To manually release the lock, delete /Users/felixmolter/.theano/compiledir_Darwin-17.7.0-x86_64-i386-64bit-i386-3.6.8-64/lock_dir\n",
      "INFO (theano.gof.compilelock): Waiting for existing lock by process '73713' (I am process '73729')\n",
      "INFO (theano.gof.compilelock): To manually release the lock, delete /Users/felixmolter/.theano/compiledir_Darwin-17.7.0-x86_64-i386-64bit-i386-3.6.8-64/lock_dir\n",
      "INFO (theano.gof.compilelock): Waiting for existing lock by process '73713' (I am process '73721')\n",
      "INFO (theano.gof.compilelock): To manually release the lock, delete /Users/felixmolter/.theano/compiledir_Darwin-17.7.0-x86_64-i386-64bit-i386-3.6.8-64/lock_dir\n",
      "INFO (theano.gof.compilelock): Waiting for existing lock by process '73713' (I am process '73726')\n",
      "INFO (theano.gof.compilelock): To manually release the lock, delete /Users/felixmolter/.theano/compiledir_Darwin-17.7.0-x86_64-i386-64bit-i386-3.6.8-64/lock_dir\n",
      "INFO (theano.gof.compilelock): Waiting for existing lock by process '73713' (I am process '73720')\n",
      "INFO (theano.gof.compilelock): To manually release the lock, delete /Users/felixmolter/.theano/compiledir_Darwin-17.7.0-x86_64-i386-64bit-i386-3.6.8-64/lock_dir\n"
     ]
    },
    {
     "name": "stderr",
     "output_type": "stream",
     "text": [
      "INFO (theano.gof.compilelock): Waiting for existing lock by process '73787' (I am process '73717')\n",
      "INFO (theano.gof.compilelock): To manually release the lock, delete /Users/felixmolter/.theano/compiledir_Darwin-17.7.0-x86_64-i386-64bit-i386-3.6.8-64/lock_dir\n",
      "INFO (theano.gof.compilelock): Waiting for existing lock by process '73719' (I am process '73730')\n",
      "INFO (theano.gof.compilelock): To manually release the lock, delete /Users/felixmolter/.theano/compiledir_Darwin-17.7.0-x86_64-i386-64bit-i386-3.6.8-64/lock_dir\n",
      "INFO (theano.gof.compilelock): Waiting for existing lock by process '73719' (I am process '73731')\n",
      "INFO (theano.gof.compilelock): Waiting for existing lock by process '73719' (I am process '73727')\n",
      "INFO (theano.gof.compilelock): Waiting for existing lock by process '73719' (I am process '73722')\n",
      "INFO (theano.gof.compilelock): Waiting for existing lock by process '73719' (I am process '73718')\n",
      "INFO (theano.gof.compilelock): To manually release the lock, delete /Users/felixmolter/.theano/compiledir_Darwin-17.7.0-x86_64-i386-64bit-i386-3.6.8-64/lock_dir\n",
      "INFO (theano.gof.compilelock): To manually release the lock, delete /Users/felixmolter/.theano/compiledir_Darwin-17.7.0-x86_64-i386-64bit-i386-3.6.8-64/lock_dir\n",
      "INFO (theano.gof.compilelock): To manually release the lock, delete /Users/felixmolter/.theano/compiledir_Darwin-17.7.0-x86_64-i386-64bit-i386-3.6.8-64/lock_dir\n",
      "INFO (theano.gof.compilelock): To manually release the lock, delete /Users/felixmolter/.theano/compiledir_Darwin-17.7.0-x86_64-i386-64bit-i386-3.6.8-64/lock_dir\n",
      "INFO (theano.gof.compilelock): Waiting for existing lock by process '73719' (I am process '73726')\n",
      "INFO (theano.gof.compilelock): To manually release the lock, delete /Users/felixmolter/.theano/compiledir_Darwin-17.7.0-x86_64-i386-64bit-i386-3.6.8-64/lock_dir\n",
      "INFO (theano.gof.compilelock): Waiting for existing lock by process '73732' (I am process '73734')\n",
      "INFO (theano.gof.compilelock): To manually release the lock, delete /Users/felixmolter/.theano/compiledir_Darwin-17.7.0-x86_64-i386-64bit-i386-3.6.8-64/lock_dir\n",
      "INFO (theano.gof.compilelock): Waiting for existing lock by process '73732' (I am process '73729')\n",
      "INFO (theano.gof.compilelock): To manually release the lock, delete /Users/felixmolter/.theano/compiledir_Darwin-17.7.0-x86_64-i386-64bit-i386-3.6.8-64/lock_dir\n",
      "INFO (theano.gof.compilelock): Waiting for existing lock by process '73732' (I am process '73721')\n",
      "INFO (theano.gof.compilelock): To manually release the lock, delete /Users/felixmolter/.theano/compiledir_Darwin-17.7.0-x86_64-i386-64bit-i386-3.6.8-64/lock_dir\n",
      "INFO (theano.gof.compilelock): Waiting for existing lock by process '73786' (I am process '73720')\n",
      "INFO (theano.gof.compilelock): To manually release the lock, delete /Users/felixmolter/.theano/compiledir_Darwin-17.7.0-x86_64-i386-64bit-i386-3.6.8-64/lock_dir\n",
      "INFO (theano.gof.compilelock): Waiting for existing lock by process '73786' (I am process '73717')\n",
      "INFO (theano.gof.compilelock): To manually release the lock, delete /Users/felixmolter/.theano/compiledir_Darwin-17.7.0-x86_64-i386-64bit-i386-3.6.8-64/lock_dir\n",
      "Sequential sampling (2 chains in 1 job)\n",
      "CompoundStep\n",
      ">Metropolis: [tau_offset]\n",
      ">Metropolis: [tau_sd]\n",
      ">Metropolis: [tau_mu]\n",
      ">Metropolis: [s_offset]\n",
      ">Metropolis: [s_sd]\n",
      ">Metropolis: [s_mu]\n",
      ">Metropolis: [gamma_offset]\n",
      ">Metropolis: [gamma_sd]\n",
      ">Metropolis: [gamma_mu]\n",
      ">Metropolis: [v_offset]\n",
      ">Metropolis: [v_sd]\n",
      ">Metropolis: [v_mu]\n",
      "INFO (theano.gof.compilelock): Waiting for existing lock by process '73786' (I am process '73730')\n",
      "INFO (theano.gof.compilelock): To manually release the lock, delete /Users/felixmolter/.theano/compiledir_Darwin-17.7.0-x86_64-i386-64bit-i386-3.6.8-64/lock_dir\n",
      "INFO (theano.gof.compilelock): Waiting for existing lock by process '73786' (I am process '73718')\n",
      "INFO (theano.gof.compilelock): Waiting for existing lock by process '73786' (I am process '73727')\n",
      "INFO (theano.gof.compilelock): Waiting for existing lock by process '73786' (I am process '73722')\n",
      "INFO (theano.gof.compilelock): Waiting for existing lock by process '73786' (I am process '73731')\n",
      "INFO (theano.gof.compilelock): To manually release the lock, delete /Users/felixmolter/.theano/compiledir_Darwin-17.7.0-x86_64-i386-64bit-i386-3.6.8-64/lock_dir\n",
      "INFO (theano.gof.compilelock): To manually release the lock, delete /Users/felixmolter/.theano/compiledir_Darwin-17.7.0-x86_64-i386-64bit-i386-3.6.8-64/lock_dir\n",
      "INFO (theano.gof.compilelock): To manually release the lock, delete /Users/felixmolter/.theano/compiledir_Darwin-17.7.0-x86_64-i386-64bit-i386-3.6.8-64/lock_dir\n",
      "INFO (theano.gof.compilelock): To manually release the lock, delete /Users/felixmolter/.theano/compiledir_Darwin-17.7.0-x86_64-i386-64bit-i386-3.6.8-64/lock_dir\n",
      "INFO (theano.gof.compilelock): Waiting for existing lock by process '73786' (I am process '73713')\n",
      "INFO (theano.gof.compilelock): To manually release the lock, delete /Users/felixmolter/.theano/compiledir_Darwin-17.7.0-x86_64-i386-64bit-i386-3.6.8-64/lock_dir\n",
      "INFO (theano.gof.compilelock): Waiting for existing lock by process '73786' (I am process '73724')\n",
      "INFO (theano.gof.compilelock): To manually release the lock, delete /Users/felixmolter/.theano/compiledir_Darwin-17.7.0-x86_64-i386-64bit-i386-3.6.8-64/lock_dir\n",
      "INFO (theano.gof.compilelock): Waiting for existing lock by process '73734' (I am process '73726')\n",
      "INFO (theano.gof.compilelock): To manually release the lock, delete /Users/felixmolter/.theano/compiledir_Darwin-17.7.0-x86_64-i386-64bit-i386-3.6.8-64/lock_dir\n",
      "INFO (theano.gof.compilelock): Waiting for existing lock by process '73734' (I am process '73729')\n",
      "INFO (theano.gof.compilelock): To manually release the lock, delete /Users/felixmolter/.theano/compiledir_Darwin-17.7.0-x86_64-i386-64bit-i386-3.6.8-64/lock_dir\n",
      "INFO (theano.gof.compilelock): Waiting for existing lock by process '73734' (I am process '73733')\n",
      "INFO (theano.gof.compilelock): To manually release the lock, delete /Users/felixmolter/.theano/compiledir_Darwin-17.7.0-x86_64-i386-64bit-i386-3.6.8-64/lock_dir\n",
      "INFO (theano.gof.compilelock): Waiting for existing lock by process '73721' (I am process '73732')\n",
      "INFO (theano.gof.compilelock): To manually release the lock, delete /Users/felixmolter/.theano/compiledir_Darwin-17.7.0-x86_64-i386-64bit-i386-3.6.8-64/lock_dir\n",
      "INFO (theano.gof.compilelock): Waiting for existing lock by process '73721' (I am process '73717')\n",
      "INFO (theano.gof.compilelock): To manually release the lock, delete /Users/felixmolter/.theano/compiledir_Darwin-17.7.0-x86_64-i386-64bit-i386-3.6.8-64/lock_dir\n",
      "INFO (theano.gof.compilelock): Waiting for existing lock by process '73721' (I am process '73713')\n",
      "INFO (theano.gof.compilelock): To manually release the lock, delete /Users/felixmolter/.theano/compiledir_Darwin-17.7.0-x86_64-i386-64bit-i386-3.6.8-64/lock_dir\n",
      "INFO (theano.gof.compilelock): Waiting for existing lock by process '73721' (I am process '73730')\n",
      "INFO (theano.gof.compilelock): To manually release the lock, delete /Users/felixmolter/.theano/compiledir_Darwin-17.7.0-x86_64-i386-64bit-i386-3.6.8-64/lock_dir\n",
      "INFO (theano.gof.compilelock): Waiting for existing lock by unknown process (I am process '73722')\n",
      "INFO (theano.gof.compilelock): Waiting for existing lock by unknown process (I am process '73727')\n",
      "INFO (theano.gof.compilelock): Waiting for existing lock by unknown process (I am process '73718')\n",
      "INFO (theano.gof.compilelock): To manually release the lock, delete /Users/felixmolter/.theano/compiledir_Darwin-17.7.0-x86_64-i386-64bit-i386-3.6.8-64/lock_dir\n",
      "INFO (theano.gof.compilelock): To manually release the lock, delete /Users/felixmolter/.theano/compiledir_Darwin-17.7.0-x86_64-i386-64bit-i386-3.6.8-64/lock_dir\n",
      "INFO (theano.gof.compilelock): To manually release the lock, delete /Users/felixmolter/.theano/compiledir_Darwin-17.7.0-x86_64-i386-64bit-i386-3.6.8-64/lock_dir\n",
      "INFO (theano.gof.compilelock): Waiting for existing lock by process '73731' (I am process '73719')\n",
      "INFO (theano.gof.compilelock): To manually release the lock, delete /Users/felixmolter/.theano/compiledir_Darwin-17.7.0-x86_64-i386-64bit-i386-3.6.8-64/lock_dir\n",
      "INFO (theano.gof.compilelock): Waiting for existing lock by process '73731' (I am process '73733')\n"
     ]
    },
    {
     "name": "stderr",
     "output_type": "stream",
     "text": [
      "INFO (theano.gof.compilelock): To manually release the lock, delete /Users/felixmolter/.theano/compiledir_Darwin-17.7.0-x86_64-i386-64bit-i386-3.6.8-64/lock_dir\n",
      "INFO (theano.gof.compilelock): Waiting for existing lock by process '73731' (I am process '73729')\n",
      "INFO (theano.gof.compilelock): To manually release the lock, delete /Users/felixmolter/.theano/compiledir_Darwin-17.7.0-x86_64-i386-64bit-i386-3.6.8-64/lock_dir\n",
      "INFO (theano.gof.compilelock): Waiting for existing lock by process '73731' (I am process '73724')\n",
      "INFO (theano.gof.compilelock): To manually release the lock, delete /Users/felixmolter/.theano/compiledir_Darwin-17.7.0-x86_64-i386-64bit-i386-3.6.8-64/lock_dir\n",
      "INFO (theano.gof.compilelock): Waiting for existing lock by process '73731' (I am process '73720')\n",
      "INFO (theano.gof.compilelock): To manually release the lock, delete /Users/felixmolter/.theano/compiledir_Darwin-17.7.0-x86_64-i386-64bit-i386-3.6.8-64/lock_dir\n",
      "INFO (theano.gof.compilelock): Waiting for existing lock by process '73731' (I am process '73726')\n",
      "INFO (theano.gof.compilelock): To manually release the lock, delete /Users/felixmolter/.theano/compiledir_Darwin-17.7.0-x86_64-i386-64bit-i386-3.6.8-64/lock_dir\n",
      "INFO (theano.gof.compilelock): Waiting for existing lock by process '73731' (I am process '73713')\n",
      "INFO (theano.gof.compilelock): To manually release the lock, delete /Users/felixmolter/.theano/compiledir_Darwin-17.7.0-x86_64-i386-64bit-i386-3.6.8-64/lock_dir\n",
      "INFO (theano.gof.compilelock): Waiting for existing lock by process '73731' (I am process '73721')\n",
      "INFO (theano.gof.compilelock): To manually release the lock, delete /Users/felixmolter/.theano/compiledir_Darwin-17.7.0-x86_64-i386-64bit-i386-3.6.8-64/lock_dir\n",
      "INFO (theano.gof.compilelock): Waiting for existing lock by process '73733' (I am process '73717')\n",
      "INFO (theano.gof.compilelock): To manually release the lock, delete /Users/felixmolter/.theano/compiledir_Darwin-17.7.0-x86_64-i386-64bit-i386-3.6.8-64/lock_dir\n",
      "INFO (theano.gof.compilelock): Waiting for existing lock by process '73733' (I am process '73729')\n",
      "INFO (theano.gof.compilelock): To manually release the lock, delete /Users/felixmolter/.theano/compiledir_Darwin-17.7.0-x86_64-i386-64bit-i386-3.6.8-64/lock_dir\n",
      "INFO (theano.gof.compilelock): Waiting for existing lock by process '73733' (I am process '73730')\n",
      "INFO (theano.gof.compilelock): To manually release the lock, delete /Users/felixmolter/.theano/compiledir_Darwin-17.7.0-x86_64-i386-64bit-i386-3.6.8-64/lock_dir\n",
      "INFO (theano.gof.compilelock): Waiting for existing lock by process '73733' (I am process '73727')\n",
      "INFO (theano.gof.compilelock): Waiting for existing lock by process '73733' (I am process '73722')\n",
      "INFO (theano.gof.compilelock): Waiting for existing lock by process '73733' (I am process '73718')\n",
      "INFO (theano.gof.compilelock): To manually release the lock, delete /Users/felixmolter/.theano/compiledir_Darwin-17.7.0-x86_64-i386-64bit-i386-3.6.8-64/lock_dir\n",
      "INFO (theano.gof.compilelock): To manually release the lock, delete /Users/felixmolter/.theano/compiledir_Darwin-17.7.0-x86_64-i386-64bit-i386-3.6.8-64/lock_dir\n",
      "INFO (theano.gof.compilelock): To manually release the lock, delete /Users/felixmolter/.theano/compiledir_Darwin-17.7.0-x86_64-i386-64bit-i386-3.6.8-64/lock_dir\n",
      "INFO (theano.gof.compilelock): Waiting for existing lock by process '73732' (I am process '73720')\n",
      "INFO (theano.gof.compilelock): To manually release the lock, delete /Users/felixmolter/.theano/compiledir_Darwin-17.7.0-x86_64-i386-64bit-i386-3.6.8-64/lock_dir\n",
      "INFO (theano.gof.compilelock): Waiting for existing lock by process '73719' (I am process '73713')\n",
      "INFO (theano.gof.compilelock): To manually release the lock, delete /Users/felixmolter/.theano/compiledir_Darwin-17.7.0-x86_64-i386-64bit-i386-3.6.8-64/lock_dir\n",
      "INFO (theano.gof.compilelock): Waiting for existing lock by process '73724' (I am process '73726')\n",
      "INFO (theano.gof.compilelock): To manually release the lock, delete /Users/felixmolter/.theano/compiledir_Darwin-17.7.0-x86_64-i386-64bit-i386-3.6.8-64/lock_dir\n",
      "Sequential sampling (2 chains in 1 job)\n",
      "CompoundStep\n",
      ">Metropolis: [tau_offset]\n",
      ">Metropolis: [tau_sd]\n",
      ">Metropolis: [tau_mu]\n",
      ">Metropolis: [s_offset]\n",
      ">Metropolis: [s_sd]\n",
      ">Metropolis: [s_mu]\n",
      ">Metropolis: [gamma_offset]\n",
      ">Metropolis: [gamma_sd]\n",
      ">Metropolis: [gamma_mu]\n",
      ">Metropolis: [v_offset]\n",
      ">Metropolis: [v_sd]\n",
      ">Metropolis: [v_mu]\n",
      "INFO (theano.gof.compilelock): Waiting for existing lock by process '73724' (I am process '73721')\n",
      "INFO (theano.gof.compilelock): To manually release the lock, delete /Users/felixmolter/.theano/compiledir_Darwin-17.7.0-x86_64-i386-64bit-i386-3.6.8-64/lock_dir\n"
     ]
    },
    {
     "name": "stdout",
     "output_type": "stream",
     "text": [
      "Fitting 1 model(s) using MCMC...\n",
      "  Fitting model 1 of 1...\n"
     ]
    },
    {
     "name": "stderr",
     "output_type": "stream",
     "text": [
      "INFO (theano.gof.compilelock): Waiting for existing lock by process '73720' (I am process '73729')\n",
      "INFO (theano.gof.compilelock): To manually release the lock, delete /Users/felixmolter/.theano/compiledir_Darwin-17.7.0-x86_64-i386-64bit-i386-3.6.8-64/lock_dir\n",
      "INFO (theano.gof.compilelock): Waiting for existing lock by process '73720' (I am process '73730')\n",
      "INFO (theano.gof.compilelock): To manually release the lock, delete /Users/felixmolter/.theano/compiledir_Darwin-17.7.0-x86_64-i386-64bit-i386-3.6.8-64/lock_dir\n",
      "INFO (theano.gof.compilelock): Waiting for existing lock by process '73720' (I am process '73718')\n",
      "INFO (theano.gof.compilelock): Waiting for existing lock by process '73720' (I am process '73727')\n",
      "INFO (theano.gof.compilelock): Waiting for existing lock by process '73720' (I am process '73722')\n",
      "INFO (theano.gof.compilelock): To manually release the lock, delete /Users/felixmolter/.theano/compiledir_Darwin-17.7.0-x86_64-i386-64bit-i386-3.6.8-64/lock_dir\n",
      "INFO (theano.gof.compilelock): To manually release the lock, delete /Users/felixmolter/.theano/compiledir_Darwin-17.7.0-x86_64-i386-64bit-i386-3.6.8-64/lock_dir\n",
      "INFO (theano.gof.compilelock): To manually release the lock, delete /Users/felixmolter/.theano/compiledir_Darwin-17.7.0-x86_64-i386-64bit-i386-3.6.8-64/lock_dir\n",
      "INFO (theano.gof.compilelock): Waiting for existing lock by process '73720' (I am process '73719')\n",
      "INFO (theano.gof.compilelock): To manually release the lock, delete /Users/felixmolter/.theano/compiledir_Darwin-17.7.0-x86_64-i386-64bit-i386-3.6.8-64/lock_dir\n",
      "Sequential sampling (2 chains in 1 job)\n",
      "CompoundStep\n",
      ">Metropolis: [tau_offset]\n",
      ">Metropolis: [tau_sd]\n",
      ">Metropolis: [tau_mu]\n",
      ">Metropolis: [s_offset]\n",
      ">Metropolis: [s_sd]\n",
      ">Metropolis: [s_mu]\n",
      ">Metropolis: [gamma_offset]\n",
      ">Metropolis: [gamma_sd]\n",
      ">Metropolis: [gamma_mu]\n",
      ">Metropolis: [v_offset]\n",
      ">Metropolis: [v_sd]\n",
      ">Metropolis: [v_mu]\n",
      "INFO (theano.gof.compilelock): Waiting for existing lock by process '73713' (I am process '73721')\n",
      "INFO (theano.gof.compilelock): To manually release the lock, delete /Users/felixmolter/.theano/compiledir_Darwin-17.7.0-x86_64-i386-64bit-i386-3.6.8-64/lock_dir\n",
      "INFO (theano.gof.compilelock): Waiting for existing lock by process '73726' (I am process '73733')\n",
      "INFO (theano.gof.compilelock): To manually release the lock, delete /Users/felixmolter/.theano/compiledir_Darwin-17.7.0-x86_64-i386-64bit-i386-3.6.8-64/lock_dir\n",
      "Sequential sampling (2 chains in 1 job)\n",
      "CompoundStep\n",
      ">Metropolis: [tau_offset]\n",
      ">Metropolis: [tau_sd]\n",
      ">Metropolis: [tau_mu]\n",
      ">Metropolis: [s_offset]\n",
      ">Metropolis: [s_sd]\n",
      ">Metropolis: [s_mu]\n",
      ">Metropolis: [gamma_offset]\n",
      ">Metropolis: [gamma_sd]\n",
      ">Metropolis: [gamma_mu]\n",
      ">Metropolis: [v_offset]\n",
      ">Metropolis: [v_sd]\n",
      ">Metropolis: [v_mu]\n",
      "INFO (theano.gof.compilelock): Waiting for existing lock by process '73731' (I am process '73730')\n",
      "INFO (theano.gof.compilelock): To manually release the lock, delete /Users/felixmolter/.theano/compiledir_Darwin-17.7.0-x86_64-i386-64bit-i386-3.6.8-64/lock_dir\n",
      "INFO (theano.gof.compilelock): Waiting for existing lock by unknown process (I am process '73722')\n",
      "INFO (theano.gof.compilelock): Waiting for existing lock by unknown process (I am process '73727')\n",
      "INFO (theano.gof.compilelock): To manually release the lock, delete /Users/felixmolter/.theano/compiledir_Darwin-17.7.0-x86_64-i386-64bit-i386-3.6.8-64/lock_dir\n",
      "INFO (theano.gof.compilelock): To manually release the lock, delete /Users/felixmolter/.theano/compiledir_Darwin-17.7.0-x86_64-i386-64bit-i386-3.6.8-64/lock_dir\n",
      "INFO (theano.gof.compilelock): Waiting for existing lock by process '73718' (I am process '73719')\n",
      "INFO (theano.gof.compilelock): To manually release the lock, delete /Users/felixmolter/.theano/compiledir_Darwin-17.7.0-x86_64-i386-64bit-i386-3.6.8-64/lock_dir\n",
      "INFO (theano.gof.compilelock): Waiting for existing lock by process '73718' (I am process '73721')\n",
      "INFO (theano.gof.compilelock): To manually release the lock, delete /Users/felixmolter/.theano/compiledir_Darwin-17.7.0-x86_64-i386-64bit-i386-3.6.8-64/lock_dir\n",
      "INFO (theano.gof.compilelock): Waiting for existing lock by process '73724' (I am process '73729')\n",
      "INFO (theano.gof.compilelock): To manually release the lock, delete /Users/felixmolter/.theano/compiledir_Darwin-17.7.0-x86_64-i386-64bit-i386-3.6.8-64/lock_dir\n",
      "INFO (theano.gof.compilelock): Waiting for existing lock by process '73724' (I am process '73717')\n",
      "INFO (theano.gof.compilelock): To manually release the lock, delete /Users/felixmolter/.theano/compiledir_Darwin-17.7.0-x86_64-i386-64bit-i386-3.6.8-64/lock_dir\n",
      "INFO (theano.gof.compilelock): Waiting for existing lock by process '73786' (I am process '73717')\n",
      "INFO (theano.gof.compilelock): To manually release the lock, delete /Users/felixmolter/.theano/compiledir_Darwin-17.7.0-x86_64-i386-64bit-i386-3.6.8-64/lock_dir\n",
      "INFO (theano.gof.compilelock): Waiting for existing lock by process '73786' (I am process '73730')\n",
      "INFO (theano.gof.compilelock): To manually release the lock, delete /Users/felixmolter/.theano/compiledir_Darwin-17.7.0-x86_64-i386-64bit-i386-3.6.8-64/lock_dir\n",
      "INFO (theano.gof.compilelock): Waiting for existing lock by process '73786' (I am process '73722')\n",
      "INFO (theano.gof.compilelock): Waiting for existing lock by process '73786' (I am process '73727')\n",
      "INFO (theano.gof.compilelock): To manually release the lock, delete /Users/felixmolter/.theano/compiledir_Darwin-17.7.0-x86_64-i386-64bit-i386-3.6.8-64/lock_dir\n",
      "INFO (theano.gof.compilelock): To manually release the lock, delete /Users/felixmolter/.theano/compiledir_Darwin-17.7.0-x86_64-i386-64bit-i386-3.6.8-64/lock_dir\n",
      "INFO (theano.gof.compilelock): Waiting for existing lock by process '73786' (I am process '73719')\n",
      "INFO (theano.gof.compilelock): To manually release the lock, delete /Users/felixmolter/.theano/compiledir_Darwin-17.7.0-x86_64-i386-64bit-i386-3.6.8-64/lock_dir\n",
      "INFO (theano.gof.compilelock): Waiting for existing lock by process '73786' (I am process '73731')\n",
      "INFO (theano.gof.compilelock): To manually release the lock, delete /Users/felixmolter/.theano/compiledir_Darwin-17.7.0-x86_64-i386-64bit-i386-3.6.8-64/lock_dir\n",
      "INFO (theano.gof.compilelock): Waiting for existing lock by process '73786' (I am process '73721')\n",
      "INFO (theano.gof.compilelock): To manually release the lock, delete /Users/felixmolter/.theano/compiledir_Darwin-17.7.0-x86_64-i386-64bit-i386-3.6.8-64/lock_dir\n",
      "INFO (theano.gof.compilelock): Waiting for existing lock by process '73786' (I am process '73718')\n",
      "INFO (theano.gof.compilelock): To manually release the lock, delete /Users/felixmolter/.theano/compiledir_Darwin-17.7.0-x86_64-i386-64bit-i386-3.6.8-64/lock_dir\n",
      "INFO (theano.gof.compilelock): Waiting for existing lock by process '73786' (I am process '73729')\n",
      "INFO (theano.gof.compilelock): To manually release the lock, delete /Users/felixmolter/.theano/compiledir_Darwin-17.7.0-x86_64-i386-64bit-i386-3.6.8-64/lock_dir\n",
      "INFO (theano.gof.compilelock): Waiting for existing lock by process '73786' (I am process '73726')\n",
      "INFO (theano.gof.compilelock): To manually release the lock, delete /Users/felixmolter/.theano/compiledir_Darwin-17.7.0-x86_64-i386-64bit-i386-3.6.8-64/lock_dir\n",
      "INFO (theano.gof.compilelock): Waiting for existing lock by process '73786' (I am process '73717')\n",
      "INFO (theano.gof.compilelock): To manually release the lock, delete /Users/felixmolter/.theano/compiledir_Darwin-17.7.0-x86_64-i386-64bit-i386-3.6.8-64/lock_dir\n",
      "INFO (theano.gof.compilelock): Waiting for existing lock by process '73786' (I am process '73731')\n",
      "INFO (theano.gof.compilelock): To manually release the lock, delete /Users/felixmolter/.theano/compiledir_Darwin-17.7.0-x86_64-i386-64bit-i386-3.6.8-64/lock_dir\n",
      "INFO (theano.gof.compilelock): Waiting for existing lock by process '73786' (I am process '73713')\n",
      "INFO (theano.gof.compilelock): To manually release the lock, delete /Users/felixmolter/.theano/compiledir_Darwin-17.7.0-x86_64-i386-64bit-i386-3.6.8-64/lock_dir\n",
      "INFO (theano.gof.compilelock): Waiting for existing lock by process '73786' (I am process '73719')\n",
      "INFO (theano.gof.compilelock): To manually release the lock, delete /Users/felixmolter/.theano/compiledir_Darwin-17.7.0-x86_64-i386-64bit-i386-3.6.8-64/lock_dir\n"
     ]
    },
    {
     "name": "stderr",
     "output_type": "stream",
     "text": [
      "INFO (theano.gof.compilelock): Waiting for existing lock by process '73786' (I am process '73718')\n",
      "INFO (theano.gof.compilelock): To manually release the lock, delete /Users/felixmolter/.theano/compiledir_Darwin-17.7.0-x86_64-i386-64bit-i386-3.6.8-64/lock_dir\n",
      "INFO (theano.gof.compilelock): Waiting for existing lock by process '73786' (I am process '73730')\n",
      "INFO (theano.gof.compilelock): To manually release the lock, delete /Users/felixmolter/.theano/compiledir_Darwin-17.7.0-x86_64-i386-64bit-i386-3.6.8-64/lock_dir\n",
      "INFO (theano.gof.compilelock): Waiting for existing lock by process '73786' (I am process '73722')\n",
      "INFO (theano.gof.compilelock): Waiting for existing lock by process '73786' (I am process '73727')\n",
      "INFO (theano.gof.compilelock): To manually release the lock, delete /Users/felixmolter/.theano/compiledir_Darwin-17.7.0-x86_64-i386-64bit-i386-3.6.8-64/lock_dir\n",
      "INFO (theano.gof.compilelock): To manually release the lock, delete /Users/felixmolter/.theano/compiledir_Darwin-17.7.0-x86_64-i386-64bit-i386-3.6.8-64/lock_dir\n",
      "INFO (theano.gof.compilelock): Waiting for existing lock by process '73786' (I am process '73717')\n",
      "INFO (theano.gof.compilelock): To manually release the lock, delete /Users/felixmolter/.theano/compiledir_Darwin-17.7.0-x86_64-i386-64bit-i386-3.6.8-64/lock_dir\n",
      "INFO (theano.gof.compilelock): Waiting for existing lock by process '73786' (I am process '73721')\n",
      "INFO (theano.gof.compilelock): To manually release the lock, delete /Users/felixmolter/.theano/compiledir_Darwin-17.7.0-x86_64-i386-64bit-i386-3.6.8-64/lock_dir\n",
      "INFO (theano.gof.compilelock): Waiting for existing lock by process '73786' (I am process '73726')\n",
      "INFO (theano.gof.compilelock): To manually release the lock, delete /Users/felixmolter/.theano/compiledir_Darwin-17.7.0-x86_64-i386-64bit-i386-3.6.8-64/lock_dir\n",
      "INFO (theano.gof.compilelock): Waiting for existing lock by process '73786' (I am process '73729')\n",
      "INFO (theano.gof.compilelock): To manually release the lock, delete /Users/felixmolter/.theano/compiledir_Darwin-17.7.0-x86_64-i386-64bit-i386-3.6.8-64/lock_dir\n"
     ]
    },
    {
     "name": "stdout",
     "output_type": "stream",
     "text": [
      "Fitting 1 model(s) using MCMC...\n",
      "  Fitting model 1 of 1...\n"
     ]
    },
    {
     "name": "stderr",
     "output_type": "stream",
     "text": [
      "INFO (theano.gof.compilelock): Waiting for existing lock by process '73717' (I am process '73718')\n",
      "INFO (theano.gof.compilelock): To manually release the lock, delete /Users/felixmolter/.theano/compiledir_Darwin-17.7.0-x86_64-i386-64bit-i386-3.6.8-64/lock_dir\n",
      "INFO (theano.gof.compilelock): Waiting for existing lock by process '73717' (I am process '73713')\n",
      "INFO (theano.gof.compilelock): To manually release the lock, delete /Users/felixmolter/.theano/compiledir_Darwin-17.7.0-x86_64-i386-64bit-i386-3.6.8-64/lock_dir\n"
     ]
    },
    {
     "name": "stdout",
     "output_type": "stream",
     "text": [
      "Fitting 1 model(s) using MCMC...\n",
      "  Fitting model 1 of 1...\n"
     ]
    },
    {
     "name": "stderr",
     "output_type": "stream",
     "text": [
      "INFO (theano.gof.compilelock): Waiting for existing lock by process '73730' (I am process '73727')\n",
      "INFO (theano.gof.compilelock): Waiting for existing lock by process '73730' (I am process '73722')\n",
      "INFO (theano.gof.compilelock): To manually release the lock, delete /Users/felixmolter/.theano/compiledir_Darwin-17.7.0-x86_64-i386-64bit-i386-3.6.8-64/lock_dir\n",
      "INFO (theano.gof.compilelock): To manually release the lock, delete /Users/felixmolter/.theano/compiledir_Darwin-17.7.0-x86_64-i386-64bit-i386-3.6.8-64/lock_dir\n",
      "INFO (theano.gof.compilelock): Waiting for existing lock by process '73729' (I am process '73719')\n",
      "INFO (theano.gof.compilelock): To manually release the lock, delete /Users/felixmolter/.theano/compiledir_Darwin-17.7.0-x86_64-i386-64bit-i386-3.6.8-64/lock_dir\n",
      "INFO (theano.gof.compilelock): Waiting for existing lock by process '73729' (I am process '73731')\n",
      "INFO (theano.gof.compilelock): To manually release the lock, delete /Users/felixmolter/.theano/compiledir_Darwin-17.7.0-x86_64-i386-64bit-i386-3.6.8-64/lock_dir\n",
      "INFO (theano.gof.compilelock): Waiting for existing lock by process '73729' (I am process '73718')\n",
      "INFO (theano.gof.compilelock): To manually release the lock, delete /Users/felixmolter/.theano/compiledir_Darwin-17.7.0-x86_64-i386-64bit-i386-3.6.8-64/lock_dir\n",
      "INFO (theano.gof.compilelock): Waiting for existing lock by process '73729' (I am process '73713')\n",
      "INFO (theano.gof.compilelock): To manually release the lock, delete /Users/felixmolter/.theano/compiledir_Darwin-17.7.0-x86_64-i386-64bit-i386-3.6.8-64/lock_dir\n"
     ]
    },
    {
     "name": "stdout",
     "output_type": "stream",
     "text": [
      "Fitting 1 model(s) using MCMC...\n",
      "  Fitting model 1 of 1...\n"
     ]
    },
    {
     "name": "stderr",
     "output_type": "stream",
     "text": [
      "INFO (theano.gof.compilelock): Waiting for existing lock by unknown process (I am process '73727')\n",
      "INFO (theano.gof.compilelock): To manually release the lock, delete /Users/felixmolter/.theano/compiledir_Darwin-17.7.0-x86_64-i386-64bit-i386-3.6.8-64/lock_dir\n",
      "INFO (theano.gof.compilelock): Waiting for existing lock by process '73730' (I am process '73719')\n",
      "INFO (theano.gof.compilelock): To manually release the lock, delete /Users/felixmolter/.theano/compiledir_Darwin-17.7.0-x86_64-i386-64bit-i386-3.6.8-64/lock_dir\n",
      "INFO (theano.gof.compilelock): Waiting for existing lock by process '73730' (I am process '73717')\n",
      "INFO (theano.gof.compilelock): To manually release the lock, delete /Users/felixmolter/.theano/compiledir_Darwin-17.7.0-x86_64-i386-64bit-i386-3.6.8-64/lock_dir\n",
      "INFO (theano.gof.compilelock): Waiting for existing lock by process '73730' (I am process '73731')\n",
      "INFO (theano.gof.compilelock): To manually release the lock, delete /Users/felixmolter/.theano/compiledir_Darwin-17.7.0-x86_64-i386-64bit-i386-3.6.8-64/lock_dir\n",
      "INFO (theano.gof.compilelock): Waiting for existing lock by process '73730' (I am process '73713')\n",
      "INFO (theano.gof.compilelock): To manually release the lock, delete /Users/felixmolter/.theano/compiledir_Darwin-17.7.0-x86_64-i386-64bit-i386-3.6.8-64/lock_dir\n",
      "INFO (theano.gof.compilelock): Waiting for existing lock by process '73787' (I am process '73718')\n",
      "INFO (theano.gof.compilelock): To manually release the lock, delete /Users/felixmolter/.theano/compiledir_Darwin-17.7.0-x86_64-i386-64bit-i386-3.6.8-64/lock_dir\n",
      "INFO (theano.gof.compilelock): Waiting for existing lock by process '73787' (I am process '73727')\n",
      "INFO (theano.gof.compilelock): To manually release the lock, delete /Users/felixmolter/.theano/compiledir_Darwin-17.7.0-x86_64-i386-64bit-i386-3.6.8-64/lock_dir\n",
      "INFO (theano.gof.compilelock): Waiting for existing lock by process '73726' (I am process '73721')\n",
      "INFO (theano.gof.compilelock): To manually release the lock, delete /Users/felixmolter/.theano/compiledir_Darwin-17.7.0-x86_64-i386-64bit-i386-3.6.8-64/lock_dir\n",
      "INFO (theano.gof.compilelock): Waiting for existing lock by process '73726' (I am process '73729')\n",
      "INFO (theano.gof.compilelock): To manually release the lock, delete /Users/felixmolter/.theano/compiledir_Darwin-17.7.0-x86_64-i386-64bit-i386-3.6.8-64/lock_dir\n",
      "INFO (theano.gof.compilelock): Waiting for existing lock by process '73730' (I am process '73717')\n",
      "INFO (theano.gof.compilelock): To manually release the lock, delete /Users/felixmolter/.theano/compiledir_Darwin-17.7.0-x86_64-i386-64bit-i386-3.6.8-64/lock_dir\n",
      "INFO (theano.gof.compilelock): Waiting for existing lock by process '73730' (I am process '73731')\n",
      "INFO (theano.gof.compilelock): To manually release the lock, delete /Users/felixmolter/.theano/compiledir_Darwin-17.7.0-x86_64-i386-64bit-i386-3.6.8-64/lock_dir\n",
      "INFO (theano.gof.compilelock): Waiting for existing lock by process '73730' (I am process '73722')\n",
      "INFO (theano.gof.compilelock): To manually release the lock, delete /Users/felixmolter/.theano/compiledir_Darwin-17.7.0-x86_64-i386-64bit-i386-3.6.8-64/lock_dir\n",
      "Sequential sampling (2 chains in 1 job)\n",
      "CompoundStep\n",
      ">Metropolis: [tau_offset]\n",
      ">Metropolis: [tau_sd]\n",
      ">Metropolis: [tau_mu]\n",
      ">Metropolis: [s_offset]\n",
      ">Metropolis: [s_sd]\n",
      ">Metropolis: [s_mu]\n",
      ">Metropolis: [gamma_offset]\n",
      ">Metropolis: [gamma_sd]\n",
      ">Metropolis: [gamma_mu]\n",
      ">Metropolis: [v_offset]\n",
      ">Metropolis: [v_sd]\n",
      ">Metropolis: [v_mu]\n",
      "INFO (theano.gof.compilelock): Waiting for existing lock by process '73727' (I am process '73713')\n",
      "INFO (theano.gof.compilelock): To manually release the lock, delete /Users/felixmolter/.theano/compiledir_Darwin-17.7.0-x86_64-i386-64bit-i386-3.6.8-64/lock_dir\n",
      "INFO (theano.gof.compilelock): Waiting for existing lock by process '73718' (I am process '73721')\n",
      "INFO (theano.gof.compilelock): To manually release the lock, delete /Users/felixmolter/.theano/compiledir_Darwin-17.7.0-x86_64-i386-64bit-i386-3.6.8-64/lock_dir\n",
      "INFO (theano.gof.compilelock): Waiting for existing lock by process '73718' (I am process '73729')\n",
      "INFO (theano.gof.compilelock): To manually release the lock, delete /Users/felixmolter/.theano/compiledir_Darwin-17.7.0-x86_64-i386-64bit-i386-3.6.8-64/lock_dir\n"
     ]
    },
    {
     "name": "stdout",
     "output_type": "stream",
     "text": [
      "Fitting 1 model(s) using MCMC...\n",
      "  Fitting model 1 of 1...\n"
     ]
    },
    {
     "name": "stderr",
     "output_type": "stream",
     "text": [
      "INFO (theano.gof.compilelock): Waiting for existing lock by process '73731' (I am process '73727')\n",
      "INFO (theano.gof.compilelock): To manually release the lock, delete /Users/felixmolter/.theano/compiledir_Darwin-17.7.0-x86_64-i386-64bit-i386-3.6.8-64/lock_dir\n",
      "INFO (theano.gof.compilelock): Waiting for existing lock by process '73731' (I am process '73721')\n",
      "INFO (theano.gof.compilelock): To manually release the lock, delete /Users/felixmolter/.theano/compiledir_Darwin-17.7.0-x86_64-i386-64bit-i386-3.6.8-64/lock_dir\n",
      "INFO (theano.gof.compilelock): Waiting for existing lock by process '73731' (I am process '73726')\n",
      "INFO (theano.gof.compilelock): To manually release the lock, delete /Users/felixmolter/.theano/compiledir_Darwin-17.7.0-x86_64-i386-64bit-i386-3.6.8-64/lock_dir\n",
      "INFO (theano.gof.compilelock): Waiting for existing lock by process '73731' (I am process '73717')\n",
      "INFO (theano.gof.compilelock): To manually release the lock, delete /Users/felixmolter/.theano/compiledir_Darwin-17.7.0-x86_64-i386-64bit-i386-3.6.8-64/lock_dir\n",
      "INFO (theano.gof.compilelock): Waiting for existing lock by process '73731' (I am process '73730')\n",
      "INFO (theano.gof.compilelock): To manually release the lock, delete /Users/felixmolter/.theano/compiledir_Darwin-17.7.0-x86_64-i386-64bit-i386-3.6.8-64/lock_dir\n",
      "INFO (theano.gof.compilelock): Waiting for existing lock by process '73731' (I am process '73722')\n",
      "INFO (theano.gof.compilelock): To manually release the lock, delete /Users/felixmolter/.theano/compiledir_Darwin-17.7.0-x86_64-i386-64bit-i386-3.6.8-64/lock_dir\n",
      "INFO (theano.gof.compilelock): Waiting for existing lock by process '73721' (I am process '73719')\n",
      "INFO (theano.gof.compilelock): To manually release the lock, delete /Users/felixmolter/.theano/compiledir_Darwin-17.7.0-x86_64-i386-64bit-i386-3.6.8-64/lock_dir\n",
      "INFO (theano.gof.compilelock): Waiting for existing lock by process '73721' (I am process '73730')\n",
      "INFO (theano.gof.compilelock): To manually release the lock, delete /Users/felixmolter/.theano/compiledir_Darwin-17.7.0-x86_64-i386-64bit-i386-3.6.8-64/lock_dir\n",
      "INFO (theano.gof.compilelock): Waiting for existing lock by process '73721' (I am process '73726')\n",
      "INFO (theano.gof.compilelock): To manually release the lock, delete /Users/felixmolter/.theano/compiledir_Darwin-17.7.0-x86_64-i386-64bit-i386-3.6.8-64/lock_dir\n",
      "INFO (theano.gof.compilelock): Waiting for existing lock by process '73721' (I am process '73718')\n",
      "INFO (theano.gof.compilelock): To manually release the lock, delete /Users/felixmolter/.theano/compiledir_Darwin-17.7.0-x86_64-i386-64bit-i386-3.6.8-64/lock_dir\n",
      "Sequential sampling (2 chains in 1 job)\n",
      "CompoundStep\n",
      ">Metropolis: [tau_offset]\n",
      ">Metropolis: [tau_sd]\n",
      ">Metropolis: [tau_mu]\n",
      ">Metropolis: [s_offset]\n",
      ">Metropolis: [s_sd]\n",
      ">Metropolis: [s_mu]\n",
      ">Metropolis: [gamma_offset]\n",
      ">Metropolis: [gamma_sd]\n",
      ">Metropolis: [gamma_mu]\n",
      ">Metropolis: [v_offset]\n",
      ">Metropolis: [v_sd]\n",
      ">Metropolis: [v_mu]\n",
      "INFO (theano.gof.compilelock): Waiting for existing lock by process '73713' (I am process '73717')\n",
      "INFO (theano.gof.compilelock): To manually release the lock, delete /Users/felixmolter/.theano/compiledir_Darwin-17.7.0-x86_64-i386-64bit-i386-3.6.8-64/lock_dir\n",
      "INFO (theano.gof.compilelock): Waiting for existing lock by process '73713' (I am process '73722')\n",
      "INFO (theano.gof.compilelock): To manually release the lock, delete /Users/felixmolter/.theano/compiledir_Darwin-17.7.0-x86_64-i386-64bit-i386-3.6.8-64/lock_dir\n",
      "INFO (theano.gof.compilelock): Waiting for existing lock by process '73787' (I am process '73719')\n",
      "INFO (theano.gof.compilelock): To manually release the lock, delete /Users/felixmolter/.theano/compiledir_Darwin-17.7.0-x86_64-i386-64bit-i386-3.6.8-64/lock_dir\n",
      "INFO (theano.gof.compilelock): Waiting for existing lock by process '73787' (I am process '73727')\n",
      "INFO (theano.gof.compilelock): To manually release the lock, delete /Users/felixmolter/.theano/compiledir_Darwin-17.7.0-x86_64-i386-64bit-i386-3.6.8-64/lock_dir\n",
      "INFO (theano.gof.compilelock): Waiting for existing lock by process '73787' (I am process '73730')\n",
      "INFO (theano.gof.compilelock): To manually release the lock, delete /Users/felixmolter/.theano/compiledir_Darwin-17.7.0-x86_64-i386-64bit-i386-3.6.8-64/lock_dir\n",
      "INFO (theano.gof.compilelock): Waiting for existing lock by process '73787' (I am process '73729')\n",
      "INFO (theano.gof.compilelock): To manually release the lock, delete /Users/felixmolter/.theano/compiledir_Darwin-17.7.0-x86_64-i386-64bit-i386-3.6.8-64/lock_dir\n",
      "INFO (theano.gof.compilelock): Waiting for existing lock by process '73717' (I am process '73718')\n",
      "INFO (theano.gof.compilelock): To manually release the lock, delete /Users/felixmolter/.theano/compiledir_Darwin-17.7.0-x86_64-i386-64bit-i386-3.6.8-64/lock_dir\n",
      "INFO (theano.gof.compilelock): Waiting for existing lock by process '73717' (I am process '73731')\n",
      "INFO (theano.gof.compilelock): To manually release the lock, delete /Users/felixmolter/.theano/compiledir_Darwin-17.7.0-x86_64-i386-64bit-i386-3.6.8-64/lock_dir\n",
      "INFO (theano.gof.compilelock): Waiting for existing lock by process '73722' (I am process '73729')\n",
      "INFO (theano.gof.compilelock): To manually release the lock, delete /Users/felixmolter/.theano/compiledir_Darwin-17.7.0-x86_64-i386-64bit-i386-3.6.8-64/lock_dir\n",
      "INFO (theano.gof.compilelock): Waiting for existing lock by process '73722' (I am process '73719')\n",
      "INFO (theano.gof.compilelock): To manually release the lock, delete /Users/felixmolter/.theano/compiledir_Darwin-17.7.0-x86_64-i386-64bit-i386-3.6.8-64/lock_dir\n",
      "INFO (theano.gof.compilelock): Waiting for existing lock by process '73722' (I am process '73727')\n",
      "INFO (theano.gof.compilelock): To manually release the lock, delete /Users/felixmolter/.theano/compiledir_Darwin-17.7.0-x86_64-i386-64bit-i386-3.6.8-64/lock_dir\n",
      "INFO (theano.gof.compilelock): Waiting for existing lock by process '73722' (I am process '73721')\n",
      "INFO (theano.gof.compilelock): To manually release the lock, delete /Users/felixmolter/.theano/compiledir_Darwin-17.7.0-x86_64-i386-64bit-i386-3.6.8-64/lock_dir\n",
      "INFO (theano.gof.compilelock): Waiting for existing lock by process '73722' (I am process '73730')\n",
      "INFO (theano.gof.compilelock): To manually release the lock, delete /Users/felixmolter/.theano/compiledir_Darwin-17.7.0-x86_64-i386-64bit-i386-3.6.8-64/lock_dir\n"
     ]
    },
    {
     "name": "stdout",
     "output_type": "stream",
     "text": [
      "Fitting 1 model(s) using MCMC...\n",
      "  Fitting model 1 of 1...\n"
     ]
    },
    {
     "name": "stderr",
     "output_type": "stream",
     "text": [
      "INFO (theano.gof.compilelock): Waiting for existing lock by process '73787' (I am process '73718')\n",
      "INFO (theano.gof.compilelock): To manually release the lock, delete /Users/felixmolter/.theano/compiledir_Darwin-17.7.0-x86_64-i386-64bit-i386-3.6.8-64/lock_dir\n",
      "INFO (theano.gof.compilelock): Waiting for existing lock by process '73787' (I am process '73731')\n",
      "INFO (theano.gof.compilelock): To manually release the lock, delete /Users/felixmolter/.theano/compiledir_Darwin-17.7.0-x86_64-i386-64bit-i386-3.6.8-64/lock_dir\n",
      "INFO (theano.gof.compilelock): Waiting for existing lock by process '73787' (I am process '73729')\n",
      "INFO (theano.gof.compilelock): To manually release the lock, delete /Users/felixmolter/.theano/compiledir_Darwin-17.7.0-x86_64-i386-64bit-i386-3.6.8-64/lock_dir\n",
      "INFO (theano.gof.compilelock): Waiting for existing lock by process '73787' (I am process '73719')\n",
      "INFO (theano.gof.compilelock): To manually release the lock, delete /Users/felixmolter/.theano/compiledir_Darwin-17.7.0-x86_64-i386-64bit-i386-3.6.8-64/lock_dir\n",
      "INFO (theano.gof.compilelock): Waiting for existing lock by process '73787' (I am process '73730')\n",
      "INFO (theano.gof.compilelock): To manually release the lock, delete /Users/felixmolter/.theano/compiledir_Darwin-17.7.0-x86_64-i386-64bit-i386-3.6.8-64/lock_dir\n",
      "INFO (theano.gof.compilelock): Waiting for existing lock by process '73787' (I am process '73727')\n",
      "INFO (theano.gof.compilelock): To manually release the lock, delete /Users/felixmolter/.theano/compiledir_Darwin-17.7.0-x86_64-i386-64bit-i386-3.6.8-64/lock_dir\n",
      "INFO (theano.gof.compilelock): Waiting for existing lock by process '73787' (I am process '73721')\n",
      "INFO (theano.gof.compilelock): To manually release the lock, delete /Users/felixmolter/.theano/compiledir_Darwin-17.7.0-x86_64-i386-64bit-i386-3.6.8-64/lock_dir\n",
      "INFO (theano.gof.compilelock): Waiting for existing lock by process '73787' (I am process '73718')\n",
      "INFO (theano.gof.compilelock): To manually release the lock, delete /Users/felixmolter/.theano/compiledir_Darwin-17.7.0-x86_64-i386-64bit-i386-3.6.8-64/lock_dir\n",
      "INFO (theano.gof.compilelock): Waiting for existing lock by process '73717' (I am process '73719')\n",
      "INFO (theano.gof.compilelock): To manually release the lock, delete /Users/felixmolter/.theano/compiledir_Darwin-17.7.0-x86_64-i386-64bit-i386-3.6.8-64/lock_dir\n",
      "INFO (theano.gof.compilelock): Waiting for existing lock by process '73717' (I am process '73731')\n",
      "INFO (theano.gof.compilelock): To manually release the lock, delete /Users/felixmolter/.theano/compiledir_Darwin-17.7.0-x86_64-i386-64bit-i386-3.6.8-64/lock_dir\n",
      "INFO (theano.gof.compilelock): Waiting for existing lock by process '73717' (I am process '73727')\n",
      "INFO (theano.gof.compilelock): To manually release the lock, delete /Users/felixmolter/.theano/compiledir_Darwin-17.7.0-x86_64-i386-64bit-i386-3.6.8-64/lock_dir\n",
      "INFO (theano.gof.compilelock): Waiting for existing lock by process '73717' (I am process '73722')\n",
      "INFO (theano.gof.compilelock): To manually release the lock, delete /Users/felixmolter/.theano/compiledir_Darwin-17.7.0-x86_64-i386-64bit-i386-3.6.8-64/lock_dir\n"
     ]
    },
    {
     "name": "stdout",
     "output_type": "stream",
     "text": [
      "Fitting 1 model(s) using MCMC...\n",
      "  Fitting model 1 of 1...\n"
     ]
    },
    {
     "name": "stderr",
     "output_type": "stream",
     "text": [
      "INFO (theano.gof.compilelock): Waiting for existing lock by process '73729' (I am process '73718')\n",
      "INFO (theano.gof.compilelock): To manually release the lock, delete /Users/felixmolter/.theano/compiledir_Darwin-17.7.0-x86_64-i386-64bit-i386-3.6.8-64/lock_dir\n",
      "INFO (theano.gof.compilelock): Waiting for existing lock by process '73729' (I am process '73722')\n",
      "INFO (theano.gof.compilelock): To manually release the lock, delete /Users/felixmolter/.theano/compiledir_Darwin-17.7.0-x86_64-i386-64bit-i386-3.6.8-64/lock_dir\n",
      "Sequential sampling (2 chains in 1 job)\n",
      "CompoundStep\n",
      ">Metropolis: [tau_offset]\n",
      ">Metropolis: [tau_sd]\n",
      ">Metropolis: [tau_mu]\n",
      ">Metropolis: [s_offset]\n",
      ">Metropolis: [s_sd]\n",
      ">Metropolis: [s_mu]\n",
      ">Metropolis: [gamma_offset]\n",
      ">Metropolis: [gamma_sd]\n",
      ">Metropolis: [gamma_mu]\n",
      ">Metropolis: [v_offset]\n",
      ">Metropolis: [v_sd]\n",
      ">Metropolis: [v_mu]\n",
      "INFO (theano.gof.compilelock): Waiting for existing lock by process '73729' (I am process '73719')\n",
      "INFO (theano.gof.compilelock): To manually release the lock, delete /Users/felixmolter/.theano/compiledir_Darwin-17.7.0-x86_64-i386-64bit-i386-3.6.8-64/lock_dir\n",
      "INFO (theano.gof.compilelock): Waiting for existing lock by process '73727' (I am process '73731')\n",
      "INFO (theano.gof.compilelock): To manually release the lock, delete /Users/felixmolter/.theano/compiledir_Darwin-17.7.0-x86_64-i386-64bit-i386-3.6.8-64/lock_dir\n",
      "INFO (theano.gof.compilelock): Waiting for existing lock by process '73727' (I am process '73722')\n",
      "INFO (theano.gof.compilelock): To manually release the lock, delete /Users/felixmolter/.theano/compiledir_Darwin-17.7.0-x86_64-i386-64bit-i386-3.6.8-64/lock_dir\n",
      "INFO (theano.gof.compilelock): Waiting for existing lock by process '73727' (I am process '73730')\n",
      "INFO (theano.gof.compilelock): To manually release the lock, delete /Users/felixmolter/.theano/compiledir_Darwin-17.7.0-x86_64-i386-64bit-i386-3.6.8-64/lock_dir\n",
      "INFO (theano.gof.compilelock): Waiting for existing lock by process '73786' (I am process '73719')\n",
      "INFO (theano.gof.compilelock): To manually release the lock, delete /Users/felixmolter/.theano/compiledir_Darwin-17.7.0-x86_64-i386-64bit-i386-3.6.8-64/lock_dir\n",
      "INFO (theano.gof.compilelock): Waiting for existing lock by process '73786' (I am process '73717')\n",
      "INFO (theano.gof.compilelock): To manually release the lock, delete /Users/felixmolter/.theano/compiledir_Darwin-17.7.0-x86_64-i386-64bit-i386-3.6.8-64/lock_dir\n",
      "INFO (theano.gof.compilelock): Waiting for existing lock by process '73786' (I am process '73722')\n",
      "INFO (theano.gof.compilelock): To manually release the lock, delete /Users/felixmolter/.theano/compiledir_Darwin-17.7.0-x86_64-i386-64bit-i386-3.6.8-64/lock_dir\n",
      "INFO (theano.gof.compilelock): Waiting for existing lock by process '73786' (I am process '73730')\n",
      "INFO (theano.gof.compilelock): To manually release the lock, delete /Users/felixmolter/.theano/compiledir_Darwin-17.7.0-x86_64-i386-64bit-i386-3.6.8-64/lock_dir\n",
      "INFO (theano.gof.compilelock): Waiting for existing lock by process '73786' (I am process '73731')\n",
      "INFO (theano.gof.compilelock): To manually release the lock, delete /Users/felixmolter/.theano/compiledir_Darwin-17.7.0-x86_64-i386-64bit-i386-3.6.8-64/lock_dir\n",
      "INFO (theano.gof.compilelock): Waiting for existing lock by process '73786' (I am process '73727')\n",
      "INFO (theano.gof.compilelock): To manually release the lock, delete /Users/felixmolter/.theano/compiledir_Darwin-17.7.0-x86_64-i386-64bit-i386-3.6.8-64/lock_dir\n",
      "INFO (theano.gof.compilelock): Waiting for existing lock by process '73721' (I am process '73722')\n",
      "INFO (theano.gof.compilelock): To manually release the lock, delete /Users/felixmolter/.theano/compiledir_Darwin-17.7.0-x86_64-i386-64bit-i386-3.6.8-64/lock_dir\n",
      "INFO (theano.gof.compilelock): Waiting for existing lock by process '73721' (I am process '73719')\n",
      "INFO (theano.gof.compilelock): To manually release the lock, delete /Users/felixmolter/.theano/compiledir_Darwin-17.7.0-x86_64-i386-64bit-i386-3.6.8-64/lock_dir\n",
      "INFO (theano.gof.compilelock): Waiting for existing lock by process '73729' (I am process '73717')\n",
      "INFO (theano.gof.compilelock): To manually release the lock, delete /Users/felixmolter/.theano/compiledir_Darwin-17.7.0-x86_64-i386-64bit-i386-3.6.8-64/lock_dir\n",
      "INFO (theano.gof.compilelock): Waiting for existing lock by process '73729' (I am process '73731')\n",
      "INFO (theano.gof.compilelock): To manually release the lock, delete /Users/felixmolter/.theano/compiledir_Darwin-17.7.0-x86_64-i386-64bit-i386-3.6.8-64/lock_dir\n",
      "INFO (theano.gof.compilelock): Waiting for existing lock by process '73730' (I am process '73727')\n",
      "INFO (theano.gof.compilelock): To manually release the lock, delete /Users/felixmolter/.theano/compiledir_Darwin-17.7.0-x86_64-i386-64bit-i386-3.6.8-64/lock_dir\n",
      "Sequential sampling (2 chains in 1 job)\n",
      "CompoundStep\n",
      ">Metropolis: [tau_offset]\n",
      ">Metropolis: [tau_sd]\n",
      ">Metropolis: [tau_mu]\n",
      ">Metropolis: [s_offset]\n",
      ">Metropolis: [s_sd]\n",
      ">Metropolis: [s_mu]\n",
      ">Metropolis: [gamma_offset]\n",
      ">Metropolis: [gamma_sd]\n",
      ">Metropolis: [gamma_mu]\n",
      ">Metropolis: [v_offset]\n",
      ">Metropolis: [v_sd]\n",
      ">Metropolis: [v_mu]\n",
      "INFO (theano.gof.compilelock): Waiting for existing lock by process '73787' (I am process '73719')\n",
      "INFO (theano.gof.compilelock): To manually release the lock, delete /Users/felixmolter/.theano/compiledir_Darwin-17.7.0-x86_64-i386-64bit-i386-3.6.8-64/lock_dir\n",
      "INFO (theano.gof.compilelock): Waiting for existing lock by process '73786' (I am process '73722')\n",
      "INFO (theano.gof.compilelock): To manually release the lock, delete /Users/felixmolter/.theano/compiledir_Darwin-17.7.0-x86_64-i386-64bit-i386-3.6.8-64/lock_dir\n",
      "INFO (theano.gof.compilelock): Waiting for existing lock by process '73727' (I am process '73718')\n",
      "INFO (theano.gof.compilelock): To manually release the lock, delete /Users/felixmolter/.theano/compiledir_Darwin-17.7.0-x86_64-i386-64bit-i386-3.6.8-64/lock_dir\n",
      "INFO (theano.gof.compilelock): Waiting for existing lock by process '73727' (I am process '73717')\n",
      "INFO (theano.gof.compilelock): To manually release the lock, delete /Users/felixmolter/.theano/compiledir_Darwin-17.7.0-x86_64-i386-64bit-i386-3.6.8-64/lock_dir\n",
      "INFO (theano.gof.compilelock): Waiting for existing lock by process '73731' (I am process '73721')\n",
      "INFO (theano.gof.compilelock): To manually release the lock, delete /Users/felixmolter/.theano/compiledir_Darwin-17.7.0-x86_64-i386-64bit-i386-3.6.8-64/lock_dir\n"
     ]
    },
    {
     "name": "stdout",
     "output_type": "stream",
     "text": [
      "Fitting 1 model(s) using MCMC...\n",
      "  Fitting model 1 of 1...\n"
     ]
    },
    {
     "name": "stderr",
     "output_type": "stream",
     "text": [
      "INFO (theano.gof.compilelock): Waiting for existing lock by process '73787' (I am process '73719')\n",
      "INFO (theano.gof.compilelock): To manually release the lock, delete /Users/felixmolter/.theano/compiledir_Darwin-17.7.0-x86_64-i386-64bit-i386-3.6.8-64/lock_dir\n",
      "INFO (theano.gof.compilelock): Waiting for existing lock by process '73722' (I am process '73718')\n",
      "INFO (theano.gof.compilelock): To manually release the lock, delete /Users/felixmolter/.theano/compiledir_Darwin-17.7.0-x86_64-i386-64bit-i386-3.6.8-64/lock_dir\n",
      "INFO (theano.gof.compilelock): Waiting for existing lock by process '73719' (I am process '73717')\n",
      "INFO (theano.gof.compilelock): To manually release the lock, delete /Users/felixmolter/.theano/compiledir_Darwin-17.7.0-x86_64-i386-64bit-i386-3.6.8-64/lock_dir\n",
      "INFO (theano.gof.compilelock): Waiting for existing lock by process '73719' (I am process '73727')\n",
      "INFO (theano.gof.compilelock): To manually release the lock, delete /Users/felixmolter/.theano/compiledir_Darwin-17.7.0-x86_64-i386-64bit-i386-3.6.8-64/lock_dir\n",
      "INFO (theano.gof.compilelock): Waiting for existing lock by process '73719' (I am process '73721')\n",
      "INFO (theano.gof.compilelock): To manually release the lock, delete /Users/felixmolter/.theano/compiledir_Darwin-17.7.0-x86_64-i386-64bit-i386-3.6.8-64/lock_dir\n",
      "INFO (theano.gof.compilelock): Waiting for existing lock by process '73718' (I am process '73729')\n",
      "INFO (theano.gof.compilelock): To manually release the lock, delete /Users/felixmolter/.theano/compiledir_Darwin-17.7.0-x86_64-i386-64bit-i386-3.6.8-64/lock_dir\n",
      "INFO (theano.gof.compilelock): Waiting for existing lock by process '73718' (I am process '73721')\n",
      "INFO (theano.gof.compilelock): To manually release the lock, delete /Users/felixmolter/.theano/compiledir_Darwin-17.7.0-x86_64-i386-64bit-i386-3.6.8-64/lock_dir\n",
      "INFO (theano.gof.compilelock): Waiting for existing lock by process '73717' (I am process '73727')\n",
      "INFO (theano.gof.compilelock): To manually release the lock, delete /Users/felixmolter/.theano/compiledir_Darwin-17.7.0-x86_64-i386-64bit-i386-3.6.8-64/lock_dir\n",
      "INFO (theano.gof.compilelock): Waiting for existing lock by process '73722' (I am process '73721')\n",
      "INFO (theano.gof.compilelock): To manually release the lock, delete /Users/felixmolter/.theano/compiledir_Darwin-17.7.0-x86_64-i386-64bit-i386-3.6.8-64/lock_dir\n",
      "INFO (theano.gof.compilelock): Waiting for existing lock by process '73729' (I am process '73719')\n",
      "INFO (theano.gof.compilelock): To manually release the lock, delete /Users/felixmolter/.theano/compiledir_Darwin-17.7.0-x86_64-i386-64bit-i386-3.6.8-64/lock_dir\n",
      "INFO (theano.gof.compilelock): Waiting for existing lock by process '73729' (I am process '73727')\n",
      "INFO (theano.gof.compilelock): To manually release the lock, delete /Users/felixmolter/.theano/compiledir_Darwin-17.7.0-x86_64-i386-64bit-i386-3.6.8-64/lock_dir\n",
      "INFO (theano.gof.compilelock): Waiting for existing lock by process '73730' (I am process '73731')\n",
      "INFO (theano.gof.compilelock): To manually release the lock, delete /Users/felixmolter/.theano/compiledir_Darwin-17.7.0-x86_64-i386-64bit-i386-3.6.8-64/lock_dir\n",
      "INFO (theano.gof.compilelock): Waiting for existing lock by process '73730' (I am process '73721')\n",
      "INFO (theano.gof.compilelock): To manually release the lock, delete /Users/felixmolter/.theano/compiledir_Darwin-17.7.0-x86_64-i386-64bit-i386-3.6.8-64/lock_dir\n",
      "INFO (theano.gof.compilelock): Waiting for existing lock by process '73787' (I am process '73718')\n",
      "INFO (theano.gof.compilelock): To manually release the lock, delete /Users/felixmolter/.theano/compiledir_Darwin-17.7.0-x86_64-i386-64bit-i386-3.6.8-64/lock_dir\n",
      "INFO (theano.gof.compilelock): Waiting for existing lock by process '73787' (I am process '73727')\n",
      "INFO (theano.gof.compilelock): To manually release the lock, delete /Users/felixmolter/.theano/compiledir_Darwin-17.7.0-x86_64-i386-64bit-i386-3.6.8-64/lock_dir\n",
      "Sequential sampling (2 chains in 1 job)\n",
      "CompoundStep\n",
      ">Metropolis: [tau_offset]\n",
      ">Metropolis: [tau_sd]\n",
      ">Metropolis: [tau_mu]\n",
      ">Metropolis: [s_offset]\n",
      ">Metropolis: [s_sd]\n",
      ">Metropolis: [s_mu]\n",
      ">Metropolis: [gamma_offset]\n",
      ">Metropolis: [gamma_sd]\n",
      ">Metropolis: [gamma_mu]\n",
      ">Metropolis: [v_offset]\n",
      ">Metropolis: [v_sd]\n",
      ">Metropolis: [v_mu]\n",
      "Sequential sampling (2 chains in 1 job)\n",
      "CompoundStep\n",
      ">Metropolis: [tau_offset]\n",
      ">Metropolis: [tau_sd]\n",
      ">Metropolis: [tau_mu]\n",
      ">Metropolis: [s_offset]\n",
      ">Metropolis: [s_sd]\n",
      ">Metropolis: [s_mu]\n",
      ">Metropolis: [gamma_offset]\n",
      ">Metropolis: [gamma_sd]\n",
      ">Metropolis: [gamma_mu]\n",
      ">Metropolis: [v_offset]\n",
      ">Metropolis: [v_sd]\n",
      ">Metropolis: [v_mu]\n",
      "INFO (theano.gof.compilelock): Waiting for existing lock by process '73787' (I am process '73719')\n",
      "INFO (theano.gof.compilelock): To manually release the lock, delete /Users/felixmolter/.theano/compiledir_Darwin-17.7.0-x86_64-i386-64bit-i386-3.6.8-64/lock_dir\n",
      "INFO (theano.gof.compilelock): Waiting for existing lock by process '73787' (I am process '73731')\n",
      "INFO (theano.gof.compilelock): To manually release the lock, delete /Users/felixmolter/.theano/compiledir_Darwin-17.7.0-x86_64-i386-64bit-i386-3.6.8-64/lock_dir\n",
      "INFO (theano.gof.compilelock): Waiting for existing lock by process '73787' (I am process '73721')\n",
      "INFO (theano.gof.compilelock): To manually release the lock, delete /Users/felixmolter/.theano/compiledir_Darwin-17.7.0-x86_64-i386-64bit-i386-3.6.8-64/lock_dir\n",
      "INFO (theano.gof.compilelock): Waiting for existing lock by process '73719' (I am process '73729')\n",
      "INFO (theano.gof.compilelock): To manually release the lock, delete /Users/felixmolter/.theano/compiledir_Darwin-17.7.0-x86_64-i386-64bit-i386-3.6.8-64/lock_dir\n",
      "INFO (theano.gof.compilelock): Waiting for existing lock by process '73719' (I am process '73718')\n",
      "INFO (theano.gof.compilelock): To manually release the lock, delete /Users/felixmolter/.theano/compiledir_Darwin-17.7.0-x86_64-i386-64bit-i386-3.6.8-64/lock_dir\n",
      "INFO (theano.gof.compilelock): Waiting for existing lock by process '73727' (I am process '73730')\n",
      "INFO (theano.gof.compilelock): To manually release the lock, delete /Users/felixmolter/.theano/compiledir_Darwin-17.7.0-x86_64-i386-64bit-i386-3.6.8-64/lock_dir\n",
      "INFO (theano.gof.compilelock): Waiting for existing lock by process '73731' (I am process '73721')\n",
      "INFO (theano.gof.compilelock): To manually release the lock, delete /Users/felixmolter/.theano/compiledir_Darwin-17.7.0-x86_64-i386-64bit-i386-3.6.8-64/lock_dir\n",
      "INFO (theano.gof.compilelock): Waiting for existing lock by process '73722' (I am process '73729')\n",
      "INFO (theano.gof.compilelock): To manually release the lock, delete /Users/felixmolter/.theano/compiledir_Darwin-17.7.0-x86_64-i386-64bit-i386-3.6.8-64/lock_dir\n",
      "INFO (theano.gof.compilelock): Waiting for existing lock by process '73730' (I am process '73718')\n",
      "INFO (theano.gof.compilelock): To manually release the lock, delete /Users/felixmolter/.theano/compiledir_Darwin-17.7.0-x86_64-i386-64bit-i386-3.6.8-64/lock_dir\n",
      "INFO (theano.gof.compilelock): Waiting for existing lock by process '73730' (I am process '73727')\n",
      "INFO (theano.gof.compilelock): To manually release the lock, delete /Users/felixmolter/.theano/compiledir_Darwin-17.7.0-x86_64-i386-64bit-i386-3.6.8-64/lock_dir\n",
      "INFO (theano.gof.compilelock): Waiting for existing lock by process '73730' (I am process '73721')\n",
      "INFO (theano.gof.compilelock): To manually release the lock, delete /Users/felixmolter/.theano/compiledir_Darwin-17.7.0-x86_64-i386-64bit-i386-3.6.8-64/lock_dir\n",
      "Sequential sampling (2 chains in 1 job)\n",
      "CompoundStep\n",
      ">Metropolis: [tau_offset]\n",
      ">Metropolis: [tau_sd]\n",
      ">Metropolis: [tau_mu]\n",
      ">Metropolis: [s_offset]\n",
      ">Metropolis: [s_sd]\n",
      ">Metropolis: [s_mu]\n",
      ">Metropolis: [gamma_offset]\n",
      ">Metropolis: [gamma_sd]\n",
      ">Metropolis: [gamma_mu]\n",
      ">Metropolis: [v_offset]\n",
      ">Metropolis: [v_sd]\n",
      ">Metropolis: [v_mu]\n",
      "INFO (theano.gof.compilelock): Waiting for existing lock by process '73721' (I am process '73722')\n",
      "INFO (theano.gof.compilelock): To manually release the lock, delete /Users/felixmolter/.theano/compiledir_Darwin-17.7.0-x86_64-i386-64bit-i386-3.6.8-64/lock_dir\n",
      "INFO (theano.gof.compilelock): Waiting for existing lock by process '73727' (I am process '73731')\n",
      "INFO (theano.gof.compilelock): To manually release the lock, delete /Users/felixmolter/.theano/compiledir_Darwin-17.7.0-x86_64-i386-64bit-i386-3.6.8-64/lock_dir\n"
     ]
    },
    {
     "name": "stderr",
     "output_type": "stream",
     "text": [
      "INFO (theano.gof.compilelock): Waiting for existing lock by process '73719' (I am process '73722')\n",
      "INFO (theano.gof.compilelock): To manually release the lock, delete /Users/felixmolter/.theano/compiledir_Darwin-17.7.0-x86_64-i386-64bit-i386-3.6.8-64/lock_dir\n",
      "INFO (theano.gof.compilelock): Waiting for existing lock by process '73719' (I am process '73731')\n",
      "INFO (theano.gof.compilelock): To manually release the lock, delete /Users/felixmolter/.theano/compiledir_Darwin-17.7.0-x86_64-i386-64bit-i386-3.6.8-64/lock_dir\n",
      "Sequential sampling (2 chains in 1 job)\n",
      "CompoundStep\n",
      ">Metropolis: [tau_offset]\n",
      ">Metropolis: [tau_sd]\n",
      ">Metropolis: [tau_mu]\n",
      ">Metropolis: [s_offset]\n",
      ">Metropolis: [s_sd]\n",
      ">Metropolis: [s_mu]\n",
      ">Metropolis: [gamma_offset]\n",
      ">Metropolis: [gamma_sd]\n",
      ">Metropolis: [gamma_mu]\n",
      ">Metropolis: [v_offset]\n",
      ">Metropolis: [v_sd]\n",
      ">Metropolis: [v_mu]\n",
      "INFO (theano.gof.compilelock): Waiting for existing lock by process '73786' (I am process '73727')\n",
      "INFO (theano.gof.compilelock): To manually release the lock, delete /Users/felixmolter/.theano/compiledir_Darwin-17.7.0-x86_64-i386-64bit-i386-3.6.8-64/lock_dir\n",
      "INFO (theano.gof.compilelock): Waiting for existing lock by process '73786' (I am process '73722')\n",
      "INFO (theano.gof.compilelock): To manually release the lock, delete /Users/felixmolter/.theano/compiledir_Darwin-17.7.0-x86_64-i386-64bit-i386-3.6.8-64/lock_dir\n",
      "INFO (theano.gof.compilelock): Waiting for existing lock by process '73719' (I am process '73718')\n",
      "INFO (theano.gof.compilelock): To manually release the lock, delete /Users/felixmolter/.theano/compiledir_Darwin-17.7.0-x86_64-i386-64bit-i386-3.6.8-64/lock_dir\n",
      "INFO (theano.gof.compilelock): Waiting for existing lock by process '73719' (I am process '73727')\n",
      "INFO (theano.gof.compilelock): To manually release the lock, delete /Users/felixmolter/.theano/compiledir_Darwin-17.7.0-x86_64-i386-64bit-i386-3.6.8-64/lock_dir\n",
      "Sequential sampling (2 chains in 1 job)\n",
      "CompoundStep\n",
      ">Metropolis: [tau_offset]\n",
      ">Metropolis: [tau_sd]\n",
      ">Metropolis: [tau_mu]\n",
      ">Metropolis: [s_offset]\n",
      ">Metropolis: [s_sd]\n",
      ">Metropolis: [s_mu]\n",
      ">Metropolis: [gamma_offset]\n",
      ">Metropolis: [gamma_sd]\n",
      ">Metropolis: [gamma_mu]\n",
      ">Metropolis: [v_offset]\n",
      ">Metropolis: [v_sd]\n",
      ">Metropolis: [v_mu]\n",
      "INFO (theano.gof.compilelock): Waiting for existing lock by process '73787' (I am process '73727')\n",
      "INFO (theano.gof.compilelock): To manually release the lock, delete /Users/felixmolter/.theano/compiledir_Darwin-17.7.0-x86_64-i386-64bit-i386-3.6.8-64/lock_dir\n",
      "INFO (theano.gof.compilelock): Waiting for existing lock by process '73787' (I am process '73718')\n",
      "INFO (theano.gof.compilelock): To manually release the lock, delete /Users/felixmolter/.theano/compiledir_Darwin-17.7.0-x86_64-i386-64bit-i386-3.6.8-64/lock_dir\n",
      "INFO (theano.gof.compilelock): Waiting for existing lock by process '73787' (I am process '73727')\n",
      "INFO (theano.gof.compilelock): To manually release the lock, delete /Users/felixmolter/.theano/compiledir_Darwin-17.7.0-x86_64-i386-64bit-i386-3.6.8-64/lock_dir\n",
      "Sequential sampling (2 chains in 1 job)\n",
      "CompoundStep\n",
      ">Metropolis: [tau_offset]\n",
      ">Metropolis: [tau_sd]\n",
      ">Metropolis: [tau_mu]\n",
      ">Metropolis: [s_offset]\n",
      ">Metropolis: [s_sd]\n",
      ">Metropolis: [s_mu]\n",
      ">Metropolis: [gamma_offset]\n",
      ">Metropolis: [gamma_sd]\n",
      ">Metropolis: [gamma_mu]\n",
      ">Metropolis: [v_offset]\n",
      ">Metropolis: [v_sd]\n",
      ">Metropolis: [v_mu]\n",
      "Sequential sampling (2 chains in 1 job)\n",
      "CompoundStep\n",
      ">Metropolis: [tau_offset]\n",
      ">Metropolis: [tau_sd]\n",
      ">Metropolis: [tau_mu]\n",
      ">Metropolis: [s_offset]\n",
      ">Metropolis: [s_sd]\n",
      ">Metropolis: [s_mu]\n",
      ">Metropolis: [gamma_offset]\n",
      ">Metropolis: [gamma_sd]\n",
      ">Metropolis: [gamma_mu]\n",
      ">Metropolis: [v_offset]\n",
      ">Metropolis: [v_sd]\n",
      ">Metropolis: [v_mu]\n",
      "The gelman-rubin statistic is larger than 1.05 for some parameters. This indicates slight problems during sampling.\n",
      "The estimated number of effective samples is smaller than 200 for some parameters.\n"
     ]
    },
    {
     "name": "stdout",
     "output_type": "stream",
     "text": [
      "/!\\ Automatically setting parameter precision...\n"
     ]
    },
    {
     "name": "stderr",
     "output_type": "stream",
     "text": [
      "The gelman-rubin statistic is larger than 1.2 for some parameters.\n",
      "The estimated number of effective samples is smaller than 200 for some parameters.\n"
     ]
    },
    {
     "name": "stdout",
     "output_type": "stream",
     "text": [
      "/!\\ Automatically setting parameter precision...\n"
     ]
    },
    {
     "name": "stderr",
     "output_type": "stream",
     "text": [
      "The gelman-rubin statistic is larger than 1.2 for some parameters.\n",
      "The estimated number of effective samples is smaller than 200 for some parameters.\n"
     ]
    },
    {
     "name": "stdout",
     "output_type": "stream",
     "text": [
      "/!\\ Automatically setting parameter precision...\n"
     ]
    },
    {
     "name": "stderr",
     "output_type": "stream",
     "text": [
      "The gelman-rubin statistic is larger than 1.05 for some parameters. This indicates slight problems during sampling.\n",
      "The estimated number of effective samples is smaller than 200 for some parameters.\n"
     ]
    },
    {
     "name": "stdout",
     "output_type": "stream",
     "text": [
      "/!\\ Automatically setting parameter precision...\n"
     ]
    },
    {
     "name": "stderr",
     "output_type": "stream",
     "text": [
      "The estimated number of effective samples is smaller than 200 for some parameters.\n"
     ]
    },
    {
     "name": "stdout",
     "output_type": "stream",
     "text": [
      "/!\\ Automatically setting parameter precision...\n"
     ]
    },
    {
     "name": "stderr",
     "output_type": "stream",
     "text": [
      "The gelman-rubin statistic is larger than 1.4 for some parameters. The sampler did not converge.\n",
      "The estimated number of effective samples is smaller than 200 for some parameters.\n"
     ]
    },
    {
     "name": "stdout",
     "output_type": "stream",
     "text": [
      "/!\\ Automatically setting parameter precision...\n"
     ]
    },
    {
     "name": "stderr",
     "output_type": "stream",
     "text": [
      "The gelman-rubin statistic is larger than 1.4 for some parameters. The sampler did not converge.\n",
      "The estimated number of effective samples is smaller than 200 for some parameters.\n"
     ]
    },
    {
     "name": "stdout",
     "output_type": "stream",
     "text": [
      "/!\\ Automatically setting parameter precision...\n"
     ]
    },
    {
     "name": "stderr",
     "output_type": "stream",
     "text": [
      "The estimated number of effective samples is smaller than 200 for some parameters.\n"
     ]
    },
    {
     "name": "stdout",
     "output_type": "stream",
     "text": [
      "/!\\ Automatically setting parameter precision...\n"
     ]
    },
    {
     "name": "stderr",
     "output_type": "stream",
     "text": [
      "The gelman-rubin statistic is larger than 1.2 for some parameters.\n",
      "The estimated number of effective samples is smaller than 200 for some parameters.\n"
     ]
    },
    {
     "name": "stdout",
     "output_type": "stream",
     "text": [
      "/!\\ Automatically setting parameter precision...\n"
     ]
    },
    {
     "name": "stderr",
     "output_type": "stream",
     "text": [
      "The gelman-rubin statistic is larger than 1.4 for some parameters. The sampler did not converge.\n",
      "The estimated number of effective samples is smaller than 200 for some parameters.\n"
     ]
    },
    {
     "name": "stdout",
     "output_type": "stream",
     "text": [
      "/!\\ Automatically setting parameter precision...\n"
     ]
    },
    {
     "name": "stderr",
     "output_type": "stream",
     "text": [
      "The gelman-rubin statistic is larger than 1.4 for some parameters. The sampler did not converge.\n",
      "The estimated number of effective samples is smaller than 200 for some parameters.\n"
     ]
    },
    {
     "name": "stdout",
     "output_type": "stream",
     "text": [
      "/!\\ Automatically setting parameter precision...\n"
     ]
    },
    {
     "name": "stderr",
     "output_type": "stream",
     "text": [
      "The gelman-rubin statistic is larger than 1.05 for some parameters. This indicates slight problems during sampling.\n",
      "The estimated number of effective samples is smaller than 200 for some parameters.\n"
     ]
    },
    {
     "name": "stdout",
     "output_type": "stream",
     "text": [
      "/!\\ Automatically setting parameter precision...\n"
     ]
    },
    {
     "name": "stderr",
     "output_type": "stream",
     "text": [
      "The gelman-rubin statistic is larger than 1.05 for some parameters. This indicates slight problems during sampling.\n",
      "The estimated number of effective samples is smaller than 200 for some parameters.\n"
     ]
    },
    {
     "name": "stdout",
     "output_type": "stream",
     "text": [
      "/!\\ Automatically setting parameter precision...\n"
     ]
    },
    {
     "name": "stderr",
     "output_type": "stream",
     "text": [
      "The gelman-rubin statistic is larger than 1.05 for some parameters. This indicates slight problems during sampling.\n",
      "The estimated number of effective samples is smaller than 200 for some parameters.\n"
     ]
    },
    {
     "name": "stdout",
     "output_type": "stream",
     "text": [
      "/!\\ Automatically setting parameter precision...\n"
     ]
    },
    {
     "name": "stderr",
     "output_type": "stream",
     "text": [
      "The gelman-rubin statistic is larger than 1.05 for some parameters. This indicates slight problems during sampling.\n",
      "The estimated number of effective samples is smaller than 200 for some parameters.\n"
     ]
    },
    {
     "name": "stdout",
     "output_type": "stream",
     "text": [
      "/!\\ Automatically setting parameter precision...\n"
     ]
    },
    {
     "name": "stderr",
     "output_type": "stream",
     "text": [
      "The estimated number of effective samples is smaller than 200 for some parameters.\n"
     ]
    },
    {
     "name": "stdout",
     "output_type": "stream",
     "text": [
      "/!\\ Automatically setting parameter precision...\n"
     ]
    },
    {
     "name": "stderr",
     "output_type": "stream",
     "text": [
      "The gelman-rubin statistic is larger than 1.2 for some parameters.\n",
      "The estimated number of effective samples is smaller than 200 for some parameters.\n"
     ]
    },
    {
     "name": "stdout",
     "output_type": "stream",
     "text": [
      "/!\\ Automatically setting parameter precision...\n"
     ]
    },
    {
     "name": "stderr",
     "output_type": "stream",
     "text": [
      "The gelman-rubin statistic is larger than 1.2 for some parameters.\n",
      "The estimated number of effective samples is smaller than 200 for some parameters.\n"
     ]
    },
    {
     "name": "stdout",
     "output_type": "stream",
     "text": [
      "/!\\ Automatically setting parameter precision...\n"
     ]
    },
    {
     "name": "stderr",
     "output_type": "stream",
     "text": [
      "The gelman-rubin statistic is larger than 1.05 for some parameters. This indicates slight problems during sampling.\n",
      "The estimated number of effective samples is smaller than 200 for some parameters.\n"
     ]
    },
    {
     "name": "stdout",
     "output_type": "stream",
     "text": [
      "/!\\ Automatically setting parameter precision...\n"
     ]
    },
    {
     "name": "stderr",
     "output_type": "stream",
     "text": [
      "The gelman-rubin statistic is larger than 1.4 for some parameters. The sampler did not converge.\n",
      "The estimated number of effective samples is smaller than 200 for some parameters.\n"
     ]
    },
    {
     "name": "stdout",
     "output_type": "stream",
     "text": [
      "/!\\ Automatically setting parameter precision...\n"
     ]
    },
    {
     "name": "stderr",
     "output_type": "stream",
     "text": [
      "The gelman-rubin statistic is larger than 1.2 for some parameters.\n",
      "The estimated number of effective samples is smaller than 200 for some parameters.\n"
     ]
    },
    {
     "name": "stdout",
     "output_type": "stream",
     "text": [
      "/!\\ Automatically setting parameter precision...\n"
     ]
    },
    {
     "name": "stderr",
     "output_type": "stream",
     "text": [
      "The gelman-rubin statistic is larger than 1.05 for some parameters. This indicates slight problems during sampling.\n",
      "The estimated number of effective samples is smaller than 200 for some parameters.\n"
     ]
    },
    {
     "name": "stdout",
     "output_type": "stream",
     "text": [
      "/!\\ Automatically setting parameter precision...\n",
      "Generating hierarchical model for 20 subjects...\n",
      "Fitting 1 model(s) using MCMC...\n",
      "  Fitting model 1 of 1...\n",
      "Generating hierarchical model for 20 subjects...\n"
     ]
    },
    {
     "name": "stderr",
     "output_type": "stream",
     "text": [
      "Sequential sampling (2 chains in 1 job)\n",
      "CompoundStep\n",
      ">Metropolis: [tau_offset]\n",
      ">Metropolis: [tau_sd]\n",
      ">Metropolis: [tau_mu]\n",
      ">Metropolis: [s_offset]\n",
      ">Metropolis: [s_sd]\n",
      ">Metropolis: [s_mu]\n",
      ">Metropolis: [gamma_offset]\n",
      ">Metropolis: [gamma_sd]\n",
      ">Metropolis: [gamma_mu]\n",
      ">Metropolis: [v_offset]\n",
      ">Metropolis: [v_sd]\n",
      ">Metropolis: [v_mu]\n"
     ]
    },
    {
     "name": "stdout",
     "output_type": "stream",
     "text": [
      "Fitting 1 model(s) using MCMC...\n",
      "  Fitting model 1 of 1...\n"
     ]
    },
    {
     "name": "stderr",
     "output_type": "stream",
     "text": [
      "Sequential sampling (2 chains in 1 job)\n",
      "CompoundStep\n",
      ">Metropolis: [tau_offset]\n",
      ">Metropolis: [tau_sd]\n",
      ">Metropolis: [tau_mu]\n",
      ">Metropolis: [s_offset]\n",
      ">Metropolis: [s_sd]\n",
      ">Metropolis: [s_mu]\n",
      ">Metropolis: [gamma_offset]\n",
      ">Metropolis: [gamma_sd]\n",
      ">Metropolis: [gamma_mu]\n",
      ">Metropolis: [v_offset]\n",
      ">Metropolis: [v_sd]\n",
      ">Metropolis: [v_mu]\n"
     ]
    },
    {
     "name": "stdout",
     "output_type": "stream",
     "text": [
      "Generating hierarchical model for 20 subjects...\n",
      "Fitting 1 model(s) using MCMC...\n",
      "  Fitting model 1 of 1...\n"
     ]
    },
    {
     "name": "stderr",
     "output_type": "stream",
     "text": [
      "Sequential sampling (2 chains in 1 job)\n",
      "CompoundStep\n",
      ">Metropolis: [tau_offset]\n",
      ">Metropolis: [tau_sd]\n",
      ">Metropolis: [tau_mu]\n",
      ">Metropolis: [s_offset]\n",
      ">Metropolis: [s_sd]\n",
      ">Metropolis: [s_mu]\n",
      ">Metropolis: [gamma_offset]\n",
      ">Metropolis: [gamma_sd]\n",
      ">Metropolis: [gamma_mu]\n",
      ">Metropolis: [v_offset]\n",
      ">Metropolis: [v_sd]\n",
      ">Metropolis: [v_mu]\n"
     ]
    },
    {
     "name": "stdout",
     "output_type": "stream",
     "text": [
      "Generating hierarchical model for 20 subjects...\n",
      "Fitting 1 model(s) using MCMC...\n",
      "  Fitting model 1 of 1...\n",
      "Generating hierarchical model for 20 subjects...\n",
      "Fitting 1 model(s) using MCMC...\n",
      "  Fitting model 1 of 1...\n"
     ]
    },
    {
     "name": "stderr",
     "output_type": "stream",
     "text": [
      "Sequential sampling (2 chains in 1 job)\n",
      "CompoundStep\n",
      ">Metropolis: [tau_offset]\n",
      ">Metropolis: [tau_sd]\n",
      ">Metropolis: [tau_mu]\n",
      ">Metropolis: [s_offset]\n",
      ">Metropolis: [s_sd]\n",
      ">Metropolis: [s_mu]\n",
      ">Metropolis: [gamma_offset]\n",
      ">Metropolis: [gamma_sd]\n",
      ">Metropolis: [gamma_mu]\n",
      ">Metropolis: [v_offset]\n",
      ">Metropolis: [v_sd]\n",
      ">Metropolis: [v_mu]\n"
     ]
    },
    {
     "name": "stdout",
     "output_type": "stream",
     "text": [
      "Generating hierarchical model for 20 subjects...\n",
      "Fitting 1 model(s) using MCMC...\n",
      "  Fitting model 1 of 1...\n"
     ]
    },
    {
     "name": "stderr",
     "output_type": "stream",
     "text": [
      "Sequential sampling (2 chains in 1 job)\n",
      "CompoundStep\n",
      ">Metropolis: [tau_offset]\n",
      ">Metropolis: [tau_sd]\n",
      ">Metropolis: [tau_mu]\n",
      ">Metropolis: [s_offset]\n",
      ">Metropolis: [s_sd]\n",
      ">Metropolis: [s_mu]\n",
      ">Metropolis: [gamma_offset]\n",
      ">Metropolis: [gamma_sd]\n",
      ">Metropolis: [gamma_mu]\n",
      ">Metropolis: [v_offset]\n",
      ">Metropolis: [v_sd]\n",
      ">Metropolis: [v_mu]\n"
     ]
    },
    {
     "name": "stdout",
     "output_type": "stream",
     "text": [
      "Generating hierarchical model for 20 subjects...\n",
      "Fitting 1 model(s) using MCMC...\n",
      "  Fitting model 1 of 1...\n",
      "Generating hierarchical model for 20 subjects...\n",
      "Generating hierarchical model for 20 subjects...\n",
      "Fitting 1 model(s) using MCMC...\n",
      "  Fitting model 1 of 1...\n"
     ]
    },
    {
     "name": "stderr",
     "output_type": "stream",
     "text": [
      "INFO (theano.gof.compilelock): Waiting for existing lock by process '73724' (I am process '73720')\n",
      "INFO (theano.gof.compilelock): To manually release the lock, delete /Users/felixmolter/.theano/compiledir_Darwin-17.7.0-x86_64-i386-64bit-i386-3.6.8-64/lock_dir\n"
     ]
    },
    {
     "name": "stdout",
     "output_type": "stream",
     "text": [
      "Generating hierarchical model for 20 subjects...\n"
     ]
    },
    {
     "name": "stderr",
     "output_type": "stream",
     "text": [
      "INFO (theano.gof.compilelock): Waiting for existing lock by process '73724' (I am process '73733')\n",
      "INFO (theano.gof.compilelock): To manually release the lock, delete /Users/felixmolter/.theano/compiledir_Darwin-17.7.0-x86_64-i386-64bit-i386-3.6.8-64/lock_dir\n",
      "INFO (theano.gof.compilelock): Waiting for existing lock by process '73724' (I am process '73720')\n",
      "INFO (theano.gof.compilelock): To manually release the lock, delete /Users/felixmolter/.theano/compiledir_Darwin-17.7.0-x86_64-i386-64bit-i386-3.6.8-64/lock_dir\n",
      "INFO (theano.gof.compilelock): Waiting for existing lock by process '73733' (I am process '73732')\n",
      "INFO (theano.gof.compilelock): To manually release the lock, delete /Users/felixmolter/.theano/compiledir_Darwin-17.7.0-x86_64-i386-64bit-i386-3.6.8-64/lock_dir\n",
      "INFO (theano.gof.compilelock): Waiting for existing lock by process '73720' (I am process '73723')\n",
      "INFO (theano.gof.compilelock): To manually release the lock, delete /Users/felixmolter/.theano/compiledir_Darwin-17.7.0-x86_64-i386-64bit-i386-3.6.8-64/lock_dir\n"
     ]
    },
    {
     "name": "stdout",
     "output_type": "stream",
     "text": [
      "Fitting 1 model(s) using MCMC...\n",
      "  Fitting model 1 of 1...\n"
     ]
    },
    {
     "name": "stderr",
     "output_type": "stream",
     "text": [
      "INFO (theano.gof.compilelock): Waiting for existing lock by process '73724' (I am process '73732')\n",
      "INFO (theano.gof.compilelock): To manually release the lock, delete /Users/felixmolter/.theano/compiledir_Darwin-17.7.0-x86_64-i386-64bit-i386-3.6.8-64/lock_dir\n",
      "Sequential sampling (2 chains in 1 job)\n",
      "CompoundStep\n",
      ">Metropolis: [tau_offset]\n",
      ">Metropolis: [tau_sd]\n",
      ">Metropolis: [tau_mu]\n",
      ">Metropolis: [s_offset]\n",
      ">Metropolis: [s_sd]\n",
      ">Metropolis: [s_mu]\n",
      ">Metropolis: [gamma_offset]\n",
      ">Metropolis: [gamma_sd]\n",
      ">Metropolis: [gamma_mu]\n",
      ">Metropolis: [v_offset]\n",
      ">Metropolis: [v_sd]\n",
      ">Metropolis: [v_mu]\n",
      "INFO (theano.gof.compilelock): Waiting for existing lock by process '73723' (I am process '73732')\n",
      "INFO (theano.gof.compilelock): To manually release the lock, delete /Users/felixmolter/.theano/compiledir_Darwin-17.7.0-x86_64-i386-64bit-i386-3.6.8-64/lock_dir\n",
      "INFO (theano.gof.compilelock): Waiting for existing lock by process '73723' (I am process '73720')\n",
      "INFO (theano.gof.compilelock): To manually release the lock, delete /Users/felixmolter/.theano/compiledir_Darwin-17.7.0-x86_64-i386-64bit-i386-3.6.8-64/lock_dir\n"
     ]
    },
    {
     "name": "stdout",
     "output_type": "stream",
     "text": [
      "Fitting 1 model(s) using MCMC...\n",
      "  Fitting model 1 of 1...\n"
     ]
    },
    {
     "name": "stderr",
     "output_type": "stream",
     "text": [
      "INFO (theano.gof.compilelock): Waiting for existing lock by process '73732' (I am process '73720')\n",
      "INFO (theano.gof.compilelock): To manually release the lock, delete /Users/felixmolter/.theano/compiledir_Darwin-17.7.0-x86_64-i386-64bit-i386-3.6.8-64/lock_dir\n",
      "INFO (theano.gof.compilelock): Waiting for existing lock by process '73720' (I am process '73724')\n",
      "INFO (theano.gof.compilelock): To manually release the lock, delete /Users/felixmolter/.theano/compiledir_Darwin-17.7.0-x86_64-i386-64bit-i386-3.6.8-64/lock_dir\n",
      "INFO (theano.gof.compilelock): Waiting for existing lock by process '73732' (I am process '73723')\n",
      "INFO (theano.gof.compilelock): To manually release the lock, delete /Users/felixmolter/.theano/compiledir_Darwin-17.7.0-x86_64-i386-64bit-i386-3.6.8-64/lock_dir\n",
      "INFO (theano.gof.compilelock): Waiting for existing lock by process '73732' (I am process '73724')\n",
      "INFO (theano.gof.compilelock): To manually release the lock, delete /Users/felixmolter/.theano/compiledir_Darwin-17.7.0-x86_64-i386-64bit-i386-3.6.8-64/lock_dir\n",
      "INFO (theano.gof.compilelock): Waiting for existing lock by process '73723' (I am process '73724')\n",
      "INFO (theano.gof.compilelock): To manually release the lock, delete /Users/felixmolter/.theano/compiledir_Darwin-17.7.0-x86_64-i386-64bit-i386-3.6.8-64/lock_dir\n",
      "Sequential sampling (2 chains in 1 job)\n",
      "CompoundStep\n",
      ">Metropolis: [tau_offset]\n",
      ">Metropolis: [tau_sd]\n",
      ">Metropolis: [tau_mu]\n",
      ">Metropolis: [s_offset]\n",
      ">Metropolis: [s_sd]\n",
      ">Metropolis: [s_mu]\n",
      ">Metropolis: [gamma_offset]\n",
      ">Metropolis: [gamma_sd]\n",
      ">Metropolis: [gamma_mu]\n",
      ">Metropolis: [v_offset]\n",
      ">Metropolis: [v_sd]\n",
      ">Metropolis: [v_mu]\n",
      "Sequential sampling (2 chains in 1 job)\n",
      "CompoundStep\n",
      ">Metropolis: [tau_offset]\n",
      ">Metropolis: [tau_sd]\n",
      ">Metropolis: [tau_mu]\n",
      ">Metropolis: [s_offset]\n",
      ">Metropolis: [s_sd]\n",
      ">Metropolis: [s_mu]\n",
      ">Metropolis: [gamma_offset]\n",
      ">Metropolis: [gamma_sd]\n",
      ">Metropolis: [gamma_mu]\n",
      ">Metropolis: [v_offset]\n",
      ">Metropolis: [v_sd]\n",
      ">Metropolis: [v_mu]\n"
     ]
    },
    {
     "name": "stdout",
     "output_type": "stream",
     "text": [
      "Generating hierarchical model for 20 subjects...\n"
     ]
    },
    {
     "name": "stderr",
     "output_type": "stream",
     "text": [
      "Sequential sampling (2 chains in 1 job)\n",
      "CompoundStep\n",
      ">Metropolis: [tau_offset]\n",
      ">Metropolis: [tau_sd]\n",
      ">Metropolis: [tau_mu]\n",
      ">Metropolis: [s_offset]\n",
      ">Metropolis: [s_sd]\n",
      ">Metropolis: [s_mu]\n",
      ">Metropolis: [gamma_offset]\n",
      ">Metropolis: [gamma_sd]\n",
      ">Metropolis: [gamma_mu]\n",
      ">Metropolis: [v_offset]\n",
      ">Metropolis: [v_sd]\n",
      ">Metropolis: [v_mu]\n",
      "Sequential sampling (2 chains in 1 job)\n",
      "CompoundStep\n",
      ">Metropolis: [tau_offset]\n",
      ">Metropolis: [tau_sd]\n",
      ">Metropolis: [tau_mu]\n",
      ">Metropolis: [s_offset]\n",
      ">Metropolis: [s_sd]\n",
      ">Metropolis: [s_mu]\n",
      ">Metropolis: [gamma_offset]\n",
      ">Metropolis: [gamma_sd]\n",
      ">Metropolis: [gamma_mu]\n",
      ">Metropolis: [v_offset]\n",
      ">Metropolis: [v_sd]\n",
      ">Metropolis: [v_mu]\n"
     ]
    },
    {
     "name": "stdout",
     "output_type": "stream",
     "text": [
      "Fitting 1 model(s) using MCMC...\n",
      "  Fitting model 1 of 1...\n"
     ]
    },
    {
     "name": "stderr",
     "output_type": "stream",
     "text": [
      "Sequential sampling (2 chains in 1 job)\n",
      "CompoundStep\n",
      ">Metropolis: [tau_offset]\n",
      ">Metropolis: [tau_sd]\n",
      ">Metropolis: [tau_mu]\n",
      ">Metropolis: [s_offset]\n",
      ">Metropolis: [s_sd]\n",
      ">Metropolis: [s_mu]\n",
      ">Metropolis: [gamma_offset]\n",
      ">Metropolis: [gamma_sd]\n",
      ">Metropolis: [gamma_mu]\n",
      ">Metropolis: [v_offset]\n",
      ">Metropolis: [v_sd]\n",
      ">Metropolis: [v_mu]\n"
     ]
    },
    {
     "name": "stdout",
     "output_type": "stream",
     "text": [
      "Generating hierarchical model for 20 subjects...\n",
      "Fitting 1 model(s) using MCMC...\n",
      "  Fitting model 1 of 1...\n",
      "Generating hierarchical model for 20 subjects...\n",
      "Fitting 1 model(s) using MCMC...\n",
      "  Fitting model 1 of 1...\n",
      "Generating hierarchical model for 20 subjects...\n",
      "Fitting 1 model(s) using MCMC...\n",
      "  Fitting model 1 of 1...\n"
     ]
    },
    {
     "name": "stderr",
     "output_type": "stream",
     "text": [
      "Sequential sampling (2 chains in 1 job)\n",
      "CompoundStep\n",
      ">Metropolis: [tau_offset]\n",
      ">Metropolis: [tau_sd]\n",
      ">Metropolis: [tau_mu]\n",
      ">Metropolis: [s_offset]\n",
      ">Metropolis: [s_sd]\n",
      ">Metropolis: [s_mu]\n",
      ">Metropolis: [gamma_offset]\n",
      ">Metropolis: [gamma_sd]\n",
      ">Metropolis: [gamma_mu]\n",
      ">Metropolis: [v_offset]\n",
      ">Metropolis: [v_sd]\n",
      ">Metropolis: [v_mu]\n"
     ]
    },
    {
     "name": "stdout",
     "output_type": "stream",
     "text": [
      "Generating hierarchical model for 20 subjects...\n",
      "Fitting 1 model(s) using MCMC...\n",
      "  Fitting model 1 of 1...\n"
     ]
    },
    {
     "name": "stderr",
     "output_type": "stream",
     "text": [
      "Sequential sampling (2 chains in 1 job)\n",
      "CompoundStep\n",
      ">Metropolis: [tau_offset]\n",
      ">Metropolis: [tau_sd]\n",
      ">Metropolis: [tau_mu]\n",
      ">Metropolis: [s_offset]\n",
      ">Metropolis: [s_sd]\n",
      ">Metropolis: [s_mu]\n",
      ">Metropolis: [gamma_offset]\n",
      ">Metropolis: [gamma_sd]\n",
      ">Metropolis: [gamma_mu]\n",
      ">Metropolis: [v_offset]\n",
      ">Metropolis: [v_sd]\n",
      ">Metropolis: [v_mu]\n",
      "Sequential sampling (2 chains in 1 job)\n",
      "CompoundStep\n",
      ">Metropolis: [tau_offset]\n",
      ">Metropolis: [tau_sd]\n",
      ">Metropolis: [tau_mu]\n",
      ">Metropolis: [s_offset]\n",
      ">Metropolis: [s_sd]\n",
      ">Metropolis: [s_mu]\n",
      ">Metropolis: [gamma_offset]\n",
      ">Metropolis: [gamma_sd]\n",
      ">Metropolis: [gamma_mu]\n",
      ">Metropolis: [v_offset]\n",
      ">Metropolis: [v_sd]\n",
      ">Metropolis: [v_mu]\n"
     ]
    },
    {
     "name": "stdout",
     "output_type": "stream",
     "text": [
      "Generating hierarchical model for 20 subjects...\n",
      "Fitting 1 model(s) using MCMC...\n",
      "  Fitting model 1 of 1...\n"
     ]
    },
    {
     "name": "stderr",
     "output_type": "stream",
     "text": [
      "Sequential sampling (2 chains in 1 job)\n",
      "CompoundStep\n",
      ">Metropolis: [tau_offset]\n",
      ">Metropolis: [tau_sd]\n",
      ">Metropolis: [tau_mu]\n",
      ">Metropolis: [s_offset]\n",
      ">Metropolis: [s_sd]\n",
      ">Metropolis: [s_mu]\n",
      ">Metropolis: [gamma_offset]\n",
      ">Metropolis: [gamma_sd]\n",
      ">Metropolis: [gamma_mu]\n",
      ">Metropolis: [v_offset]\n",
      ">Metropolis: [v_sd]\n",
      ">Metropolis: [v_mu]\n"
     ]
    },
    {
     "name": "stdout",
     "output_type": "stream",
     "text": [
      "Generating hierarchical model for 20 subjects...\n"
     ]
    },
    {
     "name": "stderr",
     "output_type": "stream",
     "text": [
      "Sequential sampling (2 chains in 1 job)\n",
      "CompoundStep\n",
      ">Metropolis: [tau_offset]\n",
      ">Metropolis: [tau_sd]\n",
      ">Metropolis: [tau_mu]\n",
      ">Metropolis: [s_offset]\n",
      ">Metropolis: [s_sd]\n",
      ">Metropolis: [s_mu]\n",
      ">Metropolis: [gamma_offset]\n",
      ">Metropolis: [gamma_sd]\n",
      ">Metropolis: [gamma_mu]\n",
      ">Metropolis: [v_offset]\n",
      ">Metropolis: [v_sd]\n",
      ">Metropolis: [v_mu]\n"
     ]
    },
    {
     "name": "stdout",
     "output_type": "stream",
     "text": [
      "Fitting 1 model(s) using MCMC...\n",
      "  Fitting model 1 of 1...\n"
     ]
    },
    {
     "name": "stderr",
     "output_type": "stream",
     "text": [
      "Sequential sampling (2 chains in 1 job)\n",
      "CompoundStep\n",
      ">Metropolis: [tau_offset]\n",
      ">Metropolis: [tau_sd]\n",
      ">Metropolis: [tau_mu]\n",
      ">Metropolis: [s_offset]\n",
      ">Metropolis: [s_sd]\n",
      ">Metropolis: [s_mu]\n",
      ">Metropolis: [gamma_offset]\n",
      ">Metropolis: [gamma_sd]\n",
      ">Metropolis: [gamma_mu]\n",
      ">Metropolis: [v_offset]\n",
      ">Metropolis: [v_sd]\n",
      ">Metropolis: [v_mu]\n"
     ]
    },
    {
     "name": "stdout",
     "output_type": "stream",
     "text": [
      "Generating hierarchical model for 20 subjects...\n",
      "Fitting 1 model(s) using MCMC...\n",
      "  Fitting model 1 of 1...\n",
      "Generating hierarchical model for 20 subjects...\n",
      "Generating hierarchical model for 20 subjects...\n",
      "Fitting 1 model(s) using MCMC...\n",
      "  Fitting model 1 of 1...\n",
      "Fitting 1 model(s) using MCMC...\n",
      "  Fitting model 1 of 1...\n"
     ]
    },
    {
     "name": "stderr",
     "output_type": "stream",
     "text": [
      "INFO (theano.gof.compilelock): Waiting for existing lock by process '73721' (I am process '73718')\n",
      "INFO (theano.gof.compilelock): To manually release the lock, delete /Users/felixmolter/.theano/compiledir_Darwin-17.7.0-x86_64-i386-64bit-i386-3.6.8-64/lock_dir\n",
      "INFO (theano.gof.compilelock): Waiting for existing lock by process '73727' (I am process '73718')\n",
      "INFO (theano.gof.compilelock): To manually release the lock, delete /Users/felixmolter/.theano/compiledir_Darwin-17.7.0-x86_64-i386-64bit-i386-3.6.8-64/lock_dir\n"
     ]
    },
    {
     "name": "stdout",
     "output_type": "stream",
     "text": [
      "Generating hierarchical model for 20 subjects...\n",
      "Fitting 1 model(s) using MCMC...\n",
      "  Fitting model 1 of 1...\n",
      "Generating hierarchical model for 20 subjects...\n",
      "Fitting 1 model(s) using MCMC...\n",
      "  Fitting model 1 of 1...\n"
     ]
    },
    {
     "name": "stderr",
     "output_type": "stream",
     "text": [
      "Sequential sampling (2 chains in 1 job)\n",
      "CompoundStep\n",
      ">Metropolis: [tau_offset]\n",
      ">Metropolis: [tau_sd]\n",
      ">Metropolis: [tau_mu]\n",
      ">Metropolis: [s_offset]\n",
      ">Metropolis: [s_sd]\n",
      ">Metropolis: [s_mu]\n",
      ">Metropolis: [gamma_offset]\n",
      ">Metropolis: [gamma_sd]\n",
      ">Metropolis: [gamma_mu]\n",
      ">Metropolis: [v_offset]\n",
      ">Metropolis: [v_sd]\n",
      ">Metropolis: [v_mu]\n",
      "Sequential sampling (2 chains in 1 job)\n",
      "CompoundStep\n",
      ">Metropolis: [tau_offset]\n",
      ">Metropolis: [tau_sd]\n",
      ">Metropolis: [tau_mu]\n",
      ">Metropolis: [s_offset]\n",
      ">Metropolis: [s_sd]\n",
      ">Metropolis: [s_mu]\n",
      ">Metropolis: [gamma_offset]\n",
      ">Metropolis: [gamma_sd]\n",
      ">Metropolis: [gamma_mu]\n",
      ">Metropolis: [v_offset]\n",
      ">Metropolis: [v_sd]\n",
      ">Metropolis: [v_mu]\n",
      "Sequential sampling (2 chains in 1 job)\n",
      "CompoundStep\n",
      ">Metropolis: [tau_offset]\n",
      ">Metropolis: [tau_sd]\n",
      ">Metropolis: [tau_mu]\n",
      ">Metropolis: [s_offset]\n",
      ">Metropolis: [s_sd]\n",
      ">Metropolis: [s_mu]\n",
      ">Metropolis: [gamma_offset]\n",
      ">Metropolis: [gamma_sd]\n",
      ">Metropolis: [gamma_mu]\n",
      ">Metropolis: [v_offset]\n",
      ">Metropolis: [v_sd]\n",
      ">Metropolis: [v_mu]\n",
      "Sequential sampling (2 chains in 1 job)\n",
      "CompoundStep\n",
      ">Metropolis: [tau_offset]\n",
      ">Metropolis: [tau_sd]\n",
      ">Metropolis: [tau_mu]\n",
      ">Metropolis: [s_offset]\n",
      ">Metropolis: [s_sd]\n",
      ">Metropolis: [s_mu]\n",
      ">Metropolis: [gamma_offset]\n",
      ">Metropolis: [gamma_sd]\n",
      ">Metropolis: [gamma_mu]\n",
      ">Metropolis: [v_offset]\n",
      ">Metropolis: [v_sd]\n",
      ">Metropolis: [v_mu]\n",
      "Sequential sampling (2 chains in 1 job)\n",
      "CompoundStep\n",
      ">Metropolis: [tau_offset]\n",
      ">Metropolis: [tau_sd]\n",
      ">Metropolis: [tau_mu]\n",
      ">Metropolis: [s_offset]\n",
      ">Metropolis: [s_sd]\n",
      ">Metropolis: [s_mu]\n",
      ">Metropolis: [gamma_offset]\n",
      ">Metropolis: [gamma_sd]\n",
      ">Metropolis: [gamma_mu]\n",
      ">Metropolis: [v_offset]\n",
      ">Metropolis: [v_sd]\n",
      ">Metropolis: [v_mu]\n",
      "The estimated number of effective samples is smaller than 200 for some parameters.\n"
     ]
    },
    {
     "name": "stdout",
     "output_type": "stream",
     "text": [
      "/!\\ Automatically setting parameter precision...\n"
     ]
    },
    {
     "name": "stderr",
     "output_type": "stream",
     "text": [
      "The gelman-rubin statistic is larger than 1.05 for some parameters. This indicates slight problems during sampling.\n",
      "The estimated number of effective samples is smaller than 200 for some parameters.\n"
     ]
    },
    {
     "name": "stdout",
     "output_type": "stream",
     "text": [
      "/!\\ Automatically setting parameter precision...\n"
     ]
    },
    {
     "name": "stderr",
     "output_type": "stream",
     "text": [
      "The gelman-rubin statistic is larger than 1.05 for some parameters. This indicates slight problems during sampling.\n",
      "The estimated number of effective samples is smaller than 200 for some parameters.\n"
     ]
    },
    {
     "name": "stdout",
     "output_type": "stream",
     "text": [
      "/!\\ Automatically setting parameter precision...\n"
     ]
    },
    {
     "name": "stderr",
     "output_type": "stream",
     "text": [
      "The gelman-rubin statistic is larger than 1.05 for some parameters. This indicates slight problems during sampling.\n",
      "The estimated number of effective samples is smaller than 200 for some parameters.\n"
     ]
    },
    {
     "name": "stdout",
     "output_type": "stream",
     "text": [
      "/!\\ Automatically setting parameter precision...\n"
     ]
    },
    {
     "name": "stderr",
     "output_type": "stream",
     "text": [
      "The gelman-rubin statistic is larger than 1.05 for some parameters. This indicates slight problems during sampling.\n",
      "The estimated number of effective samples is smaller than 200 for some parameters.\n"
     ]
    },
    {
     "name": "stdout",
     "output_type": "stream",
     "text": [
      "/!\\ Automatically setting parameter precision...\n"
     ]
    },
    {
     "name": "stderr",
     "output_type": "stream",
     "text": [
      "The gelman-rubin statistic is larger than 1.05 for some parameters. This indicates slight problems during sampling.\n",
      "The estimated number of effective samples is smaller than 200 for some parameters.\n"
     ]
    },
    {
     "name": "stdout",
     "output_type": "stream",
     "text": [
      "/!\\ Automatically setting parameter precision...\n"
     ]
    },
    {
     "name": "stderr",
     "output_type": "stream",
     "text": [
      "The estimated number of effective samples is smaller than 200 for some parameters.\n"
     ]
    },
    {
     "name": "stdout",
     "output_type": "stream",
     "text": [
      "/!\\ Automatically setting parameter precision...\n"
     ]
    },
    {
     "name": "stderr",
     "output_type": "stream",
     "text": [
      "The gelman-rubin statistic is larger than 1.2 for some parameters.\n",
      "The estimated number of effective samples is smaller than 200 for some parameters.\n"
     ]
    },
    {
     "name": "stdout",
     "output_type": "stream",
     "text": [
      "/!\\ Automatically setting parameter precision...\n"
     ]
    },
    {
     "name": "stderr",
     "output_type": "stream",
     "text": [
      "The estimated number of effective samples is smaller than 200 for some parameters.\n"
     ]
    },
    {
     "name": "stdout",
     "output_type": "stream",
     "text": [
      "/!\\ Automatically setting parameter precision...\n"
     ]
    },
    {
     "name": "stderr",
     "output_type": "stream",
     "text": [
      "The gelman-rubin statistic is larger than 1.4 for some parameters. The sampler did not converge.\n",
      "The estimated number of effective samples is smaller than 200 for some parameters.\n"
     ]
    },
    {
     "name": "stdout",
     "output_type": "stream",
     "text": [
      "/!\\ Automatically setting parameter precision...\n"
     ]
    },
    {
     "name": "stderr",
     "output_type": "stream",
     "text": [
      "The gelman-rubin statistic is larger than 1.2 for some parameters.\n",
      "The estimated number of effective samples is smaller than 200 for some parameters.\n"
     ]
    },
    {
     "name": "stdout",
     "output_type": "stream",
     "text": [
      "/!\\ Automatically setting parameter precision...\n"
     ]
    },
    {
     "name": "stderr",
     "output_type": "stream",
     "text": [
      "The gelman-rubin statistic is larger than 1.2 for some parameters.\n",
      "The estimated number of effective samples is smaller than 200 for some parameters.\n"
     ]
    },
    {
     "name": "stdout",
     "output_type": "stream",
     "text": [
      "/!\\ Automatically setting parameter precision...\n"
     ]
    },
    {
     "name": "stderr",
     "output_type": "stream",
     "text": [
      "The gelman-rubin statistic is larger than 1.05 for some parameters. This indicates slight problems during sampling.\n",
      "The estimated number of effective samples is smaller than 200 for some parameters.\n"
     ]
    },
    {
     "name": "stdout",
     "output_type": "stream",
     "text": [
      "/!\\ Automatically setting parameter precision...\n"
     ]
    },
    {
     "name": "stderr",
     "output_type": "stream",
     "text": [
      "The estimated number of effective samples is smaller than 200 for some parameters.\n"
     ]
    },
    {
     "name": "stdout",
     "output_type": "stream",
     "text": [
      "/!\\ Automatically setting parameter precision...\n"
     ]
    },
    {
     "name": "stderr",
     "output_type": "stream",
     "text": [
      "The estimated number of effective samples is smaller than 200 for some parameters.\n"
     ]
    },
    {
     "name": "stdout",
     "output_type": "stream",
     "text": [
      "/!\\ Automatically setting parameter precision...\n"
     ]
    },
    {
     "name": "stderr",
     "output_type": "stream",
     "text": [
      "The gelman-rubin statistic is larger than 1.4 for some parameters. The sampler did not converge.\n",
      "The estimated number of effective samples is smaller than 200 for some parameters.\n"
     ]
    },
    {
     "name": "stdout",
     "output_type": "stream",
     "text": [
      "/!\\ Automatically setting parameter precision...\n"
     ]
    },
    {
     "name": "stderr",
     "output_type": "stream",
     "text": [
      "The gelman-rubin statistic is larger than 1.2 for some parameters.\n",
      "The estimated number of effective samples is smaller than 200 for some parameters.\n"
     ]
    },
    {
     "name": "stdout",
     "output_type": "stream",
     "text": [
      "/!\\ Automatically setting parameter precision...\n"
     ]
    },
    {
     "name": "stderr",
     "output_type": "stream",
     "text": [
      "The gelman-rubin statistic is larger than 1.2 for some parameters.\n",
      "The estimated number of effective samples is smaller than 200 for some parameters.\n"
     ]
    },
    {
     "name": "stdout",
     "output_type": "stream",
     "text": [
      "/!\\ Automatically setting parameter precision...\n"
     ]
    },
    {
     "name": "stderr",
     "output_type": "stream",
     "text": [
      "The gelman-rubin statistic is larger than 1.4 for some parameters. The sampler did not converge.\n",
      "The estimated number of effective samples is smaller than 200 for some parameters.\n"
     ]
    },
    {
     "name": "stdout",
     "output_type": "stream",
     "text": [
      "/!\\ Automatically setting parameter precision...\n"
     ]
    },
    {
     "name": "stderr",
     "output_type": "stream",
     "text": [
      "The gelman-rubin statistic is larger than 1.05 for some parameters. This indicates slight problems during sampling.\n",
      "The estimated number of effective samples is smaller than 200 for some parameters.\n"
     ]
    },
    {
     "name": "stdout",
     "output_type": "stream",
     "text": [
      "/!\\ Automatically setting parameter precision...\n"
     ]
    },
    {
     "name": "stderr",
     "output_type": "stream",
     "text": [
      "The estimated number of effective samples is smaller than 200 for some parameters.\n"
     ]
    },
    {
     "name": "stdout",
     "output_type": "stream",
     "text": [
      "/!\\ Automatically setting parameter precision...\n"
     ]
    },
    {
     "name": "stderr",
     "output_type": "stream",
     "text": [
      "The gelman-rubin statistic is larger than 1.4 for some parameters. The sampler did not converge.\n",
      "The estimated number of effective samples is smaller than 200 for some parameters.\n"
     ]
    },
    {
     "name": "stdout",
     "output_type": "stream",
     "text": [
      "/!\\ Automatically setting parameter precision...\n",
      "Generating hierarchical model for 20 subjects...\n",
      "Fitting 1 model(s) using MCMC...\n",
      "  Fitting model 1 of 1...\n"
     ]
    },
    {
     "name": "stderr",
     "output_type": "stream",
     "text": [
      "Sequential sampling (2 chains in 1 job)\n",
      "CompoundStep\n",
      ">Metropolis: [tau_offset]\n",
      ">Metropolis: [tau_sd]\n",
      ">Metropolis: [tau_mu]\n",
      ">Metropolis: [s_offset]\n",
      ">Metropolis: [s_sd]\n",
      ">Metropolis: [s_mu]\n",
      ">Metropolis: [gamma_offset]\n",
      ">Metropolis: [gamma_sd]\n",
      ">Metropolis: [gamma_mu]\n",
      ">Metropolis: [v_offset]\n",
      ">Metropolis: [v_sd]\n",
      ">Metropolis: [v_mu]\n"
     ]
    },
    {
     "name": "stdout",
     "output_type": "stream",
     "text": [
      "Generating hierarchical model for 20 subjects...\n",
      "Fitting 1 model(s) using MCMC...\n",
      "  Fitting model 1 of 1...\n"
     ]
    },
    {
     "name": "stderr",
     "output_type": "stream",
     "text": [
      "Sequential sampling (2 chains in 1 job)\n",
      "CompoundStep\n",
      ">Metropolis: [tau_offset]\n",
      ">Metropolis: [tau_sd]\n",
      ">Metropolis: [tau_mu]\n",
      ">Metropolis: [s_offset]\n",
      ">Metropolis: [s_sd]\n",
      ">Metropolis: [s_mu]\n",
      ">Metropolis: [gamma_offset]\n",
      ">Metropolis: [gamma_sd]\n",
      ">Metropolis: [gamma_mu]\n",
      ">Metropolis: [v_offset]\n",
      ">Metropolis: [v_sd]\n",
      ">Metropolis: [v_mu]\n"
     ]
    },
    {
     "name": "stdout",
     "output_type": "stream",
     "text": [
      "Generating hierarchical model for 20 subjects...\n",
      "Fitting 1 model(s) using MCMC...\n",
      "  Fitting model 1 of 1...\n"
     ]
    },
    {
     "name": "stderr",
     "output_type": "stream",
     "text": [
      "Sequential sampling (2 chains in 1 job)\n",
      "CompoundStep\n",
      ">Metropolis: [tau_offset]\n",
      ">Metropolis: [tau_sd]\n",
      ">Metropolis: [tau_mu]\n",
      ">Metropolis: [s_offset]\n",
      ">Metropolis: [s_sd]\n",
      ">Metropolis: [s_mu]\n",
      ">Metropolis: [gamma_offset]\n",
      ">Metropolis: [gamma_sd]\n",
      ">Metropolis: [gamma_mu]\n",
      ">Metropolis: [v_offset]\n",
      ">Metropolis: [v_sd]\n",
      ">Metropolis: [v_mu]\n"
     ]
    },
    {
     "name": "stdout",
     "output_type": "stream",
     "text": [
      "Generating hierarchical model for 20 subjects...\n",
      "Fitting 1 model(s) using MCMC...\n",
      "  Fitting model 1 of 1...\n"
     ]
    },
    {
     "name": "stderr",
     "output_type": "stream",
     "text": [
      "Sequential sampling (2 chains in 1 job)\n",
      "CompoundStep\n",
      ">Metropolis: [tau_offset]\n",
      ">Metropolis: [tau_sd]\n",
      ">Metropolis: [tau_mu]\n",
      ">Metropolis: [s_offset]\n",
      ">Metropolis: [s_sd]\n",
      ">Metropolis: [s_mu]\n",
      ">Metropolis: [gamma_offset]\n",
      ">Metropolis: [gamma_sd]\n",
      ">Metropolis: [gamma_mu]\n",
      ">Metropolis: [v_offset]\n",
      ">Metropolis: [v_sd]\n",
      ">Metropolis: [v_mu]\n"
     ]
    },
    {
     "name": "stdout",
     "output_type": "stream",
     "text": [
      "Generating hierarchical model for 20 subjects...\n",
      "Fitting 1 model(s) using MCMC...\n",
      "  Fitting model 1 of 1...\n",
      "Generating hierarchical model for 20 subjects...\n",
      "Fitting 1 model(s) using MCMC...\n",
      "  Fitting model 1 of 1...\n"
     ]
    },
    {
     "name": "stderr",
     "output_type": "stream",
     "text": [
      "Sequential sampling (2 chains in 1 job)\n",
      "CompoundStep\n",
      ">Metropolis: [tau_offset]\n",
      ">Metropolis: [tau_sd]\n",
      ">Metropolis: [tau_mu]\n",
      ">Metropolis: [s_offset]\n",
      ">Metropolis: [s_sd]\n",
      ">Metropolis: [s_mu]\n",
      ">Metropolis: [gamma_offset]\n",
      ">Metropolis: [gamma_sd]\n",
      ">Metropolis: [gamma_mu]\n",
      ">Metropolis: [v_offset]\n",
      ">Metropolis: [v_sd]\n",
      ">Metropolis: [v_mu]\n",
      "Sequential sampling (2 chains in 1 job)\n",
      "CompoundStep\n",
      ">Metropolis: [tau_offset]\n",
      ">Metropolis: [tau_sd]\n",
      ">Metropolis: [tau_mu]\n",
      ">Metropolis: [s_offset]\n",
      ">Metropolis: [s_sd]\n",
      ">Metropolis: [s_mu]\n",
      ">Metropolis: [gamma_offset]\n",
      ">Metropolis: [gamma_sd]\n",
      ">Metropolis: [gamma_mu]\n",
      ">Metropolis: [v_offset]\n",
      ">Metropolis: [v_sd]\n",
      ">Metropolis: [v_mu]\n"
     ]
    },
    {
     "name": "stdout",
     "output_type": "stream",
     "text": [
      "Generating hierarchical model for 20 subjects...\n",
      "Fitting 1 model(s) using MCMC...\n",
      "  Fitting model 1 of 1...\n",
      "Generating hierarchical model for 20 subjects...\n",
      "Fitting 1 model(s) using MCMC...\n",
      "  Fitting model 1 of 1...\n",
      "Generating hierarchical model for 20 subjects...\n",
      "Fitting 1 model(s) using MCMC...\n",
      "  Fitting model 1 of 1...\n"
     ]
    },
    {
     "name": "stderr",
     "output_type": "stream",
     "text": [
      "Sequential sampling (2 chains in 1 job)\n",
      "CompoundStep\n",
      ">Metropolis: [tau_offset]\n",
      ">Metropolis: [tau_sd]\n",
      ">Metropolis: [tau_mu]\n",
      ">Metropolis: [s_offset]\n",
      ">Metropolis: [s_sd]\n",
      ">Metropolis: [s_mu]\n",
      ">Metropolis: [gamma_offset]\n",
      ">Metropolis: [gamma_sd]\n",
      ">Metropolis: [gamma_mu]\n",
      ">Metropolis: [v_offset]\n",
      ">Metropolis: [v_sd]\n",
      ">Metropolis: [v_mu]\n",
      "Sequential sampling (2 chains in 1 job)\n",
      "CompoundStep\n",
      ">Metropolis: [tau_offset]\n",
      ">Metropolis: [tau_sd]\n",
      ">Metropolis: [tau_mu]\n",
      ">Metropolis: [s_offset]\n",
      ">Metropolis: [s_sd]\n",
      ">Metropolis: [s_mu]\n",
      ">Metropolis: [gamma_offset]\n",
      ">Metropolis: [gamma_sd]\n",
      ">Metropolis: [gamma_mu]\n",
      ">Metropolis: [v_offset]\n",
      ">Metropolis: [v_sd]\n",
      ">Metropolis: [v_mu]\n",
      "Sequential sampling (2 chains in 1 job)\n",
      "CompoundStep\n",
      ">Metropolis: [tau_offset]\n",
      ">Metropolis: [tau_sd]\n",
      ">Metropolis: [tau_mu]\n",
      ">Metropolis: [s_offset]\n",
      ">Metropolis: [s_sd]\n",
      ">Metropolis: [s_mu]\n",
      ">Metropolis: [gamma_offset]\n",
      ">Metropolis: [gamma_sd]\n",
      ">Metropolis: [gamma_mu]\n",
      ">Metropolis: [v_offset]\n",
      ">Metropolis: [v_sd]\n",
      ">Metropolis: [v_mu]\n"
     ]
    },
    {
     "name": "stdout",
     "output_type": "stream",
     "text": [
      "Generating hierarchical model for 20 subjects...\n",
      "Fitting 1 model(s) using MCMC...\n",
      "  Fitting model 1 of 1...\n",
      "Generating hierarchical model for 20 subjects...\n",
      "Fitting 1 model(s) using MCMC...\n",
      "  Fitting model 1 of 1...\n",
      "Generating hierarchical model for 20 subjects...\n",
      "Fitting 1 model(s) using MCMC...\n",
      "  Fitting model 1 of 1...\n"
     ]
    },
    {
     "name": "stderr",
     "output_type": "stream",
     "text": [
      "Sequential sampling (2 chains in 1 job)\n",
      "CompoundStep\n",
      ">Metropolis: [tau_offset]\n",
      ">Metropolis: [tau_sd]\n",
      ">Metropolis: [tau_mu]\n",
      ">Metropolis: [s_offset]\n",
      ">Metropolis: [s_sd]\n",
      ">Metropolis: [s_mu]\n",
      ">Metropolis: [gamma_offset]\n",
      ">Metropolis: [gamma_sd]\n",
      ">Metropolis: [gamma_mu]\n",
      ">Metropolis: [v_offset]\n",
      ">Metropolis: [v_sd]\n",
      ">Metropolis: [v_mu]\n"
     ]
    },
    {
     "name": "stdout",
     "output_type": "stream",
     "text": [
      "Generating hierarchical model for 20 subjects...\n",
      "Fitting 1 model(s) using MCMC...\n",
      "  Fitting model 1 of 1...\n"
     ]
    },
    {
     "name": "stderr",
     "output_type": "stream",
     "text": [
      "Sequential sampling (2 chains in 1 job)\n",
      "CompoundStep\n",
      ">Metropolis: [tau_offset]\n",
      ">Metropolis: [tau_sd]\n",
      ">Metropolis: [tau_mu]\n",
      ">Metropolis: [s_offset]\n",
      ">Metropolis: [s_sd]\n",
      ">Metropolis: [s_mu]\n",
      ">Metropolis: [gamma_offset]\n",
      ">Metropolis: [gamma_sd]\n",
      ">Metropolis: [gamma_mu]\n",
      ">Metropolis: [v_offset]\n",
      ">Metropolis: [v_sd]\n",
      ">Metropolis: [v_mu]\n"
     ]
    },
    {
     "name": "stdout",
     "output_type": "stream",
     "text": [
      "Generating hierarchical model for 20 subjects...\n"
     ]
    },
    {
     "name": "stderr",
     "output_type": "stream",
     "text": [
      "Sequential sampling (2 chains in 1 job)\n",
      "CompoundStep\n",
      ">Metropolis: [tau_offset]\n",
      ">Metropolis: [tau_sd]\n",
      ">Metropolis: [tau_mu]\n",
      ">Metropolis: [s_offset]\n",
      ">Metropolis: [s_sd]\n",
      ">Metropolis: [s_mu]\n",
      ">Metropolis: [gamma_offset]\n",
      ">Metropolis: [gamma_sd]\n",
      ">Metropolis: [gamma_mu]\n",
      ">Metropolis: [v_offset]\n",
      ">Metropolis: [v_sd]\n",
      ">Metropolis: [v_mu]\n"
     ]
    },
    {
     "name": "stdout",
     "output_type": "stream",
     "text": [
      "Fitting 1 model(s) using MCMC...\n",
      "  Fitting model 1 of 1...\n",
      "Generating hierarchical model for 20 subjects...\n"
     ]
    },
    {
     "name": "stderr",
     "output_type": "stream",
     "text": [
      "Sequential sampling (2 chains in 1 job)\n",
      "CompoundStep\n",
      ">Metropolis: [tau_offset]\n",
      ">Metropolis: [tau_sd]\n",
      ">Metropolis: [tau_mu]\n",
      ">Metropolis: [s_offset]\n",
      ">Metropolis: [s_sd]\n",
      ">Metropolis: [s_mu]\n",
      ">Metropolis: [gamma_offset]\n",
      ">Metropolis: [gamma_sd]\n",
      ">Metropolis: [gamma_mu]\n",
      ">Metropolis: [v_offset]\n",
      ">Metropolis: [v_sd]\n",
      ">Metropolis: [v_mu]\n"
     ]
    },
    {
     "name": "stdout",
     "output_type": "stream",
     "text": [
      "Fitting 1 model(s) using MCMC...\n",
      "  Fitting model 1 of 1...\n",
      "Generating hierarchical model for 20 subjects...\n"
     ]
    },
    {
     "name": "stderr",
     "output_type": "stream",
     "text": [
      "Sequential sampling (2 chains in 1 job)\n",
      "CompoundStep\n",
      ">Metropolis: [tau_offset]\n",
      ">Metropolis: [tau_sd]\n",
      ">Metropolis: [tau_mu]\n",
      ">Metropolis: [s_offset]\n",
      ">Metropolis: [s_sd]\n",
      ">Metropolis: [s_mu]\n",
      ">Metropolis: [gamma_offset]\n",
      ">Metropolis: [gamma_sd]\n",
      ">Metropolis: [gamma_mu]\n",
      ">Metropolis: [v_offset]\n",
      ">Metropolis: [v_sd]\n",
      ">Metropolis: [v_mu]\n"
     ]
    },
    {
     "name": "stdout",
     "output_type": "stream",
     "text": [
      "Fitting 1 model(s) using MCMC...\n",
      "  Fitting model 1 of 1...\n",
      "Generating hierarchical model for 20 subjects...\n",
      "Fitting 1 model(s) using MCMC...\n",
      "  Fitting model 1 of 1...\n"
     ]
    },
    {
     "name": "stderr",
     "output_type": "stream",
     "text": [
      "Sequential sampling (2 chains in 1 job)\n",
      "CompoundStep\n",
      ">Metropolis: [tau_offset]\n",
      ">Metropolis: [tau_sd]\n",
      ">Metropolis: [tau_mu]\n",
      ">Metropolis: [s_offset]\n",
      ">Metropolis: [s_sd]\n",
      ">Metropolis: [s_mu]\n",
      ">Metropolis: [gamma_offset]\n",
      ">Metropolis: [gamma_sd]\n",
      ">Metropolis: [gamma_mu]\n",
      ">Metropolis: [v_offset]\n",
      ">Metropolis: [v_sd]\n",
      ">Metropolis: [v_mu]\n",
      "Sequential sampling (2 chains in 1 job)\n",
      "CompoundStep\n",
      ">Metropolis: [tau_offset]\n",
      ">Metropolis: [tau_sd]\n",
      ">Metropolis: [tau_mu]\n",
      ">Metropolis: [s_offset]\n",
      ">Metropolis: [s_sd]\n",
      ">Metropolis: [s_mu]\n",
      ">Metropolis: [gamma_offset]\n",
      ">Metropolis: [gamma_sd]\n",
      ">Metropolis: [gamma_mu]\n",
      ">Metropolis: [v_offset]\n",
      ">Metropolis: [v_sd]\n",
      ">Metropolis: [v_mu]\n",
      "Sequential sampling (2 chains in 1 job)\n",
      "CompoundStep\n",
      ">Metropolis: [tau_offset]\n",
      ">Metropolis: [tau_sd]\n",
      ">Metropolis: [tau_mu]\n",
      ">Metropolis: [s_offset]\n",
      ">Metropolis: [s_sd]\n",
      ">Metropolis: [s_mu]\n",
      ">Metropolis: [gamma_offset]\n",
      ">Metropolis: [gamma_sd]\n",
      ">Metropolis: [gamma_mu]\n",
      ">Metropolis: [v_offset]\n",
      ">Metropolis: [v_sd]\n",
      ">Metropolis: [v_mu]\n"
     ]
    },
    {
     "name": "stdout",
     "output_type": "stream",
     "text": [
      "Generating hierarchical model for 20 subjects...\n",
      "Fitting 1 model(s) using MCMC...\n",
      "  Fitting model 1 of 1...\n"
     ]
    },
    {
     "name": "stderr",
     "output_type": "stream",
     "text": [
      "Sequential sampling (2 chains in 1 job)\n",
      "CompoundStep\n",
      ">Metropolis: [tau_offset]\n",
      ">Metropolis: [tau_sd]\n",
      ">Metropolis: [tau_mu]\n",
      ">Metropolis: [s_offset]\n",
      ">Metropolis: [s_sd]\n",
      ">Metropolis: [s_mu]\n",
      ">Metropolis: [gamma_offset]\n",
      ">Metropolis: [gamma_sd]\n",
      ">Metropolis: [gamma_mu]\n",
      ">Metropolis: [v_offset]\n",
      ">Metropolis: [v_sd]\n",
      ">Metropolis: [v_mu]\n"
     ]
    },
    {
     "name": "stdout",
     "output_type": "stream",
     "text": [
      "Generating hierarchical model for 20 subjects...\n",
      "Fitting 1 model(s) using MCMC...\n",
      "  Fitting model 1 of 1...\n"
     ]
    },
    {
     "name": "stderr",
     "output_type": "stream",
     "text": [
      "Sequential sampling (2 chains in 1 job)\n",
      "CompoundStep\n",
      ">Metropolis: [tau_offset]\n",
      ">Metropolis: [tau_sd]\n",
      ">Metropolis: [tau_mu]\n",
      ">Metropolis: [s_offset]\n",
      ">Metropolis: [s_sd]\n",
      ">Metropolis: [s_mu]\n",
      ">Metropolis: [gamma_offset]\n",
      ">Metropolis: [gamma_sd]\n",
      ">Metropolis: [gamma_mu]\n",
      ">Metropolis: [v_offset]\n",
      ">Metropolis: [v_sd]\n",
      ">Metropolis: [v_mu]\n"
     ]
    },
    {
     "name": "stdout",
     "output_type": "stream",
     "text": [
      "Generating hierarchical model for 20 subjects...\n",
      "Fitting 1 model(s) using MCMC...\n",
      "  Fitting model 1 of 1...\n",
      "Generating hierarchical model for 20 subjects...\n",
      "Fitting 1 model(s) using MCMC...\n",
      "  Fitting model 1 of 1...\n"
     ]
    },
    {
     "name": "stderr",
     "output_type": "stream",
     "text": [
      "Sequential sampling (2 chains in 1 job)\n",
      "CompoundStep\n",
      ">Metropolis: [tau_offset]\n",
      ">Metropolis: [tau_sd]\n",
      ">Metropolis: [tau_mu]\n",
      ">Metropolis: [s_offset]\n",
      ">Metropolis: [s_sd]\n",
      ">Metropolis: [s_mu]\n",
      ">Metropolis: [gamma_offset]\n",
      ">Metropolis: [gamma_sd]\n",
      ">Metropolis: [gamma_mu]\n",
      ">Metropolis: [v_offset]\n",
      ">Metropolis: [v_sd]\n",
      ">Metropolis: [v_mu]\n"
     ]
    },
    {
     "name": "stdout",
     "output_type": "stream",
     "text": [
      "Generating hierarchical model for 20 subjects...\n"
     ]
    },
    {
     "name": "stderr",
     "output_type": "stream",
     "text": [
      "Sequential sampling (2 chains in 1 job)\n",
      "CompoundStep\n",
      ">Metropolis: [tau_offset]\n",
      ">Metropolis: [tau_sd]\n",
      ">Metropolis: [tau_mu]\n",
      ">Metropolis: [s_offset]\n",
      ">Metropolis: [s_sd]\n",
      ">Metropolis: [s_mu]\n",
      ">Metropolis: [gamma_offset]\n",
      ">Metropolis: [gamma_sd]\n",
      ">Metropolis: [gamma_mu]\n",
      ">Metropolis: [v_offset]\n",
      ">Metropolis: [v_sd]\n",
      ">Metropolis: [v_mu]\n"
     ]
    },
    {
     "name": "stdout",
     "output_type": "stream",
     "text": [
      "Fitting 1 model(s) using MCMC...\n",
      "  Fitting model 1 of 1...\n"
     ]
    },
    {
     "name": "stderr",
     "output_type": "stream",
     "text": [
      "Sequential sampling (2 chains in 1 job)\n",
      "CompoundStep\n",
      ">Metropolis: [tau_offset]\n",
      ">Metropolis: [tau_sd]\n",
      ">Metropolis: [tau_mu]\n",
      ">Metropolis: [s_offset]\n",
      ">Metropolis: [s_sd]\n",
      ">Metropolis: [s_mu]\n",
      ">Metropolis: [gamma_offset]\n",
      ">Metropolis: [gamma_sd]\n",
      ">Metropolis: [gamma_mu]\n",
      ">Metropolis: [v_offset]\n",
      ">Metropolis: [v_sd]\n",
      ">Metropolis: [v_mu]\n",
      "The gelman-rubin statistic is larger than 1.05 for some parameters. This indicates slight problems during sampling.\n",
      "The estimated number of effective samples is smaller than 200 for some parameters.\n"
     ]
    },
    {
     "name": "stdout",
     "output_type": "stream",
     "text": [
      "/!\\ Automatically setting parameter precision...\n"
     ]
    },
    {
     "name": "stderr",
     "output_type": "stream",
     "text": [
      "The gelman-rubin statistic is larger than 1.2 for some parameters.\n",
      "The estimated number of effective samples is smaller than 200 for some parameters.\n"
     ]
    },
    {
     "name": "stdout",
     "output_type": "stream",
     "text": [
      "/!\\ Automatically setting parameter precision...\n"
     ]
    },
    {
     "name": "stderr",
     "output_type": "stream",
     "text": [
      "The gelman-rubin statistic is larger than 1.4 for some parameters. The sampler did not converge.\n",
      "The estimated number of effective samples is smaller than 200 for some parameters.\n"
     ]
    },
    {
     "name": "stdout",
     "output_type": "stream",
     "text": [
      "/!\\ Automatically setting parameter precision...\n"
     ]
    },
    {
     "name": "stderr",
     "output_type": "stream",
     "text": [
      "The gelman-rubin statistic is larger than 1.2 for some parameters.\n",
      "The estimated number of effective samples is smaller than 200 for some parameters.\n"
     ]
    },
    {
     "name": "stdout",
     "output_type": "stream",
     "text": [
      "/!\\ Automatically setting parameter precision...\n"
     ]
    },
    {
     "name": "stderr",
     "output_type": "stream",
     "text": [
      "The gelman-rubin statistic is larger than 1.4 for some parameters. The sampler did not converge.\n",
      "The estimated number of effective samples is smaller than 200 for some parameters.\n"
     ]
    },
    {
     "name": "stdout",
     "output_type": "stream",
     "text": [
      "/!\\ Automatically setting parameter precision...\n"
     ]
    },
    {
     "name": "stderr",
     "output_type": "stream",
     "text": [
      "The gelman-rubin statistic is larger than 1.05 for some parameters. This indicates slight problems during sampling.\n",
      "The estimated number of effective samples is smaller than 200 for some parameters.\n"
     ]
    },
    {
     "name": "stdout",
     "output_type": "stream",
     "text": [
      "/!\\ Automatically setting parameter precision...\n"
     ]
    },
    {
     "name": "stderr",
     "output_type": "stream",
     "text": [
      "The estimated number of effective samples is smaller than 200 for some parameters.\n"
     ]
    },
    {
     "name": "stdout",
     "output_type": "stream",
     "text": [
      "/!\\ Automatically setting parameter precision...\n"
     ]
    },
    {
     "name": "stderr",
     "output_type": "stream",
     "text": [
      "The gelman-rubin statistic is larger than 1.4 for some parameters. The sampler did not converge.\n",
      "The estimated number of effective samples is smaller than 200 for some parameters.\n"
     ]
    },
    {
     "name": "stdout",
     "output_type": "stream",
     "text": [
      "/!\\ Automatically setting parameter precision...\n"
     ]
    },
    {
     "name": "stderr",
     "output_type": "stream",
     "text": [
      "The gelman-rubin statistic is larger than 1.05 for some parameters. This indicates slight problems during sampling.\n",
      "The estimated number of effective samples is smaller than 200 for some parameters.\n"
     ]
    },
    {
     "name": "stdout",
     "output_type": "stream",
     "text": [
      "/!\\ Automatically setting parameter precision...\n"
     ]
    },
    {
     "name": "stderr",
     "output_type": "stream",
     "text": [
      "The gelman-rubin statistic is larger than 1.4 for some parameters. The sampler did not converge.\n",
      "The estimated number of effective samples is smaller than 200 for some parameters.\n"
     ]
    },
    {
     "name": "stdout",
     "output_type": "stream",
     "text": [
      "/!\\ Automatically setting parameter precision...\n"
     ]
    },
    {
     "name": "stderr",
     "output_type": "stream",
     "text": [
      "The gelman-rubin statistic is larger than 1.05 for some parameters. This indicates slight problems during sampling.\n",
      "The estimated number of effective samples is smaller than 200 for some parameters.\n"
     ]
    },
    {
     "name": "stdout",
     "output_type": "stream",
     "text": [
      "/!\\ Automatically setting parameter precision...\n"
     ]
    },
    {
     "name": "stderr",
     "output_type": "stream",
     "text": [
      "The estimated number of effective samples is smaller than 200 for some parameters.\n"
     ]
    },
    {
     "name": "stdout",
     "output_type": "stream",
     "text": [
      "/!\\ Automatically setting parameter precision...\n"
     ]
    },
    {
     "name": "stderr",
     "output_type": "stream",
     "text": [
      "The gelman-rubin statistic is larger than 1.4 for some parameters. The sampler did not converge.\n",
      "The estimated number of effective samples is smaller than 200 for some parameters.\n"
     ]
    },
    {
     "name": "stdout",
     "output_type": "stream",
     "text": [
      "/!\\ Automatically setting parameter precision...\n"
     ]
    },
    {
     "name": "stderr",
     "output_type": "stream",
     "text": [
      "The estimated number of effective samples is smaller than 200 for some parameters.\n"
     ]
    },
    {
     "name": "stdout",
     "output_type": "stream",
     "text": [
      "/!\\ Automatically setting parameter precision...\n"
     ]
    },
    {
     "name": "stderr",
     "output_type": "stream",
     "text": [
      "The gelman-rubin statistic is larger than 1.05 for some parameters. This indicates slight problems during sampling.\n",
      "The estimated number of effective samples is smaller than 200 for some parameters.\n"
     ]
    },
    {
     "name": "stdout",
     "output_type": "stream",
     "text": [
      "/!\\ Automatically setting parameter precision...\n"
     ]
    },
    {
     "name": "stderr",
     "output_type": "stream",
     "text": [
      "The gelman-rubin statistic is larger than 1.2 for some parameters.\n",
      "The estimated number of effective samples is smaller than 200 for some parameters.\n"
     ]
    },
    {
     "name": "stdout",
     "output_type": "stream",
     "text": [
      "/!\\ Automatically setting parameter precision...\n"
     ]
    },
    {
     "name": "stderr",
     "output_type": "stream",
     "text": [
      "The gelman-rubin statistic is larger than 1.05 for some parameters. This indicates slight problems during sampling.\n",
      "The estimated number of effective samples is smaller than 200 for some parameters.\n"
     ]
    },
    {
     "name": "stdout",
     "output_type": "stream",
     "text": [
      "/!\\ Automatically setting parameter precision...\n"
     ]
    },
    {
     "name": "stderr",
     "output_type": "stream",
     "text": [
      "The estimated number of effective samples is smaller than 200 for some parameters.\n"
     ]
    },
    {
     "name": "stdout",
     "output_type": "stream",
     "text": [
      "/!\\ Automatically setting parameter precision...\n"
     ]
    },
    {
     "name": "stderr",
     "output_type": "stream",
     "text": [
      "The gelman-rubin statistic is larger than 1.05 for some parameters. This indicates slight problems during sampling.\n",
      "The estimated number of effective samples is smaller than 200 for some parameters.\n"
     ]
    },
    {
     "name": "stdout",
     "output_type": "stream",
     "text": [
      "/!\\ Automatically setting parameter precision...\n"
     ]
    },
    {
     "name": "stderr",
     "output_type": "stream",
     "text": [
      "The gelman-rubin statistic is larger than 1.4 for some parameters. The sampler did not converge.\n",
      "The estimated number of effective samples is smaller than 200 for some parameters.\n"
     ]
    },
    {
     "name": "stdout",
     "output_type": "stream",
     "text": [
      "/!\\ Automatically setting parameter precision...\n"
     ]
    },
    {
     "name": "stderr",
     "output_type": "stream",
     "text": [
      "The gelman-rubin statistic is larger than 1.2 for some parameters.\n",
      "The estimated number of effective samples is smaller than 200 for some parameters.\n"
     ]
    },
    {
     "name": "stdout",
     "output_type": "stream",
     "text": [
      "/!\\ Automatically setting parameter precision...\n"
     ]
    },
    {
     "name": "stderr",
     "output_type": "stream",
     "text": [
      "The gelman-rubin statistic is larger than 1.4 for some parameters. The sampler did not converge.\n",
      "The estimated number of effective samples is smaller than 200 for some parameters.\n"
     ]
    },
    {
     "name": "stdout",
     "output_type": "stream",
     "text": [
      "/!\\ Automatically setting parameter precision...\n",
      "Generating hierarchical model for 20 subjects...\n",
      "Fitting 1 model(s) using MCMC...\n",
      "  Fitting model 1 of 1...\n"
     ]
    },
    {
     "name": "stderr",
     "output_type": "stream",
     "text": [
      "Sequential sampling (2 chains in 1 job)\n",
      "CompoundStep\n",
      ">Metropolis: [tau_offset]\n",
      ">Metropolis: [tau_sd]\n",
      ">Metropolis: [tau_mu]\n",
      ">Metropolis: [s_offset]\n",
      ">Metropolis: [s_sd]\n",
      ">Metropolis: [s_mu]\n",
      ">Metropolis: [gamma_offset]\n",
      ">Metropolis: [gamma_sd]\n",
      ">Metropolis: [gamma_mu]\n",
      ">Metropolis: [v_offset]\n",
      ">Metropolis: [v_sd]\n",
      ">Metropolis: [v_mu]\n"
     ]
    },
    {
     "name": "stdout",
     "output_type": "stream",
     "text": [
      "Generating hierarchical model for 20 subjects...\n",
      "Fitting 1 model(s) using MCMC...\n",
      "  Fitting model 1 of 1...\n",
      "Generating hierarchical model for 20 subjects...\n",
      "Fitting 1 model(s) using MCMC...\n",
      "  Fitting model 1 of 1...\n"
     ]
    },
    {
     "name": "stderr",
     "output_type": "stream",
     "text": [
      "Sequential sampling (2 chains in 1 job)\n",
      "CompoundStep\n",
      ">Metropolis: [tau_offset]\n",
      ">Metropolis: [tau_sd]\n",
      ">Metropolis: [tau_mu]\n",
      ">Metropolis: [s_offset]\n",
      ">Metropolis: [s_sd]\n",
      ">Metropolis: [s_mu]\n",
      ">Metropolis: [gamma_offset]\n",
      ">Metropolis: [gamma_sd]\n",
      ">Metropolis: [gamma_mu]\n",
      ">Metropolis: [v_offset]\n",
      ">Metropolis: [v_sd]\n",
      ">Metropolis: [v_mu]\n",
      "Sequential sampling (2 chains in 1 job)\n",
      "CompoundStep\n",
      ">Metropolis: [tau_offset]\n",
      ">Metropolis: [tau_sd]\n",
      ">Metropolis: [tau_mu]\n",
      ">Metropolis: [s_offset]\n",
      ">Metropolis: [s_sd]\n",
      ">Metropolis: [s_mu]\n",
      ">Metropolis: [gamma_offset]\n",
      ">Metropolis: [gamma_sd]\n",
      ">Metropolis: [gamma_mu]\n",
      ">Metropolis: [v_offset]\n",
      ">Metropolis: [v_sd]\n",
      ">Metropolis: [v_mu]\n"
     ]
    },
    {
     "name": "stdout",
     "output_type": "stream",
     "text": [
      "Generating hierarchical model for 20 subjects...\n",
      "Generating hierarchical model for 20 subjects...\n",
      "Fitting 1 model(s) using MCMC...\n",
      "  Fitting model 1 of 1...\n",
      "Fitting 1 model(s) using MCMC...\n",
      "  Fitting model 1 of 1...\n"
     ]
    },
    {
     "name": "stderr",
     "output_type": "stream",
     "text": [
      "INFO (theano.gof.compilelock): Waiting for existing lock by process '73725' (I am process '73724')\n",
      "INFO (theano.gof.compilelock): To manually release the lock, delete /Users/felixmolter/.theano/compiledir_Darwin-17.7.0-x86_64-i386-64bit-i386-3.6.8-64/lock_dir\n",
      "Sequential sampling (2 chains in 1 job)\n",
      "CompoundStep\n",
      ">Metropolis: [tau_offset]\n",
      ">Metropolis: [tau_sd]\n",
      ">Metropolis: [tau_mu]\n",
      ">Metropolis: [s_offset]\n",
      ">Metropolis: [s_sd]\n",
      ">Metropolis: [s_mu]\n",
      ">Metropolis: [gamma_offset]\n",
      ">Metropolis: [gamma_sd]\n",
      ">Metropolis: [gamma_mu]\n",
      ">Metropolis: [v_offset]\n",
      ">Metropolis: [v_sd]\n",
      ">Metropolis: [v_mu]\n",
      "Sequential sampling (2 chains in 1 job)\n",
      "CompoundStep\n",
      ">Metropolis: [tau_offset]\n",
      ">Metropolis: [tau_sd]\n",
      ">Metropolis: [tau_mu]\n",
      ">Metropolis: [s_offset]\n",
      ">Metropolis: [s_sd]\n",
      ">Metropolis: [s_mu]\n",
      ">Metropolis: [gamma_offset]\n",
      ">Metropolis: [gamma_sd]\n",
      ">Metropolis: [gamma_mu]\n",
      ">Metropolis: [v_offset]\n",
      ">Metropolis: [v_sd]\n",
      ">Metropolis: [v_mu]\n"
     ]
    },
    {
     "name": "stdout",
     "output_type": "stream",
     "text": [
      "Generating hierarchical model for 20 subjects...\n",
      "Fitting 1 model(s) using MCMC...\n",
      "  Fitting model 1 of 1...\n"
     ]
    },
    {
     "name": "stderr",
     "output_type": "stream",
     "text": [
      "Sequential sampling (2 chains in 1 job)\n",
      "CompoundStep\n",
      ">Metropolis: [tau_offset]\n",
      ">Metropolis: [tau_sd]\n",
      ">Metropolis: [tau_mu]\n",
      ">Metropolis: [s_offset]\n",
      ">Metropolis: [s_sd]\n",
      ">Metropolis: [s_mu]\n",
      ">Metropolis: [gamma_offset]\n",
      ">Metropolis: [gamma_sd]\n",
      ">Metropolis: [gamma_mu]\n",
      ">Metropolis: [v_offset]\n",
      ">Metropolis: [v_sd]\n",
      ">Metropolis: [v_mu]\n"
     ]
    },
    {
     "name": "stdout",
     "output_type": "stream",
     "text": [
      "Generating hierarchical model for 20 subjects...\n",
      "Fitting 1 model(s) using MCMC...\n",
      "  Fitting model 1 of 1...\n",
      "Generating hierarchical model for 20 subjects...\n",
      "Fitting 1 model(s) using MCMC...\n",
      "  Fitting model 1 of 1...\n"
     ]
    },
    {
     "name": "stderr",
     "output_type": "stream",
     "text": [
      "Sequential sampling (2 chains in 1 job)\n",
      "CompoundStep\n",
      ">Metropolis: [tau_offset]\n",
      ">Metropolis: [tau_sd]\n",
      ">Metropolis: [tau_mu]\n",
      ">Metropolis: [s_offset]\n",
      ">Metropolis: [s_sd]\n",
      ">Metropolis: [s_mu]\n",
      ">Metropolis: [gamma_offset]\n",
      ">Metropolis: [gamma_sd]\n",
      ">Metropolis: [gamma_mu]\n",
      ">Metropolis: [v_offset]\n",
      ">Metropolis: [v_sd]\n",
      ">Metropolis: [v_mu]\n",
      "Sequential sampling (2 chains in 1 job)\n",
      "CompoundStep\n",
      ">Metropolis: [tau_offset]\n",
      ">Metropolis: [tau_sd]\n",
      ">Metropolis: [tau_mu]\n",
      ">Metropolis: [s_offset]\n",
      ">Metropolis: [s_sd]\n",
      ">Metropolis: [s_mu]\n",
      ">Metropolis: [gamma_offset]\n",
      ">Metropolis: [gamma_sd]\n",
      ">Metropolis: [gamma_mu]\n",
      ">Metropolis: [v_offset]\n",
      ">Metropolis: [v_sd]\n",
      ">Metropolis: [v_mu]\n"
     ]
    },
    {
     "name": "stdout",
     "output_type": "stream",
     "text": [
      "Generating hierarchical model for 20 subjects...\n",
      "Fitting 1 model(s) using MCMC...\n",
      "  Fitting model 1 of 1...\n",
      "Generating hierarchical model for 20 subjects...\n"
     ]
    },
    {
     "name": "stderr",
     "output_type": "stream",
     "text": [
      "Sequential sampling (2 chains in 1 job)\n",
      "CompoundStep\n",
      ">Metropolis: [tau_offset]\n",
      ">Metropolis: [tau_sd]\n",
      ">Metropolis: [tau_mu]\n",
      ">Metropolis: [s_offset]\n",
      ">Metropolis: [s_sd]\n",
      ">Metropolis: [s_mu]\n",
      ">Metropolis: [gamma_offset]\n",
      ">Metropolis: [gamma_sd]\n",
      ">Metropolis: [gamma_mu]\n",
      ">Metropolis: [v_offset]\n",
      ">Metropolis: [v_sd]\n",
      ">Metropolis: [v_mu]\n"
     ]
    },
    {
     "name": "stdout",
     "output_type": "stream",
     "text": [
      "Fitting 1 model(s) using MCMC...\n",
      "  Fitting model 1 of 1...\n"
     ]
    },
    {
     "name": "stderr",
     "output_type": "stream",
     "text": [
      "Sequential sampling (2 chains in 1 job)\n",
      "CompoundStep\n",
      ">Metropolis: [tau_offset]\n",
      ">Metropolis: [tau_sd]\n",
      ">Metropolis: [tau_mu]\n",
      ">Metropolis: [s_offset]\n",
      ">Metropolis: [s_sd]\n",
      ">Metropolis: [s_mu]\n",
      ">Metropolis: [gamma_offset]\n",
      ">Metropolis: [gamma_sd]\n",
      ">Metropolis: [gamma_mu]\n",
      ">Metropolis: [v_offset]\n",
      ">Metropolis: [v_sd]\n",
      ">Metropolis: [v_mu]\n"
     ]
    },
    {
     "name": "stdout",
     "output_type": "stream",
     "text": [
      "Generating hierarchical model for 20 subjects...\n",
      "Generating hierarchical model for 20 subjects...\n",
      "Fitting 1 model(s) using MCMC...\n",
      "  Fitting model 1 of 1...\n",
      "Generating hierarchical model for 20 subjects...\n"
     ]
    },
    {
     "name": "stderr",
     "output_type": "stream",
     "text": [
      "INFO (theano.gof.compilelock): Waiting for existing lock by process '73713' (I am process '73727')\n",
      "INFO (theano.gof.compilelock): To manually release the lock, delete /Users/felixmolter/.theano/compiledir_Darwin-17.7.0-x86_64-i386-64bit-i386-3.6.8-64/lock_dir\n"
     ]
    },
    {
     "name": "stdout",
     "output_type": "stream",
     "text": [
      "Fitting 1 model(s) using MCMC...\n",
      "  Fitting model 1 of 1...\n"
     ]
    },
    {
     "name": "stderr",
     "output_type": "stream",
     "text": [
      "INFO (theano.gof.compilelock): Waiting for existing lock by process '73727' (I am process '73732')\n",
      "INFO (theano.gof.compilelock): To manually release the lock, delete /Users/felixmolter/.theano/compiledir_Darwin-17.7.0-x86_64-i386-64bit-i386-3.6.8-64/lock_dir\n"
     ]
    },
    {
     "name": "stdout",
     "output_type": "stream",
     "text": [
      "Fitting 1 model(s) using MCMC...\n",
      "  Fitting model 1 of 1...\n",
      "Generating hierarchical model for 20 subjects...\n",
      "Fitting 1 model(s) using MCMC...\n",
      "  Fitting model 1 of 1...\n"
     ]
    },
    {
     "name": "stderr",
     "output_type": "stream",
     "text": [
      "Sequential sampling (2 chains in 1 job)\n",
      "CompoundStep\n",
      ">Metropolis: [tau_offset]\n",
      ">Metropolis: [tau_sd]\n",
      ">Metropolis: [tau_mu]\n",
      ">Metropolis: [s_offset]\n",
      ">Metropolis: [s_sd]\n",
      ">Metropolis: [s_mu]\n",
      ">Metropolis: [gamma_offset]\n",
      ">Metropolis: [gamma_sd]\n",
      ">Metropolis: [gamma_mu]\n",
      ">Metropolis: [v_offset]\n",
      ">Metropolis: [v_sd]\n",
      ">Metropolis: [v_mu]\n",
      "Sequential sampling (2 chains in 1 job)\n",
      "CompoundStep\n",
      ">Metropolis: [tau_offset]\n",
      ">Metropolis: [tau_sd]\n",
      ">Metropolis: [tau_mu]\n",
      ">Metropolis: [s_offset]\n",
      ">Metropolis: [s_sd]\n",
      ">Metropolis: [s_mu]\n",
      ">Metropolis: [gamma_offset]\n",
      ">Metropolis: [gamma_sd]\n",
      ">Metropolis: [gamma_mu]\n",
      ">Metropolis: [v_offset]\n",
      ">Metropolis: [v_sd]\n",
      ">Metropolis: [v_mu]\n"
     ]
    },
    {
     "name": "stdout",
     "output_type": "stream",
     "text": [
      "Generating hierarchical model for 20 subjects...\n"
     ]
    },
    {
     "name": "stderr",
     "output_type": "stream",
     "text": [
      "Sequential sampling (2 chains in 1 job)\n",
      "CompoundStep\n",
      ">Metropolis: [tau_offset]\n",
      ">Metropolis: [tau_sd]\n",
      ">Metropolis: [tau_mu]\n",
      ">Metropolis: [s_offset]\n",
      ">Metropolis: [s_sd]\n",
      ">Metropolis: [s_mu]\n",
      ">Metropolis: [gamma_offset]\n",
      ">Metropolis: [gamma_sd]\n",
      ">Metropolis: [gamma_mu]\n",
      ">Metropolis: [v_offset]\n",
      ">Metropolis: [v_sd]\n",
      ">Metropolis: [v_mu]\n"
     ]
    },
    {
     "name": "stdout",
     "output_type": "stream",
     "text": [
      "Fitting 1 model(s) using MCMC...\n",
      "  Fitting model 1 of 1...\n"
     ]
    },
    {
     "name": "stderr",
     "output_type": "stream",
     "text": [
      "Sequential sampling (2 chains in 1 job)\n",
      "CompoundStep\n",
      ">Metropolis: [tau_offset]\n",
      ">Metropolis: [tau_sd]\n",
      ">Metropolis: [tau_mu]\n",
      ">Metropolis: [s_offset]\n",
      ">Metropolis: [s_sd]\n",
      ">Metropolis: [s_mu]\n",
      ">Metropolis: [gamma_offset]\n",
      ">Metropolis: [gamma_sd]\n",
      ">Metropolis: [gamma_mu]\n",
      ">Metropolis: [v_offset]\n",
      ">Metropolis: [v_sd]\n",
      ">Metropolis: [v_mu]\n",
      "Sequential sampling (2 chains in 1 job)\n",
      "CompoundStep\n",
      ">Metropolis: [tau_offset]\n",
      ">Metropolis: [tau_sd]\n",
      ">Metropolis: [tau_mu]\n",
      ">Metropolis: [s_offset]\n",
      ">Metropolis: [s_sd]\n",
      ">Metropolis: [s_mu]\n",
      ">Metropolis: [gamma_offset]\n",
      ">Metropolis: [gamma_sd]\n",
      ">Metropolis: [gamma_mu]\n",
      ">Metropolis: [v_offset]\n",
      ">Metropolis: [v_sd]\n",
      ">Metropolis: [v_mu]\n",
      "The gelman-rubin statistic is larger than 1.05 for some parameters. This indicates slight problems during sampling.\n",
      "The estimated number of effective samples is smaller than 200 for some parameters.\n"
     ]
    },
    {
     "name": "stdout",
     "output_type": "stream",
     "text": [
      "/!\\ Automatically setting parameter precision...\n"
     ]
    },
    {
     "name": "stderr",
     "output_type": "stream",
     "text": [
      "The gelman-rubin statistic is larger than 1.05 for some parameters. This indicates slight problems during sampling.\n",
      "The estimated number of effective samples is smaller than 200 for some parameters.\n"
     ]
    },
    {
     "name": "stdout",
     "output_type": "stream",
     "text": [
      "/!\\ Automatically setting parameter precision...\n"
     ]
    },
    {
     "name": "stderr",
     "output_type": "stream",
     "text": [
      "The gelman-rubin statistic is larger than 1.2 for some parameters.\n",
      "The estimated number of effective samples is smaller than 200 for some parameters.\n"
     ]
    },
    {
     "name": "stdout",
     "output_type": "stream",
     "text": [
      "/!\\ Automatically setting parameter precision...\n"
     ]
    },
    {
     "name": "stderr",
     "output_type": "stream",
     "text": [
      "The gelman-rubin statistic is larger than 1.2 for some parameters.\n",
      "The estimated number of effective samples is smaller than 200 for some parameters.\n"
     ]
    },
    {
     "name": "stdout",
     "output_type": "stream",
     "text": [
      "/!\\ Automatically setting parameter precision...\n"
     ]
    },
    {
     "name": "stderr",
     "output_type": "stream",
     "text": [
      "The gelman-rubin statistic is larger than 1.05 for some parameters. This indicates slight problems during sampling.\n",
      "The estimated number of effective samples is smaller than 200 for some parameters.\n"
     ]
    },
    {
     "name": "stdout",
     "output_type": "stream",
     "text": [
      "/!\\ Automatically setting parameter precision...\n"
     ]
    },
    {
     "name": "stderr",
     "output_type": "stream",
     "text": [
      "The gelman-rubin statistic is larger than 1.2 for some parameters.\n",
      "The estimated number of effective samples is smaller than 200 for some parameters.\n"
     ]
    },
    {
     "name": "stdout",
     "output_type": "stream",
     "text": [
      "/!\\ Automatically setting parameter precision...\n"
     ]
    },
    {
     "name": "stderr",
     "output_type": "stream",
     "text": [
      "The gelman-rubin statistic is larger than 1.4 for some parameters. The sampler did not converge.\n",
      "The estimated number of effective samples is smaller than 200 for some parameters.\n"
     ]
    },
    {
     "name": "stdout",
     "output_type": "stream",
     "text": [
      "/!\\ Automatically setting parameter precision...\n"
     ]
    },
    {
     "name": "stderr",
     "output_type": "stream",
     "text": [
      "The gelman-rubin statistic is larger than 1.4 for some parameters. The sampler did not converge.\n",
      "The estimated number of effective samples is smaller than 200 for some parameters.\n"
     ]
    },
    {
     "name": "stdout",
     "output_type": "stream",
     "text": [
      "/!\\ Automatically setting parameter precision...\n"
     ]
    },
    {
     "name": "stderr",
     "output_type": "stream",
     "text": [
      "The gelman-rubin statistic is larger than 1.05 for some parameters. This indicates slight problems during sampling.\n",
      "The estimated number of effective samples is smaller than 200 for some parameters.\n"
     ]
    },
    {
     "name": "stdout",
     "output_type": "stream",
     "text": [
      "/!\\ Automatically setting parameter precision...\n"
     ]
    },
    {
     "name": "stderr",
     "output_type": "stream",
     "text": [
      "The estimated number of effective samples is smaller than 200 for some parameters.\n"
     ]
    },
    {
     "name": "stdout",
     "output_type": "stream",
     "text": [
      "/!\\ Automatically setting parameter precision...\n"
     ]
    },
    {
     "name": "stderr",
     "output_type": "stream",
     "text": [
      "The gelman-rubin statistic is larger than 1.4 for some parameters. The sampler did not converge.\n",
      "The estimated number of effective samples is smaller than 200 for some parameters.\n"
     ]
    },
    {
     "name": "stdout",
     "output_type": "stream",
     "text": [
      "/!\\ Automatically setting parameter precision...\n"
     ]
    },
    {
     "name": "stderr",
     "output_type": "stream",
     "text": [
      "The gelman-rubin statistic is larger than 1.05 for some parameters. This indicates slight problems during sampling.\n",
      "The estimated number of effective samples is smaller than 200 for some parameters.\n"
     ]
    },
    {
     "name": "stdout",
     "output_type": "stream",
     "text": [
      "/!\\ Automatically setting parameter precision...\n"
     ]
    },
    {
     "name": "stderr",
     "output_type": "stream",
     "text": [
      "The gelman-rubin statistic is larger than 1.2 for some parameters.\n",
      "The estimated number of effective samples is smaller than 200 for some parameters.\n"
     ]
    },
    {
     "name": "stdout",
     "output_type": "stream",
     "text": [
      "/!\\ Automatically setting parameter precision...\n"
     ]
    },
    {
     "name": "stderr",
     "output_type": "stream",
     "text": [
      "The gelman-rubin statistic is larger than 1.4 for some parameters. The sampler did not converge.\n",
      "The estimated number of effective samples is smaller than 200 for some parameters.\n"
     ]
    },
    {
     "name": "stdout",
     "output_type": "stream",
     "text": [
      "/!\\ Automatically setting parameter precision...\n"
     ]
    },
    {
     "name": "stderr",
     "output_type": "stream",
     "text": [
      "The gelman-rubin statistic is larger than 1.05 for some parameters. This indicates slight problems during sampling.\n",
      "The estimated number of effective samples is smaller than 200 for some parameters.\n"
     ]
    },
    {
     "name": "stdout",
     "output_type": "stream",
     "text": [
      "/!\\ Automatically setting parameter precision...\n"
     ]
    }
   ],
   "source": [
    "from multiprocessing import Pool\n",
    "\n",
    "n_cores = 22\n",
    "p = Pool(n_cores)\n",
    "\n",
    "output = p.map(wrapper, pr.generate_hierarchical_parameter_sets(parameter_info))"
   ]
  },
  {
   "cell_type": "markdown",
   "metadata": {},
   "source": [
    "## Combine results"
   ]
  },
  {
   "cell_type": "code",
   "execution_count": 9,
   "metadata": {},
   "outputs": [
    {
     "data": {
      "text/html": [
       "<div>\n",
       "<style scoped>\n",
       "    .dataframe tbody tr th:only-of-type {\n",
       "        vertical-align: middle;\n",
       "    }\n",
       "\n",
       "    .dataframe tbody tr th {\n",
       "        vertical-align: top;\n",
       "    }\n",
       "\n",
       "    .dataframe thead th {\n",
       "        text-align: right;\n",
       "    }\n",
       "</style>\n",
       "<table border=\"1\" class=\"dataframe\">\n",
       "  <thead>\n",
       "    <tr style=\"text-align: right;\">\n",
       "      <th></th>\n",
       "      <th>index</th>\n",
       "      <th>v_level</th>\n",
       "      <th>gamma_level</th>\n",
       "      <th>s_level</th>\n",
       "      <th>tau_level</th>\n",
       "      <th>v_gen</th>\n",
       "      <th>gamma_gen</th>\n",
       "      <th>s_gen</th>\n",
       "      <th>tau_gen</th>\n",
       "      <th>v_rec</th>\n",
       "      <th>...</th>\n",
       "      <th>gamma_rec</th>\n",
       "      <th>gamma_rec_hpd_lower</th>\n",
       "      <th>gamma_rec_hpd_upper</th>\n",
       "      <th>s_rec</th>\n",
       "      <th>s_rec_hpd_lower</th>\n",
       "      <th>s_rec_hpd_upper</th>\n",
       "      <th>tau_rec</th>\n",
       "      <th>tau_rec_hpd_lower</th>\n",
       "      <th>tau_rec_hpd_upper</th>\n",
       "      <th>converged</th>\n",
       "    </tr>\n",
       "  </thead>\n",
       "  <tbody>\n",
       "    <tr>\n",
       "      <th>0</th>\n",
       "      <td>0</td>\n",
       "      <td>low</td>\n",
       "      <td>low</td>\n",
       "      <td>low</td>\n",
       "      <td>low</td>\n",
       "      <td>0.000033</td>\n",
       "      <td>-0.8</td>\n",
       "      <td>0.0067</td>\n",
       "      <td>0.215</td>\n",
       "      <td>0.000052</td>\n",
       "      <td>...</td>\n",
       "      <td>-0.651710</td>\n",
       "      <td>-0.757312</td>\n",
       "      <td>-0.542939</td>\n",
       "      <td>0.006963</td>\n",
       "      <td>0.006433</td>\n",
       "      <td>0.007473</td>\n",
       "      <td>0.309947</td>\n",
       "      <td>0.229713</td>\n",
       "      <td>0.396732</td>\n",
       "      <td>True</td>\n",
       "    </tr>\n",
       "    <tr>\n",
       "      <th>1</th>\n",
       "      <td>1</td>\n",
       "      <td>low</td>\n",
       "      <td>low</td>\n",
       "      <td>low</td>\n",
       "      <td>medium</td>\n",
       "      <td>0.000033</td>\n",
       "      <td>-0.8</td>\n",
       "      <td>0.0067</td>\n",
       "      <td>0.675</td>\n",
       "      <td>0.000049</td>\n",
       "      <td>...</td>\n",
       "      <td>-0.654757</td>\n",
       "      <td>-0.727285</td>\n",
       "      <td>-0.578590</td>\n",
       "      <td>0.007142</td>\n",
       "      <td>0.006521</td>\n",
       "      <td>0.007733</td>\n",
       "      <td>0.760665</td>\n",
       "      <td>0.639258</td>\n",
       "      <td>0.881303</td>\n",
       "      <td>True</td>\n",
       "    </tr>\n",
       "    <tr>\n",
       "      <th>2</th>\n",
       "      <td>2</td>\n",
       "      <td>low</td>\n",
       "      <td>low</td>\n",
       "      <td>low</td>\n",
       "      <td>high</td>\n",
       "      <td>0.000033</td>\n",
       "      <td>-0.8</td>\n",
       "      <td>0.0067</td>\n",
       "      <td>1.135</td>\n",
       "      <td>0.000052</td>\n",
       "      <td>...</td>\n",
       "      <td>-0.635629</td>\n",
       "      <td>-0.701134</td>\n",
       "      <td>-0.567091</td>\n",
       "      <td>0.007329</td>\n",
       "      <td>0.006770</td>\n",
       "      <td>0.007903</td>\n",
       "      <td>1.229496</td>\n",
       "      <td>1.012402</td>\n",
       "      <td>1.438628</td>\n",
       "      <td>True</td>\n",
       "    </tr>\n",
       "    <tr>\n",
       "      <th>3</th>\n",
       "      <td>3</td>\n",
       "      <td>low</td>\n",
       "      <td>low</td>\n",
       "      <td>medium</td>\n",
       "      <td>low</td>\n",
       "      <td>0.000033</td>\n",
       "      <td>-0.8</td>\n",
       "      <td>0.0095</td>\n",
       "      <td>0.215</td>\n",
       "      <td>0.000050</td>\n",
       "      <td>...</td>\n",
       "      <td>-0.658418</td>\n",
       "      <td>-0.819515</td>\n",
       "      <td>-0.504449</td>\n",
       "      <td>0.009670</td>\n",
       "      <td>0.008936</td>\n",
       "      <td>0.010349</td>\n",
       "      <td>0.295966</td>\n",
       "      <td>0.170887</td>\n",
       "      <td>0.407633</td>\n",
       "      <td>True</td>\n",
       "    </tr>\n",
       "    <tr>\n",
       "      <th>4</th>\n",
       "      <td>4</td>\n",
       "      <td>low</td>\n",
       "      <td>low</td>\n",
       "      <td>medium</td>\n",
       "      <td>medium</td>\n",
       "      <td>0.000033</td>\n",
       "      <td>-0.8</td>\n",
       "      <td>0.0095</td>\n",
       "      <td>0.675</td>\n",
       "      <td>0.000052</td>\n",
       "      <td>...</td>\n",
       "      <td>-0.630054</td>\n",
       "      <td>-0.713714</td>\n",
       "      <td>-0.545045</td>\n",
       "      <td>0.009753</td>\n",
       "      <td>0.009103</td>\n",
       "      <td>0.010387</td>\n",
       "      <td>0.748147</td>\n",
       "      <td>0.539259</td>\n",
       "      <td>0.977551</td>\n",
       "      <td>True</td>\n",
       "    </tr>\n",
       "  </tbody>\n",
       "</table>\n",
       "<p>5 rows × 22 columns</p>\n",
       "</div>"
      ],
      "text/plain": [
       "   index v_level gamma_level s_level tau_level     v_gen  gamma_gen   s_gen  \\\n",
       "0      0     low         low     low       low  0.000033       -0.8  0.0067   \n",
       "1      1     low         low     low    medium  0.000033       -0.8  0.0067   \n",
       "2      2     low         low     low      high  0.000033       -0.8  0.0067   \n",
       "3      3     low         low  medium       low  0.000033       -0.8  0.0095   \n",
       "4      4     low         low  medium    medium  0.000033       -0.8  0.0095   \n",
       "\n",
       "   tau_gen     v_rec    ...      gamma_rec  gamma_rec_hpd_lower  \\\n",
       "0    0.215  0.000052    ...      -0.651710            -0.757312   \n",
       "1    0.675  0.000049    ...      -0.654757            -0.727285   \n",
       "2    1.135  0.000052    ...      -0.635629            -0.701134   \n",
       "3    0.215  0.000050    ...      -0.658418            -0.819515   \n",
       "4    0.675  0.000052    ...      -0.630054            -0.713714   \n",
       "\n",
       "   gamma_rec_hpd_upper     s_rec  s_rec_hpd_lower  s_rec_hpd_upper   tau_rec  \\\n",
       "0            -0.542939  0.006963         0.006433         0.007473  0.309947   \n",
       "1            -0.578590  0.007142         0.006521         0.007733  0.760665   \n",
       "2            -0.567091  0.007329         0.006770         0.007903  1.229496   \n",
       "3            -0.504449  0.009670         0.008936         0.010349  0.295966   \n",
       "4            -0.545045  0.009753         0.009103         0.010387  0.748147   \n",
       "\n",
       "   tau_rec_hpd_lower  tau_rec_hpd_upper  converged  \n",
       "0           0.229713           0.396732       True  \n",
       "1           0.639258           0.881303       True  \n",
       "2           1.012402           1.438628       True  \n",
       "3           0.170887           0.407633       True  \n",
       "4           0.539259           0.977551       True  \n",
       "\n",
       "[5 rows x 22 columns]"
      ]
     },
     "execution_count": 9,
     "metadata": {},
     "output_type": "execute_result"
    }
   ],
   "source": [
    "filenames = [file for file in listdir(partial_output_folder)\n",
    "             if file.endswith('.csv')]\n",
    "\n",
    "partial_recoveries = []\n",
    "\n",
    "for file in filenames:\n",
    "    partial = pd.read_csv(join(partial_output_folder, file))\n",
    "    partial_recoveries.append(partial)\n",
    "\n",
    "parameter_recovery = pd.concat(partial_recoveries).sort_values('index').reset_index(drop=True)\n",
    "del partial_recoveries\n",
    "parameter_recovery.to_csv(join(output_folder, 'parameter-recovery_{}.csv'.format(label)))\n",
    "parameter_recovery.head()"
   ]
  },
  {
   "cell_type": "code",
   "execution_count": null,
   "metadata": {},
   "outputs": [],
   "source": []
  }
 ],
 "metadata": {
  "kernelspec": {
   "display_name": "Python 3",
   "language": "python",
   "name": "python3"
  },
  "language_info": {
   "codemirror_mode": {
    "name": "ipython",
    "version": 3
   },
   "file_extension": ".py",
   "mimetype": "text/x-python",
   "name": "python",
   "nbconvert_exporter": "python",
   "pygments_lexer": "ipython3",
   "version": "3.6.8"
  },
  "toc": {
   "colors": {
    "hover_highlight": "#DAA520",
    "running_highlight": "#FF0000",
    "selected_highlight": "#FFD700"
   },
   "moveMenuLeft": true,
   "nav_menu": {
    "height": "66px",
    "width": "252px"
   },
   "navigate_menu": true,
   "number_sections": true,
   "sideBar": true,
   "threshold": 4,
   "toc_cell": false,
   "toc_section_display": "block",
   "toc_window_display": false,
   "widenNotebook": false
  }
 },
 "nbformat": 4,
 "nbformat_minor": 2
}
