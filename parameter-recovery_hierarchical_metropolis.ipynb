{
 "cells": [
  {
   "cell_type": "code",
   "execution_count": 1,
   "metadata": {},
   "outputs": [
    {
     "name": "stderr",
     "output_type": "stream",
     "text": [
      "/Users/felixmolter/anaconda3/lib/python3.6/site-packages/h5py/__init__.py:36: FutureWarning: Conversion of the second argument of issubdtype from `float` to `np.floating` is deprecated. In future, it will be treated as `np.float64 == np.dtype(float).type`.\n",
      "  from ._conv import register_converters as _register_converters\n"
     ]
    }
   ],
   "source": [
    "import numpy as np\n",
    "import pandas as pd\n",
    "import pymc3 as pm\n",
    "from os.path import join, isfile\n",
    "from os import listdir\n",
    "from functools import partial\n",
    "\n",
    "import glam\n",
    "import parameter_recovery as pr\n",
    "\n",
    "%load_ext autoreload\n",
    "%autoreload 2"
   ]
  },
  {
   "cell_type": "markdown",
   "metadata": {},
   "source": [
    "# Systematic parameter recovery – Hierarchical model, with Metropolis"
   ]
  },
  {
   "cell_type": "code",
   "execution_count": 2,
   "metadata": {},
   "outputs": [],
   "source": [
    "output_folder = join('results', 'parameter-recovery_hierarchical', 'metropolis')\n",
    "label = 'hierarchical_metropolis'"
   ]
  },
  {
   "cell_type": "markdown",
   "metadata": {},
   "source": [
    "## Define parameter ranges from 2011 estimates"
   ]
  },
  {
   "cell_type": "code",
   "execution_count": 3,
   "metadata": {},
   "outputs": [],
   "source": [
    "bounds = dict(v=[0.000015, 0.00015],\n",
    "              gamma=[-1, 1],\n",
    "              s=[0.004, 0.011],\n",
    "              tau=[0.1, 1.25])"
   ]
  },
  {
   "cell_type": "code",
   "execution_count": 4,
   "metadata": {},
   "outputs": [
    {
     "data": {
      "text/plain": [
       "{'v': array([2.850e-05, 8.250e-05, 1.365e-04]),\n",
       " 'gamma': array([-8.00000000e-01,  5.55111512e-17,  8.00000000e-01]),\n",
       " 's': array([0.0047, 0.0075, 0.0103]),\n",
       " 'tau': array([0.215, 0.675, 1.135])}"
      ]
     },
     "execution_count": 4,
     "metadata": {},
     "output_type": "execute_result"
    }
   ],
   "source": [
    "# Determine low, medium, high mean values as 10th, 50th and 90th percentile of these ranges\n",
    "means = {parameter: np.percentile(np.linspace(*bounds[parameter], 100), [10, 50, 90])\n",
    "          for parameter in ['v', 'gamma', 's', 'tau']}\n",
    "means"
   ]
  },
  {
   "cell_type": "code",
   "execution_count": 5,
   "metadata": {},
   "outputs": [],
   "source": [
    "sds = dict(v=0.00005,\n",
    "           s=0.001,\n",
    "           gamma=0.3,\n",
    "           tau=0.2)"
   ]
  },
  {
   "cell_type": "code",
   "execution_count": 6,
   "metadata": {},
   "outputs": [],
   "source": [
    "parameter_info = {parameter: dict(mu=dict(low=means[parameter][0],\n",
    "                                          medium=means[parameter][1],\n",
    "                                          high=means[parameter][2]),\n",
    "                                  sd=sds[parameter],\n",
    "                                  bounds=tuple(bounds[parameter]))\n",
    "                  for parameter in ['v', 'gamma', 's', 'tau']}"
   ]
  },
  {
   "cell_type": "markdown",
   "metadata": {},
   "source": [
    "## Run the recovery in parallel"
   ]
  },
  {
   "cell_type": "code",
   "execution_count": 7,
   "metadata": {},
   "outputs": [],
   "source": [
    "partial_output_folder = join(output_folder, 'partial')\n",
    "\n",
    "simulate_group_args = dict(kind='hierarchical',\n",
    "                           n_individuals=20,\n",
    "                           n_trials=50, \n",
    "                           n_items=3,\n",
    "                           error_weight=0,\n",
    "                           value_range=[1, 10],\n",
    "                           seed=None)\n",
    "\n",
    "make_model_args = dict(kind='hierarchical',\n",
    "                       t0_val=0,\n",
    "                       error_weight=0)\n",
    "\n",
    "fit_args = dict(method='MCMC',\n",
    "                step=pm.Metropolis,\n",
    "                draws=5000,\n",
    "                tune=40000,\n",
    "                cores=1,\n",
    "                chains=2,\n",
    "                progressbar=False)\n",
    "\n",
    "wrapper = partial(pr.recover_and_save_hierarchical,\n",
    "                  output_folder=partial_output_folder,\n",
    "                  label=label,\n",
    "                  simulate_group_args=simulate_group_args,\n",
    "                  make_model_args=make_model_args,\n",
    "                  fit_args=fit_args)"
   ]
  },
  {
   "cell_type": "code",
   "execution_count": 8,
   "metadata": {},
   "outputs": [
    {
     "name": "stdout",
     "output_type": "stream",
     "text": [
      "Generating hierarchical model for 20 subjects...\n",
      "Generating hierarchical model for 20 subjects...\n",
      "Generating hierarchical model for 20 subjects...\n",
      "Generating hierarchical model for 20 subjects...\n"
     ]
    },
    {
     "name": "stderr",
     "output_type": "stream",
     "text": [
      "INFO (theano.gof.compilelock): Waiting for existing lock by process '28522' (I am process '28578')\n",
      "INFO (theano.gof.compilelock): To manually release the lock, delete /Users/felixmolter/.theano/compiledir_Darwin-17.7.0-x86_64-i386-64bit-i386-3.6.8-64/lock_dir\n",
      "INFO (theano.gof.compilelock): Waiting for existing lock by process '28575' (I am process '28577')\n",
      "INFO (theano.gof.compilelock): To manually release the lock, delete /Users/felixmolter/.theano/compiledir_Darwin-17.7.0-x86_64-i386-64bit-i386-3.6.8-64/lock_dir\n",
      "INFO (theano.gof.compilelock): Waiting for existing lock by process '28575' (I am process '28576')\n",
      "INFO (theano.gof.compilelock): To manually release the lock, delete /Users/felixmolter/.theano/compiledir_Darwin-17.7.0-x86_64-i386-64bit-i386-3.6.8-64/lock_dir\n",
      "INFO (theano.gof.compilelock): Waiting for existing lock by process '28524' (I am process '28578')\n",
      "INFO (theano.gof.compilelock): To manually release the lock, delete /Users/felixmolter/.theano/compiledir_Darwin-17.7.0-x86_64-i386-64bit-i386-3.6.8-64/lock_dir\n",
      "INFO (theano.gof.compilelock): Waiting for existing lock by process '28524' (I am process '28577')\n",
      "INFO (theano.gof.compilelock): To manually release the lock, delete /Users/felixmolter/.theano/compiledir_Darwin-17.7.0-x86_64-i386-64bit-i386-3.6.8-64/lock_dir\n",
      "INFO (theano.gof.compilelock): Waiting for existing lock by process '28524' (I am process '28576')\n",
      "INFO (theano.gof.compilelock): To manually release the lock, delete /Users/felixmolter/.theano/compiledir_Darwin-17.7.0-x86_64-i386-64bit-i386-3.6.8-64/lock_dir\n",
      "INFO (theano.gof.compilelock): Waiting for existing lock by process '28521' (I am process '28575')\n",
      "INFO (theano.gof.compilelock): To manually release the lock, delete /Users/felixmolter/.theano/compiledir_Darwin-17.7.0-x86_64-i386-64bit-i386-3.6.8-64/lock_dir\n",
      "INFO (theano.gof.compilelock): Waiting for existing lock by process '28578' (I am process '28577')\n",
      "INFO (theano.gof.compilelock): To manually release the lock, delete /Users/felixmolter/.theano/compiledir_Darwin-17.7.0-x86_64-i386-64bit-i386-3.6.8-64/lock_dir\n",
      "INFO (theano.gof.compilelock): Waiting for existing lock by process '28578' (I am process '28576')\n",
      "INFO (theano.gof.compilelock): To manually release the lock, delete /Users/felixmolter/.theano/compiledir_Darwin-17.7.0-x86_64-i386-64bit-i386-3.6.8-64/lock_dir\n",
      "INFO (theano.gof.compilelock): Waiting for existing lock by process '28578' (I am process '28575')\n",
      "INFO (theano.gof.compilelock): To manually release the lock, delete /Users/felixmolter/.theano/compiledir_Darwin-17.7.0-x86_64-i386-64bit-i386-3.6.8-64/lock_dir\n",
      "INFO (theano.gof.compilelock): Waiting for existing lock by process '28577' (I am process '28576')\n",
      "INFO (theano.gof.compilelock): To manually release the lock, delete /Users/felixmolter/.theano/compiledir_Darwin-17.7.0-x86_64-i386-64bit-i386-3.6.8-64/lock_dir\n",
      "INFO (theano.gof.compilelock): Waiting for existing lock by process '28523' (I am process '28575')\n",
      "INFO (theano.gof.compilelock): To manually release the lock, delete /Users/felixmolter/.theano/compiledir_Darwin-17.7.0-x86_64-i386-64bit-i386-3.6.8-64/lock_dir\n",
      "INFO (theano.gof.compilelock): Waiting for existing lock by process '28522' (I am process '28578')\n",
      "INFO (theano.gof.compilelock): To manually release the lock, delete /Users/felixmolter/.theano/compiledir_Darwin-17.7.0-x86_64-i386-64bit-i386-3.6.8-64/lock_dir\n",
      "INFO (theano.gof.compilelock): Waiting for existing lock by process '28523' (I am process '28578')\n",
      "INFO (theano.gof.compilelock): To manually release the lock, delete /Users/felixmolter/.theano/compiledir_Darwin-17.7.0-x86_64-i386-64bit-i386-3.6.8-64/lock_dir\n",
      "INFO (theano.gof.compilelock): Waiting for existing lock by process '28523' (I am process '28575')\n",
      "INFO (theano.gof.compilelock): To manually release the lock, delete /Users/felixmolter/.theano/compiledir_Darwin-17.7.0-x86_64-i386-64bit-i386-3.6.8-64/lock_dir\n",
      "INFO (theano.gof.compilelock): Waiting for existing lock by process '28523' (I am process '28577')\n",
      "INFO (theano.gof.compilelock): To manually release the lock, delete /Users/felixmolter/.theano/compiledir_Darwin-17.7.0-x86_64-i386-64bit-i386-3.6.8-64/lock_dir\n",
      "INFO (theano.gof.compilelock): Waiting for existing lock by process '28523' (I am process '28576')\n",
      "INFO (theano.gof.compilelock): To manually release the lock, delete /Users/felixmolter/.theano/compiledir_Darwin-17.7.0-x86_64-i386-64bit-i386-3.6.8-64/lock_dir\n",
      "INFO (theano.gof.compilelock): Waiting for existing lock by process '28523' (I am process '28577')\n",
      "INFO (theano.gof.compilelock): To manually release the lock, delete /Users/felixmolter/.theano/compiledir_Darwin-17.7.0-x86_64-i386-64bit-i386-3.6.8-64/lock_dir\n",
      "INFO (theano.gof.compilelock): Waiting for existing lock by process '28523' (I am process '28578')\n",
      "INFO (theano.gof.compilelock): To manually release the lock, delete /Users/felixmolter/.theano/compiledir_Darwin-17.7.0-x86_64-i386-64bit-i386-3.6.8-64/lock_dir\n",
      "INFO (theano.gof.compilelock): Waiting for existing lock by process '28523' (I am process '28575')\n",
      "INFO (theano.gof.compilelock): To manually release the lock, delete /Users/felixmolter/.theano/compiledir_Darwin-17.7.0-x86_64-i386-64bit-i386-3.6.8-64/lock_dir\n",
      "INFO (theano.gof.compilelock): Waiting for existing lock by process '28523' (I am process '28576')\n",
      "INFO (theano.gof.compilelock): To manually release the lock, delete /Users/felixmolter/.theano/compiledir_Darwin-17.7.0-x86_64-i386-64bit-i386-3.6.8-64/lock_dir\n",
      "INFO (theano.gof.compilelock): Waiting for existing lock by process '28523' (I am process '28577')\n",
      "INFO (theano.gof.compilelock): To manually release the lock, delete /Users/felixmolter/.theano/compiledir_Darwin-17.7.0-x86_64-i386-64bit-i386-3.6.8-64/lock_dir\n",
      "INFO (theano.gof.compilelock): Waiting for existing lock by process '28523' (I am process '28575')\n",
      "INFO (theano.gof.compilelock): To manually release the lock, delete /Users/felixmolter/.theano/compiledir_Darwin-17.7.0-x86_64-i386-64bit-i386-3.6.8-64/lock_dir\n",
      "INFO (theano.gof.compilelock): Waiting for existing lock by process '28523' (I am process '28578')\n",
      "INFO (theano.gof.compilelock): To manually release the lock, delete /Users/felixmolter/.theano/compiledir_Darwin-17.7.0-x86_64-i386-64bit-i386-3.6.8-64/lock_dir\n",
      "INFO (theano.gof.compilelock): Waiting for existing lock by process '28577' (I am process '28578')\n",
      "INFO (theano.gof.compilelock): To manually release the lock, delete /Users/felixmolter/.theano/compiledir_Darwin-17.7.0-x86_64-i386-64bit-i386-3.6.8-64/lock_dir\n",
      "INFO (theano.gof.compilelock): Waiting for existing lock by process '28577' (I am process '28576')\n",
      "INFO (theano.gof.compilelock): To manually release the lock, delete /Users/felixmolter/.theano/compiledir_Darwin-17.7.0-x86_64-i386-64bit-i386-3.6.8-64/lock_dir\n",
      "INFO (theano.gof.compilelock): Waiting for existing lock by process '28577' (I am process '28575')\n",
      "INFO (theano.gof.compilelock): To manually release the lock, delete /Users/felixmolter/.theano/compiledir_Darwin-17.7.0-x86_64-i386-64bit-i386-3.6.8-64/lock_dir\n"
     ]
    },
    {
     "name": "stdout",
     "output_type": "stream",
     "text": [
      "Fitting 1 model(s) using MCMC...\n",
      "  Fitting model 1 of 1...\n"
     ]
    },
    {
     "name": "stderr",
     "output_type": "stream",
     "text": [
      "INFO (theano.gof.compilelock): Waiting for existing lock by process '28576' (I am process '28578')\n",
      "INFO (theano.gof.compilelock): To manually release the lock, delete /Users/felixmolter/.theano/compiledir_Darwin-17.7.0-x86_64-i386-64bit-i386-3.6.8-64/lock_dir\n",
      "INFO (theano.gof.compilelock): Waiting for existing lock by process '28576' (I am process '28575')\n",
      "INFO (theano.gof.compilelock): To manually release the lock, delete /Users/felixmolter/.theano/compiledir_Darwin-17.7.0-x86_64-i386-64bit-i386-3.6.8-64/lock_dir\n",
      "INFO (theano.gof.compilelock): Waiting for existing lock by process '28524' (I am process '28577')\n",
      "INFO (theano.gof.compilelock): To manually release the lock, delete /Users/felixmolter/.theano/compiledir_Darwin-17.7.0-x86_64-i386-64bit-i386-3.6.8-64/lock_dir\n",
      "INFO (theano.gof.compilelock): Waiting for existing lock by process '28522' (I am process '28576')\n",
      "INFO (theano.gof.compilelock): To manually release the lock, delete /Users/felixmolter/.theano/compiledir_Darwin-17.7.0-x86_64-i386-64bit-i386-3.6.8-64/lock_dir\n",
      "INFO (theano.gof.compilelock): Waiting for existing lock by process '28522' (I am process '28578')\n",
      "INFO (theano.gof.compilelock): To manually release the lock, delete /Users/felixmolter/.theano/compiledir_Darwin-17.7.0-x86_64-i386-64bit-i386-3.6.8-64/lock_dir\n",
      "INFO (theano.gof.compilelock): Waiting for existing lock by process '28576' (I am process '28575')\n",
      "INFO (theano.gof.compilelock): To manually release the lock, delete /Users/felixmolter/.theano/compiledir_Darwin-17.7.0-x86_64-i386-64bit-i386-3.6.8-64/lock_dir\n"
     ]
    },
    {
     "name": "stdout",
     "output_type": "stream",
     "text": [
      "Fitting 1 model(s) using MCMC...\n",
      "  Fitting model 1 of 1...\n"
     ]
    },
    {
     "name": "stderr",
     "output_type": "stream",
     "text": [
      "INFO (theano.gof.compilelock): Waiting for existing lock by process '27090' (I am process '28577')\n",
      "INFO (theano.gof.compilelock): To manually release the lock, delete /Users/felixmolter/.theano/compiledir_Darwin-17.7.0-x86_64-i386-64bit-i386-3.6.8-64/lock_dir\n",
      "INFO (theano.gof.compilelock): Waiting for existing lock by process '28578' (I am process '28575')\n",
      "INFO (theano.gof.compilelock): To manually release the lock, delete /Users/felixmolter/.theano/compiledir_Darwin-17.7.0-x86_64-i386-64bit-i386-3.6.8-64/lock_dir\n"
     ]
    },
    {
     "name": "stdout",
     "output_type": "stream",
     "text": [
      "Fitting 1 model(s) using MCMC...\n",
      "  Fitting model 1 of 1...\n"
     ]
    },
    {
     "name": "stderr",
     "output_type": "stream",
     "text": [
      "INFO (theano.gof.compilelock): Waiting for existing lock by process '27096' (I am process '28576')\n",
      "INFO (theano.gof.compilelock): To manually release the lock, delete /Users/felixmolter/.theano/compiledir_Darwin-17.7.0-x86_64-i386-64bit-i386-3.6.8-64/lock_dir\n",
      "INFO (theano.gof.compilelock): Waiting for existing lock by process '27096' (I am process '28577')\n",
      "INFO (theano.gof.compilelock): To manually release the lock, delete /Users/felixmolter/.theano/compiledir_Darwin-17.7.0-x86_64-i386-64bit-i386-3.6.8-64/lock_dir\n",
      "INFO (theano.gof.compilelock): Waiting for existing lock by process '27096' (I am process '28575')\n",
      "INFO (theano.gof.compilelock): To manually release the lock, delete /Users/felixmolter/.theano/compiledir_Darwin-17.7.0-x86_64-i386-64bit-i386-3.6.8-64/lock_dir\n",
      "INFO (theano.gof.compilelock): Waiting for existing lock by process '27090' (I am process '28576')\n",
      "INFO (theano.gof.compilelock): To manually release the lock, delete /Users/felixmolter/.theano/compiledir_Darwin-17.7.0-x86_64-i386-64bit-i386-3.6.8-64/lock_dir\n",
      "INFO (theano.gof.compilelock): Waiting for existing lock by process '27090' (I am process '28577')\n",
      "INFO (theano.gof.compilelock): To manually release the lock, delete /Users/felixmolter/.theano/compiledir_Darwin-17.7.0-x86_64-i386-64bit-i386-3.6.8-64/lock_dir\n",
      "INFO (theano.gof.compilelock): Waiting for existing lock by process '27090' (I am process '28575')\n",
      "INFO (theano.gof.compilelock): To manually release the lock, delete /Users/felixmolter/.theano/compiledir_Darwin-17.7.0-x86_64-i386-64bit-i386-3.6.8-64/lock_dir\n",
      "INFO (theano.gof.compilelock): Waiting for existing lock by process '28521' (I am process '28578')\n",
      "INFO (theano.gof.compilelock): To manually release the lock, delete /Users/felixmolter/.theano/compiledir_Darwin-17.7.0-x86_64-i386-64bit-i386-3.6.8-64/lock_dir\n",
      "INFO (theano.gof.compilelock): Waiting for existing lock by process '28522' (I am process '28575')\n",
      "INFO (theano.gof.compilelock): To manually release the lock, delete /Users/felixmolter/.theano/compiledir_Darwin-17.7.0-x86_64-i386-64bit-i386-3.6.8-64/lock_dir\n",
      "INFO (theano.gof.compilelock): Waiting for existing lock by process '28575' (I am process '28578')\n",
      "INFO (theano.gof.compilelock): To manually release the lock, delete /Users/felixmolter/.theano/compiledir_Darwin-17.7.0-x86_64-i386-64bit-i386-3.6.8-64/lock_dir\n",
      "INFO (theano.gof.compilelock): Waiting for existing lock by process '28577' (I am process '28576')\n",
      "INFO (theano.gof.compilelock): To manually release the lock, delete /Users/felixmolter/.theano/compiledir_Darwin-17.7.0-x86_64-i386-64bit-i386-3.6.8-64/lock_dir\n",
      "INFO (theano.gof.compilelock): Waiting for existing lock by process '28577' (I am process '28578')\n",
      "INFO (theano.gof.compilelock): To manually release the lock, delete /Users/felixmolter/.theano/compiledir_Darwin-17.7.0-x86_64-i386-64bit-i386-3.6.8-64/lock_dir\n",
      "INFO (theano.gof.compilelock): Waiting for existing lock by process '28577' (I am process '28575')\n",
      "INFO (theano.gof.compilelock): To manually release the lock, delete /Users/felixmolter/.theano/compiledir_Darwin-17.7.0-x86_64-i386-64bit-i386-3.6.8-64/lock_dir\n"
     ]
    },
    {
     "name": "stdout",
     "output_type": "stream",
     "text": [
      "Fitting 1 model(s) using MCMC...\n",
      "  Fitting model 1 of 1...\n"
     ]
    },
    {
     "name": "stderr",
     "output_type": "stream",
     "text": [
      "INFO (theano.gof.compilelock): Waiting for existing lock by process '28577' (I am process '28578')\n",
      "INFO (theano.gof.compilelock): To manually release the lock, delete /Users/felixmolter/.theano/compiledir_Darwin-17.7.0-x86_64-i386-64bit-i386-3.6.8-64/lock_dir\n",
      "INFO (theano.gof.compilelock): Waiting for existing lock by process '28577' (I am process '28576')\n",
      "INFO (theano.gof.compilelock): To manually release the lock, delete /Users/felixmolter/.theano/compiledir_Darwin-17.7.0-x86_64-i386-64bit-i386-3.6.8-64/lock_dir\n",
      "INFO (theano.gof.compilelock): Waiting for existing lock by process '28577' (I am process '28575')\n",
      "INFO (theano.gof.compilelock): To manually release the lock, delete /Users/felixmolter/.theano/compiledir_Darwin-17.7.0-x86_64-i386-64bit-i386-3.6.8-64/lock_dir\n",
      "INFO (theano.gof.compilelock): Waiting for existing lock by process '28577' (I am process '28578')\n",
      "INFO (theano.gof.compilelock): To manually release the lock, delete /Users/felixmolter/.theano/compiledir_Darwin-17.7.0-x86_64-i386-64bit-i386-3.6.8-64/lock_dir\n",
      "INFO (theano.gof.compilelock): Waiting for existing lock by process '28524' (I am process '28576')\n",
      "INFO (theano.gof.compilelock): To manually release the lock, delete /Users/felixmolter/.theano/compiledir_Darwin-17.7.0-x86_64-i386-64bit-i386-3.6.8-64/lock_dir\n",
      "INFO (theano.gof.compilelock): Waiting for existing lock by process '28578' (I am process '28575')\n",
      "INFO (theano.gof.compilelock): To manually release the lock, delete /Users/felixmolter/.theano/compiledir_Darwin-17.7.0-x86_64-i386-64bit-i386-3.6.8-64/lock_dir\n",
      "INFO (theano.gof.compilelock): Waiting for existing lock by process '28577' (I am process '28575')\n",
      "INFO (theano.gof.compilelock): To manually release the lock, delete /Users/felixmolter/.theano/compiledir_Darwin-17.7.0-x86_64-i386-64bit-i386-3.6.8-64/lock_dir\n",
      "INFO (theano.gof.compilelock): Waiting for existing lock by process '28577' (I am process '28576')\n",
      "INFO (theano.gof.compilelock): To manually release the lock, delete /Users/felixmolter/.theano/compiledir_Darwin-17.7.0-x86_64-i386-64bit-i386-3.6.8-64/lock_dir\n",
      "INFO (theano.gof.compilelock): Waiting for existing lock by process '28524' (I am process '28578')\n",
      "INFO (theano.gof.compilelock): To manually release the lock, delete /Users/felixmolter/.theano/compiledir_Darwin-17.7.0-x86_64-i386-64bit-i386-3.6.8-64/lock_dir\n",
      "INFO (theano.gof.compilelock): Waiting for existing lock by process '27092' (I am process '28578')\n",
      "INFO (theano.gof.compilelock): To manually release the lock, delete /Users/felixmolter/.theano/compiledir_Darwin-17.7.0-x86_64-i386-64bit-i386-3.6.8-64/lock_dir\n",
      "INFO (theano.gof.compilelock): Waiting for existing lock by process '27092' (I am process '28577')\n",
      "INFO (theano.gof.compilelock): To manually release the lock, delete /Users/felixmolter/.theano/compiledir_Darwin-17.7.0-x86_64-i386-64bit-i386-3.6.8-64/lock_dir\n",
      "INFO (theano.gof.compilelock): Waiting for existing lock by process '27092' (I am process '28575')\n",
      "INFO (theano.gof.compilelock): To manually release the lock, delete /Users/felixmolter/.theano/compiledir_Darwin-17.7.0-x86_64-i386-64bit-i386-3.6.8-64/lock_dir\n",
      "INFO (theano.gof.compilelock): Waiting for existing lock by process '27092' (I am process '28578')\n",
      "INFO (theano.gof.compilelock): To manually release the lock, delete /Users/felixmolter/.theano/compiledir_Darwin-17.7.0-x86_64-i386-64bit-i386-3.6.8-64/lock_dir\n",
      "INFO (theano.gof.compilelock): Waiting for existing lock by process '27092' (I am process '28576')\n",
      "INFO (theano.gof.compilelock): To manually release the lock, delete /Users/felixmolter/.theano/compiledir_Darwin-17.7.0-x86_64-i386-64bit-i386-3.6.8-64/lock_dir\n",
      "INFO (theano.gof.compilelock): Waiting for existing lock by process '27092' (I am process '28577')\n",
      "INFO (theano.gof.compilelock): To manually release the lock, delete /Users/felixmolter/.theano/compiledir_Darwin-17.7.0-x86_64-i386-64bit-i386-3.6.8-64/lock_dir\n",
      "INFO (theano.gof.compilelock): Waiting for existing lock by process '28524' (I am process '28577')\n",
      "INFO (theano.gof.compilelock): To manually release the lock, delete /Users/felixmolter/.theano/compiledir_Darwin-17.7.0-x86_64-i386-64bit-i386-3.6.8-64/lock_dir\n",
      "INFO (theano.gof.compilelock): Waiting for existing lock by process '28522' (I am process '28577')\n",
      "INFO (theano.gof.compilelock): To manually release the lock, delete /Users/felixmolter/.theano/compiledir_Darwin-17.7.0-x86_64-i386-64bit-i386-3.6.8-64/lock_dir\n",
      "INFO (theano.gof.compilelock): Waiting for existing lock by process '28578' (I am process '28575')\n",
      "INFO (theano.gof.compilelock): To manually release the lock, delete /Users/felixmolter/.theano/compiledir_Darwin-17.7.0-x86_64-i386-64bit-i386-3.6.8-64/lock_dir\n",
      "INFO (theano.gof.compilelock): Waiting for existing lock by process '28578' (I am process '28577')\n",
      "INFO (theano.gof.compilelock): To manually release the lock, delete /Users/felixmolter/.theano/compiledir_Darwin-17.7.0-x86_64-i386-64bit-i386-3.6.8-64/lock_dir\n",
      "INFO (theano.gof.compilelock): Waiting for existing lock by process '28577' (I am process '28575')\n",
      "INFO (theano.gof.compilelock): To manually release the lock, delete /Users/felixmolter/.theano/compiledir_Darwin-17.7.0-x86_64-i386-64bit-i386-3.6.8-64/lock_dir\n",
      "INFO (theano.gof.compilelock): Waiting for existing lock by process '28578' (I am process '28576')\n",
      "INFO (theano.gof.compilelock): To manually release the lock, delete /Users/felixmolter/.theano/compiledir_Darwin-17.7.0-x86_64-i386-64bit-i386-3.6.8-64/lock_dir\n",
      "Sequential sampling (2 chains in 1 job)\n",
      "CompoundStep\n",
      ">Metropolis: [tau]\n",
      ">Metropolis: [tau_sd]\n",
      ">Metropolis: [tau_mu]\n",
      ">Metropolis: [s]\n",
      ">Metropolis: [s_sd]\n",
      ">Metropolis: [s_mu]\n",
      ">Metropolis: [gamma]\n",
      ">Metropolis: [gamma_sd]\n",
      ">Metropolis: [gamma_mu]\n",
      ">Metropolis: [v]\n",
      ">Metropolis: [v_sd]\n",
      ">Metropolis: [v_mu]\n",
      "INFO (theano.gof.compilelock): Waiting for existing lock by process '28577' (I am process '28575')\n",
      "INFO (theano.gof.compilelock): To manually release the lock, delete /Users/felixmolter/.theano/compiledir_Darwin-17.7.0-x86_64-i386-64bit-i386-3.6.8-64/lock_dir\n",
      "INFO (theano.gof.compilelock): Waiting for existing lock by process '28576' (I am process '28575')\n",
      "INFO (theano.gof.compilelock): To manually release the lock, delete /Users/felixmolter/.theano/compiledir_Darwin-17.7.0-x86_64-i386-64bit-i386-3.6.8-64/lock_dir\n",
      "Sequential sampling (2 chains in 1 job)\n",
      "CompoundStep\n",
      ">Metropolis: [tau]\n",
      ">Metropolis: [tau_sd]\n",
      ">Metropolis: [tau_mu]\n",
      ">Metropolis: [s]\n",
      ">Metropolis: [s_sd]\n",
      ">Metropolis: [s_mu]\n",
      ">Metropolis: [gamma]\n",
      ">Metropolis: [gamma_sd]\n",
      ">Metropolis: [gamma_mu]\n",
      ">Metropolis: [v]\n",
      ">Metropolis: [v_sd]\n",
      ">Metropolis: [v_mu]\n",
      "Sequential sampling (2 chains in 1 job)\n",
      "CompoundStep\n",
      ">Metropolis: [tau]\n",
      ">Metropolis: [tau_sd]\n",
      ">Metropolis: [tau_mu]\n",
      ">Metropolis: [s]\n",
      ">Metropolis: [s_sd]\n",
      ">Metropolis: [s_mu]\n",
      ">Metropolis: [gamma]\n",
      ">Metropolis: [gamma_sd]\n",
      ">Metropolis: [gamma_mu]\n",
      ">Metropolis: [v]\n",
      ">Metropolis: [v_sd]\n",
      ">Metropolis: [v_mu]\n",
      "Sequential sampling (2 chains in 1 job)\n",
      "CompoundStep\n",
      ">Metropolis: [tau]\n",
      ">Metropolis: [tau_sd]\n",
      ">Metropolis: [tau_mu]\n",
      ">Metropolis: [s]\n",
      ">Metropolis: [s_sd]\n",
      ">Metropolis: [s_mu]\n",
      ">Metropolis: [gamma]\n",
      ">Metropolis: [gamma_sd]\n",
      ">Metropolis: [gamma_mu]\n",
      ">Metropolis: [v]\n",
      ">Metropolis: [v_sd]\n",
      ">Metropolis: [v_mu]\n",
      "The gelman-rubin statistic is larger than 1.4 for some parameters. The sampler did not converge.\n",
      "The estimated number of effective samples is smaller than 200 for some parameters.\n"
     ]
    },
    {
     "name": "stdout",
     "output_type": "stream",
     "text": [
      "/!\\ Automatically setting parameter precision...\n",
      "Generating hierarchical model for 20 subjects...\n",
      "Fitting 1 model(s) using MCMC...\n",
      "  Fitting model 1 of 1...\n"
     ]
    },
    {
     "name": "stderr",
     "output_type": "stream",
     "text": [
      "The gelman-rubin statistic is larger than 1.05 for some parameters. This indicates slight problems during sampling.\n",
      "The estimated number of effective samples is smaller than 200 for some parameters.\n"
     ]
    },
    {
     "name": "stdout",
     "output_type": "stream",
     "text": [
      "/!\\ Automatically setting parameter precision...\n"
     ]
    },
    {
     "name": "stderr",
     "output_type": "stream",
     "text": [
      "The gelman-rubin statistic is larger than 1.4 for some parameters. The sampler did not converge.\n",
      "The estimated number of effective samples is smaller than 200 for some parameters.\n"
     ]
    },
    {
     "name": "stdout",
     "output_type": "stream",
     "text": [
      "/!\\ Automatically setting parameter precision...\n",
      "Generating hierarchical model for 20 subjects...\n",
      "Fitting 1 model(s) using MCMC...\n",
      "  Fitting model 1 of 1...\n",
      "Generating hierarchical model for 20 subjects...\n",
      "Fitting 1 model(s) using MCMC...\n",
      "  Fitting model 1 of 1...\n"
     ]
    },
    {
     "name": "stderr",
     "output_type": "stream",
     "text": [
      "The gelman-rubin statistic is larger than 1.4 for some parameters. The sampler did not converge.\n",
      "The estimated number of effective samples is smaller than 200 for some parameters.\n"
     ]
    },
    {
     "name": "stdout",
     "output_type": "stream",
     "text": [
      "/!\\ Automatically setting parameter precision...\n",
      "Generating hierarchical model for 20 subjects...\n",
      "Fitting 1 model(s) using MCMC...\n",
      "  Fitting model 1 of 1...\n"
     ]
    },
    {
     "name": "stderr",
     "output_type": "stream",
     "text": [
      "Sequential sampling (2 chains in 1 job)\n",
      "CompoundStep\n",
      ">Metropolis: [tau]\n",
      ">Metropolis: [tau_sd]\n",
      ">Metropolis: [tau_mu]\n",
      ">Metropolis: [s]\n",
      ">Metropolis: [s_sd]\n",
      ">Metropolis: [s_mu]\n",
      ">Metropolis: [gamma]\n",
      ">Metropolis: [gamma_sd]\n",
      ">Metropolis: [gamma_mu]\n",
      ">Metropolis: [v]\n",
      ">Metropolis: [v_sd]\n",
      ">Metropolis: [v_mu]\n",
      "INFO (theano.gof.compilelock): Waiting for existing lock by process '28575' (I am process '28577')\n",
      "INFO (theano.gof.compilelock): To manually release the lock, delete /Users/felixmolter/.theano/compiledir_Darwin-17.7.0-x86_64-i386-64bit-i386-3.6.8-64/lock_dir\n",
      "Sequential sampling (2 chains in 1 job)\n",
      "CompoundStep\n",
      ">Metropolis: [tau]\n",
      ">Metropolis: [tau_sd]\n",
      ">Metropolis: [tau_mu]\n",
      ">Metropolis: [s]\n",
      ">Metropolis: [s_sd]\n",
      ">Metropolis: [s_mu]\n",
      ">Metropolis: [gamma]\n",
      ">Metropolis: [gamma_sd]\n",
      ">Metropolis: [gamma_mu]\n",
      ">Metropolis: [v]\n",
      ">Metropolis: [v_sd]\n",
      ">Metropolis: [v_mu]\n",
      "Sequential sampling (2 chains in 1 job)\n",
      "CompoundStep\n",
      ">Metropolis: [tau]\n",
      ">Metropolis: [tau_sd]\n",
      ">Metropolis: [tau_mu]\n",
      ">Metropolis: [s]\n",
      ">Metropolis: [s_sd]\n",
      ">Metropolis: [s_mu]\n",
      ">Metropolis: [gamma]\n",
      ">Metropolis: [gamma_sd]\n",
      ">Metropolis: [gamma_mu]\n",
      ">Metropolis: [v]\n",
      ">Metropolis: [v_sd]\n",
      ">Metropolis: [v_mu]\n",
      "Sequential sampling (2 chains in 1 job)\n",
      "CompoundStep\n",
      ">Metropolis: [tau]\n",
      ">Metropolis: [tau_sd]\n",
      ">Metropolis: [tau_mu]\n",
      ">Metropolis: [s]\n",
      ">Metropolis: [s_sd]\n",
      ">Metropolis: [s_mu]\n",
      ">Metropolis: [gamma]\n",
      ">Metropolis: [gamma_sd]\n",
      ">Metropolis: [gamma_mu]\n",
      ">Metropolis: [v]\n",
      ">Metropolis: [v_sd]\n",
      ">Metropolis: [v_mu]\n",
      "The gelman-rubin statistic is larger than 1.4 for some parameters. The sampler did not converge.\n",
      "The estimated number of effective samples is smaller than 200 for some parameters.\n"
     ]
    },
    {
     "name": "stdout",
     "output_type": "stream",
     "text": [
      "/!\\ Automatically setting parameter precision...\n",
      "Generating hierarchical model for 20 subjects...\n",
      "Fitting 1 model(s) using MCMC...\n",
      "  Fitting model 1 of 1...\n"
     ]
    },
    {
     "name": "stderr",
     "output_type": "stream",
     "text": [
      "The gelman-rubin statistic is larger than 1.2 for some parameters.\n",
      "The estimated number of effective samples is smaller than 200 for some parameters.\n"
     ]
    },
    {
     "name": "stdout",
     "output_type": "stream",
     "text": [
      "/!\\ Automatically setting parameter precision...\n"
     ]
    },
    {
     "name": "stderr",
     "output_type": "stream",
     "text": [
      "The gelman-rubin statistic is larger than 1.05 for some parameters. This indicates slight problems during sampling.\n",
      "The estimated number of effective samples is smaller than 200 for some parameters.\n"
     ]
    },
    {
     "name": "stdout",
     "output_type": "stream",
     "text": [
      "/!\\ Automatically setting parameter precision...\n"
     ]
    },
    {
     "name": "stderr",
     "output_type": "stream",
     "text": [
      "The gelman-rubin statistic is larger than 1.4 for some parameters. The sampler did not converge.\n",
      "The estimated number of effective samples is smaller than 200 for some parameters.\n"
     ]
    },
    {
     "name": "stdout",
     "output_type": "stream",
     "text": [
      "/!\\ Automatically setting parameter precision...\n",
      "Generating hierarchical model for 20 subjects...\n",
      "Generating hierarchical model for 20 subjects...\n",
      "Fitting 1 model(s) using MCMC...\n",
      "  Fitting model 1 of 1...\n",
      "Fitting 1 model(s) using MCMC...\n",
      "  Fitting model 1 of 1...\n",
      "Generating hierarchical model for 20 subjects...\n",
      "Fitting 1 model(s) using MCMC...\n",
      "  Fitting model 1 of 1...\n"
     ]
    },
    {
     "name": "stderr",
     "output_type": "stream",
     "text": [
      "Sequential sampling (2 chains in 1 job)\n",
      "CompoundStep\n",
      ">Metropolis: [tau]\n",
      ">Metropolis: [tau_sd]\n",
      ">Metropolis: [tau_mu]\n",
      ">Metropolis: [s]\n",
      ">Metropolis: [s_sd]\n",
      ">Metropolis: [s_mu]\n",
      ">Metropolis: [gamma]\n",
      ">Metropolis: [gamma_sd]\n",
      ">Metropolis: [gamma_mu]\n",
      ">Metropolis: [v]\n",
      ">Metropolis: [v_sd]\n",
      ">Metropolis: [v_mu]\n",
      "Sequential sampling (2 chains in 1 job)\n",
      "CompoundStep\n",
      ">Metropolis: [tau]\n",
      ">Metropolis: [tau_sd]\n",
      ">Metropolis: [tau_mu]\n",
      ">Metropolis: [s]\n",
      ">Metropolis: [s_sd]\n",
      ">Metropolis: [s_mu]\n",
      ">Metropolis: [gamma]\n",
      ">Metropolis: [gamma_sd]\n",
      ">Metropolis: [gamma_mu]\n",
      ">Metropolis: [v]\n",
      ">Metropolis: [v_sd]\n",
      ">Metropolis: [v_mu]\n",
      "Sequential sampling (2 chains in 1 job)\n",
      "CompoundStep\n",
      ">Metropolis: [tau]\n",
      ">Metropolis: [tau_sd]\n",
      ">Metropolis: [tau_mu]\n",
      ">Metropolis: [s]\n",
      ">Metropolis: [s_sd]\n",
      ">Metropolis: [s_mu]\n",
      ">Metropolis: [gamma]\n",
      ">Metropolis: [gamma_sd]\n",
      ">Metropolis: [gamma_mu]\n",
      ">Metropolis: [v]\n",
      ">Metropolis: [v_sd]\n",
      ">Metropolis: [v_mu]\n",
      "Sequential sampling (2 chains in 1 job)\n",
      "CompoundStep\n",
      ">Metropolis: [tau]\n",
      ">Metropolis: [tau_sd]\n",
      ">Metropolis: [tau_mu]\n",
      ">Metropolis: [s]\n",
      ">Metropolis: [s_sd]\n",
      ">Metropolis: [s_mu]\n",
      ">Metropolis: [gamma]\n",
      ">Metropolis: [gamma_sd]\n",
      ">Metropolis: [gamma_mu]\n",
      ">Metropolis: [v]\n",
      ">Metropolis: [v_sd]\n",
      ">Metropolis: [v_mu]\n",
      "The gelman-rubin statistic is larger than 1.4 for some parameters. The sampler did not converge.\n",
      "The estimated number of effective samples is smaller than 200 for some parameters.\n"
     ]
    },
    {
     "name": "stdout",
     "output_type": "stream",
     "text": [
      "/!\\ Automatically setting parameter precision...\n"
     ]
    },
    {
     "name": "stderr",
     "output_type": "stream",
     "text": [
      "The gelman-rubin statistic is larger than 1.4 for some parameters. The sampler did not converge.\n",
      "The estimated number of effective samples is smaller than 200 for some parameters.\n"
     ]
    },
    {
     "name": "stdout",
     "output_type": "stream",
     "text": [
      "/!\\ Automatically setting parameter precision...\n",
      "Generating hierarchical model for 20 subjects...\n",
      "Fitting 1 model(s) using MCMC...\n",
      "  Fitting model 1 of 1...\n",
      "Generating hierarchical model for 20 subjects...\n"
     ]
    },
    {
     "name": "stderr",
     "output_type": "stream",
     "text": [
      "The gelman-rubin statistic is larger than 1.4 for some parameters. The sampler did not converge.\n",
      "The estimated number of effective samples is smaller than 200 for some parameters.\n"
     ]
    },
    {
     "name": "stdout",
     "output_type": "stream",
     "text": [
      "/!\\ Automatically setting parameter precision...\n",
      "Fitting 1 model(s) using MCMC...\n",
      "  Fitting model 1 of 1...\n"
     ]
    },
    {
     "name": "stderr",
     "output_type": "stream",
     "text": [
      "The gelman-rubin statistic is larger than 1.4 for some parameters. The sampler did not converge.\n",
      "The estimated number of effective samples is smaller than 200 for some parameters.\n"
     ]
    },
    {
     "name": "stdout",
     "output_type": "stream",
     "text": [
      "/!\\ Automatically setting parameter precision...\n",
      "Generating hierarchical model for 20 subjects...\n",
      "Generating hierarchical model for 20 subjects...\n",
      "Fitting 1 model(s) using MCMC...\n",
      "  Fitting model 1 of 1...\n",
      "Fitting 1 model(s) using MCMC...\n",
      "  Fitting model 1 of 1...\n"
     ]
    },
    {
     "name": "stderr",
     "output_type": "stream",
     "text": [
      "INFO (theano.gof.compilelock): Waiting for existing lock by process '28578' (I am process '28577')\n",
      "INFO (theano.gof.compilelock): To manually release the lock, delete /Users/felixmolter/.theano/compiledir_Darwin-17.7.0-x86_64-i386-64bit-i386-3.6.8-64/lock_dir\n",
      "Sequential sampling (2 chains in 1 job)\n",
      "CompoundStep\n",
      ">Metropolis: [tau]\n",
      ">Metropolis: [tau_sd]\n",
      ">Metropolis: [tau_mu]\n",
      ">Metropolis: [s]\n",
      ">Metropolis: [s_sd]\n",
      ">Metropolis: [s_mu]\n",
      ">Metropolis: [gamma]\n",
      ">Metropolis: [gamma_sd]\n",
      ">Metropolis: [gamma_mu]\n",
      ">Metropolis: [v]\n",
      ">Metropolis: [v_sd]\n",
      ">Metropolis: [v_mu]\n",
      "Sequential sampling (2 chains in 1 job)\n",
      "CompoundStep\n",
      ">Metropolis: [tau]\n",
      ">Metropolis: [tau_sd]\n",
      ">Metropolis: [tau_mu]\n",
      ">Metropolis: [s]\n",
      ">Metropolis: [s_sd]\n",
      ">Metropolis: [s_mu]\n",
      ">Metropolis: [gamma]\n",
      ">Metropolis: [gamma_sd]\n",
      ">Metropolis: [gamma_mu]\n",
      ">Metropolis: [v]\n",
      ">Metropolis: [v_sd]\n",
      ">Metropolis: [v_mu]\n",
      "Sequential sampling (2 chains in 1 job)\n",
      "CompoundStep\n",
      ">Metropolis: [tau]\n",
      ">Metropolis: [tau_sd]\n",
      ">Metropolis: [tau_mu]\n",
      ">Metropolis: [s]\n",
      ">Metropolis: [s_sd]\n",
      ">Metropolis: [s_mu]\n",
      ">Metropolis: [gamma]\n",
      ">Metropolis: [gamma_sd]\n",
      ">Metropolis: [gamma_mu]\n",
      ">Metropolis: [v]\n",
      ">Metropolis: [v_sd]\n",
      ">Metropolis: [v_mu]\n",
      "Sequential sampling (2 chains in 1 job)\n",
      "CompoundStep\n",
      ">Metropolis: [tau]\n",
      ">Metropolis: [tau_sd]\n",
      ">Metropolis: [tau_mu]\n",
      ">Metropolis: [s]\n",
      ">Metropolis: [s_sd]\n",
      ">Metropolis: [s_mu]\n",
      ">Metropolis: [gamma]\n",
      ">Metropolis: [gamma_sd]\n",
      ">Metropolis: [gamma_mu]\n",
      ">Metropolis: [v]\n",
      ">Metropolis: [v_sd]\n",
      ">Metropolis: [v_mu]\n",
      "The gelman-rubin statistic is larger than 1.05 for some parameters. This indicates slight problems during sampling.\n",
      "The estimated number of effective samples is smaller than 200 for some parameters.\n"
     ]
    },
    {
     "name": "stdout",
     "output_type": "stream",
     "text": [
      "/!\\ Automatically setting parameter precision...\n",
      "Generating hierarchical model for 20 subjects...\n",
      "Fitting 1 model(s) using MCMC...\n",
      "  Fitting model 1 of 1...\n"
     ]
    },
    {
     "name": "stderr",
     "output_type": "stream",
     "text": [
      "The gelman-rubin statistic is larger than 1.4 for some parameters. The sampler did not converge.\n",
      "The estimated number of effective samples is smaller than 200 for some parameters.\n"
     ]
    },
    {
     "name": "stdout",
     "output_type": "stream",
     "text": [
      "/!\\ Automatically setting parameter precision...\n"
     ]
    },
    {
     "name": "stderr",
     "output_type": "stream",
     "text": [
      "The gelman-rubin statistic is larger than 1.05 for some parameters. This indicates slight problems during sampling.\n",
      "The estimated number of effective samples is smaller than 200 for some parameters.\n"
     ]
    },
    {
     "name": "stdout",
     "output_type": "stream",
     "text": [
      "/!\\ Automatically setting parameter precision...\n"
     ]
    },
    {
     "name": "stderr",
     "output_type": "stream",
     "text": [
      "The gelman-rubin statistic is larger than 1.2 for some parameters.\n",
      "The estimated number of effective samples is smaller than 200 for some parameters.\n"
     ]
    },
    {
     "name": "stdout",
     "output_type": "stream",
     "text": [
      "/!\\ Automatically setting parameter precision...\n",
      "Generating hierarchical model for 20 subjects...\n",
      "Generating hierarchical model for 20 subjects...\n",
      "Fitting 1 model(s) using MCMC...\n",
      "  Fitting model 1 of 1...\n",
      "Generating hierarchical model for 20 subjects...\n",
      "Fitting 1 model(s) using MCMC...\n",
      "  Fitting model 1 of 1...\n",
      "Fitting 1 model(s) using MCMC...\n",
      "  Fitting model 1 of 1...\n"
     ]
    },
    {
     "name": "stderr",
     "output_type": "stream",
     "text": [
      "INFO (theano.gof.compilelock): Waiting for existing lock by process '28576' (I am process '28575')\n",
      "INFO (theano.gof.compilelock): To manually release the lock, delete /Users/felixmolter/.theano/compiledir_Darwin-17.7.0-x86_64-i386-64bit-i386-3.6.8-64/lock_dir\n",
      "Sequential sampling (2 chains in 1 job)\n",
      "CompoundStep\n",
      ">Metropolis: [tau]\n",
      ">Metropolis: [tau_sd]\n",
      ">Metropolis: [tau_mu]\n",
      ">Metropolis: [s]\n",
      ">Metropolis: [s_sd]\n",
      ">Metropolis: [s_mu]\n",
      ">Metropolis: [gamma]\n",
      ">Metropolis: [gamma_sd]\n",
      ">Metropolis: [gamma_mu]\n",
      ">Metropolis: [v]\n",
      ">Metropolis: [v_sd]\n",
      ">Metropolis: [v_mu]\n",
      "Sequential sampling (2 chains in 1 job)\n",
      "CompoundStep\n",
      ">Metropolis: [tau]\n",
      ">Metropolis: [tau_sd]\n",
      ">Metropolis: [tau_mu]\n",
      ">Metropolis: [s]\n",
      ">Metropolis: [s_sd]\n",
      ">Metropolis: [s_mu]\n",
      ">Metropolis: [gamma]\n",
      ">Metropolis: [gamma_sd]\n",
      ">Metropolis: [gamma_mu]\n",
      ">Metropolis: [v]\n",
      ">Metropolis: [v_sd]\n",
      ">Metropolis: [v_mu]\n",
      "Sequential sampling (2 chains in 1 job)\n",
      "CompoundStep\n",
      ">Metropolis: [tau]\n",
      ">Metropolis: [tau_sd]\n",
      ">Metropolis: [tau_mu]\n",
      ">Metropolis: [s]\n",
      ">Metropolis: [s_sd]\n",
      ">Metropolis: [s_mu]\n",
      ">Metropolis: [gamma]\n",
      ">Metropolis: [gamma_sd]\n",
      ">Metropolis: [gamma_mu]\n",
      ">Metropolis: [v]\n",
      ">Metropolis: [v_sd]\n",
      ">Metropolis: [v_mu]\n",
      "Sequential sampling (2 chains in 1 job)\n",
      "CompoundStep\n",
      ">Metropolis: [tau]\n",
      ">Metropolis: [tau_sd]\n",
      ">Metropolis: [tau_mu]\n",
      ">Metropolis: [s]\n",
      ">Metropolis: [s_sd]\n",
      ">Metropolis: [s_mu]\n",
      ">Metropolis: [gamma]\n",
      ">Metropolis: [gamma_sd]\n",
      ">Metropolis: [gamma_mu]\n",
      ">Metropolis: [v]\n",
      ">Metropolis: [v_sd]\n",
      ">Metropolis: [v_mu]\n",
      "The gelman-rubin statistic is larger than 1.4 for some parameters. The sampler did not converge.\n",
      "The estimated number of effective samples is smaller than 200 for some parameters.\n"
     ]
    },
    {
     "name": "stdout",
     "output_type": "stream",
     "text": [
      "/!\\ Automatically setting parameter precision...\n",
      "Generating hierarchical model for 20 subjects...\n",
      "Fitting 1 model(s) using MCMC...\n",
      "  Fitting model 1 of 1...\n"
     ]
    },
    {
     "name": "stderr",
     "output_type": "stream",
     "text": [
      "The gelman-rubin statistic is larger than 1.2 for some parameters.\n",
      "The estimated number of effective samples is smaller than 200 for some parameters.\n"
     ]
    },
    {
     "name": "stdout",
     "output_type": "stream",
     "text": [
      "/!\\ Automatically setting parameter precision...\n",
      "Generating hierarchical model for 20 subjects...\n"
     ]
    },
    {
     "name": "stderr",
     "output_type": "stream",
     "text": [
      "The gelman-rubin statistic is larger than 1.4 for some parameters. The sampler did not converge.\n",
      "The estimated number of effective samples is smaller than 200 for some parameters.\n"
     ]
    },
    {
     "name": "stdout",
     "output_type": "stream",
     "text": [
      "/!\\ Automatically setting parameter precision...\n",
      "Fitting 1 model(s) using MCMC...\n",
      "  Fitting model 1 of 1...\n"
     ]
    },
    {
     "name": "stderr",
     "output_type": "stream",
     "text": [
      "The gelman-rubin statistic is larger than 1.4 for some parameters. The sampler did not converge.\n",
      "The estimated number of effective samples is smaller than 200 for some parameters.\n"
     ]
    },
    {
     "name": "stdout",
     "output_type": "stream",
     "text": [
      "/!\\ Automatically setting parameter precision...\n",
      "Generating hierarchical model for 20 subjects...\n",
      "Fitting 1 model(s) using MCMC...\n",
      "  Fitting model 1 of 1...\n"
     ]
    },
    {
     "name": "stderr",
     "output_type": "stream",
     "text": [
      "Sequential sampling (2 chains in 1 job)\n",
      "CompoundStep\n",
      ">Metropolis: [tau]\n",
      ">Metropolis: [tau_sd]\n",
      ">Metropolis: [tau_mu]\n",
      ">Metropolis: [s]\n",
      ">Metropolis: [s_sd]\n",
      ">Metropolis: [s_mu]\n",
      ">Metropolis: [gamma]\n",
      ">Metropolis: [gamma_sd]\n",
      ">Metropolis: [gamma_mu]\n",
      ">Metropolis: [v]\n",
      ">Metropolis: [v_sd]\n",
      ">Metropolis: [v_mu]\n"
     ]
    },
    {
     "name": "stdout",
     "output_type": "stream",
     "text": [
      "Generating hierarchical model for 20 subjects...\n",
      "Fitting 1 model(s) using MCMC...\n",
      "  Fitting model 1 of 1...\n"
     ]
    },
    {
     "name": "stderr",
     "output_type": "stream",
     "text": [
      "Sequential sampling (2 chains in 1 job)\n",
      "CompoundStep\n",
      ">Metropolis: [tau]\n",
      ">Metropolis: [tau_sd]\n",
      ">Metropolis: [tau_mu]\n",
      ">Metropolis: [s]\n",
      ">Metropolis: [s_sd]\n",
      ">Metropolis: [s_mu]\n",
      ">Metropolis: [gamma]\n",
      ">Metropolis: [gamma_sd]\n",
      ">Metropolis: [gamma_mu]\n",
      ">Metropolis: [v]\n",
      ">Metropolis: [v_sd]\n",
      ">Metropolis: [v_mu]\n",
      "Sequential sampling (2 chains in 1 job)\n",
      "CompoundStep\n",
      ">Metropolis: [tau]\n",
      ">Metropolis: [tau_sd]\n",
      ">Metropolis: [tau_mu]\n",
      ">Metropolis: [s]\n",
      ">Metropolis: [s_sd]\n",
      ">Metropolis: [s_mu]\n",
      ">Metropolis: [gamma]\n",
      ">Metropolis: [gamma_sd]\n",
      ">Metropolis: [gamma_mu]\n",
      ">Metropolis: [v]\n",
      ">Metropolis: [v_sd]\n",
      ">Metropolis: [v_mu]\n",
      "Sequential sampling (2 chains in 1 job)\n",
      "CompoundStep\n",
      ">Metropolis: [tau]\n",
      ">Metropolis: [tau_sd]\n",
      ">Metropolis: [tau_mu]\n",
      ">Metropolis: [s]\n",
      ">Metropolis: [s_sd]\n",
      ">Metropolis: [s_mu]\n",
      ">Metropolis: [gamma]\n",
      ">Metropolis: [gamma_sd]\n",
      ">Metropolis: [gamma_mu]\n",
      ">Metropolis: [v]\n",
      ">Metropolis: [v_sd]\n",
      ">Metropolis: [v_mu]\n",
      "The gelman-rubin statistic is larger than 1.4 for some parameters. The sampler did not converge.\n",
      "The estimated number of effective samples is smaller than 200 for some parameters.\n"
     ]
    },
    {
     "name": "stdout",
     "output_type": "stream",
     "text": [
      "/!\\ Automatically setting parameter precision...\n",
      "Generating hierarchical model for 20 subjects...\n",
      "Fitting 1 model(s) using MCMC...\n",
      "  Fitting model 1 of 1...\n"
     ]
    },
    {
     "name": "stderr",
     "output_type": "stream",
     "text": [
      "The gelman-rubin statistic is larger than 1.05 for some parameters. This indicates slight problems during sampling.\n",
      "The estimated number of effective samples is smaller than 200 for some parameters.\n"
     ]
    },
    {
     "name": "stdout",
     "output_type": "stream",
     "text": [
      "/!\\ Automatically setting parameter precision...\n",
      "Generating hierarchical model for 20 subjects...\n",
      "Fitting 1 model(s) using MCMC...\n",
      "  Fitting model 1 of 1...\n"
     ]
    },
    {
     "name": "stderr",
     "output_type": "stream",
     "text": [
      "The gelman-rubin statistic is larger than 1.4 for some parameters. The sampler did not converge.\n",
      "The estimated number of effective samples is smaller than 200 for some parameters.\n"
     ]
    },
    {
     "name": "stdout",
     "output_type": "stream",
     "text": [
      "/!\\ Automatically setting parameter precision...\n",
      "Generating hierarchical model for 20 subjects...\n",
      "Fitting 1 model(s) using MCMC...\n",
      "  Fitting model 1 of 1...\n"
     ]
    },
    {
     "name": "stderr",
     "output_type": "stream",
     "text": [
      "Sequential sampling (2 chains in 1 job)\n",
      "CompoundStep\n",
      ">Metropolis: [tau]\n",
      ">Metropolis: [tau_sd]\n",
      ">Metropolis: [tau_mu]\n",
      ">Metropolis: [s]\n",
      ">Metropolis: [s_sd]\n",
      ">Metropolis: [s_mu]\n",
      ">Metropolis: [gamma]\n",
      ">Metropolis: [gamma_sd]\n",
      ">Metropolis: [gamma_mu]\n",
      ">Metropolis: [v]\n",
      ">Metropolis: [v_sd]\n",
      ">Metropolis: [v_mu]\n",
      "The gelman-rubin statistic is larger than 1.4 for some parameters. The sampler did not converge.\n",
      "The estimated number of effective samples is smaller than 200 for some parameters.\n"
     ]
    },
    {
     "name": "stdout",
     "output_type": "stream",
     "text": [
      "/!\\ Automatically setting parameter precision...\n",
      "Generating hierarchical model for 20 subjects...\n"
     ]
    },
    {
     "name": "stderr",
     "output_type": "stream",
     "text": [
      "Sequential sampling (2 chains in 1 job)\n",
      "CompoundStep\n",
      ">Metropolis: [tau]\n",
      ">Metropolis: [tau_sd]\n",
      ">Metropolis: [tau_mu]\n",
      ">Metropolis: [s]\n",
      ">Metropolis: [s_sd]\n",
      ">Metropolis: [s_mu]\n",
      ">Metropolis: [gamma]\n",
      ">Metropolis: [gamma_sd]\n",
      ">Metropolis: [gamma_mu]\n",
      ">Metropolis: [v]\n",
      ">Metropolis: [v_sd]\n",
      ">Metropolis: [v_mu]\n"
     ]
    },
    {
     "name": "stdout",
     "output_type": "stream",
     "text": [
      "Fitting 1 model(s) using MCMC...\n",
      "  Fitting model 1 of 1...\n"
     ]
    },
    {
     "name": "stderr",
     "output_type": "stream",
     "text": [
      "Sequential sampling (2 chains in 1 job)\n",
      "CompoundStep\n",
      ">Metropolis: [tau]\n",
      ">Metropolis: [tau_sd]\n",
      ">Metropolis: [tau_mu]\n",
      ">Metropolis: [s]\n",
      ">Metropolis: [s_sd]\n",
      ">Metropolis: [s_mu]\n",
      ">Metropolis: [gamma]\n",
      ">Metropolis: [gamma_sd]\n",
      ">Metropolis: [gamma_mu]\n",
      ">Metropolis: [v]\n",
      ">Metropolis: [v_sd]\n",
      ">Metropolis: [v_mu]\n",
      "Sequential sampling (2 chains in 1 job)\n",
      "CompoundStep\n",
      ">Metropolis: [tau]\n",
      ">Metropolis: [tau_sd]\n",
      ">Metropolis: [tau_mu]\n",
      ">Metropolis: [s]\n",
      ">Metropolis: [s_sd]\n",
      ">Metropolis: [s_mu]\n",
      ">Metropolis: [gamma]\n",
      ">Metropolis: [gamma_sd]\n",
      ">Metropolis: [gamma_mu]\n",
      ">Metropolis: [v]\n",
      ">Metropolis: [v_sd]\n",
      ">Metropolis: [v_mu]\n",
      "The gelman-rubin statistic is larger than 1.2 for some parameters.\n",
      "The estimated number of effective samples is smaller than 200 for some parameters.\n"
     ]
    },
    {
     "name": "stdout",
     "output_type": "stream",
     "text": [
      "/!\\ Automatically setting parameter precision...\n",
      "Generating hierarchical model for 20 subjects...\n",
      "Fitting 1 model(s) using MCMC...\n",
      "  Fitting model 1 of 1...\n"
     ]
    },
    {
     "name": "stderr",
     "output_type": "stream",
     "text": [
      "The gelman-rubin statistic is larger than 1.2 for some parameters.\n",
      "The estimated number of effective samples is smaller than 200 for some parameters.\n"
     ]
    },
    {
     "name": "stdout",
     "output_type": "stream",
     "text": [
      "/!\\ Automatically setting parameter precision...\n",
      "Generating hierarchical model for 20 subjects...\n",
      "Fitting 1 model(s) using MCMC...\n",
      "  Fitting model 1 of 1...\n"
     ]
    },
    {
     "name": "stderr",
     "output_type": "stream",
     "text": [
      "Sequential sampling (2 chains in 1 job)\n",
      "CompoundStep\n",
      ">Metropolis: [tau]\n",
      ">Metropolis: [tau_sd]\n",
      ">Metropolis: [tau_mu]\n",
      ">Metropolis: [s]\n",
      ">Metropolis: [s_sd]\n",
      ">Metropolis: [s_mu]\n",
      ">Metropolis: [gamma]\n",
      ">Metropolis: [gamma_sd]\n",
      ">Metropolis: [gamma_mu]\n",
      ">Metropolis: [v]\n",
      ">Metropolis: [v_sd]\n",
      ">Metropolis: [v_mu]\n",
      "The gelman-rubin statistic is larger than 1.4 for some parameters. The sampler did not converge.\n",
      "The estimated number of effective samples is smaller than 200 for some parameters.\n"
     ]
    },
    {
     "name": "stdout",
     "output_type": "stream",
     "text": [
      "/!\\ Automatically setting parameter precision...\n"
     ]
    },
    {
     "name": "stderr",
     "output_type": "stream",
     "text": [
      "The gelman-rubin statistic is larger than 1.2 for some parameters.\n",
      "The estimated number of effective samples is smaller than 200 for some parameters.\n"
     ]
    },
    {
     "name": "stdout",
     "output_type": "stream",
     "text": [
      "/!\\ Automatically setting parameter precision...\n",
      "Generating hierarchical model for 20 subjects...\n",
      "Generating hierarchical model for 20 subjects...\n",
      "Fitting 1 model(s) using MCMC...\n",
      "  Fitting model 1 of 1...\n"
     ]
    },
    {
     "name": "stderr",
     "output_type": "stream",
     "text": [
      "Sequential sampling (2 chains in 1 job)\n",
      "CompoundStep\n",
      ">Metropolis: [tau]\n",
      ">Metropolis: [tau_sd]\n",
      ">Metropolis: [tau_mu]\n",
      ">Metropolis: [s]\n",
      ">Metropolis: [s_sd]\n",
      ">Metropolis: [s_mu]\n",
      ">Metropolis: [gamma]\n",
      ">Metropolis: [gamma_sd]\n",
      ">Metropolis: [gamma_mu]\n",
      ">Metropolis: [v]\n",
      ">Metropolis: [v_sd]\n",
      ">Metropolis: [v_mu]\n"
     ]
    },
    {
     "name": "stdout",
     "output_type": "stream",
     "text": [
      "Fitting 1 model(s) using MCMC...\n",
      "  Fitting model 1 of 1...\n"
     ]
    },
    {
     "name": "stderr",
     "output_type": "stream",
     "text": [
      "Sequential sampling (2 chains in 1 job)\n",
      "CompoundStep\n",
      ">Metropolis: [tau]\n",
      ">Metropolis: [tau_sd]\n",
      ">Metropolis: [tau_mu]\n",
      ">Metropolis: [s]\n",
      ">Metropolis: [s_sd]\n",
      ">Metropolis: [s_mu]\n",
      ">Metropolis: [gamma]\n",
      ">Metropolis: [gamma_sd]\n",
      ">Metropolis: [gamma_mu]\n",
      ">Metropolis: [v]\n",
      ">Metropolis: [v_sd]\n",
      ">Metropolis: [v_mu]\n",
      "Sequential sampling (2 chains in 1 job)\n",
      "CompoundStep\n",
      ">Metropolis: [tau]\n",
      ">Metropolis: [tau_sd]\n",
      ">Metropolis: [tau_mu]\n",
      ">Metropolis: [s]\n",
      ">Metropolis: [s_sd]\n",
      ">Metropolis: [s_mu]\n",
      ">Metropolis: [gamma]\n",
      ">Metropolis: [gamma_sd]\n",
      ">Metropolis: [gamma_mu]\n",
      ">Metropolis: [v]\n",
      ">Metropolis: [v_sd]\n",
      ">Metropolis: [v_mu]\n",
      "The gelman-rubin statistic is larger than 1.2 for some parameters.\n",
      "The estimated number of effective samples is smaller than 200 for some parameters.\n"
     ]
    },
    {
     "name": "stdout",
     "output_type": "stream",
     "text": [
      "/!\\ Automatically setting parameter precision...\n",
      "Generating hierarchical model for 20 subjects...\n",
      "Fitting 1 model(s) using MCMC...\n",
      "  Fitting model 1 of 1...\n"
     ]
    },
    {
     "name": "stderr",
     "output_type": "stream",
     "text": [
      "The gelman-rubin statistic is larger than 1.05 for some parameters. This indicates slight problems during sampling.\n",
      "The estimated number of effective samples is smaller than 200 for some parameters.\n"
     ]
    },
    {
     "name": "stdout",
     "output_type": "stream",
     "text": [
      "/!\\ Automatically setting parameter precision...\n",
      "Generating hierarchical model for 20 subjects...\n"
     ]
    },
    {
     "name": "stderr",
     "output_type": "stream",
     "text": [
      "Sequential sampling (2 chains in 1 job)\n",
      "CompoundStep\n",
      ">Metropolis: [tau]\n",
      ">Metropolis: [tau_sd]\n",
      ">Metropolis: [tau_mu]\n",
      ">Metropolis: [s]\n",
      ">Metropolis: [s_sd]\n",
      ">Metropolis: [s_mu]\n",
      ">Metropolis: [gamma]\n",
      ">Metropolis: [gamma_sd]\n",
      ">Metropolis: [gamma_mu]\n",
      ">Metropolis: [v]\n",
      ">Metropolis: [v_sd]\n",
      ">Metropolis: [v_mu]\n"
     ]
    },
    {
     "name": "stdout",
     "output_type": "stream",
     "text": [
      "Fitting 1 model(s) using MCMC...\n",
      "  Fitting model 1 of 1...\n"
     ]
    },
    {
     "name": "stderr",
     "output_type": "stream",
     "text": [
      "The gelman-rubin statistic is larger than 1.05 for some parameters. This indicates slight problems during sampling.\n",
      "The estimated number of effective samples is smaller than 200 for some parameters.\n"
     ]
    },
    {
     "name": "stdout",
     "output_type": "stream",
     "text": [
      "/!\\ Automatically setting parameter precision...\n"
     ]
    },
    {
     "name": "stderr",
     "output_type": "stream",
     "text": [
      "The gelman-rubin statistic is larger than 1.05 for some parameters. This indicates slight problems during sampling.\n",
      "The estimated number of effective samples is smaller than 200 for some parameters.\n"
     ]
    },
    {
     "name": "stdout",
     "output_type": "stream",
     "text": [
      "/!\\ Automatically setting parameter precision...\n",
      "Generating hierarchical model for 20 subjects...\n",
      "Fitting 1 model(s) using MCMC...\n",
      "  Fitting model 1 of 1...\n",
      "Generating hierarchical model for 20 subjects...\n"
     ]
    },
    {
     "name": "stderr",
     "output_type": "stream",
     "text": [
      "INFO (theano.gof.compilelock): Waiting for existing lock by process '28577' (I am process '28575')\n",
      "INFO (theano.gof.compilelock): To manually release the lock, delete /Users/felixmolter/.theano/compiledir_Darwin-17.7.0-x86_64-i386-64bit-i386-3.6.8-64/lock_dir\n"
     ]
    },
    {
     "name": "stdout",
     "output_type": "stream",
     "text": [
      "Fitting 1 model(s) using MCMC...\n",
      "  Fitting model 1 of 1...\n"
     ]
    },
    {
     "name": "stderr",
     "output_type": "stream",
     "text": [
      "Sequential sampling (2 chains in 1 job)\n",
      "CompoundStep\n",
      ">Metropolis: [tau]\n",
      ">Metropolis: [tau_sd]\n",
      ">Metropolis: [tau_mu]\n",
      ">Metropolis: [s]\n",
      ">Metropolis: [s_sd]\n",
      ">Metropolis: [s_mu]\n",
      ">Metropolis: [gamma]\n",
      ">Metropolis: [gamma_sd]\n",
      ">Metropolis: [gamma_mu]\n",
      ">Metropolis: [v]\n",
      ">Metropolis: [v_sd]\n",
      ">Metropolis: [v_mu]\n",
      "Sequential sampling (2 chains in 1 job)\n",
      "CompoundStep\n",
      ">Metropolis: [tau]\n",
      ">Metropolis: [tau_sd]\n",
      ">Metropolis: [tau_mu]\n",
      ">Metropolis: [s]\n",
      ">Metropolis: [s_sd]\n",
      ">Metropolis: [s_mu]\n",
      ">Metropolis: [gamma]\n",
      ">Metropolis: [gamma_sd]\n",
      ">Metropolis: [gamma_mu]\n",
      ">Metropolis: [v]\n",
      ">Metropolis: [v_sd]\n",
      ">Metropolis: [v_mu]\n",
      "Sequential sampling (2 chains in 1 job)\n",
      "CompoundStep\n",
      ">Metropolis: [tau]\n",
      ">Metropolis: [tau_sd]\n",
      ">Metropolis: [tau_mu]\n",
      ">Metropolis: [s]\n",
      ">Metropolis: [s_sd]\n",
      ">Metropolis: [s_mu]\n",
      ">Metropolis: [gamma]\n",
      ">Metropolis: [gamma_sd]\n",
      ">Metropolis: [gamma_mu]\n",
      ">Metropolis: [v]\n",
      ">Metropolis: [v_sd]\n",
      ">Metropolis: [v_mu]\n",
      "The gelman-rubin statistic is larger than 1.4 for some parameters. The sampler did not converge.\n",
      "The estimated number of effective samples is smaller than 200 for some parameters.\n"
     ]
    },
    {
     "name": "stdout",
     "output_type": "stream",
     "text": [
      "/!\\ Automatically setting parameter precision...\n",
      "Generating hierarchical model for 20 subjects...\n",
      "Fitting 1 model(s) using MCMC...\n",
      "  Fitting model 1 of 1...\n"
     ]
    },
    {
     "name": "stderr",
     "output_type": "stream",
     "text": [
      "The gelman-rubin statistic is larger than 1.2 for some parameters.\n",
      "The estimated number of effective samples is smaller than 200 for some parameters.\n"
     ]
    },
    {
     "name": "stdout",
     "output_type": "stream",
     "text": [
      "/!\\ Automatically setting parameter precision...\n"
     ]
    },
    {
     "name": "stderr",
     "output_type": "stream",
     "text": [
      "Sequential sampling (2 chains in 1 job)\n",
      "CompoundStep\n",
      ">Metropolis: [tau]\n",
      ">Metropolis: [tau_sd]\n",
      ">Metropolis: [tau_mu]\n",
      ">Metropolis: [s]\n",
      ">Metropolis: [s_sd]\n",
      ">Metropolis: [s_mu]\n",
      ">Metropolis: [gamma]\n",
      ">Metropolis: [gamma_sd]\n",
      ">Metropolis: [gamma_mu]\n",
      ">Metropolis: [v]\n",
      ">Metropolis: [v_sd]\n",
      ">Metropolis: [v_mu]\n"
     ]
    },
    {
     "name": "stdout",
     "output_type": "stream",
     "text": [
      "Generating hierarchical model for 20 subjects...\n",
      "Fitting 1 model(s) using MCMC...\n",
      "  Fitting model 1 of 1...\n"
     ]
    },
    {
     "name": "stderr",
     "output_type": "stream",
     "text": [
      "The gelman-rubin statistic is larger than 1.2 for some parameters.\n",
      "The estimated number of effective samples is smaller than 200 for some parameters.\n"
     ]
    },
    {
     "name": "stdout",
     "output_type": "stream",
     "text": [
      "/!\\ Automatically setting parameter precision...\n",
      "Generating hierarchical model for 20 subjects...\n",
      "Fitting 1 model(s) using MCMC...\n",
      "  Fitting model 1 of 1...\n"
     ]
    },
    {
     "name": "stderr",
     "output_type": "stream",
     "text": [
      "The gelman-rubin statistic is larger than 1.4 for some parameters. The sampler did not converge.\n",
      "The estimated number of effective samples is smaller than 200 for some parameters.\n"
     ]
    },
    {
     "name": "stdout",
     "output_type": "stream",
     "text": [
      "/!\\ Automatically setting parameter precision...\n"
     ]
    },
    {
     "name": "stderr",
     "output_type": "stream",
     "text": [
      "Sequential sampling (2 chains in 1 job)\n",
      "CompoundStep\n",
      ">Metropolis: [tau]\n",
      ">Metropolis: [tau_sd]\n",
      ">Metropolis: [tau_mu]\n",
      ">Metropolis: [s]\n",
      ">Metropolis: [s_sd]\n",
      ">Metropolis: [s_mu]\n",
      ">Metropolis: [gamma]\n",
      ">Metropolis: [gamma_sd]\n",
      ">Metropolis: [gamma_mu]\n",
      ">Metropolis: [v]\n",
      ">Metropolis: [v_sd]\n",
      ">Metropolis: [v_mu]\n"
     ]
    },
    {
     "name": "stdout",
     "output_type": "stream",
     "text": [
      "Generating hierarchical model for 20 subjects...\n",
      "Fitting 1 model(s) using MCMC...\n",
      "  Fitting model 1 of 1...\n"
     ]
    },
    {
     "name": "stderr",
     "output_type": "stream",
     "text": [
      "Sequential sampling (2 chains in 1 job)\n",
      "CompoundStep\n",
      ">Metropolis: [tau]\n",
      ">Metropolis: [tau_sd]\n",
      ">Metropolis: [tau_mu]\n",
      ">Metropolis: [s]\n",
      ">Metropolis: [s_sd]\n",
      ">Metropolis: [s_mu]\n",
      ">Metropolis: [gamma]\n",
      ">Metropolis: [gamma_sd]\n",
      ">Metropolis: [gamma_mu]\n",
      ">Metropolis: [v]\n",
      ">Metropolis: [v_sd]\n",
      ">Metropolis: [v_mu]\n",
      "Sequential sampling (2 chains in 1 job)\n",
      "CompoundStep\n",
      ">Metropolis: [tau]\n",
      ">Metropolis: [tau_sd]\n",
      ">Metropolis: [tau_mu]\n",
      ">Metropolis: [s]\n",
      ">Metropolis: [s_sd]\n",
      ">Metropolis: [s_mu]\n",
      ">Metropolis: [gamma]\n",
      ">Metropolis: [gamma_sd]\n",
      ">Metropolis: [gamma_mu]\n",
      ">Metropolis: [v]\n",
      ">Metropolis: [v_sd]\n",
      ">Metropolis: [v_mu]\n",
      "The gelman-rubin statistic is larger than 1.4 for some parameters. The sampler did not converge.\n",
      "The estimated number of effective samples is smaller than 200 for some parameters.\n"
     ]
    },
    {
     "name": "stdout",
     "output_type": "stream",
     "text": [
      "/!\\ Automatically setting parameter precision...\n",
      "Generating hierarchical model for 20 subjects...\n",
      "Fitting 1 model(s) using MCMC...\n",
      "  Fitting model 1 of 1...\n"
     ]
    },
    {
     "name": "stderr",
     "output_type": "stream",
     "text": [
      "The gelman-rubin statistic is larger than 1.05 for some parameters. This indicates slight problems during sampling.\n",
      "The estimated number of effective samples is smaller than 200 for some parameters.\n"
     ]
    },
    {
     "name": "stdout",
     "output_type": "stream",
     "text": [
      "/!\\ Automatically setting parameter precision...\n",
      "Generating hierarchical model for 20 subjects...\n",
      "Fitting 1 model(s) using MCMC...\n",
      "  Fitting model 1 of 1...\n"
     ]
    },
    {
     "name": "stderr",
     "output_type": "stream",
     "text": [
      "Sequential sampling (2 chains in 1 job)\n",
      "CompoundStep\n",
      ">Metropolis: [tau]\n",
      ">Metropolis: [tau_sd]\n",
      ">Metropolis: [tau_mu]\n",
      ">Metropolis: [s]\n",
      ">Metropolis: [s_sd]\n",
      ">Metropolis: [s_mu]\n",
      ">Metropolis: [gamma]\n",
      ">Metropolis: [gamma_sd]\n",
      ">Metropolis: [gamma_mu]\n",
      ">Metropolis: [v]\n",
      ">Metropolis: [v_sd]\n",
      ">Metropolis: [v_mu]\n",
      "The gelman-rubin statistic is larger than 1.4 for some parameters. The sampler did not converge.\n",
      "The estimated number of effective samples is smaller than 200 for some parameters.\n"
     ]
    },
    {
     "name": "stdout",
     "output_type": "stream",
     "text": [
      "/!\\ Automatically setting parameter precision...\n",
      "Generating hierarchical model for 20 subjects...\n",
      "Fitting 1 model(s) using MCMC...\n",
      "  Fitting model 1 of 1...\n"
     ]
    },
    {
     "name": "stderr",
     "output_type": "stream",
     "text": [
      "Sequential sampling (2 chains in 1 job)\n",
      "CompoundStep\n",
      ">Metropolis: [tau]\n",
      ">Metropolis: [tau_sd]\n",
      ">Metropolis: [tau_mu]\n",
      ">Metropolis: [s]\n",
      ">Metropolis: [s_sd]\n",
      ">Metropolis: [s_mu]\n",
      ">Metropolis: [gamma]\n",
      ">Metropolis: [gamma_sd]\n",
      ">Metropolis: [gamma_mu]\n",
      ">Metropolis: [v]\n",
      ">Metropolis: [v_sd]\n",
      ">Metropolis: [v_mu]\n",
      "The gelman-rubin statistic is larger than 1.05 for some parameters. This indicates slight problems during sampling.\n",
      "The estimated number of effective samples is smaller than 200 for some parameters.\n"
     ]
    },
    {
     "name": "stdout",
     "output_type": "stream",
     "text": [
      "/!\\ Automatically setting parameter precision...\n",
      "Generating hierarchical model for 20 subjects...\n",
      "Fitting 1 model(s) using MCMC...\n",
      "  Fitting model 1 of 1...\n"
     ]
    },
    {
     "name": "stderr",
     "output_type": "stream",
     "text": [
      "Sequential sampling (2 chains in 1 job)\n",
      "CompoundStep\n",
      ">Metropolis: [tau]\n",
      ">Metropolis: [tau_sd]\n",
      ">Metropolis: [tau_mu]\n",
      ">Metropolis: [s]\n",
      ">Metropolis: [s_sd]\n",
      ">Metropolis: [s_mu]\n",
      ">Metropolis: [gamma]\n",
      ">Metropolis: [gamma_sd]\n",
      ">Metropolis: [gamma_mu]\n",
      ">Metropolis: [v]\n",
      ">Metropolis: [v_sd]\n",
      ">Metropolis: [v_mu]\n",
      "Sequential sampling (2 chains in 1 job)\n",
      "CompoundStep\n",
      ">Metropolis: [tau]\n",
      ">Metropolis: [tau_sd]\n",
      ">Metropolis: [tau_mu]\n",
      ">Metropolis: [s]\n",
      ">Metropolis: [s_sd]\n",
      ">Metropolis: [s_mu]\n",
      ">Metropolis: [gamma]\n",
      ">Metropolis: [gamma_sd]\n",
      ">Metropolis: [gamma_mu]\n",
      ">Metropolis: [v]\n",
      ">Metropolis: [v_sd]\n",
      ">Metropolis: [v_mu]\n",
      "The gelman-rubin statistic is larger than 1.4 for some parameters. The sampler did not converge.\n",
      "The estimated number of effective samples is smaller than 200 for some parameters.\n"
     ]
    },
    {
     "name": "stdout",
     "output_type": "stream",
     "text": [
      "/!\\ Automatically setting parameter precision...\n",
      "Generating hierarchical model for 20 subjects...\n"
     ]
    },
    {
     "name": "stderr",
     "output_type": "stream",
     "text": [
      "The gelman-rubin statistic is larger than 1.2 for some parameters.\n",
      "The estimated number of effective samples is smaller than 200 for some parameters.\n"
     ]
    },
    {
     "name": "stdout",
     "output_type": "stream",
     "text": [
      "/!\\ Automatically setting parameter precision...\n",
      "Fitting 1 model(s) using MCMC...\n",
      "  Fitting model 1 of 1...\n",
      "Generating hierarchical model for 20 subjects...\n",
      "Fitting 1 model(s) using MCMC...\n",
      "  Fitting model 1 of 1...\n"
     ]
    },
    {
     "name": "stderr",
     "output_type": "stream",
     "text": [
      "Sequential sampling (2 chains in 1 job)\n",
      "CompoundStep\n",
      ">Metropolis: [tau]\n",
      ">Metropolis: [tau_sd]\n",
      ">Metropolis: [tau_mu]\n",
      ">Metropolis: [s]\n",
      ">Metropolis: [s_sd]\n",
      ">Metropolis: [s_mu]\n",
      ">Metropolis: [gamma]\n",
      ">Metropolis: [gamma_sd]\n",
      ">Metropolis: [gamma_mu]\n",
      ">Metropolis: [v]\n",
      ">Metropolis: [v_sd]\n",
      ">Metropolis: [v_mu]\n",
      "The gelman-rubin statistic is larger than 1.4 for some parameters. The sampler did not converge.\n",
      "The estimated number of effective samples is smaller than 200 for some parameters.\n"
     ]
    },
    {
     "name": "stdout",
     "output_type": "stream",
     "text": [
      "/!\\ Automatically setting parameter precision...\n"
     ]
    },
    {
     "name": "stderr",
     "output_type": "stream",
     "text": [
      "Sequential sampling (2 chains in 1 job)\n",
      "CompoundStep\n",
      ">Metropolis: [tau]\n",
      ">Metropolis: [tau_sd]\n",
      ">Metropolis: [tau_mu]\n",
      ">Metropolis: [s]\n",
      ">Metropolis: [s_sd]\n",
      ">Metropolis: [s_mu]\n",
      ">Metropolis: [gamma]\n",
      ">Metropolis: [gamma_sd]\n",
      ">Metropolis: [gamma_mu]\n",
      ">Metropolis: [v]\n",
      ">Metropolis: [v_sd]\n",
      ">Metropolis: [v_mu]\n"
     ]
    },
    {
     "name": "stdout",
     "output_type": "stream",
     "text": [
      "Generating hierarchical model for 20 subjects...\n"
     ]
    },
    {
     "name": "stderr",
     "output_type": "stream",
     "text": [
      "The gelman-rubin statistic is larger than 1.4 for some parameters. The sampler did not converge.\n",
      "The estimated number of effective samples is smaller than 200 for some parameters.\n"
     ]
    },
    {
     "name": "stdout",
     "output_type": "stream",
     "text": [
      "/!\\ Automatically setting parameter precision...\n",
      "Fitting 1 model(s) using MCMC...\n",
      "  Fitting model 1 of 1...\n",
      "Generating hierarchical model for 20 subjects...\n",
      "Fitting 1 model(s) using MCMC...\n",
      "  Fitting model 1 of 1...\n"
     ]
    },
    {
     "name": "stderr",
     "output_type": "stream",
     "text": [
      "Sequential sampling (2 chains in 1 job)\n",
      "CompoundStep\n",
      ">Metropolis: [tau]\n",
      ">Metropolis: [tau_sd]\n",
      ">Metropolis: [tau_mu]\n",
      ">Metropolis: [s]\n",
      ">Metropolis: [s_sd]\n",
      ">Metropolis: [s_mu]\n",
      ">Metropolis: [gamma]\n",
      ">Metropolis: [gamma_sd]\n",
      ">Metropolis: [gamma_mu]\n",
      ">Metropolis: [v]\n",
      ">Metropolis: [v_sd]\n",
      ">Metropolis: [v_mu]\n",
      "Sequential sampling (2 chains in 1 job)\n",
      "CompoundStep\n",
      ">Metropolis: [tau]\n",
      ">Metropolis: [tau_sd]\n",
      ">Metropolis: [tau_mu]\n",
      ">Metropolis: [s]\n",
      ">Metropolis: [s_sd]\n",
      ">Metropolis: [s_mu]\n",
      ">Metropolis: [gamma]\n",
      ">Metropolis: [gamma_sd]\n",
      ">Metropolis: [gamma_mu]\n",
      ">Metropolis: [v]\n",
      ">Metropolis: [v_sd]\n",
      ">Metropolis: [v_mu]\n",
      "The gelman-rubin statistic is larger than 1.2 for some parameters.\n",
      "The estimated number of effective samples is smaller than 200 for some parameters.\n"
     ]
    },
    {
     "name": "stdout",
     "output_type": "stream",
     "text": [
      "/!\\ Automatically setting parameter precision...\n"
     ]
    },
    {
     "name": "stderr",
     "output_type": "stream",
     "text": [
      "The gelman-rubin statistic is larger than 1.2 for some parameters.\n",
      "The estimated number of effective samples is smaller than 200 for some parameters.\n"
     ]
    },
    {
     "name": "stdout",
     "output_type": "stream",
     "text": [
      "/!\\ Automatically setting parameter precision...\n",
      "Generating hierarchical model for 20 subjects...\n",
      "Fitting 1 model(s) using MCMC...\n",
      "  Fitting model 1 of 1...\n",
      "Generating hierarchical model for 20 subjects...\n",
      "Fitting 1 model(s) using MCMC...\n",
      "  Fitting model 1 of 1...\n"
     ]
    },
    {
     "name": "stderr",
     "output_type": "stream",
     "text": [
      "Sequential sampling (2 chains in 1 job)\n",
      "CompoundStep\n",
      ">Metropolis: [tau]\n",
      ">Metropolis: [tau_sd]\n",
      ">Metropolis: [tau_mu]\n",
      ">Metropolis: [s]\n",
      ">Metropolis: [s_sd]\n",
      ">Metropolis: [s_mu]\n",
      ">Metropolis: [gamma]\n",
      ">Metropolis: [gamma_sd]\n",
      ">Metropolis: [gamma_mu]\n",
      ">Metropolis: [v]\n",
      ">Metropolis: [v_sd]\n",
      ">Metropolis: [v_mu]\n",
      "Sequential sampling (2 chains in 1 job)\n",
      "CompoundStep\n",
      ">Metropolis: [tau]\n",
      ">Metropolis: [tau_sd]\n",
      ">Metropolis: [tau_mu]\n",
      ">Metropolis: [s]\n",
      ">Metropolis: [s_sd]\n",
      ">Metropolis: [s_mu]\n",
      ">Metropolis: [gamma]\n",
      ">Metropolis: [gamma_sd]\n",
      ">Metropolis: [gamma_mu]\n",
      ">Metropolis: [v]\n",
      ">Metropolis: [v_sd]\n",
      ">Metropolis: [v_mu]\n",
      "The gelman-rubin statistic is larger than 1.4 for some parameters. The sampler did not converge.\n",
      "The estimated number of effective samples is smaller than 200 for some parameters.\n"
     ]
    },
    {
     "name": "stdout",
     "output_type": "stream",
     "text": [
      "/!\\ Automatically setting parameter precision...\n"
     ]
    },
    {
     "name": "stderr",
     "output_type": "stream",
     "text": [
      "The gelman-rubin statistic is larger than 1.4 for some parameters. The sampler did not converge.\n",
      "The estimated number of effective samples is smaller than 200 for some parameters.\n"
     ]
    },
    {
     "name": "stdout",
     "output_type": "stream",
     "text": [
      "/!\\ Automatically setting parameter precision...\n",
      "Generating hierarchical model for 20 subjects...\n",
      "Fitting 1 model(s) using MCMC...\n",
      "  Fitting model 1 of 1...\n",
      "Generating hierarchical model for 20 subjects...\n",
      "Fitting 1 model(s) using MCMC...\n",
      "  Fitting model 1 of 1...\n"
     ]
    },
    {
     "name": "stderr",
     "output_type": "stream",
     "text": [
      "Sequential sampling (2 chains in 1 job)\n",
      "CompoundStep\n",
      ">Metropolis: [tau]\n",
      ">Metropolis: [tau_sd]\n",
      ">Metropolis: [tau_mu]\n",
      ">Metropolis: [s]\n",
      ">Metropolis: [s_sd]\n",
      ">Metropolis: [s_mu]\n",
      ">Metropolis: [gamma]\n",
      ">Metropolis: [gamma_sd]\n",
      ">Metropolis: [gamma_mu]\n",
      ">Metropolis: [v]\n",
      ">Metropolis: [v_sd]\n",
      ">Metropolis: [v_mu]\n",
      "Sequential sampling (2 chains in 1 job)\n",
      "CompoundStep\n",
      ">Metropolis: [tau]\n",
      ">Metropolis: [tau_sd]\n",
      ">Metropolis: [tau_mu]\n",
      ">Metropolis: [s]\n",
      ">Metropolis: [s_sd]\n",
      ">Metropolis: [s_mu]\n",
      ">Metropolis: [gamma]\n",
      ">Metropolis: [gamma_sd]\n",
      ">Metropolis: [gamma_mu]\n",
      ">Metropolis: [v]\n",
      ">Metropolis: [v_sd]\n",
      ">Metropolis: [v_mu]\n",
      "The gelman-rubin statistic is larger than 1.4 for some parameters. The sampler did not converge.\n",
      "The estimated number of effective samples is smaller than 200 for some parameters.\n"
     ]
    },
    {
     "name": "stdout",
     "output_type": "stream",
     "text": [
      "/!\\ Automatically setting parameter precision...\n",
      "Generating hierarchical model for 20 subjects...\n",
      "Fitting 1 model(s) using MCMC...\n",
      "  Fitting model 1 of 1...\n"
     ]
    },
    {
     "name": "stderr",
     "output_type": "stream",
     "text": [
      "The gelman-rubin statistic is larger than 1.4 for some parameters. The sampler did not converge.\n",
      "The estimated number of effective samples is smaller than 200 for some parameters.\n"
     ]
    },
    {
     "name": "stdout",
     "output_type": "stream",
     "text": [
      "/!\\ Automatically setting parameter precision...\n",
      "Generating hierarchical model for 20 subjects...\n",
      "Fitting 1 model(s) using MCMC...\n",
      "  Fitting model 1 of 1...\n"
     ]
    },
    {
     "name": "stderr",
     "output_type": "stream",
     "text": [
      "Sequential sampling (2 chains in 1 job)\n",
      "CompoundStep\n",
      ">Metropolis: [tau]\n",
      ">Metropolis: [tau_sd]\n",
      ">Metropolis: [tau_mu]\n",
      ">Metropolis: [s]\n",
      ">Metropolis: [s_sd]\n",
      ">Metropolis: [s_mu]\n",
      ">Metropolis: [gamma]\n",
      ">Metropolis: [gamma_sd]\n",
      ">Metropolis: [gamma_mu]\n",
      ">Metropolis: [v]\n",
      ">Metropolis: [v_sd]\n",
      ">Metropolis: [v_mu]\n",
      "Sequential sampling (2 chains in 1 job)\n",
      "CompoundStep\n",
      ">Metropolis: [tau]\n",
      ">Metropolis: [tau_sd]\n",
      ">Metropolis: [tau_mu]\n",
      ">Metropolis: [s]\n",
      ">Metropolis: [s_sd]\n",
      ">Metropolis: [s_mu]\n",
      ">Metropolis: [gamma]\n",
      ">Metropolis: [gamma_sd]\n",
      ">Metropolis: [gamma_mu]\n",
      ">Metropolis: [v]\n",
      ">Metropolis: [v_sd]\n",
      ">Metropolis: [v_mu]\n",
      "The gelman-rubin statistic is larger than 1.2 for some parameters.\n",
      "The estimated number of effective samples is smaller than 200 for some parameters.\n"
     ]
    },
    {
     "name": "stdout",
     "output_type": "stream",
     "text": [
      "/!\\ Automatically setting parameter precision...\n"
     ]
    },
    {
     "name": "stderr",
     "output_type": "stream",
     "text": [
      "The gelman-rubin statistic is larger than 1.2 for some parameters.\n",
      "The estimated number of effective samples is smaller than 200 for some parameters.\n"
     ]
    },
    {
     "name": "stdout",
     "output_type": "stream",
     "text": [
      "/!\\ Automatically setting parameter precision...\n",
      "Generating hierarchical model for 20 subjects...\n",
      "Fitting 1 model(s) using MCMC...\n",
      "  Fitting model 1 of 1...\n",
      "Generating hierarchical model for 20 subjects...\n",
      "Fitting 1 model(s) using MCMC...\n",
      "  Fitting model 1 of 1...\n"
     ]
    },
    {
     "name": "stderr",
     "output_type": "stream",
     "text": [
      "Sequential sampling (2 chains in 1 job)\n",
      "CompoundStep\n",
      ">Metropolis: [tau]\n",
      ">Metropolis: [tau_sd]\n",
      ">Metropolis: [tau_mu]\n",
      ">Metropolis: [s]\n",
      ">Metropolis: [s_sd]\n",
      ">Metropolis: [s_mu]\n",
      ">Metropolis: [gamma]\n",
      ">Metropolis: [gamma_sd]\n",
      ">Metropolis: [gamma_mu]\n",
      ">Metropolis: [v]\n",
      ">Metropolis: [v_sd]\n",
      ">Metropolis: [v_mu]\n",
      "Sequential sampling (2 chains in 1 job)\n",
      "CompoundStep\n",
      ">Metropolis: [tau]\n",
      ">Metropolis: [tau_sd]\n",
      ">Metropolis: [tau_mu]\n",
      ">Metropolis: [s]\n",
      ">Metropolis: [s_sd]\n",
      ">Metropolis: [s_mu]\n",
      ">Metropolis: [gamma]\n",
      ">Metropolis: [gamma_sd]\n",
      ">Metropolis: [gamma_mu]\n",
      ">Metropolis: [v]\n",
      ">Metropolis: [v_sd]\n",
      ">Metropolis: [v_mu]\n",
      "The gelman-rubin statistic is larger than 1.4 for some parameters. The sampler did not converge.\n",
      "The estimated number of effective samples is smaller than 200 for some parameters.\n"
     ]
    },
    {
     "name": "stdout",
     "output_type": "stream",
     "text": [
      "/!\\ Automatically setting parameter precision...\n",
      "Generating hierarchical model for 20 subjects...\n",
      "Fitting 1 model(s) using MCMC...\n",
      "  Fitting model 1 of 1...\n"
     ]
    },
    {
     "name": "stderr",
     "output_type": "stream",
     "text": [
      "The gelman-rubin statistic is larger than 1.2 for some parameters.\n",
      "The estimated number of effective samples is smaller than 200 for some parameters.\n"
     ]
    },
    {
     "name": "stdout",
     "output_type": "stream",
     "text": [
      "/!\\ Automatically setting parameter precision...\n",
      "Generating hierarchical model for 20 subjects...\n",
      "Fitting 1 model(s) using MCMC...\n",
      "  Fitting model 1 of 1...\n"
     ]
    },
    {
     "name": "stderr",
     "output_type": "stream",
     "text": [
      "Sequential sampling (2 chains in 1 job)\n",
      "CompoundStep\n",
      ">Metropolis: [tau]\n",
      ">Metropolis: [tau_sd]\n",
      ">Metropolis: [tau_mu]\n",
      ">Metropolis: [s]\n",
      ">Metropolis: [s_sd]\n",
      ">Metropolis: [s_mu]\n",
      ">Metropolis: [gamma]\n",
      ">Metropolis: [gamma_sd]\n",
      ">Metropolis: [gamma_mu]\n",
      ">Metropolis: [v]\n",
      ">Metropolis: [v_sd]\n",
      ">Metropolis: [v_mu]\n",
      "The gelman-rubin statistic is larger than 1.05 for some parameters. This indicates slight problems during sampling.\n",
      "The estimated number of effective samples is smaller than 200 for some parameters.\n"
     ]
    },
    {
     "name": "stdout",
     "output_type": "stream",
     "text": [
      "/!\\ Automatically setting parameter precision...\n",
      "Generating hierarchical model for 20 subjects...\n"
     ]
    },
    {
     "name": "stderr",
     "output_type": "stream",
     "text": [
      "Sequential sampling (2 chains in 1 job)\n",
      "CompoundStep\n",
      ">Metropolis: [tau]\n",
      ">Metropolis: [tau_sd]\n",
      ">Metropolis: [tau_mu]\n",
      ">Metropolis: [s]\n",
      ">Metropolis: [s_sd]\n",
      ">Metropolis: [s_mu]\n",
      ">Metropolis: [gamma]\n",
      ">Metropolis: [gamma_sd]\n",
      ">Metropolis: [gamma_mu]\n",
      ">Metropolis: [v]\n",
      ">Metropolis: [v_sd]\n",
      ">Metropolis: [v_mu]\n"
     ]
    },
    {
     "name": "stdout",
     "output_type": "stream",
     "text": [
      "Fitting 1 model(s) using MCMC...\n",
      "  Fitting model 1 of 1...\n"
     ]
    },
    {
     "name": "stderr",
     "output_type": "stream",
     "text": [
      "The gelman-rubin statistic is larger than 1.05 for some parameters. This indicates slight problems during sampling.\n",
      "The estimated number of effective samples is smaller than 200 for some parameters.\n"
     ]
    },
    {
     "name": "stdout",
     "output_type": "stream",
     "text": [
      "/!\\ Automatically setting parameter precision...\n",
      "Generating hierarchical model for 20 subjects...\n",
      "Fitting 1 model(s) using MCMC...\n",
      "  Fitting model 1 of 1...\n"
     ]
    },
    {
     "name": "stderr",
     "output_type": "stream",
     "text": [
      "Sequential sampling (2 chains in 1 job)\n",
      "CompoundStep\n",
      ">Metropolis: [tau]\n",
      ">Metropolis: [tau_sd]\n",
      ">Metropolis: [tau_mu]\n",
      ">Metropolis: [s]\n",
      ">Metropolis: [s_sd]\n",
      ">Metropolis: [s_mu]\n",
      ">Metropolis: [gamma]\n",
      ">Metropolis: [gamma_sd]\n",
      ">Metropolis: [gamma_mu]\n",
      ">Metropolis: [v]\n",
      ">Metropolis: [v_sd]\n",
      ">Metropolis: [v_mu]\n",
      "Sequential sampling (2 chains in 1 job)\n",
      "CompoundStep\n",
      ">Metropolis: [tau]\n",
      ">Metropolis: [tau_sd]\n",
      ">Metropolis: [tau_mu]\n",
      ">Metropolis: [s]\n",
      ">Metropolis: [s_sd]\n",
      ">Metropolis: [s_mu]\n",
      ">Metropolis: [gamma]\n",
      ">Metropolis: [gamma_sd]\n",
      ">Metropolis: [gamma_mu]\n",
      ">Metropolis: [v]\n",
      ">Metropolis: [v_sd]\n",
      ">Metropolis: [v_mu]\n",
      "The gelman-rubin statistic is larger than 1.4 for some parameters. The sampler did not converge.\n",
      "The estimated number of effective samples is smaller than 200 for some parameters.\n"
     ]
    },
    {
     "name": "stdout",
     "output_type": "stream",
     "text": [
      "/!\\ Automatically setting parameter precision...\n",
      "Generating hierarchical model for 20 subjects...\n",
      "Fitting 1 model(s) using MCMC...\n",
      "  Fitting model 1 of 1...\n"
     ]
    },
    {
     "name": "stderr",
     "output_type": "stream",
     "text": [
      "The gelman-rubin statistic is larger than 1.05 for some parameters. This indicates slight problems during sampling.\n",
      "The estimated number of effective samples is smaller than 200 for some parameters.\n"
     ]
    },
    {
     "name": "stdout",
     "output_type": "stream",
     "text": [
      "/!\\ Automatically setting parameter precision...\n",
      "Generating hierarchical model for 20 subjects...\n"
     ]
    },
    {
     "name": "stderr",
     "output_type": "stream",
     "text": [
      "Sequential sampling (2 chains in 1 job)\n",
      "CompoundStep\n",
      ">Metropolis: [tau]\n",
      ">Metropolis: [tau_sd]\n",
      ">Metropolis: [tau_mu]\n",
      ">Metropolis: [s]\n",
      ">Metropolis: [s_sd]\n",
      ">Metropolis: [s_mu]\n",
      ">Metropolis: [gamma]\n",
      ">Metropolis: [gamma_sd]\n",
      ">Metropolis: [gamma_mu]\n",
      ">Metropolis: [v]\n",
      ">Metropolis: [v_sd]\n",
      ">Metropolis: [v_mu]\n"
     ]
    },
    {
     "name": "stdout",
     "output_type": "stream",
     "text": [
      "Fitting 1 model(s) using MCMC...\n",
      "  Fitting model 1 of 1...\n"
     ]
    },
    {
     "name": "stderr",
     "output_type": "stream",
     "text": [
      "The gelman-rubin statistic is larger than 1.05 for some parameters. This indicates slight problems during sampling.\n",
      "The estimated number of effective samples is smaller than 200 for some parameters.\n"
     ]
    },
    {
     "name": "stdout",
     "output_type": "stream",
     "text": [
      "/!\\ Automatically setting parameter precision...\n",
      "Generating hierarchical model for 20 subjects...\n",
      "Fitting 1 model(s) using MCMC...\n",
      "  Fitting model 1 of 1...\n"
     ]
    },
    {
     "name": "stderr",
     "output_type": "stream",
     "text": [
      "The gelman-rubin statistic is larger than 1.05 for some parameters. This indicates slight problems during sampling.\n",
      "The estimated number of effective samples is smaller than 200 for some parameters.\n"
     ]
    },
    {
     "name": "stdout",
     "output_type": "stream",
     "text": [
      "/!\\ Automatically setting parameter precision...\n"
     ]
    },
    {
     "name": "stderr",
     "output_type": "stream",
     "text": [
      "Sequential sampling (2 chains in 1 job)\n",
      "CompoundStep\n",
      ">Metropolis: [tau]\n",
      ">Metropolis: [tau_sd]\n",
      ">Metropolis: [tau_mu]\n",
      ">Metropolis: [s]\n",
      ">Metropolis: [s_sd]\n",
      ">Metropolis: [s_mu]\n",
      ">Metropolis: [gamma]\n",
      ">Metropolis: [gamma_sd]\n",
      ">Metropolis: [gamma_mu]\n",
      ">Metropolis: [v]\n",
      ">Metropolis: [v_sd]\n",
      ">Metropolis: [v_mu]\n"
     ]
    },
    {
     "name": "stdout",
     "output_type": "stream",
     "text": [
      "Generating hierarchical model for 20 subjects...\n",
      "Fitting 1 model(s) using MCMC...\n",
      "  Fitting model 1 of 1...\n"
     ]
    },
    {
     "name": "stderr",
     "output_type": "stream",
     "text": [
      "Sequential sampling (2 chains in 1 job)\n",
      "CompoundStep\n",
      ">Metropolis: [tau]\n",
      ">Metropolis: [tau_sd]\n",
      ">Metropolis: [tau_mu]\n",
      ">Metropolis: [s]\n",
      ">Metropolis: [s_sd]\n",
      ">Metropolis: [s_mu]\n",
      ">Metropolis: [gamma]\n",
      ">Metropolis: [gamma_sd]\n",
      ">Metropolis: [gamma_mu]\n",
      ">Metropolis: [v]\n",
      ">Metropolis: [v_sd]\n",
      ">Metropolis: [v_mu]\n",
      "Sequential sampling (2 chains in 1 job)\n",
      "CompoundStep\n",
      ">Metropolis: [tau]\n",
      ">Metropolis: [tau_sd]\n",
      ">Metropolis: [tau_mu]\n",
      ">Metropolis: [s]\n",
      ">Metropolis: [s_sd]\n",
      ">Metropolis: [s_mu]\n",
      ">Metropolis: [gamma]\n",
      ">Metropolis: [gamma_sd]\n",
      ">Metropolis: [gamma_mu]\n",
      ">Metropolis: [v]\n",
      ">Metropolis: [v_sd]\n",
      ">Metropolis: [v_mu]\n",
      "The gelman-rubin statistic is larger than 1.05 for some parameters. This indicates slight problems during sampling.\n",
      "The estimated number of effective samples is smaller than 200 for some parameters.\n"
     ]
    },
    {
     "name": "stdout",
     "output_type": "stream",
     "text": [
      "/!\\ Automatically setting parameter precision...\n",
      "Generating hierarchical model for 20 subjects...\n",
      "Fitting 1 model(s) using MCMC...\n",
      "  Fitting model 1 of 1...\n"
     ]
    },
    {
     "name": "stderr",
     "output_type": "stream",
     "text": [
      "Sequential sampling (2 chains in 1 job)\n",
      "CompoundStep\n",
      ">Metropolis: [tau]\n",
      ">Metropolis: [tau_sd]\n",
      ">Metropolis: [tau_mu]\n",
      ">Metropolis: [s]\n",
      ">Metropolis: [s_sd]\n",
      ">Metropolis: [s_mu]\n",
      ">Metropolis: [gamma]\n",
      ">Metropolis: [gamma_sd]\n",
      ">Metropolis: [gamma_mu]\n",
      ">Metropolis: [v]\n",
      ">Metropolis: [v_sd]\n",
      ">Metropolis: [v_mu]\n",
      "The gelman-rubin statistic is larger than 1.2 for some parameters.\n",
      "The estimated number of effective samples is smaller than 200 for some parameters.\n"
     ]
    },
    {
     "name": "stdout",
     "output_type": "stream",
     "text": [
      "/!\\ Automatically setting parameter precision...\n",
      "Generating hierarchical model for 20 subjects...\n",
      "Fitting 1 model(s) using MCMC...\n",
      "  Fitting model 1 of 1...\n"
     ]
    },
    {
     "name": "stderr",
     "output_type": "stream",
     "text": [
      "The gelman-rubin statistic is larger than 1.4 for some parameters. The sampler did not converge.\n",
      "The estimated number of effective samples is smaller than 200 for some parameters.\n"
     ]
    },
    {
     "name": "stdout",
     "output_type": "stream",
     "text": [
      "/!\\ Automatically setting parameter precision...\n",
      "Generating hierarchical model for 20 subjects...\n"
     ]
    },
    {
     "name": "stderr",
     "output_type": "stream",
     "text": [
      "The gelman-rubin statistic is larger than 1.05 for some parameters. This indicates slight problems during sampling.\n",
      "The estimated number of effective samples is smaller than 200 for some parameters.\n"
     ]
    },
    {
     "name": "stdout",
     "output_type": "stream",
     "text": [
      "/!\\ Automatically setting parameter precision...\n",
      "Fitting 1 model(s) using MCMC...\n",
      "  Fitting model 1 of 1...\n",
      "Generating hierarchical model for 20 subjects...\n",
      "Fitting 1 model(s) using MCMC...\n",
      "  Fitting model 1 of 1...\n"
     ]
    },
    {
     "name": "stderr",
     "output_type": "stream",
     "text": [
      "Sequential sampling (2 chains in 1 job)\n",
      "CompoundStep\n",
      ">Metropolis: [tau]\n",
      ">Metropolis: [tau_sd]\n",
      ">Metropolis: [tau_mu]\n",
      ">Metropolis: [s]\n",
      ">Metropolis: [s_sd]\n",
      ">Metropolis: [s_mu]\n",
      ">Metropolis: [gamma]\n",
      ">Metropolis: [gamma_sd]\n",
      ">Metropolis: [gamma_mu]\n",
      ">Metropolis: [v]\n",
      ">Metropolis: [v_sd]\n",
      ">Metropolis: [v_mu]\n",
      "Sequential sampling (2 chains in 1 job)\n",
      "CompoundStep\n",
      ">Metropolis: [tau]\n",
      ">Metropolis: [tau_sd]\n",
      ">Metropolis: [tau_mu]\n",
      ">Metropolis: [s]\n",
      ">Metropolis: [s_sd]\n",
      ">Metropolis: [s_mu]\n",
      ">Metropolis: [gamma]\n",
      ">Metropolis: [gamma_sd]\n",
      ">Metropolis: [gamma_mu]\n",
      ">Metropolis: [v]\n",
      ">Metropolis: [v_sd]\n",
      ">Metropolis: [v_mu]\n",
      "Sequential sampling (2 chains in 1 job)\n",
      "CompoundStep\n",
      ">Metropolis: [tau]\n",
      ">Metropolis: [tau_sd]\n",
      ">Metropolis: [tau_mu]\n",
      ">Metropolis: [s]\n",
      ">Metropolis: [s_sd]\n",
      ">Metropolis: [s_mu]\n",
      ">Metropolis: [gamma]\n",
      ">Metropolis: [gamma_sd]\n",
      ">Metropolis: [gamma_mu]\n",
      ">Metropolis: [v]\n",
      ">Metropolis: [v_sd]\n",
      ">Metropolis: [v_mu]\n",
      "The gelman-rubin statistic is larger than 1.05 for some parameters. This indicates slight problems during sampling.\n",
      "The estimated number of effective samples is smaller than 200 for some parameters.\n"
     ]
    },
    {
     "name": "stdout",
     "output_type": "stream",
     "text": [
      "/!\\ Automatically setting parameter precision...\n",
      "Generating hierarchical model for 20 subjects...\n",
      "Fitting 1 model(s) using MCMC...\n",
      "  Fitting model 1 of 1...\n"
     ]
    },
    {
     "name": "stderr",
     "output_type": "stream",
     "text": [
      "Sequential sampling (2 chains in 1 job)\n",
      "CompoundStep\n",
      ">Metropolis: [tau]\n",
      ">Metropolis: [tau_sd]\n",
      ">Metropolis: [tau_mu]\n",
      ">Metropolis: [s]\n",
      ">Metropolis: [s_sd]\n",
      ">Metropolis: [s_mu]\n",
      ">Metropolis: [gamma]\n",
      ">Metropolis: [gamma_sd]\n",
      ">Metropolis: [gamma_mu]\n",
      ">Metropolis: [v]\n",
      ">Metropolis: [v_sd]\n",
      ">Metropolis: [v_mu]\n",
      "The gelman-rubin statistic is larger than 1.05 for some parameters. This indicates slight problems during sampling.\n",
      "The estimated number of effective samples is smaller than 200 for some parameters.\n"
     ]
    },
    {
     "name": "stdout",
     "output_type": "stream",
     "text": [
      "/!\\ Automatically setting parameter precision...\n",
      "Generating hierarchical model for 20 subjects...\n",
      "Fitting 1 model(s) using MCMC...\n",
      "  Fitting model 1 of 1...\n"
     ]
    },
    {
     "name": "stderr",
     "output_type": "stream",
     "text": [
      "The gelman-rubin statistic is larger than 1.05 for some parameters. This indicates slight problems during sampling.\n",
      "The estimated number of effective samples is smaller than 200 for some parameters.\n"
     ]
    },
    {
     "name": "stdout",
     "output_type": "stream",
     "text": [
      "/!\\ Automatically setting parameter precision...\n",
      "Generating hierarchical model for 20 subjects...\n"
     ]
    },
    {
     "name": "stderr",
     "output_type": "stream",
     "text": [
      "The gelman-rubin statistic is larger than 1.05 for some parameters. This indicates slight problems during sampling.\n",
      "The estimated number of effective samples is smaller than 200 for some parameters.\n"
     ]
    },
    {
     "name": "stdout",
     "output_type": "stream",
     "text": [
      "/!\\ Automatically setting parameter precision...\n",
      "Fitting 1 model(s) using MCMC...\n",
      "  Fitting model 1 of 1...\n",
      "Generating hierarchical model for 20 subjects...\n",
      "Fitting 1 model(s) using MCMC...\n",
      "  Fitting model 1 of 1...\n"
     ]
    },
    {
     "name": "stderr",
     "output_type": "stream",
     "text": [
      "Sequential sampling (2 chains in 1 job)\n",
      "CompoundStep\n",
      ">Metropolis: [tau]\n",
      ">Metropolis: [tau_sd]\n",
      ">Metropolis: [tau_mu]\n",
      ">Metropolis: [s]\n",
      ">Metropolis: [s_sd]\n",
      ">Metropolis: [s_mu]\n",
      ">Metropolis: [gamma]\n",
      ">Metropolis: [gamma_sd]\n",
      ">Metropolis: [gamma_mu]\n",
      ">Metropolis: [v]\n",
      ">Metropolis: [v_sd]\n",
      ">Metropolis: [v_mu]\n",
      "Sequential sampling (2 chains in 1 job)\n",
      "CompoundStep\n",
      ">Metropolis: [tau]\n",
      ">Metropolis: [tau_sd]\n",
      ">Metropolis: [tau_mu]\n",
      ">Metropolis: [s]\n",
      ">Metropolis: [s_sd]\n",
      ">Metropolis: [s_mu]\n",
      ">Metropolis: [gamma]\n",
      ">Metropolis: [gamma_sd]\n",
      ">Metropolis: [gamma_mu]\n",
      ">Metropolis: [v]\n",
      ">Metropolis: [v_sd]\n",
      ">Metropolis: [v_mu]\n",
      "Sequential sampling (2 chains in 1 job)\n",
      "CompoundStep\n",
      ">Metropolis: [tau]\n",
      ">Metropolis: [tau_sd]\n",
      ">Metropolis: [tau_mu]\n",
      ">Metropolis: [s]\n",
      ">Metropolis: [s_sd]\n",
      ">Metropolis: [s_mu]\n",
      ">Metropolis: [gamma]\n",
      ">Metropolis: [gamma_sd]\n",
      ">Metropolis: [gamma_mu]\n",
      ">Metropolis: [v]\n",
      ">Metropolis: [v_sd]\n",
      ">Metropolis: [v_mu]\n",
      "The gelman-rubin statistic is larger than 1.4 for some parameters. The sampler did not converge.\n",
      "The estimated number of effective samples is smaller than 200 for some parameters.\n"
     ]
    },
    {
     "name": "stdout",
     "output_type": "stream",
     "text": [
      "/!\\ Automatically setting parameter precision...\n",
      "Generating hierarchical model for 20 subjects...\n",
      "Fitting 1 model(s) using MCMC...\n",
      "  Fitting model 1 of 1...\n"
     ]
    },
    {
     "name": "stderr",
     "output_type": "stream",
     "text": [
      "Sequential sampling (2 chains in 1 job)\n",
      "CompoundStep\n",
      ">Metropolis: [tau]\n",
      ">Metropolis: [tau_sd]\n",
      ">Metropolis: [tau_mu]\n",
      ">Metropolis: [s]\n",
      ">Metropolis: [s_sd]\n",
      ">Metropolis: [s_mu]\n",
      ">Metropolis: [gamma]\n",
      ">Metropolis: [gamma_sd]\n",
      ">Metropolis: [gamma_mu]\n",
      ">Metropolis: [v]\n",
      ">Metropolis: [v_sd]\n",
      ">Metropolis: [v_mu]\n",
      "The gelman-rubin statistic is larger than 1.4 for some parameters. The sampler did not converge.\n",
      "The estimated number of effective samples is smaller than 200 for some parameters.\n"
     ]
    },
    {
     "name": "stdout",
     "output_type": "stream",
     "text": [
      "/!\\ Automatically setting parameter precision...\n",
      "Generating hierarchical model for 20 subjects...\n",
      "Fitting 1 model(s) using MCMC...\n",
      "  Fitting model 1 of 1...\n"
     ]
    },
    {
     "name": "stderr",
     "output_type": "stream",
     "text": [
      "The gelman-rubin statistic is larger than 1.05 for some parameters. This indicates slight problems during sampling.\n",
      "The estimated number of effective samples is smaller than 200 for some parameters.\n"
     ]
    },
    {
     "name": "stdout",
     "output_type": "stream",
     "text": [
      "/!\\ Automatically setting parameter precision...\n"
     ]
    },
    {
     "name": "stderr",
     "output_type": "stream",
     "text": [
      "Sequential sampling (2 chains in 1 job)\n",
      "CompoundStep\n",
      ">Metropolis: [tau]\n",
      ">Metropolis: [tau_sd]\n",
      ">Metropolis: [tau_mu]\n",
      ">Metropolis: [s]\n",
      ">Metropolis: [s_sd]\n",
      ">Metropolis: [s_mu]\n",
      ">Metropolis: [gamma]\n",
      ">Metropolis: [gamma_sd]\n",
      ">Metropolis: [gamma_mu]\n",
      ">Metropolis: [v]\n",
      ">Metropolis: [v_sd]\n",
      ">Metropolis: [v_mu]\n",
      "The gelman-rubin statistic is larger than 1.4 for some parameters. The sampler did not converge.\n",
      "The estimated number of effective samples is smaller than 200 for some parameters.\n"
     ]
    },
    {
     "name": "stdout",
     "output_type": "stream",
     "text": [
      "/!\\ Automatically setting parameter precision...\n"
     ]
    },
    {
     "name": "stderr",
     "output_type": "stream",
     "text": [
      "The gelman-rubin statistic is larger than 1.4 for some parameters. The sampler did not converge.\n",
      "The estimated number of effective samples is smaller than 200 for some parameters.\n"
     ]
    },
    {
     "name": "stdout",
     "output_type": "stream",
     "text": [
      "/!\\ Automatically setting parameter precision...\n",
      "Generating hierarchical model for 20 subjects...\n",
      "Fitting 1 model(s) using MCMC...\n",
      "  Fitting model 1 of 1...\n"
     ]
    },
    {
     "name": "stderr",
     "output_type": "stream",
     "text": [
      "Sequential sampling (2 chains in 1 job)\n",
      "CompoundStep\n",
      ">Metropolis: [tau]\n",
      ">Metropolis: [tau_sd]\n",
      ">Metropolis: [tau_mu]\n",
      ">Metropolis: [s]\n",
      ">Metropolis: [s_sd]\n",
      ">Metropolis: [s_mu]\n",
      ">Metropolis: [gamma]\n",
      ">Metropolis: [gamma_sd]\n",
      ">Metropolis: [gamma_mu]\n",
      ">Metropolis: [v]\n",
      ">Metropolis: [v_sd]\n",
      ">Metropolis: [v_mu]\n",
      "The gelman-rubin statistic is larger than 1.4 for some parameters. The sampler did not converge.\n",
      "The estimated number of effective samples is smaller than 200 for some parameters.\n"
     ]
    },
    {
     "name": "stdout",
     "output_type": "stream",
     "text": [
      "/!\\ Automatically setting parameter precision...\n",
      "Generating hierarchical model for 20 subjects...\n",
      "Fitting 1 model(s) using MCMC...\n",
      "  Fitting model 1 of 1...\n"
     ]
    },
    {
     "name": "stderr",
     "output_type": "stream",
     "text": [
      "Sequential sampling (2 chains in 1 job)\n",
      "CompoundStep\n",
      ">Metropolis: [tau]\n",
      ">Metropolis: [tau_sd]\n",
      ">Metropolis: [tau_mu]\n",
      ">Metropolis: [s]\n",
      ">Metropolis: [s_sd]\n",
      ">Metropolis: [s_mu]\n",
      ">Metropolis: [gamma]\n",
      ">Metropolis: [gamma_sd]\n",
      ">Metropolis: [gamma_mu]\n",
      ">Metropolis: [v]\n",
      ">Metropolis: [v_sd]\n",
      ">Metropolis: [v_mu]\n",
      "The gelman-rubin statistic is larger than 1.4 for some parameters. The sampler did not converge.\n",
      "The estimated number of effective samples is smaller than 200 for some parameters.\n"
     ]
    },
    {
     "name": "stdout",
     "output_type": "stream",
     "text": [
      "/!\\ Automatically setting parameter precision...\n",
      "Generating hierarchical model for 20 subjects...\n",
      "Fitting 1 model(s) using MCMC...\n",
      "  Fitting model 1 of 1...\n"
     ]
    },
    {
     "name": "stderr",
     "output_type": "stream",
     "text": [
      "Sequential sampling (2 chains in 1 job)\n",
      "CompoundStep\n",
      ">Metropolis: [tau]\n",
      ">Metropolis: [tau_sd]\n",
      ">Metropolis: [tau_mu]\n",
      ">Metropolis: [s]\n",
      ">Metropolis: [s_sd]\n",
      ">Metropolis: [s_mu]\n",
      ">Metropolis: [gamma]\n",
      ">Metropolis: [gamma_sd]\n",
      ">Metropolis: [gamma_mu]\n",
      ">Metropolis: [v]\n",
      ">Metropolis: [v_sd]\n",
      ">Metropolis: [v_mu]\n",
      "The gelman-rubin statistic is larger than 1.05 for some parameters. This indicates slight problems during sampling.\n",
      "The estimated number of effective samples is smaller than 200 for some parameters.\n"
     ]
    },
    {
     "name": "stdout",
     "output_type": "stream",
     "text": [
      "/!\\ Automatically setting parameter precision...\n",
      "Generating hierarchical model for 20 subjects...\n",
      "Fitting 1 model(s) using MCMC...\n",
      "  Fitting model 1 of 1...\n"
     ]
    },
    {
     "name": "stderr",
     "output_type": "stream",
     "text": [
      "Sequential sampling (2 chains in 1 job)\n",
      "CompoundStep\n",
      ">Metropolis: [tau]\n",
      ">Metropolis: [tau_sd]\n",
      ">Metropolis: [tau_mu]\n",
      ">Metropolis: [s]\n",
      ">Metropolis: [s_sd]\n",
      ">Metropolis: [s_mu]\n",
      ">Metropolis: [gamma]\n",
      ">Metropolis: [gamma_sd]\n",
      ">Metropolis: [gamma_mu]\n",
      ">Metropolis: [v]\n",
      ">Metropolis: [v_sd]\n",
      ">Metropolis: [v_mu]\n",
      "The gelman-rubin statistic is larger than 1.4 for some parameters. The sampler did not converge.\n",
      "The estimated number of effective samples is smaller than 200 for some parameters.\n"
     ]
    },
    {
     "name": "stdout",
     "output_type": "stream",
     "text": [
      "/!\\ Automatically setting parameter precision...\n",
      "Generating hierarchical model for 20 subjects...\n",
      "Fitting 1 model(s) using MCMC...\n",
      "  Fitting model 1 of 1...\n"
     ]
    },
    {
     "name": "stderr",
     "output_type": "stream",
     "text": [
      "The gelman-rubin statistic is larger than 1.2 for some parameters.\n",
      "The estimated number of effective samples is smaller than 200 for some parameters.\n"
     ]
    },
    {
     "name": "stdout",
     "output_type": "stream",
     "text": [
      "/!\\ Automatically setting parameter precision...\n"
     ]
    },
    {
     "name": "stderr",
     "output_type": "stream",
     "text": [
      "Sequential sampling (2 chains in 1 job)\n",
      "CompoundStep\n",
      ">Metropolis: [tau]\n",
      ">Metropolis: [tau_sd]\n",
      ">Metropolis: [tau_mu]\n",
      ">Metropolis: [s]\n",
      ">Metropolis: [s_sd]\n",
      ">Metropolis: [s_mu]\n",
      ">Metropolis: [gamma]\n",
      ">Metropolis: [gamma_sd]\n",
      ">Metropolis: [gamma_mu]\n",
      ">Metropolis: [v]\n",
      ">Metropolis: [v_sd]\n",
      ">Metropolis: [v_mu]\n",
      "The gelman-rubin statistic is larger than 1.2 for some parameters.\n",
      "The estimated number of effective samples is smaller than 200 for some parameters.\n"
     ]
    },
    {
     "name": "stdout",
     "output_type": "stream",
     "text": [
      "/!\\ Automatically setting parameter precision...\n",
      "Generating hierarchical model for 20 subjects...\n",
      "Fitting 1 model(s) using MCMC...\n",
      "  Fitting model 1 of 1...\n"
     ]
    },
    {
     "name": "stderr",
     "output_type": "stream",
     "text": [
      "Sequential sampling (2 chains in 1 job)\n",
      "CompoundStep\n",
      ">Metropolis: [tau]\n",
      ">Metropolis: [tau_sd]\n",
      ">Metropolis: [tau_mu]\n",
      ">Metropolis: [s]\n",
      ">Metropolis: [s_sd]\n",
      ">Metropolis: [s_mu]\n",
      ">Metropolis: [gamma]\n",
      ">Metropolis: [gamma_sd]\n",
      ">Metropolis: [gamma_mu]\n",
      ">Metropolis: [v]\n",
      ">Metropolis: [v_sd]\n",
      ">Metropolis: [v_mu]\n",
      "The gelman-rubin statistic is larger than 1.05 for some parameters. This indicates slight problems during sampling.\n",
      "The estimated number of effective samples is smaller than 200 for some parameters.\n"
     ]
    },
    {
     "name": "stdout",
     "output_type": "stream",
     "text": [
      "/!\\ Automatically setting parameter precision...\n",
      "Generating hierarchical model for 20 subjects...\n",
      "Fitting 1 model(s) using MCMC...\n",
      "  Fitting model 1 of 1...\n"
     ]
    },
    {
     "name": "stderr",
     "output_type": "stream",
     "text": [
      "Sequential sampling (2 chains in 1 job)\n",
      "CompoundStep\n",
      ">Metropolis: [tau]\n",
      ">Metropolis: [tau_sd]\n",
      ">Metropolis: [tau_mu]\n",
      ">Metropolis: [s]\n",
      ">Metropolis: [s_sd]\n",
      ">Metropolis: [s_mu]\n",
      ">Metropolis: [gamma]\n",
      ">Metropolis: [gamma_sd]\n",
      ">Metropolis: [gamma_mu]\n",
      ">Metropolis: [v]\n",
      ">Metropolis: [v_sd]\n",
      ">Metropolis: [v_mu]\n",
      "The gelman-rubin statistic is larger than 1.4 for some parameters. The sampler did not converge.\n",
      "The estimated number of effective samples is smaller than 200 for some parameters.\n"
     ]
    },
    {
     "name": "stdout",
     "output_type": "stream",
     "text": [
      "/!\\ Automatically setting parameter precision...\n"
     ]
    }
   ],
   "source": [
    "from multiprocessing import Pool\n",
    "\n",
    "n_cores = 4\n",
    "p = Pool(n_cores)\n",
    "\n",
    "output = p.map(wrapper, pr.generate_hierarchical_parameter_sets(parameter_info))"
   ]
  },
  {
   "cell_type": "markdown",
   "metadata": {},
   "source": [
    "## Combine results"
   ]
  },
  {
   "cell_type": "code",
   "execution_count": 10,
   "metadata": {},
   "outputs": [
    {
     "data": {
      "text/html": [
       "<div>\n",
       "<style scoped>\n",
       "    .dataframe tbody tr th:only-of-type {\n",
       "        vertical-align: middle;\n",
       "    }\n",
       "\n",
       "    .dataframe tbody tr th {\n",
       "        vertical-align: top;\n",
       "    }\n",
       "\n",
       "    .dataframe thead th {\n",
       "        text-align: right;\n",
       "    }\n",
       "</style>\n",
       "<table border=\"1\" class=\"dataframe\">\n",
       "  <thead>\n",
       "    <tr style=\"text-align: right;\">\n",
       "      <th></th>\n",
       "      <th>index</th>\n",
       "      <th>v_level</th>\n",
       "      <th>gamma_level</th>\n",
       "      <th>s_level</th>\n",
       "      <th>tau_level</th>\n",
       "      <th>v_gen</th>\n",
       "      <th>gamma_gen</th>\n",
       "      <th>s_gen</th>\n",
       "      <th>tau_gen</th>\n",
       "      <th>v_rec</th>\n",
       "      <th>...</th>\n",
       "      <th>gamma_rec</th>\n",
       "      <th>gamma_rec_hpd_lower</th>\n",
       "      <th>gamma_rec_hpd_upper</th>\n",
       "      <th>s_rec</th>\n",
       "      <th>s_rec_hpd_lower</th>\n",
       "      <th>s_rec_hpd_upper</th>\n",
       "      <th>tau_rec</th>\n",
       "      <th>tau_rec_hpd_lower</th>\n",
       "      <th>tau_rec_hpd_upper</th>\n",
       "      <th>converged</th>\n",
       "    </tr>\n",
       "  </thead>\n",
       "  <tbody>\n",
       "    <tr>\n",
       "      <th>0</th>\n",
       "      <td>0</td>\n",
       "      <td>low</td>\n",
       "      <td>low</td>\n",
       "      <td>low</td>\n",
       "      <td>low</td>\n",
       "      <td>0.000028</td>\n",
       "      <td>-0.8</td>\n",
       "      <td>0.0047</td>\n",
       "      <td>0.215</td>\n",
       "      <td>0.000041</td>\n",
       "      <td>...</td>\n",
       "      <td>-0.750011</td>\n",
       "      <td>-0.845664</td>\n",
       "      <td>-0.657928</td>\n",
       "      <td>0.004512</td>\n",
       "      <td>0.004129</td>\n",
       "      <td>0.004960</td>\n",
       "      <td>0.252495</td>\n",
       "      <td>0.174107</td>\n",
       "      <td>0.328816</td>\n",
       "      <td>False</td>\n",
       "    </tr>\n",
       "    <tr>\n",
       "      <th>1</th>\n",
       "      <td>1</td>\n",
       "      <td>low</td>\n",
       "      <td>low</td>\n",
       "      <td>low</td>\n",
       "      <td>medium</td>\n",
       "      <td>0.000028</td>\n",
       "      <td>-0.8</td>\n",
       "      <td>0.0047</td>\n",
       "      <td>0.675</td>\n",
       "      <td>0.000036</td>\n",
       "      <td>...</td>\n",
       "      <td>-0.705180</td>\n",
       "      <td>-0.780706</td>\n",
       "      <td>-0.623233</td>\n",
       "      <td>0.004818</td>\n",
       "      <td>0.004141</td>\n",
       "      <td>0.005747</td>\n",
       "      <td>0.677458</td>\n",
       "      <td>0.543241</td>\n",
       "      <td>0.846280</td>\n",
       "      <td>False</td>\n",
       "    </tr>\n",
       "    <tr>\n",
       "      <th>2</th>\n",
       "      <td>2</td>\n",
       "      <td>low</td>\n",
       "      <td>low</td>\n",
       "      <td>low</td>\n",
       "      <td>high</td>\n",
       "      <td>0.000028</td>\n",
       "      <td>-0.8</td>\n",
       "      <td>0.0047</td>\n",
       "      <td>1.135</td>\n",
       "      <td>0.000054</td>\n",
       "      <td>...</td>\n",
       "      <td>-0.668112</td>\n",
       "      <td>-0.759103</td>\n",
       "      <td>-0.586810</td>\n",
       "      <td>0.005030</td>\n",
       "      <td>0.004491</td>\n",
       "      <td>0.005644</td>\n",
       "      <td>1.338666</td>\n",
       "      <td>0.842623</td>\n",
       "      <td>2.024470</td>\n",
       "      <td>False</td>\n",
       "    </tr>\n",
       "    <tr>\n",
       "      <th>3</th>\n",
       "      <td>3</td>\n",
       "      <td>low</td>\n",
       "      <td>low</td>\n",
       "      <td>medium</td>\n",
       "      <td>low</td>\n",
       "      <td>0.000028</td>\n",
       "      <td>-0.8</td>\n",
       "      <td>0.0075</td>\n",
       "      <td>0.215</td>\n",
       "      <td>0.000060</td>\n",
       "      <td>...</td>\n",
       "      <td>-0.853340</td>\n",
       "      <td>-0.950210</td>\n",
       "      <td>-0.731908</td>\n",
       "      <td>0.007088</td>\n",
       "      <td>0.006394</td>\n",
       "      <td>0.007782</td>\n",
       "      <td>0.245335</td>\n",
       "      <td>0.180926</td>\n",
       "      <td>0.316303</td>\n",
       "      <td>False</td>\n",
       "    </tr>\n",
       "    <tr>\n",
       "      <th>4</th>\n",
       "      <td>4</td>\n",
       "      <td>low</td>\n",
       "      <td>low</td>\n",
       "      <td>medium</td>\n",
       "      <td>medium</td>\n",
       "      <td>0.000028</td>\n",
       "      <td>-0.8</td>\n",
       "      <td>0.0075</td>\n",
       "      <td>0.675</td>\n",
       "      <td>0.000069</td>\n",
       "      <td>...</td>\n",
       "      <td>-0.627318</td>\n",
       "      <td>-0.723091</td>\n",
       "      <td>-0.533079</td>\n",
       "      <td>0.007746</td>\n",
       "      <td>0.006887</td>\n",
       "      <td>0.009003</td>\n",
       "      <td>0.734585</td>\n",
       "      <td>0.442170</td>\n",
       "      <td>1.269709</td>\n",
       "      <td>False</td>\n",
       "    </tr>\n",
       "  </tbody>\n",
       "</table>\n",
       "<p>5 rows × 22 columns</p>\n",
       "</div>"
      ],
      "text/plain": [
       "   index v_level gamma_level s_level tau_level     v_gen  gamma_gen   s_gen  \\\n",
       "0      0     low         low     low       low  0.000028       -0.8  0.0047   \n",
       "1      1     low         low     low    medium  0.000028       -0.8  0.0047   \n",
       "2      2     low         low     low      high  0.000028       -0.8  0.0047   \n",
       "3      3     low         low  medium       low  0.000028       -0.8  0.0075   \n",
       "4      4     low         low  medium    medium  0.000028       -0.8  0.0075   \n",
       "\n",
       "   tau_gen     v_rec    ...      gamma_rec  gamma_rec_hpd_lower  \\\n",
       "0    0.215  0.000041    ...      -0.750011            -0.845664   \n",
       "1    0.675  0.000036    ...      -0.705180            -0.780706   \n",
       "2    1.135  0.000054    ...      -0.668112            -0.759103   \n",
       "3    0.215  0.000060    ...      -0.853340            -0.950210   \n",
       "4    0.675  0.000069    ...      -0.627318            -0.723091   \n",
       "\n",
       "   gamma_rec_hpd_upper     s_rec  s_rec_hpd_lower  s_rec_hpd_upper   tau_rec  \\\n",
       "0            -0.657928  0.004512         0.004129         0.004960  0.252495   \n",
       "1            -0.623233  0.004818         0.004141         0.005747  0.677458   \n",
       "2            -0.586810  0.005030         0.004491         0.005644  1.338666   \n",
       "3            -0.731908  0.007088         0.006394         0.007782  0.245335   \n",
       "4            -0.533079  0.007746         0.006887         0.009003  0.734585   \n",
       "\n",
       "   tau_rec_hpd_lower  tau_rec_hpd_upper  converged  \n",
       "0           0.174107           0.328816      False  \n",
       "1           0.543241           0.846280      False  \n",
       "2           0.842623           2.024470      False  \n",
       "3           0.180926           0.316303      False  \n",
       "4           0.442170           1.269709      False  \n",
       "\n",
       "[5 rows x 22 columns]"
      ]
     },
     "execution_count": 10,
     "metadata": {},
     "output_type": "execute_result"
    }
   ],
   "source": [
    "filenames = [file for file in listdir(partial_output_folder)\n",
    "             if file.endswith('.csv')]\n",
    "\n",
    "partial_recoveries = []\n",
    "\n",
    "for file in filenames:\n",
    "    partial = pd.read_csv(join(partial_output_folder, file))\n",
    "    partial_recoveries.append(partial)\n",
    "\n",
    "parameter_recovery = pd.concat(partial_recoveries).sort_values('index').reset_index(drop=True)\n",
    "del partial_recoveries\n",
    "parameter_recovery.to_csv(join(output_folder, 'parameter-recovery_{}.csv'.format(label)))\n",
    "parameter_recovery.head()"
   ]
  },
  {
   "cell_type": "code",
   "execution_count": null,
   "metadata": {},
   "outputs": [],
   "source": []
  }
 ],
 "metadata": {
  "kernelspec": {
   "display_name": "Python 3",
   "language": "python",
   "name": "python3"
  },
  "language_info": {
   "codemirror_mode": {
    "name": "ipython",
    "version": 3
   },
   "file_extension": ".py",
   "mimetype": "text/x-python",
   "name": "python",
   "nbconvert_exporter": "python",
   "pygments_lexer": "ipython3",
   "version": "3.6.8"
  },
  "toc": {
   "colors": {
    "hover_highlight": "#DAA520",
    "running_highlight": "#FF0000",
    "selected_highlight": "#FFD700"
   },
   "moveMenuLeft": true,
   "nav_menu": {
    "height": "66px",
    "width": "252px"
   },
   "navigate_menu": true,
   "number_sections": true,
   "sideBar": true,
   "threshold": 4,
   "toc_cell": false,
   "toc_section_display": "block",
   "toc_window_display": false,
   "widenNotebook": false
  }
 },
 "nbformat": 4,
 "nbformat_minor": 2
}
