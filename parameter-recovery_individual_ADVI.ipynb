{
 "cells": [
  {
   "cell_type": "code",
   "execution_count": 1,
   "metadata": {},
   "outputs": [
    {
     "name": "stderr",
     "output_type": "stream",
     "text": [
      "/Users/felixmolter/anaconda3/lib/python3.6/site-packages/h5py/__init__.py:36: FutureWarning: Conversion of the second argument of issubdtype from `float` to `np.floating` is deprecated. In future, it will be treated as `np.float64 == np.dtype(float).type`.\n",
      "  from ._conv import register_converters as _register_converters\n"
     ]
    }
   ],
   "source": [
    "import numpy as np\n",
    "import pandas as pd\n",
    "import pymc3 as pm\n",
    "from os.path import join, isfile\n",
    "from os import listdir\n",
    "from functools import partial\n",
    "\n",
    "import glam\n",
    "import parameter_recovery as pr\n",
    "\n",
    "%load_ext autoreload\n",
    "%autoreload 2"
   ]
  },
  {
   "cell_type": "markdown",
   "metadata": {},
   "source": [
    "# Systematic parameter recovery (ADVI)\n",
    "\n",
    "Here, we perform a structured and systematic parameter recovery study. We use the original model variant with 4 parameters ($v$, $\\gamma$, $\\sigma$, $\\tau$). For each parameter, we define a range of sensible values and select a `low`, `medium` and `high` value, based on the individual parameter estimates we obtained by hierarchically fitting the GLAM to the data from Krajbich & Rangel (2011) in Thomas, Molter, Krajbich, Heekeren & Mohr (submitted).\n",
    "\n",
    "We then pick one parameter, one constellation of values of the remaining three parameters (e.g., we pick $v$, and set $\\gamma$, $\\sigma$ and $\\tau$ to their `low` values). Then, for 10 different values of $v$ along its range, we generate a synthetic dataset for a single participant with N=100 trials, random item values and gaze, fit the model and record the generating and estimated parameters. The procedure is repeated for all possible constellation of other parameter values, and other parameters, resulting in 1080 ($10 \\times 4 \\times 3^3$) simulated and fitted datasets total."
   ]
  },
  {
   "cell_type": "code",
   "execution_count": 2,
   "metadata": {},
   "outputs": [],
   "source": [
    "output_folder = join('results', 'parameter-recovery_individual', 'advi')\n",
    "label = 'individual_advi'"
   ]
  },
  {
   "cell_type": "markdown",
   "metadata": {},
   "source": [
    "## Define parameter ranges from 2011 estimates"
   ]
  },
  {
   "cell_type": "code",
   "execution_count": 3,
   "metadata": {},
   "outputs": [
    {
     "data": {
      "text/plain": [
       "{'v': array([1.50e-05, 3.00e-05, 4.50e-05, 6.00e-05, 7.50e-05, 9.00e-05,\n",
       "        1.05e-04, 1.20e-04, 1.35e-04, 1.50e-04]),\n",
       " 'gamma': array([-1.        , -0.77777778, -0.55555556, -0.33333333, -0.11111111,\n",
       "         0.11111111,  0.33333333,  0.55555556,  0.77777778,  1.        ]),\n",
       " 's': array([0.004     , 0.00477778, 0.00555556, 0.00633333, 0.00711111,\n",
       "        0.00788889, 0.00866667, 0.00944444, 0.01022222, 0.011     ]),\n",
       " 'tau': array([0.1       , 0.22777778, 0.35555556, 0.48333333, 0.61111111,\n",
       "        0.73888889, 0.86666667, 0.99444444, 1.12222222, 1.25      ])}"
      ]
     },
     "execution_count": 3,
     "metadata": {},
     "output_type": "execute_result"
    }
   ],
   "source": [
    "bounds = dict(v=[0.000015, 0.00015],\n",
    "              gamma=[-1, 1],\n",
    "              s=[0.004, 0.011],\n",
    "              tau=[0.1, 1.25])\n",
    "\n",
    "ranges = {parameter: np.linspace(*bounds[parameter], 10)\n",
    "          for parameter in ['v', 'gamma', 's', 'tau']}\n",
    "ranges"
   ]
  },
  {
   "cell_type": "code",
   "execution_count": 4,
   "metadata": {},
   "outputs": [
    {
     "data": {
      "text/plain": [
       "{'v': array([2.850e-05, 8.250e-05, 1.365e-04]),\n",
       " 'gamma': array([-8.00000000e-01,  5.55111512e-17,  8.00000000e-01]),\n",
       " 's': array([0.0047, 0.0075, 0.0103]),\n",
       " 'tau': array([0.215, 0.675, 1.135])}"
      ]
     },
     "execution_count": 4,
     "metadata": {},
     "output_type": "execute_result"
    }
   ],
   "source": [
    "# Determine low, medium, high values as 10th, 50th and 90th percentile of these ranges\n",
    "values = {parameter: np.percentile(np.linspace(*bounds[parameter], 100), [10, 50, 90])\n",
    "          for parameter in ['v', 'gamma', 's', 'tau']}\n",
    "values"
   ]
  },
  {
   "cell_type": "code",
   "execution_count": 5,
   "metadata": {},
   "outputs": [],
   "source": [
    "parameter_info = {parameter: dict(low=values[parameter][0],\n",
    "                                  medium=values[parameter][1],\n",
    "                                  high=values[parameter][2],\n",
    "                                  variable=ranges[parameter])\n",
    "                  for parameter in ['v', 'gamma', 's', 'tau']}"
   ]
  },
  {
   "cell_type": "markdown",
   "metadata": {},
   "source": [
    "## Run the recovery in parallel"
   ]
  },
  {
   "cell_type": "code",
   "execution_count": 8,
   "metadata": {},
   "outputs": [],
   "source": [
    "partial_output_folder = join(output_folder, 'partial')\n",
    "\n",
    "simulate_group_args = dict(kind='individual',\n",
    "                           n_individuals=1,\n",
    "                           n_trials=100, \n",
    "                           n_items=3,\n",
    "                           error_weight=0,\n",
    "                           value_range=[1, 10],\n",
    "                           seed=None)\n",
    "\n",
    "make_model_args = dict(kind='individual',\n",
    "                       t0_val=0,\n",
    "                       error_weight=0)\n",
    "\n",
    "fit_args = dict(method='VI',\n",
    "                draws=10000,\n",
    "                n_vi=50000,\n",
    "                progressbar=False)\n",
    "\n",
    "wrapper = partial(pr.recover_and_save,\n",
    "                  output_folder=partial_output_folder,\n",
    "                  label=label,\n",
    "                  simulate_group_args=simulate_group_args,\n",
    "                  make_model_args=make_model_args,\n",
    "                  fit_args=fit_args)"
   ]
  },
  {
   "cell_type": "code",
   "execution_count": null,
   "metadata": {
    "scrolled": false
   },
   "outputs": [
    {
     "name": "stdout",
     "output_type": "stream",
     "text": [
      "Generating single subject models for 1 subjects...\n",
      "Generating single subject models for 1 subjects...\n",
      "Generating single subject models for 1 subjects...\n",
      "Generating single subject models for 1 subjects...\n"
     ]
    },
    {
     "name": "stderr",
     "output_type": "stream",
     "text": [
      "INFO (theano.gof.compilelock): Waiting for existing lock by process '4594' (I am process '5273')\n",
      "INFO (theano.gof.compilelock): To manually release the lock, delete /Users/felixmolter/.theano/compiledir_Darwin-17.7.0-x86_64-i386-64bit-i386-3.6.8-64/lock_dir\n",
      "INFO (theano.gof.compilelock): Waiting for existing lock by process '4594' (I am process '5274')\n",
      "INFO (theano.gof.compilelock): To manually release the lock, delete /Users/felixmolter/.theano/compiledir_Darwin-17.7.0-x86_64-i386-64bit-i386-3.6.8-64/lock_dir\n",
      "INFO (theano.gof.compilelock): Waiting for existing lock by process '4594' (I am process '5276')\n",
      "INFO (theano.gof.compilelock): To manually release the lock, delete /Users/felixmolter/.theano/compiledir_Darwin-17.7.0-x86_64-i386-64bit-i386-3.6.8-64/lock_dir\n",
      "INFO (theano.gof.compilelock): Waiting for existing lock by process '4594' (I am process '5275')\n",
      "INFO (theano.gof.compilelock): To manually release the lock, delete /Users/felixmolter/.theano/compiledir_Darwin-17.7.0-x86_64-i386-64bit-i386-3.6.8-64/lock_dir\n",
      "INFO (theano.gof.compilelock): Waiting for existing lock by process '5273' (I am process '5274')\n",
      "INFO (theano.gof.compilelock): To manually release the lock, delete /Users/felixmolter/.theano/compiledir_Darwin-17.7.0-x86_64-i386-64bit-i386-3.6.8-64/lock_dir\n",
      "INFO (theano.gof.compilelock): Waiting for existing lock by process '5273' (I am process '5276')\n",
      "INFO (theano.gof.compilelock): To manually release the lock, delete /Users/felixmolter/.theano/compiledir_Darwin-17.7.0-x86_64-i386-64bit-i386-3.6.8-64/lock_dir\n",
      "INFO (theano.gof.compilelock): Waiting for existing lock by process '5273' (I am process '5275')\n",
      "INFO (theano.gof.compilelock): To manually release the lock, delete /Users/felixmolter/.theano/compiledir_Darwin-17.7.0-x86_64-i386-64bit-i386-3.6.8-64/lock_dir\n",
      "INFO (theano.gof.compilelock): Waiting for existing lock by process '4589' (I am process '5274')\n",
      "INFO (theano.gof.compilelock): To manually release the lock, delete /Users/felixmolter/.theano/compiledir_Darwin-17.7.0-x86_64-i386-64bit-i386-3.6.8-64/lock_dir\n",
      "INFO (theano.gof.compilelock): Waiting for existing lock by process '4589' (I am process '5276')\n",
      "INFO (theano.gof.compilelock): To manually release the lock, delete /Users/felixmolter/.theano/compiledir_Darwin-17.7.0-x86_64-i386-64bit-i386-3.6.8-64/lock_dir\n",
      "INFO (theano.gof.compilelock): Waiting for existing lock by process '4589' (I am process '5275')\n",
      "INFO (theano.gof.compilelock): To manually release the lock, delete /Users/felixmolter/.theano/compiledir_Darwin-17.7.0-x86_64-i386-64bit-i386-3.6.8-64/lock_dir\n",
      "INFO (theano.gof.compilelock): Waiting for existing lock by process '4596' (I am process '5273')\n",
      "INFO (theano.gof.compilelock): To manually release the lock, delete /Users/felixmolter/.theano/compiledir_Darwin-17.7.0-x86_64-i386-64bit-i386-3.6.8-64/lock_dir\n",
      "INFO (theano.gof.compilelock): Waiting for existing lock by process '5274' (I am process '5276')\n",
      "INFO (theano.gof.compilelock): To manually release the lock, delete /Users/felixmolter/.theano/compiledir_Darwin-17.7.0-x86_64-i386-64bit-i386-3.6.8-64/lock_dir\n",
      "INFO (theano.gof.compilelock): Waiting for existing lock by process '4594' (I am process '5275')\n",
      "INFO (theano.gof.compilelock): To manually release the lock, delete /Users/felixmolter/.theano/compiledir_Darwin-17.7.0-x86_64-i386-64bit-i386-3.6.8-64/lock_dir\n"
     ]
    },
    {
     "name": "stdout",
     "output_type": "stream",
     "text": [
      "Fitting 1 model(s) using VI...\n",
      "  Fitting model 1 of 1...\n"
     ]
    },
    {
     "name": "stderr",
     "output_type": "stream",
     "text": [
      "INFO (theano.gof.compilelock): Waiting for existing lock by process '5273' (I am process '5276')\n",
      "INFO (theano.gof.compilelock): To manually release the lock, delete /Users/felixmolter/.theano/compiledir_Darwin-17.7.0-x86_64-i386-64bit-i386-3.6.8-64/lock_dir\n",
      "INFO (theano.gof.compilelock): Waiting for existing lock by process '5273' (I am process '5274')\n",
      "INFO (theano.gof.compilelock): To manually release the lock, delete /Users/felixmolter/.theano/compiledir_Darwin-17.7.0-x86_64-i386-64bit-i386-3.6.8-64/lock_dir\n",
      "INFO (theano.gof.compilelock): Waiting for existing lock by process '5273' (I am process '5275')\n",
      "INFO (theano.gof.compilelock): To manually release the lock, delete /Users/felixmolter/.theano/compiledir_Darwin-17.7.0-x86_64-i386-64bit-i386-3.6.8-64/lock_dir\n",
      "INFO (theano.gof.compilelock): Waiting for existing lock by process '5273' (I am process '5275')\n",
      "INFO (theano.gof.compilelock): To manually release the lock, delete /Users/felixmolter/.theano/compiledir_Darwin-17.7.0-x86_64-i386-64bit-i386-3.6.8-64/lock_dir\n",
      "INFO (theano.gof.compilelock): Waiting for existing lock by process '4593' (I am process '5276')\n",
      "INFO (theano.gof.compilelock): To manually release the lock, delete /Users/felixmolter/.theano/compiledir_Darwin-17.7.0-x86_64-i386-64bit-i386-3.6.8-64/lock_dir\n",
      "INFO (theano.gof.compilelock): Waiting for existing lock by process '5273' (I am process '5274')\n",
      "INFO (theano.gof.compilelock): To manually release the lock, delete /Users/felixmolter/.theano/compiledir_Darwin-17.7.0-x86_64-i386-64bit-i386-3.6.8-64/lock_dir\n",
      "INFO (theano.gof.compilelock): Waiting for existing lock by process '4594' (I am process '5275')\n",
      "INFO (theano.gof.compilelock): To manually release the lock, delete /Users/felixmolter/.theano/compiledir_Darwin-17.7.0-x86_64-i386-64bit-i386-3.6.8-64/lock_dir\n",
      "INFO (theano.gof.compilelock): Waiting for existing lock by process '5276' (I am process '5273')\n",
      "INFO (theano.gof.compilelock): To manually release the lock, delete /Users/felixmolter/.theano/compiledir_Darwin-17.7.0-x86_64-i386-64bit-i386-3.6.8-64/lock_dir\n",
      "INFO (theano.gof.compilelock): Waiting for existing lock by process '5276' (I am process '5274')\n",
      "INFO (theano.gof.compilelock): To manually release the lock, delete /Users/felixmolter/.theano/compiledir_Darwin-17.7.0-x86_64-i386-64bit-i386-3.6.8-64/lock_dir\n"
     ]
    },
    {
     "name": "stdout",
     "output_type": "stream",
     "text": [
      "Fitting 1 model(s) using VI...\n",
      "  Fitting model 1 of 1...\n"
     ]
    },
    {
     "name": "stderr",
     "output_type": "stream",
     "text": [
      "INFO (theano.gof.compilelock): Waiting for existing lock by process '5276' (I am process '5275')\n",
      "INFO (theano.gof.compilelock): To manually release the lock, delete /Users/felixmolter/.theano/compiledir_Darwin-17.7.0-x86_64-i386-64bit-i386-3.6.8-64/lock_dir\n",
      "INFO (theano.gof.compilelock): Waiting for existing lock by process '5274' (I am process '5273')\n",
      "INFO (theano.gof.compilelock): To manually release the lock, delete /Users/felixmolter/.theano/compiledir_Darwin-17.7.0-x86_64-i386-64bit-i386-3.6.8-64/lock_dir\n"
     ]
    },
    {
     "name": "stdout",
     "output_type": "stream",
     "text": [
      "Fitting 1 model(s) using VI...\n",
      "  Fitting model 1 of 1...\n"
     ]
    },
    {
     "name": "stderr",
     "output_type": "stream",
     "text": [
      "INFO (theano.gof.compilelock): Waiting for existing lock by process '5274' (I am process '5275')\n",
      "INFO (theano.gof.compilelock): To manually release the lock, delete /Users/felixmolter/.theano/compiledir_Darwin-17.7.0-x86_64-i386-64bit-i386-3.6.8-64/lock_dir\n",
      "INFO (theano.gof.compilelock): Waiting for existing lock by process '5273' (I am process '5276')\n",
      "INFO (theano.gof.compilelock): To manually release the lock, delete /Users/felixmolter/.theano/compiledir_Darwin-17.7.0-x86_64-i386-64bit-i386-3.6.8-64/lock_dir\n",
      "INFO (theano.gof.compilelock): Waiting for existing lock by process '5273' (I am process '5275')\n",
      "INFO (theano.gof.compilelock): To manually release the lock, delete /Users/felixmolter/.theano/compiledir_Darwin-17.7.0-x86_64-i386-64bit-i386-3.6.8-64/lock_dir\n",
      "INFO (theano.gof.compilelock): Waiting for existing lock by process '5273' (I am process '5274')\n",
      "INFO (theano.gof.compilelock): To manually release the lock, delete /Users/felixmolter/.theano/compiledir_Darwin-17.7.0-x86_64-i386-64bit-i386-3.6.8-64/lock_dir\n",
      "INFO (theano.gof.compilelock): Waiting for existing lock by process '5273' (I am process '5275')\n",
      "INFO (theano.gof.compilelock): To manually release the lock, delete /Users/felixmolter/.theano/compiledir_Darwin-17.7.0-x86_64-i386-64bit-i386-3.6.8-64/lock_dir\n",
      "INFO (theano.gof.compilelock): Waiting for existing lock by process '5273' (I am process '5276')\n",
      "INFO (theano.gof.compilelock): To manually release the lock, delete /Users/felixmolter/.theano/compiledir_Darwin-17.7.0-x86_64-i386-64bit-i386-3.6.8-64/lock_dir\n",
      "INFO (theano.gof.compilelock): Waiting for existing lock by process '5273' (I am process '5274')\n",
      "INFO (theano.gof.compilelock): To manually release the lock, delete /Users/felixmolter/.theano/compiledir_Darwin-17.7.0-x86_64-i386-64bit-i386-3.6.8-64/lock_dir\n",
      "INFO (theano.gof.compilelock): Waiting for existing lock by process '5275' (I am process '5276')\n",
      "INFO (theano.gof.compilelock): To manually release the lock, delete /Users/felixmolter/.theano/compiledir_Darwin-17.7.0-x86_64-i386-64bit-i386-3.6.8-64/lock_dir\n",
      "INFO (theano.gof.compilelock): Waiting for existing lock by process '5273' (I am process '5276')\n",
      "INFO (theano.gof.compilelock): To manually release the lock, delete /Users/felixmolter/.theano/compiledir_Darwin-17.7.0-x86_64-i386-64bit-i386-3.6.8-64/lock_dir\n",
      "INFO (theano.gof.compilelock): Waiting for existing lock by process '5273' (I am process '5275')\n",
      "INFO (theano.gof.compilelock): To manually release the lock, delete /Users/felixmolter/.theano/compiledir_Darwin-17.7.0-x86_64-i386-64bit-i386-3.6.8-64/lock_dir\n",
      "INFO (theano.gof.compilelock): Waiting for existing lock by process '5273' (I am process '5274')\n",
      "INFO (theano.gof.compilelock): To manually release the lock, delete /Users/felixmolter/.theano/compiledir_Darwin-17.7.0-x86_64-i386-64bit-i386-3.6.8-64/lock_dir\n",
      "INFO (theano.gof.compilelock): Waiting for existing lock by process '5273' (I am process '5276')\n",
      "INFO (theano.gof.compilelock): To manually release the lock, delete /Users/felixmolter/.theano/compiledir_Darwin-17.7.0-x86_64-i386-64bit-i386-3.6.8-64/lock_dir\n",
      "INFO (theano.gof.compilelock): Waiting for existing lock by process '5273' (I am process '5275')\n",
      "INFO (theano.gof.compilelock): To manually release the lock, delete /Users/felixmolter/.theano/compiledir_Darwin-17.7.0-x86_64-i386-64bit-i386-3.6.8-64/lock_dir\n",
      "INFO (theano.gof.compilelock): Waiting for existing lock by process '5273' (I am process '5274')\n",
      "INFO (theano.gof.compilelock): To manually release the lock, delete /Users/felixmolter/.theano/compiledir_Darwin-17.7.0-x86_64-i386-64bit-i386-3.6.8-64/lock_dir\n",
      "INFO (theano.gof.compilelock): Waiting for existing lock by process '5273' (I am process '5276')\n",
      "INFO (theano.gof.compilelock): To manually release the lock, delete /Users/felixmolter/.theano/compiledir_Darwin-17.7.0-x86_64-i386-64bit-i386-3.6.8-64/lock_dir\n"
     ]
    },
    {
     "name": "stdout",
     "output_type": "stream",
     "text": [
      "Fitting 1 model(s) using VI...\n",
      "  Fitting model 1 of 1...\n"
     ]
    },
    {
     "name": "stderr",
     "output_type": "stream",
     "text": [
      "INFO (theano.gof.compilelock): Waiting for existing lock by process '4597' (I am process '5274')\n",
      "INFO (theano.gof.compilelock): To manually release the lock, delete /Users/felixmolter/.theano/compiledir_Darwin-17.7.0-x86_64-i386-64bit-i386-3.6.8-64/lock_dir\n",
      "INFO (theano.gof.compilelock): Waiting for existing lock by process '5274' (I am process '5273')\n",
      "INFO (theano.gof.compilelock): To manually release the lock, delete /Users/felixmolter/.theano/compiledir_Darwin-17.7.0-x86_64-i386-64bit-i386-3.6.8-64/lock_dir\n",
      "INFO (theano.gof.compilelock): Waiting for existing lock by process '5274' (I am process '5273')\n",
      "INFO (theano.gof.compilelock): To manually release the lock, delete /Users/felixmolter/.theano/compiledir_Darwin-17.7.0-x86_64-i386-64bit-i386-3.6.8-64/lock_dir\n",
      "INFO (theano.gof.compilelock): Waiting for existing lock by process '5274' (I am process '5276')\n",
      "INFO (theano.gof.compilelock): To manually release the lock, delete /Users/felixmolter/.theano/compiledir_Darwin-17.7.0-x86_64-i386-64bit-i386-3.6.8-64/lock_dir\n",
      "INFO (theano.gof.compilelock): Waiting for existing lock by process '5274' (I am process '5275')\n",
      "INFO (theano.gof.compilelock): To manually release the lock, delete /Users/felixmolter/.theano/compiledir_Darwin-17.7.0-x86_64-i386-64bit-i386-3.6.8-64/lock_dir\n",
      "INFO (theano.gof.compilelock): Waiting for existing lock by process '5274' (I am process '5276')\n",
      "INFO (theano.gof.compilelock): To manually release the lock, delete /Users/felixmolter/.theano/compiledir_Darwin-17.7.0-x86_64-i386-64bit-i386-3.6.8-64/lock_dir\n",
      "INFO (theano.gof.compilelock): Waiting for existing lock by process '5274' (I am process '5273')\n",
      "INFO (theano.gof.compilelock): To manually release the lock, delete /Users/felixmolter/.theano/compiledir_Darwin-17.7.0-x86_64-i386-64bit-i386-3.6.8-64/lock_dir\n",
      "INFO (theano.gof.compilelock): Waiting for existing lock by process '5274' (I am process '5275')\n",
      "INFO (theano.gof.compilelock): To manually release the lock, delete /Users/felixmolter/.theano/compiledir_Darwin-17.7.0-x86_64-i386-64bit-i386-3.6.8-64/lock_dir\n",
      "INFO (theano.gof.compilelock): Waiting for existing lock by process '5274' (I am process '5276')\n",
      "INFO (theano.gof.compilelock): To manually release the lock, delete /Users/felixmolter/.theano/compiledir_Darwin-17.7.0-x86_64-i386-64bit-i386-3.6.8-64/lock_dir\n",
      "INFO (theano.gof.compilelock): Waiting for existing lock by process '5274' (I am process '5273')\n",
      "INFO (theano.gof.compilelock): To manually release the lock, delete /Users/felixmolter/.theano/compiledir_Darwin-17.7.0-x86_64-i386-64bit-i386-3.6.8-64/lock_dir\n",
      "INFO (theano.gof.compilelock): Waiting for existing lock by process '5274' (I am process '5273')\n",
      "INFO (theano.gof.compilelock): To manually release the lock, delete /Users/felixmolter/.theano/compiledir_Darwin-17.7.0-x86_64-i386-64bit-i386-3.6.8-64/lock_dir\n",
      "INFO (theano.gof.compilelock): Waiting for existing lock by process '5274' (I am process '5275')\n",
      "INFO (theano.gof.compilelock): To manually release the lock, delete /Users/felixmolter/.theano/compiledir_Darwin-17.7.0-x86_64-i386-64bit-i386-3.6.8-64/lock_dir\n",
      "INFO (theano.gof.compilelock): Waiting for existing lock by process '5274' (I am process '5276')\n",
      "INFO (theano.gof.compilelock): To manually release the lock, delete /Users/felixmolter/.theano/compiledir_Darwin-17.7.0-x86_64-i386-64bit-i386-3.6.8-64/lock_dir\n",
      "INFO (theano.gof.compilelock): Waiting for existing lock by process '5273' (I am process '5275')\n",
      "INFO (theano.gof.compilelock): To manually release the lock, delete /Users/felixmolter/.theano/compiledir_Darwin-17.7.0-x86_64-i386-64bit-i386-3.6.8-64/lock_dir\n",
      "INFO (theano.gof.compilelock): Waiting for existing lock by process '5273' (I am process '5276')\n",
      "INFO (theano.gof.compilelock): To manually release the lock, delete /Users/felixmolter/.theano/compiledir_Darwin-17.7.0-x86_64-i386-64bit-i386-3.6.8-64/lock_dir\n",
      "INFO (theano.gof.compilelock): Waiting for existing lock by process '5273' (I am process '5274')\n",
      "INFO (theano.gof.compilelock): To manually release the lock, delete /Users/felixmolter/.theano/compiledir_Darwin-17.7.0-x86_64-i386-64bit-i386-3.6.8-64/lock_dir\n",
      "INFO (theano.gof.compilelock): Waiting for existing lock by process '5273' (I am process '5275')\n",
      "INFO (theano.gof.compilelock): To manually release the lock, delete /Users/felixmolter/.theano/compiledir_Darwin-17.7.0-x86_64-i386-64bit-i386-3.6.8-64/lock_dir\n",
      "INFO (theano.gof.compilelock): Waiting for existing lock by process '5273' (I am process '5276')\n",
      "INFO (theano.gof.compilelock): To manually release the lock, delete /Users/felixmolter/.theano/compiledir_Darwin-17.7.0-x86_64-i386-64bit-i386-3.6.8-64/lock_dir\n",
      "INFO (theano.gof.compilelock): Waiting for existing lock by process '4591' (I am process '5276')\n",
      "INFO (theano.gof.compilelock): To manually release the lock, delete /Users/felixmolter/.theano/compiledir_Darwin-17.7.0-x86_64-i386-64bit-i386-3.6.8-64/lock_dir\n",
      "INFO (theano.gof.compilelock): Waiting for existing lock by process '5275' (I am process '5276')\n",
      "INFO (theano.gof.compilelock): To manually release the lock, delete /Users/felixmolter/.theano/compiledir_Darwin-17.7.0-x86_64-i386-64bit-i386-3.6.8-64/lock_dir\n",
      "Finished [100%]: Average Loss = 1,037.6\n",
      "Finished [100%]: Average Loss = 946.36\n",
      "INFO (theano.gof.compilelock): Waiting for existing lock by process '5273' (I am process '5274')\n",
      "INFO (theano.gof.compilelock): To manually release the lock, delete /Users/felixmolter/.theano/compiledir_Darwin-17.7.0-x86_64-i386-64bit-i386-3.6.8-64/lock_dir\n",
      "INFO (theano.gof.compilelock): Waiting for existing lock by process '5273' (I am process '5275')\n",
      "INFO (theano.gof.compilelock): To manually release the lock, delete /Users/felixmolter/.theano/compiledir_Darwin-17.7.0-x86_64-i386-64bit-i386-3.6.8-64/lock_dir\n",
      "INFO (theano.gof.compilelock): Waiting for existing lock by process '5273' (I am process '5274')\n",
      "INFO (theano.gof.compilelock): To manually release the lock, delete /Users/felixmolter/.theano/compiledir_Darwin-17.7.0-x86_64-i386-64bit-i386-3.6.8-64/lock_dir\n"
     ]
    },
    {
     "name": "stdout",
     "output_type": "stream",
     "text": [
      "/!\\ Automatically setting parameter precision...\n",
      "Generating single subject models for 1 subjects...\n",
      "Fitting 1 model(s) using VI...\n",
      "  Fitting model 1 of 1...\n"
     ]
    },
    {
     "name": "stderr",
     "output_type": "stream",
     "text": [
      "INFO (theano.gof.compilelock): Waiting for existing lock by process '4591' (I am process '5274')\n",
      "INFO (theano.gof.compilelock): To manually release the lock, delete /Users/felixmolter/.theano/compiledir_Darwin-17.7.0-x86_64-i386-64bit-i386-3.6.8-64/lock_dir\n",
      "Finished [100%]: Average Loss = 745.98\n"
     ]
    },
    {
     "name": "stdout",
     "output_type": "stream",
     "text": [
      "/!\\ Automatically setting parameter precision...\n",
      "Generating single subject models for 1 subjects...\n",
      "/!\\ Automatically setting parameter precision...\n",
      "Generating single subject models for 1 subjects...\n",
      "Fitting 1 model(s) using VI...\n",
      "  Fitting model 1 of 1...\n",
      "Fitting 1 model(s) using VI...\n",
      "  Fitting model 1 of 1...\n"
     ]
    },
    {
     "name": "stderr",
     "output_type": "stream",
     "text": [
      "Finished [100%]: Average Loss = 782.99\n"
     ]
    },
    {
     "name": "stdout",
     "output_type": "stream",
     "text": [
      "/!\\ Automatically setting parameter precision...\n",
      "Generating single subject models for 1 subjects...\n",
      "Fitting 1 model(s) using VI...\n",
      "  Fitting model 1 of 1...\n"
     ]
    },
    {
     "name": "stderr",
     "output_type": "stream",
     "text": [
      "Finished [100%]: Average Loss = 948.13\n"
     ]
    },
    {
     "name": "stdout",
     "output_type": "stream",
     "text": [
      "/!\\ Automatically setting parameter precision...\n",
      "Generating single subject models for 1 subjects...\n",
      "Fitting 1 model(s) using VI...\n",
      "  Fitting model 1 of 1...\n"
     ]
    },
    {
     "name": "stderr",
     "output_type": "stream",
     "text": [
      "Finished [100%]: Average Loss = 766.74\n"
     ]
    },
    {
     "name": "stdout",
     "output_type": "stream",
     "text": [
      "/!\\ Automatically setting parameter precision...\n",
      "Generating single subject models for 1 subjects...\n",
      "Fitting 1 model(s) using VI...\n",
      "  Fitting model 1 of 1...\n"
     ]
    },
    {
     "name": "stderr",
     "output_type": "stream",
     "text": [
      "Finished [100%]: Average Loss = 784.67\n"
     ]
    },
    {
     "name": "stdout",
     "output_type": "stream",
     "text": [
      "/!\\ Automatically setting parameter precision...\n",
      "Generating single subject models for 1 subjects...\n",
      "Fitting 1 model(s) using VI...\n",
      "  Fitting model 1 of 1...\n"
     ]
    },
    {
     "name": "stderr",
     "output_type": "stream",
     "text": [
      "Finished [100%]: Average Loss = 891.9\n"
     ]
    },
    {
     "name": "stdout",
     "output_type": "stream",
     "text": [
      "/!\\ Automatically setting parameter precision...\n",
      "Generating single subject models for 1 subjects...\n",
      "Fitting 1 model(s) using VI...\n",
      "  Fitting model 1 of 1...\n"
     ]
    },
    {
     "name": "stderr",
     "output_type": "stream",
     "text": [
      "Finished [100%]: Average Loss = 1,016.7\n"
     ]
    },
    {
     "name": "stdout",
     "output_type": "stream",
     "text": [
      "/!\\ Automatically setting parameter precision...\n",
      "Generating single subject models for 1 subjects...\n",
      "Fitting 1 model(s) using VI...\n",
      "  Fitting model 1 of 1...\n"
     ]
    },
    {
     "name": "stderr",
     "output_type": "stream",
     "text": [
      "Finished [100%]: Average Loss = 671.79\n"
     ]
    },
    {
     "name": "stdout",
     "output_type": "stream",
     "text": [
      "/!\\ Automatically setting parameter precision...\n",
      "Generating single subject models for 1 subjects...\n",
      "Fitting 1 model(s) using VI...\n",
      "  Fitting model 1 of 1...\n"
     ]
    },
    {
     "name": "stderr",
     "output_type": "stream",
     "text": [
      "Finished [100%]: Average Loss = 1,041.8\n"
     ]
    },
    {
     "name": "stdout",
     "output_type": "stream",
     "text": [
      "/!\\ Automatically setting parameter precision...\n",
      "Generating single subject models for 1 subjects...\n",
      "Fitting 1 model(s) using VI...\n",
      "  Fitting model 1 of 1...\n"
     ]
    },
    {
     "name": "stderr",
     "output_type": "stream",
     "text": [
      "Finished [100%]: Average Loss = 828.69\n"
     ]
    },
    {
     "name": "stdout",
     "output_type": "stream",
     "text": [
      "/!\\ Automatically setting parameter precision...\n",
      "Generating single subject models for 1 subjects...\n"
     ]
    },
    {
     "name": "stderr",
     "output_type": "stream",
     "text": [
      "Finished [100%]: Average Loss = 992.89\n"
     ]
    },
    {
     "name": "stdout",
     "output_type": "stream",
     "text": [
      "Fitting 1 model(s) using VI...\n",
      "  Fitting model 1 of 1...\n",
      "/!\\ Automatically setting parameter precision...\n",
      "Generating single subject models for 1 subjects...\n",
      "Fitting 1 model(s) using VI...\n",
      "  Fitting model 1 of 1...\n"
     ]
    },
    {
     "name": "stderr",
     "output_type": "stream",
     "text": [
      "INFO (theano.gof.compilelock): Waiting for existing lock by process '5275' (I am process '5273')\n",
      "INFO (theano.gof.compilelock): To manually release the lock, delete /Users/felixmolter/.theano/compiledir_Darwin-17.7.0-x86_64-i386-64bit-i386-3.6.8-64/lock_dir\n",
      "Finished [100%]: Average Loss = 709.16\n"
     ]
    },
    {
     "name": "stdout",
     "output_type": "stream",
     "text": [
      "/!\\ Automatically setting parameter precision...\n",
      "Generating single subject models for 1 subjects...\n",
      "Fitting 1 model(s) using VI...\n",
      "  Fitting model 1 of 1...\n"
     ]
    },
    {
     "name": "stderr",
     "output_type": "stream",
     "text": [
      "Finished [100%]: Average Loss = 978.34\n"
     ]
    },
    {
     "name": "stdout",
     "output_type": "stream",
     "text": [
      "/!\\ Automatically setting parameter precision...\n",
      "Generating single subject models for 1 subjects...\n",
      "Fitting 1 model(s) using VI...\n",
      "  Fitting model 1 of 1...\n"
     ]
    },
    {
     "name": "stderr",
     "output_type": "stream",
     "text": [
      "Finished [100%]: Average Loss = 814.92\n"
     ]
    },
    {
     "name": "stdout",
     "output_type": "stream",
     "text": [
      "/!\\ Automatically setting parameter precision...\n",
      "Generating single subject models for 1 subjects...\n",
      "Fitting 1 model(s) using VI...\n",
      "  Fitting model 1 of 1...\n"
     ]
    },
    {
     "name": "stderr",
     "output_type": "stream",
     "text": [
      "Finished [100%]: Average Loss = 917.03\n"
     ]
    },
    {
     "name": "stdout",
     "output_type": "stream",
     "text": [
      "/!\\ Automatically setting parameter precision...\n",
      "Generating single subject models for 1 subjects...\n",
      "Fitting 1 model(s) using VI...\n",
      "  Fitting model 1 of 1...\n"
     ]
    },
    {
     "name": "stderr",
     "output_type": "stream",
     "text": [
      "Finished [100%]: Average Loss = 654.91\n"
     ]
    },
    {
     "name": "stdout",
     "output_type": "stream",
     "text": [
      "/!\\ Automatically setting parameter precision...\n",
      "Generating single subject models for 1 subjects...\n"
     ]
    },
    {
     "name": "stderr",
     "output_type": "stream",
     "text": [
      "Finished [100%]: Average Loss = 930.17\n"
     ]
    },
    {
     "name": "stdout",
     "output_type": "stream",
     "text": [
      "/!\\ Automatically setting parameter precision...\n",
      "Fitting 1 model(s) using VI...\n",
      "  Fitting model 1 of 1...\n",
      "Generating single subject models for 1 subjects...\n",
      "Fitting 1 model(s) using VI...\n",
      "  Fitting model 1 of 1...\n"
     ]
    },
    {
     "name": "stderr",
     "output_type": "stream",
     "text": [
      "Finished [100%]: Average Loss = 1,045.7\n"
     ]
    },
    {
     "name": "stdout",
     "output_type": "stream",
     "text": [
      "/!\\ Automatically setting parameter precision...\n",
      "Generating single subject models for 1 subjects...\n",
      "Fitting 1 model(s) using VI...\n",
      "  Fitting model 1 of 1...\n"
     ]
    },
    {
     "name": "stderr",
     "output_type": "stream",
     "text": [
      "Finished [100%]: Average Loss = 912.98\n"
     ]
    },
    {
     "name": "stdout",
     "output_type": "stream",
     "text": [
      "/!\\ Automatically setting parameter precision...\n",
      "Generating single subject models for 1 subjects...\n",
      "Fitting 1 model(s) using VI...\n",
      "  Fitting model 1 of 1...\n"
     ]
    },
    {
     "name": "stderr",
     "output_type": "stream",
     "text": [
      "Finished [100%]: Average Loss = 635.4\n"
     ]
    },
    {
     "name": "stdout",
     "output_type": "stream",
     "text": [
      "/!\\ Automatically setting parameter precision...\n"
     ]
    },
    {
     "name": "stderr",
     "output_type": "stream",
     "text": [
      "Finished [100%]: Average Loss = 896.68\n"
     ]
    },
    {
     "name": "stdout",
     "output_type": "stream",
     "text": [
      "Generating single subject models for 1 subjects...\n",
      "/!\\ Automatically setting parameter precision...\n",
      "Generating single subject models for 1 subjects...\n",
      "Fitting 1 model(s) using VI...\n",
      "  Fitting model 1 of 1...\n",
      "Fitting 1 model(s) using VI...\n",
      "  Fitting model 1 of 1...\n"
     ]
    },
    {
     "name": "stderr",
     "output_type": "stream",
     "text": [
      "Finished [100%]: Average Loss = 940.47\n"
     ]
    },
    {
     "name": "stdout",
     "output_type": "stream",
     "text": [
      "/!\\ Automatically setting parameter precision...\n",
      "Generating single subject models for 1 subjects...\n",
      "Fitting 1 model(s) using VI...\n",
      "  Fitting model 1 of 1...\n"
     ]
    },
    {
     "name": "stderr",
     "output_type": "stream",
     "text": [
      "Finished [100%]: Average Loss = 842.87\n"
     ]
    },
    {
     "name": "stdout",
     "output_type": "stream",
     "text": [
      "/!\\ Automatically setting parameter precision...\n",
      "Generating single subject models for 1 subjects...\n",
      "Fitting 1 model(s) using VI...\n",
      "  Fitting model 1 of 1...\n"
     ]
    },
    {
     "name": "stderr",
     "output_type": "stream",
     "text": [
      "Finished [100%]: Average Loss = 1,056.3\n"
     ]
    },
    {
     "name": "stdout",
     "output_type": "stream",
     "text": [
      "/!\\ Automatically setting parameter precision...\n",
      "Generating single subject models for 1 subjects...\n"
     ]
    },
    {
     "name": "stderr",
     "output_type": "stream",
     "text": [
      "Finished [100%]: Average Loss = 847.57\n"
     ]
    },
    {
     "name": "stdout",
     "output_type": "stream",
     "text": [
      "/!\\ Automatically setting parameter precision...\n",
      "Generating single subject models for 1 subjects...\n",
      "Fitting 1 model(s) using VI...\n",
      "  Fitting model 1 of 1...\n",
      "Fitting 1 model(s) using VI...\n",
      "  Fitting model 1 of 1...\n"
     ]
    },
    {
     "name": "stderr",
     "output_type": "stream",
     "text": [
      "Finished [100%]: Average Loss = 871.57\n"
     ]
    },
    {
     "name": "stdout",
     "output_type": "stream",
     "text": [
      "/!\\ Automatically setting parameter precision...\n",
      "Generating single subject models for 1 subjects...\n",
      "Fitting 1 model(s) using VI...\n",
      "  Fitting model 1 of 1...\n"
     ]
    },
    {
     "name": "stderr",
     "output_type": "stream",
     "text": [
      "Finished [100%]: Average Loss = 831.87\n"
     ]
    },
    {
     "name": "stdout",
     "output_type": "stream",
     "text": [
      "/!\\ Automatically setting parameter precision...\n",
      "Generating single subject models for 1 subjects...\n",
      "Fitting 1 model(s) using VI...\n",
      "  Fitting model 1 of 1...\n"
     ]
    },
    {
     "name": "stderr",
     "output_type": "stream",
     "text": [
      "Finished [100%]: Average Loss = 981.91\n"
     ]
    },
    {
     "name": "stdout",
     "output_type": "stream",
     "text": [
      "/!\\ Automatically setting parameter precision...\n"
     ]
    },
    {
     "name": "stderr",
     "output_type": "stream",
     "text": [
      "Finished [100%]: Average Loss = 848.62\n"
     ]
    },
    {
     "name": "stdout",
     "output_type": "stream",
     "text": [
      "Generating single subject models for 1 subjects...\n",
      "/!\\ Automatically setting parameter precision...\n",
      "Generating single subject models for 1 subjects...\n",
      "Fitting 1 model(s) using VI...\n",
      "  Fitting model 1 of 1...\n",
      "Fitting 1 model(s) using VI...\n",
      "  Fitting model 1 of 1...\n"
     ]
    },
    {
     "name": "stderr",
     "output_type": "stream",
     "text": [
      "Finished [100%]: Average Loss = 833.68\n"
     ]
    },
    {
     "name": "stdout",
     "output_type": "stream",
     "text": [
      "/!\\ Automatically setting parameter precision...\n",
      "Generating single subject models for 1 subjects...\n",
      "Fitting 1 model(s) using VI...\n",
      "  Fitting model 1 of 1...\n"
     ]
    },
    {
     "name": "stderr",
     "output_type": "stream",
     "text": [
      "Finished [100%]: Average Loss = 777.01\n"
     ]
    },
    {
     "name": "stdout",
     "output_type": "stream",
     "text": [
      "/!\\ Automatically setting parameter precision...\n",
      "Generating single subject models for 1 subjects...\n",
      "Fitting 1 model(s) using VI...\n",
      "  Fitting model 1 of 1...\n"
     ]
    },
    {
     "name": "stderr",
     "output_type": "stream",
     "text": [
      "Finished [100%]: Average Loss = 940\n"
     ]
    },
    {
     "name": "stdout",
     "output_type": "stream",
     "text": [
      "/!\\ Automatically setting parameter precision...\n"
     ]
    },
    {
     "name": "stderr",
     "output_type": "stream",
     "text": [
      "Finished [100%]: Average Loss = 796.45\n"
     ]
    },
    {
     "name": "stdout",
     "output_type": "stream",
     "text": [
      "Generating single subject models for 1 subjects...\n",
      "/!\\ Automatically setting parameter precision...\n",
      "Fitting 1 model(s) using VI...\n",
      "  Fitting model 1 of 1...\n",
      "Generating single subject models for 1 subjects...\n"
     ]
    },
    {
     "name": "stderr",
     "output_type": "stream",
     "text": [
      "INFO (theano.gof.compilelock): Waiting for existing lock by process '5276' (I am process '5274')\n",
      "INFO (theano.gof.compilelock): To manually release the lock, delete /Users/felixmolter/.theano/compiledir_Darwin-17.7.0-x86_64-i386-64bit-i386-3.6.8-64/lock_dir\n"
     ]
    },
    {
     "name": "stdout",
     "output_type": "stream",
     "text": [
      "Fitting 1 model(s) using VI...\n",
      "  Fitting model 1 of 1...\n"
     ]
    },
    {
     "name": "stderr",
     "output_type": "stream",
     "text": [
      "Finished [100%]: Average Loss = 798.39\n"
     ]
    },
    {
     "name": "stdout",
     "output_type": "stream",
     "text": [
      "/!\\ Automatically setting parameter precision...\n",
      "Generating single subject models for 1 subjects...\n",
      "Fitting 1 model(s) using VI...\n",
      "  Fitting model 1 of 1...\n"
     ]
    },
    {
     "name": "stderr",
     "output_type": "stream",
     "text": [
      "Finished [100%]: Average Loss = 752.53\n"
     ]
    },
    {
     "name": "stdout",
     "output_type": "stream",
     "text": [
      "/!\\ Automatically setting parameter precision...\n",
      "Generating single subject models for 1 subjects...\n",
      "Fitting 1 model(s) using VI...\n",
      "  Fitting model 1 of 1...\n"
     ]
    },
    {
     "name": "stderr",
     "output_type": "stream",
     "text": [
      "Finished [100%]: Average Loss = 887.99\n"
     ]
    },
    {
     "name": "stdout",
     "output_type": "stream",
     "text": [
      "/!\\ Automatically setting parameter precision...\n",
      "Generating single subject models for 1 subjects...\n",
      "Fitting 1 model(s) using VI...\n",
      "  Fitting model 1 of 1...\n"
     ]
    },
    {
     "name": "stderr",
     "output_type": "stream",
     "text": [
      "Finished [100%]: Average Loss = 773.59\n"
     ]
    },
    {
     "name": "stdout",
     "output_type": "stream",
     "text": [
      "/!\\ Automatically setting parameter precision...\n",
      "Generating single subject models for 1 subjects...\n",
      "Fitting 1 model(s) using VI...\n",
      "  Fitting model 1 of 1...\n"
     ]
    },
    {
     "name": "stderr",
     "output_type": "stream",
     "text": [
      "Finished [100%]: Average Loss = 753.92\n"
     ]
    },
    {
     "name": "stdout",
     "output_type": "stream",
     "text": [
      "/!\\ Automatically setting parameter precision...\n",
      "Generating single subject models for 1 subjects...\n"
     ]
    },
    {
     "name": "stderr",
     "output_type": "stream",
     "text": [
      "Finished [100%]: Average Loss = 1,000.2\n"
     ]
    },
    {
     "name": "stdout",
     "output_type": "stream",
     "text": [
      "Fitting 1 model(s) using VI...\n",
      "  Fitting model 1 of 1...\n",
      "/!\\ Automatically setting parameter precision...\n",
      "Generating single subject models for 1 subjects...\n"
     ]
    },
    {
     "name": "stderr",
     "output_type": "stream",
     "text": [
      "Finished [100%]: Average Loss = 866.24\n"
     ]
    },
    {
     "name": "stdout",
     "output_type": "stream",
     "text": [
      "/!\\ Automatically setting parameter precision...\n",
      "Generating single subject models for 1 subjects...\n",
      "Fitting 1 model(s) using VI...\n",
      "  Fitting model 1 of 1...\n",
      "Fitting 1 model(s) using VI...\n",
      "  Fitting model 1 of 1...\n"
     ]
    },
    {
     "name": "stderr",
     "output_type": "stream",
     "text": [
      "Finished [100%]: Average Loss = 761.76\n"
     ]
    },
    {
     "name": "stdout",
     "output_type": "stream",
     "text": [
      "/!\\ Automatically setting parameter precision...\n",
      "Generating single subject models for 1 subjects...\n",
      "Fitting 1 model(s) using VI...\n",
      "  Fitting model 1 of 1...\n"
     ]
    },
    {
     "name": "stderr",
     "output_type": "stream",
     "text": [
      "Finished [100%]: Average Loss = 734.63\n"
     ]
    },
    {
     "name": "stdout",
     "output_type": "stream",
     "text": [
      "/!\\ Automatically setting parameter precision...\n",
      "Generating single subject models for 1 subjects...\n",
      "Fitting 1 model(s) using VI...\n",
      "  Fitting model 1 of 1...\n"
     ]
    },
    {
     "name": "stderr",
     "output_type": "stream",
     "text": [
      "Finished [100%]: Average Loss = 937.04\n"
     ]
    },
    {
     "name": "stdout",
     "output_type": "stream",
     "text": [
      "/!\\ Automatically setting parameter precision...\n",
      "Generating single subject models for 1 subjects...\n",
      "Fitting 1 model(s) using VI...\n",
      "  Fitting model 1 of 1...\n"
     ]
    },
    {
     "name": "stderr",
     "output_type": "stream",
     "text": [
      "Finished [100%]: Average Loss = 904.27\n"
     ]
    },
    {
     "name": "stdout",
     "output_type": "stream",
     "text": [
      "/!\\ Automatically setting parameter precision...\n"
     ]
    },
    {
     "name": "stderr",
     "output_type": "stream",
     "text": [
      "Finished [100%]: Average Loss = 740.45\n"
     ]
    },
    {
     "name": "stdout",
     "output_type": "stream",
     "text": [
      "Generating single subject models for 1 subjects...\n",
      "/!\\ Automatically setting parameter precision...\n",
      "Generating single subject models for 1 subjects...\n",
      "Fitting 1 model(s) using VI...\n",
      "  Fitting model 1 of 1...\n",
      "Fitting 1 model(s) using VI...\n",
      "  Fitting model 1 of 1...\n"
     ]
    },
    {
     "name": "stderr",
     "output_type": "stream",
     "text": [
      "Finished [100%]: Average Loss = 709.85\n"
     ]
    },
    {
     "name": "stdout",
     "output_type": "stream",
     "text": [
      "/!\\ Automatically setting parameter precision...\n",
      "Generating single subject models for 1 subjects...\n",
      "Fitting 1 model(s) using VI...\n",
      "  Fitting model 1 of 1...\n"
     ]
    },
    {
     "name": "stderr",
     "output_type": "stream",
     "text": [
      "Finished [100%]: Average Loss = 992.66\n"
     ]
    },
    {
     "name": "stdout",
     "output_type": "stream",
     "text": [
      "/!\\ Automatically setting parameter precision...\n"
     ]
    },
    {
     "name": "stderr",
     "output_type": "stream",
     "text": [
      "Finished [100%]: Average Loss = 1,042.3\n"
     ]
    },
    {
     "name": "stdout",
     "output_type": "stream",
     "text": [
      "Generating single subject models for 1 subjects...\n",
      "/!\\ Automatically setting parameter precision...\n",
      "Generating single subject models for 1 subjects...\n",
      "Fitting 1 model(s) using VI...\n",
      "  Fitting model 1 of 1...\n"
     ]
    },
    {
     "name": "stderr",
     "output_type": "stream",
     "text": [
      "Finished [100%]: Average Loss = 949.65\n"
     ]
    },
    {
     "name": "stdout",
     "output_type": "stream",
     "text": [
      "/!\\ Automatically setting parameter precision...\n",
      "Generating single subject models for 1 subjects...\n",
      "Fitting 1 model(s) using VI...\n",
      "  Fitting model 1 of 1...\n",
      "Fitting 1 model(s) using VI...\n",
      "  Fitting model 1 of 1...\n"
     ]
    },
    {
     "name": "stderr",
     "output_type": "stream",
     "text": [
      "Finished [100%]: Average Loss = 791.56\n"
     ]
    },
    {
     "name": "stdout",
     "output_type": "stream",
     "text": [
      "/!\\ Automatically setting parameter precision...\n",
      "Generating single subject models for 1 subjects...\n",
      "Fitting 1 model(s) using VI...\n",
      "  Fitting model 1 of 1...\n"
     ]
    },
    {
     "name": "stderr",
     "output_type": "stream",
     "text": [
      "Finished [100%]: Average Loss = 926.92\n"
     ]
    },
    {
     "name": "stdout",
     "output_type": "stream",
     "text": [
      "/!\\ Automatically setting parameter precision...\n",
      "Generating single subject models for 1 subjects...\n",
      "Fitting 1 model(s) using VI...\n",
      "  Fitting model 1 of 1...\n"
     ]
    },
    {
     "name": "stderr",
     "output_type": "stream",
     "text": [
      "Finished [100%]: Average Loss = 898.33\n",
      "Finished [100%]: Average Loss = 956.78\n"
     ]
    },
    {
     "name": "stdout",
     "output_type": "stream",
     "text": [
      "/!\\ Automatically setting parameter precision...\n",
      "Generating single subject models for 1 subjects...\n",
      "/!\\ Automatically setting parameter precision...\n",
      "Generating single subject models for 1 subjects...\n",
      "Fitting 1 model(s) using VI...\n",
      "  Fitting model 1 of 1...\n",
      "Fitting 1 model(s) using VI...\n",
      "  Fitting model 1 of 1...\n"
     ]
    },
    {
     "name": "stderr",
     "output_type": "stream",
     "text": [
      "Finished [100%]: Average Loss = 760.13\n"
     ]
    },
    {
     "name": "stdout",
     "output_type": "stream",
     "text": [
      "/!\\ Automatically setting parameter precision...\n",
      "Generating single subject models for 1 subjects...\n",
      "Fitting 1 model(s) using VI...\n",
      "  Fitting model 1 of 1...\n"
     ]
    },
    {
     "name": "stderr",
     "output_type": "stream",
     "text": [
      "Finished [100%]: Average Loss = 880.35\n"
     ]
    },
    {
     "name": "stdout",
     "output_type": "stream",
     "text": [
      "/!\\ Automatically setting parameter precision...\n",
      "Generating single subject models for 1 subjects...\n",
      "Fitting 1 model(s) using VI...\n",
      "  Fitting model 1 of 1...\n"
     ]
    },
    {
     "name": "stderr",
     "output_type": "stream",
     "text": [
      "Finished [100%]: Average Loss = 903.35\n"
     ]
    },
    {
     "name": "stdout",
     "output_type": "stream",
     "text": [
      "/!\\ Automatically setting parameter precision...\n",
      "Generating single subject models for 1 subjects...\n"
     ]
    },
    {
     "name": "stderr",
     "output_type": "stream",
     "text": [
      "Finished [100%]: Average Loss = 921.95\n"
     ]
    },
    {
     "name": "stdout",
     "output_type": "stream",
     "text": [
      "/!\\ Automatically setting parameter precision...\n",
      "Fitting 1 model(s) using VI...\n",
      "  Fitting model 1 of 1...\n",
      "Generating single subject models for 1 subjects...\n",
      "Fitting 1 model(s) using VI...\n",
      "  Fitting model 1 of 1...\n"
     ]
    },
    {
     "name": "stderr",
     "output_type": "stream",
     "text": [
      "Finished [100%]: Average Loss = 1,039.6\n"
     ]
    },
    {
     "name": "stdout",
     "output_type": "stream",
     "text": [
      "/!\\ Automatically setting parameter precision...\n",
      "Generating single subject models for 1 subjects...\n",
      "Fitting 1 model(s) using VI...\n",
      "  Fitting model 1 of 1...\n"
     ]
    },
    {
     "name": "stderr",
     "output_type": "stream",
     "text": [
      "Finished [100%]: Average Loss = 853.76\n"
     ]
    },
    {
     "name": "stdout",
     "output_type": "stream",
     "text": [
      "/!\\ Automatically setting parameter precision...\n",
      "Generating single subject models for 1 subjects...\n",
      "Fitting 1 model(s) using VI...\n",
      "  Fitting model 1 of 1...\n"
     ]
    },
    {
     "name": "stderr",
     "output_type": "stream",
     "text": [
      "Finished [100%]: Average Loss = 874\n"
     ]
    },
    {
     "name": "stdout",
     "output_type": "stream",
     "text": [
      "/!\\ Automatically setting parameter precision...\n",
      "Generating single subject models for 1 subjects...\n",
      "Fitting 1 model(s) using VI...\n",
      "  Fitting model 1 of 1...\n"
     ]
    },
    {
     "name": "stderr",
     "output_type": "stream",
     "text": [
      "Finished [100%]: Average Loss = 874.78\n"
     ]
    },
    {
     "name": "stdout",
     "output_type": "stream",
     "text": [
      "/!\\ Automatically setting parameter precision...\n",
      "Generating single subject models for 1 subjects...\n",
      "Fitting 1 model(s) using VI...\n",
      "  Fitting model 1 of 1...\n"
     ]
    },
    {
     "name": "stderr",
     "output_type": "stream",
     "text": [
      "Finished [100%]: Average Loss = 991.07\n"
     ]
    },
    {
     "name": "stdout",
     "output_type": "stream",
     "text": [
      "/!\\ Automatically setting parameter precision...\n",
      "Generating single subject models for 1 subjects...\n",
      "Fitting 1 model(s) using VI...\n",
      "  Fitting model 1 of 1...\n"
     ]
    },
    {
     "name": "stderr",
     "output_type": "stream",
     "text": [
      "Finished [100%]: Average Loss = 796.32\n"
     ]
    },
    {
     "name": "stdout",
     "output_type": "stream",
     "text": [
      "/!\\ Automatically setting parameter precision...\n",
      "Generating single subject models for 1 subjects...\n",
      "Fitting 1 model(s) using VI...\n",
      "  Fitting model 1 of 1...\n"
     ]
    },
    {
     "name": "stderr",
     "output_type": "stream",
     "text": [
      "Finished [100%]: Average Loss = 1,035.1\n"
     ]
    },
    {
     "name": "stdout",
     "output_type": "stream",
     "text": [
      "/!\\ Automatically setting parameter precision...\n",
      "Generating single subject models for 1 subjects...\n",
      "Fitting 1 model(s) using VI...\n",
      "  Fitting model 1 of 1...\n"
     ]
    },
    {
     "name": "stderr",
     "output_type": "stream",
     "text": [
      "Finished [100%]: Average Loss = 835.7\n"
     ]
    },
    {
     "name": "stdout",
     "output_type": "stream",
     "text": [
      "/!\\ Automatically setting parameter precision...\n",
      "Generating single subject models for 1 subjects...\n",
      "Fitting 1 model(s) using VI...\n",
      "  Fitting model 1 of 1...\n"
     ]
    },
    {
     "name": "stderr",
     "output_type": "stream",
     "text": [
      "Finished [100%]: Average Loss = 935.55\n"
     ]
    },
    {
     "name": "stdout",
     "output_type": "stream",
     "text": [
      "/!\\ Automatically setting parameter precision...\n",
      "Generating single subject models for 1 subjects...\n",
      "Fitting 1 model(s) using VI...\n",
      "  Fitting model 1 of 1...\n"
     ]
    },
    {
     "name": "stderr",
     "output_type": "stream",
     "text": [
      "Finished [100%]: Average Loss = 795.07\n"
     ]
    },
    {
     "name": "stdout",
     "output_type": "stream",
     "text": [
      "/!\\ Automatically setting parameter precision...\n",
      "Generating single subject models for 1 subjects...\n"
     ]
    },
    {
     "name": "stderr",
     "output_type": "stream",
     "text": [
      "INFO (theano.gof.compilelock): Waiting for existing lock by process '3853' (I am process '5275')\n",
      "INFO (theano.gof.compilelock): To manually release the lock, delete /Users/felixmolter/.theano/compiledir_Darwin-17.7.0-x86_64-i386-64bit-i386-3.6.8-64/lock_dir\n"
     ]
    },
    {
     "name": "stdout",
     "output_type": "stream",
     "text": [
      "Fitting 1 model(s) using VI...\n",
      "  Fitting model 1 of 1...\n"
     ]
    },
    {
     "name": "stderr",
     "output_type": "stream",
     "text": [
      "Finished [100%]: Average Loss = 933.89\n"
     ]
    },
    {
     "name": "stdout",
     "output_type": "stream",
     "text": [
      "/!\\ Automatically setting parameter precision...\n",
      "Generating single subject models for 1 subjects...\n",
      "Fitting 1 model(s) using VI...\n",
      "  Fitting model 1 of 1...\n"
     ]
    },
    {
     "name": "stderr",
     "output_type": "stream",
     "text": [
      "INFO (theano.gof.compilelock): Waiting for existing lock by process '5276' (I am process '5275')\n",
      "INFO (theano.gof.compilelock): To manually release the lock, delete /Users/felixmolter/.theano/compiledir_Darwin-17.7.0-x86_64-i386-64bit-i386-3.6.8-64/lock_dir\n"
     ]
    }
   ],
   "source": [
    "from multiprocessing import Pool\n",
    "\n",
    "n_cores = 4\n",
    "p = Pool(n_cores)\n",
    "\n",
    "output = p.map(wrapper, pr.generate_parameter_sets(parameter_info))"
   ]
  },
  {
   "cell_type": "markdown",
   "metadata": {},
   "source": [
    "## Combine results"
   ]
  },
  {
   "cell_type": "code",
   "execution_count": null,
   "metadata": {},
   "outputs": [],
   "source": [
    "filenames = [file for file in listdir(partial_output_folder)\n",
    "             if file.endswith('.csv')]\n",
    "\n",
    "partial_recoveries = []\n",
    "\n",
    "for file in filenames:\n",
    "    partial = pd.read_csv(join(partial_output_folder, file))\n",
    "    partial_recoveries.append(partial)\n",
    "\n",
    "parameter_recovery = pd.concat(partial_recoveries).sort_values('index').reset_index(drop=True)\n",
    "del partial_recoveries\n",
    "parameter_recovery.to_csv(join(output_folder, 'parameter-recovery_', label, '.csv'))\n",
    "parameter_recovery.head()"
   ]
  },
  {
   "cell_type": "code",
   "execution_count": null,
   "metadata": {},
   "outputs": [],
   "source": []
  }
 ],
 "metadata": {
  "kernelspec": {
   "display_name": "Python 3",
   "language": "python",
   "name": "python3"
  },
  "language_info": {
   "codemirror_mode": {
    "name": "ipython",
    "version": 3
   },
   "file_extension": ".py",
   "mimetype": "text/x-python",
   "name": "python",
   "nbconvert_exporter": "python",
   "pygments_lexer": "ipython3",
   "version": "3.6.8"
  },
  "toc": {
   "colors": {
    "hover_highlight": "#DAA520",
    "running_highlight": "#FF0000",
    "selected_highlight": "#FFD700"
   },
   "moveMenuLeft": true,
   "nav_menu": {
    "height": "120px",
    "width": "252px"
   },
   "navigate_menu": true,
   "number_sections": true,
   "sideBar": true,
   "threshold": 4,
   "toc_cell": false,
   "toc_section_display": "block",
   "toc_window_display": false,
   "widenNotebook": false
  }
 },
 "nbformat": 4,
 "nbformat_minor": 2
}
