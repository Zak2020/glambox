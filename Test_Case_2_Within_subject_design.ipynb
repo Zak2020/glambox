{
 "cells": [
  {
   "cell_type": "code",
   "execution_count": 13,
   "metadata": {},
   "outputs": [
    {
     "name": "stdout",
     "output_type": "stream",
     "text": [
      "The autoreload extension is already loaded. To reload it, use:\n",
      "  %reload_ext autoreload\n"
     ]
    }
   ],
   "source": [
    "import numpy as np\n",
    "import pandas as pd\n",
    "\n",
    "import matplotlib.pyplot as plt\n",
    "%matplotlib inline \n",
    "\n",
    "from pymc3 import traceplot\n",
    "\n",
    "import glam\n",
    "\n",
    "%load_ext autoreload\n",
    "%autoreload 2"
   ]
  },
  {
   "cell_type": "markdown",
   "metadata": {},
   "source": [
    "# Test Case 2: Within-participant design\n",
    "\n",
    "In the second test case we demonstrate the use of the model for a within-participant design. Here, each participant performs multiple conditions that are hypothesized to affect participants' gaze bias $\\gamma$ and general processing speed $v$. There are four conditions in total:\n",
    "\n",
    "1. High Bias &  Fast Speed\n",
    "2. High Bias &  Slow Speed\n",
    "3. Low Bias & Fast Speed\n",
    "4. Low Bias & Slow Speed"
   ]
  },
  {
   "cell_type": "markdown",
   "metadata": {},
   "source": [
    "# Simulating data"
   ]
  },
  {
   "cell_type": "markdown",
   "metadata": {},
   "source": [
    "First, we simulate data of 20 participants, with 50 trials in each condition."
   ]
  },
  {
   "cell_type": "code",
   "execution_count": 15,
   "metadata": {},
   "outputs": [
    {
     "name": "stdout",
     "output_type": "stream",
     "text": [
      "high gamma mean: -0.518083149493\n",
      "low gamma mean: 0.547334278714\n",
      "fast v mean: 0.0001\n",
      "slow v mean: 6e-05\n"
     ]
    },
    {
     "data": {
      "text/html": [
       "<div>\n",
       "<style scoped>\n",
       "    .dataframe tbody tr th:only-of-type {\n",
       "        vertical-align: middle;\n",
       "    }\n",
       "\n",
       "    .dataframe tbody tr th {\n",
       "        vertical-align: top;\n",
       "    }\n",
       "\n",
       "    .dataframe thead th {\n",
       "        text-align: right;\n",
       "    }\n",
       "</style>\n",
       "<table border=\"1\" class=\"dataframe\">\n",
       "  <thead>\n",
       "    <tr style=\"text-align: right;\">\n",
       "      <th></th>\n",
       "      <th>choice</th>\n",
       "      <th>repeat</th>\n",
       "      <th>rt</th>\n",
       "      <th>subject</th>\n",
       "      <th>trial</th>\n",
       "      <th>item_value_0</th>\n",
       "      <th>gaze_0</th>\n",
       "      <th>item_value_1</th>\n",
       "      <th>gaze_1</th>\n",
       "      <th>item_value_2</th>\n",
       "      <th>gaze_2</th>\n",
       "      <th>condition</th>\n",
       "    </tr>\n",
       "  </thead>\n",
       "  <tbody>\n",
       "    <tr>\n",
       "      <th>0</th>\n",
       "      <td>0.0</td>\n",
       "      <td>0.0</td>\n",
       "      <td>1560.0</td>\n",
       "      <td>0.0</td>\n",
       "      <td>0.0</td>\n",
       "      <td>7</td>\n",
       "      <td>0.525801</td>\n",
       "      <td>6</td>\n",
       "      <td>0.316297</td>\n",
       "      <td>7</td>\n",
       "      <td>0.157902</td>\n",
       "      <td>high_fast</td>\n",
       "    </tr>\n",
       "    <tr>\n",
       "      <th>1</th>\n",
       "      <td>1.0</td>\n",
       "      <td>0.0</td>\n",
       "      <td>871.0</td>\n",
       "      <td>0.0</td>\n",
       "      <td>1.0</td>\n",
       "      <td>9</td>\n",
       "      <td>0.391448</td>\n",
       "      <td>1</td>\n",
       "      <td>0.540411</td>\n",
       "      <td>5</td>\n",
       "      <td>0.068141</td>\n",
       "      <td>high_fast</td>\n",
       "    </tr>\n",
       "    <tr>\n",
       "      <th>2</th>\n",
       "      <td>2.0</td>\n",
       "      <td>0.0</td>\n",
       "      <td>1430.0</td>\n",
       "      <td>0.0</td>\n",
       "      <td>2.0</td>\n",
       "      <td>7</td>\n",
       "      <td>0.264177</td>\n",
       "      <td>5</td>\n",
       "      <td>0.298670</td>\n",
       "      <td>9</td>\n",
       "      <td>0.437154</td>\n",
       "      <td>high_fast</td>\n",
       "    </tr>\n",
       "    <tr>\n",
       "      <th>3</th>\n",
       "      <td>2.0</td>\n",
       "      <td>0.0</td>\n",
       "      <td>1653.0</td>\n",
       "      <td>0.0</td>\n",
       "      <td>3.0</td>\n",
       "      <td>7</td>\n",
       "      <td>0.029875</td>\n",
       "      <td>2</td>\n",
       "      <td>0.396976</td>\n",
       "      <td>6</td>\n",
       "      <td>0.573149</td>\n",
       "      <td>high_fast</td>\n",
       "    </tr>\n",
       "    <tr>\n",
       "      <th>4</th>\n",
       "      <td>1.0</td>\n",
       "      <td>0.0</td>\n",
       "      <td>1487.0</td>\n",
       "      <td>0.0</td>\n",
       "      <td>4.0</td>\n",
       "      <td>4</td>\n",
       "      <td>0.302952</td>\n",
       "      <td>8</td>\n",
       "      <td>0.395592</td>\n",
       "      <td>4</td>\n",
       "      <td>0.301456</td>\n",
       "      <td>high_fast</td>\n",
       "    </tr>\n",
       "  </tbody>\n",
       "</table>\n",
       "</div>"
      ],
      "text/plain": [
       "   choice  repeat      rt  subject  trial  item_value_0    gaze_0  \\\n",
       "0     0.0     0.0  1560.0      0.0    0.0             7  0.525801   \n",
       "1     1.0     0.0   871.0      0.0    1.0             9  0.391448   \n",
       "2     2.0     0.0  1430.0      0.0    2.0             7  0.264177   \n",
       "3     2.0     0.0  1653.0      0.0    3.0             7  0.029875   \n",
       "4     1.0     0.0  1487.0      0.0    4.0             4  0.302952   \n",
       "\n",
       "   item_value_1    gaze_1  item_value_2    gaze_2  condition  \n",
       "0             6  0.316297             7  0.157902  high_fast  \n",
       "1             1  0.540411             5  0.068141  high_fast  \n",
       "2             5  0.298670             9  0.437154  high_fast  \n",
       "3             2  0.396976             6  0.573149  high_fast  \n",
       "4             8  0.395592             4  0.301456  high_fast  "
      ]
     },
     "execution_count": 15,
     "metadata": {},
     "output_type": "execute_result"
    }
   ],
   "source": [
    "# Set the random seed, so that we can re-create exactly the same data, if we need to\n",
    "np.random.seed(3)\n",
    "\n",
    "# Setup up the GLAM instance\n",
    "model = glam.GLAM()\n",
    "\n",
    "# There are 20 participants in total\n",
    "N = 20\n",
    "\n",
    "# Every participant performed 100 trials of each condition\n",
    "n_trials = 250\n",
    "n_items = 3\n",
    "\n",
    "# The conditions differ in their mean gaze-bias parameter\n",
    "gamma = dict(high=np.clip(np.random.normal(loc=-0.5, scale=0.2, size=N), -1.0, 1.0),\n",
    "             low=np.clip(np.random.normal(loc=0.6, scale=0.2, size=N), -1.0, 1.0))\n",
    "print('high gamma mean:', gamma['high'].mean())\n",
    "print('low gamma mean:', gamma['low'].mean())\n",
    "\n",
    "# and processing speed\n",
    "v = dict(fast=np.clip(np.random.normal(loc=0.0001, scale=0.00001, size=N), 1e-6, 0.01),\n",
    "         slow=np.clip(np.random.normal(loc=0.00006, scale=0.00001, size=N), 1e-6, 0.01))\n",
    "print('fast v mean:', v['fast'].mean().round(5))\n",
    "print('slow v mean:', v['slow'].mean().round(5))\n",
    "\n",
    "# other parameters are constant across conditions:\n",
    "s = np.clip(np.random.normal(loc=0.008, scale=0.002, size=N), 1e-8, 0.02)\n",
    "tau = np.clip(np.random.normal(loc=0.8, scale=0.05, size=N), 0.1, 3)\n",
    "t0 = np.zeros(N)\n",
    "\n",
    "# We now simulate data for each group, using the specific group details, we set up\n",
    "for bias in ['high', 'low']:\n",
    "    for speed in ['fast', 'slow']:\n",
    "        model.simulate_group(kind='individual',\n",
    "                             n_individuals=N,\n",
    "                             parameters=dict(gamma=gamma[bias],\n",
    "                                             v=v[speed],\n",
    "                                             s=s,\n",
    "                                             tau=tau,\n",
    "                                             t0=t0),\n",
    "                             n_items=n_items,\n",
    "                             n_trials=n_trials,\n",
    "                             label=bias + '_' + speed,\n",
    "                             individual_idx=np.arange(N)) # note the use of the individual_idx keyword, to simulate within-participant data\n",
    "\n",
    "model.data.head()"
   ]
  },
  {
   "cell_type": "code",
   "execution_count": 16,
   "metadata": {},
   "outputs": [
    {
     "data": {
      "text/plain": [
       "(array([ 2.,  1.,  1.,  2.,  3.,  2.,  3.,  1.,  2.,  3.]),\n",
       " array([  4.60423650e-05,   4.93771069e-05,   5.27118489e-05,\n",
       "          5.60465909e-05,   5.93813328e-05,   6.27160748e-05,\n",
       "          6.60508168e-05,   6.93855587e-05,   7.27203007e-05,\n",
       "          7.60550426e-05,   7.93897846e-05]),\n",
       " <a list of 10 Patch objects>)"
      ]
     },
     "execution_count": 16,
     "metadata": {},
     "output_type": "execute_result"
    },
    {
     "data": {
      "image/png": "[encoded data removed]",
      "text/plain": [
       "<matplotlib.figure.Figure at 0x1c1da396a0>"
      ]
     },
     "metadata": {},
     "output_type": "display_data"
    }
   ],
   "source": [
    "plt.hist(v['fast'])\n",
    "plt.hist(v['slow'])"
   ]
  },
  {
   "cell_type": "code",
   "execution_count": 17,
   "metadata": {},
   "outputs": [
    {
     "data": {
      "text/plain": [
       "(array([ 1.,  1.,  4.,  1.,  2.,  1.,  3.,  3.,  2.,  2.]),\n",
       " array([ 0.73532317,  0.74851581,  0.76170846,  0.7749011 ,  0.78809375,\n",
       "         0.8012864 ,  0.81447904,  0.82767169,  0.84086433,  0.85405698,\n",
       "         0.86724962]),\n",
       " <a list of 10 Patch objects>)"
      ]
     },
     "execution_count": 17,
     "metadata": {},
     "output_type": "execute_result"
    },
    {
     "data": {
      "image/png": "[encoded data removed]",
      "text/plain": [
       "<matplotlib.figure.Figure at 0x1c1da60ba8>"
      ]
     },
     "metadata": {},
     "output_type": "display_data"
    }
   ],
   "source": [
    "plt.hist(tau)"
   ]
  },
  {
   "cell_type": "code",
   "execution_count": 19,
   "metadata": {},
   "outputs": [
    {
     "data": {
      "text/plain": [
       "(array([ 1.,  0.,  0.,  4.,  5.,  3.,  4.,  1.,  1.,  1.]),\n",
       " array([ 0.00216852,  0.0031833 ,  0.00419808,  0.00521286,  0.00622763,\n",
       "         0.00724241,  0.00825719,  0.00927197,  0.01028674,  0.01130152,\n",
       "         0.0123163 ]),\n",
       " <a list of 10 Patch objects>)"
      ]
     },
     "execution_count": 19,
     "metadata": {},
     "output_type": "execute_result"
    },
    {
     "data": {
      "image/png": "[encoded data removed]",
      "text/plain": [
       "<matplotlib.figure.Figure at 0x1c1d823748>"
      ]
     },
     "metadata": {},
     "output_type": "display_data"
    }
   ],
   "source": [
    "plt.hist(s)"
   ]
  },
  {
   "cell_type": "markdown",
   "metadata": {},
   "source": [
    "The simulation method currently does not support direct coding of multiple-factor designs. The `condition` variable in the data frame currently codes both factors and therefore needs to be split into two columns:"
   ]
  },
  {
   "cell_type": "code",
   "execution_count": 20,
   "metadata": {},
   "outputs": [
    {
     "data": {
      "text/html": [
       "<div>\n",
       "<style scoped>\n",
       "    .dataframe tbody tr th:only-of-type {\n",
       "        vertical-align: middle;\n",
       "    }\n",
       "\n",
       "    .dataframe tbody tr th {\n",
       "        vertical-align: top;\n",
       "    }\n",
       "\n",
       "    .dataframe thead th {\n",
       "        text-align: right;\n",
       "    }\n",
       "</style>\n",
       "<table border=\"1\" class=\"dataframe\">\n",
       "  <thead>\n",
       "    <tr style=\"text-align: right;\">\n",
       "      <th></th>\n",
       "      <th>choice</th>\n",
       "      <th>repeat</th>\n",
       "      <th>rt</th>\n",
       "      <th>subject</th>\n",
       "      <th>trial</th>\n",
       "      <th>item_value_0</th>\n",
       "      <th>gaze_0</th>\n",
       "      <th>item_value_1</th>\n",
       "      <th>gaze_1</th>\n",
       "      <th>item_value_2</th>\n",
       "      <th>gaze_2</th>\n",
       "      <th>condition</th>\n",
       "      <th>bias</th>\n",
       "      <th>speed</th>\n",
       "    </tr>\n",
       "  </thead>\n",
       "  <tbody>\n",
       "    <tr>\n",
       "      <th>0</th>\n",
       "      <td>0.0</td>\n",
       "      <td>0.0</td>\n",
       "      <td>1560.0</td>\n",
       "      <td>0.0</td>\n",
       "      <td>0.0</td>\n",
       "      <td>7</td>\n",
       "      <td>0.525801</td>\n",
       "      <td>6</td>\n",
       "      <td>0.316297</td>\n",
       "      <td>7</td>\n",
       "      <td>0.157902</td>\n",
       "      <td>high_fast</td>\n",
       "      <td>high</td>\n",
       "      <td>fast</td>\n",
       "    </tr>\n",
       "    <tr>\n",
       "      <th>1</th>\n",
       "      <td>1.0</td>\n",
       "      <td>0.0</td>\n",
       "      <td>871.0</td>\n",
       "      <td>0.0</td>\n",
       "      <td>1.0</td>\n",
       "      <td>9</td>\n",
       "      <td>0.391448</td>\n",
       "      <td>1</td>\n",
       "      <td>0.540411</td>\n",
       "      <td>5</td>\n",
       "      <td>0.068141</td>\n",
       "      <td>high_fast</td>\n",
       "      <td>high</td>\n",
       "      <td>fast</td>\n",
       "    </tr>\n",
       "    <tr>\n",
       "      <th>2</th>\n",
       "      <td>2.0</td>\n",
       "      <td>0.0</td>\n",
       "      <td>1430.0</td>\n",
       "      <td>0.0</td>\n",
       "      <td>2.0</td>\n",
       "      <td>7</td>\n",
       "      <td>0.264177</td>\n",
       "      <td>5</td>\n",
       "      <td>0.298670</td>\n",
       "      <td>9</td>\n",
       "      <td>0.437154</td>\n",
       "      <td>high_fast</td>\n",
       "      <td>high</td>\n",
       "      <td>fast</td>\n",
       "    </tr>\n",
       "    <tr>\n",
       "      <th>3</th>\n",
       "      <td>2.0</td>\n",
       "      <td>0.0</td>\n",
       "      <td>1653.0</td>\n",
       "      <td>0.0</td>\n",
       "      <td>3.0</td>\n",
       "      <td>7</td>\n",
       "      <td>0.029875</td>\n",
       "      <td>2</td>\n",
       "      <td>0.396976</td>\n",
       "      <td>6</td>\n",
       "      <td>0.573149</td>\n",
       "      <td>high_fast</td>\n",
       "      <td>high</td>\n",
       "      <td>fast</td>\n",
       "    </tr>\n",
       "    <tr>\n",
       "      <th>4</th>\n",
       "      <td>1.0</td>\n",
       "      <td>0.0</td>\n",
       "      <td>1487.0</td>\n",
       "      <td>0.0</td>\n",
       "      <td>4.0</td>\n",
       "      <td>4</td>\n",
       "      <td>0.302952</td>\n",
       "      <td>8</td>\n",
       "      <td>0.395592</td>\n",
       "      <td>4</td>\n",
       "      <td>0.301456</td>\n",
       "      <td>high_fast</td>\n",
       "      <td>high</td>\n",
       "      <td>fast</td>\n",
       "    </tr>\n",
       "  </tbody>\n",
       "</table>\n",
       "</div>"
      ],
      "text/plain": [
       "   choice  repeat      rt  subject  trial  item_value_0    gaze_0  \\\n",
       "0     0.0     0.0  1560.0      0.0    0.0             7  0.525801   \n",
       "1     1.0     0.0   871.0      0.0    1.0             9  0.391448   \n",
       "2     2.0     0.0  1430.0      0.0    2.0             7  0.264177   \n",
       "3     2.0     0.0  1653.0      0.0    3.0             7  0.029875   \n",
       "4     1.0     0.0  1487.0      0.0    4.0             4  0.302952   \n",
       "\n",
       "   item_value_1    gaze_1  item_value_2    gaze_2  condition  bias speed  \n",
       "0             6  0.316297             7  0.157902  high_fast  high  fast  \n",
       "1             1  0.540411             5  0.068141  high_fast  high  fast  \n",
       "2             5  0.298670             9  0.437154  high_fast  high  fast  \n",
       "3             2  0.396976             6  0.573149  high_fast  high  fast  \n",
       "4             8  0.395592             4  0.301456  high_fast  high  fast  "
      ]
     },
     "execution_count": 20,
     "metadata": {},
     "output_type": "execute_result"
    }
   ],
   "source": [
    "model.data['bias'], model.data['speed'] = model.data['condition'].str.split('_', 1).str\n",
    "model.data.head()"
   ]
  },
  {
   "cell_type": "markdown",
   "metadata": {},
   "source": [
    "# Exploring data"
   ]
  },
  {
   "cell_type": "markdown",
   "metadata": {},
   "source": [
    "Next, we look at the behavioral data, by plotting the data separately for the speed & bias conditions. The aggregate data are plotted in black, whereas condition-specific data are plotted in color.\n",
    "\n",
    "From left to right, we see: (A) mean response times (in ms), (B) mean probability of choosing the left item as a function of the item's liking rating, (C) mean probability of choosing the left item as a function of the difference between the item's gaze and the mean gaze of all other items, (D) mean probability of choosing the left item as a function of the difference between the item's gaze and the mean gaze of all other items, when corrected for the influence of item rating on choice probability (for further details, see Thomas, Molter, Krajbich, Heekeren & Mohr, 2017)."
   ]
  },
  {
   "cell_type": "markdown",
   "metadata": {},
   "source": [
    "### Fast & Slow Speed"
   ]
  },
  {
   "cell_type": "markdown",
   "metadata": {},
   "source": [
    "As expected, the data data of both speed-conditions matchs in all analyses, except for the response times (panel A)."
   ]
  },
  {
   "cell_type": "code",
   "execution_count": 21,
   "metadata": {
    "scrolled": false
   },
   "outputs": [
    {
     "data": {
      "text/plain": [
       "(<matplotlib.figure.Figure at 0x1c1caae898>,\n",
       " array([<matplotlib.axes._subplots.AxesSubplot object at 0x1c1c54a160>,\n",
       "        <matplotlib.axes._subplots.AxesSubplot object at 0x1c1d493b70>,\n",
       "        <matplotlib.axes._subplots.AxesSubplot object at 0x1c1db746d8>,\n",
       "        <matplotlib.axes._subplots.AxesSubplot object at 0x1c1d4c4b70>], dtype=object))"
      ]
     },
     "execution_count": 21,
     "metadata": {},
     "output_type": "execute_result"
    },
    {
     "data": {
      "image/png": "[encoded data removed]",
      "text/plain": [
       "<matplotlib.figure.Figure at 0x1c1caae898>"
      ]
     },
     "metadata": {},
     "output_type": "display_data"
    }
   ],
   "source": [
    "glam.plot_fit(model.data, [model.data[model.data['speed'] == 'fast'],\n",
    "                           model.data[model.data['speed'] == 'slow']],\n",
    "              prediction_labels=['fast', 'slow'])"
   ]
  },
  {
   "cell_type": "markdown",
   "metadata": {},
   "source": [
    "### High & Low Bias"
   ]
  },
  {
   "cell_type": "markdown",
   "metadata": {},
   "source": [
    "Similarly, the data  in both bias-conditions matches in response times, but differs in all analysis of the gaze bias (C - D). \n",
    "\n",
    "Interestingly, there is also a substantial difference between both bias-groups in their probability of choosing an item, given the item's rating value (B). This relationship can be explained as follows: if (1) an individual's choices are strongly dependent on the allocation of gaze during the decision process, and (2) the gaze of the individual is allocated independent of the items' rating values, then the effect of item rating on the individuals' choices can be suppressed by the strong association of gaze and choice. Therefore, we expect individuals to have a lower association of item rating and choice, if their association of gaze and choice is strong and their gaze is distributed independent of item rating."
   ]
  },
  {
   "cell_type": "code",
   "execution_count": 22,
   "metadata": {},
   "outputs": [
    {
     "data": {
      "text/plain": [
       "(<matplotlib.figure.Figure at 0x1c1cabad68>,\n",
       " array([<matplotlib.axes._subplots.AxesSubplot object at 0x1c1d372a90>,\n",
       "        <matplotlib.axes._subplots.AxesSubplot object at 0x1c1e7b1710>,\n",
       "        <matplotlib.axes._subplots.AxesSubplot object at 0x1c1e9752e8>,\n",
       "        <matplotlib.axes._subplots.AxesSubplot object at 0x1c1d426fd0>], dtype=object))"
      ]
     },
     "execution_count": 22,
     "metadata": {},
     "output_type": "execute_result"
    },
    {
     "data": {
      "image/png": "[encoded data removed]",
      "text/plain": [
       "<matplotlib.figure.Figure at 0x1c1cabad68>"
      ]
     },
     "metadata": {},
     "output_type": "display_data"
    }
   ],
   "source": [
    "glam.plot_fit(model.data, [model.data[model.data['bias'] == 'high'],\n",
    "                           model.data[model.data['bias'] == 'low']],\n",
    "              prediction_labels=['high-bias', 'low-bias'])"
   ]
  },
  {
   "cell_type": "markdown",
   "metadata": {},
   "source": [
    "# Model fitting\n",
    "\n",
    "### Model set up\n",
    "\n",
    "Next, we need to specify the exact model to fit to the data. We need to indicate that the gaze-bias parameter $\\gamma$ shall depend on the `bias` condition of our data, and the velocity parameter $v$ on the `speed` condition.\n",
    "\n",
    "We also have to choose whether we want to fit the model hierarchically to all of our participants, or to each individual participant alone. We choose the hierarchical model here."
   ]
  },
  {
   "cell_type": "code",
   "execution_count": 23,
   "metadata": {},
   "outputs": [
    {
     "name": "stdout",
     "output_type": "stream",
     "text": [
      "Generating hierarchical model for 20 subjects...\n"
     ]
    }
   ],
   "source": [
    "model.make_model(kind='hierarchical',\n",
    "                 depends_on=dict(gamma='bias',\n",
    "                                 v='speed'),\n",
    "                 t0_val=0) # we did not simulate any non-decision time and therefore fix t0 = 0"
   ]
  },
  {
   "cell_type": "markdown",
   "metadata": {},
   "source": [
    "### Parameter estimation\n",
    "\n",
    "The model is specified. Now the parameters can be estimated. `GLAMbox` implements the model as a `pymc3` model object, that can be fit with all fitting procedures included in `pymc3`. For large hierarchical models in particular, we made the experience that automatic differentiation variational inference (ADVI; Kucukelbir,  Ranganath, Gelman & Blei, 2015) performs well and fast."
   ]
  },
  {
   "cell_type": "code",
   "execution_count": 24,
   "metadata": {},
   "outputs": [
    {
     "name": "stdout",
     "output_type": "stream",
     "text": [
      "Fitting 1 model(s) using ADVI...\n",
      "  Fitting model 1 of 1...\n"
     ]
    },
    {
     "name": "stderr",
     "output_type": "stream",
     "text": [
      "Average Loss = 1.6628e+05:  84%|████████▍ | 42102/50000 [30:34<05:44, 22.95it/s]\n",
      "Interrupted at 42,102 [84%]: Average Loss = 1.7289e+05\n"
     ]
    },
    {
     "name": "stdout",
     "output_type": "stream",
     "text": [
      "/!\\ Automatically setting parameter precision...\n"
     ]
    }
   ],
   "source": [
    "model.fit(method='ADVI', n_advi=50000)"
   ]
  },
  {
   "cell_type": "markdown",
   "metadata": {},
   "source": [
    "## Analysis\n",
    "\n",
    "### Parameter recovery\n",
    "\n",
    "Now that the model parameters are estimated, we want to test whether the model properly recovered the group-specific condition parameters (i.e. $v$ and $\\gamma$). \n",
    "\n",
    "After fitting, the `GLAM` model instance automatically extracts posterior modes for every estimated parameter. However, in order to make full use of the Bayesian parameter estimation procedure, the `pymc3` trace object is also attached to the model instance (note that in the case of variational inference, this trace is simply being sampled using the estimated variational parameters. It is not the result of an MCMC algorithm, as would be obtained if estimation would have been done using traditional sampling techniques like Metropolis or NUTS sampling).\n",
    "\n",
    "Nevertheless, we see that the model correctly estimates and separates our empricial gaze-biase (i.e. $\\gamma$) group means."
   ]
  },
  {
   "cell_type": "code",
   "execution_count": 32,
   "metadata": {},
   "outputs": [
    {
     "data": {
      "text/plain": [
       "Text(0.5,1,'Posterior of $\\\\gamma$ group means')"
      ]
     },
     "execution_count": 32,
     "metadata": {},
     "output_type": "execute_result"
    },
    {
     "data": {
      "image/png": "[encoded data removed]",
      "text/plain": [
       "<matplotlib.figure.Figure at 0x1c2a030d68>"
      ]
     },
     "metadata": {},
     "output_type": "display_data"
    }
   ],
   "source": [
    "bins = np.linspace(-1, 1, 100)\n",
    "\n",
    "fig, ax = plt.subplots()\n",
    "\n",
    "for i, bias in enumerate(['high', 'low']):\n",
    "    ax.hist(model.trace['gamma_{}_mu'.format(bias)], bins=bins,\n",
    "            histtype='stepfilled', alpha=0.5, color='C{}'.format(i),\n",
    "            label=bias, normed=True)\n",
    "    \n",
    "    ax.axvline(gamma[bias].mean(), color='C{}'.format(i))\n",
    "    \n",
    "ax.legend(frameon=False)\n",
    "ax.set_xlabel(r'$\\gamma$')\n",
    "ax.set_ylabel('Posterior probability')\n",
    "ax.set_title(r'Posterior of $\\gamma$ group means')"
   ]
  },
  {
   "cell_type": "markdown",
   "metadata": {},
   "source": [
    "Similarly, we see that the model correctly estimates and separates our empricial speed (i.e. $v$) group means."
   ]
  },
  {
   "cell_type": "code",
   "execution_count": 33,
   "metadata": {},
   "outputs": [
    {
     "data": {
      "text/plain": [
       "Text(0.5,1,'Posterior of $v$ group means')"
      ]
     },
     "execution_count": 33,
     "metadata": {},
     "output_type": "execute_result"
    },
    {
     "data": {
      "image/png": "[encoded data removed]",
      "text/plain": [
       "<matplotlib.figure.Figure at 0x1c2a0f19e8>"
      ]
     },
     "metadata": {},
     "output_type": "display_data"
    }
   ],
   "source": [
    "bins = np.linspace(0, 0.0002, 100)\n",
    "\n",
    "fig, ax = plt.subplots()\n",
    "\n",
    "for i, speed in enumerate(['fast', 'slow']):\n",
    "    ax.hist(model.trace['v_{}_mu'.format(speed)], bins=bins,\n",
    "            histtype='stepfilled', alpha=0.5, color='C{}'.format(i),\n",
    "            label=speed, normed=True)\n",
    "    \n",
    "    ax.axvline(v[speed].mean(), color='C{}'.format(i))\n",
    "    \n",
    "ax.legend(frameon=False)\n",
    "ax.set_xlabel(r'$v$')\n",
    "ax.set_ylabel('Posterior probability')\n",
    "ax.set_title(r'Posterior of $v$ group means')"
   ]
  },
  {
   "cell_type": "code",
   "execution_count": 34,
   "metadata": {},
   "outputs": [
    {
     "data": {
      "text/plain": [
       "Text(0.5,1,'Posterior of $\\\\tau$ group means')"
      ]
     },
     "execution_count": 34,
     "metadata": {},
     "output_type": "execute_result"
    },
    {
     "data": {
      "image/png": "[encoded data removed]",
      "text/plain": [
       "<matplotlib.figure.Figure at 0x1c2a07fa90>"
      ]
     },
     "metadata": {},
     "output_type": "display_data"
    }
   ],
   "source": [
    "bins = np.linspace(0, 2, 100)\n",
    "\n",
    "fig, ax = plt.subplots()\n",
    "\n",
    "ax.hist(model.trace['tau_mu'], bins=bins,\n",
    "        histtype='stepfilled', alpha=0.5,\n",
    "        normed=True)\n",
    "\n",
    "ax.axvline(tau.mean())\n",
    "    \n",
    "ax.set_xlabel(r'$\\tau$')\n",
    "ax.set_ylabel('Posterior probability')\n",
    "ax.set_title(r'Posterior of $\\tau$ group means')"
   ]
  },
  {
   "cell_type": "code",
   "execution_count": 35,
   "metadata": {},
   "outputs": [
    {
     "data": {
      "text/plain": [
       "Text(0.5,1,'Posterior of $\\\\sigma$ group means')"
      ]
     },
     "execution_count": 35,
     "metadata": {},
     "output_type": "execute_result"
    },
    {
     "data": {
      "image/png": "[encoded data removed]",
      "text/plain": [
       "<matplotlib.figure.Figure at 0x1c29f84b38>"
      ]
     },
     "metadata": {},
     "output_type": "display_data"
    }
   ],
   "source": [
    "bins = np.linspace(0, 0.02, 100)\n",
    "\n",
    "fig, ax = plt.subplots()\n",
    "\n",
    "ax.hist(model.trace['s_mu'], bins=bins,\n",
    "        histtype='stepfilled', alpha=0.5,\n",
    "        normed=True)\n",
    "\n",
    "ax.axvline(s.mean())\n",
    "\n",
    "ax.set_xlabel(r'$\\sigma$')\n",
    "ax.set_ylabel('Posterior probability')\n",
    "ax.set_title(r'Posterior of $\\sigma$ group means')"
   ]
  },
  {
   "cell_type": "markdown",
   "metadata": {},
   "source": [
    "### Prediction\n",
    "\n",
    "Next, we can test the aboslute fit of the estimated model, by simulating response data with our parameter estimates and plotting them against the previously simulated data that was used to estimate the model parameters."
   ]
  },
  {
   "cell_type": "code",
   "execution_count": 12,
   "metadata": {},
   "outputs": [
    {
     "ename": "NotImplementedError",
     "evalue": "The following does not work because our prediction function does not index parameter by condition.",
     "output_type": "error",
     "traceback": [
      "\u001b[0;31m---------------------------------------------------------------------------\u001b[0m",
      "\u001b[0;31mNotImplementedError\u001b[0m                       Traceback (most recent call last)",
      "\u001b[0;32m<ipython-input-12-ee2d849ce749>\u001b[0m in \u001b[0;36m<module>\u001b[0;34m()\u001b[0m\n\u001b[0;32m----> 1\u001b[0;31m \u001b[0;32mraise\u001b[0m \u001b[0mNotImplementedError\u001b[0m\u001b[0;34m(\u001b[0m\u001b[0;34m'The following does not work because our prediction function does not index parameter by condition.'\u001b[0m\u001b[0;34m)\u001b[0m\u001b[0;34m\u001b[0m\u001b[0m\n\u001b[0m",
      "\u001b[0;31mNotImplementedError\u001b[0m: The following does not work because our prediction function does not index parameter by condition."
     ]
    }
   ],
   "source": [
    "raise NotImplementedError('The following does not work because our prediction function does not index parameter by condition.')"
   ]
  },
  {
   "cell_type": "code",
   "execution_count": null,
   "metadata": {},
   "outputs": [],
   "source": [
    "# for the simulation, we repeat each trial of the original dataset 10 times.\n",
    "model.predict(n_repeats=10)\n",
    "predicted_data = model.predictions\n",
    "\n",
    "model.prediction.head()"
   ]
  },
  {
   "cell_type": "markdown",
   "metadata": {},
   "source": [
    "### Goodnes of fit\n",
    "\n",
    "To test the goodness of fit of these predictions, we again plot the predicted data against our original data. This time, separately within each of the 4 conditoins"
   ]
  },
  {
   "cell_type": "markdown",
   "metadata": {},
   "source": [
    "#### High Bias & Fast Speed"
   ]
  },
  {
   "cell_type": "code",
   "execution_count": null,
   "metadata": {},
   "outputs": [],
   "source": [
    "glam.plot_fit(model.data[np.logical_and(model.data['speed'] == 'fast',\n",
    "                                        model.data['bias'] == 'high')],\n",
    "              [model.predictions[np.logical_and(model.predictions['speed'] == 'fast',\n",
    "                                                model.predictions['bias'] == 'high')]])"
   ]
  },
  {
   "cell_type": "markdown",
   "metadata": {},
   "source": [
    "#### High Bias & Slow Speed"
   ]
  },
  {
   "cell_type": "code",
   "execution_count": null,
   "metadata": {},
   "outputs": [],
   "source": [
    "glam.plot_fit(model.data[np.logical_and(model.data['speed'] == 'slow',\n",
    "                                        model.data['bias'] == 'high')],\n",
    "              [model.predictions[np.logical_and(model.predictions['speed'] == 'slow',\n",
    "                                                model.predictions['bias'] == 'high')]])"
   ]
  },
  {
   "cell_type": "markdown",
   "metadata": {},
   "source": [
    "#### Low Bias & Fast Speed"
   ]
  },
  {
   "cell_type": "code",
   "execution_count": null,
   "metadata": {},
   "outputs": [],
   "source": [
    "glam.plot_fit(model.data[np.logical_and(model.data['speed'] == 'fast',\n",
    "                                        model.data['bias'] == 'low')],\n",
    "              [model.predictions[np.logical_and(model.predictions['speed'] == 'fast',\n",
    "                                                model.predictions['bias'] == 'low')]])"
   ]
  },
  {
   "cell_type": "markdown",
   "metadata": {},
   "source": [
    "#### Low Bias & Slow Speed"
   ]
  },
  {
   "cell_type": "code",
   "execution_count": null,
   "metadata": {},
   "outputs": [],
   "source": [
    "glam.plot_fit(model.data[np.logical_and(model.data['speed'] == 'slow',\n",
    "                                        model.data['bias'] == 'low')],\n",
    "              [model.predictions[np.logical_and(model.predictions['speed'] == 'slow',\n",
    "                                                model.predictions['bias'] == 'low')]])"
   ]
  },
  {
   "cell_type": "markdown",
   "metadata": {},
   "source": [
    "# References\n",
    "\n",
    "- Kucukelbir, A., Ranganath, R., Gelman, A., & Blei, D. M. (2015). Automatic Variational Inference in Stan. ArXiv:1506.03431 [Stat]. Retrieved from http://arxiv.org/abs/1506.03431\n",
    "\n",
    "- Armin W. Thomas & Felix Molter, Ian Krajbich, Hauke R. Heekeren, Peter N. C. Mohr (2017)\n",
    "bioRxiv 228825; doi: https://doi.org/10.1101/228825"
   ]
  },
  {
   "cell_type": "code",
   "execution_count": null,
   "metadata": {},
   "outputs": [],
   "source": []
  }
 ],
 "metadata": {
  "kernelspec": {
   "display_name": "Python 3",
   "language": "python",
   "name": "python3"
  },
  "language_info": {
   "codemirror_mode": {
    "name": "ipython",
    "version": 3
   },
   "file_extension": ".py",
   "mimetype": "text/x-python",
   "name": "python",
   "nbconvert_exporter": "python",
   "pygments_lexer": "ipython3",
   "version": "3.6.4"
  }
 },
 "nbformat": 4,
 "nbformat_minor": 2
}
