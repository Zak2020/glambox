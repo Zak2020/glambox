{
 "cells": [
  {
   "cell_type": "code",
   "execution_count": 1,
   "metadata": {},
   "outputs": [],
   "source": [
    "import numpy as np\n",
    "import pandas as pd\n",
    "import pymc3 as pm\n",
    "import matplotlib.pyplot as plt\n",
    "%matplotlib inline\n",
    "import seaborn as sns\n",
    "sns.set_style('ticks')\n",
    "sns.set_context('paper')\n",
    "\n",
    "import glam as gb\n",
    "\n",
    "%load_ext autoreload\n",
    "%autoreload 2"
   ]
  },
  {
   "cell_type": "code",
   "execution_count": 2,
   "metadata": {},
   "outputs": [
    {
     "data": {
      "text/html": [
       "<div>\n",
       "<style scoped>\n",
       "    .dataframe tbody tr th:only-of-type {\n",
       "        vertical-align: middle;\n",
       "    }\n",
       "\n",
       "    .dataframe tbody tr th {\n",
       "        vertical-align: top;\n",
       "    }\n",
       "\n",
       "    .dataframe thead th {\n",
       "        text-align: right;\n",
       "    }\n",
       "</style>\n",
       "<table border=\"1\" class=\"dataframe\">\n",
       "  <thead>\n",
       "    <tr style=\"text-align: right;\">\n",
       "      <th></th>\n",
       "      <th>subject</th>\n",
       "      <th>v</th>\n",
       "      <th>gamma</th>\n",
       "      <th>s</th>\n",
       "      <th>tau</th>\n",
       "    </tr>\n",
       "  </thead>\n",
       "  <tbody>\n",
       "    <tr>\n",
       "      <th>0</th>\n",
       "      <td>39</td>\n",
       "      <td>0.000121</td>\n",
       "      <td>0.31</td>\n",
       "      <td>0.007088</td>\n",
       "      <td>0.33</td>\n",
       "    </tr>\n",
       "    <tr>\n",
       "      <th>1</th>\n",
       "      <td>40</td>\n",
       "      <td>0.000063</td>\n",
       "      <td>0.30</td>\n",
       "      <td>0.008777</td>\n",
       "      <td>0.55</td>\n",
       "    </tr>\n",
       "    <tr>\n",
       "      <th>2</th>\n",
       "      <td>41</td>\n",
       "      <td>0.000073</td>\n",
       "      <td>0.81</td>\n",
       "      <td>0.008888</td>\n",
       "      <td>0.65</td>\n",
       "    </tr>\n",
       "    <tr>\n",
       "      <th>3</th>\n",
       "      <td>42</td>\n",
       "      <td>0.000078</td>\n",
       "      <td>-0.17</td>\n",
       "      <td>0.008498</td>\n",
       "      <td>0.98</td>\n",
       "    </tr>\n",
       "    <tr>\n",
       "      <th>4</th>\n",
       "      <td>43</td>\n",
       "      <td>0.000063</td>\n",
       "      <td>0.65</td>\n",
       "      <td>0.006610</td>\n",
       "      <td>0.47</td>\n",
       "    </tr>\n",
       "  </tbody>\n",
       "</table>\n",
       "</div>"
      ],
      "text/plain": [
       "   subject         v  gamma         s   tau\n",
       "0       39  0.000121   0.31  0.007088  0.33\n",
       "1       40  0.000063   0.30  0.008777  0.55\n",
       "2       41  0.000073   0.81  0.008888  0.65\n",
       "3       42  0.000078  -0.17  0.008498  0.98\n",
       "4       43  0.000063   0.65  0.006610  0.47"
      ]
     },
     "execution_count": 2,
     "metadata": {},
     "output_type": "execute_result"
    }
   ],
   "source": [
    "## Load Krajbich & Rangel (2011) dataset estimates from Thomas, Molter et al. (2019)\n",
    "kr2011 = pd.read_csv('examples/KR2011_GLAM_estimates_in_sample.csv')\n",
    "kr2011.head()"
   ]
  },
  {
   "cell_type": "code",
   "execution_count": 3,
   "metadata": {},
   "outputs": [
    {
     "data": {
      "text/html": [
       "<div>\n",
       "<style scoped>\n",
       "    .dataframe tbody tr th:only-of-type {\n",
       "        vertical-align: middle;\n",
       "    }\n",
       "\n",
       "    .dataframe tbody tr th {\n",
       "        vertical-align: top;\n",
       "    }\n",
       "\n",
       "    .dataframe thead th {\n",
       "        text-align: right;\n",
       "    }\n",
       "</style>\n",
       "<table border=\"1\" class=\"dataframe\">\n",
       "  <thead>\n",
       "    <tr style=\"text-align: right;\">\n",
       "      <th></th>\n",
       "      <th>subject</th>\n",
       "      <th>trial</th>\n",
       "      <th>repeat</th>\n",
       "      <th>choice</th>\n",
       "      <th>rt</th>\n",
       "      <th>item_value_0</th>\n",
       "      <th>gaze_0</th>\n",
       "      <th>item_value_1</th>\n",
       "      <th>gaze_1</th>\n",
       "      <th>item_value_2</th>\n",
       "      <th>gaze_2</th>\n",
       "      <th>group</th>\n",
       "    </tr>\n",
       "  </thead>\n",
       "  <tbody>\n",
       "    <tr>\n",
       "      <th>0</th>\n",
       "      <td>0.0</td>\n",
       "      <td>0.0</td>\n",
       "      <td>0.0</td>\n",
       "      <td>0.0</td>\n",
       "      <td>1316.0</td>\n",
       "      <td>5</td>\n",
       "      <td>0.459175</td>\n",
       "      <td>0</td>\n",
       "      <td>0.379466</td>\n",
       "      <td>3</td>\n",
       "      <td>0.161359</td>\n",
       "      <td>group1</td>\n",
       "    </tr>\n",
       "    <tr>\n",
       "      <th>1</th>\n",
       "      <td>0.0</td>\n",
       "      <td>1.0</td>\n",
       "      <td>0.0</td>\n",
       "      <td>2.0</td>\n",
       "      <td>1235.0</td>\n",
       "      <td>3</td>\n",
       "      <td>0.389115</td>\n",
       "      <td>7</td>\n",
       "      <td>0.189588</td>\n",
       "      <td>9</td>\n",
       "      <td>0.421297</td>\n",
       "      <td>group1</td>\n",
       "    </tr>\n",
       "    <tr>\n",
       "      <th>2</th>\n",
       "      <td>0.0</td>\n",
       "      <td>2.0</td>\n",
       "      <td>0.0</td>\n",
       "      <td>1.0</td>\n",
       "      <td>1771.0</td>\n",
       "      <td>3</td>\n",
       "      <td>0.269665</td>\n",
       "      <td>5</td>\n",
       "      <td>0.409055</td>\n",
       "      <td>2</td>\n",
       "      <td>0.321280</td>\n",
       "      <td>group1</td>\n",
       "    </tr>\n",
       "  </tbody>\n",
       "</table>\n",
       "</div>"
      ],
      "text/plain": [
       "   subject  trial  repeat  choice      rt  item_value_0    gaze_0  \\\n",
       "0      0.0    0.0     0.0     0.0  1316.0             5  0.459175   \n",
       "1      0.0    1.0     0.0     2.0  1235.0             3  0.389115   \n",
       "2      0.0    2.0     0.0     1.0  1771.0             3  0.269665   \n",
       "\n",
       "   item_value_1    gaze_1  item_value_2    gaze_2   group  \n",
       "0             0  0.379466             3  0.161359  group1  \n",
       "1             7  0.189588             9  0.421297  group1  \n",
       "2             5  0.409055             2  0.321280  group1  "
      ]
     },
     "execution_count": 3,
     "metadata": {},
     "output_type": "execute_result"
    }
   ],
   "source": [
    "## Simulate a clinical dataset, with small groups and few trials\n",
    "## Each individual's parameter set is sampled from the Krajbich & Rangel (2011) estimates, so that they are realistic\n",
    "## Except for the gaze bias parameter gamma, which we explicitly vary between the groups.\n",
    "\n",
    "np.random.seed(1751)\n",
    "\n",
    "groups = ['group1', 'group2', 'group3']\n",
    "\n",
    "# Sample sizes\n",
    "N = dict(group1=5,\n",
    "         group2=10,\n",
    "         group3=15)\n",
    "\n",
    "# Mean gaze bias parameters for each group\n",
    "gamma_mu = dict(group1=0.7,     # weak bias\n",
    "                group2=0.1,     # medium-strong bias\n",
    "                group3=-0.5)    # very strong bias with leak\n",
    "\n",
    "# Sample parameter sets from KR2011 estimates\n",
    "group_idx = {group: np.random.choice(np.arange(len(kr2011)), size=N[group], replace=False)\n",
    "             for group in groups}\n",
    "v = {group: kr2011.loc[group_idx[group], 'v'].values\n",
    "     for group in groups}\n",
    "s = {group: kr2011.loc[group_idx[group], 's'].values\n",
    "     for group in groups}\n",
    "tau = {group: kr2011.loc[group_idx[group], 'tau'].values\n",
    "       for group in groups}\n",
    "# Draw normally distributed gaze bias parameters (truncated to be ≤ 1)\n",
    "gamma = dict(group1=np.clip(np.random.normal(loc=gamma_mu['group1'], scale=0.3, size=N['group1']), a_min=None, a_max=1),\n",
    "             group2=np.clip(np.random.normal(loc=gamma_mu['group2'], scale=0.2, size=N['group2']), a_min=None, a_max=1),\n",
    "             group3=np.clip(np.random.normal(loc=gamma_mu['group3'], scale=0.3, size=N['group3']), a_min=None, a_max=1))\n",
    "\n",
    "# Set the number of trials and items in the task\n",
    "n_trials = 50\n",
    "n_items  = 3\n",
    "\n",
    "# Simulate the data using GLAM\n",
    "glam = gb.GLAM()\n",
    "for g, group in enumerate(groups):\n",
    "    glam.simulate_group(kind='individual',\n",
    "                        n_individuals=N[group],\n",
    "                        n_trials=n_trials,\n",
    "                        n_items=n_items,\n",
    "                        parameters=dict(v=v[group],\n",
    "                                        gamma=gamma[group],\n",
    "                                        s=s[group],\n",
    "                                        tau=tau[group],\n",
    "                                        t0=np.zeros(N[group])),\n",
    "                        label=group,\n",
    "                        seed=g)\n",
    "\n",
    "data = glam.data.copy()\n",
    "data.rename({'condition': 'group'}, axis=1, inplace=True)\n",
    "data.to_csv('examples/example_2/data/data.csv', index=False)\n",
    "data.head(3)"
   ]
  },
  {
   "cell_type": "code",
   "execution_count": null,
   "metadata": {},
   "outputs": [
    {
     "data": {
      "image/png": "[encoded data removed]",
      "text/plain": [
       "<Figure size 510.236x141.732 with 4 Axes>"
      ]
     },
     "metadata": {
      "needs_background": "light"
     },
     "output_type": "display_data"
    }
   ],
   "source": [
    "## Plot data generating parameters\n",
    "from string import ascii_uppercase\n",
    "\n",
    "fontsize = 7\n",
    "n_bins = 10\n",
    "\n",
    "group_names = ['Group 1', 'Group 2', 'Group 3']\n",
    "\n",
    "fig, axs = plt.subplots(1, 4, figsize=gb.plots.cm2inch(18, 5), sharey=True)\n",
    "for p, (parameter, parameter_name, bins) in enumerate(\n",
    "    zip([v, s, gamma, tau],\n",
    "        [r'$v$', r'$\\sigma$', r'$\\gamma$', r'$\\tau$'],\n",
    "        [np.linspace(0, 0.0002, n_bins + 1),\n",
    "         np.linspace(0, 0.02, n_bins + 1),\n",
    "         np.linspace(-2, 1, n_bins + 1),\n",
    "         np.linspace(0, 2, n_bins + 1)])):\n",
    "    for g, (group, name) in enumerate(zip(groups, group_names)):\n",
    "        axs[p].hist(parameter[group],\n",
    "                    bins=bins,\n",
    "                    color='C{}'.format(g),\n",
    "                    label=name,\n",
    "                    alpha=0.5)\n",
    "        axs[p].set_xlabel(parameter_name)\n",
    "        axs[p].set_ylabel('Frequency', fontsize=fontsize)\n",
    "        axs[p].spines['top'].set_visible(False)\n",
    "        axs[p].spines['right'].set_visible(False)\n",
    "\n",
    "for ax, letter in zip(axs, ascii_uppercase):\n",
    "    # Show ticklabels, despite sharey=True\n",
    "    ax.yaxis.set_tick_params(labelbottom=True)\n",
    "    ax.text(-0.2, 1.1,\n",
    "            letter,\n",
    "            transform=ax.transAxes,\n",
    "            fontweight='bold',\n",
    "            va='top',\n",
    "            ha='right',\n",
    "            fontsize=fontsize)\n",
    "    ax.tick_params(axis='both', which='major', labelsize=fontsize)\n",
    "\n",
    "axs[-1].legend(frameon=False, fontsize=fontsize)\n",
    "fig.tight_layout()\n",
    "plt.savefig('examples/example_2/figures/generating_parameters.png', dpi=330)"
   ]
  },
  {
   "cell_type": "code",
   "execution_count": null,
   "metadata": {},
   "outputs": [
    {
     "name": "stdout",
     "output_type": "stream",
     "text": [
      "v\n",
      "group1 vs group2\t Ttest_indResult(statistic=-0.35037217001564336, pvalue=0.7316713185392455)\n",
      "group1 vs group3\t Ttest_indResult(statistic=0.5249311631156552, pvalue=0.6060368335354323)\n",
      "group2 vs group3\t Ttest_indResult(statistic=0.9907257643729441, pvalue=0.33212854186194674)\n",
      "gamma\n",
      "group1 vs group2\t Ttest_indResult(statistic=6.4021176850791575, pvalue=2.3355862858023058e-05)\n",
      "group1 vs group3\t Ttest_indResult(statistic=6.8208382105890335, pvalue=2.193832426730825e-06)\n",
      "group2 vs group3\t Ttest_indResult(statistic=4.837346716941595, pvalue=6.985175866537608e-05)\n",
      "s\n",
      "group1 vs group2\t Ttest_indResult(statistic=0.755249267056832, pvalue=0.4635639436073751)\n",
      "group1 vs group3\t Ttest_indResult(statistic=0.0912626451561753, pvalue=0.9282918625643286)\n",
      "group2 vs group3\t Ttest_indResult(statistic=-0.7074562833962458, pvalue=0.486390266204882)\n",
      "tau\n",
      "group1 vs group2\t Ttest_indResult(statistic=-0.9174839311576268, pvalue=0.3755970768329623)\n",
      "group1 vs group3\t Ttest_indResult(statistic=-1.6117169976963737, pvalue=0.12441894324499903)\n",
      "group2 vs group3\t Ttest_indResult(statistic=-0.8441205573134932, pvalue=0.4072965378926052)\n"
     ]
    }
   ],
   "source": [
    "## Check if the generating parameters, due to sampling, differ between groups, other than the gaze bias\n",
    "from scipy.stats import ttest_ind\n",
    "\n",
    "parameters = ['v', 'gamma', 's', 'tau']\n",
    "comparisons=[('group1', 'group2'),\n",
    "             ('group1', 'group3'),\n",
    "             ('group2', 'group3')]\n",
    "\n",
    "for p, parameter in zip([v, gamma, s, tau], ['v', 'gamma', 's', 'tau']):\n",
    "    print(parameter)\n",
    "    for comparison in comparisons:\n",
    "        g1, g2 = comparison\n",
    "        print('{} vs {}\\t'.format(g1, g2), ttest_ind(p[g1], p[g2]))"
   ]
  },
  {
   "cell_type": "code",
   "execution_count": null,
   "metadata": {},
   "outputs": [
    {
     "name": "stderr",
     "output_type": "stream",
     "text": [
      "/Users/felixmolter/anaconda3/lib/python3.7/site-packages/numpy/core/fromnumeric.py:2389: FutureWarning: Method .ptp is deprecated and will be removed in a future version. Use numpy.ptp instead.\n",
      "  return ptp(axis=axis, out=out, **kwargs)\n",
      "/Users/felixmolter/anaconda3/lib/python3.7/site-packages/numpy/core/fromnumeric.py:2389: FutureWarning: Method .ptp is deprecated and will be removed in a future version. Use numpy.ptp instead.\n",
      "  return ptp(axis=axis, out=out, **kwargs)\n",
      "/Users/felixmolter/anaconda3/lib/python3.7/site-packages/numpy/core/fromnumeric.py:2389: FutureWarning: Method .ptp is deprecated and will be removed in a future version. Use numpy.ptp instead.\n",
      "  return ptp(axis=axis, out=out, **kwargs)\n",
      "/Users/felixmolter/anaconda3/lib/python3.7/site-packages/numpy/core/fromnumeric.py:2389: FutureWarning: Method .ptp is deprecated and will be removed in a future version. Use numpy.ptp instead.\n",
      "  return ptp(axis=axis, out=out, **kwargs)\n"
     ]
    },
    {
     "data": {
      "image/png": "[encoded data removed]",
      "text/plain": [
       "<Figure size 864x216 with 4 Axes>"
      ]
     },
     "metadata": {
      "needs_background": "light"
     },
     "output_type": "display_data"
    }
   ],
   "source": [
    "## Plot aggregate data across groups and for each group separately, to visualize behavioural differences between groups\n",
    "gb.plots.plot_aggregate(bar_data=data,\n",
    "                        line_data=[data.loc[data['group'] == group] for group in groups],\n",
    "                        line_labels=group_names,\n",
    "                        value_bins=7, gaze_bins=7);\n",
    "sns.despine()\n",
    "plt.savefig('examples/example_2/figures/aggregate_data.png', dp=330)"
   ]
  },
  {
   "cell_type": "code",
   "execution_count": null,
   "metadata": {},
   "outputs": [
    {
     "name": "stdout",
     "output_type": "stream",
     "text": [
      "Generating hierarchical model for 30 subjects...\n"
     ]
    },
    {
     "name": "stderr",
     "output_type": "stream",
     "text": [
      "/Users/felixmolter/anaconda3/lib/python3.7/site-packages/theano/tensor/subtensor.py:2197: FutureWarning: Using a non-tuple sequence for multidimensional indexing is deprecated; use `arr[tuple(seq)]` instead of `arr[seq]`. In the future this will be interpreted as an array index, `arr[np.array(seq)]`, which will result either in an error or a different result.\n",
      "  rval = inputs[0].__getitem__(inputs[1:])\n"
     ]
    }
   ],
   "source": [
    "hglam = gb.GLAM(data=data)\n",
    "hglam.make_model(kind='hierarchical',\n",
    "                 depends_on=dict(v='group',\n",
    "                                 gamma='group',\n",
    "                                 s='group',\n",
    "                                 tau='group'))"
   ]
  },
  {
   "cell_type": "code",
   "execution_count": null,
   "metadata": {},
   "outputs": [],
   "source": [
    "np.random.seed(1802)\n",
    "hglam.fit(method='MCMC',\n",
    "          draws=10000, tune=90000,\n",
    "          random_seed=1802)"
   ]
  },
  {
   "cell_type": "code",
   "execution_count": null,
   "metadata": {},
   "outputs": [],
   "source": [
    "hglam.estimates.to_csv('examples/example_2/results/estimates.csv', index=False)"
   ]
  },
  {
   "cell_type": "code",
   "execution_count": null,
   "metadata": {
    "scrolled": false
   },
   "outputs": [],
   "source": [
    "from traceplot import traceplot\n",
    "traceplot(hglam.trace[0],\n",
    "          varnames=['v_group1_mu', 'v_group2_mu', 'v_group3_mu',\n",
    "                    'gamma_group1_mu', 'gamma_group2_mu', 'gamma_group3_mu',\n",
    "                    's_group1_mu', 's_group2_mu', 's_group3_mu',\n",
    "                    'tau_group1_mu', 'tau_group2_mu', 'tau_group3_mu'],\n",
    "          ref_val=dict(v_group1_mu=v['group1'].mean(),\n",
    "                       v_group2_mu=v['group2'].mean(),\n",
    "                       v_group3_mu=v['group3'].mean(),\n",
    "                       gamma_group3_mu=gamma['group3'].mean(),\n",
    "                       gamma_group1_mu=gamma['group1'].mean(),\n",
    "                       gamma_group2_mu=gamma['group2'].mean(),\n",
    "                       s_group3_mu=s['group3'].mean(),\n",
    "                       s_group1_mu=s['group1'].mean(),\n",
    "                       s_group2_mu=s['group2'].mean(),\n",
    "                       tau_group3_mu=tau['group3'].mean(),\n",
    "                       tau_group1_mu=tau['group1'].mean(),\n",
    "                       tau_group2_mu=tau['group2'].mean()))\n",
    "plt.savefig('examples/example_2/figures/traceplot.png', dpi=330)"
   ]
  },
  {
   "cell_type": "code",
   "execution_count": null,
   "metadata": {},
   "outputs": [],
   "source": [
    "sns.set_style('ticks')\n",
    "sns.set_context('paper')\n",
    "parameters = ['v', 'gamma', 's', 'tau']\n",
    "comparisons=[('group1', 'group2'),\n",
    "             ('group1', 'group3'),\n",
    "             ('group2', 'group3')]\n",
    "\n",
    "gb.plots.plot_node_hierarchical(hglam,\n",
    "                                parameters=parameters,\n",
    "                                comparisons=comparisons);\n",
    "plt.savefig('examples/example_2/figures/node_comparison.png', dpi=330)"
   ]
  },
  {
   "cell_type": "code",
   "execution_count": null,
   "metadata": {},
   "outputs": [],
   "source": []
  }
 ],
 "metadata": {
  "kernelspec": {
   "display_name": "Python 3",
   "language": "python",
   "name": "python3"
  },
  "language_info": {
   "codemirror_mode": {
    "name": "ipython",
    "version": 3
   },
   "file_extension": ".py",
   "mimetype": "text/x-python",
   "name": "python",
   "nbconvert_exporter": "python",
   "pygments_lexer": "ipython3",
   "version": "3.7.3"
  },
  "toc": {
   "colors": {
    "hover_highlight": "#DAA520",
    "running_highlight": "#FF0000",
    "selected_highlight": "#FFD700"
   },
   "moveMenuLeft": true,
   "nav_menu": {
    "height": "138px",
    "width": "252px"
   },
   "navigate_menu": true,
   "number_sections": false,
   "sideBar": true,
   "threshold": 4,
   "toc_cell": false,
   "toc_section_display": "block",
   "toc_window_display": false,
   "widenNotebook": false
  }
 },
 "nbformat": 4,
 "nbformat_minor": 2
}
