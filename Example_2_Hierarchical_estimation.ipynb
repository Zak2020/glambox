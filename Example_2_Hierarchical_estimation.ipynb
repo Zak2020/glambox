{
 "cells": [
  {
   "cell_type": "code",
   "execution_count": null,
   "metadata": {},
   "outputs": [],
   "source": [
    "import numpy as np\n",
    "import pandas as pd\n",
    "import pymc3 as pm\n",
    "import matplotlib.pyplot as plt\n",
    "%matplotlib inline\n",
    "import seaborn as sns\n",
    "sns.set_style('ticks')\n",
    "sns.set_context('paper')\n",
    "\n",
    "import glambox as gb\n",
    "\n",
    "%load_ext autoreload\n",
    "%autoreload 2"
   ]
  },
  {
   "cell_type": "code",
   "execution_count": null,
   "metadata": {},
   "outputs": [],
   "source": [
    "## Load Krajbich & Rangel (2011) dataset estimates from Thomas, Molter et al. (2019)\n",
    "estimates = pd.read_csv('resources/individual_estimates_sec_nhb2019.csv')\n",
    "kr2011 = estimates.loc[estimates['dataset'] == 'krajbich2011']\n",
    "kr2011.head()"
   ]
  },
  {
   "cell_type": "code",
   "execution_count": null,
   "metadata": {},
   "outputs": [],
   "source": [
    "## Simulate a clinical dataset, with small groups and few trials\n",
    "## Each individual's parameter set is sampled from the Krajbich & Rangel (2011) estimates, so that they are realistic\n",
    "## Except for the gaze bias parameter gamma, which we explicitly vary between the groups.\n",
    "\n",
    "np.random.seed(1751)\n",
    "\n",
    "groups = ['group1', 'group2', 'group3']\n",
    "\n",
    "# Sample sizes\n",
    "N = dict(group1=5,\n",
    "         group2=10,\n",
    "         group3=15)\n",
    "\n",
    "# Mean gaze bias parameters for each group\n",
    "gamma_mu = dict(group1=0.7,     # weak bias\n",
    "                group2=0.1,     # medium-strong bias\n",
    "                group3=-0.5)    # very strong bias with leak\n",
    "\n",
    "# Sample parameter sets from KR2011 estimates\n",
    "group_idx = {group: np.random.choice(kr2011.index, size=N[group], replace=False)\n",
    "             for group in groups}\n",
    "v = {group: kr2011.loc[group_idx[group], 'v'].values\n",
    "     for group in groups}\n",
    "s = {group: kr2011.loc[group_idx[group], 's'].values\n",
    "     for group in groups}\n",
    "tau = {group: kr2011.loc[group_idx[group], 'tau'].values\n",
    "       for group in groups}\n",
    "# Draw normally distributed gaze bias parameters (truncated to be ≤ 1)\n",
    "gamma = dict(group1=np.clip(np.random.normal(loc=gamma_mu['group1'], scale=0.3, size=N['group1']), a_min=None, a_max=1),\n",
    "             group2=np.clip(np.random.normal(loc=gamma_mu['group2'], scale=0.2, size=N['group2']), a_min=None, a_max=1),\n",
    "             group3=np.clip(np.random.normal(loc=gamma_mu['group3'], scale=0.3, size=N['group3']), a_min=None, a_max=1))\n",
    "\n",
    "# Set the number of trials and items in the task\n",
    "n_trials = 50\n",
    "n_items  = 3\n",
    "\n",
    "# Simulate the data using GLAM\n",
    "glam = gb.GLAM()\n",
    "for g, group in enumerate(groups):\n",
    "    glam.simulate_group(kind='individual',\n",
    "                        n_individuals=N[group],\n",
    "                        n_trials=n_trials,\n",
    "                        n_items=n_items,\n",
    "                        parameters=dict(v=v[group],\n",
    "                                        gamma=gamma[group],\n",
    "                                        s=s[group],\n",
    "                                        tau=tau[group],\n",
    "                                        t0=np.zeros(N[group])),\n",
    "                        label=group,\n",
    "                        seed=g)\n",
    "\n",
    "data = glam.data.copy()\n",
    "data.rename({'condition': 'group'}, axis=1, inplace=True)\n",
    "data.to_csv('examples/example_2/data/data.csv', index=False)\n",
    "data.head(3)"
   ]
  },
  {
   "cell_type": "code",
   "execution_count": null,
   "metadata": {},
   "outputs": [],
   "source": [
    "## Plot data generating parameters\n",
    "from string import ascii_uppercase\n",
    "\n",
    "fontsize = 7\n",
    "n_bins = 10\n",
    "\n",
    "fig, axs = plt.subplots(4, 4, figsize=gb.plots.cm2inch(18, 9), sharex='col', dpi=330)\n",
    "\n",
    "for p, (parameter, parameter_name, bins) in enumerate(\n",
    "    zip([v, s, gamma, tau],\n",
    "        [r'$v$', r'$\\sigma$', r'$\\gamma$', r'$\\tau$'],\n",
    "        [np.linspace(0, 2, n_bins + 1),\n",
    "         np.linspace(0, 0.5, n_bins + 1),\n",
    "         np.linspace(-2, 1, n_bins + 1),\n",
    "         np.linspace(0, 2, n_bins + 1)])):\n",
    "    # Pooled\n",
    "    axs[0, p].hist(np.concatenate([parameter[group] for group in groups]),\n",
    "                   bins=bins,\n",
    "                   color='black',\n",
    "                   alpha=0.5)\n",
    "    axs[0, p].set_ylim(0, 20)\n",
    "    axs[0, p].set_yticks([0, 10, 20])\n",
    "    axs[0, p].set_title(parameter_name, fontsize=fontsize, fontweight='bold')\n",
    "    if p == 0:\n",
    "        axs[0, p].set_ylabel(r'$\\bf{Pooled}$' + '\\n\\nFreq.', fontsize=fontsize)\n",
    "\n",
    "    # Groups\n",
    "    for g, group in enumerate(groups):\n",
    "        axs[g + 1, p].hist(parameter[group],\n",
    "                           bins=bins,\n",
    "                           color='C{}'.format(g),\n",
    "                           alpha=0.7)\n",
    "        axs[g + 1, p].set_ylim(0, 1)\n",
    "        axs[g + 1, p].set_yticks([0, 5, 10])\n",
    "        if p == 0:\n",
    "            axs[g + 1, p].set_ylabel(r'$\\bf{Group}$ ' + r'$\\bf{{{g}}}$'.format(g=(g + 1)) + '\\n\\nFreq.',\n",
    "                                     fontsize=fontsize)\n",
    "\n",
    "    axs[g + 1, p].set_xlabel(parameter_name, fontsize=fontsize)\n",
    "    \n",
    "for ax, letter in zip(axs.ravel(), ascii_uppercase):\n",
    "    # Show ticklabels, despite sharey=True\n",
    "    ax.xaxis.set_tick_params(labelbottom=True)\n",
    "    ax.yaxis.set_tick_params(labelbottom=True)\n",
    "    ax.tick_params(axis='both', which='major', labelsize=fontsize)\n",
    "\n",
    "sns.despine()\n",
    "    \n",
    "fig.tight_layout(pad=1.02)\n",
    "\n",
    "plt.savefig('examples/example_2/figures/generating_parameters.png', dpi=330)"
   ]
  },
  {
   "cell_type": "code",
   "execution_count": null,
   "metadata": {},
   "outputs": [],
   "source": [
    "## Check if the generating parameters, due to sampling, differ between groups, other than the gaze bias\n",
    "from scipy.stats import ttest_ind\n",
    "\n",
    "parameters = ['v', 'gamma', 's', 'tau']\n",
    "comparisons=[('group1', 'group2'),\n",
    "             ('group1', 'group3'),\n",
    "             ('group2', 'group3')]\n",
    "\n",
    "for p, parameter in zip([v, gamma, s, tau], ['v', 'gamma', 's', 'tau']):\n",
    "    print(parameter)\n",
    "    for comparison in comparisons:\n",
    "        g1, g2 = comparison\n",
    "        print('{} vs {}\\t'.format(g1, g2), ttest_ind(p[g1], p[g2]))"
   ]
  },
  {
   "cell_type": "code",
   "execution_count": null,
   "metadata": {},
   "outputs": [],
   "source": [
    "data.groupby('group').apply(gb.analysis.aggregate_group_level_data, n_items=n_items)"
   ]
  },
  {
   "cell_type": "code",
   "execution_count": null,
   "metadata": {},
   "outputs": [],
   "source": [
    "## Plot aggregate data across groups and for each group separately, to visualize behavioural differences between groups\n",
    "gb.plots.plot_aggregate(bar_data=data,\n",
    "                        line_data=[data.loc[data['group'] == group] for group in groups],\n",
    "                        line_labels=['Group 1', 'Group 2', 'Group 3'],\n",
    "                        value_bins=7, gaze_bins=7,\n",
    "                        limits=dict(rt=(0, 5)));\n",
    "sns.despine()\n",
    "plt.savefig('examples/example_2/figures/aggregate_data.png', dp=330)"
   ]
  },
  {
   "cell_type": "code",
   "execution_count": null,
   "metadata": {},
   "outputs": [],
   "source": [
    "hglam = gb.GLAM(data=data)\n",
    "hglam.make_model(kind='hierarchical',\n",
    "                 depends_on=dict(v='group',\n",
    "                                 gamma='group',\n",
    "                                 s='group',\n",
    "                                 tau='group'))"
   ]
  },
  {
   "cell_type": "code",
   "execution_count": null,
   "metadata": {},
   "outputs": [],
   "source": [
    "np.random.seed(1958)\n",
    "hglam.fit(method='MCMC',\n",
    "          draws=10000, tune=90000,\n",
    "          random_seed=1958)"
   ]
  },
  {
   "cell_type": "code",
   "execution_count": null,
   "metadata": {},
   "outputs": [],
   "source": [
    "hglam.estimates.to_csv('examples/example_2/results/estimates.csv', index=False)"
   ]
  },
  {
   "cell_type": "code",
   "execution_count": null,
   "metadata": {},
   "outputs": [],
   "source": [
    "variables = [v for v in hglam.trace[0].varnames\n",
    "             if not v.endswith('__')\n",
    "             and not v in ['b', 'p_error', 't0']]\n",
    "\n",
    "pm.summary(hglam.trace[0], var_names=variables).head()"
   ]
  },
  {
   "cell_type": "code",
   "execution_count": null,
   "metadata": {
    "scrolled": false
   },
   "outputs": [],
   "source": [
    "variables = [v for v in variables\n",
    "             if v.endswith('_mu')\n",
    "             or v.endswith('_sd')]\n",
    "gb.plots.traceplot(hglam.trace[0],\n",
    "          varnames=variables,\n",
    "          ref_val=dict(v_group1_mu=v['group1'].mean(),\n",
    "                       v_group2_mu=v['group2'].mean(),\n",
    "                       v_group3_mu=v['group3'].mean(),\n",
    "                       gamma_group3_mu=gamma['group3'].mean(),\n",
    "                       gamma_group1_mu=gamma['group1'].mean(),\n",
    "                       gamma_group2_mu=gamma['group2'].mean(),\n",
    "                       s_group3_mu=s['group3'].mean(),\n",
    "                       s_group1_mu=s['group1'].mean(),\n",
    "                       s_group2_mu=s['group2'].mean(),\n",
    "                       tau_group3_mu=tau['group3'].mean(),\n",
    "                       tau_group1_mu=tau['group1'].mean(),\n",
    "                       tau_group2_mu=tau['group2'].mean()))\n",
    "plt.savefig('examples/example_2/figures/traceplot.png', dpi=330)\n",
    "sns.despine()"
   ]
  },
  {
   "cell_type": "code",
   "execution_count": null,
   "metadata": {},
   "outputs": [],
   "source": [
    "parameters = ['v', 'gamma', 's', 'tau']\n",
    "comparisons=[('group1', 'group2'),\n",
    "             ('group1', 'group3'),\n",
    "             ('group2', 'group3')]\n",
    "\n",
    "fig, axs = gb.plots.plot_node_hierarchical(hglam,\n",
    "                                           parameters=parameters,\n",
    "                                           comparisons=comparisons);\n",
    "\n",
    "plt.savefig('examples/example_2/figures/node_comparison.png', dpi=330)"
   ]
  },
  {
   "cell_type": "code",
   "execution_count": null,
   "metadata": {},
   "outputs": [],
   "source": []
  }
 ],
 "metadata": {
  "kernelspec": {
   "display_name": "Python 3",
   "language": "python",
   "name": "python3"
  },
  "language_info": {
   "codemirror_mode": {
    "name": "ipython",
    "version": 3
   },
   "file_extension": ".py",
   "mimetype": "text/x-python",
   "name": "python",
   "nbconvert_exporter": "python",
   "pygments_lexer": "ipython3",
   "version": "3.7.3"
  },
  "toc": {
   "colors": {
    "hover_highlight": "#DAA520",
    "running_highlight": "#FF0000",
    "selected_highlight": "#FFD700"
   },
   "moveMenuLeft": true,
   "nav_menu": {
    "height": "138px",
    "width": "252px"
   },
   "navigate_menu": true,
   "number_sections": false,
   "sideBar": true,
   "threshold": 4,
   "toc_cell": false,
   "toc_section_display": "block",
   "toc_window_display": false,
   "widenNotebook": false
  }
 },
 "nbformat": 4,
 "nbformat_minor": 2
}
