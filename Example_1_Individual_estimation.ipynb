{
 "cells": [
  {
   "cell_type": "code",
   "execution_count": 1,
   "metadata": {
    "collapsed": false
   },
   "outputs": [
    {
     "name": "stderr",
     "output_type": "stream",
     "text": [
      "WARNING (theano.configdefaults): install mkl with `conda install mkl-service`: No module named 'mkl'\n"
     ]
    }
   ],
   "source": [
    "import os, errno\n",
    "\n",
    "import warnings\n",
    "warnings.simplefilter(action='ignore', category=FutureWarning)\n",
    "\n",
    "import numpy as np\n",
    "import pandas as pd\n",
    "from tqdm import tqdm\n",
    "import pymc3 as pm\n",
    "\n",
    "import matplotlib.pyplot as plt\n",
    "%matplotlib inline\n",
    "\n",
    "import glambox as gb"
   ]
  },
  {
   "cell_type": "code",
   "execution_count": 2,
   "metadata": {
    "collapsed": true
   },
   "outputs": [],
   "source": [
    "def make_sure_path_exists(path):\n",
    "    try:\n",
    "        os.makedirs(path)\n",
    "    except OSError as exception:\n",
    "        if exception.errno != errno.EEXIST:\n",
    "            raise"
   ]
  },
  {
   "cell_type": "code",
   "execution_count": 3,
   "metadata": {
    "collapsed": true
   },
   "outputs": [],
   "source": [
    "make_sure_path_exists('examples/example_1/figures/')\n",
    "make_sure_path_exists('examples/example_1/results/in_sample/traces/')\n",
    "make_sure_path_exists('examples/example_1/results/in_sample/model_comparison/')\n",
    "make_sure_path_exists('examples/example_1/results/out_of_sample/traces/')\n",
    "make_sure_path_exists('examples/example_1/results/out_of_sample/predictions/')"
   ]
  },
  {
   "cell_type": "markdown",
   "metadata": {},
   "source": [
    "# Example 1: Individual gaze biases"
   ]
  },
  {
   "cell_type": "markdown",
   "metadata": {
    "collapsed": true
   },
   "source": [
    "Our first example is based on the study by Thomas and colleagues (2019). Here, the authors study the association between gaze allocation and choice behaviour on the level of the individual. In particular, they explore whether (1) gaze biases are present on the individual level and (2) the strength of this association varies between individuals. In this example, we replicate this type of individual model-based analysis, including parameter estimation, comparison between multiple model variants, and out-of-sample prediction of choice and RT data."
   ]
  },
  {
   "cell_type": "markdown",
   "metadata": {},
   "source": [
    "### 1. Simulating data"
   ]
  },
  {
   "cell_type": "markdown",
   "metadata": {},
   "source": [
    "First, we simulate a dataset containing 30 subjects, each performing 300 simple value-based choice trials. We assume that in each trial participants are asked to choose the item that they like most out of a set of three presented alternatives (e.g., snack food items; similar to the task described in Krajbich & Rangel (2011)). While participants perform the task, their eye movements, choices and RTs are measured. Before completing the choice trials, participants were asked to indicate their liking rating for each of the items used in the choice task on a liking rating scale between 1 and 10 (with 10 indicating strong liking and 1 indicating little liking). The resulting dataset contains a liking value for each item in a trial, the participants' choice and RT, as well as the participant's gaze towards each item in a trial (describing the fraction of trial time that the participant spent looking at each item in the choice set)."
   ]
  },
  {
   "cell_type": "code",
   "execution_count": 4,
   "metadata": {
    "collapsed": true
   },
   "outputs": [],
   "source": [
    "n_subjects = 30\n",
    "subjects = np.arange(n_subjects)\n",
    "n_trials = 300\n",
    "n_items = 3"
   ]
  },
  {
   "cell_type": "markdown",
   "metadata": {},
   "source": [
    "To simulate individuals' response behaviour, we utilize the parameter estimates that were obtained by Thomas et al. (2019) for the individuals in the three item choice dataset by Krajbich & Rangel (2011) (for an overview, see Fig. S1 of the manuscript). Importantly, we assume that 10 individuals do not exhibit a gaze bias, meaning that their choices are independent of the time that they spend looking at each item. To this end, we set the $\\gamma$ value of ten randomly selected individuals to 1. We further assume that individuals' gaze is distributed randomly with respect to the values of the items in a choice set. "
   ]
  },
  {
   "cell_type": "code",
   "execution_count": 5,
   "metadata": {
    "collapsed": true
   },
   "outputs": [],
   "source": [
    "np.random.seed(1)\n",
    "\n",
    "# load empirical model parameters (taken from Thomas et al., 2019)\n",
    "estimates = pd.read_csv('resources/individual_estimates_sec_nhb2019.csv')\n",
    "kr2011 = estimates.loc[estimates['dataset'] == 'krajbich2011']\n",
    "gen_parameters = dict(v=kr2011['v'].values,\n",
    "                      gamma=kr2011['gamma'].values,\n",
    "                      s=kr2011['s'].values,\n",
    "                      tau=kr2011['tau'].values,\n",
    "                      t0=np.zeros(len(kr2011)))\n",
    "\n",
    "# define participants with no association between gaze and choice:\n",
    "no_gaze_bias_subjects = np.sort(np.random.choice(n_subjects, 10, replace=False))\n",
    "gaze_bias_subjects = np.array([s for s in subjects if s not in no_gaze_bias_subjects])\n",
    "gen_parameters['gamma'][no_gaze_bias_subjects] = 1"
   ]
  },
  {
   "cell_type": "markdown",
   "metadata": {},
   "source": [
    "The resulting distribution of generating model parameters looks as follows:"
   ]
  },
  {
   "cell_type": "code",
   "execution_count": 6,
   "metadata": {
    "collapsed": false
   },
   "outputs": [
    {
     "data": {
      "image/png": "[encoded data removed]",
      "text/plain": [
       "<Figure size 389.764x433.071 with 4 Axes>"
      ]
     },
     "metadata": {},
     "output_type": "display_data"
    }
   ],
   "source": [
    "fig, axs = plt.subplots(4, 1, figsize=gb.plots._plots_internal.cm2inch(9,10), dpi=110, sharex=True)\n",
    "\n",
    "for subject_set, color, label in zip([gaze_bias_subjects,\n",
    "                                      no_gaze_bias_subjects],\n",
    "                                      ['C0', 'C1'],\n",
    "                                      ['gaze-bias', 'no gaze-bias']):\n",
    "    # v\n",
    "    axs[0].scatter(subject_set,\n",
    "                   gen_parameters['v'][subject_set],\n",
    "                   color=color,\n",
    "                   s=10)\n",
    "    axs[0].set_ylabel(r'$v$', fontsize=7)\n",
    "    \n",
    "    # sigma\n",
    "    axs[1].scatter(subject_set,\n",
    "                   gen_parameters['s'][subject_set],\n",
    "                   color=color,\n",
    "                   s=10)\n",
    "    axs[1].set_ylabel(r'$\\sigma$', fontsize=7)\n",
    "\n",
    "    # gamma\n",
    "    axs[2].scatter(subject_set,\n",
    "                   gen_parameters['gamma'][subject_set],\n",
    "                   color=color,\n",
    "                   s=10)\n",
    "    axs[2].set_ylabel(r'$\\gamma$', fontsize=7)\n",
    "\n",
    "    # tau\n",
    "    axs[3].scatter(subject_set,\n",
    "                   gen_parameters['tau'][subject_set],\n",
    "                   color=color,\n",
    "                   label=label,\n",
    "                   s=10)\n",
    "    axs[3].set_ylabel(r'$\\tau$', fontsize=7)\n",
    "    axs[3].set_xlabel('Subject', fontsize=7)\n",
    "    \n",
    "\n",
    "axs[0].set_title('Generating GLAM parameters', fontsize=7)\n",
    "axs[0].set_ylim(-0.1, 1)\n",
    "axs[1].set_ylim(-0.1, 0.5)\n",
    "axs[2].set_ylim(-1.5, 1.2)\n",
    "axs[3].set_ylim(0, 5.1)\n",
    "axs[-1].legend(loc='upper left', frameon=True, fontsize=7)\n",
    "for ax in axs:\n",
    "    ax.spines['right'].set_visible(False)\n",
    "    ax.spines['top'].set_visible(False)\n",
    "    ax.tick_params(axis='both', which='major', labelsize=7)\n",
    "    ax.set_xticks([])\n",
    "    \n",
    "fig.tight_layout()\n",
    "fig.savefig('examples/example_1/figures/Supplementary_Figure_1_generating_parameters.png', dpi=330)"
   ]
  },
  {
   "cell_type": "markdown",
   "metadata": {},
   "source": [
    "These are the subjects that we defined as having no association of gaze allocation and choice behaviour:"
   ]
  },
  {
   "cell_type": "code",
   "execution_count": 7,
   "metadata": {
    "collapsed": false
   },
   "outputs": [
    {
     "data": {
      "text/plain": [
       "array([ 3, 10, 14, 17, 19, 20, 21, 22, 24, 26])"
      ]
     },
     "execution_count": 7,
     "metadata": {},
     "output_type": "execute_result"
    }
   ],
   "source": [
    "no_gaze_bias_subjects"
   ]
  },
  {
   "cell_type": "markdown",
   "metadata": {},
   "source": [
    "We first instantiate a GLAM model instance using `gb.GLAM()`and then use its `simulate_group` method. This method requires us to specify whether the individuals of the group are either simulated individually (and thereby independent of one another) or as part of a group with hierarchical parameter structure (where the individual model parameters are drawn from a group distribution, see below). For the former, the generating model parameters (indicated in the following as `gen_parameters`) are provided as a dictionary, containing a list of the individual participant values for each model parameter:"
   ]
  },
  {
   "cell_type": "code",
   "execution_count": 8,
   "metadata": {
    "collapsed": false,
    "scrolled": false
   },
   "outputs": [],
   "source": [
    "np.random.seed(2)\n",
    "\n",
    "glam = gb.GLAM()\n",
    "glam.simulate_group(kind='individual',\n",
    "                    n_individuals=n_subjects,\n",
    "                    n_trials=n_trials,\n",
    "                    n_items=n_items,\n",
    "                    parameters=gen_parameters,\n",
    "                    value_range=(1, 10))"
   ]
  },
  {
   "cell_type": "markdown",
   "metadata": {},
   "source": [
    "We can then access the simulated data as part of our GLAM model instance."
   ]
  },
  {
   "cell_type": "code",
   "execution_count": 9,
   "metadata": {
    "collapsed": false
   },
   "outputs": [],
   "source": [
    "data = glam.data.copy()"
   ]
  },
  {
   "cell_type": "code",
   "execution_count": 10,
   "metadata": {
    "collapsed": false
   },
   "outputs": [
    {
     "data": {
      "text/html": [
       "<div>\n",
       "<style scoped>\n",
       "    .dataframe tbody tr th:only-of-type {\n",
       "        vertical-align: middle;\n",
       "    }\n",
       "\n",
       "    .dataframe tbody tr th {\n",
       "        vertical-align: top;\n",
       "    }\n",
       "\n",
       "    .dataframe thead th {\n",
       "        text-align: right;\n",
       "    }\n",
       "</style>\n",
       "<table border=\"1\" class=\"dataframe\">\n",
       "  <thead>\n",
       "    <tr style=\"text-align: right;\">\n",
       "      <th></th>\n",
       "      <th>subject</th>\n",
       "      <th>trial</th>\n",
       "      <th>repeat</th>\n",
       "      <th>choice</th>\n",
       "      <th>rt</th>\n",
       "      <th>item_value_0</th>\n",
       "      <th>gaze_0</th>\n",
       "      <th>item_value_1</th>\n",
       "      <th>gaze_1</th>\n",
       "      <th>item_value_2</th>\n",
       "      <th>gaze_2</th>\n",
       "      <th>condition</th>\n",
       "    </tr>\n",
       "  </thead>\n",
       "  <tbody>\n",
       "    <tr>\n",
       "      <th>0</th>\n",
       "      <td>0.0</td>\n",
       "      <td>0.0</td>\n",
       "      <td>0.0</td>\n",
       "      <td>0.0</td>\n",
       "      <td>1.678472</td>\n",
       "      <td>9</td>\n",
       "      <td>0.649142</td>\n",
       "      <td>9</td>\n",
       "      <td>0.224745</td>\n",
       "      <td>7</td>\n",
       "      <td>0.126113</td>\n",
       "      <td>condition_0</td>\n",
       "    </tr>\n",
       "    <tr>\n",
       "      <th>1</th>\n",
       "      <td>0.0</td>\n",
       "      <td>1.0</td>\n",
       "      <td>0.0</td>\n",
       "      <td>2.0</td>\n",
       "      <td>1.307034</td>\n",
       "      <td>3</td>\n",
       "      <td>0.332040</td>\n",
       "      <td>9</td>\n",
       "      <td>0.312176</td>\n",
       "      <td>8</td>\n",
       "      <td>0.355783</td>\n",
       "      <td>condition_0</td>\n",
       "    </tr>\n",
       "    <tr>\n",
       "      <th>2</th>\n",
       "      <td>0.0</td>\n",
       "      <td>2.0</td>\n",
       "      <td>0.0</td>\n",
       "      <td>2.0</td>\n",
       "      <td>1.324605</td>\n",
       "      <td>3</td>\n",
       "      <td>0.423884</td>\n",
       "      <td>2</td>\n",
       "      <td>0.192437</td>\n",
       "      <td>6</td>\n",
       "      <td>0.383680</td>\n",
       "      <td>condition_0</td>\n",
       "    </tr>\n",
       "    <tr>\n",
       "      <th>3</th>\n",
       "      <td>0.0</td>\n",
       "      <td>3.0</td>\n",
       "      <td>0.0</td>\n",
       "      <td>1.0</td>\n",
       "      <td>1.145805</td>\n",
       "      <td>5</td>\n",
       "      <td>0.195771</td>\n",
       "      <td>5</td>\n",
       "      <td>0.454379</td>\n",
       "      <td>6</td>\n",
       "      <td>0.349851</td>\n",
       "      <td>condition_0</td>\n",
       "    </tr>\n",
       "    <tr>\n",
       "      <th>4</th>\n",
       "      <td>0.0</td>\n",
       "      <td>4.0</td>\n",
       "      <td>0.0</td>\n",
       "      <td>2.0</td>\n",
       "      <td>1.065713</td>\n",
       "      <td>8</td>\n",
       "      <td>0.209319</td>\n",
       "      <td>4</td>\n",
       "      <td>0.382790</td>\n",
       "      <td>7</td>\n",
       "      <td>0.407891</td>\n",
       "      <td>condition_0</td>\n",
       "    </tr>\n",
       "  </tbody>\n",
       "</table>\n",
       "</div>"
      ],
      "text/plain": [
       "   subject  trial  repeat  choice        rt  item_value_0    gaze_0  \\\n",
       "0      0.0    0.0     0.0     0.0  1.678472             9  0.649142   \n",
       "1      0.0    1.0     0.0     2.0  1.307034             3  0.332040   \n",
       "2      0.0    2.0     0.0     2.0  1.324605             3  0.423884   \n",
       "3      0.0    3.0     0.0     1.0  1.145805             5  0.195771   \n",
       "4      0.0    4.0     0.0     2.0  1.065713             8  0.209319   \n",
       "\n",
       "   item_value_1    gaze_1  item_value_2    gaze_2    condition  \n",
       "0             9  0.224745             7  0.126113  condition_0  \n",
       "1             9  0.312176             8  0.355783  condition_0  \n",
       "2             2  0.192437             6  0.383680  condition_0  \n",
       "3             5  0.454379             6  0.349851  condition_0  \n",
       "4             4  0.382790             7  0.407891  condition_0  "
      ]
     },
     "execution_count": 10,
     "metadata": {},
     "output_type": "execute_result"
    }
   ],
   "source": [
    "data.head()"
   ]
  },
  {
   "cell_type": "markdown",
   "metadata": {},
   "source": [
    "As this example is focused on the individual level, we can further create a summary table, describing individuals' response behaviour on three behavioural metrics, using the `aggregate_subject_level_data` function from the `analysis` module. The resulting table contains individuals' mean RT, their probability of choosing the item with the highest item value from a choice set and a behavioural measure of the strength of the association between individuals' gaze allocation and choice behaviour (indicating the mean increase in choice probability for an item that was fixated on longer than the others, after correcting for the influence of the item value on choice behaviour; for further details, see Thomas et al. (2019))."
   ]
  },
  {
   "cell_type": "code",
   "execution_count": 11,
   "metadata": {
    "collapsed": false
   },
   "outputs": [],
   "source": [
    "np.random.seed(3)\n",
    "\n",
    "subject_data_summary = gb.analysis.aggregate_subject_level_data(data, n_items)"
   ]
  },
  {
   "cell_type": "code",
   "execution_count": 12,
   "metadata": {
    "collapsed": false
   },
   "outputs": [
    {
     "data": {
      "text/html": [
       "<div>\n",
       "<style scoped>\n",
       "    .dataframe tbody tr th:only-of-type {\n",
       "        vertical-align: middle;\n",
       "    }\n",
       "\n",
       "    .dataframe tbody tr th {\n",
       "        vertical-align: top;\n",
       "    }\n",
       "\n",
       "    .dataframe thead tr th {\n",
       "        text-align: left;\n",
       "    }\n",
       "\n",
       "    .dataframe thead tr:last-of-type th {\n",
       "        text-align: right;\n",
       "    }\n",
       "</style>\n",
       "<table border=\"1\" class=\"dataframe\">\n",
       "  <thead>\n",
       "    <tr>\n",
       "      <th></th>\n",
       "      <th colspan=\"8\" halign=\"left\">rt</th>\n",
       "      <th>best_chosen</th>\n",
       "      <th>gaze_influence</th>\n",
       "    </tr>\n",
       "    <tr>\n",
       "      <th></th>\n",
       "      <th>mean</th>\n",
       "      <th>std</th>\n",
       "      <th>min</th>\n",
       "      <th>max</th>\n",
       "      <th>se</th>\n",
       "      <th>q1</th>\n",
       "      <th>q3</th>\n",
       "      <th>iqr</th>\n",
       "      <th>mean</th>\n",
       "      <th></th>\n",
       "    </tr>\n",
       "    <tr>\n",
       "      <th>subject</th>\n",
       "      <th></th>\n",
       "      <th></th>\n",
       "      <th></th>\n",
       "      <th></th>\n",
       "      <th></th>\n",
       "      <th></th>\n",
       "      <th></th>\n",
       "      <th></th>\n",
       "      <th></th>\n",
       "      <th></th>\n",
       "    </tr>\n",
       "  </thead>\n",
       "  <tbody>\n",
       "    <tr>\n",
       "      <th>0.0</th>\n",
       "      <td>1.292315</td>\n",
       "      <td>0.477199</td>\n",
       "      <td>0.142598</td>\n",
       "      <td>4.708733</td>\n",
       "      <td>0.027597</td>\n",
       "      <td>1.025087</td>\n",
       "      <td>1.458560</td>\n",
       "      <td>0.433473</td>\n",
       "      <td>0.750000</td>\n",
       "      <td>0.189652</td>\n",
       "    </tr>\n",
       "    <tr>\n",
       "      <th>1.0</th>\n",
       "      <td>2.040758</td>\n",
       "      <td>0.878345</td>\n",
       "      <td>0.523410</td>\n",
       "      <td>6.317563</td>\n",
       "      <td>0.050796</td>\n",
       "      <td>1.413609</td>\n",
       "      <td>2.499227</td>\n",
       "      <td>1.085618</td>\n",
       "      <td>0.716667</td>\n",
       "      <td>0.202899</td>\n",
       "    </tr>\n",
       "    <tr>\n",
       "      <th>2.0</th>\n",
       "      <td>1.742749</td>\n",
       "      <td>0.720414</td>\n",
       "      <td>0.137617</td>\n",
       "      <td>4.912813</td>\n",
       "      <td>0.041663</td>\n",
       "      <td>1.261841</td>\n",
       "      <td>2.002483</td>\n",
       "      <td>0.740643</td>\n",
       "      <td>0.856667</td>\n",
       "      <td>0.033876</td>\n",
       "    </tr>\n",
       "    <tr>\n",
       "      <th>3.0</th>\n",
       "      <td>1.427180</td>\n",
       "      <td>0.697514</td>\n",
       "      <td>0.062293</td>\n",
       "      <td>5.375163</td>\n",
       "      <td>0.040338</td>\n",
       "      <td>0.967926</td>\n",
       "      <td>1.705945</td>\n",
       "      <td>0.738018</td>\n",
       "      <td>0.936667</td>\n",
       "      <td>-0.006805</td>\n",
       "    </tr>\n",
       "    <tr>\n",
       "      <th>4.0</th>\n",
       "      <td>2.217397</td>\n",
       "      <td>0.755107</td>\n",
       "      <td>0.005503</td>\n",
       "      <td>4.586606</td>\n",
       "      <td>0.043669</td>\n",
       "      <td>1.662276</td>\n",
       "      <td>2.623872</td>\n",
       "      <td>0.961595</td>\n",
       "      <td>0.850000</td>\n",
       "      <td>0.062939</td>\n",
       "    </tr>\n",
       "  </tbody>\n",
       "</table>\n",
       "</div>"
      ],
      "text/plain": [
       "               rt                                                              \\\n",
       "             mean       std       min       max        se        q1        q3   \n",
       "subject                                                                         \n",
       "0.0      1.292315  0.477199  0.142598  4.708733  0.027597  1.025087  1.458560   \n",
       "1.0      2.040758  0.878345  0.523410  6.317563  0.050796  1.413609  2.499227   \n",
       "2.0      1.742749  0.720414  0.137617  4.912813  0.041663  1.261841  2.002483   \n",
       "3.0      1.427180  0.697514  0.062293  5.375163  0.040338  0.967926  1.705945   \n",
       "4.0      2.217397  0.755107  0.005503  4.586606  0.043669  1.662276  2.623872   \n",
       "\n",
       "                  best_chosen gaze_influence  \n",
       "              iqr        mean                 \n",
       "subject                                       \n",
       "0.0      0.433473    0.750000       0.189652  \n",
       "1.0      1.085618    0.716667       0.202899  \n",
       "2.0      0.740643    0.856667       0.033876  \n",
       "3.0      0.738018    0.936667      -0.006805  \n",
       "4.0      0.961595    0.850000       0.062939  "
      ]
     },
     "execution_count": 12,
     "metadata": {},
     "output_type": "execute_result"
    }
   ],
   "source": [
    "subject_data_summary.head()"
   ]
  },
  {
   "cell_type": "markdown",
   "metadata": {},
   "source": [
    "### 2. Exploring the behavioural data"
   ]
  },
  {
   "cell_type": "markdown",
   "metadata": {},
   "source": [
    "In a first step of our analysis, we explore differences in individuals' response behaviour. To this end, we plot the distributions of individuals' scores on the three behavioural metrics, and their associations, using the `plot_behaviour_associations` function implemented in the `plots` module:"
   ]
  },
  {
   "cell_type": "code",
   "execution_count": 13,
   "metadata": {
    "collapsed": false
   },
   "outputs": [
    {
     "data": {
      "image/png": "[encoded data removed]",
      "text/plain": [
       "<Figure size 2338.58x909.449 with 6 Axes>"
      ]
     },
     "metadata": {},
     "output_type": "display_data"
    }
   ],
   "source": [
    "np.random.seed(4)\n",
    "\n",
    "fig, axs = gb.plots.plot_behaviour_associations(data=data)\n",
    "\n",
    "fig.savefig('examples/example_1/figures/Figure_1_individual_differences.png', dpi=330)"
   ]
  },
  {
   "cell_type": "markdown",
   "metadata": {},
   "source": [
    "The resulting plot shows that individuals' probability of choosing the best item, as well as the strength of their behavioural association of gaze and choice, are not associated with their mean RT (D-E). However, individuals' probability of choosing the best item increases with decreasing strength of the behavioural association of gaze and choice (F)."
   ]
  },
  {
   "cell_type": "markdown",
   "metadata": {},
   "source": [
    "### 3. Likelihood-based model comparison"
   ]
  },
  {
   "cell_type": "markdown",
   "metadata": {},
   "source": [
    "In a second step of our analysis, we want to test whether the response behaviour of each individual is better described by a decision model with or without gaze bias. To this end, we set up the two GLAM variants:"
   ]
  },
  {
   "cell_type": "markdown",
   "metadata": {},
   "source": [
    "One GLAM variant that includes the gaze bias mechanism:"
   ]
  },
  {
   "cell_type": "code",
   "execution_count": 14,
   "metadata": {
    "collapsed": false
   },
   "outputs": [
    {
     "name": "stdout",
     "output_type": "stream",
     "text": [
      "Generating single subject models for 30 subjects...\n"
     ]
    }
   ],
   "source": [
    "np.random.seed(5)\n",
    "\n",
    "glam_bias = gb.GLAM(data=data, name='glam_bias')\n",
    "glam_bias.make_model(kind='individual')"
   ]
  },
  {
   "cell_type": "markdown",
   "metadata": {},
   "source": [
    "And one without a gaze bias (as indicated by `gamma_val=1`):"
   ]
  },
  {
   "cell_type": "code",
   "execution_count": 15,
   "metadata": {
    "collapsed": false
   },
   "outputs": [
    {
     "name": "stdout",
     "output_type": "stream",
     "text": [
      "Generating single subject models for 30 subjects...\n"
     ]
    }
   ],
   "source": [
    "np.random.seed(6)\n",
    "\n",
    "# for the no-gaze-bias variant, we set the gamma-parameter to 1, indicating no influence of gaze allocation on choice behaviour\n",
    "glam_nobias = gb.GLAM(data=data, name='glam_nobias')\n",
    "glam_nobias.make_model(kind='individual', gamma_val=1)"
   ]
  },
  {
   "cell_type": "markdown",
   "metadata": {},
   "source": [
    "Subsequently, we fit both models to the data of each individual and compare their fit by means of the Widely Applicable Information Criterion (WAIC; Vehtari et al., 2017): "
   ]
  },
  {
   "cell_type": "markdown",
   "metadata": {},
   "source": [
    "The `fit` method defaults to Metropolis-Hastings MCMC sampling (for methodological details, see the Methods Section of the manuscript). The `draws` argument sets the number of samples to be drawn. This excludes the tuning (or burn-in) samples, which can be set with the `tune` argument. In addition, the `fit` method accepts the same keyword arguments as the PyMC3 sample function, which it wraps (see the PyMC3 documentation for additional details). The `chains` argument sets the number of MCMC traces (it defaults to four and should be set to at least two, in order to allow convergence diagnostics)."
   ]
  },
  {
   "cell_type": "code",
   "execution_count": 16,
   "metadata": {
    "collapsed": true
   },
   "outputs": [],
   "source": [
    "n_tune = 5000\n",
    "n_draws = 5000\n",
    "n_chains = 4"
   ]
  },
  {
   "cell_type": "code",
   "execution_count": 17,
   "metadata": {
    "collapsed": false,
    "scrolled": true
   },
   "outputs": [
    {
     "name": "stdout",
     "output_type": "stream",
     "text": [
      "Fitting 30 model(s) using MCMC...\n",
      "  Fitting model 1 of 30...\n"
     ]
    },
    {
     "name": "stderr",
     "output_type": "stream",
     "text": [
      "Multiprocess sampling (4 chains in 4 jobs)\n",
      "CompoundStep\n",
      ">Metropolis: [tau]\n",
      ">Metropolis: [s]\n",
      ">Metropolis: [gamma]\n",
      ">Metropolis: [v]\n",
      "Sampling 4 chains: 100%|██████████| 40000/40000 [00:30<00:00, 1310.10draws/s]\n",
      "The number of effective samples is smaller than 10% for some parameters.\n"
     ]
    },
    {
     "name": "stdout",
     "output_type": "stream",
     "text": [
      "  Fitting model 2 of 30...\n"
     ]
    },
    {
     "name": "stderr",
     "output_type": "stream",
     "text": [
      "Multiprocess sampling (4 chains in 4 jobs)\n",
      "CompoundStep\n",
      ">Metropolis: [tau]\n",
      ">Metropolis: [s]\n",
      ">Metropolis: [gamma]\n",
      ">Metropolis: [v]\n",
      "Sampling 4 chains: 100%|██████████| 40000/40000 [00:30<00:00, 1318.24draws/s]\n",
      "The number of effective samples is smaller than 10% for some parameters.\n"
     ]
    },
    {
     "name": "stdout",
     "output_type": "stream",
     "text": [
      "  Fitting model 3 of 30...\n"
     ]
    },
    {
     "name": "stderr",
     "output_type": "stream",
     "text": [
      "Multiprocess sampling (4 chains in 4 jobs)\n",
      "CompoundStep\n",
      ">Metropolis: [tau]\n",
      ">Metropolis: [s]\n",
      ">Metropolis: [gamma]\n",
      ">Metropolis: [v]\n",
      "Sampling 4 chains: 100%|██████████| 40000/40000 [00:30<00:00, 1318.39draws/s]\n",
      "The number of effective samples is smaller than 10% for some parameters.\n"
     ]
    },
    {
     "name": "stdout",
     "output_type": "stream",
     "text": [
      "  Fitting model 4 of 30...\n"
     ]
    },
    {
     "name": "stderr",
     "output_type": "stream",
     "text": [
      "Multiprocess sampling (4 chains in 4 jobs)\n",
      "CompoundStep\n",
      ">Metropolis: [tau]\n",
      ">Metropolis: [s]\n",
      ">Metropolis: [gamma]\n",
      ">Metropolis: [v]\n",
      "Sampling 4 chains: 100%|██████████| 40000/40000 [00:30<00:00, 1306.96draws/s]\n",
      "The number of effective samples is smaller than 10% for some parameters.\n"
     ]
    },
    {
     "name": "stdout",
     "output_type": "stream",
     "text": [
      "  Fitting model 5 of 30...\n"
     ]
    },
    {
     "name": "stderr",
     "output_type": "stream",
     "text": [
      "Multiprocess sampling (4 chains in 4 jobs)\n",
      "CompoundStep\n",
      ">Metropolis: [tau]\n",
      ">Metropolis: [s]\n",
      ">Metropolis: [gamma]\n",
      ">Metropolis: [v]\n",
      "Sampling 4 chains: 100%|██████████| 40000/40000 [00:30<00:00, 1318.35draws/s]\n",
      "The number of effective samples is smaller than 10% for some parameters.\n"
     ]
    },
    {
     "name": "stdout",
     "output_type": "stream",
     "text": [
      "  Fitting model 6 of 30...\n"
     ]
    },
    {
     "name": "stderr",
     "output_type": "stream",
     "text": [
      "Multiprocess sampling (4 chains in 4 jobs)\n",
      "CompoundStep\n",
      ">Metropolis: [tau]\n",
      ">Metropolis: [s]\n",
      ">Metropolis: [gamma]\n",
      ">Metropolis: [v]\n",
      "Sampling 4 chains: 100%|██████████| 40000/40000 [00:30<00:00, 1308.01draws/s]\n",
      "The number of effective samples is smaller than 10% for some parameters.\n"
     ]
    },
    {
     "name": "stdout",
     "output_type": "stream",
     "text": [
      "  Fitting model 7 of 30...\n"
     ]
    },
    {
     "name": "stderr",
     "output_type": "stream",
     "text": [
      "Multiprocess sampling (4 chains in 4 jobs)\n",
      "CompoundStep\n",
      ">Metropolis: [tau]\n",
      ">Metropolis: [s]\n",
      ">Metropolis: [gamma]\n",
      ">Metropolis: [v]\n",
      "Sampling 4 chains: 100%|██████████| 40000/40000 [00:30<00:00, 1314.01draws/s]\n",
      "The number of effective samples is smaller than 10% for some parameters.\n"
     ]
    },
    {
     "name": "stdout",
     "output_type": "stream",
     "text": [
      "  Fitting model 8 of 30...\n"
     ]
    },
    {
     "name": "stderr",
     "output_type": "stream",
     "text": [
      "Multiprocess sampling (4 chains in 4 jobs)\n",
      "CompoundStep\n",
      ">Metropolis: [tau]\n",
      ">Metropolis: [s]\n",
      ">Metropolis: [gamma]\n",
      ">Metropolis: [v]\n",
      "Sampling 4 chains: 100%|██████████| 40000/40000 [00:30<00:00, 1309.53draws/s]\n",
      "The number of effective samples is smaller than 10% for some parameters.\n"
     ]
    },
    {
     "name": "stdout",
     "output_type": "stream",
     "text": [
      "  Fitting model 9 of 30...\n"
     ]
    },
    {
     "name": "stderr",
     "output_type": "stream",
     "text": [
      "Multiprocess sampling (4 chains in 4 jobs)\n",
      "CompoundStep\n",
      ">Metropolis: [tau]\n",
      ">Metropolis: [s]\n",
      ">Metropolis: [gamma]\n",
      ">Metropolis: [v]\n",
      "Sampling 4 chains: 100%|██████████| 40000/40000 [00:30<00:00, 1313.33draws/s]\n",
      "The number of effective samples is smaller than 10% for some parameters.\n"
     ]
    },
    {
     "name": "stdout",
     "output_type": "stream",
     "text": [
      "  Fitting model 10 of 30...\n"
     ]
    },
    {
     "name": "stderr",
     "output_type": "stream",
     "text": [
      "Multiprocess sampling (4 chains in 4 jobs)\n",
      "CompoundStep\n",
      ">Metropolis: [tau]\n",
      ">Metropolis: [s]\n",
      ">Metropolis: [gamma]\n",
      ">Metropolis: [v]\n",
      "Sampling 4 chains: 100%|██████████| 40000/40000 [00:30<00:00, 1317.36draws/s]\n",
      "The number of effective samples is smaller than 10% for some parameters.\n"
     ]
    },
    {
     "name": "stdout",
     "output_type": "stream",
     "text": [
      "  Fitting model 11 of 30...\n"
     ]
    },
    {
     "name": "stderr",
     "output_type": "stream",
     "text": [
      "Multiprocess sampling (4 chains in 4 jobs)\n",
      "CompoundStep\n",
      ">Metropolis: [tau]\n",
      ">Metropolis: [s]\n",
      ">Metropolis: [gamma]\n",
      ">Metropolis: [v]\n",
      "Sampling 4 chains: 100%|██████████| 40000/40000 [00:30<00:00, 1304.60draws/s]\n",
      "The number of effective samples is smaller than 10% for some parameters.\n"
     ]
    },
    {
     "name": "stdout",
     "output_type": "stream",
     "text": [
      "  Fitting model 12 of 30...\n"
     ]
    },
    {
     "name": "stderr",
     "output_type": "stream",
     "text": [
      "Multiprocess sampling (4 chains in 4 jobs)\n",
      "CompoundStep\n",
      ">Metropolis: [tau]\n",
      ">Metropolis: [s]\n",
      ">Metropolis: [gamma]\n",
      ">Metropolis: [v]\n",
      "Sampling 4 chains: 100%|██████████| 40000/40000 [00:30<00:00, 1309.36draws/s]\n",
      "The number of effective samples is smaller than 10% for some parameters.\n"
     ]
    },
    {
     "name": "stdout",
     "output_type": "stream",
     "text": [
      "  Fitting model 13 of 30...\n"
     ]
    },
    {
     "name": "stderr",
     "output_type": "stream",
     "text": [
      "Multiprocess sampling (4 chains in 4 jobs)\n",
      "CompoundStep\n",
      ">Metropolis: [tau]\n",
      ">Metropolis: [s]\n",
      ">Metropolis: [gamma]\n",
      ">Metropolis: [v]\n",
      "Sampling 4 chains: 100%|██████████| 40000/40000 [00:30<00:00, 1300.42draws/s]\n",
      "The number of effective samples is smaller than 10% for some parameters.\n"
     ]
    },
    {
     "name": "stdout",
     "output_type": "stream",
     "text": [
      "  Fitting model 14 of 30...\n"
     ]
    },
    {
     "name": "stderr",
     "output_type": "stream",
     "text": [
      "Multiprocess sampling (4 chains in 4 jobs)\n",
      "CompoundStep\n",
      ">Metropolis: [tau]\n",
      ">Metropolis: [s]\n",
      ">Metropolis: [gamma]\n",
      ">Metropolis: [v]\n",
      "Sampling 4 chains: 100%|██████████| 40000/40000 [00:30<00:00, 1313.52draws/s]\n",
      "The number of effective samples is smaller than 10% for some parameters.\n"
     ]
    },
    {
     "name": "stdout",
     "output_type": "stream",
     "text": [
      "  Fitting model 15 of 30...\n"
     ]
    },
    {
     "name": "stderr",
     "output_type": "stream",
     "text": [
      "Multiprocess sampling (4 chains in 4 jobs)\n",
      "CompoundStep\n",
      ">Metropolis: [tau]\n",
      ">Metropolis: [s]\n",
      ">Metropolis: [gamma]\n",
      ">Metropolis: [v]\n",
      "Sampling 4 chains: 100%|██████████| 40000/40000 [00:30<00:00, 1301.97draws/s]\n",
      "The number of effective samples is smaller than 10% for some parameters.\n"
     ]
    },
    {
     "name": "stdout",
     "output_type": "stream",
     "text": [
      "  Fitting model 16 of 30...\n"
     ]
    },
    {
     "name": "stderr",
     "output_type": "stream",
     "text": [
      "Multiprocess sampling (4 chains in 4 jobs)\n",
      "CompoundStep\n",
      ">Metropolis: [tau]\n",
      ">Metropolis: [s]\n",
      ">Metropolis: [gamma]\n",
      ">Metropolis: [v]\n",
      "Sampling 4 chains: 100%|██████████| 40000/40000 [00:30<00:00, 1307.51draws/s]\n",
      "The number of effective samples is smaller than 25% for some parameters.\n"
     ]
    },
    {
     "name": "stdout",
     "output_type": "stream",
     "text": [
      "  Fitting model 17 of 30...\n"
     ]
    },
    {
     "name": "stderr",
     "output_type": "stream",
     "text": [
      "Multiprocess sampling (4 chains in 4 jobs)\n",
      "CompoundStep\n",
      ">Metropolis: [tau]\n",
      ">Metropolis: [s]\n",
      ">Metropolis: [gamma]\n",
      ">Metropolis: [v]\n",
      "Sampling 4 chains: 100%|██████████| 40000/40000 [00:30<00:00, 1316.78draws/s]\n",
      "The number of effective samples is smaller than 10% for some parameters.\n"
     ]
    },
    {
     "name": "stdout",
     "output_type": "stream",
     "text": [
      "  Fitting model 18 of 30...\n"
     ]
    },
    {
     "name": "stderr",
     "output_type": "stream",
     "text": [
      "Multiprocess sampling (4 chains in 4 jobs)\n",
      "CompoundStep\n",
      ">Metropolis: [tau]\n",
      ">Metropolis: [s]\n",
      ">Metropolis: [gamma]\n",
      ">Metropolis: [v]\n",
      "Sampling 4 chains: 100%|██████████| 40000/40000 [00:30<00:00, 1304.21draws/s]\n",
      "The number of effective samples is smaller than 10% for some parameters.\n"
     ]
    },
    {
     "name": "stdout",
     "output_type": "stream",
     "text": [
      "  Fitting model 19 of 30...\n"
     ]
    },
    {
     "name": "stderr",
     "output_type": "stream",
     "text": [
      "Multiprocess sampling (4 chains in 4 jobs)\n",
      "CompoundStep\n",
      ">Metropolis: [tau]\n",
      ">Metropolis: [s]\n",
      ">Metropolis: [gamma]\n",
      ">Metropolis: [v]\n",
      "Sampling 4 chains: 100%|██████████| 40000/40000 [00:30<00:00, 1292.46draws/s]\n",
      "The number of effective samples is smaller than 10% for some parameters.\n"
     ]
    },
    {
     "name": "stdout",
     "output_type": "stream",
     "text": [
      "  Fitting model 20 of 30...\n"
     ]
    },
    {
     "name": "stderr",
     "output_type": "stream",
     "text": [
      "Multiprocess sampling (4 chains in 4 jobs)\n",
      "CompoundStep\n",
      ">Metropolis: [tau]\n",
      ">Metropolis: [s]\n",
      ">Metropolis: [gamma]\n",
      ">Metropolis: [v]\n",
      "Sampling 4 chains: 100%|██████████| 40000/40000 [00:30<00:00, 1311.52draws/s]\n",
      "The number of effective samples is smaller than 10% for some parameters.\n"
     ]
    },
    {
     "name": "stdout",
     "output_type": "stream",
     "text": [
      "  Fitting model 21 of 30...\n"
     ]
    },
    {
     "name": "stderr",
     "output_type": "stream",
     "text": [
      "Multiprocess sampling (4 chains in 4 jobs)\n",
      "CompoundStep\n",
      ">Metropolis: [tau]\n",
      ">Metropolis: [s]\n",
      ">Metropolis: [gamma]\n",
      ">Metropolis: [v]\n",
      "Sampling 4 chains: 100%|██████████| 40000/40000 [00:29<00:00, 1335.10draws/s]\n",
      "The number of effective samples is smaller than 25% for some parameters.\n"
     ]
    },
    {
     "name": "stdout",
     "output_type": "stream",
     "text": [
      "  Fitting model 22 of 30...\n"
     ]
    },
    {
     "name": "stderr",
     "output_type": "stream",
     "text": [
      "Multiprocess sampling (4 chains in 4 jobs)\n",
      "CompoundStep\n",
      ">Metropolis: [tau]\n",
      ">Metropolis: [s]\n",
      ">Metropolis: [gamma]\n",
      ">Metropolis: [v]\n",
      "Sampling 4 chains: 100%|██████████| 40000/40000 [00:30<00:00, 1306.03draws/s]\n",
      "The number of effective samples is smaller than 10% for some parameters.\n"
     ]
    },
    {
     "name": "stdout",
     "output_type": "stream",
     "text": [
      "  Fitting model 23 of 30...\n"
     ]
    },
    {
     "name": "stderr",
     "output_type": "stream",
     "text": [
      "Multiprocess sampling (4 chains in 4 jobs)\n",
      "CompoundStep\n",
      ">Metropolis: [tau]\n",
      ">Metropolis: [s]\n",
      ">Metropolis: [gamma]\n",
      ">Metropolis: [v]\n",
      "Sampling 4 chains: 100%|██████████| 40000/40000 [00:30<00:00, 1308.38draws/s]\n",
      "The number of effective samples is smaller than 10% for some parameters.\n"
     ]
    },
    {
     "name": "stdout",
     "output_type": "stream",
     "text": [
      "  Fitting model 24 of 30...\n"
     ]
    },
    {
     "name": "stderr",
     "output_type": "stream",
     "text": [
      "Multiprocess sampling (4 chains in 4 jobs)\n",
      "CompoundStep\n",
      ">Metropolis: [tau]\n",
      ">Metropolis: [s]\n",
      ">Metropolis: [gamma]\n",
      ">Metropolis: [v]\n",
      "Sampling 4 chains: 100%|██████████| 40000/40000 [00:30<00:00, 1311.45draws/s]\n",
      "The number of effective samples is smaller than 10% for some parameters.\n"
     ]
    },
    {
     "name": "stdout",
     "output_type": "stream",
     "text": [
      "  Fitting model 25 of 30...\n"
     ]
    },
    {
     "name": "stderr",
     "output_type": "stream",
     "text": [
      "Multiprocess sampling (4 chains in 4 jobs)\n",
      "CompoundStep\n",
      ">Metropolis: [tau]\n",
      ">Metropolis: [s]\n",
      ">Metropolis: [gamma]\n",
      ">Metropolis: [v]\n",
      "Sampling 4 chains: 100%|██████████| 40000/40000 [00:30<00:00, 1306.84draws/s]\n",
      "The number of effective samples is smaller than 10% for some parameters.\n"
     ]
    },
    {
     "name": "stdout",
     "output_type": "stream",
     "text": [
      "  Fitting model 26 of 30...\n"
     ]
    },
    {
     "name": "stderr",
     "output_type": "stream",
     "text": [
      "Multiprocess sampling (4 chains in 4 jobs)\n",
      "CompoundStep\n",
      ">Metropolis: [tau]\n",
      ">Metropolis: [s]\n",
      ">Metropolis: [gamma]\n",
      ">Metropolis: [v]\n",
      "Sampling 4 chains: 100%|██████████| 40000/40000 [00:30<00:00, 1307.22draws/s]\n",
      "The number of effective samples is smaller than 10% for some parameters.\n"
     ]
    },
    {
     "name": "stdout",
     "output_type": "stream",
     "text": [
      "  Fitting model 27 of 30...\n"
     ]
    },
    {
     "name": "stderr",
     "output_type": "stream",
     "text": [
      "Multiprocess sampling (4 chains in 4 jobs)\n",
      "CompoundStep\n",
      ">Metropolis: [tau]\n",
      ">Metropolis: [s]\n",
      ">Metropolis: [gamma]\n",
      ">Metropolis: [v]\n",
      "Sampling 4 chains: 100%|██████████| 40000/40000 [00:30<00:00, 1293.38draws/s]\n",
      "The number of effective samples is smaller than 10% for some parameters.\n"
     ]
    },
    {
     "name": "stdout",
     "output_type": "stream",
     "text": [
      "  Fitting model 28 of 30...\n"
     ]
    },
    {
     "name": "stderr",
     "output_type": "stream",
     "text": [
      "Multiprocess sampling (4 chains in 4 jobs)\n",
      "CompoundStep\n",
      ">Metropolis: [tau]\n",
      ">Metropolis: [s]\n",
      ">Metropolis: [gamma]\n",
      ">Metropolis: [v]\n",
      "Sampling 4 chains: 100%|██████████| 40000/40000 [00:30<00:00, 1308.93draws/s]\n",
      "The number of effective samples is smaller than 10% for some parameters.\n"
     ]
    },
    {
     "name": "stdout",
     "output_type": "stream",
     "text": [
      "  Fitting model 29 of 30...\n"
     ]
    },
    {
     "name": "stderr",
     "output_type": "stream",
     "text": [
      "Multiprocess sampling (4 chains in 4 jobs)\n",
      "CompoundStep\n",
      ">Metropolis: [tau]\n",
      ">Metropolis: [s]\n",
      ">Metropolis: [gamma]\n",
      ">Metropolis: [v]\n",
      "Sampling 4 chains: 100%|██████████| 40000/40000 [00:30<00:00, 1307.66draws/s]\n",
      "The number of effective samples is smaller than 10% for some parameters.\n"
     ]
    },
    {
     "name": "stdout",
     "output_type": "stream",
     "text": [
      "  Fitting model 30 of 30...\n"
     ]
    },
    {
     "name": "stderr",
     "output_type": "stream",
     "text": [
      "Multiprocess sampling (4 chains in 4 jobs)\n",
      "CompoundStep\n",
      ">Metropolis: [tau]\n",
      ">Metropolis: [s]\n",
      ">Metropolis: [gamma]\n",
      ">Metropolis: [v]\n",
      "Sampling 4 chains: 100%|██████████| 40000/40000 [00:30<00:00, 1298.39draws/s]\n",
      "The number of effective samples is smaller than 10% for some parameters.\n"
     ]
    },
    {
     "name": "stdout",
     "output_type": "stream",
     "text": [
      "/!\\ Automatically setting parameter precision...\n"
     ]
    }
   ],
   "source": [
    "np.random.seed(7)\n",
    "\n",
    "glam_bias.fit(method='MCMC',\n",
    "              tune=n_tune,\n",
    "              draws=n_draws,\n",
    "              chains=n_chains)"
   ]
  },
  {
   "cell_type": "code",
   "execution_count": 18,
   "metadata": {
    "collapsed": false,
    "scrolled": true
   },
   "outputs": [
    {
     "name": "stdout",
     "output_type": "stream",
     "text": [
      "Fitting 30 model(s) using MCMC...\n",
      "  Fitting model 1 of 30...\n"
     ]
    },
    {
     "name": "stderr",
     "output_type": "stream",
     "text": [
      "Multiprocess sampling (4 chains in 4 jobs)\n",
      "CompoundStep\n",
      ">Metropolis: [tau]\n",
      ">Metropolis: [s]\n",
      ">Metropolis: [v]\n",
      "Sampling 4 chains: 100%|██████████| 40000/40000 [00:20<00:00, 1977.11draws/s]\n",
      "The number of effective samples is smaller than 10% for some parameters.\n"
     ]
    },
    {
     "name": "stdout",
     "output_type": "stream",
     "text": [
      "  Fitting model 2 of 30...\n"
     ]
    },
    {
     "name": "stderr",
     "output_type": "stream",
     "text": [
      "Multiprocess sampling (4 chains in 4 jobs)\n",
      "CompoundStep\n",
      ">Metropolis: [tau]\n",
      ">Metropolis: [s]\n",
      ">Metropolis: [v]\n",
      "Sampling 4 chains: 100%|██████████| 40000/40000 [00:19<00:00, 2004.20draws/s]\n",
      "The number of effective samples is smaller than 10% for some parameters.\n"
     ]
    },
    {
     "name": "stdout",
     "output_type": "stream",
     "text": [
      "  Fitting model 3 of 30...\n"
     ]
    },
    {
     "name": "stderr",
     "output_type": "stream",
     "text": [
      "Multiprocess sampling (4 chains in 4 jobs)\n",
      "CompoundStep\n",
      ">Metropolis: [tau]\n",
      ">Metropolis: [s]\n",
      ">Metropolis: [v]\n",
      "Sampling 4 chains: 100%|██████████| 40000/40000 [00:20<00:00, 1977.98draws/s]\n",
      "The number of effective samples is smaller than 10% for some parameters.\n"
     ]
    },
    {
     "name": "stdout",
     "output_type": "stream",
     "text": [
      "  Fitting model 4 of 30...\n"
     ]
    },
    {
     "name": "stderr",
     "output_type": "stream",
     "text": [
      "Multiprocess sampling (4 chains in 4 jobs)\n",
      "CompoundStep\n",
      ">Metropolis: [tau]\n",
      ">Metropolis: [s]\n",
      ">Metropolis: [v]\n",
      "Sampling 4 chains: 100%|██████████| 40000/40000 [00:20<00:00, 1975.45draws/s]\n",
      "The number of effective samples is smaller than 10% for some parameters.\n"
     ]
    },
    {
     "name": "stdout",
     "output_type": "stream",
     "text": [
      "  Fitting model 5 of 30...\n"
     ]
    },
    {
     "name": "stderr",
     "output_type": "stream",
     "text": [
      "Multiprocess sampling (4 chains in 4 jobs)\n",
      "CompoundStep\n",
      ">Metropolis: [tau]\n",
      ">Metropolis: [s]\n",
      ">Metropolis: [v]\n",
      "Sampling 4 chains: 100%|██████████| 40000/40000 [00:20<00:00, 1986.99draws/s]\n",
      "The number of effective samples is smaller than 10% for some parameters.\n"
     ]
    },
    {
     "name": "stdout",
     "output_type": "stream",
     "text": [
      "  Fitting model 6 of 30...\n"
     ]
    },
    {
     "name": "stderr",
     "output_type": "stream",
     "text": [
      "Multiprocess sampling (4 chains in 4 jobs)\n",
      "CompoundStep\n",
      ">Metropolis: [tau]\n",
      ">Metropolis: [s]\n",
      ">Metropolis: [v]\n",
      "Sampling 4 chains: 100%|██████████| 40000/40000 [00:20<00:00, 1963.78draws/s]\n",
      "The number of effective samples is smaller than 10% for some parameters.\n"
     ]
    },
    {
     "name": "stdout",
     "output_type": "stream",
     "text": [
      "  Fitting model 7 of 30...\n"
     ]
    },
    {
     "name": "stderr",
     "output_type": "stream",
     "text": [
      "Multiprocess sampling (4 chains in 4 jobs)\n",
      "CompoundStep\n",
      ">Metropolis: [tau]\n",
      ">Metropolis: [s]\n",
      ">Metropolis: [v]\n",
      "Sampling 4 chains: 100%|██████████| 40000/40000 [00:22<00:00, 1816.57draws/s]\n",
      "The number of effective samples is smaller than 10% for some parameters.\n"
     ]
    },
    {
     "name": "stdout",
     "output_type": "stream",
     "text": [
      "  Fitting model 8 of 30...\n"
     ]
    },
    {
     "name": "stderr",
     "output_type": "stream",
     "text": [
      "Multiprocess sampling (4 chains in 4 jobs)\n",
      "CompoundStep\n",
      ">Metropolis: [tau]\n",
      ">Metropolis: [s]\n",
      ">Metropolis: [v]\n",
      "Sampling 4 chains: 100%|██████████| 40000/40000 [00:20<00:00, 1974.83draws/s]\n",
      "The number of effective samples is smaller than 10% for some parameters.\n"
     ]
    },
    {
     "name": "stdout",
     "output_type": "stream",
     "text": [
      "  Fitting model 9 of 30...\n"
     ]
    },
    {
     "name": "stderr",
     "output_type": "stream",
     "text": [
      "Multiprocess sampling (4 chains in 4 jobs)\n",
      "CompoundStep\n",
      ">Metropolis: [tau]\n",
      ">Metropolis: [s]\n",
      ">Metropolis: [v]\n",
      "Sampling 4 chains: 100%|██████████| 40000/40000 [00:22<00:00, 1795.38draws/s]\n",
      "The number of effective samples is smaller than 25% for some parameters.\n"
     ]
    },
    {
     "name": "stdout",
     "output_type": "stream",
     "text": [
      "  Fitting model 10 of 30...\n"
     ]
    },
    {
     "name": "stderr",
     "output_type": "stream",
     "text": [
      "Multiprocess sampling (4 chains in 4 jobs)\n",
      "CompoundStep\n",
      ">Metropolis: [tau]\n",
      ">Metropolis: [s]\n",
      ">Metropolis: [v]\n",
      "Sampling 4 chains: 100%|██████████| 40000/40000 [00:20<00:00, 1918.71draws/s]\n",
      "The number of effective samples is smaller than 10% for some parameters.\n"
     ]
    },
    {
     "name": "stdout",
     "output_type": "stream",
     "text": [
      "  Fitting model 11 of 30...\n"
     ]
    },
    {
     "name": "stderr",
     "output_type": "stream",
     "text": [
      "Multiprocess sampling (4 chains in 4 jobs)\n",
      "CompoundStep\n",
      ">Metropolis: [tau]\n",
      ">Metropolis: [s]\n",
      ">Metropolis: [v]\n",
      "Sampling 4 chains: 100%|██████████| 40000/40000 [00:21<00:00, 1830.05draws/s]\n",
      "The number of effective samples is smaller than 10% for some parameters.\n"
     ]
    },
    {
     "name": "stdout",
     "output_type": "stream",
     "text": [
      "  Fitting model 12 of 30...\n"
     ]
    },
    {
     "name": "stderr",
     "output_type": "stream",
     "text": [
      "Multiprocess sampling (4 chains in 4 jobs)\n",
      "CompoundStep\n",
      ">Metropolis: [tau]\n",
      ">Metropolis: [s]\n",
      ">Metropolis: [v]\n",
      "Sampling 4 chains: 100%|██████████| 40000/40000 [00:20<00:00, 1956.02draws/s]\n",
      "The number of effective samples is smaller than 10% for some parameters.\n"
     ]
    },
    {
     "name": "stdout",
     "output_type": "stream",
     "text": [
      "  Fitting model 13 of 30...\n"
     ]
    },
    {
     "name": "stderr",
     "output_type": "stream",
     "text": [
      "Multiprocess sampling (4 chains in 4 jobs)\n",
      "CompoundStep\n",
      ">Metropolis: [tau]\n",
      ">Metropolis: [s]\n",
      ">Metropolis: [v]\n",
      "Sampling 4 chains: 100%|██████████| 40000/40000 [00:20<00:00, 1975.46draws/s]\n",
      "The number of effective samples is smaller than 10% for some parameters.\n"
     ]
    },
    {
     "name": "stdout",
     "output_type": "stream",
     "text": [
      "  Fitting model 14 of 30...\n"
     ]
    },
    {
     "name": "stderr",
     "output_type": "stream",
     "text": [
      "Multiprocess sampling (4 chains in 4 jobs)\n",
      "CompoundStep\n",
      ">Metropolis: [tau]\n",
      ">Metropolis: [s]\n",
      ">Metropolis: [v]\n",
      "Sampling 4 chains: 100%|██████████| 40000/40000 [00:20<00:00, 1958.79draws/s]\n",
      "The number of effective samples is smaller than 10% for some parameters.\n"
     ]
    },
    {
     "name": "stdout",
     "output_type": "stream",
     "text": [
      "  Fitting model 15 of 30...\n"
     ]
    },
    {
     "name": "stderr",
     "output_type": "stream",
     "text": [
      "Multiprocess sampling (4 chains in 4 jobs)\n",
      "CompoundStep\n",
      ">Metropolis: [tau]\n",
      ">Metropolis: [s]\n",
      ">Metropolis: [v]\n",
      "Sampling 4 chains: 100%|██████████| 40000/40000 [00:20<00:00, 1973.48draws/s]\n",
      "The number of effective samples is smaller than 10% for some parameters.\n"
     ]
    },
    {
     "name": "stdout",
     "output_type": "stream",
     "text": [
      "  Fitting model 16 of 30...\n"
     ]
    },
    {
     "name": "stderr",
     "output_type": "stream",
     "text": [
      "Multiprocess sampling (4 chains in 4 jobs)\n",
      "CompoundStep\n",
      ">Metropolis: [tau]\n",
      ">Metropolis: [s]\n",
      ">Metropolis: [v]\n",
      "Sampling 4 chains: 100%|██████████| 40000/40000 [00:20<00:00, 1982.15draws/s]\n",
      "The number of effective samples is smaller than 10% for some parameters.\n"
     ]
    },
    {
     "name": "stdout",
     "output_type": "stream",
     "text": [
      "  Fitting model 17 of 30...\n"
     ]
    },
    {
     "name": "stderr",
     "output_type": "stream",
     "text": [
      "Multiprocess sampling (4 chains in 4 jobs)\n",
      "CompoundStep\n",
      ">Metropolis: [tau]\n",
      ">Metropolis: [s]\n",
      ">Metropolis: [v]\n",
      "Sampling 4 chains: 100%|██████████| 40000/40000 [00:20<00:00, 1996.80draws/s]\n",
      "The number of effective samples is smaller than 10% for some parameters.\n"
     ]
    },
    {
     "name": "stdout",
     "output_type": "stream",
     "text": [
      "  Fitting model 18 of 30...\n"
     ]
    },
    {
     "name": "stderr",
     "output_type": "stream",
     "text": [
      "Multiprocess sampling (4 chains in 4 jobs)\n",
      "CompoundStep\n",
      ">Metropolis: [tau]\n",
      ">Metropolis: [s]\n",
      ">Metropolis: [v]\n",
      "Sampling 4 chains: 100%|██████████| 40000/40000 [00:20<00:00, 1967.96draws/s]\n",
      "The number of effective samples is smaller than 10% for some parameters.\n"
     ]
    },
    {
     "name": "stdout",
     "output_type": "stream",
     "text": [
      "  Fitting model 19 of 30...\n"
     ]
    },
    {
     "name": "stderr",
     "output_type": "stream",
     "text": [
      "Multiprocess sampling (4 chains in 4 jobs)\n",
      "CompoundStep\n",
      ">Metropolis: [tau]\n",
      ">Metropolis: [s]\n",
      ">Metropolis: [v]\n",
      "Sampling 4 chains: 100%|██████████| 40000/40000 [00:20<00:00, 1984.74draws/s]\n",
      "The number of effective samples is smaller than 10% for some parameters.\n"
     ]
    },
    {
     "name": "stdout",
     "output_type": "stream",
     "text": [
      "  Fitting model 20 of 30...\n"
     ]
    },
    {
     "name": "stderr",
     "output_type": "stream",
     "text": [
      "Multiprocess sampling (4 chains in 4 jobs)\n",
      "CompoundStep\n",
      ">Metropolis: [tau]\n",
      ">Metropolis: [s]\n",
      ">Metropolis: [v]\n",
      "Sampling 4 chains: 100%|██████████| 40000/40000 [00:20<00:00, 1994.98draws/s]\n",
      "The number of effective samples is smaller than 10% for some parameters.\n"
     ]
    },
    {
     "name": "stdout",
     "output_type": "stream",
     "text": [
      "  Fitting model 21 of 30...\n"
     ]
    },
    {
     "name": "stderr",
     "output_type": "stream",
     "text": [
      "Multiprocess sampling (4 chains in 4 jobs)\n",
      "CompoundStep\n",
      ">Metropolis: [tau]\n",
      ">Metropolis: [s]\n",
      ">Metropolis: [v]\n",
      "Sampling 4 chains: 100%|██████████| 40000/40000 [00:19<00:00, 2028.99draws/s]\n",
      "The number of effective samples is smaller than 25% for some parameters.\n"
     ]
    },
    {
     "name": "stdout",
     "output_type": "stream",
     "text": [
      "  Fitting model 22 of 30...\n"
     ]
    },
    {
     "name": "stderr",
     "output_type": "stream",
     "text": [
      "Multiprocess sampling (4 chains in 4 jobs)\n",
      "CompoundStep\n",
      ">Metropolis: [tau]\n",
      ">Metropolis: [s]\n",
      ">Metropolis: [v]\n",
      "Sampling 4 chains: 100%|██████████| 40000/40000 [00:20<00:00, 1972.42draws/s]\n",
      "The number of effective samples is smaller than 10% for some parameters.\n"
     ]
    },
    {
     "name": "stdout",
     "output_type": "stream",
     "text": [
      "  Fitting model 23 of 30...\n"
     ]
    },
    {
     "name": "stderr",
     "output_type": "stream",
     "text": [
      "Multiprocess sampling (4 chains in 4 jobs)\n",
      "CompoundStep\n",
      ">Metropolis: [tau]\n",
      ">Metropolis: [s]\n",
      ">Metropolis: [v]\n",
      "Sampling 4 chains: 100%|██████████| 40000/40000 [00:20<00:00, 1987.80draws/s]\n",
      "The number of effective samples is smaller than 10% for some parameters.\n"
     ]
    },
    {
     "name": "stdout",
     "output_type": "stream",
     "text": [
      "  Fitting model 24 of 30...\n"
     ]
    },
    {
     "name": "stderr",
     "output_type": "stream",
     "text": [
      "Multiprocess sampling (4 chains in 4 jobs)\n",
      "CompoundStep\n",
      ">Metropolis: [tau]\n",
      ">Metropolis: [s]\n",
      ">Metropolis: [v]\n",
      "Sampling 4 chains: 100%|██████████| 40000/40000 [00:20<00:00, 1994.49draws/s]\n",
      "The number of effective samples is smaller than 10% for some parameters.\n"
     ]
    },
    {
     "name": "stdout",
     "output_type": "stream",
     "text": [
      "  Fitting model 25 of 30...\n"
     ]
    },
    {
     "name": "stderr",
     "output_type": "stream",
     "text": [
      "Multiprocess sampling (4 chains in 4 jobs)\n",
      "CompoundStep\n",
      ">Metropolis: [tau]\n",
      ">Metropolis: [s]\n",
      ">Metropolis: [v]\n",
      "Sampling 4 chains: 100%|██████████| 40000/40000 [00:20<00:00, 1997.07draws/s]\n",
      "The number of effective samples is smaller than 10% for some parameters.\n"
     ]
    },
    {
     "name": "stdout",
     "output_type": "stream",
     "text": [
      "  Fitting model 26 of 30...\n"
     ]
    },
    {
     "name": "stderr",
     "output_type": "stream",
     "text": [
      "Multiprocess sampling (4 chains in 4 jobs)\n",
      "CompoundStep\n",
      ">Metropolis: [tau]\n",
      ">Metropolis: [s]\n",
      ">Metropolis: [v]\n",
      "Sampling 4 chains: 100%|██████████| 40000/40000 [00:20<00:00, 1953.03draws/s]\n",
      "The number of effective samples is smaller than 10% for some parameters.\n"
     ]
    },
    {
     "name": "stdout",
     "output_type": "stream",
     "text": [
      "  Fitting model 27 of 30...\n"
     ]
    },
    {
     "name": "stderr",
     "output_type": "stream",
     "text": [
      "Multiprocess sampling (4 chains in 4 jobs)\n",
      "CompoundStep\n",
      ">Metropolis: [tau]\n",
      ">Metropolis: [s]\n",
      ">Metropolis: [v]\n",
      "Sampling 4 chains: 100%|██████████| 40000/40000 [00:20<00:00, 1942.56draws/s]\n",
      "The number of effective samples is smaller than 10% for some parameters.\n"
     ]
    },
    {
     "name": "stdout",
     "output_type": "stream",
     "text": [
      "  Fitting model 28 of 30...\n"
     ]
    },
    {
     "name": "stderr",
     "output_type": "stream",
     "text": [
      "Multiprocess sampling (4 chains in 4 jobs)\n",
      "CompoundStep\n",
      ">Metropolis: [tau]\n",
      ">Metropolis: [s]\n",
      ">Metropolis: [v]\n",
      "Sampling 4 chains: 100%|██████████| 40000/40000 [00:20<00:00, 1976.93draws/s]\n",
      "The number of effective samples is smaller than 10% for some parameters.\n"
     ]
    },
    {
     "name": "stdout",
     "output_type": "stream",
     "text": [
      "  Fitting model 29 of 30...\n"
     ]
    },
    {
     "name": "stderr",
     "output_type": "stream",
     "text": [
      "Multiprocess sampling (4 chains in 4 jobs)\n",
      "CompoundStep\n",
      ">Metropolis: [tau]\n",
      ">Metropolis: [s]\n",
      ">Metropolis: [v]\n",
      "Sampling 4 chains: 100%|██████████| 40000/40000 [00:20<00:00, 1989.45draws/s]\n",
      "The number of effective samples is smaller than 10% for some parameters.\n"
     ]
    },
    {
     "name": "stdout",
     "output_type": "stream",
     "text": [
      "  Fitting model 30 of 30...\n"
     ]
    },
    {
     "name": "stderr",
     "output_type": "stream",
     "text": [
      "Multiprocess sampling (4 chains in 4 jobs)\n",
      "CompoundStep\n",
      ">Metropolis: [tau]\n",
      ">Metropolis: [s]\n",
      ">Metropolis: [v]\n",
      "Sampling 4 chains: 100%|██████████| 40000/40000 [00:20<00:00, 1970.76draws/s]\n",
      "The number of effective samples is smaller than 10% for some parameters.\n"
     ]
    },
    {
     "name": "stdout",
     "output_type": "stream",
     "text": [
      "/!\\ Automatically setting parameter precision...\n"
     ]
    }
   ],
   "source": [
    "np.random.seed(8)\n",
    "\n",
    "glam_nobias.fit(method='MCMC',\n",
    "                tune=n_tune,\n",
    "                draws=n_draws,\n",
    "                chains=n_chains)"
   ]
  },
  {
   "cell_type": "markdown",
   "metadata": {},
   "source": [
    "Convergence check:"
   ]
  },
  {
   "cell_type": "code",
   "execution_count": 19,
   "metadata": {
    "collapsed": true
   },
   "outputs": [],
   "source": [
    "def check_convergence(summary, varnames=['v', 's', 'tau'],\n",
    "                      n_eff_required=100, gelman_rubin_criterion=0.05):\n",
    "    varnames = [varname + '__0_0' for varname in varnames]\n",
    "    enough_eff_samples = np.all(summary.loc[varnames]['n_eff'] > n_eff_required)\n",
    "    good_gelman = np.all(np.abs(summary.loc[varnames]['Rhat'] - 1.0) < gelman_rubin_criterion)\n",
    "    if not enough_eff_samples or not good_gelman:\n",
    "        return False\n",
    "    else:\n",
    "        return True"
   ]
  },
  {
   "cell_type": "code",
   "execution_count": 20,
   "metadata": {
    "collapsed": false
   },
   "outputs": [
    {
     "data": {
      "text/plain": [
       "True"
      ]
     },
     "execution_count": 20,
     "metadata": {},
     "output_type": "execute_result"
    }
   ],
   "source": [
    "np.all([check_convergence(pm.summary(trace), varnames=['v', 's', 'gamma', 'tau']) for trace in glam_bias.trace])"
   ]
  },
  {
   "cell_type": "code",
   "execution_count": 21,
   "metadata": {
    "collapsed": false
   },
   "outputs": [
    {
     "data": {
      "text/plain": [
       "True"
      ]
     },
     "execution_count": 21,
     "metadata": {},
     "output_type": "execute_result"
    }
   ],
   "source": [
    "np.all([check_convergence(pm.summary(trace), varnames=['v', 's', 'tau']) for trace in glam_nobias.trace])"
   ]
  },
  {
   "cell_type": "markdown",
   "metadata": {},
   "source": [
    "Saving traces and traceplots for visual inspection:"
   ]
  },
  {
   "cell_type": "code",
   "execution_count": 22,
   "metadata": {
    "collapsed": true
   },
   "outputs": [],
   "source": [
    "for subject, subject_trace in enumerate(glam_bias.trace):\n",
    "    gb.plots.traceplot(subject_trace)\n",
    "    plt.savefig('examples/example_1/results/in_sample/traces/sub_{}_gaze_bias_model_trace.png'.format(subject), dpi=330)\n",
    "    plt.close()\n",
    "    pm.trace_to_dataframe(subject_trace).to_csv(\n",
    "        'examples/example_1/results/in_sample/traces/sub_{}_gaze_bias_model_trace.csv'.format(subject))"
   ]
  },
  {
   "cell_type": "code",
   "execution_count": 23,
   "metadata": {
    "collapsed": true
   },
   "outputs": [],
   "source": [
    "for subject, subject_trace in enumerate(glam_nobias.trace):\n",
    "    gb.plots.traceplot(subject_trace)\n",
    "    plt.savefig('examples/example_1/results/in_sample/traces/sub_{}_no_gaze_bias_model_trace.png'.format(subject), dpi=330)\n",
    "    plt.close()\n",
    "    pm.trace_to_dataframe(subject_trace).to_csv(\n",
    "        'examples/example_1/results/in_sample/traces/sub_{}_no_gaze_bias_model_trace.csv'.format(subject))"
   ]
  },
  {
   "cell_type": "markdown",
   "metadata": {},
   "source": [
    "After convergence has been established for all parameter traces (for details on the suggested convergence criteria, see the Methods Section of the manuscript), we perform a model comparison on the individual level, using the `compare` function:"
   ]
  },
  {
   "cell_type": "markdown",
   "metadata": {},
   "source": [
    "The resulting table can be used to identify the best fitting model (indicated by the lowest WAIC score) per individual."
   ]
  },
  {
   "cell_type": "code",
   "execution_count": 24,
   "metadata": {
    "collapsed": false
   },
   "outputs": [
    {
     "data": {
      "text/html": [
       "<div>\n",
       "<style scoped>\n",
       "    .dataframe tbody tr th:only-of-type {\n",
       "        vertical-align: middle;\n",
       "    }\n",
       "\n",
       "    .dataframe tbody tr th {\n",
       "        vertical-align: top;\n",
       "    }\n",
       "\n",
       "    .dataframe thead th {\n",
       "        text-align: right;\n",
       "    }\n",
       "</style>\n",
       "<table border=\"1\" class=\"dataframe\">\n",
       "  <thead>\n",
       "    <tr style=\"text-align: right;\">\n",
       "      <th></th>\n",
       "      <th>subject</th>\n",
       "      <th>model</th>\n",
       "      <th>WAIC</th>\n",
       "      <th>pWAIC</th>\n",
       "      <th>dWAIC</th>\n",
       "      <th>weight</th>\n",
       "      <th>SE</th>\n",
       "      <th>dSE</th>\n",
       "      <th>var_warn</th>\n",
       "    </tr>\n",
       "  </thead>\n",
       "  <tbody>\n",
       "    <tr>\n",
       "      <th>0</th>\n",
       "      <td>0</td>\n",
       "      <td>glam_bias</td>\n",
       "      <td>523.6</td>\n",
       "      <td>5.75</td>\n",
       "      <td>0</td>\n",
       "      <td>0.94</td>\n",
       "      <td>50.25</td>\n",
       "      <td>0</td>\n",
       "      <td>0</td>\n",
       "    </tr>\n",
       "    <tr>\n",
       "      <th>1</th>\n",
       "      <td>0</td>\n",
       "      <td>glam_nobias</td>\n",
       "      <td>645.09</td>\n",
       "      <td>3.64</td>\n",
       "      <td>121.49</td>\n",
       "      <td>0.06</td>\n",
       "      <td>44.15</td>\n",
       "      <td>23.56</td>\n",
       "      <td>0</td>\n",
       "    </tr>\n",
       "    <tr>\n",
       "      <th>2</th>\n",
       "      <td>1</td>\n",
       "      <td>glam_bias</td>\n",
       "      <td>1097.86</td>\n",
       "      <td>3.69</td>\n",
       "      <td>0</td>\n",
       "      <td>1</td>\n",
       "      <td>40.32</td>\n",
       "      <td>0</td>\n",
       "      <td>0</td>\n",
       "    </tr>\n",
       "    <tr>\n",
       "      <th>3</th>\n",
       "      <td>1</td>\n",
       "      <td>glam_nobias</td>\n",
       "      <td>1185.02</td>\n",
       "      <td>2.85</td>\n",
       "      <td>87.16</td>\n",
       "      <td>0</td>\n",
       "      <td>38.22</td>\n",
       "      <td>18</td>\n",
       "      <td>0</td>\n",
       "    </tr>\n",
       "    <tr>\n",
       "      <th>4</th>\n",
       "      <td>2</td>\n",
       "      <td>glam_bias</td>\n",
       "      <td>832.43</td>\n",
       "      <td>4.02</td>\n",
       "      <td>0</td>\n",
       "      <td>1</td>\n",
       "      <td>41.15</td>\n",
       "      <td>0</td>\n",
       "      <td>0</td>\n",
       "    </tr>\n",
       "    <tr>\n",
       "      <th>5</th>\n",
       "      <td>2</td>\n",
       "      <td>glam_nobias</td>\n",
       "      <td>847.56</td>\n",
       "      <td>3.02</td>\n",
       "      <td>15.12</td>\n",
       "      <td>0</td>\n",
       "      <td>41.33</td>\n",
       "      <td>7.74</td>\n",
       "      <td>0</td>\n",
       "    </tr>\n",
       "    <tr>\n",
       "      <th>6</th>\n",
       "      <td>3</td>\n",
       "      <td>glam_nobias</td>\n",
       "      <td>690.75</td>\n",
       "      <td>2.9</td>\n",
       "      <td>0</td>\n",
       "      <td>0.79</td>\n",
       "      <td>45.73</td>\n",
       "      <td>0</td>\n",
       "      <td>0</td>\n",
       "    </tr>\n",
       "    <tr>\n",
       "      <th>7</th>\n",
       "      <td>3</td>\n",
       "      <td>glam_bias</td>\n",
       "      <td>691.47</td>\n",
       "      <td>3.37</td>\n",
       "      <td>0.72</td>\n",
       "      <td>0.21</td>\n",
       "      <td>45.74</td>\n",
       "      <td>2.26</td>\n",
       "      <td>0</td>\n",
       "    </tr>\n",
       "    <tr>\n",
       "      <th>8</th>\n",
       "      <td>4</td>\n",
       "      <td>glam_bias</td>\n",
       "      <td>927.23</td>\n",
       "      <td>3.61</td>\n",
       "      <td>0</td>\n",
       "      <td>0.99</td>\n",
       "      <td>39.4</td>\n",
       "      <td>0</td>\n",
       "      <td>0</td>\n",
       "    </tr>\n",
       "    <tr>\n",
       "      <th>9</th>\n",
       "      <td>4</td>\n",
       "      <td>glam_nobias</td>\n",
       "      <td>966.35</td>\n",
       "      <td>2.68</td>\n",
       "      <td>39.12</td>\n",
       "      <td>0.01</td>\n",
       "      <td>37.55</td>\n",
       "      <td>12.09</td>\n",
       "      <td>0</td>\n",
       "    </tr>\n",
       "    <tr>\n",
       "      <th>10</th>\n",
       "      <td>5</td>\n",
       "      <td>glam_bias</td>\n",
       "      <td>1047.15</td>\n",
       "      <td>3.85</td>\n",
       "      <td>0</td>\n",
       "      <td>0.99</td>\n",
       "      <td>42.42</td>\n",
       "      <td>0</td>\n",
       "      <td>0</td>\n",
       "    </tr>\n",
       "    <tr>\n",
       "      <th>11</th>\n",
       "      <td>5</td>\n",
       "      <td>glam_nobias</td>\n",
       "      <td>1460.1</td>\n",
       "      <td>2.99</td>\n",
       "      <td>412.95</td>\n",
       "      <td>0.01</td>\n",
       "      <td>33.1</td>\n",
       "      <td>30.37</td>\n",
       "      <td>0</td>\n",
       "    </tr>\n",
       "    <tr>\n",
       "      <th>12</th>\n",
       "      <td>6</td>\n",
       "      <td>glam_bias</td>\n",
       "      <td>1821.62</td>\n",
       "      <td>4.5</td>\n",
       "      <td>0</td>\n",
       "      <td>0.98</td>\n",
       "      <td>44.58</td>\n",
       "      <td>0</td>\n",
       "      <td>0</td>\n",
       "    </tr>\n",
       "    <tr>\n",
       "      <th>13</th>\n",
       "      <td>6</td>\n",
       "      <td>glam_nobias</td>\n",
       "      <td>1883.22</td>\n",
       "      <td>3.33</td>\n",
       "      <td>61.6</td>\n",
       "      <td>0.02</td>\n",
       "      <td>41.92</td>\n",
       "      <td>15.77</td>\n",
       "      <td>0</td>\n",
       "    </tr>\n",
       "    <tr>\n",
       "      <th>14</th>\n",
       "      <td>7</td>\n",
       "      <td>glam_bias</td>\n",
       "      <td>1042.19</td>\n",
       "      <td>3.7</td>\n",
       "      <td>0</td>\n",
       "      <td>1</td>\n",
       "      <td>43.31</td>\n",
       "      <td>0</td>\n",
       "      <td>0</td>\n",
       "    </tr>\n",
       "    <tr>\n",
       "      <th>15</th>\n",
       "      <td>7</td>\n",
       "      <td>glam_nobias</td>\n",
       "      <td>1354.08</td>\n",
       "      <td>2.1</td>\n",
       "      <td>311.89</td>\n",
       "      <td>0</td>\n",
       "      <td>29.78</td>\n",
       "      <td>26.01</td>\n",
       "      <td>0</td>\n",
       "    </tr>\n",
       "    <tr>\n",
       "      <th>16</th>\n",
       "      <td>8</td>\n",
       "      <td>glam_bias</td>\n",
       "      <td>295.23</td>\n",
       "      <td>3.34</td>\n",
       "      <td>0</td>\n",
       "      <td>1</td>\n",
       "      <td>49.43</td>\n",
       "      <td>0</td>\n",
       "      <td>0</td>\n",
       "    </tr>\n",
       "    <tr>\n",
       "      <th>17</th>\n",
       "      <td>8</td>\n",
       "      <td>glam_nobias</td>\n",
       "      <td>424.61</td>\n",
       "      <td>2.55</td>\n",
       "      <td>129.38</td>\n",
       "      <td>0</td>\n",
       "      <td>48.14</td>\n",
       "      <td>21.22</td>\n",
       "      <td>0</td>\n",
       "    </tr>\n",
       "    <tr>\n",
       "      <th>18</th>\n",
       "      <td>9</td>\n",
       "      <td>glam_bias</td>\n",
       "      <td>966.07</td>\n",
       "      <td>3.82</td>\n",
       "      <td>0</td>\n",
       "      <td>0.96</td>\n",
       "      <td>44.74</td>\n",
       "      <td>0</td>\n",
       "      <td>0</td>\n",
       "    </tr>\n",
       "    <tr>\n",
       "      <th>19</th>\n",
       "      <td>9</td>\n",
       "      <td>glam_nobias</td>\n",
       "      <td>1267.56</td>\n",
       "      <td>2.97</td>\n",
       "      <td>301.49</td>\n",
       "      <td>0.04</td>\n",
       "      <td>34.8</td>\n",
       "      <td>31.21</td>\n",
       "      <td>0</td>\n",
       "    </tr>\n",
       "    <tr>\n",
       "      <th>20</th>\n",
       "      <td>10</td>\n",
       "      <td>glam_nobias</td>\n",
       "      <td>732.99</td>\n",
       "      <td>2.81</td>\n",
       "      <td>0</td>\n",
       "      <td>1</td>\n",
       "      <td>42.6</td>\n",
       "      <td>0</td>\n",
       "      <td>0</td>\n",
       "    </tr>\n",
       "    <tr>\n",
       "      <th>21</th>\n",
       "      <td>10</td>\n",
       "      <td>glam_bias</td>\n",
       "      <td>734.6</td>\n",
       "      <td>2.96</td>\n",
       "      <td>1.61</td>\n",
       "      <td>0</td>\n",
       "      <td>42.55</td>\n",
       "      <td>0.97</td>\n",
       "      <td>0</td>\n",
       "    </tr>\n",
       "    <tr>\n",
       "      <th>22</th>\n",
       "      <td>11</td>\n",
       "      <td>glam_bias</td>\n",
       "      <td>683.41</td>\n",
       "      <td>4.09</td>\n",
       "      <td>0</td>\n",
       "      <td>0.99</td>\n",
       "      <td>51.38</td>\n",
       "      <td>0</td>\n",
       "      <td>0</td>\n",
       "    </tr>\n",
       "    <tr>\n",
       "      <th>23</th>\n",
       "      <td>11</td>\n",
       "      <td>glam_nobias</td>\n",
       "      <td>879.43</td>\n",
       "      <td>2.9</td>\n",
       "      <td>196.02</td>\n",
       "      <td>0.01</td>\n",
       "      <td>44.38</td>\n",
       "      <td>26.28</td>\n",
       "      <td>0</td>\n",
       "    </tr>\n",
       "    <tr>\n",
       "      <th>24</th>\n",
       "      <td>12</td>\n",
       "      <td>glam_bias</td>\n",
       "      <td>957.48</td>\n",
       "      <td>4</td>\n",
       "      <td>0</td>\n",
       "      <td>0.95</td>\n",
       "      <td>42</td>\n",
       "      <td>0</td>\n",
       "      <td>0</td>\n",
       "    </tr>\n",
       "    <tr>\n",
       "      <th>25</th>\n",
       "      <td>12</td>\n",
       "      <td>glam_nobias</td>\n",
       "      <td>1065.61</td>\n",
       "      <td>2.76</td>\n",
       "      <td>108.13</td>\n",
       "      <td>0.05</td>\n",
       "      <td>39.32</td>\n",
       "      <td>21.55</td>\n",
       "      <td>0</td>\n",
       "    </tr>\n",
       "    <tr>\n",
       "      <th>26</th>\n",
       "      <td>13</td>\n",
       "      <td>glam_bias</td>\n",
       "      <td>927.51</td>\n",
       "      <td>4.13</td>\n",
       "      <td>0</td>\n",
       "      <td>0.99</td>\n",
       "      <td>45.41</td>\n",
       "      <td>0</td>\n",
       "      <td>0</td>\n",
       "    </tr>\n",
       "    <tr>\n",
       "      <th>27</th>\n",
       "      <td>13</td>\n",
       "      <td>glam_nobias</td>\n",
       "      <td>1049.05</td>\n",
       "      <td>3.03</td>\n",
       "      <td>121.54</td>\n",
       "      <td>0.01</td>\n",
       "      <td>42.55</td>\n",
       "      <td>21.65</td>\n",
       "      <td>0</td>\n",
       "    </tr>\n",
       "    <tr>\n",
       "      <th>28</th>\n",
       "      <td>14</td>\n",
       "      <td>glam_nobias</td>\n",
       "      <td>483.89</td>\n",
       "      <td>2.76</td>\n",
       "      <td>0</td>\n",
       "      <td>1</td>\n",
       "      <td>48.24</td>\n",
       "      <td>0</td>\n",
       "      <td>0</td>\n",
       "    </tr>\n",
       "    <tr>\n",
       "      <th>29</th>\n",
       "      <td>14</td>\n",
       "      <td>glam_bias</td>\n",
       "      <td>485.6</td>\n",
       "      <td>3.06</td>\n",
       "      <td>1.71</td>\n",
       "      <td>0</td>\n",
       "      <td>48.22</td>\n",
       "      <td>1.25</td>\n",
       "      <td>0</td>\n",
       "    </tr>\n",
       "    <tr>\n",
       "      <th>30</th>\n",
       "      <td>15</td>\n",
       "      <td>glam_bias</td>\n",
       "      <td>1760.66</td>\n",
       "      <td>4.02</td>\n",
       "      <td>0</td>\n",
       "      <td>0.94</td>\n",
       "      <td>43.82</td>\n",
       "      <td>0</td>\n",
       "      <td>0</td>\n",
       "    </tr>\n",
       "    <tr>\n",
       "      <th>31</th>\n",
       "      <td>15</td>\n",
       "      <td>glam_nobias</td>\n",
       "      <td>1899.37</td>\n",
       "      <td>3.12</td>\n",
       "      <td>138.71</td>\n",
       "      <td>0.06</td>\n",
       "      <td>40.82</td>\n",
       "      <td>25.18</td>\n",
       "      <td>0</td>\n",
       "    </tr>\n",
       "    <tr>\n",
       "      <th>32</th>\n",
       "      <td>16</td>\n",
       "      <td>glam_bias</td>\n",
       "      <td>1180.79</td>\n",
       "      <td>4.42</td>\n",
       "      <td>0</td>\n",
       "      <td>0.91</td>\n",
       "      <td>39.88</td>\n",
       "      <td>0</td>\n",
       "      <td>0</td>\n",
       "    </tr>\n",
       "    <tr>\n",
       "      <th>33</th>\n",
       "      <td>16</td>\n",
       "      <td>glam_nobias</td>\n",
       "      <td>1268.26</td>\n",
       "      <td>2.87</td>\n",
       "      <td>87.47</td>\n",
       "      <td>0.09</td>\n",
       "      <td>36.97</td>\n",
       "      <td>20.29</td>\n",
       "      <td>0</td>\n",
       "    </tr>\n",
       "    <tr>\n",
       "      <th>34</th>\n",
       "      <td>17</td>\n",
       "      <td>glam_nobias</td>\n",
       "      <td>935.04</td>\n",
       "      <td>3.04</td>\n",
       "      <td>0</td>\n",
       "      <td>1</td>\n",
       "      <td>42.46</td>\n",
       "      <td>0</td>\n",
       "      <td>0</td>\n",
       "    </tr>\n",
       "    <tr>\n",
       "      <th>35</th>\n",
       "      <td>17</td>\n",
       "      <td>glam_bias</td>\n",
       "      <td>936.51</td>\n",
       "      <td>3.18</td>\n",
       "      <td>1.47</td>\n",
       "      <td>0</td>\n",
       "      <td>42.52</td>\n",
       "      <td>1.23</td>\n",
       "      <td>0</td>\n",
       "    </tr>\n",
       "    <tr>\n",
       "      <th>36</th>\n",
       "      <td>18</td>\n",
       "      <td>glam_bias</td>\n",
       "      <td>747.64</td>\n",
       "      <td>4.01</td>\n",
       "      <td>0</td>\n",
       "      <td>0.96</td>\n",
       "      <td>38.14</td>\n",
       "      <td>0</td>\n",
       "      <td>0</td>\n",
       "    </tr>\n",
       "    <tr>\n",
       "      <th>37</th>\n",
       "      <td>18</td>\n",
       "      <td>glam_nobias</td>\n",
       "      <td>842.02</td>\n",
       "      <td>2.67</td>\n",
       "      <td>94.38</td>\n",
       "      <td>0.04</td>\n",
       "      <td>34.93</td>\n",
       "      <td>19.44</td>\n",
       "      <td>0</td>\n",
       "    </tr>\n",
       "    <tr>\n",
       "      <th>38</th>\n",
       "      <td>19</td>\n",
       "      <td>glam_bias</td>\n",
       "      <td>1191.53</td>\n",
       "      <td>3.91</td>\n",
       "      <td>0</td>\n",
       "      <td>0.65</td>\n",
       "      <td>38.44</td>\n",
       "      <td>0</td>\n",
       "      <td>0</td>\n",
       "    </tr>\n",
       "    <tr>\n",
       "      <th>39</th>\n",
       "      <td>19</td>\n",
       "      <td>glam_nobias</td>\n",
       "      <td>1192.6</td>\n",
       "      <td>2.94</td>\n",
       "      <td>1.07</td>\n",
       "      <td>0.35</td>\n",
       "      <td>37.99</td>\n",
       "      <td>3.79</td>\n",
       "      <td>0</td>\n",
       "    </tr>\n",
       "    <tr>\n",
       "      <th>40</th>\n",
       "      <td>20</td>\n",
       "      <td>glam_nobias</td>\n",
       "      <td>3024.94</td>\n",
       "      <td>2.17</td>\n",
       "      <td>0</td>\n",
       "      <td>1</td>\n",
       "      <td>170.6</td>\n",
       "      <td>0</td>\n",
       "      <td>0</td>\n",
       "    </tr>\n",
       "    <tr>\n",
       "      <th>41</th>\n",
       "      <td>20</td>\n",
       "      <td>glam_bias</td>\n",
       "      <td>3026.69</td>\n",
       "      <td>2.54</td>\n",
       "      <td>1.75</td>\n",
       "      <td>0</td>\n",
       "      <td>170.54</td>\n",
       "      <td>1.63</td>\n",
       "      <td>0</td>\n",
       "    </tr>\n",
       "    <tr>\n",
       "      <th>42</th>\n",
       "      <td>21</td>\n",
       "      <td>glam_nobias</td>\n",
       "      <td>904.11</td>\n",
       "      <td>2.78</td>\n",
       "      <td>0</td>\n",
       "      <td>1</td>\n",
       "      <td>42.13</td>\n",
       "      <td>0</td>\n",
       "      <td>0</td>\n",
       "    </tr>\n",
       "    <tr>\n",
       "      <th>43</th>\n",
       "      <td>21</td>\n",
       "      <td>glam_bias</td>\n",
       "      <td>905.02</td>\n",
       "      <td>3.14</td>\n",
       "      <td>0.91</td>\n",
       "      <td>0</td>\n",
       "      <td>42.11</td>\n",
       "      <td>1.83</td>\n",
       "      <td>0</td>\n",
       "    </tr>\n",
       "    <tr>\n",
       "      <th>44</th>\n",
       "      <td>22</td>\n",
       "      <td>glam_nobias</td>\n",
       "      <td>1051.61</td>\n",
       "      <td>3.29</td>\n",
       "      <td>0</td>\n",
       "      <td>1</td>\n",
       "      <td>37.47</td>\n",
       "      <td>0</td>\n",
       "      <td>0</td>\n",
       "    </tr>\n",
       "    <tr>\n",
       "      <th>45</th>\n",
       "      <td>22</td>\n",
       "      <td>glam_bias</td>\n",
       "      <td>1053.29</td>\n",
       "      <td>3.61</td>\n",
       "      <td>1.68</td>\n",
       "      <td>0</td>\n",
       "      <td>37.34</td>\n",
       "      <td>1.27</td>\n",
       "      <td>0</td>\n",
       "    </tr>\n",
       "    <tr>\n",
       "      <th>46</th>\n",
       "      <td>23</td>\n",
       "      <td>glam_bias</td>\n",
       "      <td>1432.37</td>\n",
       "      <td>4.2</td>\n",
       "      <td>0</td>\n",
       "      <td>0.95</td>\n",
       "      <td>43.26</td>\n",
       "      <td>0</td>\n",
       "      <td>0</td>\n",
       "    </tr>\n",
       "    <tr>\n",
       "      <th>47</th>\n",
       "      <td>23</td>\n",
       "      <td>glam_nobias</td>\n",
       "      <td>1474.78</td>\n",
       "      <td>2.99</td>\n",
       "      <td>42.41</td>\n",
       "      <td>0.05</td>\n",
       "      <td>41.99</td>\n",
       "      <td>13.38</td>\n",
       "      <td>0</td>\n",
       "    </tr>\n",
       "    <tr>\n",
       "      <th>48</th>\n",
       "      <td>24</td>\n",
       "      <td>glam_nobias</td>\n",
       "      <td>1695.8</td>\n",
       "      <td>3.36</td>\n",
       "      <td>0</td>\n",
       "      <td>1</td>\n",
       "      <td>39.82</td>\n",
       "      <td>0</td>\n",
       "      <td>0</td>\n",
       "    </tr>\n",
       "    <tr>\n",
       "      <th>49</th>\n",
       "      <td>24</td>\n",
       "      <td>glam_bias</td>\n",
       "      <td>1697.75</td>\n",
       "      <td>3.64</td>\n",
       "      <td>1.94</td>\n",
       "      <td>0</td>\n",
       "      <td>39.81</td>\n",
       "      <td>1.03</td>\n",
       "      <td>0</td>\n",
       "    </tr>\n",
       "    <tr>\n",
       "      <th>50</th>\n",
       "      <td>25</td>\n",
       "      <td>glam_bias</td>\n",
       "      <td>1158.37</td>\n",
       "      <td>3.84</td>\n",
       "      <td>0</td>\n",
       "      <td>1</td>\n",
       "      <td>42.29</td>\n",
       "      <td>0</td>\n",
       "      <td>0</td>\n",
       "    </tr>\n",
       "    <tr>\n",
       "      <th>51</th>\n",
       "      <td>25</td>\n",
       "      <td>glam_nobias</td>\n",
       "      <td>1452.21</td>\n",
       "      <td>2.67</td>\n",
       "      <td>293.85</td>\n",
       "      <td>0</td>\n",
       "      <td>29.41</td>\n",
       "      <td>28.28</td>\n",
       "      <td>0</td>\n",
       "    </tr>\n",
       "    <tr>\n",
       "      <th>52</th>\n",
       "      <td>26</td>\n",
       "      <td>glam_nobias</td>\n",
       "      <td>451.16</td>\n",
       "      <td>3.74</td>\n",
       "      <td>0</td>\n",
       "      <td>1</td>\n",
       "      <td>46.43</td>\n",
       "      <td>0</td>\n",
       "      <td>0</td>\n",
       "    </tr>\n",
       "    <tr>\n",
       "      <th>53</th>\n",
       "      <td>26</td>\n",
       "      <td>glam_bias</td>\n",
       "      <td>452.31</td>\n",
       "      <td>3.99</td>\n",
       "      <td>1.15</td>\n",
       "      <td>0</td>\n",
       "      <td>46.15</td>\n",
       "      <td>1.91</td>\n",
       "      <td>0</td>\n",
       "    </tr>\n",
       "    <tr>\n",
       "      <th>54</th>\n",
       "      <td>27</td>\n",
       "      <td>glam_bias</td>\n",
       "      <td>867.65</td>\n",
       "      <td>3.52</td>\n",
       "      <td>0</td>\n",
       "      <td>1</td>\n",
       "      <td>42.55</td>\n",
       "      <td>0</td>\n",
       "      <td>0</td>\n",
       "    </tr>\n",
       "    <tr>\n",
       "      <th>55</th>\n",
       "      <td>27</td>\n",
       "      <td>glam_nobias</td>\n",
       "      <td>895.33</td>\n",
       "      <td>2.6</td>\n",
       "      <td>27.69</td>\n",
       "      <td>0</td>\n",
       "      <td>43.06</td>\n",
       "      <td>9.67</td>\n",
       "      <td>0</td>\n",
       "    </tr>\n",
       "    <tr>\n",
       "      <th>56</th>\n",
       "      <td>28</td>\n",
       "      <td>glam_bias</td>\n",
       "      <td>1175.13</td>\n",
       "      <td>4.43</td>\n",
       "      <td>0</td>\n",
       "      <td>0.98</td>\n",
       "      <td>39.55</td>\n",
       "      <td>0</td>\n",
       "      <td>0</td>\n",
       "    </tr>\n",
       "    <tr>\n",
       "      <th>57</th>\n",
       "      <td>28</td>\n",
       "      <td>glam_nobias</td>\n",
       "      <td>1445.24</td>\n",
       "      <td>2.87</td>\n",
       "      <td>270.11</td>\n",
       "      <td>0.02</td>\n",
       "      <td>32.8</td>\n",
       "      <td>29.11</td>\n",
       "      <td>0</td>\n",
       "    </tr>\n",
       "    <tr>\n",
       "      <th>58</th>\n",
       "      <td>29</td>\n",
       "      <td>glam_bias</td>\n",
       "      <td>685.52</td>\n",
       "      <td>4.33</td>\n",
       "      <td>0</td>\n",
       "      <td>1</td>\n",
       "      <td>45.94</td>\n",
       "      <td>0</td>\n",
       "      <td>0</td>\n",
       "    </tr>\n",
       "    <tr>\n",
       "      <th>59</th>\n",
       "      <td>29</td>\n",
       "      <td>glam_nobias</td>\n",
       "      <td>1024.66</td>\n",
       "      <td>3.09</td>\n",
       "      <td>339.15</td>\n",
       "      <td>0</td>\n",
       "      <td>39.26</td>\n",
       "      <td>27.55</td>\n",
       "      <td>0</td>\n",
       "    </tr>\n",
       "  </tbody>\n",
       "</table>\n",
       "</div>"
      ],
      "text/plain": [
       "    subject        model     WAIC pWAIC   dWAIC weight      SE    dSE var_warn\n",
       "0         0    glam_bias    523.6  5.75       0   0.94   50.25      0        0\n",
       "1         0  glam_nobias   645.09  3.64  121.49   0.06   44.15  23.56        0\n",
       "2         1    glam_bias  1097.86  3.69       0      1   40.32      0        0\n",
       "3         1  glam_nobias  1185.02  2.85   87.16      0   38.22     18        0\n",
       "4         2    glam_bias   832.43  4.02       0      1   41.15      0        0\n",
       "5         2  glam_nobias   847.56  3.02   15.12      0   41.33   7.74        0\n",
       "6         3  glam_nobias   690.75   2.9       0   0.79   45.73      0        0\n",
       "7         3    glam_bias   691.47  3.37    0.72   0.21   45.74   2.26        0\n",
       "8         4    glam_bias   927.23  3.61       0   0.99    39.4      0        0\n",
       "9         4  glam_nobias   966.35  2.68   39.12   0.01   37.55  12.09        0\n",
       "10        5    glam_bias  1047.15  3.85       0   0.99   42.42      0        0\n",
       "11        5  glam_nobias   1460.1  2.99  412.95   0.01    33.1  30.37        0\n",
       "12        6    glam_bias  1821.62   4.5       0   0.98   44.58      0        0\n",
       "13        6  glam_nobias  1883.22  3.33    61.6   0.02   41.92  15.77        0\n",
       "14        7    glam_bias  1042.19   3.7       0      1   43.31      0        0\n",
       "15        7  glam_nobias  1354.08   2.1  311.89      0   29.78  26.01        0\n",
       "16        8    glam_bias   295.23  3.34       0      1   49.43      0        0\n",
       "17        8  glam_nobias   424.61  2.55  129.38      0   48.14  21.22        0\n",
       "18        9    glam_bias   966.07  3.82       0   0.96   44.74      0        0\n",
       "19        9  glam_nobias  1267.56  2.97  301.49   0.04    34.8  31.21        0\n",
       "20       10  glam_nobias   732.99  2.81       0      1    42.6      0        0\n",
       "21       10    glam_bias    734.6  2.96    1.61      0   42.55   0.97        0\n",
       "22       11    glam_bias   683.41  4.09       0   0.99   51.38      0        0\n",
       "23       11  glam_nobias   879.43   2.9  196.02   0.01   44.38  26.28        0\n",
       "24       12    glam_bias   957.48     4       0   0.95      42      0        0\n",
       "25       12  glam_nobias  1065.61  2.76  108.13   0.05   39.32  21.55        0\n",
       "26       13    glam_bias   927.51  4.13       0   0.99   45.41      0        0\n",
       "27       13  glam_nobias  1049.05  3.03  121.54   0.01   42.55  21.65        0\n",
       "28       14  glam_nobias   483.89  2.76       0      1   48.24      0        0\n",
       "29       14    glam_bias    485.6  3.06    1.71      0   48.22   1.25        0\n",
       "30       15    glam_bias  1760.66  4.02       0   0.94   43.82      0        0\n",
       "31       15  glam_nobias  1899.37  3.12  138.71   0.06   40.82  25.18        0\n",
       "32       16    glam_bias  1180.79  4.42       0   0.91   39.88      0        0\n",
       "33       16  glam_nobias  1268.26  2.87   87.47   0.09   36.97  20.29        0\n",
       "34       17  glam_nobias   935.04  3.04       0      1   42.46      0        0\n",
       "35       17    glam_bias   936.51  3.18    1.47      0   42.52   1.23        0\n",
       "36       18    glam_bias   747.64  4.01       0   0.96   38.14      0        0\n",
       "37       18  glam_nobias   842.02  2.67   94.38   0.04   34.93  19.44        0\n",
       "38       19    glam_bias  1191.53  3.91       0   0.65   38.44      0        0\n",
       "39       19  glam_nobias   1192.6  2.94    1.07   0.35   37.99   3.79        0\n",
       "40       20  glam_nobias  3024.94  2.17       0      1   170.6      0        0\n",
       "41       20    glam_bias  3026.69  2.54    1.75      0  170.54   1.63        0\n",
       "42       21  glam_nobias   904.11  2.78       0      1   42.13      0        0\n",
       "43       21    glam_bias   905.02  3.14    0.91      0   42.11   1.83        0\n",
       "44       22  glam_nobias  1051.61  3.29       0      1   37.47      0        0\n",
       "45       22    glam_bias  1053.29  3.61    1.68      0   37.34   1.27        0\n",
       "46       23    glam_bias  1432.37   4.2       0   0.95   43.26      0        0\n",
       "47       23  glam_nobias  1474.78  2.99   42.41   0.05   41.99  13.38        0\n",
       "48       24  glam_nobias   1695.8  3.36       0      1   39.82      0        0\n",
       "49       24    glam_bias  1697.75  3.64    1.94      0   39.81   1.03        0\n",
       "50       25    glam_bias  1158.37  3.84       0      1   42.29      0        0\n",
       "51       25  glam_nobias  1452.21  2.67  293.85      0   29.41  28.28        0\n",
       "52       26  glam_nobias   451.16  3.74       0      1   46.43      0        0\n",
       "53       26    glam_bias   452.31  3.99    1.15      0   46.15   1.91        0\n",
       "54       27    glam_bias   867.65  3.52       0      1   42.55      0        0\n",
       "55       27  glam_nobias   895.33   2.6   27.69      0   43.06   9.67        0\n",
       "56       28    glam_bias  1175.13  4.43       0   0.98   39.55      0        0\n",
       "57       28  glam_nobias  1445.24  2.87  270.11   0.02    32.8  29.11        0\n",
       "58       29    glam_bias   685.52  4.33       0      1   45.94      0        0\n",
       "59       29  glam_nobias  1024.66  3.09  339.15      0   39.26  27.55        0"
      ]
     },
     "execution_count": 24,
     "metadata": {},
     "output_type": "execute_result"
    }
   ],
   "source": [
    "comparison_df = gb.analysis.compare_models(models=[glam_bias, glam_nobias])\n",
    "comparison_df"
   ]
  },
  {
   "cell_type": "markdown",
   "metadata": {},
   "source": [
    "Visualising the individual WAIC differences:"
   ]
  },
  {
   "cell_type": "code",
   "execution_count": 25,
   "metadata": {
    "collapsed": false
   },
   "outputs": [
    {
     "data": {
      "text/plain": [
       "array([-121.49,  -87.16,  -15.13,    0.72,  -39.12, -412.95,  -61.6 ,\n",
       "       -311.89, -129.38, -301.49,    1.61, -196.02, -108.13, -121.54,\n",
       "          1.71, -138.71,  -87.47,    1.47,  -94.38,   -1.07,    1.75,\n",
       "          0.91,    1.68,  -42.41,    1.95, -293.84,    1.15,  -27.68,\n",
       "       -270.11, -339.14])"
      ]
     },
     "execution_count": 25,
     "metadata": {},
     "output_type": "execute_result"
    }
   ],
   "source": [
    "dWAIC = []\n",
    "for subject in subjects:\n",
    "    comp_s = comparison_df.loc[comparison_df['subject'] == subject]\n",
    "    dWAIC_s = comp_s.loc[comp_s['model'] == 'glam_bias', 'WAIC'].values - comp_s.loc[comp_s['model'] == 'glam_nobias', 'WAIC'].values\n",
    "    dWAIC.append(dWAIC_s[0])\n",
    "dWAIC = np.array(dWAIC)\n",
    "np.save('examples/example_1/results/in_sample/model_comparison/dWAIC_in_sample.npy', dWAIC)\n",
    "dWAIC"
   ]
  },
  {
   "cell_type": "code",
   "execution_count": 26,
   "metadata": {
    "collapsed": true
   },
   "outputs": [],
   "source": [
    "# identify subjects better described by each model variant\n",
    "gaze_bias_idx = dWAIC < 0\n",
    "no_gaze_bias_idx = dWAIC > 0"
   ]
  },
  {
   "cell_type": "code",
   "execution_count": 28,
   "metadata": {
    "collapsed": false
   },
   "outputs": [
    {
     "data": {
      "image/png": "[encoded data removed]",
      "text/plain": [
       "<Figure size 779.528x259.843 with 1 Axes>"
      ]
     },
     "metadata": {
      "needs_background": "light"
     },
     "output_type": "display_data"
    }
   ],
   "source": [
    "fig, ax = plt.subplots(1, 1, figsize=gb.plots._plots_internal.cm2inch(18,6), dpi=110)\n",
    "\n",
    "ax.bar(subjects[gaze_bias_idx], dWAIC[gaze_bias_idx], color='C0', label='gaze bias')\n",
    "ax.bar(subjects[no_gaze_bias_idx], dWAIC[no_gaze_bias_idx], color='C1', label='no gaze bias')\n",
    "ax.set_xlabel('Subjects', fontsize=7)\n",
    "ax.set_ylabel('WAIC( gaze bias )'+' -\\n'+'WAIC( no gaze bias )', fontsize=7)\n",
    "ax.legend(loc='lower left', frameon=False, fontsize=7)\n",
    "ax.set_xticks([])\n",
    "ax.tick_params(axis='both', which='major', labelsize=7)\n",
    "ax.spines['top'].set_visible(False)\n",
    "ax.spines['right'].set_visible(False)\n",
    "\n",
    "fig.tight_layout()\n",
    "\n",
    "fig.savefig('examples/example_1/figures/relative_model_comparison.png', dpi=330)"
   ]
  },
  {
   "cell_type": "markdown",
   "metadata": {},
   "source": [
    "With this comparison, we are able to identify those participants whose response behaviour matches the assumption of gaze-biased evidence accumulation. In particular, we find that we accurately recover whether an individual has a gaze bias or not for 29 out of 30 individuals."
   ]
  },
  {
   "cell_type": "code",
   "execution_count": 29,
   "metadata": {
    "collapsed": false
   },
   "outputs": [
    {
     "data": {
      "text/plain": [
       "array([ 3, 10, 14, 17, 19, 20, 21, 22, 24, 26])"
      ]
     },
     "execution_count": 29,
     "metadata": {},
     "output_type": "execute_result"
    }
   ],
   "source": [
    "no_gaze_bias_subjects"
   ]
  },
  {
   "cell_type": "code",
   "execution_count": 30,
   "metadata": {
    "collapsed": false
   },
   "outputs": [
    {
     "data": {
      "text/plain": [
       "array([ 3, 10, 14, 17, 20, 21, 22, 24, 26])"
      ]
     },
     "execution_count": 30,
     "metadata": {},
     "output_type": "execute_result"
    }
   ],
   "source": [
    "subjects[no_gaze_bias_idx]"
   ]
  },
  {
   "cell_type": "code",
   "execution_count": 31,
   "metadata": {
    "collapsed": false
   },
   "outputs": [
    {
     "data": {
      "text/plain": [
       "[True, True, True, True, False, True, True, True, True, True]"
      ]
     },
     "execution_count": 31,
     "metadata": {},
     "output_type": "execute_result"
    }
   ],
   "source": [
    "[s in subjects[no_gaze_bias_idx] for s in no_gaze_bias_subjects]"
   ]
  },
  {
   "cell_type": "markdown",
   "metadata": {},
   "source": [
    "Looking at the individual parameter estimates (defined as MAP of the posterior distributions), we find that the individually fitted $\\gamma$ values cover a wide range between -0.8 and 1 (A), indicating strong variability in the strength of individuals' gaze bias. We also find that $\\gamma$ estimates have a strong negative correlation with individuals' scores on the behavioural gaze bias measure (B)."
   ]
  },
  {
   "cell_type": "code",
   "execution_count": 34,
   "metadata": {
    "collapsed": false
   },
   "outputs": [
    {
     "data": {
      "image/png": "[encoded data removed]",
      "text/plain": [
       "<Figure size 1169.29x584.646 with 2 Axes>"
      ]
     },
     "metadata": {
      "needs_background": "light"
     },
     "output_type": "display_data"
    }
   ],
   "source": [
    "np.random.seed(10)\n",
    "\n",
    "fig, axs = plt.subplots(1, 2, figsize=gb.plots._plots_internal.cm2inch(9, 4.5), dpi=330)\n",
    "\n",
    "axs[0].hist(glam_bias.estimates['gamma'], bins=np.linspace(-1., 1, 20))\n",
    "gb.plots._plots_internal.plot_correlation(subject_data_summary['gaze_influence'],\n",
    "                          glam_bias.estimates['gamma'],\n",
    "                          ax=axs[1],\n",
    "                          ylim=(-1.2, 1.2))\n",
    "\n",
    "axs[0].set_ylabel('Frequency', fontsize=7)\n",
    "axs[0].set_xlabel(r'$\\gamma$', fontsize=7)\n",
    "axs[0].tick_params(axis='both', which='major', labelsize=7)\n",
    "axs[0].spines['top'].set_visible(False)\n",
    "axs[0].spines['right'].set_visible(False)\n",
    "axs[1].set_ylabel(r'$\\gamma$', fontsize=7)\n",
    "axs[1].set_xlabel('Gaze influence on P(choice | value)', fontsize=7)\n",
    "axs[1].tick_params(axis='both', which='major', labelsize=7)\n",
    "for ax, label in zip(axs.ravel(), list('AB')):\n",
    "    ax.text(-0.2,\n",
    "            1.1,\n",
    "            label,\n",
    "            transform=ax.transAxes,\n",
    "            fontsize=7,\n",
    "            fontweight='bold',\n",
    "            va='top')\n",
    "\n",
    "fig.tight_layout()\n",
    "\n",
    "fig.savefig('examples/example_1/figures/Figure_3_gaze_bias_estimates.png', dpi=330)"
   ]
  },
  {
   "cell_type": "markdown",
   "metadata": {},
   "source": [
    "### 4. Out-of-sample prediction"
   ]
  },
  {
   "cell_type": "markdown",
   "metadata": {},
   "source": [
    "We have identified those participants whose response behaviour is better described by a GLAM variant with gaze-bias than one without. Yet, this analysis does not indicate whether the GLAM is a good model of individuals' response behaviour on an absolute level. To test this, we perform an out-of-sample prediction exercise."
   ]
  },
  {
   "cell_type": "markdown",
   "metadata": {},
   "source": [
    "We divide the data of each subject into even- and odd-numbered experiment trials and use the data of the even-numbered trials to fit both GLAM variants:"
   ]
  },
  {
   "cell_type": "code",
   "execution_count": 35,
   "metadata": {
    "collapsed": true
   },
   "outputs": [],
   "source": [
    "data_even = data[(data['trial']%2)==0].copy()\n",
    "data_odd = data[(data['trial']%2)!=0].copy()"
   ]
  },
  {
   "cell_type": "code",
   "execution_count": 36,
   "metadata": {
    "collapsed": false,
    "scrolled": true
   },
   "outputs": [
    {
     "name": "stdout",
     "output_type": "stream",
     "text": [
      "Replaced attached data (9000 trials) with new data (4500 trials)...\n",
      "Fitting 30 model(s) using MCMC...\n",
      "  Fitting model 1 of 30...\n"
     ]
    },
    {
     "name": "stderr",
     "output_type": "stream",
     "text": [
      "Multiprocess sampling (4 chains in 4 jobs)\n",
      "CompoundStep\n",
      ">Metropolis: [tau]\n",
      ">Metropolis: [s]\n",
      ">Metropolis: [gamma]\n",
      ">Metropolis: [v]\n",
      "Sampling 4 chains: 100%|██████████| 40000/40000 [00:30<00:00, 1290.64draws/s]\n",
      "The number of effective samples is smaller than 10% for some parameters.\n"
     ]
    },
    {
     "name": "stdout",
     "output_type": "stream",
     "text": [
      "  Fitting model 2 of 30...\n"
     ]
    },
    {
     "name": "stderr",
     "output_type": "stream",
     "text": [
      "Multiprocess sampling (4 chains in 4 jobs)\n",
      "CompoundStep\n",
      ">Metropolis: [tau]\n",
      ">Metropolis: [s]\n",
      ">Metropolis: [gamma]\n",
      ">Metropolis: [v]\n",
      "Sampling 4 chains: 100%|██████████| 40000/40000 [00:30<00:00, 1309.52draws/s]\n",
      "The number of effective samples is smaller than 10% for some parameters.\n"
     ]
    },
    {
     "name": "stdout",
     "output_type": "stream",
     "text": [
      "  Fitting model 3 of 30...\n"
     ]
    },
    {
     "name": "stderr",
     "output_type": "stream",
     "text": [
      "Multiprocess sampling (4 chains in 4 jobs)\n",
      "CompoundStep\n",
      ">Metropolis: [tau]\n",
      ">Metropolis: [s]\n",
      ">Metropolis: [gamma]\n",
      ">Metropolis: [v]\n",
      "Sampling 4 chains: 100%|██████████| 40000/40000 [00:30<00:00, 1300.43draws/s]\n",
      "The number of effective samples is smaller than 10% for some parameters.\n"
     ]
    },
    {
     "name": "stdout",
     "output_type": "stream",
     "text": [
      "  Fitting model 4 of 30...\n"
     ]
    },
    {
     "name": "stderr",
     "output_type": "stream",
     "text": [
      "Multiprocess sampling (4 chains in 4 jobs)\n",
      "CompoundStep\n",
      ">Metropolis: [tau]\n",
      ">Metropolis: [s]\n",
      ">Metropolis: [gamma]\n",
      ">Metropolis: [v]\n",
      "Sampling 4 chains: 100%|██████████| 40000/40000 [00:30<00:00, 1294.37draws/s]\n",
      "The number of effective samples is smaller than 10% for some parameters.\n"
     ]
    },
    {
     "name": "stdout",
     "output_type": "stream",
     "text": [
      "  Fitting model 5 of 30...\n"
     ]
    },
    {
     "name": "stderr",
     "output_type": "stream",
     "text": [
      "Multiprocess sampling (4 chains in 4 jobs)\n",
      "CompoundStep\n",
      ">Metropolis: [tau]\n",
      ">Metropolis: [s]\n",
      ">Metropolis: [gamma]\n",
      ">Metropolis: [v]\n",
      "Sampling 4 chains: 100%|██████████| 40000/40000 [00:30<00:00, 1311.43draws/s]\n",
      "The number of effective samples is smaller than 10% for some parameters.\n"
     ]
    },
    {
     "name": "stdout",
     "output_type": "stream",
     "text": [
      "  Fitting model 6 of 30...\n"
     ]
    },
    {
     "name": "stderr",
     "output_type": "stream",
     "text": [
      "Multiprocess sampling (4 chains in 4 jobs)\n",
      "CompoundStep\n",
      ">Metropolis: [tau]\n",
      ">Metropolis: [s]\n",
      ">Metropolis: [gamma]\n",
      ">Metropolis: [v]\n",
      "Sampling 4 chains: 100%|██████████| 40000/40000 [00:30<00:00, 1298.52draws/s]\n",
      "The number of effective samples is smaller than 10% for some parameters.\n"
     ]
    },
    {
     "name": "stdout",
     "output_type": "stream",
     "text": [
      "  Fitting model 7 of 30...\n"
     ]
    },
    {
     "name": "stderr",
     "output_type": "stream",
     "text": [
      "Multiprocess sampling (4 chains in 4 jobs)\n",
      "CompoundStep\n",
      ">Metropolis: [tau]\n",
      ">Metropolis: [s]\n",
      ">Metropolis: [gamma]\n",
      ">Metropolis: [v]\n",
      "Sampling 4 chains: 100%|██████████| 40000/40000 [00:30<00:00, 1295.00draws/s]\n",
      "The number of effective samples is smaller than 10% for some parameters.\n"
     ]
    },
    {
     "name": "stdout",
     "output_type": "stream",
     "text": [
      "  Fitting model 8 of 30...\n"
     ]
    },
    {
     "name": "stderr",
     "output_type": "stream",
     "text": [
      "Multiprocess sampling (4 chains in 4 jobs)\n",
      "CompoundStep\n",
      ">Metropolis: [tau]\n",
      ">Metropolis: [s]\n",
      ">Metropolis: [gamma]\n",
      ">Metropolis: [v]\n",
      "Sampling 4 chains: 100%|██████████| 40000/40000 [00:30<00:00, 1302.20draws/s]\n",
      "The number of effective samples is smaller than 10% for some parameters.\n"
     ]
    },
    {
     "name": "stdout",
     "output_type": "stream",
     "text": [
      "  Fitting model 9 of 30...\n"
     ]
    },
    {
     "name": "stderr",
     "output_type": "stream",
     "text": [
      "Multiprocess sampling (4 chains in 4 jobs)\n",
      "CompoundStep\n",
      ">Metropolis: [tau]\n",
      ">Metropolis: [s]\n",
      ">Metropolis: [gamma]\n",
      ">Metropolis: [v]\n",
      "Sampling 4 chains: 100%|██████████| 40000/40000 [00:30<00:00, 1298.66draws/s]\n",
      "The number of effective samples is smaller than 10% for some parameters.\n"
     ]
    },
    {
     "name": "stdout",
     "output_type": "stream",
     "text": [
      "  Fitting model 10 of 30...\n"
     ]
    },
    {
     "name": "stderr",
     "output_type": "stream",
     "text": [
      "Multiprocess sampling (4 chains in 4 jobs)\n",
      "CompoundStep\n",
      ">Metropolis: [tau]\n",
      ">Metropolis: [s]\n",
      ">Metropolis: [gamma]\n",
      ">Metropolis: [v]\n",
      "Sampling 4 chains: 100%|██████████| 40000/40000 [00:30<00:00, 1304.15draws/s]\n",
      "The number of effective samples is smaller than 10% for some parameters.\n"
     ]
    },
    {
     "name": "stdout",
     "output_type": "stream",
     "text": [
      "  Fitting model 11 of 30...\n"
     ]
    },
    {
     "name": "stderr",
     "output_type": "stream",
     "text": [
      "Multiprocess sampling (4 chains in 4 jobs)\n",
      "CompoundStep\n",
      ">Metropolis: [tau]\n",
      ">Metropolis: [s]\n",
      ">Metropolis: [gamma]\n",
      ">Metropolis: [v]\n",
      "Sampling 4 chains: 100%|██████████| 40000/40000 [00:30<00:00, 1300.47draws/s]\n",
      "The number of effective samples is smaller than 10% for some parameters.\n"
     ]
    },
    {
     "name": "stdout",
     "output_type": "stream",
     "text": [
      "  Fitting model 12 of 30...\n"
     ]
    },
    {
     "name": "stderr",
     "output_type": "stream",
     "text": [
      "Multiprocess sampling (4 chains in 4 jobs)\n",
      "CompoundStep\n",
      ">Metropolis: [tau]\n",
      ">Metropolis: [s]\n",
      ">Metropolis: [gamma]\n",
      ">Metropolis: [v]\n",
      "Sampling 4 chains: 100%|██████████| 40000/40000 [00:30<00:00, 1293.10draws/s]\n",
      "The number of effective samples is smaller than 10% for some parameters.\n"
     ]
    },
    {
     "name": "stdout",
     "output_type": "stream",
     "text": [
      "  Fitting model 13 of 30...\n"
     ]
    },
    {
     "name": "stderr",
     "output_type": "stream",
     "text": [
      "Multiprocess sampling (4 chains in 4 jobs)\n",
      "CompoundStep\n",
      ">Metropolis: [tau]\n",
      ">Metropolis: [s]\n",
      ">Metropolis: [gamma]\n",
      ">Metropolis: [v]\n",
      "Sampling 4 chains: 100%|██████████| 40000/40000 [00:30<00:00, 1291.89draws/s]\n",
      "The number of effective samples is smaller than 10% for some parameters.\n"
     ]
    },
    {
     "name": "stdout",
     "output_type": "stream",
     "text": [
      "  Fitting model 14 of 30...\n"
     ]
    },
    {
     "name": "stderr",
     "output_type": "stream",
     "text": [
      "Multiprocess sampling (4 chains in 4 jobs)\n",
      "CompoundStep\n",
      ">Metropolis: [tau]\n",
      ">Metropolis: [s]\n",
      ">Metropolis: [gamma]\n",
      ">Metropolis: [v]\n",
      "Sampling 4 chains: 100%|██████████| 40000/40000 [00:30<00:00, 1292.09draws/s]\n",
      "The number of effective samples is smaller than 10% for some parameters.\n"
     ]
    },
    {
     "name": "stdout",
     "output_type": "stream",
     "text": [
      "  Fitting model 15 of 30...\n"
     ]
    },
    {
     "name": "stderr",
     "output_type": "stream",
     "text": [
      "Multiprocess sampling (4 chains in 4 jobs)\n",
      "CompoundStep\n",
      ">Metropolis: [tau]\n",
      ">Metropolis: [s]\n",
      ">Metropolis: [gamma]\n",
      ">Metropolis: [v]\n",
      "Sampling 4 chains: 100%|██████████| 40000/40000 [00:30<00:00, 1302.03draws/s]\n",
      "The number of effective samples is smaller than 10% for some parameters.\n"
     ]
    },
    {
     "name": "stdout",
     "output_type": "stream",
     "text": [
      "  Fitting model 16 of 30...\n"
     ]
    },
    {
     "name": "stderr",
     "output_type": "stream",
     "text": [
      "Multiprocess sampling (4 chains in 4 jobs)\n",
      "CompoundStep\n",
      ">Metropolis: [tau]\n",
      ">Metropolis: [s]\n",
      ">Metropolis: [gamma]\n",
      ">Metropolis: [v]\n",
      "Sampling 4 chains: 100%|██████████| 40000/40000 [00:30<00:00, 1299.49draws/s]\n",
      "The number of effective samples is smaller than 25% for some parameters.\n"
     ]
    },
    {
     "name": "stdout",
     "output_type": "stream",
     "text": [
      "  Fitting model 17 of 30...\n"
     ]
    },
    {
     "name": "stderr",
     "output_type": "stream",
     "text": [
      "Multiprocess sampling (4 chains in 4 jobs)\n",
      "CompoundStep\n",
      ">Metropolis: [tau]\n",
      ">Metropolis: [s]\n",
      ">Metropolis: [gamma]\n",
      ">Metropolis: [v]\n",
      "Sampling 4 chains: 100%|██████████| 40000/40000 [00:30<00:00, 1297.38draws/s]\n",
      "The number of effective samples is smaller than 10% for some parameters.\n"
     ]
    },
    {
     "name": "stdout",
     "output_type": "stream",
     "text": [
      "  Fitting model 18 of 30...\n"
     ]
    },
    {
     "name": "stderr",
     "output_type": "stream",
     "text": [
      "Multiprocess sampling (4 chains in 4 jobs)\n",
      "CompoundStep\n",
      ">Metropolis: [tau]\n",
      ">Metropolis: [s]\n",
      ">Metropolis: [gamma]\n",
      ">Metropolis: [v]\n",
      "Sampling 4 chains: 100%|██████████| 40000/40000 [00:30<00:00, 1302.35draws/s]\n",
      "The number of effective samples is smaller than 10% for some parameters.\n"
     ]
    },
    {
     "name": "stdout",
     "output_type": "stream",
     "text": [
      "  Fitting model 19 of 30...\n"
     ]
    },
    {
     "name": "stderr",
     "output_type": "stream",
     "text": [
      "Multiprocess sampling (4 chains in 4 jobs)\n",
      "CompoundStep\n",
      ">Metropolis: [tau]\n",
      ">Metropolis: [s]\n",
      ">Metropolis: [gamma]\n",
      ">Metropolis: [v]\n",
      "Sampling 4 chains: 100%|██████████| 40000/40000 [00:30<00:00, 1297.33draws/s]\n",
      "The number of effective samples is smaller than 10% for some parameters.\n"
     ]
    },
    {
     "name": "stdout",
     "output_type": "stream",
     "text": [
      "  Fitting model 20 of 30...\n"
     ]
    },
    {
     "name": "stderr",
     "output_type": "stream",
     "text": [
      "Multiprocess sampling (4 chains in 4 jobs)\n",
      "CompoundStep\n",
      ">Metropolis: [tau]\n",
      ">Metropolis: [s]\n",
      ">Metropolis: [gamma]\n",
      ">Metropolis: [v]\n",
      "Sampling 4 chains: 100%|██████████| 40000/40000 [00:30<00:00, 1307.26draws/s]\n",
      "The number of effective samples is smaller than 10% for some parameters.\n"
     ]
    },
    {
     "name": "stdout",
     "output_type": "stream",
     "text": [
      "  Fitting model 21 of 30...\n"
     ]
    },
    {
     "name": "stderr",
     "output_type": "stream",
     "text": [
      "Multiprocess sampling (4 chains in 4 jobs)\n",
      "CompoundStep\n",
      ">Metropolis: [tau]\n",
      ">Metropolis: [s]\n",
      ">Metropolis: [gamma]\n",
      ">Metropolis: [v]\n",
      "Sampling 4 chains: 100%|██████████| 40000/40000 [00:30<00:00, 1328.15draws/s]\n",
      "The number of effective samples is smaller than 25% for some parameters.\n"
     ]
    },
    {
     "name": "stdout",
     "output_type": "stream",
     "text": [
      "  Fitting model 22 of 30...\n"
     ]
    },
    {
     "name": "stderr",
     "output_type": "stream",
     "text": [
      "Multiprocess sampling (4 chains in 4 jobs)\n",
      "CompoundStep\n",
      ">Metropolis: [tau]\n",
      ">Metropolis: [s]\n",
      ">Metropolis: [gamma]\n",
      ">Metropolis: [v]\n",
      "Sampling 4 chains: 100%|██████████| 40000/40000 [00:30<00:00, 1299.94draws/s]\n",
      "The number of effective samples is smaller than 10% for some parameters.\n"
     ]
    },
    {
     "name": "stdout",
     "output_type": "stream",
     "text": [
      "  Fitting model 23 of 30...\n"
     ]
    },
    {
     "name": "stderr",
     "output_type": "stream",
     "text": [
      "Multiprocess sampling (4 chains in 4 jobs)\n",
      "CompoundStep\n",
      ">Metropolis: [tau]\n",
      ">Metropolis: [s]\n",
      ">Metropolis: [gamma]\n",
      ">Metropolis: [v]\n",
      "Sampling 4 chains: 100%|██████████| 40000/40000 [00:30<00:00, 1310.99draws/s]\n",
      "The number of effective samples is smaller than 10% for some parameters.\n"
     ]
    },
    {
     "name": "stdout",
     "output_type": "stream",
     "text": [
      "  Fitting model 24 of 30...\n"
     ]
    },
    {
     "name": "stderr",
     "output_type": "stream",
     "text": [
      "Multiprocess sampling (4 chains in 4 jobs)\n",
      "CompoundStep\n",
      ">Metropolis: [tau]\n",
      ">Metropolis: [s]\n",
      ">Metropolis: [gamma]\n",
      ">Metropolis: [v]\n",
      "Sampling 4 chains: 100%|██████████| 40000/40000 [00:30<00:00, 1304.29draws/s]\n",
      "The number of effective samples is smaller than 10% for some parameters.\n"
     ]
    },
    {
     "name": "stdout",
     "output_type": "stream",
     "text": [
      "  Fitting model 25 of 30...\n"
     ]
    },
    {
     "name": "stderr",
     "output_type": "stream",
     "text": [
      "Multiprocess sampling (4 chains in 4 jobs)\n",
      "CompoundStep\n",
      ">Metropolis: [tau]\n",
      ">Metropolis: [s]\n",
      ">Metropolis: [gamma]\n",
      ">Metropolis: [v]\n",
      "Sampling 4 chains: 100%|██████████| 40000/40000 [00:30<00:00, 1298.89draws/s]\n",
      "The number of effective samples is smaller than 10% for some parameters.\n"
     ]
    },
    {
     "name": "stdout",
     "output_type": "stream",
     "text": [
      "  Fitting model 26 of 30...\n"
     ]
    },
    {
     "name": "stderr",
     "output_type": "stream",
     "text": [
      "Multiprocess sampling (4 chains in 4 jobs)\n",
      "CompoundStep\n",
      ">Metropolis: [tau]\n",
      ">Metropolis: [s]\n",
      ">Metropolis: [gamma]\n",
      ">Metropolis: [v]\n",
      "Sampling 4 chains: 100%|██████████| 40000/40000 [00:30<00:00, 1300.38draws/s]\n",
      "The number of effective samples is smaller than 10% for some parameters.\n"
     ]
    },
    {
     "name": "stdout",
     "output_type": "stream",
     "text": [
      "  Fitting model 27 of 30...\n"
     ]
    },
    {
     "name": "stderr",
     "output_type": "stream",
     "text": [
      "Multiprocess sampling (4 chains in 4 jobs)\n",
      "CompoundStep\n",
      ">Metropolis: [tau]\n",
      ">Metropolis: [s]\n",
      ">Metropolis: [gamma]\n",
      ">Metropolis: [v]\n",
      "Sampling 4 chains: 100%|██████████| 40000/40000 [00:30<00:00, 1297.61draws/s]\n",
      "The number of effective samples is smaller than 10% for some parameters.\n"
     ]
    },
    {
     "name": "stdout",
     "output_type": "stream",
     "text": [
      "  Fitting model 28 of 30...\n"
     ]
    },
    {
     "name": "stderr",
     "output_type": "stream",
     "text": [
      "Multiprocess sampling (4 chains in 4 jobs)\n",
      "CompoundStep\n",
      ">Metropolis: [tau]\n",
      ">Metropolis: [s]\n",
      ">Metropolis: [gamma]\n",
      ">Metropolis: [v]\n",
      "Sampling 4 chains: 100%|██████████| 40000/40000 [00:30<00:00, 1295.92draws/s]\n",
      "The number of effective samples is smaller than 10% for some parameters.\n"
     ]
    },
    {
     "name": "stdout",
     "output_type": "stream",
     "text": [
      "  Fitting model 29 of 30...\n"
     ]
    },
    {
     "name": "stderr",
     "output_type": "stream",
     "text": [
      "Multiprocess sampling (4 chains in 4 jobs)\n",
      "CompoundStep\n",
      ">Metropolis: [tau]\n",
      ">Metropolis: [s]\n",
      ">Metropolis: [gamma]\n",
      ">Metropolis: [v]\n",
      "Sampling 4 chains: 100%|██████████| 40000/40000 [00:30<00:00, 1302.98draws/s]\n",
      "The number of effective samples is smaller than 10% for some parameters.\n"
     ]
    },
    {
     "name": "stdout",
     "output_type": "stream",
     "text": [
      "  Fitting model 30 of 30...\n"
     ]
    },
    {
     "name": "stderr",
     "output_type": "stream",
     "text": [
      "Multiprocess sampling (4 chains in 4 jobs)\n",
      "CompoundStep\n",
      ">Metropolis: [tau]\n",
      ">Metropolis: [s]\n",
      ">Metropolis: [gamma]\n",
      ">Metropolis: [v]\n",
      "Sampling 4 chains: 100%|██████████| 40000/40000 [00:31<00:00, 1288.66draws/s]\n",
      "The number of effective samples is smaller than 10% for some parameters.\n"
     ]
    },
    {
     "name": "stdout",
     "output_type": "stream",
     "text": [
      "/!\\ Automatically setting parameter precision...\n"
     ]
    }
   ],
   "source": [
    "np.random.seed(11)\n",
    "\n",
    "glam_bias.exchange_data(data_even)\n",
    "glam_bias.fit(method='MCMC',\n",
    "              tune=n_tune,\n",
    "              draws=n_draws,\n",
    "              chains=n_chains)"
   ]
  },
  {
   "cell_type": "code",
   "execution_count": 37,
   "metadata": {
    "collapsed": false
   },
   "outputs": [
    {
     "name": "stdout",
     "output_type": "stream",
     "text": [
      "Replaced attached data (9000 trials) with new data (4500 trials)...\n",
      "Fitting 30 model(s) using MCMC...\n",
      "  Fitting model 1 of 30...\n"
     ]
    },
    {
     "name": "stderr",
     "output_type": "stream",
     "text": [
      "Multiprocess sampling (4 chains in 4 jobs)\n",
      "CompoundStep\n",
      ">Metropolis: [tau]\n",
      ">Metropolis: [s]\n",
      ">Metropolis: [v]\n",
      "Sampling 4 chains: 100%|██████████| 40000/40000 [00:20<00:00, 1948.87draws/s]\n",
      "The number of effective samples is smaller than 10% for some parameters.\n"
     ]
    },
    {
     "name": "stdout",
     "output_type": "stream",
     "text": [
      "  Fitting model 2 of 30...\n"
     ]
    },
    {
     "name": "stderr",
     "output_type": "stream",
     "text": [
      "Multiprocess sampling (4 chains in 4 jobs)\n",
      "CompoundStep\n",
      ">Metropolis: [tau]\n",
      ">Metropolis: [s]\n",
      ">Metropolis: [v]\n",
      "Sampling 4 chains: 100%|██████████| 40000/40000 [00:20<00:00, 1971.92draws/s]\n",
      "The number of effective samples is smaller than 10% for some parameters.\n"
     ]
    },
    {
     "name": "stdout",
     "output_type": "stream",
     "text": [
      "  Fitting model 3 of 30...\n"
     ]
    },
    {
     "name": "stderr",
     "output_type": "stream",
     "text": [
      "Multiprocess sampling (4 chains in 4 jobs)\n",
      "CompoundStep\n",
      ">Metropolis: [tau]\n",
      ">Metropolis: [s]\n",
      ">Metropolis: [v]\n",
      "Sampling 4 chains: 100%|██████████| 40000/40000 [00:20<00:00, 1951.15draws/s]\n",
      "The number of effective samples is smaller than 10% for some parameters.\n"
     ]
    },
    {
     "name": "stdout",
     "output_type": "stream",
     "text": [
      "  Fitting model 4 of 30...\n"
     ]
    },
    {
     "name": "stderr",
     "output_type": "stream",
     "text": [
      "Multiprocess sampling (4 chains in 4 jobs)\n",
      "CompoundStep\n",
      ">Metropolis: [tau]\n",
      ">Metropolis: [s]\n",
      ">Metropolis: [v]\n",
      "Sampling 4 chains: 100%|██████████| 40000/40000 [00:20<00:00, 1968.04draws/s]\n",
      "The number of effective samples is smaller than 10% for some parameters.\n"
     ]
    },
    {
     "name": "stdout",
     "output_type": "stream",
     "text": [
      "  Fitting model 5 of 30...\n"
     ]
    },
    {
     "name": "stderr",
     "output_type": "stream",
     "text": [
      "Multiprocess sampling (4 chains in 4 jobs)\n",
      "CompoundStep\n",
      ">Metropolis: [tau]\n",
      ">Metropolis: [s]\n",
      ">Metropolis: [v]\n",
      "Sampling 4 chains: 100%|██████████| 40000/40000 [00:20<00:00, 1973.10draws/s]\n",
      "The number of effective samples is smaller than 10% for some parameters.\n"
     ]
    },
    {
     "name": "stdout",
     "output_type": "stream",
     "text": [
      "  Fitting model 6 of 30...\n"
     ]
    },
    {
     "name": "stderr",
     "output_type": "stream",
     "text": [
      "Multiprocess sampling (4 chains in 4 jobs)\n",
      "CompoundStep\n",
      ">Metropolis: [tau]\n",
      ">Metropolis: [s]\n",
      ">Metropolis: [v]\n",
      "Sampling 4 chains: 100%|██████████| 40000/40000 [00:20<00:00, 1963.97draws/s]\n",
      "The number of effective samples is smaller than 10% for some parameters.\n"
     ]
    },
    {
     "name": "stdout",
     "output_type": "stream",
     "text": [
      "  Fitting model 7 of 30...\n"
     ]
    },
    {
     "name": "stderr",
     "output_type": "stream",
     "text": [
      "Multiprocess sampling (4 chains in 4 jobs)\n",
      "CompoundStep\n",
      ">Metropolis: [tau]\n",
      ">Metropolis: [s]\n",
      ">Metropolis: [v]\n",
      "Sampling 4 chains: 100%|██████████| 40000/40000 [00:20<00:00, 1986.74draws/s]\n",
      "The number of effective samples is smaller than 10% for some parameters.\n"
     ]
    },
    {
     "name": "stdout",
     "output_type": "stream",
     "text": [
      "  Fitting model 8 of 30...\n"
     ]
    },
    {
     "name": "stderr",
     "output_type": "stream",
     "text": [
      "Multiprocess sampling (4 chains in 4 jobs)\n",
      "CompoundStep\n",
      ">Metropolis: [tau]\n",
      ">Metropolis: [s]\n",
      ">Metropolis: [v]\n",
      "Sampling 4 chains: 100%|██████████| 40000/40000 [00:20<00:00, 1981.61draws/s]\n",
      "The number of effective samples is smaller than 10% for some parameters.\n"
     ]
    },
    {
     "name": "stdout",
     "output_type": "stream",
     "text": [
      "  Fitting model 9 of 30...\n"
     ]
    },
    {
     "name": "stderr",
     "output_type": "stream",
     "text": [
      "Multiprocess sampling (4 chains in 4 jobs)\n",
      "CompoundStep\n",
      ">Metropolis: [tau]\n",
      ">Metropolis: [s]\n",
      ">Metropolis: [v]\n",
      "Sampling 4 chains: 100%|██████████| 40000/40000 [00:20<00:00, 1984.35draws/s]\n",
      "The number of effective samples is smaller than 25% for some parameters.\n"
     ]
    },
    {
     "name": "stdout",
     "output_type": "stream",
     "text": [
      "  Fitting model 10 of 30...\n"
     ]
    },
    {
     "name": "stderr",
     "output_type": "stream",
     "text": [
      "Multiprocess sampling (4 chains in 4 jobs)\n",
      "CompoundStep\n",
      ">Metropolis: [tau]\n",
      ">Metropolis: [s]\n",
      ">Metropolis: [v]\n",
      "Sampling 4 chains: 100%|██████████| 40000/40000 [00:20<00:00, 1983.64draws/s]\n",
      "The number of effective samples is smaller than 10% for some parameters.\n"
     ]
    },
    {
     "name": "stdout",
     "output_type": "stream",
     "text": [
      "  Fitting model 11 of 30...\n"
     ]
    },
    {
     "name": "stderr",
     "output_type": "stream",
     "text": [
      "Multiprocess sampling (4 chains in 4 jobs)\n",
      "CompoundStep\n",
      ">Metropolis: [tau]\n",
      ">Metropolis: [s]\n",
      ">Metropolis: [v]\n",
      "Sampling 4 chains: 100%|██████████| 40000/40000 [00:20<00:00, 1960.01draws/s]\n",
      "The number of effective samples is smaller than 10% for some parameters.\n"
     ]
    },
    {
     "name": "stdout",
     "output_type": "stream",
     "text": [
      "  Fitting model 12 of 30...\n"
     ]
    },
    {
     "name": "stderr",
     "output_type": "stream",
     "text": [
      "Multiprocess sampling (4 chains in 4 jobs)\n",
      "CompoundStep\n",
      ">Metropolis: [tau]\n",
      ">Metropolis: [s]\n",
      ">Metropolis: [v]\n",
      "Sampling 4 chains: 100%|██████████| 40000/40000 [00:20<00:00, 1971.24draws/s]\n",
      "The number of effective samples is smaller than 10% for some parameters.\n"
     ]
    },
    {
     "name": "stdout",
     "output_type": "stream",
     "text": [
      "  Fitting model 13 of 30...\n"
     ]
    },
    {
     "name": "stderr",
     "output_type": "stream",
     "text": [
      "Multiprocess sampling (4 chains in 4 jobs)\n",
      "CompoundStep\n",
      ">Metropolis: [tau]\n",
      ">Metropolis: [s]\n",
      ">Metropolis: [v]\n",
      "Sampling 4 chains: 100%|██████████| 40000/40000 [00:20<00:00, 1970.88draws/s]\n",
      "The number of effective samples is smaller than 10% for some parameters.\n"
     ]
    },
    {
     "name": "stdout",
     "output_type": "stream",
     "text": [
      "  Fitting model 14 of 30...\n"
     ]
    },
    {
     "name": "stderr",
     "output_type": "stream",
     "text": [
      "Multiprocess sampling (4 chains in 4 jobs)\n",
      "CompoundStep\n",
      ">Metropolis: [tau]\n",
      ">Metropolis: [s]\n",
      ">Metropolis: [v]\n",
      "Sampling 4 chains: 100%|██████████| 40000/40000 [00:20<00:00, 1955.98draws/s]\n",
      "The number of effective samples is smaller than 10% for some parameters.\n"
     ]
    },
    {
     "name": "stdout",
     "output_type": "stream",
     "text": [
      "  Fitting model 15 of 30...\n"
     ]
    },
    {
     "name": "stderr",
     "output_type": "stream",
     "text": [
      "Multiprocess sampling (4 chains in 4 jobs)\n",
      "CompoundStep\n",
      ">Metropolis: [tau]\n",
      ">Metropolis: [s]\n",
      ">Metropolis: [v]\n",
      "Sampling 4 chains: 100%|██████████| 40000/40000 [00:20<00:00, 1974.73draws/s]\n",
      "The number of effective samples is smaller than 10% for some parameters.\n"
     ]
    },
    {
     "name": "stdout",
     "output_type": "stream",
     "text": [
      "  Fitting model 16 of 30...\n"
     ]
    },
    {
     "name": "stderr",
     "output_type": "stream",
     "text": [
      "Multiprocess sampling (4 chains in 4 jobs)\n",
      "CompoundStep\n",
      ">Metropolis: [tau]\n",
      ">Metropolis: [s]\n",
      ">Metropolis: [v]\n",
      "Sampling 4 chains: 100%|██████████| 40000/40000 [00:20<00:00, 1976.54draws/s]\n",
      "The number of effective samples is smaller than 10% for some parameters.\n"
     ]
    },
    {
     "name": "stdout",
     "output_type": "stream",
     "text": [
      "  Fitting model 17 of 30...\n"
     ]
    },
    {
     "name": "stderr",
     "output_type": "stream",
     "text": [
      "Multiprocess sampling (4 chains in 4 jobs)\n",
      "CompoundStep\n",
      ">Metropolis: [tau]\n",
      ">Metropolis: [s]\n",
      ">Metropolis: [v]\n",
      "Sampling 4 chains: 100%|██████████| 40000/40000 [00:20<00:00, 1973.73draws/s]\n",
      "The number of effective samples is smaller than 10% for some parameters.\n"
     ]
    },
    {
     "name": "stdout",
     "output_type": "stream",
     "text": [
      "  Fitting model 18 of 30...\n"
     ]
    },
    {
     "name": "stderr",
     "output_type": "stream",
     "text": [
      "Multiprocess sampling (4 chains in 4 jobs)\n",
      "CompoundStep\n",
      ">Metropolis: [tau]\n",
      ">Metropolis: [s]\n",
      ">Metropolis: [v]\n",
      "Sampling 4 chains: 100%|██████████| 40000/40000 [00:20<00:00, 1957.15draws/s]\n",
      "The number of effective samples is smaller than 10% for some parameters.\n"
     ]
    },
    {
     "name": "stdout",
     "output_type": "stream",
     "text": [
      "  Fitting model 19 of 30...\n"
     ]
    },
    {
     "name": "stderr",
     "output_type": "stream",
     "text": [
      "Multiprocess sampling (4 chains in 4 jobs)\n",
      "CompoundStep\n",
      ">Metropolis: [tau]\n",
      ">Metropolis: [s]\n",
      ">Metropolis: [v]\n",
      "Sampling 4 chains: 100%|██████████| 40000/40000 [00:20<00:00, 1974.88draws/s]\n",
      "The number of effective samples is smaller than 10% for some parameters.\n"
     ]
    },
    {
     "name": "stdout",
     "output_type": "stream",
     "text": [
      "  Fitting model 20 of 30...\n"
     ]
    },
    {
     "name": "stderr",
     "output_type": "stream",
     "text": [
      "Multiprocess sampling (4 chains in 4 jobs)\n",
      "CompoundStep\n",
      ">Metropolis: [tau]\n",
      ">Metropolis: [s]\n",
      ">Metropolis: [v]\n",
      "Sampling 4 chains: 100%|██████████| 40000/40000 [00:20<00:00, 1972.80draws/s]\n",
      "The number of effective samples is smaller than 10% for some parameters.\n"
     ]
    },
    {
     "name": "stdout",
     "output_type": "stream",
     "text": [
      "  Fitting model 21 of 30...\n"
     ]
    },
    {
     "name": "stderr",
     "output_type": "stream",
     "text": [
      "Multiprocess sampling (4 chains in 4 jobs)\n",
      "CompoundStep\n",
      ">Metropolis: [tau]\n",
      ">Metropolis: [s]\n",
      ">Metropolis: [v]\n",
      "Sampling 4 chains: 100%|██████████| 40000/40000 [00:19<00:00, 2031.58draws/s]\n",
      "The number of effective samples is smaller than 25% for some parameters.\n"
     ]
    },
    {
     "name": "stdout",
     "output_type": "stream",
     "text": [
      "  Fitting model 22 of 30...\n"
     ]
    },
    {
     "name": "stderr",
     "output_type": "stream",
     "text": [
      "Multiprocess sampling (4 chains in 4 jobs)\n",
      "CompoundStep\n",
      ">Metropolis: [tau]\n",
      ">Metropolis: [s]\n",
      ">Metropolis: [v]\n",
      "Sampling 4 chains: 100%|██████████| 40000/40000 [00:20<00:00, 1966.89draws/s]\n",
      "The number of effective samples is smaller than 10% for some parameters.\n"
     ]
    },
    {
     "name": "stdout",
     "output_type": "stream",
     "text": [
      "  Fitting model 23 of 30...\n"
     ]
    },
    {
     "name": "stderr",
     "output_type": "stream",
     "text": [
      "Multiprocess sampling (4 chains in 4 jobs)\n",
      "CompoundStep\n",
      ">Metropolis: [tau]\n",
      ">Metropolis: [s]\n",
      ">Metropolis: [v]\n",
      "Sampling 4 chains: 100%|██████████| 40000/40000 [00:20<00:00, 1952.92draws/s]\n",
      "The number of effective samples is smaller than 10% for some parameters.\n"
     ]
    },
    {
     "name": "stdout",
     "output_type": "stream",
     "text": [
      "  Fitting model 24 of 30...\n"
     ]
    },
    {
     "name": "stderr",
     "output_type": "stream",
     "text": [
      "Multiprocess sampling (4 chains in 4 jobs)\n",
      "CompoundStep\n",
      ">Metropolis: [tau]\n",
      ">Metropolis: [s]\n",
      ">Metropolis: [v]\n",
      "Sampling 4 chains: 100%|██████████| 40000/40000 [00:20<00:00, 1963.30draws/s]\n",
      "The number of effective samples is smaller than 10% for some parameters.\n"
     ]
    },
    {
     "name": "stdout",
     "output_type": "stream",
     "text": [
      "  Fitting model 25 of 30...\n"
     ]
    },
    {
     "name": "stderr",
     "output_type": "stream",
     "text": [
      "Multiprocess sampling (4 chains in 4 jobs)\n",
      "CompoundStep\n",
      ">Metropolis: [tau]\n",
      ">Metropolis: [s]\n",
      ">Metropolis: [v]\n",
      "Sampling 4 chains: 100%|██████████| 40000/40000 [00:20<00:00, 1975.71draws/s]\n",
      "The number of effective samples is smaller than 10% for some parameters.\n"
     ]
    },
    {
     "name": "stdout",
     "output_type": "stream",
     "text": [
      "  Fitting model 26 of 30...\n"
     ]
    },
    {
     "name": "stderr",
     "output_type": "stream",
     "text": [
      "Multiprocess sampling (4 chains in 4 jobs)\n",
      "CompoundStep\n",
      ">Metropolis: [tau]\n",
      ">Metropolis: [s]\n",
      ">Metropolis: [v]\n",
      "Sampling 4 chains: 100%|██████████| 40000/40000 [00:20<00:00, 1990.65draws/s]\n",
      "The number of effective samples is smaller than 10% for some parameters.\n"
     ]
    },
    {
     "name": "stdout",
     "output_type": "stream",
     "text": [
      "  Fitting model 27 of 30...\n"
     ]
    },
    {
     "name": "stderr",
     "output_type": "stream",
     "text": [
      "Multiprocess sampling (4 chains in 4 jobs)\n",
      "CompoundStep\n",
      ">Metropolis: [tau]\n",
      ">Metropolis: [s]\n",
      ">Metropolis: [v]\n",
      "Sampling 4 chains: 100%|██████████| 40000/40000 [00:20<00:00, 1942.32draws/s]\n",
      "The number of effective samples is smaller than 10% for some parameters.\n"
     ]
    },
    {
     "name": "stdout",
     "output_type": "stream",
     "text": [
      "  Fitting model 28 of 30...\n"
     ]
    },
    {
     "name": "stderr",
     "output_type": "stream",
     "text": [
      "Multiprocess sampling (4 chains in 4 jobs)\n",
      "CompoundStep\n",
      ">Metropolis: [tau]\n",
      ">Metropolis: [s]\n",
      ">Metropolis: [v]\n",
      "Sampling 4 chains: 100%|██████████| 40000/40000 [00:20<00:00, 1962.68draws/s]\n",
      "The number of effective samples is smaller than 10% for some parameters.\n"
     ]
    },
    {
     "name": "stdout",
     "output_type": "stream",
     "text": [
      "  Fitting model 29 of 30...\n"
     ]
    },
    {
     "name": "stderr",
     "output_type": "stream",
     "text": [
      "Multiprocess sampling (4 chains in 4 jobs)\n",
      "CompoundStep\n",
      ">Metropolis: [tau]\n",
      ">Metropolis: [s]\n",
      ">Metropolis: [v]\n",
      "Sampling 4 chains: 100%|██████████| 40000/40000 [00:20<00:00, 1944.58draws/s]\n",
      "The number of effective samples is smaller than 10% for some parameters.\n"
     ]
    },
    {
     "name": "stdout",
     "output_type": "stream",
     "text": [
      "  Fitting model 30 of 30...\n"
     ]
    },
    {
     "name": "stderr",
     "output_type": "stream",
     "text": [
      "Multiprocess sampling (4 chains in 4 jobs)\n",
      "CompoundStep\n",
      ">Metropolis: [tau]\n",
      ">Metropolis: [s]\n",
      ">Metropolis: [v]\n",
      "Sampling 4 chains: 100%|██████████| 40000/40000 [00:20<00:00, 1976.92draws/s]\n",
      "The number of effective samples is smaller than 10% for some parameters.\n"
     ]
    },
    {
     "name": "stdout",
     "output_type": "stream",
     "text": [
      "/!\\ Automatically setting parameter precision...\n"
     ]
    }
   ],
   "source": [
    "np.random.seed(12)\n",
    "\n",
    "glam_nobias.exchange_data(data_even)\n",
    "glam_nobias.fit(method='MCMC',\n",
    "                tune=n_tune,\n",
    "                draws=n_draws,\n",
    "                chains=n_chains)"
   ]
  },
  {
   "cell_type": "markdown",
   "metadata": {},
   "source": [
    "Again, we check all parameter traces for convergence, before proceeding further in the anlaysis:"
   ]
  },
  {
   "cell_type": "code",
   "execution_count": 38,
   "metadata": {
    "collapsed": false
   },
   "outputs": [
    {
     "data": {
      "text/plain": [
       "True"
      ]
     },
     "execution_count": 38,
     "metadata": {},
     "output_type": "execute_result"
    }
   ],
   "source": [
    "np.all([check_convergence(pm.summary(trace), varnames=['v', 's', 'gamma', 'tau'])\n",
    "        for trace in glam_bias.trace])"
   ]
  },
  {
   "cell_type": "code",
   "execution_count": 39,
   "metadata": {
    "collapsed": false
   },
   "outputs": [
    {
     "data": {
      "text/plain": [
       "True"
      ]
     },
     "execution_count": 39,
     "metadata": {},
     "output_type": "execute_result"
    }
   ],
   "source": [
    "np.all([check_convergence(pm.summary(trace), varnames=['v', 's', 'tau'])\n",
    "        for trace in glam_nobias.trace])"
   ]
  },
  {
   "cell_type": "code",
   "execution_count": 40,
   "metadata": {
    "collapsed": true
   },
   "outputs": [],
   "source": [
    "for subject, subject_trace in enumerate(glam_bias.trace):\n",
    "    gb.plots.traceplot(subject_trace)\n",
    "    plt.savefig('examples/example_1/results/out_of_sample/traces/sub_{}_gaze_bias_model_trace.png'.format(subject), dpi=330)\n",
    "    plt.close()\n",
    "    pm.trace_to_dataframe(subject_trace).to_csv(\n",
    "        'examples/example_1/results/out_of_sample/traces/sub_{}_gaze_bias_model_trace.csv'.format(subject))"
   ]
  },
  {
   "cell_type": "code",
   "execution_count": 41,
   "metadata": {
    "collapsed": true
   },
   "outputs": [],
   "source": [
    "for subject, subject_trace in enumerate(glam_nobias.trace):\n",
    "    gb.plots.traceplot(subject_trace)\n",
    "    plt.savefig('examples/example_1/results/out_of_sample/traces/sub_{}_no_gaze_bias_model_trace.png'.format(subject), dpi=330)\n",
    "    plt.close()\n",
    "    pm.trace_to_dataframe(subject_trace).to_csv(\n",
    "        'examples/example_1/results/out_of_sample/traces/sub_{}_no_gaze_bias_model_trace.csv'.format(subject))"
   ]
  },
  {
   "cell_type": "markdown",
   "metadata": {},
   "source": [
    "We then evaluate the performance of both models in predicting individuals' response behaviour using the MAP estimates and item value and gaze data from the odd-numbered trials. To predict response behaviour for the odd-numbered trials, we use the `predict` method. We repeat every trial 50 times in the prediction (as specified through the `n_repeats` argument) to obtain a stable pattern of predictions:"
   ]
  },
  {
   "cell_type": "code",
   "execution_count": 42,
   "metadata": {
    "collapsed": true
   },
   "outputs": [],
   "source": [
    "n_repeats = 50"
   ]
  },
  {
   "cell_type": "code",
   "execution_count": 43,
   "metadata": {
    "collapsed": false,
    "scrolled": true
   },
   "outputs": [
    {
     "name": "stderr",
     "output_type": "stream",
     "text": [
      "\r",
      "  0%|          | 0/4500 [00:00<?, ?it/s]"
     ]
    },
    {
     "name": "stdout",
     "output_type": "stream",
     "text": [
      "Replaced attached data (4500 trials) with new data (4500 trials)...\n",
      "Generating predictions for 4500 trials (50 repeats each)...\n"
     ]
    },
    {
     "name": "stderr",
     "output_type": "stream",
     "text": [
      "100%|██████████| 4500/4500 [56:17<00:00,  1.33it/s]\n"
     ]
    }
   ],
   "source": [
    "np.random.seed(13)\n",
    "\n",
    "glam_bias.exchange_data(data_odd)\n",
    "glam_bias.predict(n_repeats=n_repeats)\n",
    "glam_bias.prediction.to_csv('examples/example_1/results/out_of_sample/predictions/gaze_bias_model_predictions.csv')"
   ]
  },
  {
   "cell_type": "code",
   "execution_count": 44,
   "metadata": {
    "collapsed": false
   },
   "outputs": [
    {
     "name": "stderr",
     "output_type": "stream",
     "text": [
      "\r",
      "  0%|          | 0/4500 [00:00<?, ?it/s]"
     ]
    },
    {
     "name": "stdout",
     "output_type": "stream",
     "text": [
      "Replaced attached data (4500 trials) with new data (4500 trials)...\n",
      "Generating predictions for 4500 trials (50 repeats each)...\n"
     ]
    },
    {
     "name": "stderr",
     "output_type": "stream",
     "text": [
      "100%|██████████| 4500/4500 [55:53<00:00,  1.34it/s]\n"
     ]
    }
   ],
   "source": [
    "np.random.seed(14)\n",
    "\n",
    "glam_nobias.exchange_data(data_odd)\n",
    "glam_nobias.predict(n_repeats=n_repeats)\n",
    "glam_nobias.prediction.to_csv('examples/example_1/results/out_of_sample/predictions/no_gaze_bias_model_predictions.csv')"
   ]
  },
  {
   "cell_type": "markdown",
   "metadata": {},
   "source": [
    "To determine the absolute fit of both model variants to the data, we plot the individually predicted against the individually observed data on all three behavioural metrics. To do this, we use the `plot_individual_fit` function of the `plots` module. This function takes as input the observed data, as well as a list of the predictions of all model variants that ought to be compared. The argument `prediction_labels` specifies the naming used for each model in the resulting figure. For each model variant, the function creates a row of panels, plotting the observed against the predicted data:"
   ]
  },
  {
   "cell_type": "code",
   "execution_count": 45,
   "metadata": {
    "collapsed": false
   },
   "outputs": [
    {
     "data": {
      "image/png": "[encoded data removed]",
      "text/plain": [
       "<Figure size 2338.58x1559.06 with 6 Axes>"
      ]
     },
     "metadata": {
      "needs_background": "light"
     },
     "output_type": "display_data"
    }
   ],
   "source": [
    "np.random.seed(15)\n",
    "\n",
    "fig, axs = gb.plots.plot_individual_fit(observed=data_odd,\n",
    "                                        predictions=[glam_bias.prediction,\n",
    "                                                     glam_nobias.prediction],\n",
    "                                        prediction_labels=['gaze-bias', 'no gaze-bias'])\n",
    "\n",
    "# We'll change the xlabels to \"Simulated observed\", just to be clear that these are simulated data!\n",
    "for ax in axs.ravel():\n",
    "    xlabel = ax.get_xlabel()\n",
    "    ax.set_xlabel('Simulated o' + xlabel[1:])\n",
    "\n",
    "fig.savefig('examples/example_1/figures/Figure_4_absolute_fit.png', dpi=330)"
   ]
  },
  {
   "cell_type": "markdown",
   "metadata": {},
   "source": [
    "Both model variants perform well in capturing individuals' RTs and probability of choosing the best item (A, D, B, E). Importantly, only the GLAM variant with gaze bias is able to also recover the strength of the association between individuals' choice behaviour and gaze allocation (C)."
   ]
  },
  {
   "cell_type": "markdown",
   "metadata": {},
   "source": [
    "### 5. References:"
   ]
  },
  {
   "cell_type": "markdown",
   "metadata": {},
   "source": [
    "Thomas, A. W., Molter, F., Krajbich, I., Heekeren, H. R., & Mohr, P. N. (2019). Gaze bias differences capture individual choice behaviour. Nature human behaviour, 3(6), 625.\n",
    "\n",
    "Vehtari, A., Gelman, A., & Gabry, J. (2017). Practical Bayesian model evaluation using leave-one-out cross-validation and WAIC. Statistics and computing, 27(5), 1413-1432."
   ]
  }
 ],
 "metadata": {
  "anaconda-cloud": {},
  "kernelspec": {
   "display_name": "Python 3",
   "language": "python",
   "name": "python3"
  },
  "language_info": {
   "codemirror_mode": {
    "name": "ipython",
    "version": 3
   },
   "file_extension": ".py",
   "mimetype": "text/x-python",
   "name": "python",
   "nbconvert_exporter": "python",
   "pygments_lexer": "ipython3",
   "version": "3.6.8"
  },
  "toc": {
   "colors": {
    "hover_highlight": "#DAA520",
    "running_highlight": "#FF0000",
    "selected_highlight": "#FFD700"
   },
   "moveMenuLeft": true,
   "nav_menu": {
    "height": "157px",
    "width": "252px"
   },
   "navigate_menu": true,
   "number_sections": false,
   "sideBar": true,
   "threshold": 4,
   "toc_cell": false,
   "toc_section_display": "block",
   "toc_window_display": false,
   "widenNotebook": false
  }
 },
 "nbformat": 4,
 "nbformat_minor": 2
}
