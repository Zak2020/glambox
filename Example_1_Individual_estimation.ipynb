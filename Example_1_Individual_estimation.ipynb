{
 "cells": [
  {
   "cell_type": "code",
   "execution_count": 1,
   "metadata": {},
   "outputs": [],
   "source": [
    "%load_ext autoreload\n",
    "%autoreload 2\n",
    "\n",
    "import os, errno\n",
    "\n",
    "import warnings\n",
    "warnings.simplefilter(action='ignore', category=FutureWarning)\n",
    "\n",
    "import numpy as np\n",
    "import pandas as pd\n",
    "from tqdm import tqdm\n",
    "import pymc3 as pm\n",
    "\n",
    "import matplotlib.pyplot as plt\n",
    "%matplotlib inline\n",
    "\n",
    "import glam as gb"
   ]
  },
  {
   "cell_type": "code",
   "execution_count": 2,
   "metadata": {},
   "outputs": [],
   "source": [
    "np.random.seed(1)"
   ]
  },
  {
   "cell_type": "code",
   "execution_count": 3,
   "metadata": {},
   "outputs": [],
   "source": [
    "def make_sure_path_exists(path):\n",
    "    try:\n",
    "        os.makedirs(path)\n",
    "    except OSError as exception:\n",
    "        if exception.errno != errno.EEXIST:\n",
    "            raise"
   ]
  },
  {
   "cell_type": "code",
   "execution_count": 4,
   "metadata": {},
   "outputs": [],
   "source": [
    "make_sure_path_exists('examples/example_1/figures/')\n",
    "make_sure_path_exists('examples/example_1/results/in_sample/traces/')\n",
    "make_sure_path_exists('examples/example_1/results/in_sample/model_comparison/')\n",
    "make_sure_path_exists('examples/example_1/results/out_of_sample/traces/')\n",
    "make_sure_path_exists('examples/example_1/results/out_of_sample/predictions/')"
   ]
  },
  {
   "cell_type": "markdown",
   "metadata": {},
   "source": [
    "# Example 1: Explore individual gaze biases"
   ]
  },
  {
   "cell_type": "markdown",
   "metadata": {
    "collapsed": true
   },
   "source": [
    "The first example is based on a study by Thomas et al. (2019). Here, the authors study the association between gaze allocation and choice behaviour on the level of the individual. Particularly, the authors explore whether (1) an association between gaze and choice is present at the individual level and (2) the strength of this association varies between individuals."
   ]
  },
  {
   "cell_type": "markdown",
   "metadata": {},
   "source": [
    "## Simulating data"
   ]
  },
  {
   "cell_type": "markdown",
   "metadata": {},
   "source": [
    "First, we simulate a dataset of 30 subjects, each performning 200 simple value-based choice trials. We assume that in each trial participants are asked to choose the item that they like most out of a set of four presented alternatives (similar to the task described in Towal, Moorman & Koch, 2013). While participants perform the task, their eye movements, choices and response times are measured. After completing all choice trials, participants further indicate their liking rating for each of the items presented in the choice task on a liking rating scale from 1 to 10 (with 10 indicating strong liking and 1 indicating little liking). The resulting datasets contains a liking value for each choice item in each trial, the participants' choice and response, as well as their aggregated gaze data (describing the fraction of trial time that they spent looking at each item in the choice set)."
   ]
  },
  {
   "cell_type": "code",
   "execution_count": 5,
   "metadata": {},
   "outputs": [],
   "source": [
    "n_subjects = 30\n",
    "subjects = np.arange(n_subjects)\n",
    "n_trials = 200\n",
    "n_items = 4"
   ]
  },
  {
   "cell_type": "markdown",
   "metadata": {},
   "source": [
    "To simulate individuals' choice behaviour, we define a set of generating model parameters for each individual. We assume that these parameters are drawn independently for each subject from uniform distributions (with lower and upper bound; based on the parameter estimates obtained in Thomas et al., 2019):\n",
    "\n",
    "* v ~ U(2e-5,2e-4) \n",
    "* $\\sigma$ ~ U(0.002,0.02) \n",
    "* $\\gamma$ ~ U(-1,0.5) \n",
    "* $\\tau$ ~ U(0.5,5)\n",
    "\n",
    "Importantly, we further assume that five subjects do not exhibit a gaze bias (i.e., that their choices are independent of the time that they spend looking at each item). To this end, we will set the $\\gamma$ parameter for five randomly selected subjects to 1. We further also assume that individuals’ gaze is distributed randomly with respect to the values of the items in a choice set. "
   ]
  },
  {
   "cell_type": "code",
   "execution_count": 12,
   "metadata": {},
   "outputs": [],
   "source": [
    "np.random.seed(6)\n",
    "# generating model parameters\n",
    "gen_v = np.random.uniform(2e-5, 2e-4, size=n_subjects)\n",
    "gen_sigma = np.random.uniform(0.005, 0.015, size=n_subjects)\n",
    "gen_tau = np.random.uniform(0.1, 2, n_subjects)\n",
    "gen_t0 = np.zeros(n_subjects)\n",
    "gen_gamma = np.random.uniform(-1, 0.5, n_subjects)\n",
    "# define subjects with no association between gaze and choice:\n",
    "no_gaze_bias_subjects = np.sort(np.random.choice(n_subjects, 5, replace=False))\n",
    "gaze_bias_subjects = np.array([s for s in subjects if s not in no_gaze_bias_subjects])\n",
    "gen_gamma[no_gaze_bias_subjects] = 1\n",
    "\n",
    "\n",
    "# create a dictionary containing all generating parameters\n",
    "gen_parameters = dict(v=gen_v,\n",
    "                      gamma=gen_gamma,\n",
    "                      s=gen_sigma,\n",
    "                      t0=gen_t0,\n",
    "                      tau=gen_tau)"
   ]
  },
  {
   "cell_type": "code",
   "execution_count": 13,
   "metadata": {},
   "outputs": [
    {
     "data": {
      "image/png": "[encoded data removed]",
      "text/plain": [
       "<Figure size 432x432 with 4 Axes>"
      ]
     },
     "metadata": {
      "needs_background": "light"
     },
     "output_type": "display_data"
    }
   ],
   "source": [
    "# overview of the distribution of generating parameters\n",
    "\n",
    "fig, axs = plt.subplots(4, 1, figsize=(6,6), sharex=True)\n",
    "\n",
    "for subject_set, color, label in zip([gaze_bias_subjects,\n",
    "                                      no_gaze_bias_subjects],\n",
    "                                      ['C0', 'C1'],\n",
    "                                      ['gaze-bias', 'no gaze-bias']):\n",
    "    # v\n",
    "    axs[0].scatter(subject_set,\n",
    "                   gen_v[subject_set],\n",
    "                   label=label,\n",
    "                   color=color)\n",
    "    axs[0].set_ylabel(r'$v$')\n",
    "    axs[0].set_xticks([])\n",
    "    \n",
    "    # sigma\n",
    "    axs[1].scatter(subject_set,\n",
    "                   gen_sigma[subject_set],\n",
    "                   color=color)\n",
    "    axs[1].set_ylabel(r'$\\sigma$')\n",
    "    axs[1].set_xticks([])\n",
    "\n",
    "    # gamma\n",
    "    axs[2].scatter(subject_set,\n",
    "                   gen_gamma[subject_set],\n",
    "                   color=color)\n",
    "    axs[2].set_ylabel(r'$\\gamma$')\n",
    "    axs[2].set_xticks([])\n",
    "\n",
    "    # tau\n",
    "    axs[3].scatter(subject_set,\n",
    "                   gen_tau[subject_set],\n",
    "                   color=color)\n",
    "    axs[3].set_ylabel(r'$\\tau$')\n",
    "    axs[3].set_xlabel('Subject')\n",
    "    axs[3].set_xticks([])\n",
    "\n",
    "axs[0].set_title('Generating GLAM parameters')\n",
    "axs[0].set_ylim(-0.0001, 0.0006)\n",
    "axs[1].set_ylim(-0.001, 0.01)\n",
    "axs[2].set_ylim(-1.5, 1.2)\n",
    "axs[3].set_ylim(0, 5.1)\n",
    "axs[0].legend(loc='upper left')\n",
    "for ax in axs:\n",
    "    ax.spines['right'].set_visible(False)\n",
    "    ax.spines['top'].set_visible(False)\n",
    "    \n",
    "fig.tight_layout()\n",
    "fig.savefig('examples/example_1/figures/Supplementary_Figure_1_generating_parameters.png', dpi=330)"
   ]
  },
  {
   "cell_type": "markdown",
   "metadata": {},
   "source": [
    "Subjects with no association of gaze allocation and choice behaviour:"
   ]
  },
  {
   "cell_type": "code",
   "execution_count": 14,
   "metadata": {},
   "outputs": [
    {
     "data": {
      "text/plain": [
       "array([ 3, 10, 11, 21, 27])"
      ]
     },
     "execution_count": 14,
     "metadata": {},
     "output_type": "execute_result"
    }
   ],
   "source": [
    "no_gaze_bias_subjects"
   ]
  },
  {
   "cell_type": "markdown",
   "metadata": {},
   "source": [
    "To simulate individuals' response behaviour, we use the *simulate_group* method of the GLAM model class. This function requires us to specify whether the individuals of this group are either simulated as individuals (and thereby independent of one another) or as part of a hierarchical parameter distribution (where the individual model parameters are drawn from a group distribution). If we specify the group as individual, the generating parameters need to be provided as a dictionary, containing one entry per parameter, containing an array of parameter values. "
   ]
  },
  {
   "cell_type": "code",
   "execution_count": 17,
   "metadata": {
    "scrolled": false
   },
   "outputs": [],
   "source": [
    "np.random.seed(11)\n",
    "glam = gb.GLAM() # create GLAM model instance\n",
    "glam.simulate_group(kind='individual',\n",
    "                    n_individuals=n_subjects,\n",
    "                    n_trials=n_trials,\n",
    "                    n_items=n_items,\n",
    "                    parameters=gen_parameters,\n",
    "                    value_range=(1, 10))"
   ]
  },
  {
   "cell_type": "markdown",
   "metadata": {},
   "source": [
    "We can then access the simulated data as part of our glam model instance."
   ]
  },
  {
   "cell_type": "code",
   "execution_count": 18,
   "metadata": {},
   "outputs": [],
   "source": [
    "data = glam.data.copy()"
   ]
  },
  {
   "cell_type": "code",
   "execution_count": 106,
   "metadata": {},
   "outputs": [
    {
     "data": {
      "text/html": [
       "<div>\n",
       "<style scoped>\n",
       "    .dataframe tbody tr th:only-of-type {\n",
       "        vertical-align: middle;\n",
       "    }\n",
       "\n",
       "    .dataframe tbody tr th {\n",
       "        vertical-align: top;\n",
       "    }\n",
       "\n",
       "    .dataframe thead th {\n",
       "        text-align: right;\n",
       "    }\n",
       "</style>\n",
       "<table border=\"1\" class=\"dataframe\">\n",
       "  <thead>\n",
       "    <tr style=\"text-align: right;\">\n",
       "      <th></th>\n",
       "      <th>subject</th>\n",
       "      <th>trial</th>\n",
       "      <th>repeat</th>\n",
       "      <th>choice</th>\n",
       "      <th>rt</th>\n",
       "      <th>item_value_0</th>\n",
       "      <th>gaze_0</th>\n",
       "      <th>item_value_1</th>\n",
       "      <th>gaze_1</th>\n",
       "      <th>item_value_2</th>\n",
       "      <th>gaze_2</th>\n",
       "      <th>item_value_3</th>\n",
       "      <th>gaze_3</th>\n",
       "      <th>condition</th>\n",
       "    </tr>\n",
       "  </thead>\n",
       "  <tbody>\n",
       "    <tr>\n",
       "      <th>0</th>\n",
       "      <td>0.0</td>\n",
       "      <td>0.0</td>\n",
       "      <td>0.0</td>\n",
       "      <td>3.0</td>\n",
       "      <td>1848.0</td>\n",
       "      <td>1</td>\n",
       "      <td>0.027201</td>\n",
       "      <td>2</td>\n",
       "      <td>0.243227</td>\n",
       "      <td>8</td>\n",
       "      <td>0.310760</td>\n",
       "      <td>2</td>\n",
       "      <td>0.418812</td>\n",
       "      <td>condition_0</td>\n",
       "    </tr>\n",
       "    <tr>\n",
       "      <th>1</th>\n",
       "      <td>0.0</td>\n",
       "      <td>1.0</td>\n",
       "      <td>0.0</td>\n",
       "      <td>3.0</td>\n",
       "      <td>620.0</td>\n",
       "      <td>8</td>\n",
       "      <td>0.101224</td>\n",
       "      <td>3</td>\n",
       "      <td>0.233181</td>\n",
       "      <td>9</td>\n",
       "      <td>0.321012</td>\n",
       "      <td>1</td>\n",
       "      <td>0.344584</td>\n",
       "      <td>condition_0</td>\n",
       "    </tr>\n",
       "    <tr>\n",
       "      <th>2</th>\n",
       "      <td>0.0</td>\n",
       "      <td>2.0</td>\n",
       "      <td>0.0</td>\n",
       "      <td>1.0</td>\n",
       "      <td>1062.0</td>\n",
       "      <td>1</td>\n",
       "      <td>0.024523</td>\n",
       "      <td>5</td>\n",
       "      <td>0.463441</td>\n",
       "      <td>3</td>\n",
       "      <td>0.060130</td>\n",
       "      <td>2</td>\n",
       "      <td>0.451905</td>\n",
       "      <td>condition_0</td>\n",
       "    </tr>\n",
       "    <tr>\n",
       "      <th>3</th>\n",
       "      <td>0.0</td>\n",
       "      <td>3.0</td>\n",
       "      <td>0.0</td>\n",
       "      <td>0.0</td>\n",
       "      <td>589.0</td>\n",
       "      <td>6</td>\n",
       "      <td>0.364906</td>\n",
       "      <td>6</td>\n",
       "      <td>0.258820</td>\n",
       "      <td>8</td>\n",
       "      <td>0.228578</td>\n",
       "      <td>5</td>\n",
       "      <td>0.147696</td>\n",
       "      <td>condition_0</td>\n",
       "    </tr>\n",
       "    <tr>\n",
       "      <th>4</th>\n",
       "      <td>0.0</td>\n",
       "      <td>4.0</td>\n",
       "      <td>0.0</td>\n",
       "      <td>0.0</td>\n",
       "      <td>496.0</td>\n",
       "      <td>2</td>\n",
       "      <td>0.159757</td>\n",
       "      <td>9</td>\n",
       "      <td>0.378801</td>\n",
       "      <td>9</td>\n",
       "      <td>0.270376</td>\n",
       "      <td>2</td>\n",
       "      <td>0.191066</td>\n",
       "      <td>condition_0</td>\n",
       "    </tr>\n",
       "  </tbody>\n",
       "</table>\n",
       "</div>"
      ],
      "text/plain": [
       "   subject  trial  repeat  choice      rt  item_value_0    gaze_0  \\\n",
       "0      0.0    0.0     0.0     3.0  1848.0             1  0.027201   \n",
       "1      0.0    1.0     0.0     3.0   620.0             8  0.101224   \n",
       "2      0.0    2.0     0.0     1.0  1062.0             1  0.024523   \n",
       "3      0.0    3.0     0.0     0.0   589.0             6  0.364906   \n",
       "4      0.0    4.0     0.0     0.0   496.0             2  0.159757   \n",
       "\n",
       "   item_value_1    gaze_1  item_value_2    gaze_2  item_value_3    gaze_3  \\\n",
       "0             2  0.243227             8  0.310760             2  0.418812   \n",
       "1             3  0.233181             9  0.321012             1  0.344584   \n",
       "2             5  0.463441             3  0.060130             2  0.451905   \n",
       "3             6  0.258820             8  0.228578             5  0.147696   \n",
       "4             9  0.378801             9  0.270376             2  0.191066   \n",
       "\n",
       "     condition  \n",
       "0  condition_0  \n",
       "1  condition_0  \n",
       "2  condition_0  \n",
       "3  condition_0  \n",
       "4  condition_0  "
      ]
     },
     "execution_count": 106,
     "metadata": {},
     "output_type": "execute_result"
    }
   ],
   "source": [
    "data.head()"
   ]
  },
  {
   "cell_type": "markdown",
   "metadata": {},
   "source": [
    "As this example is focussed on the individual level, we further create a summary dataframe, describing individuals' response behaviour on three behavioural metrics (as described in Thomas et al., 2019). Namely, individuals' mean response time, probability of choosing the item with the highest liking rating from a choice set and a behavioural measure of the strength of the association between gaze allocation and choice behaviour (indicating the mean increase in choice probability for an item that was looked at longer than the others, after correcting for the inﬂuence of item value on choice probability; for further details on the behavioural gaze bias measure, see Thomas et al., 2019)."
   ]
  },
  {
   "cell_type": "code",
   "execution_count": 19,
   "metadata": {},
   "outputs": [],
   "source": [
    "subject_data_summary = gb.analysis.aggregate_subject_level_data(data, n_items)"
   ]
  },
  {
   "cell_type": "code",
   "execution_count": 20,
   "metadata": {},
   "outputs": [
    {
     "data": {
      "text/html": [
       "<div>\n",
       "<style scoped>\n",
       "    .dataframe tbody tr th:only-of-type {\n",
       "        vertical-align: middle;\n",
       "    }\n",
       "\n",
       "    .dataframe tbody tr th {\n",
       "        vertical-align: top;\n",
       "    }\n",
       "\n",
       "    .dataframe thead tr th {\n",
       "        text-align: left;\n",
       "    }\n",
       "\n",
       "    .dataframe thead tr:last-of-type th {\n",
       "        text-align: right;\n",
       "    }\n",
       "</style>\n",
       "<table border=\"1\" class=\"dataframe\">\n",
       "  <thead>\n",
       "    <tr>\n",
       "      <th></th>\n",
       "      <th colspan=\"8\" halign=\"left\">rt</th>\n",
       "      <th>best_chosen</th>\n",
       "      <th>gaze_influence</th>\n",
       "    </tr>\n",
       "    <tr>\n",
       "      <th></th>\n",
       "      <th>mean</th>\n",
       "      <th>std</th>\n",
       "      <th>min</th>\n",
       "      <th>max</th>\n",
       "      <th>se</th>\n",
       "      <th>q1</th>\n",
       "      <th>q3</th>\n",
       "      <th>iqr</th>\n",
       "      <th>mean</th>\n",
       "      <th></th>\n",
       "    </tr>\n",
       "    <tr>\n",
       "      <th>subject</th>\n",
       "      <th></th>\n",
       "      <th></th>\n",
       "      <th></th>\n",
       "      <th></th>\n",
       "      <th></th>\n",
       "      <th></th>\n",
       "      <th></th>\n",
       "      <th></th>\n",
       "      <th></th>\n",
       "      <th></th>\n",
       "    </tr>\n",
       "  </thead>\n",
       "  <tbody>\n",
       "    <tr>\n",
       "      <th>0.0</th>\n",
       "      <td>759.295</td>\n",
       "      <td>491.450189</td>\n",
       "      <td>18.0</td>\n",
       "      <td>4889.0</td>\n",
       "      <td>34.837980</td>\n",
       "      <td>520.50</td>\n",
       "      <td>828.25</td>\n",
       "      <td>307.75</td>\n",
       "      <td>0.205</td>\n",
       "      <td>0.366585</td>\n",
       "    </tr>\n",
       "    <tr>\n",
       "      <th>1.0</th>\n",
       "      <td>1327.765</td>\n",
       "      <td>734.290256</td>\n",
       "      <td>12.0</td>\n",
       "      <td>4487.0</td>\n",
       "      <td>52.052456</td>\n",
       "      <td>863.75</td>\n",
       "      <td>1557.75</td>\n",
       "      <td>694.00</td>\n",
       "      <td>0.520</td>\n",
       "      <td>0.180357</td>\n",
       "    </tr>\n",
       "    <tr>\n",
       "      <th>2.0</th>\n",
       "      <td>888.490</td>\n",
       "      <td>366.617880</td>\n",
       "      <td>344.0</td>\n",
       "      <td>4219.0</td>\n",
       "      <td>25.988852</td>\n",
       "      <td>661.50</td>\n",
       "      <td>1031.50</td>\n",
       "      <td>370.00</td>\n",
       "      <td>0.195</td>\n",
       "      <td>0.390388</td>\n",
       "    </tr>\n",
       "    <tr>\n",
       "      <th>3.0</th>\n",
       "      <td>2771.240</td>\n",
       "      <td>1892.360062</td>\n",
       "      <td>613.0</td>\n",
       "      <td>12956.0</td>\n",
       "      <td>134.145848</td>\n",
       "      <td>1450.75</td>\n",
       "      <td>3420.75</td>\n",
       "      <td>1970.00</td>\n",
       "      <td>0.520</td>\n",
       "      <td>0.041090</td>\n",
       "    </tr>\n",
       "    <tr>\n",
       "      <th>4.0</th>\n",
       "      <td>2478.020</td>\n",
       "      <td>1271.076410</td>\n",
       "      <td>257.0</td>\n",
       "      <td>8983.0</td>\n",
       "      <td>90.104218</td>\n",
       "      <td>1645.75</td>\n",
       "      <td>2951.00</td>\n",
       "      <td>1305.25</td>\n",
       "      <td>0.175</td>\n",
       "      <td>0.261963</td>\n",
       "    </tr>\n",
       "  </tbody>\n",
       "</table>\n",
       "</div>"
      ],
      "text/plain": [
       "               rt                                                             \\\n",
       "             mean          std    min      max          se       q1       q3   \n",
       "subject                                                                        \n",
       "0.0       759.295   491.450189   18.0   4889.0   34.837980   520.50   828.25   \n",
       "1.0      1327.765   734.290256   12.0   4487.0   52.052456   863.75  1557.75   \n",
       "2.0       888.490   366.617880  344.0   4219.0   25.988852   661.50  1031.50   \n",
       "3.0      2771.240  1892.360062  613.0  12956.0  134.145848  1450.75  3420.75   \n",
       "4.0      2478.020  1271.076410  257.0   8983.0   90.104218  1645.75  2951.00   \n",
       "\n",
       "                 best_chosen gaze_influence  \n",
       "             iqr        mean                 \n",
       "subject                                      \n",
       "0.0       307.75       0.205       0.366585  \n",
       "1.0       694.00       0.520       0.180357  \n",
       "2.0       370.00       0.195       0.390388  \n",
       "3.0      1970.00       0.520       0.041090  \n",
       "4.0      1305.25       0.175       0.261963  "
      ]
     },
     "execution_count": 20,
     "metadata": {},
     "output_type": "execute_result"
    }
   ],
   "source": [
    "subject_data_summary.head()"
   ]
  },
  {
   "cell_type": "markdown",
   "metadata": {},
   "source": [
    "## Explore behavioural data "
   ]
  },
  {
   "cell_type": "markdown",
   "metadata": {},
   "source": [
    "In a first step of our analysis, we explore differences in individuals' response behaviour on these three behavioural metrics. To create an overview of the distribution of individuals' values on the metrics, as well as the associations between them, we make use of the *individual_differences* function implemented in the GLAMbox plots module."
   ]
  },
  {
   "cell_type": "code",
   "execution_count": 21,
   "metadata": {},
   "outputs": [
    {
     "data": {
      "image/png": "[encoded data removed]",
      "text/plain": [
       "<Figure size 510.236x255.118 with 6 Axes>"
      ]
     },
     "metadata": {
      "needs_background": "light"
     },
     "output_type": "display_data"
    }
   ],
   "source": [
    "fig = gb.plots.individual_differences(subject_summary=subject_data_summary,\n",
    "                                      regression=True,\n",
    "                                      annotate=True)\n",
    "fig.savefig('examples/example_1/figures/Figure_1_individual_differences.png', dpi=330)"
   ]
  },
  {
   "cell_type": "markdown",
   "metadata": {},
   "source": [
    "We find that most individuals exhibit a positive association of gaze allocation and choice behaviour, as indicated by the behavioural gaze bias measure (b).\n",
    "\n",
    "Further, we find that both, individuals' probability of choosing the best item and behavioural gaze bias, are not associated with their respose times. Interestingly, however, individuals' probability of choosing the best item from a choice set increases with decreasing strength of the behavioural gaze bias. Individuals with a strong association of gaze allocation and choice behaviour (as indicated by high values on the behavioural gaze bias measure) are therefore less likely to choose the item with the highest value from a choice set, when compared to individuals with a weak association of gaze and choice."
   ]
  },
  {
   "cell_type": "markdown",
   "metadata": {},
   "source": [
    "## Individual Model Comparison"
   ]
  },
  {
   "cell_type": "markdown",
   "metadata": {},
   "source": [
    "### Relative Model Fit"
   ]
  },
  {
   "cell_type": "markdown",
   "metadata": {},
   "source": [
    "In a second step of our analysis, we want to test whether the response behaviour of each individual in the data is better described by a GLAM variant with or without gaze bias (i.e., a variant in which the gaze bias parameter is fixed to 1). To this end, we set up both model instances:"
   ]
  },
  {
   "cell_type": "code",
   "execution_count": 26,
   "metadata": {},
   "outputs": [
    {
     "name": "stdout",
     "output_type": "stream",
     "text": [
      "Generating single subject models for 30 subjects...\n"
     ]
    },
    {
     "name": "stderr",
     "output_type": "stream",
     "text": [
      "INFO (theano.gof.compilelock): Refreshing lock /Users/felixmolter/.theano/compiledir_Darwin-18.6.0-x86_64-i386-64bit-i386-3.7.3-64/lock_dir/lock\n"
     ]
    },
    {
     "name": "stdout",
     "output_type": "stream",
     "text": [
      "Generating single subject models for 30 subjects...\n"
     ]
    }
   ],
   "source": [
    "np.random.seed(25)\n",
    "glam_bias = gb.GLAM(data=data)\n",
    "glam_bias.make_model(kind='individual')\n",
    "\n",
    "glam_nobias = gb.GLAM(data=data)\n",
    "glam_nobias.make_model(kind='individual', gamma_val=1)"
   ]
  },
  {
   "cell_type": "markdown",
   "metadata": {},
   "source": [
    "Subsequently, we fit both of model variants to the data of each individual and compare their fit by means of the Widely Applicable Information Criterion (WAIC; Vehtari, Gelman, & Gabry, 2017). To fit each model, we utilize an MCMC sampling procedure with the Metropolis-Hastings algorithm (XXX). For each model and parameter, we sample four chains. Each chain contains 10000 tuning samples (that we discard) and another 10000 samples that we use to determine individuals' parameter estimates. All resulting parameter traces were checked for convergence, before performing the model comparison. We establish convergence for a trace if the Rhat measure (XXX) is between 0.95 and 1.05 or the trace contains at least 100 effective samples (XXX). All parameter traces were further check for convergence by visual inspection."
   ]
  },
  {
   "cell_type": "code",
   "execution_count": 29,
   "metadata": {
    "scrolled": true
   },
   "outputs": [
    {
     "name": "stdout",
     "output_type": "stream",
     "text": [
      "Fitting 30 model(s) using MCMC...\n",
      "  Fitting model 1 of 30...\n"
     ]
    },
    {
     "name": "stderr",
     "output_type": "stream",
     "text": [
      "Multiprocess sampling (4 chains in 4 jobs)\n",
      "CompoundStep\n",
      ">Metropolis: [tau]\n",
      ">Metropolis: [s]\n",
      ">Metropolis: [gamma]\n",
      ">Metropolis: [v]\n",
      "Sampling 4 chains: 100%|██████████| 100000/100000 [01:12<00:00, 1371.57draws/s]\n",
      "The number of effective samples is smaller than 10% for some parameters.\n"
     ]
    },
    {
     "name": "stdout",
     "output_type": "stream",
     "text": [
      "  Fitting model 2 of 30...\n"
     ]
    },
    {
     "name": "stderr",
     "output_type": "stream",
     "text": [
      "Multiprocess sampling (4 chains in 4 jobs)\n",
      "CompoundStep\n",
      ">Metropolis: [tau]\n",
      ">Metropolis: [s]\n",
      ">Metropolis: [gamma]\n",
      ">Metropolis: [v]\n",
      "Sampling 4 chains: 100%|██████████| 100000/100000 [01:13<00:00, 1368.36draws/s]\n",
      "The number of effective samples is smaller than 10% for some parameters.\n"
     ]
    },
    {
     "name": "stdout",
     "output_type": "stream",
     "text": [
      "  Fitting model 3 of 30...\n"
     ]
    },
    {
     "name": "stderr",
     "output_type": "stream",
     "text": [
      "Multiprocess sampling (4 chains in 4 jobs)\n",
      "CompoundStep\n",
      ">Metropolis: [tau]\n",
      ">Metropolis: [s]\n",
      ">Metropolis: [gamma]\n",
      ">Metropolis: [v]\n",
      "Sampling 4 chains: 100%|██████████| 100000/100000 [01:13<00:00, 1368.61draws/s]\n",
      "The number of effective samples is smaller than 10% for some parameters.\n"
     ]
    },
    {
     "name": "stdout",
     "output_type": "stream",
     "text": [
      "  Fitting model 4 of 30...\n"
     ]
    },
    {
     "name": "stderr",
     "output_type": "stream",
     "text": [
      "INFO (theano.gof.compilelock): Refreshing lock /Users/felixmolter/.theano/compiledir_Darwin-18.6.0-x86_64-i386-64bit-i386-3.7.3-64/lock_dir/lock\n",
      "Multiprocess sampling (4 chains in 4 jobs)\n",
      "CompoundStep\n",
      ">Metropolis: [tau]\n",
      ">Metropolis: [s]\n",
      ">Metropolis: [gamma]\n",
      ">Metropolis: [v]\n",
      "Sampling 4 chains: 100%|██████████| 100000/100000 [01:13<00:00, 1363.81draws/s]\n",
      "The number of effective samples is smaller than 10% for some parameters.\n"
     ]
    },
    {
     "name": "stdout",
     "output_type": "stream",
     "text": [
      "  Fitting model 5 of 30...\n"
     ]
    },
    {
     "name": "stderr",
     "output_type": "stream",
     "text": [
      "INFO (theano.gof.compilelock): Refreshing lock /Users/felixmolter/.theano/compiledir_Darwin-18.6.0-x86_64-i386-64bit-i386-3.7.3-64/lock_dir/lock\n",
      "Multiprocess sampling (4 chains in 4 jobs)\n",
      "CompoundStep\n",
      ">Metropolis: [tau]\n",
      ">Metropolis: [s]\n",
      ">Metropolis: [gamma]\n",
      ">Metropolis: [v]\n",
      "Sampling 4 chains: 100%|██████████| 100000/100000 [01:13<00:00, 1364.43draws/s]\n",
      "The number of effective samples is smaller than 10% for some parameters.\n"
     ]
    },
    {
     "name": "stdout",
     "output_type": "stream",
     "text": [
      "  Fitting model 6 of 30...\n"
     ]
    },
    {
     "name": "stderr",
     "output_type": "stream",
     "text": [
      "INFO (theano.gof.compilelock): Refreshing lock /Users/felixmolter/.theano/compiledir_Darwin-18.6.0-x86_64-i386-64bit-i386-3.7.3-64/lock_dir/lock\n",
      "Multiprocess sampling (4 chains in 4 jobs)\n",
      "CompoundStep\n",
      ">Metropolis: [tau]\n",
      ">Metropolis: [s]\n",
      ">Metropolis: [gamma]\n",
      ">Metropolis: [v]\n",
      "Sampling 4 chains: 100%|██████████| 100000/100000 [01:13<00:00, 1365.90draws/s]\n",
      "The number of effective samples is smaller than 10% for some parameters.\n"
     ]
    },
    {
     "name": "stdout",
     "output_type": "stream",
     "text": [
      "  Fitting model 7 of 30...\n"
     ]
    },
    {
     "name": "stderr",
     "output_type": "stream",
     "text": [
      "INFO (theano.gof.compilelock): Refreshing lock /Users/felixmolter/.theano/compiledir_Darwin-18.6.0-x86_64-i386-64bit-i386-3.7.3-64/lock_dir/lock\n",
      "Multiprocess sampling (4 chains in 4 jobs)\n",
      "CompoundStep\n",
      ">Metropolis: [tau]\n",
      ">Metropolis: [s]\n",
      ">Metropolis: [gamma]\n",
      ">Metropolis: [v]\n",
      "Sampling 4 chains: 100%|██████████| 100000/100000 [01:13<00:00, 1366.69draws/s]\n",
      "The number of effective samples is smaller than 10% for some parameters.\n"
     ]
    },
    {
     "name": "stdout",
     "output_type": "stream",
     "text": [
      "  Fitting model 8 of 30...\n"
     ]
    },
    {
     "name": "stderr",
     "output_type": "stream",
     "text": [
      "INFO (theano.gof.compilelock): Refreshing lock /Users/felixmolter/.theano/compiledir_Darwin-18.6.0-x86_64-i386-64bit-i386-3.7.3-64/lock_dir/lock\n",
      "Multiprocess sampling (4 chains in 4 jobs)\n",
      "CompoundStep\n",
      ">Metropolis: [tau]\n",
      ">Metropolis: [s]\n",
      ">Metropolis: [gamma]\n",
      ">Metropolis: [v]\n",
      "Sampling 4 chains: 100%|██████████| 100000/100000 [01:13<00:00, 1359.26draws/s]\n",
      "The number of effective samples is smaller than 10% for some parameters.\n"
     ]
    },
    {
     "name": "stdout",
     "output_type": "stream",
     "text": [
      "  Fitting model 9 of 30...\n"
     ]
    },
    {
     "name": "stderr",
     "output_type": "stream",
     "text": [
      "INFO (theano.gof.compilelock): Refreshing lock /Users/felixmolter/.theano/compiledir_Darwin-18.6.0-x86_64-i386-64bit-i386-3.7.3-64/lock_dir/lock\n",
      "Multiprocess sampling (4 chains in 4 jobs)\n",
      "CompoundStep\n",
      ">Metropolis: [tau]\n",
      ">Metropolis: [s]\n",
      ">Metropolis: [gamma]\n",
      ">Metropolis: [v]\n",
      "Sampling 4 chains: 100%|██████████| 100000/100000 [01:13<00:00, 1355.39draws/s]\n",
      "The number of effective samples is smaller than 10% for some parameters.\n"
     ]
    },
    {
     "name": "stdout",
     "output_type": "stream",
     "text": [
      "  Fitting model 10 of 30...\n"
     ]
    },
    {
     "name": "stderr",
     "output_type": "stream",
     "text": [
      "INFO (theano.gof.compilelock): Refreshing lock /Users/felixmolter/.theano/compiledir_Darwin-18.6.0-x86_64-i386-64bit-i386-3.7.3-64/lock_dir/lock\n",
      "Multiprocess sampling (4 chains in 4 jobs)\n",
      "CompoundStep\n",
      ">Metropolis: [tau]\n",
      ">Metropolis: [s]\n",
      ">Metropolis: [gamma]\n",
      ">Metropolis: [v]\n",
      "Sampling 4 chains: 100%|██████████| 100000/100000 [01:13<00:00, 1356.63draws/s]\n",
      "The number of effective samples is smaller than 10% for some parameters.\n"
     ]
    },
    {
     "name": "stdout",
     "output_type": "stream",
     "text": [
      "  Fitting model 11 of 30...\n"
     ]
    },
    {
     "name": "stderr",
     "output_type": "stream",
     "text": [
      "INFO (theano.gof.compilelock): Refreshing lock /Users/felixmolter/.theano/compiledir_Darwin-18.6.0-x86_64-i386-64bit-i386-3.7.3-64/lock_dir/lock\n",
      "Multiprocess sampling (4 chains in 4 jobs)\n",
      "CompoundStep\n",
      ">Metropolis: [tau]\n",
      ">Metropolis: [s]\n",
      ">Metropolis: [gamma]\n",
      ">Metropolis: [v]\n",
      "Sampling 4 chains: 100%|██████████| 100000/100000 [01:13<00:00, 1364.05draws/s]\n",
      "The number of effective samples is smaller than 10% for some parameters.\n"
     ]
    },
    {
     "name": "stdout",
     "output_type": "stream",
     "text": [
      "  Fitting model 12 of 30...\n"
     ]
    },
    {
     "name": "stderr",
     "output_type": "stream",
     "text": [
      "INFO (theano.gof.compilelock): Refreshing lock /Users/felixmolter/.theano/compiledir_Darwin-18.6.0-x86_64-i386-64bit-i386-3.7.3-64/lock_dir/lock\n",
      "Multiprocess sampling (4 chains in 4 jobs)\n",
      "CompoundStep\n",
      ">Metropolis: [tau]\n",
      ">Metropolis: [s]\n",
      ">Metropolis: [gamma]\n",
      ">Metropolis: [v]\n",
      "Sampling 4 chains: 100%|██████████| 100000/100000 [01:12<00:00, 1371.97draws/s]\n",
      "The number of effective samples is smaller than 10% for some parameters.\n"
     ]
    },
    {
     "name": "stdout",
     "output_type": "stream",
     "text": [
      "  Fitting model 13 of 30...\n"
     ]
    },
    {
     "name": "stderr",
     "output_type": "stream",
     "text": [
      "INFO (theano.gof.compilelock): Refreshing lock /Users/felixmolter/.theano/compiledir_Darwin-18.6.0-x86_64-i386-64bit-i386-3.7.3-64/lock_dir/lock\n",
      "Multiprocess sampling (4 chains in 4 jobs)\n",
      "CompoundStep\n",
      ">Metropolis: [tau]\n",
      ">Metropolis: [s]\n",
      ">Metropolis: [gamma]\n",
      ">Metropolis: [v]\n",
      "Sampling 4 chains: 100%|██████████| 100000/100000 [01:13<00:00, 1364.71draws/s]\n",
      "The estimated number of effective samples is smaller than 200 for some parameters.\n"
     ]
    },
    {
     "name": "stdout",
     "output_type": "stream",
     "text": [
      "  Fitting model 14 of 30...\n"
     ]
    },
    {
     "name": "stderr",
     "output_type": "stream",
     "text": [
      "INFO (theano.gof.compilelock): Refreshing lock /Users/felixmolter/.theano/compiledir_Darwin-18.6.0-x86_64-i386-64bit-i386-3.7.3-64/lock_dir/lock\n",
      "Multiprocess sampling (4 chains in 4 jobs)\n",
      "CompoundStep\n",
      ">Metropolis: [tau]\n",
      ">Metropolis: [s]\n",
      ">Metropolis: [gamma]\n",
      ">Metropolis: [v]\n",
      "Sampling 4 chains: 100%|██████████| 100000/100000 [01:13<00:00, 1358.11draws/s]\n",
      "The number of effective samples is smaller than 10% for some parameters.\n"
     ]
    },
    {
     "name": "stdout",
     "output_type": "stream",
     "text": [
      "  Fitting model 15 of 30...\n"
     ]
    },
    {
     "name": "stderr",
     "output_type": "stream",
     "text": [
      "INFO (theano.gof.compilelock): Refreshing lock /Users/felixmolter/.theano/compiledir_Darwin-18.6.0-x86_64-i386-64bit-i386-3.7.3-64/lock_dir/lock\n",
      "Multiprocess sampling (4 chains in 4 jobs)\n",
      "CompoundStep\n",
      ">Metropolis: [tau]\n",
      ">Metropolis: [s]\n",
      ">Metropolis: [gamma]\n",
      ">Metropolis: [v]\n",
      "Sampling 4 chains: 100%|██████████| 100000/100000 [01:13<00:00, 1357.09draws/s]\n",
      "The number of effective samples is smaller than 10% for some parameters.\n"
     ]
    },
    {
     "name": "stdout",
     "output_type": "stream",
     "text": [
      "  Fitting model 16 of 30...\n"
     ]
    },
    {
     "name": "stderr",
     "output_type": "stream",
     "text": [
      "INFO (theano.gof.compilelock): Refreshing lock /Users/felixmolter/.theano/compiledir_Darwin-18.6.0-x86_64-i386-64bit-i386-3.7.3-64/lock_dir/lock\n",
      "Multiprocess sampling (4 chains in 4 jobs)\n",
      "CompoundStep\n",
      ">Metropolis: [tau]\n",
      ">Metropolis: [s]\n",
      ">Metropolis: [gamma]\n",
      ">Metropolis: [v]\n",
      "Sampling 4 chains: 100%|██████████| 100000/100000 [01:13<00:00, 1354.63draws/s]\n",
      "The number of effective samples is smaller than 10% for some parameters.\n"
     ]
    },
    {
     "name": "stdout",
     "output_type": "stream",
     "text": [
      "  Fitting model 17 of 30...\n"
     ]
    },
    {
     "name": "stderr",
     "output_type": "stream",
     "text": [
      "INFO (theano.gof.compilelock): Refreshing lock /Users/felixmolter/.theano/compiledir_Darwin-18.6.0-x86_64-i386-64bit-i386-3.7.3-64/lock_dir/lock\n",
      "Multiprocess sampling (4 chains in 4 jobs)\n",
      "CompoundStep\n",
      ">Metropolis: [tau]\n",
      ">Metropolis: [s]\n",
      ">Metropolis: [gamma]\n",
      ">Metropolis: [v]\n",
      "Sampling 4 chains: 100%|██████████| 100000/100000 [01:13<00:00, 1361.35draws/s]\n",
      "The number of effective samples is smaller than 10% for some parameters.\n"
     ]
    },
    {
     "name": "stdout",
     "output_type": "stream",
     "text": [
      "  Fitting model 18 of 30...\n"
     ]
    },
    {
     "name": "stderr",
     "output_type": "stream",
     "text": [
      "INFO (theano.gof.compilelock): Refreshing lock /Users/felixmolter/.theano/compiledir_Darwin-18.6.0-x86_64-i386-64bit-i386-3.7.3-64/lock_dir/lock\n",
      "Multiprocess sampling (4 chains in 4 jobs)\n",
      "CompoundStep\n",
      ">Metropolis: [tau]\n",
      ">Metropolis: [s]\n",
      ">Metropolis: [gamma]\n",
      ">Metropolis: [v]\n",
      "Sampling 4 chains: 100%|██████████| 100000/100000 [01:14<00:00, 1350.27draws/s]\n",
      "The number of effective samples is smaller than 10% for some parameters.\n"
     ]
    },
    {
     "name": "stdout",
     "output_type": "stream",
     "text": [
      "  Fitting model 19 of 30...\n"
     ]
    },
    {
     "name": "stderr",
     "output_type": "stream",
     "text": [
      "INFO (theano.gof.compilelock): Refreshing lock /Users/felixmolter/.theano/compiledir_Darwin-18.6.0-x86_64-i386-64bit-i386-3.7.3-64/lock_dir/lock\n",
      "Multiprocess sampling (4 chains in 4 jobs)\n",
      "CompoundStep\n",
      ">Metropolis: [tau]\n",
      ">Metropolis: [s]\n",
      ">Metropolis: [gamma]\n",
      ">Metropolis: [v]\n",
      "Sampling 4 chains: 100%|██████████| 100000/100000 [01:13<00:00, 1358.56draws/s]\n",
      "The number of effective samples is smaller than 10% for some parameters.\n"
     ]
    },
    {
     "name": "stdout",
     "output_type": "stream",
     "text": [
      "  Fitting model 20 of 30...\n"
     ]
    },
    {
     "name": "stderr",
     "output_type": "stream",
     "text": [
      "INFO (theano.gof.compilelock): Refreshing lock /Users/felixmolter/.theano/compiledir_Darwin-18.6.0-x86_64-i386-64bit-i386-3.7.3-64/lock_dir/lock\n",
      "Multiprocess sampling (4 chains in 4 jobs)\n",
      "CompoundStep\n",
      ">Metropolis: [tau]\n",
      ">Metropolis: [s]\n",
      ">Metropolis: [gamma]\n",
      ">Metropolis: [v]\n",
      "Sampling 4 chains: 100%|██████████| 100000/100000 [01:13<00:00, 1362.78draws/s]\n",
      "The number of effective samples is smaller than 10% for some parameters.\n"
     ]
    },
    {
     "name": "stdout",
     "output_type": "stream",
     "text": [
      "  Fitting model 21 of 30...\n"
     ]
    },
    {
     "name": "stderr",
     "output_type": "stream",
     "text": [
      "INFO (theano.gof.compilelock): Refreshing lock /Users/felixmolter/.theano/compiledir_Darwin-18.6.0-x86_64-i386-64bit-i386-3.7.3-64/lock_dir/lock\n",
      "Multiprocess sampling (4 chains in 4 jobs)\n",
      "CompoundStep\n",
      ">Metropolis: [tau]\n",
      ">Metropolis: [s]\n",
      ">Metropolis: [gamma]\n",
      ">Metropolis: [v]\n",
      "Sampling 4 chains: 100%|██████████| 100000/100000 [01:13<00:00, 1368.54draws/s]\n",
      "The number of effective samples is smaller than 10% for some parameters.\n"
     ]
    },
    {
     "name": "stdout",
     "output_type": "stream",
     "text": [
      "  Fitting model 22 of 30...\n"
     ]
    },
    {
     "name": "stderr",
     "output_type": "stream",
     "text": [
      "INFO (theano.gof.compilelock): Refreshing lock /Users/felixmolter/.theano/compiledir_Darwin-18.6.0-x86_64-i386-64bit-i386-3.7.3-64/lock_dir/lock\n",
      "Multiprocess sampling (4 chains in 4 jobs)\n",
      "CompoundStep\n",
      ">Metropolis: [tau]\n",
      ">Metropolis: [s]\n",
      ">Metropolis: [gamma]\n",
      ">Metropolis: [v]\n",
      "Sampling 4 chains: 100%|██████████| 100000/100000 [01:13<00:00, 1361.68draws/s]\n",
      "The number of effective samples is smaller than 10% for some parameters.\n"
     ]
    },
    {
     "name": "stdout",
     "output_type": "stream",
     "text": [
      "  Fitting model 23 of 30...\n"
     ]
    },
    {
     "name": "stderr",
     "output_type": "stream",
     "text": [
      "INFO (theano.gof.compilelock): Refreshing lock /Users/felixmolter/.theano/compiledir_Darwin-18.6.0-x86_64-i386-64bit-i386-3.7.3-64/lock_dir/lock\n",
      "Multiprocess sampling (4 chains in 4 jobs)\n",
      "CompoundStep\n",
      ">Metropolis: [tau]\n",
      ">Metropolis: [s]\n",
      ">Metropolis: [gamma]\n",
      ">Metropolis: [v]\n",
      "Sampling 4 chains: 100%|██████████| 100000/100000 [01:13<00:00, 1356.16draws/s]\n",
      "The number of effective samples is smaller than 10% for some parameters.\n"
     ]
    },
    {
     "name": "stdout",
     "output_type": "stream",
     "text": [
      "  Fitting model 24 of 30...\n"
     ]
    },
    {
     "name": "stderr",
     "output_type": "stream",
     "text": [
      "INFO (theano.gof.compilelock): Refreshing lock /Users/felixmolter/.theano/compiledir_Darwin-18.6.0-x86_64-i386-64bit-i386-3.7.3-64/lock_dir/lock\n",
      "Multiprocess sampling (4 chains in 4 jobs)\n",
      "CompoundStep\n",
      ">Metropolis: [tau]\n",
      ">Metropolis: [s]\n",
      ">Metropolis: [gamma]\n",
      ">Metropolis: [v]\n",
      "Sampling 4 chains: 100%|██████████| 100000/100000 [01:13<00:00, 1355.95draws/s]\n",
      "The number of effective samples is smaller than 10% for some parameters.\n"
     ]
    },
    {
     "name": "stdout",
     "output_type": "stream",
     "text": [
      "  Fitting model 25 of 30...\n"
     ]
    },
    {
     "name": "stderr",
     "output_type": "stream",
     "text": [
      "INFO (theano.gof.compilelock): Refreshing lock /Users/felixmolter/.theano/compiledir_Darwin-18.6.0-x86_64-i386-64bit-i386-3.7.3-64/lock_dir/lock\n",
      "Multiprocess sampling (4 chains in 4 jobs)\n",
      "CompoundStep\n",
      ">Metropolis: [tau]\n",
      ">Metropolis: [s]\n",
      ">Metropolis: [gamma]\n",
      ">Metropolis: [v]\n",
      "Sampling 4 chains: 100%|██████████| 100000/100000 [01:13<00:00, 1355.81draws/s]\n",
      "The number of effective samples is smaller than 10% for some parameters.\n"
     ]
    },
    {
     "name": "stdout",
     "output_type": "stream",
     "text": [
      "  Fitting model 26 of 30...\n"
     ]
    },
    {
     "name": "stderr",
     "output_type": "stream",
     "text": [
      "INFO (theano.gof.compilelock): Refreshing lock /Users/felixmolter/.theano/compiledir_Darwin-18.6.0-x86_64-i386-64bit-i386-3.7.3-64/lock_dir/lock\n",
      "Multiprocess sampling (4 chains in 4 jobs)\n",
      "CompoundStep\n",
      ">Metropolis: [tau]\n",
      ">Metropolis: [s]\n",
      ">Metropolis: [gamma]\n",
      ">Metropolis: [v]\n",
      "Sampling 4 chains: 100%|██████████| 100000/100000 [01:13<00:00, 1361.83draws/s]\n",
      "The number of effective samples is smaller than 10% for some parameters.\n"
     ]
    },
    {
     "name": "stdout",
     "output_type": "stream",
     "text": [
      "  Fitting model 27 of 30...\n"
     ]
    },
    {
     "name": "stderr",
     "output_type": "stream",
     "text": [
      "INFO (theano.gof.compilelock): Refreshing lock /Users/felixmolter/.theano/compiledir_Darwin-18.6.0-x86_64-i386-64bit-i386-3.7.3-64/lock_dir/lock\n",
      "Multiprocess sampling (4 chains in 4 jobs)\n",
      "CompoundStep\n",
      ">Metropolis: [tau]\n",
      ">Metropolis: [s]\n",
      ">Metropolis: [gamma]\n",
      ">Metropolis: [v]\n",
      "Sampling 4 chains: 100%|██████████| 100000/100000 [01:13<00:00, 1355.77draws/s]\n",
      "The number of effective samples is smaller than 10% for some parameters.\n"
     ]
    },
    {
     "name": "stdout",
     "output_type": "stream",
     "text": [
      "  Fitting model 28 of 30...\n"
     ]
    },
    {
     "name": "stderr",
     "output_type": "stream",
     "text": [
      "INFO (theano.gof.compilelock): Refreshing lock /Users/felixmolter/.theano/compiledir_Darwin-18.6.0-x86_64-i386-64bit-i386-3.7.3-64/lock_dir/lock\n",
      "Multiprocess sampling (4 chains in 4 jobs)\n",
      "CompoundStep\n",
      ">Metropolis: [tau]\n",
      ">Metropolis: [s]\n",
      ">Metropolis: [gamma]\n",
      ">Metropolis: [v]\n",
      "Sampling 4 chains: 100%|██████████| 100000/100000 [01:14<00:00, 1343.72draws/s]\n",
      "The number of effective samples is smaller than 10% for some parameters.\n"
     ]
    },
    {
     "name": "stdout",
     "output_type": "stream",
     "text": [
      "  Fitting model 29 of 30...\n"
     ]
    },
    {
     "name": "stderr",
     "output_type": "stream",
     "text": [
      "INFO (theano.gof.compilelock): Refreshing lock /Users/felixmolter/.theano/compiledir_Darwin-18.6.0-x86_64-i386-64bit-i386-3.7.3-64/lock_dir/lock\n",
      "Multiprocess sampling (4 chains in 4 jobs)\n",
      "CompoundStep\n",
      ">Metropolis: [tau]\n",
      ">Metropolis: [s]\n",
      ">Metropolis: [gamma]\n",
      ">Metropolis: [v]\n",
      "Sampling 4 chains: 100%|██████████| 100000/100000 [01:13<00:00, 1361.28draws/s]\n",
      "The number of effective samples is smaller than 10% for some parameters.\n"
     ]
    },
    {
     "name": "stdout",
     "output_type": "stream",
     "text": [
      "  Fitting model 30 of 30...\n"
     ]
    },
    {
     "name": "stderr",
     "output_type": "stream",
     "text": [
      "INFO (theano.gof.compilelock): Refreshing lock /Users/felixmolter/.theano/compiledir_Darwin-18.6.0-x86_64-i386-64bit-i386-3.7.3-64/lock_dir/lock\n",
      "Multiprocess sampling (4 chains in 4 jobs)\n",
      "CompoundStep\n",
      ">Metropolis: [tau]\n",
      ">Metropolis: [s]\n",
      ">Metropolis: [gamma]\n",
      ">Metropolis: [v]\n",
      "Sampling 4 chains: 100%|██████████| 100000/100000 [01:13<00:00, 1355.73draws/s]\n",
      "The number of effective samples is smaller than 10% for some parameters.\n"
     ]
    },
    {
     "name": "stdout",
     "output_type": "stream",
     "text": [
      "/!\\ Automatically setting parameter precision...\n"
     ]
    }
   ],
   "source": [
    "glam_bias.fit(method='MCMC',\n",
    "              tune=20000,\n",
    "              draws=5000,\n",
    "              chains=4)"
   ]
  },
  {
   "cell_type": "code",
   "execution_count": 30,
   "metadata": {},
   "outputs": [
    {
     "name": "stderr",
     "output_type": "stream",
     "text": [
      "INFO (theano.gof.compilelock): Refreshing lock /Users/felixmolter/.theano/compiledir_Darwin-18.6.0-x86_64-i386-64bit-i386-3.7.3-64/lock_dir/lock\n"
     ]
    },
    {
     "name": "stdout",
     "output_type": "stream",
     "text": [
      "Fitting 30 model(s) using MCMC...\n",
      "  Fitting model 1 of 30...\n"
     ]
    },
    {
     "name": "stderr",
     "output_type": "stream",
     "text": [
      "Multiprocess sampling (4 chains in 4 jobs)\n",
      "CompoundStep\n",
      ">Metropolis: [tau]\n",
      ">Metropolis: [s]\n",
      ">Metropolis: [v]\n",
      "Sampling 4 chains: 100%|██████████| 100000/100000 [00:47<00:00, 2090.71draws/s]\n",
      "The number of effective samples is smaller than 10% for some parameters.\n"
     ]
    },
    {
     "name": "stdout",
     "output_type": "stream",
     "text": [
      "  Fitting model 2 of 30...\n"
     ]
    },
    {
     "name": "stderr",
     "output_type": "stream",
     "text": [
      "Multiprocess sampling (4 chains in 4 jobs)\n",
      "CompoundStep\n",
      ">Metropolis: [tau]\n",
      ">Metropolis: [s]\n",
      ">Metropolis: [v]\n",
      "Sampling 4 chains: 100%|██████████| 100000/100000 [00:47<00:00, 2086.87draws/s]\n",
      "The number of effective samples is smaller than 10% for some parameters.\n"
     ]
    },
    {
     "name": "stdout",
     "output_type": "stream",
     "text": [
      "  Fitting model 3 of 30...\n"
     ]
    },
    {
     "name": "stderr",
     "output_type": "stream",
     "text": [
      "INFO (theano.gof.compilelock): Refreshing lock /Users/felixmolter/.theano/compiledir_Darwin-18.6.0-x86_64-i386-64bit-i386-3.7.3-64/lock_dir/lock\n",
      "Multiprocess sampling (4 chains in 4 jobs)\n",
      "CompoundStep\n",
      ">Metropolis: [tau]\n",
      ">Metropolis: [s]\n",
      ">Metropolis: [v]\n",
      "Sampling 4 chains: 100%|██████████| 100000/100000 [00:47<00:00, 2094.04draws/s]\n",
      "The number of effective samples is smaller than 10% for some parameters.\n"
     ]
    },
    {
     "name": "stdout",
     "output_type": "stream",
     "text": [
      "  Fitting model 4 of 30...\n"
     ]
    },
    {
     "name": "stderr",
     "output_type": "stream",
     "text": [
      "Multiprocess sampling (4 chains in 4 jobs)\n",
      "CompoundStep\n",
      ">Metropolis: [tau]\n",
      ">Metropolis: [s]\n",
      ">Metropolis: [v]\n",
      "Sampling 4 chains: 100%|██████████| 100000/100000 [00:47<00:00, 2089.14draws/s]\n",
      "The number of effective samples is smaller than 10% for some parameters.\n"
     ]
    },
    {
     "name": "stdout",
     "output_type": "stream",
     "text": [
      "  Fitting model 5 of 30...\n"
     ]
    },
    {
     "name": "stderr",
     "output_type": "stream",
     "text": [
      "INFO (theano.gof.compilelock): Refreshing lock /Users/felixmolter/.theano/compiledir_Darwin-18.6.0-x86_64-i386-64bit-i386-3.7.3-64/lock_dir/lock\n",
      "Multiprocess sampling (4 chains in 4 jobs)\n",
      "CompoundStep\n",
      ">Metropolis: [tau]\n",
      ">Metropolis: [s]\n",
      ">Metropolis: [v]\n",
      "Sampling 4 chains: 100%|██████████| 100000/100000 [00:47<00:00, 2117.74draws/s]\n",
      "The number of effective samples is smaller than 10% for some parameters.\n"
     ]
    },
    {
     "name": "stdout",
     "output_type": "stream",
     "text": [
      "  Fitting model 6 of 30...\n"
     ]
    },
    {
     "name": "stderr",
     "output_type": "stream",
     "text": [
      "Multiprocess sampling (4 chains in 4 jobs)\n",
      "CompoundStep\n",
      ">Metropolis: [tau]\n",
      ">Metropolis: [s]\n",
      ">Metropolis: [v]\n",
      "Sampling 4 chains: 100%|██████████| 100000/100000 [00:47<00:00, 2093.98draws/s]\n",
      "The number of effective samples is smaller than 10% for some parameters.\n"
     ]
    },
    {
     "name": "stdout",
     "output_type": "stream",
     "text": [
      "  Fitting model 7 of 30...\n"
     ]
    },
    {
     "name": "stderr",
     "output_type": "stream",
     "text": [
      "INFO (theano.gof.compilelock): Refreshing lock /Users/felixmolter/.theano/compiledir_Darwin-18.6.0-x86_64-i386-64bit-i386-3.7.3-64/lock_dir/lock\n",
      "Multiprocess sampling (4 chains in 4 jobs)\n",
      "CompoundStep\n",
      ">Metropolis: [tau]\n",
      ">Metropolis: [s]\n",
      ">Metropolis: [v]\n",
      "Sampling 4 chains: 100%|██████████| 100000/100000 [00:47<00:00, 2094.61draws/s]\n",
      "The number of effective samples is smaller than 10% for some parameters.\n"
     ]
    },
    {
     "name": "stdout",
     "output_type": "stream",
     "text": [
      "  Fitting model 8 of 30...\n"
     ]
    },
    {
     "name": "stderr",
     "output_type": "stream",
     "text": [
      "Multiprocess sampling (4 chains in 4 jobs)\n",
      "CompoundStep\n",
      ">Metropolis: [tau]\n",
      ">Metropolis: [s]\n",
      ">Metropolis: [v]\n",
      "Sampling 4 chains: 100%|██████████| 100000/100000 [00:47<00:00, 2106.19draws/s]\n",
      "The number of effective samples is smaller than 10% for some parameters.\n"
     ]
    },
    {
     "name": "stdout",
     "output_type": "stream",
     "text": [
      "  Fitting model 9 of 30...\n"
     ]
    },
    {
     "name": "stderr",
     "output_type": "stream",
     "text": [
      "INFO (theano.gof.compilelock): Refreshing lock /Users/felixmolter/.theano/compiledir_Darwin-18.6.0-x86_64-i386-64bit-i386-3.7.3-64/lock_dir/lock\n",
      "Multiprocess sampling (4 chains in 4 jobs)\n",
      "CompoundStep\n",
      ">Metropolis: [tau]\n",
      ">Metropolis: [s]\n",
      ">Metropolis: [v]\n",
      "Sampling 4 chains: 100%|██████████| 100000/100000 [00:48<00:00, 2077.00draws/s]\n",
      "The number of effective samples is smaller than 10% for some parameters.\n"
     ]
    },
    {
     "name": "stdout",
     "output_type": "stream",
     "text": [
      "  Fitting model 10 of 30...\n"
     ]
    },
    {
     "name": "stderr",
     "output_type": "stream",
     "text": [
      "Multiprocess sampling (4 chains in 4 jobs)\n",
      "CompoundStep\n",
      ">Metropolis: [tau]\n",
      ">Metropolis: [s]\n",
      ">Metropolis: [v]\n",
      "Sampling 4 chains: 100%|██████████| 100000/100000 [00:47<00:00, 2100.60draws/s]\n",
      "The number of effective samples is smaller than 10% for some parameters.\n"
     ]
    },
    {
     "name": "stdout",
     "output_type": "stream",
     "text": [
      "  Fitting model 11 of 30...\n"
     ]
    },
    {
     "name": "stderr",
     "output_type": "stream",
     "text": [
      "INFO (theano.gof.compilelock): Refreshing lock /Users/felixmolter/.theano/compiledir_Darwin-18.6.0-x86_64-i386-64bit-i386-3.7.3-64/lock_dir/lock\n",
      "Multiprocess sampling (4 chains in 4 jobs)\n",
      "CompoundStep\n",
      ">Metropolis: [tau]\n",
      ">Metropolis: [s]\n",
      ">Metropolis: [v]\n",
      "Sampling 4 chains: 100%|██████████| 100000/100000 [00:47<00:00, 2102.17draws/s]\n",
      "The number of effective samples is smaller than 10% for some parameters.\n"
     ]
    },
    {
     "name": "stdout",
     "output_type": "stream",
     "text": [
      "  Fitting model 12 of 30...\n"
     ]
    },
    {
     "name": "stderr",
     "output_type": "stream",
     "text": [
      "Multiprocess sampling (4 chains in 4 jobs)\n",
      "CompoundStep\n",
      ">Metropolis: [tau]\n",
      ">Metropolis: [s]\n",
      ">Metropolis: [v]\n",
      "Sampling 4 chains: 100%|██████████| 100000/100000 [00:48<00:00, 2072.56draws/s]\n",
      "The number of effective samples is smaller than 10% for some parameters.\n"
     ]
    },
    {
     "name": "stdout",
     "output_type": "stream",
     "text": [
      "  Fitting model 13 of 30...\n"
     ]
    },
    {
     "name": "stderr",
     "output_type": "stream",
     "text": [
      "INFO (theano.gof.compilelock): Refreshing lock /Users/felixmolter/.theano/compiledir_Darwin-18.6.0-x86_64-i386-64bit-i386-3.7.3-64/lock_dir/lock\n",
      "Multiprocess sampling (4 chains in 4 jobs)\n",
      "CompoundStep\n",
      ">Metropolis: [tau]\n",
      ">Metropolis: [s]\n",
      ">Metropolis: [v]\n",
      "Sampling 4 chains: 100%|██████████| 100000/100000 [00:47<00:00, 2101.93draws/s]\n",
      "The number of effective samples is smaller than 10% for some parameters.\n"
     ]
    },
    {
     "name": "stdout",
     "output_type": "stream",
     "text": [
      "  Fitting model 14 of 30...\n"
     ]
    },
    {
     "name": "stderr",
     "output_type": "stream",
     "text": [
      "Multiprocess sampling (4 chains in 4 jobs)\n",
      "CompoundStep\n",
      ">Metropolis: [tau]\n",
      ">Metropolis: [s]\n",
      ">Metropolis: [v]\n",
      "Sampling 4 chains: 100%|██████████| 100000/100000 [00:47<00:00, 2104.42draws/s]\n",
      "The number of effective samples is smaller than 10% for some parameters.\n"
     ]
    },
    {
     "name": "stdout",
     "output_type": "stream",
     "text": [
      "  Fitting model 15 of 30...\n"
     ]
    },
    {
     "name": "stderr",
     "output_type": "stream",
     "text": [
      "INFO (theano.gof.compilelock): Refreshing lock /Users/felixmolter/.theano/compiledir_Darwin-18.6.0-x86_64-i386-64bit-i386-3.7.3-64/lock_dir/lock\n",
      "Multiprocess sampling (4 chains in 4 jobs)\n",
      "CompoundStep\n",
      ">Metropolis: [tau]\n",
      ">Metropolis: [s]\n",
      ">Metropolis: [v]\n",
      "Sampling 4 chains: 100%|██████████| 100000/100000 [00:47<00:00, 2097.93draws/s]\n",
      "The number of effective samples is smaller than 10% for some parameters.\n"
     ]
    },
    {
     "name": "stdout",
     "output_type": "stream",
     "text": [
      "  Fitting model 16 of 30...\n"
     ]
    },
    {
     "name": "stderr",
     "output_type": "stream",
     "text": [
      "Multiprocess sampling (4 chains in 4 jobs)\n",
      "CompoundStep\n",
      ">Metropolis: [tau]\n",
      ">Metropolis: [s]\n",
      ">Metropolis: [v]\n",
      "Sampling 4 chains: 100%|██████████| 100000/100000 [00:47<00:00, 2088.91draws/s]\n",
      "The number of effective samples is smaller than 10% for some parameters.\n"
     ]
    },
    {
     "name": "stdout",
     "output_type": "stream",
     "text": [
      "  Fitting model 17 of 30...\n"
     ]
    },
    {
     "name": "stderr",
     "output_type": "stream",
     "text": [
      "INFO (theano.gof.compilelock): Refreshing lock /Users/felixmolter/.theano/compiledir_Darwin-18.6.0-x86_64-i386-64bit-i386-3.7.3-64/lock_dir/lock\n",
      "Multiprocess sampling (4 chains in 4 jobs)\n",
      "CompoundStep\n",
      ">Metropolis: [tau]\n",
      ">Metropolis: [s]\n",
      ">Metropolis: [v]\n",
      "Sampling 4 chains: 100%|██████████| 100000/100000 [00:47<00:00, 2106.97draws/s]\n",
      "The number of effective samples is smaller than 10% for some parameters.\n"
     ]
    },
    {
     "name": "stdout",
     "output_type": "stream",
     "text": [
      "  Fitting model 18 of 30...\n"
     ]
    },
    {
     "name": "stderr",
     "output_type": "stream",
     "text": [
      "Multiprocess sampling (4 chains in 4 jobs)\n",
      "CompoundStep\n",
      ">Metropolis: [tau]\n",
      ">Metropolis: [s]\n",
      ">Metropolis: [v]\n",
      "Sampling 4 chains: 100%|██████████| 100000/100000 [00:48<00:00, 2081.45draws/s]\n",
      "The number of effective samples is smaller than 10% for some parameters.\n"
     ]
    },
    {
     "name": "stdout",
     "output_type": "stream",
     "text": [
      "  Fitting model 19 of 30...\n"
     ]
    },
    {
     "name": "stderr",
     "output_type": "stream",
     "text": [
      "INFO (theano.gof.compilelock): Refreshing lock /Users/felixmolter/.theano/compiledir_Darwin-18.6.0-x86_64-i386-64bit-i386-3.7.3-64/lock_dir/lock\n",
      "Multiprocess sampling (4 chains in 4 jobs)\n",
      "CompoundStep\n",
      ">Metropolis: [tau]\n",
      ">Metropolis: [s]\n",
      ">Metropolis: [v]\n",
      "Sampling 4 chains: 100%|██████████| 100000/100000 [00:48<00:00, 2080.65draws/s]\n",
      "The number of effective samples is smaller than 10% for some parameters.\n"
     ]
    },
    {
     "name": "stdout",
     "output_type": "stream",
     "text": [
      "  Fitting model 20 of 30...\n"
     ]
    },
    {
     "name": "stderr",
     "output_type": "stream",
     "text": [
      "Multiprocess sampling (4 chains in 4 jobs)\n",
      "CompoundStep\n",
      ">Metropolis: [tau]\n",
      ">Metropolis: [s]\n",
      ">Metropolis: [v]\n",
      "Sampling 4 chains: 100%|██████████| 100000/100000 [00:47<00:00, 2102.18draws/s]\n",
      "The number of effective samples is smaller than 10% for some parameters.\n"
     ]
    },
    {
     "name": "stdout",
     "output_type": "stream",
     "text": [
      "  Fitting model 21 of 30...\n"
     ]
    },
    {
     "name": "stderr",
     "output_type": "stream",
     "text": [
      "INFO (theano.gof.compilelock): Refreshing lock /Users/felixmolter/.theano/compiledir_Darwin-18.6.0-x86_64-i386-64bit-i386-3.7.3-64/lock_dir/lock\n",
      "Multiprocess sampling (4 chains in 4 jobs)\n",
      "CompoundStep\n",
      ">Metropolis: [tau]\n",
      ">Metropolis: [s]\n",
      ">Metropolis: [v]\n",
      "Sampling 4 chains: 100%|██████████| 100000/100000 [00:47<00:00, 2102.94draws/s]\n",
      "The number of effective samples is smaller than 10% for some parameters.\n"
     ]
    },
    {
     "name": "stdout",
     "output_type": "stream",
     "text": [
      "  Fitting model 22 of 30...\n"
     ]
    },
    {
     "name": "stderr",
     "output_type": "stream",
     "text": [
      "Multiprocess sampling (4 chains in 4 jobs)\n",
      "CompoundStep\n",
      ">Metropolis: [tau]\n",
      ">Metropolis: [s]\n",
      ">Metropolis: [v]\n",
      "Sampling 4 chains: 100%|██████████| 100000/100000 [00:47<00:00, 2085.34draws/s]\n",
      "The number of effective samples is smaller than 10% for some parameters.\n"
     ]
    },
    {
     "name": "stdout",
     "output_type": "stream",
     "text": [
      "  Fitting model 23 of 30...\n"
     ]
    },
    {
     "name": "stderr",
     "output_type": "stream",
     "text": [
      "INFO (theano.gof.compilelock): Refreshing lock /Users/felixmolter/.theano/compiledir_Darwin-18.6.0-x86_64-i386-64bit-i386-3.7.3-64/lock_dir/lock\n",
      "Multiprocess sampling (4 chains in 4 jobs)\n",
      "CompoundStep\n",
      ">Metropolis: [tau]\n",
      ">Metropolis: [s]\n",
      ">Metropolis: [v]\n",
      "Sampling 4 chains: 100%|██████████| 100000/100000 [00:48<00:00, 2078.15draws/s]\n",
      "The number of effective samples is smaller than 10% for some parameters.\n"
     ]
    },
    {
     "name": "stdout",
     "output_type": "stream",
     "text": [
      "  Fitting model 24 of 30...\n"
     ]
    },
    {
     "name": "stderr",
     "output_type": "stream",
     "text": [
      "Multiprocess sampling (4 chains in 4 jobs)\n",
      "CompoundStep\n",
      ">Metropolis: [tau]\n",
      ">Metropolis: [s]\n",
      ">Metropolis: [v]\n",
      "Sampling 4 chains: 100%|██████████| 100000/100000 [00:47<00:00, 2090.10draws/s]\n",
      "The number of effective samples is smaller than 10% for some parameters.\n"
     ]
    },
    {
     "name": "stdout",
     "output_type": "stream",
     "text": [
      "  Fitting model 25 of 30...\n"
     ]
    },
    {
     "name": "stderr",
     "output_type": "stream",
     "text": [
      "INFO (theano.gof.compilelock): Refreshing lock /Users/felixmolter/.theano/compiledir_Darwin-18.6.0-x86_64-i386-64bit-i386-3.7.3-64/lock_dir/lock\n",
      "Multiprocess sampling (4 chains in 4 jobs)\n",
      "CompoundStep\n",
      ">Metropolis: [tau]\n",
      ">Metropolis: [s]\n",
      ">Metropolis: [v]\n",
      "Sampling 4 chains: 100%|██████████| 100000/100000 [00:47<00:00, 2086.53draws/s]\n",
      "The number of effective samples is smaller than 10% for some parameters.\n"
     ]
    },
    {
     "name": "stdout",
     "output_type": "stream",
     "text": [
      "  Fitting model 26 of 30...\n"
     ]
    },
    {
     "name": "stderr",
     "output_type": "stream",
     "text": [
      "Multiprocess sampling (4 chains in 4 jobs)\n",
      "CompoundStep\n",
      ">Metropolis: [tau]\n",
      ">Metropolis: [s]\n",
      ">Metropolis: [v]\n",
      "Sampling 4 chains: 100%|██████████| 100000/100000 [00:47<00:00, 2100.36draws/s]\n",
      "The number of effective samples is smaller than 10% for some parameters.\n"
     ]
    },
    {
     "name": "stdout",
     "output_type": "stream",
     "text": [
      "  Fitting model 27 of 30...\n"
     ]
    },
    {
     "name": "stderr",
     "output_type": "stream",
     "text": [
      "INFO (theano.gof.compilelock): Refreshing lock /Users/felixmolter/.theano/compiledir_Darwin-18.6.0-x86_64-i386-64bit-i386-3.7.3-64/lock_dir/lock\n",
      "Multiprocess sampling (4 chains in 4 jobs)\n",
      "CompoundStep\n",
      ">Metropolis: [tau]\n",
      ">Metropolis: [s]\n",
      ">Metropolis: [v]\n",
      "Sampling 4 chains: 100%|██████████| 100000/100000 [00:47<00:00, 2119.21draws/s]\n",
      "The number of effective samples is smaller than 10% for some parameters.\n"
     ]
    },
    {
     "name": "stdout",
     "output_type": "stream",
     "text": [
      "  Fitting model 28 of 30...\n"
     ]
    },
    {
     "name": "stderr",
     "output_type": "stream",
     "text": [
      "Multiprocess sampling (4 chains in 4 jobs)\n",
      "CompoundStep\n",
      ">Metropolis: [tau]\n",
      ">Metropolis: [s]\n",
      ">Metropolis: [v]\n",
      "Sampling 4 chains: 100%|██████████| 100000/100000 [00:48<00:00, 2066.63draws/s]\n",
      "The number of effective samples is smaller than 10% for some parameters.\n"
     ]
    },
    {
     "name": "stdout",
     "output_type": "stream",
     "text": [
      "  Fitting model 29 of 30...\n"
     ]
    },
    {
     "name": "stderr",
     "output_type": "stream",
     "text": [
      "INFO (theano.gof.compilelock): Refreshing lock /Users/felixmolter/.theano/compiledir_Darwin-18.6.0-x86_64-i386-64bit-i386-3.7.3-64/lock_dir/lock\n",
      "Multiprocess sampling (4 chains in 4 jobs)\n",
      "CompoundStep\n",
      ">Metropolis: [tau]\n",
      ">Metropolis: [s]\n",
      ">Metropolis: [v]\n",
      "Sampling 4 chains: 100%|██████████| 100000/100000 [00:47<00:00, 2101.41draws/s]\n",
      "The number of effective samples is smaller than 10% for some parameters.\n"
     ]
    },
    {
     "name": "stdout",
     "output_type": "stream",
     "text": [
      "  Fitting model 30 of 30...\n"
     ]
    },
    {
     "name": "stderr",
     "output_type": "stream",
     "text": [
      "Multiprocess sampling (4 chains in 4 jobs)\n",
      "CompoundStep\n",
      ">Metropolis: [tau]\n",
      ">Metropolis: [s]\n",
      ">Metropolis: [v]\n",
      "Sampling 4 chains: 100%|██████████| 100000/100000 [00:47<00:00, 2098.61draws/s]\n",
      "The number of effective samples is smaller than 10% for some parameters.\n"
     ]
    },
    {
     "name": "stdout",
     "output_type": "stream",
     "text": [
      "/!\\ Automatically setting parameter precision...\n"
     ]
    }
   ],
   "source": [
    "glam_nobias.fit(method='MCMC',\n",
    "                tune=20000,\n",
    "                draws=5000,\n",
    "                chains=4)"
   ]
  },
  {
   "cell_type": "markdown",
   "metadata": {},
   "source": [
    "Convergence check:"
   ]
  },
  {
   "cell_type": "code",
   "execution_count": 31,
   "metadata": {},
   "outputs": [],
   "source": [
    "def check_convergence(summary, varnames=['v', 's', 'tau'],\n",
    "                      n_eff_required=100, gelman_rubin_criterion=0.05):\n",
    "    varnames = [varname + '__0_0' for varname in varnames]\n",
    "    enough_eff_samples = np.all(summary.loc[varnames]['n_eff'] > n_eff_required)\n",
    "    good_gelman = np.all(np.abs(summary.loc[varnames]['Rhat'] - 1.0) < gelman_rubin_criterion)\n",
    "    if not enough_eff_samples or not good_gelman:\n",
    "        return False\n",
    "    else:\n",
    "        return True"
   ]
  },
  {
   "cell_type": "code",
   "execution_count": 32,
   "metadata": {},
   "outputs": [
    {
     "data": {
      "text/plain": [
       "True"
      ]
     },
     "execution_count": 32,
     "metadata": {},
     "output_type": "execute_result"
    }
   ],
   "source": [
    "np.all([check_convergence(pm.summary(trace), varnames=['v', 's', 'gamma', 'tau']) for trace in glam_bias.trace])"
   ]
  },
  {
   "cell_type": "code",
   "execution_count": 33,
   "metadata": {},
   "outputs": [
    {
     "data": {
      "text/plain": [
       "True"
      ]
     },
     "execution_count": 33,
     "metadata": {},
     "output_type": "execute_result"
    }
   ],
   "source": [
    "np.all([check_convergence(pm.summary(trace), varnames=['v', 's', 'tau']) for trace in glam_nobias.trace])"
   ]
  },
  {
   "cell_type": "markdown",
   "metadata": {},
   "source": [
    "Saving traces and traceplots for visual inspection:"
   ]
  },
  {
   "cell_type": "code",
   "execution_count": 38,
   "metadata": {},
   "outputs": [],
   "source": [
    "import pymc3 as pm"
   ]
  },
  {
   "cell_type": "code",
   "execution_count": 42,
   "metadata": {},
   "outputs": [],
   "source": [
    "for subject, subject_trace in enumerate(glam_bias.trace):\n",
    "#     pm.traceplot(subject_trace)\n",
    "#     plt.savefig('examples/example_1/results/in_sample/traces/sub_{}_gaze_bias_model_trace.png'.format(subject), dpi=330)\n",
    "    plt.close()\n",
    "    pm.trace_to_dataframe(subject_trace).to_csv(\n",
    "        'examples/example_1/results/in_sample/traces/sub_{}_gaze_bias_model_trace.csv'.format(subject))"
   ]
  },
  {
   "cell_type": "code",
   "execution_count": 43,
   "metadata": {},
   "outputs": [],
   "source": [
    "for subject, subject_trace in enumerate(glam_nobias.trace):\n",
    "#     pm.traceplot(subject_trace)\n",
    "#     plt.savefig('examples/example_1/results/in_sample/traces/sub_{}_no_gaze_bias_model_trace.png'.format(subject), dpi=330)\n",
    "    plt.close()\n",
    "    pm.trace_to_dataframe(subject_trace).to_csv(\n",
    "        'examples/example_1/results/in_sample/traces/sub_{}_no_gaze_bias_model_trace.csv'.format(subject))"
   ]
  },
  {
   "cell_type": "markdown",
   "metadata": {},
   "source": [
    "After convergence has been established for each trace, we can perform a model comparison on the individual level. For this comparison, we utilize the *compare* function of the PyMC3 library."
   ]
  },
  {
   "cell_type": "code",
   "execution_count": 44,
   "metadata": {},
   "outputs": [
    {
     "name": "stderr",
     "output_type": "stream",
     "text": [
      "100%|██████████| 30/30 [08:01<00:00, 17.06s/it]\n"
     ]
    }
   ],
   "source": [
    "dWAIC = np.array([])\n",
    "for subject in tqdm(subjects):\n",
    "    waic_df = pm.compare({glam_bias.model[subject]: glam_bias.trace[subject],\n",
    "                          glam_nobias.model[subject]: glam_nobias.trace[subject]},\n",
    "                          ic='WAIC') \n",
    "    # pm.compare indexes models in waic_df by the order in which they were entered\n",
    "    # we entered the model with gaze bias first, it therefore has index 0 in waic_df\n",
    "    if waic_df.index.values[0] == 0:\n",
    "        # model with gaze bias is best fitting\n",
    "        dWAIC = np.append(dWAIC, -1 * waic_df.loc[1, 'dWAIC'])\n",
    "    else:\n",
    "        # model without gaze bias is best fitting\n",
    "        dWAIC = np.append(dWAIC, waic_df.loc[0, 'dWAIC'])\n",
    "np.save('examples/example_1/results/in_sample/model_comparison/dWAIC_in_sample.npy', dWAIC)"
   ]
  },
  {
   "cell_type": "code",
   "execution_count": 45,
   "metadata": {},
   "outputs": [],
   "source": [
    "# identify subjects better described by each model variant\n",
    "gaze_bias_idx = dWAIC < 0\n",
    "no_gaze_bias_idx = dWAIC > 0"
   ]
  },
  {
   "cell_type": "code",
   "execution_count": 46,
   "metadata": {},
   "outputs": [
    {
     "data": {
      "image/png": "[encoded data removed]",
      "text/plain": [
       "<Figure size 1980x990 with 1 Axes>"
      ]
     },
     "metadata": {},
     "output_type": "display_data"
    }
   ],
   "source": [
    "fig, ax = plt.subplots(1,1,figsize=(6,3),dpi=330)\n",
    "\n",
    "ax.bar(subjects[gaze_bias_idx], dWAIC[gaze_bias_idx], color='C0', label='gaze bias')\n",
    "ax.bar(subjects[no_gaze_bias_idx], dWAIC[no_gaze_bias_idx], color='C1', label='no gaze bias')\n",
    "ax.set_xlabel('Subjects')\n",
    "ax.set_ylabel(r'$WAIC_{gaze-bias}$'+' -\\n'+r'$WAIC_{no-gaze-bias}$')\n",
    "ax.legend()\n",
    "ax.set_xticks([])\n",
    "ax.tick_params(axis='both', which='major')\n",
    "ax.spines['top'].set_visible(False)\n",
    "ax.spines['right'].set_visible(False)\n",
    "fig.tight_layout()\n",
    "\n",
    "fig.savefig('examples/example_1/figures/Figure_1_relative_model_comparison.png', dpi=330)"
   ]
  },
  {
   "cell_type": "markdown",
   "metadata": {},
   "source": [
    "We find that all subjects, except for those which we defined as not having a gaze bias, are better described by a GLAM variant with gaze bias than by one without (as indicated by a lower WAIC score). "
   ]
  },
  {
   "cell_type": "code",
   "execution_count": 47,
   "metadata": {},
   "outputs": [
    {
     "data": {
      "text/plain": [
       "array([10, 11, 21, 27])"
      ]
     },
     "execution_count": 47,
     "metadata": {},
     "output_type": "execute_result"
    }
   ],
   "source": [
    "subjects[no_gaze_bias_idx]"
   ]
  },
  {
   "cell_type": "markdown",
   "metadata": {},
   "source": [
    "When looking at the individual parameter estimates (defined as maximum-a-priori or MAP of the GLAM's posterior traces), we find that the individually fitted $\\gamma$ values (see Fig. XX) cover a wide range between XX and XX. We also find that $\\gamma$ estimates are strongly correlated with individuals’ values on the behavioural gaze bias measure (see Fig. XX). Thereby, indicating that the strength of the association between individuals’ gaze allocation and choice behaviour strongly varies between individuals. "
   ]
  },
  {
   "cell_type": "code",
   "execution_count": 48,
   "metadata": {},
   "outputs": [
    {
     "data": {
      "image/png": "[encoded data removed]",
      "text/plain": [
       "<Figure size 1980x990 with 2 Axes>"
      ]
     },
     "metadata": {},
     "output_type": "display_data"
    }
   ],
   "source": [
    "fig, axs = plt.subplots(1,2,figsize=(6,3),dpi=330)\n",
    "\n",
    "axs[0].hist(glam_bias.estimates['gamma'],\n",
    "            bins=np.linspace(-1,0.5,20))\n",
    "gb.plots.plot_correlation(subject_data_summary['gaze_influence'],\n",
    "                          glam_bias.estimates['gamma'],\n",
    "                          ax=axs[1])\n",
    "\n",
    "axs[0].set_ylabel('Frequency')\n",
    "axs[0].set_xlabel(r'$\\gamma$')\n",
    "axs[1].set_ylabel(r'$\\gamma$')\n",
    "axs[1].set_xlabel('Gaze influence on P(choice | value)')\n",
    "fig.tight_layout()\n",
    "fig.savefig('examples/example_1/figures/Figure_2_gaze_bias_estimates.png', dpi=330)"
   ]
  },
  {
   "cell_type": "markdown",
   "metadata": {},
   "source": [
    "### Absolute Model Fit"
   ]
  },
  {
   "cell_type": "markdown",
   "metadata": {},
   "source": [
    "Our likelihood-based model comparison has indiciated whether the response behaviour of each individual in the data is better described by a GLAM variant with or without gaze bias. Yet, it did not indicate whether the GLAM also represents a good model of their response behaviour on an absolute level. To test this, we further perform an out-of-sample prediction exersice."
   ]
  },
  {
   "cell_type": "markdown",
   "metadata": {},
   "source": [
    "First, we divide the data of each subject into the even- and odd-numbered experiment trials:"
   ]
  },
  {
   "cell_type": "code",
   "execution_count": 49,
   "metadata": {},
   "outputs": [],
   "source": [
    "data_even = data[(data['trial']%2)==0].copy()\n",
    "data_odd = data[(data['trial']%2)!=0].copy()"
   ]
  },
  {
   "cell_type": "code",
   "execution_count": 50,
   "metadata": {
    "scrolled": false
   },
   "outputs": [
    {
     "name": "stdout",
     "output_type": "stream",
     "text": [
      "Replaced attached data (6000 trials) with new data (3000 trials)...\n",
      "Fitting 30 model(s) using MCMC...\n",
      "  Fitting model 1 of 30...\n"
     ]
    },
    {
     "name": "stderr",
     "output_type": "stream",
     "text": [
      "Multiprocess sampling (4 chains in 4 jobs)\n",
      "CompoundStep\n",
      ">Metropolis: [tau]\n",
      ">Metropolis: [s]\n",
      ">Metropolis: [gamma]\n",
      ">Metropolis: [v]\n",
      "Sampling 4 chains: 100%|██████████| 100000/100000 [01:14<00:00, 1346.88draws/s]\n",
      "The number of effective samples is smaller than 10% for some parameters.\n"
     ]
    },
    {
     "name": "stdout",
     "output_type": "stream",
     "text": [
      "  Fitting model 2 of 30...\n"
     ]
    },
    {
     "name": "stderr",
     "output_type": "stream",
     "text": [
      "Multiprocess sampling (4 chains in 4 jobs)\n",
      "CompoundStep\n",
      ">Metropolis: [tau]\n",
      ">Metropolis: [s]\n",
      ">Metropolis: [gamma]\n",
      ">Metropolis: [v]\n",
      "Sampling 4 chains: 100%|██████████| 100000/100000 [01:19<00:00, 1252.94draws/s]\n",
      "The number of effective samples is smaller than 10% for some parameters.\n"
     ]
    },
    {
     "name": "stdout",
     "output_type": "stream",
     "text": [
      "  Fitting model 3 of 30...\n"
     ]
    },
    {
     "name": "stderr",
     "output_type": "stream",
     "text": [
      "Multiprocess sampling (4 chains in 4 jobs)\n",
      "CompoundStep\n",
      ">Metropolis: [tau]\n",
      ">Metropolis: [s]\n",
      ">Metropolis: [gamma]\n",
      ">Metropolis: [v]\n",
      "Sampling 4 chains: 100%|██████████| 100000/100000 [01:25<00:00, 1162.85draws/s]\n",
      "The number of effective samples is smaller than 10% for some parameters.\n"
     ]
    },
    {
     "name": "stdout",
     "output_type": "stream",
     "text": [
      "  Fitting model 4 of 30...\n"
     ]
    },
    {
     "name": "stderr",
     "output_type": "stream",
     "text": [
      "Multiprocess sampling (4 chains in 4 jobs)\n",
      "CompoundStep\n",
      ">Metropolis: [tau]\n",
      ">Metropolis: [s]\n",
      ">Metropolis: [gamma]\n",
      ">Metropolis: [v]\n",
      "Sampling 4 chains: 100%|██████████| 100000/100000 [01:25<00:00, 1166.20draws/s]\n",
      "The number of effective samples is smaller than 10% for some parameters.\n"
     ]
    },
    {
     "name": "stdout",
     "output_type": "stream",
     "text": [
      "  Fitting model 5 of 30...\n"
     ]
    },
    {
     "name": "stderr",
     "output_type": "stream",
     "text": [
      "Multiprocess sampling (4 chains in 4 jobs)\n",
      "CompoundStep\n",
      ">Metropolis: [tau]\n",
      ">Metropolis: [s]\n",
      ">Metropolis: [gamma]\n",
      ">Metropolis: [v]\n",
      "Sampling 4 chains: 100%|██████████| 100000/100000 [01:25<00:00, 1165.83draws/s]\n",
      "The number of effective samples is smaller than 10% for some parameters.\n"
     ]
    },
    {
     "name": "stdout",
     "output_type": "stream",
     "text": [
      "  Fitting model 6 of 30...\n"
     ]
    },
    {
     "name": "stderr",
     "output_type": "stream",
     "text": [
      "Multiprocess sampling (4 chains in 4 jobs)\n",
      "CompoundStep\n",
      ">Metropolis: [tau]\n",
      ">Metropolis: [s]\n",
      ">Metropolis: [gamma]\n",
      ">Metropolis: [v]\n",
      "Sampling 4 chains: 100%|██████████| 100000/100000 [01:35<00:00, 1047.56draws/s]\n",
      "The number of effective samples is smaller than 10% for some parameters.\n"
     ]
    },
    {
     "name": "stdout",
     "output_type": "stream",
     "text": [
      "  Fitting model 7 of 30...\n"
     ]
    },
    {
     "name": "stderr",
     "output_type": "stream",
     "text": [
      "Multiprocess sampling (4 chains in 4 jobs)\n",
      "CompoundStep\n",
      ">Metropolis: [tau]\n",
      ">Metropolis: [s]\n",
      ">Metropolis: [gamma]\n",
      ">Metropolis: [v]\n",
      "Sampling 4 chains: 100%|██████████| 100000/100000 [01:41<00:00, 983.82draws/s]\n",
      "The number of effective samples is smaller than 10% for some parameters.\n"
     ]
    },
    {
     "name": "stdout",
     "output_type": "stream",
     "text": [
      "  Fitting model 8 of 30...\n"
     ]
    },
    {
     "name": "stderr",
     "output_type": "stream",
     "text": [
      "Multiprocess sampling (4 chains in 4 jobs)\n",
      "CompoundStep\n",
      ">Metropolis: [tau]\n",
      ">Metropolis: [s]\n",
      ">Metropolis: [gamma]\n",
      ">Metropolis: [v]\n",
      "Sampling 4 chains: 100%|██████████| 100000/100000 [01:40<00:00, 996.44draws/s]\n",
      "The number of effective samples is smaller than 10% for some parameters.\n"
     ]
    },
    {
     "name": "stdout",
     "output_type": "stream",
     "text": [
      "  Fitting model 9 of 30...\n"
     ]
    },
    {
     "name": "stderr",
     "output_type": "stream",
     "text": [
      "Multiprocess sampling (4 chains in 4 jobs)\n",
      "CompoundStep\n",
      ">Metropolis: [tau]\n",
      ">Metropolis: [s]\n",
      ">Metropolis: [gamma]\n",
      ">Metropolis: [v]\n",
      "Sampling 4 chains: 100%|██████████| 100000/100000 [01:39<00:00, 1007.58draws/s]\n",
      "The number of effective samples is smaller than 10% for some parameters.\n"
     ]
    },
    {
     "name": "stdout",
     "output_type": "stream",
     "text": [
      "  Fitting model 10 of 30...\n"
     ]
    },
    {
     "name": "stderr",
     "output_type": "stream",
     "text": [
      "Multiprocess sampling (4 chains in 4 jobs)\n",
      "CompoundStep\n",
      ">Metropolis: [tau]\n",
      ">Metropolis: [s]\n",
      ">Metropolis: [gamma]\n",
      ">Metropolis: [v]\n",
      "Sampling 4 chains: 100%|██████████| 100000/100000 [01:42<00:00, 976.55draws/s]\n",
      "The number of effective samples is smaller than 10% for some parameters.\n"
     ]
    },
    {
     "name": "stdout",
     "output_type": "stream",
     "text": [
      "  Fitting model 11 of 30...\n"
     ]
    },
    {
     "name": "stderr",
     "output_type": "stream",
     "text": [
      "Multiprocess sampling (4 chains in 4 jobs)\n",
      "CompoundStep\n",
      ">Metropolis: [tau]\n",
      ">Metropolis: [s]\n",
      ">Metropolis: [gamma]\n",
      ">Metropolis: [v]\n",
      "Sampling 4 chains: 100%|██████████| 100000/100000 [01:40<00:00, 993.31draws/s]\n",
      "The number of effective samples is smaller than 10% for some parameters.\n"
     ]
    },
    {
     "name": "stdout",
     "output_type": "stream",
     "text": [
      "  Fitting model 12 of 30...\n"
     ]
    },
    {
     "name": "stderr",
     "output_type": "stream",
     "text": [
      "Multiprocess sampling (4 chains in 4 jobs)\n",
      "CompoundStep\n",
      ">Metropolis: [tau]\n",
      ">Metropolis: [s]\n",
      ">Metropolis: [gamma]\n",
      ">Metropolis: [v]\n",
      "Sampling 4 chains: 100%|██████████| 100000/100000 [01:39<00:00, 1007.56draws/s]\n",
      "The number of effective samples is smaller than 10% for some parameters.\n"
     ]
    },
    {
     "name": "stdout",
     "output_type": "stream",
     "text": [
      "  Fitting model 13 of 30...\n"
     ]
    },
    {
     "name": "stderr",
     "output_type": "stream",
     "text": [
      "Multiprocess sampling (4 chains in 4 jobs)\n",
      "CompoundStep\n",
      ">Metropolis: [tau]\n",
      ">Metropolis: [s]\n",
      ">Metropolis: [gamma]\n",
      ">Metropolis: [v]\n",
      "Sampling 4 chains: 100%|██████████| 100000/100000 [01:39<00:00, 1006.11draws/s]\n",
      "The number of effective samples is smaller than 10% for some parameters.\n"
     ]
    },
    {
     "name": "stdout",
     "output_type": "stream",
     "text": [
      "  Fitting model 14 of 30...\n"
     ]
    },
    {
     "name": "stderr",
     "output_type": "stream",
     "text": [
      "Multiprocess sampling (4 chains in 4 jobs)\n",
      "CompoundStep\n",
      ">Metropolis: [tau]\n",
      ">Metropolis: [s]\n",
      ">Metropolis: [gamma]\n",
      ">Metropolis: [v]\n",
      "Sampling 4 chains: 100%|██████████| 100000/100000 [01:38<00:00, 1012.64draws/s]\n",
      "The number of effective samples is smaller than 10% for some parameters.\n"
     ]
    },
    {
     "name": "stdout",
     "output_type": "stream",
     "text": [
      "  Fitting model 15 of 30...\n"
     ]
    },
    {
     "name": "stderr",
     "output_type": "stream",
     "text": [
      "Multiprocess sampling (4 chains in 4 jobs)\n",
      "CompoundStep\n",
      ">Metropolis: [tau]\n",
      ">Metropolis: [s]\n",
      ">Metropolis: [gamma]\n",
      ">Metropolis: [v]\n",
      "Sampling 4 chains: 100%|██████████| 100000/100000 [01:39<00:00, 1003.17draws/s]\n",
      "The number of effective samples is smaller than 10% for some parameters.\n"
     ]
    },
    {
     "name": "stdout",
     "output_type": "stream",
     "text": [
      "  Fitting model 16 of 30...\n"
     ]
    },
    {
     "name": "stderr",
     "output_type": "stream",
     "text": [
      "Multiprocess sampling (4 chains in 4 jobs)\n",
      "CompoundStep\n",
      ">Metropolis: [tau]\n",
      ">Metropolis: [s]\n",
      ">Metropolis: [gamma]\n",
      ">Metropolis: [v]\n",
      "Sampling 4 chains: 100%|██████████| 100000/100000 [01:39<00:00, 1003.31draws/s]\n",
      "The number of effective samples is smaller than 10% for some parameters.\n"
     ]
    },
    {
     "name": "stdout",
     "output_type": "stream",
     "text": [
      "  Fitting model 17 of 30...\n"
     ]
    },
    {
     "name": "stderr",
     "output_type": "stream",
     "text": [
      "Multiprocess sampling (4 chains in 4 jobs)\n",
      "CompoundStep\n",
      ">Metropolis: [tau]\n",
      ">Metropolis: [s]\n",
      ">Metropolis: [gamma]\n",
      ">Metropolis: [v]\n",
      "Sampling 4 chains: 100%|██████████| 100000/100000 [01:38<00:00, 1016.77draws/s]\n",
      "The number of effective samples is smaller than 10% for some parameters.\n"
     ]
    },
    {
     "name": "stdout",
     "output_type": "stream",
     "text": [
      "  Fitting model 18 of 30...\n"
     ]
    },
    {
     "name": "stderr",
     "output_type": "stream",
     "text": [
      "Multiprocess sampling (4 chains in 4 jobs)\n",
      "CompoundStep\n",
      ">Metropolis: [tau]\n",
      ">Metropolis: [s]\n",
      ">Metropolis: [gamma]\n",
      ">Metropolis: [v]\n",
      "Sampling 4 chains: 100%|██████████| 100000/100000 [01:39<00:00, 486.88draws/s]\n",
      "The number of effective samples is smaller than 10% for some parameters.\n"
     ]
    },
    {
     "name": "stdout",
     "output_type": "stream",
     "text": [
      "  Fitting model 19 of 30...\n"
     ]
    },
    {
     "name": "stderr",
     "output_type": "stream",
     "text": [
      "Multiprocess sampling (4 chains in 4 jobs)\n",
      "CompoundStep\n",
      ">Metropolis: [tau]\n",
      ">Metropolis: [s]\n",
      ">Metropolis: [gamma]\n",
      ">Metropolis: [v]\n",
      "Sampling 4 chains: 100%|██████████| 100000/100000 [01:39<00:00, 1009.64draws/s]\n",
      "The number of effective samples is smaller than 10% for some parameters.\n"
     ]
    },
    {
     "name": "stdout",
     "output_type": "stream",
     "text": [
      "  Fitting model 20 of 30...\n"
     ]
    },
    {
     "name": "stderr",
     "output_type": "stream",
     "text": [
      "Multiprocess sampling (4 chains in 4 jobs)\n",
      "CompoundStep\n",
      ">Metropolis: [tau]\n",
      ">Metropolis: [s]\n",
      ">Metropolis: [gamma]\n",
      ">Metropolis: [v]\n",
      "Sampling 4 chains: 100%|██████████| 100000/100000 [01:38<00:00, 1014.30draws/s]\n",
      "The number of effective samples is smaller than 10% for some parameters.\n"
     ]
    },
    {
     "name": "stdout",
     "output_type": "stream",
     "text": [
      "  Fitting model 21 of 30...\n"
     ]
    },
    {
     "name": "stderr",
     "output_type": "stream",
     "text": [
      "Multiprocess sampling (4 chains in 4 jobs)\n",
      "CompoundStep\n",
      ">Metropolis: [tau]\n",
      ">Metropolis: [s]\n",
      ">Metropolis: [gamma]\n",
      ">Metropolis: [v]\n",
      "Sampling 4 chains: 100%|██████████| 100000/100000 [01:39<00:00, 1007.23draws/s]\n",
      "The number of effective samples is smaller than 10% for some parameters.\n"
     ]
    },
    {
     "name": "stdout",
     "output_type": "stream",
     "text": [
      "  Fitting model 22 of 30...\n"
     ]
    },
    {
     "name": "stderr",
     "output_type": "stream",
     "text": [
      "Multiprocess sampling (4 chains in 4 jobs)\n",
      "CompoundStep\n",
      ">Metropolis: [tau]\n",
      ">Metropolis: [s]\n",
      ">Metropolis: [gamma]\n",
      ">Metropolis: [v]\n",
      "Sampling 4 chains: 100%|██████████| 100000/100000 [01:40<00:00, 994.76draws/s]\n",
      "The number of effective samples is smaller than 10% for some parameters.\n"
     ]
    },
    {
     "name": "stdout",
     "output_type": "stream",
     "text": [
      "  Fitting model 23 of 30...\n"
     ]
    },
    {
     "name": "stderr",
     "output_type": "stream",
     "text": [
      "Multiprocess sampling (4 chains in 4 jobs)\n",
      "CompoundStep\n",
      ">Metropolis: [tau]\n",
      ">Metropolis: [s]\n",
      ">Metropolis: [gamma]\n",
      ">Metropolis: [v]\n",
      "Sampling 4 chains: 100%|██████████| 100000/100000 [01:40<00:00, 995.01draws/s]\n",
      "The number of effective samples is smaller than 10% for some parameters.\n"
     ]
    },
    {
     "name": "stdout",
     "output_type": "stream",
     "text": [
      "  Fitting model 24 of 30...\n"
     ]
    },
    {
     "name": "stderr",
     "output_type": "stream",
     "text": [
      "Multiprocess sampling (4 chains in 4 jobs)\n",
      "CompoundStep\n",
      ">Metropolis: [tau]\n",
      ">Metropolis: [s]\n",
      ">Metropolis: [gamma]\n",
      ">Metropolis: [v]\n",
      "Sampling 4 chains: 100%|██████████| 100000/100000 [01:43<00:00, 962.84draws/s]\n",
      "The number of effective samples is smaller than 10% for some parameters.\n"
     ]
    },
    {
     "name": "stdout",
     "output_type": "stream",
     "text": [
      "  Fitting model 25 of 30...\n"
     ]
    },
    {
     "name": "stderr",
     "output_type": "stream",
     "text": [
      "Multiprocess sampling (4 chains in 4 jobs)\n",
      "CompoundStep\n",
      ">Metropolis: [tau]\n",
      ">Metropolis: [s]\n",
      ">Metropolis: [gamma]\n",
      ">Metropolis: [v]\n",
      "Sampling 4 chains: 100%|██████████| 100000/100000 [01:42<00:00, 971.77draws/s]\n",
      "The number of effective samples is smaller than 10% for some parameters.\n"
     ]
    },
    {
     "name": "stdout",
     "output_type": "stream",
     "text": [
      "  Fitting model 26 of 30...\n"
     ]
    },
    {
     "name": "stderr",
     "output_type": "stream",
     "text": [
      "Multiprocess sampling (4 chains in 4 jobs)\n",
      "CompoundStep\n",
      ">Metropolis: [tau]\n",
      ">Metropolis: [s]\n",
      ">Metropolis: [gamma]\n",
      ">Metropolis: [v]\n",
      "Sampling 4 chains: 100%|██████████| 100000/100000 [01:44<00:00, 958.67draws/s]\n",
      "The number of effective samples is smaller than 10% for some parameters.\n"
     ]
    },
    {
     "name": "stdout",
     "output_type": "stream",
     "text": [
      "  Fitting model 27 of 30...\n"
     ]
    },
    {
     "name": "stderr",
     "output_type": "stream",
     "text": [
      "Multiprocess sampling (4 chains in 4 jobs)\n",
      "CompoundStep\n",
      ">Metropolis: [tau]\n",
      ">Metropolis: [s]\n",
      ">Metropolis: [gamma]\n",
      ">Metropolis: [v]\n",
      "Sampling 4 chains: 100%|██████████| 100000/100000 [01:45<00:00, 944.70draws/s]\n",
      "The number of effective samples is smaller than 10% for some parameters.\n"
     ]
    },
    {
     "name": "stdout",
     "output_type": "stream",
     "text": [
      "  Fitting model 28 of 30...\n"
     ]
    },
    {
     "name": "stderr",
     "output_type": "stream",
     "text": [
      "Multiprocess sampling (4 chains in 4 jobs)\n",
      "CompoundStep\n",
      ">Metropolis: [tau]\n",
      ">Metropolis: [s]\n",
      ">Metropolis: [gamma]\n",
      ">Metropolis: [v]\n",
      "Sampling 4 chains: 100%|██████████| 100000/100000 [01:43<00:00, 962.97draws/s]\n",
      "The number of effective samples is smaller than 10% for some parameters.\n"
     ]
    },
    {
     "name": "stdout",
     "output_type": "stream",
     "text": [
      "  Fitting model 29 of 30...\n"
     ]
    },
    {
     "name": "stderr",
     "output_type": "stream",
     "text": [
      "Multiprocess sampling (4 chains in 4 jobs)\n",
      "CompoundStep\n",
      ">Metropolis: [tau]\n",
      ">Metropolis: [s]\n",
      ">Metropolis: [gamma]\n",
      ">Metropolis: [v]\n",
      "Sampling 4 chains: 100%|██████████| 100000/100000 [01:44<00:00, 953.14draws/s]\n",
      "The number of effective samples is smaller than 10% for some parameters.\n"
     ]
    },
    {
     "name": "stdout",
     "output_type": "stream",
     "text": [
      "  Fitting model 30 of 30...\n"
     ]
    },
    {
     "name": "stderr",
     "output_type": "stream",
     "text": [
      "Multiprocess sampling (4 chains in 4 jobs)\n",
      "CompoundStep\n",
      ">Metropolis: [tau]\n",
      ">Metropolis: [s]\n",
      ">Metropolis: [gamma]\n",
      ">Metropolis: [v]\n",
      "Sampling 4 chains: 100%|██████████| 100000/100000 [01:42<00:00, 973.31draws/s]\n",
      "The number of effective samples is smaller than 10% for some parameters.\n"
     ]
    },
    {
     "name": "stdout",
     "output_type": "stream",
     "text": [
      "/!\\ Automatically setting parameter precision...\n",
      "Replaced attached data (6000 trials) with new data (3000 trials)...\n",
      "Fitting 30 model(s) using MCMC...\n",
      "  Fitting model 1 of 30...\n"
     ]
    },
    {
     "name": "stderr",
     "output_type": "stream",
     "text": [
      "Multiprocess sampling (4 chains in 4 jobs)\n",
      "CompoundStep\n",
      ">Metropolis: [tau]\n",
      ">Metropolis: [s]\n",
      ">Metropolis: [v]\n",
      "Sampling 4 chains: 100%|██████████| 100000/100000 [01:07<00:00, 1479.85draws/s]\n",
      "The number of effective samples is smaller than 10% for some parameters.\n"
     ]
    },
    {
     "name": "stdout",
     "output_type": "stream",
     "text": [
      "  Fitting model 2 of 30...\n"
     ]
    },
    {
     "name": "stderr",
     "output_type": "stream",
     "text": [
      "Multiprocess sampling (4 chains in 4 jobs)\n",
      "CompoundStep\n",
      ">Metropolis: [tau]\n",
      ">Metropolis: [s]\n",
      ">Metropolis: [v]\n",
      "Sampling 4 chains: 100%|██████████| 100000/100000 [01:07<00:00, 1490.29draws/s]\n",
      "The number of effective samples is smaller than 10% for some parameters.\n"
     ]
    },
    {
     "name": "stdout",
     "output_type": "stream",
     "text": [
      "  Fitting model 3 of 30...\n"
     ]
    },
    {
     "name": "stderr",
     "output_type": "stream",
     "text": [
      "Multiprocess sampling (4 chains in 4 jobs)\n",
      "CompoundStep\n",
      ">Metropolis: [tau]\n",
      ">Metropolis: [s]\n",
      ">Metropolis: [v]\n",
      "Sampling 4 chains: 100%|██████████| 100000/100000 [01:07<00:00, 1488.98draws/s]\n",
      "The number of effective samples is smaller than 10% for some parameters.\n"
     ]
    },
    {
     "name": "stdout",
     "output_type": "stream",
     "text": [
      "  Fitting model 4 of 30...\n"
     ]
    },
    {
     "name": "stderr",
     "output_type": "stream",
     "text": [
      "Multiprocess sampling (4 chains in 4 jobs)\n",
      "CompoundStep\n",
      ">Metropolis: [tau]\n",
      ">Metropolis: [s]\n",
      ">Metropolis: [v]\n",
      "Sampling 4 chains: 100%|██████████| 100000/100000 [01:05<00:00, 1531.28draws/s]\n",
      "The number of effective samples is smaller than 10% for some parameters.\n"
     ]
    },
    {
     "name": "stdout",
     "output_type": "stream",
     "text": [
      "  Fitting model 5 of 30...\n"
     ]
    },
    {
     "name": "stderr",
     "output_type": "stream",
     "text": [
      "Multiprocess sampling (4 chains in 4 jobs)\n",
      "CompoundStep\n",
      ">Metropolis: [tau]\n",
      ">Metropolis: [s]\n",
      ">Metropolis: [v]\n",
      "Sampling 4 chains: 100%|██████████| 100000/100000 [01:05<00:00, 1533.30draws/s]\n",
      "The number of effective samples is smaller than 10% for some parameters.\n"
     ]
    },
    {
     "name": "stdout",
     "output_type": "stream",
     "text": [
      "  Fitting model 6 of 30...\n"
     ]
    },
    {
     "name": "stderr",
     "output_type": "stream",
     "text": [
      "Multiprocess sampling (4 chains in 4 jobs)\n",
      "CompoundStep\n",
      ">Metropolis: [tau]\n",
      ">Metropolis: [s]\n",
      ">Metropolis: [v]\n",
      "Sampling 4 chains: 100%|██████████| 100000/100000 [01:05<00:00, 1521.10draws/s]\n",
      "The number of effective samples is smaller than 10% for some parameters.\n"
     ]
    },
    {
     "name": "stdout",
     "output_type": "stream",
     "text": [
      "  Fitting model 7 of 30...\n"
     ]
    },
    {
     "name": "stderr",
     "output_type": "stream",
     "text": [
      "Multiprocess sampling (4 chains in 4 jobs)\n",
      "CompoundStep\n",
      ">Metropolis: [tau]\n",
      ">Metropolis: [s]\n",
      ">Metropolis: [v]\n",
      "Sampling 4 chains: 100%|██████████| 100000/100000 [01:05<00:00, 1535.48draws/s]\n",
      "The number of effective samples is smaller than 10% for some parameters.\n"
     ]
    },
    {
     "name": "stdout",
     "output_type": "stream",
     "text": [
      "  Fitting model 8 of 30...\n"
     ]
    },
    {
     "name": "stderr",
     "output_type": "stream",
     "text": [
      "Multiprocess sampling (4 chains in 4 jobs)\n",
      "CompoundStep\n",
      ">Metropolis: [tau]\n",
      ">Metropolis: [s]\n",
      ">Metropolis: [v]\n",
      "Sampling 4 chains: 100%|██████████| 100000/100000 [01:05<00:00, 1530.52draws/s]\n",
      "The number of effective samples is smaller than 10% for some parameters.\n"
     ]
    },
    {
     "name": "stdout",
     "output_type": "stream",
     "text": [
      "  Fitting model 9 of 30...\n"
     ]
    },
    {
     "name": "stderr",
     "output_type": "stream",
     "text": [
      "Multiprocess sampling (4 chains in 4 jobs)\n",
      "CompoundStep\n",
      ">Metropolis: [tau]\n",
      ">Metropolis: [s]\n",
      ">Metropolis: [v]\n",
      "Sampling 4 chains: 100%|██████████| 100000/100000 [01:04<00:00, 1543.20draws/s]\n",
      "The number of effective samples is smaller than 10% for some parameters.\n"
     ]
    },
    {
     "name": "stdout",
     "output_type": "stream",
     "text": [
      "  Fitting model 10 of 30...\n"
     ]
    },
    {
     "name": "stderr",
     "output_type": "stream",
     "text": [
      "Multiprocess sampling (4 chains in 4 jobs)\n",
      "CompoundStep\n",
      ">Metropolis: [tau]\n",
      ">Metropolis: [s]\n",
      ">Metropolis: [v]\n",
      "Sampling 4 chains: 100%|██████████| 100000/100000 [01:05<00:00, 1535.89draws/s]\n",
      "The number of effective samples is smaller than 10% for some parameters.\n"
     ]
    },
    {
     "name": "stdout",
     "output_type": "stream",
     "text": [
      "  Fitting model 11 of 30...\n"
     ]
    },
    {
     "name": "stderr",
     "output_type": "stream",
     "text": [
      "Multiprocess sampling (4 chains in 4 jobs)\n",
      "CompoundStep\n",
      ">Metropolis: [tau]\n",
      ">Metropolis: [s]\n",
      ">Metropolis: [v]\n",
      "Sampling 4 chains: 100%|██████████| 100000/100000 [01:05<00:00, 1532.04draws/s]\n",
      "The number of effective samples is smaller than 10% for some parameters.\n"
     ]
    },
    {
     "name": "stdout",
     "output_type": "stream",
     "text": [
      "  Fitting model 12 of 30...\n"
     ]
    },
    {
     "name": "stderr",
     "output_type": "stream",
     "text": [
      "Multiprocess sampling (4 chains in 4 jobs)\n",
      "CompoundStep\n",
      ">Metropolis: [tau]\n",
      ">Metropolis: [s]\n",
      ">Metropolis: [v]\n",
      "Sampling 4 chains: 100%|██████████| 100000/100000 [01:04<00:00, 1539.04draws/s]\n",
      "The number of effective samples is smaller than 10% for some parameters.\n"
     ]
    },
    {
     "name": "stdout",
     "output_type": "stream",
     "text": [
      "  Fitting model 13 of 30...\n"
     ]
    },
    {
     "name": "stderr",
     "output_type": "stream",
     "text": [
      "Multiprocess sampling (4 chains in 4 jobs)\n",
      "CompoundStep\n",
      ">Metropolis: [tau]\n",
      ">Metropolis: [s]\n",
      ">Metropolis: [v]\n",
      "Sampling 4 chains: 100%|██████████| 100000/100000 [01:04<00:00, 1547.62draws/s]\n",
      "The number of effective samples is smaller than 10% for some parameters.\n"
     ]
    },
    {
     "name": "stdout",
     "output_type": "stream",
     "text": [
      "  Fitting model 14 of 30...\n"
     ]
    },
    {
     "name": "stderr",
     "output_type": "stream",
     "text": [
      "Multiprocess sampling (4 chains in 4 jobs)\n",
      "CompoundStep\n",
      ">Metropolis: [tau]\n",
      ">Metropolis: [s]\n",
      ">Metropolis: [v]\n",
      "Sampling 4 chains: 100%|██████████| 100000/100000 [01:05<00:00, 1527.18draws/s]\n",
      "The number of effective samples is smaller than 10% for some parameters.\n"
     ]
    },
    {
     "name": "stdout",
     "output_type": "stream",
     "text": [
      "  Fitting model 15 of 30...\n"
     ]
    },
    {
     "name": "stderr",
     "output_type": "stream",
     "text": [
      "Multiprocess sampling (4 chains in 4 jobs)\n",
      "CompoundStep\n",
      ">Metropolis: [tau]\n",
      ">Metropolis: [s]\n",
      ">Metropolis: [v]\n",
      "Sampling 4 chains: 100%|██████████| 100000/100000 [01:04<00:00, 1547.05draws/s]\n",
      "The number of effective samples is smaller than 10% for some parameters.\n"
     ]
    },
    {
     "name": "stdout",
     "output_type": "stream",
     "text": [
      "  Fitting model 16 of 30...\n"
     ]
    },
    {
     "name": "stderr",
     "output_type": "stream",
     "text": [
      "Multiprocess sampling (4 chains in 4 jobs)\n",
      "CompoundStep\n",
      ">Metropolis: [tau]\n",
      ">Metropolis: [s]\n",
      ">Metropolis: [v]\n",
      "Sampling 4 chains: 100%|██████████| 100000/100000 [01:05<00:00, 1530.85draws/s]\n",
      "The number of effective samples is smaller than 10% for some parameters.\n"
     ]
    },
    {
     "name": "stdout",
     "output_type": "stream",
     "text": [
      "  Fitting model 17 of 30...\n"
     ]
    },
    {
     "name": "stderr",
     "output_type": "stream",
     "text": [
      "Multiprocess sampling (4 chains in 4 jobs)\n",
      "CompoundStep\n",
      ">Metropolis: [tau]\n",
      ">Metropolis: [s]\n",
      ">Metropolis: [v]\n",
      "Sampling 4 chains: 100%|██████████| 100000/100000 [01:04<00:00, 1541.22draws/s]\n",
      "The number of effective samples is smaller than 10% for some parameters.\n"
     ]
    },
    {
     "name": "stdout",
     "output_type": "stream",
     "text": [
      "  Fitting model 18 of 30...\n"
     ]
    },
    {
     "name": "stderr",
     "output_type": "stream",
     "text": [
      "Multiprocess sampling (4 chains in 4 jobs)\n",
      "CompoundStep\n",
      ">Metropolis: [tau]\n",
      ">Metropolis: [s]\n",
      ">Metropolis: [v]\n",
      "Sampling 4 chains: 100%|██████████| 100000/100000 [01:05<00:00, 1532.81draws/s]\n",
      "The number of effective samples is smaller than 10% for some parameters.\n"
     ]
    },
    {
     "name": "stdout",
     "output_type": "stream",
     "text": [
      "  Fitting model 19 of 30...\n"
     ]
    },
    {
     "name": "stderr",
     "output_type": "stream",
     "text": [
      "Multiprocess sampling (4 chains in 4 jobs)\n",
      "CompoundStep\n",
      ">Metropolis: [tau]\n",
      ">Metropolis: [s]\n",
      ">Metropolis: [v]\n",
      "Sampling 4 chains: 100%|██████████| 100000/100000 [01:05<00:00, 1525.93draws/s]\n",
      "The number of effective samples is smaller than 10% for some parameters.\n"
     ]
    },
    {
     "name": "stdout",
     "output_type": "stream",
     "text": [
      "  Fitting model 20 of 30...\n"
     ]
    },
    {
     "name": "stderr",
     "output_type": "stream",
     "text": [
      "Multiprocess sampling (4 chains in 4 jobs)\n",
      "CompoundStep\n",
      ">Metropolis: [tau]\n",
      ">Metropolis: [s]\n",
      ">Metropolis: [v]\n",
      "Sampling 4 chains: 100%|██████████| 100000/100000 [01:05<00:00, 1534.09draws/s]\n",
      "The number of effective samples is smaller than 10% for some parameters.\n"
     ]
    },
    {
     "name": "stdout",
     "output_type": "stream",
     "text": [
      "  Fitting model 21 of 30...\n"
     ]
    },
    {
     "name": "stderr",
     "output_type": "stream",
     "text": [
      "Multiprocess sampling (4 chains in 4 jobs)\n",
      "CompoundStep\n",
      ">Metropolis: [tau]\n",
      ">Metropolis: [s]\n",
      ">Metropolis: [v]\n",
      "Sampling 4 chains: 100%|██████████| 100000/100000 [01:04<00:00, 1554.45draws/s]\n",
      "The number of effective samples is smaller than 10% for some parameters.\n"
     ]
    },
    {
     "name": "stdout",
     "output_type": "stream",
     "text": [
      "  Fitting model 22 of 30...\n"
     ]
    },
    {
     "name": "stderr",
     "output_type": "stream",
     "text": [
      "Multiprocess sampling (4 chains in 4 jobs)\n",
      "CompoundStep\n",
      ">Metropolis: [tau]\n",
      ">Metropolis: [s]\n",
      ">Metropolis: [v]\n",
      "Sampling 4 chains: 100%|██████████| 100000/100000 [01:05<00:00, 1528.82draws/s]\n",
      "The number of effective samples is smaller than 10% for some parameters.\n"
     ]
    },
    {
     "name": "stdout",
     "output_type": "stream",
     "text": [
      "  Fitting model 23 of 30...\n"
     ]
    },
    {
     "name": "stderr",
     "output_type": "stream",
     "text": [
      "Multiprocess sampling (4 chains in 4 jobs)\n",
      "CompoundStep\n",
      ">Metropolis: [tau]\n",
      ">Metropolis: [s]\n",
      ">Metropolis: [v]\n",
      "Sampling 4 chains: 100%|██████████| 100000/100000 [01:05<00:00, 1532.61draws/s]\n",
      "The number of effective samples is smaller than 10% for some parameters.\n"
     ]
    },
    {
     "name": "stdout",
     "output_type": "stream",
     "text": [
      "  Fitting model 24 of 30...\n"
     ]
    },
    {
     "name": "stderr",
     "output_type": "stream",
     "text": [
      "Multiprocess sampling (4 chains in 4 jobs)\n",
      "CompoundStep\n",
      ">Metropolis: [tau]\n",
      ">Metropolis: [s]\n",
      ">Metropolis: [v]\n",
      "Sampling 4 chains: 100%|██████████| 100000/100000 [01:04<00:00, 1540.55draws/s]\n",
      "The number of effective samples is smaller than 10% for some parameters.\n"
     ]
    },
    {
     "name": "stdout",
     "output_type": "stream",
     "text": [
      "  Fitting model 25 of 30...\n"
     ]
    },
    {
     "name": "stderr",
     "output_type": "stream",
     "text": [
      "Multiprocess sampling (4 chains in 4 jobs)\n",
      "CompoundStep\n",
      ">Metropolis: [tau]\n",
      ">Metropolis: [s]\n",
      ">Metropolis: [v]\n",
      "Sampling 4 chains: 100%|██████████| 100000/100000 [01:05<00:00, 1532.38draws/s]\n",
      "The number of effective samples is smaller than 10% for some parameters.\n"
     ]
    },
    {
     "name": "stdout",
     "output_type": "stream",
     "text": [
      "  Fitting model 26 of 30...\n"
     ]
    },
    {
     "name": "stderr",
     "output_type": "stream",
     "text": [
      "Multiprocess sampling (4 chains in 4 jobs)\n",
      "CompoundStep\n",
      ">Metropolis: [tau]\n",
      ">Metropolis: [s]\n",
      ">Metropolis: [v]\n",
      "Sampling 4 chains: 100%|██████████| 100000/100000 [01:04<00:00, 1543.84draws/s]\n",
      "The number of effective samples is smaller than 10% for some parameters.\n"
     ]
    },
    {
     "name": "stdout",
     "output_type": "stream",
     "text": [
      "  Fitting model 27 of 30...\n"
     ]
    },
    {
     "name": "stderr",
     "output_type": "stream",
     "text": [
      "Multiprocess sampling (4 chains in 4 jobs)\n",
      "CompoundStep\n",
      ">Metropolis: [tau]\n",
      ">Metropolis: [s]\n",
      ">Metropolis: [v]\n",
      "Sampling 4 chains: 100%|██████████| 100000/100000 [01:04<00:00, 1551.61draws/s]\n",
      "The number of effective samples is smaller than 10% for some parameters.\n"
     ]
    },
    {
     "name": "stdout",
     "output_type": "stream",
     "text": [
      "  Fitting model 28 of 30...\n"
     ]
    },
    {
     "name": "stderr",
     "output_type": "stream",
     "text": [
      "Multiprocess sampling (4 chains in 4 jobs)\n",
      "CompoundStep\n",
      ">Metropolis: [tau]\n",
      ">Metropolis: [s]\n",
      ">Metropolis: [v]\n",
      "Sampling 4 chains: 100%|██████████| 100000/100000 [01:04<00:00, 1540.76draws/s]\n",
      "The number of effective samples is smaller than 10% for some parameters.\n"
     ]
    },
    {
     "name": "stdout",
     "output_type": "stream",
     "text": [
      "  Fitting model 29 of 30...\n"
     ]
    },
    {
     "name": "stderr",
     "output_type": "stream",
     "text": [
      "Multiprocess sampling (4 chains in 4 jobs)\n",
      "CompoundStep\n",
      ">Metropolis: [tau]\n",
      ">Metropolis: [s]\n",
      ">Metropolis: [v]\n",
      "Sampling 4 chains: 100%|██████████| 100000/100000 [01:04<00:00, 1554.52draws/s]\n",
      "The number of effective samples is smaller than 10% for some parameters.\n"
     ]
    },
    {
     "name": "stdout",
     "output_type": "stream",
     "text": [
      "  Fitting model 30 of 30...\n"
     ]
    },
    {
     "name": "stderr",
     "output_type": "stream",
     "text": [
      "Multiprocess sampling (4 chains in 4 jobs)\n",
      "CompoundStep\n",
      ">Metropolis: [tau]\n",
      ">Metropolis: [s]\n",
      ">Metropolis: [v]\n",
      "Sampling 4 chains: 100%|██████████| 100000/100000 [01:05<00:00, 1520.61draws/s]\n",
      "The number of effective samples is smaller than 10% for some parameters.\n"
     ]
    },
    {
     "name": "stdout",
     "output_type": "stream",
     "text": [
      "/!\\ Automatically setting parameter precision...\n"
     ]
    }
   ],
   "source": [
    "glam_bias.exchange_data(data_even)\n",
    "glam_bias.fit(method='MCMC',\n",
    "              tune=20000,\n",
    "              draws=5000,\n",
    "              chains=4)\n",
    "\n",
    "glam_nobias.exchange_data(data_even)\n",
    "glam_nobias.fit(method='MCMC',\n",
    "                tune=20000,\n",
    "                draws=5000,\n",
    "                chains=4)"
   ]
  },
  {
   "cell_type": "markdown",
   "metadata": {},
   "source": [
    "##### old version"
   ]
  },
  {
   "cell_type": "markdown",
   "metadata": {},
   "source": [
    "We then use the data of the even-numbered trials to fit both GLAM variants:"
   ]
  },
  {
   "cell_type": "raw",
   "metadata": {},
   "source": [
    "glam_bias = gb.GLAM(data=data_even)\n",
    "glam_bias.make_model(kind='individual')\n",
    "\n",
    "glam_nobias = gb.GLAM(data=data_even)\n",
    "glam_nobias.make_model(kind='individual', gamma_val=1)"
   ]
  },
  {
   "cell_type": "raw",
   "metadata": {},
   "source": [
    "glam_bias.fit(method=method,\n",
    "                    tune=ntune,\n",
    "                    draws=ndraws,\n",
    "                    chains=nchains,\n",
    "                    cores=ncores,\n",
    "                    progressbar=False,\n",
    "                    verbose=False)"
   ]
  },
  {
   "cell_type": "raw",
   "metadata": {},
   "source": [
    "glam_nobias.fit(method=method,\n",
    "                       tune=ntune,\n",
    "                       draws=ndraws,\n",
    "                       chains=nchains,\n",
    "                       cores=ncores,\n",
    "                       progressbar=False,\n",
    "                       verbose=False)"
   ]
  },
  {
   "cell_type": "markdown",
   "metadata": {},
   "source": [
    "##### old version end"
   ]
  },
  {
   "cell_type": "markdown",
   "metadata": {},
   "source": [
    "Again, we check all parameter traces for convergence, before preceeding further in the anlaysis:"
   ]
  },
  {
   "cell_type": "code",
   "execution_count": 51,
   "metadata": {},
   "outputs": [
    {
     "data": {
      "text/plain": [
       "True"
      ]
     },
     "execution_count": 51,
     "metadata": {},
     "output_type": "execute_result"
    }
   ],
   "source": [
    "np.all([check_convergence(pm.summary(trace), varnames=['v', 's', 'gamma', 'tau'])\n",
    "        for trace in glam_bias.trace])"
   ]
  },
  {
   "cell_type": "code",
   "execution_count": 52,
   "metadata": {},
   "outputs": [
    {
     "data": {
      "text/plain": [
       "True"
      ]
     },
     "execution_count": 52,
     "metadata": {},
     "output_type": "execute_result"
    }
   ],
   "source": [
    "np.all([check_convergence(pm.summary(trace), varnames=['v', 's', 'tau'])\n",
    "        for trace in glam_nobias.trace])"
   ]
  },
  {
   "cell_type": "code",
   "execution_count": 53,
   "metadata": {},
   "outputs": [],
   "source": [
    "for subject, subject_trace in enumerate(glam_bias.trace):\n",
    "#     pm.traceplot(subject_trace)\n",
    "#     plt.savefig('examples/example_1/results/out_of_sample/traces/sub_{}_gaze_bias_model_trace.png'.format(subject), dpi=330)\n",
    "    plt.close()\n",
    "    pm.trace_to_dataframe(subject_trace).to_csv(\n",
    "        'examples/example_1/results/out_of_sample/traces/sub_{}_gaze_bias_model_trace.csv'.format(subject))"
   ]
  },
  {
   "cell_type": "code",
   "execution_count": 54,
   "metadata": {},
   "outputs": [],
   "source": [
    "for subject, subject_trace in enumerate(glam_nobias.trace):\n",
    "#     pm.traceplot(subject_trace)\n",
    "#     plt.savefig('examples/example_1/figures/traceplots/out_of_sample/sub_{}_no_gaze_bias_model_trace.png'.format(subject), dpi=330)\n",
    "    plt.close()\n",
    "    pm.trace_to_dataframe(subject_trace).to_csv(\n",
    "        'examples/example_1/results/out_of_sample/traces/sub_{}_no_gaze_bias_model_trace.csv'.format(subject))"
   ]
  },
  {
   "cell_type": "markdown",
   "metadata": {},
   "source": [
    "After establishing convergence of all parameter traces, we utilize the individually estimated models to predict choices and response times for each trial in the held-out dataset (containing all odd-numbered experiment trials). In this simulation, we repeat each trial 50 times in order to gain a stable estimate of the GLAM's response behaviour:"
   ]
  },
  {
   "cell_type": "code",
   "execution_count": 55,
   "metadata": {},
   "outputs": [],
   "source": [
    "n_repeats = 50"
   ]
  },
  {
   "cell_type": "code",
   "execution_count": 56,
   "metadata": {},
   "outputs": [
    {
     "name": "stderr",
     "output_type": "stream",
     "text": [
      "\r",
      "  0%|          | 0/3000 [00:00<?, ?it/s]"
     ]
    },
    {
     "name": "stdout",
     "output_type": "stream",
     "text": [
      "Replaced attached data (3000 trials) with new data (3000 trials)...\n",
      "Generating predictions for 3000 trials (50 repeats each)...\n"
     ]
    },
    {
     "name": "stderr",
     "output_type": "stream",
     "text": [
      "100%|██████████| 3000/3000 [56:02<00:00,  1.78s/it]\n",
      "  0%|          | 0/3000 [00:00<?, ?it/s]"
     ]
    },
    {
     "name": "stdout",
     "output_type": "stream",
     "text": [
      "Replaced attached data (3000 trials) with new data (3000 trials)...\n",
      "Generating predictions for 3000 trials (50 repeats each)...\n"
     ]
    },
    {
     "name": "stderr",
     "output_type": "stream",
     "text": [
      "100%|██████████| 3000/3000 [55:46<00:00,  1.78s/it]\n"
     ]
    }
   ],
   "source": [
    "glam_bias.exchange_data(data_odd)\n",
    "glam_bias.predict(n_repeats=50)\n",
    "\n",
    "glam_nobias.exchange_data(data_odd)\n",
    "glam_nobias.predict(n_repeats=50)"
   ]
  },
  {
   "cell_type": "code",
   "execution_count": 57,
   "metadata": {
    "scrolled": true
   },
   "outputs": [],
   "source": [
    "glam_bias.prediction.to_csv('examples/example_1/results/out_of_sample/predictions/gaze_bias_model_predictions.csv')\n",
    "glam_nobias.prediction.to_csv('examples/example_1/results/out_of_sample/predictions/no_gaze_bias_model_predictions.csv')"
   ]
  },
  {
   "cell_type": "markdown",
   "metadata": {},
   "source": [
    "Again, we aggregate the predictions of both model variants on the individual level by the use of the *aggregate_subject_level_data* function:"
   ]
  },
  {
   "cell_type": "code",
   "execution_count": 93,
   "metadata": {},
   "outputs": [
    {
     "name": "stdout",
     "output_type": "stream",
     "text": [
      "                rt                                                           \\\n",
      "              mean          std    min      max         se      q1       q3   \n",
      "subject                                                                       \n",
      "0.0       674.6334   560.227516   62.0   4880.0   7.923606   453.0   700.25   \n",
      "1.0      1300.6374   707.345191   18.0   5886.0  10.004372   823.0  1571.00   \n",
      "2.0       772.8388   248.555882  279.0   2085.0   3.515463   600.0   899.00   \n",
      "3.0      2670.9304  1715.214586  326.0  12420.0  24.259223  1498.0  3297.25   \n",
      "4.0      2262.3062  1248.849979  274.0   9365.0  17.663172  1438.0  2745.00   \n",
      "\n",
      "                 best_chosen gaze_influence  \n",
      "             iqr        mean                 \n",
      "subject                                      \n",
      "0.0       247.25      0.2046       0.392977  \n",
      "1.0       748.00      0.5546       0.166974  \n",
      "2.0       299.00      0.2732       0.425066  \n",
      "3.0      1799.25      0.5052       0.047496  \n",
      "4.0      1307.00      0.1870       0.270627  \n"
     ]
    }
   ],
   "source": [
    "glam_bias_pred_subject_summary = gb.analysis.aggregate_subject_level_data(glam_bias.prediction, n_items)\n",
    "print(glam_bias_pred_subject_summary.head())"
   ]
  },
  {
   "cell_type": "code",
   "execution_count": 94,
   "metadata": {},
   "outputs": [
    {
     "name": "stdout",
     "output_type": "stream",
     "text": [
      "                rt                                                            \\\n",
      "              mean          std    min      max         se       q1       q3   \n",
      "subject                                                                        \n",
      "0.0       766.9052   531.359313   62.0   4883.0   7.515307   516.00   841.00   \n",
      "1.0      1271.9626   677.244644   27.0   5864.0   9.578644   811.75  1549.25   \n",
      "2.0       873.7434   277.746890  310.0   2077.0   3.928327   681.00  1013.00   \n",
      "3.0      2611.1860  1699.970117  398.0  13607.0  24.043612  1451.00  3215.25   \n",
      "4.0      2485.4818  1226.768541  309.0   9952.0  17.350862  1652.00  2986.75   \n",
      "\n",
      "                 best_chosen gaze_influence  \n",
      "             iqr        mean                 \n",
      "subject                                      \n",
      "0.0       325.00      0.2880       0.003289  \n",
      "1.0       737.50      0.5504      -0.010020  \n",
      "2.0       332.00      0.2994       0.010098  \n",
      "3.0      1764.25      0.5150      -0.006053  \n",
      "4.0      1334.75      0.2888      -0.008254  \n"
     ]
    }
   ],
   "source": [
    "glam_nobias_pred_subject_summary = gb.analysis.aggregate_subject_level_data(glam_nobias.prediction, n_items)\n",
    "print(glam_nobias_pred_subject_summary.head())"
   ]
  },
  {
   "cell_type": "markdown",
   "metadata": {},
   "source": [
    "To then determine the absolute fit of both model variants to the data, we plot the individually predited against the individually observed data on our three behavioural metrics. To do this, we utilize the *absolute_fit_individual* function of the plots module. This function takes as input the subject-level summary of the observed data, as well as a list of the subject-level summaries of the predictions of all model variants that are to be compared. For each model variant, the function creates a new row of panels, plotting the observed against the predicted data."
   ]
  },
  {
   "cell_type": "code",
   "execution_count": 105,
   "metadata": {},
   "outputs": [
    {
     "data": {
      "image/png": "[encoded data removed]",
      "text/plain": [
       "<Figure size 510.236x340.157 with 6 Axes>"
      ]
     },
     "metadata": {},
     "output_type": "display_data"
    }
   ],
   "source": [
    "fig = gb.plots.plot_indvidual(observed=gb.analysis.aggregate_subject_level_data(data_odd, n_items),\n",
    "                                       predictions=[glam_bias_pred_subject_summary,\n",
    "                                                    glam_nobias_pred_subject_summary],\n",
    "                                       prediction_labels=['gaze-bias', 'no gaze-bias'])\n",
    "fig.savefig('examples/example_1/figures/Figure_3_absolute_fit.png', dpi=330)"
   ]
  },
  {
   "cell_type": "markdown",
   "metadata": {},
   "source": [
    "Both model variants perform well in capturing individuals' response times and probability of choosing the best item. Yet, only the GLAM variant with gaze bias is able to also recover the strength of the association between individuals' choice behaviour and gaze allocation."
   ]
  },
  {
   "cell_type": "markdown",
   "metadata": {
    "collapsed": true
   },
   "source": [
    "## Association between model parameters and behaviour"
   ]
  },
  {
   "cell_type": "markdown",
   "metadata": {},
   "source": [
    "In the last step of our analysis, we want to test whether the individual GLAM parameter estimates from the even-numbered experiment trials are able to predict individuals' response characteristics on the three behavioural metrics in the odd-numbered trials. To this end, we plot each set of parameter against each behavioural metric."
   ]
  },
  {
   "cell_type": "markdown",
   "metadata": {},
   "source": [
    "### Gaze bias model"
   ]
  },
  {
   "cell_type": "code",
   "execution_count": 98,
   "metadata": {
    "scrolled": false
   },
   "outputs": [
    {
     "data": {
      "image/png": "[encoded data removed]",
      "text/plain": [
       "<Figure size 510.236x510.236 with 12 Axes>"
      ]
     },
     "metadata": {},
     "output_type": "display_data"
    }
   ],
   "source": [
    "fig, axs = plt.subplots(4,3, figsize=gb.plots.cm2inch(18,18))\n",
    "\n",
    "\n",
    "subject_data_summary_odd = gb.analysis.aggregate_subject_level_data(data_odd, n_items)\n",
    "for i, parameter in enumerate(['v', 's', 'gamma', 'tau']): \n",
    "    \n",
    "    # response time\n",
    "    gb.plots.plot_correlation(glam_bias.estimates[parameter],\n",
    "                              subject_data_summary_odd['rt']['mean'],\n",
    "                              ax=axs[i,0])\n",
    "    axs[i,0].set_xlabel(r'{}'.format(parameter), fontsize=8)\n",
    "    axs[i,0].set_ylabel('Response time (ms)', fontsize=8)\n",
    "    \n",
    "    # P(choose item | value)\n",
    "    gb.plots.plot_correlation(glam_bias.estimates[parameter],\n",
    "                              subject_data_summary_odd['best_chosen']['mean'],\n",
    "                              ax=axs[i,1])\n",
    "    axs[i,1].set_xlabel(r'{}'.format(parameter), fontsize=8)\n",
    "    axs[i,1].set_ylabel('P(choose best)', fontsize=8)\n",
    "    \n",
    "    # Gaze influence on P(choose item | value)\n",
    "    gb.plots.plot_correlation(glam_bias.estimates[parameter],\n",
    "                              subject_data_summary_odd['gaze_influence'],\n",
    "                              ax=axs[i,2])\n",
    "    axs[i,2].set_xlabel(r'{}'.format(parameter), fontsize=8)\n",
    "    axs[i,2].set_ylabel('Gaze influence on \\nP(choose item | value)', fontsize=8)\n",
    "    \n",
    "for ax in axs.ravel():\n",
    "    ax.spines['right'].set_visible(False)\n",
    "    ax.spines['top'].set_visible(False)\n",
    "    ax.tick_params(axis='both', which='major', labelsize=8)\n",
    "\n",
    "fig.tight_layout()\n",
    "fig.savefig('examples/example_1/figures/Figure_4_behaviour_paramater_correlations.png', dpi=330)"
   ]
  },
  {
   "cell_type": "markdown",
   "metadata": {},
   "source": [
    "### No Bias model"
   ]
  },
  {
   "cell_type": "code",
   "execution_count": 103,
   "metadata": {
    "scrolled": false
   },
   "outputs": [
    {
     "data": {
      "image/png": "[encoded data removed]",
      "text/plain": [
       "<Figure size 510.236x510.236 with 9 Axes>"
      ]
     },
     "metadata": {},
     "output_type": "display_data"
    }
   ],
   "source": [
    "fig, axs = plt.subplots(3,3, figsize=gb.plots.cm2inch(18,18))\n",
    "\n",
    "\n",
    "subject_data_summary_odd = gb.analysis.aggregate_subject_level_data(data_odd, n_items)\n",
    "for i, parameter in enumerate(['v', 's', 'tau']): \n",
    "    \n",
    "    # response time\n",
    "    gb.plots.plot_correlation(glam_nobias.estimates[parameter],\n",
    "                              subject_data_summary_odd['rt']['mean'],\n",
    "                              ax=axs[i,0])\n",
    "    axs[i,0].set_xlabel(r'{}'.format(parameter), fontsize=8)\n",
    "    axs[i,0].set_ylabel('Response time (ms)', fontsize=8)\n",
    "    \n",
    "    # P(choose item | value)\n",
    "    gb.plots.plot_correlation(glam_nobias.estimates[parameter],\n",
    "                              subject_data_summary_odd['best_chosen']['mean'],\n",
    "                              ax=axs[i,1])\n",
    "    axs[i,1].set_xlabel(r'{}'.format(parameter), fontsize=8)\n",
    "    axs[i,1].set_ylabel('P(choose best)', fontsize=8)\n",
    "    \n",
    "    # Gaze influence on P(choose item | value)\n",
    "    gb.plots.plot_correlation(glam_nobias.estimates[parameter],\n",
    "                              subject_data_summary_odd['gaze_influence'],\n",
    "                              ax=axs[i,2])\n",
    "    axs[i,2].set_xlabel(r'{}'.format(parameter), fontsize=8)\n",
    "    axs[i,2].set_ylabel('Gaze influence on \\nP(choose item | value)', fontsize=8)\n",
    "    \n",
    "for ax in axs.ravel():\n",
    "    ax.spines['right'].set_visible(False)\n",
    "    ax.spines['top'].set_visible(False)\n",
    "    ax.tick_params(axis='both', which='major', labelsize=8)\n",
    "\n",
    "fig.tight_layout()\n",
    "fig.savefig('examples/example_1/figures/Figure_4_behaviour_paramater_correlations.png', dpi=330)"
   ]
  },
  {
   "cell_type": "code",
   "execution_count": null,
   "metadata": {},
   "outputs": [],
   "source": []
  }
 ],
 "metadata": {
  "anaconda-cloud": {},
  "kernelspec": {
   "display_name": "Python 3",
   "language": "python",
   "name": "python3"
  },
  "language_info": {
   "codemirror_mode": {
    "name": "ipython",
    "version": 3
   },
   "file_extension": ".py",
   "mimetype": "text/x-python",
   "name": "python",
   "nbconvert_exporter": "python",
   "pygments_lexer": "ipython3",
   "version": "3.7.3"
  },
  "toc": {
   "colors": {
    "hover_highlight": "#DAA520",
    "running_highlight": "#FF0000",
    "selected_highlight": "#FFD700"
   },
   "moveMenuLeft": true,
   "nav_menu": {
    "height": "157px",
    "width": "252px"
   },
   "navigate_menu": true,
   "number_sections": true,
   "sideBar": true,
   "threshold": 4,
   "toc_cell": false,
   "toc_section_display": "block",
   "toc_window_display": false,
   "widenNotebook": false
  }
 },
 "nbformat": 4,
 "nbformat_minor": 2
}
