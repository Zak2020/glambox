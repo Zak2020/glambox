{
 "cells": [
  {
   "cell_type": "code",
   "execution_count": 1,
   "metadata": {},
   "outputs": [],
   "source": [
    "%load_ext autoreload\n",
    "%autoreload 2\n",
    "\n",
    "import os, errno\n",
    "\n",
    "import warnings\n",
    "warnings.simplefilter(action='ignore', category=FutureWarning)\n",
    "\n",
    "import numpy as np\n",
    "import pandas as pd\n",
    "from tqdm import tqdm\n",
    "import pymc3 as pm\n",
    "\n",
    "import matplotlib.pyplot as plt\n",
    "%matplotlib inline\n",
    "\n",
    "import glam as gb"
   ]
  },
  {
   "cell_type": "code",
   "execution_count": 2,
   "metadata": {},
   "outputs": [],
   "source": [
    "np.random.seed(1)"
   ]
  },
  {
   "cell_type": "code",
   "execution_count": 3,
   "metadata": {},
   "outputs": [],
   "source": [
    "def make_sure_path_exists(path):\n",
    "    try:\n",
    "        os.makedirs(path)\n",
    "    except OSError as exception:\n",
    "        if exception.errno != errno.EEXIST:\n",
    "            raise"
   ]
  },
  {
   "cell_type": "code",
   "execution_count": 4,
   "metadata": {},
   "outputs": [],
   "source": [
    "make_sure_path_exists('examples/example_1/figures/')\n",
    "make_sure_path_exists('examples/example_1/results/in_sample/traces/')\n",
    "make_sure_path_exists('examples/example_1/results/in_sample/model_comparison/')\n",
    "make_sure_path_exists('examples/example_1/results/out_of_sample/traces/')\n",
    "make_sure_path_exists('examples/example_1/results/out_of_sample/predictions/')"
   ]
  },
  {
   "cell_type": "markdown",
   "metadata": {},
   "source": [
    "# Example 1: Explore individual gaze biases"
   ]
  },
  {
   "cell_type": "markdown",
   "metadata": {
    "collapsed": true
   },
   "source": [
    "The first example is based on a study by Thomas et al. (2019). Here, the authors study the association between gaze allocation and choice behaviour on the level of the individual. Particularly, the authors explore whether (1) an association between gaze and choice is present at the individual level and (2) the strength of this association varies between individuals."
   ]
  },
  {
   "cell_type": "markdown",
   "metadata": {},
   "source": [
    "## Simulating data"
   ]
  },
  {
   "cell_type": "markdown",
   "metadata": {},
   "source": [
    "First, we simulate a dataset of 30 subjects, each performning 200 simple value-based choice trials. We assume that in each trial participants are asked to choose the item that they like most out of a set of four presented alternatives (similar to the task described in Towal, Moorman & Koch, 2013). While participants perform the task, their eye movements, choices and response times are measured. After completing all choice trials, participants further indicate their liking rating for each of the items presented in the choice task on a liking rating scale from 1 to 10 (with 10 indicating strong liking and 1 indicating little liking). The resulting datasets contains a liking value for each choice item in each trial, the participants' choice and response, as well as their aggregated gaze data (describing the fraction of trial time that they spent looking at each item in the choice set)."
   ]
  },
  {
   "cell_type": "code",
   "execution_count": 5,
   "metadata": {},
   "outputs": [],
   "source": [
    "n_subjects = 30\n",
    "subjects = np.arange(n_subjects)\n",
    "n_trials = 200\n",
    "n_items = 3"
   ]
  },
  {
   "cell_type": "markdown",
   "metadata": {},
   "source": [
    "To simulate individuals' choice behaviour, we define a set of generating model parameters for each individual. We assume that these parameters are drawn independently for each subject from uniform distributions (with lower and upper bound; based on the parameter estimates obtained in Thomas et al., 2019):\n",
    "\n",
    "* v ~ U(2e-5,2e-4) \n",
    "* $\\sigma$ ~ U(0.002,0.02) \n",
    "* $\\gamma$ ~ U(-1,0.5) \n",
    "* $\\tau$ ~ U(0.5,5)\n",
    "\n",
    "Importantly, we further assume that five subjects do not exhibit a gaze bias (i.e., that their choices are independent of the time that they spend looking at each item). To this end, we will set the $\\gamma$ parameter for five randomly selected subjects to 1. We further also assume that individuals’ gaze is distributed randomly with respect to the values of the items in a choice set. "
   ]
  },
  {
   "cell_type": "code",
   "execution_count": 6,
   "metadata": {},
   "outputs": [],
   "source": [
    "np.random.seed(6)\n",
    "# generating model parameters (taken from Thomas et al., 2019)\n",
    "gen_v = np.array([0.000121, 6.3e-05, 7.3e-05, 7.8e-05, 6.3e-05, 4.3e-05, 2e-05, 6e-05, 0.000157, 6.2e-05, 7.3e-05, 0.000118, 6.3e-05, 6.2e-05, 0.00011, 2e-05, 5.7e-05, 3.9e-05, 0.000117, 6.6e-05, 3e-05, 6.7e-05, 4.9e-05, 4e-05, 2.2e-05, 5.41e-05, 9.3e-05, 6.4e-05, 4.1e-05, 8.9e-05])\n",
    "gen_gamma = np.array([0.31, 0.3, 0.81, -0.17, 0.65, -0.26, 0.34, -1.03, 0.31, -0.07, 0.48, 0.01, 0.41, 0.37, 0.52, 0.32, 0.3, 0.63, 0.2, 0.49, 0.38, -0.23, 0.07, 0.52, -0.42, -0.46, -0.03, 0.78, -0.07, -0.09])\n",
    "gen_sigma = np.array([0.007088, 0.008777, 0.008888, 0.008498, 0.00661, 0.007155, 0.00695, 0.008606, 0.005291, 0.007948, 0.007924, 0.007294, 0.007428, 0.007635, 0.00514, 0.006489, 0.01144, 0.005515, 0.008126, 0.00999, 0.009338, 0.008122, 0.007445, 0.009055, 0.006532, 0.010194, 0.006534, 0.008277, 0.007029, 0.006392])\n",
    "gen_tau = np.array([0.33, 0.55, 0.65, 0.98, 0.47, 1.39, 0.95, 0.83, 0.24, 1.2, 0.75, 0.32, 0.66, 1.02, 0.22, 1.37, 0.73, 1.55, 0.34, 0.29, 4.82, 0.47, 0.46, 0.78, 1.14, 1.52, 0.44, 0.78, 1.3, 0.48])\n",
    "gen_t0 = np.zeros(n_subjects)\n",
    "gen_gamma = np.random.uniform(-1, 0.5, n_subjects)\n",
    "# define subjects with no association between gaze and choice:\n",
    "no_gaze_bias_subjects = np.sort(np.random.choice(n_subjects, 5, replace=False))\n",
    "gaze_bias_subjects = np.array([s for s in subjects if s not in no_gaze_bias_subjects])\n",
    "gen_gamma[no_gaze_bias_subjects] = 1\n",
    "\n",
    "# create a dictionary containing all generating parameters\n",
    "gen_parameters = dict(v=gen_v,\n",
    "                      gamma=gen_gamma,\n",
    "                      s=gen_sigma,\n",
    "                      t0=gen_t0,\n",
    "                      tau=gen_tau)"
   ]
  },
  {
   "cell_type": "code",
   "execution_count": 7,
   "metadata": {},
   "outputs": [
    {
     "data": {
      "image/png": "[encoded data removed]",
      "text/plain": [
       "<Figure size 432x432 with 4 Axes>"
      ]
     },
     "metadata": {
      "needs_background": "light"
     },
     "output_type": "display_data"
    }
   ],
   "source": [
    "# overview of the distribution of generating parameters\n",
    "\n",
    "fig, axs = plt.subplots(4, 1, figsize=(6,6), sharex=True)\n",
    "\n",
    "for subject_set, color, label in zip([gaze_bias_subjects,\n",
    "                                      no_gaze_bias_subjects],\n",
    "                                      ['C0', 'C1'],\n",
    "                                      ['gaze-bias', 'no gaze-bias']):\n",
    "    # v\n",
    "    axs[0].scatter(subject_set,\n",
    "                   gen_v[subject_set],\n",
    "                   label=label,\n",
    "                   color=color)\n",
    "    axs[0].set_ylabel(r'$v$')\n",
    "    axs[0].set_xticks([])\n",
    "    \n",
    "    # sigma\n",
    "    axs[1].scatter(subject_set,\n",
    "                   gen_sigma[subject_set],\n",
    "                   color=color)\n",
    "    axs[1].set_ylabel(r'$\\sigma$')\n",
    "    axs[1].set_xticks([])\n",
    "\n",
    "    # gamma\n",
    "    axs[2].scatter(subject_set,\n",
    "                   gen_gamma[subject_set],\n",
    "                   color=color)\n",
    "    axs[2].set_ylabel(r'$\\gamma$')\n",
    "    axs[2].set_xticks([])\n",
    "\n",
    "    # tau\n",
    "    axs[3].scatter(subject_set,\n",
    "                   gen_tau[subject_set],\n",
    "                   color=color)\n",
    "    axs[3].set_ylabel(r'$\\tau$')\n",
    "    axs[3].set_xlabel('Subject')\n",
    "    axs[3].set_xticks([])\n",
    "\n",
    "axs[0].set_title('Generating GLAM parameters')\n",
    "axs[0].set_ylim(-0.0001, 0.0006)\n",
    "axs[1].set_ylim(-0.001, 0.015)\n",
    "axs[2].set_ylim(-1.5, 1.2)\n",
    "axs[3].set_ylim(0, 5.1)\n",
    "axs[0].legend(loc='upper left')\n",
    "for ax in axs:\n",
    "    ax.spines['right'].set_visible(False)\n",
    "    ax.spines['top'].set_visible(False)\n",
    "    \n",
    "fig.tight_layout()\n",
    "fig.savefig('examples/example_1/figures/Supplementary_Figure_1_generating_parameters.png', dpi=330)"
   ]
  },
  {
   "cell_type": "markdown",
   "metadata": {},
   "source": [
    "Subjects with no association of gaze allocation and choice behaviour:"
   ]
  },
  {
   "cell_type": "code",
   "execution_count": 8,
   "metadata": {},
   "outputs": [
    {
     "data": {
      "text/plain": [
       "array([ 0, 13, 14, 15, 28])"
      ]
     },
     "execution_count": 8,
     "metadata": {},
     "output_type": "execute_result"
    }
   ],
   "source": [
    "no_gaze_bias_subjects"
   ]
  },
  {
   "cell_type": "markdown",
   "metadata": {},
   "source": [
    "To simulate individuals' response behaviour, we use the *simulate_group* method of the GLAM model class. This function requires us to specify whether the individuals of this group are either simulated as individuals (and thereby independent of one another) or as part of a hierarchical parameter distribution (where the individual model parameters are drawn from a group distribution). If we specify the group as individual, the generating parameters need to be provided as a dictionary, containing one entry per parameter, containing an array of parameter values. "
   ]
  },
  {
   "cell_type": "code",
   "execution_count": 9,
   "metadata": {
    "scrolled": false
   },
   "outputs": [],
   "source": [
    "np.random.seed(11)\n",
    "glam = gb.GLAM() # create GLAM model instance\n",
    "glam.simulate_group(kind='individual',\n",
    "                    n_individuals=n_subjects,\n",
    "                    n_trials=n_trials,\n",
    "                    n_items=n_items,\n",
    "                    parameters=gen_parameters,\n",
    "                    value_range=(1, 10))"
   ]
  },
  {
   "cell_type": "markdown",
   "metadata": {},
   "source": [
    "We can then access the simulated data as part of our glam model instance."
   ]
  },
  {
   "cell_type": "code",
   "execution_count": 10,
   "metadata": {},
   "outputs": [],
   "source": [
    "data = glam.data.copy()"
   ]
  },
  {
   "cell_type": "code",
   "execution_count": 11,
   "metadata": {},
   "outputs": [
    {
     "data": {
      "text/html": [
       "<div>\n",
       "<style scoped>\n",
       "    .dataframe tbody tr th:only-of-type {\n",
       "        vertical-align: middle;\n",
       "    }\n",
       "\n",
       "    .dataframe tbody tr th {\n",
       "        vertical-align: top;\n",
       "    }\n",
       "\n",
       "    .dataframe thead th {\n",
       "        text-align: right;\n",
       "    }\n",
       "</style>\n",
       "<table border=\"1\" class=\"dataframe\">\n",
       "  <thead>\n",
       "    <tr style=\"text-align: right;\">\n",
       "      <th></th>\n",
       "      <th>subject</th>\n",
       "      <th>trial</th>\n",
       "      <th>repeat</th>\n",
       "      <th>choice</th>\n",
       "      <th>rt</th>\n",
       "      <th>item_value_0</th>\n",
       "      <th>gaze_0</th>\n",
       "      <th>item_value_1</th>\n",
       "      <th>gaze_1</th>\n",
       "      <th>item_value_2</th>\n",
       "      <th>gaze_2</th>\n",
       "      <th>condition</th>\n",
       "    </tr>\n",
       "  </thead>\n",
       "  <tbody>\n",
       "    <tr>\n",
       "      <th>0</th>\n",
       "      <td>0.0</td>\n",
       "      <td>0.0</td>\n",
       "      <td>0.0</td>\n",
       "      <td>2.0</td>\n",
       "      <td>772.0</td>\n",
       "      <td>1</td>\n",
       "      <td>0.455900</td>\n",
       "      <td>2</td>\n",
       "      <td>0.456205</td>\n",
       "      <td>8</td>\n",
       "      <td>0.087895</td>\n",
       "      <td>condition_0</td>\n",
       "    </tr>\n",
       "    <tr>\n",
       "      <th>1</th>\n",
       "      <td>0.0</td>\n",
       "      <td>1.0</td>\n",
       "      <td>0.0</td>\n",
       "      <td>1.0</td>\n",
       "      <td>920.0</td>\n",
       "      <td>2</td>\n",
       "      <td>0.259137</td>\n",
       "      <td>8</td>\n",
       "      <td>0.379235</td>\n",
       "      <td>3</td>\n",
       "      <td>0.361629</td>\n",
       "      <td>condition_0</td>\n",
       "    </tr>\n",
       "    <tr>\n",
       "      <th>2</th>\n",
       "      <td>0.0</td>\n",
       "      <td>2.0</td>\n",
       "      <td>0.0</td>\n",
       "      <td>0.0</td>\n",
       "      <td>589.0</td>\n",
       "      <td>9</td>\n",
       "      <td>0.190054</td>\n",
       "      <td>1</td>\n",
       "      <td>0.058247</td>\n",
       "      <td>1</td>\n",
       "      <td>0.751699</td>\n",
       "      <td>condition_0</td>\n",
       "    </tr>\n",
       "    <tr>\n",
       "      <th>3</th>\n",
       "      <td>0.0</td>\n",
       "      <td>3.0</td>\n",
       "      <td>0.0</td>\n",
       "      <td>0.0</td>\n",
       "      <td>1327.0</td>\n",
       "      <td>5</td>\n",
       "      <td>0.100674</td>\n",
       "      <td>3</td>\n",
       "      <td>0.308233</td>\n",
       "      <td>2</td>\n",
       "      <td>0.591092</td>\n",
       "      <td>condition_0</td>\n",
       "    </tr>\n",
       "    <tr>\n",
       "      <th>4</th>\n",
       "      <td>0.0</td>\n",
       "      <td>4.0</td>\n",
       "      <td>0.0</td>\n",
       "      <td>2.0</td>\n",
       "      <td>1136.0</td>\n",
       "      <td>6</td>\n",
       "      <td>0.362027</td>\n",
       "      <td>6</td>\n",
       "      <td>0.215720</td>\n",
       "      <td>8</td>\n",
       "      <td>0.422253</td>\n",
       "      <td>condition_0</td>\n",
       "    </tr>\n",
       "  </tbody>\n",
       "</table>\n",
       "</div>"
      ],
      "text/plain": [
       "   subject  trial  repeat  choice      rt  item_value_0    gaze_0  \\\n",
       "0      0.0    0.0     0.0     2.0   772.0             1  0.455900   \n",
       "1      0.0    1.0     0.0     1.0   920.0             2  0.259137   \n",
       "2      0.0    2.0     0.0     0.0   589.0             9  0.190054   \n",
       "3      0.0    3.0     0.0     0.0  1327.0             5  0.100674   \n",
       "4      0.0    4.0     0.0     2.0  1136.0             6  0.362027   \n",
       "\n",
       "   item_value_1    gaze_1  item_value_2    gaze_2    condition  \n",
       "0             2  0.456205             8  0.087895  condition_0  \n",
       "1             8  0.379235             3  0.361629  condition_0  \n",
       "2             1  0.058247             1  0.751699  condition_0  \n",
       "3             3  0.308233             2  0.591092  condition_0  \n",
       "4             6  0.215720             8  0.422253  condition_0  "
      ]
     },
     "execution_count": 11,
     "metadata": {},
     "output_type": "execute_result"
    }
   ],
   "source": [
    "data.head()"
   ]
  },
  {
   "cell_type": "markdown",
   "metadata": {},
   "source": [
    "As this example is focussed on the individual level, we further create a summary dataframe, describing individuals' response behaviour on three behavioural metrics (as described in Thomas et al., 2019). Namely, individuals' mean response time, probability of choosing the item with the highest liking rating from a choice set and a behavioural measure of the strength of the association between gaze allocation and choice behaviour (indicating the mean increase in choice probability for an item that was looked at longer than the others, after correcting for the inﬂuence of item value on choice probability; for further details on the behavioural gaze bias measure, see Thomas et al., 2019)."
   ]
  },
  {
   "cell_type": "code",
   "execution_count": 12,
   "metadata": {},
   "outputs": [],
   "source": [
    "subject_data_summary = gb.analysis.aggregate_subject_level_data(data, n_items)"
   ]
  },
  {
   "cell_type": "code",
   "execution_count": 13,
   "metadata": {},
   "outputs": [
    {
     "data": {
      "text/html": [
       "<div>\n",
       "<style scoped>\n",
       "    .dataframe tbody tr th:only-of-type {\n",
       "        vertical-align: middle;\n",
       "    }\n",
       "\n",
       "    .dataframe tbody tr th {\n",
       "        vertical-align: top;\n",
       "    }\n",
       "\n",
       "    .dataframe thead tr th {\n",
       "        text-align: left;\n",
       "    }\n",
       "\n",
       "    .dataframe thead tr:last-of-type th {\n",
       "        text-align: right;\n",
       "    }\n",
       "</style>\n",
       "<table border=\"1\" class=\"dataframe\">\n",
       "  <thead>\n",
       "    <tr>\n",
       "      <th></th>\n",
       "      <th colspan=\"8\" halign=\"left\">rt</th>\n",
       "      <th>best_chosen</th>\n",
       "      <th>gaze_influence</th>\n",
       "    </tr>\n",
       "    <tr>\n",
       "      <th></th>\n",
       "      <th>mean</th>\n",
       "      <th>std</th>\n",
       "      <th>min</th>\n",
       "      <th>max</th>\n",
       "      <th>se</th>\n",
       "      <th>q1</th>\n",
       "      <th>q3</th>\n",
       "      <th>iqr</th>\n",
       "      <th>mean</th>\n",
       "      <th></th>\n",
       "    </tr>\n",
       "    <tr>\n",
       "      <th>subject</th>\n",
       "      <th></th>\n",
       "      <th></th>\n",
       "      <th></th>\n",
       "      <th></th>\n",
       "      <th></th>\n",
       "      <th></th>\n",
       "      <th></th>\n",
       "      <th></th>\n",
       "      <th></th>\n",
       "      <th></th>\n",
       "    </tr>\n",
       "  </thead>\n",
       "  <tbody>\n",
       "    <tr>\n",
       "      <th>0.0</th>\n",
       "      <td>1253.730</td>\n",
       "      <td>513.545837</td>\n",
       "      <td>589.0</td>\n",
       "      <td>4871.0</td>\n",
       "      <td>36.404299</td>\n",
       "      <td>978.00</td>\n",
       "      <td>1368.50</td>\n",
       "      <td>390.5</td>\n",
       "      <td>0.900</td>\n",
       "      <td>-0.039730</td>\n",
       "    </tr>\n",
       "    <tr>\n",
       "      <th>1.0</th>\n",
       "      <td>2061.860</td>\n",
       "      <td>750.329081</td>\n",
       "      <td>207.0</td>\n",
       "      <td>4624.0</td>\n",
       "      <td>53.189418</td>\n",
       "      <td>1522.00</td>\n",
       "      <td>2464.50</td>\n",
       "      <td>942.5</td>\n",
       "      <td>0.370</td>\n",
       "      <td>0.429390</td>\n",
       "    </tr>\n",
       "    <tr>\n",
       "      <th>2.0</th>\n",
       "      <td>1740.675</td>\n",
       "      <td>635.312332</td>\n",
       "      <td>591.0</td>\n",
       "      <td>4703.0</td>\n",
       "      <td>45.036097</td>\n",
       "      <td>1269.75</td>\n",
       "      <td>2062.75</td>\n",
       "      <td>793.0</td>\n",
       "      <td>0.695</td>\n",
       "      <td>0.266009</td>\n",
       "    </tr>\n",
       "    <tr>\n",
       "      <th>3.0</th>\n",
       "      <td>1612.650</td>\n",
       "      <td>633.136524</td>\n",
       "      <td>524.0</td>\n",
       "      <td>4349.0</td>\n",
       "      <td>44.881858</td>\n",
       "      <td>1167.75</td>\n",
       "      <td>1872.75</td>\n",
       "      <td>705.0</td>\n",
       "      <td>0.310</td>\n",
       "      <td>0.555046</td>\n",
       "    </tr>\n",
       "    <tr>\n",
       "      <th>4.0</th>\n",
       "      <td>2245.865</td>\n",
       "      <td>753.740245</td>\n",
       "      <td>519.0</td>\n",
       "      <td>5214.0</td>\n",
       "      <td>53.431229</td>\n",
       "      <td>1744.50</td>\n",
       "      <td>2697.00</td>\n",
       "      <td>952.5</td>\n",
       "      <td>0.340</td>\n",
       "      <td>0.492550</td>\n",
       "    </tr>\n",
       "  </tbody>\n",
       "</table>\n",
       "</div>"
      ],
      "text/plain": [
       "               rt                                                          \\\n",
       "             mean         std    min     max         se       q1       q3   \n",
       "subject                                                                     \n",
       "0.0      1253.730  513.545837  589.0  4871.0  36.404299   978.00  1368.50   \n",
       "1.0      2061.860  750.329081  207.0  4624.0  53.189418  1522.00  2464.50   \n",
       "2.0      1740.675  635.312332  591.0  4703.0  45.036097  1269.75  2062.75   \n",
       "3.0      1612.650  633.136524  524.0  4349.0  44.881858  1167.75  1872.75   \n",
       "4.0      2245.865  753.740245  519.0  5214.0  53.431229  1744.50  2697.00   \n",
       "\n",
       "               best_chosen gaze_influence  \n",
       "           iqr        mean                 \n",
       "subject                                    \n",
       "0.0      390.5       0.900      -0.039730  \n",
       "1.0      942.5       0.370       0.429390  \n",
       "2.0      793.0       0.695       0.266009  \n",
       "3.0      705.0       0.310       0.555046  \n",
       "4.0      952.5       0.340       0.492550  "
      ]
     },
     "execution_count": 13,
     "metadata": {},
     "output_type": "execute_result"
    }
   ],
   "source": [
    "subject_data_summary.head()"
   ]
  },
  {
   "cell_type": "markdown",
   "metadata": {},
   "source": [
    "## Explore behavioural data "
   ]
  },
  {
   "cell_type": "markdown",
   "metadata": {},
   "source": [
    "In a first step of our analysis, we explore differences in individuals' response behaviour on these three behavioural metrics. To create an overview of the distribution of individuals' values on the metrics, as well as the associations between them, we make use of the *individual_differences* function implemented in the GLAMbox plots module."
   ]
  },
  {
   "cell_type": "code",
   "execution_count": 14,
   "metadata": {},
   "outputs": [
    {
     "data": {
      "image/png": "[encoded data removed]",
      "text/plain": [
       "<Figure size 510.236x255.118 with 6 Axes>"
      ]
     },
     "metadata": {
      "needs_background": "light"
     },
     "output_type": "display_data"
    }
   ],
   "source": [
    "fig = gb.plots.individual_differences(data=data,\n",
    "                                      regression=True,\n",
    "                                      annotate=True)\n",
    "fig.savefig('examples/example_1/figures/Figure_1_individual_differences.png', dpi=330)"
   ]
  },
  {
   "cell_type": "markdown",
   "metadata": {},
   "source": [
    "We find that most individuals exhibit a positive association of gaze allocation and choice behaviour, as indicated by the behavioural gaze bias measure (b).\n",
    "\n",
    "Further, we find that both, individuals' probability of choosing the best item and behavioural gaze bias, are not associated with their respose times. Interestingly, however, individuals' probability of choosing the best item from a choice set increases with decreasing strength of the behavioural gaze bias. Individuals with a strong association of gaze allocation and choice behaviour (as indicated by high values on the behavioural gaze bias measure) are therefore less likely to choose the item with the highest value from a choice set, when compared to individuals with a weak association of gaze and choice."
   ]
  },
  {
   "cell_type": "markdown",
   "metadata": {},
   "source": [
    "## Individual Model Comparison"
   ]
  },
  {
   "cell_type": "markdown",
   "metadata": {},
   "source": [
    "### Relative Model Fit"
   ]
  },
  {
   "cell_type": "markdown",
   "metadata": {},
   "source": [
    "In a second step of our analysis, we want to test whether the response behaviour of each individual in the data is better described by a GLAM variant with or without gaze bias (i.e., a variant in which the gaze bias parameter is fixed to 1). To this end, we set up both model instances:"
   ]
  },
  {
   "cell_type": "code",
   "execution_count": 15,
   "metadata": {},
   "outputs": [
    {
     "name": "stdout",
     "output_type": "stream",
     "text": [
      "Generating single subject models for 30 subjects...\n",
      "Generating single subject models for 30 subjects...\n"
     ]
    }
   ],
   "source": [
    "np.random.seed(25)\n",
    "glam_bias = gb.GLAM(data=data)\n",
    "glam_bias.make_model(kind='individual')\n",
    "\n",
    "glam_nobias = gb.GLAM(data=data)\n",
    "glam_nobias.make_model(kind='individual', gamma_val=1)"
   ]
  },
  {
   "cell_type": "markdown",
   "metadata": {},
   "source": [
    "Subsequently, we fit both of model variants to the data of each individual and compare their fit by means of the Widely Applicable Information Criterion (WAIC; Vehtari, Gelman, & Gabry, 2017). To fit each model, we utilize an MCMC sampling procedure with the Metropolis-Hastings algorithm (XXX). For each model and parameter, we sample four chains. Each chain contains 10000 tuning samples (that we discard) and another 10000 samples that we use to determine individuals' parameter estimates. All resulting parameter traces were checked for convergence, before performing the model comparison. We establish convergence for a trace if the Rhat measure (XXX) is between 0.95 and 1.05 or the trace contains at least 100 effective samples (XXX). All parameter traces were further check for convergence by visual inspection."
   ]
  },
  {
   "cell_type": "code",
   "execution_count": 16,
   "metadata": {
    "scrolled": true
   },
   "outputs": [
    {
     "name": "stdout",
     "output_type": "stream",
     "text": [
      "Fitting 30 model(s) using MCMC...\n",
      "  Fitting model 1 of 30...\n"
     ]
    },
    {
     "name": "stderr",
     "output_type": "stream",
     "text": [
      "Multiprocess sampling (4 chains in 4 jobs)\n",
      "CompoundStep\n",
      ">Metropolis: [tau]\n",
      ">Metropolis: [s]\n",
      ">Metropolis: [gamma]\n",
      ">Metropolis: [v]\n",
      "Sampling 4 chains: 100%|██████████| 100000/100000 [02:13<00:00, 749.92draws/s]\n",
      "The number of effective samples is smaller than 10% for some parameters.\n"
     ]
    },
    {
     "name": "stdout",
     "output_type": "stream",
     "text": [
      "  Fitting model 2 of 30...\n"
     ]
    },
    {
     "name": "stderr",
     "output_type": "stream",
     "text": [
      "Multiprocess sampling (4 chains in 4 jobs)\n",
      "CompoundStep\n",
      ">Metropolis: [tau]\n",
      ">Metropolis: [s]\n",
      ">Metropolis: [gamma]\n",
      ">Metropolis: [v]\n",
      "Sampling 4 chains: 100%|██████████| 100000/100000 [02:09<00:00, 772.49draws/s]\n",
      "The number of effective samples is smaller than 10% for some parameters.\n"
     ]
    },
    {
     "name": "stdout",
     "output_type": "stream",
     "text": [
      "  Fitting model 3 of 30...\n"
     ]
    },
    {
     "name": "stderr",
     "output_type": "stream",
     "text": [
      "Multiprocess sampling (4 chains in 4 jobs)\n",
      "CompoundStep\n",
      ">Metropolis: [tau]\n",
      ">Metropolis: [s]\n",
      ">Metropolis: [gamma]\n",
      ">Metropolis: [v]\n",
      "Sampling 4 chains: 100%|██████████| 100000/100000 [02:09<00:00, 774.31draws/s]\n",
      "The number of effective samples is smaller than 10% for some parameters.\n"
     ]
    },
    {
     "name": "stdout",
     "output_type": "stream",
     "text": [
      "  Fitting model 4 of 30...\n"
     ]
    },
    {
     "name": "stderr",
     "output_type": "stream",
     "text": [
      "Multiprocess sampling (4 chains in 4 jobs)\n",
      "CompoundStep\n",
      ">Metropolis: [tau]\n",
      ">Metropolis: [s]\n",
      ">Metropolis: [gamma]\n",
      ">Metropolis: [v]\n",
      "Sampling 4 chains: 100%|██████████| 100000/100000 [02:11<00:00, 758.04draws/s]\n",
      "The number of effective samples is smaller than 10% for some parameters.\n"
     ]
    },
    {
     "name": "stdout",
     "output_type": "stream",
     "text": [
      "  Fitting model 5 of 30...\n"
     ]
    },
    {
     "name": "stderr",
     "output_type": "stream",
     "text": [
      "Multiprocess sampling (4 chains in 4 jobs)\n",
      "CompoundStep\n",
      ">Metropolis: [tau]\n",
      ">Metropolis: [s]\n",
      ">Metropolis: [gamma]\n",
      ">Metropolis: [v]\n",
      "Sampling 4 chains: 100%|██████████| 100000/100000 [02:09<00:00, 770.00draws/s]\n",
      "The number of effective samples is smaller than 10% for some parameters.\n"
     ]
    },
    {
     "name": "stdout",
     "output_type": "stream",
     "text": [
      "  Fitting model 6 of 30...\n"
     ]
    },
    {
     "name": "stderr",
     "output_type": "stream",
     "text": [
      "Multiprocess sampling (4 chains in 4 jobs)\n",
      "CompoundStep\n",
      ">Metropolis: [tau]\n",
      ">Metropolis: [s]\n",
      ">Metropolis: [gamma]\n",
      ">Metropolis: [v]\n",
      "Sampling 4 chains: 100%|██████████| 100000/100000 [02:09<00:00, 773.12draws/s]\n",
      "The number of effective samples is smaller than 10% for some parameters.\n"
     ]
    },
    {
     "name": "stdout",
     "output_type": "stream",
     "text": [
      "  Fitting model 7 of 30...\n"
     ]
    },
    {
     "name": "stderr",
     "output_type": "stream",
     "text": [
      "Multiprocess sampling (4 chains in 4 jobs)\n",
      "CompoundStep\n",
      ">Metropolis: [tau]\n",
      ">Metropolis: [s]\n",
      ">Metropolis: [gamma]\n",
      ">Metropolis: [v]\n",
      "Sampling 4 chains: 100%|██████████| 100000/100000 [02:07<00:00, 785.18draws/s]\n",
      "The number of effective samples is smaller than 10% for some parameters.\n"
     ]
    },
    {
     "name": "stdout",
     "output_type": "stream",
     "text": [
      "  Fitting model 8 of 30...\n"
     ]
    },
    {
     "name": "stderr",
     "output_type": "stream",
     "text": [
      "Multiprocess sampling (4 chains in 4 jobs)\n",
      "CompoundStep\n",
      ">Metropolis: [tau]\n",
      ">Metropolis: [s]\n",
      ">Metropolis: [gamma]\n",
      ">Metropolis: [v]\n",
      "Sampling 4 chains: 100%|██████████| 100000/100000 [02:07<00:00, 785.57draws/s]\n",
      "The number of effective samples is smaller than 10% for some parameters.\n"
     ]
    },
    {
     "name": "stdout",
     "output_type": "stream",
     "text": [
      "  Fitting model 9 of 30...\n"
     ]
    },
    {
     "name": "stderr",
     "output_type": "stream",
     "text": [
      "Multiprocess sampling (4 chains in 4 jobs)\n",
      "CompoundStep\n",
      ">Metropolis: [tau]\n",
      ">Metropolis: [s]\n",
      ">Metropolis: [gamma]\n",
      ">Metropolis: [v]\n",
      "Sampling 4 chains: 100%|██████████| 100000/100000 [02:05<00:00, 798.85draws/s]\n",
      "The number of effective samples is smaller than 10% for some parameters.\n"
     ]
    },
    {
     "name": "stdout",
     "output_type": "stream",
     "text": [
      "  Fitting model 10 of 30...\n"
     ]
    },
    {
     "name": "stderr",
     "output_type": "stream",
     "text": [
      "Multiprocess sampling (4 chains in 4 jobs)\n",
      "CompoundStep\n",
      ">Metropolis: [tau]\n",
      ">Metropolis: [s]\n",
      ">Metropolis: [gamma]\n",
      ">Metropolis: [v]\n",
      "Sampling 4 chains: 100%|██████████| 100000/100000 [02:00<00:00, 829.05draws/s]\n",
      "The number of effective samples is smaller than 10% for some parameters.\n"
     ]
    },
    {
     "name": "stdout",
     "output_type": "stream",
     "text": [
      "  Fitting model 11 of 30...\n"
     ]
    },
    {
     "name": "stderr",
     "output_type": "stream",
     "text": [
      "Multiprocess sampling (4 chains in 4 jobs)\n",
      "CompoundStep\n",
      ">Metropolis: [tau]\n",
      ">Metropolis: [s]\n",
      ">Metropolis: [gamma]\n",
      ">Metropolis: [v]\n",
      "Sampling 4 chains: 100%|██████████| 100000/100000 [01:54<00:00, 874.29draws/s]\n",
      "The number of effective samples is smaller than 10% for some parameters.\n"
     ]
    },
    {
     "name": "stdout",
     "output_type": "stream",
     "text": [
      "  Fitting model 12 of 30...\n"
     ]
    },
    {
     "name": "stderr",
     "output_type": "stream",
     "text": [
      "Multiprocess sampling (4 chains in 4 jobs)\n",
      "CompoundStep\n",
      ">Metropolis: [tau]\n",
      ">Metropolis: [s]\n",
      ">Metropolis: [gamma]\n",
      ">Metropolis: [v]\n",
      "Sampling 4 chains: 100%|██████████| 100000/100000 [01:56<00:00, 860.69draws/s]\n",
      "The number of effective samples is smaller than 10% for some parameters.\n"
     ]
    },
    {
     "name": "stdout",
     "output_type": "stream",
     "text": [
      "  Fitting model 13 of 30...\n"
     ]
    },
    {
     "name": "stderr",
     "output_type": "stream",
     "text": [
      "INFO (theano.gof.compilelock): Waiting for existing lock by process '10721' (I am process '13535')\n",
      "INFO (theano.gof.compilelock): To manually release the lock, delete /Users/felixmolter/.theano/compiledir_Darwin-18.6.0-x86_64-i386-64bit-i386-3.7.3-64/lock_dir\n",
      "INFO (theano.gof.compilelock): Waiting for existing lock by process '10721' (I am process '13535')\n",
      "INFO (theano.gof.compilelock): To manually release the lock, delete /Users/felixmolter/.theano/compiledir_Darwin-18.6.0-x86_64-i386-64bit-i386-3.7.3-64/lock_dir\n",
      "INFO (theano.gof.compilelock): Waiting for existing lock by process '10721' (I am process '13535')\n",
      "INFO (theano.gof.compilelock): To manually release the lock, delete /Users/felixmolter/.theano/compiledir_Darwin-18.6.0-x86_64-i386-64bit-i386-3.7.3-64/lock_dir\n",
      "INFO (theano.gof.compilelock): Waiting for existing lock by process '10721' (I am process '13535')\n",
      "INFO (theano.gof.compilelock): To manually release the lock, delete /Users/felixmolter/.theano/compiledir_Darwin-18.6.0-x86_64-i386-64bit-i386-3.7.3-64/lock_dir\n",
      "Multiprocess sampling (4 chains in 4 jobs)\n",
      "CompoundStep\n",
      ">Metropolis: [tau]\n",
      ">Metropolis: [s]\n",
      ">Metropolis: [gamma]\n",
      ">Metropolis: [v]\n",
      "Sampling 4 chains: 100%|██████████| 100000/100000 [01:59<00:00, 838.01draws/s]\n",
      "The number of effective samples is smaller than 10% for some parameters.\n"
     ]
    },
    {
     "name": "stdout",
     "output_type": "stream",
     "text": [
      "  Fitting model 14 of 30...\n"
     ]
    },
    {
     "name": "stderr",
     "output_type": "stream",
     "text": [
      "Multiprocess sampling (4 chains in 4 jobs)\n",
      "CompoundStep\n",
      ">Metropolis: [tau]\n",
      ">Metropolis: [s]\n",
      ">Metropolis: [gamma]\n",
      ">Metropolis: [v]\n",
      "Sampling 4 chains: 100%|██████████| 100000/100000 [01:55<00:00, 863.90draws/s]\n",
      "The number of effective samples is smaller than 10% for some parameters.\n"
     ]
    },
    {
     "name": "stdout",
     "output_type": "stream",
     "text": [
      "  Fitting model 15 of 30...\n"
     ]
    },
    {
     "name": "stderr",
     "output_type": "stream",
     "text": [
      "Multiprocess sampling (4 chains in 4 jobs)\n",
      "CompoundStep\n",
      ">Metropolis: [tau]\n",
      ">Metropolis: [s]\n",
      ">Metropolis: [gamma]\n",
      ">Metropolis: [v]\n",
      "Sampling 4 chains: 100%|██████████| 100000/100000 [01:53<00:00, 881.49draws/s]\n",
      "The number of effective samples is smaller than 10% for some parameters.\n"
     ]
    },
    {
     "name": "stdout",
     "output_type": "stream",
     "text": [
      "  Fitting model 16 of 30...\n"
     ]
    },
    {
     "name": "stderr",
     "output_type": "stream",
     "text": [
      "Multiprocess sampling (4 chains in 4 jobs)\n",
      "CompoundStep\n",
      ">Metropolis: [tau]\n",
      ">Metropolis: [s]\n",
      ">Metropolis: [gamma]\n",
      ">Metropolis: [v]\n",
      "Sampling 4 chains: 100%|██████████| 100000/100000 [01:55<00:00, 867.21draws/s]\n",
      "The number of effective samples is smaller than 10% for some parameters.\n"
     ]
    },
    {
     "name": "stdout",
     "output_type": "stream",
     "text": [
      "  Fitting model 17 of 30...\n"
     ]
    },
    {
     "name": "stderr",
     "output_type": "stream",
     "text": [
      "Multiprocess sampling (4 chains in 4 jobs)\n",
      "CompoundStep\n",
      ">Metropolis: [tau]\n",
      ">Metropolis: [s]\n",
      ">Metropolis: [gamma]\n",
      ">Metropolis: [v]\n",
      "Sampling 4 chains: 100%|██████████| 100000/100000 [01:49<00:00, 910.36draws/s]\n",
      "The number of effective samples is smaller than 10% for some parameters.\n"
     ]
    },
    {
     "name": "stdout",
     "output_type": "stream",
     "text": [
      "  Fitting model 18 of 30...\n"
     ]
    },
    {
     "name": "stderr",
     "output_type": "stream",
     "text": [
      "Multiprocess sampling (4 chains in 4 jobs)\n",
      "CompoundStep\n",
      ">Metropolis: [tau]\n",
      ">Metropolis: [s]\n",
      ">Metropolis: [gamma]\n",
      ">Metropolis: [v]\n",
      "Sampling 4 chains: 100%|██████████| 100000/100000 [01:49<00:00, 914.87draws/s]\n",
      "The number of effective samples is smaller than 10% for some parameters.\n"
     ]
    },
    {
     "name": "stdout",
     "output_type": "stream",
     "text": [
      "  Fitting model 19 of 30...\n"
     ]
    },
    {
     "name": "stderr",
     "output_type": "stream",
     "text": [
      "Multiprocess sampling (4 chains in 4 jobs)\n",
      "CompoundStep\n",
      ">Metropolis: [tau]\n",
      ">Metropolis: [s]\n",
      ">Metropolis: [gamma]\n",
      ">Metropolis: [v]\n",
      "Sampling 4 chains: 100%|██████████| 100000/100000 [01:50<00:00, 901.20draws/s]\n",
      "The number of effective samples is smaller than 10% for some parameters.\n"
     ]
    },
    {
     "name": "stdout",
     "output_type": "stream",
     "text": [
      "  Fitting model 20 of 30...\n"
     ]
    },
    {
     "name": "stderr",
     "output_type": "stream",
     "text": [
      "Multiprocess sampling (4 chains in 4 jobs)\n",
      "CompoundStep\n",
      ">Metropolis: [tau]\n",
      ">Metropolis: [s]\n",
      ">Metropolis: [gamma]\n",
      ">Metropolis: [v]\n",
      "Sampling 4 chains: 100%|██████████| 100000/100000 [01:48<00:00, 920.40draws/s]\n",
      "The number of effective samples is smaller than 10% for some parameters.\n"
     ]
    },
    {
     "name": "stdout",
     "output_type": "stream",
     "text": [
      "  Fitting model 21 of 30...\n"
     ]
    },
    {
     "name": "stderr",
     "output_type": "stream",
     "text": [
      "Multiprocess sampling (4 chains in 4 jobs)\n",
      "CompoundStep\n",
      ">Metropolis: [tau]\n",
      ">Metropolis: [s]\n",
      ">Metropolis: [gamma]\n",
      ">Metropolis: [v]\n",
      "Sampling 4 chains: 100%|██████████| 100000/100000 [01:46<00:00, 939.32draws/s]\n",
      "The number of effective samples is smaller than 10% for some parameters.\n"
     ]
    },
    {
     "name": "stdout",
     "output_type": "stream",
     "text": [
      "  Fitting model 22 of 30...\n"
     ]
    },
    {
     "name": "stderr",
     "output_type": "stream",
     "text": [
      "Multiprocess sampling (4 chains in 4 jobs)\n",
      "CompoundStep\n",
      ">Metropolis: [tau]\n",
      ">Metropolis: [s]\n",
      ">Metropolis: [gamma]\n",
      ">Metropolis: [v]\n",
      "Sampling 4 chains: 100%|██████████| 100000/100000 [01:45<00:00, 947.05draws/s]\n",
      "The number of effective samples is smaller than 10% for some parameters.\n"
     ]
    },
    {
     "name": "stdout",
     "output_type": "stream",
     "text": [
      "  Fitting model 23 of 30...\n"
     ]
    },
    {
     "name": "stderr",
     "output_type": "stream",
     "text": [
      "Multiprocess sampling (4 chains in 4 jobs)\n",
      "CompoundStep\n",
      ">Metropolis: [tau]\n",
      ">Metropolis: [s]\n",
      ">Metropolis: [gamma]\n",
      ">Metropolis: [v]\n",
      "Sampling 4 chains: 100%|██████████| 100000/100000 [01:42<00:00, 973.83draws/s]\n",
      "The number of effective samples is smaller than 10% for some parameters.\n"
     ]
    },
    {
     "name": "stdout",
     "output_type": "stream",
     "text": [
      "  Fitting model 24 of 30...\n"
     ]
    },
    {
     "name": "stderr",
     "output_type": "stream",
     "text": [
      "Multiprocess sampling (4 chains in 4 jobs)\n",
      "CompoundStep\n",
      ">Metropolis: [tau]\n",
      ">Metropolis: [s]\n",
      ">Metropolis: [gamma]\n",
      ">Metropolis: [v]\n",
      "Sampling 4 chains: 100%|██████████| 100000/100000 [01:42<00:00, 972.32draws/s]\n",
      "The number of effective samples is smaller than 10% for some parameters.\n"
     ]
    },
    {
     "name": "stdout",
     "output_type": "stream",
     "text": [
      "  Fitting model 25 of 30...\n"
     ]
    },
    {
     "name": "stderr",
     "output_type": "stream",
     "text": [
      "Multiprocess sampling (4 chains in 4 jobs)\n",
      "CompoundStep\n",
      ">Metropolis: [tau]\n",
      ">Metropolis: [s]\n",
      ">Metropolis: [gamma]\n",
      ">Metropolis: [v]\n",
      "Sampling 4 chains: 100%|██████████| 100000/100000 [01:42<00:00, 979.51draws/s]\n",
      "The number of effective samples is smaller than 10% for some parameters.\n"
     ]
    },
    {
     "name": "stdout",
     "output_type": "stream",
     "text": [
      "  Fitting model 26 of 30...\n"
     ]
    },
    {
     "name": "stderr",
     "output_type": "stream",
     "text": [
      "Multiprocess sampling (4 chains in 4 jobs)\n",
      "CompoundStep\n",
      ">Metropolis: [tau]\n",
      ">Metropolis: [s]\n",
      ">Metropolis: [gamma]\n",
      ">Metropolis: [v]\n",
      "Sampling 4 chains: 100%|██████████| 100000/100000 [01:39<00:00, 1002.20draws/s]\n",
      "The number of effective samples is smaller than 10% for some parameters.\n"
     ]
    },
    {
     "name": "stdout",
     "output_type": "stream",
     "text": [
      "  Fitting model 27 of 30...\n"
     ]
    },
    {
     "name": "stderr",
     "output_type": "stream",
     "text": [
      "Multiprocess sampling (4 chains in 4 jobs)\n",
      "CompoundStep\n",
      ">Metropolis: [tau]\n",
      ">Metropolis: [s]\n",
      ">Metropolis: [gamma]\n",
      ">Metropolis: [v]\n",
      "Sampling 4 chains: 100%|██████████| 100000/100000 [01:43<00:00, 968.65draws/s]\n",
      "The number of effective samples is smaller than 10% for some parameters.\n"
     ]
    },
    {
     "name": "stdout",
     "output_type": "stream",
     "text": [
      "  Fitting model 28 of 30...\n"
     ]
    },
    {
     "name": "stderr",
     "output_type": "stream",
     "text": [
      "Multiprocess sampling (4 chains in 4 jobs)\n",
      "CompoundStep\n",
      ">Metropolis: [tau]\n",
      ">Metropolis: [s]\n",
      ">Metropolis: [gamma]\n",
      ">Metropolis: [v]\n",
      "Sampling 4 chains: 100%|██████████| 100000/100000 [01:41<00:00, 985.11draws/s]\n",
      "The number of effective samples is smaller than 10% for some parameters.\n"
     ]
    },
    {
     "name": "stdout",
     "output_type": "stream",
     "text": [
      "  Fitting model 29 of 30...\n"
     ]
    },
    {
     "name": "stderr",
     "output_type": "stream",
     "text": [
      "Multiprocess sampling (4 chains in 4 jobs)\n",
      "CompoundStep\n",
      ">Metropolis: [tau]\n",
      ">Metropolis: [s]\n",
      ">Metropolis: [gamma]\n",
      ">Metropolis: [v]\n",
      "Sampling 4 chains: 100%|██████████| 100000/100000 [01:45<00:00, 946.12draws/s]\n",
      "The number of effective samples is smaller than 10% for some parameters.\n"
     ]
    },
    {
     "name": "stdout",
     "output_type": "stream",
     "text": [
      "  Fitting model 30 of 30...\n"
     ]
    },
    {
     "name": "stderr",
     "output_type": "stream",
     "text": [
      "Multiprocess sampling (4 chains in 4 jobs)\n",
      "CompoundStep\n",
      ">Metropolis: [tau]\n",
      ">Metropolis: [s]\n",
      ">Metropolis: [gamma]\n",
      ">Metropolis: [v]\n",
      "Sampling 4 chains: 100%|██████████| 100000/100000 [01:43<00:00, 963.37draws/s]\n",
      "The number of effective samples is smaller than 10% for some parameters.\n"
     ]
    },
    {
     "name": "stdout",
     "output_type": "stream",
     "text": [
      "/!\\ Automatically setting parameter precision...\n"
     ]
    }
   ],
   "source": [
    "glam_bias.fit(method='MCMC',\n",
    "              tune=20000,\n",
    "              draws=5000,\n",
    "              chains=4)"
   ]
  },
  {
   "cell_type": "code",
   "execution_count": 17,
   "metadata": {},
   "outputs": [
    {
     "name": "stdout",
     "output_type": "stream",
     "text": [
      "Fitting 30 model(s) using MCMC...\n",
      "  Fitting model 1 of 30...\n"
     ]
    },
    {
     "name": "stderr",
     "output_type": "stream",
     "text": [
      "Multiprocess sampling (4 chains in 4 jobs)\n",
      "CompoundStep\n",
      ">Metropolis: [tau]\n",
      ">Metropolis: [s]\n",
      ">Metropolis: [v]\n",
      "Sampling 4 chains: 100%|██████████| 100000/100000 [01:07<00:00, 1477.53draws/s]\n",
      "The number of effective samples is smaller than 10% for some parameters.\n"
     ]
    },
    {
     "name": "stdout",
     "output_type": "stream",
     "text": [
      "  Fitting model 2 of 30...\n"
     ]
    },
    {
     "name": "stderr",
     "output_type": "stream",
     "text": [
      "Multiprocess sampling (4 chains in 4 jobs)\n",
      "CompoundStep\n",
      ">Metropolis: [tau]\n",
      ">Metropolis: [s]\n",
      ">Metropolis: [v]\n",
      "Sampling 4 chains: 100%|██████████| 100000/100000 [01:04<00:00, 1542.02draws/s]\n",
      "The number of effective samples is smaller than 10% for some parameters.\n"
     ]
    },
    {
     "name": "stdout",
     "output_type": "stream",
     "text": [
      "  Fitting model 3 of 30...\n"
     ]
    },
    {
     "name": "stderr",
     "output_type": "stream",
     "text": [
      "Multiprocess sampling (4 chains in 4 jobs)\n",
      "CompoundStep\n",
      ">Metropolis: [tau]\n",
      ">Metropolis: [s]\n",
      ">Metropolis: [v]\n",
      "Sampling 4 chains: 100%|██████████| 100000/100000 [01:04<00:00, 1542.56draws/s]\n",
      "The number of effective samples is smaller than 10% for some parameters.\n"
     ]
    },
    {
     "name": "stdout",
     "output_type": "stream",
     "text": [
      "  Fitting model 4 of 30...\n"
     ]
    },
    {
     "name": "stderr",
     "output_type": "stream",
     "text": [
      "Multiprocess sampling (4 chains in 4 jobs)\n",
      "CompoundStep\n",
      ">Metropolis: [tau]\n",
      ">Metropolis: [s]\n",
      ">Metropolis: [v]\n",
      "Sampling 4 chains: 100%|██████████| 100000/100000 [01:02<00:00, 1608.19draws/s]\n",
      "The number of effective samples is smaller than 10% for some parameters.\n"
     ]
    },
    {
     "name": "stdout",
     "output_type": "stream",
     "text": [
      "  Fitting model 5 of 30...\n"
     ]
    },
    {
     "name": "stderr",
     "output_type": "stream",
     "text": [
      "Multiprocess sampling (4 chains in 4 jobs)\n",
      "CompoundStep\n",
      ">Metropolis: [tau]\n",
      ">Metropolis: [s]\n",
      ">Metropolis: [v]\n",
      "Sampling 4 chains: 100%|██████████| 100000/100000 [01:03<00:00, 1566.00draws/s]\n",
      "The number of effective samples is smaller than 10% for some parameters.\n"
     ]
    },
    {
     "name": "stdout",
     "output_type": "stream",
     "text": [
      "  Fitting model 6 of 30...\n"
     ]
    },
    {
     "name": "stderr",
     "output_type": "stream",
     "text": [
      "Multiprocess sampling (4 chains in 4 jobs)\n",
      "CompoundStep\n",
      ">Metropolis: [tau]\n",
      ">Metropolis: [s]\n",
      ">Metropolis: [v]\n",
      "Sampling 4 chains: 100%|██████████| 100000/100000 [00:58<00:00, 1708.65draws/s]\n",
      "The number of effective samples is smaller than 10% for some parameters.\n"
     ]
    },
    {
     "name": "stdout",
     "output_type": "stream",
     "text": [
      "  Fitting model 7 of 30...\n"
     ]
    },
    {
     "name": "stderr",
     "output_type": "stream",
     "text": [
      "Multiprocess sampling (4 chains in 4 jobs)\n",
      "CompoundStep\n",
      ">Metropolis: [tau]\n",
      ">Metropolis: [s]\n",
      ">Metropolis: [v]\n",
      "Sampling 4 chains: 100%|██████████| 100000/100000 [00:58<00:00, 1711.74draws/s]\n",
      "The number of effective samples is smaller than 10% for some parameters.\n"
     ]
    },
    {
     "name": "stdout",
     "output_type": "stream",
     "text": [
      "  Fitting model 8 of 30...\n"
     ]
    },
    {
     "name": "stderr",
     "output_type": "stream",
     "text": [
      "Multiprocess sampling (4 chains in 4 jobs)\n",
      "CompoundStep\n",
      ">Metropolis: [tau]\n",
      ">Metropolis: [s]\n",
      ">Metropolis: [v]\n",
      "Sampling 4 chains: 100%|██████████| 100000/100000 [00:56<00:00, 1759.71draws/s]\n",
      "The number of effective samples is smaller than 10% for some parameters.\n"
     ]
    },
    {
     "name": "stdout",
     "output_type": "stream",
     "text": [
      "  Fitting model 9 of 30...\n"
     ]
    },
    {
     "name": "stderr",
     "output_type": "stream",
     "text": [
      "Multiprocess sampling (4 chains in 4 jobs)\n",
      "CompoundStep\n",
      ">Metropolis: [tau]\n",
      ">Metropolis: [s]\n",
      ">Metropolis: [v]\n",
      "Sampling 4 chains: 100%|██████████| 100000/100000 [00:58<00:00, 1722.27draws/s]\n",
      "The number of effective samples is smaller than 10% for some parameters.\n"
     ]
    },
    {
     "name": "stdout",
     "output_type": "stream",
     "text": [
      "  Fitting model 10 of 30...\n"
     ]
    },
    {
     "name": "stderr",
     "output_type": "stream",
     "text": [
      "Multiprocess sampling (4 chains in 4 jobs)\n",
      "CompoundStep\n",
      ">Metropolis: [tau]\n",
      ">Metropolis: [s]\n",
      ">Metropolis: [v]\n",
      "Sampling 4 chains: 100%|██████████| 100000/100000 [01:03<00:00, 1565.70draws/s]\n",
      "The number of effective samples is smaller than 10% for some parameters.\n"
     ]
    },
    {
     "name": "stdout",
     "output_type": "stream",
     "text": [
      "  Fitting model 11 of 30...\n"
     ]
    },
    {
     "name": "stderr",
     "output_type": "stream",
     "text": [
      "Multiprocess sampling (4 chains in 4 jobs)\n",
      "CompoundStep\n",
      ">Metropolis: [tau]\n",
      ">Metropolis: [s]\n",
      ">Metropolis: [v]\n",
      "Sampling 4 chains: 100%|██████████| 100000/100000 [01:06<00:00, 1495.57draws/s]\n",
      "The number of effective samples is smaller than 10% for some parameters.\n"
     ]
    },
    {
     "name": "stdout",
     "output_type": "stream",
     "text": [
      "  Fitting model 12 of 30...\n"
     ]
    },
    {
     "name": "stderr",
     "output_type": "stream",
     "text": [
      "Multiprocess sampling (4 chains in 4 jobs)\n",
      "CompoundStep\n",
      ">Metropolis: [tau]\n",
      ">Metropolis: [s]\n",
      ">Metropolis: [v]\n",
      "Sampling 4 chains: 100%|██████████| 100000/100000 [01:03<00:00, 1584.09draws/s]\n",
      "The number of effective samples is smaller than 10% for some parameters.\n"
     ]
    },
    {
     "name": "stdout",
     "output_type": "stream",
     "text": [
      "  Fitting model 13 of 30...\n"
     ]
    },
    {
     "name": "stderr",
     "output_type": "stream",
     "text": [
      "Multiprocess sampling (4 chains in 4 jobs)\n",
      "CompoundStep\n",
      ">Metropolis: [tau]\n",
      ">Metropolis: [s]\n",
      ">Metropolis: [v]\n",
      "Sampling 4 chains: 100%|██████████| 100000/100000 [01:02<00:00, 1594.18draws/s]\n",
      "The number of effective samples is smaller than 10% for some parameters.\n"
     ]
    },
    {
     "name": "stdout",
     "output_type": "stream",
     "text": [
      "  Fitting model 14 of 30...\n"
     ]
    },
    {
     "name": "stderr",
     "output_type": "stream",
     "text": [
      "Multiprocess sampling (4 chains in 4 jobs)\n",
      "CompoundStep\n",
      ">Metropolis: [tau]\n",
      ">Metropolis: [s]\n",
      ">Metropolis: [v]\n",
      "Sampling 4 chains: 100%|██████████| 100000/100000 [01:03<00:00, 1571.71draws/s]\n",
      "The number of effective samples is smaller than 10% for some parameters.\n"
     ]
    },
    {
     "name": "stdout",
     "output_type": "stream",
     "text": [
      "  Fitting model 15 of 30...\n"
     ]
    },
    {
     "name": "stderr",
     "output_type": "stream",
     "text": [
      "Multiprocess sampling (4 chains in 4 jobs)\n",
      "CompoundStep\n",
      ">Metropolis: [tau]\n",
      ">Metropolis: [s]\n",
      ">Metropolis: [v]\n",
      "Sampling 4 chains: 100%|██████████| 100000/100000 [01:01<00:00, 1617.83draws/s]\n",
      "The number of effective samples is smaller than 10% for some parameters.\n"
     ]
    },
    {
     "name": "stdout",
     "output_type": "stream",
     "text": [
      "  Fitting model 16 of 30...\n"
     ]
    },
    {
     "name": "stderr",
     "output_type": "stream",
     "text": [
      "Multiprocess sampling (4 chains in 4 jobs)\n",
      "CompoundStep\n",
      ">Metropolis: [tau]\n",
      ">Metropolis: [s]\n",
      ">Metropolis: [v]\n",
      "Sampling 4 chains: 100%|██████████| 100000/100000 [01:02<00:00, 1604.30draws/s]\n",
      "The number of effective samples is smaller than 10% for some parameters.\n"
     ]
    },
    {
     "name": "stdout",
     "output_type": "stream",
     "text": [
      "  Fitting model 17 of 30...\n"
     ]
    },
    {
     "name": "stderr",
     "output_type": "stream",
     "text": [
      "Multiprocess sampling (4 chains in 4 jobs)\n",
      "CompoundStep\n",
      ">Metropolis: [tau]\n",
      ">Metropolis: [s]\n",
      ">Metropolis: [v]\n",
      "Sampling 4 chains: 100%|██████████| 100000/100000 [01:03<00:00, 1580.93draws/s]\n",
      "The number of effective samples is smaller than 10% for some parameters.\n"
     ]
    },
    {
     "name": "stdout",
     "output_type": "stream",
     "text": [
      "  Fitting model 18 of 30...\n"
     ]
    },
    {
     "name": "stderr",
     "output_type": "stream",
     "text": [
      "Multiprocess sampling (4 chains in 4 jobs)\n",
      "CompoundStep\n",
      ">Metropolis: [tau]\n",
      ">Metropolis: [s]\n",
      ">Metropolis: [v]\n",
      "Sampling 4 chains: 100%|██████████| 100000/100000 [01:02<00:00, 1602.36draws/s]\n",
      "The number of effective samples is smaller than 10% for some parameters.\n"
     ]
    },
    {
     "name": "stdout",
     "output_type": "stream",
     "text": [
      "  Fitting model 19 of 30...\n"
     ]
    },
    {
     "name": "stderr",
     "output_type": "stream",
     "text": [
      "Multiprocess sampling (4 chains in 4 jobs)\n",
      "CompoundStep\n",
      ">Metropolis: [tau]\n",
      ">Metropolis: [s]\n",
      ">Metropolis: [v]\n",
      "Sampling 4 chains: 100%|██████████| 100000/100000 [01:03<00:00, 1570.86draws/s]\n",
      "The number of effective samples is smaller than 10% for some parameters.\n"
     ]
    },
    {
     "name": "stdout",
     "output_type": "stream",
     "text": [
      "  Fitting model 20 of 30...\n"
     ]
    },
    {
     "name": "stderr",
     "output_type": "stream",
     "text": [
      "Multiprocess sampling (4 chains in 4 jobs)\n",
      "CompoundStep\n",
      ">Metropolis: [tau]\n",
      ">Metropolis: [s]\n",
      ">Metropolis: [v]\n",
      "Sampling 4 chains: 100%|██████████| 100000/100000 [01:01<00:00, 1628.04draws/s]\n",
      "The number of effective samples is smaller than 10% for some parameters.\n"
     ]
    },
    {
     "name": "stdout",
     "output_type": "stream",
     "text": [
      "  Fitting model 21 of 30...\n"
     ]
    },
    {
     "name": "stderr",
     "output_type": "stream",
     "text": [
      "Multiprocess sampling (4 chains in 4 jobs)\n",
      "CompoundStep\n",
      ">Metropolis: [tau]\n",
      ">Metropolis: [s]\n",
      ">Metropolis: [v]\n",
      "Sampling 4 chains: 100%|██████████| 100000/100000 [01:01<00:00, 1626.49draws/s]\n",
      "The number of effective samples is smaller than 10% for some parameters.\n"
     ]
    },
    {
     "name": "stdout",
     "output_type": "stream",
     "text": [
      "  Fitting model 22 of 30...\n"
     ]
    },
    {
     "name": "stderr",
     "output_type": "stream",
     "text": [
      "Multiprocess sampling (4 chains in 4 jobs)\n",
      "CompoundStep\n",
      ">Metropolis: [tau]\n",
      ">Metropolis: [s]\n",
      ">Metropolis: [v]\n",
      "Sampling 4 chains: 100%|██████████| 100000/100000 [01:07<00:00, 1480.35draws/s]\n",
      "The number of effective samples is smaller than 10% for some parameters.\n"
     ]
    },
    {
     "name": "stdout",
     "output_type": "stream",
     "text": [
      "  Fitting model 23 of 30...\n"
     ]
    },
    {
     "name": "stderr",
     "output_type": "stream",
     "text": [
      "Multiprocess sampling (4 chains in 4 jobs)\n",
      "CompoundStep\n",
      ">Metropolis: [tau]\n",
      ">Metropolis: [s]\n",
      ">Metropolis: [v]\n",
      "Sampling 4 chains: 100%|██████████| 100000/100000 [01:01<00:00, 1617.80draws/s]\n",
      "The number of effective samples is smaller than 10% for some parameters.\n"
     ]
    },
    {
     "name": "stdout",
     "output_type": "stream",
     "text": [
      "  Fitting model 24 of 30...\n"
     ]
    },
    {
     "name": "stderr",
     "output_type": "stream",
     "text": [
      "Multiprocess sampling (4 chains in 4 jobs)\n",
      "CompoundStep\n",
      ">Metropolis: [tau]\n",
      ">Metropolis: [s]\n",
      ">Metropolis: [v]\n",
      "Sampling 4 chains: 100%|██████████| 100000/100000 [00:58<00:00, 1699.47draws/s]\n",
      "The number of effective samples is smaller than 10% for some parameters.\n"
     ]
    },
    {
     "name": "stdout",
     "output_type": "stream",
     "text": [
      "  Fitting model 25 of 30...\n"
     ]
    },
    {
     "name": "stderr",
     "output_type": "stream",
     "text": [
      "Multiprocess sampling (4 chains in 4 jobs)\n",
      "CompoundStep\n",
      ">Metropolis: [tau]\n",
      ">Metropolis: [s]\n",
      ">Metropolis: [v]\n",
      "Sampling 4 chains: 100%|██████████| 100000/100000 [01:01<00:00, 1635.01draws/s]\n",
      "The number of effective samples is smaller than 10% for some parameters.\n"
     ]
    },
    {
     "name": "stdout",
     "output_type": "stream",
     "text": [
      "  Fitting model 26 of 30...\n"
     ]
    },
    {
     "name": "stderr",
     "output_type": "stream",
     "text": [
      "Multiprocess sampling (4 chains in 4 jobs)\n",
      "CompoundStep\n",
      ">Metropolis: [tau]\n",
      ">Metropolis: [s]\n",
      ">Metropolis: [v]\n",
      "Sampling 4 chains: 100%|██████████| 100000/100000 [01:01<00:00, 1626.39draws/s]\n",
      "The number of effective samples is smaller than 10% for some parameters.\n"
     ]
    },
    {
     "name": "stdout",
     "output_type": "stream",
     "text": [
      "  Fitting model 27 of 30...\n"
     ]
    },
    {
     "name": "stderr",
     "output_type": "stream",
     "text": [
      "Multiprocess sampling (4 chains in 4 jobs)\n",
      "CompoundStep\n",
      ">Metropolis: [tau]\n",
      ">Metropolis: [s]\n",
      ">Metropolis: [v]\n",
      "Sampling 4 chains: 100%|██████████| 100000/100000 [01:00<00:00, 1645.67draws/s]\n",
      "The number of effective samples is smaller than 25% for some parameters.\n"
     ]
    },
    {
     "name": "stdout",
     "output_type": "stream",
     "text": [
      "  Fitting model 28 of 30...\n"
     ]
    },
    {
     "name": "stderr",
     "output_type": "stream",
     "text": [
      "Multiprocess sampling (4 chains in 4 jobs)\n",
      "CompoundStep\n",
      ">Metropolis: [tau]\n",
      ">Metropolis: [s]\n",
      ">Metropolis: [v]\n",
      "Sampling 4 chains: 100%|██████████| 100000/100000 [01:03<00:00, 1566.18draws/s]\n",
      "The number of effective samples is smaller than 10% for some parameters.\n"
     ]
    },
    {
     "name": "stdout",
     "output_type": "stream",
     "text": [
      "  Fitting model 29 of 30...\n"
     ]
    },
    {
     "name": "stderr",
     "output_type": "stream",
     "text": [
      "Multiprocess sampling (4 chains in 4 jobs)\n",
      "CompoundStep\n",
      ">Metropolis: [tau]\n",
      ">Metropolis: [s]\n",
      ">Metropolis: [v]\n",
      "Sampling 4 chains: 100%|██████████| 100000/100000 [01:01<00:00, 1632.70draws/s]\n",
      "The number of effective samples is smaller than 10% for some parameters.\n"
     ]
    },
    {
     "name": "stdout",
     "output_type": "stream",
     "text": [
      "  Fitting model 30 of 30...\n"
     ]
    },
    {
     "name": "stderr",
     "output_type": "stream",
     "text": [
      "Multiprocess sampling (4 chains in 4 jobs)\n",
      "CompoundStep\n",
      ">Metropolis: [tau]\n",
      ">Metropolis: [s]\n",
      ">Metropolis: [v]\n",
      "Sampling 4 chains: 100%|██████████| 100000/100000 [00:58<00:00, 1720.24draws/s]\n",
      "The number of effective samples is smaller than 10% for some parameters.\n"
     ]
    },
    {
     "name": "stdout",
     "output_type": "stream",
     "text": [
      "/!\\ Automatically setting parameter precision...\n"
     ]
    }
   ],
   "source": [
    "glam_nobias.fit(method='MCMC',\n",
    "                tune=20000,\n",
    "                draws=5000,\n",
    "                chains=4)"
   ]
  },
  {
   "cell_type": "markdown",
   "metadata": {},
   "source": [
    "Convergence check:"
   ]
  },
  {
   "cell_type": "code",
   "execution_count": 18,
   "metadata": {},
   "outputs": [],
   "source": [
    "def check_convergence(summary, varnames=['v', 's', 'tau'],\n",
    "                      n_eff_required=100, gelman_rubin_criterion=0.05):\n",
    "    varnames = [varname + '__0_0' for varname in varnames]\n",
    "    enough_eff_samples = np.all(summary.loc[varnames]['n_eff'] > n_eff_required)\n",
    "    good_gelman = np.all(np.abs(summary.loc[varnames]['Rhat'] - 1.0) < gelman_rubin_criterion)\n",
    "    if not enough_eff_samples or not good_gelman:\n",
    "        return False\n",
    "    else:\n",
    "        return True"
   ]
  },
  {
   "cell_type": "code",
   "execution_count": 19,
   "metadata": {},
   "outputs": [
    {
     "data": {
      "text/plain": [
       "True"
      ]
     },
     "execution_count": 19,
     "metadata": {},
     "output_type": "execute_result"
    }
   ],
   "source": [
    "np.all([check_convergence(pm.summary(trace), varnames=['v', 's', 'gamma', 'tau']) for trace in glam_bias.trace])"
   ]
  },
  {
   "cell_type": "code",
   "execution_count": 20,
   "metadata": {},
   "outputs": [
    {
     "data": {
      "text/plain": [
       "True"
      ]
     },
     "execution_count": 20,
     "metadata": {},
     "output_type": "execute_result"
    }
   ],
   "source": [
    "np.all([check_convergence(pm.summary(trace), varnames=['v', 's', 'tau']) for trace in glam_nobias.trace])"
   ]
  },
  {
   "cell_type": "markdown",
   "metadata": {},
   "source": [
    "Saving traces and traceplots for visual inspection:"
   ]
  },
  {
   "cell_type": "code",
   "execution_count": 21,
   "metadata": {},
   "outputs": [],
   "source": [
    "import pymc3 as pm"
   ]
  },
  {
   "cell_type": "code",
   "execution_count": 22,
   "metadata": {},
   "outputs": [],
   "source": [
    "for subject, subject_trace in enumerate(glam_bias.trace):\n",
    "#     pm.traceplot(subject_trace)\n",
    "#     plt.savefig('examples/example_1/results/in_sample/traces/sub_{}_gaze_bias_model_trace.png'.format(subject), dpi=330)\n",
    "    plt.close()\n",
    "    pm.trace_to_dataframe(subject_trace).to_csv(\n",
    "        'examples/example_1/results/in_sample/traces/sub_{}_gaze_bias_model_trace.csv'.format(subject))"
   ]
  },
  {
   "cell_type": "code",
   "execution_count": 23,
   "metadata": {},
   "outputs": [],
   "source": [
    "for subject, subject_trace in enumerate(glam_nobias.trace):\n",
    "#     pm.traceplot(subject_trace)\n",
    "#     plt.savefig('examples/example_1/results/in_sample/traces/sub_{}_no_gaze_bias_model_trace.png'.format(subject), dpi=330)\n",
    "    plt.close()\n",
    "    pm.trace_to_dataframe(subject_trace).to_csv(\n",
    "        'examples/example_1/results/in_sample/traces/sub_{}_no_gaze_bias_model_trace.csv'.format(subject))"
   ]
  },
  {
   "cell_type": "markdown",
   "metadata": {},
   "source": [
    "After convergence has been established for each trace, we can perform a model comparison on the individual level. For this comparison, we utilize the *compare* function of the PyMC3 library."
   ]
  },
  {
   "cell_type": "code",
   "execution_count": 24,
   "metadata": {},
   "outputs": [
    {
     "name": "stderr",
     "output_type": "stream",
     "text": [
      "100%|██████████| 30/30 [09:20<00:00, 18.74s/it]\n"
     ]
    }
   ],
   "source": [
    "dWAIC = np.array([])\n",
    "for subject in tqdm(subjects):\n",
    "    waic_df = pm.compare({glam_bias.model[subject]: glam_bias.trace[subject],\n",
    "                          glam_nobias.model[subject]: glam_nobias.trace[subject]},\n",
    "                          ic='WAIC') \n",
    "    # pm.compare indexes models in waic_df by the order in which they were entered\n",
    "    # we entered the model with gaze bias first, it therefore has index 0 in waic_df\n",
    "    if waic_df.index.values[0] == 0:\n",
    "        # model with gaze bias is best fitting\n",
    "        dWAIC = np.append(dWAIC, -1 * waic_df.loc[1, 'dWAIC'])\n",
    "    else:\n",
    "        # model without gaze bias is best fitting\n",
    "        dWAIC = np.append(dWAIC, waic_df.loc[0, 'dWAIC'])\n",
    "np.save('examples/example_1/results/in_sample/model_comparison/dWAIC_in_sample.npy', dWAIC)"
   ]
  },
  {
   "cell_type": "code",
   "execution_count": 25,
   "metadata": {},
   "outputs": [],
   "source": [
    "# identify subjects better described by each model variant\n",
    "gaze_bias_idx = dWAIC < 0\n",
    "no_gaze_bias_idx = dWAIC > 0"
   ]
  },
  {
   "cell_type": "code",
   "execution_count": 26,
   "metadata": {},
   "outputs": [
    {
     "data": {
      "image/png": "[encoded data removed]",
      "text/plain": [
       "<Figure size 1980x990 with 1 Axes>"
      ]
     },
     "metadata": {
      "needs_background": "light"
     },
     "output_type": "display_data"
    }
   ],
   "source": [
    "fig, ax = plt.subplots(1,1,figsize=(6,3),dpi=330)\n",
    "\n",
    "ax.bar(subjects[gaze_bias_idx], dWAIC[gaze_bias_idx], color='C0', label='gaze bias')\n",
    "ax.bar(subjects[no_gaze_bias_idx], dWAIC[no_gaze_bias_idx], color='C1', label='no gaze bias')\n",
    "ax.set_xlabel('Subjects')\n",
    "ax.set_ylabel(r'$WAIC_{gaze-bias}$'+' -\\n'+r'$WAIC_{no-gaze-bias}$')\n",
    "ax.legend()\n",
    "ax.set_xticks([])\n",
    "ax.tick_params(axis='both', which='major')\n",
    "ax.spines['top'].set_visible(False)\n",
    "ax.spines['right'].set_visible(False)\n",
    "fig.tight_layout()\n",
    "\n",
    "fig.savefig('examples/example_1/figures/Figure_1_relative_model_comparison.png', dpi=330)"
   ]
  },
  {
   "cell_type": "markdown",
   "metadata": {},
   "source": [
    "We find that all subjects, except for those which we defined as not having a gaze bias, are better described by a GLAM variant with gaze bias than by one without (as indicated by a lower WAIC score). "
   ]
  },
  {
   "cell_type": "code",
   "execution_count": 27,
   "metadata": {},
   "outputs": [
    {
     "data": {
      "text/plain": [
       "array([ 0, 13, 14, 15, 28])"
      ]
     },
     "execution_count": 27,
     "metadata": {},
     "output_type": "execute_result"
    }
   ],
   "source": [
    "subjects[no_gaze_bias_idx]"
   ]
  },
  {
   "cell_type": "markdown",
   "metadata": {},
   "source": [
    "When looking at the individual parameter estimates (defined as maximum-a-priori or MAP of the GLAM's posterior traces), we find that the individually fitted $\\gamma$ values (see Fig. XX) cover a wide range between XX and XX. We also find that $\\gamma$ estimates are strongly correlated with individuals’ values on the behavioural gaze bias measure (see Fig. XX). Thereby, indicating that the strength of the association between individuals’ gaze allocation and choice behaviour strongly varies between individuals. "
   ]
  },
  {
   "cell_type": "code",
   "execution_count": 28,
   "metadata": {},
   "outputs": [
    {
     "data": {
      "image/png": "[encoded data removed]",
      "text/plain": [
       "<Figure size 1980x990 with 2 Axes>"
      ]
     },
     "metadata": {
      "needs_background": "light"
     },
     "output_type": "display_data"
    }
   ],
   "source": [
    "fig, axs = plt.subplots(1,2,figsize=(6,3),dpi=330)\n",
    "\n",
    "axs[0].hist(glam_bias.estimates['gamma'],\n",
    "            bins=np.linspace(-1,0.5,20))\n",
    "gb.plots.plot_correlation(subject_data_summary['gaze_influence'],\n",
    "                          glam_bias.estimates['gamma'],\n",
    "                          ax=axs[1])\n",
    "\n",
    "axs[0].set_ylabel('Frequency')\n",
    "axs[0].set_xlabel(r'$\\gamma$')\n",
    "axs[1].set_ylabel(r'$\\gamma$')\n",
    "axs[1].set_xlabel('Gaze influence on P(choice | value)')\n",
    "fig.tight_layout()\n",
    "fig.savefig('examples/example_1/figures/Figure_2_gaze_bias_estimates.png', dpi=330)"
   ]
  },
  {
   "cell_type": "markdown",
   "metadata": {},
   "source": [
    "### Absolute Model Fit"
   ]
  },
  {
   "cell_type": "markdown",
   "metadata": {},
   "source": [
    "Our likelihood-based model comparison has indiciated whether the response behaviour of each individual in the data is better described by a GLAM variant with or without gaze bias. Yet, it did not indicate whether the GLAM also represents a good model of their response behaviour on an absolute level. To test this, we further perform an out-of-sample prediction exersice."
   ]
  },
  {
   "cell_type": "markdown",
   "metadata": {},
   "source": [
    "First, we divide the data of each subject into the even- and odd-numbered experiment trials:"
   ]
  },
  {
   "cell_type": "code",
   "execution_count": 29,
   "metadata": {},
   "outputs": [],
   "source": [
    "data_even = data[(data['trial']%2)==0].copy()\n",
    "data_odd = data[(data['trial']%2)!=0].copy()"
   ]
  },
  {
   "cell_type": "code",
   "execution_count": 30,
   "metadata": {
    "scrolled": false
   },
   "outputs": [
    {
     "name": "stdout",
     "output_type": "stream",
     "text": [
      "Replaced attached data (6000 trials) with new data (3000 trials)...\n",
      "Fitting 30 model(s) using MCMC...\n",
      "  Fitting model 1 of 30...\n"
     ]
    },
    {
     "name": "stderr",
     "output_type": "stream",
     "text": [
      "Multiprocess sampling (4 chains in 4 jobs)\n",
      "CompoundStep\n",
      ">Metropolis: [tau]\n",
      ">Metropolis: [s]\n",
      ">Metropolis: [gamma]\n",
      ">Metropolis: [v]\n",
      "Sampling 4 chains: 100%|██████████| 100000/100000 [01:31<00:00, 1092.37draws/s]\n",
      "The number of effective samples is smaller than 10% for some parameters.\n"
     ]
    },
    {
     "name": "stdout",
     "output_type": "stream",
     "text": [
      "  Fitting model 2 of 30...\n"
     ]
    },
    {
     "name": "stderr",
     "output_type": "stream",
     "text": [
      "Multiprocess sampling (4 chains in 4 jobs)\n",
      "CompoundStep\n",
      ">Metropolis: [tau]\n",
      ">Metropolis: [s]\n",
      ">Metropolis: [gamma]\n",
      ">Metropolis: [v]\n",
      "Sampling 4 chains: 100%|██████████| 100000/100000 [01:30<00:00, 1099.77draws/s]\n",
      "The number of effective samples is smaller than 10% for some parameters.\n"
     ]
    },
    {
     "name": "stdout",
     "output_type": "stream",
     "text": [
      "  Fitting model 3 of 30...\n"
     ]
    },
    {
     "name": "stderr",
     "output_type": "stream",
     "text": [
      "Multiprocess sampling (4 chains in 4 jobs)\n",
      "CompoundStep\n",
      ">Metropolis: [tau]\n",
      ">Metropolis: [s]\n",
      ">Metropolis: [gamma]\n",
      ">Metropolis: [v]\n",
      "Sampling 4 chains: 100%|██████████| 100000/100000 [01:32<00:00, 1080.73draws/s]\n",
      "The number of effective samples is smaller than 10% for some parameters.\n"
     ]
    },
    {
     "name": "stdout",
     "output_type": "stream",
     "text": [
      "  Fitting model 4 of 30...\n"
     ]
    },
    {
     "name": "stderr",
     "output_type": "stream",
     "text": [
      "Multiprocess sampling (4 chains in 4 jobs)\n",
      "CompoundStep\n",
      ">Metropolis: [tau]\n",
      ">Metropolis: [s]\n",
      ">Metropolis: [gamma]\n",
      ">Metropolis: [v]\n",
      "Sampling 4 chains: 100%|██████████| 100000/100000 [01:32<00:00, 1075.36draws/s]\n",
      "The number of effective samples is smaller than 10% for some parameters.\n"
     ]
    },
    {
     "name": "stdout",
     "output_type": "stream",
     "text": [
      "  Fitting model 5 of 30...\n"
     ]
    },
    {
     "name": "stderr",
     "output_type": "stream",
     "text": [
      "Multiprocess sampling (4 chains in 4 jobs)\n",
      "CompoundStep\n",
      ">Metropolis: [tau]\n",
      ">Metropolis: [s]\n",
      ">Metropolis: [gamma]\n",
      ">Metropolis: [v]\n",
      "Sampling 4 chains: 100%|██████████| 100000/100000 [01:32<00:00, 1085.00draws/s]\n",
      "The number of effective samples is smaller than 10% for some parameters.\n"
     ]
    },
    {
     "name": "stdout",
     "output_type": "stream",
     "text": [
      "  Fitting model 6 of 30...\n"
     ]
    },
    {
     "name": "stderr",
     "output_type": "stream",
     "text": [
      "Multiprocess sampling (4 chains in 4 jobs)\n",
      "CompoundStep\n",
      ">Metropolis: [tau]\n",
      ">Metropolis: [s]\n",
      ">Metropolis: [gamma]\n",
      ">Metropolis: [v]\n",
      "Sampling 4 chains: 100%|██████████| 100000/100000 [01:30<00:00, 1108.36draws/s]\n",
      "The number of effective samples is smaller than 10% for some parameters.\n"
     ]
    },
    {
     "name": "stdout",
     "output_type": "stream",
     "text": [
      "  Fitting model 7 of 30...\n"
     ]
    },
    {
     "name": "stderr",
     "output_type": "stream",
     "text": [
      "Multiprocess sampling (4 chains in 4 jobs)\n",
      "CompoundStep\n",
      ">Metropolis: [tau]\n",
      ">Metropolis: [s]\n",
      ">Metropolis: [gamma]\n",
      ">Metropolis: [v]\n",
      "Sampling 4 chains: 100%|██████████| 100000/100000 [01:30<00:00, 1100.97draws/s]\n",
      "The number of effective samples is smaller than 10% for some parameters.\n"
     ]
    },
    {
     "name": "stdout",
     "output_type": "stream",
     "text": [
      "  Fitting model 8 of 30...\n"
     ]
    },
    {
     "name": "stderr",
     "output_type": "stream",
     "text": [
      "Multiprocess sampling (4 chains in 4 jobs)\n",
      "CompoundStep\n",
      ">Metropolis: [tau]\n",
      ">Metropolis: [s]\n",
      ">Metropolis: [gamma]\n",
      ">Metropolis: [v]\n",
      "Sampling 4 chains: 100%|██████████| 100000/100000 [01:32<00:00, 1081.21draws/s]\n",
      "The number of effective samples is smaller than 10% for some parameters.\n"
     ]
    },
    {
     "name": "stdout",
     "output_type": "stream",
     "text": [
      "  Fitting model 9 of 30...\n"
     ]
    },
    {
     "name": "stderr",
     "output_type": "stream",
     "text": [
      "Multiprocess sampling (4 chains in 4 jobs)\n",
      "CompoundStep\n",
      ">Metropolis: [tau]\n",
      ">Metropolis: [s]\n",
      ">Metropolis: [gamma]\n",
      ">Metropolis: [v]\n",
      "Sampling 4 chains: 100%|██████████| 100000/100000 [01:33<00:00, 1071.29draws/s]\n",
      "The number of effective samples is smaller than 10% for some parameters.\n"
     ]
    },
    {
     "name": "stdout",
     "output_type": "stream",
     "text": [
      "  Fitting model 10 of 30...\n"
     ]
    },
    {
     "name": "stderr",
     "output_type": "stream",
     "text": [
      "Multiprocess sampling (4 chains in 4 jobs)\n",
      "CompoundStep\n",
      ">Metropolis: [tau]\n",
      ">Metropolis: [s]\n",
      ">Metropolis: [gamma]\n",
      ">Metropolis: [v]\n",
      "Sampling 4 chains: 100%|██████████| 100000/100000 [01:32<00:00, 1075.68draws/s]\n",
      "The number of effective samples is smaller than 10% for some parameters.\n"
     ]
    },
    {
     "name": "stdout",
     "output_type": "stream",
     "text": [
      "  Fitting model 11 of 30...\n"
     ]
    },
    {
     "name": "stderr",
     "output_type": "stream",
     "text": [
      "Multiprocess sampling (4 chains in 4 jobs)\n",
      "CompoundStep\n",
      ">Metropolis: [tau]\n",
      ">Metropolis: [s]\n",
      ">Metropolis: [gamma]\n",
      ">Metropolis: [v]\n",
      "Sampling 4 chains: 100%|██████████| 100000/100000 [01:30<00:00, 1104.67draws/s]\n",
      "The number of effective samples is smaller than 10% for some parameters.\n"
     ]
    },
    {
     "name": "stdout",
     "output_type": "stream",
     "text": [
      "  Fitting model 12 of 30...\n"
     ]
    },
    {
     "name": "stderr",
     "output_type": "stream",
     "text": [
      "Multiprocess sampling (4 chains in 4 jobs)\n",
      "CompoundStep\n",
      ">Metropolis: [tau]\n",
      ">Metropolis: [s]\n",
      ">Metropolis: [gamma]\n",
      ">Metropolis: [v]\n",
      "Sampling 4 chains: 100%|██████████| 100000/100000 [01:28<00:00, 1125.17draws/s]\n",
      "The number of effective samples is smaller than 10% for some parameters.\n"
     ]
    },
    {
     "name": "stdout",
     "output_type": "stream",
     "text": [
      "  Fitting model 13 of 30...\n"
     ]
    },
    {
     "name": "stderr",
     "output_type": "stream",
     "text": [
      "Multiprocess sampling (4 chains in 4 jobs)\n",
      "CompoundStep\n",
      ">Metropolis: [tau]\n",
      ">Metropolis: [s]\n",
      ">Metropolis: [gamma]\n",
      ">Metropolis: [v]\n",
      "Sampling 4 chains: 100%|██████████| 100000/100000 [01:27<00:00, 1149.20draws/s]\n",
      "The number of effective samples is smaller than 10% for some parameters.\n"
     ]
    },
    {
     "name": "stdout",
     "output_type": "stream",
     "text": [
      "  Fitting model 14 of 30...\n"
     ]
    },
    {
     "name": "stderr",
     "output_type": "stream",
     "text": [
      "Multiprocess sampling (4 chains in 4 jobs)\n",
      "CompoundStep\n",
      ">Metropolis: [tau]\n",
      ">Metropolis: [s]\n",
      ">Metropolis: [gamma]\n",
      ">Metropolis: [v]\n",
      "Sampling 4 chains: 100%|██████████| 100000/100000 [01:25<00:00, 1174.93draws/s]\n",
      "The number of effective samples is smaller than 10% for some parameters.\n"
     ]
    },
    {
     "name": "stdout",
     "output_type": "stream",
     "text": [
      "  Fitting model 15 of 30...\n"
     ]
    },
    {
     "name": "stderr",
     "output_type": "stream",
     "text": [
      "Multiprocess sampling (4 chains in 4 jobs)\n",
      "CompoundStep\n",
      ">Metropolis: [tau]\n",
      ">Metropolis: [s]\n",
      ">Metropolis: [gamma]\n",
      ">Metropolis: [v]\n",
      "Sampling 4 chains: 100%|██████████| 100000/100000 [01:25<00:00, 1171.29draws/s]\n",
      "The number of effective samples is smaller than 10% for some parameters.\n"
     ]
    },
    {
     "name": "stdout",
     "output_type": "stream",
     "text": [
      "  Fitting model 16 of 30...\n"
     ]
    },
    {
     "name": "stderr",
     "output_type": "stream",
     "text": [
      "Multiprocess sampling (4 chains in 4 jobs)\n",
      "CompoundStep\n",
      ">Metropolis: [tau]\n",
      ">Metropolis: [s]\n",
      ">Metropolis: [gamma]\n",
      ">Metropolis: [v]\n",
      "Sampling 4 chains: 100%|██████████| 100000/100000 [01:26<00:00, 1155.47draws/s]\n",
      "The number of effective samples is smaller than 10% for some parameters.\n"
     ]
    },
    {
     "name": "stdout",
     "output_type": "stream",
     "text": [
      "  Fitting model 17 of 30...\n"
     ]
    },
    {
     "name": "stderr",
     "output_type": "stream",
     "text": [
      "Multiprocess sampling (4 chains in 4 jobs)\n",
      "CompoundStep\n",
      ">Metropolis: [tau]\n",
      ">Metropolis: [s]\n",
      ">Metropolis: [gamma]\n",
      ">Metropolis: [v]\n",
      "Sampling 4 chains: 100%|██████████| 100000/100000 [01:25<00:00, 1168.42draws/s]\n",
      "The number of effective samples is smaller than 10% for some parameters.\n"
     ]
    },
    {
     "name": "stdout",
     "output_type": "stream",
     "text": [
      "  Fitting model 18 of 30...\n"
     ]
    },
    {
     "name": "stderr",
     "output_type": "stream",
     "text": [
      "Multiprocess sampling (4 chains in 4 jobs)\n",
      "CompoundStep\n",
      ">Metropolis: [tau]\n",
      ">Metropolis: [s]\n",
      ">Metropolis: [gamma]\n",
      ">Metropolis: [v]\n",
      "Sampling 4 chains: 100%|██████████| 100000/100000 [01:29<00:00, 1119.99draws/s]\n",
      "The number of effective samples is smaller than 10% for some parameters.\n"
     ]
    },
    {
     "name": "stdout",
     "output_type": "stream",
     "text": [
      "  Fitting model 19 of 30...\n"
     ]
    },
    {
     "name": "stderr",
     "output_type": "stream",
     "text": [
      "Multiprocess sampling (4 chains in 4 jobs)\n",
      "CompoundStep\n",
      ">Metropolis: [tau]\n",
      ">Metropolis: [s]\n",
      ">Metropolis: [gamma]\n",
      ">Metropolis: [v]\n",
      "Sampling 4 chains: 100%|██████████| 100000/100000 [01:26<00:00, 1154.13draws/s]\n",
      "The number of effective samples is smaller than 10% for some parameters.\n"
     ]
    },
    {
     "name": "stdout",
     "output_type": "stream",
     "text": [
      "  Fitting model 20 of 30...\n"
     ]
    },
    {
     "name": "stderr",
     "output_type": "stream",
     "text": [
      "Multiprocess sampling (4 chains in 4 jobs)\n",
      "CompoundStep\n",
      ">Metropolis: [tau]\n",
      ">Metropolis: [s]\n",
      ">Metropolis: [gamma]\n",
      ">Metropolis: [v]\n",
      "Sampling 4 chains: 100%|██████████| 100000/100000 [01:26<00:00, 1150.62draws/s]\n",
      "The number of effective samples is smaller than 10% for some parameters.\n"
     ]
    },
    {
     "name": "stdout",
     "output_type": "stream",
     "text": [
      "  Fitting model 21 of 30...\n"
     ]
    },
    {
     "name": "stderr",
     "output_type": "stream",
     "text": [
      "Multiprocess sampling (4 chains in 4 jobs)\n",
      "CompoundStep\n",
      ">Metropolis: [tau]\n",
      ">Metropolis: [s]\n",
      ">Metropolis: [gamma]\n",
      ">Metropolis: [v]\n",
      "Sampling 4 chains: 100%|██████████| 100000/100000 [01:28<00:00, 1131.33draws/s]\n",
      "The number of effective samples is smaller than 10% for some parameters.\n"
     ]
    },
    {
     "name": "stdout",
     "output_type": "stream",
     "text": [
      "  Fitting model 22 of 30...\n"
     ]
    },
    {
     "name": "stderr",
     "output_type": "stream",
     "text": [
      "Multiprocess sampling (4 chains in 4 jobs)\n",
      "CompoundStep\n",
      ">Metropolis: [tau]\n",
      ">Metropolis: [s]\n",
      ">Metropolis: [gamma]\n",
      ">Metropolis: [v]\n",
      "Sampling 4 chains: 100%|██████████| 100000/100000 [01:26<00:00, 1152.31draws/s]\n",
      "The number of effective samples is smaller than 10% for some parameters.\n"
     ]
    },
    {
     "name": "stdout",
     "output_type": "stream",
     "text": [
      "  Fitting model 23 of 30...\n"
     ]
    },
    {
     "name": "stderr",
     "output_type": "stream",
     "text": [
      "Multiprocess sampling (4 chains in 4 jobs)\n",
      "CompoundStep\n",
      ">Metropolis: [tau]\n",
      ">Metropolis: [s]\n",
      ">Metropolis: [gamma]\n",
      ">Metropolis: [v]\n",
      "Sampling 4 chains: 100%|██████████| 100000/100000 [01:26<00:00, 1159.07draws/s]\n",
      "The number of effective samples is smaller than 10% for some parameters.\n"
     ]
    },
    {
     "name": "stdout",
     "output_type": "stream",
     "text": [
      "  Fitting model 24 of 30...\n"
     ]
    },
    {
     "name": "stderr",
     "output_type": "stream",
     "text": [
      "Multiprocess sampling (4 chains in 4 jobs)\n",
      "CompoundStep\n",
      ">Metropolis: [tau]\n",
      ">Metropolis: [s]\n",
      ">Metropolis: [gamma]\n",
      ">Metropolis: [v]\n",
      "Sampling 4 chains: 100%|██████████| 100000/100000 [01:27<00:00, 1145.10draws/s]\n",
      "The number of effective samples is smaller than 10% for some parameters.\n"
     ]
    },
    {
     "name": "stdout",
     "output_type": "stream",
     "text": [
      "  Fitting model 25 of 30...\n"
     ]
    },
    {
     "name": "stderr",
     "output_type": "stream",
     "text": [
      "Multiprocess sampling (4 chains in 4 jobs)\n",
      "CompoundStep\n",
      ">Metropolis: [tau]\n",
      ">Metropolis: [s]\n",
      ">Metropolis: [gamma]\n",
      ">Metropolis: [v]\n",
      "Sampling 4 chains: 100%|██████████| 100000/100000 [01:26<00:00, 1159.05draws/s]\n",
      "The number of effective samples is smaller than 10% for some parameters.\n"
     ]
    },
    {
     "name": "stdout",
     "output_type": "stream",
     "text": [
      "  Fitting model 26 of 30...\n"
     ]
    },
    {
     "name": "stderr",
     "output_type": "stream",
     "text": [
      "Multiprocess sampling (4 chains in 4 jobs)\n",
      "CompoundStep\n",
      ">Metropolis: [tau]\n",
      ">Metropolis: [s]\n",
      ">Metropolis: [gamma]\n",
      ">Metropolis: [v]\n",
      "Sampling 4 chains: 100%|██████████| 100000/100000 [01:26<00:00, 1155.66draws/s]\n",
      "The number of effective samples is smaller than 10% for some parameters.\n"
     ]
    },
    {
     "name": "stdout",
     "output_type": "stream",
     "text": [
      "  Fitting model 27 of 30...\n"
     ]
    },
    {
     "name": "stderr",
     "output_type": "stream",
     "text": [
      "Multiprocess sampling (4 chains in 4 jobs)\n",
      "CompoundStep\n",
      ">Metropolis: [tau]\n",
      ">Metropolis: [s]\n",
      ">Metropolis: [gamma]\n",
      ">Metropolis: [v]\n",
      "Sampling 4 chains: 100%|██████████| 100000/100000 [01:26<00:00, 1156.83draws/s]\n",
      "The number of effective samples is smaller than 10% for some parameters.\n"
     ]
    },
    {
     "name": "stdout",
     "output_type": "stream",
     "text": [
      "  Fitting model 28 of 30...\n"
     ]
    },
    {
     "name": "stderr",
     "output_type": "stream",
     "text": [
      "Multiprocess sampling (4 chains in 4 jobs)\n",
      "CompoundStep\n",
      ">Metropolis: [tau]\n",
      ">Metropolis: [s]\n",
      ">Metropolis: [gamma]\n",
      ">Metropolis: [v]\n",
      "Sampling 4 chains: 100%|██████████| 100000/100000 [01:26<00:00, 1160.55draws/s]\n",
      "The number of effective samples is smaller than 10% for some parameters.\n"
     ]
    },
    {
     "name": "stdout",
     "output_type": "stream",
     "text": [
      "  Fitting model 29 of 30...\n"
     ]
    },
    {
     "name": "stderr",
     "output_type": "stream",
     "text": [
      "Multiprocess sampling (4 chains in 4 jobs)\n",
      "CompoundStep\n",
      ">Metropolis: [tau]\n",
      ">Metropolis: [s]\n",
      ">Metropolis: [gamma]\n",
      ">Metropolis: [v]\n",
      "Sampling 4 chains: 100%|██████████| 100000/100000 [01:26<00:00, 1156.09draws/s]\n",
      "The number of effective samples is smaller than 10% for some parameters.\n"
     ]
    },
    {
     "name": "stdout",
     "output_type": "stream",
     "text": [
      "  Fitting model 30 of 30...\n"
     ]
    },
    {
     "name": "stderr",
     "output_type": "stream",
     "text": [
      "Multiprocess sampling (4 chains in 4 jobs)\n",
      "CompoundStep\n",
      ">Metropolis: [tau]\n",
      ">Metropolis: [s]\n",
      ">Metropolis: [gamma]\n",
      ">Metropolis: [v]\n",
      "Sampling 4 chains: 100%|██████████| 100000/100000 [01:26<00:00, 1156.65draws/s]\n",
      "The number of effective samples is smaller than 10% for some parameters.\n"
     ]
    },
    {
     "name": "stdout",
     "output_type": "stream",
     "text": [
      "/!\\ Automatically setting parameter precision...\n",
      "Replaced attached data (6000 trials) with new data (3000 trials)...\n",
      "Fitting 30 model(s) using MCMC...\n",
      "  Fitting model 1 of 30...\n"
     ]
    },
    {
     "name": "stderr",
     "output_type": "stream",
     "text": [
      "Multiprocess sampling (4 chains in 4 jobs)\n",
      "CompoundStep\n",
      ">Metropolis: [tau]\n",
      ">Metropolis: [s]\n",
      ">Metropolis: [v]\n",
      "Sampling 4 chains: 100%|██████████| 100000/100000 [01:00<00:00, 1656.93draws/s]\n",
      "The number of effective samples is smaller than 10% for some parameters.\n"
     ]
    },
    {
     "name": "stdout",
     "output_type": "stream",
     "text": [
      "  Fitting model 2 of 30...\n"
     ]
    },
    {
     "name": "stderr",
     "output_type": "stream",
     "text": [
      "Multiprocess sampling (4 chains in 4 jobs)\n",
      "CompoundStep\n",
      ">Metropolis: [tau]\n",
      ">Metropolis: [s]\n",
      ">Metropolis: [v]\n",
      "Sampling 4 chains: 100%|██████████| 100000/100000 [00:57<00:00, 1735.30draws/s]\n",
      "The number of effective samples is smaller than 10% for some parameters.\n"
     ]
    },
    {
     "name": "stdout",
     "output_type": "stream",
     "text": [
      "  Fitting model 3 of 30...\n"
     ]
    },
    {
     "name": "stderr",
     "output_type": "stream",
     "text": [
      "Multiprocess sampling (4 chains in 4 jobs)\n",
      "CompoundStep\n",
      ">Metropolis: [tau]\n",
      ">Metropolis: [s]\n",
      ">Metropolis: [v]\n",
      "Sampling 4 chains: 100%|██████████| 100000/100000 [00:57<00:00, 1730.91draws/s]\n",
      "The number of effective samples is smaller than 10% for some parameters.\n"
     ]
    },
    {
     "name": "stdout",
     "output_type": "stream",
     "text": [
      "  Fitting model 4 of 30...\n"
     ]
    },
    {
     "name": "stderr",
     "output_type": "stream",
     "text": [
      "Multiprocess sampling (4 chains in 4 jobs)\n",
      "CompoundStep\n",
      ">Metropolis: [tau]\n",
      ">Metropolis: [s]\n",
      ">Metropolis: [v]\n",
      "Sampling 4 chains: 100%|██████████| 100000/100000 [00:57<00:00, 1747.21draws/s]\n",
      "The number of effective samples is smaller than 10% for some parameters.\n"
     ]
    },
    {
     "name": "stdout",
     "output_type": "stream",
     "text": [
      "  Fitting model 5 of 30...\n"
     ]
    },
    {
     "name": "stderr",
     "output_type": "stream",
     "text": [
      "Multiprocess sampling (4 chains in 4 jobs)\n",
      "CompoundStep\n",
      ">Metropolis: [tau]\n",
      ">Metropolis: [s]\n",
      ">Metropolis: [v]\n",
      "Sampling 4 chains: 100%|██████████| 100000/100000 [00:57<00:00, 1725.41draws/s]\n",
      "The number of effective samples is smaller than 10% for some parameters.\n"
     ]
    },
    {
     "name": "stdout",
     "output_type": "stream",
     "text": [
      "  Fitting model 6 of 30...\n"
     ]
    },
    {
     "name": "stderr",
     "output_type": "stream",
     "text": [
      "Multiprocess sampling (4 chains in 4 jobs)\n",
      "CompoundStep\n",
      ">Metropolis: [tau]\n",
      ">Metropolis: [s]\n",
      ">Metropolis: [v]\n",
      "Sampling 4 chains: 100%|██████████| 100000/100000 [00:58<00:00, 1714.50draws/s]\n",
      "The number of effective samples is smaller than 10% for some parameters.\n"
     ]
    },
    {
     "name": "stdout",
     "output_type": "stream",
     "text": [
      "  Fitting model 7 of 30...\n"
     ]
    },
    {
     "name": "stderr",
     "output_type": "stream",
     "text": [
      "Multiprocess sampling (4 chains in 4 jobs)\n",
      "CompoundStep\n",
      ">Metropolis: [tau]\n",
      ">Metropolis: [s]\n",
      ">Metropolis: [v]\n",
      "Sampling 4 chains: 100%|██████████| 100000/100000 [00:57<00:00, 1746.79draws/s]\n",
      "The number of effective samples is smaller than 10% for some parameters.\n"
     ]
    },
    {
     "name": "stdout",
     "output_type": "stream",
     "text": [
      "  Fitting model 8 of 30...\n"
     ]
    },
    {
     "name": "stderr",
     "output_type": "stream",
     "text": [
      "Multiprocess sampling (4 chains in 4 jobs)\n",
      "CompoundStep\n",
      ">Metropolis: [tau]\n",
      ">Metropolis: [s]\n",
      ">Metropolis: [v]\n",
      "Sampling 4 chains: 100%|██████████| 100000/100000 [00:57<00:00, 1726.74draws/s]\n",
      "The number of effective samples is smaller than 10% for some parameters.\n"
     ]
    },
    {
     "name": "stdout",
     "output_type": "stream",
     "text": [
      "  Fitting model 9 of 30...\n"
     ]
    },
    {
     "name": "stderr",
     "output_type": "stream",
     "text": [
      "Multiprocess sampling (4 chains in 4 jobs)\n",
      "CompoundStep\n",
      ">Metropolis: [tau]\n",
      ">Metropolis: [s]\n",
      ">Metropolis: [v]\n",
      "Sampling 4 chains: 100%|██████████| 100000/100000 [00:57<00:00, 1733.73draws/s]\n",
      "The number of effective samples is smaller than 25% for some parameters.\n"
     ]
    },
    {
     "name": "stdout",
     "output_type": "stream",
     "text": [
      "  Fitting model 10 of 30...\n"
     ]
    },
    {
     "name": "stderr",
     "output_type": "stream",
     "text": [
      "Multiprocess sampling (4 chains in 4 jobs)\n",
      "CompoundStep\n",
      ">Metropolis: [tau]\n",
      ">Metropolis: [s]\n",
      ">Metropolis: [v]\n",
      "Sampling 4 chains: 100%|██████████| 100000/100000 [00:58<00:00, 1720.94draws/s]\n",
      "The number of effective samples is smaller than 10% for some parameters.\n"
     ]
    },
    {
     "name": "stdout",
     "output_type": "stream",
     "text": [
      "  Fitting model 11 of 30...\n"
     ]
    },
    {
     "name": "stderr",
     "output_type": "stream",
     "text": [
      "Multiprocess sampling (4 chains in 4 jobs)\n",
      "CompoundStep\n",
      ">Metropolis: [tau]\n",
      ">Metropolis: [s]\n",
      ">Metropolis: [v]\n",
      "Sampling 4 chains: 100%|██████████| 100000/100000 [00:57<00:00, 1732.26draws/s]\n",
      "The number of effective samples is smaller than 10% for some parameters.\n"
     ]
    },
    {
     "name": "stdout",
     "output_type": "stream",
     "text": [
      "  Fitting model 12 of 30...\n"
     ]
    },
    {
     "name": "stderr",
     "output_type": "stream",
     "text": [
      "Multiprocess sampling (4 chains in 4 jobs)\n",
      "CompoundStep\n",
      ">Metropolis: [tau]\n",
      ">Metropolis: [s]\n",
      ">Metropolis: [v]\n",
      "Sampling 4 chains: 100%|██████████| 100000/100000 [00:57<00:00, 1730.73draws/s]\n",
      "The number of effective samples is smaller than 10% for some parameters.\n"
     ]
    },
    {
     "name": "stdout",
     "output_type": "stream",
     "text": [
      "  Fitting model 13 of 30...\n"
     ]
    },
    {
     "name": "stderr",
     "output_type": "stream",
     "text": [
      "Multiprocess sampling (4 chains in 4 jobs)\n",
      "CompoundStep\n",
      ">Metropolis: [tau]\n",
      ">Metropolis: [s]\n",
      ">Metropolis: [v]\n",
      "Sampling 4 chains: 100%|██████████| 100000/100000 [00:57<00:00, 1747.59draws/s]\n",
      "The number of effective samples is smaller than 10% for some parameters.\n"
     ]
    },
    {
     "name": "stdout",
     "output_type": "stream",
     "text": [
      "  Fitting model 14 of 30...\n"
     ]
    },
    {
     "name": "stderr",
     "output_type": "stream",
     "text": [
      "Multiprocess sampling (4 chains in 4 jobs)\n",
      "CompoundStep\n",
      ">Metropolis: [tau]\n",
      ">Metropolis: [s]\n",
      ">Metropolis: [v]\n",
      "Sampling 4 chains: 100%|██████████| 100000/100000 [00:58<00:00, 1722.22draws/s]\n",
      "The number of effective samples is smaller than 10% for some parameters.\n"
     ]
    },
    {
     "name": "stdout",
     "output_type": "stream",
     "text": [
      "  Fitting model 15 of 30...\n"
     ]
    },
    {
     "name": "stderr",
     "output_type": "stream",
     "text": [
      "Multiprocess sampling (4 chains in 4 jobs)\n",
      "CompoundStep\n",
      ">Metropolis: [tau]\n",
      ">Metropolis: [s]\n",
      ">Metropolis: [v]\n",
      "Sampling 4 chains: 100%|██████████| 100000/100000 [00:57<00:00, 1744.37draws/s]\n",
      "The number of effective samples is smaller than 10% for some parameters.\n"
     ]
    },
    {
     "name": "stdout",
     "output_type": "stream",
     "text": [
      "  Fitting model 16 of 30...\n"
     ]
    },
    {
     "name": "stderr",
     "output_type": "stream",
     "text": [
      "Multiprocess sampling (4 chains in 4 jobs)\n",
      "CompoundStep\n",
      ">Metropolis: [tau]\n",
      ">Metropolis: [s]\n",
      ">Metropolis: [v]\n",
      "Sampling 4 chains: 100%|██████████| 100000/100000 [00:53<00:00, 1878.59draws/s]\n",
      "The number of effective samples is smaller than 10% for some parameters.\n"
     ]
    },
    {
     "name": "stdout",
     "output_type": "stream",
     "text": [
      "  Fitting model 17 of 30...\n"
     ]
    },
    {
     "name": "stderr",
     "output_type": "stream",
     "text": [
      "Multiprocess sampling (4 chains in 4 jobs)\n",
      "CompoundStep\n",
      ">Metropolis: [tau]\n",
      ">Metropolis: [s]\n",
      ">Metropolis: [v]\n",
      "Sampling 4 chains: 100%|██████████| 100000/100000 [00:51<00:00, 1931.08draws/s]\n",
      "The number of effective samples is smaller than 10% for some parameters.\n"
     ]
    },
    {
     "name": "stdout",
     "output_type": "stream",
     "text": [
      "  Fitting model 18 of 30...\n"
     ]
    },
    {
     "name": "stderr",
     "output_type": "stream",
     "text": [
      "Multiprocess sampling (4 chains in 4 jobs)\n",
      "CompoundStep\n",
      ">Metropolis: [tau]\n",
      ">Metropolis: [s]\n",
      ">Metropolis: [v]\n",
      "Sampling 4 chains: 100%|██████████| 100000/100000 [00:51<00:00, 1302.26draws/s]\n",
      "The number of effective samples is smaller than 10% for some parameters.\n"
     ]
    },
    {
     "name": "stdout",
     "output_type": "stream",
     "text": [
      "  Fitting model 19 of 30...\n"
     ]
    },
    {
     "name": "stderr",
     "output_type": "stream",
     "text": [
      "Multiprocess sampling (4 chains in 4 jobs)\n",
      "CompoundStep\n",
      ">Metropolis: [tau]\n",
      ">Metropolis: [s]\n",
      ">Metropolis: [v]\n",
      "Sampling 4 chains: 100%|██████████| 100000/100000 [00:55<00:00, 1812.11draws/s]\n",
      "The number of effective samples is smaller than 10% for some parameters.\n"
     ]
    },
    {
     "name": "stdout",
     "output_type": "stream",
     "text": [
      "  Fitting model 20 of 30...\n"
     ]
    },
    {
     "name": "stderr",
     "output_type": "stream",
     "text": [
      "Multiprocess sampling (4 chains in 4 jobs)\n",
      "CompoundStep\n",
      ">Metropolis: [tau]\n",
      ">Metropolis: [s]\n",
      ">Metropolis: [v]\n",
      "Sampling 4 chains: 100%|██████████| 100000/100000 [00:52<00:00, 1903.11draws/s]\n",
      "The number of effective samples is smaller than 10% for some parameters.\n"
     ]
    },
    {
     "name": "stdout",
     "output_type": "stream",
     "text": [
      "  Fitting model 21 of 30...\n"
     ]
    },
    {
     "name": "stderr",
     "output_type": "stream",
     "text": [
      "Multiprocess sampling (4 chains in 4 jobs)\n",
      "CompoundStep\n",
      ">Metropolis: [tau]\n",
      ">Metropolis: [s]\n",
      ">Metropolis: [v]\n",
      "Sampling 4 chains: 100%|██████████| 100000/100000 [00:51<00:00, 1924.91draws/s]\n",
      "The number of effective samples is smaller than 25% for some parameters.\n"
     ]
    },
    {
     "name": "stdout",
     "output_type": "stream",
     "text": [
      "  Fitting model 22 of 30...\n"
     ]
    },
    {
     "name": "stderr",
     "output_type": "stream",
     "text": [
      "Multiprocess sampling (4 chains in 4 jobs)\n",
      "CompoundStep\n",
      ">Metropolis: [tau]\n",
      ">Metropolis: [s]\n",
      ">Metropolis: [v]\n",
      "Sampling 4 chains: 100%|██████████| 100000/100000 [00:52<00:00, 1915.01draws/s]\n",
      "The number of effective samples is smaller than 10% for some parameters.\n"
     ]
    },
    {
     "name": "stdout",
     "output_type": "stream",
     "text": [
      "  Fitting model 23 of 30...\n"
     ]
    },
    {
     "name": "stderr",
     "output_type": "stream",
     "text": [
      "Multiprocess sampling (4 chains in 4 jobs)\n",
      "CompoundStep\n",
      ">Metropolis: [tau]\n",
      ">Metropolis: [s]\n",
      ">Metropolis: [v]\n",
      "Sampling 4 chains: 100%|██████████| 100000/100000 [00:48<00:00, 2052.71draws/s]\n",
      "The number of effective samples is smaller than 10% for some parameters.\n"
     ]
    },
    {
     "name": "stdout",
     "output_type": "stream",
     "text": [
      "  Fitting model 24 of 30...\n"
     ]
    },
    {
     "name": "stderr",
     "output_type": "stream",
     "text": [
      "Multiprocess sampling (4 chains in 4 jobs)\n",
      "CompoundStep\n",
      ">Metropolis: [tau]\n",
      ">Metropolis: [s]\n",
      ">Metropolis: [v]\n",
      "Sampling 4 chains: 100%|██████████| 100000/100000 [00:48<00:00, 2044.35draws/s]\n",
      "The number of effective samples is smaller than 10% for some parameters.\n"
     ]
    },
    {
     "name": "stdout",
     "output_type": "stream",
     "text": [
      "  Fitting model 25 of 30...\n"
     ]
    },
    {
     "name": "stderr",
     "output_type": "stream",
     "text": [
      "Multiprocess sampling (4 chains in 4 jobs)\n",
      "CompoundStep\n",
      ">Metropolis: [tau]\n",
      ">Metropolis: [s]\n",
      ">Metropolis: [v]\n",
      "Sampling 4 chains: 100%|██████████| 100000/100000 [00:49<00:00, 2017.60draws/s]\n",
      "The number of effective samples is smaller than 10% for some parameters.\n"
     ]
    },
    {
     "name": "stdout",
     "output_type": "stream",
     "text": [
      "  Fitting model 26 of 30...\n"
     ]
    },
    {
     "name": "stderr",
     "output_type": "stream",
     "text": [
      "Multiprocess sampling (4 chains in 4 jobs)\n",
      "CompoundStep\n",
      ">Metropolis: [tau]\n",
      ">Metropolis: [s]\n",
      ">Metropolis: [v]\n",
      "Sampling 4 chains: 100%|██████████| 100000/100000 [00:50<00:00, 1980.86draws/s]\n",
      "The number of effective samples is smaller than 10% for some parameters.\n"
     ]
    },
    {
     "name": "stdout",
     "output_type": "stream",
     "text": [
      "  Fitting model 27 of 30...\n"
     ]
    },
    {
     "name": "stderr",
     "output_type": "stream",
     "text": [
      "Multiprocess sampling (4 chains in 4 jobs)\n",
      "CompoundStep\n",
      ">Metropolis: [tau]\n",
      ">Metropolis: [s]\n",
      ">Metropolis: [v]\n",
      "Sampling 4 chains: 100%|██████████| 100000/100000 [00:50<00:00, 1972.69draws/s]\n",
      "The number of effective samples is smaller than 10% for some parameters.\n"
     ]
    },
    {
     "name": "stdout",
     "output_type": "stream",
     "text": [
      "  Fitting model 28 of 30...\n"
     ]
    },
    {
     "name": "stderr",
     "output_type": "stream",
     "text": [
      "Multiprocess sampling (4 chains in 4 jobs)\n",
      "CompoundStep\n",
      ">Metropolis: [tau]\n",
      ">Metropolis: [s]\n",
      ">Metropolis: [v]\n",
      "Sampling 4 chains: 100%|██████████| 100000/100000 [00:49<00:00, 2010.07draws/s]\n",
      "The number of effective samples is smaller than 10% for some parameters.\n"
     ]
    },
    {
     "name": "stdout",
     "output_type": "stream",
     "text": [
      "  Fitting model 29 of 30...\n"
     ]
    },
    {
     "name": "stderr",
     "output_type": "stream",
     "text": [
      "Multiprocess sampling (4 chains in 4 jobs)\n",
      "CompoundStep\n",
      ">Metropolis: [tau]\n",
      ">Metropolis: [s]\n",
      ">Metropolis: [v]\n",
      "Sampling 4 chains: 100%|██████████| 100000/100000 [00:49<00:00, 2033.48draws/s]\n",
      "The number of effective samples is smaller than 10% for some parameters.\n"
     ]
    },
    {
     "name": "stdout",
     "output_type": "stream",
     "text": [
      "  Fitting model 30 of 30...\n"
     ]
    },
    {
     "name": "stderr",
     "output_type": "stream",
     "text": [
      "Multiprocess sampling (4 chains in 4 jobs)\n",
      "CompoundStep\n",
      ">Metropolis: [tau]\n",
      ">Metropolis: [s]\n",
      ">Metropolis: [v]\n",
      "Sampling 4 chains: 100%|██████████| 100000/100000 [01:07<00:00, 1479.02draws/s]\n",
      "The number of effective samples is smaller than 10% for some parameters.\n"
     ]
    },
    {
     "name": "stdout",
     "output_type": "stream",
     "text": [
      "/!\\ Automatically setting parameter precision...\n"
     ]
    }
   ],
   "source": [
    "glam_bias.exchange_data(data_even)\n",
    "glam_bias.fit(method='MCMC',\n",
    "              tune=20000,\n",
    "              draws=5000,\n",
    "              chains=4)\n",
    "\n",
    "glam_nobias.exchange_data(data_even)\n",
    "glam_nobias.fit(method='MCMC',\n",
    "                tune=20000,\n",
    "                draws=5000,\n",
    "                chains=4)"
   ]
  },
  {
   "cell_type": "markdown",
   "metadata": {},
   "source": [
    "##### old version"
   ]
  },
  {
   "cell_type": "markdown",
   "metadata": {},
   "source": [
    "We then use the data of the even-numbered trials to fit both GLAM variants:"
   ]
  },
  {
   "cell_type": "raw",
   "metadata": {},
   "source": [
    "glam_bias = gb.GLAM(data=data_even)\n",
    "glam_bias.make_model(kind='individual')\n",
    "\n",
    "glam_nobias = gb.GLAM(data=data_even)\n",
    "glam_nobias.make_model(kind='individual', gamma_val=1)"
   ]
  },
  {
   "cell_type": "raw",
   "metadata": {},
   "source": [
    "glam_bias.fit(method=method,\n",
    "                    tune=ntune,\n",
    "                    draws=ndraws,\n",
    "                    chains=nchains,\n",
    "                    cores=ncores,\n",
    "                    progressbar=False,\n",
    "                    verbose=False)"
   ]
  },
  {
   "cell_type": "raw",
   "metadata": {},
   "source": [
    "glam_nobias.fit(method=method,\n",
    "                       tune=ntune,\n",
    "                       draws=ndraws,\n",
    "                       chains=nchains,\n",
    "                       cores=ncores,\n",
    "                       progressbar=False,\n",
    "                       verbose=False)"
   ]
  },
  {
   "cell_type": "markdown",
   "metadata": {},
   "source": [
    "##### old version end"
   ]
  },
  {
   "cell_type": "markdown",
   "metadata": {},
   "source": [
    "Again, we check all parameter traces for convergence, before preceeding further in the anlaysis:"
   ]
  },
  {
   "cell_type": "code",
   "execution_count": 31,
   "metadata": {},
   "outputs": [
    {
     "data": {
      "text/plain": [
       "True"
      ]
     },
     "execution_count": 31,
     "metadata": {},
     "output_type": "execute_result"
    }
   ],
   "source": [
    "np.all([check_convergence(pm.summary(trace), varnames=['v', 's', 'gamma', 'tau'])\n",
    "        for trace in glam_bias.trace])"
   ]
  },
  {
   "cell_type": "code",
   "execution_count": 32,
   "metadata": {},
   "outputs": [
    {
     "data": {
      "text/plain": [
       "True"
      ]
     },
     "execution_count": 32,
     "metadata": {},
     "output_type": "execute_result"
    }
   ],
   "source": [
    "np.all([check_convergence(pm.summary(trace), varnames=['v', 's', 'tau'])\n",
    "        for trace in glam_nobias.trace])"
   ]
  },
  {
   "cell_type": "code",
   "execution_count": 33,
   "metadata": {},
   "outputs": [],
   "source": [
    "for subject, subject_trace in enumerate(glam_bias.trace):\n",
    "#     pm.traceplot(subject_trace)\n",
    "#     plt.savefig('examples/example_1/results/out_of_sample/traces/sub_{}_gaze_bias_model_trace.png'.format(subject), dpi=330)\n",
    "    plt.close()\n",
    "    pm.trace_to_dataframe(subject_trace).to_csv(\n",
    "        'examples/example_1/results/out_of_sample/traces/sub_{}_gaze_bias_model_trace.csv'.format(subject))"
   ]
  },
  {
   "cell_type": "code",
   "execution_count": 34,
   "metadata": {},
   "outputs": [],
   "source": [
    "for subject, subject_trace in enumerate(glam_nobias.trace):\n",
    "#     pm.traceplot(subject_trace)\n",
    "#     plt.savefig('examples/example_1/figures/traceplots/out_of_sample/sub_{}_no_gaze_bias_model_trace.png'.format(subject), dpi=330)\n",
    "    plt.close()\n",
    "    pm.trace_to_dataframe(subject_trace).to_csv(\n",
    "        'examples/example_1/results/out_of_sample/traces/sub_{}_no_gaze_bias_model_trace.csv'.format(subject))"
   ]
  },
  {
   "cell_type": "markdown",
   "metadata": {},
   "source": [
    "After establishing convergence of all parameter traces, we utilize the individually estimated models to predict choices and response times for each trial in the held-out dataset (containing all odd-numbered experiment trials). In this simulation, we repeat each trial 50 times in order to gain a stable estimate of the GLAM's response behaviour:"
   ]
  },
  {
   "cell_type": "code",
   "execution_count": 35,
   "metadata": {},
   "outputs": [],
   "source": [
    "n_repeats = 50"
   ]
  },
  {
   "cell_type": "code",
   "execution_count": 36,
   "metadata": {},
   "outputs": [
    {
     "name": "stderr",
     "output_type": "stream",
     "text": [
      "\r",
      "  0%|          | 0/3000 [00:00<?, ?it/s]"
     ]
    },
    {
     "name": "stdout",
     "output_type": "stream",
     "text": [
      "Replaced attached data (3000 trials) with new data (3000 trials)...\n",
      "Generating predictions for 3000 trials (50 repeats each)...\n"
     ]
    },
    {
     "name": "stderr",
     "output_type": "stream",
     "text": [
      "100%|██████████| 3000/3000 [56:11<00:00,  1.71s/it]\n",
      "  0%|          | 0/3000 [00:00<?, ?it/s]"
     ]
    },
    {
     "name": "stdout",
     "output_type": "stream",
     "text": [
      "Replaced attached data (3000 trials) with new data (3000 trials)...\n",
      "Generating predictions for 3000 trials (50 repeats each)...\n"
     ]
    },
    {
     "name": "stderr",
     "output_type": "stream",
     "text": [
      "100%|██████████| 3000/3000 [54:31<00:00,  1.51s/it]\n"
     ]
    }
   ],
   "source": [
    "glam_bias.exchange_data(data_odd)\n",
    "glam_bias.predict(n_repeats=50)\n",
    "\n",
    "glam_nobias.exchange_data(data_odd)\n",
    "glam_nobias.predict(n_repeats=50)"
   ]
  },
  {
   "cell_type": "code",
   "execution_count": 37,
   "metadata": {
    "scrolled": true
   },
   "outputs": [],
   "source": [
    "glam_bias.prediction.to_csv('examples/example_1/results/out_of_sample/predictions/gaze_bias_model_predictions.csv')\n",
    "glam_nobias.prediction.to_csv('examples/example_1/results/out_of_sample/predictions/no_gaze_bias_model_predictions.csv')"
   ]
  },
  {
   "cell_type": "markdown",
   "metadata": {},
   "source": [
    "Again, we aggregate the predictions of both model variants on the individual level by the use of the *aggregate_subject_level_data* function:"
   ]
  },
  {
   "cell_type": "code",
   "execution_count": 38,
   "metadata": {},
   "outputs": [
    {
     "name": "stdout",
     "output_type": "stream",
     "text": [
      "                rt                                                         \\\n",
      "              mean         std    min     max        se       q1       q3   \n",
      "subject                                                                     \n",
      "0.0      1257.9446  512.223408  524.0  4867.0  7.244657   991.00  1379.00   \n",
      "1.0      1926.5768  667.324580  549.0  5876.0  9.438339  1446.75  2297.00   \n",
      "2.0      1741.4088  646.275719  572.0  4844.0  9.140633  1292.00  2039.25   \n",
      "3.0      1520.8658  598.659894  428.0  4339.0  8.467176  1106.75  1797.00   \n",
      "4.0      2081.4612  699.024813  694.0  5211.0  9.886692  1578.75  2440.25   \n",
      "\n",
      "                best_chosen gaze_influence  \n",
      "            iqr        mean                 \n",
      "subject                                     \n",
      "0.0      388.00      0.8764      -0.000596  \n",
      "1.0      850.25      0.3614       0.454177  \n",
      "2.0      747.25      0.7114       0.269556  \n",
      "3.0      690.25      0.4170       0.508053  \n",
      "4.0      861.50      0.3632       0.496942  \n"
     ]
    }
   ],
   "source": [
    "glam_bias_pred_subject_summary = gb.analysis.aggregate_subject_level_data(glam_bias.prediction, n_items)\n",
    "print(glam_bias_pred_subject_summary.head())"
   ]
  },
  {
   "cell_type": "code",
   "execution_count": 39,
   "metadata": {},
   "outputs": [
    {
     "name": "stdout",
     "output_type": "stream",
     "text": [
      "                rt                                                         \\\n",
      "              mean         std    min     max         se       q1      q3   \n",
      "subject                                                                     \n",
      "0.0      1286.9630  550.417675  488.0  4858.0   7.784860  1002.00  1413.0   \n",
      "1.0      2044.7320  699.076468  529.0  7243.0   9.887423  1536.00  2431.0   \n",
      "2.0      1752.6550  649.641299  462.0  4813.0   9.188234  1295.75  2068.0   \n",
      "3.0      1597.2362  602.892435  474.0  5629.0   8.527039  1167.00  1895.0   \n",
      "4.0      2254.6264  727.767972  760.0  5488.0  10.293223  1734.00  2661.0   \n",
      "\n",
      "                best_chosen gaze_influence  \n",
      "            iqr        mean                 \n",
      "subject                                     \n",
      "0.0      411.00      0.8766       0.002587  \n",
      "1.0      895.00      0.3662      -0.004067  \n",
      "2.0      772.25      0.7042       0.006196  \n",
      "3.0      728.00      0.3838      -0.000805  \n",
      "4.0      927.00      0.3908      -0.012569  \n"
     ]
    }
   ],
   "source": [
    "glam_nobias_pred_subject_summary = gb.analysis.aggregate_subject_level_data(glam_nobias.prediction, n_items)\n",
    "print(glam_nobias_pred_subject_summary.head())"
   ]
  },
  {
   "cell_type": "markdown",
   "metadata": {},
   "source": [
    "To then determine the absolute fit of both model variants to the data, we plot the individually predited against the individually observed data on our three behavioural metrics. To do this, we utilize the *absolute_fit_individual* function of the plots module. This function takes as input the subject-level summary of the observed data, as well as a list of the subject-level summaries of the predictions of all model variants that are to be compared. For each model variant, the function creates a new row of panels, plotting the observed against the predicted data."
   ]
  },
  {
   "cell_type": "code",
   "execution_count": 42,
   "metadata": {},
   "outputs": [
    {
     "ename": "AttributeError",
     "evalue": "'tuple' object has no attribute 'startswith'",
     "output_type": "error",
     "traceback": [
      "\u001b[0;31m---------------------------------------------------------------------------\u001b[0m",
      "\u001b[0;31mAttributeError\u001b[0m                            Traceback (most recent call last)",
      "\u001b[0;32m<ipython-input-42-c3e201c44636>\u001b[0m in \u001b[0;36m<module>\u001b[0;34m\u001b[0m\n\u001b[1;32m      2\u001b[0m                                        predictions=[glam_bias_pred_subject_summary,\n\u001b[1;32m      3\u001b[0m                                                     glam_nobias_pred_subject_summary],\n\u001b[0;32m----> 4\u001b[0;31m                                        prediction_labels=['gaze-bias', 'no gaze-bias'])\n\u001b[0m\u001b[1;32m      5\u001b[0m \u001b[0mfig\u001b[0m\u001b[0;34m.\u001b[0m\u001b[0msavefig\u001b[0m\u001b[0;34m(\u001b[0m\u001b[0;34m'examples/example_1/figures/Figure_3_absolute_fit.png'\u001b[0m\u001b[0;34m,\u001b[0m \u001b[0mdpi\u001b[0m\u001b[0;34m=\u001b[0m\u001b[0;36m330\u001b[0m\u001b[0;34m)\u001b[0m\u001b[0;34m\u001b[0m\u001b[0;34m\u001b[0m\u001b[0m\n",
      "\u001b[0;32m~/Desktop/glambox/glam/plots.py\u001b[0m in \u001b[0;36mplot_individual\u001b[0;34m(observed, predictions, prediction_labels, colors, fontsize, alpha, figsize)\u001b[0m\n\u001b[1;32m   1298\u001b[0m         \u001b[0;32mif\u001b[0m \u001b[0mn_items\u001b[0m \u001b[0;34m!=\u001b[0m \u001b[0mn_items_pred\u001b[0m\u001b[0;34m:\u001b[0m\u001b[0;34m\u001b[0m\u001b[0;34m\u001b[0m\u001b[0m\n\u001b[1;32m   1299\u001b[0m             \u001b[0;32mraise\u001b[0m \u001b[0mValueError\u001b[0m\u001b[0;34m(\u001b[0m\u001b[0;34m'observed and prediction {} contain unequal number of items'\u001b[0m\u001b[0;34m.\u001b[0m\u001b[0mformat\u001b[0m\u001b[0;34m(\u001b[0m\u001b[0mi\u001b[0m\u001b[0;34m)\u001b[0m\u001b[0;34m)\u001b[0m\u001b[0;34m\u001b[0m\u001b[0;34m\u001b[0m\u001b[0m\n\u001b[0;32m-> 1300\u001b[0;31m     \u001b[0mobserved_subject_summary\u001b[0m \u001b[0;34m=\u001b[0m \u001b[0maggregate_subject_level_data\u001b[0m\u001b[0;34m(\u001b[0m\u001b[0mobserved\u001b[0m\u001b[0;34m,\u001b[0m \u001b[0mn_items\u001b[0m\u001b[0;34m=\u001b[0m\u001b[0mn_items\u001b[0m\u001b[0;34m)\u001b[0m\u001b[0;34m\u001b[0m\u001b[0;34m\u001b[0m\u001b[0m\n\u001b[0m\u001b[1;32m   1301\u001b[0m \u001b[0;34m\u001b[0m\u001b[0m\n\u001b[1;32m   1302\u001b[0m     \u001b[0;31m# extract oberved value ranges\u001b[0m\u001b[0;34m\u001b[0m\u001b[0;34m\u001b[0m\u001b[0;34m\u001b[0m\u001b[0m\n",
      "\u001b[0;32m~/Desktop/glambox/glam/analysis.py\u001b[0m in \u001b[0;36maggregate_subject_level_data\u001b[0;34m(data, n_items)\u001b[0m\n\u001b[1;32m    168\u001b[0m \u001b[0;34m\u001b[0m\u001b[0m\n\u001b[1;32m    169\u001b[0m     \u001b[0;31m# add best chosen variable\u001b[0m\u001b[0;34m\u001b[0m\u001b[0;34m\u001b[0m\u001b[0;34m\u001b[0m\u001b[0m\n\u001b[0;32m--> 170\u001b[0;31m     \u001b[0mdata\u001b[0m \u001b[0;34m=\u001b[0m \u001b[0madd_best_chosen\u001b[0m\u001b[0;34m(\u001b[0m\u001b[0mdata\u001b[0m\u001b[0;34m)\u001b[0m\u001b[0;34m\u001b[0m\u001b[0;34m\u001b[0m\u001b[0m\n\u001b[0m\u001b[1;32m    171\u001b[0m \u001b[0;34m\u001b[0m\u001b[0m\n\u001b[1;32m    172\u001b[0m     \u001b[0;31m# Summarize variables\u001b[0m\u001b[0;34m\u001b[0m\u001b[0;34m\u001b[0m\u001b[0;34m\u001b[0m\u001b[0m\n",
      "\u001b[0;32m~/Desktop/glambox/glam/analysis.py\u001b[0m in \u001b[0;36madd_best_chosen\u001b[0;34m(df)\u001b[0m\n\u001b[1;32m    113\u001b[0m     \"\"\"\n\u001b[1;32m    114\u001b[0m     \u001b[0mdf\u001b[0m \u001b[0;34m=\u001b[0m \u001b[0mdf\u001b[0m\u001b[0;34m.\u001b[0m\u001b[0mcopy\u001b[0m\u001b[0;34m(\u001b[0m\u001b[0;34m)\u001b[0m\u001b[0;34m\u001b[0m\u001b[0;34m\u001b[0m\u001b[0m\n\u001b[0;32m--> 115\u001b[0;31m     \u001b[0mvalues\u001b[0m \u001b[0;34m=\u001b[0m \u001b[0mdf\u001b[0m\u001b[0;34m[\u001b[0m\u001b[0;34m[\u001b[0m\u001b[0mc\u001b[0m \u001b[0;32mfor\u001b[0m \u001b[0mc\u001b[0m \u001b[0;32min\u001b[0m \u001b[0mdf\u001b[0m\u001b[0;34m.\u001b[0m\u001b[0mcolumns\u001b[0m \u001b[0;32mif\u001b[0m \u001b[0mc\u001b[0m\u001b[0;34m.\u001b[0m\u001b[0mstartswith\u001b[0m\u001b[0;34m(\u001b[0m\u001b[0;34m'item_value_'\u001b[0m\u001b[0;34m)\u001b[0m\u001b[0;34m]\u001b[0m\u001b[0;34m]\u001b[0m\u001b[0;34m.\u001b[0m\u001b[0mvalues\u001b[0m\u001b[0;34m\u001b[0m\u001b[0;34m\u001b[0m\u001b[0m\n\u001b[0m\u001b[1;32m    116\u001b[0m     \u001b[0mchoices\u001b[0m \u001b[0;34m=\u001b[0m \u001b[0mdf\u001b[0m\u001b[0;34m[\u001b[0m\u001b[0;34m'choice'\u001b[0m\u001b[0;34m]\u001b[0m\u001b[0;34m.\u001b[0m\u001b[0mvalues\u001b[0m\u001b[0;34m.\u001b[0m\u001b[0mastype\u001b[0m\u001b[0;34m(\u001b[0m\u001b[0mnp\u001b[0m\u001b[0;34m.\u001b[0m\u001b[0mint\u001b[0m\u001b[0;34m)\u001b[0m\u001b[0;34m\u001b[0m\u001b[0;34m\u001b[0m\u001b[0m\n\u001b[1;32m    117\u001b[0m     best_chosen = (values[np.arange(choices.size), choices]\n",
      "\u001b[0;32m~/Desktop/glambox/glam/analysis.py\u001b[0m in \u001b[0;36m<listcomp>\u001b[0;34m(.0)\u001b[0m\n\u001b[1;32m    113\u001b[0m     \"\"\"\n\u001b[1;32m    114\u001b[0m     \u001b[0mdf\u001b[0m \u001b[0;34m=\u001b[0m \u001b[0mdf\u001b[0m\u001b[0;34m.\u001b[0m\u001b[0mcopy\u001b[0m\u001b[0;34m(\u001b[0m\u001b[0;34m)\u001b[0m\u001b[0;34m\u001b[0m\u001b[0;34m\u001b[0m\u001b[0m\n\u001b[0;32m--> 115\u001b[0;31m     \u001b[0mvalues\u001b[0m \u001b[0;34m=\u001b[0m \u001b[0mdf\u001b[0m\u001b[0;34m[\u001b[0m\u001b[0;34m[\u001b[0m\u001b[0mc\u001b[0m \u001b[0;32mfor\u001b[0m \u001b[0mc\u001b[0m \u001b[0;32min\u001b[0m \u001b[0mdf\u001b[0m\u001b[0;34m.\u001b[0m\u001b[0mcolumns\u001b[0m \u001b[0;32mif\u001b[0m \u001b[0mc\u001b[0m\u001b[0;34m.\u001b[0m\u001b[0mstartswith\u001b[0m\u001b[0;34m(\u001b[0m\u001b[0;34m'item_value_'\u001b[0m\u001b[0;34m)\u001b[0m\u001b[0;34m]\u001b[0m\u001b[0;34m]\u001b[0m\u001b[0;34m.\u001b[0m\u001b[0mvalues\u001b[0m\u001b[0;34m\u001b[0m\u001b[0;34m\u001b[0m\u001b[0m\n\u001b[0m\u001b[1;32m    116\u001b[0m     \u001b[0mchoices\u001b[0m \u001b[0;34m=\u001b[0m \u001b[0mdf\u001b[0m\u001b[0;34m[\u001b[0m\u001b[0;34m'choice'\u001b[0m\u001b[0;34m]\u001b[0m\u001b[0;34m.\u001b[0m\u001b[0mvalues\u001b[0m\u001b[0;34m.\u001b[0m\u001b[0mastype\u001b[0m\u001b[0;34m(\u001b[0m\u001b[0mnp\u001b[0m\u001b[0;34m.\u001b[0m\u001b[0mint\u001b[0m\u001b[0;34m)\u001b[0m\u001b[0;34m\u001b[0m\u001b[0;34m\u001b[0m\u001b[0m\n\u001b[1;32m    117\u001b[0m     best_chosen = (values[np.arange(choices.size), choices]\n",
      "\u001b[0;31mAttributeError\u001b[0m: 'tuple' object has no attribute 'startswith'"
     ]
    },
    {
     "data": {
      "image/png": "[encoded data removed]",
      "text/plain": [
       "<Figure size 510.236x340.157 with 6 Axes>"
      ]
     },
     "metadata": {
      "needs_background": "light"
     },
     "output_type": "display_data"
    }
   ],
   "source": [
    "fig = gb.plots.plot_individual(observed=gb.analysis.aggregate_subject_level_data(data_odd, n_items),\n",
    "                                       predictions=[glam_bias_pred_subject_summary,\n",
    "                                                    glam_nobias_pred_subject_summary],\n",
    "                                       prediction_labels=['gaze-bias', 'no gaze-bias'])\n",
    "fig.savefig('examples/example_1/figures/Figure_3_absolute_fit.png', dpi=330)"
   ]
  },
  {
   "cell_type": "markdown",
   "metadata": {},
   "source": [
    "Both model variants perform well in capturing individuals' response times and probability of choosing the best item. Yet, only the GLAM variant with gaze bias is able to also recover the strength of the association between individuals' choice behaviour and gaze allocation."
   ]
  },
  {
   "cell_type": "markdown",
   "metadata": {
    "collapsed": true
   },
   "source": [
    "## Association between model parameters and behaviour"
   ]
  },
  {
   "cell_type": "markdown",
   "metadata": {},
   "source": [
    "In the last step of our analysis, we want to test whether the individual GLAM parameter estimates from the even-numbered experiment trials are able to predict individuals' response characteristics on the three behavioural metrics in the odd-numbered trials. To this end, we plot each set of parameter against each behavioural metric."
   ]
  },
  {
   "cell_type": "markdown",
   "metadata": {},
   "source": [
    "### Gaze bias model"
   ]
  },
  {
   "cell_type": "code",
   "execution_count": 43,
   "metadata": {
    "scrolled": false
   },
   "outputs": [
    {
     "data": {
      "image/png": "[encoded data removed]",
      "text/plain": [
       "<Figure size 510.236x510.236 with 12 Axes>"
      ]
     },
     "metadata": {
      "needs_background": "light"
     },
     "output_type": "display_data"
    }
   ],
   "source": [
    "fig, axs = plt.subplots(4,3, figsize=gb.plots.cm2inch(18,18))\n",
    "\n",
    "\n",
    "subject_data_summary_odd = gb.analysis.aggregate_subject_level_data(data_odd, n_items)\n",
    "for i, parameter in enumerate(['v', 's', 'gamma', 'tau']): \n",
    "    \n",
    "    # response time\n",
    "    gb.plots.plot_correlation(glam_bias.estimates[parameter],\n",
    "                              subject_data_summary_odd['rt']['mean'],\n",
    "                              ax=axs[i,0])\n",
    "    axs[i,0].set_xlabel(r'{}'.format(parameter), fontsize=8)\n",
    "    axs[i,0].set_ylabel('Response time (ms)', fontsize=8)\n",
    "    \n",
    "    # P(choose item | value)\n",
    "    gb.plots.plot_correlation(glam_bias.estimates[parameter],\n",
    "                              subject_data_summary_odd['best_chosen']['mean'],\n",
    "                              ax=axs[i,1])\n",
    "    axs[i,1].set_xlabel(r'{}'.format(parameter), fontsize=8)\n",
    "    axs[i,1].set_ylabel('P(choose best)', fontsize=8)\n",
    "    \n",
    "    # Gaze influence on P(choose item | value)\n",
    "    gb.plots.plot_correlation(glam_bias.estimates[parameter],\n",
    "                              subject_data_summary_odd['gaze_influence'],\n",
    "                              ax=axs[i,2])\n",
    "    axs[i,2].set_xlabel(r'{}'.format(parameter), fontsize=8)\n",
    "    axs[i,2].set_ylabel('Gaze influence on \\nP(choose item | value)', fontsize=8)\n",
    "    \n",
    "for ax in axs.ravel():\n",
    "    ax.spines['right'].set_visible(False)\n",
    "    ax.spines['top'].set_visible(False)\n",
    "    ax.tick_params(axis='both', which='major', labelsize=8)\n",
    "\n",
    "fig.tight_layout()\n",
    "fig.savefig('examples/example_1/figures/Figure_4_behaviour_paramater_correlations.png', dpi=330)"
   ]
  },
  {
   "cell_type": "markdown",
   "metadata": {},
   "source": [
    "### No Bias model"
   ]
  },
  {
   "cell_type": "code",
   "execution_count": 44,
   "metadata": {
    "scrolled": false
   },
   "outputs": [
    {
     "data": {
      "image/png": "[encoded data removed]",
      "text/plain": [
       "<Figure size 510.236x510.236 with 9 Axes>"
      ]
     },
     "metadata": {
      "needs_background": "light"
     },
     "output_type": "display_data"
    }
   ],
   "source": [
    "fig, axs = plt.subplots(3,3, figsize=gb.plots.cm2inch(18,18))\n",
    "\n",
    "\n",
    "subject_data_summary_odd = gb.analysis.aggregate_subject_level_data(data_odd, n_items)\n",
    "for i, parameter in enumerate(['v', 's', 'tau']): \n",
    "    \n",
    "    # response time\n",
    "    gb.plots.plot_correlation(glam_nobias.estimates[parameter],\n",
    "                              subject_data_summary_odd['rt']['mean'],\n",
    "                              ax=axs[i,0])\n",
    "    axs[i,0].set_xlabel(r'{}'.format(parameter), fontsize=8)\n",
    "    axs[i,0].set_ylabel('Response time (ms)', fontsize=8)\n",
    "    \n",
    "    # P(choose item | value)\n",
    "    gb.plots.plot_correlation(glam_nobias.estimates[parameter],\n",
    "                              subject_data_summary_odd['best_chosen']['mean'],\n",
    "                              ax=axs[i,1])\n",
    "    axs[i,1].set_xlabel(r'{}'.format(parameter), fontsize=8)\n",
    "    axs[i,1].set_ylabel('P(choose best)', fontsize=8)\n",
    "    \n",
    "    # Gaze influence on P(choose item | value)\n",
    "    gb.plots.plot_correlation(glam_nobias.estimates[parameter],\n",
    "                              subject_data_summary_odd['gaze_influence'],\n",
    "                              ax=axs[i,2])\n",
    "    axs[i,2].set_xlabel(r'{}'.format(parameter), fontsize=8)\n",
    "    axs[i,2].set_ylabel('Gaze influence on \\nP(choose item | value)', fontsize=8)\n",
    "    \n",
    "for ax in axs.ravel():\n",
    "    ax.spines['right'].set_visible(False)\n",
    "    ax.spines['top'].set_visible(False)\n",
    "    ax.tick_params(axis='both', which='major', labelsize=8)\n",
    "\n",
    "fig.tight_layout()\n",
    "fig.savefig('examples/example_1/figures/Figure_4_behaviour_paramater_correlations.png', dpi=330)"
   ]
  },
  {
   "cell_type": "code",
   "execution_count": null,
   "metadata": {},
   "outputs": [],
   "source": []
  }
 ],
 "metadata": {
  "anaconda-cloud": {},
  "kernelspec": {
   "display_name": "Python 3",
   "language": "python",
   "name": "python3"
  },
  "language_info": {
   "codemirror_mode": {
    "name": "ipython",
    "version": 3
   },
   "file_extension": ".py",
   "mimetype": "text/x-python",
   "name": "python",
   "nbconvert_exporter": "python",
   "pygments_lexer": "ipython3",
   "version": "3.7.3"
  },
  "toc": {
   "colors": {
    "hover_highlight": "#DAA520",
    "running_highlight": "#FF0000",
    "selected_highlight": "#FFD700"
   },
   "moveMenuLeft": true,
   "nav_menu": {
    "height": "157px",
    "width": "252px"
   },
   "navigate_menu": true,
   "number_sections": true,
   "sideBar": true,
   "threshold": 4,
   "toc_cell": false,
   "toc_section_display": "block",
   "toc_window_display": false,
   "widenNotebook": false
  }
 },
 "nbformat": 4,
 "nbformat_minor": 2
}
