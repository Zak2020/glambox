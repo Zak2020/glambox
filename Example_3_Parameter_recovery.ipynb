{
 "cells": [
  {
   "cell_type": "code",
   "execution_count": 1,
   "metadata": {},
   "outputs": [],
   "source": [
    "import numpy as np\n",
    "import pandas as pd\n",
    "import pymc3 as pm\n",
    "from os.path import join, isfile\n",
    "from os import listdir\n",
    "from functools import partial\n",
    "import matplotlib.pyplot as plt\n",
    "%matplotlib inline\n",
    "import seaborn as sns\n",
    "sns.set_style('ticks')\n",
    "sns.set_context('paper')\n",
    "\n",
    "import glam as gb\n",
    "\n",
    "%load_ext autoreload\n",
    "%autoreload 2"
   ]
  },
  {
   "cell_type": "markdown",
   "metadata": {},
   "source": [
    "# Example 3: Parameter recovery\n",
    "\n",
    "When performing model-based analyses of behaviour that include the interpretation of parameter estimates, or comparisons of parameter estimates between groups or conditions, the researcher should be confident that the model’s parameters are actually identifiable. In particular, the researcher needs to be confident, that the set of estimated parameters unambiguously describes the observed data better than any other set of parameters. A straightforward way of testing this is to perform a parameter recovery: The general intuition of a parameter recovery analysis is to first generate a synthetic data set from a model using a set of known parameters, and then fitting the model to the synthetic data. Finally, the estimated parameters can be compared to the known generating parameters. If they match to a satisfying degree, the parameters were recovered successfully. Previous analyses have already indicated that the GLAM’s parameters can generally be recovered to a satisfying degree (see Thomas et al., 2019). Yet, the ability to identify a specific set of parameters always depends on the specific features of a given dataset. The most obvious feature of a data set that influences recoverability of model parameters is the number of data points included. Usually this quantity refers to the number of trials. For hierarchical models, the precision of group level estimates also depends on the number of individuals per group. Additional features that vary between datasets and that could influence parameter estimation are the observed distribution of gaze, the distribution of item values or the number of items in each trial. For this reason, it should always be tested whether the estimated parameters of a model can be recovered in the context of a specific dataset."
   ]
  },
  {
   "cell_type": "code",
   "execution_count": 2,
   "metadata": {},
   "outputs": [],
   "source": [
    "# Simulate a pretend-to-be-collected dataset.\n",
    "# In the real world, this dataset is collected from participants, so we do not know\n",
    "# 1) if GLAM is an adequate model for the data\n",
    "# 2) data-generating parameters\n",
    "\n",
    "data_model = gb.GLAM()\n",
    "\n",
    "parameters = dict(v=dict(mu=0.000075, sd=0.000025, bounds=(0.00002, 0.0002)),\n",
    "                  gamma=dict(mu=0.1, sd=0.3, bounds=(-1, 1)),\n",
    "                  s=dict(mu=0.008, sd=0.001, bounds=(0.005, 0.015)),\n",
    "                  tau=dict(mu=0.8, sd=0.1, bounds=(0.1, 2)))\n",
    "\n",
    "data_model.simulate_group(kind='hierarchical',\n",
    "                          n_individuals=50,\n",
    "                          n_trials=200,\n",
    "                          n_items=3,\n",
    "                          parameters=parameters,\n",
    "                          value_range=(1, 10),\n",
    "                          seed=1)\n",
    "\n",
    "data = data_model.data"
   ]
  },
  {
   "cell_type": "code",
   "execution_count": 3,
   "metadata": {},
   "outputs": [],
   "source": [
    "data.to_csv(join('examples', 'example_3', 'data', 'data.csv'), index=False)"
   ]
  },
  {
   "cell_type": "markdown",
   "metadata": {},
   "source": [
    "## Example Recovery\n",
    "\n",
    "To demonstrate the procedure of a basic parameter recovery analysis using GLAMbox, suppose we have collected and loaded a data set called data. In the first step, we perform basic parameter estimation as in the previous examples:"
   ]
  },
  {
   "cell_type": "code",
   "execution_count": 4,
   "metadata": {
    "scrolled": true
   },
   "outputs": [
    {
     "name": "stdout",
     "output_type": "stream",
     "text": [
      "Generating single subject models for 50 subjects...\n"
     ]
    },
    {
     "name": "stderr",
     "output_type": "stream",
     "text": [
      "/Users/felixmolter/anaconda3/lib/python3.7/site-packages/theano/tensor/subtensor.py:2197: FutureWarning: Using a non-tuple sequence for multidimensional indexing is deprecated; use `arr[tuple(seq)]` instead of `arr[seq]`. In the future this will be interpreted as an array index, `arr[np.array(seq)]`, which will result either in an error or a different result.\n",
      "  rval = inputs[0].__getitem__(inputs[1:])\n",
      "/Users/felixmolter/anaconda3/lib/python3.7/site-packages/theano/tensor/subtensor.py:2197: FutureWarning: Using a non-tuple sequence for multidimensional indexing is deprecated; use `arr[tuple(seq)]` instead of `arr[seq]`. In the future this will be interpreted as an array index, `arr[np.array(seq)]`, which will result either in an error or a different result.\n",
      "  rval = inputs[0].__getitem__(inputs[1:])\n",
      "/Users/felixmolter/anaconda3/lib/python3.7/site-packages/theano/tensor/subtensor.py:2197: FutureWarning: Using a non-tuple sequence for multidimensional indexing is deprecated; use `arr[tuple(seq)]` instead of `arr[seq]`. In the future this will be interpreted as an array index, `arr[np.array(seq)]`, which will result either in an error or a different result.\n",
      "  rval = inputs[0].__getitem__(inputs[1:])\n",
      "/Users/felixmolter/anaconda3/lib/python3.7/site-packages/theano/tensor/subtensor.py:2197: FutureWarning: Using a non-tuple sequence for multidimensional indexing is deprecated; use `arr[tuple(seq)]` instead of `arr[seq]`. In the future this will be interpreted as an array index, `arr[np.array(seq)]`, which will result either in an error or a different result.\n",
      "  rval = inputs[0].__getitem__(inputs[1:])\n"
     ]
    },
    {
     "name": "stdout",
     "output_type": "stream",
     "text": [
      "Fitting 50 model(s) using MCMC...\n",
      "  Fitting model 1 of 50...\n"
     ]
    },
    {
     "name": "stderr",
     "output_type": "stream",
     "text": [
      "/Users/felixmolter/anaconda3/lib/python3.7/site-packages/theano/tensor/subtensor.py:2197: FutureWarning: Using a non-tuple sequence for multidimensional indexing is deprecated; use `arr[tuple(seq)]` instead of `arr[seq]`. In the future this will be interpreted as an array index, `arr[np.array(seq)]`, which will result either in an error or a different result.\n",
      "  rval = inputs[0].__getitem__(inputs[1:])\n",
      "/Users/felixmolter/anaconda3/lib/python3.7/site-packages/theano/tensor/subtensor.py:2197: FutureWarning: Using a non-tuple sequence for multidimensional indexing is deprecated; use `arr[tuple(seq)]` instead of `arr[seq]`. In the future this will be interpreted as an array index, `arr[np.array(seq)]`, which will result either in an error or a different result.\n",
      "  rval = inputs[0].__getitem__(inputs[1:])\n",
      "/Users/felixmolter/anaconda3/lib/python3.7/site-packages/theano/tensor/subtensor.py:2197: FutureWarning: Using a non-tuple sequence for multidimensional indexing is deprecated; use `arr[tuple(seq)]` instead of `arr[seq]`. In the future this will be interpreted as an array index, `arr[np.array(seq)]`, which will result either in an error or a different result.\n",
      "  rval = inputs[0].__getitem__(inputs[1:])\n",
      "Multiprocess sampling (4 chains in 4 jobs)\n",
      "CompoundStep\n",
      ">Metropolis: [tau]\n",
      ">Metropolis: [s]\n",
      ">Metropolis: [gamma]\n",
      ">Metropolis: [v]\n",
      "Sampling 4 chains:   0%|          | 0/40000 [00:00<?, ?draws/s]/Users/felixmolter/anaconda3/lib/python3.7/site-packages/theano/tensor/subtensor.py:2197: FutureWarning: Using a non-tuple sequence for multidimensional indexing is deprecated; use `arr[tuple(seq)]` instead of `arr[seq]`. In the future this will be interpreted as an array index, `arr[np.array(seq)]`, which will result either in an error or a different result.\n",
      "  rval = inputs[0].__getitem__(inputs[1:])\n",
      "/Users/felixmolter/anaconda3/lib/python3.7/site-packages/theano/tensor/subtensor.py:2197: FutureWarning: Using a non-tuple sequence for multidimensional indexing is deprecated; use `arr[tuple(seq)]` instead of `arr[seq]`. In the future this will be interpreted as an array index, `arr[np.array(seq)]`, which will result either in an error or a different result.\n",
      "  rval = inputs[0].__getitem__(inputs[1:])\n",
      "/Users/felixmolter/anaconda3/lib/python3.7/site-packages/theano/tensor/subtensor.py:2197: FutureWarning: Using a non-tuple sequence for multidimensional indexing is deprecated; use `arr[tuple(seq)]` instead of `arr[seq]`. In the future this will be interpreted as an array index, `arr[np.array(seq)]`, which will result either in an error or a different result.\n",
      "  rval = inputs[0].__getitem__(inputs[1:])\n",
      "/Users/felixmolter/anaconda3/lib/python3.7/site-packages/theano/tensor/subtensor.py:2197: FutureWarning: Using a non-tuple sequence for multidimensional indexing is deprecated; use `arr[tuple(seq)]` instead of `arr[seq]`. In the future this will be interpreted as an array index, `arr[np.array(seq)]`, which will result either in an error or a different result.\n",
      "  rval = inputs[0].__getitem__(inputs[1:])\n",
      "Sampling 4 chains: 100%|██████████| 40000/40000 [00:25<00:00, 1574.39draws/s]\n",
      "The number of effective samples is smaller than 10% for some parameters.\n"
     ]
    },
    {
     "name": "stdout",
     "output_type": "stream",
     "text": [
      "  Fitting model 2 of 50...\n"
     ]
    },
    {
     "name": "stderr",
     "output_type": "stream",
     "text": [
      "/Users/felixmolter/anaconda3/lib/python3.7/site-packages/theano/tensor/subtensor.py:2197: FutureWarning: Using a non-tuple sequence for multidimensional indexing is deprecated; use `arr[tuple(seq)]` instead of `arr[seq]`. In the future this will be interpreted as an array index, `arr[np.array(seq)]`, which will result either in an error or a different result.\n",
      "  rval = inputs[0].__getitem__(inputs[1:])\n",
      "Multiprocess sampling (4 chains in 4 jobs)\n",
      "CompoundStep\n",
      ">Metropolis: [tau]\n",
      ">Metropolis: [s]\n",
      ">Metropolis: [gamma]\n",
      ">Metropolis: [v]\n",
      "Sampling 4 chains: 100%|██████████| 40000/40000 [00:25<00:00, 1580.91draws/s]\n",
      "The number of effective samples is smaller than 10% for some parameters.\n"
     ]
    },
    {
     "name": "stdout",
     "output_type": "stream",
     "text": [
      "  Fitting model 3 of 50...\n"
     ]
    },
    {
     "name": "stderr",
     "output_type": "stream",
     "text": [
      "Multiprocess sampling (4 chains in 4 jobs)\n",
      "CompoundStep\n",
      ">Metropolis: [tau]\n",
      ">Metropolis: [s]\n",
      ">Metropolis: [gamma]\n",
      ">Metropolis: [v]\n",
      "Sampling 4 chains: 100%|██████████| 40000/40000 [00:25<00:00, 1586.85draws/s]\n",
      "The number of effective samples is smaller than 10% for some parameters.\n"
     ]
    },
    {
     "name": "stdout",
     "output_type": "stream",
     "text": [
      "  Fitting model 4 of 50...\n"
     ]
    },
    {
     "name": "stderr",
     "output_type": "stream",
     "text": [
      "Multiprocess sampling (4 chains in 4 jobs)\n",
      "CompoundStep\n",
      ">Metropolis: [tau]\n",
      ">Metropolis: [s]\n",
      ">Metropolis: [gamma]\n",
      ">Metropolis: [v]\n",
      "Sampling 4 chains: 100%|██████████| 40000/40000 [00:25<00:00, 1570.98draws/s]\n",
      "The number of effective samples is smaller than 10% for some parameters.\n"
     ]
    },
    {
     "name": "stdout",
     "output_type": "stream",
     "text": [
      "  Fitting model 5 of 50...\n"
     ]
    },
    {
     "name": "stderr",
     "output_type": "stream",
     "text": [
      "Multiprocess sampling (4 chains in 4 jobs)\n",
      "CompoundStep\n",
      ">Metropolis: [tau]\n",
      ">Metropolis: [s]\n",
      ">Metropolis: [gamma]\n",
      ">Metropolis: [v]\n",
      "Sampling 4 chains: 100%|██████████| 40000/40000 [00:25<00:00, 1189.73draws/s]\n",
      "The number of effective samples is smaller than 10% for some parameters.\n"
     ]
    },
    {
     "name": "stdout",
     "output_type": "stream",
     "text": [
      "  Fitting model 6 of 50...\n"
     ]
    },
    {
     "name": "stderr",
     "output_type": "stream",
     "text": [
      "Multiprocess sampling (4 chains in 4 jobs)\n",
      "CompoundStep\n",
      ">Metropolis: [tau]\n",
      ">Metropolis: [s]\n",
      ">Metropolis: [gamma]\n",
      ">Metropolis: [v]\n",
      "Sampling 4 chains: 100%|██████████| 40000/40000 [00:25<00:00, 1577.54draws/s]\n",
      "The number of effective samples is smaller than 10% for some parameters.\n"
     ]
    },
    {
     "name": "stdout",
     "output_type": "stream",
     "text": [
      "  Fitting model 7 of 50...\n"
     ]
    },
    {
     "name": "stderr",
     "output_type": "stream",
     "text": [
      "Multiprocess sampling (4 chains in 4 jobs)\n",
      "CompoundStep\n",
      ">Metropolis: [tau]\n",
      ">Metropolis: [s]\n",
      ">Metropolis: [gamma]\n",
      ">Metropolis: [v]\n",
      "Sampling 4 chains: 100%|██████████| 40000/40000 [00:25<00:00, 1571.34draws/s]\n",
      "The number of effective samples is smaller than 10% for some parameters.\n"
     ]
    },
    {
     "name": "stdout",
     "output_type": "stream",
     "text": [
      "  Fitting model 8 of 50...\n"
     ]
    },
    {
     "name": "stderr",
     "output_type": "stream",
     "text": [
      "Multiprocess sampling (4 chains in 4 jobs)\n",
      "CompoundStep\n",
      ">Metropolis: [tau]\n",
      ">Metropolis: [s]\n",
      ">Metropolis: [gamma]\n",
      ">Metropolis: [v]\n",
      "Sampling 4 chains: 100%|██████████| 40000/40000 [00:25<00:00, 1565.04draws/s]\n",
      "The number of effective samples is smaller than 10% for some parameters.\n"
     ]
    },
    {
     "name": "stdout",
     "output_type": "stream",
     "text": [
      "  Fitting model 9 of 50...\n"
     ]
    },
    {
     "name": "stderr",
     "output_type": "stream",
     "text": [
      "Multiprocess sampling (4 chains in 4 jobs)\n",
      "CompoundStep\n",
      ">Metropolis: [tau]\n",
      ">Metropolis: [s]\n",
      ">Metropolis: [gamma]\n",
      ">Metropolis: [v]\n",
      "Sampling 4 chains: 100%|██████████| 40000/40000 [00:26<00:00, 1526.72draws/s]\n",
      "The number of effective samples is smaller than 10% for some parameters.\n"
     ]
    },
    {
     "name": "stdout",
     "output_type": "stream",
     "text": [
      "  Fitting model 10 of 50...\n"
     ]
    },
    {
     "name": "stderr",
     "output_type": "stream",
     "text": [
      "Multiprocess sampling (4 chains in 4 jobs)\n",
      "CompoundStep\n",
      ">Metropolis: [tau]\n",
      ">Metropolis: [s]\n",
      ">Metropolis: [gamma]\n",
      ">Metropolis: [v]\n",
      "Sampling 4 chains: 100%|██████████| 40000/40000 [00:25<00:00, 1563.61draws/s]\n",
      "The number of effective samples is smaller than 10% for some parameters.\n"
     ]
    },
    {
     "name": "stdout",
     "output_type": "stream",
     "text": [
      "  Fitting model 11 of 50...\n"
     ]
    },
    {
     "name": "stderr",
     "output_type": "stream",
     "text": [
      "Multiprocess sampling (4 chains in 4 jobs)\n",
      "CompoundStep\n",
      ">Metropolis: [tau]\n",
      ">Metropolis: [s]\n",
      ">Metropolis: [gamma]\n",
      ">Metropolis: [v]\n",
      "Sampling 4 chains: 100%|██████████| 40000/40000 [00:25<00:00, 1548.95draws/s]\n",
      "The number of effective samples is smaller than 10% for some parameters.\n"
     ]
    },
    {
     "name": "stdout",
     "output_type": "stream",
     "text": [
      "  Fitting model 12 of 50...\n"
     ]
    },
    {
     "name": "stderr",
     "output_type": "stream",
     "text": [
      "Multiprocess sampling (4 chains in 4 jobs)\n",
      "CompoundStep\n",
      ">Metropolis: [tau]\n",
      ">Metropolis: [s]\n",
      ">Metropolis: [gamma]\n",
      ">Metropolis: [v]\n",
      "Sampling 4 chains: 100%|██████████| 40000/40000 [00:25<00:00, 1574.90draws/s]\n",
      "The number of effective samples is smaller than 10% for some parameters.\n"
     ]
    },
    {
     "name": "stdout",
     "output_type": "stream",
     "text": [
      "  Fitting model 13 of 50...\n"
     ]
    },
    {
     "name": "stderr",
     "output_type": "stream",
     "text": [
      "Multiprocess sampling (4 chains in 4 jobs)\n",
      "CompoundStep\n",
      ">Metropolis: [tau]\n",
      ">Metropolis: [s]\n",
      ">Metropolis: [gamma]\n",
      ">Metropolis: [v]\n",
      "Sampling 4 chains: 100%|██████████| 40000/40000 [00:25<00:00, 1568.20draws/s]\n",
      "The number of effective samples is smaller than 10% for some parameters.\n"
     ]
    },
    {
     "name": "stdout",
     "output_type": "stream",
     "text": [
      "  Fitting model 14 of 50...\n"
     ]
    },
    {
     "name": "stderr",
     "output_type": "stream",
     "text": [
      "Multiprocess sampling (4 chains in 4 jobs)\n",
      "CompoundStep\n",
      ">Metropolis: [tau]\n",
      ">Metropolis: [s]\n",
      ">Metropolis: [gamma]\n",
      ">Metropolis: [v]\n",
      "Sampling 4 chains: 100%|██████████| 40000/40000 [00:25<00:00, 1563.22draws/s]\n",
      "The number of effective samples is smaller than 10% for some parameters.\n"
     ]
    },
    {
     "name": "stdout",
     "output_type": "stream",
     "text": [
      "  Fitting model 15 of 50...\n"
     ]
    },
    {
     "name": "stderr",
     "output_type": "stream",
     "text": [
      "Multiprocess sampling (4 chains in 4 jobs)\n",
      "CompoundStep\n",
      ">Metropolis: [tau]\n",
      ">Metropolis: [s]\n",
      ">Metropolis: [gamma]\n",
      ">Metropolis: [v]\n",
      "Sampling 4 chains: 100%|██████████| 40000/40000 [00:25<00:00, 1565.64draws/s]\n",
      "The number of effective samples is smaller than 10% for some parameters.\n"
     ]
    },
    {
     "name": "stdout",
     "output_type": "stream",
     "text": [
      "  Fitting model 16 of 50...\n"
     ]
    },
    {
     "name": "stderr",
     "output_type": "stream",
     "text": [
      "Multiprocess sampling (4 chains in 4 jobs)\n",
      "CompoundStep\n",
      ">Metropolis: [tau]\n",
      ">Metropolis: [s]\n",
      ">Metropolis: [gamma]\n",
      ">Metropolis: [v]\n",
      "Sampling 4 chains: 100%|██████████| 40000/40000 [00:25<00:00, 1556.59draws/s]\n",
      "The number of effective samples is smaller than 10% for some parameters.\n"
     ]
    },
    {
     "name": "stdout",
     "output_type": "stream",
     "text": [
      "  Fitting model 17 of 50...\n"
     ]
    },
    {
     "name": "stderr",
     "output_type": "stream",
     "text": [
      "Multiprocess sampling (4 chains in 4 jobs)\n",
      "CompoundStep\n",
      ">Metropolis: [tau]\n",
      ">Metropolis: [s]\n",
      ">Metropolis: [gamma]\n",
      ">Metropolis: [v]\n",
      "Sampling 4 chains: 100%|██████████| 40000/40000 [00:25<00:00, 1563.01draws/s]\n",
      "The number of effective samples is smaller than 10% for some parameters.\n"
     ]
    },
    {
     "name": "stdout",
     "output_type": "stream",
     "text": [
      "  Fitting model 18 of 50...\n"
     ]
    },
    {
     "name": "stderr",
     "output_type": "stream",
     "text": [
      "Multiprocess sampling (4 chains in 4 jobs)\n",
      "CompoundStep\n",
      ">Metropolis: [tau]\n",
      ">Metropolis: [s]\n",
      ">Metropolis: [gamma]\n",
      ">Metropolis: [v]\n",
      "Sampling 4 chains: 100%|██████████| 40000/40000 [00:25<00:00, 1556.36draws/s]\n",
      "The number of effective samples is smaller than 10% for some parameters.\n"
     ]
    },
    {
     "name": "stdout",
     "output_type": "stream",
     "text": [
      "  Fitting model 19 of 50...\n"
     ]
    },
    {
     "name": "stderr",
     "output_type": "stream",
     "text": [
      "Multiprocess sampling (4 chains in 4 jobs)\n",
      "CompoundStep\n",
      ">Metropolis: [tau]\n",
      ">Metropolis: [s]\n",
      ">Metropolis: [gamma]\n",
      ">Metropolis: [v]\n",
      "Sampling 4 chains: 100%|██████████| 40000/40000 [00:25<00:00, 1570.00draws/s]\n",
      "The number of effective samples is smaller than 10% for some parameters.\n"
     ]
    },
    {
     "name": "stdout",
     "output_type": "stream",
     "text": [
      "  Fitting model 20 of 50...\n"
     ]
    },
    {
     "name": "stderr",
     "output_type": "stream",
     "text": [
      "Multiprocess sampling (4 chains in 4 jobs)\n",
      "CompoundStep\n",
      ">Metropolis: [tau]\n",
      ">Metropolis: [s]\n",
      ">Metropolis: [gamma]\n",
      ">Metropolis: [v]\n",
      "Sampling 4 chains: 100%|██████████| 40000/40000 [00:25<00:00, 1560.14draws/s]\n",
      "The number of effective samples is smaller than 10% for some parameters.\n"
     ]
    },
    {
     "name": "stdout",
     "output_type": "stream",
     "text": [
      "  Fitting model 21 of 50...\n"
     ]
    },
    {
     "name": "stderr",
     "output_type": "stream",
     "text": [
      "Multiprocess sampling (4 chains in 4 jobs)\n",
      "CompoundStep\n",
      ">Metropolis: [tau]\n",
      ">Metropolis: [s]\n",
      ">Metropolis: [gamma]\n",
      ">Metropolis: [v]\n",
      "Sampling 4 chains: 100%|██████████| 40000/40000 [00:25<00:00, 1563.95draws/s]\n",
      "The number of effective samples is smaller than 10% for some parameters.\n"
     ]
    },
    {
     "name": "stdout",
     "output_type": "stream",
     "text": [
      "  Fitting model 22 of 50...\n"
     ]
    },
    {
     "name": "stderr",
     "output_type": "stream",
     "text": [
      "Multiprocess sampling (4 chains in 4 jobs)\n",
      "CompoundStep\n",
      ">Metropolis: [tau]\n",
      ">Metropolis: [s]\n",
      ">Metropolis: [gamma]\n",
      ">Metropolis: [v]\n",
      "Sampling 4 chains: 100%|██████████| 40000/40000 [00:25<00:00, 1566.20draws/s]\n",
      "The number of effective samples is smaller than 10% for some parameters.\n"
     ]
    },
    {
     "name": "stdout",
     "output_type": "stream",
     "text": [
      "  Fitting model 23 of 50...\n"
     ]
    },
    {
     "name": "stderr",
     "output_type": "stream",
     "text": [
      "Multiprocess sampling (4 chains in 4 jobs)\n",
      "CompoundStep\n",
      ">Metropolis: [tau]\n",
      ">Metropolis: [s]\n",
      ">Metropolis: [gamma]\n",
      ">Metropolis: [v]\n",
      "Sampling 4 chains: 100%|██████████| 40000/40000 [00:25<00:00, 1561.66draws/s]\n",
      "The number of effective samples is smaller than 10% for some parameters.\n"
     ]
    },
    {
     "name": "stdout",
     "output_type": "stream",
     "text": [
      "  Fitting model 24 of 50...\n"
     ]
    },
    {
     "name": "stderr",
     "output_type": "stream",
     "text": [
      "Multiprocess sampling (4 chains in 4 jobs)\n",
      "CompoundStep\n",
      ">Metropolis: [tau]\n",
      ">Metropolis: [s]\n",
      ">Metropolis: [gamma]\n",
      ">Metropolis: [v]\n",
      "Sampling 4 chains: 100%|██████████| 40000/40000 [00:25<00:00, 1552.91draws/s]\n",
      "The number of effective samples is smaller than 10% for some parameters.\n"
     ]
    },
    {
     "name": "stdout",
     "output_type": "stream",
     "text": [
      "  Fitting model 25 of 50...\n"
     ]
    },
    {
     "name": "stderr",
     "output_type": "stream",
     "text": [
      "Multiprocess sampling (4 chains in 4 jobs)\n",
      "CompoundStep\n",
      ">Metropolis: [tau]\n",
      ">Metropolis: [s]\n",
      ">Metropolis: [gamma]\n",
      ">Metropolis: [v]\n",
      "Sampling 4 chains: 100%|██████████| 40000/40000 [00:25<00:00, 1560.58draws/s]\n",
      "The number of effective samples is smaller than 10% for some parameters.\n"
     ]
    },
    {
     "name": "stdout",
     "output_type": "stream",
     "text": [
      "  Fitting model 26 of 50...\n"
     ]
    },
    {
     "name": "stderr",
     "output_type": "stream",
     "text": [
      "Multiprocess sampling (4 chains in 4 jobs)\n",
      "CompoundStep\n",
      ">Metropolis: [tau]\n",
      ">Metropolis: [s]\n",
      ">Metropolis: [gamma]\n",
      ">Metropolis: [v]\n",
      "Sampling 4 chains: 100%|██████████| 40000/40000 [00:25<00:00, 1556.35draws/s]\n",
      "The number of effective samples is smaller than 10% for some parameters.\n"
     ]
    },
    {
     "name": "stdout",
     "output_type": "stream",
     "text": [
      "  Fitting model 27 of 50...\n"
     ]
    },
    {
     "name": "stderr",
     "output_type": "stream",
     "text": [
      "Multiprocess sampling (4 chains in 4 jobs)\n",
      "CompoundStep\n",
      ">Metropolis: [tau]\n",
      ">Metropolis: [s]\n",
      ">Metropolis: [gamma]\n",
      ">Metropolis: [v]\n",
      "Sampling 4 chains: 100%|██████████| 40000/40000 [00:25<00:00, 1566.55draws/s]\n",
      "The number of effective samples is smaller than 10% for some parameters.\n"
     ]
    },
    {
     "name": "stdout",
     "output_type": "stream",
     "text": [
      "  Fitting model 28 of 50...\n"
     ]
    },
    {
     "name": "stderr",
     "output_type": "stream",
     "text": [
      "Multiprocess sampling (4 chains in 4 jobs)\n",
      "CompoundStep\n",
      ">Metropolis: [tau]\n",
      ">Metropolis: [s]\n",
      ">Metropolis: [gamma]\n",
      ">Metropolis: [v]\n",
      "Sampling 4 chains: 100%|██████████| 40000/40000 [00:25<00:00, 1553.59draws/s]\n",
      "The number of effective samples is smaller than 10% for some parameters.\n"
     ]
    },
    {
     "name": "stdout",
     "output_type": "stream",
     "text": [
      "  Fitting model 29 of 50...\n"
     ]
    },
    {
     "name": "stderr",
     "output_type": "stream",
     "text": [
      "Multiprocess sampling (4 chains in 4 jobs)\n",
      "CompoundStep\n",
      ">Metropolis: [tau]\n",
      ">Metropolis: [s]\n",
      ">Metropolis: [gamma]\n",
      ">Metropolis: [v]\n",
      "Sampling 4 chains: 100%|██████████| 40000/40000 [00:25<00:00, 1557.54draws/s]\n",
      "The number of effective samples is smaller than 10% for some parameters.\n"
     ]
    },
    {
     "name": "stdout",
     "output_type": "stream",
     "text": [
      "  Fitting model 30 of 50...\n"
     ]
    },
    {
     "name": "stderr",
     "output_type": "stream",
     "text": [
      "Multiprocess sampling (4 chains in 4 jobs)\n",
      "CompoundStep\n",
      ">Metropolis: [tau]\n",
      ">Metropolis: [s]\n",
      ">Metropolis: [gamma]\n",
      ">Metropolis: [v]\n",
      "Sampling 4 chains: 100%|██████████| 40000/40000 [00:25<00:00, 1563.79draws/s]\n",
      "The number of effective samples is smaller than 10% for some parameters.\n"
     ]
    },
    {
     "name": "stdout",
     "output_type": "stream",
     "text": [
      "  Fitting model 31 of 50...\n"
     ]
    },
    {
     "name": "stderr",
     "output_type": "stream",
     "text": [
      "Multiprocess sampling (4 chains in 4 jobs)\n",
      "CompoundStep\n",
      ">Metropolis: [tau]\n",
      ">Metropolis: [s]\n",
      ">Metropolis: [gamma]\n",
      ">Metropolis: [v]\n",
      "Sampling 4 chains: 100%|██████████| 40000/40000 [00:25<00:00, 1568.28draws/s]\n",
      "The number of effective samples is smaller than 10% for some parameters.\n"
     ]
    },
    {
     "name": "stdout",
     "output_type": "stream",
     "text": [
      "  Fitting model 32 of 50...\n"
     ]
    },
    {
     "name": "stderr",
     "output_type": "stream",
     "text": [
      "Multiprocess sampling (4 chains in 4 jobs)\n",
      "CompoundStep\n",
      ">Metropolis: [tau]\n",
      ">Metropolis: [s]\n",
      ">Metropolis: [gamma]\n",
      ">Metropolis: [v]\n",
      "Sampling 4 chains: 100%|██████████| 40000/40000 [00:25<00:00, 1554.32draws/s]\n",
      "The number of effective samples is smaller than 10% for some parameters.\n"
     ]
    },
    {
     "name": "stdout",
     "output_type": "stream",
     "text": [
      "  Fitting model 33 of 50...\n"
     ]
    },
    {
     "name": "stderr",
     "output_type": "stream",
     "text": [
      "Multiprocess sampling (4 chains in 4 jobs)\n",
      "CompoundStep\n",
      ">Metropolis: [tau]\n",
      ">Metropolis: [s]\n",
      ">Metropolis: [gamma]\n",
      ">Metropolis: [v]\n",
      "Sampling 4 chains: 100%|██████████| 40000/40000 [00:25<00:00, 1569.20draws/s]\n",
      "The number of effective samples is smaller than 10% for some parameters.\n"
     ]
    },
    {
     "name": "stdout",
     "output_type": "stream",
     "text": [
      "  Fitting model 34 of 50...\n"
     ]
    },
    {
     "name": "stderr",
     "output_type": "stream",
     "text": [
      "Multiprocess sampling (4 chains in 4 jobs)\n",
      "CompoundStep\n",
      ">Metropolis: [tau]\n",
      ">Metropolis: [s]\n",
      ">Metropolis: [gamma]\n",
      ">Metropolis: [v]\n",
      "Sampling 4 chains: 100%|██████████| 40000/40000 [00:25<00:00, 1570.34draws/s]\n",
      "The number of effective samples is smaller than 10% for some parameters.\n"
     ]
    },
    {
     "name": "stdout",
     "output_type": "stream",
     "text": [
      "  Fitting model 35 of 50...\n"
     ]
    },
    {
     "name": "stderr",
     "output_type": "stream",
     "text": [
      "Multiprocess sampling (4 chains in 4 jobs)\n",
      "CompoundStep\n",
      ">Metropolis: [tau]\n",
      ">Metropolis: [s]\n",
      ">Metropolis: [gamma]\n",
      ">Metropolis: [v]\n",
      "Sampling 4 chains: 100%|██████████| 40000/40000 [00:25<00:00, 1561.12draws/s]\n",
      "The number of effective samples is smaller than 10% for some parameters.\n"
     ]
    },
    {
     "name": "stdout",
     "output_type": "stream",
     "text": [
      "  Fitting model 36 of 50...\n"
     ]
    },
    {
     "name": "stderr",
     "output_type": "stream",
     "text": [
      "Multiprocess sampling (4 chains in 4 jobs)\n",
      "CompoundStep\n",
      ">Metropolis: [tau]\n",
      ">Metropolis: [s]\n",
      ">Metropolis: [gamma]\n",
      ">Metropolis: [v]\n",
      "Sampling 4 chains: 100%|██████████| 40000/40000 [00:25<00:00, 1553.34draws/s]\n",
      "The number of effective samples is smaller than 10% for some parameters.\n"
     ]
    },
    {
     "name": "stdout",
     "output_type": "stream",
     "text": [
      "  Fitting model 37 of 50...\n"
     ]
    },
    {
     "name": "stderr",
     "output_type": "stream",
     "text": [
      "Multiprocess sampling (4 chains in 4 jobs)\n",
      "CompoundStep\n",
      ">Metropolis: [tau]\n",
      ">Metropolis: [s]\n",
      ">Metropolis: [gamma]\n",
      ">Metropolis: [v]\n",
      "Sampling 4 chains: 100%|██████████| 40000/40000 [00:25<00:00, 1558.02draws/s]\n",
      "The number of effective samples is smaller than 10% for some parameters.\n"
     ]
    },
    {
     "name": "stdout",
     "output_type": "stream",
     "text": [
      "  Fitting model 38 of 50...\n"
     ]
    },
    {
     "name": "stderr",
     "output_type": "stream",
     "text": [
      "Multiprocess sampling (4 chains in 4 jobs)\n",
      "CompoundStep\n",
      ">Metropolis: [tau]\n",
      ">Metropolis: [s]\n",
      ">Metropolis: [gamma]\n",
      ">Metropolis: [v]\n",
      "Sampling 4 chains: 100%|██████████| 40000/40000 [00:25<00:00, 1563.34draws/s]\n",
      "The number of effective samples is smaller than 10% for some parameters.\n"
     ]
    },
    {
     "name": "stdout",
     "output_type": "stream",
     "text": [
      "  Fitting model 39 of 50...\n"
     ]
    },
    {
     "name": "stderr",
     "output_type": "stream",
     "text": [
      "Multiprocess sampling (4 chains in 4 jobs)\n",
      "CompoundStep\n",
      ">Metropolis: [tau]\n",
      ">Metropolis: [s]\n",
      ">Metropolis: [gamma]\n",
      ">Metropolis: [v]\n",
      "Sampling 4 chains: 100%|██████████| 40000/40000 [00:25<00:00, 1542.10draws/s]\n",
      "The number of effective samples is smaller than 10% for some parameters.\n"
     ]
    },
    {
     "name": "stdout",
     "output_type": "stream",
     "text": [
      "  Fitting model 40 of 50...\n"
     ]
    },
    {
     "name": "stderr",
     "output_type": "stream",
     "text": [
      "Multiprocess sampling (4 chains in 4 jobs)\n",
      "CompoundStep\n",
      ">Metropolis: [tau]\n",
      ">Metropolis: [s]\n",
      ">Metropolis: [gamma]\n",
      ">Metropolis: [v]\n",
      "Sampling 4 chains: 100%|██████████| 40000/40000 [00:25<00:00, 1560.83draws/s]\n",
      "The number of effective samples is smaller than 10% for some parameters.\n"
     ]
    },
    {
     "name": "stdout",
     "output_type": "stream",
     "text": [
      "  Fitting model 41 of 50...\n"
     ]
    },
    {
     "name": "stderr",
     "output_type": "stream",
     "text": [
      "Multiprocess sampling (4 chains in 4 jobs)\n",
      "CompoundStep\n",
      ">Metropolis: [tau]\n",
      ">Metropolis: [s]\n",
      ">Metropolis: [gamma]\n",
      ">Metropolis: [v]\n",
      "Sampling 4 chains: 100%|██████████| 40000/40000 [00:25<00:00, 1553.32draws/s]\n",
      "The number of effective samples is smaller than 10% for some parameters.\n"
     ]
    },
    {
     "name": "stdout",
     "output_type": "stream",
     "text": [
      "  Fitting model 42 of 50...\n"
     ]
    },
    {
     "name": "stderr",
     "output_type": "stream",
     "text": [
      "Multiprocess sampling (4 chains in 4 jobs)\n",
      "CompoundStep\n",
      ">Metropolis: [tau]\n",
      ">Metropolis: [s]\n",
      ">Metropolis: [gamma]\n",
      ">Metropolis: [v]\n",
      "Sampling 4 chains: 100%|██████████| 40000/40000 [00:25<00:00, 1553.20draws/s]\n",
      "The number of effective samples is smaller than 10% for some parameters.\n"
     ]
    },
    {
     "name": "stdout",
     "output_type": "stream",
     "text": [
      "  Fitting model 43 of 50...\n"
     ]
    },
    {
     "name": "stderr",
     "output_type": "stream",
     "text": [
      "Multiprocess sampling (4 chains in 4 jobs)\n",
      "CompoundStep\n",
      ">Metropolis: [tau]\n",
      ">Metropolis: [s]\n",
      ">Metropolis: [gamma]\n",
      ">Metropolis: [v]\n",
      "Sampling 4 chains: 100%|██████████| 40000/40000 [00:25<00:00, 1560.93draws/s]\n",
      "The number of effective samples is smaller than 10% for some parameters.\n"
     ]
    },
    {
     "name": "stdout",
     "output_type": "stream",
     "text": [
      "  Fitting model 44 of 50...\n"
     ]
    },
    {
     "name": "stderr",
     "output_type": "stream",
     "text": [
      "Multiprocess sampling (4 chains in 4 jobs)\n",
      "CompoundStep\n",
      ">Metropolis: [tau]\n",
      ">Metropolis: [s]\n",
      ">Metropolis: [gamma]\n",
      ">Metropolis: [v]\n",
      "Sampling 4 chains: 100%|██████████| 40000/40000 [00:25<00:00, 1548.25draws/s]\n",
      "The number of effective samples is smaller than 10% for some parameters.\n"
     ]
    },
    {
     "name": "stdout",
     "output_type": "stream",
     "text": [
      "  Fitting model 45 of 50...\n"
     ]
    },
    {
     "name": "stderr",
     "output_type": "stream",
     "text": [
      "Multiprocess sampling (4 chains in 4 jobs)\n",
      "CompoundStep\n",
      ">Metropolis: [tau]\n",
      ">Metropolis: [s]\n",
      ">Metropolis: [gamma]\n",
      ">Metropolis: [v]\n",
      "Sampling 4 chains: 100%|██████████| 40000/40000 [00:25<00:00, 1560.16draws/s]\n",
      "The number of effective samples is smaller than 10% for some parameters.\n"
     ]
    },
    {
     "name": "stdout",
     "output_type": "stream",
     "text": [
      "  Fitting model 46 of 50...\n"
     ]
    },
    {
     "name": "stderr",
     "output_type": "stream",
     "text": [
      "Multiprocess sampling (4 chains in 4 jobs)\n",
      "CompoundStep\n",
      ">Metropolis: [tau]\n",
      ">Metropolis: [s]\n",
      ">Metropolis: [gamma]\n",
      ">Metropolis: [v]\n",
      "Sampling 4 chains: 100%|██████████| 40000/40000 [00:25<00:00, 1553.44draws/s]\n",
      "The number of effective samples is smaller than 10% for some parameters.\n"
     ]
    },
    {
     "name": "stdout",
     "output_type": "stream",
     "text": [
      "  Fitting model 47 of 50...\n"
     ]
    },
    {
     "name": "stderr",
     "output_type": "stream",
     "text": [
      "Multiprocess sampling (4 chains in 4 jobs)\n",
      "CompoundStep\n",
      ">Metropolis: [tau]\n",
      ">Metropolis: [s]\n",
      ">Metropolis: [gamma]\n",
      ">Metropolis: [v]\n",
      "Sampling 4 chains: 100%|██████████| 40000/40000 [00:25<00:00, 1560.74draws/s]\n",
      "The number of effective samples is smaller than 10% for some parameters.\n"
     ]
    },
    {
     "name": "stdout",
     "output_type": "stream",
     "text": [
      "  Fitting model 48 of 50...\n"
     ]
    },
    {
     "name": "stderr",
     "output_type": "stream",
     "text": [
      "Multiprocess sampling (4 chains in 4 jobs)\n",
      "CompoundStep\n",
      ">Metropolis: [tau]\n",
      ">Metropolis: [s]\n",
      ">Metropolis: [gamma]\n",
      ">Metropolis: [v]\n",
      "Sampling 4 chains: 100%|██████████| 40000/40000 [00:25<00:00, 1551.70draws/s]\n",
      "The number of effective samples is smaller than 10% for some parameters.\n"
     ]
    },
    {
     "name": "stdout",
     "output_type": "stream",
     "text": [
      "  Fitting model 49 of 50...\n"
     ]
    },
    {
     "name": "stderr",
     "output_type": "stream",
     "text": [
      "Multiprocess sampling (4 chains in 4 jobs)\n",
      "CompoundStep\n",
      ">Metropolis: [tau]\n",
      ">Metropolis: [s]\n",
      ">Metropolis: [gamma]\n",
      ">Metropolis: [v]\n",
      "Sampling 4 chains: 100%|██████████| 40000/40000 [00:25<00:00, 1545.05draws/s]\n",
      "The number of effective samples is smaller than 10% for some parameters.\n"
     ]
    },
    {
     "name": "stdout",
     "output_type": "stream",
     "text": [
      "  Fitting model 50 of 50...\n"
     ]
    },
    {
     "name": "stderr",
     "output_type": "stream",
     "text": [
      "Multiprocess sampling (4 chains in 4 jobs)\n",
      "CompoundStep\n",
      ">Metropolis: [tau]\n",
      ">Metropolis: [s]\n",
      ">Metropolis: [gamma]\n",
      ">Metropolis: [v]\n",
      "Sampling 4 chains: 100%|██████████| 40000/40000 [00:25<00:00, 1559.15draws/s]\n",
      "The number of effective samples is smaller than 10% for some parameters.\n"
     ]
    },
    {
     "name": "stdout",
     "output_type": "stream",
     "text": [
      "/!\\ Automatically setting parameter precision...\n"
     ]
    }
   ],
   "source": [
    "glam = gb.GLAM(data=data)\n",
    "glam.make_model(kind='individual')\n",
    "glam.fit(method='MCMC', draws=5000, tune=5000, chains=4)"
   ]
  },
  {
   "cell_type": "markdown",
   "metadata": {},
   "source": [
    "The next step is to create a synthetic, model-generated data set using the model parameters estimated from the empirical data, together with the empirically observed stimulus and gaze data. Setting`n_repeats` to 1 results in a data set of the same size as the observed one:"
   ]
  },
  {
   "cell_type": "code",
   "execution_count": 5,
   "metadata": {},
   "outputs": [
    {
     "name": "stderr",
     "output_type": "stream",
     "text": [
      "  0%|          | 9/10000 [00:00<02:00, 83.09it/s]"
     ]
    },
    {
     "name": "stdout",
     "output_type": "stream",
     "text": [
      "Generating predictions for 10000 trials (1 repeats each)...\n"
     ]
    },
    {
     "name": "stderr",
     "output_type": "stream",
     "text": [
      "100%|██████████| 10000/10000 [02:02<00:00, 81.63it/s]\n"
     ]
    }
   ],
   "source": [
    "glam.predict(n_repeats=1)\n",
    "synthetic = glam.prediction"
   ]
  },
  {
   "cell_type": "code",
   "execution_count": 6,
   "metadata": {},
   "outputs": [],
   "source": [
    "synthetic.to_csv(join('examples', 'example_3', 'data', 'synthetic.csv'), index=False)"
   ]
  },
  {
   "cell_type": "code",
   "execution_count": 16,
   "metadata": {},
   "outputs": [],
   "source": [
    "# For this synthetic dataset, we know the generating parameters:\n",
    "true_parameters = {parameter: glam.estimates[parameter].values\n",
    "                   for parameter in ['v', 'gamma', 's', 'tau']}\n",
    "\n",
    "# Save these generating parameters\n",
    "true_param_df = pd.DataFrame(true_parameters)\n",
    "true_param_df['subject'] = range(50)\n",
    "true_param_df.to_csv(join('examples', 'example_3', 'results', 'true_parameters.csv'), index=False)"
   ]
  },
  {
   "cell_type": "markdown",
   "metadata": {},
   "source": [
    "This data set should resemble the empirically observed data closely. Next, we create a new model instance, attach the synthetic data, build a hierarchical model and re-estimate its parameters:"
   ]
  },
  {
   "cell_type": "code",
   "execution_count": 8,
   "metadata": {},
   "outputs": [
    {
     "name": "stderr",
     "output_type": "stream",
     "text": [
      "/Users/felixmolter/anaconda3/lib/python3.7/site-packages/numpy/core/fromnumeric.py:2389: FutureWarning: Method .ptp is deprecated and will be removed in a future version. Use numpy.ptp instead.\n",
      "  return ptp(axis=axis, out=out, **kwargs)\n",
      "/Users/felixmolter/anaconda3/lib/python3.7/site-packages/numpy/core/fromnumeric.py:2389: FutureWarning: Method .ptp is deprecated and will be removed in a future version. Use numpy.ptp instead.\n",
      "  return ptp(axis=axis, out=out, **kwargs)\n"
     ]
    },
    {
     "data": {
      "image/png": "[encoded data removed]",
      "text/plain": [
       "<Figure size 864x216 with 4 Axes>"
      ]
     },
     "metadata": {
      "needs_background": "light"
     },
     "output_type": "display_data"
    }
   ],
   "source": [
    "gb.plots.plot_aggregate(data, line_data=[synthetic], line_labels=['Synthetic Data'])\n",
    "plt.savefig(join('examples', 'example_3', 'figures', 'ex3_fig1_data-vs-synthetic.png'), dpi=300)"
   ]
  },
  {
   "cell_type": "code",
   "execution_count": 9,
   "metadata": {
    "scrolled": true
   },
   "outputs": [
    {
     "name": "stdout",
     "output_type": "stream",
     "text": [
      "Generating single subject models for 50 subjects...\n"
     ]
    },
    {
     "name": "stderr",
     "output_type": "stream",
     "text": [
      "/Users/felixmolter/anaconda3/lib/python3.7/site-packages/theano/tensor/subtensor.py:2197: FutureWarning: Using a non-tuple sequence for multidimensional indexing is deprecated; use `arr[tuple(seq)]` instead of `arr[seq]`. In the future this will be interpreted as an array index, `arr[np.array(seq)]`, which will result either in an error or a different result.\n",
      "  rval = inputs[0].__getitem__(inputs[1:])\n"
     ]
    },
    {
     "name": "stdout",
     "output_type": "stream",
     "text": [
      "Fitting 50 model(s) using MCMC...\n",
      "  Fitting model 1 of 50...\n"
     ]
    },
    {
     "name": "stderr",
     "output_type": "stream",
     "text": [
      "Multiprocess sampling (4 chains in 4 jobs)\n",
      "CompoundStep\n",
      ">Metropolis: [tau]\n",
      ">Metropolis: [s]\n",
      ">Metropolis: [gamma]\n",
      ">Metropolis: [v]\n",
      "Sampling 4 chains: 100%|██████████| 40000/40000 [00:25<00:00, 1562.40draws/s]\n",
      "The number of effective samples is smaller than 10% for some parameters.\n"
     ]
    },
    {
     "name": "stdout",
     "output_type": "stream",
     "text": [
      "  Fitting model 2 of 50...\n"
     ]
    },
    {
     "name": "stderr",
     "output_type": "stream",
     "text": [
      "Multiprocess sampling (4 chains in 4 jobs)\n",
      "CompoundStep\n",
      ">Metropolis: [tau]\n",
      ">Metropolis: [s]\n",
      ">Metropolis: [gamma]\n",
      ">Metropolis: [v]\n",
      "Sampling 4 chains: 100%|██████████| 40000/40000 [00:25<00:00, 1564.16draws/s]\n",
      "The number of effective samples is smaller than 10% for some parameters.\n"
     ]
    },
    {
     "name": "stdout",
     "output_type": "stream",
     "text": [
      "  Fitting model 3 of 50...\n"
     ]
    },
    {
     "name": "stderr",
     "output_type": "stream",
     "text": [
      "Multiprocess sampling (4 chains in 4 jobs)\n",
      "CompoundStep\n",
      ">Metropolis: [tau]\n",
      ">Metropolis: [s]\n",
      ">Metropolis: [gamma]\n",
      ">Metropolis: [v]\n",
      "Sampling 4 chains: 100%|██████████| 40000/40000 [00:25<00:00, 1570.05draws/s]\n",
      "The number of effective samples is smaller than 10% for some parameters.\n"
     ]
    },
    {
     "name": "stdout",
     "output_type": "stream",
     "text": [
      "  Fitting model 4 of 50...\n"
     ]
    },
    {
     "name": "stderr",
     "output_type": "stream",
     "text": [
      "Multiprocess sampling (4 chains in 4 jobs)\n",
      "CompoundStep\n",
      ">Metropolis: [tau]\n",
      ">Metropolis: [s]\n",
      ">Metropolis: [gamma]\n",
      ">Metropolis: [v]\n",
      "Sampling 4 chains: 100%|██████████| 40000/40000 [00:25<00:00, 1560.68draws/s]\n",
      "The number of effective samples is smaller than 10% for some parameters.\n"
     ]
    },
    {
     "name": "stdout",
     "output_type": "stream",
     "text": [
      "  Fitting model 5 of 50...\n"
     ]
    },
    {
     "name": "stderr",
     "output_type": "stream",
     "text": [
      "Multiprocess sampling (4 chains in 4 jobs)\n",
      "CompoundStep\n",
      ">Metropolis: [tau]\n",
      ">Metropolis: [s]\n",
      ">Metropolis: [gamma]\n",
      ">Metropolis: [v]\n",
      "Sampling 4 chains: 100%|██████████| 40000/40000 [00:25<00:00, 1557.15draws/s]\n",
      "The number of effective samples is smaller than 10% for some parameters.\n"
     ]
    },
    {
     "name": "stdout",
     "output_type": "stream",
     "text": [
      "  Fitting model 6 of 50...\n"
     ]
    },
    {
     "name": "stderr",
     "output_type": "stream",
     "text": [
      "Multiprocess sampling (4 chains in 4 jobs)\n",
      "CompoundStep\n",
      ">Metropolis: [tau]\n",
      ">Metropolis: [s]\n",
      ">Metropolis: [gamma]\n",
      ">Metropolis: [v]\n",
      "Sampling 4 chains: 100%|██████████| 40000/40000 [00:25<00:00, 1568.93draws/s]\n",
      "The number of effective samples is smaller than 10% for some parameters.\n"
     ]
    },
    {
     "name": "stdout",
     "output_type": "stream",
     "text": [
      "  Fitting model 7 of 50...\n"
     ]
    },
    {
     "name": "stderr",
     "output_type": "stream",
     "text": [
      "Multiprocess sampling (4 chains in 4 jobs)\n",
      "CompoundStep\n",
      ">Metropolis: [tau]\n",
      ">Metropolis: [s]\n",
      ">Metropolis: [gamma]\n",
      ">Metropolis: [v]\n",
      "Sampling 4 chains: 100%|██████████| 40000/40000 [00:25<00:00, 1560.10draws/s]\n",
      "The number of effective samples is smaller than 10% for some parameters.\n"
     ]
    },
    {
     "name": "stdout",
     "output_type": "stream",
     "text": [
      "  Fitting model 8 of 50...\n"
     ]
    },
    {
     "name": "stderr",
     "output_type": "stream",
     "text": [
      "Multiprocess sampling (4 chains in 4 jobs)\n",
      "CompoundStep\n",
      ">Metropolis: [tau]\n",
      ">Metropolis: [s]\n",
      ">Metropolis: [gamma]\n",
      ">Metropolis: [v]\n",
      "Sampling 4 chains: 100%|██████████| 40000/40000 [00:25<00:00, 1559.56draws/s]\n",
      "The number of effective samples is smaller than 10% for some parameters.\n"
     ]
    },
    {
     "name": "stdout",
     "output_type": "stream",
     "text": [
      "  Fitting model 9 of 50...\n"
     ]
    },
    {
     "name": "stderr",
     "output_type": "stream",
     "text": [
      "Multiprocess sampling (4 chains in 4 jobs)\n",
      "CompoundStep\n",
      ">Metropolis: [tau]\n",
      ">Metropolis: [s]\n",
      ">Metropolis: [gamma]\n",
      ">Metropolis: [v]\n",
      "Sampling 4 chains: 100%|██████████| 40000/40000 [00:25<00:00, 1553.59draws/s]\n",
      "The number of effective samples is smaller than 10% for some parameters.\n"
     ]
    },
    {
     "name": "stdout",
     "output_type": "stream",
     "text": [
      "  Fitting model 10 of 50...\n"
     ]
    },
    {
     "name": "stderr",
     "output_type": "stream",
     "text": [
      "Multiprocess sampling (4 chains in 4 jobs)\n",
      "CompoundStep\n",
      ">Metropolis: [tau]\n",
      ">Metropolis: [s]\n",
      ">Metropolis: [gamma]\n",
      ">Metropolis: [v]\n",
      "Sampling 4 chains: 100%|██████████| 40000/40000 [00:25<00:00, 1554.78draws/s]\n",
      "The number of effective samples is smaller than 10% for some parameters.\n"
     ]
    },
    {
     "name": "stdout",
     "output_type": "stream",
     "text": [
      "  Fitting model 11 of 50...\n"
     ]
    },
    {
     "name": "stderr",
     "output_type": "stream",
     "text": [
      "Multiprocess sampling (4 chains in 4 jobs)\n",
      "CompoundStep\n",
      ">Metropolis: [tau]\n",
      ">Metropolis: [s]\n",
      ">Metropolis: [gamma]\n",
      ">Metropolis: [v]\n",
      "Sampling 4 chains: 100%|██████████| 40000/40000 [00:25<00:00, 1548.41draws/s]\n",
      "The number of effective samples is smaller than 10% for some parameters.\n"
     ]
    },
    {
     "name": "stdout",
     "output_type": "stream",
     "text": [
      "  Fitting model 12 of 50...\n"
     ]
    },
    {
     "name": "stderr",
     "output_type": "stream",
     "text": [
      "Multiprocess sampling (4 chains in 4 jobs)\n",
      "CompoundStep\n",
      ">Metropolis: [tau]\n",
      ">Metropolis: [s]\n",
      ">Metropolis: [gamma]\n",
      ">Metropolis: [v]\n",
      "Sampling 4 chains: 100%|██████████| 40000/40000 [00:25<00:00, 1560.30draws/s]\n",
      "The number of effective samples is smaller than 10% for some parameters.\n"
     ]
    },
    {
     "name": "stdout",
     "output_type": "stream",
     "text": [
      "  Fitting model 13 of 50...\n"
     ]
    },
    {
     "name": "stderr",
     "output_type": "stream",
     "text": [
      "Multiprocess sampling (4 chains in 4 jobs)\n",
      "CompoundStep\n",
      ">Metropolis: [tau]\n",
      ">Metropolis: [s]\n",
      ">Metropolis: [gamma]\n",
      ">Metropolis: [v]\n",
      "Sampling 4 chains: 100%|██████████| 40000/40000 [00:25<00:00, 1539.49draws/s]\n",
      "The number of effective samples is smaller than 10% for some parameters.\n"
     ]
    },
    {
     "name": "stdout",
     "output_type": "stream",
     "text": [
      "  Fitting model 14 of 50...\n"
     ]
    },
    {
     "name": "stderr",
     "output_type": "stream",
     "text": [
      "Multiprocess sampling (4 chains in 4 jobs)\n",
      "CompoundStep\n",
      ">Metropolis: [tau]\n",
      ">Metropolis: [s]\n",
      ">Metropolis: [gamma]\n",
      ">Metropolis: [v]\n",
      "Sampling 4 chains: 100%|██████████| 40000/40000 [00:25<00:00, 1555.80draws/s]\n",
      "The number of effective samples is smaller than 10% for some parameters.\n"
     ]
    },
    {
     "name": "stdout",
     "output_type": "stream",
     "text": [
      "  Fitting model 15 of 50...\n"
     ]
    },
    {
     "name": "stderr",
     "output_type": "stream",
     "text": [
      "Multiprocess sampling (4 chains in 4 jobs)\n",
      "CompoundStep\n",
      ">Metropolis: [tau]\n",
      ">Metropolis: [s]\n",
      ">Metropolis: [gamma]\n",
      ">Metropolis: [v]\n",
      "Sampling 4 chains: 100%|██████████| 40000/40000 [00:25<00:00, 1553.58draws/s]\n",
      "The number of effective samples is smaller than 10% for some parameters.\n"
     ]
    },
    {
     "name": "stdout",
     "output_type": "stream",
     "text": [
      "  Fitting model 16 of 50...\n"
     ]
    },
    {
     "name": "stderr",
     "output_type": "stream",
     "text": [
      "Multiprocess sampling (4 chains in 4 jobs)\n",
      "CompoundStep\n",
      ">Metropolis: [tau]\n",
      ">Metropolis: [s]\n",
      ">Metropolis: [gamma]\n",
      ">Metropolis: [v]\n",
      "Sampling 4 chains: 100%|██████████| 40000/40000 [00:25<00:00, 1552.41draws/s]\n",
      "The number of effective samples is smaller than 10% for some parameters.\n"
     ]
    },
    {
     "name": "stdout",
     "output_type": "stream",
     "text": [
      "  Fitting model 17 of 50...\n"
     ]
    },
    {
     "name": "stderr",
     "output_type": "stream",
     "text": [
      "Multiprocess sampling (4 chains in 4 jobs)\n",
      "CompoundStep\n",
      ">Metropolis: [tau]\n",
      ">Metropolis: [s]\n",
      ">Metropolis: [gamma]\n",
      ">Metropolis: [v]\n",
      "Sampling 4 chains: 100%|██████████| 40000/40000 [00:25<00:00, 1560.88draws/s]\n",
      "The number of effective samples is smaller than 10% for some parameters.\n"
     ]
    },
    {
     "name": "stdout",
     "output_type": "stream",
     "text": [
      "  Fitting model 18 of 50...\n"
     ]
    },
    {
     "name": "stderr",
     "output_type": "stream",
     "text": [
      "Multiprocess sampling (4 chains in 4 jobs)\n",
      "CompoundStep\n",
      ">Metropolis: [tau]\n",
      ">Metropolis: [s]\n",
      ">Metropolis: [gamma]\n",
      ">Metropolis: [v]\n",
      "Sampling 4 chains: 100%|██████████| 40000/40000 [00:25<00:00, 1554.76draws/s]\n",
      "The number of effective samples is smaller than 10% for some parameters.\n"
     ]
    },
    {
     "name": "stdout",
     "output_type": "stream",
     "text": [
      "  Fitting model 19 of 50...\n"
     ]
    },
    {
     "name": "stderr",
     "output_type": "stream",
     "text": [
      "Multiprocess sampling (4 chains in 4 jobs)\n",
      "CompoundStep\n",
      ">Metropolis: [tau]\n",
      ">Metropolis: [s]\n",
      ">Metropolis: [gamma]\n",
      ">Metropolis: [v]\n",
      "Sampling 4 chains: 100%|██████████| 40000/40000 [00:25<00:00, 1557.87draws/s]\n",
      "The number of effective samples is smaller than 10% for some parameters.\n"
     ]
    },
    {
     "name": "stdout",
     "output_type": "stream",
     "text": [
      "  Fitting model 20 of 50...\n"
     ]
    },
    {
     "name": "stderr",
     "output_type": "stream",
     "text": [
      "Multiprocess sampling (4 chains in 4 jobs)\n",
      "CompoundStep\n",
      ">Metropolis: [tau]\n",
      ">Metropolis: [s]\n",
      ">Metropolis: [gamma]\n",
      ">Metropolis: [v]\n",
      "Sampling 4 chains: 100%|██████████| 40000/40000 [00:25<00:00, 1556.20draws/s]\n",
      "The number of effective samples is smaller than 10% for some parameters.\n"
     ]
    },
    {
     "name": "stdout",
     "output_type": "stream",
     "text": [
      "  Fitting model 21 of 50...\n"
     ]
    },
    {
     "name": "stderr",
     "output_type": "stream",
     "text": [
      "Multiprocess sampling (4 chains in 4 jobs)\n",
      "CompoundStep\n",
      ">Metropolis: [tau]\n",
      ">Metropolis: [s]\n",
      ">Metropolis: [gamma]\n",
      ">Metropolis: [v]\n",
      "Sampling 4 chains: 100%|██████████| 40000/40000 [00:26<00:00, 1529.04draws/s]\n",
      "The number of effective samples is smaller than 10% for some parameters.\n"
     ]
    },
    {
     "name": "stdout",
     "output_type": "stream",
     "text": [
      "  Fitting model 22 of 50...\n"
     ]
    },
    {
     "name": "stderr",
     "output_type": "stream",
     "text": [
      "Multiprocess sampling (4 chains in 4 jobs)\n",
      "CompoundStep\n",
      ">Metropolis: [tau]\n",
      ">Metropolis: [s]\n",
      ">Metropolis: [gamma]\n",
      ">Metropolis: [v]\n",
      "Sampling 4 chains: 100%|██████████| 40000/40000 [00:25<00:00, 1548.81draws/s]\n",
      "The number of effective samples is smaller than 10% for some parameters.\n"
     ]
    },
    {
     "name": "stdout",
     "output_type": "stream",
     "text": [
      "  Fitting model 23 of 50...\n"
     ]
    },
    {
     "name": "stderr",
     "output_type": "stream",
     "text": [
      "Multiprocess sampling (4 chains in 4 jobs)\n",
      "CompoundStep\n",
      ">Metropolis: [tau]\n",
      ">Metropolis: [s]\n",
      ">Metropolis: [gamma]\n",
      ">Metropolis: [v]\n",
      "Sampling 4 chains: 100%|██████████| 40000/40000 [00:25<00:00, 1554.13draws/s]\n",
      "The number of effective samples is smaller than 10% for some parameters.\n"
     ]
    },
    {
     "name": "stdout",
     "output_type": "stream",
     "text": [
      "  Fitting model 24 of 50...\n"
     ]
    },
    {
     "name": "stderr",
     "output_type": "stream",
     "text": [
      "Multiprocess sampling (4 chains in 4 jobs)\n",
      "CompoundStep\n",
      ">Metropolis: [tau]\n",
      ">Metropolis: [s]\n",
      ">Metropolis: [gamma]\n",
      ">Metropolis: [v]\n",
      "Sampling 4 chains: 100%|██████████| 40000/40000 [00:25<00:00, 1549.21draws/s]\n",
      "The number of effective samples is smaller than 10% for some parameters.\n"
     ]
    },
    {
     "name": "stdout",
     "output_type": "stream",
     "text": [
      "  Fitting model 25 of 50...\n"
     ]
    },
    {
     "name": "stderr",
     "output_type": "stream",
     "text": [
      "Multiprocess sampling (4 chains in 4 jobs)\n",
      "CompoundStep\n",
      ">Metropolis: [tau]\n",
      ">Metropolis: [s]\n",
      ">Metropolis: [gamma]\n",
      ">Metropolis: [v]\n",
      "Sampling 4 chains: 100%|██████████| 40000/40000 [00:25<00:00, 1546.07draws/s]\n",
      "The number of effective samples is smaller than 10% for some parameters.\n"
     ]
    },
    {
     "name": "stdout",
     "output_type": "stream",
     "text": [
      "  Fitting model 26 of 50...\n"
     ]
    },
    {
     "name": "stderr",
     "output_type": "stream",
     "text": [
      "Multiprocess sampling (4 chains in 4 jobs)\n",
      "CompoundStep\n",
      ">Metropolis: [tau]\n",
      ">Metropolis: [s]\n",
      ">Metropolis: [gamma]\n",
      ">Metropolis: [v]\n",
      "Sampling 4 chains: 100%|██████████| 40000/40000 [00:25<00:00, 1544.18draws/s]\n",
      "The number of effective samples is smaller than 10% for some parameters.\n"
     ]
    },
    {
     "name": "stdout",
     "output_type": "stream",
     "text": [
      "  Fitting model 27 of 50...\n"
     ]
    },
    {
     "name": "stderr",
     "output_type": "stream",
     "text": [
      "Multiprocess sampling (4 chains in 4 jobs)\n",
      "CompoundStep\n",
      ">Metropolis: [tau]\n",
      ">Metropolis: [s]\n",
      ">Metropolis: [gamma]\n",
      ">Metropolis: [v]\n",
      "Sampling 4 chains: 100%|██████████| 40000/40000 [00:25<00:00, 1546.92draws/s]\n",
      "The number of effective samples is smaller than 10% for some parameters.\n"
     ]
    },
    {
     "name": "stdout",
     "output_type": "stream",
     "text": [
      "  Fitting model 28 of 50...\n"
     ]
    },
    {
     "name": "stderr",
     "output_type": "stream",
     "text": [
      "Multiprocess sampling (4 chains in 4 jobs)\n",
      "CompoundStep\n",
      ">Metropolis: [tau]\n",
      ">Metropolis: [s]\n",
      ">Metropolis: [gamma]\n",
      ">Metropolis: [v]\n",
      "Sampling 4 chains: 100%|██████████| 40000/40000 [00:25<00:00, 1562.09draws/s]\n",
      "The number of effective samples is smaller than 10% for some parameters.\n"
     ]
    },
    {
     "name": "stdout",
     "output_type": "stream",
     "text": [
      "  Fitting model 29 of 50...\n"
     ]
    },
    {
     "name": "stderr",
     "output_type": "stream",
     "text": [
      "Multiprocess sampling (4 chains in 4 jobs)\n",
      "CompoundStep\n",
      ">Metropolis: [tau]\n",
      ">Metropolis: [s]\n",
      ">Metropolis: [gamma]\n",
      ">Metropolis: [v]\n",
      "Sampling 4 chains: 100%|██████████| 40000/40000 [00:25<00:00, 1544.34draws/s]\n",
      "The number of effective samples is smaller than 10% for some parameters.\n"
     ]
    },
    {
     "name": "stdout",
     "output_type": "stream",
     "text": [
      "  Fitting model 30 of 50...\n"
     ]
    },
    {
     "name": "stderr",
     "output_type": "stream",
     "text": [
      "Multiprocess sampling (4 chains in 4 jobs)\n",
      "CompoundStep\n",
      ">Metropolis: [tau]\n",
      ">Metropolis: [s]\n",
      ">Metropolis: [gamma]\n",
      ">Metropolis: [v]\n",
      "Sampling 4 chains: 100%|██████████| 40000/40000 [00:25<00:00, 1542.93draws/s]\n",
      "The number of effective samples is smaller than 10% for some parameters.\n"
     ]
    },
    {
     "name": "stdout",
     "output_type": "stream",
     "text": [
      "  Fitting model 31 of 50...\n"
     ]
    },
    {
     "name": "stderr",
     "output_type": "stream",
     "text": [
      "Multiprocess sampling (4 chains in 4 jobs)\n",
      "CompoundStep\n",
      ">Metropolis: [tau]\n",
      ">Metropolis: [s]\n",
      ">Metropolis: [gamma]\n",
      ">Metropolis: [v]\n",
      "Sampling 4 chains: 100%|██████████| 40000/40000 [00:25<00:00, 1552.53draws/s]\n",
      "The number of effective samples is smaller than 10% for some parameters.\n"
     ]
    },
    {
     "name": "stdout",
     "output_type": "stream",
     "text": [
      "  Fitting model 32 of 50...\n"
     ]
    },
    {
     "name": "stderr",
     "output_type": "stream",
     "text": [
      "Multiprocess sampling (4 chains in 4 jobs)\n",
      "CompoundStep\n",
      ">Metropolis: [tau]\n",
      ">Metropolis: [s]\n",
      ">Metropolis: [gamma]\n",
      ">Metropolis: [v]\n",
      "Sampling 4 chains: 100%|██████████| 40000/40000 [00:25<00:00, 1550.36draws/s]\n",
      "The number of effective samples is smaller than 10% for some parameters.\n"
     ]
    },
    {
     "name": "stdout",
     "output_type": "stream",
     "text": [
      "  Fitting model 33 of 50...\n"
     ]
    },
    {
     "name": "stderr",
     "output_type": "stream",
     "text": [
      "Multiprocess sampling (4 chains in 4 jobs)\n",
      "CompoundStep\n",
      ">Metropolis: [tau]\n",
      ">Metropolis: [s]\n",
      ">Metropolis: [gamma]\n",
      ">Metropolis: [v]\n",
      "Sampling 4 chains: 100%|██████████| 40000/40000 [00:25<00:00, 1555.98draws/s]\n",
      "The number of effective samples is smaller than 10% for some parameters.\n"
     ]
    },
    {
     "name": "stdout",
     "output_type": "stream",
     "text": [
      "  Fitting model 34 of 50...\n"
     ]
    },
    {
     "name": "stderr",
     "output_type": "stream",
     "text": [
      "Multiprocess sampling (4 chains in 4 jobs)\n",
      "CompoundStep\n",
      ">Metropolis: [tau]\n",
      ">Metropolis: [s]\n",
      ">Metropolis: [gamma]\n",
      ">Metropolis: [v]\n",
      "Sampling 4 chains: 100%|██████████| 40000/40000 [00:25<00:00, 1550.97draws/s]\n",
      "The number of effective samples is smaller than 10% for some parameters.\n"
     ]
    },
    {
     "name": "stdout",
     "output_type": "stream",
     "text": [
      "  Fitting model 35 of 50...\n"
     ]
    },
    {
     "name": "stderr",
     "output_type": "stream",
     "text": [
      "Multiprocess sampling (4 chains in 4 jobs)\n",
      "CompoundStep\n",
      ">Metropolis: [tau]\n",
      ">Metropolis: [s]\n",
      ">Metropolis: [gamma]\n",
      ">Metropolis: [v]\n",
      "Sampling 4 chains: 100%|██████████| 40000/40000 [00:25<00:00, 1561.04draws/s]\n",
      "The number of effective samples is smaller than 10% for some parameters.\n"
     ]
    },
    {
     "name": "stdout",
     "output_type": "stream",
     "text": [
      "  Fitting model 36 of 50...\n"
     ]
    },
    {
     "name": "stderr",
     "output_type": "stream",
     "text": [
      "Multiprocess sampling (4 chains in 4 jobs)\n",
      "CompoundStep\n",
      ">Metropolis: [tau]\n",
      ">Metropolis: [s]\n",
      ">Metropolis: [gamma]\n",
      ">Metropolis: [v]\n",
      "Sampling 4 chains: 100%|██████████| 40000/40000 [00:25<00:00, 1557.21draws/s]\n",
      "The number of effective samples is smaller than 10% for some parameters.\n"
     ]
    },
    {
     "name": "stdout",
     "output_type": "stream",
     "text": [
      "  Fitting model 37 of 50...\n"
     ]
    },
    {
     "name": "stderr",
     "output_type": "stream",
     "text": [
      "Multiprocess sampling (4 chains in 4 jobs)\n",
      "CompoundStep\n",
      ">Metropolis: [tau]\n",
      ">Metropolis: [s]\n",
      ">Metropolis: [gamma]\n",
      ">Metropolis: [v]\n",
      "Sampling 4 chains: 100%|██████████| 40000/40000 [00:25<00:00, 1564.61draws/s]\n",
      "The number of effective samples is smaller than 10% for some parameters.\n"
     ]
    },
    {
     "name": "stdout",
     "output_type": "stream",
     "text": [
      "  Fitting model 38 of 50...\n"
     ]
    },
    {
     "name": "stderr",
     "output_type": "stream",
     "text": [
      "Multiprocess sampling (4 chains in 4 jobs)\n",
      "CompoundStep\n",
      ">Metropolis: [tau]\n",
      ">Metropolis: [s]\n",
      ">Metropolis: [gamma]\n",
      ">Metropolis: [v]\n",
      "Sampling 4 chains: 100%|██████████| 40000/40000 [00:25<00:00, 1547.44draws/s]\n",
      "The number of effective samples is smaller than 10% for some parameters.\n"
     ]
    },
    {
     "name": "stdout",
     "output_type": "stream",
     "text": [
      "  Fitting model 39 of 50...\n"
     ]
    },
    {
     "name": "stderr",
     "output_type": "stream",
     "text": [
      "Multiprocess sampling (4 chains in 4 jobs)\n",
      "CompoundStep\n",
      ">Metropolis: [tau]\n",
      ">Metropolis: [s]\n",
      ">Metropolis: [gamma]\n",
      ">Metropolis: [v]\n",
      "Sampling 4 chains: 100%|██████████| 40000/40000 [00:25<00:00, 1546.88draws/s]\n",
      "The number of effective samples is smaller than 10% for some parameters.\n"
     ]
    },
    {
     "name": "stdout",
     "output_type": "stream",
     "text": [
      "  Fitting model 40 of 50...\n"
     ]
    },
    {
     "name": "stderr",
     "output_type": "stream",
     "text": [
      "Multiprocess sampling (4 chains in 4 jobs)\n",
      "CompoundStep\n",
      ">Metropolis: [tau]\n",
      ">Metropolis: [s]\n",
      ">Metropolis: [gamma]\n",
      ">Metropolis: [v]\n",
      "Sampling 4 chains: 100%|██████████| 40000/40000 [00:25<00:00, 1551.47draws/s]\n",
      "The number of effective samples is smaller than 10% for some parameters.\n"
     ]
    },
    {
     "name": "stdout",
     "output_type": "stream",
     "text": [
      "  Fitting model 41 of 50...\n"
     ]
    },
    {
     "name": "stderr",
     "output_type": "stream",
     "text": [
      "Multiprocess sampling (4 chains in 4 jobs)\n",
      "CompoundStep\n",
      ">Metropolis: [tau]\n",
      ">Metropolis: [s]\n",
      ">Metropolis: [gamma]\n",
      ">Metropolis: [v]\n",
      "Sampling 4 chains: 100%|██████████| 40000/40000 [00:25<00:00, 1553.82draws/s]\n",
      "The number of effective samples is smaller than 10% for some parameters.\n"
     ]
    },
    {
     "name": "stdout",
     "output_type": "stream",
     "text": [
      "  Fitting model 42 of 50...\n"
     ]
    },
    {
     "name": "stderr",
     "output_type": "stream",
     "text": [
      "Multiprocess sampling (4 chains in 4 jobs)\n",
      "CompoundStep\n",
      ">Metropolis: [tau]\n",
      ">Metropolis: [s]\n",
      ">Metropolis: [gamma]\n",
      ">Metropolis: [v]\n",
      "Sampling 4 chains: 100%|██████████| 40000/40000 [00:25<00:00, 1552.21draws/s]\n",
      "The number of effective samples is smaller than 10% for some parameters.\n"
     ]
    },
    {
     "name": "stdout",
     "output_type": "stream",
     "text": [
      "  Fitting model 43 of 50...\n"
     ]
    },
    {
     "name": "stderr",
     "output_type": "stream",
     "text": [
      "Multiprocess sampling (4 chains in 4 jobs)\n",
      "CompoundStep\n",
      ">Metropolis: [tau]\n",
      ">Metropolis: [s]\n",
      ">Metropolis: [gamma]\n",
      ">Metropolis: [v]\n",
      "Sampling 4 chains: 100%|██████████| 40000/40000 [00:25<00:00, 1542.14draws/s]\n",
      "The number of effective samples is smaller than 10% for some parameters.\n"
     ]
    },
    {
     "name": "stdout",
     "output_type": "stream",
     "text": [
      "  Fitting model 44 of 50...\n"
     ]
    },
    {
     "name": "stderr",
     "output_type": "stream",
     "text": [
      "Multiprocess sampling (4 chains in 4 jobs)\n",
      "CompoundStep\n",
      ">Metropolis: [tau]\n",
      ">Metropolis: [s]\n",
      ">Metropolis: [gamma]\n",
      ">Metropolis: [v]\n",
      "Sampling 4 chains: 100%|██████████| 40000/40000 [00:25<00:00, 1545.39draws/s]\n",
      "The number of effective samples is smaller than 10% for some parameters.\n"
     ]
    },
    {
     "name": "stdout",
     "output_type": "stream",
     "text": [
      "  Fitting model 45 of 50...\n"
     ]
    },
    {
     "name": "stderr",
     "output_type": "stream",
     "text": [
      "Multiprocess sampling (4 chains in 4 jobs)\n",
      "CompoundStep\n",
      ">Metropolis: [tau]\n",
      ">Metropolis: [s]\n",
      ">Metropolis: [gamma]\n",
      ">Metropolis: [v]\n",
      "Sampling 4 chains: 100%|██████████| 40000/40000 [00:25<00:00, 1552.48draws/s]\n",
      "The number of effective samples is smaller than 10% for some parameters.\n"
     ]
    },
    {
     "name": "stdout",
     "output_type": "stream",
     "text": [
      "  Fitting model 46 of 50...\n"
     ]
    },
    {
     "name": "stderr",
     "output_type": "stream",
     "text": [
      "Multiprocess sampling (4 chains in 4 jobs)\n",
      "CompoundStep\n",
      ">Metropolis: [tau]\n",
      ">Metropolis: [s]\n",
      ">Metropolis: [gamma]\n",
      ">Metropolis: [v]\n",
      "Sampling 4 chains: 100%|██████████| 40000/40000 [00:25<00:00, 1539.47draws/s]\n",
      "The number of effective samples is smaller than 10% for some parameters.\n"
     ]
    },
    {
     "name": "stdout",
     "output_type": "stream",
     "text": [
      "  Fitting model 47 of 50...\n"
     ]
    },
    {
     "name": "stderr",
     "output_type": "stream",
     "text": [
      "Multiprocess sampling (4 chains in 4 jobs)\n",
      "CompoundStep\n",
      ">Metropolis: [tau]\n",
      ">Metropolis: [s]\n",
      ">Metropolis: [gamma]\n",
      ">Metropolis: [v]\n",
      "Sampling 4 chains: 100%|██████████| 40000/40000 [00:25<00:00, 1545.82draws/s]\n",
      "The number of effective samples is smaller than 10% for some parameters.\n"
     ]
    },
    {
     "name": "stdout",
     "output_type": "stream",
     "text": [
      "  Fitting model 48 of 50...\n"
     ]
    },
    {
     "name": "stderr",
     "output_type": "stream",
     "text": [
      "Multiprocess sampling (4 chains in 4 jobs)\n",
      "CompoundStep\n",
      ">Metropolis: [tau]\n",
      ">Metropolis: [s]\n",
      ">Metropolis: [gamma]\n",
      ">Metropolis: [v]\n",
      "Sampling 4 chains: 100%|██████████| 40000/40000 [00:25<00:00, 1552.83draws/s]\n",
      "The number of effective samples is smaller than 10% for some parameters.\n"
     ]
    },
    {
     "name": "stdout",
     "output_type": "stream",
     "text": [
      "  Fitting model 49 of 50...\n"
     ]
    },
    {
     "name": "stderr",
     "output_type": "stream",
     "text": [
      "Multiprocess sampling (4 chains in 4 jobs)\n",
      "CompoundStep\n",
      ">Metropolis: [tau]\n",
      ">Metropolis: [s]\n",
      ">Metropolis: [gamma]\n",
      ">Metropolis: [v]\n",
      "Sampling 4 chains: 100%|██████████| 40000/40000 [00:25<00:00, 1555.13draws/s]\n",
      "The number of effective samples is smaller than 10% for some parameters.\n"
     ]
    },
    {
     "name": "stdout",
     "output_type": "stream",
     "text": [
      "  Fitting model 50 of 50...\n"
     ]
    },
    {
     "name": "stderr",
     "output_type": "stream",
     "text": [
      "Multiprocess sampling (4 chains in 4 jobs)\n",
      "CompoundStep\n",
      ">Metropolis: [tau]\n",
      ">Metropolis: [s]\n",
      ">Metropolis: [gamma]\n",
      ">Metropolis: [v]\n",
      "Sampling 4 chains: 100%|██████████| 40000/40000 [00:25<00:00, 1557.66draws/s]\n",
      "The number of effective samples is smaller than 10% for some parameters.\n"
     ]
    },
    {
     "name": "stdout",
     "output_type": "stream",
     "text": [
      "/!\\ Automatically setting parameter precision...\n"
     ]
    }
   ],
   "source": [
    "glam_rec = gb.GLAM(data=synthetic)\n",
    "glam_rec.make_model(kind='individual')\n",
    "glam_rec.fit(method='MCMC', draws=5000, tune=5000, chains=4)"
   ]
  },
  {
   "cell_type": "code",
   "execution_count": 17,
   "metadata": {},
   "outputs": [
    {
     "data": {
      "text/html": [
       "<div>\n",
       "<style scoped>\n",
       "    .dataframe tbody tr th:only-of-type {\n",
       "        vertical-align: middle;\n",
       "    }\n",
       "\n",
       "    .dataframe tbody tr th {\n",
       "        vertical-align: top;\n",
       "    }\n",
       "\n",
       "    .dataframe thead th {\n",
       "        text-align: right;\n",
       "    }\n",
       "</style>\n",
       "<table border=\"1\" class=\"dataframe\">\n",
       "  <thead>\n",
       "    <tr style=\"text-align: right;\">\n",
       "      <th></th>\n",
       "      <th>gamma</th>\n",
       "      <th>gamma_hpd_2.5</th>\n",
       "      <th>gamma_hpd_97.5</th>\n",
       "      <th>s</th>\n",
       "      <th>s_hpd_2.5</th>\n",
       "      <th>s_hpd_97.5</th>\n",
       "      <th>subject</th>\n",
       "      <th>t0</th>\n",
       "      <th>t0_hpd_2.5</th>\n",
       "      <th>t0_hpd_97.5</th>\n",
       "      <th>tau</th>\n",
       "      <th>tau_hpd_2.5</th>\n",
       "      <th>tau_hpd_97.5</th>\n",
       "      <th>v</th>\n",
       "      <th>v_hpd_2.5</th>\n",
       "      <th>v_hpd_97.5</th>\n",
       "    </tr>\n",
       "  </thead>\n",
       "  <tbody>\n",
       "    <tr>\n",
       "      <th>0</th>\n",
       "      <td>0.05</td>\n",
       "      <td>-0.018554</td>\n",
       "      <td>0.113032</td>\n",
       "      <td>0.008589</td>\n",
       "      <td>0.007671</td>\n",
       "      <td>0.009459</td>\n",
       "      <td>0</td>\n",
       "      <td>0.0</td>\n",
       "      <td>0.0</td>\n",
       "      <td>0.0</td>\n",
       "      <td>0.82</td>\n",
       "      <td>0.600884</td>\n",
       "      <td>1.076278</td>\n",
       "      <td>0.000122</td>\n",
       "      <td>0.000113</td>\n",
       "      <td>0.000130</td>\n",
       "    </tr>\n",
       "    <tr>\n",
       "      <th>1</th>\n",
       "      <td>0.42</td>\n",
       "      <td>0.334203</td>\n",
       "      <td>0.561814</td>\n",
       "      <td>0.007327</td>\n",
       "      <td>0.006656</td>\n",
       "      <td>0.008101</td>\n",
       "      <td>1</td>\n",
       "      <td>0.0</td>\n",
       "      <td>0.0</td>\n",
       "      <td>0.0</td>\n",
       "      <td>0.39</td>\n",
       "      <td>0.297999</td>\n",
       "      <td>0.551529</td>\n",
       "      <td>0.000065</td>\n",
       "      <td>0.000060</td>\n",
       "      <td>0.000070</td>\n",
       "    </tr>\n",
       "    <tr>\n",
       "      <th>2</th>\n",
       "      <td>0.27</td>\n",
       "      <td>0.199903</td>\n",
       "      <td>0.314229</td>\n",
       "      <td>0.006442</td>\n",
       "      <td>0.005812</td>\n",
       "      <td>0.007198</td>\n",
       "      <td>2</td>\n",
       "      <td>0.0</td>\n",
       "      <td>0.0</td>\n",
       "      <td>0.0</td>\n",
       "      <td>1.02</td>\n",
       "      <td>0.782735</td>\n",
       "      <td>1.535478</td>\n",
       "      <td>0.000060</td>\n",
       "      <td>0.000056</td>\n",
       "      <td>0.000065</td>\n",
       "    </tr>\n",
       "    <tr>\n",
       "      <th>3</th>\n",
       "      <td>0.28</td>\n",
       "      <td>0.201041</td>\n",
       "      <td>0.375621</td>\n",
       "      <td>0.006903</td>\n",
       "      <td>0.006197</td>\n",
       "      <td>0.007601</td>\n",
       "      <td>3</td>\n",
       "      <td>0.0</td>\n",
       "      <td>0.0</td>\n",
       "      <td>0.0</td>\n",
       "      <td>0.75</td>\n",
       "      <td>0.555189</td>\n",
       "      <td>1.008060</td>\n",
       "      <td>0.000049</td>\n",
       "      <td>0.000045</td>\n",
       "      <td>0.000052</td>\n",
       "    </tr>\n",
       "    <tr>\n",
       "      <th>4</th>\n",
       "      <td>-0.18</td>\n",
       "      <td>-0.255495</td>\n",
       "      <td>-0.106678</td>\n",
       "      <td>0.008729</td>\n",
       "      <td>0.007708</td>\n",
       "      <td>0.009678</td>\n",
       "      <td>4</td>\n",
       "      <td>0.0</td>\n",
       "      <td>0.0</td>\n",
       "      <td>0.0</td>\n",
       "      <td>0.95</td>\n",
       "      <td>0.636418</td>\n",
       "      <td>1.465469</td>\n",
       "      <td>0.000092</td>\n",
       "      <td>0.000084</td>\n",
       "      <td>0.000101</td>\n",
       "    </tr>\n",
       "    <tr>\n",
       "      <th>5</th>\n",
       "      <td>-0.01</td>\n",
       "      <td>-0.233836</td>\n",
       "      <td>0.251144</td>\n",
       "      <td>0.008259</td>\n",
       "      <td>0.007427</td>\n",
       "      <td>0.008990</td>\n",
       "      <td>5</td>\n",
       "      <td>0.0</td>\n",
       "      <td>0.0</td>\n",
       "      <td>0.0</td>\n",
       "      <td>0.48</td>\n",
       "      <td>0.311331</td>\n",
       "      <td>0.845348</td>\n",
       "      <td>0.000023</td>\n",
       "      <td>0.000019</td>\n",
       "      <td>0.000027</td>\n",
       "    </tr>\n",
       "    <tr>\n",
       "      <th>6</th>\n",
       "      <td>0.23</td>\n",
       "      <td>0.180262</td>\n",
       "      <td>0.302711</td>\n",
       "      <td>0.009021</td>\n",
       "      <td>0.008001</td>\n",
       "      <td>0.009791</td>\n",
       "      <td>6</td>\n",
       "      <td>0.0</td>\n",
       "      <td>0.0</td>\n",
       "      <td>0.0</td>\n",
       "      <td>0.87</td>\n",
       "      <td>0.615516</td>\n",
       "      <td>1.127702</td>\n",
       "      <td>0.000121</td>\n",
       "      <td>0.000113</td>\n",
       "      <td>0.000129</td>\n",
       "    </tr>\n",
       "    <tr>\n",
       "      <th>7</th>\n",
       "      <td>-0.13</td>\n",
       "      <td>-0.241143</td>\n",
       "      <td>-0.067177</td>\n",
       "      <td>0.008667</td>\n",
       "      <td>0.007953</td>\n",
       "      <td>0.009535</td>\n",
       "      <td>7</td>\n",
       "      <td>0.0</td>\n",
       "      <td>0.0</td>\n",
       "      <td>0.0</td>\n",
       "      <td>1.12</td>\n",
       "      <td>0.819345</td>\n",
       "      <td>1.619605</td>\n",
       "      <td>0.000056</td>\n",
       "      <td>0.000051</td>\n",
       "      <td>0.000061</td>\n",
       "    </tr>\n",
       "    <tr>\n",
       "      <th>8</th>\n",
       "      <td>0.03</td>\n",
       "      <td>-0.033451</td>\n",
       "      <td>0.117763</td>\n",
       "      <td>0.007604</td>\n",
       "      <td>0.007076</td>\n",
       "      <td>0.008567</td>\n",
       "      <td>8</td>\n",
       "      <td>0.0</td>\n",
       "      <td>0.0</td>\n",
       "      <td>0.0</td>\n",
       "      <td>0.73</td>\n",
       "      <td>0.591427</td>\n",
       "      <td>0.948087</td>\n",
       "      <td>0.000081</td>\n",
       "      <td>0.000076</td>\n",
       "      <td>0.000087</td>\n",
       "    </tr>\n",
       "    <tr>\n",
       "      <th>9</th>\n",
       "      <td>0.19</td>\n",
       "      <td>0.121217</td>\n",
       "      <td>0.241956</td>\n",
       "      <td>0.008072</td>\n",
       "      <td>0.007218</td>\n",
       "      <td>0.008888</td>\n",
       "      <td>9</td>\n",
       "      <td>0.0</td>\n",
       "      <td>0.0</td>\n",
       "      <td>0.0</td>\n",
       "      <td>0.76</td>\n",
       "      <td>0.594150</td>\n",
       "      <td>1.236636</td>\n",
       "      <td>0.000067</td>\n",
       "      <td>0.000062</td>\n",
       "      <td>0.000072</td>\n",
       "    </tr>\n",
       "    <tr>\n",
       "      <th>10</th>\n",
       "      <td>-0.31</td>\n",
       "      <td>-0.396785</td>\n",
       "      <td>-0.258453</td>\n",
       "      <td>0.007427</td>\n",
       "      <td>0.006449</td>\n",
       "      <td>0.008030</td>\n",
       "      <td>10</td>\n",
       "      <td>0.0</td>\n",
       "      <td>0.0</td>\n",
       "      <td>0.0</td>\n",
       "      <td>0.72</td>\n",
       "      <td>0.576764</td>\n",
       "      <td>0.963105</td>\n",
       "      <td>0.000110</td>\n",
       "      <td>0.000103</td>\n",
       "      <td>0.000116</td>\n",
       "    </tr>\n",
       "    <tr>\n",
       "      <th>11</th>\n",
       "      <td>0.10</td>\n",
       "      <td>-0.127734</td>\n",
       "      <td>0.247694</td>\n",
       "      <td>0.008944</td>\n",
       "      <td>0.008094</td>\n",
       "      <td>0.009822</td>\n",
       "      <td>11</td>\n",
       "      <td>0.0</td>\n",
       "      <td>0.0</td>\n",
       "      <td>0.0</td>\n",
       "      <td>0.58</td>\n",
       "      <td>0.389725</td>\n",
       "      <td>0.895025</td>\n",
       "      <td>0.000032</td>\n",
       "      <td>0.000027</td>\n",
       "      <td>0.000037</td>\n",
       "    </tr>\n",
       "    <tr>\n",
       "      <th>12</th>\n",
       "      <td>0.37</td>\n",
       "      <td>0.280334</td>\n",
       "      <td>0.442099</td>\n",
       "      <td>0.007252</td>\n",
       "      <td>0.006605</td>\n",
       "      <td>0.008208</td>\n",
       "      <td>12</td>\n",
       "      <td>0.0</td>\n",
       "      <td>0.0</td>\n",
       "      <td>0.0</td>\n",
       "      <td>0.72</td>\n",
       "      <td>0.526682</td>\n",
       "      <td>1.068977</td>\n",
       "      <td>0.000071</td>\n",
       "      <td>0.000066</td>\n",
       "      <td>0.000077</td>\n",
       "    </tr>\n",
       "    <tr>\n",
       "      <th>13</th>\n",
       "      <td>-0.18</td>\n",
       "      <td>-0.247566</td>\n",
       "      <td>-0.085937</td>\n",
       "      <td>0.008163</td>\n",
       "      <td>0.007537</td>\n",
       "      <td>0.009200</td>\n",
       "      <td>13</td>\n",
       "      <td>0.0</td>\n",
       "      <td>0.0</td>\n",
       "      <td>0.0</td>\n",
       "      <td>0.91</td>\n",
       "      <td>0.656688</td>\n",
       "      <td>1.374433</td>\n",
       "      <td>0.000068</td>\n",
       "      <td>0.000062</td>\n",
       "      <td>0.000074</td>\n",
       "    </tr>\n",
       "    <tr>\n",
       "      <th>14</th>\n",
       "      <td>0.14</td>\n",
       "      <td>0.071562</td>\n",
       "      <td>0.223542</td>\n",
       "      <td>0.010528</td>\n",
       "      <td>0.009297</td>\n",
       "      <td>0.011373</td>\n",
       "      <td>14</td>\n",
       "      <td>0.0</td>\n",
       "      <td>0.0</td>\n",
       "      <td>0.0</td>\n",
       "      <td>0.87</td>\n",
       "      <td>0.718593</td>\n",
       "      <td>1.316017</td>\n",
       "      <td>0.000098</td>\n",
       "      <td>0.000090</td>\n",
       "      <td>0.000105</td>\n",
       "    </tr>\n",
       "    <tr>\n",
       "      <th>15</th>\n",
       "      <td>-0.33</td>\n",
       "      <td>-0.427427</td>\n",
       "      <td>-0.236076</td>\n",
       "      <td>0.006928</td>\n",
       "      <td>0.006035</td>\n",
       "      <td>0.007474</td>\n",
       "      <td>15</td>\n",
       "      <td>0.0</td>\n",
       "      <td>0.0</td>\n",
       "      <td>0.0</td>\n",
       "      <td>0.66</td>\n",
       "      <td>0.498189</td>\n",
       "      <td>0.925870</td>\n",
       "      <td>0.000052</td>\n",
       "      <td>0.000048</td>\n",
       "      <td>0.000056</td>\n",
       "    </tr>\n",
       "    <tr>\n",
       "      <th>16</th>\n",
       "      <td>0.14</td>\n",
       "      <td>0.054041</td>\n",
       "      <td>0.219862</td>\n",
       "      <td>0.007758</td>\n",
       "      <td>0.007214</td>\n",
       "      <td>0.008862</td>\n",
       "      <td>16</td>\n",
       "      <td>0.0</td>\n",
       "      <td>0.0</td>\n",
       "      <td>0.0</td>\n",
       "      <td>0.73</td>\n",
       "      <td>0.544026</td>\n",
       "      <td>0.993668</td>\n",
       "      <td>0.000075</td>\n",
       "      <td>0.000068</td>\n",
       "      <td>0.000080</td>\n",
       "    </tr>\n",
       "    <tr>\n",
       "      <th>17</th>\n",
       "      <td>-0.38</td>\n",
       "      <td>-0.519668</td>\n",
       "      <td>-0.236571</td>\n",
       "      <td>0.009108</td>\n",
       "      <td>0.008379</td>\n",
       "      <td>0.010120</td>\n",
       "      <td>17</td>\n",
       "      <td>0.0</td>\n",
       "      <td>0.0</td>\n",
       "      <td>0.0</td>\n",
       "      <td>0.66</td>\n",
       "      <td>0.484877</td>\n",
       "      <td>0.944309</td>\n",
       "      <td>0.000055</td>\n",
       "      <td>0.000051</td>\n",
       "      <td>0.000062</td>\n",
       "    </tr>\n",
       "    <tr>\n",
       "      <th>18</th>\n",
       "      <td>0.44</td>\n",
       "      <td>0.332050</td>\n",
       "      <td>0.547840</td>\n",
       "      <td>0.009647</td>\n",
       "      <td>0.008919</td>\n",
       "      <td>0.010842</td>\n",
       "      <td>18</td>\n",
       "      <td>0.0</td>\n",
       "      <td>0.0</td>\n",
       "      <td>0.0</td>\n",
       "      <td>0.81</td>\n",
       "      <td>0.542125</td>\n",
       "      <td>1.163177</td>\n",
       "      <td>0.000075</td>\n",
       "      <td>0.000068</td>\n",
       "      <td>0.000082</td>\n",
       "    </tr>\n",
       "    <tr>\n",
       "      <th>19</th>\n",
       "      <td>0.34</td>\n",
       "      <td>0.275061</td>\n",
       "      <td>0.397637</td>\n",
       "      <td>0.005572</td>\n",
       "      <td>0.005081</td>\n",
       "      <td>0.006395</td>\n",
       "      <td>19</td>\n",
       "      <td>0.0</td>\n",
       "      <td>0.0</td>\n",
       "      <td>0.0</td>\n",
       "      <td>0.46</td>\n",
       "      <td>0.381414</td>\n",
       "      <td>0.613322</td>\n",
       "      <td>0.000104</td>\n",
       "      <td>0.000097</td>\n",
       "      <td>0.000109</td>\n",
       "    </tr>\n",
       "    <tr>\n",
       "      <th>20</th>\n",
       "      <td>0.15</td>\n",
       "      <td>0.078859</td>\n",
       "      <td>0.240948</td>\n",
       "      <td>0.006208</td>\n",
       "      <td>0.005600</td>\n",
       "      <td>0.006922</td>\n",
       "      <td>20</td>\n",
       "      <td>0.0</td>\n",
       "      <td>0.0</td>\n",
       "      <td>0.0</td>\n",
       "      <td>0.87</td>\n",
       "      <td>0.706198</td>\n",
       "      <td>1.282978</td>\n",
       "      <td>0.000044</td>\n",
       "      <td>0.000041</td>\n",
       "      <td>0.000048</td>\n",
       "    </tr>\n",
       "    <tr>\n",
       "      <th>21</th>\n",
       "      <td>-0.13</td>\n",
       "      <td>-0.191336</td>\n",
       "      <td>-0.051884</td>\n",
       "      <td>0.007551</td>\n",
       "      <td>0.006906</td>\n",
       "      <td>0.008437</td>\n",
       "      <td>21</td>\n",
       "      <td>0.0</td>\n",
       "      <td>0.0</td>\n",
       "      <td>0.0</td>\n",
       "      <td>0.74</td>\n",
       "      <td>0.602090</td>\n",
       "      <td>0.982172</td>\n",
       "      <td>0.000106</td>\n",
       "      <td>0.000099</td>\n",
       "      <td>0.000112</td>\n",
       "    </tr>\n",
       "    <tr>\n",
       "      <th>22</th>\n",
       "      <td>0.49</td>\n",
       "      <td>0.422601</td>\n",
       "      <td>0.546891</td>\n",
       "      <td>0.007729</td>\n",
       "      <td>0.007180</td>\n",
       "      <td>0.008901</td>\n",
       "      <td>22</td>\n",
       "      <td>0.0</td>\n",
       "      <td>0.0</td>\n",
       "      <td>0.0</td>\n",
       "      <td>0.84</td>\n",
       "      <td>0.609239</td>\n",
       "      <td>1.260018</td>\n",
       "      <td>0.000104</td>\n",
       "      <td>0.000097</td>\n",
       "      <td>0.000113</td>\n",
       "    </tr>\n",
       "    <tr>\n",
       "      <th>23</th>\n",
       "      <td>0.72</td>\n",
       "      <td>0.622334</td>\n",
       "      <td>0.860223</td>\n",
       "      <td>0.008877</td>\n",
       "      <td>0.008089</td>\n",
       "      <td>0.010001</td>\n",
       "      <td>23</td>\n",
       "      <td>0.0</td>\n",
       "      <td>0.0</td>\n",
       "      <td>0.0</td>\n",
       "      <td>0.50</td>\n",
       "      <td>0.378459</td>\n",
       "      <td>0.740026</td>\n",
       "      <td>0.000094</td>\n",
       "      <td>0.000086</td>\n",
       "      <td>0.000101</td>\n",
       "    </tr>\n",
       "    <tr>\n",
       "      <th>24</th>\n",
       "      <td>-0.39</td>\n",
       "      <td>-0.468846</td>\n",
       "      <td>-0.337357</td>\n",
       "      <td>0.008061</td>\n",
       "      <td>0.007399</td>\n",
       "      <td>0.009055</td>\n",
       "      <td>24</td>\n",
       "      <td>0.0</td>\n",
       "      <td>0.0</td>\n",
       "      <td>0.0</td>\n",
       "      <td>0.78</td>\n",
       "      <td>0.623476</td>\n",
       "      <td>1.092815</td>\n",
       "      <td>0.000104</td>\n",
       "      <td>0.000097</td>\n",
       "      <td>0.000111</td>\n",
       "    </tr>\n",
       "    <tr>\n",
       "      <th>25</th>\n",
       "      <td>0.41</td>\n",
       "      <td>0.344504</td>\n",
       "      <td>0.476362</td>\n",
       "      <td>0.005458</td>\n",
       "      <td>0.004967</td>\n",
       "      <td>0.006134</td>\n",
       "      <td>25</td>\n",
       "      <td>0.0</td>\n",
       "      <td>0.0</td>\n",
       "      <td>0.0</td>\n",
       "      <td>0.65</td>\n",
       "      <td>0.494946</td>\n",
       "      <td>0.891808</td>\n",
       "      <td>0.000060</td>\n",
       "      <td>0.000056</td>\n",
       "      <td>0.000064</td>\n",
       "    </tr>\n",
       "    <tr>\n",
       "      <th>26</th>\n",
       "      <td>0.54</td>\n",
       "      <td>0.421061</td>\n",
       "      <td>0.619647</td>\n",
       "      <td>0.007692</td>\n",
       "      <td>0.007152</td>\n",
       "      <td>0.008735</td>\n",
       "      <td>26</td>\n",
       "      <td>0.0</td>\n",
       "      <td>0.0</td>\n",
       "      <td>0.0</td>\n",
       "      <td>0.71</td>\n",
       "      <td>0.546545</td>\n",
       "      <td>1.007397</td>\n",
       "      <td>0.000075</td>\n",
       "      <td>0.000069</td>\n",
       "      <td>0.000081</td>\n",
       "    </tr>\n",
       "    <tr>\n",
       "      <th>27</th>\n",
       "      <td>0.30</td>\n",
       "      <td>0.171268</td>\n",
       "      <td>0.446200</td>\n",
       "      <td>0.010095</td>\n",
       "      <td>0.009307</td>\n",
       "      <td>0.011174</td>\n",
       "      <td>27</td>\n",
       "      <td>0.0</td>\n",
       "      <td>0.0</td>\n",
       "      <td>0.0</td>\n",
       "      <td>0.83</td>\n",
       "      <td>0.543491</td>\n",
       "      <td>1.315398</td>\n",
       "      <td>0.000048</td>\n",
       "      <td>0.000042</td>\n",
       "      <td>0.000054</td>\n",
       "    </tr>\n",
       "    <tr>\n",
       "      <th>28</th>\n",
       "      <td>-0.20</td>\n",
       "      <td>-0.300410</td>\n",
       "      <td>-0.125181</td>\n",
       "      <td>0.007632</td>\n",
       "      <td>0.007053</td>\n",
       "      <td>0.008699</td>\n",
       "      <td>28</td>\n",
       "      <td>0.0</td>\n",
       "      <td>0.0</td>\n",
       "      <td>0.0</td>\n",
       "      <td>0.84</td>\n",
       "      <td>0.599506</td>\n",
       "      <td>1.201785</td>\n",
       "      <td>0.000073</td>\n",
       "      <td>0.000067</td>\n",
       "      <td>0.000078</td>\n",
       "    </tr>\n",
       "    <tr>\n",
       "      <th>29</th>\n",
       "      <td>0.40</td>\n",
       "      <td>0.315136</td>\n",
       "      <td>0.469555</td>\n",
       "      <td>0.007719</td>\n",
       "      <td>0.007054</td>\n",
       "      <td>0.008765</td>\n",
       "      <td>29</td>\n",
       "      <td>0.0</td>\n",
       "      <td>0.0</td>\n",
       "      <td>0.0</td>\n",
       "      <td>0.60</td>\n",
       "      <td>0.472517</td>\n",
       "      <td>0.807475</td>\n",
       "      <td>0.000089</td>\n",
       "      <td>0.000083</td>\n",
       "      <td>0.000094</td>\n",
       "    </tr>\n",
       "    <tr>\n",
       "      <th>30</th>\n",
       "      <td>0.00</td>\n",
       "      <td>-0.096388</td>\n",
       "      <td>0.102733</td>\n",
       "      <td>0.006842</td>\n",
       "      <td>0.006248</td>\n",
       "      <td>0.007625</td>\n",
       "      <td>30</td>\n",
       "      <td>0.0</td>\n",
       "      <td>0.0</td>\n",
       "      <td>0.0</td>\n",
       "      <td>0.50</td>\n",
       "      <td>0.391211</td>\n",
       "      <td>0.671835</td>\n",
       "      <td>0.000058</td>\n",
       "      <td>0.000054</td>\n",
       "      <td>0.000062</td>\n",
       "    </tr>\n",
       "    <tr>\n",
       "      <th>31</th>\n",
       "      <td>-0.03</td>\n",
       "      <td>-0.092077</td>\n",
       "      <td>0.036741</td>\n",
       "      <td>0.005837</td>\n",
       "      <td>0.005132</td>\n",
       "      <td>0.006567</td>\n",
       "      <td>31</td>\n",
       "      <td>0.0</td>\n",
       "      <td>0.0</td>\n",
       "      <td>0.0</td>\n",
       "      <td>0.58</td>\n",
       "      <td>0.442303</td>\n",
       "      <td>0.717929</td>\n",
       "      <td>0.000073</td>\n",
       "      <td>0.000069</td>\n",
       "      <td>0.000078</td>\n",
       "    </tr>\n",
       "    <tr>\n",
       "      <th>32</th>\n",
       "      <td>-0.25</td>\n",
       "      <td>-0.352805</td>\n",
       "      <td>-0.160553</td>\n",
       "      <td>0.007269</td>\n",
       "      <td>0.006486</td>\n",
       "      <td>0.007956</td>\n",
       "      <td>32</td>\n",
       "      <td>0.0</td>\n",
       "      <td>0.0</td>\n",
       "      <td>0.0</td>\n",
       "      <td>0.64</td>\n",
       "      <td>0.477217</td>\n",
       "      <td>0.883690</td>\n",
       "      <td>0.000060</td>\n",
       "      <td>0.000056</td>\n",
       "      <td>0.000065</td>\n",
       "    </tr>\n",
       "    <tr>\n",
       "      <th>33</th>\n",
       "      <td>0.30</td>\n",
       "      <td>0.231020</td>\n",
       "      <td>0.370441</td>\n",
       "      <td>0.006792</td>\n",
       "      <td>0.006391</td>\n",
       "      <td>0.007727</td>\n",
       "      <td>33</td>\n",
       "      <td>0.0</td>\n",
       "      <td>0.0</td>\n",
       "      <td>0.0</td>\n",
       "      <td>0.89</td>\n",
       "      <td>0.624710</td>\n",
       "      <td>1.218595</td>\n",
       "      <td>0.000056</td>\n",
       "      <td>0.000051</td>\n",
       "      <td>0.000060</td>\n",
       "    </tr>\n",
       "    <tr>\n",
       "      <th>34</th>\n",
       "      <td>0.16</td>\n",
       "      <td>0.073439</td>\n",
       "      <td>0.265115</td>\n",
       "      <td>0.007784</td>\n",
       "      <td>0.007118</td>\n",
       "      <td>0.008822</td>\n",
       "      <td>34</td>\n",
       "      <td>0.0</td>\n",
       "      <td>0.0</td>\n",
       "      <td>0.0</td>\n",
       "      <td>0.83</td>\n",
       "      <td>0.534241</td>\n",
       "      <td>1.331287</td>\n",
       "      <td>0.000058</td>\n",
       "      <td>0.000054</td>\n",
       "      <td>0.000065</td>\n",
       "    </tr>\n",
       "    <tr>\n",
       "      <th>35</th>\n",
       "      <td>-0.07</td>\n",
       "      <td>-0.155334</td>\n",
       "      <td>-0.016361</td>\n",
       "      <td>0.007908</td>\n",
       "      <td>0.007135</td>\n",
       "      <td>0.008729</td>\n",
       "      <td>35</td>\n",
       "      <td>0.0</td>\n",
       "      <td>0.0</td>\n",
       "      <td>0.0</td>\n",
       "      <td>0.81</td>\n",
       "      <td>0.587191</td>\n",
       "      <td>1.116988</td>\n",
       "      <td>0.000073</td>\n",
       "      <td>0.000067</td>\n",
       "      <td>0.000078</td>\n",
       "    </tr>\n",
       "    <tr>\n",
       "      <th>36</th>\n",
       "      <td>0.15</td>\n",
       "      <td>0.065738</td>\n",
       "      <td>0.245390</td>\n",
       "      <td>0.007451</td>\n",
       "      <td>0.006727</td>\n",
       "      <td>0.008219</td>\n",
       "      <td>36</td>\n",
       "      <td>0.0</td>\n",
       "      <td>0.0</td>\n",
       "      <td>0.0</td>\n",
       "      <td>0.83</td>\n",
       "      <td>0.650917</td>\n",
       "      <td>1.241151</td>\n",
       "      <td>0.000046</td>\n",
       "      <td>0.000042</td>\n",
       "      <td>0.000050</td>\n",
       "    </tr>\n",
       "    <tr>\n",
       "      <th>37</th>\n",
       "      <td>-0.26</td>\n",
       "      <td>-0.333500</td>\n",
       "      <td>-0.186854</td>\n",
       "      <td>0.008481</td>\n",
       "      <td>0.007661</td>\n",
       "      <td>0.009403</td>\n",
       "      <td>37</td>\n",
       "      <td>0.0</td>\n",
       "      <td>0.0</td>\n",
       "      <td>0.0</td>\n",
       "      <td>1.06</td>\n",
       "      <td>0.758533</td>\n",
       "      <td>1.557723</td>\n",
       "      <td>0.000074</td>\n",
       "      <td>0.000069</td>\n",
       "      <td>0.000080</td>\n",
       "    </tr>\n",
       "    <tr>\n",
       "      <th>38</th>\n",
       "      <td>0.39</td>\n",
       "      <td>0.338138</td>\n",
       "      <td>0.457460</td>\n",
       "      <td>0.007826</td>\n",
       "      <td>0.006917</td>\n",
       "      <td>0.008670</td>\n",
       "      <td>38</td>\n",
       "      <td>0.0</td>\n",
       "      <td>0.0</td>\n",
       "      <td>0.0</td>\n",
       "      <td>0.78</td>\n",
       "      <td>0.610027</td>\n",
       "      <td>1.160934</td>\n",
       "      <td>0.000115</td>\n",
       "      <td>0.000107</td>\n",
       "      <td>0.000123</td>\n",
       "    </tr>\n",
       "    <tr>\n",
       "      <th>39</th>\n",
       "      <td>0.01</td>\n",
       "      <td>-0.048924</td>\n",
       "      <td>0.083395</td>\n",
       "      <td>0.008256</td>\n",
       "      <td>0.007342</td>\n",
       "      <td>0.009027</td>\n",
       "      <td>39</td>\n",
       "      <td>0.0</td>\n",
       "      <td>0.0</td>\n",
       "      <td>0.0</td>\n",
       "      <td>0.93</td>\n",
       "      <td>0.670987</td>\n",
       "      <td>1.176763</td>\n",
       "      <td>0.000089</td>\n",
       "      <td>0.000083</td>\n",
       "      <td>0.000095</td>\n",
       "    </tr>\n",
       "    <tr>\n",
       "      <th>40</th>\n",
       "      <td>0.08</td>\n",
       "      <td>0.001854</td>\n",
       "      <td>0.154569</td>\n",
       "      <td>0.008932</td>\n",
       "      <td>0.008316</td>\n",
       "      <td>0.010255</td>\n",
       "      <td>40</td>\n",
       "      <td>0.0</td>\n",
       "      <td>0.0</td>\n",
       "      <td>0.0</td>\n",
       "      <td>0.72</td>\n",
       "      <td>0.561066</td>\n",
       "      <td>1.051551</td>\n",
       "      <td>0.000072</td>\n",
       "      <td>0.000066</td>\n",
       "      <td>0.000079</td>\n",
       "    </tr>\n",
       "    <tr>\n",
       "      <th>41</th>\n",
       "      <td>0.20</td>\n",
       "      <td>0.095044</td>\n",
       "      <td>0.280683</td>\n",
       "      <td>0.007726</td>\n",
       "      <td>0.006805</td>\n",
       "      <td>0.008325</td>\n",
       "      <td>41</td>\n",
       "      <td>0.0</td>\n",
       "      <td>0.0</td>\n",
       "      <td>0.0</td>\n",
       "      <td>0.73</td>\n",
       "      <td>0.537986</td>\n",
       "      <td>1.084672</td>\n",
       "      <td>0.000054</td>\n",
       "      <td>0.000049</td>\n",
       "      <td>0.000058</td>\n",
       "    </tr>\n",
       "    <tr>\n",
       "      <th>42</th>\n",
       "      <td>0.39</td>\n",
       "      <td>0.327332</td>\n",
       "      <td>0.488304</td>\n",
       "      <td>0.007141</td>\n",
       "      <td>0.006392</td>\n",
       "      <td>0.007876</td>\n",
       "      <td>42</td>\n",
       "      <td>0.0</td>\n",
       "      <td>0.0</td>\n",
       "      <td>0.0</td>\n",
       "      <td>0.92</td>\n",
       "      <td>0.675780</td>\n",
       "      <td>1.418486</td>\n",
       "      <td>0.000056</td>\n",
       "      <td>0.000052</td>\n",
       "      <td>0.000061</td>\n",
       "    </tr>\n",
       "    <tr>\n",
       "      <th>43</th>\n",
       "      <td>0.41</td>\n",
       "      <td>0.339501</td>\n",
       "      <td>0.473487</td>\n",
       "      <td>0.007652</td>\n",
       "      <td>0.007193</td>\n",
       "      <td>0.008821</td>\n",
       "      <td>43</td>\n",
       "      <td>0.0</td>\n",
       "      <td>0.0</td>\n",
       "      <td>0.0</td>\n",
       "      <td>0.61</td>\n",
       "      <td>0.468025</td>\n",
       "      <td>0.799856</td>\n",
       "      <td>0.000119</td>\n",
       "      <td>0.000113</td>\n",
       "      <td>0.000128</td>\n",
       "    </tr>\n",
       "    <tr>\n",
       "      <th>44</th>\n",
       "      <td>0.24</td>\n",
       "      <td>0.164244</td>\n",
       "      <td>0.312480</td>\n",
       "      <td>0.008717</td>\n",
       "      <td>0.007874</td>\n",
       "      <td>0.009608</td>\n",
       "      <td>44</td>\n",
       "      <td>0.0</td>\n",
       "      <td>0.0</td>\n",
       "      <td>0.0</td>\n",
       "      <td>0.99</td>\n",
       "      <td>0.712881</td>\n",
       "      <td>1.404058</td>\n",
       "      <td>0.000077</td>\n",
       "      <td>0.000071</td>\n",
       "      <td>0.000082</td>\n",
       "    </tr>\n",
       "    <tr>\n",
       "      <th>45</th>\n",
       "      <td>-0.01</td>\n",
       "      <td>-0.096580</td>\n",
       "      <td>0.121257</td>\n",
       "      <td>0.006902</td>\n",
       "      <td>0.006428</td>\n",
       "      <td>0.007917</td>\n",
       "      <td>45</td>\n",
       "      <td>0.0</td>\n",
       "      <td>0.0</td>\n",
       "      <td>0.0</td>\n",
       "      <td>0.47</td>\n",
       "      <td>0.339575</td>\n",
       "      <td>0.589255</td>\n",
       "      <td>0.000065</td>\n",
       "      <td>0.000061</td>\n",
       "      <td>0.000070</td>\n",
       "    </tr>\n",
       "    <tr>\n",
       "      <th>46</th>\n",
       "      <td>0.13</td>\n",
       "      <td>0.062404</td>\n",
       "      <td>0.189479</td>\n",
       "      <td>0.007274</td>\n",
       "      <td>0.006810</td>\n",
       "      <td>0.008308</td>\n",
       "      <td>46</td>\n",
       "      <td>0.0</td>\n",
       "      <td>0.0</td>\n",
       "      <td>0.0</td>\n",
       "      <td>0.69</td>\n",
       "      <td>0.554309</td>\n",
       "      <td>0.963982</td>\n",
       "      <td>0.000081</td>\n",
       "      <td>0.000076</td>\n",
       "      <td>0.000086</td>\n",
       "    </tr>\n",
       "    <tr>\n",
       "      <th>47</th>\n",
       "      <td>0.29</td>\n",
       "      <td>0.231516</td>\n",
       "      <td>0.339821</td>\n",
       "      <td>0.008738</td>\n",
       "      <td>0.007658</td>\n",
       "      <td>0.009402</td>\n",
       "      <td>47</td>\n",
       "      <td>0.0</td>\n",
       "      <td>0.0</td>\n",
       "      <td>0.0</td>\n",
       "      <td>1.00</td>\n",
       "      <td>0.701321</td>\n",
       "      <td>1.399127</td>\n",
       "      <td>0.000124</td>\n",
       "      <td>0.000116</td>\n",
       "      <td>0.000133</td>\n",
       "    </tr>\n",
       "    <tr>\n",
       "      <th>48</th>\n",
       "      <td>0.17</td>\n",
       "      <td>0.120398</td>\n",
       "      <td>0.220881</td>\n",
       "      <td>0.007573</td>\n",
       "      <td>0.006937</td>\n",
       "      <td>0.008514</td>\n",
       "      <td>48</td>\n",
       "      <td>0.0</td>\n",
       "      <td>0.0</td>\n",
       "      <td>0.0</td>\n",
       "      <td>1.36</td>\n",
       "      <td>0.946676</td>\n",
       "      <td>1.696539</td>\n",
       "      <td>0.000074</td>\n",
       "      <td>0.000069</td>\n",
       "      <td>0.000078</td>\n",
       "    </tr>\n",
       "    <tr>\n",
       "      <th>49</th>\n",
       "      <td>0.29</td>\n",
       "      <td>0.242071</td>\n",
       "      <td>0.352895</td>\n",
       "      <td>0.009505</td>\n",
       "      <td>0.008616</td>\n",
       "      <td>0.010464</td>\n",
       "      <td>49</td>\n",
       "      <td>0.0</td>\n",
       "      <td>0.0</td>\n",
       "      <td>0.0</td>\n",
       "      <td>1.28</td>\n",
       "      <td>0.899555</td>\n",
       "      <td>1.775151</td>\n",
       "      <td>0.000086</td>\n",
       "      <td>0.000079</td>\n",
       "      <td>0.000092</td>\n",
       "    </tr>\n",
       "  </tbody>\n",
       "</table>\n",
       "</div>"
      ],
      "text/plain": [
       "    gamma  gamma_hpd_2.5  gamma_hpd_97.5         s  s_hpd_2.5  s_hpd_97.5  \\\n",
       "0    0.05      -0.018554        0.113032  0.008589   0.007671    0.009459   \n",
       "1    0.42       0.334203        0.561814  0.007327   0.006656    0.008101   \n",
       "2    0.27       0.199903        0.314229  0.006442   0.005812    0.007198   \n",
       "3    0.28       0.201041        0.375621  0.006903   0.006197    0.007601   \n",
       "4   -0.18      -0.255495       -0.106678  0.008729   0.007708    0.009678   \n",
       "5   -0.01      -0.233836        0.251144  0.008259   0.007427    0.008990   \n",
       "6    0.23       0.180262        0.302711  0.009021   0.008001    0.009791   \n",
       "7   -0.13      -0.241143       -0.067177  0.008667   0.007953    0.009535   \n",
       "8    0.03      -0.033451        0.117763  0.007604   0.007076    0.008567   \n",
       "9    0.19       0.121217        0.241956  0.008072   0.007218    0.008888   \n",
       "10  -0.31      -0.396785       -0.258453  0.007427   0.006449    0.008030   \n",
       "11   0.10      -0.127734        0.247694  0.008944   0.008094    0.009822   \n",
       "12   0.37       0.280334        0.442099  0.007252   0.006605    0.008208   \n",
       "13  -0.18      -0.247566       -0.085937  0.008163   0.007537    0.009200   \n",
       "14   0.14       0.071562        0.223542  0.010528   0.009297    0.011373   \n",
       "15  -0.33      -0.427427       -0.236076  0.006928   0.006035    0.007474   \n",
       "16   0.14       0.054041        0.219862  0.007758   0.007214    0.008862   \n",
       "17  -0.38      -0.519668       -0.236571  0.009108   0.008379    0.010120   \n",
       "18   0.44       0.332050        0.547840  0.009647   0.008919    0.010842   \n",
       "19   0.34       0.275061        0.397637  0.005572   0.005081    0.006395   \n",
       "20   0.15       0.078859        0.240948  0.006208   0.005600    0.006922   \n",
       "21  -0.13      -0.191336       -0.051884  0.007551   0.006906    0.008437   \n",
       "22   0.49       0.422601        0.546891  0.007729   0.007180    0.008901   \n",
       "23   0.72       0.622334        0.860223  0.008877   0.008089    0.010001   \n",
       "24  -0.39      -0.468846       -0.337357  0.008061   0.007399    0.009055   \n",
       "25   0.41       0.344504        0.476362  0.005458   0.004967    0.006134   \n",
       "26   0.54       0.421061        0.619647  0.007692   0.007152    0.008735   \n",
       "27   0.30       0.171268        0.446200  0.010095   0.009307    0.011174   \n",
       "28  -0.20      -0.300410       -0.125181  0.007632   0.007053    0.008699   \n",
       "29   0.40       0.315136        0.469555  0.007719   0.007054    0.008765   \n",
       "30   0.00      -0.096388        0.102733  0.006842   0.006248    0.007625   \n",
       "31  -0.03      -0.092077        0.036741  0.005837   0.005132    0.006567   \n",
       "32  -0.25      -0.352805       -0.160553  0.007269   0.006486    0.007956   \n",
       "33   0.30       0.231020        0.370441  0.006792   0.006391    0.007727   \n",
       "34   0.16       0.073439        0.265115  0.007784   0.007118    0.008822   \n",
       "35  -0.07      -0.155334       -0.016361  0.007908   0.007135    0.008729   \n",
       "36   0.15       0.065738        0.245390  0.007451   0.006727    0.008219   \n",
       "37  -0.26      -0.333500       -0.186854  0.008481   0.007661    0.009403   \n",
       "38   0.39       0.338138        0.457460  0.007826   0.006917    0.008670   \n",
       "39   0.01      -0.048924        0.083395  0.008256   0.007342    0.009027   \n",
       "40   0.08       0.001854        0.154569  0.008932   0.008316    0.010255   \n",
       "41   0.20       0.095044        0.280683  0.007726   0.006805    0.008325   \n",
       "42   0.39       0.327332        0.488304  0.007141   0.006392    0.007876   \n",
       "43   0.41       0.339501        0.473487  0.007652   0.007193    0.008821   \n",
       "44   0.24       0.164244        0.312480  0.008717   0.007874    0.009608   \n",
       "45  -0.01      -0.096580        0.121257  0.006902   0.006428    0.007917   \n",
       "46   0.13       0.062404        0.189479  0.007274   0.006810    0.008308   \n",
       "47   0.29       0.231516        0.339821  0.008738   0.007658    0.009402   \n",
       "48   0.17       0.120398        0.220881  0.007573   0.006937    0.008514   \n",
       "49   0.29       0.242071        0.352895  0.009505   0.008616    0.010464   \n",
       "\n",
       "    subject   t0  t0_hpd_2.5  t0_hpd_97.5   tau  tau_hpd_2.5  tau_hpd_97.5  \\\n",
       "0         0  0.0         0.0          0.0  0.82     0.600884      1.076278   \n",
       "1         1  0.0         0.0          0.0  0.39     0.297999      0.551529   \n",
       "2         2  0.0         0.0          0.0  1.02     0.782735      1.535478   \n",
       "3         3  0.0         0.0          0.0  0.75     0.555189      1.008060   \n",
       "4         4  0.0         0.0          0.0  0.95     0.636418      1.465469   \n",
       "5         5  0.0         0.0          0.0  0.48     0.311331      0.845348   \n",
       "6         6  0.0         0.0          0.0  0.87     0.615516      1.127702   \n",
       "7         7  0.0         0.0          0.0  1.12     0.819345      1.619605   \n",
       "8         8  0.0         0.0          0.0  0.73     0.591427      0.948087   \n",
       "9         9  0.0         0.0          0.0  0.76     0.594150      1.236636   \n",
       "10       10  0.0         0.0          0.0  0.72     0.576764      0.963105   \n",
       "11       11  0.0         0.0          0.0  0.58     0.389725      0.895025   \n",
       "12       12  0.0         0.0          0.0  0.72     0.526682      1.068977   \n",
       "13       13  0.0         0.0          0.0  0.91     0.656688      1.374433   \n",
       "14       14  0.0         0.0          0.0  0.87     0.718593      1.316017   \n",
       "15       15  0.0         0.0          0.0  0.66     0.498189      0.925870   \n",
       "16       16  0.0         0.0          0.0  0.73     0.544026      0.993668   \n",
       "17       17  0.0         0.0          0.0  0.66     0.484877      0.944309   \n",
       "18       18  0.0         0.0          0.0  0.81     0.542125      1.163177   \n",
       "19       19  0.0         0.0          0.0  0.46     0.381414      0.613322   \n",
       "20       20  0.0         0.0          0.0  0.87     0.706198      1.282978   \n",
       "21       21  0.0         0.0          0.0  0.74     0.602090      0.982172   \n",
       "22       22  0.0         0.0          0.0  0.84     0.609239      1.260018   \n",
       "23       23  0.0         0.0          0.0  0.50     0.378459      0.740026   \n",
       "24       24  0.0         0.0          0.0  0.78     0.623476      1.092815   \n",
       "25       25  0.0         0.0          0.0  0.65     0.494946      0.891808   \n",
       "26       26  0.0         0.0          0.0  0.71     0.546545      1.007397   \n",
       "27       27  0.0         0.0          0.0  0.83     0.543491      1.315398   \n",
       "28       28  0.0         0.0          0.0  0.84     0.599506      1.201785   \n",
       "29       29  0.0         0.0          0.0  0.60     0.472517      0.807475   \n",
       "30       30  0.0         0.0          0.0  0.50     0.391211      0.671835   \n",
       "31       31  0.0         0.0          0.0  0.58     0.442303      0.717929   \n",
       "32       32  0.0         0.0          0.0  0.64     0.477217      0.883690   \n",
       "33       33  0.0         0.0          0.0  0.89     0.624710      1.218595   \n",
       "34       34  0.0         0.0          0.0  0.83     0.534241      1.331287   \n",
       "35       35  0.0         0.0          0.0  0.81     0.587191      1.116988   \n",
       "36       36  0.0         0.0          0.0  0.83     0.650917      1.241151   \n",
       "37       37  0.0         0.0          0.0  1.06     0.758533      1.557723   \n",
       "38       38  0.0         0.0          0.0  0.78     0.610027      1.160934   \n",
       "39       39  0.0         0.0          0.0  0.93     0.670987      1.176763   \n",
       "40       40  0.0         0.0          0.0  0.72     0.561066      1.051551   \n",
       "41       41  0.0         0.0          0.0  0.73     0.537986      1.084672   \n",
       "42       42  0.0         0.0          0.0  0.92     0.675780      1.418486   \n",
       "43       43  0.0         0.0          0.0  0.61     0.468025      0.799856   \n",
       "44       44  0.0         0.0          0.0  0.99     0.712881      1.404058   \n",
       "45       45  0.0         0.0          0.0  0.47     0.339575      0.589255   \n",
       "46       46  0.0         0.0          0.0  0.69     0.554309      0.963982   \n",
       "47       47  0.0         0.0          0.0  1.00     0.701321      1.399127   \n",
       "48       48  0.0         0.0          0.0  1.36     0.946676      1.696539   \n",
       "49       49  0.0         0.0          0.0  1.28     0.899555      1.775151   \n",
       "\n",
       "           v  v_hpd_2.5  v_hpd_97.5  \n",
       "0   0.000122   0.000113    0.000130  \n",
       "1   0.000065   0.000060    0.000070  \n",
       "2   0.000060   0.000056    0.000065  \n",
       "3   0.000049   0.000045    0.000052  \n",
       "4   0.000092   0.000084    0.000101  \n",
       "5   0.000023   0.000019    0.000027  \n",
       "6   0.000121   0.000113    0.000129  \n",
       "7   0.000056   0.000051    0.000061  \n",
       "8   0.000081   0.000076    0.000087  \n",
       "9   0.000067   0.000062    0.000072  \n",
       "10  0.000110   0.000103    0.000116  \n",
       "11  0.000032   0.000027    0.000037  \n",
       "12  0.000071   0.000066    0.000077  \n",
       "13  0.000068   0.000062    0.000074  \n",
       "14  0.000098   0.000090    0.000105  \n",
       "15  0.000052   0.000048    0.000056  \n",
       "16  0.000075   0.000068    0.000080  \n",
       "17  0.000055   0.000051    0.000062  \n",
       "18  0.000075   0.000068    0.000082  \n",
       "19  0.000104   0.000097    0.000109  \n",
       "20  0.000044   0.000041    0.000048  \n",
       "21  0.000106   0.000099    0.000112  \n",
       "22  0.000104   0.000097    0.000113  \n",
       "23  0.000094   0.000086    0.000101  \n",
       "24  0.000104   0.000097    0.000111  \n",
       "25  0.000060   0.000056    0.000064  \n",
       "26  0.000075   0.000069    0.000081  \n",
       "27  0.000048   0.000042    0.000054  \n",
       "28  0.000073   0.000067    0.000078  \n",
       "29  0.000089   0.000083    0.000094  \n",
       "30  0.000058   0.000054    0.000062  \n",
       "31  0.000073   0.000069    0.000078  \n",
       "32  0.000060   0.000056    0.000065  \n",
       "33  0.000056   0.000051    0.000060  \n",
       "34  0.000058   0.000054    0.000065  \n",
       "35  0.000073   0.000067    0.000078  \n",
       "36  0.000046   0.000042    0.000050  \n",
       "37  0.000074   0.000069    0.000080  \n",
       "38  0.000115   0.000107    0.000123  \n",
       "39  0.000089   0.000083    0.000095  \n",
       "40  0.000072   0.000066    0.000079  \n",
       "41  0.000054   0.000049    0.000058  \n",
       "42  0.000056   0.000052    0.000061  \n",
       "43  0.000119   0.000113    0.000128  \n",
       "44  0.000077   0.000071    0.000082  \n",
       "45  0.000065   0.000061    0.000070  \n",
       "46  0.000081   0.000076    0.000086  \n",
       "47  0.000124   0.000116    0.000133  \n",
       "48  0.000074   0.000069    0.000078  \n",
       "49  0.000086   0.000079    0.000092  "
      ]
     },
     "execution_count": 17,
     "metadata": {},
     "output_type": "execute_result"
    }
   ],
   "source": [
    "glam_rec.estimates"
   ]
  },
  {
   "cell_type": "markdown",
   "metadata": {},
   "source": [
    "Finally, the recovered and generating parameters can be compared. If the recovered parameters do not align with the generating parameters, this indicates that model parameters cannot be identified given this specific data set. In this case, parameter estimates should not be interpreted, as the true parameters might be different from the obtained estimates.\n",
    "If, on the other hand, generating and recovered parameters do align to a satisfying degree, the parameters have been recovered successfully. This increases confidence in that the parameters obtained from the empirical data are valid and can be interpreted."
   ]
  },
  {
   "cell_type": "code",
   "execution_count": 10,
   "metadata": {},
   "outputs": [],
   "source": [
    "def plot_recovery_individual(model, generating_parameters,\n",
    "                             parameters=['v', 'gamma', 's', 'tau'],\n",
    "                             xlimits=dict(v=[-0.00003, 0.00003],\n",
    "                                          gamma=[-0.25, 0.25],\n",
    "                                          s=[-0.0025, 0.0025],\n",
    "                                          tau=[-1, 1]),\n",
    "                             figsize=(12, 4)):\n",
    "    \"\"\"\n",
    "    Plot parameter recovery results from individually fitted models.\n",
    "    \n",
    "    Args:\n",
    "        model: Fitted GLAM model of type 'individual'\n",
    "        generating_parameters (dict): Dictionary of data generating parameters\n",
    "        parameters (list, optional): List of parameters to include\n",
    "        figsize (tuple, optional): Figure size\n",
    "    \n",
    "    \n",
    "    \"\"\"\n",
    "    parameter_names = {'v': 'v',\n",
    "                       'gamma': r'$\\gamma$',\n",
    "                       's': r'$\\sigma$',\n",
    "                       'tau': r'$\\tau$'}\n",
    "\n",
    "    n_individuals = len(generating_parameters[parameters[0]])\n",
    "    n_parameters = len(parameters)\n",
    "\n",
    "    # Construct long dataframe, \n",
    "    # every row is one parameter of one subject\n",
    "    recovery = []\n",
    "    for parameter in parameters:\n",
    "        recovery_p = model.estimates[['subject', parameter, parameter + '_hpd_2.5', parameter + '_hpd_97.5']].copy()\n",
    "        recovery_p.rename({parameter: 'recovered',\n",
    "                           parameter + '_hpd_2.5': 'recovered_hpd_lower',\n",
    "                           parameter + '_hpd_97.5': 'recovered_hpd_upper'},\n",
    "                          axis=1, inplace=True)\n",
    "        recovery_p['parameter'] = parameter\n",
    "        recovery_p['generating'] = generating_parameters[parameter]\n",
    "        recovery.append(recovery_p)\n",
    "    recovery = pd.concat(recovery)\n",
    "    recovery['success'] = ((recovery['generating'] > recovery['recovered_hpd_lower']) &\n",
    "                           (recovery['generating'] < recovery['recovered_hpd_upper'])).values\n",
    "\n",
    "    # Plot\n",
    "    fig, axs = plt.subplots(1, n_parameters, figsize=figsize)\n",
    "\n",
    "    for parameter, ax in zip(parameters, axs):\n",
    "        parameter_df = recovery.loc[recovery['parameter'] == parameter]\n",
    "    \n",
    "        # Success Color coding\n",
    "        color = np.array(['red', 'green'])[parameter_df['success'].values.astype(int)]\n",
    "        \n",
    "        # Vertical, indicating zero difference\n",
    "        ax.axvline(0, color='black', zorder=-1, linewidth=1, alpha=0.7)\n",
    "        # Difference posterior mean - generating\n",
    "        ax.scatter(x=(parameter_df['recovered'] - parameter_df['generating']).values,\n",
    "                   y=range(n_individuals),\n",
    "                   color=color,\n",
    "                   marker='o', facecolor='white',\n",
    "                   zorder=2)\n",
    "        # HPD        \n",
    "        ax.hlines(y=range(n_individuals),\n",
    "                  xmin=parameter_df['recovered_hpd_lower'].values - parameter_df['generating'].values,\n",
    "                  xmax=parameter_df['recovered_hpd_upper'].values - parameter_df['generating'].values,\n",
    "                  color=color)\n",
    "\n",
    "        # Labels\n",
    "        ax.set_xlabel(r'$\\Delta$' + parameter_names[parameter])\n",
    "        ax.set_ylabel('Participant')\n",
    "        ax.set_yticks([])\n",
    "        \n",
    "        # Limits\n",
    "        ax.set_xlim(*xlimits[parameter])\n",
    "\n",
    "        # Panel Labels\n",
    "        from string import ascii_lowercase\n",
    "        for label, ax in zip(list(ascii_lowercase), axs.ravel()):\n",
    "            ax.text(-0.1, 1, label, transform=ax.transAxes,\n",
    "                    fontsize=12, fontweight='bold', va='top')\n",
    "        \n",
    "    fig.tight_layout()\n",
    "    return fig, axs"
   ]
  },
  {
   "cell_type": "code",
   "execution_count": 13,
   "metadata": {},
   "outputs": [
    {
     "data": {
      "image/png": "[encoded data removed]",
      "text/plain": [
       "<Figure size 864x288 with 4 Axes>"
      ]
     },
     "metadata": {
      "needs_background": "light"
     },
     "output_type": "display_data"
    }
   ],
   "source": [
    "plot_recovery_individual(glam_rec, true_parameters);\n",
    "plt.savefig(join('examples', 'example_3', 'figures', 'ex3_fig2_deltaGenRec.png'), dpi=300)"
   ]
  },
  {
   "cell_type": "markdown",
   "metadata": {},
   "source": [
    "In the example, all parameters could be recovered to a satisfying degree. Maximum a posteriori parameter estimates were close to the true generating parameters, on the level of the group (Fig. X, top row) and individual (Fig. X, bottom row).\n",
    "\n",
    "\n",
    "# Conclusion\n",
    "\n",
    "In this example, we demonstrated how to perform a basic parameter recovery for a given dataset. When successful, this increases confidence that the parameters can be identified with the given data set and that the obtained parameter estimates are the true generating parameters.\n"
   ]
  }
 ],
 "metadata": {
  "kernelspec": {
   "display_name": "Python 3",
   "language": "python",
   "name": "python3"
  },
  "language_info": {
   "codemirror_mode": {
    "name": "ipython",
    "version": 3
   },
   "file_extension": ".py",
   "mimetype": "text/x-python",
   "name": "python",
   "nbconvert_exporter": "python",
   "pygments_lexer": "ipython3",
   "version": "3.7.3"
  },
  "toc": {
   "colors": {
    "hover_highlight": "#DAA520",
    "running_highlight": "#FF0000",
    "selected_highlight": "#FFD700"
   },
   "moveMenuLeft": true,
   "nav_menu": {
    "height": "66px",
    "width": "252px"
   },
   "navigate_menu": true,
   "number_sections": false,
   "sideBar": true,
   "threshold": 4,
   "toc_cell": false,
   "toc_section_display": "block",
   "toc_window_display": false,
   "widenNotebook": false
  }
 },
 "nbformat": 4,
 "nbformat_minor": 2
}
