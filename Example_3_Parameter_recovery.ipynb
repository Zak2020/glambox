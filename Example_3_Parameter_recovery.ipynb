{
 "cells": [
  {
   "cell_type": "code",
   "execution_count": null,
   "metadata": {},
   "outputs": [],
   "source": [
    "import numpy as np\n",
    "import pandas as pd\n",
    "import pymc3 as pm\n",
    "from os.path import join, isfile\n",
    "from os import listdir\n",
    "from functools import partial\n",
    "import matplotlib.pyplot as plt\n",
    "%matplotlib inline\n",
    "import seaborn as sns\n",
    "sns.set_style('ticks')\n",
    "sns.set_context('paper')\n",
    "\n",
    "import glambox as gb\n",
    "\n",
    "%load_ext autoreload\n",
    "%autoreload 2"
   ]
  },
  {
   "cell_type": "code",
   "execution_count": null,
   "metadata": {},
   "outputs": [],
   "source": [
    "# Simulate a pretend-to-be-collected dataset.\n",
    "# In the real world, this dataset is collected from participants, so we do not know\n",
    "# 1) if GLAM is an adequate model for the data\n",
    "# 2) data-generating parameters\n",
    "\n",
    "data_model = gb.GLAM()\n",
    "\n",
    "parameters = dict(v=dict(mu=0.6, sd=0.25, bounds=(0, 1.5)),\n",
    "                  gamma=dict(mu=0.1, sd=0.4, bounds=(-1, 1)),\n",
    "                  s=dict(mu=0.25, sd=0.05, bounds=(0.05, 0.75)),\n",
    "                  tau=dict(mu=1.0, sd=0.3, bounds=(0.1, 2)))\n",
    "\n",
    "data_model.simulate_group(kind='hierarchical',\n",
    "                          n_individuals=50,\n",
    "                          n_trials=200,\n",
    "                          n_items=3,\n",
    "                          parameters=parameters,\n",
    "                          value_range=(1, 10),\n",
    "                          seed=1)\n",
    "\n",
    "data = data_model.data"
   ]
  },
  {
   "cell_type": "code",
   "execution_count": null,
   "metadata": {},
   "outputs": [],
   "source": [
    "data.to_csv(join('examples', 'example_3', 'data', 'data.csv'), index=False)"
   ]
  },
  {
   "cell_type": "code",
   "execution_count": null,
   "metadata": {
    "scrolled": true
   },
   "outputs": [],
   "source": [
    "glam = gb.GLAM(data=data)\n",
    "glam.make_model(kind='individual')\n",
    "glam.fit(method='MCMC', draws=5000, tune=5000, chains=4)"
   ]
  },
  {
   "cell_type": "code",
   "execution_count": null,
   "metadata": {},
   "outputs": [],
   "source": [
    "glam.predict(n_repeats=1)\n",
    "synthetic = glam.prediction"
   ]
  },
  {
   "cell_type": "code",
   "execution_count": null,
   "metadata": {},
   "outputs": [],
   "source": [
    "synthetic.to_csv(join('examples', 'example_3', 'data', 'synthetic.csv'), index=False)"
   ]
  },
  {
   "cell_type": "code",
   "execution_count": null,
   "metadata": {},
   "outputs": [],
   "source": [
    "# For this synthetic dataset, we know the generating parameters:\n",
    "true_parameters = {parameter: glam.estimates[parameter].values\n",
    "                   for parameter in ['v', 'gamma', 's', 'tau']}\n",
    "\n",
    "# Save these generating parameters\n",
    "true_param_df = pd.DataFrame(true_parameters)\n",
    "true_param_df['subject'] = range(50)\n",
    "true_param_df.to_csv(join('examples', 'example_3', 'results', 'true_parameters.csv'), index=False)"
   ]
  },
  {
   "cell_type": "code",
   "execution_count": null,
   "metadata": {},
   "outputs": [],
   "source": [
    "gb.plots.plot_aggregate(data, line_data=[synthetic], line_labels=['Synthetic Data'])\n",
    "plt.savefig(join('examples', 'example_3', 'figures', 'data-vs-synthetic.png'), dpi=330)"
   ]
  },
  {
   "cell_type": "code",
   "execution_count": null,
   "metadata": {
    "scrolled": true
   },
   "outputs": [],
   "source": [
    "glam_rec = gb.GLAM(data=synthetic)\n",
    "glam_rec.make_model(kind='individual')\n",
    "glam_rec.fit(method='MCMC', draws=5000, tune=5000, chains=4)"
   ]
  },
  {
   "cell_type": "code",
   "execution_count": null,
   "metadata": {},
   "outputs": [],
   "source": [
    "glam_rec.estimates.to_csv(join('examples', 'example_3', 'results', 'glam_rec_estimates.csv'), index=False)"
   ]
  },
  {
   "cell_type": "code",
   "execution_count": null,
   "metadata": {},
   "outputs": [],
   "source": [
    "def plot_recovery_individual(model, generating_parameters,\n",
    "                             parameters=['v', 'gamma', 's', 'tau'],\n",
    "                             xlimits=dict(v=[-0.1, 0.1],\n",
    "                                          gamma=[-0.25, 0.25],\n",
    "                                          s=[-0.1, 0.1],\n",
    "                                          tau=[-1, 1]),\n",
    "                             figsize=gb.plots.cm2inch(18, 6),\n",
    "                             fontsize=7):\n",
    "    \"\"\"\n",
    "    Plot parameter recovery results from individually fitted models.\n",
    "    \n",
    "    Args:\n",
    "        model: Fitted GLAM model of type 'individual'\n",
    "        generating_parameters (dict): Dictionary of data generating parameters\n",
    "        parameters (list, optional): List of parameters to include\n",
    "        figsize (tuple, optional): Figure size\n",
    "    \n",
    "    \n",
    "    \"\"\"\n",
    "    parameter_names = {'v': 'v',\n",
    "                       'gamma': r'$\\gamma$',\n",
    "                       's': r'$\\sigma$',\n",
    "                       'tau': r'$\\tau$'}\n",
    "\n",
    "    n_individuals = len(generating_parameters[parameters[0]])\n",
    "    n_parameters = len(parameters)\n",
    "\n",
    "    # Construct long dataframe, \n",
    "    # every row is one parameter of one subject\n",
    "    recovery = []\n",
    "    for parameter in parameters:\n",
    "        recovery_p = model.estimates[['subject', parameter, parameter + '_hpd_2.5', parameter + '_hpd_97.5']].copy()\n",
    "        recovery_p.rename({parameter: 'recovered',\n",
    "                           parameter + '_hpd_2.5': 'recovered_hpd_lower',\n",
    "                           parameter + '_hpd_97.5': 'recovered_hpd_upper'},\n",
    "                          axis=1, inplace=True)\n",
    "        recovery_p['parameter'] = parameter\n",
    "        recovery_p['generating'] = generating_parameters[parameter]\n",
    "        recovery.append(recovery_p)\n",
    "    recovery = pd.concat(recovery)\n",
    "    recovery['success'] = ((recovery['generating'] > recovery['recovered_hpd_lower']) &\n",
    "                           (recovery['generating'] < recovery['recovered_hpd_upper'])).values\n",
    "\n",
    "    # Plot\n",
    "    fig = plt.figure(figsize=figsize, dpi=330)\n",
    "    axs = {}\n",
    "    for p, parameter in enumerate(parameters):\n",
    "        axs[(0, p)] = plt.subplot2grid((5, 4), (0, p), rowspan=1)\n",
    "        axs[(1, p)] = plt.subplot2grid((5, 4), (2, p), rowspan=4, sharex=axs[(0, p)])\n",
    "\n",
    "    for p, parameter in enumerate(parameters):\n",
    "        parameter_df = recovery.loc[recovery['parameter'] == parameter]\n",
    "    \n",
    "        # Histogram of differences\n",
    "        delta = (parameter_df['recovered'] - parameter_df['generating']).values\n",
    "        axs[(0, p)].hist(delta,\n",
    "                         color='black', alpha=0.3,\n",
    "                         bins=np.linspace(*xlimits[parameter], 21))\n",
    "        axs[(0, p)].axvline(0,\n",
    "                            color='black', linewidth=0.5, alpha=0.7)\n",
    "        axs[(0, p)].set_ylabel('Freq.',\n",
    "                               fontsize=fontsize)\n",
    "        for label in axs[(0, p)].get_xticklabels():\n",
    "            label.set_visible(False)\n",
    "    \n",
    "        # Individual HPDs around true value\n",
    "        ## Success Color coding\n",
    "        color = np.array(['red', 'green'])[parameter_df['success'].values.astype(int)]\n",
    "        \n",
    "        ## Vertical, indicating zero difference\n",
    "        axs[(1, p)].axvline(0, color='black', zorder=-1, linewidth=0.5, alpha=0.7)\n",
    "        ## Difference posterior mean - generating\n",
    "        axs[(1, p)].scatter(x=delta,\n",
    "                   y=range(n_individuals),\n",
    "                   color=color,\n",
    "                   s=4,\n",
    "                   marker='o', facecolor='white',\n",
    "                   zorder=2)\n",
    "        ## HPD        \n",
    "        axs[(1, p)].hlines(y=range(n_individuals),\n",
    "                           xmin=parameter_df['recovered_hpd_lower'].values - parameter_df['generating'].values,\n",
    "                           xmax=parameter_df['recovered_hpd_upper'].values - parameter_df['generating'].values,\n",
    "                           linewidth=0.5,\n",
    "                           zorder=1,\n",
    "                           color=color)\n",
    "\n",
    "        ## Labels\n",
    "        axs[(1, p)].set_xlabel(r'$\\Delta$' + parameter_names[parameter], \n",
    "                      fontsize=fontsize)\n",
    "        axs[(1, p)].set_ylabel('Participant',\n",
    "                      fontsize=fontsize)\n",
    "                \n",
    "        ## Limits\n",
    "        axs[(1, p)].set_xlim(*xlimits[parameter])\n",
    "\n",
    "        ## Panel Labels\n",
    "        from string import ascii_uppercase\n",
    "        for label, ax in zip(list(ascii_uppercase),\n",
    "                             [axs[i, p]\n",
    "                              for i in [0, 1]\n",
    "                              for p in range(len(parameters))]):\n",
    "            ax.tick_params(axis='both', which='major', labelsize=fontsize)\n",
    "            ax.text(-0.3, 1.05, label, transform=ax.transAxes,\n",
    "                    fontsize=fontsize, fontweight='bold', va='top')\n",
    "        sns.despine()\n",
    "        fig.tight_layout(h_pad=-1)\n",
    "        \n",
    "        for ax in [axs[(1, p)]\n",
    "                      for p in range(len(parameters))]:\n",
    "            ax.set_yticks([])\n",
    "\n",
    "    return fig, axs"
   ]
  },
  {
   "cell_type": "code",
   "execution_count": null,
   "metadata": {
    "scrolled": false
   },
   "outputs": [],
   "source": [
    "fig, axs = plot_recovery_individual(glam_rec, true_parameters);\n",
    "plt.savefig(join('examples', 'example_3', 'figures', 'deltaGenRec.png'), dpi=330)"
   ]
  }
 ],
 "metadata": {
  "kernelspec": {
   "display_name": "Python 3",
   "language": "python",
   "name": "python3"
  },
  "language_info": {
   "codemirror_mode": {
    "name": "ipython",
    "version": 3
   },
   "file_extension": ".py",
   "mimetype": "text/x-python",
   "name": "python",
   "nbconvert_exporter": "python",
   "pygments_lexer": "ipython3",
   "version": "3.7.3"
  },
  "toc": {
   "colors": {
    "hover_highlight": "#DAA520",
    "running_highlight": "#FF0000",
    "selected_highlight": "#FFD700"
   },
   "moveMenuLeft": true,
   "nav_menu": {
    "height": "66px",
    "width": "252px"
   },
   "navigate_menu": true,
   "number_sections": false,
   "sideBar": true,
   "threshold": 4,
   "toc_cell": false,
   "toc_section_display": "block",
   "toc_window_display": false,
   "widenNotebook": false
  }
 },
 "nbformat": 4,
 "nbformat_minor": 2
}
